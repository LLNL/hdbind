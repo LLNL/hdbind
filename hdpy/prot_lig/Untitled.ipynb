{
 "cells": [
  {
   "cell_type": "code",
   "execution_count": 35,
   "id": "986b931d",
   "metadata": {},
   "outputs": [],
   "source": [
    "from pathlib import Path\n",
    "import matplotlib.pyplot as plt\n",
    "import seaborn as sns"
   ]
  },
  {
   "cell_type": "code",
   "execution_count": 36,
   "id": "7557f7b7",
   "metadata": {},
   "outputs": [],
   "source": [
    "from sklearn.metrics import classification_report, roc_auc_score"
   ]
  },
  {
   "cell_type": "code",
   "execution_count": 57,
   "id": "fa9bd55a",
   "metadata": {
    "scrolled": false
   },
   "outputs": [],
   "source": [
    "import pickle\n",
    "def read_result(pkl_path):\n",
    "    with open(pkl_path, \"rb\") as handle:\n",
    "        \n",
    "        data = pickle.load(handle)\n",
    "    \n",
    "    return data\n",
    "\n",
    "\n",
    "def load_result(model):\n",
    "    roc_auc_list = []\n",
    "\n",
    "    for path in Path(\".\").glob(f\"{model}*pkl\"):\n",
    "    \n",
    "    \n",
    "#     for i in range(10):\n",
    "\n",
    "        result_dict = read_result(path)\n",
    "        roc_auc = roc_auc_score(y_true=result_dict['y_true'], \n",
    "                                y_score=result_dict['eta'])\n",
    "    #     import ipdb\n",
    "    #     ipdb.set_trace()\n",
    "#         print(classification_report(y_true=result_dict['y_true'], \n",
    "#                                     y_pred=result_dict['y_pred']))\n",
    "        roc_auc_list.append(roc_auc)\n",
    "        print(f\"roc-auc: {roc_auc}\")\n",
    "    \n",
    "    sns.boxplot(roc_auc_list)\n",
    "    return roc_auc_list"
   ]
  },
  {
   "cell_type": "code",
   "execution_count": 58,
   "id": "bf524886",
   "metadata": {},
   "outputs": [
    {
     "name": "stdout",
     "output_type": "stream",
     "text": [
      "roc-auc: 0.482547100920111\n",
      "roc-auc: 0.6131152329487367\n",
      "roc-auc: 0.44815247553673143\n",
      "roc-auc: 0.5251204907258653\n",
      "roc-auc: 0.5988023952095809\n",
      "roc-auc: 0.5148240105155543\n",
      "roc-auc: 0.44968599386592667\n",
      "roc-auc: 0.5764568424127354\n",
      "roc-auc: 0.3846940265809844\n",
      "roc-auc: 0.4179932817292245\n"
     ]
    },
    {
     "name": "stderr",
     "output_type": "stream",
     "text": [
      "/usr/workspace/wsa/jones289/miniconda3/envs/HD_env/lib/python3.8/site-packages/seaborn/_decorators.py:36: FutureWarning: Pass the following variable as a keyword arg: x. From version 0.12, the only valid positional argument will be `data`, and passing other arguments without an explicit keyword will result in an error or misinterpretation.\n",
      "  warnings.warn(\n"
     ]
    },
    {
     "data": {
      "image/png": "[encoded data removed]",
      "text/plain": [
       "<Figure size 432x288 with 1 Axes>"
      ]
     },
     "metadata": {
      "needs_background": "light"
     },
     "output_type": "display_data"
    }
   ],
   "source": [
    "cg_roc_list = load_result(\"complex-graph\")"
   ]
  },
  {
   "cell_type": "code",
   "execution_count": 59,
   "id": "8a0b1102",
   "metadata": {},
   "outputs": [
    {
     "name": "stdout",
     "output_type": "stream",
     "text": [
      "roc-auc: 0.46472907842850886\n",
      "roc-auc: 0.5235869723966701\n",
      "roc-auc: 0.5263619103256901\n",
      "roc-auc: 0.35796699284358113\n",
      "roc-auc: 0.447641302760333\n",
      "roc-auc: 0.4771432744267562\n",
      "roc-auc: 0.47042500365123413\n",
      "roc-auc: 0.4635606835110267\n",
      "roc-auc: 0.6454651672265226\n",
      "roc-auc: 0.4382941434204761\n"
     ]
    },
    {
     "name": "stderr",
     "output_type": "stream",
     "text": [
      "/usr/workspace/wsa/jones289/miniconda3/envs/HD_env/lib/python3.8/site-packages/seaborn/_decorators.py:36: FutureWarning: Pass the following variable as a keyword arg: x. From version 0.12, the only valid positional argument will be `data`, and passing other arguments without an explicit keyword will result in an error or misinterpretation.\n",
      "  warnings.warn(\n"
     ]
    },
    {
     "data": {
      "image/png": "[encoded data removed]",
      "text/plain": [
       "<Figure size 432x288 with 1 Axes>"
      ]
     },
     "metadata": {
      "needs_background": "light"
     },
     "output_type": "display_data"
    }
   ],
   "source": [
    "aaecfp_roc_list = load_result(\"aa_seq_ecfp\")"
   ]
  },
  {
   "cell_type": "code",
   "execution_count": 60,
   "id": "08d6e5a3",
   "metadata": {},
   "outputs": [
    {
     "name": "stderr",
     "output_type": "stream",
     "text": [
      "/usr/workspace/wsa/jones289/miniconda3/envs/HD_env/lib/python3.8/site-packages/seaborn/_decorators.py:36: FutureWarning: Pass the following variable as a keyword arg: x. From version 0.12, the only valid positional argument will be `data`, and passing other arguments without an explicit keyword will result in an error or misinterpretation.\n",
      "  warnings.warn(\n",
      "/usr/workspace/wsa/jones289/miniconda3/envs/HD_env/lib/python3.8/site-packages/seaborn/_decorators.py:36: FutureWarning: Pass the following variable as a keyword arg: x. From version 0.12, the only valid positional argument will be `data`, and passing other arguments without an explicit keyword will result in an error or misinterpretation.\n",
      "  warnings.warn(\n"
     ]
    },
    {
     "data": {
      "text/plain": [
       "<AxesSubplot:>"
      ]
     },
     "execution_count": 60,
     "metadata": {},
     "output_type": "execute_result"
    },
    {
     "data": {
      "image/png": "[encoded data removed]",
      "text/plain": [
       "<Figure size 432x288 with 2 Axes>"
      ]
     },
     "metadata": {
      "needs_background": "light"
     },
     "output_type": "display_data"
    }
   ],
   "source": [
    "f,ax = plt.subplots(2,1, sharex=True)\n",
    "ax = ax.flatten()\n",
    "\n",
    "sns.boxplot(cg_roc_list, ax=ax[0])\n",
    "sns.boxplot(aaecfp_roc_list, ax=ax[1], color=\"g\")\n",
    "\n"
   ]
  },
  {
   "cell_type": "code",
   "execution_count": null,
   "id": "459b116c",
   "metadata": {},
   "outputs": [],
   "source": []
  },
  {
   "cell_type": "code",
   "execution_count": null,
   "id": "e203a024",
   "metadata": {},
   "outputs": [],
   "source": []
  },
  {
   "cell_type": "code",
   "execution_count": null,
   "id": "1c2b746d",
   "metadata": {},
   "outputs": [],
   "source": []
  }
 ],
 "metadata": {
  "kernelspec": {
   "display_name": "HD_env",
   "language": "python",
   "name": "hd_env"
  },
  "language_info": {
   "codemirror_mode": {
    "name": "ipython",
    "version": 3
   },
   "file_extension": ".py",
   "mimetype": "text/x-python",
   "name": "python",
   "nbconvert_exporter": "python",
   "pygments_lexer": "ipython3",
   "version": "3.8.12"
  }
 },
 "nbformat": 4,
 "nbformat_minor": 5
}
