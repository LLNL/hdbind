{
 "cells": [
  {
   "cell_type": "markdown",
   "metadata": {},
   "source": [
    "This notebook will describe experiments related to DUD-E"
   ]
  },
  {
   "cell_type": "code",
   "execution_count": 1,
   "metadata": {},
   "outputs": [],
   "source": [
    "import pickle\n",
    "from sklearn.metrics import roc_auc_score\n",
    "import numpy as np\n",
    "import seaborn as sns\n",
    "import torch\n",
    "import seaborn as sns\n",
    "import pandas as pd\n",
    "from tqdm import tqdm\n",
    "from pathlib import Path\n",
    "from sklearn.metrics import f1_score, recall_score\n",
    "import matplotlib.pyplot as plt\n",
    "\n",
    "\n",
    "import sys\n",
    "sys.path.append(\"/g/g13/jones289/workspace/hd-cuda-master/hdpy\")\n",
    "\n",
    "\n",
    "plt.rc('text', usetex=True)\n",
    "plt.rc('font', family='serif')\n",
    "plt.rc('xtick', labelsize=15)\n",
    "plt.rc('ytick', labelsize=15)\n",
    "plt.rc('axes', labelsize=17)\n",
    "plt.rc('figure', titlesize=20)\n"
   ]
  },
  {
   "cell_type": "code",
   "execution_count": 2,
   "metadata": {},
   "outputs": [],
   "source": [
    "def compute_enrichment_factor(scores, labels, n_percent):\n",
    "    # this variant implements the equation from Xiaohua's paper\n",
    "    \n",
    "    sample_n = int(np.ceil(n_percent * labels.shape[0]))\n",
    "    \n",
    "    sorted_scores = sorted(zip(scores, labels), key=lambda x: x[0], reverse=True)\n",
    "\n",
    "    top_n_sorted_scores = sorted_scores[:sample_n]\n",
    "\n",
    "    # counting number of true positives in top x% of sorted compounds\n",
    "    actives_sampled = sum([y for x, y in top_n_sorted_scores])\n",
    "    # labels are binary, sum to count number of actives\n",
    "    actives_database = sum(labels)\n",
    "\n",
    "    return (actives_sampled / actives_database) * (labels.shape[0]/sample_n)\n"
   ]
  },
  {
   "cell_type": "code",
   "execution_count": 3,
   "metadata": {},
   "outputs": [],
   "source": [
    "data_p = Path(\"/g/g13/jones289/workspace/hd-cuda-master/hdpy/hdpy/results/1\")\n",
    "range_limit = 1\n",
    "\n",
    "\n",
    "# data_p = Path(\"/g/g13/jones289/workspace/hd-cuda-master/hdpy/hdpy/results/123\")\n",
    "# range_limit = 1\n"
   ]
  },
  {
   "cell_type": "code",
   "execution_count": 4,
   "metadata": {},
   "outputs": [
    {
     "data": {
      "text/plain": [
       "'dude.random.hivpr.smiles-pe.atomwise.0.pkl'"
      ]
     },
     "execution_count": 4,
     "metadata": {},
     "output_type": "execute_result"
    }
   ],
   "source": [
    "list(data_p.glob(\"dude.random*.pkl\"))[0].name"
   ]
  },
  {
   "cell_type": "code",
   "execution_count": 5,
   "metadata": {},
   "outputs": [
    {
     "data": {
      "text/plain": [
       "['parp1',\n",
       " 'aces',\n",
       " 'fa10',\n",
       " 'inha',\n",
       " 'dyr',\n",
       " 'hivpr',\n",
       " 'mcr',\n",
       " 'sahh',\n",
       " 'aldr',\n",
       " 'bace1',\n",
       " 'pnph',\n",
       " 'vgfr2',\n",
       " 'mk14',\n",
       " 'comt',\n",
       " 'kith',\n",
       " 'pgh2',\n",
       " 'try1',\n",
       " 'cdk2',\n",
       " 'pde5a',\n",
       " 'egfr',\n",
       " 'pur2',\n",
       " 'ace',\n",
       " 'pgh1',\n",
       " 'thrb',\n",
       " 'ada',\n",
       " 'hs90a',\n",
       " 'esr1',\n",
       " 'prgr',\n",
       " 'gcr',\n",
       " 'hmdh',\n",
       " 'ampc',\n",
       " 'pygm',\n",
       " 'src',\n",
       " 'pparg',\n",
       " 'andr',\n",
       " 'rxra',\n",
       " 'nram',\n",
       " 'hivrt']"
      ]
     },
     "execution_count": 5,
     "metadata": {},
     "output_type": "execute_result"
    }
   ],
   "source": [
    "dude_target_names = list(set([x.name.split('.')[2] for x in list(data_p.glob(\"dude.random*.pkl\"))]))\n",
    "dude_target_names"
   ]
  },
  {
   "cell_type": "code",
   "execution_count": 6,
   "metadata": {},
   "outputs": [],
   "source": [
    "def compute_average_enrichment(pkl_path, model):\n",
    "    range_limit=1\n",
    "    enrich_1_list = [] \n",
    "    enrich_10_list = []\n",
    "    \n",
    "\n",
    "    \n",
    "    with open(pkl_path, \"rb\") as handle:\n",
    "        \n",
    "        print (pkl_path)\n",
    "        data = pickle.load(handle) # lets just use one seed\n",
    "\n",
    "    \n",
    "        if \"openhd\" in str(pkl_path):\n",
    "            range_limit=1\n",
    "        for seed in range(range_limit):\n",
    "#             print(seed)\n",
    "\n",
    "            if isinstance(data[seed][\"y_true\"], np.ndarray):\n",
    "                y_true = data[seed][\"y_true\"]\n",
    "            else:\n",
    "                y_true = np.concatenate(data[seed][\"y_true\"]) \n",
    "            y_pred = np.array(data[seed][\"y_pred\"])\n",
    "\n",
    "    \n",
    "            eta = np.array(data[seed][\"eta\"])\n",
    "\n",
    "            if np.unique(y_true).shape[0] < 2 :\n",
    "                metric = 0\n",
    "            else:\n",
    "                metric = recall_score(y_pred=y_pred, y_true=y_true)\n",
    "                if model in [\"rf\", \"mlp\"]:\n",
    "                    eta= eta[:, 1]\n",
    "\n",
    "            enrich_1 = compute_enrichment_factor(scores=eta, labels=y_true, n_percent=.01)\n",
    "            enrich_1_list.append(enrich_1)\n",
    "                \n",
    "            enrich_10 = compute_enrichment_factor(scores=eta, labels=y_true, n_percent=.1)\n",
    "            enrich_10_list.append(enrich_10)\n",
    "            \n",
    "    \n",
    "    return np.mean(enrich_1_list), np.std(enrich_1_list), np.mean(enrich_10_list), np.std(enrich_10_list)\n",
    "\n",
    "\n",
    "\n",
    "\n",
    "def compute_average_train_time(pkl_path):\n",
    "    \n",
    "    range_limit = 1\n",
    "    print(pkl_path)\n",
    "    train_time_list = []\n",
    "    \n",
    "\n",
    "    with open(pkl_path, \"rb\") as handle:\n",
    "        data = pickle.load(handle) # lets just use one seed\n",
    "        \n",
    "        target = pkl_path.name.split(\".\")[2]\n",
    "        split = pkl_path.name.split(\".\")[1]\n",
    "        model = pkl_path.name.split(\".\")[3]\n",
    "\n",
    "    \n",
    "#         if \"openhd\" in model:\n",
    "#             range_limit=1\n",
    "        for seed in range(range_limit):\n",
    "\n",
    "            train_time = 0\n",
    "            if model in [\"ecfp\", \"rp\", \"selfies\", \"smiles-pe\", \"atomwise\"]:\n",
    "                train_time = data[seed][\"retrain_time\"]\n",
    "            else:\n",
    "                \n",
    "                train_time  = data[seed][\"train_time\"]\n",
    "\n",
    "            if \"openhd\" in model:\n",
    "                pass\n",
    "            \n",
    "            elif \"mlp\" in model:\n",
    "                train_time = train_time / 10 # trained MLP for max 10 epochs...check that it hits that but assume it didn't converge that quickly\n",
    "            elif \"rf\" in model:\n",
    "                train_time = train_time # there's no concept of epoch in a random forest\n",
    "            else:\n",
    "                train_time = train_time/10 # this should catch all HD models which were trained for 10 epochs per seed\n",
    "            \n",
    "            train_time_list.append(train_time)\n",
    "            \n",
    "            \n",
    "    \n",
    "    return np.mean(train_time_list)\n",
    "\n",
    "\n",
    "\n",
    "def compute_average_inference_time(pkl_path):\n",
    "    \n",
    "    test_time_list = []\n",
    "    \n",
    "\n",
    "    with open(pkl_path, \"rb\") as handle:\n",
    "        data = pickle.load(handle) # lets just use one seed\n",
    "        \n",
    "\n",
    "    \n",
    "#         if \"openhd\" in str(pkl_path):\n",
    "#             range_limit=1\n",
    "        for seed in range(range_limit):\n",
    "\n",
    "            test_time  = data[seed][\"test_time\"]\n",
    "\n",
    "            test_time_list.append(test_time)\n",
    "            \n",
    "            \n",
    "    \n",
    "    return np.mean(test_time_list)\n",
    "\n",
    "\n",
    "def get_train_test_sizes(pkl_path):\n",
    "    \n",
    "    train_size_list = []\n",
    "    test_size_list = []\n",
    "    \n",
    "\n",
    "    with open(pkl_path, \"rb\") as handle:\n",
    "        data = pickle.load(handle) # lets just use one seed\n",
    "        \n",
    "    \n",
    "#         if \"openhd\" in str(pkl_path):\n",
    "#             range_limit=1\n",
    "        for seed in range(range_limit):\n",
    "\n",
    "            train_size_list.append(data[seed][\"train_size\"])\n",
    "            test_size_list.append(data[seed][\"test_size\"])            \n",
    "            \n",
    "    \n",
    "    return np.mean(train_size_list), np.mean(test_size_list)\n",
    "                    "
   ]
  },
  {
   "cell_type": "markdown",
   "metadata": {},
   "source": [
    "# DUD-E results"
   ]
  },
  {
   "cell_type": "code",
   "execution_count": 7,
   "metadata": {},
   "outputs": [],
   "source": [
    "green_color_pal = sns.color_palette(\"Greens\", 10)\n",
    "blue_color_pal = sns.color_palette(\"Blues\", 10)\n",
    "rocket_color_pal = sns.color_palette(\"rocket\", 10)"
   ]
  },
  {
   "cell_type": "code",
   "execution_count": 8,
   "metadata": {},
   "outputs": [],
   "source": [
    "#     \"openhd-ecfp\": green_color_pal[6],\n",
    "\n",
    "color_dict = {\n",
    "    \"smiles-pe.atomwise.0\": rocket_color_pal[2],\n",
    "    \"smiles-pe.bpe.0\": rocket_color_pal[4],   \n",
    "\"selfies.atomwise\": green_color_pal[4],\n",
    "    \"selfies.atomwise\": green_color_pal[4],\n",
    "    \"openhd-ecfp\": green_color_pal[5],\n",
    "        \"openhd-rp\": green_color_pal[5],\n",
    "    \"ecfp\": green_color_pal[6],\n",
    "    \"rp\": green_color_pal[8],\n",
    "    \"rf\": blue_color_pal[4],\n",
    "    \"mlp\": blue_color_pal[7],\n",
    "}\n",
    "\n",
    "\n",
    "model_order_list = [\n",
    "    (\"smiles-pe.atomwise.0\", \"MoleHD-Atomw.\"),\n",
    "    (\"smiles-pe.bpe.0\", \"MoleHD-BPE\"),\n",
    "    (\"selfies.atomwise\", \"HDBind-SELFIES\"),\n",
    "    (\"ecfp\", \"HDBind-ECFP\"),\n",
    "    (\"openhd-ecfp\", \"OpenHD-ECFP\"),\n",
    "    (\"openhd-rp\", \"OpenHD-RPFP\"),\n",
    "    (\"rp\", \"HDBind-RPFP\"),\n",
    "    (\"rf\", \"RF\"),\n",
    "    (\"mlp\", \"MLP\"),\n",
    "    (\"Vina\", \"Vina\")\n",
    "]\n",
    "\n",
    "\n",
    "model_name_dict = {\n",
    "    \"smiles-pe.atomwise.0\": \"MoleHD-Atomw.\",\n",
    "    \"smiles-pe.bpe.0\": \"MoleHD-BPE\",\n",
    "    \"selfies.atomwise\": \"HDBind-SELFIES\",\n",
    "    \"ecfp\": \"HDBind-ECFP\",\n",
    "    \"openhd-ecfp\": \"OPENHD-ECFP\",\n",
    "    \"openhd-rp\": \"OPENHD-RPFP\",\n",
    "    \"rp\": \"HDBind-RPFP\",\n",
    "    \"rf\": \"RF\",\n",
    "    \"mlp\": \"MLP\",\n",
    "    \"Vina\": \"Vina\"\n",
    " }"
   ]
  },
  {
   "cell_type": "code",
   "execution_count": 9,
   "metadata": {},
   "outputs": [],
   "source": [
    "def aggregate_dude_results(dataset, split):\n",
    "    \n",
    "    model_metric_dict = {\"model\": [], \"enrich-1-mean\": [], \n",
    "                         \"enrich-1-std\":[], \"enrich-10-mean\": [], \n",
    "                         \"enrich-10-std\": [], \"train_time\":[], \"test_time\": [],\n",
    "                        \"train_size\": [], \"test_size\": []}\n",
    "    \n",
    "\n",
    "    enrich_f, enrich_ax = plt.subplots(2,1, figsize=(12,10), sharex=True, sharey=False)\n",
    "    enrich_ax = enrich_ax.flatten()\n",
    "    enrich_1_ax, enrich_10_ax = enrich_ax[0], enrich_ax[1]\n",
    "\n",
    "    for model, color in color_dict.items():\n",
    "                        \n",
    "        data_path_list = list(data_p.glob(f\"{dataset}.{split}.*.{model}*pkl\"))\n",
    "\n",
    "        \n",
    "        for path in tqdm(data_path_list, total=len(data_path_list)):\n",
    "            \n",
    "            target = path.name.split(\".\")[2]\n",
    "            split = path.name.split(\".\")[1]\n",
    "            \n",
    "                \n",
    "                \n",
    "            enrich_1_mean, enrich_1_std, enrich_10_mean, enrich_10_std = compute_average_enrichment(path, model=model)\n",
    "            train_time_mean = compute_average_train_time(path)\n",
    "            test_time_mean = compute_average_inference_time(path)\n",
    "            train_size, test_size = get_train_test_sizes(path)\n",
    "            \n",
    "            \n",
    "            model_metric_dict[\"model\"].append(model)\n",
    "            model_metric_dict[\"enrich-1-mean\"].append(enrich_1_mean)\n",
    "            model_metric_dict[\"enrich-1-std\"].append(enrich_1_std)\n",
    "            model_metric_dict[\"enrich-10-mean\"].append(enrich_10_mean)\n",
    "            model_metric_dict[\"enrich-10-std\"].append(enrich_10_std)\n",
    "            model_metric_dict[\"train_time\"].append(train_time_mean)\n",
    "            model_metric_dict[\"test_time\"].append(test_time_mean)\n",
    "            model_metric_dict[\"train_size\"].append(train_size)\n",
    "            model_metric_dict[\"test_size\"].append(test_size)\n",
    "\n",
    "\n",
    "    return enrich_f, enrich_1_ax, enrich_10_ax, model_metric_dict\n",
    "\n",
    "\n"
   ]
  },
  {
   "cell_type": "code",
   "execution_count": 10,
   "metadata": {
    "scrolled": true
   },
   "outputs": [
    {
     "name": "stderr",
     "output_type": "stream",
     "text": [
      "\r",
      "  0%|          | 0/38 [00:00<?, ?it/s]"
     ]
    },
    {
     "name": "stdout",
     "output_type": "stream",
     "text": [
      "/g/g13/jones289/workspace/hd-cuda-master/hdpy/hdpy/results/1/dude.random.hivpr.smiles-pe.atomwise.0.pkl\n"
     ]
    },
    {
     "name": "stderr",
     "output_type": "stream",
     "text": [
      "\r",
      "  3%|▎         | 1/38 [00:00<00:13,  2.69it/s]"
     ]
    },
    {
     "name": "stdout",
     "output_type": "stream",
     "text": [
      "/g/g13/jones289/workspace/hd-cuda-master/hdpy/hdpy/results/1/dude.random.hivpr.smiles-pe.atomwise.0.pkl\n",
      "/g/g13/jones289/workspace/hd-cuda-master/hdpy/hdpy/results/1/dude.random.rxra.smiles-pe.atomwise.0.pkl\n",
      "/g/g13/jones289/workspace/hd-cuda-master/hdpy/hdpy/results/1/dude.random.rxra.smiles-pe.atomwise.0.pkl\n",
      "/g/g13/jones289/workspace/hd-cuda-master/hdpy/hdpy/results/1/dude.random.pygm.smiles-pe.atomwise.0.pkl\n"
     ]
    },
    {
     "name": "stderr",
     "output_type": "stream",
     "text": [
      " 13%|█▎        | 5/38 [00:00<00:03,  8.49it/s]"
     ]
    },
    {
     "name": "stdout",
     "output_type": "stream",
     "text": [
      "/g/g13/jones289/workspace/hd-cuda-master/hdpy/hdpy/results/1/dude.random.pygm.smiles-pe.atomwise.0.pkl\n",
      "/g/g13/jones289/workspace/hd-cuda-master/hdpy/hdpy/results/1/dude.random.pur2.smiles-pe.atomwise.0.pkl\n",
      "/g/g13/jones289/workspace/hd-cuda-master/hdpy/hdpy/results/1/dude.random.pur2.smiles-pe.atomwise.0.pkl\n",
      "/g/g13/jones289/workspace/hd-cuda-master/hdpy/hdpy/results/1/dude.random.hs90a.smiles-pe.atomwise.0.pkl\n",
      "/g/g13/jones289/workspace/hd-cuda-master/hdpy/hdpy/results/1/dude.random.hs90a.smiles-pe.atomwise.0.pkl\n",
      "/g/g13/jones289/workspace/hd-cuda-master/hdpy/hdpy/results/1/dude.random.thrb.smiles-pe.atomwise.0.pkl\n",
      "/g/g13/jones289/workspace/hd-cuda-master/hdpy/hdpy/results/1/dude.random.thrb.smiles-pe.atomwise.0.pkl\n",
      "/g/g13/jones289/workspace/hd-cuda-master/hdpy/hdpy/results/1/dude.random.bace1.smiles-pe.atomwise.0.pkl\n",
      "/g/g13/jones289/workspace/hd-cuda-master/hdpy/hdpy/results/1/dude.random.bace1.smiles-pe.atomwise.0.pkl\n"
     ]
    },
    {
     "name": "stderr",
     "output_type": "stream",
     "text": [
      " 21%|██        | 8/38 [00:01<00:04,  6.69it/s]"
     ]
    },
    {
     "name": "stdout",
     "output_type": "stream",
     "text": [
      "/g/g13/jones289/workspace/hd-cuda-master/hdpy/hdpy/results/1/dude.random.esr1.smiles-pe.atomwise.0.pkl\n",
      "/g/g13/jones289/workspace/hd-cuda-master/hdpy/hdpy/results/1/dude.random.esr1.smiles-pe.atomwise.0.pkl\n",
      "/g/g13/jones289/workspace/hd-cuda-master/hdpy/hdpy/results/1/dude.random.nram.smiles-pe.atomwise.0.pkl\n"
     ]
    },
    {
     "name": "stderr",
     "output_type": "stream",
     "text": [
      " 29%|██▉       | 11/38 [00:01<00:03,  8.63it/s]"
     ]
    },
    {
     "name": "stdout",
     "output_type": "stream",
     "text": [
      "/g/g13/jones289/workspace/hd-cuda-master/hdpy/hdpy/results/1/dude.random.nram.smiles-pe.atomwise.0.pkl\n",
      "/g/g13/jones289/workspace/hd-cuda-master/hdpy/hdpy/results/1/dude.random.ada.smiles-pe.atomwise.0.pkl\n",
      "/g/g13/jones289/workspace/hd-cuda-master/hdpy/hdpy/results/1/dude.random.ada.smiles-pe.atomwise.0.pkl\n",
      "/g/g13/jones289/workspace/hd-cuda-master/hdpy/hdpy/results/1/dude.random.inha.smiles-pe.atomwise.0.pkl\n",
      "/g/g13/jones289/workspace/hd-cuda-master/hdpy/hdpy/results/1/dude.random.inha.smiles-pe.atomwise.0.pkl\n",
      "/g/g13/jones289/workspace/hd-cuda-master/hdpy/hdpy/results/1/dude.random.fa10.smiles-pe.atomwise.0.pkl\n"
     ]
    },
    {
     "name": "stderr",
     "output_type": "stream",
     "text": [
      "\r",
      " 32%|███▏      | 12/38 [00:01<00:03,  7.37it/s]"
     ]
    },
    {
     "name": "stdout",
     "output_type": "stream",
     "text": [
      "/g/g13/jones289/workspace/hd-cuda-master/hdpy/hdpy/results/1/dude.random.fa10.smiles-pe.atomwise.0.pkl\n",
      "/g/g13/jones289/workspace/hd-cuda-master/hdpy/hdpy/results/1/dude.random.pgh1.smiles-pe.atomwise.0.pkl\n",
      "/g/g13/jones289/workspace/hd-cuda-master/hdpy/hdpy/results/1/dude.random.pgh1.smiles-pe.atomwise.0.pkl\n"
     ]
    },
    {
     "name": "stderr",
     "output_type": "stream",
     "text": [
      "\r",
      " 34%|███▍      | 13/38 [00:01<00:03,  7.20it/s]"
     ]
    },
    {
     "name": "stdout",
     "output_type": "stream",
     "text": [
      "/g/g13/jones289/workspace/hd-cuda-master/hdpy/hdpy/results/1/dude.random.src.smiles-pe.atomwise.0.pkl\n"
     ]
    },
    {
     "name": "stderr",
     "output_type": "stream",
     "text": [
      "\r",
      " 37%|███▋      | 14/38 [00:02<00:04,  5.40it/s]"
     ]
    },
    {
     "name": "stdout",
     "output_type": "stream",
     "text": [
      "/g/g13/jones289/workspace/hd-cuda-master/hdpy/hdpy/results/1/dude.random.src.smiles-pe.atomwise.0.pkl\n",
      "/g/g13/jones289/workspace/hd-cuda-master/hdpy/hdpy/results/1/dude.random.try1.smiles-pe.atomwise.0.pkl\n"
     ]
    },
    {
     "name": "stderr",
     "output_type": "stream",
     "text": [
      "\r",
      " 39%|███▉      | 15/38 [00:02<00:04,  5.10it/s]"
     ]
    },
    {
     "name": "stdout",
     "output_type": "stream",
     "text": [
      "/g/g13/jones289/workspace/hd-cuda-master/hdpy/hdpy/results/1/dude.random.try1.smiles-pe.atomwise.0.pkl\n",
      "/g/g13/jones289/workspace/hd-cuda-master/hdpy/hdpy/results/1/dude.random.pde5a.smiles-pe.atomwise.0.pkl\n",
      "/g/g13/jones289/workspace/hd-cuda-master/hdpy/hdpy/results/1/dude.random.pde5a.smiles-pe.atomwise.0.pkl\n"
     ]
    },
    {
     "name": "stderr",
     "output_type": "stream",
     "text": [
      "\r",
      " 42%|████▏     | 16/38 [00:02<00:04,  5.26it/s]"
     ]
    },
    {
     "name": "stdout",
     "output_type": "stream",
     "text": [
      "/g/g13/jones289/workspace/hd-cuda-master/hdpy/hdpy/results/1/dude.random.pnph.smiles-pe.atomwise.0.pkl\n",
      "/g/g13/jones289/workspace/hd-cuda-master/hdpy/hdpy/results/1/dude.random.pnph.smiles-pe.atomwise.0.pkl\n",
      "/g/g13/jones289/workspace/hd-cuda-master/hdpy/hdpy/results/1/dude.random.pgh2.smiles-pe.atomwise.0.pkl\n",
      "/g/g13/jones289/workspace/hd-cuda-master/hdpy/hdpy/results/1/dude.random.pgh2.smiles-pe.atomwise.0.pkl\n"
     ]
    },
    {
     "name": "stderr",
     "output_type": "stream",
     "text": [
      "\r",
      " 47%|████▋     | 18/38 [00:02<00:03,  6.39it/s]"
     ]
    },
    {
     "name": "stdout",
     "output_type": "stream",
     "text": [
      "/g/g13/jones289/workspace/hd-cuda-master/hdpy/hdpy/results/1/dude.random.egfr.smiles-pe.atomwise.0.pkl\n",
      "/g/g13/jones289/workspace/hd-cuda-master/hdpy/hdpy/results/1/dude.random.egfr.smiles-pe.atomwise.0.pkl\n"
     ]
    },
    {
     "name": "stderr",
     "output_type": "stream",
     "text": [
      "\r",
      " 50%|█████     | 19/38 [00:03<00:03,  5.74it/s]"
     ]
    },
    {
     "name": "stdout",
     "output_type": "stream",
     "text": [
      "/g/g13/jones289/workspace/hd-cuda-master/hdpy/hdpy/results/1/dude.random.parp1.smiles-pe.atomwise.0.pkl\n",
      "/g/g13/jones289/workspace/hd-cuda-master/hdpy/hdpy/results/1/dude.random.parp1.smiles-pe.atomwise.0.pkl\n"
     ]
    },
    {
     "name": "stderr",
     "output_type": "stream",
     "text": [
      " 58%|█████▊    | 22/38 [00:03<00:02,  6.50it/s]"
     ]
    },
    {
     "name": "stdout",
     "output_type": "stream",
     "text": [
      "/g/g13/jones289/workspace/hd-cuda-master/hdpy/hdpy/results/1/dude.random.sahh.smiles-pe.atomwise.0.pkl\n",
      "/g/g13/jones289/workspace/hd-cuda-master/hdpy/hdpy/results/1/dude.random.sahh.smiles-pe.atomwise.0.pkl\n",
      "/g/g13/jones289/workspace/hd-cuda-master/hdpy/hdpy/results/1/dude.random.gcr.smiles-pe.atomwise.0.pkl\n",
      "/g/g13/jones289/workspace/hd-cuda-master/hdpy/hdpy/results/1/dude.random.gcr.smiles-pe.atomwise.0.pkl\n",
      "/g/g13/jones289/workspace/hd-cuda-master/hdpy/hdpy/results/1/dude.random.aces.smiles-pe.atomwise.0.pkl\n"
     ]
    },
    {
     "name": "stderr",
     "output_type": "stream",
     "text": [
      "\r",
      " 61%|██████    | 23/38 [00:03<00:02,  5.98it/s]"
     ]
    },
    {
     "name": "stdout",
     "output_type": "stream",
     "text": [
      "/g/g13/jones289/workspace/hd-cuda-master/hdpy/hdpy/results/1/dude.random.aces.smiles-pe.atomwise.0.pkl\n",
      "/g/g13/jones289/workspace/hd-cuda-master/hdpy/hdpy/results/1/dude.random.pparg.smiles-pe.atomwise.0.pkl\n"
     ]
    },
    {
     "name": "stderr",
     "output_type": "stream",
     "text": [
      "\r",
      " 63%|██████▎   | 24/38 [00:03<00:02,  5.25it/s]"
     ]
    },
    {
     "name": "stdout",
     "output_type": "stream",
     "text": [
      "/g/g13/jones289/workspace/hd-cuda-master/hdpy/hdpy/results/1/dude.random.pparg.smiles-pe.atomwise.0.pkl\n",
      "/g/g13/jones289/workspace/hd-cuda-master/hdpy/hdpy/results/1/dude.random.aldr.smiles-pe.atomwise.0.pkl\n",
      "/g/g13/jones289/workspace/hd-cuda-master/hdpy/hdpy/results/1/dude.random.aldr.smiles-pe.atomwise.0.pkl\n"
     ]
    },
    {
     "name": "stderr",
     "output_type": "stream",
     "text": [
      " 71%|███████   | 27/38 [00:04<00:01,  7.84it/s]"
     ]
    },
    {
     "name": "stdout",
     "output_type": "stream",
     "text": [
      "/g/g13/jones289/workspace/hd-cuda-master/hdpy/hdpy/results/1/dude.random.ampc.smiles-pe.atomwise.0.pkl\n",
      "/g/g13/jones289/workspace/hd-cuda-master/hdpy/hdpy/results/1/dude.random.ampc.smiles-pe.atomwise.0.pkl\n",
      "/g/g13/jones289/workspace/hd-cuda-master/hdpy/hdpy/results/1/dude.random.comt.smiles-pe.atomwise.0.pkl\n",
      "/g/g13/jones289/workspace/hd-cuda-master/hdpy/hdpy/results/1/dude.random.comt.smiles-pe.atomwise.0.pkl\n",
      "/g/g13/jones289/workspace/hd-cuda-master/hdpy/hdpy/results/1/dude.random.kith.smiles-pe.atomwise.0.pkl\n",
      "/g/g13/jones289/workspace/hd-cuda-master/hdpy/hdpy/results/1/dude.random.kith.smiles-pe.atomwise.0.pkl\n",
      "/g/g13/jones289/workspace/hd-cuda-master/hdpy/hdpy/results/1/dude.random.hivrt.smiles-pe.atomwise.0.pkl\n"
     ]
    },
    {
     "name": "stderr",
     "output_type": "stream",
     "text": [
      "\r",
      " 76%|███████▋  | 29/38 [00:04<00:00,  9.84it/s]"
     ]
    },
    {
     "name": "stdout",
     "output_type": "stream",
     "text": [
      "/g/g13/jones289/workspace/hd-cuda-master/hdpy/hdpy/results/1/dude.random.hivrt.smiles-pe.atomwise.0.pkl\n",
      "/g/g13/jones289/workspace/hd-cuda-master/hdpy/hdpy/results/1/dude.random.andr.smiles-pe.atomwise.0.pkl\n",
      "/g/g13/jones289/workspace/hd-cuda-master/hdpy/hdpy/results/1/dude.random.andr.smiles-pe.atomwise.0.pkl\n",
      "/g/g13/jones289/workspace/hd-cuda-master/hdpy/hdpy/results/1/dude.random.prgr.smiles-pe.atomwise.0.pkl\n",
      "/g/g13/jones289/workspace/hd-cuda-master/hdpy/hdpy/results/1/dude.random.prgr.smiles-pe.atomwise.0.pkl\n"
     ]
    },
    {
     "name": "stderr",
     "output_type": "stream",
     "text": [
      "\r",
      " 82%|████████▏ | 31/38 [00:04<00:00,  9.45it/s]"
     ]
    },
    {
     "name": "stdout",
     "output_type": "stream",
     "text": [
      "/g/g13/jones289/workspace/hd-cuda-master/hdpy/hdpy/results/1/dude.random.cdk2.smiles-pe.atomwise.0.pkl\n",
      "/g/g13/jones289/workspace/hd-cuda-master/hdpy/hdpy/results/1/dude.random.cdk2.smiles-pe.atomwise.0.pkl\n",
      "/g/g13/jones289/workspace/hd-cuda-master/hdpy/hdpy/results/1/dude.random.ace.smiles-pe.atomwise.0.pkl\n"
     ]
    },
    {
     "name": "stderr",
     "output_type": "stream",
     "text": [
      "\r",
      " 87%|████████▋ | 33/38 [00:05<00:00,  5.97it/s]"
     ]
    },
    {
     "name": "stdout",
     "output_type": "stream",
     "text": [
      "/g/g13/jones289/workspace/hd-cuda-master/hdpy/hdpy/results/1/dude.random.ace.smiles-pe.atomwise.0.pkl\n",
      "/g/g13/jones289/workspace/hd-cuda-master/hdpy/hdpy/results/1/dude.random.vgfr2.smiles-pe.atomwise.0.pkl\n"
     ]
    },
    {
     "name": "stderr",
     "output_type": "stream",
     "text": [
      "\r",
      " 89%|████████▉ | 34/38 [00:05<00:00,  5.68it/s]"
     ]
    },
    {
     "name": "stdout",
     "output_type": "stream",
     "text": [
      "/g/g13/jones289/workspace/hd-cuda-master/hdpy/hdpy/results/1/dude.random.vgfr2.smiles-pe.atomwise.0.pkl\n",
      "/g/g13/jones289/workspace/hd-cuda-master/hdpy/hdpy/results/1/dude.random.mcr.smiles-pe.atomwise.0.pkl\n",
      "/g/g13/jones289/workspace/hd-cuda-master/hdpy/hdpy/results/1/dude.random.mcr.smiles-pe.atomwise.0.pkl\n",
      "/g/g13/jones289/workspace/hd-cuda-master/hdpy/hdpy/results/1/dude.random.dyr.smiles-pe.atomwise.0.pkl\n"
     ]
    },
    {
     "name": "stderr",
     "output_type": "stream",
     "text": [
      " 97%|█████████▋| 37/38 [00:05<00:00,  6.93it/s]"
     ]
    },
    {
     "name": "stdout",
     "output_type": "stream",
     "text": [
      "/g/g13/jones289/workspace/hd-cuda-master/hdpy/hdpy/results/1/dude.random.dyr.smiles-pe.atomwise.0.pkl\n",
      "/g/g13/jones289/workspace/hd-cuda-master/hdpy/hdpy/results/1/dude.random.hmdh.smiles-pe.atomwise.0.pkl\n",
      "/g/g13/jones289/workspace/hd-cuda-master/hdpy/hdpy/results/1/dude.random.hmdh.smiles-pe.atomwise.0.pkl\n",
      "/g/g13/jones289/workspace/hd-cuda-master/hdpy/hdpy/results/1/dude.random.mk14.smiles-pe.atomwise.0.pkl\n"
     ]
    },
    {
     "name": "stderr",
     "output_type": "stream",
     "text": [
      "100%|██████████| 38/38 [00:06<00:00,  6.32it/s]\n"
     ]
    },
    {
     "name": "stdout",
     "output_type": "stream",
     "text": [
      "/g/g13/jones289/workspace/hd-cuda-master/hdpy/hdpy/results/1/dude.random.mk14.smiles-pe.atomwise.0.pkl\n"
     ]
    },
    {
     "name": "stderr",
     "output_type": "stream",
     "text": [
      "\r",
      "  0%|          | 0/38 [00:00<?, ?it/s]"
     ]
    },
    {
     "name": "stdout",
     "output_type": "stream",
     "text": [
      "/g/g13/jones289/workspace/hd-cuda-master/hdpy/hdpy/results/1/dude.random.dyr.smiles-pe.bpe.0.pkl\n"
     ]
    },
    {
     "name": "stderr",
     "output_type": "stream",
     "text": [
      "\r",
      "  3%|▎         | 1/38 [00:00<00:05,  6.51it/s]"
     ]
    },
    {
     "name": "stdout",
     "output_type": "stream",
     "text": [
      "/g/g13/jones289/workspace/hd-cuda-master/hdpy/hdpy/results/1/dude.random.dyr.smiles-pe.bpe.0.pkl\n",
      "/g/g13/jones289/workspace/hd-cuda-master/hdpy/hdpy/results/1/dude.random.pgh2.smiles-pe.bpe.0.pkl\n"
     ]
    },
    {
     "name": "stderr",
     "output_type": "stream",
     "text": [
      "\r",
      "  5%|▌         | 2/38 [00:00<00:06,  5.23it/s]"
     ]
    },
    {
     "name": "stdout",
     "output_type": "stream",
     "text": [
      "/g/g13/jones289/workspace/hd-cuda-master/hdpy/hdpy/results/1/dude.random.pgh2.smiles-pe.bpe.0.pkl\n",
      "/g/g13/jones289/workspace/hd-cuda-master/hdpy/hdpy/results/1/dude.random.parp1.smiles-pe.bpe.0.pkl\n"
     ]
    },
    {
     "name": "stderr",
     "output_type": "stream",
     "text": [
      "\r",
      "  8%|▊         | 3/38 [00:00<00:08,  4.26it/s]"
     ]
    },
    {
     "name": "stdout",
     "output_type": "stream",
     "text": [
      "/g/g13/jones289/workspace/hd-cuda-master/hdpy/hdpy/results/1/dude.random.parp1.smiles-pe.bpe.0.pkl\n",
      "/g/g13/jones289/workspace/hd-cuda-master/hdpy/hdpy/results/1/dude.random.ada.smiles-pe.bpe.0.pkl\n",
      "/g/g13/jones289/workspace/hd-cuda-master/hdpy/hdpy/results/1/dude.random.ada.smiles-pe.bpe.0.pkl\n",
      "/g/g13/jones289/workspace/hd-cuda-master/hdpy/hdpy/results/1/dude.random.hmdh.smiles-pe.bpe.0.pkl\n"
     ]
    },
    {
     "name": "stderr",
     "output_type": "stream",
     "text": [
      "\r",
      " 13%|█▎        | 5/38 [00:00<00:05,  6.30it/s]"
     ]
    },
    {
     "name": "stdout",
     "output_type": "stream",
     "text": [
      "/g/g13/jones289/workspace/hd-cuda-master/hdpy/hdpy/results/1/dude.random.hmdh.smiles-pe.bpe.0.pkl\n",
      "/g/g13/jones289/workspace/hd-cuda-master/hdpy/hdpy/results/1/dude.random.ampc.smiles-pe.bpe.0.pkl\n",
      "/g/g13/jones289/workspace/hd-cuda-master/hdpy/hdpy/results/1/dude.random.ampc.smiles-pe.bpe.0.pkl\n",
      "/g/g13/jones289/workspace/hd-cuda-master/hdpy/hdpy/results/1/dude.random.pparg.smiles-pe.bpe.0.pkl\n"
     ]
    },
    {
     "name": "stderr",
     "output_type": "stream",
     "text": [
      "\r",
      " 18%|█▊        | 7/38 [00:01<00:04,  6.43it/s]"
     ]
    },
    {
     "name": "stdout",
     "output_type": "stream",
     "text": [
      "/g/g13/jones289/workspace/hd-cuda-master/hdpy/hdpy/results/1/dude.random.pparg.smiles-pe.bpe.0.pkl\n",
      "/g/g13/jones289/workspace/hd-cuda-master/hdpy/hdpy/results/1/dude.random.comt.smiles-pe.bpe.0.pkl\n",
      "/g/g13/jones289/workspace/hd-cuda-master/hdpy/hdpy/results/1/dude.random.comt.smiles-pe.bpe.0.pkl\n",
      "/g/g13/jones289/workspace/hd-cuda-master/hdpy/hdpy/results/1/dude.random.ace.smiles-pe.bpe.0.pkl\n"
     ]
    },
    {
     "name": "stderr",
     "output_type": "stream",
     "text": [
      "\r",
      " 24%|██▎       | 9/38 [00:01<00:04,  7.05it/s]"
     ]
    },
    {
     "name": "stdout",
     "output_type": "stream",
     "text": [
      "/g/g13/jones289/workspace/hd-cuda-master/hdpy/hdpy/results/1/dude.random.ace.smiles-pe.bpe.0.pkl\n",
      "/g/g13/jones289/workspace/hd-cuda-master/hdpy/hdpy/results/1/dude.random.pur2.smiles-pe.bpe.0.pkl\n",
      "/g/g13/jones289/workspace/hd-cuda-master/hdpy/hdpy/results/1/dude.random.pur2.smiles-pe.bpe.0.pkl\n",
      "/g/g13/jones289/workspace/hd-cuda-master/hdpy/hdpy/results/1/dude.random.andr.smiles-pe.bpe.0.pkl\n",
      "/g/g13/jones289/workspace/hd-cuda-master/hdpy/hdpy/results/1/dude.random.andr.smiles-pe.bpe.0.pkl\n"
     ]
    },
    {
     "name": "stderr",
     "output_type": "stream",
     "text": [
      "\r",
      " 29%|██▉       | 11/38 [00:01<00:03,  8.34it/s]"
     ]
    },
    {
     "name": "stdout",
     "output_type": "stream",
     "text": [
      "/g/g13/jones289/workspace/hd-cuda-master/hdpy/hdpy/results/1/dude.random.esr1.smiles-pe.bpe.0.pkl\n",
      "/g/g13/jones289/workspace/hd-cuda-master/hdpy/hdpy/results/1/dude.random.esr1.smiles-pe.bpe.0.pkl\n"
     ]
    },
    {
     "name": "stderr",
     "output_type": "stream",
     "text": [
      " 34%|███▍      | 13/38 [00:01<00:03,  7.22it/s]"
     ]
    },
    {
     "name": "stdout",
     "output_type": "stream",
     "text": [
      "/g/g13/jones289/workspace/hd-cuda-master/hdpy/hdpy/results/1/dude.random.pgh1.smiles-pe.bpe.0.pkl\n",
      "/g/g13/jones289/workspace/hd-cuda-master/hdpy/hdpy/results/1/dude.random.pgh1.smiles-pe.bpe.0.pkl\n",
      "/g/g13/jones289/workspace/hd-cuda-master/hdpy/hdpy/results/1/dude.random.hivrt.smiles-pe.bpe.0.pkl\n",
      "/g/g13/jones289/workspace/hd-cuda-master/hdpy/hdpy/results/1/dude.random.hivrt.smiles-pe.bpe.0.pkl\n",
      "/g/g13/jones289/workspace/hd-cuda-master/hdpy/hdpy/results/1/dude.random.pygm.smiles-pe.bpe.0.pkl\n"
     ]
    },
    {
     "name": "stderr",
     "output_type": "stream",
     "text": [
      "\r",
      " 39%|███▉      | 15/38 [00:02<00:02,  9.54it/s]"
     ]
    },
    {
     "name": "stdout",
     "output_type": "stream",
     "text": [
      "/g/g13/jones289/workspace/hd-cuda-master/hdpy/hdpy/results/1/dude.random.pygm.smiles-pe.bpe.0.pkl\n",
      "/g/g13/jones289/workspace/hd-cuda-master/hdpy/hdpy/results/1/dude.random.src.smiles-pe.bpe.0.pkl\n",
      "/g/g13/jones289/workspace/hd-cuda-master/hdpy/hdpy/results/1/dude.random.src.smiles-pe.bpe.0.pkl\n",
      "/g/g13/jones289/workspace/hd-cuda-master/hdpy/hdpy/results/1/dude.random.try1.smiles-pe.bpe.0.pkl\n",
      "/g/g13/jones289/workspace/hd-cuda-master/hdpy/hdpy/results/1/dude.random.try1.smiles-pe.bpe.0.pkl\n"
     ]
    },
    {
     "name": "stderr",
     "output_type": "stream",
     "text": [
      " 47%|████▋     | 18/38 [00:02<00:02,  7.46it/s]"
     ]
    },
    {
     "name": "stdout",
     "output_type": "stream",
     "text": [
      "/g/g13/jones289/workspace/hd-cuda-master/hdpy/hdpy/results/1/dude.random.rxra.smiles-pe.bpe.0.pkl\n",
      "/g/g13/jones289/workspace/hd-cuda-master/hdpy/hdpy/results/1/dude.random.rxra.smiles-pe.bpe.0.pkl\n",
      "/g/g13/jones289/workspace/hd-cuda-master/hdpy/hdpy/results/1/dude.random.vgfr2.smiles-pe.bpe.0.pkl\n"
     ]
    },
    {
     "name": "stderr",
     "output_type": "stream",
     "text": [
      " 55%|█████▌    | 21/38 [00:02<00:01,  8.79it/s]"
     ]
    },
    {
     "name": "stdout",
     "output_type": "stream",
     "text": [
      "/g/g13/jones289/workspace/hd-cuda-master/hdpy/hdpy/results/1/dude.random.vgfr2.smiles-pe.bpe.0.pkl\n",
      "/g/g13/jones289/workspace/hd-cuda-master/hdpy/hdpy/results/1/dude.random.mcr.smiles-pe.bpe.0.pkl\n",
      "/g/g13/jones289/workspace/hd-cuda-master/hdpy/hdpy/results/1/dude.random.mcr.smiles-pe.bpe.0.pkl\n",
      "/g/g13/jones289/workspace/hd-cuda-master/hdpy/hdpy/results/1/dude.random.sahh.smiles-pe.bpe.0.pkl\n",
      "/g/g13/jones289/workspace/hd-cuda-master/hdpy/hdpy/results/1/dude.random.sahh.smiles-pe.bpe.0.pkl\n",
      "/g/g13/jones289/workspace/hd-cuda-master/hdpy/hdpy/results/1/dude.random.bace1.smiles-pe.bpe.0.pkl\n"
     ]
    },
    {
     "name": "stderr",
     "output_type": "stream",
     "text": [
      "\r",
      " 61%|██████    | 23/38 [00:03<00:01,  8.18it/s]"
     ]
    },
    {
     "name": "stdout",
     "output_type": "stream",
     "text": [
      "/g/g13/jones289/workspace/hd-cuda-master/hdpy/hdpy/results/1/dude.random.bace1.smiles-pe.bpe.0.pkl\n",
      "/g/g13/jones289/workspace/hd-cuda-master/hdpy/hdpy/results/1/dude.random.gcr.smiles-pe.bpe.0.pkl\n",
      "/g/g13/jones289/workspace/hd-cuda-master/hdpy/hdpy/results/1/dude.random.gcr.smiles-pe.bpe.0.pkl\n",
      "/g/g13/jones289/workspace/hd-cuda-master/hdpy/hdpy/results/1/dude.random.prgr.smiles-pe.bpe.0.pkl\n"
     ]
    },
    {
     "name": "stderr",
     "output_type": "stream",
     "text": [
      "\r",
      " 66%|██████▌   | 25/38 [00:03<00:01,  8.59it/s]"
     ]
    },
    {
     "name": "stdout",
     "output_type": "stream",
     "text": [
      "/g/g13/jones289/workspace/hd-cuda-master/hdpy/hdpy/results/1/dude.random.prgr.smiles-pe.bpe.0.pkl\n",
      "/g/g13/jones289/workspace/hd-cuda-master/hdpy/hdpy/results/1/dude.random.nram.smiles-pe.bpe.0.pkl\n",
      "/g/g13/jones289/workspace/hd-cuda-master/hdpy/hdpy/results/1/dude.random.nram.smiles-pe.bpe.0.pkl\n",
      "/g/g13/jones289/workspace/hd-cuda-master/hdpy/hdpy/results/1/dude.random.mk14.smiles-pe.bpe.0.pkl\n"
     ]
    },
    {
     "name": "stderr",
     "output_type": "stream",
     "text": [
      "\r",
      " 68%|██████▊   | 26/38 [00:03<00:01,  6.96it/s]"
     ]
    },
    {
     "name": "stdout",
     "output_type": "stream",
     "text": [
      "/g/g13/jones289/workspace/hd-cuda-master/hdpy/hdpy/results/1/dude.random.mk14.smiles-pe.bpe.0.pkl\n",
      "/g/g13/jones289/workspace/hd-cuda-master/hdpy/hdpy/results/1/dude.random.kith.smiles-pe.bpe.0.pkl\n",
      "/g/g13/jones289/workspace/hd-cuda-master/hdpy/hdpy/results/1/dude.random.kith.smiles-pe.bpe.0.pkl\n",
      "/g/g13/jones289/workspace/hd-cuda-master/hdpy/hdpy/results/1/dude.random.hivpr.smiles-pe.bpe.0.pkl\n"
     ]
    },
    {
     "name": "stderr",
     "output_type": "stream",
     "text": [
      "\r",
      " 74%|███████▎  | 28/38 [00:03<00:01,  6.45it/s]"
     ]
    },
    {
     "name": "stdout",
     "output_type": "stream",
     "text": [
      "/g/g13/jones289/workspace/hd-cuda-master/hdpy/hdpy/results/1/dude.random.hivpr.smiles-pe.bpe.0.pkl\n",
      "/g/g13/jones289/workspace/hd-cuda-master/hdpy/hdpy/results/1/dude.random.inha.smiles-pe.bpe.0.pkl\n",
      "/g/g13/jones289/workspace/hd-cuda-master/hdpy/hdpy/results/1/dude.random.inha.smiles-pe.bpe.0.pkl\n",
      "/g/g13/jones289/workspace/hd-cuda-master/hdpy/hdpy/results/1/dude.random.pnph.smiles-pe.bpe.0.pkl\n"
     ]
    },
    {
     "name": "stderr",
     "output_type": "stream",
     "text": [
      "\r",
      " 79%|███████▉  | 30/38 [00:04<00:01,  7.59it/s]"
     ]
    },
    {
     "name": "stdout",
     "output_type": "stream",
     "text": [
      "/g/g13/jones289/workspace/hd-cuda-master/hdpy/hdpy/results/1/dude.random.pnph.smiles-pe.bpe.0.pkl\n",
      "/g/g13/jones289/workspace/hd-cuda-master/hdpy/hdpy/results/1/dude.random.aces.smiles-pe.bpe.0.pkl\n",
      "/g/g13/jones289/workspace/hd-cuda-master/hdpy/hdpy/results/1/dude.random.aces.smiles-pe.bpe.0.pkl\n"
     ]
    },
    {
     "name": "stderr",
     "output_type": "stream",
     "text": [
      "\r",
      " 82%|████████▏ | 31/38 [00:04<00:01,  6.70it/s]"
     ]
    },
    {
     "name": "stdout",
     "output_type": "stream",
     "text": [
      "/g/g13/jones289/workspace/hd-cuda-master/hdpy/hdpy/results/1/dude.random.egfr.smiles-pe.bpe.0.pkl\n"
     ]
    },
    {
     "name": "stderr",
     "output_type": "stream",
     "text": [
      "\r",
      " 84%|████████▍ | 32/38 [00:04<00:01,  5.41it/s]"
     ]
    },
    {
     "name": "stdout",
     "output_type": "stream",
     "text": [
      "/g/g13/jones289/workspace/hd-cuda-master/hdpy/hdpy/results/1/dude.random.egfr.smiles-pe.bpe.0.pkl\n",
      "/g/g13/jones289/workspace/hd-cuda-master/hdpy/hdpy/results/1/dude.random.hs90a.smiles-pe.bpe.0.pkl\n",
      "/g/g13/jones289/workspace/hd-cuda-master/hdpy/hdpy/results/1/dude.random.hs90a.smiles-pe.bpe.0.pkl\n",
      "/g/g13/jones289/workspace/hd-cuda-master/hdpy/hdpy/results/1/dude.random.cdk2.smiles-pe.bpe.0.pkl\n"
     ]
    },
    {
     "name": "stderr",
     "output_type": "stream",
     "text": [
      "\r",
      " 89%|████████▉ | 34/38 [00:04<00:00,  5.89it/s]"
     ]
    },
    {
     "name": "stdout",
     "output_type": "stream",
     "text": [
      "/g/g13/jones289/workspace/hd-cuda-master/hdpy/hdpy/results/1/dude.random.cdk2.smiles-pe.bpe.0.pkl\n",
      "/g/g13/jones289/workspace/hd-cuda-master/hdpy/hdpy/results/1/dude.random.pde5a.smiles-pe.bpe.0.pkl\n"
     ]
    },
    {
     "name": "stderr",
     "output_type": "stream",
     "text": [
      "\r",
      " 92%|█████████▏| 35/38 [00:05<00:00,  5.59it/s]"
     ]
    },
    {
     "name": "stdout",
     "output_type": "stream",
     "text": [
      "/g/g13/jones289/workspace/hd-cuda-master/hdpy/hdpy/results/1/dude.random.pde5a.smiles-pe.bpe.0.pkl\n",
      "/g/g13/jones289/workspace/hd-cuda-master/hdpy/hdpy/results/1/dude.random.fa10.smiles-pe.bpe.0.pkl\n",
      "/g/g13/jones289/workspace/hd-cuda-master/hdpy/hdpy/results/1/dude.random.fa10.smiles-pe.bpe.0.pkl\n"
     ]
    },
    {
     "name": "stderr",
     "output_type": "stream",
     "text": [
      "\r",
      " 95%|█████████▍| 36/38 [00:05<00:00,  5.61it/s]"
     ]
    },
    {
     "name": "stdout",
     "output_type": "stream",
     "text": [
      "/g/g13/jones289/workspace/hd-cuda-master/hdpy/hdpy/results/1/dude.random.thrb.smiles-pe.bpe.0.pkl\n",
      "/g/g13/jones289/workspace/hd-cuda-master/hdpy/hdpy/results/1/dude.random.thrb.smiles-pe.bpe.0.pkl\n",
      "/g/g13/jones289/workspace/hd-cuda-master/hdpy/hdpy/results/1/dude.random.aldr.smiles-pe.bpe.0.pkl\n",
      "/g/g13/jones289/workspace/hd-cuda-master/hdpy/hdpy/results/1/dude.random.aldr.smiles-pe.bpe.0.pkl\n"
     ]
    },
    {
     "name": "stderr",
     "output_type": "stream",
     "text": [
      "100%|██████████| 38/38 [00:05<00:00,  6.84it/s]\n",
      "  0%|          | 0/38 [00:00<?, ?it/s]"
     ]
    },
    {
     "name": "stdout",
     "output_type": "stream",
     "text": [
      "/g/g13/jones289/workspace/hd-cuda-master/hdpy/hdpy/results/1/dude.random.hs90a.selfies.atomwise.0.pkl\n",
      "/g/g13/jones289/workspace/hd-cuda-master/hdpy/hdpy/results/1/dude.random.hs90a.selfies.atomwise.0.pkl\n",
      "/g/g13/jones289/workspace/hd-cuda-master/hdpy/hdpy/results/1/dude.random.pgh2.selfies.atomwise.0.pkl\n"
     ]
    },
    {
     "name": "stderr",
     "output_type": "stream",
     "text": [
      "  8%|▊         | 3/38 [00:00<00:04,  7.56it/s]"
     ]
    },
    {
     "name": "stdout",
     "output_type": "stream",
     "text": [
      "/g/g13/jones289/workspace/hd-cuda-master/hdpy/hdpy/results/1/dude.random.pgh2.selfies.atomwise.0.pkl\n",
      "/g/g13/jones289/workspace/hd-cuda-master/hdpy/hdpy/results/1/dude.random.thrb.selfies.atomwise.0.pkl\n",
      "/g/g13/jones289/workspace/hd-cuda-master/hdpy/hdpy/results/1/dude.random.thrb.selfies.atomwise.0.pkl\n",
      "/g/g13/jones289/workspace/hd-cuda-master/hdpy/hdpy/results/1/dude.random.cdk2.selfies.atomwise.0.pkl\n"
     ]
    },
    {
     "name": "stderr",
     "output_type": "stream",
     "text": [
      " 13%|█▎        | 5/38 [00:00<00:04,  6.68it/s]"
     ]
    },
    {
     "name": "stdout",
     "output_type": "stream",
     "text": [
      "/g/g13/jones289/workspace/hd-cuda-master/hdpy/hdpy/results/1/dude.random.cdk2.selfies.atomwise.0.pkl\n",
      "/g/g13/jones289/workspace/hd-cuda-master/hdpy/hdpy/results/1/dude.random.andr.selfies.atomwise.0.pkl\n",
      "/g/g13/jones289/workspace/hd-cuda-master/hdpy/hdpy/results/1/dude.random.andr.selfies.atomwise.0.pkl\n",
      "/g/g13/jones289/workspace/hd-cuda-master/hdpy/hdpy/results/1/dude.random.pur2.selfies.atomwise.0.pkl\n"
     ]
    },
    {
     "name": "stderr",
     "output_type": "stream",
     "text": [
      "\r",
      " 18%|█▊        | 7/38 [00:00<00:03,  8.57it/s]"
     ]
    },
    {
     "name": "stdout",
     "output_type": "stream",
     "text": [
      "/g/g13/jones289/workspace/hd-cuda-master/hdpy/hdpy/results/1/dude.random.pur2.selfies.atomwise.0.pkl\n",
      "/g/g13/jones289/workspace/hd-cuda-master/hdpy/hdpy/results/1/dude.random.pnph.selfies.atomwise.0.pkl\n",
      "/g/g13/jones289/workspace/hd-cuda-master/hdpy/hdpy/results/1/dude.random.pnph.selfies.atomwise.0.pkl\n",
      "/g/g13/jones289/workspace/hd-cuda-master/hdpy/hdpy/results/1/dude.random.esr1.selfies.atomwise.0.pkl\n"
     ]
    },
    {
     "name": "stderr",
     "output_type": "stream",
     "text": [
      " 24%|██▎       | 9/38 [00:01<00:03,  7.67it/s]"
     ]
    },
    {
     "name": "stdout",
     "output_type": "stream",
     "text": [
      "/g/g13/jones289/workspace/hd-cuda-master/hdpy/hdpy/results/1/dude.random.esr1.selfies.atomwise.0.pkl\n",
      "/g/g13/jones289/workspace/hd-cuda-master/hdpy/hdpy/results/1/dude.random.pgh1.selfies.atomwise.0.pkl\n",
      "/g/g13/jones289/workspace/hd-cuda-master/hdpy/hdpy/results/1/dude.random.pgh1.selfies.atomwise.0.pkl\n",
      "/g/g13/jones289/workspace/hd-cuda-master/hdpy/hdpy/results/1/dude.random.egfr.selfies.atomwise.0.pkl\n"
     ]
    },
    {
     "name": "stderr",
     "output_type": "stream",
     "text": [
      " 29%|██▉       | 11/38 [00:01<00:03,  6.96it/s]"
     ]
    },
    {
     "name": "stdout",
     "output_type": "stream",
     "text": [
      "/g/g13/jones289/workspace/hd-cuda-master/hdpy/hdpy/results/1/dude.random.egfr.selfies.atomwise.0.pkl\n",
      "/g/g13/jones289/workspace/hd-cuda-master/hdpy/hdpy/results/1/dude.random.nram.selfies.atomwise.0.pkl\n",
      "/g/g13/jones289/workspace/hd-cuda-master/hdpy/hdpy/results/1/dude.random.nram.selfies.atomwise.0.pkl\n",
      "/g/g13/jones289/workspace/hd-cuda-master/hdpy/hdpy/results/1/dude.random.aldr.selfies.atomwise.0.pkl\n"
     ]
    },
    {
     "name": "stderr",
     "output_type": "stream",
     "text": [
      "\r",
      " 32%|███▏      | 12/38 [00:01<00:03,  7.13it/s]"
     ]
    },
    {
     "name": "stdout",
     "output_type": "stream",
     "text": [
      "/g/g13/jones289/workspace/hd-cuda-master/hdpy/hdpy/results/1/dude.random.aldr.selfies.atomwise.0.pkl\n",
      "/g/g13/jones289/workspace/hd-cuda-master/hdpy/hdpy/results/1/dude.random.inha.selfies.atomwise.0.pkl\n",
      "/g/g13/jones289/workspace/hd-cuda-master/hdpy/hdpy/results/1/dude.random.inha.selfies.atomwise.0.pkl\n",
      "/g/g13/jones289/workspace/hd-cuda-master/hdpy/hdpy/results/1/dude.random.sahh.selfies.atomwise.0.pkl\n",
      "/g/g13/jones289/workspace/hd-cuda-master/hdpy/hdpy/results/1/dude.random.sahh.selfies.atomwise.0.pkl\n",
      "/g/g13/jones289/workspace/hd-cuda-master/hdpy/hdpy/results/1/dude.random.dyr.selfies.atomwise.0.pkl\n"
     ]
    },
    {
     "name": "stderr",
     "output_type": "stream",
     "text": [
      "\r",
      " 39%|███▉      | 15/38 [00:01<00:02,  9.08it/s]"
     ]
    },
    {
     "name": "stdout",
     "output_type": "stream",
     "text": [
      "/g/g13/jones289/workspace/hd-cuda-master/hdpy/hdpy/results/1/dude.random.dyr.selfies.atomwise.0.pkl\n",
      "/g/g13/jones289/workspace/hd-cuda-master/hdpy/hdpy/results/1/dude.random.vgfr2.selfies.atomwise.0.pkl\n",
      "/g/g13/jones289/workspace/hd-cuda-master/hdpy/hdpy/results/1/dude.random.vgfr2.selfies.atomwise.0.pkl\n"
     ]
    },
    {
     "name": "stderr",
     "output_type": "stream",
     "text": [
      " 47%|████▋     | 18/38 [00:02<00:02,  8.43it/s]"
     ]
    },
    {
     "name": "stdout",
     "output_type": "stream",
     "text": [
      "/g/g13/jones289/workspace/hd-cuda-master/hdpy/hdpy/results/1/dude.random.ada.selfies.atomwise.0.pkl\n",
      "/g/g13/jones289/workspace/hd-cuda-master/hdpy/hdpy/results/1/dude.random.ada.selfies.atomwise.0.pkl\n",
      "/g/g13/jones289/workspace/hd-cuda-master/hdpy/hdpy/results/1/dude.random.prgr.selfies.atomwise.0.pkl\n",
      "/g/g13/jones289/workspace/hd-cuda-master/hdpy/hdpy/results/1/dude.random.prgr.selfies.atomwise.0.pkl\n",
      "/g/g13/jones289/workspace/hd-cuda-master/hdpy/hdpy/results/1/dude.random.pygm.selfies.atomwise.0.pkl\n",
      "/g/g13/jones289/workspace/hd-cuda-master/hdpy/hdpy/results/1/dude.random.pygm.selfies.atomwise.0.pkl\n",
      "/g/g13/jones289/workspace/hd-cuda-master/hdpy/hdpy/results/1/dude.random.src.selfies.atomwise.0.pkl\n"
     ]
    },
    {
     "name": "stderr",
     "output_type": "stream",
     "text": [
      " 55%|█████▌    | 21/38 [00:02<00:02,  7.56it/s]"
     ]
    },
    {
     "name": "stdout",
     "output_type": "stream",
     "text": [
      "/g/g13/jones289/workspace/hd-cuda-master/hdpy/hdpy/results/1/dude.random.src.selfies.atomwise.0.pkl\n",
      "/g/g13/jones289/workspace/hd-cuda-master/hdpy/hdpy/results/1/dude.random.rxra.selfies.atomwise.0.pkl\n",
      "/g/g13/jones289/workspace/hd-cuda-master/hdpy/hdpy/results/1/dude.random.rxra.selfies.atomwise.0.pkl\n",
      "/g/g13/jones289/workspace/hd-cuda-master/hdpy/hdpy/results/1/dude.random.mcr.selfies.atomwise.0.pkl\n",
      "/g/g13/jones289/workspace/hd-cuda-master/hdpy/hdpy/results/1/dude.random.mcr.selfies.atomwise.0.pkl\n",
      "/g/g13/jones289/workspace/hd-cuda-master/hdpy/hdpy/results/1/dude.random.aces.selfies.atomwise.0.pkl\n",
      "/g/g13/jones289/workspace/hd-cuda-master/hdpy/hdpy/results/1/dude.random.aces.selfies.atomwise.0.pkl\n"
     ]
    },
    {
     "name": "stderr",
     "output_type": "stream",
     "text": [
      " 66%|██████▌   | 25/38 [00:03<00:01,  8.84it/s]"
     ]
    },
    {
     "name": "stdout",
     "output_type": "stream",
     "text": [
      "/g/g13/jones289/workspace/hd-cuda-master/hdpy/hdpy/results/1/dude.random.ampc.selfies.atomwise.0.pkl\n",
      "/g/g13/jones289/workspace/hd-cuda-master/hdpy/hdpy/results/1/dude.random.ampc.selfies.atomwise.0.pkl\n",
      "/g/g13/jones289/workspace/hd-cuda-master/hdpy/hdpy/results/1/dude.random.hmdh.selfies.atomwise.0.pkl\n",
      "/g/g13/jones289/workspace/hd-cuda-master/hdpy/hdpy/results/1/dude.random.hmdh.selfies.atomwise.0.pkl\n",
      "/g/g13/jones289/workspace/hd-cuda-master/hdpy/hdpy/results/1/dude.random.parp1.selfies.atomwise.0.pkl\n"
     ]
    },
    {
     "name": "stderr",
     "output_type": "stream",
     "text": [
      "\r",
      " 68%|██████▊   | 26/38 [00:03<00:01,  6.92it/s]"
     ]
    },
    {
     "name": "stdout",
     "output_type": "stream",
     "text": [
      "/g/g13/jones289/workspace/hd-cuda-master/hdpy/hdpy/results/1/dude.random.parp1.selfies.atomwise.0.pkl\n",
      "/g/g13/jones289/workspace/hd-cuda-master/hdpy/hdpy/results/1/dude.random.pparg.selfies.atomwise.0.pkl\n"
     ]
    },
    {
     "name": "stderr",
     "output_type": "stream",
     "text": [
      "\r",
      " 71%|███████   | 27/38 [00:03<00:01,  5.84it/s]"
     ]
    },
    {
     "name": "stdout",
     "output_type": "stream",
     "text": [
      "/g/g13/jones289/workspace/hd-cuda-master/hdpy/hdpy/results/1/dude.random.pparg.selfies.atomwise.0.pkl\n",
      "/g/g13/jones289/workspace/hd-cuda-master/hdpy/hdpy/results/1/dude.random.fa10.selfies.atomwise.0.pkl\n",
      "/g/g13/jones289/workspace/hd-cuda-master/hdpy/hdpy/results/1/dude.random.fa10.selfies.atomwise.0.pkl\n"
     ]
    },
    {
     "name": "stderr",
     "output_type": "stream",
     "text": [
      " 79%|███████▉  | 30/38 [00:04<00:01,  7.07it/s]"
     ]
    },
    {
     "name": "stdout",
     "output_type": "stream",
     "text": [
      "/g/g13/jones289/workspace/hd-cuda-master/hdpy/hdpy/results/1/dude.random.hivrt.selfies.atomwise.0.pkl\n",
      "/g/g13/jones289/workspace/hd-cuda-master/hdpy/hdpy/results/1/dude.random.hivrt.selfies.atomwise.0.pkl\n",
      "/g/g13/jones289/workspace/hd-cuda-master/hdpy/hdpy/results/1/dude.random.try1.selfies.atomwise.0.pkl\n",
      "/g/g13/jones289/workspace/hd-cuda-master/hdpy/hdpy/results/1/dude.random.try1.selfies.atomwise.0.pkl\n",
      "/g/g13/jones289/workspace/hd-cuda-master/hdpy/hdpy/results/1/dude.random.kith.selfies.atomwise.0.pkl\n"
     ]
    },
    {
     "name": "stderr",
     "output_type": "stream",
     "text": [
      "\r",
      " 84%|████████▍ | 32/38 [00:04<00:00,  7.54it/s]"
     ]
    },
    {
     "name": "stdout",
     "output_type": "stream",
     "text": [
      "/g/g13/jones289/workspace/hd-cuda-master/hdpy/hdpy/results/1/dude.random.kith.selfies.atomwise.0.pkl\n",
      "/g/g13/jones289/workspace/hd-cuda-master/hdpy/hdpy/results/1/dude.random.bace1.selfies.atomwise.0.pkl\n",
      "/g/g13/jones289/workspace/hd-cuda-master/hdpy/hdpy/results/1/dude.random.bace1.selfies.atomwise.0.pkl\n",
      "/g/g13/jones289/workspace/hd-cuda-master/hdpy/hdpy/results/1/dude.random.mk14.selfies.atomwise.0.pkl\n"
     ]
    },
    {
     "name": "stderr",
     "output_type": "stream",
     "text": [
      "\r",
      " 87%|████████▋ | 33/38 [00:04<00:00,  5.85it/s]"
     ]
    },
    {
     "name": "stdout",
     "output_type": "stream",
     "text": [
      "/g/g13/jones289/workspace/hd-cuda-master/hdpy/hdpy/results/1/dude.random.mk14.selfies.atomwise.0.pkl\n",
      "/g/g13/jones289/workspace/hd-cuda-master/hdpy/hdpy/results/1/dude.random.comt.selfies.atomwise.0.pkl\n",
      "/g/g13/jones289/workspace/hd-cuda-master/hdpy/hdpy/results/1/dude.random.comt.selfies.atomwise.0.pkl\n",
      "/g/g13/jones289/workspace/hd-cuda-master/hdpy/hdpy/results/1/dude.random.pde5a.selfies.atomwise.0.pkl\n"
     ]
    },
    {
     "name": "stderr",
     "output_type": "stream",
     "text": [
      "\r",
      " 92%|█████████▏| 35/38 [00:04<00:00,  6.30it/s]"
     ]
    },
    {
     "name": "stdout",
     "output_type": "stream",
     "text": [
      "/g/g13/jones289/workspace/hd-cuda-master/hdpy/hdpy/results/1/dude.random.pde5a.selfies.atomwise.0.pkl\n",
      "/g/g13/jones289/workspace/hd-cuda-master/hdpy/hdpy/results/1/dude.random.ace.selfies.atomwise.0.pkl\n",
      "/g/g13/jones289/workspace/hd-cuda-master/hdpy/hdpy/results/1/dude.random.ace.selfies.atomwise.0.pkl\n"
     ]
    },
    {
     "name": "stderr",
     "output_type": "stream",
     "text": [
      "\r",
      " 95%|█████████▍| 36/38 [00:05<00:00,  6.07it/s]"
     ]
    },
    {
     "name": "stdout",
     "output_type": "stream",
     "text": [
      "/g/g13/jones289/workspace/hd-cuda-master/hdpy/hdpy/results/1/dude.random.hivpr.selfies.atomwise.0.pkl\n"
     ]
    },
    {
     "name": "stderr",
     "output_type": "stream",
     "text": [
      "100%|██████████| 38/38 [00:05<00:00,  6.84it/s]\n"
     ]
    },
    {
     "name": "stdout",
     "output_type": "stream",
     "text": [
      "/g/g13/jones289/workspace/hd-cuda-master/hdpy/hdpy/results/1/dude.random.hivpr.selfies.atomwise.0.pkl\n",
      "/g/g13/jones289/workspace/hd-cuda-master/hdpy/hdpy/results/1/dude.random.gcr.selfies.atomwise.0.pkl\n",
      "/g/g13/jones289/workspace/hd-cuda-master/hdpy/hdpy/results/1/dude.random.gcr.selfies.atomwise.0.pkl\n"
     ]
    },
    {
     "name": "stderr",
     "output_type": "stream",
     "text": [
      "0it [00:00, ?it/s]\n",
      "0it [00:00, ?it/s]\n",
      "  0%|          | 0/38 [00:00<?, ?it/s]"
     ]
    },
    {
     "name": "stdout",
     "output_type": "stream",
     "text": [
      "/g/g13/jones289/workspace/hd-cuda-master/hdpy/hdpy/results/1/dude.random.sahh.ecfp.atomwise.0.pkl\n"
     ]
    },
    {
     "name": "stderr",
     "output_type": "stream",
     "text": [
      "\r",
      "  5%|▌         | 2/38 [00:00<00:03, 10.44it/s]"
     ]
    },
    {
     "name": "stdout",
     "output_type": "stream",
     "text": [
      "/g/g13/jones289/workspace/hd-cuda-master/hdpy/hdpy/results/1/dude.random.sahh.ecfp.atomwise.0.pkl\n",
      "/g/g13/jones289/workspace/hd-cuda-master/hdpy/hdpy/results/1/dude.random.bace1.ecfp.atomwise.0.pkl\n",
      "/g/g13/jones289/workspace/hd-cuda-master/hdpy/hdpy/results/1/dude.random.bace1.ecfp.atomwise.0.pkl\n",
      "/g/g13/jones289/workspace/hd-cuda-master/hdpy/hdpy/results/1/dude.random.mcr.ecfp.atomwise.0.pkl\n"
     ]
    },
    {
     "name": "stderr",
     "output_type": "stream",
     "text": [
      "\r",
      " 11%|█         | 4/38 [00:00<00:02, 13.25it/s]"
     ]
    },
    {
     "name": "stdout",
     "output_type": "stream",
     "text": [
      "/g/g13/jones289/workspace/hd-cuda-master/hdpy/hdpy/results/1/dude.random.mcr.ecfp.atomwise.0.pkl\n",
      "/g/g13/jones289/workspace/hd-cuda-master/hdpy/hdpy/results/1/dude.random.kith.ecfp.atomwise.0.pkl\n",
      "/g/g13/jones289/workspace/hd-cuda-master/hdpy/hdpy/results/1/dude.random.kith.ecfp.atomwise.0.pkl\n",
      "/g/g13/jones289/workspace/hd-cuda-master/hdpy/hdpy/results/1/dude.random.hivpr.ecfp.atomwise.0.pkl\n",
      "/g/g13/jones289/workspace/hd-cuda-master/hdpy/hdpy/results/1/dude.random.hivpr.ecfp.atomwise.0.pkl\n",
      "/g/g13/jones289/workspace/hd-cuda-master/hdpy/hdpy/results/1/dude.random.gcr.ecfp.atomwise.0.pkl\n",
      "/g/g13/jones289/workspace/hd-cuda-master/hdpy/hdpy/results/1/dude.random.gcr.ecfp.atomwise.0.pkl\n"
     ]
    },
    {
     "name": "stderr",
     "output_type": "stream",
     "text": [
      "\r",
      " 16%|█▌        | 6/38 [00:00<00:04,  7.24it/s]"
     ]
    },
    {
     "name": "stdout",
     "output_type": "stream",
     "text": [
      "/g/g13/jones289/workspace/hd-cuda-master/hdpy/hdpy/results/1/dude.random.mk14.ecfp.atomwise.0.pkl\n",
      "/g/g13/jones289/workspace/hd-cuda-master/hdpy/hdpy/results/1/dude.random.mk14.ecfp.atomwise.0.pkl\n"
     ]
    },
    {
     "name": "stderr",
     "output_type": "stream",
     "text": [
      " 24%|██▎       | 9/38 [00:01<00:03,  7.49it/s]"
     ]
    },
    {
     "name": "stdout",
     "output_type": "stream",
     "text": [
      "/g/g13/jones289/workspace/hd-cuda-master/hdpy/hdpy/results/1/dude.random.nram.ecfp.atomwise.0.pkl\n",
      "/g/g13/jones289/workspace/hd-cuda-master/hdpy/hdpy/results/1/dude.random.nram.ecfp.atomwise.0.pkl\n",
      "/g/g13/jones289/workspace/hd-cuda-master/hdpy/hdpy/results/1/dude.random.prgr.ecfp.atomwise.0.pkl\n",
      "/g/g13/jones289/workspace/hd-cuda-master/hdpy/hdpy/results/1/dude.random.prgr.ecfp.atomwise.0.pkl\n",
      "/g/g13/jones289/workspace/hd-cuda-master/hdpy/hdpy/results/1/dude.random.rxra.ecfp.atomwise.0.pkl\n"
     ]
    },
    {
     "name": "stderr",
     "output_type": "stream",
     "text": [
      " 29%|██▉       | 11/38 [00:01<00:03,  7.87it/s]"
     ]
    },
    {
     "name": "stdout",
     "output_type": "stream",
     "text": [
      "/g/g13/jones289/workspace/hd-cuda-master/hdpy/hdpy/results/1/dude.random.rxra.ecfp.atomwise.0.pkl\n",
      "/g/g13/jones289/workspace/hd-cuda-master/hdpy/hdpy/results/1/dude.random.try1.ecfp.atomwise.0.pkl\n",
      "/g/g13/jones289/workspace/hd-cuda-master/hdpy/hdpy/results/1/dude.random.try1.ecfp.atomwise.0.pkl\n",
      "/g/g13/jones289/workspace/hd-cuda-master/hdpy/hdpy/results/1/dude.random.vgfr2.ecfp.atomwise.0.pkl\n"
     ]
    },
    {
     "name": "stderr",
     "output_type": "stream",
     "text": [
      "\r",
      " 32%|███▏      | 12/38 [00:01<00:03,  7.23it/s]"
     ]
    },
    {
     "name": "stdout",
     "output_type": "stream",
     "text": [
      "/g/g13/jones289/workspace/hd-cuda-master/hdpy/hdpy/results/1/dude.random.vgfr2.ecfp.atomwise.0.pkl\n",
      "/g/g13/jones289/workspace/hd-cuda-master/hdpy/hdpy/results/1/dude.random.src.ecfp.atomwise.0.pkl\n"
     ]
    },
    {
     "name": "stderr",
     "output_type": "stream",
     "text": [
      "\r",
      " 34%|███▍      | 13/38 [00:01<00:05,  4.91it/s]"
     ]
    },
    {
     "name": "stdout",
     "output_type": "stream",
     "text": [
      "/g/g13/jones289/workspace/hd-cuda-master/hdpy/hdpy/results/1/dude.random.src.ecfp.atomwise.0.pkl\n",
      "/g/g13/jones289/workspace/hd-cuda-master/hdpy/hdpy/results/1/dude.random.pygm.ecfp.atomwise.0.pkl\n",
      "/g/g13/jones289/workspace/hd-cuda-master/hdpy/hdpy/results/1/dude.random.pygm.ecfp.atomwise.0.pkl\n",
      "/g/g13/jones289/workspace/hd-cuda-master/hdpy/hdpy/results/1/dude.random.hivrt.ecfp.atomwise.0.pkl\n"
     ]
    },
    {
     "name": "stderr",
     "output_type": "stream",
     "text": [
      "\r",
      " 39%|███▉      | 15/38 [00:02<00:03,  6.97it/s]"
     ]
    },
    {
     "name": "stdout",
     "output_type": "stream",
     "text": [
      "/g/g13/jones289/workspace/hd-cuda-master/hdpy/hdpy/results/1/dude.random.hivrt.ecfp.atomwise.0.pkl\n",
      "/g/g13/jones289/workspace/hd-cuda-master/hdpy/hdpy/results/1/dude.random.pde5a.ecfp.atomwise.0.pkl\n",
      "/g/g13/jones289/workspace/hd-cuda-master/hdpy/hdpy/results/1/dude.random.pde5a.ecfp.atomwise.0.pkl\n"
     ]
    },
    {
     "name": "stderr",
     "output_type": "stream",
     "text": [
      "\r",
      " 42%|████▏     | 16/38 [00:02<00:03,  5.96it/s]"
     ]
    },
    {
     "name": "stdout",
     "output_type": "stream",
     "text": [
      "/g/g13/jones289/workspace/hd-cuda-master/hdpy/hdpy/results/1/dude.random.cdk2.ecfp.atomwise.0.pkl\n",
      "/g/g13/jones289/workspace/hd-cuda-master/hdpy/hdpy/results/1/dude.random.cdk2.ecfp.atomwise.0.pkl\n"
     ]
    },
    {
     "name": "stderr",
     "output_type": "stream",
     "text": [
      " 47%|████▋     | 18/38 [00:02<00:03,  5.66it/s]"
     ]
    },
    {
     "name": "stdout",
     "output_type": "stream",
     "text": [
      "/g/g13/jones289/workspace/hd-cuda-master/hdpy/hdpy/results/1/dude.random.aldr.ecfp.atomwise.0.pkl\n",
      "/g/g13/jones289/workspace/hd-cuda-master/hdpy/hdpy/results/1/dude.random.aldr.ecfp.atomwise.0.pkl\n",
      "/g/g13/jones289/workspace/hd-cuda-master/hdpy/hdpy/results/1/dude.random.thrb.ecfp.atomwise.0.pkl\n",
      "/g/g13/jones289/workspace/hd-cuda-master/hdpy/hdpy/results/1/dude.random.thrb.ecfp.atomwise.0.pkl\n"
     ]
    },
    {
     "name": "stderr",
     "output_type": "stream",
     "text": [
      "\r",
      " 50%|█████     | 19/38 [00:02<00:03,  6.16it/s]"
     ]
    },
    {
     "name": "stdout",
     "output_type": "stream",
     "text": [
      "/g/g13/jones289/workspace/hd-cuda-master/hdpy/hdpy/results/1/dude.random.fa10.ecfp.atomwise.0.pkl\n",
      "/g/g13/jones289/workspace/hd-cuda-master/hdpy/hdpy/results/1/dude.random.fa10.ecfp.atomwise.0.pkl\n"
     ]
    },
    {
     "name": "stderr",
     "output_type": "stream",
     "text": [
      " 58%|█████▊    | 22/38 [00:03<00:02,  7.69it/s]"
     ]
    },
    {
     "name": "stdout",
     "output_type": "stream",
     "text": [
      "/g/g13/jones289/workspace/hd-cuda-master/hdpy/hdpy/results/1/dude.random.pnph.ecfp.atomwise.0.pkl\n",
      "/g/g13/jones289/workspace/hd-cuda-master/hdpy/hdpy/results/1/dude.random.pnph.ecfp.atomwise.0.pkl\n",
      "/g/g13/jones289/workspace/hd-cuda-master/hdpy/hdpy/results/1/dude.random.inha.ecfp.atomwise.0.pkl\n",
      "/g/g13/jones289/workspace/hd-cuda-master/hdpy/hdpy/results/1/dude.random.inha.ecfp.atomwise.0.pkl\n",
      "/g/g13/jones289/workspace/hd-cuda-master/hdpy/hdpy/results/1/dude.random.aces.ecfp.atomwise.0.pkl\n"
     ]
    },
    {
     "name": "stderr",
     "output_type": "stream",
     "text": [
      "\r",
      " 61%|██████    | 23/38 [00:03<00:02,  6.41it/s]"
     ]
    },
    {
     "name": "stdout",
     "output_type": "stream",
     "text": [
      "/g/g13/jones289/workspace/hd-cuda-master/hdpy/hdpy/results/1/dude.random.aces.ecfp.atomwise.0.pkl\n",
      "/g/g13/jones289/workspace/hd-cuda-master/hdpy/hdpy/results/1/dude.random.hs90a.ecfp.atomwise.0.pkl\n",
      "/g/g13/jones289/workspace/hd-cuda-master/hdpy/hdpy/results/1/dude.random.hs90a.ecfp.atomwise.0.pkl\n",
      "/g/g13/jones289/workspace/hd-cuda-master/hdpy/hdpy/results/1/dude.random.egfr.ecfp.atomwise.0.pkl\n"
     ]
    },
    {
     "name": "stderr",
     "output_type": "stream",
     "text": [
      "\r",
      " 66%|██████▌   | 25/38 [00:03<00:02,  6.10it/s]"
     ]
    },
    {
     "name": "stdout",
     "output_type": "stream",
     "text": [
      "/g/g13/jones289/workspace/hd-cuda-master/hdpy/hdpy/results/1/dude.random.egfr.ecfp.atomwise.0.pkl\n",
      "/g/g13/jones289/workspace/hd-cuda-master/hdpy/hdpy/results/1/dude.random.pgh2.ecfp.atomwise.0.pkl\n"
     ]
    },
    {
     "name": "stderr",
     "output_type": "stream",
     "text": [
      "\r",
      " 68%|██████▊   | 26/38 [00:03<00:02,  5.84it/s]"
     ]
    },
    {
     "name": "stdout",
     "output_type": "stream",
     "text": [
      "/g/g13/jones289/workspace/hd-cuda-master/hdpy/hdpy/results/1/dude.random.pgh2.ecfp.atomwise.0.pkl\n",
      "/g/g13/jones289/workspace/hd-cuda-master/hdpy/hdpy/results/1/dude.random.parp1.ecfp.atomwise.0.pkl\n"
     ]
    },
    {
     "name": "stderr",
     "output_type": "stream",
     "text": [
      "\r",
      " 71%|███████   | 27/38 [00:04<00:02,  5.07it/s]"
     ]
    },
    {
     "name": "stdout",
     "output_type": "stream",
     "text": [
      "/g/g13/jones289/workspace/hd-cuda-master/hdpy/hdpy/results/1/dude.random.parp1.ecfp.atomwise.0.pkl\n",
      "/g/g13/jones289/workspace/hd-cuda-master/hdpy/hdpy/results/1/dude.random.dyr.ecfp.atomwise.0.pkl\n"
     ]
    },
    {
     "name": "stderr",
     "output_type": "stream",
     "text": [
      "\r",
      " 74%|███████▎  | 28/38 [00:04<00:01,  5.18it/s]"
     ]
    },
    {
     "name": "stdout",
     "output_type": "stream",
     "text": [
      "/g/g13/jones289/workspace/hd-cuda-master/hdpy/hdpy/results/1/dude.random.dyr.ecfp.atomwise.0.pkl\n",
      "/g/g13/jones289/workspace/hd-cuda-master/hdpy/hdpy/results/1/dude.random.pur2.ecfp.atomwise.0.pkl\n",
      "/g/g13/jones289/workspace/hd-cuda-master/hdpy/hdpy/results/1/dude.random.pur2.ecfp.atomwise.0.pkl\n",
      "/g/g13/jones289/workspace/hd-cuda-master/hdpy/hdpy/results/1/dude.random.ace.ecfp.atomwise.0.pkl\n"
     ]
    },
    {
     "name": "stderr",
     "output_type": "stream",
     "text": [
      "\r",
      " 79%|███████▉  | 30/38 [00:04<00:01,  5.77it/s]"
     ]
    },
    {
     "name": "stdout",
     "output_type": "stream",
     "text": [
      "/g/g13/jones289/workspace/hd-cuda-master/hdpy/hdpy/results/1/dude.random.ace.ecfp.atomwise.0.pkl\n",
      "/g/g13/jones289/workspace/hd-cuda-master/hdpy/hdpy/results/1/dude.random.comt.ecfp.atomwise.0.pkl\n",
      "/g/g13/jones289/workspace/hd-cuda-master/hdpy/hdpy/results/1/dude.random.comt.ecfp.atomwise.0.pkl\n",
      "/g/g13/jones289/workspace/hd-cuda-master/hdpy/hdpy/results/1/dude.random.pgh1.ecfp.atomwise.0.pkl\n"
     ]
    },
    {
     "name": "stderr",
     "output_type": "stream",
     "text": [
      "\r",
      " 84%|████████▍ | 32/38 [00:04<00:00,  6.86it/s]"
     ]
    },
    {
     "name": "stdout",
     "output_type": "stream",
     "text": [
      "/g/g13/jones289/workspace/hd-cuda-master/hdpy/hdpy/results/1/dude.random.pgh1.ecfp.atomwise.0.pkl\n",
      "/g/g13/jones289/workspace/hd-cuda-master/hdpy/hdpy/results/1/dude.random.andr.ecfp.atomwise.0.pkl\n",
      "/g/g13/jones289/workspace/hd-cuda-master/hdpy/hdpy/results/1/dude.random.andr.ecfp.atomwise.0.pkl\n",
      "/g/g13/jones289/workspace/hd-cuda-master/hdpy/hdpy/results/1/dude.random.esr1.ecfp.atomwise.0.pkl\n"
     ]
    },
    {
     "name": "stderr",
     "output_type": "stream",
     "text": [
      " 92%|█████████▏| 35/38 [00:05<00:00,  7.24it/s]"
     ]
    },
    {
     "name": "stdout",
     "output_type": "stream",
     "text": [
      "/g/g13/jones289/workspace/hd-cuda-master/hdpy/hdpy/results/1/dude.random.esr1.ecfp.atomwise.0.pkl\n",
      "/g/g13/jones289/workspace/hd-cuda-master/hdpy/hdpy/results/1/dude.random.ada.ecfp.atomwise.0.pkl\n",
      "/g/g13/jones289/workspace/hd-cuda-master/hdpy/hdpy/results/1/dude.random.ada.ecfp.atomwise.0.pkl\n",
      "/g/g13/jones289/workspace/hd-cuda-master/hdpy/hdpy/results/1/dude.random.pparg.ecfp.atomwise.0.pkl\n"
     ]
    },
    {
     "name": "stderr",
     "output_type": "stream",
     "text": [
      "100%|██████████| 38/38 [00:05<00:00,  6.73it/s]\n"
     ]
    },
    {
     "name": "stdout",
     "output_type": "stream",
     "text": [
      "/g/g13/jones289/workspace/hd-cuda-master/hdpy/hdpy/results/1/dude.random.pparg.ecfp.atomwise.0.pkl\n",
      "/g/g13/jones289/workspace/hd-cuda-master/hdpy/hdpy/results/1/dude.random.ampc.ecfp.atomwise.0.pkl\n",
      "/g/g13/jones289/workspace/hd-cuda-master/hdpy/hdpy/results/1/dude.random.ampc.ecfp.atomwise.0.pkl\n",
      "/g/g13/jones289/workspace/hd-cuda-master/hdpy/hdpy/results/1/dude.random.hmdh.ecfp.atomwise.0.pkl\n",
      "/g/g13/jones289/workspace/hd-cuda-master/hdpy/hdpy/results/1/dude.random.hmdh.ecfp.atomwise.0.pkl\n"
     ]
    },
    {
     "name": "stderr",
     "output_type": "stream",
     "text": [
      "\r",
      "  0%|          | 0/38 [00:00<?, ?it/s]"
     ]
    },
    {
     "name": "stdout",
     "output_type": "stream",
     "text": [
      "/g/g13/jones289/workspace/hd-cuda-master/hdpy/hdpy/results/1/dude.random.hmdh.rp.atomwise.0.pkl\n",
      "/g/g13/jones289/workspace/hd-cuda-master/hdpy/hdpy/results/1/dude.random.hmdh.rp.atomwise.0.pkl\n",
      "/g/g13/jones289/workspace/hd-cuda-master/hdpy/hdpy/results/1/dude.random.bace1.rp.atomwise.0.pkl\n",
      "/g/g13/jones289/workspace/hd-cuda-master/hdpy/hdpy/results/1/dude.random.bace1.rp.atomwise.0.pkl\n"
     ]
    },
    {
     "name": "stderr",
     "output_type": "stream",
     "text": [
      "\r",
      "  5%|▌         | 2/38 [00:00<00:04,  8.17it/s]"
     ]
    },
    {
     "name": "stdout",
     "output_type": "stream",
     "text": [
      "/g/g13/jones289/workspace/hd-cuda-master/hdpy/hdpy/results/1/dude.random.hivrt.rp.atomwise.0.pkl"
     ]
    },
    {
     "name": "stderr",
     "output_type": "stream",
     "text": [
      "\r",
      " 11%|█         | 4/38 [00:00<00:02, 11.83it/s]"
     ]
    },
    {
     "name": "stdout",
     "output_type": "stream",
     "text": [
      "\n",
      "/g/g13/jones289/workspace/hd-cuda-master/hdpy/hdpy/results/1/dude.random.hivrt.rp.atomwise.0.pkl\n",
      "/g/g13/jones289/workspace/hd-cuda-master/hdpy/hdpy/results/1/dude.random.kith.rp.atomwise.0.pkl\n",
      "/g/g13/jones289/workspace/hd-cuda-master/hdpy/hdpy/results/1/dude.random.kith.rp.atomwise.0.pkl\n",
      "/g/g13/jones289/workspace/hd-cuda-master/hdpy/hdpy/results/1/dude.random.ace.rp.atomwise.0.pkl\n"
     ]
    },
    {
     "name": "stderr",
     "output_type": "stream",
     "text": [
      "\r",
      " 16%|█▌        | 6/38 [00:00<00:03,  9.45it/s]"
     ]
    },
    {
     "name": "stdout",
     "output_type": "stream",
     "text": [
      "/g/g13/jones289/workspace/hd-cuda-master/hdpy/hdpy/results/1/dude.random.ace.rp.atomwise.0.pkl\n",
      "/g/g13/jones289/workspace/hd-cuda-master/hdpy/hdpy/results/1/dude.random.hs90a.rp.atomwise.0.pkl\n",
      "/g/g13/jones289/workspace/hd-cuda-master/hdpy/hdpy/results/1/dude.random.hs90a.rp.atomwise.0.pkl\n",
      "/g/g13/jones289/workspace/hd-cuda-master/hdpy/hdpy/results/1/dude.random.pur2.rp.atomwise.0.pkl\n",
      "/g/g13/jones289/workspace/hd-cuda-master/hdpy/hdpy/results/1/dude.random.pur2.rp.atomwise.0.pkl\n"
     ]
    },
    {
     "name": "stderr",
     "output_type": "stream",
     "text": [
      "\r",
      " 21%|██        | 8/38 [00:00<00:02, 11.02it/s]"
     ]
    },
    {
     "name": "stdout",
     "output_type": "stream",
     "text": [
      "/g/g13/jones289/workspace/hd-cuda-master/hdpy/hdpy/results/1/dude.random.pygm.rp.atomwise.0.pkl\n",
      "/g/g13/jones289/workspace/hd-cuda-master/hdpy/hdpy/results/1/dude.random.pygm.rp.atomwise.0.pkl\n",
      "/g/g13/jones289/workspace/hd-cuda-master/hdpy/hdpy/results/1/dude.random.prgr.rp.atomwise.0.pkl\n",
      "/g/g13/jones289/workspace/hd-cuda-master/hdpy/hdpy/results/1/dude.random.prgr.rp.atomwise.0.pkl\n",
      "/g/g13/jones289/workspace/hd-cuda-master/hdpy/hdpy/results/1/dude.random.aces.rp.atomwise.0.pkl\n",
      "/g/g13/jones289/workspace/hd-cuda-master/hdpy/hdpy/results/1/dude.random.aces.rp.atomwise.0.pkl\n"
     ]
    },
    {
     "name": "stderr",
     "output_type": "stream",
     "text": [
      " 29%|██▉       | 11/38 [00:01<00:03,  7.85it/s]"
     ]
    },
    {
     "name": "stdout",
     "output_type": "stream",
     "text": [
      "/g/g13/jones289/workspace/hd-cuda-master/hdpy/hdpy/results/1/dude.random.aldr.rp.atomwise.0.pkl\n",
      "/g/g13/jones289/workspace/hd-cuda-master/hdpy/hdpy/results/1/dude.random.aldr.rp.atomwise.0.pkl\n",
      "/g/g13/jones289/workspace/hd-cuda-master/hdpy/hdpy/results/1/dude.random.egfr.rp.atomwise.0.pkl\n"
     ]
    },
    {
     "name": "stderr",
     "output_type": "stream",
     "text": [
      "\r",
      " 32%|███▏      | 12/38 [00:01<00:04,  5.72it/s]"
     ]
    },
    {
     "name": "stdout",
     "output_type": "stream",
     "text": [
      "/g/g13/jones289/workspace/hd-cuda-master/hdpy/hdpy/results/1/dude.random.egfr.rp.atomwise.0.pkl\n",
      "/g/g13/jones289/workspace/hd-cuda-master/hdpy/hdpy/results/1/dude.random.hivpr.rp.atomwise.0.pkl\n"
     ]
    },
    {
     "name": "stderr",
     "output_type": "stream",
     "text": [
      "\r",
      " 34%|███▍      | 13/38 [00:01<00:04,  5.06it/s]"
     ]
    },
    {
     "name": "stdout",
     "output_type": "stream",
     "text": [
      "/g/g13/jones289/workspace/hd-cuda-master/hdpy/hdpy/results/1/dude.random.hivpr.rp.atomwise.0.pkl\n",
      "/g/g13/jones289/workspace/hd-cuda-master/hdpy/hdpy/results/1/dude.random.pde5a.rp.atomwise.0.pkl\n"
     ]
    },
    {
     "name": "stderr",
     "output_type": "stream",
     "text": [
      "\r",
      " 37%|███▋      | 14/38 [00:02<00:04,  4.89it/s]"
     ]
    },
    {
     "name": "stdout",
     "output_type": "stream",
     "text": [
      "/g/g13/jones289/workspace/hd-cuda-master/hdpy/hdpy/results/1/dude.random.pde5a.rp.atomwise.0.pkl\n",
      "/g/g13/jones289/workspace/hd-cuda-master/hdpy/hdpy/results/1/dude.random.src.rp.atomwise.0.pkl\n"
     ]
    },
    {
     "name": "stderr",
     "output_type": "stream",
     "text": [
      " 42%|████▏     | 16/38 [00:02<00:04,  5.08it/s]"
     ]
    },
    {
     "name": "stdout",
     "output_type": "stream",
     "text": [
      "/g/g13/jones289/workspace/hd-cuda-master/hdpy/hdpy/results/1/dude.random.src.rp.atomwise.0.pkl\n",
      "/g/g13/jones289/workspace/hd-cuda-master/hdpy/hdpy/results/1/dude.random.try1.rp.atomwise.0.pkl\n",
      "/g/g13/jones289/workspace/hd-cuda-master/hdpy/hdpy/results/1/dude.random.try1.rp.atomwise.0.pkl\n"
     ]
    },
    {
     "name": "stderr",
     "output_type": "stream",
     "text": [
      "\r",
      " 45%|████▍     | 17/38 [00:02<00:04,  5.03it/s]"
     ]
    },
    {
     "name": "stdout",
     "output_type": "stream",
     "text": [
      "/g/g13/jones289/workspace/hd-cuda-master/hdpy/hdpy/results/1/dude.random.cdk2.rp.atomwise.0.pkl\n",
      "/g/g13/jones289/workspace/hd-cuda-master/hdpy/hdpy/results/1/dude.random.cdk2.rp.atomwise.0.pkl\n",
      "/g/g13/jones289/workspace/hd-cuda-master/hdpy/hdpy/results/1/dude.random.pgh2.rp.atomwise.0.pkl\n"
     ]
    },
    {
     "name": "stderr",
     "output_type": "stream",
     "text": [
      "\r",
      " 47%|████▋     | 18/38 [00:02<00:03,  5.23it/s]"
     ]
    },
    {
     "name": "stdout",
     "output_type": "stream",
     "text": [
      "/g/g13/jones289/workspace/hd-cuda-master/hdpy/hdpy/results/1/dude.random.pgh2.rp.atomwise.0.pkl\n",
      "/g/g13/jones289/workspace/hd-cuda-master/hdpy/hdpy/results/1/dude.random.mk14.rp.atomwise.0.pkl\n"
     ]
    },
    {
     "name": "stderr",
     "output_type": "stream",
     "text": [
      "\r",
      " 50%|█████     | 19/38 [00:03<00:04,  4.41it/s]"
     ]
    },
    {
     "name": "stdout",
     "output_type": "stream",
     "text": [
      "/g/g13/jones289/workspace/hd-cuda-master/hdpy/hdpy/results/1/dude.random.mk14.rp.atomwise.0.pkl\n",
      "/g/g13/jones289/workspace/hd-cuda-master/hdpy/hdpy/results/1/dude.random.pnph.rp.atomwise.0.pkl\n",
      "/g/g13/jones289/workspace/hd-cuda-master/hdpy/hdpy/results/1/dude.random.pnph.rp.atomwise.0.pkl\n",
      "/g/g13/jones289/workspace/hd-cuda-master/hdpy/hdpy/results/1/dude.random.esr1.rp.atomwise.0.pkl\n"
     ]
    },
    {
     "name": "stderr",
     "output_type": "stream",
     "text": [
      "\r",
      " 55%|█████▌    | 21/38 [00:03<00:03,  5.25it/s]"
     ]
    },
    {
     "name": "stdout",
     "output_type": "stream",
     "text": [
      "/g/g13/jones289/workspace/hd-cuda-master/hdpy/hdpy/results/1/dude.random.esr1.rp.atomwise.0.pkl\n",
      "/g/g13/jones289/workspace/hd-cuda-master/hdpy/hdpy/results/1/dude.random.pparg.rp.atomwise.0.pkl\n"
     ]
    },
    {
     "name": "stderr",
     "output_type": "stream",
     "text": [
      "\r",
      " 58%|█████▊    | 22/38 [00:03<00:03,  4.64it/s]"
     ]
    },
    {
     "name": "stdout",
     "output_type": "stream",
     "text": [
      "/g/g13/jones289/workspace/hd-cuda-master/hdpy/hdpy/results/1/dude.random.pparg.rp.atomwise.0.pkl\n",
      "/g/g13/jones289/workspace/hd-cuda-master/hdpy/hdpy/results/1/dude.random.mcr.rp.atomwise.0.pkl\n",
      "/g/g13/jones289/workspace/hd-cuda-master/hdpy/hdpy/results/1/dude.random.mcr.rp.atomwise.0.pkl\n",
      "/g/g13/jones289/workspace/hd-cuda-master/hdpy/hdpy/results/1/dude.random.inha.rp.atomwise.0.pkl\n"
     ]
    },
    {
     "name": "stderr",
     "output_type": "stream",
     "text": [
      " 66%|██████▌   | 25/38 [00:04<00:01,  6.64it/s]"
     ]
    },
    {
     "name": "stdout",
     "output_type": "stream",
     "text": [
      "/g/g13/jones289/workspace/hd-cuda-master/hdpy/hdpy/results/1/dude.random.inha.rp.atomwise.0.pkl\n",
      "/g/g13/jones289/workspace/hd-cuda-master/hdpy/hdpy/results/1/dude.random.thrb.rp.atomwise.0.pkl\n",
      "/g/g13/jones289/workspace/hd-cuda-master/hdpy/hdpy/results/1/dude.random.thrb.rp.atomwise.0.pkl\n",
      "/g/g13/jones289/workspace/hd-cuda-master/hdpy/hdpy/results/1/dude.random.fa10.rp.atomwise.0.pkl\n"
     ]
    },
    {
     "name": "stderr",
     "output_type": "stream",
     "text": [
      "\r",
      " 68%|██████▊   | 26/38 [00:04<00:01,  6.29it/s]"
     ]
    },
    {
     "name": "stdout",
     "output_type": "stream",
     "text": [
      "/g/g13/jones289/workspace/hd-cuda-master/hdpy/hdpy/results/1/dude.random.fa10.rp.atomwise.0.pkl\n",
      "/g/g13/jones289/workspace/hd-cuda-master/hdpy/hdpy/results/1/dude.random.parp1.rp.atomwise.0.pkl\n"
     ]
    },
    {
     "name": "stderr",
     "output_type": "stream",
     "text": [
      " 74%|███████▎  | 28/38 [00:04<00:01,  6.08it/s]"
     ]
    },
    {
     "name": "stdout",
     "output_type": "stream",
     "text": [
      "/g/g13/jones289/workspace/hd-cuda-master/hdpy/hdpy/results/1/dude.random.parp1.rp.atomwise.0.pkl\n",
      "/g/g13/jones289/workspace/hd-cuda-master/hdpy/hdpy/results/1/dude.random.rxra.rp.atomwise.0.pkl\n",
      "/g/g13/jones289/workspace/hd-cuda-master/hdpy/hdpy/results/1/dude.random.rxra.rp.atomwise.0.pkl\n",
      "/g/g13/jones289/workspace/hd-cuda-master/hdpy/hdpy/results/1/dude.random.ada.rp.atomwise.0.pkl\n"
     ]
    },
    {
     "name": "stderr",
     "output_type": "stream",
     "text": [
      "\r",
      " 79%|███████▉  | 30/38 [00:04<00:01,  7.16it/s]"
     ]
    },
    {
     "name": "stdout",
     "output_type": "stream",
     "text": [
      "/g/g13/jones289/workspace/hd-cuda-master/hdpy/hdpy/results/1/dude.random.ada.rp.atomwise.0.pkl\n",
      "/g/g13/jones289/workspace/hd-cuda-master/hdpy/hdpy/results/1/dude.random.andr.rp.atomwise.0.pkl\n",
      "/g/g13/jones289/workspace/hd-cuda-master/hdpy/hdpy/results/1/dude.random.andr.rp.atomwise.0.pkl\n",
      "/g/g13/jones289/workspace/hd-cuda-master/hdpy/hdpy/results/1/dude.random.vgfr2.rp.atomwise.0.pkl\n"
     ]
    },
    {
     "name": "stderr",
     "output_type": "stream",
     "text": [
      "\r",
      " 82%|████████▏ | 31/38 [00:05<00:01,  6.42it/s]"
     ]
    },
    {
     "name": "stdout",
     "output_type": "stream",
     "text": [
      "/g/g13/jones289/workspace/hd-cuda-master/hdpy/hdpy/results/1/dude.random.vgfr2.rp.atomwise.0.pkl\n",
      "/g/g13/jones289/workspace/hd-cuda-master/hdpy/hdpy/results/1/dude.random.pgh1.rp.atomwise.0.pkl\n",
      "/g/g13/jones289/workspace/hd-cuda-master/hdpy/hdpy/results/1/dude.random.pgh1.rp.atomwise.0.pkl\n"
     ]
    },
    {
     "name": "stderr",
     "output_type": "stream",
     "text": [
      " 89%|████████▉ | 34/38 [00:05<00:00,  8.15it/s]"
     ]
    },
    {
     "name": "stdout",
     "output_type": "stream",
     "text": [
      "/g/g13/jones289/workspace/hd-cuda-master/hdpy/hdpy/results/1/dude.random.ampc.rp.atomwise.0.pkl\n",
      "/g/g13/jones289/workspace/hd-cuda-master/hdpy/hdpy/results/1/dude.random.ampc.rp.atomwise.0.pkl\n",
      "/g/g13/jones289/workspace/hd-cuda-master/hdpy/hdpy/results/1/dude.random.comt.rp.atomwise.0.pkl\n",
      "/g/g13/jones289/workspace/hd-cuda-master/hdpy/hdpy/results/1/dude.random.comt.rp.atomwise.0.pkl\n",
      "/g/g13/jones289/workspace/hd-cuda-master/hdpy/hdpy/results/1/dude.random.nram.rp.atomwise.0.pkl\n"
     ]
    },
    {
     "name": "stderr",
     "output_type": "stream",
     "text": [
      "\r",
      " 95%|█████████▍| 36/38 [00:05<00:00,  8.53it/s]"
     ]
    },
    {
     "name": "stdout",
     "output_type": "stream",
     "text": [
      "/g/g13/jones289/workspace/hd-cuda-master/hdpy/hdpy/results/1/dude.random.nram.rp.atomwise.0.pkl\n",
      "/g/g13/jones289/workspace/hd-cuda-master/hdpy/hdpy/results/1/dude.random.gcr.rp.atomwise.0.pkl\n",
      "/g/g13/jones289/workspace/hd-cuda-master/hdpy/hdpy/results/1/dude.random.gcr.rp.atomwise.0.pkl\n",
      "/g/g13/jones289/workspace/hd-cuda-master/hdpy/hdpy/results/1/dude.random.sahh.rp.atomwise.0.pkl\n",
      "/g/g13/jones289/workspace/hd-cuda-master/hdpy/hdpy/results/1/dude.random.sahh.rp.atomwise.0.pkl\n"
     ]
    },
    {
     "name": "stderr",
     "output_type": "stream",
     "text": [
      "100%|██████████| 38/38 [00:05<00:00,  6.54it/s]\n"
     ]
    },
    {
     "name": "stdout",
     "output_type": "stream",
     "text": [
      "/g/g13/jones289/workspace/hd-cuda-master/hdpy/hdpy/results/1/dude.random.dyr.rp.atomwise.0.pkl\n",
      "/g/g13/jones289/workspace/hd-cuda-master/hdpy/hdpy/results/1/dude.random.dyr.rp.atomwise.0.pkl\n"
     ]
    },
    {
     "name": "stderr",
     "output_type": "stream",
     "text": [
      "\r",
      "  0%|          | 0/38 [00:00<?, ?it/s]"
     ]
    },
    {
     "name": "stdout",
     "output_type": "stream",
     "text": [
      "/g/g13/jones289/workspace/hd-cuda-master/hdpy/hdpy/results/1/dude.random.egfr.rf.None.0.pkl\n",
      "/g/g13/jones289/workspace/hd-cuda-master/hdpy/hdpy/results/1/dude.random.egfr.rf.None.0.pkl\n"
     ]
    },
    {
     "name": "stderr",
     "output_type": "stream",
     "text": [
      "\r",
      "  3%|▎         | 1/38 [00:00<00:07,  4.91it/s]"
     ]
    },
    {
     "name": "stdout",
     "output_type": "stream",
     "text": [
      "/g/g13/jones289/workspace/hd-cuda-master/hdpy/hdpy/results/1/dude.random.pnph.rf.None.0.pkl\n",
      "/g/g13/jones289/workspace/hd-cuda-master/hdpy/hdpy/results/1/dude.random.pnph.rf.None.0.pkl\n",
      "/g/g13/jones289/workspace/hd-cuda-master/hdpy/hdpy/results/1/dude.random.src.rf.None.0.pkl\n",
      "/g/g13/jones289/workspace/hd-cuda-master/hdpy/hdpy/results/1/dude.random.src.rf.None.0.pkl\n"
     ]
    },
    {
     "name": "stderr",
     "output_type": "stream",
     "text": [
      " 11%|█         | 4/38 [00:00<00:04,  7.34it/s]"
     ]
    },
    {
     "name": "stdout",
     "output_type": "stream",
     "text": [
      "/g/g13/jones289/workspace/hd-cuda-master/hdpy/hdpy/results/1/dude.random.try1.rf.None.0.pkl\n",
      "/g/g13/jones289/workspace/hd-cuda-master/hdpy/hdpy/results/1/dude.random.try1.rf.None.0.pkl\n",
      "/g/g13/jones289/workspace/hd-cuda-master/hdpy/hdpy/results/1/dude.random.kith.rf.None.0.pkl\n",
      "/g/g13/jones289/workspace/hd-cuda-master/hdpy/hdpy/results/1/dude.random.kith.rf.None.0.pkl\n",
      "/g/g13/jones289/workspace/hd-cuda-master/hdpy/hdpy/results/1/dude.random.hivpr.rf.None.0.pkl\n"
     ]
    },
    {
     "name": "stderr",
     "output_type": "stream",
     "text": [
      "\r",
      " 16%|█▌        | 6/38 [00:00<00:04,  7.63it/s]"
     ]
    },
    {
     "name": "stdout",
     "output_type": "stream",
     "text": [
      "/g/g13/jones289/workspace/hd-cuda-master/hdpy/hdpy/results/1/dude.random.hivpr.rf.None.0.pkl\n",
      "/g/g13/jones289/workspace/hd-cuda-master/hdpy/hdpy/results/1/dude.random.inha.rf.None.0.pkl\n",
      "/g/g13/jones289/workspace/hd-cuda-master/hdpy/hdpy/results/1/dude.random.inha.rf.None.0.pkl\n",
      "/g/g13/jones289/workspace/hd-cuda-master/hdpy/hdpy/results/1/dude.random.parp1.rf.None.0.pkl\n"
     ]
    },
    {
     "name": "stderr",
     "output_type": "stream",
     "text": [
      "\r",
      " 21%|██        | 8/38 [00:01<00:04,  7.47it/s]"
     ]
    },
    {
     "name": "stdout",
     "output_type": "stream",
     "text": [
      "/g/g13/jones289/workspace/hd-cuda-master/hdpy/hdpy/results/1/dude.random.parp1.rf.None.0.pkl\n",
      "/g/g13/jones289/workspace/hd-cuda-master/hdpy/hdpy/results/1/dude.random.rxra.rf.None.0.pkl\n",
      "/g/g13/jones289/workspace/hd-cuda-master/hdpy/hdpy/results/1/dude.random.rxra.rf.None.0.pkl\n",
      "/g/g13/jones289/workspace/hd-cuda-master/hdpy/hdpy/results/1/dude.random.pgh1.rf.None.0.pkl\n"
     ]
    },
    {
     "name": "stderr",
     "output_type": "stream",
     "text": [
      " 29%|██▉       | 11/38 [00:01<00:03,  8.17it/s]"
     ]
    },
    {
     "name": "stdout",
     "output_type": "stream",
     "text": [
      "/g/g13/jones289/workspace/hd-cuda-master/hdpy/hdpy/results/1/dude.random.pgh1.rf.None.0.pkl\n",
      "/g/g13/jones289/workspace/hd-cuda-master/hdpy/hdpy/results/1/dude.random.gcr.rf.None.0.pkl\n",
      "/g/g13/jones289/workspace/hd-cuda-master/hdpy/hdpy/results/1/dude.random.gcr.rf.None.0.pkl\n",
      "/g/g13/jones289/workspace/hd-cuda-master/hdpy/hdpy/results/1/dude.random.pur2.rf.None.0.pkl\n",
      "/g/g13/jones289/workspace/hd-cuda-master/hdpy/hdpy/results/1/dude.random.pur2.rf.None.0.pkl\n",
      "/g/g13/jones289/workspace/hd-cuda-master/hdpy/hdpy/results/1/dude.random.ampc.rf.None.0.pkl\n"
     ]
    },
    {
     "name": "stderr",
     "output_type": "stream",
     "text": [
      "\r",
      " 37%|███▋      | 14/38 [00:01<00:02,  9.33it/s]"
     ]
    },
    {
     "name": "stdout",
     "output_type": "stream",
     "text": [
      "/g/g13/jones289/workspace/hd-cuda-master/hdpy/hdpy/results/1/dude.random.ampc.rf.None.0.pkl\n",
      "/g/g13/jones289/workspace/hd-cuda-master/hdpy/hdpy/results/1/dude.random.fa10.rf.None.0.pkl\n",
      "/g/g13/jones289/workspace/hd-cuda-master/hdpy/hdpy/results/1/dude.random.fa10.rf.None.0.pkl\n"
     ]
    },
    {
     "name": "stderr",
     "output_type": "stream",
     "text": [
      "\r",
      " 39%|███▉      | 15/38 [00:01<00:02,  8.15it/s]"
     ]
    },
    {
     "name": "stdout",
     "output_type": "stream",
     "text": [
      "/g/g13/jones289/workspace/hd-cuda-master/hdpy/hdpy/results/1/dude.random.ace.rf.None.0.pkl\n",
      "/g/g13/jones289/workspace/hd-cuda-master/hdpy/hdpy/results/1/dude.random.ace.rf.None.0.pkl\n",
      "/g/g13/jones289/workspace/hd-cuda-master/hdpy/hdpy/results/1/dude.random.vgfr2.rf.None.0.pkl\n"
     ]
    },
    {
     "name": "stderr",
     "output_type": "stream",
     "text": [
      " 47%|████▋     | 18/38 [00:02<00:02,  9.55it/s]"
     ]
    },
    {
     "name": "stdout",
     "output_type": "stream",
     "text": [
      "/g/g13/jones289/workspace/hd-cuda-master/hdpy/hdpy/results/1/dude.random.vgfr2.rf.None.0.pkl\n",
      "/g/g13/jones289/workspace/hd-cuda-master/hdpy/hdpy/results/1/dude.random.comt.rf.None.0.pkl\n",
      "/g/g13/jones289/workspace/hd-cuda-master/hdpy/hdpy/results/1/dude.random.comt.rf.None.0.pkl\n",
      "/g/g13/jones289/workspace/hd-cuda-master/hdpy/hdpy/results/1/dude.random.hmdh.rf.None.0.pkl\n",
      "/g/g13/jones289/workspace/hd-cuda-master/hdpy/hdpy/results/1/dude.random.hmdh.rf.None.0.pkl\n",
      "/g/g13/jones289/workspace/hd-cuda-master/hdpy/hdpy/results/1/dude.random.ada.rf.None.0.pkl\n"
     ]
    },
    {
     "name": "stderr",
     "output_type": "stream",
     "text": [
      "\r",
      " 53%|█████▎    | 20/38 [00:02<00:01, 10.04it/s]"
     ]
    },
    {
     "name": "stdout",
     "output_type": "stream",
     "text": [
      "/g/g13/jones289/workspace/hd-cuda-master/hdpy/hdpy/results/1/dude.random.ada.rf.None.0.pkl\n",
      "/g/g13/jones289/workspace/hd-cuda-master/hdpy/hdpy/results/1/dude.random.aldr.rf.None.0.pkl\n",
      "/g/g13/jones289/workspace/hd-cuda-master/hdpy/hdpy/results/1/dude.random.aldr.rf.None.0.pkl\n",
      "/g/g13/jones289/workspace/hd-cuda-master/hdpy/hdpy/results/1/dude.random.dyr.rf.None.0.pkl\n",
      "/g/g13/jones289/workspace/hd-cuda-master/hdpy/hdpy/results/1/dude.random.dyr.rf.None.0.pkl\n"
     ]
    },
    {
     "name": "stderr",
     "output_type": "stream",
     "text": [
      "\r",
      " 58%|█████▊    | 22/38 [00:02<00:01, 10.26it/s]"
     ]
    },
    {
     "name": "stdout",
     "output_type": "stream",
     "text": [
      "/g/g13/jones289/workspace/hd-cuda-master/hdpy/hdpy/results/1/dude.random.pygm.rf.None.0.pkl\n",
      "/g/g13/jones289/workspace/hd-cuda-master/hdpy/hdpy/results/1/dude.random.pygm.rf.None.0.pkl\n",
      "/g/g13/jones289/workspace/hd-cuda-master/hdpy/hdpy/results/1/dude.random.prgr.rf.None.0.pkl\n",
      "/g/g13/jones289/workspace/hd-cuda-master/hdpy/hdpy/results/1/dude.random.prgr.rf.None.0.pkl\n",
      "/g/g13/jones289/workspace/hd-cuda-master/hdpy/hdpy/results/1/dude.random.aces.rf.None.0.pkl\n"
     ]
    },
    {
     "name": "stderr",
     "output_type": "stream",
     "text": [
      " 66%|██████▌   | 25/38 [00:02<00:01,  9.02it/s]"
     ]
    },
    {
     "name": "stdout",
     "output_type": "stream",
     "text": [
      "/g/g13/jones289/workspace/hd-cuda-master/hdpy/hdpy/results/1/dude.random.aces.rf.None.0.pkl\n",
      "/g/g13/jones289/workspace/hd-cuda-master/hdpy/hdpy/results/1/dude.random.bace1.rf.None.0.pkl\n",
      "/g/g13/jones289/workspace/hd-cuda-master/hdpy/hdpy/results/1/dude.random.bace1.rf.None.0.pkl\n",
      "/g/g13/jones289/workspace/hd-cuda-master/hdpy/hdpy/results/1/dude.random.mk14.rf.None.0.pkl\n",
      "/g/g13/jones289/workspace/hd-cuda-master/hdpy/hdpy/results/1/dude.random.mk14.rf.None.0.pkl\n"
     ]
    },
    {
     "name": "stderr",
     "output_type": "stream",
     "text": [
      " 71%|███████   | 27/38 [00:03<00:01,  7.39it/s]"
     ]
    },
    {
     "name": "stdout",
     "output_type": "stream",
     "text": [
      "/g/g13/jones289/workspace/hd-cuda-master/hdpy/hdpy/results/1/dude.random.esr1.rf.None.0.pkl\n",
      "/g/g13/jones289/workspace/hd-cuda-master/hdpy/hdpy/results/1/dude.random.esr1.rf.None.0.pkl\n",
      "/g/g13/jones289/workspace/hd-cuda-master/hdpy/hdpy/results/1/dude.random.pgh2.rf.None.0.pkl\n"
     ]
    },
    {
     "name": "stderr",
     "output_type": "stream",
     "text": [
      " 79%|███████▉  | 30/38 [00:03<00:00,  8.88it/s]"
     ]
    },
    {
     "name": "stdout",
     "output_type": "stream",
     "text": [
      "/g/g13/jones289/workspace/hd-cuda-master/hdpy/hdpy/results/1/dude.random.pgh2.rf.None.0.pkl\n",
      "/g/g13/jones289/workspace/hd-cuda-master/hdpy/hdpy/results/1/dude.random.thrb.rf.None.0.pkl\n",
      "/g/g13/jones289/workspace/hd-cuda-master/hdpy/hdpy/results/1/dude.random.thrb.rf.None.0.pkl\n",
      "/g/g13/jones289/workspace/hd-cuda-master/hdpy/hdpy/results/1/dude.random.andr.rf.None.0.pkl\n",
      "/g/g13/jones289/workspace/hd-cuda-master/hdpy/hdpy/results/1/dude.random.andr.rf.None.0.pkl\n"
     ]
    },
    {
     "name": "stderr",
     "output_type": "stream",
     "text": [
      "\r",
      " 82%|████████▏ | 31/38 [00:03<00:00,  7.86it/s]"
     ]
    },
    {
     "name": "stdout",
     "output_type": "stream",
     "text": [
      "/g/g13/jones289/workspace/hd-cuda-master/hdpy/hdpy/results/1/dude.random.pde5a.rf.None.0.pkl\n",
      "/g/g13/jones289/workspace/hd-cuda-master/hdpy/hdpy/results/1/dude.random.pde5a.rf.None.0.pkl\n",
      "/g/g13/jones289/workspace/hd-cuda-master/hdpy/hdpy/results/1/dude.random.hs90a.rf.None.0.pkl\n"
     ]
    },
    {
     "name": "stderr",
     "output_type": "stream",
     "text": [
      "\r",
      " 87%|████████▋ | 33/38 [00:03<00:00,  9.64it/s]"
     ]
    },
    {
     "name": "stdout",
     "output_type": "stream",
     "text": [
      "/g/g13/jones289/workspace/hd-cuda-master/hdpy/hdpy/results/1/dude.random.hs90a.rf.None.0.pkl\n",
      "/g/g13/jones289/workspace/hd-cuda-master/hdpy/hdpy/results/1/dude.random.mcr.rf.None.0.pkl\n",
      "/g/g13/jones289/workspace/hd-cuda-master/hdpy/hdpy/results/1/dude.random.mcr.rf.None.0.pkl\n",
      "/g/g13/jones289/workspace/hd-cuda-master/hdpy/hdpy/results/1/dude.random.sahh.rf.None.0.pkl\n",
      "/g/g13/jones289/workspace/hd-cuda-master/hdpy/hdpy/results/1/dude.random.sahh.rf.None.0.pkl\n",
      "/g/g13/jones289/workspace/hd-cuda-master/hdpy/hdpy/results/1/dude.random.pparg.rf.None.0.pkl\n"
     ]
    },
    {
     "name": "stderr",
     "output_type": "stream",
     "text": [
      "\r",
      " 92%|█████████▏| 35/38 [00:04<00:00,  9.26it/s]"
     ]
    },
    {
     "name": "stdout",
     "output_type": "stream",
     "text": [
      "/g/g13/jones289/workspace/hd-cuda-master/hdpy/hdpy/results/1/dude.random.pparg.rf.None.0.pkl\n",
      "/g/g13/jones289/workspace/hd-cuda-master/hdpy/hdpy/results/1/dude.random.hivrt.rf.None.0.pkl\n",
      "/g/g13/jones289/workspace/hd-cuda-master/hdpy/hdpy/results/1/dude.random.hivrt.rf.None.0.pkl\n",
      "/g/g13/jones289/workspace/hd-cuda-master/hdpy/hdpy/results/1/dude.random.cdk2.rf.None.0.pkl\n"
     ]
    },
    {
     "name": "stderr",
     "output_type": "stream",
     "text": [
      "100%|██████████| 38/38 [00:04<00:00,  8.53it/s]\n"
     ]
    },
    {
     "name": "stdout",
     "output_type": "stream",
     "text": [
      "/g/g13/jones289/workspace/hd-cuda-master/hdpy/hdpy/results/1/dude.random.cdk2.rf.None.0.pkl\n",
      "/g/g13/jones289/workspace/hd-cuda-master/hdpy/hdpy/results/1/dude.random.nram.rf.None.0.pkl\n",
      "/g/g13/jones289/workspace/hd-cuda-master/hdpy/hdpy/results/1/dude.random.nram.rf.None.0.pkl\n"
     ]
    },
    {
     "name": "stderr",
     "output_type": "stream",
     "text": [
      "\r",
      "  0%|          | 0/38 [00:00<?, ?it/s]"
     ]
    },
    {
     "name": "stdout",
     "output_type": "stream",
     "text": [
      "/g/g13/jones289/workspace/hd-cuda-master/hdpy/hdpy/results/1/dude.random.fa10.mlp.None.0.pkl\n"
     ]
    },
    {
     "name": "stderr",
     "output_type": "stream",
     "text": [
      "\r",
      "  3%|▎         | 1/38 [00:00<00:05,  6.48it/s]"
     ]
    },
    {
     "name": "stdout",
     "output_type": "stream",
     "text": [
      "/g/g13/jones289/workspace/hd-cuda-master/hdpy/hdpy/results/1/dude.random.fa10.mlp.None.0.pkl\n",
      "/g/g13/jones289/workspace/hd-cuda-master/hdpy/hdpy/results/1/dude.random.bace1.mlp.None.0.pkl\n",
      "/g/g13/jones289/workspace/hd-cuda-master/hdpy/hdpy/results/1/dude.random.bace1.mlp.None.0.pkl\n"
     ]
    },
    {
     "name": "stderr",
     "output_type": "stream",
     "text": [
      "  8%|▊         | 3/38 [00:00<00:04,  7.67it/s]"
     ]
    },
    {
     "name": "stdout",
     "output_type": "stream",
     "text": [
      "/g/g13/jones289/workspace/hd-cuda-master/hdpy/hdpy/results/1/dude.random.pgh1.mlp.None.0.pkl\n",
      "/g/g13/jones289/workspace/hd-cuda-master/hdpy/hdpy/results/1/dude.random.pgh1.mlp.None.0.pkl\n",
      "/g/g13/jones289/workspace/hd-cuda-master/hdpy/hdpy/results/1/dude.random.cdk2.mlp.None.0.pkl\n"
     ]
    },
    {
     "name": "stderr",
     "output_type": "stream",
     "text": [
      "\r",
      " 11%|█         | 4/38 [00:00<00:05,  6.38it/s]"
     ]
    },
    {
     "name": "stdout",
     "output_type": "stream",
     "text": [
      "/g/g13/jones289/workspace/hd-cuda-master/hdpy/hdpy/results/1/dude.random.cdk2.mlp.None.0.pkl\n",
      "/g/g13/jones289/workspace/hd-cuda-master/hdpy/hdpy/results/1/dude.random.gcr.mlp.None.0.pkl\n"
     ]
    },
    {
     "name": "stderr",
     "output_type": "stream",
     "text": [
      "\r",
      " 13%|█▎        | 5/38 [00:00<00:05,  6.44it/s]"
     ]
    },
    {
     "name": "stdout",
     "output_type": "stream",
     "text": [
      "/g/g13/jones289/workspace/hd-cuda-master/hdpy/hdpy/results/1/dude.random.gcr.mlp.None.0.pkl\n",
      "/g/g13/jones289/workspace/hd-cuda-master/hdpy/hdpy/results/1/dude.random.src.mlp.None.0.pkl\n",
      "/g/g13/jones289/workspace/hd-cuda-master/hdpy/hdpy/results/1/dude.random.src.mlp.None.0.pkl\n"
     ]
    },
    {
     "name": "stderr",
     "output_type": "stream",
     "text": [
      " 21%|██        | 8/38 [00:01<00:04,  7.45it/s]"
     ]
    },
    {
     "name": "stdout",
     "output_type": "stream",
     "text": [
      "/g/g13/jones289/workspace/hd-cuda-master/hdpy/hdpy/results/1/dude.random.comt.mlp.None.0.pkl\n",
      "/g/g13/jones289/workspace/hd-cuda-master/hdpy/hdpy/results/1/dude.random.comt.mlp.None.0.pkl\n",
      "/g/g13/jones289/workspace/hd-cuda-master/hdpy/hdpy/results/1/dude.random.ada.mlp.None.0.pkl\n",
      "/g/g13/jones289/workspace/hd-cuda-master/hdpy/hdpy/results/1/dude.random.ada.mlp.None.0.pkl\n",
      "/g/g13/jones289/workspace/hd-cuda-master/hdpy/hdpy/results/1/dude.random.mk14.mlp.None.0.pkl\n"
     ]
    },
    {
     "name": "stderr",
     "output_type": "stream",
     "text": [
      "\r",
      " 24%|██▎       | 9/38 [00:01<00:04,  6.28it/s]"
     ]
    },
    {
     "name": "stdout",
     "output_type": "stream",
     "text": [
      "/g/g13/jones289/workspace/hd-cuda-master/hdpy/hdpy/results/1/dude.random.mk14.mlp.None.0.pkl\n",
      "/g/g13/jones289/workspace/hd-cuda-master/hdpy/hdpy/results/1/dude.random.sahh.mlp.None.0.pkl\n",
      "/g/g13/jones289/workspace/hd-cuda-master/hdpy/hdpy/results/1/dude.random.sahh.mlp.None.0.pkl\n",
      "/g/g13/jones289/workspace/hd-cuda-master/hdpy/hdpy/results/1/dude.random.ace.mlp.None.0.pkl\n"
     ]
    },
    {
     "name": "stderr",
     "output_type": "stream",
     "text": [
      "\r",
      " 29%|██▉       | 11/38 [00:01<00:03,  7.46it/s]"
     ]
    },
    {
     "name": "stdout",
     "output_type": "stream",
     "text": [
      "/g/g13/jones289/workspace/hd-cuda-master/hdpy/hdpy/results/1/dude.random.ace.mlp.None.0.pkl\n",
      "/g/g13/jones289/workspace/hd-cuda-master/hdpy/hdpy/results/1/dude.random.pparg.mlp.None.0.pkl\n",
      "/g/g13/jones289/workspace/hd-cuda-master/hdpy/hdpy/results/1/dude.random.pparg.mlp.None.0.pkl\n"
     ]
    },
    {
     "name": "stderr",
     "output_type": "stream",
     "text": [
      " 34%|███▍      | 13/38 [00:01<00:03,  6.73it/s]"
     ]
    },
    {
     "name": "stdout",
     "output_type": "stream",
     "text": [
      "/g/g13/jones289/workspace/hd-cuda-master/hdpy/hdpy/results/1/dude.random.vgfr2.mlp.None.0.pkl\n",
      "/g/g13/jones289/workspace/hd-cuda-master/hdpy/hdpy/results/1/dude.random.vgfr2.mlp.None.0.pkl\n",
      "/g/g13/jones289/workspace/hd-cuda-master/hdpy/hdpy/results/1/dude.random.hs90a.mlp.None.0.pkl\n"
     ]
    },
    {
     "name": "stderr",
     "output_type": "stream",
     "text": [
      "\r",
      " 39%|███▉      | 15/38 [00:02<00:02,  8.45it/s]"
     ]
    },
    {
     "name": "stdout",
     "output_type": "stream",
     "text": [
      "/g/g13/jones289/workspace/hd-cuda-master/hdpy/hdpy/results/1/dude.random.hs90a.mlp.None.0.pkl\n",
      "/g/g13/jones289/workspace/hd-cuda-master/hdpy/hdpy/results/1/dude.random.nram.mlp.None.0.pkl\n",
      "/g/g13/jones289/workspace/hd-cuda-master/hdpy/hdpy/results/1/dude.random.nram.mlp.None.0.pkl\n",
      "/g/g13/jones289/workspace/hd-cuda-master/hdpy/hdpy/results/1/dude.random.kith.mlp.None.0.pkl\n",
      "/g/g13/jones289/workspace/hd-cuda-master/hdpy/hdpy/results/1/dude.random.kith.mlp.None.0.pkl\n",
      "/g/g13/jones289/workspace/hd-cuda-master/hdpy/hdpy/results/1/dude.random.hivpr.mlp.None.0.pkl\n"
     ]
    },
    {
     "name": "stderr",
     "output_type": "stream",
     "text": [
      "\r",
      " 45%|████▍     | 17/38 [00:02<00:02,  8.41it/s]"
     ]
    },
    {
     "name": "stdout",
     "output_type": "stream",
     "text": [
      "/g/g13/jones289/workspace/hd-cuda-master/hdpy/hdpy/results/1/dude.random.hivpr.mlp.None.0.pkl\n",
      "/g/g13/jones289/workspace/hd-cuda-master/hdpy/hdpy/results/1/dude.random.try1.mlp.None.0.pkl\n",
      "/g/g13/jones289/workspace/hd-cuda-master/hdpy/hdpy/results/1/dude.random.try1.mlp.None.0.pkl\n",
      "/g/g13/jones289/workspace/hd-cuda-master/hdpy/hdpy/results/1/dude.random.mcr.mlp.None.0.pkl\n"
     ]
    },
    {
     "name": "stderr",
     "output_type": "stream",
     "text": [
      " 55%|█████▌    | 21/38 [00:02<00:01, 10.98it/s]"
     ]
    },
    {
     "name": "stdout",
     "output_type": "stream",
     "text": [
      "/g/g13/jones289/workspace/hd-cuda-master/hdpy/hdpy/results/1/dude.random.mcr.mlp.None.0.pkl\n",
      "/g/g13/jones289/workspace/hd-cuda-master/hdpy/hdpy/results/1/dude.random.pur2.mlp.None.0.pkl\n",
      "/g/g13/jones289/workspace/hd-cuda-master/hdpy/hdpy/results/1/dude.random.pur2.mlp.None.0.pkl\n",
      "/g/g13/jones289/workspace/hd-cuda-master/hdpy/hdpy/results/1/dude.random.aldr.mlp.None.0.pkl\n",
      "/g/g13/jones289/workspace/hd-cuda-master/hdpy/hdpy/results/1/dude.random.aldr.mlp.None.0.pkl\n",
      "/g/g13/jones289/workspace/hd-cuda-master/hdpy/hdpy/results/1/dude.random.ampc.mlp.None.0.pkl\n",
      "/g/g13/jones289/workspace/hd-cuda-master/hdpy/hdpy/results/1/dude.random.ampc.mlp.None.0.pkl\n",
      "/g/g13/jones289/workspace/hd-cuda-master/hdpy/hdpy/results/1/dude.random.esr1.mlp.None.0.pkl\n"
     ]
    },
    {
     "name": "stderr",
     "output_type": "stream",
     "text": [
      "\r",
      " 61%|██████    | 23/38 [00:02<00:01, 10.99it/s]"
     ]
    },
    {
     "name": "stdout",
     "output_type": "stream",
     "text": [
      "/g/g13/jones289/workspace/hd-cuda-master/hdpy/hdpy/results/1/dude.random.esr1.mlp.None.0.pkl\n",
      "/g/g13/jones289/workspace/hd-cuda-master/hdpy/hdpy/results/1/dude.random.prgr.mlp.None.0.pkl\n",
      "/g/g13/jones289/workspace/hd-cuda-master/hdpy/hdpy/results/1/dude.random.prgr.mlp.None.0.pkl\n",
      "/g/g13/jones289/workspace/hd-cuda-master/hdpy/hdpy/results/1/dude.random.pde5a.mlp.None.0.pkl\n"
     ]
    },
    {
     "name": "stderr",
     "output_type": "stream",
     "text": [
      "\r",
      " 66%|██████▌   | 25/38 [00:03<00:01,  8.88it/s]"
     ]
    },
    {
     "name": "stdout",
     "output_type": "stream",
     "text": [
      "/g/g13/jones289/workspace/hd-cuda-master/hdpy/hdpy/results/1/dude.random.pde5a.mlp.None.0.pkl\n",
      "/g/g13/jones289/workspace/hd-cuda-master/hdpy/hdpy/results/1/dude.random.aces.mlp.None.0.pkl\n",
      "/g/g13/jones289/workspace/hd-cuda-master/hdpy/hdpy/results/1/dude.random.aces.mlp.None.0.pkl\n"
     ]
    },
    {
     "name": "stderr",
     "output_type": "stream",
     "text": [
      " 71%|███████   | 27/38 [00:03<00:01,  8.45it/s]"
     ]
    },
    {
     "name": "stdout",
     "output_type": "stream",
     "text": [
      "/g/g13/jones289/workspace/hd-cuda-master/hdpy/hdpy/results/1/dude.random.thrb.mlp.None.0.pkl\n",
      "/g/g13/jones289/workspace/hd-cuda-master/hdpy/hdpy/results/1/dude.random.thrb.mlp.None.0.pkl\n",
      "/g/g13/jones289/workspace/hd-cuda-master/hdpy/hdpy/results/1/dude.random.pnph.mlp.None.0.pkl\n"
     ]
    },
    {
     "name": "stderr",
     "output_type": "stream",
     "text": [
      "\r",
      " 74%|███████▎  | 28/38 [00:03<00:01,  8.62it/s]"
     ]
    },
    {
     "name": "stdout",
     "output_type": "stream",
     "text": [
      "/g/g13/jones289/workspace/hd-cuda-master/hdpy/hdpy/results/1/dude.random.pnph.mlp.None.0.pkl\n",
      "/g/g13/jones289/workspace/hd-cuda-master/hdpy/hdpy/results/1/dude.random.pgh2.mlp.None.0.pkl\n",
      "/g/g13/jones289/workspace/hd-cuda-master/hdpy/hdpy/results/1/dude.random.pgh2.mlp.None.0.pkl\n"
     ]
    },
    {
     "name": "stderr",
     "output_type": "stream",
     "text": [
      " 82%|████████▏ | 31/38 [00:03<00:00,  9.46it/s]"
     ]
    },
    {
     "name": "stdout",
     "output_type": "stream",
     "text": [
      "/g/g13/jones289/workspace/hd-cuda-master/hdpy/hdpy/results/1/dude.random.inha.mlp.None.0.pkl\n",
      "/g/g13/jones289/workspace/hd-cuda-master/hdpy/hdpy/results/1/dude.random.inha.mlp.None.0.pkl\n",
      "/g/g13/jones289/workspace/hd-cuda-master/hdpy/hdpy/results/1/dude.random.andr.mlp.None.0.pkl\n",
      "/g/g13/jones289/workspace/hd-cuda-master/hdpy/hdpy/results/1/dude.random.andr.mlp.None.0.pkl\n",
      "/g/g13/jones289/workspace/hd-cuda-master/hdpy/hdpy/results/1/dude.random.hmdh.mlp.None.0.pkl\n",
      "/g/g13/jones289/workspace/hd-cuda-master/hdpy/hdpy/results/1/dude.random.hmdh.mlp.None.0.pkl\n",
      "/g/g13/jones289/workspace/hd-cuda-master/hdpy/hdpy/results/1/dude.random.parp1.mlp.None.0.pkl\n",
      "/g/g13/jones289/workspace/hd-cuda-master/hdpy/hdpy/results/1/dude.random.parp1.mlp.None.0.pkl\n"
     ]
    },
    {
     "name": "stderr",
     "output_type": "stream",
     "text": [
      " 92%|█████████▏| 35/38 [00:04<00:00,  9.21it/s]"
     ]
    },
    {
     "name": "stdout",
     "output_type": "stream",
     "text": [
      "/g/g13/jones289/workspace/hd-cuda-master/hdpy/hdpy/results/1/dude.random.rxra.mlp.None.0.pkl\n",
      "/g/g13/jones289/workspace/hd-cuda-master/hdpy/hdpy/results/1/dude.random.rxra.mlp.None.0.pkl\n",
      "/g/g13/jones289/workspace/hd-cuda-master/hdpy/hdpy/results/1/dude.random.pygm.mlp.None.0.pkl\n",
      "/g/g13/jones289/workspace/hd-cuda-master/hdpy/hdpy/results/1/dude.random.pygm.mlp.None.0.pkl\n",
      "/g/g13/jones289/workspace/hd-cuda-master/hdpy/hdpy/results/1/dude.random.hivrt.mlp.None.0.pkl\n",
      "/g/g13/jones289/workspace/hd-cuda-master/hdpy/hdpy/results/1/dude.random.hivrt.mlp.None.0.pkl\n",
      "/g/g13/jones289/workspace/hd-cuda-master/hdpy/hdpy/results/1/dude.random.egfr.mlp.None.0.pkl\n"
     ]
    },
    {
     "name": "stderr",
     "output_type": "stream",
     "text": [
      "\r",
      " 97%|█████████▋| 37/38 [00:04<00:00,  8.58it/s]"
     ]
    },
    {
     "name": "stdout",
     "output_type": "stream",
     "text": [
      "/g/g13/jones289/workspace/hd-cuda-master/hdpy/hdpy/results/1/dude.random.egfr.mlp.None.0.pkl\n",
      "/g/g13/jones289/workspace/hd-cuda-master/hdpy/hdpy/results/1/dude.random.dyr.mlp.None.0.pkl\n",
      "/g/g13/jones289/workspace/hd-cuda-master/hdpy/hdpy/results/1/dude.random.dyr.mlp.None.0.pkl\n"
     ]
    },
    {
     "name": "stderr",
     "output_type": "stream",
     "text": [
      "100%|██████████| 38/38 [00:04<00:00,  8.14it/s]\n"
     ]
    },
    {
     "data": {
      "image/png": "[encoded data removed]",
      "text/plain": [
       "<Figure size 864x720 with 2 Axes>"
      ]
     },
     "metadata": {
      "needs_background": "light"
     },
     "output_type": "display_data"
    }
   ],
   "source": [
    "dude_enrich_f, dude_enrich_1_ax, dude_enrich_10_ax, model_metric_dict = aggregate_dude_results(dataset=\"dude\", split=\"random\")\n"
   ]
  },
  {
   "cell_type": "code",
   "execution_count": 11,
   "metadata": {},
   "outputs": [
    {
     "data": {
      "text/plain": [
       "dict_keys(['model', 'enrich-1-mean', 'enrich-1-std', 'enrich-10-mean', 'enrich-10-std', 'train_time', 'test_time', 'train_size', 'test_size'])"
      ]
     },
     "execution_count": 11,
     "metadata": {},
     "output_type": "execute_result"
    }
   ],
   "source": [
    "model_metric_dict.keys()"
   ]
  },
  {
   "cell_type": "code",
   "execution_count": 12,
   "metadata": {},
   "outputs": [
    {
     "data": {
      "text/plain": [
       "[('model', 266),\n",
       " ('enrich-1-mean', 266),\n",
       " ('enrich-1-std', 266),\n",
       " ('enrich-10-mean', 266),\n",
       " ('enrich-10-std', 266),\n",
       " ('train_time', 266),\n",
       " ('test_time', 266),\n",
       " ('train_size', 266),\n",
       " ('test_size', 266)]"
      ]
     },
     "execution_count": 12,
     "metadata": {},
     "output_type": "execute_result"
    }
   ],
   "source": [
    "[(x[0], len(x[1])) for x in model_metric_dict.items()]"
   ]
  },
  {
   "cell_type": "code",
   "execution_count": 13,
   "metadata": {},
   "outputs": [
    {
     "data": {
      "text/html": [
       "<div>\n",
       "<style scoped>\n",
       "    .dataframe tbody tr th:only-of-type {\n",
       "        vertical-align: middle;\n",
       "    }\n",
       "\n",
       "    .dataframe tbody tr th {\n",
       "        vertical-align: top;\n",
       "    }\n",
       "\n",
       "    .dataframe thead th {\n",
       "        text-align: right;\n",
       "    }\n",
       "</style>\n",
       "<table border=\"1\" class=\"dataframe\">\n",
       "  <thead>\n",
       "    <tr style=\"text-align: right;\">\n",
       "      <th></th>\n",
       "      <th>model</th>\n",
       "      <th>enrich-1-mean</th>\n",
       "      <th>enrich-1-std</th>\n",
       "      <th>enrich-10-mean</th>\n",
       "      <th>enrich-10-std</th>\n",
       "      <th>train_time</th>\n",
       "      <th>test_time</th>\n",
       "      <th>train_size</th>\n",
       "      <th>test_size</th>\n",
       "    </tr>\n",
       "  </thead>\n",
       "  <tbody>\n",
       "    <tr>\n",
       "      <th>0</th>\n",
       "      <td>smiles-pe.atomwise.0</td>\n",
       "      <td>55.000004</td>\n",
       "      <td>0.0</td>\n",
       "      <td>9.444445</td>\n",
       "      <td>0.0</td>\n",
       "      <td>4.951921</td>\n",
       "      <td>0.000329</td>\n",
       "      <td>23680.0</td>\n",
       "      <td>2970.0</td>\n",
       "    </tr>\n",
       "    <tr>\n",
       "      <th>1</th>\n",
       "      <td>smiles-pe.atomwise.0</td>\n",
       "      <td>62.555557</td>\n",
       "      <td>0.0</td>\n",
       "      <td>9.877193</td>\n",
       "      <td>0.0</td>\n",
       "      <td>0.968626</td>\n",
       "      <td>0.000298</td>\n",
       "      <td>4421.0</td>\n",
       "      <td>563.0</td>\n",
       "    </tr>\n",
       "    <tr>\n",
       "      <th>2</th>\n",
       "      <td>smiles-pe.atomwise.0</td>\n",
       "      <td>50.428574</td>\n",
       "      <td>0.0</td>\n",
       "      <td>8.404762</td>\n",
       "      <td>0.0</td>\n",
       "      <td>0.583727</td>\n",
       "      <td>0.000352</td>\n",
       "      <td>2861.0</td>\n",
       "      <td>353.0</td>\n",
       "    </tr>\n",
       "    <tr>\n",
       "      <th>3</th>\n",
       "      <td>smiles-pe.atomwise.0</td>\n",
       "      <td>58.000000</td>\n",
       "      <td>0.0</td>\n",
       "      <td>7.250000</td>\n",
       "      <td>0.0</td>\n",
       "      <td>0.397922</td>\n",
       "      <td>0.000341</td>\n",
       "      <td>1855.0</td>\n",
       "      <td>232.0</td>\n",
       "    </tr>\n",
       "    <tr>\n",
       "      <th>4</th>\n",
       "      <td>smiles-pe.atomwise.0</td>\n",
       "      <td>74.080002</td>\n",
       "      <td>0.0</td>\n",
       "      <td>9.851064</td>\n",
       "      <td>0.0</td>\n",
       "      <td>0.816334</td>\n",
       "      <td>0.000357</td>\n",
       "      <td>3697.0</td>\n",
       "      <td>463.0</td>\n",
       "    </tr>\n",
       "    <tr>\n",
       "      <th>...</th>\n",
       "      <td>...</td>\n",
       "      <td>...</td>\n",
       "      <td>...</td>\n",
       "      <td>...</td>\n",
       "      <td>...</td>\n",
       "      <td>...</td>\n",
       "      <td>...</td>\n",
       "      <td>...</td>\n",
       "      <td>...</td>\n",
       "    </tr>\n",
       "    <tr>\n",
       "      <th>261</th>\n",
       "      <td>mlp</td>\n",
       "      <td>62.555556</td>\n",
       "      <td>0.0</td>\n",
       "      <td>9.877193</td>\n",
       "      <td>0.0</td>\n",
       "      <td>1.410702</td>\n",
       "      <td>0.005505</td>\n",
       "      <td>4421.0</td>\n",
       "      <td>563.0</td>\n",
       "    </tr>\n",
       "    <tr>\n",
       "      <th>262</th>\n",
       "      <td>mlp</td>\n",
       "      <td>50.428571</td>\n",
       "      <td>0.0</td>\n",
       "      <td>9.805556</td>\n",
       "      <td>0.0</td>\n",
       "      <td>1.474520</td>\n",
       "      <td>0.003399</td>\n",
       "      <td>2861.0</td>\n",
       "      <td>353.0</td>\n",
       "    </tr>\n",
       "    <tr>\n",
       "      <th>263</th>\n",
       "      <td>mlp</td>\n",
       "      <td>7.350000</td>\n",
       "      <td>0.0</td>\n",
       "      <td>7.350000</td>\n",
       "      <td>0.0</td>\n",
       "      <td>0.098801</td>\n",
       "      <td>0.001518</td>\n",
       "      <td>1156.0</td>\n",
       "      <td>147.0</td>\n",
       "    </tr>\n",
       "    <tr>\n",
       "      <th>264</th>\n",
       "      <td>mlp</td>\n",
       "      <td>71.597384</td>\n",
       "      <td>0.0</td>\n",
       "      <td>9.761299</td>\n",
       "      <td>0.0</td>\n",
       "      <td>1.763929</td>\n",
       "      <td>0.036379</td>\n",
       "      <td>25336.0</td>\n",
       "      <td>3178.0</td>\n",
       "    </tr>\n",
       "    <tr>\n",
       "      <th>265</th>\n",
       "      <td>mlp</td>\n",
       "      <td>52.037037</td>\n",
       "      <td>0.0</td>\n",
       "      <td>9.595482</td>\n",
       "      <td>0.0</td>\n",
       "      <td>1.072388</td>\n",
       "      <td>0.036636</td>\n",
       "      <td>11241.0</td>\n",
       "      <td>1405.0</td>\n",
       "    </tr>\n",
       "  </tbody>\n",
       "</table>\n",
       "<p>266 rows × 9 columns</p>\n",
       "</div>"
      ],
      "text/plain": [
       "                    model  enrich-1-mean  enrich-1-std  enrich-10-mean  \\\n",
       "0    smiles-pe.atomwise.0      55.000004           0.0        9.444445   \n",
       "1    smiles-pe.atomwise.0      62.555557           0.0        9.877193   \n",
       "2    smiles-pe.atomwise.0      50.428574           0.0        8.404762   \n",
       "3    smiles-pe.atomwise.0      58.000000           0.0        7.250000   \n",
       "4    smiles-pe.atomwise.0      74.080002           0.0        9.851064   \n",
       "..                    ...            ...           ...             ...   \n",
       "261                   mlp      62.555556           0.0        9.877193   \n",
       "262                   mlp      50.428571           0.0        9.805556   \n",
       "263                   mlp       7.350000           0.0        7.350000   \n",
       "264                   mlp      71.597384           0.0        9.761299   \n",
       "265                   mlp      52.037037           0.0        9.595482   \n",
       "\n",
       "     enrich-10-std  train_time  test_time  train_size  test_size  \n",
       "0              0.0    4.951921   0.000329     23680.0     2970.0  \n",
       "1              0.0    0.968626   0.000298      4421.0      563.0  \n",
       "2              0.0    0.583727   0.000352      2861.0      353.0  \n",
       "3              0.0    0.397922   0.000341      1855.0      232.0  \n",
       "4              0.0    0.816334   0.000357      3697.0      463.0  \n",
       "..             ...         ...        ...         ...        ...  \n",
       "261            0.0    1.410702   0.005505      4421.0      563.0  \n",
       "262            0.0    1.474520   0.003399      2861.0      353.0  \n",
       "263            0.0    0.098801   0.001518      1156.0      147.0  \n",
       "264            0.0    1.763929   0.036379     25336.0     3178.0  \n",
       "265            0.0    1.072388   0.036636     11241.0     1405.0  \n",
       "\n",
       "[266 rows x 9 columns]"
      ]
     },
     "execution_count": 13,
     "metadata": {},
     "output_type": "execute_result"
    }
   ],
   "source": [
    "model_metric_df = pd.DataFrame(model_metric_dict)\n",
    "\n",
    "# for col in model_metric_df.columns:\n",
    "#     model_model_metric_df[col].apply(lambda x: x[0])\n",
    "#     model_metric_df[col].apply(lambda x: x[1])\n",
    "#     model_metric_df[col].apply(lambda x: x[2])\n",
    "    \n",
    "# model_metric_df_list = [pd.DataFrame({\"metric\": [tup[0] for tup in model_metric_df[col].values],\n",
    "#                                       \"enrich-1\": [tup[1] for tup in model_metric_df[col].values],\n",
    "#                                       \"enrich-10\": [tup[2] for tup in model_metric_df[col].values]\n",
    "#                                       \"model\": [col]*len(model_metric_df)} for col in model_metric_df.columns)]\n",
    "\n",
    "\n",
    "# model_metric_df = pd.concat(model_metric_df_list)\n",
    "\n",
    "# model_metric_df[\"latency\"] = model_metric_df[\"test_time\"] / model_metric_df[\"test_size\"]\n",
    "\n",
    "model_metric_df\n"
   ]
  },
  {
   "cell_type": "code",
   "execution_count": 14,
   "metadata": {},
   "outputs": [],
   "source": [
    "# model_metric_df['enrich-1'] = model_metric_df['enrich-1'].apply(lambda x: float(np.array(x)))\n",
    "# model_metric_df['enrich-10'] = model_metric_df['enrich-10'].apply(lambda x: float(np.array(x)))"
   ]
  },
  {
   "cell_type": "markdown",
   "metadata": {},
   "source": [
    "## Vina Docking baseline"
   ]
  },
  {
   "cell_type": "code",
   "execution_count": 15,
   "metadata": {},
   "outputs": [
    {
     "name": "stdout",
     "output_type": "stream",
     "text": [
      "pgh1 1 /p/lustre1/jones289/DUDE-38/pgh1-active-summary.txt\n",
      "(941, 11)\n",
      "rxra 2 /p/lustre1/jones289/DUDE-38/rxra-active-summary.txt\n",
      "(568, 11)\n",
      "pnph 3 /p/lustre1/jones289/DUDE-38/pnph-active-summary.txt\n",
      "(655, 11)\n",
      "ampc 4 /p/lustre1/jones289/DUDE-38/ampc-active-summary.txt\n",
      "(295, 11)\n",
      "try1 5 /p/lustre1/jones289/DUDE-38/try1-active-summary.txt\n",
      "(782, 11)\n",
      "parp1 6 /p/lustre1/jones289/DUDE-38/parp1-active-summary.txt\n",
      "(2673, 11)\n",
      "comt 7 /p/lustre1/jones289/DUDE-38/comt-active-summary.txt\n",
      "(406, 11)\n",
      "andr 8 /p/lustre1/jones289/DUDE-38/andr-active-summary.txt\n",
      "(643, 11)\n",
      "sahh 9 /p/lustre1/jones289/DUDE-38/sahh-active-summary.txt\n",
      "(336, 11)\n",
      "ace 10 /p/lustre1/jones289/DUDE-38/ace-active-summary.txt\n",
      "(1587, 11)\n",
      "cdk2 11 /p/lustre1/jones289/DUDE-38/cdk2-active-summary.txt\n",
      "(2604, 11)\n",
      "fgfr1 12 /p/lustre1/jones289/DUDE-38/fgfr1-active-summary.txt\n",
      "hmdh 13 /p/lustre1/jones289/DUDE-38/hmdh-active-summary.txt\n",
      "(789, 11)\n",
      "nram 14 /p/lustre1/jones289/DUDE-38/nram-active-summary.txt\n",
      "(587, 11)\n",
      "aces 15 /p/lustre1/jones289/DUDE-38/aces-active-summary.txt\n",
      "(2126, 11)\n",
      "abl1 16 /p/lustre1/jones289/DUDE-38/abl1-active-summary.txt\n",
      "inha 17 /p/lustre1/jones289/DUDE-38/inha-active-summary.txt\n",
      "(211, 11)\n",
      "src 18 /p/lustre1/jones289/DUDE-38/src-active-summary.txt\n",
      "(2992, 11)\n",
      "hivrt 19 /p/lustre1/jones289/DUDE-38/hivrt-active-summary.txt\n",
      "(157, 11)\n",
      "esr1 20 /p/lustre1/jones289/DUDE-38/esr1-active-summary.txt\n",
      "(1597, 11)\n",
      "vgfr2 21 /p/lustre1/jones289/DUDE-38/vgfr2-active-summary.txt\n",
      "(1864, 11)\n",
      "hivpr 22 /p/lustre1/jones289/DUDE-38/hivpr-active-summary.txt\n",
      "(3087, 11)\n",
      "mk14 23 /p/lustre1/jones289/DUDE-38/mk14-active-summary.txt\n",
      "(3079, 11)\n",
      "pur2 24 /p/lustre1/jones289/DUDE-38/pur2-active-summary.txt\n",
      "(241, 11)\n",
      "bace1 25 /p/lustre1/jones289/DUDE-38/bace1-active-summary.txt\n",
      "(1529, 11)\n",
      "thrb 26 /p/lustre1/jones289/DUDE-38/thrb-active-summary.txt\n",
      "(880, 11)\n",
      "pparg 27 /p/lustre1/jones289/DUDE-38/pparg-active-summary.txt\n",
      "(2265, 11)\n",
      "aldr 28 /p/lustre1/jones289/DUDE-38/aldr-active-summary.txt\n",
      "(837, 11)\n",
      "pgh2 29 /p/lustre1/jones289/DUDE-38/pgh2-active-summary.txt\n",
      "(1725, 11)\n",
      "dyr 30 /p/lustre1/jones289/DUDE-38/dyr-active-summary.txt\n",
      "(1459, 11)\n",
      "hs90a 31 /p/lustre1/jones289/DUDE-38/hs90a-active-summary.txt\n",
      "(466, 11)\n",
      "pde5a 32 /p/lustre1/jones289/DUDE-38/pde5a-active-summary.txt\n",
      "(2223, 11)\n",
      "mcr 33 /p/lustre1/jones289/DUDE-38/mcr-active-summary.txt\n",
      "(146, 11)\n",
      "egfr 34 /p/lustre1/jones289/DUDE-38/egfr-active-summary.txt\n",
      "(3219, 11)\n",
      "ada 35 /p/lustre1/jones289/DUDE-38/ada-active-summary.txt\n",
      "(574, 11)\n",
      "pygm 36 /p/lustre1/jones289/DUDE-38/pygm-active-summary.txt\n",
      "(357, 11)\n",
      "prgr 37 /p/lustre1/jones289/DUDE-38/prgr-active-summary.txt\n",
      "(967, 11)\n",
      "fa10 38 /p/lustre1/jones289/DUDE-38/fa10-active-summary.txt\n",
      "(1687, 11)\n",
      "kith 39 /p/lustre1/jones289/DUDE-38/kith-active-summary.txt\n",
      "(282, 11)\n",
      "gcr 40 /p/lustre1/jones289/DUDE-38/gcr-active-summary.txt\n",
      "(872, 11)\n"
     ]
    }
   ],
   "source": [
    "vina_root_p = Path(\"/p/lustre1/jones289/DUDE-38/\")\n",
    "\n",
    "\n",
    "color_dict.update({\"Vina\": \"salmon\"})\n",
    "\n",
    "\n",
    "\n",
    "vina_path_list = [path for path in vina_root_p.glob(\"*-active-summary.txt\")]\n",
    "\n",
    "\n",
    "df_list = []\n",
    "\n",
    "\n",
    "# root_dude_dir = Path(\"/g/g13/jones289/workspace/hd-cuda-master/datasets/dude/dude_smiles/\")\n",
    "root_dude_dir = Path(\"/usr/workspace/atom/gbsa_modeling/dude_smiles/\")\n",
    "for idx, path in  enumerate(vina_path_list):\n",
    "#     print(idx, path)\n",
    "    target = path.name.split(\".\")[0].split(\"-\")[0]\n",
    "    print(target, idx+1, path)\n",
    "    \n",
    "    # for some reason don't have inactive data for abl1\n",
    "    if target in [\"abl1\"]:\n",
    "        continue\n",
    "    if target in dude_target_names:\n",
    "    \n",
    "        active_df = pd.read_csv(f\"/p/lustre1/jones289/DUDE-38/{target}-active-summary.txt\", header=None, delim_whitespace=True)\n",
    "        active_df['y_true'] = [1] * len(active_df)\n",
    "    \n",
    "        decoy_df = pd.read_csv(f\"/p/lustre1/jones289/DUDE-38/{target}-decoy-summary.txt\", header=None, delim_whitespace=True)\n",
    "        decoy_df['y_true'] = [0] * len(decoy_df)\n",
    "    \n",
    "    \n",
    "        target_df = pd.concat([active_df, decoy_df])\n",
    "        \n",
    "        target_df[\"target\"] = [target] * len(target_df)\n",
    "    \n",
    "        target_df[\"vina\"] = target_df[2]\n",
    "        target_df[\"gbsa\"] = target_df[3]\n",
    "        \n",
    "        target_df[\"cmpd_id\"] = target_df[1]\n",
    "        \n",
    "        target_df[\"target_size\"] = target_df.shape[0]\n",
    "        \n",
    "#         import pdb\n",
    "#         pdb.set_trace()\n",
    "        random_split_df = pd.read_csv(root_dude_dir/ Path(f\"{target}_gbsa_smiles_with_base_rdkit_smiles_train_valid_test_random_random.csv\"))\n",
    "        \n",
    "        \n",
    "#         import pdb\n",
    "#         pdb.set_trace()\n",
    "\n",
    "        # we only use the scores from the test set to attempt an even comparison\n",
    "    \n",
    "        merged_df = pd.merge(target_df, random_split_df, on=\"cmpd_id\")\n",
    "        merged_df = merged_df.loc[merged_df['subset'] == \"test\"]\n",
    "\n",
    "        print(merged_df.shape)\n",
    "    \n",
    "        df_list.append(merged_df)\n",
    "    else:\n",
    "        pass\n",
    "\n",
    "df = pd.concat(df_list)\n",
    "    "
   ]
  },
  {
   "cell_type": "code",
   "execution_count": 16,
   "metadata": {},
   "outputs": [
    {
     "data": {
      "text/plain": [
       "{'ace',\n",
       " 'aces',\n",
       " 'ada',\n",
       " 'aldr',\n",
       " 'ampc',\n",
       " 'andr',\n",
       " 'bace1',\n",
       " 'cdk2',\n",
       " 'comt',\n",
       " 'dyr',\n",
       " 'egfr',\n",
       " 'esr1',\n",
       " 'fa10',\n",
       " 'gcr',\n",
       " 'hivpr',\n",
       " 'hivrt',\n",
       " 'hmdh',\n",
       " 'hs90a',\n",
       " 'inha',\n",
       " 'kith',\n",
       " 'mcr',\n",
       " 'mk14',\n",
       " 'nram',\n",
       " 'parp1',\n",
       " 'pde5a',\n",
       " 'pgh1',\n",
       " 'pgh2',\n",
       " 'pnph',\n",
       " 'pparg',\n",
       " 'prgr',\n",
       " 'pur2',\n",
       " 'pygm',\n",
       " 'rxra',\n",
       " 'sahh',\n",
       " 'src',\n",
       " 'thrb',\n",
       " 'try1',\n",
       " 'vgfr2'}"
      ]
     },
     "execution_count": 16,
     "metadata": {},
     "output_type": "execute_result"
    }
   ],
   "source": [
    "set(df['target'].values.tolist())"
   ]
  },
  {
   "cell_type": "code",
   "execution_count": 17,
   "metadata": {},
   "outputs": [
    {
     "data": {
      "text/html": [
       "<div>\n",
       "<style scoped>\n",
       "    .dataframe tbody tr th:only-of-type {\n",
       "        vertical-align: middle;\n",
       "    }\n",
       "\n",
       "    .dataframe tbody tr th {\n",
       "        vertical-align: top;\n",
       "    }\n",
       "\n",
       "    .dataframe thead th {\n",
       "        text-align: right;\n",
       "    }\n",
       "</style>\n",
       "<table border=\"1\" class=\"dataframe\">\n",
       "  <thead>\n",
       "    <tr style=\"text-align: right;\">\n",
       "      <th></th>\n",
       "      <th>0</th>\n",
       "      <th>1</th>\n",
       "      <th>2</th>\n",
       "      <th>3</th>\n",
       "      <th>y_true</th>\n",
       "      <th>target</th>\n",
       "      <th>vina</th>\n",
       "      <th>gbsa</th>\n",
       "      <th>cmpd_id</th>\n",
       "      <th>target_size</th>\n",
       "      <th>subset</th>\n",
       "    </tr>\n",
       "  </thead>\n",
       "  <tbody>\n",
       "    <tr>\n",
       "      <th>65</th>\n",
       "      <td>158</td>\n",
       "      <td>CHEMBL178355</td>\n",
       "      <td>-7.3</td>\n",
       "      <td>-23.4889</td>\n",
       "      <td>1</td>\n",
       "      <td>pgh1</td>\n",
       "      <td>-7.3</td>\n",
       "      <td>-23.4889</td>\n",
       "      <td>CHEMBL178355</td>\n",
       "      <td>9475</td>\n",
       "      <td>test</td>\n",
       "    </tr>\n",
       "    <tr>\n",
       "      <th>68</th>\n",
       "      <td>161</td>\n",
       "      <td>CHEMBL283267</td>\n",
       "      <td>-7.7</td>\n",
       "      <td>-26.2514</td>\n",
       "      <td>1</td>\n",
       "      <td>pgh1</td>\n",
       "      <td>-7.7</td>\n",
       "      <td>-26.2514</td>\n",
       "      <td>CHEMBL283267</td>\n",
       "      <td>9475</td>\n",
       "      <td>test</td>\n",
       "    </tr>\n",
       "    <tr>\n",
       "      <th>69</th>\n",
       "      <td>162</td>\n",
       "      <td>CHEMBL184374</td>\n",
       "      <td>-7.1</td>\n",
       "      <td>-22.7434</td>\n",
       "      <td>1</td>\n",
       "      <td>pgh1</td>\n",
       "      <td>-7.1</td>\n",
       "      <td>-22.7434</td>\n",
       "      <td>CHEMBL184374</td>\n",
       "      <td>9475</td>\n",
       "      <td>test</td>\n",
       "    </tr>\n",
       "    <tr>\n",
       "      <th>79</th>\n",
       "      <td>171</td>\n",
       "      <td>CHEMBL433892</td>\n",
       "      <td>-7.3</td>\n",
       "      <td>-29.1098</td>\n",
       "      <td>1</td>\n",
       "      <td>pgh1</td>\n",
       "      <td>-7.3</td>\n",
       "      <td>-29.1098</td>\n",
       "      <td>CHEMBL433892</td>\n",
       "      <td>9475</td>\n",
       "      <td>test</td>\n",
       "    </tr>\n",
       "    <tr>\n",
       "      <th>90</th>\n",
       "      <td>180</td>\n",
       "      <td>CHEMBL404928</td>\n",
       "      <td>-6.6</td>\n",
       "      <td>-22.1502</td>\n",
       "      <td>1</td>\n",
       "      <td>pgh1</td>\n",
       "      <td>-6.6</td>\n",
       "      <td>-22.1502</td>\n",
       "      <td>CHEMBL404928</td>\n",
       "      <td>9475</td>\n",
       "      <td>test</td>\n",
       "    </tr>\n",
       "    <tr>\n",
       "      <th>...</th>\n",
       "      <td>...</td>\n",
       "      <td>...</td>\n",
       "      <td>...</td>\n",
       "      <td>...</td>\n",
       "      <td>...</td>\n",
       "      <td>...</td>\n",
       "      <td>...</td>\n",
       "      <td>...</td>\n",
       "      <td>...</td>\n",
       "      <td>...</td>\n",
       "      <td>...</td>\n",
       "    </tr>\n",
       "    <tr>\n",
       "      <th>8660</th>\n",
       "      <td>994</td>\n",
       "      <td>ZINC35141443</td>\n",
       "      <td>-7.8</td>\n",
       "      <td>-28.5967</td>\n",
       "      <td>0</td>\n",
       "      <td>gcr</td>\n",
       "      <td>-7.8</td>\n",
       "      <td>-28.5967</td>\n",
       "      <td>ZINC35141443</td>\n",
       "      <td>11247</td>\n",
       "      <td>test</td>\n",
       "    </tr>\n",
       "    <tr>\n",
       "      <th>8661</th>\n",
       "      <td>9941</td>\n",
       "      <td>ZINC08387402</td>\n",
       "      <td>-7.3</td>\n",
       "      <td>-5.9566</td>\n",
       "      <td>0</td>\n",
       "      <td>gcr</td>\n",
       "      <td>-7.3</td>\n",
       "      <td>-5.9566</td>\n",
       "      <td>ZINC08387402</td>\n",
       "      <td>11247</td>\n",
       "      <td>test</td>\n",
       "    </tr>\n",
       "    <tr>\n",
       "      <th>8678</th>\n",
       "      <td>9969</td>\n",
       "      <td>ZINC64795840</td>\n",
       "      <td>-7.4</td>\n",
       "      <td>-20.0953</td>\n",
       "      <td>0</td>\n",
       "      <td>gcr</td>\n",
       "      <td>-7.4</td>\n",
       "      <td>-20.0953</td>\n",
       "      <td>ZINC64795840</td>\n",
       "      <td>11247</td>\n",
       "      <td>test</td>\n",
       "    </tr>\n",
       "    <tr>\n",
       "      <th>8698</th>\n",
       "      <td>9992</td>\n",
       "      <td>ZINC02647100</td>\n",
       "      <td>-5.5</td>\n",
       "      <td>-11.0534</td>\n",
       "      <td>0</td>\n",
       "      <td>gcr</td>\n",
       "      <td>-5.5</td>\n",
       "      <td>-11.0534</td>\n",
       "      <td>ZINC02647100</td>\n",
       "      <td>11247</td>\n",
       "      <td>test</td>\n",
       "    </tr>\n",
       "    <tr>\n",
       "      <th>8699</th>\n",
       "      <td>9993</td>\n",
       "      <td>ZINC06160061</td>\n",
       "      <td>-6.2</td>\n",
       "      <td>-25.7973</td>\n",
       "      <td>0</td>\n",
       "      <td>gcr</td>\n",
       "      <td>-6.2</td>\n",
       "      <td>-25.7973</td>\n",
       "      <td>ZINC06160061</td>\n",
       "      <td>11247</td>\n",
       "      <td>test</td>\n",
       "    </tr>\n",
       "  </tbody>\n",
       "</table>\n",
       "<p>47708 rows × 11 columns</p>\n",
       "</div>"
      ],
      "text/plain": [
       "         0             1    2        3  y_true target  vina     gbsa  \\\n",
       "65     158  CHEMBL178355 -7.3 -23.4889       1   pgh1  -7.3 -23.4889   \n",
       "68     161  CHEMBL283267 -7.7 -26.2514       1   pgh1  -7.7 -26.2514   \n",
       "69     162  CHEMBL184374 -7.1 -22.7434       1   pgh1  -7.1 -22.7434   \n",
       "79     171  CHEMBL433892 -7.3 -29.1098       1   pgh1  -7.3 -29.1098   \n",
       "90     180  CHEMBL404928 -6.6 -22.1502       1   pgh1  -6.6 -22.1502   \n",
       "...    ...           ...  ...      ...     ...    ...   ...      ...   \n",
       "8660   994  ZINC35141443 -7.8 -28.5967       0    gcr  -7.8 -28.5967   \n",
       "8661  9941  ZINC08387402 -7.3  -5.9566       0    gcr  -7.3  -5.9566   \n",
       "8678  9969  ZINC64795840 -7.4 -20.0953       0    gcr  -7.4 -20.0953   \n",
       "8698  9992  ZINC02647100 -5.5 -11.0534       0    gcr  -5.5 -11.0534   \n",
       "8699  9993  ZINC06160061 -6.2 -25.7973       0    gcr  -6.2 -25.7973   \n",
       "\n",
       "           cmpd_id  target_size subset  \n",
       "65    CHEMBL178355         9475   test  \n",
       "68    CHEMBL283267         9475   test  \n",
       "69    CHEMBL184374         9475   test  \n",
       "79    CHEMBL433892         9475   test  \n",
       "90    CHEMBL404928         9475   test  \n",
       "...            ...          ...    ...  \n",
       "8660  ZINC35141443        11247   test  \n",
       "8661  ZINC08387402        11247   test  \n",
       "8678  ZINC64795840        11247   test  \n",
       "8698  ZINC02647100        11247   test  \n",
       "8699  ZINC06160061        11247   test  \n",
       "\n",
       "[47708 rows x 11 columns]"
      ]
     },
     "execution_count": 17,
     "metadata": {},
     "output_type": "execute_result"
    }
   ],
   "source": [
    "df"
   ]
  },
  {
   "cell_type": "code",
   "execution_count": 18,
   "metadata": {},
   "outputs": [
    {
     "name": "stdout",
     "output_type": "stream",
     "text": [
      "ace, 1.6811\t1.3534\t1587\n",
      "aces, 12.2992\t4.7184\t2126\n",
      "ada, 0.0000\t0.2302\t574\n",
      "aldr, 3.5769\t1.5330\t837\n",
      "ampc, 0.0000\t1.2292\t295\n",
      "andr, 18.3714\t2.9677\t643\n",
      "bace1, 3.6061\t2.6398\t1529\n",
      "cdk2, 1.4183\t1.7606\t2604\n",
      "comt, 0.0000\t0.9002\t406\n",
      "dyr, 0.0000\t1.7635\t1459\n",
      "egfr, 4.3677\t2.2381\t3219\n",
      "esr1, 3.6968\t2.2181\t1597\n",
      "fa10, 5.4376\t2.1879\t1687\n",
      "gcr, 0.0000\t2.3696\t872\n",
      "hivpr, 1.3017\t3.1342\t3087\n",
      "hivrt, 0.0000\t2.6167\t157\n",
      "hmdh, 0.0000\t0.9665\t789\n",
      "hs90a, 0.0000\t0.0000\t466\n",
      "inha, 0.0000\t1.7438\t211\n",
      "kith, 0.0000\t0.5402\t282\n",
      "mcr, 9.7333\t3.8933\t146\n",
      "mk14, 7.4759\t2.5798\t3079\n",
      "nram, 0.0000\t0.0000\t587\n",
      "parp1, 10.4211\t3.9371\t2673\n",
      "pde5a, 8.6297\t2.4922\t2223\n",
      "pgh1, 0.0000\t1.1006\t941\n",
      "pgh2, 4.0780\t3.1823\t1725\n",
      "pnph, 5.1984\t2.2054\t655\n",
      "pparg, 5.8793\t4.6167\t2265\n",
      "prgr, 12.3974\t4.0899\t967\n",
      "pur2, 6.1795\t5.1908\t241\n",
      "pygm, 0.0000\t0.9015\t357\n",
      "rxra, 18.9333\t9.9649\t568\n",
      "sahh, 0.0000\t0.0000\t336\n",
      "src, 3.2879\t1.9727\t2992\n",
      "thrb, 4.9508\t4.0506\t880\n",
      "try1, 2.7153\t1.7873\t782\n",
      "vgfr2, 21.6409\t4.8374\t1864\n"
     ]
    }
   ],
   "source": [
    "target_size_list = []\n",
    "vina_enrich_1_list = []\n",
    "vina_enrich_10_list = []\n",
    "\n",
    "for target, target_df in df.groupby(\"target\"):\n",
    "    \n",
    "    ef_1 = compute_enrichment_factor(scores=np.abs(target_df[\"vina\"]), labels=target_df[\"y_true\"], n_percent=0.01)\n",
    "    ef_10 = compute_enrichment_factor(scores=np.abs(target_df[\"vina\"]), labels=target_df[\"y_true\"], n_percent=0.1)\n",
    "\n",
    "    \n",
    "    target_size_list.append(target_df.shape[0])\n",
    "    \n",
    "    vina_enrich_1_list.append(ef_1)\n",
    "    vina_enrich_10_list.append(ef_10)\n",
    "    \n",
    "    \n",
    "    print(f\"{target}, {ef_1:.4f}\\t{ef_10:.4f}\\t{target_df.shape[0]}\")\n",
    "    \n",
    "sorted_vina_enrich_1_list = [x for _, x in sorted(zip(target_size_list, vina_enrich_1_list), key=lambda pair: pair[0])]\n",
    "sorted_vina_enrich_10_list = [x for _, x in sorted(zip(target_size_list, vina_enrich_10_list), key=lambda pair: pair[0])]\n",
    "\n"
   ]
  },
  {
   "cell_type": "markdown",
   "metadata": {},
   "source": [
    "I think it would be good to move away from the per-target (sorted by size) scatter plot and instead make a series of box plots...this should make it easier to compare the enrichment factors as you increase the amount of data that you are allowed to screen"
   ]
  },
  {
   "cell_type": "code",
   "execution_count": 19,
   "metadata": {},
   "outputs": [
    {
     "data": {
      "text/html": [
       "<div>\n",
       "<style scoped>\n",
       "    .dataframe tbody tr th:only-of-type {\n",
       "        vertical-align: middle;\n",
       "    }\n",
       "\n",
       "    .dataframe tbody tr th {\n",
       "        vertical-align: top;\n",
       "    }\n",
       "\n",
       "    .dataframe thead th {\n",
       "        text-align: right;\n",
       "    }\n",
       "</style>\n",
       "<table border=\"1\" class=\"dataframe\">\n",
       "  <thead>\n",
       "    <tr style=\"text-align: right;\">\n",
       "      <th></th>\n",
       "      <th>model</th>\n",
       "      <th>enrich-1-mean</th>\n",
       "      <th>enrich-1-std</th>\n",
       "      <th>enrich-10-mean</th>\n",
       "      <th>enrich-10-std</th>\n",
       "      <th>train_time</th>\n",
       "      <th>test_time</th>\n",
       "      <th>train_size</th>\n",
       "      <th>test_size</th>\n",
       "      <th>metric</th>\n",
       "    </tr>\n",
       "  </thead>\n",
       "  <tbody>\n",
       "    <tr>\n",
       "      <th>0</th>\n",
       "      <td>smiles-pe.atomwise.0</td>\n",
       "      <td>55.000004</td>\n",
       "      <td>0.0</td>\n",
       "      <td>9.444445</td>\n",
       "      <td>0.0</td>\n",
       "      <td>4.951921</td>\n",
       "      <td>0.000329</td>\n",
       "      <td>23680.0</td>\n",
       "      <td>2970.0</td>\n",
       "      <td>NaN</td>\n",
       "    </tr>\n",
       "    <tr>\n",
       "      <th>1</th>\n",
       "      <td>smiles-pe.atomwise.0</td>\n",
       "      <td>62.555557</td>\n",
       "      <td>0.0</td>\n",
       "      <td>9.877193</td>\n",
       "      <td>0.0</td>\n",
       "      <td>0.968626</td>\n",
       "      <td>0.000298</td>\n",
       "      <td>4421.0</td>\n",
       "      <td>563.0</td>\n",
       "      <td>NaN</td>\n",
       "    </tr>\n",
       "    <tr>\n",
       "      <th>2</th>\n",
       "      <td>smiles-pe.atomwise.0</td>\n",
       "      <td>50.428574</td>\n",
       "      <td>0.0</td>\n",
       "      <td>8.404762</td>\n",
       "      <td>0.0</td>\n",
       "      <td>0.583727</td>\n",
       "      <td>0.000352</td>\n",
       "      <td>2861.0</td>\n",
       "      <td>353.0</td>\n",
       "      <td>NaN</td>\n",
       "    </tr>\n",
       "    <tr>\n",
       "      <th>3</th>\n",
       "      <td>smiles-pe.atomwise.0</td>\n",
       "      <td>58.000000</td>\n",
       "      <td>0.0</td>\n",
       "      <td>7.250000</td>\n",
       "      <td>0.0</td>\n",
       "      <td>0.397922</td>\n",
       "      <td>0.000341</td>\n",
       "      <td>1855.0</td>\n",
       "      <td>232.0</td>\n",
       "      <td>NaN</td>\n",
       "    </tr>\n",
       "    <tr>\n",
       "      <th>4</th>\n",
       "      <td>smiles-pe.atomwise.0</td>\n",
       "      <td>74.080002</td>\n",
       "      <td>0.0</td>\n",
       "      <td>9.851064</td>\n",
       "      <td>0.0</td>\n",
       "      <td>0.816334</td>\n",
       "      <td>0.000357</td>\n",
       "      <td>3697.0</td>\n",
       "      <td>463.0</td>\n",
       "      <td>NaN</td>\n",
       "    </tr>\n",
       "    <tr>\n",
       "      <th>...</th>\n",
       "      <td>...</td>\n",
       "      <td>...</td>\n",
       "      <td>...</td>\n",
       "      <td>...</td>\n",
       "      <td>...</td>\n",
       "      <td>...</td>\n",
       "      <td>...</td>\n",
       "      <td>...</td>\n",
       "      <td>...</td>\n",
       "      <td>...</td>\n",
       "    </tr>\n",
       "    <tr>\n",
       "      <th>33</th>\n",
       "      <td>Vina</td>\n",
       "      <td>10.421053</td>\n",
       "      <td>NaN</td>\n",
       "      <td>3.937058</td>\n",
       "      <td>NaN</td>\n",
       "      <td>NaN</td>\n",
       "      <td>NaN</td>\n",
       "      <td>NaN</td>\n",
       "      <td>NaN</td>\n",
       "      <td>0.0</td>\n",
       "    </tr>\n",
       "    <tr>\n",
       "      <th>34</th>\n",
       "      <td>Vina</td>\n",
       "      <td>3.287912</td>\n",
       "      <td>NaN</td>\n",
       "      <td>1.972747</td>\n",
       "      <td>NaN</td>\n",
       "      <td>NaN</td>\n",
       "      <td>NaN</td>\n",
       "      <td>NaN</td>\n",
       "      <td>NaN</td>\n",
       "      <td>0.0</td>\n",
       "    </tr>\n",
       "    <tr>\n",
       "      <th>35</th>\n",
       "      <td>Vina</td>\n",
       "      <td>7.475893</td>\n",
       "      <td>NaN</td>\n",
       "      <td>2.579807</td>\n",
       "      <td>NaN</td>\n",
       "      <td>NaN</td>\n",
       "      <td>NaN</td>\n",
       "      <td>NaN</td>\n",
       "      <td>NaN</td>\n",
       "      <td>0.0</td>\n",
       "    </tr>\n",
       "    <tr>\n",
       "      <th>36</th>\n",
       "      <td>Vina</td>\n",
       "      <td>1.301708</td>\n",
       "      <td>NaN</td>\n",
       "      <td>3.134209</td>\n",
       "      <td>NaN</td>\n",
       "      <td>NaN</td>\n",
       "      <td>NaN</td>\n",
       "      <td>NaN</td>\n",
       "      <td>NaN</td>\n",
       "      <td>0.0</td>\n",
       "    </tr>\n",
       "    <tr>\n",
       "      <th>37</th>\n",
       "      <td>Vina</td>\n",
       "      <td>4.367707</td>\n",
       "      <td>NaN</td>\n",
       "      <td>2.238111</td>\n",
       "      <td>NaN</td>\n",
       "      <td>NaN</td>\n",
       "      <td>NaN</td>\n",
       "      <td>NaN</td>\n",
       "      <td>NaN</td>\n",
       "      <td>0.0</td>\n",
       "    </tr>\n",
       "  </tbody>\n",
       "</table>\n",
       "<p>304 rows × 10 columns</p>\n",
       "</div>"
      ],
      "text/plain": [
       "                   model  enrich-1-mean  enrich-1-std  enrich-10-mean  \\\n",
       "0   smiles-pe.atomwise.0      55.000004           0.0        9.444445   \n",
       "1   smiles-pe.atomwise.0      62.555557           0.0        9.877193   \n",
       "2   smiles-pe.atomwise.0      50.428574           0.0        8.404762   \n",
       "3   smiles-pe.atomwise.0      58.000000           0.0        7.250000   \n",
       "4   smiles-pe.atomwise.0      74.080002           0.0        9.851064   \n",
       "..                   ...            ...           ...             ...   \n",
       "33                  Vina      10.421053           NaN        3.937058   \n",
       "34                  Vina       3.287912           NaN        1.972747   \n",
       "35                  Vina       7.475893           NaN        2.579807   \n",
       "36                  Vina       1.301708           NaN        3.134209   \n",
       "37                  Vina       4.367707           NaN        2.238111   \n",
       "\n",
       "    enrich-10-std  train_time  test_time  train_size  test_size  metric  \n",
       "0             0.0    4.951921   0.000329     23680.0     2970.0     NaN  \n",
       "1             0.0    0.968626   0.000298      4421.0      563.0     NaN  \n",
       "2             0.0    0.583727   0.000352      2861.0      353.0     NaN  \n",
       "3             0.0    0.397922   0.000341      1855.0      232.0     NaN  \n",
       "4             0.0    0.816334   0.000357      3697.0      463.0     NaN  \n",
       "..            ...         ...        ...         ...        ...     ...  \n",
       "33            NaN         NaN        NaN         NaN        NaN     0.0  \n",
       "34            NaN         NaN        NaN         NaN        NaN     0.0  \n",
       "35            NaN         NaN        NaN         NaN        NaN     0.0  \n",
       "36            NaN         NaN        NaN         NaN        NaN     0.0  \n",
       "37            NaN         NaN        NaN         NaN        NaN     0.0  \n",
       "\n",
       "[304 rows x 10 columns]"
      ]
     },
     "execution_count": 19,
     "metadata": {},
     "output_type": "execute_result"
    }
   ],
   "source": [
    "model_metric_df = pd.concat([model_metric_df, pd.DataFrame({\"metric\": [0]*38, \"enrich-1-mean\": sorted_vina_enrich_1_list, \n",
    "                                            \"enrich-10-mean\": sorted_vina_enrich_10_list,\n",
    "                                          \"model\": [\"Vina\"]*38, \n",
    "                                                           })])\n",
    "\n",
    "\n",
    "model_metric_df"
   ]
  },
  {
   "cell_type": "code",
   "execution_count": 20,
   "metadata": {},
   "outputs": [
    {
     "data": {
      "text/plain": [
       "Text(3.2000000000000135, 0.5, 'EF')"
      ]
     },
     "execution_count": 20,
     "metadata": {},
     "output_type": "execute_result"
    }
   ],
   "source": [
    "sns.boxplot(data=model_metric_df[model_metric_df[\"model\"].apply(lambda x: \"openhd\" not in x.lower())], x=\"model\", y=\"enrich-1-mean\", ax=dude_enrich_1_ax, palette=color_dict)\n",
    "# dude_enrich_1_ax.set_title(\"(a) DUD-E Enrichment at 1\\%\", fontdict={\"fontsize\": 18})\n",
    "dude_enrich_1_ax.tick_params(axis=\"x\", labelrotation=22.5)\n",
    "dude_enrich_1_ax.set_xlabel(\"\")\n",
    "dude_enrich_1_ax.set_ylabel(\"EF\")\n",
    "\n",
    "# labels = [x[1] for x in model_order_list]\n",
    "\n",
    "# dude_enrich_1_ax.set_xticklabels(labels)\n"
   ]
  },
  {
   "cell_type": "code",
   "execution_count": 21,
   "metadata": {},
   "outputs": [],
   "source": [
    "sns.boxplot(data=model_metric_df[model_metric_df[\"model\"].apply(lambda x: \"openhd\" not in x.lower())], x=\"model\", y=\"enrich-10-mean\", ax=dude_enrich_10_ax, palette=color_dict)\n",
    "# dude_enrich_10_ax.set_title(\"(b) DUD-E Enrichment at 10\\%\", fontdict={\"fontsize\": 18})\n",
    "\n",
    "dude_enrich_10_ax.tick_params(axis=\"x\", labelrotation=22.5)\n",
    "# dude_enrich_10_ax.tick_params(axis=\"y\")\n",
    "dude_enrich_10_ax.set_xlabel(\"\")\n",
    "dude_enrich_10_ax.set_ylabel(\"EF\")\n",
    "\n",
    "labels = [model_name_dict[x.get_text()] for x in dude_enrich_10_ax.get_xticklabels()]\n",
    "dude_enrich_10_ax.set_xticklabels(labels)\n",
    "\n",
    "\n",
    "# # dude_enrich_10_ax.set_xticklabels(labels)\n",
    "# plt.tight_layout()\n",
    "dude_enrich_f.savefig(\"dude_enrich.png\", dpi=600, bbox_inches=\"tight\")\n"
   ]
  },
  {
   "cell_type": "code",
   "execution_count": 22,
   "metadata": {},
   "outputs": [
    {
     "data": {
      "image/png": "[encoded data removed]",
      "text/plain": [
       "<Figure size 864x720 with 2 Axes>"
      ]
     },
     "execution_count": 22,
     "metadata": {},
     "output_type": "execute_result"
    }
   ],
   "source": [
    "dude_enrich_f"
   ]
  },
  {
   "cell_type": "code",
   "execution_count": 23,
   "metadata": {},
   "outputs": [
    {
     "name": "stdout",
     "output_type": "stream",
     "text": [
      "(38, 10)\n",
      "(38, 10)\n",
      "(38, 10)\n",
      "(38, 10)\n",
      "(38, 10)\n",
      "(38, 10)\n",
      "(38, 10)\n",
      "(38, 10)\n"
     ]
    }
   ],
   "source": [
    "model_metric_df[model_metric_df['model'] == \"rp\"].shape\n",
    "for group_name, group_df in model_metric_df.groupby(\"model\"):\n",
    "    print(group_df.shape)"
   ]
  },
  {
   "cell_type": "code",
   "execution_count": 24,
   "metadata": {},
   "outputs": [
    {
     "data": {
      "text/html": [
       "<div>\n",
       "<style scoped>\n",
       "    .dataframe tbody tr th:only-of-type {\n",
       "        vertical-align: middle;\n",
       "    }\n",
       "\n",
       "    .dataframe tbody tr th {\n",
       "        vertical-align: top;\n",
       "    }\n",
       "\n",
       "    .dataframe thead tr th {\n",
       "        text-align: left;\n",
       "    }\n",
       "\n",
       "    .dataframe thead tr:last-of-type th {\n",
       "        text-align: right;\n",
       "    }\n",
       "</style>\n",
       "<table border=\"1\" class=\"dataframe\">\n",
       "  <thead>\n",
       "    <tr>\n",
       "      <th></th>\n",
       "      <th colspan=\"8\" halign=\"left\">enrich-1-mean</th>\n",
       "      <th colspan=\"8\" halign=\"left\">enrich-10-mean</th>\n",
       "    </tr>\n",
       "    <tr>\n",
       "      <th></th>\n",
       "      <th>count</th>\n",
       "      <th>mean</th>\n",
       "      <th>std</th>\n",
       "      <th>min</th>\n",
       "      <th>25%</th>\n",
       "      <th>50%</th>\n",
       "      <th>75%</th>\n",
       "      <th>max</th>\n",
       "      <th>count</th>\n",
       "      <th>mean</th>\n",
       "      <th>std</th>\n",
       "      <th>min</th>\n",
       "      <th>25%</th>\n",
       "      <th>50%</th>\n",
       "      <th>75%</th>\n",
       "      <th>max</th>\n",
       "    </tr>\n",
       "    <tr>\n",
       "      <th>model</th>\n",
       "      <th></th>\n",
       "      <th></th>\n",
       "      <th></th>\n",
       "      <th></th>\n",
       "      <th></th>\n",
       "      <th></th>\n",
       "      <th></th>\n",
       "      <th></th>\n",
       "      <th></th>\n",
       "      <th></th>\n",
       "      <th></th>\n",
       "      <th></th>\n",
       "      <th></th>\n",
       "      <th></th>\n",
       "      <th></th>\n",
       "      <th></th>\n",
       "    </tr>\n",
       "  </thead>\n",
       "  <tbody>\n",
       "    <tr>\n",
       "      <th>Vina</th>\n",
       "      <td>38.0</td>\n",
       "      <td>4.665199</td>\n",
       "      <td>5.764932</td>\n",
       "      <td>0.00</td>\n",
       "      <td>0.000000</td>\n",
       "      <td>3.432418</td>\n",
       "      <td>6.104440</td>\n",
       "      <td>21.640867</td>\n",
       "      <td>38.0</td>\n",
       "      <td>2.471403</td>\n",
       "      <td>1.886596</td>\n",
       "      <td>0.000000</td>\n",
       "      <td>1.260218</td>\n",
       "      <td>2.211721</td>\n",
       "      <td>3.170251</td>\n",
       "      <td>9.964912</td>\n",
       "    </tr>\n",
       "    <tr>\n",
       "      <th>ecfp</th>\n",
       "      <td>38.0</td>\n",
       "      <td>48.956293</td>\n",
       "      <td>18.702387</td>\n",
       "      <td>7.35</td>\n",
       "      <td>41.018337</td>\n",
       "      <td>47.991762</td>\n",
       "      <td>58.395834</td>\n",
       "      <td>91.857140</td>\n",
       "      <td>38.0</td>\n",
       "      <td>9.657814</td>\n",
       "      <td>0.614576</td>\n",
       "      <td>7.350000</td>\n",
       "      <td>9.737368</td>\n",
       "      <td>9.864129</td>\n",
       "      <td>9.937364</td>\n",
       "      <td>10.000000</td>\n",
       "    </tr>\n",
       "    <tr>\n",
       "      <th>mlp</th>\n",
       "      <td>38.0</td>\n",
       "      <td>50.238817</td>\n",
       "      <td>20.203765</td>\n",
       "      <td>7.35</td>\n",
       "      <td>41.018336</td>\n",
       "      <td>47.991764</td>\n",
       "      <td>61.548611</td>\n",
       "      <td>92.600000</td>\n",
       "      <td>38.0</td>\n",
       "      <td>9.679121</td>\n",
       "      <td>0.612173</td>\n",
       "      <td>7.350000</td>\n",
       "      <td>9.737368</td>\n",
       "      <td>9.900657</td>\n",
       "      <td>9.950733</td>\n",
       "      <td>10.000000</td>\n",
       "    </tr>\n",
       "    <tr>\n",
       "      <th>rf</th>\n",
       "      <td>38.0</td>\n",
       "      <td>49.533835</td>\n",
       "      <td>19.757621</td>\n",
       "      <td>7.35</td>\n",
       "      <td>41.018336</td>\n",
       "      <td>47.991764</td>\n",
       "      <td>61.548611</td>\n",
       "      <td>91.857143</td>\n",
       "      <td>38.0</td>\n",
       "      <td>9.606210</td>\n",
       "      <td>0.784033</td>\n",
       "      <td>6.666667</td>\n",
       "      <td>9.712698</td>\n",
       "      <td>9.900657</td>\n",
       "      <td>9.950733</td>\n",
       "      <td>10.000000</td>\n",
       "    </tr>\n",
       "    <tr>\n",
       "      <th>rp</th>\n",
       "      <td>38.0</td>\n",
       "      <td>49.103719</td>\n",
       "      <td>18.804071</td>\n",
       "      <td>7.35</td>\n",
       "      <td>41.018337</td>\n",
       "      <td>47.991762</td>\n",
       "      <td>58.395834</td>\n",
       "      <td>91.857140</td>\n",
       "      <td>38.0</td>\n",
       "      <td>9.660901</td>\n",
       "      <td>0.618676</td>\n",
       "      <td>7.350000</td>\n",
       "      <td>9.691888</td>\n",
       "      <td>9.900657</td>\n",
       "      <td>9.950733</td>\n",
       "      <td>10.000000</td>\n",
       "    </tr>\n",
       "    <tr>\n",
       "      <th>selfies.atomwise</th>\n",
       "      <td>38.0</td>\n",
       "      <td>45.661613</td>\n",
       "      <td>17.086972</td>\n",
       "      <td>7.35</td>\n",
       "      <td>39.721954</td>\n",
       "      <td>46.884266</td>\n",
       "      <td>53.409960</td>\n",
       "      <td>91.857140</td>\n",
       "      <td>38.0</td>\n",
       "      <td>8.927373</td>\n",
       "      <td>1.087055</td>\n",
       "      <td>4.916667</td>\n",
       "      <td>8.570091</td>\n",
       "      <td>9.177028</td>\n",
       "      <td>9.647379</td>\n",
       "      <td>10.000000</td>\n",
       "    </tr>\n",
       "    <tr>\n",
       "      <th>smiles-pe.atomwise.0</th>\n",
       "      <td>38.0</td>\n",
       "      <td>45.672432</td>\n",
       "      <td>17.622445</td>\n",
       "      <td>7.35</td>\n",
       "      <td>35.680113</td>\n",
       "      <td>46.670637</td>\n",
       "      <td>55.758127</td>\n",
       "      <td>91.857140</td>\n",
       "      <td>38.0</td>\n",
       "      <td>8.931635</td>\n",
       "      <td>1.133194</td>\n",
       "      <td>3.687500</td>\n",
       "      <td>8.605838</td>\n",
       "      <td>9.176147</td>\n",
       "      <td>9.584975</td>\n",
       "      <td>9.975000</td>\n",
       "    </tr>\n",
       "    <tr>\n",
       "      <th>smiles-pe.bpe.0</th>\n",
       "      <td>38.0</td>\n",
       "      <td>45.718331</td>\n",
       "      <td>17.152302</td>\n",
       "      <td>7.35</td>\n",
       "      <td>38.671399</td>\n",
       "      <td>47.499826</td>\n",
       "      <td>55.420002</td>\n",
       "      <td>91.857140</td>\n",
       "      <td>38.0</td>\n",
       "      <td>8.441264</td>\n",
       "      <td>1.509483</td>\n",
       "      <td>2.458333</td>\n",
       "      <td>8.308388</td>\n",
       "      <td>8.863482</td>\n",
       "      <td>9.441087</td>\n",
       "      <td>9.922078</td>\n",
       "    </tr>\n",
       "  </tbody>\n",
       "</table>\n",
       "</div>"
      ],
      "text/plain": [
       "                     enrich-1-mean                                         \\\n",
       "                             count       mean        std   min        25%   \n",
       "model                                                                       \n",
       "Vina                          38.0   4.665199   5.764932  0.00   0.000000   \n",
       "ecfp                          38.0  48.956293  18.702387  7.35  41.018337   \n",
       "mlp                           38.0  50.238817  20.203765  7.35  41.018336   \n",
       "rf                            38.0  49.533835  19.757621  7.35  41.018336   \n",
       "rp                            38.0  49.103719  18.804071  7.35  41.018337   \n",
       "selfies.atomwise              38.0  45.661613  17.086972  7.35  39.721954   \n",
       "smiles-pe.atomwise.0          38.0  45.672432  17.622445  7.35  35.680113   \n",
       "smiles-pe.bpe.0               38.0  45.718331  17.152302  7.35  38.671399   \n",
       "\n",
       "                                                      enrich-10-mean  \\\n",
       "                            50%        75%        max          count   \n",
       "model                                                                  \n",
       "Vina                   3.432418   6.104440  21.640867           38.0   \n",
       "ecfp                  47.991762  58.395834  91.857140           38.0   \n",
       "mlp                   47.991764  61.548611  92.600000           38.0   \n",
       "rf                    47.991764  61.548611  91.857143           38.0   \n",
       "rp                    47.991762  58.395834  91.857140           38.0   \n",
       "selfies.atomwise      46.884266  53.409960  91.857140           38.0   \n",
       "smiles-pe.atomwise.0  46.670637  55.758127  91.857140           38.0   \n",
       "smiles-pe.bpe.0       47.499826  55.420002  91.857140           38.0   \n",
       "\n",
       "                                                                        \\\n",
       "                          mean       std       min       25%       50%   \n",
       "model                                                                    \n",
       "Vina                  2.471403  1.886596  0.000000  1.260218  2.211721   \n",
       "ecfp                  9.657814  0.614576  7.350000  9.737368  9.864129   \n",
       "mlp                   9.679121  0.612173  7.350000  9.737368  9.900657   \n",
       "rf                    9.606210  0.784033  6.666667  9.712698  9.900657   \n",
       "rp                    9.660901  0.618676  7.350000  9.691888  9.900657   \n",
       "selfies.atomwise      8.927373  1.087055  4.916667  8.570091  9.177028   \n",
       "smiles-pe.atomwise.0  8.931635  1.133194  3.687500  8.605838  9.176147   \n",
       "smiles-pe.bpe.0       8.441264  1.509483  2.458333  8.308388  8.863482   \n",
       "\n",
       "                                           \n",
       "                           75%        max  \n",
       "model                                      \n",
       "Vina                  3.170251   9.964912  \n",
       "ecfp                  9.937364  10.000000  \n",
       "mlp                   9.950733  10.000000  \n",
       "rf                    9.950733  10.000000  \n",
       "rp                    9.950733  10.000000  \n",
       "selfies.atomwise      9.647379  10.000000  \n",
       "smiles-pe.atomwise.0  9.584975   9.975000  \n",
       "smiles-pe.bpe.0       9.441087   9.922078  "
      ]
     },
     "execution_count": 24,
     "metadata": {},
     "output_type": "execute_result"
    }
   ],
   "source": [
    "model_metric_df.groupby('model').describe()[['enrich-1-mean', 'enrich-10-mean']]"
   ]
  },
  {
   "cell_type": "code",
   "execution_count": 25,
   "metadata": {},
   "outputs": [
    {
     "data": {
      "text/html": [
       "<div>\n",
       "<style scoped>\n",
       "    .dataframe tbody tr th:only-of-type {\n",
       "        vertical-align: middle;\n",
       "    }\n",
       "\n",
       "    .dataframe tbody tr th {\n",
       "        vertical-align: top;\n",
       "    }\n",
       "\n",
       "    .dataframe thead tr th {\n",
       "        text-align: left;\n",
       "    }\n",
       "\n",
       "    .dataframe thead tr:last-of-type th {\n",
       "        text-align: right;\n",
       "    }\n",
       "</style>\n",
       "<table border=\"1\" class=\"dataframe\">\n",
       "  <thead>\n",
       "    <tr>\n",
       "      <th></th>\n",
       "      <th colspan=\"8\" halign=\"left\">enrich-1-std</th>\n",
       "      <th colspan=\"8\" halign=\"left\">enrich-10-std</th>\n",
       "    </tr>\n",
       "    <tr>\n",
       "      <th></th>\n",
       "      <th>count</th>\n",
       "      <th>mean</th>\n",
       "      <th>std</th>\n",
       "      <th>min</th>\n",
       "      <th>25%</th>\n",
       "      <th>50%</th>\n",
       "      <th>75%</th>\n",
       "      <th>max</th>\n",
       "      <th>count</th>\n",
       "      <th>mean</th>\n",
       "      <th>std</th>\n",
       "      <th>min</th>\n",
       "      <th>25%</th>\n",
       "      <th>50%</th>\n",
       "      <th>75%</th>\n",
       "      <th>max</th>\n",
       "    </tr>\n",
       "    <tr>\n",
       "      <th>model</th>\n",
       "      <th></th>\n",
       "      <th></th>\n",
       "      <th></th>\n",
       "      <th></th>\n",
       "      <th></th>\n",
       "      <th></th>\n",
       "      <th></th>\n",
       "      <th></th>\n",
       "      <th></th>\n",
       "      <th></th>\n",
       "      <th></th>\n",
       "      <th></th>\n",
       "      <th></th>\n",
       "      <th></th>\n",
       "      <th></th>\n",
       "      <th></th>\n",
       "    </tr>\n",
       "  </thead>\n",
       "  <tbody>\n",
       "    <tr>\n",
       "      <th>Vina</th>\n",
       "      <td>0.0</td>\n",
       "      <td>NaN</td>\n",
       "      <td>NaN</td>\n",
       "      <td>NaN</td>\n",
       "      <td>NaN</td>\n",
       "      <td>NaN</td>\n",
       "      <td>NaN</td>\n",
       "      <td>NaN</td>\n",
       "      <td>0.0</td>\n",
       "      <td>NaN</td>\n",
       "      <td>NaN</td>\n",
       "      <td>NaN</td>\n",
       "      <td>NaN</td>\n",
       "      <td>NaN</td>\n",
       "      <td>NaN</td>\n",
       "      <td>NaN</td>\n",
       "    </tr>\n",
       "    <tr>\n",
       "      <th>ecfp</th>\n",
       "      <td>38.0</td>\n",
       "      <td>0.0</td>\n",
       "      <td>0.0</td>\n",
       "      <td>0.0</td>\n",
       "      <td>0.0</td>\n",
       "      <td>0.0</td>\n",
       "      <td>0.0</td>\n",
       "      <td>0.0</td>\n",
       "      <td>38.0</td>\n",
       "      <td>0.0</td>\n",
       "      <td>0.0</td>\n",
       "      <td>0.0</td>\n",
       "      <td>0.0</td>\n",
       "      <td>0.0</td>\n",
       "      <td>0.0</td>\n",
       "      <td>0.0</td>\n",
       "    </tr>\n",
       "    <tr>\n",
       "      <th>mlp</th>\n",
       "      <td>38.0</td>\n",
       "      <td>0.0</td>\n",
       "      <td>0.0</td>\n",
       "      <td>0.0</td>\n",
       "      <td>0.0</td>\n",
       "      <td>0.0</td>\n",
       "      <td>0.0</td>\n",
       "      <td>0.0</td>\n",
       "      <td>38.0</td>\n",
       "      <td>0.0</td>\n",
       "      <td>0.0</td>\n",
       "      <td>0.0</td>\n",
       "      <td>0.0</td>\n",
       "      <td>0.0</td>\n",
       "      <td>0.0</td>\n",
       "      <td>0.0</td>\n",
       "    </tr>\n",
       "    <tr>\n",
       "      <th>rf</th>\n",
       "      <td>38.0</td>\n",
       "      <td>0.0</td>\n",
       "      <td>0.0</td>\n",
       "      <td>0.0</td>\n",
       "      <td>0.0</td>\n",
       "      <td>0.0</td>\n",
       "      <td>0.0</td>\n",
       "      <td>0.0</td>\n",
       "      <td>38.0</td>\n",
       "      <td>0.0</td>\n",
       "      <td>0.0</td>\n",
       "      <td>0.0</td>\n",
       "      <td>0.0</td>\n",
       "      <td>0.0</td>\n",
       "      <td>0.0</td>\n",
       "      <td>0.0</td>\n",
       "    </tr>\n",
       "    <tr>\n",
       "      <th>rp</th>\n",
       "      <td>38.0</td>\n",
       "      <td>0.0</td>\n",
       "      <td>0.0</td>\n",
       "      <td>0.0</td>\n",
       "      <td>0.0</td>\n",
       "      <td>0.0</td>\n",
       "      <td>0.0</td>\n",
       "      <td>0.0</td>\n",
       "      <td>38.0</td>\n",
       "      <td>0.0</td>\n",
       "      <td>0.0</td>\n",
       "      <td>0.0</td>\n",
       "      <td>0.0</td>\n",
       "      <td>0.0</td>\n",
       "      <td>0.0</td>\n",
       "      <td>0.0</td>\n",
       "    </tr>\n",
       "    <tr>\n",
       "      <th>selfies.atomwise</th>\n",
       "      <td>38.0</td>\n",
       "      <td>0.0</td>\n",
       "      <td>0.0</td>\n",
       "      <td>0.0</td>\n",
       "      <td>0.0</td>\n",
       "      <td>0.0</td>\n",
       "      <td>0.0</td>\n",
       "      <td>0.0</td>\n",
       "      <td>38.0</td>\n",
       "      <td>0.0</td>\n",
       "      <td>0.0</td>\n",
       "      <td>0.0</td>\n",
       "      <td>0.0</td>\n",
       "      <td>0.0</td>\n",
       "      <td>0.0</td>\n",
       "      <td>0.0</td>\n",
       "    </tr>\n",
       "    <tr>\n",
       "      <th>smiles-pe.atomwise.0</th>\n",
       "      <td>38.0</td>\n",
       "      <td>0.0</td>\n",
       "      <td>0.0</td>\n",
       "      <td>0.0</td>\n",
       "      <td>0.0</td>\n",
       "      <td>0.0</td>\n",
       "      <td>0.0</td>\n",
       "      <td>0.0</td>\n",
       "      <td>38.0</td>\n",
       "      <td>0.0</td>\n",
       "      <td>0.0</td>\n",
       "      <td>0.0</td>\n",
       "      <td>0.0</td>\n",
       "      <td>0.0</td>\n",
       "      <td>0.0</td>\n",
       "      <td>0.0</td>\n",
       "    </tr>\n",
       "    <tr>\n",
       "      <th>smiles-pe.bpe.0</th>\n",
       "      <td>38.0</td>\n",
       "      <td>0.0</td>\n",
       "      <td>0.0</td>\n",
       "      <td>0.0</td>\n",
       "      <td>0.0</td>\n",
       "      <td>0.0</td>\n",
       "      <td>0.0</td>\n",
       "      <td>0.0</td>\n",
       "      <td>38.0</td>\n",
       "      <td>0.0</td>\n",
       "      <td>0.0</td>\n",
       "      <td>0.0</td>\n",
       "      <td>0.0</td>\n",
       "      <td>0.0</td>\n",
       "      <td>0.0</td>\n",
       "      <td>0.0</td>\n",
       "    </tr>\n",
       "  </tbody>\n",
       "</table>\n",
       "</div>"
      ],
      "text/plain": [
       "                     enrich-1-std                                     \\\n",
       "                            count mean  std  min  25%  50%  75%  max   \n",
       "model                                                                  \n",
       "Vina                          0.0  NaN  NaN  NaN  NaN  NaN  NaN  NaN   \n",
       "ecfp                         38.0  0.0  0.0  0.0  0.0  0.0  0.0  0.0   \n",
       "mlp                          38.0  0.0  0.0  0.0  0.0  0.0  0.0  0.0   \n",
       "rf                           38.0  0.0  0.0  0.0  0.0  0.0  0.0  0.0   \n",
       "rp                           38.0  0.0  0.0  0.0  0.0  0.0  0.0  0.0   \n",
       "selfies.atomwise             38.0  0.0  0.0  0.0  0.0  0.0  0.0  0.0   \n",
       "smiles-pe.atomwise.0         38.0  0.0  0.0  0.0  0.0  0.0  0.0  0.0   \n",
       "smiles-pe.bpe.0              38.0  0.0  0.0  0.0  0.0  0.0  0.0  0.0   \n",
       "\n",
       "                     enrich-10-std                                     \n",
       "                             count mean  std  min  25%  50%  75%  max  \n",
       "model                                                                  \n",
       "Vina                           0.0  NaN  NaN  NaN  NaN  NaN  NaN  NaN  \n",
       "ecfp                          38.0  0.0  0.0  0.0  0.0  0.0  0.0  0.0  \n",
       "mlp                           38.0  0.0  0.0  0.0  0.0  0.0  0.0  0.0  \n",
       "rf                            38.0  0.0  0.0  0.0  0.0  0.0  0.0  0.0  \n",
       "rp                            38.0  0.0  0.0  0.0  0.0  0.0  0.0  0.0  \n",
       "selfies.atomwise              38.0  0.0  0.0  0.0  0.0  0.0  0.0  0.0  \n",
       "smiles-pe.atomwise.0          38.0  0.0  0.0  0.0  0.0  0.0  0.0  0.0  \n",
       "smiles-pe.bpe.0               38.0  0.0  0.0  0.0  0.0  0.0  0.0  0.0  "
      ]
     },
     "execution_count": 25,
     "metadata": {},
     "output_type": "execute_result"
    }
   ],
   "source": [
    "model_metric_df.groupby('model').describe()[['enrich-1-std', 'enrich-10-std']]"
   ]
  },
  {
   "cell_type": "code",
   "execution_count": 26,
   "metadata": {},
   "outputs": [],
   "source": [
    "# model_metric_df.groupby('model').describe()['latency']['mean']['ecfp'] +\\\n",
    "# model_metric_df.groupby('model').describe()['latency']['mean']['rp'] +\\\n",
    "# model_metric_df.groupby('model').describe()['latency']['mean']['ecfp']"
   ]
  },
  {
   "cell_type": "code",
   "execution_count": null,
   "metadata": {},
   "outputs": [],
   "source": []
  },
  {
   "cell_type": "code",
   "execution_count": null,
   "metadata": {},
   "outputs": [],
   "source": []
  },
  {
   "cell_type": "markdown",
   "metadata": {},
   "source": [
    "# OpenHD speedup\n",
    "\n",
    "for now (03/15/23), the current openhd results are stored here: "
   ]
  },
  {
   "cell_type": "code",
   "execution_count": 27,
   "metadata": {},
   "outputs": [
    {
     "data": {
      "text/html": [
       "<div>\n",
       "<style scoped>\n",
       "    .dataframe tbody tr th:only-of-type {\n",
       "        vertical-align: middle;\n",
       "    }\n",
       "\n",
       "    .dataframe tbody tr th {\n",
       "        vertical-align: top;\n",
       "    }\n",
       "\n",
       "    .dataframe thead th {\n",
       "        text-align: right;\n",
       "    }\n",
       "</style>\n",
       "<table border=\"1\" class=\"dataframe\">\n",
       "  <thead>\n",
       "    <tr style=\"text-align: right;\">\n",
       "      <th></th>\n",
       "      <th>model</th>\n",
       "      <th>enrich-1-mean</th>\n",
       "      <th>enrich-1-std</th>\n",
       "      <th>enrich-10-mean</th>\n",
       "      <th>enrich-10-std</th>\n",
       "      <th>train_time</th>\n",
       "      <th>test_time</th>\n",
       "      <th>train_size</th>\n",
       "      <th>test_size</th>\n",
       "      <th>metric</th>\n",
       "    </tr>\n",
       "  </thead>\n",
       "  <tbody>\n",
       "    <tr>\n",
       "      <th>0</th>\n",
       "      <td>smiles-pe.atomwise.0</td>\n",
       "      <td>55.000004</td>\n",
       "      <td>0.0</td>\n",
       "      <td>9.444445</td>\n",
       "      <td>0.0</td>\n",
       "      <td>4.951921</td>\n",
       "      <td>0.000329</td>\n",
       "      <td>23680.0</td>\n",
       "      <td>2970.0</td>\n",
       "      <td>NaN</td>\n",
       "    </tr>\n",
       "    <tr>\n",
       "      <th>1</th>\n",
       "      <td>smiles-pe.atomwise.0</td>\n",
       "      <td>62.555557</td>\n",
       "      <td>0.0</td>\n",
       "      <td>9.877193</td>\n",
       "      <td>0.0</td>\n",
       "      <td>0.968626</td>\n",
       "      <td>0.000298</td>\n",
       "      <td>4421.0</td>\n",
       "      <td>563.0</td>\n",
       "      <td>NaN</td>\n",
       "    </tr>\n",
       "    <tr>\n",
       "      <th>2</th>\n",
       "      <td>smiles-pe.atomwise.0</td>\n",
       "      <td>50.428574</td>\n",
       "      <td>0.0</td>\n",
       "      <td>8.404762</td>\n",
       "      <td>0.0</td>\n",
       "      <td>0.583727</td>\n",
       "      <td>0.000352</td>\n",
       "      <td>2861.0</td>\n",
       "      <td>353.0</td>\n",
       "      <td>NaN</td>\n",
       "    </tr>\n",
       "    <tr>\n",
       "      <th>3</th>\n",
       "      <td>smiles-pe.atomwise.0</td>\n",
       "      <td>58.000000</td>\n",
       "      <td>0.0</td>\n",
       "      <td>7.250000</td>\n",
       "      <td>0.0</td>\n",
       "      <td>0.397922</td>\n",
       "      <td>0.000341</td>\n",
       "      <td>1855.0</td>\n",
       "      <td>232.0</td>\n",
       "      <td>NaN</td>\n",
       "    </tr>\n",
       "    <tr>\n",
       "      <th>4</th>\n",
       "      <td>smiles-pe.atomwise.0</td>\n",
       "      <td>74.080002</td>\n",
       "      <td>0.0</td>\n",
       "      <td>9.851064</td>\n",
       "      <td>0.0</td>\n",
       "      <td>0.816334</td>\n",
       "      <td>0.000357</td>\n",
       "      <td>3697.0</td>\n",
       "      <td>463.0</td>\n",
       "      <td>NaN</td>\n",
       "    </tr>\n",
       "    <tr>\n",
       "      <th>...</th>\n",
       "      <td>...</td>\n",
       "      <td>...</td>\n",
       "      <td>...</td>\n",
       "      <td>...</td>\n",
       "      <td>...</td>\n",
       "      <td>...</td>\n",
       "      <td>...</td>\n",
       "      <td>...</td>\n",
       "      <td>...</td>\n",
       "      <td>...</td>\n",
       "    </tr>\n",
       "    <tr>\n",
       "      <th>33</th>\n",
       "      <td>Vina</td>\n",
       "      <td>10.421053</td>\n",
       "      <td>NaN</td>\n",
       "      <td>3.937058</td>\n",
       "      <td>NaN</td>\n",
       "      <td>NaN</td>\n",
       "      <td>NaN</td>\n",
       "      <td>NaN</td>\n",
       "      <td>NaN</td>\n",
       "      <td>0.0</td>\n",
       "    </tr>\n",
       "    <tr>\n",
       "      <th>34</th>\n",
       "      <td>Vina</td>\n",
       "      <td>3.287912</td>\n",
       "      <td>NaN</td>\n",
       "      <td>1.972747</td>\n",
       "      <td>NaN</td>\n",
       "      <td>NaN</td>\n",
       "      <td>NaN</td>\n",
       "      <td>NaN</td>\n",
       "      <td>NaN</td>\n",
       "      <td>0.0</td>\n",
       "    </tr>\n",
       "    <tr>\n",
       "      <th>35</th>\n",
       "      <td>Vina</td>\n",
       "      <td>7.475893</td>\n",
       "      <td>NaN</td>\n",
       "      <td>2.579807</td>\n",
       "      <td>NaN</td>\n",
       "      <td>NaN</td>\n",
       "      <td>NaN</td>\n",
       "      <td>NaN</td>\n",
       "      <td>NaN</td>\n",
       "      <td>0.0</td>\n",
       "    </tr>\n",
       "    <tr>\n",
       "      <th>36</th>\n",
       "      <td>Vina</td>\n",
       "      <td>1.301708</td>\n",
       "      <td>NaN</td>\n",
       "      <td>3.134209</td>\n",
       "      <td>NaN</td>\n",
       "      <td>NaN</td>\n",
       "      <td>NaN</td>\n",
       "      <td>NaN</td>\n",
       "      <td>NaN</td>\n",
       "      <td>0.0</td>\n",
       "    </tr>\n",
       "    <tr>\n",
       "      <th>37</th>\n",
       "      <td>Vina</td>\n",
       "      <td>4.367707</td>\n",
       "      <td>NaN</td>\n",
       "      <td>2.238111</td>\n",
       "      <td>NaN</td>\n",
       "      <td>NaN</td>\n",
       "      <td>NaN</td>\n",
       "      <td>NaN</td>\n",
       "      <td>NaN</td>\n",
       "      <td>0.0</td>\n",
       "    </tr>\n",
       "  </tbody>\n",
       "</table>\n",
       "<p>304 rows × 10 columns</p>\n",
       "</div>"
      ],
      "text/plain": [
       "                   model  enrich-1-mean  enrich-1-std  enrich-10-mean  \\\n",
       "0   smiles-pe.atomwise.0      55.000004           0.0        9.444445   \n",
       "1   smiles-pe.atomwise.0      62.555557           0.0        9.877193   \n",
       "2   smiles-pe.atomwise.0      50.428574           0.0        8.404762   \n",
       "3   smiles-pe.atomwise.0      58.000000           0.0        7.250000   \n",
       "4   smiles-pe.atomwise.0      74.080002           0.0        9.851064   \n",
       "..                   ...            ...           ...             ...   \n",
       "33                  Vina      10.421053           NaN        3.937058   \n",
       "34                  Vina       3.287912           NaN        1.972747   \n",
       "35                  Vina       7.475893           NaN        2.579807   \n",
       "36                  Vina       1.301708           NaN        3.134209   \n",
       "37                  Vina       4.367707           NaN        2.238111   \n",
       "\n",
       "    enrich-10-std  train_time  test_time  train_size  test_size  metric  \n",
       "0             0.0    4.951921   0.000329     23680.0     2970.0     NaN  \n",
       "1             0.0    0.968626   0.000298      4421.0      563.0     NaN  \n",
       "2             0.0    0.583727   0.000352      2861.0      353.0     NaN  \n",
       "3             0.0    0.397922   0.000341      1855.0      232.0     NaN  \n",
       "4             0.0    0.816334   0.000357      3697.0      463.0     NaN  \n",
       "..            ...         ...        ...         ...        ...     ...  \n",
       "33            NaN         NaN        NaN         NaN        NaN     0.0  \n",
       "34            NaN         NaN        NaN         NaN        NaN     0.0  \n",
       "35            NaN         NaN        NaN         NaN        NaN     0.0  \n",
       "36            NaN         NaN        NaN         NaN        NaN     0.0  \n",
       "37            NaN         NaN        NaN         NaN        NaN     0.0  \n",
       "\n",
       "[304 rows x 10 columns]"
      ]
     },
     "execution_count": 27,
     "metadata": {},
     "output_type": "execute_result"
    }
   ],
   "source": [
    "model_metric_df"
   ]
  },
  {
   "cell_type": "code",
   "execution_count": 28,
   "metadata": {},
   "outputs": [],
   "source": [
    "model_metric_df[\"latency_per_mol\"] = model_metric_df.apply(lambda x: x[\"test_time\"]/x[\"test_size\"], axis=1)"
   ]
  },
  {
   "cell_type": "code",
   "execution_count": 29,
   "metadata": {},
   "outputs": [
    {
     "data": {
      "text/html": [
       "<div>\n",
       "<style scoped>\n",
       "    .dataframe tbody tr th:only-of-type {\n",
       "        vertical-align: middle;\n",
       "    }\n",
       "\n",
       "    .dataframe tbody tr th {\n",
       "        vertical-align: top;\n",
       "    }\n",
       "\n",
       "    .dataframe thead th {\n",
       "        text-align: right;\n",
       "    }\n",
       "</style>\n",
       "<table border=\"1\" class=\"dataframe\">\n",
       "  <thead>\n",
       "    <tr style=\"text-align: right;\">\n",
       "      <th></th>\n",
       "      <th>model</th>\n",
       "      <th>enrich-1-mean</th>\n",
       "      <th>enrich-1-std</th>\n",
       "      <th>enrich-10-mean</th>\n",
       "      <th>enrich-10-std</th>\n",
       "      <th>train_time</th>\n",
       "      <th>test_time</th>\n",
       "      <th>train_size</th>\n",
       "      <th>test_size</th>\n",
       "      <th>metric</th>\n",
       "      <th>latency_per_mol</th>\n",
       "    </tr>\n",
       "  </thead>\n",
       "  <tbody>\n",
       "    <tr>\n",
       "      <th>228</th>\n",
       "      <td>mlp</td>\n",
       "      <td>32.840000</td>\n",
       "      <td>0.0</td>\n",
       "      <td>9.951515</td>\n",
       "      <td>0.0</td>\n",
       "      <td>1.805295</td>\n",
       "      <td>0.015592</td>\n",
       "      <td>13168.0</td>\n",
       "      <td>1642.0</td>\n",
       "      <td>NaN</td>\n",
       "      <td>0.000009</td>\n",
       "    </tr>\n",
       "    <tr>\n",
       "      <th>229</th>\n",
       "      <td>mlp</td>\n",
       "      <td>48.451613</td>\n",
       "      <td>0.0</td>\n",
       "      <td>9.947020</td>\n",
       "      <td>0.0</td>\n",
       "      <td>0.910126</td>\n",
       "      <td>0.008255</td>\n",
       "      <td>12019.0</td>\n",
       "      <td>1502.0</td>\n",
       "      <td>NaN</td>\n",
       "      <td>0.000005</td>\n",
       "    </tr>\n",
       "    <tr>\n",
       "      <th>230</th>\n",
       "      <td>mlp</td>\n",
       "      <td>44.428571</td>\n",
       "      <td>0.0</td>\n",
       "      <td>8.980243</td>\n",
       "      <td>0.0</td>\n",
       "      <td>0.713844</td>\n",
       "      <td>0.008933</td>\n",
       "      <td>7420.0</td>\n",
       "      <td>933.0</td>\n",
       "      <td>NaN</td>\n",
       "      <td>0.000010</td>\n",
       "    </tr>\n",
       "    <tr>\n",
       "      <th>231</th>\n",
       "      <td>mlp</td>\n",
       "      <td>72.828571</td>\n",
       "      <td>0.0</td>\n",
       "      <td>9.710476</td>\n",
       "      <td>0.0</td>\n",
       "      <td>28.491007</td>\n",
       "      <td>0.035668</td>\n",
       "      <td>20290.0</td>\n",
       "      <td>2549.0</td>\n",
       "      <td>NaN</td>\n",
       "      <td>0.000014</td>\n",
       "    </tr>\n",
       "    <tr>\n",
       "      <th>232</th>\n",
       "      <td>mlp</td>\n",
       "      <td>38.409091</td>\n",
       "      <td>0.0</td>\n",
       "      <td>9.941176</td>\n",
       "      <td>0.0</td>\n",
       "      <td>0.238889</td>\n",
       "      <td>0.008745</td>\n",
       "      <td>6758.0</td>\n",
       "      <td>845.0</td>\n",
       "      <td>NaN</td>\n",
       "      <td>0.000010</td>\n",
       "    </tr>\n",
       "    <tr>\n",
       "      <th>233</th>\n",
       "      <td>mlp</td>\n",
       "      <td>47.467742</td>\n",
       "      <td>0.0</td>\n",
       "      <td>9.976271</td>\n",
       "      <td>0.0</td>\n",
       "      <td>33.648171</td>\n",
       "      <td>0.037628</td>\n",
       "      <td>23591.0</td>\n",
       "      <td>2943.0</td>\n",
       "      <td>NaN</td>\n",
       "      <td>0.000013</td>\n",
       "    </tr>\n",
       "    <tr>\n",
       "      <th>234</th>\n",
       "      <td>mlp</td>\n",
       "      <td>66.500000</td>\n",
       "      <td>0.0</td>\n",
       "      <td>9.975000</td>\n",
       "      <td>0.0</td>\n",
       "      <td>1.101518</td>\n",
       "      <td>0.003962</td>\n",
       "      <td>3177.0</td>\n",
       "      <td>399.0</td>\n",
       "      <td>NaN</td>\n",
       "      <td>0.000010</td>\n",
       "    </tr>\n",
       "    <tr>\n",
       "      <th>235</th>\n",
       "      <td>mlp</td>\n",
       "      <td>89.166667</td>\n",
       "      <td>0.0</td>\n",
       "      <td>9.907407</td>\n",
       "      <td>0.0</td>\n",
       "      <td>0.413470</td>\n",
       "      <td>0.005715</td>\n",
       "      <td>4299.0</td>\n",
       "      <td>535.0</td>\n",
       "      <td>NaN</td>\n",
       "      <td>0.000011</td>\n",
       "    </tr>\n",
       "    <tr>\n",
       "      <th>236</th>\n",
       "      <td>mlp</td>\n",
       "      <td>49.688525</td>\n",
       "      <td>0.0</td>\n",
       "      <td>9.806946</td>\n",
       "      <td>0.0</td>\n",
       "      <td>10.221492</td>\n",
       "      <td>0.092416</td>\n",
       "      <td>24390.0</td>\n",
       "      <td>3031.0</td>\n",
       "      <td>NaN</td>\n",
       "      <td>0.000030</td>\n",
       "    </tr>\n",
       "    <tr>\n",
       "      <th>237</th>\n",
       "      <td>mlp</td>\n",
       "      <td>47.285714</td>\n",
       "      <td>0.0</td>\n",
       "      <td>9.735294</td>\n",
       "      <td>0.0</td>\n",
       "      <td>0.338556</td>\n",
       "      <td>0.010057</td>\n",
       "      <td>2660.0</td>\n",
       "      <td>331.0</td>\n",
       "      <td>NaN</td>\n",
       "      <td>0.000030</td>\n",
       "    </tr>\n",
       "    <tr>\n",
       "      <th>238</th>\n",
       "      <td>mlp</td>\n",
       "      <td>70.090909</td>\n",
       "      <td>0.0</td>\n",
       "      <td>9.948387</td>\n",
       "      <td>0.0</td>\n",
       "      <td>0.669239</td>\n",
       "      <td>0.013892</td>\n",
       "      <td>12355.0</td>\n",
       "      <td>1542.0</td>\n",
       "      <td>NaN</td>\n",
       "      <td>0.000009</td>\n",
       "    </tr>\n",
       "    <tr>\n",
       "      <th>239</th>\n",
       "      <td>mlp</td>\n",
       "      <td>47.531915</td>\n",
       "      <td>0.0</td>\n",
       "      <td>9.973214</td>\n",
       "      <td>0.0</td>\n",
       "      <td>1.950415</td>\n",
       "      <td>0.019481</td>\n",
       "      <td>17768.0</td>\n",
       "      <td>2234.0</td>\n",
       "      <td>NaN</td>\n",
       "      <td>0.000009</td>\n",
       "    </tr>\n",
       "    <tr>\n",
       "      <th>240</th>\n",
       "      <td>mlp</td>\n",
       "      <td>42.534884</td>\n",
       "      <td>0.0</td>\n",
       "      <td>9.994536</td>\n",
       "      <td>0.0</td>\n",
       "      <td>2.840968</td>\n",
       "      <td>0.008737</td>\n",
       "      <td>14622.0</td>\n",
       "      <td>1829.0</td>\n",
       "      <td>NaN</td>\n",
       "      <td>0.000005</td>\n",
       "    </tr>\n",
       "    <tr>\n",
       "      <th>241</th>\n",
       "      <td>mlp</td>\n",
       "      <td>92.600000</td>\n",
       "      <td>0.0</td>\n",
       "      <td>9.851064</td>\n",
       "      <td>0.0</td>\n",
       "      <td>3.770751</td>\n",
       "      <td>0.010685</td>\n",
       "      <td>3697.0</td>\n",
       "      <td>463.0</td>\n",
       "      <td>NaN</td>\n",
       "      <td>0.000023</td>\n",
       "    </tr>\n",
       "    <tr>\n",
       "      <th>242</th>\n",
       "      <td>mlp</td>\n",
       "      <td>57.400000</td>\n",
       "      <td>0.0</td>\n",
       "      <td>9.896552</td>\n",
       "      <td>0.0</td>\n",
       "      <td>1.976329</td>\n",
       "      <td>0.016048</td>\n",
       "      <td>4565.0</td>\n",
       "      <td>574.0</td>\n",
       "      <td>NaN</td>\n",
       "      <td>0.000028</td>\n",
       "    </tr>\n",
       "    <tr>\n",
       "      <th>243</th>\n",
       "      <td>mlp</td>\n",
       "      <td>67.000000</td>\n",
       "      <td>0.0</td>\n",
       "      <td>9.925926</td>\n",
       "      <td>0.0</td>\n",
       "      <td>0.809432</td>\n",
       "      <td>0.001820</td>\n",
       "      <td>2130.0</td>\n",
       "      <td>268.0</td>\n",
       "      <td>NaN</td>\n",
       "      <td>0.000007</td>\n",
       "    </tr>\n",
       "    <tr>\n",
       "      <th>244</th>\n",
       "      <td>mlp</td>\n",
       "      <td>55.000000</td>\n",
       "      <td>0.0</td>\n",
       "      <td>10.000000</td>\n",
       "      <td>0.0</td>\n",
       "      <td>2.774150</td>\n",
       "      <td>0.025923</td>\n",
       "      <td>23680.0</td>\n",
       "      <td>2970.0</td>\n",
       "      <td>NaN</td>\n",
       "      <td>0.000009</td>\n",
       "    </tr>\n",
       "    <tr>\n",
       "      <th>245</th>\n",
       "      <td>mlp</td>\n",
       "      <td>16.688889</td>\n",
       "      <td>0.0</td>\n",
       "      <td>9.881579</td>\n",
       "      <td>0.0</td>\n",
       "      <td>0.490936</td>\n",
       "      <td>0.012137</td>\n",
       "      <td>6022.0</td>\n",
       "      <td>751.0</td>\n",
       "      <td>NaN</td>\n",
       "      <td>0.000016</td>\n",
       "    </tr>\n",
       "    <tr>\n",
       "      <th>246</th>\n",
       "      <td>mlp</td>\n",
       "      <td>15.555556</td>\n",
       "      <td>0.0</td>\n",
       "      <td>8.888889</td>\n",
       "      <td>0.0</td>\n",
       "      <td>0.273732</td>\n",
       "      <td>0.002088</td>\n",
       "      <td>1108.0</td>\n",
       "      <td>140.0</td>\n",
       "      <td>NaN</td>\n",
       "      <td>0.000015</td>\n",
       "    </tr>\n",
       "    <tr>\n",
       "      <th>247</th>\n",
       "      <td>mlp</td>\n",
       "      <td>58.000000</td>\n",
       "      <td>0.0</td>\n",
       "      <td>9.666667</td>\n",
       "      <td>0.0</td>\n",
       "      <td>0.153136</td>\n",
       "      <td>0.002292</td>\n",
       "      <td>1855.0</td>\n",
       "      <td>232.0</td>\n",
       "      <td>NaN</td>\n",
       "      <td>0.000010</td>\n",
       "    </tr>\n",
       "    <tr>\n",
       "      <th>248</th>\n",
       "      <td>mlp</td>\n",
       "      <td>46.055556</td>\n",
       "      <td>0.0</td>\n",
       "      <td>9.987952</td>\n",
       "      <td>0.0</td>\n",
       "      <td>2.093735</td>\n",
       "      <td>0.013008</td>\n",
       "      <td>6663.0</td>\n",
       "      <td>829.0</td>\n",
       "      <td>NaN</td>\n",
       "      <td>0.000016</td>\n",
       "    </tr>\n",
       "    <tr>\n",
       "      <th>249</th>\n",
       "      <td>mlp</td>\n",
       "      <td>24.583333</td>\n",
       "      <td>0.0</td>\n",
       "      <td>7.375000</td>\n",
       "      <td>0.0</td>\n",
       "      <td>1.052351</td>\n",
       "      <td>0.010114</td>\n",
       "      <td>2322.0</td>\n",
       "      <td>295.0</td>\n",
       "      <td>NaN</td>\n",
       "      <td>0.000034</td>\n",
       "    </tr>\n",
       "    <tr>\n",
       "      <th>250</th>\n",
       "      <td>mlp</td>\n",
       "      <td>40.512821</td>\n",
       "      <td>0.0</td>\n",
       "      <td>9.743590</td>\n",
       "      <td>0.0</td>\n",
       "      <td>15.708964</td>\n",
       "      <td>0.013428</td>\n",
       "      <td>12693.0</td>\n",
       "      <td>1580.0</td>\n",
       "      <td>NaN</td>\n",
       "      <td>0.000008</td>\n",
       "    </tr>\n",
       "    <tr>\n",
       "      <th>251</th>\n",
       "      <td>mlp</td>\n",
       "      <td>39.458333</td>\n",
       "      <td>0.0</td>\n",
       "      <td>9.137719</td>\n",
       "      <td>0.0</td>\n",
       "      <td>1.233240</td>\n",
       "      <td>0.025595</td>\n",
       "      <td>7582.0</td>\n",
       "      <td>947.0</td>\n",
       "      <td>NaN</td>\n",
       "      <td>0.000027</td>\n",
       "    </tr>\n",
       "    <tr>\n",
       "      <th>252</th>\n",
       "      <td>mlp</td>\n",
       "      <td>70.322581</td>\n",
       "      <td>0.0</td>\n",
       "      <td>10.000000</td>\n",
       "      <td>0.0</td>\n",
       "      <td>1.146640</td>\n",
       "      <td>0.011547</td>\n",
       "      <td>17484.0</td>\n",
       "      <td>2180.0</td>\n",
       "      <td>NaN</td>\n",
       "      <td>0.000005</td>\n",
       "    </tr>\n",
       "    <tr>\n",
       "      <th>253</th>\n",
       "      <td>mlp</td>\n",
       "      <td>58.527778</td>\n",
       "      <td>0.0</td>\n",
       "      <td>9.985782</td>\n",
       "      <td>0.0</td>\n",
       "      <td>3.354871</td>\n",
       "      <td>0.021998</td>\n",
       "      <td>16925.0</td>\n",
       "      <td>2107.0</td>\n",
       "      <td>NaN</td>\n",
       "      <td>0.000010</td>\n",
       "    </tr>\n",
       "    <tr>\n",
       "      <th>254</th>\n",
       "      <td>mlp</td>\n",
       "      <td>16.840000</td>\n",
       "      <td>0.0</td>\n",
       "      <td>9.905882</td>\n",
       "      <td>0.0</td>\n",
       "      <td>0.425008</td>\n",
       "      <td>0.007473</td>\n",
       "      <td>6703.0</td>\n",
       "      <td>842.0</td>\n",
       "      <td>NaN</td>\n",
       "      <td>0.000009</td>\n",
       "    </tr>\n",
       "    <tr>\n",
       "      <th>255</th>\n",
       "      <td>mlp</td>\n",
       "      <td>91.857143</td>\n",
       "      <td>0.0</td>\n",
       "      <td>9.892308</td>\n",
       "      <td>0.0</td>\n",
       "      <td>4.740275</td>\n",
       "      <td>0.016007</td>\n",
       "      <td>5145.0</td>\n",
       "      <td>643.0</td>\n",
       "      <td>NaN</td>\n",
       "      <td>0.000025</td>\n",
       "    </tr>\n",
       "    <tr>\n",
       "      <th>256</th>\n",
       "      <td>mlp</td>\n",
       "      <td>47.416667</td>\n",
       "      <td>0.0</td>\n",
       "      <td>9.705166</td>\n",
       "      <td>0.0</td>\n",
       "      <td>5.527964</td>\n",
       "      <td>0.013951</td>\n",
       "      <td>13688.0</td>\n",
       "      <td>1707.0</td>\n",
       "      <td>NaN</td>\n",
       "      <td>0.000008</td>\n",
       "    </tr>\n",
       "    <tr>\n",
       "      <th>257</th>\n",
       "      <td>mlp</td>\n",
       "      <td>26.000000</td>\n",
       "      <td>0.0</td>\n",
       "      <td>9.904762</td>\n",
       "      <td>0.0</td>\n",
       "      <td>0.269716</td>\n",
       "      <td>0.002662</td>\n",
       "      <td>1653.0</td>\n",
       "      <td>208.0</td>\n",
       "      <td>NaN</td>\n",
       "      <td>0.000013</td>\n",
       "    </tr>\n",
       "    <tr>\n",
       "      <th>258</th>\n",
       "      <td>mlp</td>\n",
       "      <td>45.285714</td>\n",
       "      <td>0.0</td>\n",
       "      <td>9.906250</td>\n",
       "      <td>0.0</td>\n",
       "      <td>2.881320</td>\n",
       "      <td>0.016716</td>\n",
       "      <td>5064.0</td>\n",
       "      <td>634.0</td>\n",
       "      <td>NaN</td>\n",
       "      <td>0.000026</td>\n",
       "    </tr>\n",
       "    <tr>\n",
       "      <th>259</th>\n",
       "      <td>mlp</td>\n",
       "      <td>44.941176</td>\n",
       "      <td>0.0</td>\n",
       "      <td>9.922078</td>\n",
       "      <td>0.0</td>\n",
       "      <td>0.930182</td>\n",
       "      <td>0.004228</td>\n",
       "      <td>6065.0</td>\n",
       "      <td>764.0</td>\n",
       "      <td>NaN</td>\n",
       "      <td>0.000006</td>\n",
       "    </tr>\n",
       "    <tr>\n",
       "      <th>260</th>\n",
       "      <td>mlp</td>\n",
       "      <td>53.836735</td>\n",
       "      <td>0.0</td>\n",
       "      <td>9.992424</td>\n",
       "      <td>0.0</td>\n",
       "      <td>3.904590</td>\n",
       "      <td>0.081367</td>\n",
       "      <td>21092.0</td>\n",
       "      <td>2638.0</td>\n",
       "      <td>NaN</td>\n",
       "      <td>0.000031</td>\n",
       "    </tr>\n",
       "    <tr>\n",
       "      <th>261</th>\n",
       "      <td>mlp</td>\n",
       "      <td>62.555556</td>\n",
       "      <td>0.0</td>\n",
       "      <td>9.877193</td>\n",
       "      <td>0.0</td>\n",
       "      <td>1.410702</td>\n",
       "      <td>0.005505</td>\n",
       "      <td>4421.0</td>\n",
       "      <td>563.0</td>\n",
       "      <td>NaN</td>\n",
       "      <td>0.000010</td>\n",
       "    </tr>\n",
       "    <tr>\n",
       "      <th>262</th>\n",
       "      <td>mlp</td>\n",
       "      <td>50.428571</td>\n",
       "      <td>0.0</td>\n",
       "      <td>9.805556</td>\n",
       "      <td>0.0</td>\n",
       "      <td>1.474520</td>\n",
       "      <td>0.003399</td>\n",
       "      <td>2861.0</td>\n",
       "      <td>353.0</td>\n",
       "      <td>NaN</td>\n",
       "      <td>0.000010</td>\n",
       "    </tr>\n",
       "    <tr>\n",
       "      <th>263</th>\n",
       "      <td>mlp</td>\n",
       "      <td>7.350000</td>\n",
       "      <td>0.0</td>\n",
       "      <td>7.350000</td>\n",
       "      <td>0.0</td>\n",
       "      <td>0.098801</td>\n",
       "      <td>0.001518</td>\n",
       "      <td>1156.0</td>\n",
       "      <td>147.0</td>\n",
       "      <td>NaN</td>\n",
       "      <td>0.000010</td>\n",
       "    </tr>\n",
       "    <tr>\n",
       "      <th>264</th>\n",
       "      <td>mlp</td>\n",
       "      <td>71.597384</td>\n",
       "      <td>0.0</td>\n",
       "      <td>9.761299</td>\n",
       "      <td>0.0</td>\n",
       "      <td>1.763929</td>\n",
       "      <td>0.036379</td>\n",
       "      <td>25336.0</td>\n",
       "      <td>3178.0</td>\n",
       "      <td>NaN</td>\n",
       "      <td>0.000011</td>\n",
       "    </tr>\n",
       "    <tr>\n",
       "      <th>265</th>\n",
       "      <td>mlp</td>\n",
       "      <td>52.037037</td>\n",
       "      <td>0.0</td>\n",
       "      <td>9.595482</td>\n",
       "      <td>0.0</td>\n",
       "      <td>1.072388</td>\n",
       "      <td>0.036636</td>\n",
       "      <td>11241.0</td>\n",
       "      <td>1405.0</td>\n",
       "      <td>NaN</td>\n",
       "      <td>0.000026</td>\n",
       "    </tr>\n",
       "  </tbody>\n",
       "</table>\n",
       "</div>"
      ],
      "text/plain": [
       "    model  enrich-1-mean  enrich-1-std  enrich-10-mean  enrich-10-std  \\\n",
       "228   mlp      32.840000           0.0        9.951515            0.0   \n",
       "229   mlp      48.451613           0.0        9.947020            0.0   \n",
       "230   mlp      44.428571           0.0        8.980243            0.0   \n",
       "231   mlp      72.828571           0.0        9.710476            0.0   \n",
       "232   mlp      38.409091           0.0        9.941176            0.0   \n",
       "233   mlp      47.467742           0.0        9.976271            0.0   \n",
       "234   mlp      66.500000           0.0        9.975000            0.0   \n",
       "235   mlp      89.166667           0.0        9.907407            0.0   \n",
       "236   mlp      49.688525           0.0        9.806946            0.0   \n",
       "237   mlp      47.285714           0.0        9.735294            0.0   \n",
       "238   mlp      70.090909           0.0        9.948387            0.0   \n",
       "239   mlp      47.531915           0.0        9.973214            0.0   \n",
       "240   mlp      42.534884           0.0        9.994536            0.0   \n",
       "241   mlp      92.600000           0.0        9.851064            0.0   \n",
       "242   mlp      57.400000           0.0        9.896552            0.0   \n",
       "243   mlp      67.000000           0.0        9.925926            0.0   \n",
       "244   mlp      55.000000           0.0       10.000000            0.0   \n",
       "245   mlp      16.688889           0.0        9.881579            0.0   \n",
       "246   mlp      15.555556           0.0        8.888889            0.0   \n",
       "247   mlp      58.000000           0.0        9.666667            0.0   \n",
       "248   mlp      46.055556           0.0        9.987952            0.0   \n",
       "249   mlp      24.583333           0.0        7.375000            0.0   \n",
       "250   mlp      40.512821           0.0        9.743590            0.0   \n",
       "251   mlp      39.458333           0.0        9.137719            0.0   \n",
       "252   mlp      70.322581           0.0       10.000000            0.0   \n",
       "253   mlp      58.527778           0.0        9.985782            0.0   \n",
       "254   mlp      16.840000           0.0        9.905882            0.0   \n",
       "255   mlp      91.857143           0.0        9.892308            0.0   \n",
       "256   mlp      47.416667           0.0        9.705166            0.0   \n",
       "257   mlp      26.000000           0.0        9.904762            0.0   \n",
       "258   mlp      45.285714           0.0        9.906250            0.0   \n",
       "259   mlp      44.941176           0.0        9.922078            0.0   \n",
       "260   mlp      53.836735           0.0        9.992424            0.0   \n",
       "261   mlp      62.555556           0.0        9.877193            0.0   \n",
       "262   mlp      50.428571           0.0        9.805556            0.0   \n",
       "263   mlp       7.350000           0.0        7.350000            0.0   \n",
       "264   mlp      71.597384           0.0        9.761299            0.0   \n",
       "265   mlp      52.037037           0.0        9.595482            0.0   \n",
       "\n",
       "     train_time  test_time  train_size  test_size  metric  latency_per_mol  \n",
       "228    1.805295   0.015592     13168.0     1642.0     NaN         0.000009  \n",
       "229    0.910126   0.008255     12019.0     1502.0     NaN         0.000005  \n",
       "230    0.713844   0.008933      7420.0      933.0     NaN         0.000010  \n",
       "231   28.491007   0.035668     20290.0     2549.0     NaN         0.000014  \n",
       "232    0.238889   0.008745      6758.0      845.0     NaN         0.000010  \n",
       "233   33.648171   0.037628     23591.0     2943.0     NaN         0.000013  \n",
       "234    1.101518   0.003962      3177.0      399.0     NaN         0.000010  \n",
       "235    0.413470   0.005715      4299.0      535.0     NaN         0.000011  \n",
       "236   10.221492   0.092416     24390.0     3031.0     NaN         0.000030  \n",
       "237    0.338556   0.010057      2660.0      331.0     NaN         0.000030  \n",
       "238    0.669239   0.013892     12355.0     1542.0     NaN         0.000009  \n",
       "239    1.950415   0.019481     17768.0     2234.0     NaN         0.000009  \n",
       "240    2.840968   0.008737     14622.0     1829.0     NaN         0.000005  \n",
       "241    3.770751   0.010685      3697.0      463.0     NaN         0.000023  \n",
       "242    1.976329   0.016048      4565.0      574.0     NaN         0.000028  \n",
       "243    0.809432   0.001820      2130.0      268.0     NaN         0.000007  \n",
       "244    2.774150   0.025923     23680.0     2970.0     NaN         0.000009  \n",
       "245    0.490936   0.012137      6022.0      751.0     NaN         0.000016  \n",
       "246    0.273732   0.002088      1108.0      140.0     NaN         0.000015  \n",
       "247    0.153136   0.002292      1855.0      232.0     NaN         0.000010  \n",
       "248    2.093735   0.013008      6663.0      829.0     NaN         0.000016  \n",
       "249    1.052351   0.010114      2322.0      295.0     NaN         0.000034  \n",
       "250   15.708964   0.013428     12693.0     1580.0     NaN         0.000008  \n",
       "251    1.233240   0.025595      7582.0      947.0     NaN         0.000027  \n",
       "252    1.146640   0.011547     17484.0     2180.0     NaN         0.000005  \n",
       "253    3.354871   0.021998     16925.0     2107.0     NaN         0.000010  \n",
       "254    0.425008   0.007473      6703.0      842.0     NaN         0.000009  \n",
       "255    4.740275   0.016007      5145.0      643.0     NaN         0.000025  \n",
       "256    5.527964   0.013951     13688.0     1707.0     NaN         0.000008  \n",
       "257    0.269716   0.002662      1653.0      208.0     NaN         0.000013  \n",
       "258    2.881320   0.016716      5064.0      634.0     NaN         0.000026  \n",
       "259    0.930182   0.004228      6065.0      764.0     NaN         0.000006  \n",
       "260    3.904590   0.081367     21092.0     2638.0     NaN         0.000031  \n",
       "261    1.410702   0.005505      4421.0      563.0     NaN         0.000010  \n",
       "262    1.474520   0.003399      2861.0      353.0     NaN         0.000010  \n",
       "263    0.098801   0.001518      1156.0      147.0     NaN         0.000010  \n",
       "264    1.763929   0.036379     25336.0     3178.0     NaN         0.000011  \n",
       "265    1.072388   0.036636     11241.0     1405.0     NaN         0.000026  "
      ]
     },
     "execution_count": 29,
     "metadata": {},
     "output_type": "execute_result"
    }
   ],
   "source": [
    "model_metric_df[model_metric_df[\"model\"] == \"mlp\"]"
   ]
  },
  {
   "cell_type": "code",
   "execution_count": 30,
   "metadata": {},
   "outputs": [
    {
     "data": {
      "text/html": [
       "<div>\n",
       "<style scoped>\n",
       "    .dataframe tbody tr th:only-of-type {\n",
       "        vertical-align: middle;\n",
       "    }\n",
       "\n",
       "    .dataframe tbody tr th {\n",
       "        vertical-align: top;\n",
       "    }\n",
       "\n",
       "    .dataframe thead th {\n",
       "        text-align: right;\n",
       "    }\n",
       "</style>\n",
       "<table border=\"1\" class=\"dataframe\">\n",
       "  <thead>\n",
       "    <tr style=\"text-align: right;\">\n",
       "      <th></th>\n",
       "      <th>model</th>\n",
       "      <th>enrich-1-mean</th>\n",
       "      <th>enrich-1-std</th>\n",
       "      <th>enrich-10-mean</th>\n",
       "      <th>enrich-10-std</th>\n",
       "      <th>train_time</th>\n",
       "      <th>test_time</th>\n",
       "      <th>train_size</th>\n",
       "      <th>test_size</th>\n",
       "      <th>metric</th>\n",
       "      <th>latency_per_mol</th>\n",
       "    </tr>\n",
       "  </thead>\n",
       "  <tbody>\n",
       "    <tr>\n",
       "      <th>114</th>\n",
       "      <td>ecfp</td>\n",
       "      <td>47.285717</td>\n",
       "      <td>0.0</td>\n",
       "      <td>9.735294</td>\n",
       "      <td>0.0</td>\n",
       "      <td>0.537853</td>\n",
       "      <td>0.000363</td>\n",
       "      <td>2660.0</td>\n",
       "      <td>331.0</td>\n",
       "      <td>NaN</td>\n",
       "      <td>1.095573e-06</td>\n",
       "    </tr>\n",
       "    <tr>\n",
       "      <th>115</th>\n",
       "      <td>ecfp</td>\n",
       "      <td>48.451611</td>\n",
       "      <td>0.0</td>\n",
       "      <td>9.947020</td>\n",
       "      <td>0.0</td>\n",
       "      <td>2.550174</td>\n",
       "      <td>0.000294</td>\n",
       "      <td>12019.0</td>\n",
       "      <td>1502.0</td>\n",
       "      <td>NaN</td>\n",
       "      <td>1.958778e-07</td>\n",
       "    </tr>\n",
       "    <tr>\n",
       "      <th>116</th>\n",
       "      <td>ecfp</td>\n",
       "      <td>15.555555</td>\n",
       "      <td>0.0</td>\n",
       "      <td>10.000000</td>\n",
       "      <td>0.0</td>\n",
       "      <td>0.237486</td>\n",
       "      <td>0.000361</td>\n",
       "      <td>1108.0</td>\n",
       "      <td>140.0</td>\n",
       "      <td>NaN</td>\n",
       "      <td>2.578327e-06</td>\n",
       "    </tr>\n",
       "    <tr>\n",
       "      <th>117</th>\n",
       "      <td>ecfp</td>\n",
       "      <td>67.000000</td>\n",
       "      <td>0.0</td>\n",
       "      <td>9.925926</td>\n",
       "      <td>0.0</td>\n",
       "      <td>0.444329</td>\n",
       "      <td>0.000361</td>\n",
       "      <td>2130.0</td>\n",
       "      <td>268.0</td>\n",
       "      <td>NaN</td>\n",
       "      <td>1.346887e-06</td>\n",
       "    </tr>\n",
       "    <tr>\n",
       "      <th>118</th>\n",
       "      <td>ecfp</td>\n",
       "      <td>55.000004</td>\n",
       "      <td>0.0</td>\n",
       "      <td>9.814815</td>\n",
       "      <td>0.0</td>\n",
       "      <td>5.232301</td>\n",
       "      <td>0.000352</td>\n",
       "      <td>23680.0</td>\n",
       "      <td>2970.0</td>\n",
       "      <td>NaN</td>\n",
       "      <td>1.185671e-07</td>\n",
       "    </tr>\n",
       "    <tr>\n",
       "      <th>119</th>\n",
       "      <td>ecfp</td>\n",
       "      <td>38.409088</td>\n",
       "      <td>0.0</td>\n",
       "      <td>9.941176</td>\n",
       "      <td>0.0</td>\n",
       "      <td>1.417409</td>\n",
       "      <td>0.000305</td>\n",
       "      <td>6758.0</td>\n",
       "      <td>845.0</td>\n",
       "      <td>NaN</td>\n",
       "      <td>3.608726e-07</td>\n",
       "    </tr>\n",
       "    <tr>\n",
       "      <th>120</th>\n",
       "      <td>ecfp</td>\n",
       "      <td>49.688522</td>\n",
       "      <td>0.0</td>\n",
       "      <td>9.806946</td>\n",
       "      <td>0.0</td>\n",
       "      <td>5.056425</td>\n",
       "      <td>0.000297</td>\n",
       "      <td>24390.0</td>\n",
       "      <td>3031.0</td>\n",
       "      <td>NaN</td>\n",
       "      <td>9.785309e-08</td>\n",
       "    </tr>\n",
       "    <tr>\n",
       "      <th>121</th>\n",
       "      <td>ecfp</td>\n",
       "      <td>57.400002</td>\n",
       "      <td>0.0</td>\n",
       "      <td>9.896552</td>\n",
       "      <td>0.0</td>\n",
       "      <td>0.950352</td>\n",
       "      <td>0.000302</td>\n",
       "      <td>4565.0</td>\n",
       "      <td>574.0</td>\n",
       "      <td>NaN</td>\n",
       "      <td>5.258500e-07</td>\n",
       "    </tr>\n",
       "    <tr>\n",
       "      <th>122</th>\n",
       "      <td>ecfp</td>\n",
       "      <td>39.458332</td>\n",
       "      <td>0.0</td>\n",
       "      <td>9.137719</td>\n",
       "      <td>0.0</td>\n",
       "      <td>1.591821</td>\n",
       "      <td>0.000344</td>\n",
       "      <td>7582.0</td>\n",
       "      <td>947.0</td>\n",
       "      <td>NaN</td>\n",
       "      <td>3.635443e-07</td>\n",
       "    </tr>\n",
       "    <tr>\n",
       "      <th>123</th>\n",
       "      <td>ecfp</td>\n",
       "      <td>62.555557</td>\n",
       "      <td>0.0</td>\n",
       "      <td>9.877193</td>\n",
       "      <td>0.0</td>\n",
       "      <td>0.925645</td>\n",
       "      <td>0.000280</td>\n",
       "      <td>4421.0</td>\n",
       "      <td>563.0</td>\n",
       "      <td>NaN</td>\n",
       "      <td>4.975876e-07</td>\n",
       "    </tr>\n",
       "    <tr>\n",
       "      <th>124</th>\n",
       "      <td>ecfp</td>\n",
       "      <td>16.688889</td>\n",
       "      <td>0.0</td>\n",
       "      <td>9.661989</td>\n",
       "      <td>0.0</td>\n",
       "      <td>1.260107</td>\n",
       "      <td>0.000289</td>\n",
       "      <td>6022.0</td>\n",
       "      <td>751.0</td>\n",
       "      <td>NaN</td>\n",
       "      <td>3.847714e-07</td>\n",
       "    </tr>\n",
       "    <tr>\n",
       "      <th>125</th>\n",
       "      <td>ecfp</td>\n",
       "      <td>42.534885</td>\n",
       "      <td>0.0</td>\n",
       "      <td>9.994535</td>\n",
       "      <td>0.0</td>\n",
       "      <td>3.193158</td>\n",
       "      <td>0.000301</td>\n",
       "      <td>14622.0</td>\n",
       "      <td>1829.0</td>\n",
       "      <td>NaN</td>\n",
       "      <td>1.646379e-07</td>\n",
       "    </tr>\n",
       "    <tr>\n",
       "      <th>126</th>\n",
       "      <td>ecfp</td>\n",
       "      <td>47.467739</td>\n",
       "      <td>0.0</td>\n",
       "      <td>9.815364</td>\n",
       "      <td>0.0</td>\n",
       "      <td>5.185891</td>\n",
       "      <td>0.000355</td>\n",
       "      <td>23591.0</td>\n",
       "      <td>2943.0</td>\n",
       "      <td>NaN</td>\n",
       "      <td>1.204650e-07</td>\n",
       "    </tr>\n",
       "    <tr>\n",
       "      <th>127</th>\n",
       "      <td>ecfp</td>\n",
       "      <td>50.428574</td>\n",
       "      <td>0.0</td>\n",
       "      <td>9.805555</td>\n",
       "      <td>0.0</td>\n",
       "      <td>0.622899</td>\n",
       "      <td>0.000354</td>\n",
       "      <td>2861.0</td>\n",
       "      <td>353.0</td>\n",
       "      <td>NaN</td>\n",
       "      <td>1.002979e-06</td>\n",
       "    </tr>\n",
       "    <tr>\n",
       "      <th>128</th>\n",
       "      <td>ecfp</td>\n",
       "      <td>7.350000</td>\n",
       "      <td>0.0</td>\n",
       "      <td>7.350000</td>\n",
       "      <td>0.0</td>\n",
       "      <td>0.237892</td>\n",
       "      <td>0.340910</td>\n",
       "      <td>1156.0</td>\n",
       "      <td>147.0</td>\n",
       "      <td>NaN</td>\n",
       "      <td>2.319119e-03</td>\n",
       "    </tr>\n",
       "    <tr>\n",
       "      <th>129</th>\n",
       "      <td>ecfp</td>\n",
       "      <td>70.322578</td>\n",
       "      <td>0.0</td>\n",
       "      <td>10.000000</td>\n",
       "      <td>0.0</td>\n",
       "      <td>3.680393</td>\n",
       "      <td>0.000312</td>\n",
       "      <td>17484.0</td>\n",
       "      <td>2180.0</td>\n",
       "      <td>NaN</td>\n",
       "      <td>1.431605e-07</td>\n",
       "    </tr>\n",
       "    <tr>\n",
       "      <th>130</th>\n",
       "      <td>ecfp</td>\n",
       "      <td>58.823078</td>\n",
       "      <td>0.0</td>\n",
       "      <td>9.424874</td>\n",
       "      <td>0.0</td>\n",
       "      <td>4.291656</td>\n",
       "      <td>0.000329</td>\n",
       "      <td>20290.0</td>\n",
       "      <td>2549.0</td>\n",
       "      <td>NaN</td>\n",
       "      <td>1.288901e-07</td>\n",
       "    </tr>\n",
       "    <tr>\n",
       "      <th>131</th>\n",
       "      <td>ecfp</td>\n",
       "      <td>46.055557</td>\n",
       "      <td>0.0</td>\n",
       "      <td>9.987952</td>\n",
       "      <td>0.0</td>\n",
       "      <td>1.439022</td>\n",
       "      <td>0.000314</td>\n",
       "      <td>6663.0</td>\n",
       "      <td>829.0</td>\n",
       "      <td>NaN</td>\n",
       "      <td>3.784787e-07</td>\n",
       "    </tr>\n",
       "    <tr>\n",
       "      <th>132</th>\n",
       "      <td>ecfp</td>\n",
       "      <td>16.840000</td>\n",
       "      <td>0.0</td>\n",
       "      <td>9.905882</td>\n",
       "      <td>0.0</td>\n",
       "      <td>1.481516</td>\n",
       "      <td>0.000321</td>\n",
       "      <td>6703.0</td>\n",
       "      <td>842.0</td>\n",
       "      <td>NaN</td>\n",
       "      <td>3.814131e-07</td>\n",
       "    </tr>\n",
       "    <tr>\n",
       "      <th>133</th>\n",
       "      <td>ecfp</td>\n",
       "      <td>32.840000</td>\n",
       "      <td>0.0</td>\n",
       "      <td>9.752485</td>\n",
       "      <td>0.0</td>\n",
       "      <td>2.704157</td>\n",
       "      <td>0.000312</td>\n",
       "      <td>13168.0</td>\n",
       "      <td>1642.0</td>\n",
       "      <td>NaN</td>\n",
       "      <td>1.897765e-07</td>\n",
       "    </tr>\n",
       "    <tr>\n",
       "      <th>134</th>\n",
       "      <td>ecfp</td>\n",
       "      <td>91.857140</td>\n",
       "      <td>0.0</td>\n",
       "      <td>9.892307</td>\n",
       "      <td>0.0</td>\n",
       "      <td>1.129943</td>\n",
       "      <td>0.000322</td>\n",
       "      <td>5145.0</td>\n",
       "      <td>643.0</td>\n",
       "      <td>NaN</td>\n",
       "      <td>5.009386e-07</td>\n",
       "    </tr>\n",
       "    <tr>\n",
       "      <th>135</th>\n",
       "      <td>ecfp</td>\n",
       "      <td>26.000000</td>\n",
       "      <td>0.0</td>\n",
       "      <td>9.904762</td>\n",
       "      <td>0.0</td>\n",
       "      <td>0.367735</td>\n",
       "      <td>0.001829</td>\n",
       "      <td>1653.0</td>\n",
       "      <td>208.0</td>\n",
       "      <td>NaN</td>\n",
       "      <td>8.792831e-06</td>\n",
       "    </tr>\n",
       "    <tr>\n",
       "      <th>136</th>\n",
       "      <td>ecfp</td>\n",
       "      <td>58.527779</td>\n",
       "      <td>0.0</td>\n",
       "      <td>9.708399</td>\n",
       "      <td>0.0</td>\n",
       "      <td>3.519692</td>\n",
       "      <td>0.000282</td>\n",
       "      <td>16925.0</td>\n",
       "      <td>2107.0</td>\n",
       "      <td>NaN</td>\n",
       "      <td>1.337498e-07</td>\n",
       "    </tr>\n",
       "    <tr>\n",
       "      <th>137</th>\n",
       "      <td>ecfp</td>\n",
       "      <td>55.560001</td>\n",
       "      <td>0.0</td>\n",
       "      <td>9.851064</td>\n",
       "      <td>0.0</td>\n",
       "      <td>0.751222</td>\n",
       "      <td>0.000325</td>\n",
       "      <td>3697.0</td>\n",
       "      <td>463.0</td>\n",
       "      <td>NaN</td>\n",
       "      <td>7.013523e-07</td>\n",
       "    </tr>\n",
       "    <tr>\n",
       "      <th>138</th>\n",
       "      <td>ecfp</td>\n",
       "      <td>73.906975</td>\n",
       "      <td>0.0</td>\n",
       "      <td>9.761298</td>\n",
       "      <td>0.0</td>\n",
       "      <td>5.245980</td>\n",
       "      <td>0.000340</td>\n",
       "      <td>25336.0</td>\n",
       "      <td>3178.0</td>\n",
       "      <td>NaN</td>\n",
       "      <td>1.069808e-07</td>\n",
       "    </tr>\n",
       "    <tr>\n",
       "      <th>139</th>\n",
       "      <td>ecfp</td>\n",
       "      <td>47.416668</td>\n",
       "      <td>0.0</td>\n",
       "      <td>9.427876</td>\n",
       "      <td>0.0</td>\n",
       "      <td>2.840715</td>\n",
       "      <td>0.000338</td>\n",
       "      <td>13688.0</td>\n",
       "      <td>1707.0</td>\n",
       "      <td>NaN</td>\n",
       "      <td>1.980536e-07</td>\n",
       "    </tr>\n",
       "    <tr>\n",
       "      <th>140</th>\n",
       "      <td>ecfp</td>\n",
       "      <td>53.836735</td>\n",
       "      <td>0.0</td>\n",
       "      <td>9.992424</td>\n",
       "      <td>0.0</td>\n",
       "      <td>4.318570</td>\n",
       "      <td>2.423766</td>\n",
       "      <td>21092.0</td>\n",
       "      <td>2638.0</td>\n",
       "      <td>NaN</td>\n",
       "      <td>9.187893e-04</td>\n",
       "    </tr>\n",
       "    <tr>\n",
       "      <th>141</th>\n",
       "      <td>ecfp</td>\n",
       "      <td>52.037037</td>\n",
       "      <td>0.0</td>\n",
       "      <td>9.964539</td>\n",
       "      <td>0.0</td>\n",
       "      <td>2.320471</td>\n",
       "      <td>1.556130</td>\n",
       "      <td>11241.0</td>\n",
       "      <td>1405.0</td>\n",
       "      <td>NaN</td>\n",
       "      <td>1.107566e-03</td>\n",
       "    </tr>\n",
       "    <tr>\n",
       "      <th>142</th>\n",
       "      <td>ecfp</td>\n",
       "      <td>58.000000</td>\n",
       "      <td>0.0</td>\n",
       "      <td>9.666667</td>\n",
       "      <td>0.0</td>\n",
       "      <td>0.405584</td>\n",
       "      <td>0.000381</td>\n",
       "      <td>1855.0</td>\n",
       "      <td>232.0</td>\n",
       "      <td>NaN</td>\n",
       "      <td>1.640155e-06</td>\n",
       "    </tr>\n",
       "    <tr>\n",
       "      <th>143</th>\n",
       "      <td>ecfp</td>\n",
       "      <td>70.090912</td>\n",
       "      <td>0.0</td>\n",
       "      <td>9.948387</td>\n",
       "      <td>0.0</td>\n",
       "      <td>2.706334</td>\n",
       "      <td>0.000312</td>\n",
       "      <td>12355.0</td>\n",
       "      <td>1542.0</td>\n",
       "      <td>NaN</td>\n",
       "      <td>2.025476e-07</td>\n",
       "    </tr>\n",
       "    <tr>\n",
       "      <th>144</th>\n",
       "      <td>ecfp</td>\n",
       "      <td>66.500000</td>\n",
       "      <td>0.0</td>\n",
       "      <td>9.975000</td>\n",
       "      <td>0.0</td>\n",
       "      <td>0.648338</td>\n",
       "      <td>0.002100</td>\n",
       "      <td>3177.0</td>\n",
       "      <td>399.0</td>\n",
       "      <td>NaN</td>\n",
       "      <td>5.263732e-06</td>\n",
       "    </tr>\n",
       "    <tr>\n",
       "      <th>145</th>\n",
       "      <td>ecfp</td>\n",
       "      <td>44.428574</td>\n",
       "      <td>0.0</td>\n",
       "      <td>8.507599</td>\n",
       "      <td>0.0</td>\n",
       "      <td>1.569955</td>\n",
       "      <td>0.000297</td>\n",
       "      <td>7420.0</td>\n",
       "      <td>933.0</td>\n",
       "      <td>NaN</td>\n",
       "      <td>3.184025e-07</td>\n",
       "    </tr>\n",
       "    <tr>\n",
       "      <th>146</th>\n",
       "      <td>ecfp</td>\n",
       "      <td>45.285713</td>\n",
       "      <td>0.0</td>\n",
       "      <td>9.906250</td>\n",
       "      <td>0.0</td>\n",
       "      <td>1.036353</td>\n",
       "      <td>0.000293</td>\n",
       "      <td>5064.0</td>\n",
       "      <td>634.0</td>\n",
       "      <td>NaN</td>\n",
       "      <td>4.625471e-07</td>\n",
       "    </tr>\n",
       "    <tr>\n",
       "      <th>147</th>\n",
       "      <td>ecfp</td>\n",
       "      <td>40.512821</td>\n",
       "      <td>0.0</td>\n",
       "      <td>9.743589</td>\n",
       "      <td>0.0</td>\n",
       "      <td>2.643518</td>\n",
       "      <td>0.000275</td>\n",
       "      <td>12693.0</td>\n",
       "      <td>1580.0</td>\n",
       "      <td>NaN</td>\n",
       "      <td>1.739852e-07</td>\n",
       "    </tr>\n",
       "    <tr>\n",
       "      <th>148</th>\n",
       "      <td>ecfp</td>\n",
       "      <td>89.166664</td>\n",
       "      <td>0.0</td>\n",
       "      <td>9.907408</td>\n",
       "      <td>0.0</td>\n",
       "      <td>0.868551</td>\n",
       "      <td>0.000298</td>\n",
       "      <td>4299.0</td>\n",
       "      <td>535.0</td>\n",
       "      <td>NaN</td>\n",
       "      <td>5.561615e-07</td>\n",
       "    </tr>\n",
       "    <tr>\n",
       "      <th>149</th>\n",
       "      <td>ecfp</td>\n",
       "      <td>47.531914</td>\n",
       "      <td>0.0</td>\n",
       "      <td>9.761018</td>\n",
       "      <td>0.0</td>\n",
       "      <td>3.948551</td>\n",
       "      <td>0.000351</td>\n",
       "      <td>17768.0</td>\n",
       "      <td>2234.0</td>\n",
       "      <td>NaN</td>\n",
       "      <td>1.569891e-07</td>\n",
       "    </tr>\n",
       "    <tr>\n",
       "      <th>150</th>\n",
       "      <td>ecfp</td>\n",
       "      <td>24.583334</td>\n",
       "      <td>0.0</td>\n",
       "      <td>7.375000</td>\n",
       "      <td>0.0</td>\n",
       "      <td>0.492671</td>\n",
       "      <td>0.000304</td>\n",
       "      <td>2322.0</td>\n",
       "      <td>295.0</td>\n",
       "      <td>NaN</td>\n",
       "      <td>1.031261e-06</td>\n",
       "    </tr>\n",
       "    <tr>\n",
       "      <th>151</th>\n",
       "      <td>ecfp</td>\n",
       "      <td>44.941177</td>\n",
       "      <td>0.0</td>\n",
       "      <td>9.922078</td>\n",
       "      <td>0.0</td>\n",
       "      <td>1.239687</td>\n",
       "      <td>0.000273</td>\n",
       "      <td>6065.0</td>\n",
       "      <td>764.0</td>\n",
       "      <td>NaN</td>\n",
       "      <td>3.576279e-07</td>\n",
       "    </tr>\n",
       "  </tbody>\n",
       "</table>\n",
       "</div>"
      ],
      "text/plain": [
       "    model  enrich-1-mean  enrich-1-std  enrich-10-mean  enrich-10-std  \\\n",
       "114  ecfp      47.285717           0.0        9.735294            0.0   \n",
       "115  ecfp      48.451611           0.0        9.947020            0.0   \n",
       "116  ecfp      15.555555           0.0       10.000000            0.0   \n",
       "117  ecfp      67.000000           0.0        9.925926            0.0   \n",
       "118  ecfp      55.000004           0.0        9.814815            0.0   \n",
       "119  ecfp      38.409088           0.0        9.941176            0.0   \n",
       "120  ecfp      49.688522           0.0        9.806946            0.0   \n",
       "121  ecfp      57.400002           0.0        9.896552            0.0   \n",
       "122  ecfp      39.458332           0.0        9.137719            0.0   \n",
       "123  ecfp      62.555557           0.0        9.877193            0.0   \n",
       "124  ecfp      16.688889           0.0        9.661989            0.0   \n",
       "125  ecfp      42.534885           0.0        9.994535            0.0   \n",
       "126  ecfp      47.467739           0.0        9.815364            0.0   \n",
       "127  ecfp      50.428574           0.0        9.805555            0.0   \n",
       "128  ecfp       7.350000           0.0        7.350000            0.0   \n",
       "129  ecfp      70.322578           0.0       10.000000            0.0   \n",
       "130  ecfp      58.823078           0.0        9.424874            0.0   \n",
       "131  ecfp      46.055557           0.0        9.987952            0.0   \n",
       "132  ecfp      16.840000           0.0        9.905882            0.0   \n",
       "133  ecfp      32.840000           0.0        9.752485            0.0   \n",
       "134  ecfp      91.857140           0.0        9.892307            0.0   \n",
       "135  ecfp      26.000000           0.0        9.904762            0.0   \n",
       "136  ecfp      58.527779           0.0        9.708399            0.0   \n",
       "137  ecfp      55.560001           0.0        9.851064            0.0   \n",
       "138  ecfp      73.906975           0.0        9.761298            0.0   \n",
       "139  ecfp      47.416668           0.0        9.427876            0.0   \n",
       "140  ecfp      53.836735           0.0        9.992424            0.0   \n",
       "141  ecfp      52.037037           0.0        9.964539            0.0   \n",
       "142  ecfp      58.000000           0.0        9.666667            0.0   \n",
       "143  ecfp      70.090912           0.0        9.948387            0.0   \n",
       "144  ecfp      66.500000           0.0        9.975000            0.0   \n",
       "145  ecfp      44.428574           0.0        8.507599            0.0   \n",
       "146  ecfp      45.285713           0.0        9.906250            0.0   \n",
       "147  ecfp      40.512821           0.0        9.743589            0.0   \n",
       "148  ecfp      89.166664           0.0        9.907408            0.0   \n",
       "149  ecfp      47.531914           0.0        9.761018            0.0   \n",
       "150  ecfp      24.583334           0.0        7.375000            0.0   \n",
       "151  ecfp      44.941177           0.0        9.922078            0.0   \n",
       "\n",
       "     train_time  test_time  train_size  test_size  metric  latency_per_mol  \n",
       "114    0.537853   0.000363      2660.0      331.0     NaN     1.095573e-06  \n",
       "115    2.550174   0.000294     12019.0     1502.0     NaN     1.958778e-07  \n",
       "116    0.237486   0.000361      1108.0      140.0     NaN     2.578327e-06  \n",
       "117    0.444329   0.000361      2130.0      268.0     NaN     1.346887e-06  \n",
       "118    5.232301   0.000352     23680.0     2970.0     NaN     1.185671e-07  \n",
       "119    1.417409   0.000305      6758.0      845.0     NaN     3.608726e-07  \n",
       "120    5.056425   0.000297     24390.0     3031.0     NaN     9.785309e-08  \n",
       "121    0.950352   0.000302      4565.0      574.0     NaN     5.258500e-07  \n",
       "122    1.591821   0.000344      7582.0      947.0     NaN     3.635443e-07  \n",
       "123    0.925645   0.000280      4421.0      563.0     NaN     4.975876e-07  \n",
       "124    1.260107   0.000289      6022.0      751.0     NaN     3.847714e-07  \n",
       "125    3.193158   0.000301     14622.0     1829.0     NaN     1.646379e-07  \n",
       "126    5.185891   0.000355     23591.0     2943.0     NaN     1.204650e-07  \n",
       "127    0.622899   0.000354      2861.0      353.0     NaN     1.002979e-06  \n",
       "128    0.237892   0.340910      1156.0      147.0     NaN     2.319119e-03  \n",
       "129    3.680393   0.000312     17484.0     2180.0     NaN     1.431605e-07  \n",
       "130    4.291656   0.000329     20290.0     2549.0     NaN     1.288901e-07  \n",
       "131    1.439022   0.000314      6663.0      829.0     NaN     3.784787e-07  \n",
       "132    1.481516   0.000321      6703.0      842.0     NaN     3.814131e-07  \n",
       "133    2.704157   0.000312     13168.0     1642.0     NaN     1.897765e-07  \n",
       "134    1.129943   0.000322      5145.0      643.0     NaN     5.009386e-07  \n",
       "135    0.367735   0.001829      1653.0      208.0     NaN     8.792831e-06  \n",
       "136    3.519692   0.000282     16925.0     2107.0     NaN     1.337498e-07  \n",
       "137    0.751222   0.000325      3697.0      463.0     NaN     7.013523e-07  \n",
       "138    5.245980   0.000340     25336.0     3178.0     NaN     1.069808e-07  \n",
       "139    2.840715   0.000338     13688.0     1707.0     NaN     1.980536e-07  \n",
       "140    4.318570   2.423766     21092.0     2638.0     NaN     9.187893e-04  \n",
       "141    2.320471   1.556130     11241.0     1405.0     NaN     1.107566e-03  \n",
       "142    0.405584   0.000381      1855.0      232.0     NaN     1.640155e-06  \n",
       "143    2.706334   0.000312     12355.0     1542.0     NaN     2.025476e-07  \n",
       "144    0.648338   0.002100      3177.0      399.0     NaN     5.263732e-06  \n",
       "145    1.569955   0.000297      7420.0      933.0     NaN     3.184025e-07  \n",
       "146    1.036353   0.000293      5064.0      634.0     NaN     4.625471e-07  \n",
       "147    2.643518   0.000275     12693.0     1580.0     NaN     1.739852e-07  \n",
       "148    0.868551   0.000298      4299.0      535.0     NaN     5.561615e-07  \n",
       "149    3.948551   0.000351     17768.0     2234.0     NaN     1.569891e-07  \n",
       "150    0.492671   0.000304      2322.0      295.0     NaN     1.031261e-06  \n",
       "151    1.239687   0.000273      6065.0      764.0     NaN     3.576279e-07  "
      ]
     },
     "execution_count": 30,
     "metadata": {},
     "output_type": "execute_result"
    }
   ],
   "source": [
    "model_metric_df[model_metric_df[\"model\"] == \"ecfp\"]"
   ]
  },
  {
   "cell_type": "code",
   "execution_count": 31,
   "metadata": {},
   "outputs": [
    {
     "name": "stdout",
     "output_type": "stream",
     "text": [
      "Vina (38, 11)\n",
      "ecfp (38, 11)\n",
      "mlp (38, 11)\n",
      "rf (38, 11)\n",
      "rp (38, 11)\n",
      "selfies.atomwise (38, 11)\n",
      "smiles-pe.atomwise.0 (38, 11)\n",
      "smiles-pe.bpe.0 (38, 11)\n"
     ]
    }
   ],
   "source": [
    "for group_name, group_df in model_metric_df.groupby(\"model\"):\n",
    "    print(group_name, group_df.shape)\n"
   ]
  },
  {
   "cell_type": "code",
   "execution_count": 32,
   "metadata": {
    "scrolled": false
   },
   "outputs": [
    {
     "data": {
      "image/png": "[encoded data removed]",
      "text/plain": [
       "<Figure size 1008x576 with 1 Axes>"
      ]
     },
     "metadata": {
      "needs_background": "light"
     },
     "output_type": "display_data"
    }
   ],
   "source": [
    "f, ax = plt.subplots(1,1, figsize=(14,8))\n",
    "\n",
    "# for group_name, group_df in model_metric_df.groupby(\"model\"):\n",
    "#     sns.boxplot(data=group_df, x=\"train_time\", ax=ax)\n",
    "g = sns.boxplot(data=model_metric_df[model_metric_df[\"model\"] != \"Vina\"], x=\"model\", y=\"train_time\", ax=ax, palette=color_dict)\n",
    "ax.tick_params(axis=\"x\", labelrotation=22.5)\n",
    "g.set_yscale(\"log\")"
   ]
  },
  {
   "cell_type": "code",
   "execution_count": 33,
   "metadata": {},
   "outputs": [],
   "source": [
    "group_dict = {group_name: group_df for group_name, group_df in model_metric_df.groupby('model')}"
   ]
  },
  {
   "cell_type": "code",
   "execution_count": 34,
   "metadata": {},
   "outputs": [
    {
     "data": {
      "text/plain": [
       "dict_keys(['Vina', 'ecfp', 'mlp', 'rf', 'rp', 'selfies.atomwise', 'smiles-pe.atomwise.0', 'smiles-pe.bpe.0'])"
      ]
     },
     "execution_count": 34,
     "metadata": {},
     "output_type": "execute_result"
    }
   ],
   "source": [
    "group_dict.keys()"
   ]
  },
  {
   "cell_type": "code",
   "execution_count": 35,
   "metadata": {},
   "outputs": [],
   "source": [
    "# group_dict[\"rp\"][\"train_time\"].mean() / group_dict[\"openhd-rp\"][\"train_time\"].mean()"
   ]
  },
  {
   "cell_type": "code",
   "execution_count": 36,
   "metadata": {},
   "outputs": [],
   "source": [
    "# group_dict[\"ecfp\"][\"train_time\"].mean() / group_dict[\"openhd-ecfp\"][\"train_time\"].mean()"
   ]
  },
  {
   "cell_type": "code",
   "execution_count": 37,
   "metadata": {},
   "outputs": [
    {
     "data": {
      "image/png": "[encoded data removed]",
      "text/plain": [
       "<Figure size 1008x576 with 1 Axes>"
      ]
     },
     "metadata": {
      "needs_background": "light"
     },
     "output_type": "display_data"
    }
   ],
   "source": [
    "f, ax = plt.subplots(1,1, figsize=(14,8))\n",
    "\n",
    "g = sns.boxplot(data=model_metric_df[model_metric_df[\"model\"] != \"Vina\"], x=\"model\", y=\"test_time\", ax=ax, palette=color_dict)\n",
    "ax.tick_params(axis=\"x\", labelrotation=22.5)\n",
    "g.set_yscale(\"log\")"
   ]
  },
  {
   "cell_type": "code",
   "execution_count": 38,
   "metadata": {},
   "outputs": [],
   "source": [
    "# sns.lineplot(data=model_metric_df, x=\"model\", y=\"test_time\")"
   ]
  },
  {
   "cell_type": "code",
   "execution_count": 39,
   "metadata": {},
   "outputs": [
    {
     "data": {
      "text/plain": [
       "2.6115224186583807e-05"
      ]
     },
     "execution_count": 39,
     "metadata": {},
     "output_type": "execute_result"
    }
   ],
   "source": [
    "group_dict[\"rf\"][\"test_time\"].mean() / group_dict[\"rf\"][\"test_size\"].mean()"
   ]
  },
  {
   "cell_type": "code",
   "execution_count": 40,
   "metadata": {},
   "outputs": [
    {
     "data": {
      "text/plain": [
       "1.415715472574189e-05"
      ]
     },
     "execution_count": 40,
     "metadata": {},
     "output_type": "execute_result"
    }
   ],
   "source": [
    "group_dict[\"mlp\"][\"test_time\"].mean() / group_dict[\"mlp\"][\"test_size\"].mean()"
   ]
  },
  {
   "cell_type": "code",
   "execution_count": 41,
   "metadata": {},
   "outputs": [
    {
     "data": {
      "text/plain": [
       "9.276680036917878e-05"
      ]
     },
     "execution_count": 41,
     "metadata": {},
     "output_type": "execute_result"
    }
   ],
   "source": [
    "group_dict[\"ecfp\"][\"test_time\"].mean() / group_dict[\"ecfp\"][\"test_size\"].mean()"
   ]
  },
  {
   "cell_type": "code",
   "execution_count": 42,
   "metadata": {},
   "outputs": [
    {
     "data": {
      "text/plain": [
       "3.4486592151386436e-07"
      ]
     },
     "execution_count": 42,
     "metadata": {},
     "output_type": "execute_result"
    }
   ],
   "source": [
    "group_dict[\"rp\"][\"test_time\"].mean() / group_dict[\"rp\"][\"test_size\"].mean()"
   ]
  },
  {
   "cell_type": "code",
   "execution_count": 43,
   "metadata": {},
   "outputs": [
    {
     "data": {
      "image/png": "[encoded data removed]",
      "text/plain": [
       "<Figure size 1008x576 with 1 Axes>"
      ]
     },
     "metadata": {
      "needs_background": "light"
     },
     "output_type": "display_data"
    }
   ],
   "source": [
    "f, ax = plt.subplots(1,1, figsize=(14,8))\n",
    "\n",
    "g = sns.boxplot(data=model_metric_df[model_metric_df[\"model\"] != \"Vina\"], x=\"model\", y=\"latency_per_mol\", ax=ax, palette=color_dict)\n",
    "ax.tick_params(axis=\"x\", labelrotation=22.5)\n",
    "g.set_yscale(\"log\")\n",
    "\n",
    "ax.set_ylabel(\"latency (s) / molecule\")\n",
    "ax.set_xlabel(\"\")\n",
    "labels = [model_name_dict[x.get_text()] for x in ax.get_xticklabels()]\n",
    "ax.set_xticklabels(labels)\n",
    "plt.savefig(\"dude_speedup.png\", dpi=600, bbox_inches=\"tight\")"
   ]
  },
  {
   "cell_type": "code",
   "execution_count": 44,
   "metadata": {},
   "outputs": [
    {
     "data": {
      "text/plain": [
       "60.279345187699654"
      ]
     },
     "execution_count": 44,
     "metadata": {},
     "output_type": "execute_result"
    }
   ],
   "source": [
    "group_dict[\"rf\"][\"latency_per_mol\"].mean() / group_dict[\"rp\"][\"latency_per_mol\"].mean()"
   ]
  },
  {
   "cell_type": "code",
   "execution_count": 45,
   "metadata": {},
   "outputs": [
    {
     "data": {
      "text/plain": [
       "0.41587807859193654"
      ]
     },
     "execution_count": 45,
     "metadata": {},
     "output_type": "execute_result"
    }
   ],
   "source": [
    "group_dict[\"rf\"][\"latency_per_mol\"].mean() / group_dict[\"ecfp\"][\"latency_per_mol\"].mean()"
   ]
  },
  {
   "cell_type": "code",
   "execution_count": 46,
   "metadata": {},
   "outputs": [
    {
     "data": {
      "text/plain": [
       "1.945555416117614"
      ]
     },
     "execution_count": 46,
     "metadata": {},
     "output_type": "execute_result"
    }
   ],
   "source": [
    "group_dict[\"rf\"][\"latency_per_mol\"].mean() / group_dict[\"selfies.atomwise\"][\"latency_per_mol\"].mean()"
   ]
  },
  {
   "cell_type": "code",
   "execution_count": 47,
   "metadata": {},
   "outputs": [
    {
     "data": {
      "text/plain": [
       "7.003237939426028"
      ]
     },
     "execution_count": 47,
     "metadata": {},
     "output_type": "execute_result"
    }
   ],
   "source": [
    "group_dict[\"rf\"][\"latency_per_mol\"].mean() / group_dict[\"smiles-pe.atomwise.0\"][\"latency_per_mol\"].mean()"
   ]
  },
  {
   "cell_type": "code",
   "execution_count": 48,
   "metadata": {},
   "outputs": [
    {
     "data": {
      "text/plain": [
       "1.9251243427940352"
      ]
     },
     "execution_count": 48,
     "metadata": {},
     "output_type": "execute_result"
    }
   ],
   "source": [
    "group_dict[\"rf\"][\"latency_per_mol\"].mean() / group_dict[\"smiles-pe.bpe.0\"][\"latency_per_mol\"].mean()"
   ]
  },
  {
   "cell_type": "code",
   "execution_count": null,
   "metadata": {},
   "outputs": [],
   "source": []
  },
  {
   "cell_type": "code",
   "execution_count": 49,
   "metadata": {},
   "outputs": [
    {
     "data": {
      "text/plain": [
       "2.6749758301953697"
      ]
     },
     "execution_count": 49,
     "metadata": {},
     "output_type": "execute_result"
    }
   ],
   "source": [
    "group_dict[\"rf\"][\"latency_per_mol\"].median() / group_dict[\"mlp\"][\"latency_per_mol\"].median()"
   ]
  },
  {
   "cell_type": "code",
   "execution_count": 50,
   "metadata": {},
   "outputs": [
    {
     "data": {
      "text/plain": [
       "79.36621231298405"
      ]
     },
     "execution_count": 50,
     "metadata": {},
     "output_type": "execute_result"
    }
   ],
   "source": [
    "group_dict[\"rf\"][\"latency_per_mol\"].median() / group_dict[\"rp\"][\"latency_per_mol\"].median()"
   ]
  },
  {
   "cell_type": "code",
   "execution_count": 51,
   "metadata": {},
   "outputs": [
    {
     "data": {
      "text/plain": [
       "73.18279441647178"
      ]
     },
     "execution_count": 51,
     "metadata": {},
     "output_type": "execute_result"
    }
   ],
   "source": [
    "group_dict[\"rf\"][\"latency_per_mol\"].median() / group_dict[\"ecfp\"][\"latency_per_mol\"].median()"
   ]
  },
  {
   "cell_type": "code",
   "execution_count": 52,
   "metadata": {},
   "outputs": [
    {
     "data": {
      "text/plain": [
       "90.57242715099825"
      ]
     },
     "execution_count": 52,
     "metadata": {},
     "output_type": "execute_result"
    }
   ],
   "source": [
    "group_dict[\"rf\"][\"latency_per_mol\"].median() / group_dict[\"selfies.atomwise\"][\"latency_per_mol\"].median()"
   ]
  },
  {
   "cell_type": "code",
   "execution_count": 53,
   "metadata": {},
   "outputs": [
    {
     "data": {
      "text/plain": [
       "73.3846691890625"
      ]
     },
     "execution_count": 53,
     "metadata": {},
     "output_type": "execute_result"
    }
   ],
   "source": [
    "group_dict[\"rf\"][\"latency_per_mol\"].median() / group_dict[\"smiles-pe.atomwise.0\"][\"latency_per_mol\"].median()"
   ]
  },
  {
   "cell_type": "code",
   "execution_count": 54,
   "metadata": {},
   "outputs": [
    {
     "data": {
      "text/plain": [
       "67.88869045918152"
      ]
     },
     "execution_count": 54,
     "metadata": {},
     "output_type": "execute_result"
    }
   ],
   "source": [
    "group_dict[\"rf\"][\"latency_per_mol\"].median() / group_dict[\"smiles-pe.bpe.0\"][\"latency_per_mol\"].median()"
   ]
  },
  {
   "cell_type": "code",
   "execution_count": 55,
   "metadata": {},
   "outputs": [
    {
     "name": "stdout",
     "output_type": "stream",
     "text": [
      "Vina-nan\n",
      "ecfp-3.799459022385631e-07\n",
      "mlp-1.039467442622644e-05\n",
      "rf-2.780550285290565e-05\n",
      "rp-3.503443347309238e-07\n",
      "selfies.atomwise-3.069974353955379e-07\n",
      "smiles-pe.atomwise.0-3.7890070446825527e-07\n",
      "smiles-pe.bpe.0-4.09574888907658e-07\n"
     ]
    },
    {
     "name": "stderr",
     "output_type": "stream",
     "text": [
      "/usr/workspace/wsa/jones289/miniconda3/envs/HD_env/lib/python3.8/site-packages/numpy/lib/nanfunctions.py:1216: RuntimeWarning: Mean of empty slice\n",
      "  return np.nanmean(a, axis, out=out, keepdims=keepdims)\n"
     ]
    }
   ],
   "source": [
    "for group_name in group_dict.keys():\n",
    "    print(f\"{group_name}-{group_dict[group_name]['latency_per_mol'].median()}\")"
   ]
  },
  {
   "cell_type": "code",
   "execution_count": null,
   "metadata": {},
   "outputs": [],
   "source": []
  }
 ],
 "metadata": {
  "kernelspec": {
   "display_name": "HD_env",
   "language": "python",
   "name": "hd_env"
  },
  "language_info": {
   "codemirror_mode": {
    "name": "ipython",
    "version": 3
   },
   "file_extension": ".py",
   "mimetype": "text/x-python",
   "name": "python",
   "nbconvert_exporter": "python",
   "pygments_lexer": "ipython3",
   "version": "3.8.12"
  }
 },
 "nbformat": 4,
 "nbformat_minor": 4
}
