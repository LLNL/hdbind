{
 "cells": [
  {
   "cell_type": "markdown",
   "metadata": {},
   "source": [
    "# LIT-PCBA \n",
    "this dataset is a proposed \"more difficult\" test than DUD-E. I used a 75/25 (sklearn default) stratified split. The dataset is heavily imbalanced, like DUD-E."
   ]
  },
  {
   "cell_type": "code",
   "execution_count": 28,
   "metadata": {},
   "outputs": [],
   "source": [
    "import pickle\n",
    "from sklearn.metrics import roc_auc_score\n",
    "import numpy as np\n",
    "import seaborn as sns\n",
    "import torch\n",
    "import seaborn as sns\n",
    "from tqdm import tqdm\n",
    "import pandas as pd\n",
    "from pathlib import Path\n",
    "from sklearn.metrics import f1_score, recall_score\n",
    "import matplotlib.pyplot as plt\n",
    "\n",
    "\n",
    "plt.rc('text', usetex=True)\n",
    "plt.rc('font', family='serif')\n",
    "plt.rc('xtick', labelsize=15)\n",
    "plt.rc('ytick', labelsize=15)\n",
    "plt.rc('axes', labelsize=17)\n",
    "plt.rc('figure', titlesize=20)"
   ]
  },
  {
   "cell_type": "code",
   "execution_count": 29,
   "metadata": {},
   "outputs": [],
   "source": [
    "def compute_enrichment_factor(scores, labels, n_percent):\n",
    "    # this variant implements the equation from Xiaohua's paper\n",
    "\n",
    "    sample_n = int(np.ceil(n_percent * labels.shape[0]))\n",
    "    \n",
    "    \n",
    "    \n",
    "    sorted_scores = sorted(zip(scores, labels), key=lambda x: x[0], reverse=True)\n",
    "\n",
    "    top_n_sorted_scores = sorted_scores[:sample_n]\n",
    "\n",
    "    # counting number of true positives in top x% of sorted compounds\n",
    "    actives_sampled = sum([y for x, y in top_n_sorted_scores])\n",
    "    # labels are binary, sum to count number of actives\n",
    "    actives_database = sum(labels)\n",
    "\n",
    "    norm_factor = (sample_n/len(labels))\n",
    "\n",
    "    return (actives_sampled / actives_database) * (labels.shape[0]/sample_n)\n"
   ]
  },
  {
   "cell_type": "code",
   "execution_count": 45,
   "metadata": {},
   "outputs": [],
   "source": [
    "def compute_average_enrichment(pkl_path, model):\n",
    "    \n",
    "    enrich_1_list = [] \n",
    "    enrich_10_list = []\n",
    "    \n",
    "#     import pdb\n",
    "#     pdb.set_trace()\n",
    "    with open(pkl_path, \"rb\") as handle:\n",
    "        data = pickle.load(handle) # lets just use one seed\n",
    "        \n",
    "#         for seed in data.keys():\n",
    "\n",
    "        range_limit = 10\n",
    "    \n",
    "        if \"openhd\" in str(pkl_path):\n",
    "            range_limit=1\n",
    "        for seed in range(range_limit):\n",
    "#             print(seed)\n",
    "\n",
    "            if isinstance(data[seed][\"y_true\"], np.ndarray):\n",
    "                y_true = data[seed][\"y_true\"]\n",
    "            else:\n",
    "                y_true = np.concatenate(data[seed][\"y_true\"]) \n",
    "            y_pred = np.array(data[seed][\"y_pred\"])\n",
    "\n",
    "    \n",
    "            eta = np.array(data[seed][\"eta\"])\n",
    "\n",
    "            if np.unique(y_true).shape[0] < 2 :\n",
    "                metric = 0\n",
    "            else:\n",
    "                metric = recall_score(y_pred=y_pred, y_true=y_true)\n",
    "                if model in [\"rf\", \"mlp\"]:\n",
    "                    eta= eta[:, 1]\n",
    "\n",
    "            enrich_1 = compute_enrichment_factor(scores=eta, labels=y_true, n_percent=.01)\n",
    "            enrich_1_list.append(enrich_1)\n",
    "                \n",
    "            enrich_10 = compute_enrichment_factor(scores=eta, labels=y_true, n_percent=.1)\n",
    "            enrich_10_list.append(enrich_10)\n",
    "            \n",
    "    \n",
    "    return np.mean(enrich_1_list), np.std(enrich_1_list), np.mean(enrich_10_list), np.std(enrich_10_list)\n",
    "\n",
    "\n",
    "\n",
    "\n",
    "def compute_average_train_time(pkl_path):\n",
    "    print(pkl_path)\n",
    "    train_time_list = []\n",
    "    \n",
    "\n",
    "    with open(pkl_path, \"rb\") as handle:\n",
    "        data = pickle.load(handle) # lets just use one seed\n",
    "        \n",
    "        target = pkl_path.name.split(\".\")[2]\n",
    "        split = pkl_path.name.split(\".\")[1]\n",
    "        model = pkl_path.name.split(\".\")[3]\n",
    "\n",
    "        range_limit = 10\n",
    "    \n",
    "        if \"openhd\" in model:\n",
    "            range_limit=1\n",
    "        for seed in range(range_limit):\n",
    "\n",
    "            train_time  = data[seed][\"train_time\"]\n",
    "\n",
    "            if \"openhd\" in model:\n",
    "                pass\n",
    "            \n",
    "            elif \"mlp\" in model:\n",
    "                train_time = train_time / 10 # trained MLP for max 10 epochs...check that it hits that but assume it didn't converge that quickly\n",
    "            elif \"rf\" in model:\n",
    "                train_time = train_time # there's no concept of epoch in a random forest\n",
    "            else:\n",
    "                train_time = train_time/10 # this should catch all HD models which were trained for 10 epochs per seed\n",
    "            \n",
    "            train_time_list.append(train_time)\n",
    "            \n",
    "            \n",
    "    \n",
    "    return np.mean(train_time_list)\n",
    "\n",
    "\n",
    "\n",
    "def compute_average_inference_time(pkl_path):\n",
    "    \n",
    "    test_time_list = []\n",
    "    \n",
    "\n",
    "    with open(pkl_path, \"rb\") as handle:\n",
    "        data = pickle.load(handle) # lets just use one seed\n",
    "        \n",
    "\n",
    "        range_limit = 10\n",
    "    \n",
    "        if \"openhd\" in str(pkl_path):\n",
    "            range_limit=1\n",
    "        for seed in range(range_limit):\n",
    "\n",
    "            test_time  = data[seed][\"test_time\"]\n",
    "\n",
    "            test_time_list.append(test_time)\n",
    "            \n",
    "            \n",
    "    \n",
    "    return np.mean(test_time_list)\n",
    "                    "
   ]
  },
  {
   "cell_type": "code",
   "execution_count": 46,
   "metadata": {},
   "outputs": [],
   "source": [
    "data_p = Path(\"/g/g13/jones289/workspace/hd-cuda-master/hdpy/hdpy/results/4\")\n",
    "# data_p = Path(\"/g/g13/jones289/workspace/hd-cuda-master/hdpy/hdpy/results/0\")\n",
    "# data_p = Path(\"/usr/WS1/jones289/hd-cuda-master/hdpy/hdpy/before_rng_results/before_rng_results\")"
   ]
  },
  {
   "cell_type": "code",
   "execution_count": 47,
   "metadata": {},
   "outputs": [],
   "source": [
    "def load_pkl(pkl_path, model, return_sizes=False):\n",
    "    \n",
    "    with open(pkl_path, \"rb\") as handle:\n",
    "        data = pickle.load(handle) # lets just use one seed\n",
    "        \n",
    "        \n",
    "        if 0 in data.keys():\n",
    "            data = data[0]\n",
    "\n",
    "        \n",
    "        if \"encode_time\" not in data.keys():\n",
    "            return\n",
    "    \n",
    "    if isinstance(data[\"y_true\"], np.ndarray):\n",
    "        y_true = data[\"y_true\"]\n",
    "    else:\n",
    "        y_true = np.concatenate(data[\"y_true\"]) \n",
    "    y_pred = np.array(data[\"y_pred\"])\n",
    "\n",
    "    \n",
    "    eta = np.array(data[\"eta\"])\n",
    "\n",
    "    if np.unique(y_true).shape[0] < 2 :\n",
    "        metric = 0\n",
    "    else:\n",
    "        metric = recall_score(y_pred=y_pred, y_true=y_true)\n",
    "        if model in [\"rf\", \"mlp\"]:\n",
    "            eta= eta[:, 1]\n",
    "\n",
    "    print(pkl_path)\n",
    "    if return_sizes:\n",
    "        return y_true, y_pred, eta, metric, data[\"encode_time\"], data[\"train_time\"], data[\"test_time\"], data[\"train_size\"], data[\"test_size\"]\n",
    "    else:\n",
    "        return y_true, y_pred, eta, metric, data[\"encode_time\"], data[\"train_time\"], data[\"test_time\"]\n"
   ]
  },
  {
   "cell_type": "markdown",
   "metadata": {},
   "source": [
    "# LIT-PCBA Results"
   ]
  },
  {
   "cell_type": "code",
   "execution_count": 48,
   "metadata": {},
   "outputs": [],
   "source": [
    "green_color_pal = sns.color_palette(\"Greens\", 10)\n",
    "blue_color_pal = sns.color_palette(\"Blues\", 10)\n",
    "rocket_color_pal = sns.color_palette(\"rocket\", 10)"
   ]
  },
  {
   "cell_type": "code",
   "execution_count": 49,
   "metadata": {},
   "outputs": [],
   "source": [
    "color_dict = {\n",
    "    \"smiles-pe.atomwise.0\": rocket_color_pal[2],\n",
    "    \"smiles-pe.bpe.0\": rocket_color_pal[4],   \n",
    "#     \"smiles-pe.ngram.1\": color_pal[0],\n",
    "#     \"selfies.None\": \"purple\",\n",
    "\"selfies.atomwise\": green_color_pal[4],\n",
    "#     \"selfies.selfies-charwise\": color_pal[2],\n",
    "    \"ecfp\": green_color_pal[6],\n",
    "    \"rp\": green_color_pal[8],\n",
    "    \"rf\": blue_color_pal[4],\n",
    "#     \"openhd\": \"green\",\n",
    "    \"mlp\": blue_color_pal[7],\n",
    "#     \"Vina\": color_pal[2]\n",
    "}\n",
    "\n",
    "\n",
    "\n",
    "marker_dict = {\n",
    "#     \"smiles-pe\": \"+\",\n",
    "    \"smiles-pe.atomwise.0\": \"+\",\n",
    "    \"smiles-pe.bpe.0\": \"+\",   \n",
    "#     \"smiles-pe.ngram.1\": \"+\",\n",
    "    \"selfies.atomwise\": \"*\",\n",
    "#     \"selfies.selfies-charwise\": \"*\",\n",
    "    \"ecfp\": \"+\",\n",
    "    \"rp\": \"+\",\n",
    "    \"rf\": \"^\",\n",
    "#     \"openhd\": \"*\",\n",
    "    \"mlp\": \"+\",\n",
    "#     \"Vina\": \"+\"\n",
    "}\n",
    "\n",
    "\n",
    "model_order_list = [\n",
    "    (\"smiles-pe.atomwise.0\", \"MoleHD-Atomw.\"),\n",
    "    (\"smiles-pe.bpe.0\", \"MoleHD-BPE\"),\n",
    "#     (\"smiles-pe.ngram.1\", \"SMILES uni-gram\"),\n",
    "    (\"selfies.atomwise\", \"HDBind-SELFIES\"),\n",
    "#     (\"selfies.selfies-charwise\", \"SELFIES uni-gram\"),\n",
    "    (\"ecfp\", \"HDBind-ECFP\"),\n",
    "    (\"rp\", \"HDBind-ECFP+RP\"),\n",
    "    (\"rf\", \"RF\"),\n",
    "    (\"mlp\", \"MLP\"),\n",
    "#     (\"Vina\", \"Vina\")\n",
    "]\n",
    "\n",
    "\n",
    "model_name_dict = {\n",
    "    \"smiles-pe.atomwise.0\": \"MoleHD-Atomw.\", \n",
    "    \"smiles-pe.bpe.0\": \"MoleHD-BPE\",\n",
    "#     \"smiles-pe.ngram.1\": \"SMILES uni-gram\",\n",
    "    \"selfies.atomwise\": \"HDBind-SELFIES\",\n",
    "#     \"selfies.selfies-charwise\": \"SELFIES uni-gram\",\n",
    "    \"ecfp\": \"HDBind-ECFP\",\n",
    "    \"rp\": \"HDBind-RPFP\",\n",
    "    \"rf\": \"RF\",\n",
    "    \"mlp\": \"MLP\",\n",
    "    \"Vina\": \"Vina\"\n",
    "}\n",
    "\n",
    "\n",
    "linestyle_dict = {\n",
    "    \"smiles-pe.atomwise.0\": \"-\", \n",
    "    \"smiles-pe.bpe.0\": \":\",\n",
    "    \"selfies.None\": \"-\",\n",
    "    \"ecfp\": \":\",\n",
    "    \"rp\": \"-.\",\n",
    "    \"rf\": \"-\",\n",
    "    \"mlp\": \":\",\n",
    "    \"Vina\": \"-\"\n",
    "}"
   ]
  },
  {
   "cell_type": "code",
   "execution_count": 65,
   "metadata": {},
   "outputs": [],
   "source": [
    "def aggregate_results(dataset):\n",
    "    \n",
    "    \n",
    "    \n",
    "    \n",
    "    model_metric_dict = {\"model\": [], \"enrich-1-mean\": [], \n",
    "                         \"enrich-1-std\":[], \"enrich-10-mean\": [], \n",
    "                         \"enrich-10-std\": [], \"train_time\":[], \"test_time\": []}\n",
    "    \n",
    "\n",
    "    enrich_f, enrich_ax = plt.subplots(2,1, figsize=(12,10), sharex=True, sharey=False)\n",
    "    enrich_ax = enrich_ax.flatten()\n",
    "    enrich_1_ax, enrich_10_ax = enrich_ax[0], enrich_ax[1]\n",
    "\n",
    "    for model, color in color_dict.items():\n",
    "                        \n",
    "        metric_list = []\n",
    "        encode_time_list = []\n",
    "        train_time_list = []\n",
    "        test_time_list = []\n",
    "        eta_list = []\n",
    "        \n",
    "        \n",
    "        data_path_list = list(data_p.glob(f\"{dataset}*.{model}*pkl\"))\n",
    "        \n",
    "        train_size_list = []\n",
    "        test_size_list = []\n",
    "        target_size_list = []\n",
    "\n",
    "        \n",
    "        for path in tqdm(data_path_list, total=len(data_path_list)):\n",
    "            \n",
    "            target = path.name.split(\".\")[2]\n",
    "            split = path.name.split(\".\")[1]\n",
    "            \n",
    "                \n",
    "                \n",
    "            enrich_1_mean, enrich_1_std, enrich_10_mean, enrich_10_std = compute_average_enrichment(path, model=model)\n",
    "            train_time_mean = compute_average_train_time(path)\n",
    "            test_time_mean = compute_average_inference_time(path)\n",
    "            \n",
    "            \n",
    "            model_metric_dict[\"model\"].append(model)\n",
    "            model_metric_dict[\"enrich-1-mean\"].append(enrich_1_mean)\n",
    "            model_metric_dict[\"enrich-1-std\"].append(enrich_1_std)\n",
    "            model_metric_dict[\"enrich-10-mean\"].append(enrich_10_mean)\n",
    "            model_metric_dict[\"enrich-10-std\"].append(enrich_10_std)\n",
    "            model_metric_dict[\"train_time\"].append(train_time_mean)\n",
    "            model_metric_dict[\"test_time\"].append(test_time_mean)\n",
    "\n",
    "    return enrich_f, enrich_1_ax, enrich_10_ax, model_metric_dict\n",
    "\n",
    "\n"
   ]
  },
  {
   "cell_type": "code",
   "execution_count": 66,
   "metadata": {
    "scrolled": false
   },
   "outputs": [
    {
     "name": "stderr",
     "output_type": "stream",
     "text": [
      "\r",
      "  0%|          | 0/15 [00:00<?, ?it/s]"
     ]
    },
    {
     "name": "stdout",
     "output_type": "stream",
     "text": [
      "/g/g13/jones289/workspace/hd-cuda-master/hdpy/hdpy/results/4/lit_pcba.GBA.smiles-pe.atomwise.0.pkl\n"
     ]
    },
    {
     "name": "stderr",
     "output_type": "stream",
     "text": [
      "\r",
      "  7%|▋         | 1/15 [00:15<03:35, 15.39s/it]"
     ]
    },
    {
     "name": "stdout",
     "output_type": "stream",
     "text": [
      "/g/g13/jones289/workspace/hd-cuda-master/hdpy/hdpy/results/4/lit_pcba.IDH1.smiles-pe.atomwise.0.pkl\n"
     ]
    },
    {
     "name": "stderr",
     "output_type": "stream",
     "text": [
      "\r",
      " 13%|█▎        | 2/15 [00:35<03:59, 18.42s/it]"
     ]
    },
    {
     "name": "stdout",
     "output_type": "stream",
     "text": [
      "/g/g13/jones289/workspace/hd-cuda-master/hdpy/hdpy/results/4/lit_pcba.ALDH1.smiles-pe.atomwise.0.pkl\n"
     ]
    },
    {
     "name": "stderr",
     "output_type": "stream",
     "text": [
      " 27%|██▋       | 4/15 [00:45<01:40,  9.14s/it]"
     ]
    },
    {
     "name": "stdout",
     "output_type": "stream",
     "text": [
      "/g/g13/jones289/workspace/hd-cuda-master/hdpy/hdpy/results/4/lit_pcba.MAPK1.smiles-pe.atomwise.0.pkl\n"
     ]
    },
    {
     "name": "stderr",
     "output_type": "stream",
     "text": [
      "\r",
      " 33%|███▎      | 5/15 [00:46<00:59,  5.91s/it]"
     ]
    },
    {
     "name": "stdout",
     "output_type": "stream",
     "text": [
      "/g/g13/jones289/workspace/hd-cuda-master/hdpy/hdpy/results/4/lit_pcba.PPARG.smiles-pe.atomwise.0.pkl\n",
      "/g/g13/jones289/workspace/hd-cuda-master/hdpy/hdpy/results/4/lit_pcba.ESR1_ago.smiles-pe.atomwise.0.pkl\n"
     ]
    },
    {
     "name": "stderr",
     "output_type": "stream",
     "text": [
      "\r",
      " 40%|████      | 6/15 [00:46<00:35,  3.97s/it]"
     ]
    },
    {
     "name": "stdout",
     "output_type": "stream",
     "text": [
      "/g/g13/jones289/workspace/hd-cuda-master/hdpy/hdpy/results/4/lit_pcba.PKM2.smiles-pe.atomwise.0.pkl\n"
     ]
    },
    {
     "name": "stderr",
     "output_type": "stream",
     "text": [
      " 60%|██████    | 9/15 [01:01<00:21,  3.61s/it]"
     ]
    },
    {
     "name": "stdout",
     "output_type": "stream",
     "text": [
      "/g/g13/jones289/workspace/hd-cuda-master/hdpy/hdpy/results/4/lit_pcba.ESR1_ant.smiles-pe.atomwise.0.pkl\n",
      "/g/g13/jones289/workspace/hd-cuda-master/hdpy/hdpy/results/4/lit_pcba.TP53.smiles-pe.atomwise.0.pkl\n",
      "/g/g13/jones289/workspace/hd-cuda-master/hdpy/hdpy/results/4/lit_pcba.KAT2A.smiles-pe.atomwise.0.pkl\n"
     ]
    },
    {
     "name": "stderr",
     "output_type": "stream",
     "text": [
      "\r",
      " 67%|██████▋   | 10/15 [01:22<00:45,  9.07s/it]"
     ]
    },
    {
     "name": "stdout",
     "output_type": "stream",
     "text": [
      "/g/g13/jones289/workspace/hd-cuda-master/hdpy/hdpy/results/4/lit_pcba.OPRK1.smiles-pe.atomwise.0.pkl\n"
     ]
    },
    {
     "name": "stderr",
     "output_type": "stream",
     "text": [
      " 80%|████████  | 12/15 [01:39<00:24,  8.18s/it]"
     ]
    },
    {
     "name": "stdout",
     "output_type": "stream",
     "text": [
      "/g/g13/jones289/workspace/hd-cuda-master/hdpy/hdpy/results/4/lit_pcba.MTORC1.smiles-pe.atomwise.0.pkl\n",
      "/g/g13/jones289/workspace/hd-cuda-master/hdpy/hdpy/results/4/lit_pcba.ADRB2.smiles-pe.atomwise.0.pkl\n"
     ]
    },
    {
     "name": "stderr",
     "output_type": "stream",
     "text": [
      "\r",
      " 87%|████████▋ | 13/15 [01:58<00:22, 11.33s/it]"
     ]
    },
    {
     "name": "stdout",
     "output_type": "stream",
     "text": [
      "/g/g13/jones289/workspace/hd-cuda-master/hdpy/hdpy/results/4/lit_pcba.VDR.smiles-pe.atomwise.0.pkl\n"
     ]
    },
    {
     "name": "stderr",
     "output_type": "stream",
     "text": [
      "\r",
      " 93%|█████████▎| 14/15 [02:21<00:14, 14.80s/it]"
     ]
    },
    {
     "name": "stdout",
     "output_type": "stream",
     "text": [
      "/g/g13/jones289/workspace/hd-cuda-master/hdpy/hdpy/results/4/lit_pcba.FEN1.smiles-pe.atomwise.0.pkl\n"
     ]
    },
    {
     "name": "stderr",
     "output_type": "stream",
     "text": [
      "100%|██████████| 15/15 [02:43<00:00, 10.87s/it]\n",
      "  0%|          | 0/15 [00:00<?, ?it/s]"
     ]
    },
    {
     "name": "stdout",
     "output_type": "stream",
     "text": [
      "/g/g13/jones289/workspace/hd-cuda-master/hdpy/hdpy/results/4/lit_pcba.ADRB2.smiles-pe.bpe.0.pkl\n"
     ]
    },
    {
     "name": "stderr",
     "output_type": "stream",
     "text": [
      "\r",
      "  7%|▋         | 1/15 [00:18<04:21, 18.69s/it]"
     ]
    },
    {
     "name": "stdout",
     "output_type": "stream",
     "text": [
      "/g/g13/jones289/workspace/hd-cuda-master/hdpy/hdpy/results/4/lit_pcba.GBA.smiles-pe.bpe.0.pkl\n"
     ]
    },
    {
     "name": "stderr",
     "output_type": "stream",
     "text": [
      "\r",
      " 13%|█▎        | 2/15 [00:36<03:58, 18.38s/it]"
     ]
    },
    {
     "name": "stdout",
     "output_type": "stream",
     "text": [
      "/g/g13/jones289/workspace/hd-cuda-master/hdpy/hdpy/results/4/lit_pcba.IDH1.smiles-pe.bpe.0.pkl\n"
     ]
    },
    {
     "name": "stderr",
     "output_type": "stream",
     "text": [
      "\r",
      " 20%|██        | 3/15 [00:58<03:59, 19.98s/it]"
     ]
    },
    {
     "name": "stdout",
     "output_type": "stream",
     "text": [
      "/g/g13/jones289/workspace/hd-cuda-master/hdpy/hdpy/results/4/lit_pcba.KAT2A.smiles-pe.bpe.0.pkl\n"
     ]
    },
    {
     "name": "stderr",
     "output_type": "stream",
     "text": [
      " 33%|███▎      | 5/15 [01:20<02:12, 13.20s/it]"
     ]
    },
    {
     "name": "stdout",
     "output_type": "stream",
     "text": [
      "/g/g13/jones289/workspace/hd-cuda-master/hdpy/hdpy/results/4/lit_pcba.TP53.smiles-pe.bpe.0.pkl\n",
      "/g/g13/jones289/workspace/hd-cuda-master/hdpy/hdpy/results/4/lit_pcba.OPRK1.smiles-pe.bpe.0.pkl\n"
     ]
    },
    {
     "name": "stderr",
     "output_type": "stream",
     "text": [
      "\r",
      " 40%|████      | 6/15 [01:34<02:01, 13.54s/it]"
     ]
    },
    {
     "name": "stdout",
     "output_type": "stream",
     "text": [
      "/g/g13/jones289/workspace/hd-cuda-master/hdpy/hdpy/results/4/lit_pcba.VDR.smiles-pe.bpe.0.pkl\n"
     ]
    },
    {
     "name": "stderr",
     "output_type": "stream",
     "text": [
      " 53%|█████▎    | 8/15 [01:55<01:16, 10.89s/it]"
     ]
    },
    {
     "name": "stdout",
     "output_type": "stream",
     "text": [
      "/g/g13/jones289/workspace/hd-cuda-master/hdpy/hdpy/results/4/lit_pcba.ESR1_ago.smiles-pe.bpe.0.pkl\n"
     ]
    },
    {
     "name": "stderr",
     "output_type": "stream",
     "text": [
      "\r",
      " 60%|██████    | 9/15 [01:56<00:47,  7.94s/it]"
     ]
    },
    {
     "name": "stdout",
     "output_type": "stream",
     "text": [
      "/g/g13/jones289/workspace/hd-cuda-master/hdpy/hdpy/results/4/lit_pcba.MTORC1.smiles-pe.bpe.0.pkl\n",
      "/g/g13/jones289/workspace/hd-cuda-master/hdpy/hdpy/results/4/lit_pcba.PKM2.smiles-pe.bpe.0.pkl\n"
     ]
    },
    {
     "name": "stderr",
     "output_type": "stream",
     "text": [
      " 73%|███████▎  | 11/15 [02:14<00:31,  7.86s/it]"
     ]
    },
    {
     "name": "stdout",
     "output_type": "stream",
     "text": [
      "/g/g13/jones289/workspace/hd-cuda-master/hdpy/hdpy/results/4/lit_pcba.MAPK1.smiles-pe.bpe.0.pkl\n"
     ]
    },
    {
     "name": "stderr",
     "output_type": "stream",
     "text": [
      "\r",
      " 80%|████████  | 12/15 [02:14<00:16,  5.53s/it]"
     ]
    },
    {
     "name": "stdout",
     "output_type": "stream",
     "text": [
      "/g/g13/jones289/workspace/hd-cuda-master/hdpy/hdpy/results/4/lit_pcba.PPARG.smiles-pe.bpe.0.pkl\n",
      "/g/g13/jones289/workspace/hd-cuda-master/hdpy/hdpy/results/4/lit_pcba.FEN1.smiles-pe.bpe.0.pkl\n"
     ]
    },
    {
     "name": "stderr",
     "output_type": "stream",
     "text": [
      " 93%|█████████▎| 14/15 [02:36<00:07,  7.33s/it]"
     ]
    },
    {
     "name": "stdout",
     "output_type": "stream",
     "text": [
      "/g/g13/jones289/workspace/hd-cuda-master/hdpy/hdpy/results/4/lit_pcba.ESR1_ant.smiles-pe.bpe.0.pkl\n",
      "/g/g13/jones289/workspace/hd-cuda-master/hdpy/hdpy/results/4/lit_pcba.ALDH1.smiles-pe.bpe.0.pkl\n"
     ]
    },
    {
     "name": "stderr",
     "output_type": "stream",
     "text": [
      "100%|██████████| 15/15 [02:44<00:00, 10.96s/it]\n",
      "  7%|▋         | 1/15 [00:00<00:02,  4.71it/s]"
     ]
    },
    {
     "name": "stdout",
     "output_type": "stream",
     "text": [
      "/g/g13/jones289/workspace/hd-cuda-master/hdpy/hdpy/results/4/lit_pcba.PPARG.selfies.atomwise.0.pkl\n",
      "/g/g13/jones289/workspace/hd-cuda-master/hdpy/hdpy/results/4/lit_pcba.GBA.selfies.atomwise.0.pkl\n"
     ]
    },
    {
     "name": "stderr",
     "output_type": "stream",
     "text": [
      "\r",
      " 13%|█▎        | 2/15 [00:18<02:22, 10.99s/it]"
     ]
    },
    {
     "name": "stdout",
     "output_type": "stream",
     "text": [
      "/g/g13/jones289/workspace/hd-cuda-master/hdpy/hdpy/results/4/lit_pcba.KAT2A.selfies.atomwise.0.pkl\n"
     ]
    },
    {
     "name": "stderr",
     "output_type": "stream",
     "text": [
      " 27%|██▋       | 4/15 [00:42<01:54, 10.42s/it]"
     ]
    },
    {
     "name": "stdout",
     "output_type": "stream",
     "text": [
      "/g/g13/jones289/workspace/hd-cuda-master/hdpy/hdpy/results/4/lit_pcba.MTORC1.selfies.atomwise.0.pkl\n",
      "/g/g13/jones289/workspace/hd-cuda-master/hdpy/hdpy/results/4/lit_pcba.FEN1.selfies.atomwise.0.pkl\n"
     ]
    },
    {
     "name": "stderr",
     "output_type": "stream",
     "text": [
      "\r",
      " 33%|███▎      | 5/15 [01:04<02:26, 14.60s/it]"
     ]
    },
    {
     "name": "stdout",
     "output_type": "stream",
     "text": [
      "/g/g13/jones289/workspace/hd-cuda-master/hdpy/hdpy/results/4/lit_pcba.PKM2.selfies.atomwise.0.pkl\n"
     ]
    },
    {
     "name": "stderr",
     "output_type": "stream",
     "text": [
      " 47%|████▋     | 7/15 [01:22<01:26, 10.86s/it]"
     ]
    },
    {
     "name": "stdout",
     "output_type": "stream",
     "text": [
      "/g/g13/jones289/workspace/hd-cuda-master/hdpy/hdpy/results/4/lit_pcba.MAPK1.selfies.atomwise.0.pkl\n",
      "/g/g13/jones289/workspace/hd-cuda-master/hdpy/hdpy/results/4/lit_pcba.ADRB2.selfies.atomwise.0.pkl\n"
     ]
    },
    {
     "name": "stderr",
     "output_type": "stream",
     "text": [
      " 67%|██████▋   | 10/15 [01:41<00:31,  6.37s/it]"
     ]
    },
    {
     "name": "stdout",
     "output_type": "stream",
     "text": [
      "/g/g13/jones289/workspace/hd-cuda-master/hdpy/hdpy/results/4/lit_pcba.ESR1_ago.selfies.atomwise.0.pkl\n",
      "/g/g13/jones289/workspace/hd-cuda-master/hdpy/hdpy/results/4/lit_pcba.ESR1_ant.selfies.atomwise.0.pkl\n"
     ]
    },
    {
     "name": "stderr",
     "output_type": "stream",
     "text": [
      "\r",
      " 73%|███████▎  | 11/15 [01:41<00:17,  4.47s/it]"
     ]
    },
    {
     "name": "stdout",
     "output_type": "stream",
     "text": [
      "/g/g13/jones289/workspace/hd-cuda-master/hdpy/hdpy/results/4/lit_pcba.TP53.selfies.atomwise.0.pkl\n",
      "/g/g13/jones289/workspace/hd-cuda-master/hdpy/hdpy/results/4/lit_pcba.IDH1.selfies.atomwise.0.pkl\n"
     ]
    },
    {
     "name": "stderr",
     "output_type": "stream",
     "text": [
      "\r",
      " 80%|████████  | 12/15 [02:03<00:29,  9.79s/it]"
     ]
    },
    {
     "name": "stdout",
     "output_type": "stream",
     "text": [
      "/g/g13/jones289/workspace/hd-cuda-master/hdpy/hdpy/results/4/lit_pcba.ALDH1.selfies.atomwise.0.pkl\n"
     ]
    },
    {
     "name": "stderr",
     "output_type": "stream",
     "text": [
      "\r",
      " 87%|████████▋ | 13/15 [02:10<00:18,  9.16s/it]"
     ]
    },
    {
     "name": "stdout",
     "output_type": "stream",
     "text": [
      "/g/g13/jones289/workspace/hd-cuda-master/hdpy/hdpy/results/4/lit_pcba.VDR.selfies.atomwise.0.pkl\n"
     ]
    },
    {
     "name": "stderr",
     "output_type": "stream",
     "text": [
      "\r",
      " 93%|█████████▎| 14/15 [02:32<00:12, 12.81s/it]"
     ]
    },
    {
     "name": "stdout",
     "output_type": "stream",
     "text": [
      "/g/g13/jones289/workspace/hd-cuda-master/hdpy/hdpy/results/4/lit_pcba.OPRK1.selfies.atomwise.0.pkl\n"
     ]
    },
    {
     "name": "stderr",
     "output_type": "stream",
     "text": [
      "100%|██████████| 15/15 [02:47<00:00, 11.17s/it]\n",
      "  7%|▋         | 1/15 [00:03<00:42,  3.06s/it]"
     ]
    },
    {
     "name": "stdout",
     "output_type": "stream",
     "text": [
      "/g/g13/jones289/workspace/hd-cuda-master/hdpy/hdpy/results/4/lit_pcba.MAPK1.ecfp.atomwise.0.pkl\n",
      "/g/g13/jones289/workspace/hd-cuda-master/hdpy/hdpy/results/4/lit_pcba.PKM2.ecfp.atomwise.0.pkl\n"
     ]
    },
    {
     "name": "stderr",
     "output_type": "stream",
     "text": [
      " 20%|██        | 3/15 [00:17<01:03,  5.27s/it]"
     ]
    },
    {
     "name": "stdout",
     "output_type": "stream",
     "text": [
      "/g/g13/jones289/workspace/hd-cuda-master/hdpy/hdpy/results/4/lit_pcba.PPARG.ecfp.atomwise.0.pkl\n",
      "/g/g13/jones289/workspace/hd-cuda-master/hdpy/hdpy/results/4/lit_pcba.FEN1.ecfp.atomwise.0.pkl\n"
     ]
    },
    {
     "name": "stderr",
     "output_type": "stream",
     "text": [
      " 33%|███▎      | 5/15 [00:40<01:20,  8.04s/it]"
     ]
    },
    {
     "name": "stdout",
     "output_type": "stream",
     "text": [
      "/g/g13/jones289/workspace/hd-cuda-master/hdpy/hdpy/results/4/lit_pcba.MTORC1.ecfp.atomwise.0.pkl\n",
      "/g/g13/jones289/workspace/hd-cuda-master/hdpy/hdpy/results/4/lit_pcba.ALDH1.ecfp.atomwise.0.pkl\n"
     ]
    },
    {
     "name": "stderr",
     "output_type": "stream",
     "text": [
      " 47%|████▋     | 7/15 [00:48<00:43,  5.44s/it]"
     ]
    },
    {
     "name": "stdout",
     "output_type": "stream",
     "text": [
      "/g/g13/jones289/workspace/hd-cuda-master/hdpy/hdpy/results/4/lit_pcba.ESR1_ant.ecfp.atomwise.0.pkl\n",
      "/g/g13/jones289/workspace/hd-cuda-master/hdpy/hdpy/results/4/lit_pcba.IDH1.ecfp.atomwise.0.pkl\n"
     ]
    },
    {
     "name": "stderr",
     "output_type": "stream",
     "text": [
      "\r",
      " 53%|█████▎    | 8/15 [01:09<01:13, 10.45s/it]"
     ]
    },
    {
     "name": "stdout",
     "output_type": "stream",
     "text": [
      "/g/g13/jones289/workspace/hd-cuda-master/hdpy/hdpy/results/4/lit_pcba.KAT2A.ecfp.atomwise.0.pkl\n"
     ]
    },
    {
     "name": "stderr",
     "output_type": "stream",
     "text": [
      " 67%|██████▋   | 10/15 [01:28<00:45,  9.06s/it]"
     ]
    },
    {
     "name": "stdout",
     "output_type": "stream",
     "text": [
      "/g/g13/jones289/workspace/hd-cuda-master/hdpy/hdpy/results/4/lit_pcba.TP53.ecfp.atomwise.0.pkl\n",
      "/g/g13/jones289/workspace/hd-cuda-master/hdpy/hdpy/results/4/lit_pcba.ADRB2.ecfp.atomwise.0.pkl\n"
     ]
    },
    {
     "name": "stderr",
     "output_type": "stream",
     "text": [
      "\r",
      " 73%|███████▎  | 11/15 [01:45<00:45, 11.39s/it]"
     ]
    },
    {
     "name": "stdout",
     "output_type": "stream",
     "text": [
      "/g/g13/jones289/workspace/hd-cuda-master/hdpy/hdpy/results/4/lit_pcba.GBA.ecfp.atomwise.0.pkl\n"
     ]
    },
    {
     "name": "stderr",
     "output_type": "stream",
     "text": [
      "\r",
      " 80%|████████  | 12/15 [02:00<00:37, 12.58s/it]"
     ]
    },
    {
     "name": "stdout",
     "output_type": "stream",
     "text": [
      "/g/g13/jones289/workspace/hd-cuda-master/hdpy/hdpy/results/4/lit_pcba.VDR.ecfp.atomwise.0.pkl\n"
     ]
    },
    {
     "name": "stderr",
     "output_type": "stream",
     "text": [
      "\r",
      " 87%|████████▋ | 13/15 [02:19<00:28, 14.41s/it]"
     ]
    },
    {
     "name": "stdout",
     "output_type": "stream",
     "text": [
      "/g/g13/jones289/workspace/hd-cuda-master/hdpy/hdpy/results/4/lit_pcba.OPRK1.ecfp.atomwise.0.pkl\n"
     ]
    },
    {
     "name": "stderr",
     "output_type": "stream",
     "text": [
      "100%|██████████| 15/15 [02:32<00:00, 10.19s/it]\n"
     ]
    },
    {
     "name": "stdout",
     "output_type": "stream",
     "text": [
      "/g/g13/jones289/workspace/hd-cuda-master/hdpy/hdpy/results/4/lit_pcba.ESR1_ago.ecfp.atomwise.0.pkl\n"
     ]
    },
    {
     "name": "stderr",
     "output_type": "stream",
     "text": [
      "\r",
      "  0%|          | 0/15 [00:00<?, ?it/s]"
     ]
    },
    {
     "name": "stdout",
     "output_type": "stream",
     "text": [
      "/g/g13/jones289/workspace/hd-cuda-master/hdpy/hdpy/results/4/lit_pcba.ADRB2.rp.atomwise.0.pkl\n"
     ]
    },
    {
     "name": "stderr",
     "output_type": "stream",
     "text": [
      "\r",
      "  7%|▋         | 1/15 [00:16<03:52, 16.63s/it]"
     ]
    },
    {
     "name": "stdout",
     "output_type": "stream",
     "text": [
      "/g/g13/jones289/workspace/hd-cuda-master/hdpy/hdpy/results/4/lit_pcba.GBA.rp.atomwise.0.pkl\n"
     ]
    },
    {
     "name": "stderr",
     "output_type": "stream",
     "text": [
      "\r",
      " 13%|█▎        | 2/15 [00:31<03:26, 15.85s/it]"
     ]
    },
    {
     "name": "stdout",
     "output_type": "stream",
     "text": [
      "/g/g13/jones289/workspace/hd-cuda-master/hdpy/hdpy/results/4/lit_pcba.KAT2A.rp.atomwise.0.pkl\n"
     ]
    },
    {
     "name": "stderr",
     "output_type": "stream",
     "text": [
      "\r",
      " 20%|██        | 3/15 [00:50<03:24, 17.01s/it]"
     ]
    },
    {
     "name": "stdout",
     "output_type": "stream",
     "text": [
      "/g/g13/jones289/workspace/hd-cuda-master/hdpy/hdpy/results/4/lit_pcba.IDH1.rp.atomwise.0.pkl\n"
     ]
    },
    {
     "name": "stderr",
     "output_type": "stream",
     "text": [
      "\r",
      " 27%|██▋       | 4/15 [01:09<03:18, 18.04s/it]"
     ]
    },
    {
     "name": "stdout",
     "output_type": "stream",
     "text": [
      "/g/g13/jones289/workspace/hd-cuda-master/hdpy/hdpy/results/4/lit_pcba.VDR.rp.atomwise.0.pkl\n"
     ]
    },
    {
     "name": "stderr",
     "output_type": "stream",
     "text": [
      " 40%|████      | 6/15 [01:29<01:50, 12.23s/it]"
     ]
    },
    {
     "name": "stdout",
     "output_type": "stream",
     "text": [
      "/g/g13/jones289/workspace/hd-cuda-master/hdpy/hdpy/results/4/lit_pcba.PPARG.rp.atomwise.0.pkl\n",
      "/g/g13/jones289/workspace/hd-cuda-master/hdpy/hdpy/results/4/lit_pcba.FEN1.rp.atomwise.0.pkl\n"
     ]
    },
    {
     "name": "stderr",
     "output_type": "stream",
     "text": [
      " 53%|█████▎    | 8/15 [01:49<01:11, 10.20s/it]"
     ]
    },
    {
     "name": "stdout",
     "output_type": "stream",
     "text": [
      "/g/g13/jones289/workspace/hd-cuda-master/hdpy/hdpy/results/4/lit_pcba.MTORC1.rp.atomwise.0.pkl\n"
     ]
    },
    {
     "name": "stderr",
     "output_type": "stream",
     "text": [
      "\r",
      " 60%|██████    | 9/15 [01:49<00:42,  7.06s/it]"
     ]
    },
    {
     "name": "stdout",
     "output_type": "stream",
     "text": [
      "/g/g13/jones289/workspace/hd-cuda-master/hdpy/hdpy/results/4/lit_pcba.ESR1_ant.rp.atomwise.0.pkl\n"
     ]
    },
    {
     "name": "stderr",
     "output_type": "stream",
     "text": [
      "\r",
      " 67%|██████▋   | 10/15 [01:52<00:28,  5.70s/it]"
     ]
    },
    {
     "name": "stdout",
     "output_type": "stream",
     "text": [
      "/g/g13/jones289/workspace/hd-cuda-master/hdpy/hdpy/results/4/lit_pcba.MAPK1.rp.atomwise.0.pkl\n",
      "/g/g13/jones289/workspace/hd-cuda-master/hdpy/hdpy/results/4/lit_pcba.OPRK1.rp.atomwise.0.pkl\n"
     ]
    },
    {
     "name": "stderr",
     "output_type": "stream",
     "text": [
      "\r",
      " 73%|███████▎  | 11/15 [02:05<00:32,  8.15s/it]"
     ]
    },
    {
     "name": "stdout",
     "output_type": "stream",
     "text": [
      "/g/g13/jones289/workspace/hd-cuda-master/hdpy/hdpy/results/4/lit_pcba.ALDH1.rp.atomwise.0.pkl\n"
     ]
    },
    {
     "name": "stderr",
     "output_type": "stream",
     "text": [
      " 87%|████████▋ | 13/15 [02:12<00:10,  5.46s/it]"
     ]
    },
    {
     "name": "stdout",
     "output_type": "stream",
     "text": [
      "/g/g13/jones289/workspace/hd-cuda-master/hdpy/hdpy/results/4/lit_pcba.TP53.rp.atomwise.0.pkl\n",
      "/g/g13/jones289/workspace/hd-cuda-master/hdpy/hdpy/results/4/lit_pcba.ESR1_ago.rp.atomwise.0.pkl\n"
     ]
    },
    {
     "name": "stderr",
     "output_type": "stream",
     "text": [
      "\r",
      " 93%|█████████▎| 14/15 [02:13<00:03,  3.87s/it]"
     ]
    },
    {
     "name": "stdout",
     "output_type": "stream",
     "text": [
      "/g/g13/jones289/workspace/hd-cuda-master/hdpy/hdpy/results/4/lit_pcba.PKM2.rp.atomwise.0.pkl\n"
     ]
    },
    {
     "name": "stderr",
     "output_type": "stream",
     "text": [
      "100%|██████████| 15/15 [02:25<00:00,  9.71s/it]\n",
      "  0%|          | 0/15 [00:00<?, ?it/s]"
     ]
    },
    {
     "name": "stdout",
     "output_type": "stream",
     "text": [
      "/g/g13/jones289/workspace/hd-cuda-master/hdpy/hdpy/results/4/lit_pcba.ADRB2.rf.None.0.pkl\n"
     ]
    },
    {
     "name": "stderr",
     "output_type": "stream",
     "text": [
      "\r",
      "  7%|▋         | 1/15 [00:03<00:43,  3.09s/it]"
     ]
    },
    {
     "name": "stdout",
     "output_type": "stream",
     "text": [
      "/g/g13/jones289/workspace/hd-cuda-master/hdpy/hdpy/results/4/lit_pcba.TP53.rf.None.0.pkl\n",
      "/g/g13/jones289/workspace/hd-cuda-master/hdpy/hdpy/results/4/lit_pcba.ALDH1.rf.None.0.pkl\n"
     ]
    },
    {
     "name": "stderr",
     "output_type": "stream",
     "text": [
      "\r",
      " 20%|██        | 3/15 [00:04<00:15,  1.29s/it]"
     ]
    },
    {
     "name": "stdout",
     "output_type": "stream",
     "text": [
      "/g/g13/jones289/workspace/hd-cuda-master/hdpy/hdpy/results/4/lit_pcba.VDR.rf.None.0.pkl\n"
     ]
    },
    {
     "name": "stderr",
     "output_type": "stream",
     "text": [
      "\r",
      " 27%|██▋       | 4/15 [00:08<00:23,  2.09s/it]"
     ]
    },
    {
     "name": "stdout",
     "output_type": "stream",
     "text": [
      "/g/g13/jones289/workspace/hd-cuda-master/hdpy/hdpy/results/4/lit_pcba.PKM2.rf.None.0.pkl\n"
     ]
    },
    {
     "name": "stderr",
     "output_type": "stream",
     "text": [
      "\r",
      " 33%|███▎      | 5/15 [00:10<00:21,  2.18s/it]"
     ]
    },
    {
     "name": "stdout",
     "output_type": "stream",
     "text": [
      "/g/g13/jones289/workspace/hd-cuda-master/hdpy/hdpy/results/4/lit_pcba.ESR1_ant.rf.None.0.pkl\n",
      "/g/g13/jones289/workspace/hd-cuda-master/hdpy/hdpy/results/4/lit_pcba.KAT2A.rf.None.0.pkl\n"
     ]
    },
    {
     "name": "stderr",
     "output_type": "stream",
     "text": [
      " 53%|█████▎    | 8/15 [00:14<00:11,  1.63s/it]"
     ]
    },
    {
     "name": "stdout",
     "output_type": "stream",
     "text": [
      "/g/g13/jones289/workspace/hd-cuda-master/hdpy/hdpy/results/4/lit_pcba.MAPK1.rf.None.0.pkl\n",
      "/g/g13/jones289/workspace/hd-cuda-master/hdpy/hdpy/results/4/lit_pcba.OPRK1.rf.None.0.pkl\n"
     ]
    },
    {
     "name": "stderr",
     "output_type": "stream",
     "text": [
      " 67%|██████▋   | 10/15 [00:16<00:06,  1.30s/it]"
     ]
    },
    {
     "name": "stdout",
     "output_type": "stream",
     "text": [
      "/g/g13/jones289/workspace/hd-cuda-master/hdpy/hdpy/results/4/lit_pcba.MTORC1.rf.None.0.pkl\n",
      "/g/g13/jones289/workspace/hd-cuda-master/hdpy/hdpy/results/4/lit_pcba.FEN1.rf.None.0.pkl\n"
     ]
    },
    {
     "name": "stderr",
     "output_type": "stream",
     "text": [
      "\r",
      " 73%|███████▎  | 11/15 [00:20<00:07,  1.97s/it]"
     ]
    },
    {
     "name": "stdout",
     "output_type": "stream",
     "text": [
      "/g/g13/jones289/workspace/hd-cuda-master/hdpy/hdpy/results/4/lit_pcba.PPARG.rf.None.0.pkl\n",
      "/g/g13/jones289/workspace/hd-cuda-master/hdpy/hdpy/results/4/lit_pcba.GBA.rf.None.0.pkl\n"
     ]
    },
    {
     "name": "stderr",
     "output_type": "stream",
     "text": [
      "\r",
      " 87%|████████▋ | 13/15 [00:23<00:03,  1.78s/it]"
     ]
    },
    {
     "name": "stdout",
     "output_type": "stream",
     "text": [
      "/g/g13/jones289/workspace/hd-cuda-master/hdpy/hdpy/results/4/lit_pcba.IDH1.rf.None.0.pkl\n"
     ]
    },
    {
     "name": "stderr",
     "output_type": "stream",
     "text": [
      "100%|██████████| 15/15 [00:26<00:00,  1.77s/it]\n"
     ]
    },
    {
     "name": "stdout",
     "output_type": "stream",
     "text": [
      "/g/g13/jones289/workspace/hd-cuda-master/hdpy/hdpy/results/4/lit_pcba.ESR1_ago.rf.None.0.pkl\n"
     ]
    },
    {
     "name": "stderr",
     "output_type": "stream",
     "text": [
      "\r",
      "  0%|          | 0/15 [00:00<?, ?it/s]"
     ]
    },
    {
     "name": "stdout",
     "output_type": "stream",
     "text": [
      "/g/g13/jones289/workspace/hd-cuda-master/hdpy/hdpy/results/4/lit_pcba.TP53.mlp.None.0.pkl\n",
      "/g/g13/jones289/workspace/hd-cuda-master/hdpy/hdpy/results/4/lit_pcba.GBA.mlp.None.0.pkl\n"
     ]
    },
    {
     "name": "stderr",
     "output_type": "stream",
     "text": [
      "\r",
      " 13%|█▎        | 2/15 [00:02<00:19,  1.49s/it]"
     ]
    },
    {
     "name": "stdout",
     "output_type": "stream",
     "text": [
      "/g/g13/jones289/workspace/hd-cuda-master/hdpy/hdpy/results/4/lit_pcba.IDH1.mlp.None.0.pkl\n"
     ]
    },
    {
     "name": "stderr",
     "output_type": "stream",
     "text": [
      "\r",
      " 20%|██        | 3/15 [00:06<00:29,  2.44s/it]"
     ]
    },
    {
     "name": "stdout",
     "output_type": "stream",
     "text": [
      "/g/g13/jones289/workspace/hd-cuda-master/hdpy/hdpy/results/4/lit_pcba.ALDH1.mlp.None.0.pkl\n"
     ]
    },
    {
     "name": "stderr",
     "output_type": "stream",
     "text": [
      "\r",
      " 27%|██▋       | 4/15 [00:08<00:22,  2.01s/it]"
     ]
    },
    {
     "name": "stdout",
     "output_type": "stream",
     "text": [
      "/g/g13/jones289/workspace/hd-cuda-master/hdpy/hdpy/results/4/lit_pcba.ADRB2.mlp.None.0.pkl\n"
     ]
    },
    {
     "name": "stderr",
     "output_type": "stream",
     "text": [
      " 40%|████      | 6/15 [00:11<00:15,  1.67s/it]"
     ]
    },
    {
     "name": "stdout",
     "output_type": "stream",
     "text": [
      "/g/g13/jones289/workspace/hd-cuda-master/hdpy/hdpy/results/4/lit_pcba.MTORC1.mlp.None.0.pkl\n",
      "/g/g13/jones289/workspace/hd-cuda-master/hdpy/hdpy/results/4/lit_pcba.FEN1.mlp.None.0.pkl\n"
     ]
    },
    {
     "name": "stderr",
     "output_type": "stream",
     "text": [
      "\r",
      " 47%|████▋     | 7/15 [00:14<00:18,  2.30s/it]"
     ]
    },
    {
     "name": "stdout",
     "output_type": "stream",
     "text": [
      "/g/g13/jones289/workspace/hd-cuda-master/hdpy/hdpy/results/4/lit_pcba.PKM2.mlp.None.0.pkl\n"
     ]
    },
    {
     "name": "stderr",
     "output_type": "stream",
     "text": [
      " 67%|██████▋   | 10/15 [00:17<00:06,  1.25s/it]"
     ]
    },
    {
     "name": "stdout",
     "output_type": "stream",
     "text": [
      "/g/g13/jones289/workspace/hd-cuda-master/hdpy/hdpy/results/4/lit_pcba.ESR1_ago.mlp.None.0.pkl\n",
      "/g/g13/jones289/workspace/hd-cuda-master/hdpy/hdpy/results/4/lit_pcba.PPARG.mlp.None.0.pkl\n",
      "/g/g13/jones289/workspace/hd-cuda-master/hdpy/hdpy/results/4/lit_pcba.VDR.mlp.None.0.pkl\n"
     ]
    },
    {
     "name": "stderr",
     "output_type": "stream",
     "text": [
      "\r",
      " 73%|███████▎  | 11/15 [00:21<00:07,  1.85s/it]"
     ]
    },
    {
     "name": "stdout",
     "output_type": "stream",
     "text": [
      "/g/g13/jones289/workspace/hd-cuda-master/hdpy/hdpy/results/4/lit_pcba.KAT2A.mlp.None.0.pkl\n"
     ]
    },
    {
     "name": "stderr",
     "output_type": "stream",
     "text": [
      "\r",
      " 80%|████████  | 12/15 [00:24<00:06,  2.29s/it]"
     ]
    },
    {
     "name": "stdout",
     "output_type": "stream",
     "text": [
      "/g/g13/jones289/workspace/hd-cuda-master/hdpy/hdpy/results/4/lit_pcba.ESR1_ant.mlp.None.0.pkl\n",
      "/g/g13/jones289/workspace/hd-cuda-master/hdpy/hdpy/results/4/lit_pcba.OPRK1.mlp.None.0.pkl\n"
     ]
    },
    {
     "name": "stderr",
     "output_type": "stream",
     "text": [
      "100%|██████████| 15/15 [00:27<00:00,  1.85s/it]"
     ]
    },
    {
     "name": "stdout",
     "output_type": "stream",
     "text": [
      "/g/g13/jones289/workspace/hd-cuda-master/hdpy/hdpy/results/4/lit_pcba.MAPK1.mlp.None.0.pkl\n"
     ]
    },
    {
     "name": "stderr",
     "output_type": "stream",
     "text": [
      "\n"
     ]
    },
    {
     "data": {
      "image/png": "[encoded data removed]",
      "text/plain": [
       "<Figure size 864x720 with 2 Axes>"
      ]
     },
     "metadata": {
      "needs_background": "light"
     },
     "output_type": "display_data"
    }
   ],
   "source": [
    "lit_pcba_enrich_f, lit_pcba_enrich_1_ax, lit_pcba_enrich_10_ax, model_metric_dict = aggregate_results(dataset=\"lit_pcba\")\n"
   ]
  },
  {
   "cell_type": "code",
   "execution_count": 67,
   "metadata": {},
   "outputs": [
    {
     "name": "stdout",
     "output_type": "stream",
     "text": [
      "[105, 105, 105, 105, 105, 105, 105]\n",
      "['model', 'enrich-1-mean', 'enrich-1-std', 'enrich-10-mean', 'enrich-10-std', 'train_time', 'test_time']\n"
     ]
    }
   ],
   "source": [
    "print([len(x) for x in model_metric_dict.values()])\n",
    "print([x for x in model_metric_dict.keys()])"
   ]
  },
  {
   "cell_type": "code",
   "execution_count": 71,
   "metadata": {},
   "outputs": [
    {
     "data": {
      "text/plain": [
       "{'model': ['smiles-pe.atomwise.0',\n",
       "  'smiles-pe.atomwise.0',\n",
       "  'smiles-pe.atomwise.0',\n",
       "  'smiles-pe.atomwise.0',\n",
       "  'smiles-pe.atomwise.0',\n",
       "  'smiles-pe.atomwise.0',\n",
       "  'smiles-pe.atomwise.0',\n",
       "  'smiles-pe.atomwise.0',\n",
       "  'smiles-pe.atomwise.0',\n",
       "  'smiles-pe.atomwise.0',\n",
       "  'smiles-pe.atomwise.0',\n",
       "  'smiles-pe.atomwise.0',\n",
       "  'smiles-pe.atomwise.0',\n",
       "  'smiles-pe.atomwise.0',\n",
       "  'smiles-pe.atomwise.0',\n",
       "  'smiles-pe.bpe.0',\n",
       "  'smiles-pe.bpe.0',\n",
       "  'smiles-pe.bpe.0',\n",
       "  'smiles-pe.bpe.0',\n",
       "  'smiles-pe.bpe.0',\n",
       "  'smiles-pe.bpe.0',\n",
       "  'smiles-pe.bpe.0',\n",
       "  'smiles-pe.bpe.0',\n",
       "  'smiles-pe.bpe.0',\n",
       "  'smiles-pe.bpe.0',\n",
       "  'smiles-pe.bpe.0',\n",
       "  'smiles-pe.bpe.0',\n",
       "  'smiles-pe.bpe.0',\n",
       "  'smiles-pe.bpe.0',\n",
       "  'smiles-pe.bpe.0',\n",
       "  'selfies.atomwise',\n",
       "  'selfies.atomwise',\n",
       "  'selfies.atomwise',\n",
       "  'selfies.atomwise',\n",
       "  'selfies.atomwise',\n",
       "  'selfies.atomwise',\n",
       "  'selfies.atomwise',\n",
       "  'selfies.atomwise',\n",
       "  'selfies.atomwise',\n",
       "  'selfies.atomwise',\n",
       "  'selfies.atomwise',\n",
       "  'selfies.atomwise',\n",
       "  'selfies.atomwise',\n",
       "  'selfies.atomwise',\n",
       "  'selfies.atomwise',\n",
       "  'ecfp',\n",
       "  'ecfp',\n",
       "  'ecfp',\n",
       "  'ecfp',\n",
       "  'ecfp',\n",
       "  'ecfp',\n",
       "  'ecfp',\n",
       "  'ecfp',\n",
       "  'ecfp',\n",
       "  'ecfp',\n",
       "  'ecfp',\n",
       "  'ecfp',\n",
       "  'ecfp',\n",
       "  'ecfp',\n",
       "  'ecfp',\n",
       "  'rp',\n",
       "  'rp',\n",
       "  'rp',\n",
       "  'rp',\n",
       "  'rp',\n",
       "  'rp',\n",
       "  'rp',\n",
       "  'rp',\n",
       "  'rp',\n",
       "  'rp',\n",
       "  'rp',\n",
       "  'rp',\n",
       "  'rp',\n",
       "  'rp',\n",
       "  'rp',\n",
       "  'rf',\n",
       "  'rf',\n",
       "  'rf',\n",
       "  'rf',\n",
       "  'rf',\n",
       "  'rf',\n",
       "  'rf',\n",
       "  'rf',\n",
       "  'rf',\n",
       "  'rf',\n",
       "  'rf',\n",
       "  'rf',\n",
       "  'rf',\n",
       "  'rf',\n",
       "  'rf',\n",
       "  'mlp',\n",
       "  'mlp',\n",
       "  'mlp',\n",
       "  'mlp',\n",
       "  'mlp',\n",
       "  'mlp',\n",
       "  'mlp',\n",
       "  'mlp',\n",
       "  'mlp',\n",
       "  'mlp',\n",
       "  'mlp',\n",
       "  'mlp',\n",
       "  'mlp',\n",
       "  'mlp',\n",
       "  'mlp'],\n",
       " 'enrich-1-mean': [2.3795064584538266,\n",
       "  0.0,\n",
       "  3.1459341794569076,\n",
       "  0.9053509781357884,\n",
       "  12.030612244897958,\n",
       "  0.0,\n",
       "  0.8018508863399374,\n",
       "  19.804437869822486,\n",
       "  27.515454545454542,\n",
       "  8.161954690132934,\n",
       "  0.0,\n",
       "  2.490361445783132,\n",
       "  0.0,\n",
       "  1.628374240138946,\n",
       "  0.0,\n",
       "  19.98081841432225,\n",
       "  4.996963562753036,\n",
       "  0.0,\n",
       "  0.0,\n",
       "  32.82545454545455,\n",
       "  0.0,\n",
       "  4.8398901026352,\n",
       "  0.0,\n",
       "  4.980722891566264,\n",
       "  4.009254431699687,\n",
       "  0.388007562058195,\n",
       "  29.408163265306122,\n",
       "  3.3674071812408406,\n",
       "  14.573076923076925,\n",
       "  3.1738236668634396,\n",
       "  12.030612244897958,\n",
       "  0.0,\n",
       "  2.0404886725332334,\n",
       "  1.6602409638554214,\n",
       "  2.1725207620908646,\n",
       "  0.0,\n",
       "  1.8107019562715767,\n",
       "  0.0,\n",
       "  0.0,\n",
       "  15.320414201183434,\n",
       "  27.998181818181813,\n",
       "  0.0,\n",
       "  2.1865358126721763,\n",
       "  3.3924463336228046,\n",
       "  0.0,\n",
       "  5.690777576853526,\n",
       "  2.6971347995070625,\n",
       "  40.10204081632652,\n",
       "  1.0862603810454323,\n",
       "  25.733734939759028,\n",
       "  5.299002607241244,\n",
       "  21.29911242603551,\n",
       "  9.991390728476825,\n",
       "  6.121466017599701,\n",
       "  38.618181818181824,\n",
       "  19.98081841432225,\n",
       "  3.093358395989975,\n",
       "  1.4474437690123967,\n",
       "  29.982222222222227,\n",
       "  0.0,\n",
       "  0.0,\n",
       "  0.0,\n",
       "  2.0404886725332334,\n",
       "  0.0,\n",
       "  5.2017510448883,\n",
       "  28.071428571428566,\n",
       "  0.6517562286272593,\n",
       "  19.09277108433735,\n",
       "  16.067751479289942,\n",
       "  4.785426598717739,\n",
       "  1.6656790123456786,\n",
       "  6.269556768988586,\n",
       "  34.75636363636364,\n",
       "  0.0,\n",
       "  0.728955351218125,\n",
       "  24.97602301790281,\n",
       "  33.790909090909096,\n",
       "  12.773385232192052,\n",
       "  41.61400835910639,\n",
       "  38.63463361456063,\n",
       "  33.63017751479289,\n",
       "  22.44537539786557,\n",
       "  14.226943942133811,\n",
       "  49.97037037037036,\n",
       "  45.6566265060241,\n",
       "  59.74432095749878,\n",
       "  26.734693877551017,\n",
       "  57.10815500289184,\n",
       "  19.98278145695365,\n",
       "  0.0,\n",
       "  35.23909090909091,\n",
       "  38.78595527279738,\n",
       "  5.9948344370860935,\n",
       "  14.43559868162141,\n",
       "  22.47842071611253,\n",
       "  25.733734939759035,\n",
       "  48.33858695652175,\n",
       "  32.074035453597496,\n",
       "  0.0,\n",
       "  10.693877551020407,\n",
       "  32.88411312725039,\n",
       "  19.384642389065718,\n",
       "  22.79378698224852,\n",
       "  39.97629629629629,\n",
       "  9.053509781357882],\n",
       " 'enrich-1-std': [4.440892098500626e-16,\n",
       "  0.0,\n",
       "  1.1775045953466434,\n",
       "  1.0101453119381163,\n",
       "  4.0102040816326525,\n",
       "  0.0,\n",
       "  0.2186866053654375,\n",
       "  5.297667280435246,\n",
       "  4.344545454545453,\n",
       "  0.0,\n",
       "  0.0,\n",
       "  2.753198169343217,\n",
       "  0.0,\n",
       "  0.30003924293449813,\n",
       "  0.0,\n",
       "  9.990409207161125,\n",
       "  2.4842776766190178,\n",
       "  0.0,\n",
       "  0.0,\n",
       "  1.9309090909090914,\n",
       "  0.0,\n",
       "  2.033456467864107,\n",
       "  0.0,\n",
       "  1.6602409638554214,\n",
       "  2.67338846966454,\n",
       "  0.5926913411156514,\n",
       "  15.588871392341517,\n",
       "  2.0293018597160697,\n",
       "  3.1039248339838834,\n",
       "  0.5597108146187527,\n",
       "  4.0102040816326525,\n",
       "  0.0,\n",
       "  0.0,\n",
       "  2.033371605756156,\n",
       "  0.0,\n",
       "  0.0,\n",
       "  1.0346868321551865,\n",
       "  0.0,\n",
       "  0.0,\n",
       "  3.103924833983884,\n",
       "  1.9309090909090896,\n",
       "  0.0,\n",
       "  0.6284981226708024,\n",
       "  0.6476325276210565,\n",
       "  0.0,\n",
       "  4.297377165313692,\n",
       "  1.6955068979559507,\n",
       "  7.105427357601002e-15,\n",
       "  0.0,\n",
       "  12.143615734467286,\n",
       "  1.5996025166447132,\n",
       "  3.7553233459987228,\n",
       "  1.7763568394002505e-15,\n",
       "  0.0,\n",
       "  0.0,\n",
       "  9.990409207161125,\n",
       "  1.0904268462500957,\n",
       "  1.243691369192153,\n",
       "  22.097729220481508,\n",
       "  0.0,\n",
       "  0.0,\n",
       "  0.0,\n",
       "  0.0,\n",
       "  0.0,\n",
       "  2.7680736025469,\n",
       "  4.010204081632653,\n",
       "  0.9955740841144535,\n",
       "  7.236822583372348,\n",
       "  3.7553233459987236,\n",
       "  5.077153039935145,\n",
       "  4.997037037037036,\n",
       "  2.3599450772429424,\n",
       "  3.6124001315944816,\n",
       "  0.0,\n",
       "  1.383095533450363,\n",
       "  3.552713678800501e-15,\n",
       "  7.105427357601002e-15,\n",
       "  0.0,\n",
       "  7.105427357601002e-15,\n",
       "  0.0,\n",
       "  7.105427357601002e-15,\n",
       "  0.0,\n",
       "  3.552713678800501e-15,\n",
       "  7.105427357601002e-15,\n",
       "  7.105427357601002e-15,\n",
       "  0.0,\n",
       "  0.0,\n",
       "  0.0,\n",
       "  3.552713678800501e-15,\n",
       "  0.0,\n",
       "  3.770220525369489,\n",
       "  6.477329527278349,\n",
       "  4.894761821108585,\n",
       "  1.046149505765655,\n",
       "  13.450000017819155,\n",
       "  7.378272233169204,\n",
       "  6.072380133206028,\n",
       "  5.5992122963951685,\n",
       "  0.0,\n",
       "  16.695810975310003,\n",
       "  3.5214689606288387,\n",
       "  2.9215351694973144,\n",
       "  6.980706259566939,\n",
       "  13.325432098765432,\n",
       "  2.5867170803879658],\n",
       " 'enrich-10-mean': [0.6904295744762934,\n",
       "  0.9999116315033693,\n",
       "  1.7324144170964058,\n",
       "  0.869853462928431,\n",
       "  4.571428571428571,\n",
       "  0.0,\n",
       "  0.8028936053078697,\n",
       "  3.8632041187159296,\n",
       "  4.81373831775701,\n",
       "  1.6325781602926752,\n",
       "  0.0,\n",
       "  0.9997581620314389,\n",
       "  0.0,\n",
       "  1.1719193861963262,\n",
       "  0.9238403353129504,\n",
       "  2.499840010239345,\n",
       "  1.7617858107326103,\n",
       "  0.9999116315033693,\n",
       "  1.1223974852012144,\n",
       "  3.4738317757009347,\n",
       "  0.0,\n",
       "  1.773715827756602,\n",
       "  2.9978571428571428,\n",
       "  1.5412938331318016,\n",
       "  1.824758193881522,\n",
       "  1.6358438258057064,\n",
       "  4.0,\n",
       "  1.3368513087469758,\n",
       "  3.671956390066626,\n",
       "  2.021987068456481,\n",
       "  1.2857142857142856,\n",
       "  0.23807916361251494,\n",
       "  2.3264238784170623,\n",
       "  1.0414147521160821,\n",
       "  1.9563677688980128,\n",
       "  1.2116394407373305,\n",
       "  1.3502203006650275,\n",
       "  1.9998720081914763,\n",
       "  0.0,\n",
       "  4.245699576014536,\n",
       "  4.26785046728972,\n",
       "  1.8998320998564016,\n",
       "  1.7017275272605599,\n",
       "  1.2352663800447763,\n",
       "  1.5,\n",
       "  1.8825186884272018,\n",
       "  1.4014142929010092,\n",
       "  5.7142857142857135,\n",
       "  1.3042451792653418,\n",
       "  4.582224909310762,\n",
       "  2.7495453292918155,\n",
       "  4.93419139915203,\n",
       "  3.1997172208107814,\n",
       "  1.428505890256091,\n",
       "  5.012242990654206,\n",
       "  2.9998080122872137,\n",
       "  1.6665541452876045,\n",
       "  1.040700613224537,\n",
       "  3.6666666666666665,\n",
       "  3.330952380952381,\n",
       "  3.4997760143350822,\n",
       "  1.0713562362563174,\n",
       "  1.6325781602926752,\n",
       "  0.0,\n",
       "  2.257867852169756,\n",
       "  5.428571428571429,\n",
       "  3.293219077644989,\n",
       "  4.1240024183796855,\n",
       "  4.2839491217443975,\n",
       "  1.9733989009719637,\n",
       "  2.0,\n",
       "  2.9955983914301463,\n",
       "  5.260373831775702,\n",
       "  2.331666666666667,\n",
       "  1.0291636213491784,\n",
       "  2.499840010239345,\n",
       "  5.458878504672898,\n",
       "  4.552818564736448,\n",
       "  6.606186501338366,\n",
       "  6.204177859197175,\n",
       "  5.354936402180497,\n",
       "  4.2855176707682725,\n",
       "  3.7650373768544037,\n",
       "  5.0,\n",
       "  5.415356711003627,\n",
       "  8.694967861768946,\n",
       "  7.142857142857143,\n",
       "  6.428137417537904,\n",
       "  5.999469789020213,\n",
       "  0.0,\n",
       "  4.912990654205608,\n",
       "  5.2853574321978325,\n",
       "  1.499867447255054,\n",
       "  4.648226894953352,\n",
       "  3.9997440163829525,\n",
       "  4.040689238210399,\n",
       "  7.695046557665518,\n",
       "  5.63485330270614,\n",
       "  0.0,\n",
       "  2.5714285714285716,\n",
       "  6.094885765275874,\n",
       "  3.510043044629252,\n",
       "  4.322198667474258,\n",
       "  6.333333333333334,\n",
       "  3.050978564002706],\n",
       " 'enrich-10-std': [0.07142374908375448,\n",
       "  1.1102230246251565e-16,\n",
       "  0.421897122919094,\n",
       "  0.4423717692758988,\n",
       "  2.099562636671296,\n",
       "  0.0,\n",
       "  0.0652845338243012,\n",
       "  1.0468083796268481,\n",
       "  0.4466355140186917,\n",
       "  2.220446049250313e-16,\n",
       "  0.0,\n",
       "  0.4998790810157195,\n",
       "  0.0,\n",
       "  0.05139168172104602,\n",
       "  0.07290952200409259,\n",
       "  4.440892098500626e-16,\n",
       "  0.5552912600758314,\n",
       "  1.1102230246251565e-16,\n",
       "  0.10203613501829212,\n",
       "  0.0,\n",
       "  0.0,\n",
       "  0.5066143255400559,\n",
       "  0.9992857142857141,\n",
       "  0.2667323216197843,\n",
       "  0.8108170894315425,\n",
       "  0.34933377511296365,\n",
       "  0.8571428571428572,\n",
       "  0.29586057578074615,\n",
       "  0.18738373986281978,\n",
       "  0.33071695103507404,\n",
       "  0.4285714285714285,\n",
       "  0.0,\n",
       "  0.09997458644821841,\n",
       "  0.4268530276751005,\n",
       "  0.06873975656288486,\n",
       "  0.21454687099067257,\n",
       "  0.21879150923436033,\n",
       "  0.9999360040957379,\n",
       "  0.0,\n",
       "  1.1404523963992035,\n",
       "  0.24311758007810605,\n",
       "  0.29997348945101077,\n",
       "  0.37460408101225895,\n",
       "  0.12317060607887145,\n",
       "  0.8975274678557505,\n",
       "  0.9420424685434571,\n",
       "  0.7470730307032544,\n",
       "  0.0,\n",
       "  0.0,\n",
       "  1.767339439797574,\n",
       "  0.6524828419118522,\n",
       "  0.3177245893054369,\n",
       "  0.39996465260134784,\n",
       "  0.0,\n",
       "  0.14887850467289745,\n",
       "  1.870708968013018,\n",
       "  0.4993990667235097,\n",
       "  0.2796595509084679,\n",
       "  1.9436506316151,\n",
       "  4.440892098500626e-16,\n",
       "  1.224666492736054,\n",
       "  0.4548496034234684,\n",
       "  2.220446049250313e-16,\n",
       "  0.0,\n",
       "  0.4828817265504299,\n",
       "  0.5714285714285711,\n",
       "  0.3606381392646052,\n",
       "  1.140051907420237,\n",
       "  0.8855410059493674,\n",
       "  1.2915200043996835,\n",
       "  1.632993161855452,\n",
       "  0.7205616647280281,\n",
       "  0.24311758007810652,\n",
       "  1.5264341422007666,\n",
       "  0.9089860364809169,\n",
       "  4.440892098500626e-16,\n",
       "  8.881784197001252e-16,\n",
       "  0.0,\n",
       "  8.881784197001252e-16,\n",
       "  0.0,\n",
       "  8.881784197001252e-16,\n",
       "  0.0,\n",
       "  0.0,\n",
       "  0.0,\n",
       "  0.0,\n",
       "  0.0,\n",
       "  0.0,\n",
       "  0.0,\n",
       "  8.881784197001252e-16,\n",
       "  0.0,\n",
       "  0.5636449217981208,\n",
       "  0.8370099554305986,\n",
       "  0.670761113860276,\n",
       "  0.203208642629628,\n",
       "  1.6582062699764215,\n",
       "  0.6982916946318927,\n",
       "  0.4554495212524142,\n",
       "  0.33891414268496955,\n",
       "  0.0,\n",
       "  2.0995626366712954,\n",
       "  0.16194686278257509,\n",
       "  0.3957108131654305,\n",
       "  0.6411792240395331,\n",
       "  1.452966314513558,\n",
       "  0.36375261357535293],\n",
       " 'train_time': [38.84891367673874,\n",
       "  46.540521450042725,\n",
       "  26.066653871536253,\n",
       "  7.906326162815094,\n",
       "  0.7388766479492187,\n",
       "  0.7370420765876771,\n",
       "  32.08687050819397,\n",
       "  0.8372725582122802,\n",
       "  0.5536641645431519,\n",
       "  43.96724126577378,\n",
       "  35.293072032928464,\n",
       "  4.281798920631409,\n",
       "  39.99952785015107,\n",
       "  46.00346544981003,\n",
       "  60.56544365406037,\n",
       "  39.0853395318985,\n",
       "  52.519285554885855,\n",
       "  45.427187714576725,\n",
       "  60.809556732177725,\n",
       "  0.5727393937110902,\n",
       "  35.07364278078079,\n",
       "  47.423809893131256,\n",
       "  0.9711132621765136,\n",
       "  5.8067319345474235,\n",
       "  32.20721667528152,\n",
       "  11.022126042842865,\n",
       "  0.8926357102394105,\n",
       "  63.52901893615723,\n",
       "  0.8972867608070374,\n",
       "  26.764247450828556,\n",
       "  0.6973700571060181,\n",
       "  36.916221895217895,\n",
       "  43.42279892921447,\n",
       "  4.060665102005005,\n",
       "  46.43883217334747,\n",
       "  31.396172025203704,\n",
       "  8.344069676399233,\n",
       "  38.75159473896027,\n",
       "  0.7040107464790345,\n",
       "  0.6669397139549256,\n",
       "  0.5460254287719726,\n",
       "  47.29083758831025,\n",
       "  18.70102395772934,\n",
       "  45.83081623315811,\n",
       "  34.198018682003024,\n",
       "  7.330599408149719,\n",
       "  28.827566695213317,\n",
       "  0.818874888420105,\n",
       "  40.97548509597779,\n",
       "  3.811554527282715,\n",
       "  18.010440478324888,\n",
       "  0.6415834832191466,\n",
       "  45.01108659029006,\n",
       "  41.97873260259628,\n",
       "  0.5429859590530396,\n",
       "  48.50151936531067,\n",
       "  47.50345617771149,\n",
       "  43.67302207946777,\n",
       "  31.322793321609492,\n",
       "  0.7354295945167542,\n",
       "  36.24272007942199,\n",
       "  34.878272862434386,\n",
       "  41.065510962009434,\n",
       "  41.99595638751983,\n",
       "  45.237527816295625,\n",
       "  0.6655406069755554,\n",
       "  41.97010573625564,\n",
       "  3.91124974489212,\n",
       "  0.6242976117134094,\n",
       "  7.297392587661743,\n",
       "  31.689651784896853,\n",
       "  18.15147154569626,\n",
       "  0.5342015004158019,\n",
       "  0.6864375352859498,\n",
       "  29.10020973443985,\n",
       "  6.9597553992271415,\n",
       "  0.04788704633712768,\n",
       "  4.227082872390747,\n",
       "  12.56159704685211,\n",
       "  7.093413853645326,\n",
       "  0.03601397037506103,\n",
       "  7.036856157779693,\n",
       "  2.1994406390190124,\n",
       "  5.922879009246826,\n",
       "  0.9546757483482361,\n",
       "  13.916318504810334,\n",
       "  0.0367526936531067,\n",
       "  7.859349143505097,\n",
       "  6.534691026210785,\n",
       "  0.03596775531768799,\n",
       "  0.38182840585708616,\n",
       "  3.832703614234924,\n",
       "  7.048869307041168,\n",
       "  101.74665074825288,\n",
       "  30.359113123416904,\n",
       "  2.5280282187461856,\n",
       "  5.327555263042449,\n",
       "  4.827429208755493,\n",
       "  0.11087231636047364,\n",
       "  0.22579224348068236,\n",
       "  12.208571228981018,\n",
       "  18.01044463157654,\n",
       "  0.5965749549865723,\n",
       "  11.73069048166275,\n",
       "  3.8305687189102167],\n",
       " 'test_time': [13.895156764984131,\n",
       "  16.924385571479796,\n",
       "  9.235090708732605,\n",
       "  2.9843215227127073,\n",
       "  0.4689563035964966,\n",
       "  0.28917152881622316,\n",
       "  11.723572182655335,\n",
       "  0.30551326274871826,\n",
       "  0.22152113914489746,\n",
       "  16.407750153541564,\n",
       "  13.029043006896973,\n",
       "  1.6004295110702516,\n",
       "  14.541347432136536,\n",
       "  17.379275417327882,\n",
       "  22.20474157333374,\n",
       "  14.131678175926208,\n",
       "  19.43287444114685,\n",
       "  16.672713661193846,\n",
       "  23.06585054397583,\n",
       "  0.23017024993896484,\n",
       "  12.801941466331481,\n",
       "  17.307403683662415,\n",
       "  0.3532397747039795,\n",
       "  2.1167667627334597,\n",
       "  12.163090038299561,\n",
       "  4.078309369087219,\n",
       "  0.6794458389282226,\n",
       "  23.623639512062073,\n",
       "  0.32595713138580323,\n",
       "  9.632402515411377,\n",
       "  0.43772015571594236,\n",
       "  13.885092782974244,\n",
       "  16.25783052444458,\n",
       "  1.5203765153884887,\n",
       "  16.831956672668458,\n",
       "  11.40415654182434,\n",
       "  3.1831554889678957,\n",
       "  14.370491409301758,\n",
       "  0.27876646518707277,\n",
       "  0.2622091293334961,\n",
       "  0.22074968814849855,\n",
       "  17.47189302444458,\n",
       "  6.796999740600586,\n",
       "  17.14181959629059,\n",
       "  13.076346158981323,\n",
       "  2.4773773670196535,\n",
       "  9.42196991443634,\n",
       "  0.6448930501937866,\n",
       "  13.410271573066712,\n",
       "  1.2820921897888184,\n",
       "  5.552868413925171,\n",
       "  0.22613255977630614,\n",
       "  14.608403730392457,\n",
       "  13.66396472454071,\n",
       "  0.19236068725585936,\n",
       "  16.133171916007996,\n",
       "  15.68245439529419,\n",
       "  14.310636401176453,\n",
       "  10.246563363075257,\n",
       "  0.2883955955505371,\n",
       "  11.99548065662384,\n",
       "  11.502414584159851,\n",
       "  13.500187659263611,\n",
       "  13.740166974067687,\n",
       "  14.928641939163208,\n",
       "  0.273164963722229,\n",
       "  13.907866072654723,\n",
       "  1.3116291999816894,\n",
       "  0.22214217185974122,\n",
       "  2.478111457824707,\n",
       "  10.473282504081727,\n",
       "  5.746355676651001,\n",
       "  0.19199984073638915,\n",
       "  0.24428374767303468,\n",
       "  9.537929439544678,\n",
       "  0.9969043970108032,\n",
       "  0.020500850677490235,\n",
       "  0.844209885597229,\n",
       "  1.885259485244751,\n",
       "  1.3895138025283813,\n",
       "  0.019507551193237306,\n",
       "  0.9785619497299194,\n",
       "  0.3560235261917114,\n",
       "  0.8389185905456543,\n",
       "  0.18011043071746827,\n",
       "  2.0476399183273317,\n",
       "  0.01967759132385254,\n",
       "  1.387363576889038,\n",
       "  0.8298775434494019,\n",
       "  0.02071712017059326,\n",
       "  0.008904123306274414,\n",
       "  0.8155915260314941,\n",
       "  0.5670348644256592,\n",
       "  0.43065829277038575,\n",
       "  2.152131700515747,\n",
       "  0.05829439163208008,\n",
       "  0.9815546751022339,\n",
       "  0.38576884269714357,\n",
       "  0.006982207298278809,\n",
       "  0.02275815010070801,\n",
       "  0.9705679893493653,\n",
       "  2.8536783933639525,\n",
       "  0.03366739749908447,\n",
       "  1.898423671722412,\n",
       "  0.286513090133667]}"
      ]
     },
     "execution_count": 71,
     "metadata": {},
     "output_type": "execute_result"
    }
   ],
   "source": [
    "model_metric_dict"
   ]
  },
  {
   "cell_type": "code",
   "execution_count": 72,
   "metadata": {},
   "outputs": [],
   "source": [
    "# 'smiles-pe.ngram.2', 'smiles-pe.ngram.3', 'rf', 'mlp'"
   ]
  },
  {
   "cell_type": "code",
   "execution_count": 74,
   "metadata": {},
   "outputs": [
    {
     "data": {
      "text/html": [
       "<div>\n",
       "<style scoped>\n",
       "    .dataframe tbody tr th:only-of-type {\n",
       "        vertical-align: middle;\n",
       "    }\n",
       "\n",
       "    .dataframe tbody tr th {\n",
       "        vertical-align: top;\n",
       "    }\n",
       "\n",
       "    .dataframe thead th {\n",
       "        text-align: right;\n",
       "    }\n",
       "</style>\n",
       "<table border=\"1\" class=\"dataframe\">\n",
       "  <thead>\n",
       "    <tr style=\"text-align: right;\">\n",
       "      <th></th>\n",
       "      <th>model</th>\n",
       "      <th>enrich-1-mean</th>\n",
       "      <th>enrich-1-std</th>\n",
       "      <th>enrich-10-mean</th>\n",
       "      <th>enrich-10-std</th>\n",
       "      <th>train_time</th>\n",
       "      <th>test_time</th>\n",
       "    </tr>\n",
       "  </thead>\n",
       "  <tbody>\n",
       "    <tr>\n",
       "      <th>0</th>\n",
       "      <td>smiles-pe.atomwise.0</td>\n",
       "      <td>2.379506</td>\n",
       "      <td>4.440892e-16</td>\n",
       "      <td>0.690430</td>\n",
       "      <td>7.142375e-02</td>\n",
       "      <td>38.848914</td>\n",
       "      <td>13.895157</td>\n",
       "    </tr>\n",
       "    <tr>\n",
       "      <th>1</th>\n",
       "      <td>smiles-pe.atomwise.0</td>\n",
       "      <td>0.000000</td>\n",
       "      <td>0.000000e+00</td>\n",
       "      <td>0.999912</td>\n",
       "      <td>1.110223e-16</td>\n",
       "      <td>46.540521</td>\n",
       "      <td>16.924386</td>\n",
       "    </tr>\n",
       "    <tr>\n",
       "      <th>2</th>\n",
       "      <td>smiles-pe.atomwise.0</td>\n",
       "      <td>3.145934</td>\n",
       "      <td>1.177505e+00</td>\n",
       "      <td>1.732414</td>\n",
       "      <td>4.218971e-01</td>\n",
       "      <td>26.066654</td>\n",
       "      <td>9.235091</td>\n",
       "    </tr>\n",
       "    <tr>\n",
       "      <th>3</th>\n",
       "      <td>smiles-pe.atomwise.0</td>\n",
       "      <td>0.905351</td>\n",
       "      <td>1.010145e+00</td>\n",
       "      <td>0.869853</td>\n",
       "      <td>4.423718e-01</td>\n",
       "      <td>7.906326</td>\n",
       "      <td>2.984322</td>\n",
       "    </tr>\n",
       "    <tr>\n",
       "      <th>4</th>\n",
       "      <td>smiles-pe.atomwise.0</td>\n",
       "      <td>12.030612</td>\n",
       "      <td>4.010204e+00</td>\n",
       "      <td>4.571429</td>\n",
       "      <td>2.099563e+00</td>\n",
       "      <td>0.738877</td>\n",
       "      <td>0.468956</td>\n",
       "    </tr>\n",
       "    <tr>\n",
       "      <th>...</th>\n",
       "      <td>...</td>\n",
       "      <td>...</td>\n",
       "      <td>...</td>\n",
       "      <td>...</td>\n",
       "      <td>...</td>\n",
       "      <td>...</td>\n",
       "      <td>...</td>\n",
       "    </tr>\n",
       "    <tr>\n",
       "      <th>100</th>\n",
       "      <td>mlp</td>\n",
       "      <td>32.884113</td>\n",
       "      <td>3.521469e+00</td>\n",
       "      <td>6.094886</td>\n",
       "      <td>1.619469e-01</td>\n",
       "      <td>12.208571</td>\n",
       "      <td>0.970568</td>\n",
       "    </tr>\n",
       "    <tr>\n",
       "      <th>101</th>\n",
       "      <td>mlp</td>\n",
       "      <td>19.384642</td>\n",
       "      <td>2.921535e+00</td>\n",
       "      <td>3.510043</td>\n",
       "      <td>3.957108e-01</td>\n",
       "      <td>18.010445</td>\n",
       "      <td>2.853678</td>\n",
       "    </tr>\n",
       "    <tr>\n",
       "      <th>102</th>\n",
       "      <td>mlp</td>\n",
       "      <td>22.793787</td>\n",
       "      <td>6.980706e+00</td>\n",
       "      <td>4.322199</td>\n",
       "      <td>6.411792e-01</td>\n",
       "      <td>0.596575</td>\n",
       "      <td>0.033667</td>\n",
       "    </tr>\n",
       "    <tr>\n",
       "      <th>103</th>\n",
       "      <td>mlp</td>\n",
       "      <td>39.976296</td>\n",
       "      <td>1.332543e+01</td>\n",
       "      <td>6.333333</td>\n",
       "      <td>1.452966e+00</td>\n",
       "      <td>11.730690</td>\n",
       "      <td>1.898424</td>\n",
       "    </tr>\n",
       "    <tr>\n",
       "      <th>104</th>\n",
       "      <td>mlp</td>\n",
       "      <td>9.053510</td>\n",
       "      <td>2.586717e+00</td>\n",
       "      <td>3.050979</td>\n",
       "      <td>3.637526e-01</td>\n",
       "      <td>3.830569</td>\n",
       "      <td>0.286513</td>\n",
       "    </tr>\n",
       "  </tbody>\n",
       "</table>\n",
       "<p>105 rows × 7 columns</p>\n",
       "</div>"
      ],
      "text/plain": [
       "                    model  enrich-1-mean  enrich-1-std  enrich-10-mean  \\\n",
       "0    smiles-pe.atomwise.0       2.379506  4.440892e-16        0.690430   \n",
       "1    smiles-pe.atomwise.0       0.000000  0.000000e+00        0.999912   \n",
       "2    smiles-pe.atomwise.0       3.145934  1.177505e+00        1.732414   \n",
       "3    smiles-pe.atomwise.0       0.905351  1.010145e+00        0.869853   \n",
       "4    smiles-pe.atomwise.0      12.030612  4.010204e+00        4.571429   \n",
       "..                    ...            ...           ...             ...   \n",
       "100                   mlp      32.884113  3.521469e+00        6.094886   \n",
       "101                   mlp      19.384642  2.921535e+00        3.510043   \n",
       "102                   mlp      22.793787  6.980706e+00        4.322199   \n",
       "103                   mlp      39.976296  1.332543e+01        6.333333   \n",
       "104                   mlp       9.053510  2.586717e+00        3.050979   \n",
       "\n",
       "     enrich-10-std  train_time  test_time  \n",
       "0     7.142375e-02   38.848914  13.895157  \n",
       "1     1.110223e-16   46.540521  16.924386  \n",
       "2     4.218971e-01   26.066654   9.235091  \n",
       "3     4.423718e-01    7.906326   2.984322  \n",
       "4     2.099563e+00    0.738877   0.468956  \n",
       "..             ...         ...        ...  \n",
       "100   1.619469e-01   12.208571   0.970568  \n",
       "101   3.957108e-01   18.010445   2.853678  \n",
       "102   6.411792e-01    0.596575   0.033667  \n",
       "103   1.452966e+00   11.730690   1.898424  \n",
       "104   3.637526e-01    3.830569   0.286513  \n",
       "\n",
       "[105 rows x 7 columns]"
      ]
     },
     "execution_count": 74,
     "metadata": {},
     "output_type": "execute_result"
    }
   ],
   "source": [
    "# import pdb \n",
    "# pdb.set_trace()\n",
    "\n",
    "model_metric_df = pd.DataFrame(model_metric_dict)\n",
    "# model_metric_df_list = [pd.DataFrame({\"metric\": [tup[0] for tup in model_metric_df[col].values], \n",
    "#                                       \"enrich-1\": [tup[1] for tup in model_metric_df[col].values],\n",
    "#                                       \"enrich-10\": [tup[2] for tup in model_metric_df[col].values],\n",
    "#                                       \"model\": [col]*len(model_metric_df)}) for col in model_metric_df.columns]\n",
    "\n",
    "# model_metric_df = pd.concat(model_metric_df_list)\n",
    "model_metric_df"
   ]
  },
  {
   "cell_type": "code",
   "execution_count": 75,
   "metadata": {},
   "outputs": [],
   "source": [
    "# model_metric_df['enrich-1'] = model_metric_df['enrich-1'].apply(lambda x: float(np.array(x)))\n",
    "# model_metric_df['enrich-10'] = model_metric_df['enrich-10'].apply(lambda x: float(np.array(x)))"
   ]
  },
  {
   "cell_type": "code",
   "execution_count": 76,
   "metadata": {},
   "outputs": [],
   "source": [
    "# sns.boxplot(data=model_metric_df, x=\"model\", y=\"metric\", ax=lit_pcba_ax[0], palette=color_dict)\n",
    "# lit_pcba_f"
   ]
  },
  {
   "cell_type": "code",
   "execution_count": 82,
   "metadata": {},
   "outputs": [
    {
     "data": {
      "text/plain": [
       "<Figure size 432x288 with 0 Axes>"
      ]
     },
     "metadata": {},
     "output_type": "display_data"
    }
   ],
   "source": [
    "sns.boxplot(data=model_metric_df, x=\"model\", y=\"enrich-1-mean\", ax=lit_pcba_enrich_1_ax, palette=color_dict)\n",
    "lit_pcba_enrich_1_ax.set_title(\"(a) LIT-PCBA Enrichment at 1\\%\", fontdict={\"fontsize\": 18})\n",
    "lit_pcba_enrich_1_ax.set_xlabel(\"\")\n",
    "lit_pcba_enrich_1_ax.set_ylabel(\"\")\n",
    "lit_pcba_enrich_1_ax.tick_params(axis=\"x\", labelrotation=22.5)\n",
    "\n",
    "# lit_pcba_enrich_1_ax.set_xticklabels(labels)\n",
    "# labels = [x[1] for x in model_order_list]\n",
    "# labels = [model_name_dict[x.get_text()] for x in lit_pcba_enrich_1_ax.get_xticklabels()]\n",
    "# lit_pcba_enrich_1_ax.set_xticklabels(labels)\n",
    "lit_pcba_enrich_1_ax.set_ylabel(\"EF\")\n",
    "\n",
    "\n",
    "\n",
    "\n",
    "plt.tight_layout()\n",
    "# lit_pcba_enrich_1_f.savefig(\"lit_pcba_enrich_1.png\", dpi=600, bbox_inches=\"tight\")\n",
    "# lit_pcba_enrich_1_f"
   ]
  },
  {
   "cell_type": "code",
   "execution_count": 83,
   "metadata": {},
   "outputs": [
    {
     "data": {
      "text/plain": [
       "<Figure size 432x288 with 0 Axes>"
      ]
     },
     "metadata": {},
     "output_type": "display_data"
    }
   ],
   "source": [
    "sns.boxplot(data=model_metric_df, x=\"model\", y=\"enrich-10-mean\", ax=lit_pcba_enrich_10_ax, palette=color_dict)\n",
    "lit_pcba_enrich_10_ax.set_title(\"(b) LIT-PCBA Enrichment at 10\\%\", fontdict={\"fontsize\": 18})\n",
    "lit_pcba_enrich_10_ax.set_xlabel(\"\")\n",
    "lit_pcba_enrich_10_ax.set_ylabel(\"\")\n",
    "lit_pcba_enrich_10_ax.tick_params(axis=\"x\", labelrotation=22.5)\n",
    "labels = [item.get_text() for item in lit_pcba_enrich_10_ax.get_xticklabels()]\n",
    "labels = [model_name_dict[x.get_text()] for x in lit_pcba_enrich_10_ax.get_xticklabels()]\n",
    "lit_pcba_enrich_10_ax.set_xticklabels(labels)\n",
    "lit_pcba_enrich_10_ax.set_ylabel(\"EF\")\n",
    "plt.tight_layout()\n",
    "# lit_pcba_enrich_10_f.savefig(\"lit_pcba_enrich_10.png\", dpi=600, bbox_inches=\"tight\")\n",
    "# lit_pcba_enrich_10_f"
   ]
  },
  {
   "cell_type": "code",
   "execution_count": 84,
   "metadata": {},
   "outputs": [
    {
     "data": {
      "image/png": "[encoded data removed]",
      "text/plain": [
       "<Figure size 864x720 with 2 Axes>"
      ]
     },
     "execution_count": 84,
     "metadata": {},
     "output_type": "execute_result"
    }
   ],
   "source": [
    "lit_pcba_enrich_f.savefig(\"lit_pcba_enrich.png\", dpi=600, bbox_inches=\"tight\")\n",
    "\n",
    "lit_pcba_enrich_f\n"
   ]
  },
  {
   "cell_type": "code",
   "execution_count": 86,
   "metadata": {},
   "outputs": [
    {
     "data": {
      "text/html": [
       "<div>\n",
       "<style scoped>\n",
       "    .dataframe tbody tr th:only-of-type {\n",
       "        vertical-align: middle;\n",
       "    }\n",
       "\n",
       "    .dataframe tbody tr th {\n",
       "        vertical-align: top;\n",
       "    }\n",
       "\n",
       "    .dataframe thead tr th {\n",
       "        text-align: left;\n",
       "    }\n",
       "\n",
       "    .dataframe thead tr:last-of-type th {\n",
       "        text-align: right;\n",
       "    }\n",
       "</style>\n",
       "<table border=\"1\" class=\"dataframe\">\n",
       "  <thead>\n",
       "    <tr>\n",
       "      <th></th>\n",
       "      <th colspan=\"8\" halign=\"left\">enrich-1-mean</th>\n",
       "      <th colspan=\"2\" halign=\"left\">enrich-1-std</th>\n",
       "      <th>...</th>\n",
       "      <th colspan=\"2\" halign=\"left\">train_time</th>\n",
       "      <th colspan=\"8\" halign=\"left\">test_time</th>\n",
       "    </tr>\n",
       "    <tr>\n",
       "      <th></th>\n",
       "      <th>count</th>\n",
       "      <th>mean</th>\n",
       "      <th>std</th>\n",
       "      <th>min</th>\n",
       "      <th>25%</th>\n",
       "      <th>50%</th>\n",
       "      <th>75%</th>\n",
       "      <th>max</th>\n",
       "      <th>count</th>\n",
       "      <th>mean</th>\n",
       "      <th>...</th>\n",
       "      <th>75%</th>\n",
       "      <th>max</th>\n",
       "      <th>count</th>\n",
       "      <th>mean</th>\n",
       "      <th>std</th>\n",
       "      <th>min</th>\n",
       "      <th>25%</th>\n",
       "      <th>50%</th>\n",
       "      <th>75%</th>\n",
       "      <th>max</th>\n",
       "    </tr>\n",
       "    <tr>\n",
       "      <th>model</th>\n",
       "      <th></th>\n",
       "      <th></th>\n",
       "      <th></th>\n",
       "      <th></th>\n",
       "      <th></th>\n",
       "      <th></th>\n",
       "      <th></th>\n",
       "      <th></th>\n",
       "      <th></th>\n",
       "      <th></th>\n",
       "      <th></th>\n",
       "      <th></th>\n",
       "      <th></th>\n",
       "      <th></th>\n",
       "      <th></th>\n",
       "      <th></th>\n",
       "      <th></th>\n",
       "      <th></th>\n",
       "      <th></th>\n",
       "      <th></th>\n",
       "      <th></th>\n",
       "    </tr>\n",
       "  </thead>\n",
       "  <tbody>\n",
       "    <tr>\n",
       "      <th>ecfp</th>\n",
       "      <td>15.0</td>\n",
       "      <td>14.076196</td>\n",
       "      <td>14.039168</td>\n",
       "      <td>0.0</td>\n",
       "      <td>2.895247</td>\n",
       "      <td>6.121466</td>\n",
       "      <td>23.516424</td>\n",
       "      <td>40.102041</td>\n",
       "      <td>15.0</td>\n",
       "      <td>3.860912e+00</td>\n",
       "      <td>...</td>\n",
       "      <td>42.825877</td>\n",
       "      <td>48.501519</td>\n",
       "      <td>15.0</td>\n",
       "      <td>7.876104</td>\n",
       "      <td>6.510600</td>\n",
       "      <td>0.192361</td>\n",
       "      <td>0.963493</td>\n",
       "      <td>9.421970</td>\n",
       "      <td>13.987301</td>\n",
       "      <td>16.133172</td>\n",
       "    </tr>\n",
       "    <tr>\n",
       "      <th>mlp</th>\n",
       "      <td>15.0</td>\n",
       "      <td>23.857766</td>\n",
       "      <td>14.031995</td>\n",
       "      <td>0.0</td>\n",
       "      <td>12.564738</td>\n",
       "      <td>22.793787</td>\n",
       "      <td>34.061602</td>\n",
       "      <td>48.338587</td>\n",
       "      <td>15.0</td>\n",
       "      <td>6.314666e+00</td>\n",
       "      <td>...</td>\n",
       "      <td>11.969631</td>\n",
       "      <td>101.746651</td>\n",
       "      <td>15.0</td>\n",
       "      <td>0.764835</td>\n",
       "      <td>0.883107</td>\n",
       "      <td>0.006982</td>\n",
       "      <td>0.045981</td>\n",
       "      <td>0.430658</td>\n",
       "      <td>0.976061</td>\n",
       "      <td>2.853678</td>\n",
       "    </tr>\n",
       "    <tr>\n",
       "      <th>rf</th>\n",
       "      <td>15.0</td>\n",
       "      <td>32.085894</td>\n",
       "      <td>17.058962</td>\n",
       "      <td>0.0</td>\n",
       "      <td>21.214078</td>\n",
       "      <td>33.630178</td>\n",
       "      <td>43.635317</td>\n",
       "      <td>59.744321</td>\n",
       "      <td>15.0</td>\n",
       "      <td>3.079019e-15</td>\n",
       "      <td>...</td>\n",
       "      <td>7.065135</td>\n",
       "      <td>13.916319</td>\n",
       "      <td>15.0</td>\n",
       "      <td>0.787652</td>\n",
       "      <td>0.682118</td>\n",
       "      <td>0.019508</td>\n",
       "      <td>0.100414</td>\n",
       "      <td>0.838919</td>\n",
       "      <td>1.192134</td>\n",
       "      <td>2.047640</td>\n",
       "    </tr>\n",
       "    <tr>\n",
       "      <th>rp</th>\n",
       "      <td>15.0</td>\n",
       "      <td>7.955462</td>\n",
       "      <td>11.233038</td>\n",
       "      <td>0.0</td>\n",
       "      <td>0.325878</td>\n",
       "      <td>2.040489</td>\n",
       "      <td>11.168654</td>\n",
       "      <td>34.756364</td>\n",
       "      <td>15.0</td>\n",
       "      <td>2.413042e+00</td>\n",
       "      <td>...</td>\n",
       "      <td>38.654116</td>\n",
       "      <td>45.237528</td>\n",
       "      <td>15.0</td>\n",
       "      <td>7.336910</td>\n",
       "      <td>5.963268</td>\n",
       "      <td>0.192000</td>\n",
       "      <td>0.792397</td>\n",
       "      <td>9.537929</td>\n",
       "      <td>12.747834</td>\n",
       "      <td>14.928642</td>\n",
       "    </tr>\n",
       "    <tr>\n",
       "      <th>selfies.atomwise</th>\n",
       "      <td>15.0</td>\n",
       "      <td>4.574143</td>\n",
       "      <td>7.931471</td>\n",
       "      <td>0.0</td>\n",
       "      <td>0.000000</td>\n",
       "      <td>1.810702</td>\n",
       "      <td>2.789491</td>\n",
       "      <td>27.998182</td>\n",
       "      <td>15.0</td>\n",
       "      <td>8.926151e-01</td>\n",
       "      <td>...</td>\n",
       "      <td>41.087197</td>\n",
       "      <td>47.290838</td>\n",
       "      <td>15.0</td>\n",
       "      <td>8.875971</td>\n",
       "      <td>7.193154</td>\n",
       "      <td>0.220750</td>\n",
       "      <td>0.979048</td>\n",
       "      <td>11.404157</td>\n",
       "      <td>15.314161</td>\n",
       "      <td>17.471893</td>\n",
       "    </tr>\n",
       "    <tr>\n",
       "      <th>smiles-pe.atomwise.0</th>\n",
       "      <td>15.0</td>\n",
       "      <td>5.257589</td>\n",
       "      <td>8.331998</td>\n",
       "      <td>0.0</td>\n",
       "      <td>0.000000</td>\n",
       "      <td>1.628374</td>\n",
       "      <td>5.653944</td>\n",
       "      <td>27.515455</td>\n",
       "      <td>15.0</td>\n",
       "      <td>1.274133e+00</td>\n",
       "      <td>...</td>\n",
       "      <td>41.983385</td>\n",
       "      <td>60.565444</td>\n",
       "      <td>15.0</td>\n",
       "      <td>9.414018</td>\n",
       "      <td>7.701147</td>\n",
       "      <td>0.221521</td>\n",
       "      <td>1.034693</td>\n",
       "      <td>11.723572</td>\n",
       "      <td>15.474549</td>\n",
       "      <td>22.204742</td>\n",
       "    </tr>\n",
       "    <tr>\n",
       "      <th>smiles-pe.bpe.0</th>\n",
       "      <td>15.0</td>\n",
       "      <td>8.169572</td>\n",
       "      <td>10.901077</td>\n",
       "      <td>0.0</td>\n",
       "      <td>0.194004</td>\n",
       "      <td>4.009254</td>\n",
       "      <td>9.785020</td>\n",
       "      <td>32.825455</td>\n",
       "      <td>15.0</td>\n",
       "      <td>2.843145e+00</td>\n",
       "      <td>...</td>\n",
       "      <td>46.425499</td>\n",
       "      <td>63.529019</td>\n",
       "      <td>15.0</td>\n",
       "      <td>10.441032</td>\n",
       "      <td>8.603245</td>\n",
       "      <td>0.230170</td>\n",
       "      <td>1.398106</td>\n",
       "      <td>12.163090</td>\n",
       "      <td>16.990059</td>\n",
       "      <td>23.623640</td>\n",
       "    </tr>\n",
       "  </tbody>\n",
       "</table>\n",
       "<p>7 rows × 48 columns</p>\n",
       "</div>"
      ],
      "text/plain": [
       "                     enrich-1-mean                                        \\\n",
       "                             count       mean        std  min        25%   \n",
       "model                                                                      \n",
       "ecfp                          15.0  14.076196  14.039168  0.0   2.895247   \n",
       "mlp                           15.0  23.857766  14.031995  0.0  12.564738   \n",
       "rf                            15.0  32.085894  17.058962  0.0  21.214078   \n",
       "rp                            15.0   7.955462  11.233038  0.0   0.325878   \n",
       "selfies.atomwise              15.0   4.574143   7.931471  0.0   0.000000   \n",
       "smiles-pe.atomwise.0          15.0   5.257589   8.331998  0.0   0.000000   \n",
       "smiles-pe.bpe.0               15.0   8.169572  10.901077  0.0   0.194004   \n",
       "\n",
       "                                                      enrich-1-std  \\\n",
       "                            50%        75%        max        count   \n",
       "model                                                                \n",
       "ecfp                   6.121466  23.516424  40.102041         15.0   \n",
       "mlp                   22.793787  34.061602  48.338587         15.0   \n",
       "rf                    33.630178  43.635317  59.744321         15.0   \n",
       "rp                     2.040489  11.168654  34.756364         15.0   \n",
       "selfies.atomwise       1.810702   2.789491  27.998182         15.0   \n",
       "smiles-pe.atomwise.0   1.628374   5.653944  27.515455         15.0   \n",
       "smiles-pe.bpe.0        4.009254   9.785020  32.825455         15.0   \n",
       "\n",
       "                                    ... train_time             test_time  \\\n",
       "                              mean  ...        75%         max     count   \n",
       "model                               ...                                    \n",
       "ecfp                  3.860912e+00  ...  42.825877   48.501519      15.0   \n",
       "mlp                   6.314666e+00  ...  11.969631  101.746651      15.0   \n",
       "rf                    3.079019e-15  ...   7.065135   13.916319      15.0   \n",
       "rp                    2.413042e+00  ...  38.654116   45.237528      15.0   \n",
       "selfies.atomwise      8.926151e-01  ...  41.087197   47.290838      15.0   \n",
       "smiles-pe.atomwise.0  1.274133e+00  ...  41.983385   60.565444      15.0   \n",
       "smiles-pe.bpe.0       2.843145e+00  ...  46.425499   63.529019      15.0   \n",
       "\n",
       "                                                                          \\\n",
       "                           mean       std       min       25%        50%   \n",
       "model                                                                      \n",
       "ecfp                   7.876104  6.510600  0.192361  0.963493   9.421970   \n",
       "mlp                    0.764835  0.883107  0.006982  0.045981   0.430658   \n",
       "rf                     0.787652  0.682118  0.019508  0.100414   0.838919   \n",
       "rp                     7.336910  5.963268  0.192000  0.792397   9.537929   \n",
       "selfies.atomwise       8.875971  7.193154  0.220750  0.979048  11.404157   \n",
       "smiles-pe.atomwise.0   9.414018  7.701147  0.221521  1.034693  11.723572   \n",
       "smiles-pe.bpe.0       10.441032  8.603245  0.230170  1.398106  12.163090   \n",
       "\n",
       "                                            \n",
       "                            75%        max  \n",
       "model                                       \n",
       "ecfp                  13.987301  16.133172  \n",
       "mlp                    0.976061   2.853678  \n",
       "rf                     1.192134   2.047640  \n",
       "rp                    12.747834  14.928642  \n",
       "selfies.atomwise      15.314161  17.471893  \n",
       "smiles-pe.atomwise.0  15.474549  22.204742  \n",
       "smiles-pe.bpe.0       16.990059  23.623640  \n",
       "\n",
       "[7 rows x 48 columns]"
      ]
     },
     "execution_count": 86,
     "metadata": {},
     "output_type": "execute_result"
    }
   ],
   "source": [
    "model_metric_df.groupby(\"model\").describe()"
   ]
  },
  {
   "cell_type": "code",
   "execution_count": 88,
   "metadata": {},
   "outputs": [],
   "source": [
    "group_dict = {group_name: group_df for group_name, group_df in model_metric_df.groupby('model')}"
   ]
  },
  {
   "cell_type": "code",
   "execution_count": 89,
   "metadata": {},
   "outputs": [
    {
     "name": "stdout",
     "output_type": "stream",
     "text": [
      "ecfp-23.979008684476216\n",
      "mlp-13.517712831020358\n",
      "rf-5.028178724447885\n",
      "rp-22.270036433060962\n",
      "selfies.atomwise-23.864359796524045\n",
      "smiles-pe.atomwise.0-25.628446019331616\n",
      "smiles-pe.bpe.0-28.20012922493617\n"
     ]
    }
   ],
   "source": [
    "for group_name in group_dict.keys():\n",
    "    print(f\"{group_name}-{group_dict[group_name]['train_time'].mean()}\")"
   ]
  },
  {
   "cell_type": "code",
   "execution_count": 90,
   "metadata": {},
   "outputs": [
    {
     "name": "stdout",
     "output_type": "stream",
     "text": [
      "ecfp-7.87610372543335\n",
      "mlp-0.764835287729899\n",
      "rf-0.7876524146397907\n",
      "rp-7.336910459200542\n",
      "selfies.atomwise-8.875970926284792\n",
      "smiles-pe.atomwise.0-9.414018405278522\n",
      "smiles-pe.bpe.0-10.441032210985819\n"
     ]
    }
   ],
   "source": [
    "for group_name in group_dict.keys():\n",
    "    print(f\"{group_name}-{group_dict[group_name]['test_time'].mean()}\")"
   ]
  },
  {
   "cell_type": "code",
   "execution_count": 93,
   "metadata": {},
   "outputs": [
    {
     "data": {
      "image/png": "[encoded data removed]",
      "text/plain": [
       "<Figure size 1008x576 with 1 Axes>"
      ]
     },
     "metadata": {
      "needs_background": "light"
     },
     "output_type": "display_data"
    }
   ],
   "source": [
    "f, ax = plt.subplots(1,1, figsize=(14,8))\n",
    "\n",
    "g = sns.boxplot(data=model_metric_df[model_metric_df[\"model\"] != \"Vina\"], x=\"model\", y=\"train_time\", ax=ax, palette=color_dict)\n",
    "ax.tick_params(axis=\"x\", labelrotation=22.5)\n",
    "g.set_yscale(\"log\")"
   ]
  },
  {
   "cell_type": "code",
   "execution_count": 94,
   "metadata": {},
   "outputs": [
    {
     "data": {
      "image/png": "[encoded data removed]",
      "text/plain": [
       "<Figure size 1008x576 with 1 Axes>"
      ]
     },
     "metadata": {
      "needs_background": "light"
     },
     "output_type": "display_data"
    }
   ],
   "source": [
    "f, ax = plt.subplots(1,1, figsize=(14,8))\n",
    "\n",
    "g = sns.boxplot(data=model_metric_df[model_metric_df[\"model\"] != \"Vina\"], x=\"model\", y=\"test_time\", ax=ax, palette=color_dict)\n",
    "ax.tick_params(axis=\"x\", labelrotation=22.5)\n",
    "g.set_yscale(\"log\")"
   ]
  },
  {
   "cell_type": "code",
   "execution_count": null,
   "metadata": {},
   "outputs": [],
   "source": []
  }
 ],
 "metadata": {
  "kernelspec": {
   "display_name": "dtra_reactivator",
   "language": "python",
   "name": "dtra_reactivator"
  },
  "language_info": {
   "codemirror_mode": {
    "name": "ipython",
    "version": 3
   },
   "file_extension": ".py",
   "mimetype": "text/x-python",
   "name": "python",
   "nbconvert_exporter": "python",
   "pygments_lexer": "ipython3",
   "version": "3.8.12"
  }
 },
 "nbformat": 4,
 "nbformat_minor": 4
}
