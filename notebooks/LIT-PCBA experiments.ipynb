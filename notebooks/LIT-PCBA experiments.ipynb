{
 "cells": [
  {
   "cell_type": "markdown",
   "metadata": {},
   "source": [
    "# LIT-PCBA \n",
    "this dataset is a proposed \"more difficult\" test than DUD-E. I used a 75/25 (sklearn default) stratified split. The dataset is heavily imbalanced, like DUD-E."
   ]
  },
  {
   "cell_type": "code",
   "execution_count": 1,
   "metadata": {},
   "outputs": [],
   "source": [
    "import pickle\n",
    "from sklearn.metrics import roc_auc_score\n",
    "import numpy as np\n",
    "import seaborn as sns\n",
    "import torch\n",
    "import seaborn as sns\n",
    "from tqdm import tqdm\n",
    "import pandas as pd\n",
    "from pathlib import Path\n",
    "from sklearn.metrics import f1_score, recall_score\n",
    "import matplotlib.pyplot as plt\n",
    "import sys\n",
    "# sys.path.append('..')\n",
    "sys.path.insert(0, \"/g/g13/jones289/workspace/hd-cuda-master/hdpy\")\n",
    "# print(sys.path)\n",
    "import hdpy\n",
    "import hdpy.ecfp_hd\n",
    "from hdpy.analysis import load_pkl\n",
    "from hdpy.metrics import compute_enrichment_factor\n",
    "\n",
    "\n",
    "plt.rc('text', usetex=True)\n",
    "plt.rc('font', family='serif')\n",
    "plt.rc('xtick', labelsize=15)\n",
    "plt.rc('ytick', labelsize=15)\n",
    "plt.rc('axes', labelsize=17)\n",
    "plt.rc('figure', titlesize=20)"
   ]
  },
  {
   "cell_type": "code",
   "execution_count": 2,
   "metadata": {},
   "outputs": [],
   "source": [
    "data_p = Path(\"/g/g13/jones289/workspace/hd-cuda-master/hdpy/hdpy/results/125\")\n"
   ]
  },
  {
   "cell_type": "code",
   "execution_count": 3,
   "metadata": {},
   "outputs": [],
   "source": [
    "green_color_pal = sns.color_palette(\"Greens\", 10)\n",
    "blue_color_pal = sns.color_palette(\"Blues\", 10)\n",
    "rocket_color_pal = sns.color_palette(\"rocket\", 10)"
   ]
  },
  {
   "cell_type": "code",
   "execution_count": 4,
   "metadata": {},
   "outputs": [],
   "source": [
    "color_dict = {\n",
    "    \"smiles-pe.atomwise.0\": rocket_color_pal[2],\n",
    "    \"smiles-pe.bpe.0\": rocket_color_pal[4],   \n",
    "\"selfies.atomwise\": green_color_pal[4],\n",
    "    \"ecfp\": green_color_pal[6],\n",
    "    \"rp\": green_color_pal[8],\n",
    "    \"rf\": blue_color_pal[4],\n",
    "    \"mlp\": blue_color_pal[7],\n",
    "#     \"HDC-MLP\": green_color_pal[9],\n",
    "    \"HDC-RF\": green_color_pal[9],\n",
    "    \"Vina\": \"salmon\",\n",
    "}\n",
    "\n",
    "\n",
    "model_order_list = [\n",
    "    (\"smiles-pe.atomwise.0\", \"MoleHD-Atomw.\"),\n",
    "    (\"smiles-pe.bpe.0\", \"MoleHD-BPE\"),\n",
    "#     (\"smiles-pe.ngram.1\", \"SMILES uni-gram\"),\n",
    "    (\"selfies.atomwise\", \"HDBind-SELFIES\"),\n",
    "#     (\"selfies.selfies-charwise\", \"SELFIES uni-gram\"),\n",
    "    (\"ecfp\", \"HDBind-ECFP\"),\n",
    "    (\"rp\", \"HDBind-ECFP+RP\"),\n",
    "    (\"rf\", \"RF\"),\n",
    "    (\"mlp\", \"MLP\"),\n",
    "#     (\"Vina\", \"Vina\")\n",
    "]\n",
    "\n",
    "\n",
    "model_name_dict = {\n",
    "    \"smiles-pe.atomwise.0\": \"MoleHD-Atomw.\", \n",
    "    \"smiles-pe.bpe.0\": \"MoleHD-BPE\",\n",
    "#     \"smiles-pe.ngram.1\": \"SMILES uni-gram\",\n",
    "    \"selfies.atomwise\": \"HDBind-SELFIES\",\n",
    "#     \"selfies.selfies-charwise\": \"SELFIES uni-gram\",\n",
    "    \"ecfp\": \"HDBind-ECFP\",\n",
    "    \"rp\": \"HDBind-RPFP\",\n",
    "    \"rf\": \"RF\",\n",
    "    \"mlp\": \"MLP\",\n",
    "    \"Vina\": \"Vina\",\n",
    "    \"HDC-MLP\": \"HDC-MLP\",\n",
    "    \"HDC-RF\": \"HDC-RF\"\n",
    "}"
   ]
  },
  {
   "cell_type": "markdown",
   "metadata": {},
   "source": [
    "# LIT-PCBA Results"
   ]
  },
  {
   "cell_type": "code",
   "execution_count": 5,
   "metadata": {},
   "outputs": [],
   "source": [
    "from sklearn.metrics import recall_score, precision_score, f1_score, roc_auc_score\n",
    "\n",
    "\n",
    "def compute_metrics(y_pred, y_score, y_true):\n",
    "    \n",
    "    return {\"precision\": precision_score(y_pred=y_pred, y_true=y_true, zero_division=0),\n",
    "            \"recall\": recall_score(y_pred=y_pred, y_true=y_true),\n",
    "           \"f1\": f1_score(y_pred=y_pred, y_true=y_true, zero_division=0),\n",
    "#            \"roc\": roc_auc_score(y_score=y_score, y_true=y_true)\n",
    "           }\n",
    "\n",
    "\n",
    "def aggregate_results(dataset, range_limit=10, multistep_initial_p=None, \n",
    "                      multistep_p_list=None, \n",
    "                      multistep_sklearn_model=None):\n",
    "    \n",
    "\n",
    "    model_metric_dict = {\"model\": [], \"enrich\": [], \"p\":[], \"train_time\":[], \"test_time\": [], \"target\": [],\n",
    "                        \"seed\": [], \"recall\": [], \"precision\": [], \"f1\": [], \n",
    "#                          \"roc\": []\n",
    "                        }\n",
    "    tokenizer=\"atomwise\"\n",
    "    ngram_order=0\n",
    "    for model, color in tqdm(color_dict.items(), total=len(color_dict), position=0):\n",
    "                        \n",
    "        metric_list = []\n",
    "        encode_time_list = []\n",
    "        train_time_list = []\n",
    "        test_time_list = []\n",
    "        train_size_list = []\n",
    "        test_size_list = []\n",
    "        target_size_list = []\n",
    "        eta_list = []\n",
    "\n",
    "        \n",
    "        if model not in [\"HDC-MLP\", \"HDC-RF\"]:\n",
    "            data_path_list = list(data_p.glob(f\"{dataset.replace('-','_')}*.{model}*pkl\"))\n",
    "\n",
    "        elif model in [\"HDC-MLP\", \"HDC-RF\"]:\n",
    "            data_path_list = list(data_p.glob(f\"{dataset.replace('-','_')}*.ecfp*pkl\"))\n",
    "        \n",
    "#     '''\n",
    "\n",
    "        for path in tqdm(data_path_list, total=len(data_path_list), position=1):\n",
    "\n",
    "            \n",
    "            with open(path, \"rb\") as handle:\n",
    "                model_data_dict = pickle.load(handle)\n",
    "\n",
    "            \n",
    "            target = path.name.split(\".\")[1]\n",
    "            \n",
    "            # just choosing this as a debug case\n",
    "#             if target not in [\"GBA\", \"ALDH1\"]:\n",
    "#                 continue\n",
    "            \n",
    "            print(target, path, model)\n",
    "\n",
    "            hd_cache_dir = f\"/p/lustre2/jones289/hd_cache/125/ecfp/{dataset}/random\"\n",
    "\n",
    "            for seed in range(range_limit):\n",
    "                                \n",
    "                    \n",
    "#                 DEBUG_SIZE=100  \n",
    "#                 y_test = model_data_dict[\"y_test\"][:DEBUG_SIZE]\n",
    "#                 x_test = model_data_dict[\"x_test\"][:DEBUG_SIZE]\n",
    "                y_test = model_data_dict[\"y_test\"]\n",
    "                x_test = model_data_dict[\"x_test\"]\n",
    "                actives_database = sum(y_test)\n",
    "                database_size = y_test.shape[0]\n",
    "                \n",
    "                eta = None \n",
    "                \n",
    "\n",
    "                if model in [\"rf\", \"mlp\"]:\n",
    "\n",
    "\n",
    "                    for p in [.01, .1]:\n",
    "\n",
    "                        sklearn_model = model_data_dict[seed][\"model\"]\n",
    "\n",
    "                        y_score = sklearn_model.predict_proba(x_test)[:, 1]            \n",
    "                        y_pred = sklearn_model.predict(x_test)\n",
    "                        enrich = compute_enrichment_factor(sample_scores=y_score, \n",
    "                                                sample_labels=y_test,\n",
    "                                                n_percent=p, \n",
    "                                                actives_database=actives_database, \n",
    "                                                database_size=database_size)\n",
    "\n",
    "                \n",
    "                        metrics = compute_metrics(y_pred=y_pred, y_score=y_score, y_true=y_test)\n",
    "                \n",
    "                        model_metric_dict[\"model\"].append(model)\n",
    "                        model_metric_dict[\"target\"].append(target)\n",
    "                        model_metric_dict[\"enrich\"].append(enrich)\n",
    "                        model_metric_dict[\"p\"].append(p)\n",
    "                        model_metric_dict[\"seed\"].append(seed)\n",
    "                        model_metric_dict[\"precision\"].append(metrics[\"precision\"])\n",
    "                        model_metric_dict[\"recall\"].append(metrics[\"recall\"])\n",
    "                        model_metric_dict[\"f1\"].append(metrics[\"f1\"])\n",
    "#                         model_metric_dict[\"roc\"].append(metrics[\"roc\"])\n",
    "\n",
    "                        \n",
    "                elif model.lower() in [\"hdc-rf\", \"hdc-mlp\"]:\n",
    "\n",
    "                    sklearn_result_file = Path(f\"{data_p}/{dataset.replace('-', '_')}.{target}.{multistep_sklearn_model}.None.{ngram_order}.pkl\")\n",
    "\n",
    "                    with open(sklearn_result_file, \"rb\") as handle:\n",
    "                        sklearn_result_dict = pickle.load(handle)\n",
    "\n",
    "                    target_test_hv_path = f\"{hd_cache_dir}/{target}/test_dataset_hv.pth\"\n",
    "\n",
    "                    hv_test = torch.load(target_test_hv_path, map_location=\"cpu\")\n",
    "                    hdc_conf_scores = model_data_dict[seed][\"model\"].compute_confidence(hv_test)\n",
    "\n",
    "#                     # filter the data\n",
    "                    idxs = np.flip(np.argsort(hdc_conf_scores.squeeze().cpu().numpy(), kind=\"stable\"))\n",
    "\n",
    "                    \n",
    "                    sample_n = int(multistep_initial_p * y_test.shape[0])\n",
    "                    samp_idxs = idxs[:sample_n]\n",
    "                    \n",
    "\n",
    "                    x_test_samp = x_test[samp_idxs]\n",
    "                    y_test_samp = y_test[samp_idxs]\n",
    "                                            \n",
    "    \n",
    "                    for p in multistep_p_list:\n",
    "\n",
    "                        sklearn_model = sklearn_result_dict[seed][\"model\"]\n",
    "            \n",
    "                        sklearn_scores_samp = sklearn_model.predict_proba(x_test_samp)[:, 1]                        \n",
    "            \n",
    "                        y_pred = sklearn_model.predict(x_test_samp)\n",
    "                        enrich = compute_enrichment_factor(sample_scores=sklearn_scores_samp, \n",
    "                                                sample_labels=y_test_samp,\n",
    "                                                n_percent=p, \n",
    "                                                actives_database=actives_database, \n",
    "                                                database_size=database_size)\n",
    "\n",
    "\n",
    "                        metrics = compute_metrics(y_pred=y_pred, y_score=sklearn_scores_samp, y_true=y_test_samp)\n",
    "                \n",
    "                        model_metric_dict[\"model\"].append(model)\n",
    "                        model_metric_dict[\"target\"].append(target)\n",
    "                        model_metric_dict[\"enrich\"].append(enrich)\n",
    "                        model_metric_dict[\"p\"].append(round(multistep_initial_p * p, 2))\n",
    "                        model_metric_dict[\"seed\"].append(seed)\n",
    "                        model_metric_dict[\"precision\"].append(metrics[\"precision\"])\n",
    "                        model_metric_dict[\"recall\"].append(metrics[\"recall\"])\n",
    "                        model_metric_dict[\"f1\"].append(metrics[\"f1\"])\n",
    "#                         model_metric_dict[\"roc\"].append(metrics[\"roc\"])\n",
    "                    \n",
    "\n",
    "                else:                  \n",
    "                    \n",
    "                    target_test_hv_path = f\"{hd_cache_dir}/{target}/test_dataset_hv.pth\"\n",
    "                \n",
    "                    hv_test = torch.load(target_test_hv_path, map_location=\"cpu\")\n",
    "                    hdc_conf_scores = model_data_dict[seed][\"model\"].compute_confidence(hv_test)\n",
    "                    \n",
    "                    for p in [.01, .1]:\n",
    "\n",
    "                        enrich = compute_enrichment_factor(sample_scores=hdc_conf_scores, \n",
    "                                                sample_labels=y_test,\n",
    "                                                n_percent=p, \n",
    "                                                actives_database=actives_database, \n",
    "                                                database_size=database_size)\n",
    "                        y_pred = model_data_dict[seed][\"y_pred\"]\n",
    "                        metrics = compute_metrics(y_pred=y_pred, y_score=hdc_conf_scores, y_true=y_test)\n",
    "                \n",
    "                        model_metric_dict[\"model\"].append(model)\n",
    "                        model_metric_dict[\"target\"].append(target)\n",
    "                        model_metric_dict[\"enrich\"].append(enrich)\n",
    "                        model_metric_dict[\"p\"].append(p)\n",
    "                        model_metric_dict[\"seed\"].append(seed)\n",
    "                        model_metric_dict[\"precision\"].append(metrics[\"precision\"])\n",
    "                        model_metric_dict[\"recall\"].append(metrics[\"recall\"])\n",
    "                        model_metric_dict[\"f1\"].append(metrics[\"f1\"])\n",
    "#                         model_metric_dict[\"roc\"].append(metrics[\"roc\"])\n",
    "\n",
    "                #TODO: implement this \n",
    "#                 model_metric_dict[\"train_time\"].append(train_time)\n",
    "#                 model_metric_dict[\"test_time\"].append(test_time)\n",
    "\n",
    "    return model_metric_dict\n",
    "        \n"
   ]
  },
  {
   "cell_type": "markdown",
   "metadata": {},
   "source": [
    "# VINA result"
   ]
  },
  {
   "cell_type": "code",
   "execution_count": null,
   "metadata": {},
   "outputs": [],
   "source": [
    "from pathlib import Path\n",
    "def docking_main(nrows=None):\n",
    "    root_p = Path(\"/p/lustre2/ahashare/zhang30/LIT-PCBA-Data/\")\n",
    "\n",
    "    path_list = [path for path in root_p.glob(\"*-actives.csv\")]\n",
    "\n",
    "\n",
    "    df_list = []\n",
    "\n",
    "    for idx, path in tqdm(enumerate(path_list), total=len(path_list)):\n",
    "        print(idx, path)\n",
    "        \n",
    "#         '''\n",
    "        target = path.name.split(\".\")[0].split(\"-\")[0]\n",
    "        print(target, idx+1, path)\n",
    "        \n",
    "        \n",
    "\n",
    "        merged_df = None\n",
    "        merged_df_path = Path(f\"./lit_pcba_docking_analysis/{target}.csv\")\n",
    "        \n",
    "        if not merged_df_path.exists():\n",
    "            # can use the set of smiles in each result file\n",
    "            result_pkl = Path(f\"/g/g13/jones289/workspace/hd-cuda-master/hdpy/hdpy/results/124/lit_pcba.{target}.ecfp.atomwise.0.pkl\")        \n",
    "\n",
    "\n",
    "            target_train_smiles_list = []\n",
    "            target_test_smiles_list = []\n",
    "\n",
    "            with open(result_pkl, \"rb\") as handle:\n",
    "\n",
    "                data = pickle.load(handle)\n",
    "\n",
    "                target_train_smiles_list = data[\"smiles_train\"]\n",
    "                target_test_smiles_list = data[\"smiles_test\"]\n",
    "\n",
    "                print(f\"total of {len(target_train_smiles_list)} in training set, total of {len(target_test_smiles_list)} in testing set.\")\n",
    "\n",
    "            df_cols = ['file', ' scores/1', ' ligName']\n",
    "            active_df = pd.read_csv(root_p / Path(f\"{target}-actives.csv.clean\"), sep=\",\", usecols=df_cols, nrows=nrows)\n",
    "            active_df['y_true'] = [1] * len(active_df)\n",
    "\n",
    "\n",
    "\n",
    "            inactive_df = pd.read_csv(root_p / Path(f\"{target}-inactives.csv.clean\"), sep=\",\", usecols=df_cols, nrows=nrows)\n",
    "            inactive_df['y_true'] = [0] * len(inactive_df)\n",
    "\n",
    "            target_df = pd.concat([active_df, inactive_df])\n",
    "            # this will search over all of the docking results for each target, across each of the multiple protein models\n",
    "\n",
    "            active_smiles_df = pd.read_csv(f\"/p/vast1/jones289/lit_pcba/{target}/actives.smi\", delim_whitespace=True, header=None)\n",
    "            inactive_smiles_df = pd.read_csv(f\"/p/vast1/jones289/lit_pcba/{target}/inactives.smi\", delim_whitespace=True, header=None)\n",
    "            target_smiles_df = pd.concat([active_smiles_df, inactive_smiles_df])\n",
    "\n",
    "\n",
    "\n",
    "            top_pose_target_df = target_df.groupby([' ligName'], as_index=False)[[' ligName', ' scores/1', 'y_true']].min()\n",
    "\n",
    "\n",
    "        \n",
    "            merged_df_path.parent.mkdir(exist_ok=True, parents=True)\n",
    "            merged_df = pd.merge(top_pose_target_df, target_smiles_df, left_on=\" ligName\", right_on=1)\n",
    "            merged_df = merged_df[merged_df.apply(lambda x: x[0] in target_test_smiles_list, axis=1)]\n",
    "            merged_df['target'] = [target] * len(merged_df)\n",
    "            merged_df.to_csv(merged_df_path, index=False)\n",
    "        else:\n",
    "            merged_df = pd.read_csv(merged_df_path)\n",
    "            \n",
    "            if 'target' not in merged_df.columns:\n",
    "                merged_df['target'] = [target] * len(merged_df)\n",
    "                merged_df.to_csv(merged_df_path, index=False)\n",
    "\n",
    "\n",
    "\n",
    "        df_list.append(merged_df)\n",
    "\n",
    "    df = pd.concat(df_list)\n",
    "    return df"
   ]
  },
  {
   "cell_type": "code",
   "execution_count": null,
   "metadata": {},
   "outputs": [],
   "source": [
    "def compute_model_metric_df():\n",
    "    model_metric_dict = aggregate_results(dataset=\"lit-pcba\",multistep_p_list=[.05, .5],  \n",
    "                                          multistep_sklearn_model=\"rf\", \n",
    "                                         multistep_initial_p=.2)\n",
    "\n",
    "    model_metric_df = pd.DataFrame({key: value for key, value in model_metric_dict.items() if key not in [\"train_time\", \"test_time\", \"precision\", \"recall\", \"f1\"]})\n",
    "\n",
    "    # model_metric_df\n",
    "\n",
    "    #######\n",
    "    vina_result = docking_main(nrows=None)\n",
    "    vina_result\n",
    "    ###########\n",
    "\n",
    "    docking_dict = {\"enrich\": [], \"p\": [], \"model\": [], \"target\": []}\n",
    "\n",
    "    vina_enrich_list = []\n",
    "    target_list = []\n",
    "    vina_col=' scores/1'\n",
    "    for target, target_df in vina_result.groupby(\"target\"):\n",
    "\n",
    "        for p in [.1, .01]:\n",
    "            enrich = compute_enrichment_factor(sample_scores=np.abs(target_df[vina_col]), \n",
    "                                      sample_labels=target_df[\"y_true\"], \n",
    "                                      n_percent=p)\n",
    "\n",
    "            docking_dict[\"enrich\"].append(float(enrich))\n",
    "            docking_dict[\"p\"].append(p)\n",
    "            docking_dict[\"model\"].append(\"Vina\")\n",
    "            docking_dict[\"target\"].append(target)\n",
    "\n",
    "\n",
    "    ##################\n",
    "    model_metric_df = pd.concat([model_metric_df, pd.DataFrame(docking_dict)])\n",
    "    \n",
    "    # Backup the calculation\n",
    "    model_metric_df.to_csv(\"fixed_litpcba_model_metric_df.csv\")\n",
    "    \n",
    "    return model_metric_df    \n"
   ]
  },
  {
   "cell_type": "markdown",
   "metadata": {},
   "source": []
  },
  {
   "cell_type": "code",
   "execution_count": 22,
   "metadata": {},
   "outputs": [
    {
     "name": "stdout",
     "output_type": "stream",
     "text": [
      "fixed_litpcba_model_metric_df.csv exists! reading it now...\n",
      "done.\n"
     ]
    }
   ],
   "source": [
    "from pathlib import Path\n",
    "model_metric_df_path = Path(\"fixed_litpcba_model_metric_df.csv\")\n",
    "model_metric_df = None\n",
    "if model_metric_df_path.exists():\n",
    "    print(f\"{model_metric_df_path} exists! reading it now...\")\n",
    "    model_metric_df = pd.read_csv(model_metric_df_path, index_col=0)\n",
    "    print(\"done.\")\n",
    "    \n",
    "else:\n",
    "    print(f\"{model_metric_df_path} does not exist..computing it now..\")\n",
    "    model_metric_df = compute_model_metric_df()\n",
    "    print(\"done.\")"
   ]
  },
  {
   "cell_type": "code",
   "execution_count": 23,
   "metadata": {},
   "outputs": [
    {
     "data": {
      "text/plain": [
       "0     smiles-pe.atomwise.0\n",
       "1     smiles-pe.atomwise.0\n",
       "2     smiles-pe.atomwise.0\n",
       "3     smiles-pe.atomwise.0\n",
       "4     smiles-pe.atomwise.0\n",
       "              ...         \n",
       "25                    Vina\n",
       "26                    Vina\n",
       "27                    Vina\n",
       "28                    Vina\n",
       "29                    Vina\n",
       "Name: model, Length: 2160, dtype: object"
      ]
     },
     "execution_count": 23,
     "metadata": {},
     "output_type": "execute_result"
    }
   ],
   "source": [
    "model_metric_df[\"model\"]"
   ]
  },
  {
   "cell_type": "code",
   "execution_count": 24,
   "metadata": {},
   "outputs": [],
   "source": [
    "# enrich_1_df.groupby(['model','target', 'p']).describe().to_csv(\"summary_ef_stats_1.csv\")\n",
    "(model_metric_df).groupby([\"model\", \"target\", \"p\"])[\"enrich\"].describe().to_csv(\"summary_ef_stats.csv\")\n",
    "# enrich_10_df.groupby(['model', 'target', 'p']).describe().to_csv(\"summary_ef_stats_10.csv\")"
   ]
  },
  {
   "cell_type": "code",
   "execution_count": 25,
   "metadata": {},
   "outputs": [],
   "source": [
    "def make_box_plot(enrich_1_df, enrich_10_df):\n",
    "    \n",
    "    enrich_f, enrich_ax = plt.subplots(2,1, figsize=(12,10), sharex=True, sharey=False)\n",
    "    enrich_ax = enrich_ax.flatten()\n",
    "    enrich_1_ax, enrich_10_ax = enrich_ax[0], enrich_ax[1]\n",
    "    \n",
    "    sns.boxplot(data=enrich_1_df, x=\"model\", y=\"enrich\", ax=enrich_1_ax, palette=color_dict)\n",
    "    enrich_1_ax.set_title(\"(a) LIT-PCBA Enrichment at 1\\%\", fontdict={\"fontsize\": 18})\n",
    "    enrich_1_ax.set_xlabel(\"\")\n",
    "    enrich_1_ax.set_ylabel(\"\")\n",
    "    enrich_1_ax.tick_params(axis=\"x\", labelrotation=22.5)\n",
    "\n",
    "    enrich_1_ax.set_ylabel(\"EF\")\n",
    "\n",
    "    plt.tight_layout()\n",
    "\n",
    "    \n",
    "    sns.boxplot(data=enrich_10_df, x=\"model\", y=\"enrich\", ax=enrich_10_ax, palette=color_dict)\n",
    "    enrich_10_ax.set_title(\"(b) LIT-PCBA Enrichment at 10\\%\", fontdict={\"fontsize\": 18})\n",
    "    enrich_10_ax.set_xlabel(\"\")\n",
    "    enrich_10_ax.set_ylabel(\"\")\n",
    "    enrich_10_ax.tick_params(axis=\"x\", labelrotation=22.5)\n",
    "    labels = [item.get_text() for item in enrich_10_ax.get_xticklabels()]\n",
    "    labels = [model_name_dict[x.get_text()] for x in enrich_10_ax.get_xticklabels()]\n",
    "#     labels[-1] = combo_model_name\n",
    "    enrich_10_ax.set_xticklabels(labels)\n",
    "    enrich_ax[0].set_ylabel(\"EF\")\n",
    "    enrich_ax[1].set_ylabel(\"EF\")\n",
    "\n",
    "    plt.tight_layout()\n",
    "    # enrich_10_f.savefig(\"enrich_10.png\", dpi=600, bbox_inches=\"tight\")\n",
    "    # enrich_10_f\n",
    "    \n",
    "    enrich_f.savefig(\"lit-pcba-enrich.png\", dpi=600, bbox_inches=\"tight\")\n",
    "\n",
    "#     return enrich_f"
   ]
  },
  {
   "cell_type": "code",
   "execution_count": 26,
   "metadata": {},
   "outputs": [],
   "source": [
    "# take the average over the random seeds dimension for each combo of MODEL X TARGET X P\n",
    "grp_df = (model_metric_df).groupby([\"model\", \"target\", \"p\"])[\"enrich\"].mean().reset_index()\n"
   ]
  },
  {
   "cell_type": "code",
   "execution_count": 27,
   "metadata": {},
   "outputs": [
    {
     "data": {
      "text/html": [
       "<div>\n",
       "<style scoped>\n",
       "    .dataframe tbody tr th:only-of-type {\n",
       "        vertical-align: middle;\n",
       "    }\n",
       "\n",
       "    .dataframe tbody tr th {\n",
       "        vertical-align: top;\n",
       "    }\n",
       "\n",
       "    .dataframe thead th {\n",
       "        text-align: right;\n",
       "    }\n",
       "</style>\n",
       "<table border=\"1\" class=\"dataframe\">\n",
       "  <thead>\n",
       "    <tr style=\"text-align: right;\">\n",
       "      <th></th>\n",
       "      <th>model</th>\n",
       "      <th>target</th>\n",
       "      <th>p</th>\n",
       "      <th>enrich</th>\n",
       "    </tr>\n",
       "  </thead>\n",
       "  <tbody>\n",
       "    <tr>\n",
       "      <th>1</th>\n",
       "      <td>HDC-RF</td>\n",
       "      <td>ADRB2</td>\n",
       "      <td>0.1</td>\n",
       "      <td>0.000000</td>\n",
       "    </tr>\n",
       "    <tr>\n",
       "      <th>3</th>\n",
       "      <td>HDC-RF</td>\n",
       "      <td>ALDH1</td>\n",
       "      <td>0.1</td>\n",
       "      <td>1.584438</td>\n",
       "    </tr>\n",
       "    <tr>\n",
       "      <th>5</th>\n",
       "      <td>HDC-RF</td>\n",
       "      <td>ESR1_ago</td>\n",
       "      <td>0.1</td>\n",
       "      <td>2.997857</td>\n",
       "    </tr>\n",
       "    <tr>\n",
       "      <th>7</th>\n",
       "      <td>HDC-RF</td>\n",
       "      <td>ESR1_ant</td>\n",
       "      <td>0.1</td>\n",
       "      <td>3.084249</td>\n",
       "    </tr>\n",
       "    <tr>\n",
       "      <th>9</th>\n",
       "      <td>HDC-RF</td>\n",
       "      <td>FEN1</td>\n",
       "      <td>0.1</td>\n",
       "      <td>2.467475</td>\n",
       "    </tr>\n",
       "    <tr>\n",
       "      <th>...</th>\n",
       "      <td>...</td>\n",
       "      <td>...</td>\n",
       "      <td>...</td>\n",
       "      <td>...</td>\n",
       "    </tr>\n",
       "    <tr>\n",
       "      <th>231</th>\n",
       "      <td>smiles-pe.bpe.0</td>\n",
       "      <td>OPRK1</td>\n",
       "      <td>0.1</td>\n",
       "      <td>3.333333</td>\n",
       "    </tr>\n",
       "    <tr>\n",
       "      <th>233</th>\n",
       "      <td>smiles-pe.bpe.0</td>\n",
       "      <td>PKM2</td>\n",
       "      <td>0.1</td>\n",
       "      <td>0.875884</td>\n",
       "    </tr>\n",
       "    <tr>\n",
       "      <th>235</th>\n",
       "      <td>smiles-pe.bpe.0</td>\n",
       "      <td>PPARG</td>\n",
       "      <td>0.1</td>\n",
       "      <td>0.000000</td>\n",
       "    </tr>\n",
       "    <tr>\n",
       "      <th>237</th>\n",
       "      <td>smiles-pe.bpe.0</td>\n",
       "      <td>TP53</td>\n",
       "      <td>0.1</td>\n",
       "      <td>2.977570</td>\n",
       "    </tr>\n",
       "    <tr>\n",
       "      <th>239</th>\n",
       "      <td>smiles-pe.bpe.0</td>\n",
       "      <td>VDR</td>\n",
       "      <td>0.1</td>\n",
       "      <td>0.407231</td>\n",
       "    </tr>\n",
       "  </tbody>\n",
       "</table>\n",
       "<p>120 rows × 4 columns</p>\n",
       "</div>"
      ],
      "text/plain": [
       "               model    target    p    enrich\n",
       "1             HDC-RF     ADRB2  0.1  0.000000\n",
       "3             HDC-RF     ALDH1  0.1  1.584438\n",
       "5             HDC-RF  ESR1_ago  0.1  2.997857\n",
       "7             HDC-RF  ESR1_ant  0.1  3.084249\n",
       "9             HDC-RF      FEN1  0.1  2.467475\n",
       "..               ...       ...  ...       ...\n",
       "231  smiles-pe.bpe.0     OPRK1  0.1  3.333333\n",
       "233  smiles-pe.bpe.0      PKM2  0.1  0.875884\n",
       "235  smiles-pe.bpe.0     PPARG  0.1  0.000000\n",
       "237  smiles-pe.bpe.0      TP53  0.1  2.977570\n",
       "239  smiles-pe.bpe.0       VDR  0.1  0.407231\n",
       "\n",
       "[120 rows x 4 columns]"
      ]
     },
     "execution_count": 27,
     "metadata": {},
     "output_type": "execute_result"
    }
   ],
   "source": [
    "grp_df[grp_df[\"p\"] == .1]"
   ]
  },
  {
   "cell_type": "code",
   "execution_count": 28,
   "metadata": {},
   "outputs": [
    {
     "data": {
      "text/html": [
       "<div>\n",
       "<style scoped>\n",
       "    .dataframe tbody tr th:only-of-type {\n",
       "        vertical-align: middle;\n",
       "    }\n",
       "\n",
       "    .dataframe tbody tr th {\n",
       "        vertical-align: top;\n",
       "    }\n",
       "\n",
       "    .dataframe thead th {\n",
       "        text-align: right;\n",
       "    }\n",
       "</style>\n",
       "<table border=\"1\" class=\"dataframe\">\n",
       "  <thead>\n",
       "    <tr style=\"text-align: right;\">\n",
       "      <th></th>\n",
       "      <th>model</th>\n",
       "      <th>target</th>\n",
       "      <th>p</th>\n",
       "      <th>enrich</th>\n",
       "    </tr>\n",
       "  </thead>\n",
       "  <tbody>\n",
       "    <tr>\n",
       "      <th>0</th>\n",
       "      <td>HDC-RF</td>\n",
       "      <td>ADRB2</td>\n",
       "      <td>0.01</td>\n",
       "      <td>0.000000</td>\n",
       "    </tr>\n",
       "    <tr>\n",
       "      <th>2</th>\n",
       "      <td>HDC-RF</td>\n",
       "      <td>ALDH1</td>\n",
       "      <td>0.01</td>\n",
       "      <td>8.043328</td>\n",
       "    </tr>\n",
       "    <tr>\n",
       "      <th>4</th>\n",
       "      <td>HDC-RF</td>\n",
       "      <td>ESR1_ago</td>\n",
       "      <td>0.01</td>\n",
       "      <td>3.330952</td>\n",
       "    </tr>\n",
       "    <tr>\n",
       "      <th>6</th>\n",
       "      <td>HDC-RF</td>\n",
       "      <td>ESR1_ant</td>\n",
       "      <td>0.01</td>\n",
       "      <td>22.793787</td>\n",
       "    </tr>\n",
       "    <tr>\n",
       "      <th>8</th>\n",
       "      <td>HDC-RF</td>\n",
       "      <td>FEN1</td>\n",
       "      <td>0.01</td>\n",
       "      <td>19.987191</td>\n",
       "    </tr>\n",
       "    <tr>\n",
       "      <th>...</th>\n",
       "      <td>...</td>\n",
       "      <td>...</td>\n",
       "      <td>...</td>\n",
       "      <td>...</td>\n",
       "    </tr>\n",
       "    <tr>\n",
       "      <th>230</th>\n",
       "      <td>smiles-pe.bpe.0</td>\n",
       "      <td>OPRK1</td>\n",
       "      <td>0.01</td>\n",
       "      <td>0.000000</td>\n",
       "    </tr>\n",
       "    <tr>\n",
       "      <th>232</th>\n",
       "      <td>smiles-pe.bpe.0</td>\n",
       "      <td>PKM2</td>\n",
       "      <td>0.01</td>\n",
       "      <td>1.457911</td>\n",
       "    </tr>\n",
       "    <tr>\n",
       "      <th>234</th>\n",
       "      <td>smiles-pe.bpe.0</td>\n",
       "      <td>PPARG</td>\n",
       "      <td>0.01</td>\n",
       "      <td>0.000000</td>\n",
       "    </tr>\n",
       "    <tr>\n",
       "      <th>236</th>\n",
       "      <td>smiles-pe.bpe.0</td>\n",
       "      <td>TP53</td>\n",
       "      <td>0.01</td>\n",
       "      <td>4.827273</td>\n",
       "    </tr>\n",
       "    <tr>\n",
       "      <th>238</th>\n",
       "      <td>smiles-pe.bpe.0</td>\n",
       "      <td>VDR</td>\n",
       "      <td>0.01</td>\n",
       "      <td>0.000000</td>\n",
       "    </tr>\n",
       "  </tbody>\n",
       "</table>\n",
       "<p>120 rows × 4 columns</p>\n",
       "</div>"
      ],
      "text/plain": [
       "               model    target     p     enrich\n",
       "0             HDC-RF     ADRB2  0.01   0.000000\n",
       "2             HDC-RF     ALDH1  0.01   8.043328\n",
       "4             HDC-RF  ESR1_ago  0.01   3.330952\n",
       "6             HDC-RF  ESR1_ant  0.01  22.793787\n",
       "8             HDC-RF      FEN1  0.01  19.987191\n",
       "..               ...       ...   ...        ...\n",
       "230  smiles-pe.bpe.0     OPRK1  0.01   0.000000\n",
       "232  smiles-pe.bpe.0      PKM2  0.01   1.457911\n",
       "234  smiles-pe.bpe.0     PPARG  0.01   0.000000\n",
       "236  smiles-pe.bpe.0      TP53  0.01   4.827273\n",
       "238  smiles-pe.bpe.0       VDR  0.01   0.000000\n",
       "\n",
       "[120 rows x 4 columns]"
      ]
     },
     "execution_count": 28,
     "metadata": {},
     "output_type": "execute_result"
    }
   ],
   "source": [
    "grp_df[grp_df[\"p\"] == .01]"
   ]
  },
  {
   "cell_type": "code",
   "execution_count": 29,
   "metadata": {
    "scrolled": false
   },
   "outputs": [
    {
     "data": {
      "image/png": "[encoded data removed]",
      "text/plain": [
       "<Figure size 864x720 with 2 Axes>"
      ]
     },
     "metadata": {
      "needs_background": "light"
     },
     "output_type": "display_data"
    }
   ],
   "source": [
    "make_box_plot(enrich_1_df=grp_df[grp_df[\"p\"] == .01], \n",
    "          enrich_10_df=grp_df[grp_df[\"p\"] == .1])"
   ]
  },
  {
   "cell_type": "code",
   "execution_count": 30,
   "metadata": {},
   "outputs": [],
   "source": [
    "def make_swarm_plot(enrich_1_df, enrich_10_df):\n",
    "\n",
    "    enrich_f, enrich_ax = plt.subplots(2,1, figsize=(12,10), sharex=True, sharey=False)\n",
    "    enrich_ax = enrich_ax.flatten()\n",
    "    enrich_1_ax, enrich_10_ax = enrich_ax[0], enrich_ax[1]\n",
    "    \n",
    "    sns.swarmplot(data=enrich_1_df, x=\"model\", y=\"enrich\", ax=enrich_1_ax, palette=color_dict)\n",
    "    enrich_1_ax.set_title(\"(a) LIT-PCBA Enrichment at 1\\%\", fontdict={\"fontsize\": 18})\n",
    "    enrich_1_ax.set_xlabel(\"\")\n",
    "    enrich_1_ax.set_ylabel(\"\")\n",
    "    enrich_1_ax.tick_params(axis=\"x\", labelrotation=22.5)\n",
    "\n",
    "    enrich_1_ax.set_ylabel(\"EF\")\n",
    "\n",
    "    plt.tight_layout()\n",
    "\n",
    "    \n",
    "    sns.swarmplot(data=enrich_10_df, x=\"model\", y=\"enrich\", ax=enrich_10_ax, palette=color_dict)\n",
    "    enrich_10_ax.set_title(\"(b) LIT-PCBA Enrichment at 10\\%\", fontdict={\"fontsize\": 18})\n",
    "    enrich_10_ax.set_xlabel(\"\")\n",
    "    enrich_10_ax.set_ylabel(\"\")\n",
    "    enrich_10_ax.tick_params(axis=\"x\", labelrotation=22.5)\n",
    "    labels = [item.get_text() for item in enrich_10_ax.get_xticklabels()]\n",
    "    labels = [model_name_dict[x.get_text()] for x in enrich_10_ax.get_xticklabels()]\n",
    "#     labels[-1] = combo_model_name\n",
    "    enrich_10_ax.set_xticklabels(labels)\n",
    "    enrich_ax[0].set_ylabel(\"EF\")\n",
    "    enrich_ax[1].set_ylabel(\"EF\")\n",
    "\n",
    "    plt.tight_layout()\n",
    "    # enrich_10_f.savefig(\"enrich_10.png\", dpi=600, bbox_inches=\"tight\")\n",
    "    # enrich_10_f\n",
    "    \n",
    "    enrich_f.savefig(\"lit-pcba-enrich-swarm.png\", dpi=600, bbox_inches=\"tight\")\n",
    "\n",
    "#     return enrich_f"
   ]
  },
  {
   "cell_type": "code",
   "execution_count": 31,
   "metadata": {},
   "outputs": [
    {
     "data": {
      "image/png": "[encoded data removed]",
      "text/plain": [
       "<Figure size 864x720 with 2 Axes>"
      ]
     },
     "metadata": {
      "needs_background": "light"
     },
     "output_type": "display_data"
    }
   ],
   "source": [
    "make_swarm_plot(enrich_1_df=grp_df[grp_df[\"p\"] == .01], \n",
    "          enrich_10_df=grp_df[grp_df[\"p\"] == .1])"
   ]
  },
  {
   "cell_type": "code",
   "execution_count": 32,
   "metadata": {},
   "outputs": [
    {
     "data": {
      "text/html": [
       "<div>\n",
       "<style scoped>\n",
       "    .dataframe tbody tr th:only-of-type {\n",
       "        vertical-align: middle;\n",
       "    }\n",
       "\n",
       "    .dataframe tbody tr th {\n",
       "        vertical-align: top;\n",
       "    }\n",
       "\n",
       "    .dataframe thead th {\n",
       "        text-align: right;\n",
       "    }\n",
       "</style>\n",
       "<table border=\"1\" class=\"dataframe\">\n",
       "  <thead>\n",
       "    <tr style=\"text-align: right;\">\n",
       "      <th></th>\n",
       "      <th>model</th>\n",
       "      <th>target</th>\n",
       "      <th>p</th>\n",
       "      <th>enrich</th>\n",
       "    </tr>\n",
       "  </thead>\n",
       "  <tbody>\n",
       "    <tr>\n",
       "      <th>0</th>\n",
       "      <td>HDC-RF</td>\n",
       "      <td>ADRB2</td>\n",
       "      <td>0.01</td>\n",
       "      <td>0.000000</td>\n",
       "    </tr>\n",
       "    <tr>\n",
       "      <th>1</th>\n",
       "      <td>HDC-RF</td>\n",
       "      <td>ADRB2</td>\n",
       "      <td>0.10</td>\n",
       "      <td>0.000000</td>\n",
       "    </tr>\n",
       "    <tr>\n",
       "      <th>2</th>\n",
       "      <td>HDC-RF</td>\n",
       "      <td>ALDH1</td>\n",
       "      <td>0.01</td>\n",
       "      <td>8.043328</td>\n",
       "    </tr>\n",
       "    <tr>\n",
       "      <th>3</th>\n",
       "      <td>HDC-RF</td>\n",
       "      <td>ALDH1</td>\n",
       "      <td>0.10</td>\n",
       "      <td>1.584438</td>\n",
       "    </tr>\n",
       "    <tr>\n",
       "      <th>4</th>\n",
       "      <td>HDC-RF</td>\n",
       "      <td>ESR1_ago</td>\n",
       "      <td>0.01</td>\n",
       "      <td>3.330952</td>\n",
       "    </tr>\n",
       "    <tr>\n",
       "      <th>...</th>\n",
       "      <td>...</td>\n",
       "      <td>...</td>\n",
       "      <td>...</td>\n",
       "      <td>...</td>\n",
       "    </tr>\n",
       "    <tr>\n",
       "      <th>235</th>\n",
       "      <td>smiles-pe.bpe.0</td>\n",
       "      <td>PPARG</td>\n",
       "      <td>0.10</td>\n",
       "      <td>0.000000</td>\n",
       "    </tr>\n",
       "    <tr>\n",
       "      <th>236</th>\n",
       "      <td>smiles-pe.bpe.0</td>\n",
       "      <td>TP53</td>\n",
       "      <td>0.01</td>\n",
       "      <td>4.827273</td>\n",
       "    </tr>\n",
       "    <tr>\n",
       "      <th>237</th>\n",
       "      <td>smiles-pe.bpe.0</td>\n",
       "      <td>TP53</td>\n",
       "      <td>0.10</td>\n",
       "      <td>2.977570</td>\n",
       "    </tr>\n",
       "    <tr>\n",
       "      <th>238</th>\n",
       "      <td>smiles-pe.bpe.0</td>\n",
       "      <td>VDR</td>\n",
       "      <td>0.01</td>\n",
       "      <td>0.000000</td>\n",
       "    </tr>\n",
       "    <tr>\n",
       "      <th>239</th>\n",
       "      <td>smiles-pe.bpe.0</td>\n",
       "      <td>VDR</td>\n",
       "      <td>0.10</td>\n",
       "      <td>0.407231</td>\n",
       "    </tr>\n",
       "  </tbody>\n",
       "</table>\n",
       "<p>240 rows × 4 columns</p>\n",
       "</div>"
      ],
      "text/plain": [
       "               model    target     p    enrich\n",
       "0             HDC-RF     ADRB2  0.01  0.000000\n",
       "1             HDC-RF     ADRB2  0.10  0.000000\n",
       "2             HDC-RF     ALDH1  0.01  8.043328\n",
       "3             HDC-RF     ALDH1  0.10  1.584438\n",
       "4             HDC-RF  ESR1_ago  0.01  3.330952\n",
       "..               ...       ...   ...       ...\n",
       "235  smiles-pe.bpe.0     PPARG  0.10  0.000000\n",
       "236  smiles-pe.bpe.0      TP53  0.01  4.827273\n",
       "237  smiles-pe.bpe.0      TP53  0.10  2.977570\n",
       "238  smiles-pe.bpe.0       VDR  0.01  0.000000\n",
       "239  smiles-pe.bpe.0       VDR  0.10  0.407231\n",
       "\n",
       "[240 rows x 4 columns]"
      ]
     },
     "execution_count": 32,
     "metadata": {},
     "output_type": "execute_result"
    }
   ],
   "source": [
    "grp_df"
   ]
  },
  {
   "cell_type": "code",
   "execution_count": 63,
   "metadata": {},
   "outputs": [
    {
     "name": "stdout",
     "output_type": "stream",
     "text": [
      "[('HDC-RF',      model    target     p     enrich\n",
      "0   HDC-RF     ADRB2  0.01   0.000000\n",
      "1   HDC-RF     ADRB2  0.10   0.000000\n",
      "2   HDC-RF     ALDH1  0.01   8.043328\n",
      "3   HDC-RF     ALDH1  0.10   1.584438\n",
      "4   HDC-RF  ESR1_ago  0.01   3.330952\n",
      "5   HDC-RF  ESR1_ago  0.10   2.997857\n",
      "6   HDC-RF  ESR1_ant  0.01  22.793787\n",
      "7   HDC-RF  ESR1_ant  0.10   3.084249\n",
      "8   HDC-RF      FEN1  0.01  19.987191\n",
      "9   HDC-RF      FEN1  0.10   2.467475\n",
      "10  HDC-RF       GBA  0.01   9.755976\n",
      "11  HDC-RF       GBA  0.10   1.880825\n",
      "12  HDC-RF      IDH1  0.01  17.984503\n",
      "13  HDC-RF      IDH1  0.10   4.100091\n",
      "14  HDC-RF     KAT2A  0.01   4.897173\n",
      "15  HDC-RF     KAT2A  0.10   2.203981\n",
      "16  HDC-RF     MAPK1  0.01  17.460340\n",
      "17  HDC-RF     MAPK1  0.10   3.193790\n",
      "18  HDC-RF    MTORC1  0.01  17.847590\n",
      "19  HDC-RF    MTORC1  0.10   3.499154\n",
      "20  HDC-RF     OPRK1  0.01  33.313580\n",
      "21  HDC-RF     OPRK1  0.10   3.333333\n",
      "22  HDC-RF      PKM2  0.01   9.549315\n",
      "23  HDC-RF      PKM2  0.10   1.518199\n",
      "24  HDC-RF     PPARG  0.01  56.142857\n",
      "25  HDC-RF     PPARG  0.10   7.142857\n",
      "26  HDC-RF      TP53  0.01  43.445455\n",
      "27  HDC-RF      TP53  0.10   5.009434\n",
      "28  HDC-RF       VDR  0.01   7.780010\n",
      "29  HDC-RF       VDR  0.10   0.954730), ('ecfp',    model    target     p     enrich\n",
      "60  ecfp     ADRB2  0.01   0.000000\n",
      "61  ecfp     ADRB2  0.10   0.000000\n",
      "62  ecfp     ALDH1  0.01   0.669348\n",
      "63  ecfp     ALDH1  0.10   0.853653\n",
      "64  ecfp  ESR1_ago  0.01   0.000000\n",
      "65  ecfp  ESR1_ago  0.10   3.330952\n",
      "66  ecfp  ESR1_ant  0.01   7.473373\n",
      "67  ecfp  ESR1_ant  0.10   2.677468\n",
      "68  ecfp      FEN1  0.01   1.086260\n",
      "69  ecfp      FEN1  0.10   1.738994\n",
      "70  ecfp       GBA  0.01   2.379506\n",
      "71  ecfp       GBA  0.10   1.428475\n",
      "72  ecfp      IDH1  0.01   0.000000\n",
      "73  ecfp      IDH1  0.10   2.999735\n",
      "74  ecfp     KAT2A  0.01   4.080977\n",
      "75  ecfp     KAT2A  0.10   2.040723\n",
      "76  ecfp     MAPK1  0.01   1.293359\n",
      "77  ecfp     MAPK1  0.10   2.207091\n",
      "78  ecfp    MTORC1  0.01   8.301205\n",
      "79  ecfp    MTORC1  0.10   3.332527\n",
      "80  ecfp     OPRK1  0.01   0.000000\n",
      "81  ecfp     OPRK1  0.10   1.666667\n",
      "82  ecfp      PKM2  0.01   2.186866\n",
      "83  ecfp      PKM2  0.10   1.094855\n",
      "84  ecfp     PPARG  0.01  26.734694\n",
      "85  ecfp     PPARG  0.10   5.714286\n",
      "86  ecfp      TP53  0.01  19.309091\n",
      "87  ecfp      TP53  0.10   4.962617\n",
      "88  ecfp       VDR  0.01   0.452326\n",
      "89  ecfp       VDR  0.10   0.497726), ('rf',     model    target     p     enrich\n",
      "120    rf     ADRB2  0.01   2.497602\n",
      "121    rf     ADRB2  0.10   0.249984\n",
      "122    rf     ALDH1  0.01  15.980676\n",
      "123    rf     ALDH1  0.10   5.545400\n",
      "124    rf  ESR1_ago  0.01   0.000000\n",
      "125    rf  ESR1_ago  0.10   2.664762\n",
      "126    rf  ESR1_ant  0.01  33.256509\n",
      "127    rf  ESR1_ant  0.10   5.048940\n",
      "128    rf      FEN1  0.01  54.530271\n",
      "129    rf      FEN1  0.10   7.434198\n",
      "130    rf       GBA  0.01  59.249711\n",
      "131    rf       GBA  0.10   7.023335\n",
      "132    rf      IDH1  0.01  12.988808\n",
      "133    rf      IDH1  0.10   1.999823\n",
      "134    rf     KAT2A  0.01  24.281815\n",
      "135    rf     KAT2A  0.10   4.061038\n",
      "136    rf     MAPK1  0.01  16.942997\n",
      "137    rf     MAPK1  0.10   4.284353\n",
      "138    rf    MTORC1  0.01  29.469277\n",
      "139    rf    MTORC1  0.10   4.623881\n",
      "140    rf     OPRK1  0.01  33.313580\n",
      "141    rf     OPRK1  0.10   3.500000\n",
      "142    rf      PKM2  0.01  39.436485\n",
      "143    rf      PKM2  0.10   6.758904\n",
      "144    rf     PPARG  0.01  61.489796\n",
      "145    rf     PPARG  0.10   8.428571\n",
      "146    rf      TP53  0.01  41.514545\n",
      "147    rf      TP53  0.10   6.104019\n",
      "148    rf       VDR  0.01  46.182503\n",
      "149    rf       VDR  0.10   6.769079)]\n"
     ]
    }
   ],
   "source": [
    "from pandas.plotting import parallel_coordinates\n",
    "\n",
    "def make_pc_plot(df):\n",
    "\n",
    "#     f, ax = plt.subplots(1,1, figsize=(12,10), sharex=True, sharey=False)\n",
    "\n",
    "    df_list = list(df.groupby([\"model\"]))\n",
    "    print(df_list)\n",
    "#     pc_df = pd.concat([group_df for group_name, group_df in df.groupby('model')], axis=1)\n",
    "\n",
    "    \n",
    "\n",
    "#     ax = ax.flatten()\n",
    "#     enrich_1_ax, enrich_10_ax = enrich_ax[0], enrich_ax[1]\n",
    "    \n",
    "#     sns.swarmplot(data=model_1_df, x=\"model\", y=\"enrich\", ax=ax, palette=color_dict)\n",
    "#     enrich_1_ax.set_title(\"(a) LIT-PCBA Enrichment at 1\\%\", fontdict={\"fontsize\": 18})\n",
    "#     enrich_1_ax.set_xlabel(\"\")\n",
    "#     enrich_1_ax.set_ylabel(\"\")\n",
    "#     enrich_1_ax.tick_params(axis=\"x\", labelrotation=22.5)\n",
    "\n",
    "#     enrich_1_ax.set_ylabel(\"EF\")\n",
    "\n",
    "#     plt.tight_layout()\n",
    "\n",
    "    \n",
    "#     sns.swarmplot(data=enrich_10_df, x=\"model\", y=\"enrich\", ax=enrich_10_ax, palette=color_dict)\n",
    "#     enrich_10_ax.set_title(\"(b) LIT-PCBA Enrichment at 10\\%\", fontdict={\"fontsize\": 18})\n",
    "#     enrich_10_ax.set_xlabel(\"\")\n",
    "#     enrich_10_ax.set_ylabel(\"\")\n",
    "#     enrich_10_ax.tick_params(axis=\"x\", labelrotation=22.5)\n",
    "#     labels = [item.get_text() for item in enrich_10_ax.get_xticklabels()]\n",
    "#     labels = [model_name_dict[x.get_text()] for x in enrich_10_ax.get_xticklabels()]\n",
    "#     labels[-1] = combo_model_name\n",
    "#     enrich_10_ax.set_xticklabels(labels)\n",
    "#     enrich_ax[0].set_ylabel(\"EF\")\n",
    "#     enrich_ax[1].set_ylabel(\"EF\")\n",
    "\n",
    "#     plt.tight_layout()\n",
    "    # enrich_10_f.savefig(\"enrich_10.png\", dpi=600, bbox_inches=\"tight\")\n",
    "    # enrich_10_f\n",
    "    \n",
    "#     enrich_f.savefig(\"lit-pcba-enrich-swarm.png\", dpi=600, bbox_inches=\"tight\")\n",
    "\n",
    "#     return enrich_f\n",
    "make_pc_plot(grp_df[grp_df[\"model\"].apply(lambda x: x in  [\"HDC-RF\", \"rf\", \"ecfp\"])])"
   ]
  },
  {
   "cell_type": "markdown",
   "metadata": {},
   "source": [
    "# Speedup"
   ]
  },
  {
   "cell_type": "code",
   "execution_count": 71,
   "metadata": {},
   "outputs": [],
   "source": [
    "def aggregate_time_results(dataset, range_limit=10):\n",
    "    \n",
    "\n",
    "    model_time_dict = {\"model\": [], \"target\": [], \"seed\": [],\"train_time\": [], \"test_time\": [], \"train_size\": [], \"test_size\": []}\n",
    "    \n",
    "    \n",
    "    tokenizer=\"atomwise\"\n",
    "    ngram_order=0\n",
    "    for model, color in tqdm(color_dict.items(), total=len(color_dict), position=0):\n",
    "                        \n",
    "        metric_list = []\n",
    "        test_time_list = []\n",
    "        train_size_list = []\n",
    "        test_size_list = []\n",
    "        target_size_list = []\n",
    "        eta_list = []\n",
    "\n",
    "        \n",
    "        if model not in [\"HDC-MLP\", \"HDC-RF\"]:\n",
    "            data_path_list = list(data_p.glob(f\"{dataset.replace('-','_')}*.{model}*pkl\"))\n",
    "\n",
    "        elif model in [\"HDC-MLP\", \"HDC-RF\"]:\n",
    "            data_path_list = list(data_p.glob(f\"{dataset.replace('-','_')}*.ecfp*pkl\"))\n",
    "    \n",
    "        for path in tqdm(data_path_list, total=len(data_path_list), position=1):\n",
    "\n",
    "            \n",
    "            with open(path, \"rb\") as handle:\n",
    "                model_data_dict = pickle.load(handle)\n",
    "\n",
    "            \n",
    "            target = path.name.split(\".\")[1]\n",
    "            \n",
    "            tqdm.write(f\"{target}, {path}, {model}\")\n",
    "\n",
    "            hd_cache_dir = f\"/p/lustre2/jones289/hd_cache/125/ecfp/{dataset}/random\"\n",
    "\n",
    "            for seed in range(range_limit):\n",
    "                    \n",
    "                model_time_dict[\"model\"].append(model)\n",
    "                model_time_dict[\"target\"].append(target)\n",
    "                model_time_dict[\"seed\"].append(seed)\n",
    "                model_time_dict[\"train_time\"].append(model_data_dict[seed][\"train_time\"])\n",
    "                model_time_dict[\"test_time\"].append(model_data_dict[seed][\"test_time\"])\n",
    "                model_time_dict[\"train_size\"].append(model_data_dict[seed][\"train_size\"])\n",
    "                model_time_dict[\"test_size\"].append(model_data_dict[seed][\"test_size\"])\n",
    "\n",
    "                \n",
    "\n",
    "\n",
    "\n",
    "    return model_time_dict\n",
    "        \n"
   ]
  },
  {
   "cell_type": "code",
   "execution_count": null,
   "metadata": {},
   "outputs": [
    {
     "name": "stderr",
     "output_type": "stream",
     "text": [
      "  0%|          | 0/9 [00:00<?, ?it/s]\n",
      "  0%|          | 0/15 [00:00<?, ?it/s]\u001b[A\n",
      "                                      \n",
      "  0%|          | 0/9 [00:00<?, ?it/s]]\u001b[A"
     ]
    },
    {
     "name": "stdout",
     "output_type": "stream",
     "text": [
      "ESR1_ago, /g/g13/jones289/workspace/hd-cuda-master/hdpy/hdpy/results/125/lit_pcba.ESR1_ago.smiles-pe.atomwise.0.pkl, smiles-pe.atomwise.0\n"
     ]
    },
    {
     "name": "stderr",
     "output_type": "stream",
     "text": [
      "\n",
      "                                      \n",
      "  0%|          | 0/9 [00:12<?, ?it/s]]\u001b[A\n",
      " 13%|█▎        | 2/15 [00:12<01:19,  6.11s/it]\u001b[A"
     ]
    },
    {
     "name": "stdout",
     "output_type": "stream",
     "text": [
      "FEN1, /g/g13/jones289/workspace/hd-cuda-master/hdpy/hdpy/results/125/lit_pcba.FEN1.smiles-pe.atomwise.0.pkl, smiles-pe.atomwise.0\n"
     ]
    },
    {
     "name": "stderr",
     "output_type": "stream",
     "text": [
      "\n",
      "                                              \n",
      "  0%|          | 0/9 [00:12<?, ?it/s]6.11s/it]\u001b[A\n",
      " 20%|██        | 3/15 [00:12<00:45,  3.82s/it]\u001b[A"
     ]
    },
    {
     "name": "stdout",
     "output_type": "stream",
     "text": [
      "ALDH1, /g/g13/jones289/workspace/hd-cuda-master/hdpy/hdpy/results/125/lit_pcba.ALDH1.smiles-pe.atomwise.0.pkl, smiles-pe.atomwise.0\n"
     ]
    },
    {
     "name": "stderr",
     "output_type": "stream",
     "text": [
      "\n",
      "                                              \n",
      "  0%|          | 0/9 [00:24<?, ?it/s]3.82s/it]\u001b[A\n",
      " 27%|██▋       | 4/15 [00:24<01:12,  6.60s/it]\u001b[A\n",
      "                                              \n",
      "  0%|          | 0/9 [00:24<?, ?it/s]6.60s/it]\u001b[A\n",
      " 33%|███▎      | 5/15 [00:24<00:43,  4.35s/it]\u001b[A"
     ]
    },
    {
     "name": "stdout",
     "output_type": "stream",
     "text": [
      "VDR, /g/g13/jones289/workspace/hd-cuda-master/hdpy/hdpy/results/125/lit_pcba.VDR.smiles-pe.atomwise.0.pkl, smiles-pe.atomwise.0\n",
      "PPARG, /g/g13/jones289/workspace/hd-cuda-master/hdpy/hdpy/results/125/lit_pcba.PPARG.smiles-pe.atomwise.0.pkl, smiles-pe.atomwise.0\n"
     ]
    },
    {
     "name": "stderr",
     "output_type": "stream",
     "text": [
      "\n",
      "                                              \n",
      "  0%|          | 0/9 [00:24<?, ?it/s]4.35s/it]\u001b[A\n",
      " 40%|████      | 6/15 [00:24<00:27,  3.00s/it]\u001b[A\n",
      "                                              \n",
      "  0%|          | 0/9 [00:24<?, ?it/s]3.00s/it]\u001b[A"
     ]
    },
    {
     "name": "stdout",
     "output_type": "stream",
     "text": [
      "MAPK1, /g/g13/jones289/workspace/hd-cuda-master/hdpy/hdpy/results/125/lit_pcba.MAPK1.smiles-pe.atomwise.0.pkl, smiles-pe.atomwise.0\n",
      "TP53, /g/g13/jones289/workspace/hd-cuda-master/hdpy/hdpy/results/125/lit_pcba.TP53.smiles-pe.atomwise.0.pkl, smiles-pe.atomwise.0\n"
     ]
    },
    {
     "name": "stderr",
     "output_type": "stream",
     "text": [
      "\n",
      "                                              \n",
      "  0%|          | 0/9 [00:32<?, ?it/s]3.00s/it]\u001b[A\n",
      " 53%|█████▎    | 8/15 [00:32<00:23,  3.38s/it]\u001b[A"
     ]
    },
    {
     "name": "stdout",
     "output_type": "stream",
     "text": [
      "PKM2, /g/g13/jones289/workspace/hd-cuda-master/hdpy/hdpy/results/125/lit_pcba.PKM2.smiles-pe.atomwise.0.pkl, smiles-pe.atomwise.0\n"
     ]
    },
    {
     "name": "stderr",
     "output_type": "stream",
     "text": [
      "\n",
      "                                              \n",
      "  0%|          | 0/9 [00:40<?, ?it/s]3.38s/it]\u001b[A\n",
      " 60%|██████    | 9/15 [00:40<00:27,  4.64s/it]\u001b[A"
     ]
    },
    {
     "name": "stdout",
     "output_type": "stream",
     "text": [
      "OPRK1, /g/g13/jones289/workspace/hd-cuda-master/hdpy/hdpy/results/125/lit_pcba.OPRK1.smiles-pe.atomwise.0.pkl, smiles-pe.atomwise.0\n"
     ]
    },
    {
     "name": "stderr",
     "output_type": "stream",
     "text": [
      "\n",
      "                                              \n",
      "  0%|          | 0/9 [00:50<?, ?it/s]4.64s/it]\u001b[A\n",
      " 67%|██████▋   | 10/15 [00:50<00:31,  6.23s/it]\u001b[A\n",
      "                                               \n",
      "  0%|          | 0/9 [00:51<?, ?it/s] 6.23s/it]\u001b[A\n",
      " 73%|███████▎  | 11/15 [00:51<00:18,  4.53s/it]\u001b[A"
     ]
    },
    {
     "name": "stdout",
     "output_type": "stream",
     "text": [
      "KAT2A, /g/g13/jones289/workspace/hd-cuda-master/hdpy/hdpy/results/125/lit_pcba.KAT2A.smiles-pe.atomwise.0.pkl, smiles-pe.atomwise.0\n",
      "MTORC1, /g/g13/jones289/workspace/hd-cuda-master/hdpy/hdpy/results/125/lit_pcba.MTORC1.smiles-pe.atomwise.0.pkl, smiles-pe.atomwise.0\n"
     ]
    },
    {
     "name": "stderr",
     "output_type": "stream",
     "text": [
      "\n",
      "                                               \n",
      "  0%|          | 0/9 [00:59<?, ?it/s] 4.53s/it]\u001b[A\n",
      " 80%|████████  | 12/15 [00:59<00:17,  5.79s/it]\u001b[A"
     ]
    },
    {
     "name": "stdout",
     "output_type": "stream",
     "text": [
      "GBA, /g/g13/jones289/workspace/hd-cuda-master/hdpy/hdpy/results/125/lit_pcba.GBA.smiles-pe.atomwise.0.pkl, smiles-pe.atomwise.0\n"
     ]
    },
    {
     "name": "stderr",
     "output_type": "stream",
     "text": [
      "\n",
      "                                               \n",
      "  0%|          | 0/9 [01:09<?, ?it/s] 5.79s/it]\u001b[A\n",
      " 87%|████████▋ | 13/15 [01:09<00:13,  6.89s/it]\u001b[A"
     ]
    },
    {
     "name": "stdout",
     "output_type": "stream",
     "text": [
      "ADRB2, /g/g13/jones289/workspace/hd-cuda-master/hdpy/hdpy/results/125/lit_pcba.ADRB2.smiles-pe.atomwise.0.pkl, smiles-pe.atomwise.0\n"
     ]
    },
    {
     "name": "stderr",
     "output_type": "stream",
     "text": [
      "\n",
      "                                               \n",
      "  0%|          | 0/9 [01:20<?, ?it/s] 6.89s/it]\u001b[A\n",
      " 93%|█████████▎| 14/15 [01:20<00:08,  8.13s/it]\u001b[A\n",
      "                                               \n",
      "  0%|          | 0/9 [01:20<?, ?it/s] 8.13s/it]\u001b[A\n",
      "100%|██████████| 15/15 [01:20<00:00,  5.39s/it]\u001b[A\n",
      " 11%|█         | 1/9 [01:20<10:46, 80.81s/it]"
     ]
    },
    {
     "name": "stdout",
     "output_type": "stream",
     "text": [
      "IDH1, /g/g13/jones289/workspace/hd-cuda-master/hdpy/hdpy/results/125/lit_pcba.IDH1.smiles-pe.atomwise.0.pkl, smiles-pe.atomwise.0\n",
      "ESR1_ant, /g/g13/jones289/workspace/hd-cuda-master/hdpy/hdpy/results/125/lit_pcba.ESR1_ant.smiles-pe.atomwise.0.pkl, smiles-pe.atomwise.0\n"
     ]
    },
    {
     "name": "stderr",
     "output_type": "stream",
     "text": [
      "\n",
      "  0%|          | 0/15 [00:00<?, ?it/s]\u001b[A\n",
      "                                             \n",
      " 11%|█         | 1/9 [01:29<10:46, 80.81s/it]\n",
      "  7%|▋         | 1/15 [00:08<01:57,  8.37s/it]\u001b[A"
     ]
    },
    {
     "name": "stdout",
     "output_type": "stream",
     "text": [
      "OPRK1, /g/g13/jones289/workspace/hd-cuda-master/hdpy/hdpy/results/125/lit_pcba.OPRK1.smiles-pe.bpe.0.pkl, smiles-pe.bpe.0\n"
     ]
    },
    {
     "name": "stderr",
     "output_type": "stream",
     "text": [
      "\n",
      "                                              \n",
      " 11%|█         | 1/9 [01:29<10:46, 80.81s/it]]\u001b[A\n",
      " 13%|█▎        | 2/15 [00:08<00:46,  3.59s/it]\u001b[A"
     ]
    },
    {
     "name": "stdout",
     "output_type": "stream",
     "text": [
      "ESR1_ant, /g/g13/jones289/workspace/hd-cuda-master/hdpy/hdpy/results/125/lit_pcba.ESR1_ant.smiles-pe.bpe.0.pkl, smiles-pe.bpe.0\n"
     ]
    },
    {
     "name": "stderr",
     "output_type": "stream",
     "text": [
      "\n",
      "                                              \n",
      " 11%|█         | 1/9 [01:39<10:46, 80.81s/it]]\u001b[A\n",
      " 20%|██        | 3/15 [00:18<01:16,  6.37s/it]\u001b[A"
     ]
    },
    {
     "name": "stdout",
     "output_type": "stream",
     "text": [
      "ADRB2, /g/g13/jones289/workspace/hd-cuda-master/hdpy/hdpy/results/125/lit_pcba.ADRB2.smiles-pe.bpe.0.pkl, smiles-pe.bpe.0\n"
     ]
    },
    {
     "name": "stderr",
     "output_type": "stream",
     "text": [
      "\n",
      "                                              \n",
      " 11%|█         | 1/9 [01:50<10:46, 80.81s/it]]\u001b[A\n",
      " 27%|██▋       | 4/15 [00:29<01:32,  8.37s/it]\u001b[A"
     ]
    },
    {
     "name": "stdout",
     "output_type": "stream",
     "text": [
      "IDH1, /g/g13/jones289/workspace/hd-cuda-master/hdpy/hdpy/results/125/lit_pcba.IDH1.smiles-pe.bpe.0.pkl, smiles-pe.bpe.0\n"
     ]
    },
    {
     "name": "stderr",
     "output_type": "stream",
     "text": [
      "\n",
      "                                              \n",
      " 11%|█         | 1/9 [02:01<10:46, 80.81s/it]]\u001b[A\n",
      " 33%|███▎      | 5/15 [00:40<01:33,  9.34s/it]\u001b[A"
     ]
    },
    {
     "name": "stdout",
     "output_type": "stream",
     "text": [
      "KAT2A, /g/g13/jones289/workspace/hd-cuda-master/hdpy/hdpy/results/125/lit_pcba.KAT2A.smiles-pe.bpe.0.pkl, smiles-pe.bpe.0\n"
     ]
    },
    {
     "name": "stderr",
     "output_type": "stream",
     "text": [
      "\n",
      "                                              \n",
      " 11%|█         | 1/9 [02:01<10:46, 80.81s/it]]\u001b[A\n",
      " 40%|████      | 6/15 [00:41<00:56,  6.25s/it]\u001b[A"
     ]
    },
    {
     "name": "stdout",
     "output_type": "stream",
     "text": [
      "TP53, /g/g13/jones289/workspace/hd-cuda-master/hdpy/hdpy/results/125/lit_pcba.TP53.smiles-pe.bpe.0.pkl, smiles-pe.bpe.0\n"
     ]
    },
    {
     "name": "stderr",
     "output_type": "stream",
     "text": [
      "\n",
      "                                              \n",
      " 11%|█         | 1/9 [02:02<10:46, 80.81s/it]]\u001b[A\n",
      " 47%|████▋     | 7/15 [00:41<00:34,  4.28s/it]\u001b[A"
     ]
    },
    {
     "name": "stdout",
     "output_type": "stream",
     "text": [
      "ESR1_ago, /g/g13/jones289/workspace/hd-cuda-master/hdpy/hdpy/results/125/lit_pcba.ESR1_ago.smiles-pe.bpe.0.pkl, smiles-pe.bpe.0\n"
     ]
    },
    {
     "name": "stderr",
     "output_type": "stream",
     "text": [
      "\n",
      "                                              \n",
      " 11%|█         | 1/9 [02:02<10:46, 80.81s/it]]\u001b[A\n",
      " 53%|█████▎    | 8/15 [00:42<00:22,  3.20s/it]\u001b[A"
     ]
    },
    {
     "name": "stdout",
     "output_type": "stream",
     "text": [
      "ALDH1, /g/g13/jones289/workspace/hd-cuda-master/hdpy/hdpy/results/125/lit_pcba.ALDH1.smiles-pe.bpe.0.pkl, smiles-pe.bpe.0\n"
     ]
    },
    {
     "name": "stderr",
     "output_type": "stream",
     "text": [
      "\n",
      "                                              \n",
      " 11%|█         | 1/9 [02:12<10:46, 80.81s/it]]\u001b[A\n",
      " 60%|██████    | 9/15 [00:51<00:30,  5.11s/it]\u001b[A"
     ]
    },
    {
     "name": "stdout",
     "output_type": "stream",
     "text": [
      "GBA, /g/g13/jones289/workspace/hd-cuda-master/hdpy/hdpy/results/125/lit_pcba.GBA.smiles-pe.bpe.0.pkl, smiles-pe.bpe.0\n"
     ]
    },
    {
     "name": "stderr",
     "output_type": "stream",
     "text": [
      "\n",
      "                                              \n",
      " 11%|█         | 1/9 [02:12<10:46, 80.81s/it]]\u001b[A\n",
      " 67%|██████▋   | 10/15 [00:51<00:18,  3.63s/it]\u001b[A"
     ]
    },
    {
     "name": "stdout",
     "output_type": "stream",
     "text": [
      "MTORC1, /g/g13/jones289/workspace/hd-cuda-master/hdpy/hdpy/results/125/lit_pcba.MTORC1.smiles-pe.bpe.0.pkl, smiles-pe.bpe.0\n"
     ]
    },
    {
     "name": "stderr",
     "output_type": "stream",
     "text": [
      "\n",
      "                                               \n",
      " 11%|█         | 1/9 [02:13<10:46, 80.81s/it]t]\u001b[A\n",
      " 73%|███████▎  | 11/15 [00:52<00:10,  2.68s/it]\u001b[A"
     ]
    },
    {
     "name": "stdout",
     "output_type": "stream",
     "text": [
      "MAPK1, /g/g13/jones289/workspace/hd-cuda-master/hdpy/hdpy/results/125/lit_pcba.MAPK1.smiles-pe.bpe.0.pkl, smiles-pe.bpe.0\n"
     ]
    },
    {
     "name": "stderr",
     "output_type": "stream",
     "text": [
      "\n",
      "                                               \n",
      " 11%|█         | 1/9 [02:24<10:46, 80.81s/it]t]\u001b[A\n",
      " 80%|████████  | 12/15 [01:03<00:16,  5.34s/it]\u001b[A"
     ]
    },
    {
     "name": "stdout",
     "output_type": "stream",
     "text": [
      "VDR, /g/g13/jones289/workspace/hd-cuda-master/hdpy/hdpy/results/125/lit_pcba.VDR.smiles-pe.bpe.0.pkl, smiles-pe.bpe.0\n"
     ]
    },
    {
     "name": "stderr",
     "output_type": "stream",
     "text": [
      "\n",
      "                                               \n",
      " 11%|█         | 1/9 [02:32<10:46, 80.81s/it]t]\u001b[A\n",
      " 87%|████████▋ | 13/15 [01:12<00:12,  6.26s/it]\u001b[A"
     ]
    },
    {
     "name": "stdout",
     "output_type": "stream",
     "text": [
      "PKM2, /g/g13/jones289/workspace/hd-cuda-master/hdpy/hdpy/results/125/lit_pcba.PKM2.smiles-pe.bpe.0.pkl, smiles-pe.bpe.0\n"
     ]
    },
    {
     "name": "stderr",
     "output_type": "stream",
     "text": [
      "\n",
      "                                               \n",
      " 11%|█         | 1/9 [02:33<10:46, 80.81s/it]t]\u001b[A\n",
      " 93%|█████████▎| 14/15 [01:12<00:04,  4.44s/it]\u001b[A"
     ]
    },
    {
     "name": "stdout",
     "output_type": "stream",
     "text": [
      "PPARG, /g/g13/jones289/workspace/hd-cuda-master/hdpy/hdpy/results/125/lit_pcba.PPARG.smiles-pe.bpe.0.pkl, smiles-pe.bpe.0\n"
     ]
    },
    {
     "name": "stderr",
     "output_type": "stream",
     "text": [
      "\n",
      "                                               \n",
      " 11%|█         | 1/9 [02:44<10:46, 80.81s/it]t]\u001b[A\n",
      "100%|██████████| 15/15 [01:23<00:00,  5.59s/it]\u001b[A\n",
      " 22%|██▏       | 2/9 [02:44<09:38, 82.59s/it]"
     ]
    },
    {
     "name": "stdout",
     "output_type": "stream",
     "text": [
      "FEN1, /g/g13/jones289/workspace/hd-cuda-master/hdpy/hdpy/results/125/lit_pcba.FEN1.smiles-pe.bpe.0.pkl, smiles-pe.bpe.0\n"
     ]
    },
    {
     "name": "stderr",
     "output_type": "stream",
     "text": [
      "\n",
      "  0%|          | 0/15 [00:00<?, ?it/s]\u001b[A\n",
      "                                             \n",
      " 22%|██▏       | 2/9 [02:45<09:38, 82.59s/it]\n",
      "  7%|▋         | 1/15 [00:00<00:07,  1.82it/s]\u001b[A\n",
      "                                              \n",
      " 22%|██▏       | 2/9 [02:45<09:38, 82.59s/it]]\u001b[A"
     ]
    },
    {
     "name": "stdout",
     "output_type": "stream",
     "text": [
      "ALDH1, /g/g13/jones289/workspace/hd-cuda-master/hdpy/hdpy/results/125/lit_pcba.ALDH1.selfies.atomwise.0.pkl, selfies.atomwise\n",
      "TP53, /g/g13/jones289/workspace/hd-cuda-master/hdpy/hdpy/results/125/lit_pcba.TP53.selfies.atomwise.0.pkl, selfies.atomwise\n"
     ]
    },
    {
     "name": "stderr",
     "output_type": "stream",
     "text": [
      "\n",
      "                                              \n",
      " 22%|██▏       | 2/9 [02:53<09:38, 82.59s/it]]\u001b[A\n",
      " 20%|██        | 3/15 [00:09<00:39,  3.29s/it]\u001b[A"
     ]
    },
    {
     "name": "stdout",
     "output_type": "stream",
     "text": [
      "OPRK1, /g/g13/jones289/workspace/hd-cuda-master/hdpy/hdpy/results/125/lit_pcba.OPRK1.selfies.atomwise.0.pkl, selfies.atomwise\n"
     ]
    },
    {
     "name": "stderr",
     "output_type": "stream",
     "text": [
      "\n",
      "                                              \n",
      " 22%|██▏       | 2/9 [03:05<09:38, 82.59s/it]]\u001b[A\n",
      " 27%|██▋       | 4/15 [00:20<01:07,  6.15s/it]\u001b[A"
     ]
    },
    {
     "name": "stdout",
     "output_type": "stream",
     "text": [
      "IDH1, /g/g13/jones289/workspace/hd-cuda-master/hdpy/hdpy/results/125/lit_pcba.IDH1.selfies.atomwise.0.pkl, selfies.atomwise\n"
     ]
    },
    {
     "name": "stderr",
     "output_type": "stream",
     "text": [
      "\n",
      "                                              \n",
      " 22%|██▏       | 2/9 [03:14<09:38, 82.59s/it]]\u001b[A\n",
      " 33%|███▎      | 5/15 [00:29<01:12,  7.21s/it]\u001b[A"
     ]
    },
    {
     "name": "stdout",
     "output_type": "stream",
     "text": [
      "GBA, /g/g13/jones289/workspace/hd-cuda-master/hdpy/hdpy/results/125/lit_pcba.GBA.selfies.atomwise.0.pkl, selfies.atomwise\n"
     ]
    },
    {
     "name": "stderr",
     "output_type": "stream",
     "text": [
      "\n",
      "                                              \n",
      " 22%|██▏       | 2/9 [03:14<09:38, 82.59s/it]]\u001b[A\n",
      " 40%|████      | 6/15 [00:30<00:44,  4.98s/it]\u001b[A"
     ]
    },
    {
     "name": "stdout",
     "output_type": "stream",
     "text": [
      "MAPK1, /g/g13/jones289/workspace/hd-cuda-master/hdpy/hdpy/results/125/lit_pcba.MAPK1.selfies.atomwise.0.pkl, selfies.atomwise\n"
     ]
    },
    {
     "name": "stderr",
     "output_type": "stream",
     "text": [
      "\n",
      "                                              \n",
      " 22%|██▏       | 2/9 [03:25<09:38, 82.59s/it]]\u001b[A\n",
      " 47%|████▋     | 7/15 [00:41<00:54,  6.83s/it]\u001b[A"
     ]
    },
    {
     "name": "stdout",
     "output_type": "stream",
     "text": [
      "KAT2A, /g/g13/jones289/workspace/hd-cuda-master/hdpy/hdpy/results/125/lit_pcba.KAT2A.selfies.atomwise.0.pkl, selfies.atomwise\n"
     ]
    },
    {
     "name": "stderr",
     "output_type": "stream",
     "text": [
      "\n",
      "                                              \n",
      " 22%|██▏       | 2/9 [03:35<09:38, 82.59s/it]]\u001b[A\n",
      " 53%|█████▎    | 8/15 [00:50<00:54,  7.74s/it]\u001b[A"
     ]
    },
    {
     "name": "stdout",
     "output_type": "stream",
     "text": [
      "ADRB2, /g/g13/jones289/workspace/hd-cuda-master/hdpy/hdpy/results/125/lit_pcba.ADRB2.selfies.atomwise.0.pkl, selfies.atomwise\n"
     ]
    },
    {
     "name": "stderr",
     "output_type": "stream",
     "text": [
      "\n",
      "                                              \n",
      " 22%|██▏       | 2/9 [03:46<09:38, 82.59s/it]]\u001b[A\n",
      " 60%|██████    | 9/15 [01:01<00:52,  8.77s/it]\u001b[A\n",
      "                                              \n",
      " 22%|██▏       | 2/9 [03:46<09:38, 82.59s/it]]\u001b[A\n",
      " 67%|██████▋   | 10/15 [01:02<00:30,  6.15s/it]\u001b[A"
     ]
    },
    {
     "name": "stdout",
     "output_type": "stream",
     "text": [
      "VDR, /g/g13/jones289/workspace/hd-cuda-master/hdpy/hdpy/results/125/lit_pcba.VDR.selfies.atomwise.0.pkl, selfies.atomwise\n",
      "MTORC1, /g/g13/jones289/workspace/hd-cuda-master/hdpy/hdpy/results/125/lit_pcba.MTORC1.selfies.atomwise.0.pkl, selfies.atomwise\n"
     ]
    },
    {
     "name": "stderr",
     "output_type": "stream",
     "text": [
      "\n",
      "                                               \n",
      " 22%|██▏       | 2/9 [03:54<09:38, 82.59s/it]t]\u001b[A\n",
      " 73%|███████▎  | 11/15 [01:09<00:26,  6.61s/it]\u001b[A\n",
      "                                               \n",
      " 22%|██▏       | 2/9 [03:54<09:38, 82.59s/it]t]\u001b[A\n",
      " 80%|████████  | 12/15 [01:09<00:13,  4.65s/it]\u001b[A"
     ]
    },
    {
     "name": "stdout",
     "output_type": "stream",
     "text": [
      "PKM2, /g/g13/jones289/workspace/hd-cuda-master/hdpy/hdpy/results/125/lit_pcba.PKM2.selfies.atomwise.0.pkl, selfies.atomwise\n",
      "ESR1_ago, /g/g13/jones289/workspace/hd-cuda-master/hdpy/hdpy/results/125/lit_pcba.ESR1_ago.selfies.atomwise.0.pkl, selfies.atomwise\n"
     ]
    },
    {
     "name": "stderr",
     "output_type": "stream",
     "text": [
      "\n",
      "                                               \n",
      " 22%|██▏       | 2/9 [03:54<09:38, 82.59s/it]t]\u001b[A\n",
      "                                               \n",
      " 22%|██▏       | 2/9 [03:54<09:38, 82.59s/it]t]\u001b[A\n",
      " 93%|█████████▎| 14/15 [01:10<00:02,  2.53s/it]\u001b[A"
     ]
    },
    {
     "name": "stdout",
     "output_type": "stream",
     "text": [
      "PPARG, /g/g13/jones289/workspace/hd-cuda-master/hdpy/hdpy/results/125/lit_pcba.PPARG.selfies.atomwise.0.pkl, selfies.atomwise\n",
      "ESR1_ant, /g/g13/jones289/workspace/hd-cuda-master/hdpy/hdpy/results/125/lit_pcba.ESR1_ant.selfies.atomwise.0.pkl, selfies.atomwise\n"
     ]
    },
    {
     "name": "stderr",
     "output_type": "stream",
     "text": [
      "\n",
      "                                               \n",
      " 22%|██▏       | 2/9 [04:06<09:38, 82.59s/it]t]\u001b[A\n",
      "100%|██████████| 15/15 [01:21<00:00,  5.43s/it]\u001b[A\n",
      " 33%|███▎      | 3/9 [04:06<08:12, 82.10s/it]"
     ]
    },
    {
     "name": "stdout",
     "output_type": "stream",
     "text": [
      "FEN1, /g/g13/jones289/workspace/hd-cuda-master/hdpy/hdpy/results/125/lit_pcba.FEN1.selfies.atomwise.0.pkl, selfies.atomwise\n"
     ]
    },
    {
     "name": "stderr",
     "output_type": "stream",
     "text": [
      "\n",
      "  0%|          | 0/15 [00:00<?, ?it/s]\u001b[A\n",
      "                                             \n",
      " 33%|███▎      | 3/9 [04:06<08:12, 82.10s/it]\n",
      "  7%|▋         | 1/15 [00:00<00:08,  1.63it/s]\u001b[A"
     ]
    },
    {
     "name": "stdout",
     "output_type": "stream",
     "text": [
      "ALDH1, /g/g13/jones289/workspace/hd-cuda-master/hdpy/hdpy/results/125/lit_pcba.ALDH1.ecfp.atomwise.0.pkl, ecfp\n"
     ]
    },
    {
     "name": "stderr",
     "output_type": "stream",
     "text": [
      "\n",
      "                                              \n",
      " 33%|███▎      | 3/9 [04:16<08:12, 82.10s/it]]\u001b[A\n",
      " 13%|█▎        | 2/15 [00:10<01:16,  5.90s/it]\u001b[A"
     ]
    },
    {
     "name": "stdout",
     "output_type": "stream",
     "text": [
      "GBA, /g/g13/jones289/workspace/hd-cuda-master/hdpy/hdpy/results/125/lit_pcba.GBA.ecfp.atomwise.0.pkl, ecfp\n"
     ]
    },
    {
     "name": "stderr",
     "output_type": "stream",
     "text": [
      "\n",
      "                                              \n",
      " 33%|███▎      | 3/9 [04:16<08:12, 82.10s/it]]\u001b[A\n",
      " 20%|██        | 3/15 [00:10<00:39,  3.30s/it]\u001b[A"
     ]
    },
    {
     "name": "stdout",
     "output_type": "stream",
     "text": [
      "ESR1_ago, /g/g13/jones289/workspace/hd-cuda-master/hdpy/hdpy/results/125/lit_pcba.ESR1_ago.ecfp.atomwise.0.pkl, ecfp\n"
     ]
    },
    {
     "name": "stderr",
     "output_type": "stream",
     "text": [
      "\n",
      "                                              \n",
      " 33%|███▎      | 3/9 [04:27<08:12, 82.10s/it]]\u001b[A\n",
      " 27%|██▋       | 4/15 [00:21<01:11,  6.49s/it]\u001b[A"
     ]
    },
    {
     "name": "stdout",
     "output_type": "stream",
     "text": [
      "VDR, /g/g13/jones289/workspace/hd-cuda-master/hdpy/hdpy/results/125/lit_pcba.VDR.ecfp.atomwise.0.pkl, ecfp\n"
     ]
    },
    {
     "name": "stderr",
     "output_type": "stream",
     "text": [
      "\n",
      "                                              \n",
      " 33%|███▎      | 3/9 [06:35<08:12, 82.10s/it]]\u001b[A\n",
      " 33%|███▎      | 5/15 [02:29<08:21, 50.16s/it]\u001b[A"
     ]
    },
    {
     "name": "stdout",
     "output_type": "stream",
     "text": [
      "PKM2, /g/g13/jones289/workspace/hd-cuda-master/hdpy/hdpy/results/125/lit_pcba.PKM2.ecfp.atomwise.0.pkl, ecfp\n"
     ]
    },
    {
     "name": "stderr",
     "output_type": "stream",
     "text": [
      "\n",
      "                                              \n",
      " 33%|███▎      | 3/9 [06:35<08:12, 82.10s/it]]\u001b[A\n",
      " 40%|████      | 6/15 [02:29<04:59, 33.23s/it]\u001b[A"
     ]
    },
    {
     "name": "stdout",
     "output_type": "stream",
     "text": [
      "MAPK1, /g/g13/jones289/workspace/hd-cuda-master/hdpy/hdpy/results/125/lit_pcba.MAPK1.ecfp.atomwise.0.pkl, ecfp\n"
     ]
    },
    {
     "name": "stderr",
     "output_type": "stream",
     "text": [
      "\n",
      "                                              \n",
      " 33%|███▎      | 3/9 [10:56<08:12, 82.10s/it]]\u001b[A\n",
      " 47%|████▋     | 7/15 [06:50<14:20, 107.56s/it]\u001b[A\n",
      "                                               \n",
      " 33%|███▎      | 3/9 [10:56<08:12, 82.10s/it]t]\u001b[A\n",
      " 53%|█████▎    | 8/15 [06:50<08:33, 73.38s/it] \u001b[A"
     ]
    },
    {
     "name": "stdout",
     "output_type": "stream",
     "text": [
      "FEN1, /g/g13/jones289/workspace/hd-cuda-master/hdpy/hdpy/results/125/lit_pcba.FEN1.ecfp.atomwise.0.pkl, ecfp\n",
      "PPARG, /g/g13/jones289/workspace/hd-cuda-master/hdpy/hdpy/results/125/lit_pcba.PPARG.ecfp.atomwise.0.pkl, ecfp\n"
     ]
    },
    {
     "name": "stderr",
     "output_type": "stream",
     "text": [
      "\n",
      "                                              \n",
      " 33%|███▎      | 3/9 [10:56<08:12, 82.10s/it]]\u001b[A\n",
      " 60%|██████    | 9/15 [06:50<05:03, 50.51s/it]\u001b[A\n",
      "                                              \n",
      " 33%|███▎      | 3/9 [10:57<08:12, 82.10s/it]]\u001b[A\n",
      " 67%|██████▋   | 10/15 [06:50<02:54, 34.96s/it]\u001b[A"
     ]
    },
    {
     "name": "stdout",
     "output_type": "stream",
     "text": [
      "MTORC1, /g/g13/jones289/workspace/hd-cuda-master/hdpy/hdpy/results/125/lit_pcba.MTORC1.ecfp.atomwise.0.pkl, ecfp\n",
      "ESR1_ant, /g/g13/jones289/workspace/hd-cuda-master/hdpy/hdpy/results/125/lit_pcba.ESR1_ant.ecfp.atomwise.0.pkl, ecfp\n"
     ]
    },
    {
     "name": "stderr",
     "output_type": "stream",
     "text": [
      "\n",
      "                                               \n",
      " 33%|███▎      | 3/9 [13:10<08:12, 82.10s/it]t]\u001b[A\n",
      " 73%|███████▎  | 11/15 [09:03<04:19, 64.98s/it]\u001b[A"
     ]
    },
    {
     "name": "stdout",
     "output_type": "stream",
     "text": [
      "OPRK1, /g/g13/jones289/workspace/hd-cuda-master/hdpy/hdpy/results/125/lit_pcba.OPRK1.ecfp.atomwise.0.pkl, ecfp\n"
     ]
    },
    {
     "name": "stderr",
     "output_type": "stream",
     "text": [
      "\n",
      "                                               \n",
      " 33%|███▎      | 3/9 [15:48<08:12, 82.10s/it]t]\u001b[A\n",
      " 80%|████████  | 12/15 [11:42<04:40, 93.54s/it]\u001b[A"
     ]
    },
    {
     "name": "stdout",
     "output_type": "stream",
     "text": [
      "KAT2A, /g/g13/jones289/workspace/hd-cuda-master/hdpy/hdpy/results/125/lit_pcba.KAT2A.ecfp.atomwise.0.pkl, ecfp\n"
     ]
    },
    {
     "name": "stderr",
     "output_type": "stream",
     "text": [
      "\n",
      "                                               \n",
      " 33%|███▎      | 3/9 [18:43<08:12, 82.10s/it]t]\u001b[A\n",
      " 87%|████████▋ | 13/15 [14:37<03:55, 117.97s/it]\u001b[A"
     ]
    },
    {
     "name": "stdout",
     "output_type": "stream",
     "text": [
      "IDH1, /g/g13/jones289/workspace/hd-cuda-master/hdpy/hdpy/results/125/lit_pcba.IDH1.ecfp.atomwise.0.pkl, ecfp\n"
     ]
    },
    {
     "name": "stderr",
     "output_type": "stream",
     "text": [
      "\n",
      "                                                \n",
      " 33%|███▎      | 3/9 [18:43<08:12, 82.10s/it]it]\u001b[A\n",
      " 93%|█████████▎| 14/15 [14:37<01:22, 82.41s/it] \u001b[A"
     ]
    },
    {
     "name": "stdout",
     "output_type": "stream",
     "text": [
      "TP53, /g/g13/jones289/workspace/hd-cuda-master/hdpy/hdpy/results/125/lit_pcba.TP53.ecfp.atomwise.0.pkl, ecfp\n"
     ]
    },
    {
     "name": "stderr",
     "output_type": "stream",
     "text": [
      "\n",
      "                                               \n",
      " 33%|███▎      | 3/9 [22:12<08:12, 82.10s/it]t]\u001b[A\n",
      "100%|██████████| 15/15 [18:05<00:00, 72.39s/it] \u001b[A\n",
      " 44%|████▍     | 4/9 [22:12<39:52, 478.40s/it]"
     ]
    },
    {
     "name": "stdout",
     "output_type": "stream",
     "text": [
      "ADRB2, /g/g13/jones289/workspace/hd-cuda-master/hdpy/hdpy/results/125/lit_pcba.ADRB2.ecfp.atomwise.0.pkl, ecfp\n"
     ]
    },
    {
     "name": "stderr",
     "output_type": "stream",
     "text": [
      "\n",
      "0it [00:00, ?it/s]\u001b[A\n",
      "\n",
      "  0%|          | 0/15 [00:00<?, ?it/s]\u001b[A\n",
      "                                              \n",
      " 44%|████▍     | 4/9 [26:12<39:52, 478.40s/it]\n",
      "  7%|▋         | 1/15 [04:00<56:10, 240.79s/it]\u001b[A"
     ]
    },
    {
     "name": "stdout",
     "output_type": "stream",
     "text": [
      "FEN1, /g/g13/jones289/workspace/hd-cuda-master/hdpy/hdpy/results/125/lit_pcba.FEN1.rf.None.0.pkl, rf\n"
     ]
    },
    {
     "name": "stderr",
     "output_type": "stream",
     "text": [
      "\n",
      "                                               \n",
      " 44%|████▍     | 4/9 [26:53<39:52, 478.40s/it]]\u001b[A\n",
      " 13%|█▎        | 2/15 [04:41<26:40, 123.14s/it]\u001b[A\n",
      "                                               \n",
      " 44%|████▍     | 4/9 [26:53<39:52, 478.40s/it]]\u001b[A\n",
      " 20%|██        | 3/15 [04:41<13:23, 66.98s/it] \u001b[A"
     ]
    },
    {
     "name": "stdout",
     "output_type": "stream",
     "text": [
      "IDH1, /g/g13/jones289/workspace/hd-cuda-master/hdpy/hdpy/results/125/lit_pcba.IDH1.rf.None.0.pkl, rf\n",
      "ESR1_ago, /g/g13/jones289/workspace/hd-cuda-master/hdpy/hdpy/results/125/lit_pcba.ESR1_ago.rf.None.0.pkl, rf\n"
     ]
    },
    {
     "name": "stderr",
     "output_type": "stream",
     "text": [
      "\n",
      "                                              \n",
      " 44%|████▍     | 4/9 [26:54<39:52, 478.40s/it]\u001b[A\n",
      " 27%|██▋       | 4/15 [04:42<07:30, 40.99s/it]\u001b[A"
     ]
    },
    {
     "name": "stdout",
     "output_type": "stream",
     "text": [
      "ALDH1, /g/g13/jones289/workspace/hd-cuda-master/hdpy/hdpy/results/125/lit_pcba.ALDH1.rf.None.0.pkl, rf\n"
     ]
    },
    {
     "name": "stderr",
     "output_type": "stream",
     "text": [
      "\n",
      "                                              \n",
      " 44%|████▍     | 4/9 [30:27<39:52, 478.40s/it]\u001b[A\n",
      " 33%|███▎      | 5/15 [08:15<17:09, 102.99s/it]\u001b[A"
     ]
    },
    {
     "name": "stdout",
     "output_type": "stream",
     "text": [
      "VDR, /g/g13/jones289/workspace/hd-cuda-master/hdpy/hdpy/results/125/lit_pcba.VDR.rf.None.0.pkl, rf\n"
     ]
    },
    {
     "name": "stderr",
     "output_type": "stream",
     "text": [
      "\n",
      "                                               \n",
      " 44%|████▍     | 4/9 [34:09<39:52, 478.40s/it]]\u001b[A\n",
      " 40%|████      | 6/15 [11:57<21:28, 143.20s/it]\u001b[A\n",
      "                                               \n",
      " 44%|████▍     | 4/9 [34:09<39:52, 478.40s/it]]\u001b[A\n",
      " 47%|████▋     | 7/15 [11:57<12:51, 96.44s/it] \u001b[A"
     ]
    },
    {
     "name": "stdout",
     "output_type": "stream",
     "text": [
      "ADRB2, /g/g13/jones289/workspace/hd-cuda-master/hdpy/hdpy/results/125/lit_pcba.ADRB2.rf.None.0.pkl, rf\n",
      "ESR1_ant, /g/g13/jones289/workspace/hd-cuda-master/hdpy/hdpy/results/125/lit_pcba.ESR1_ant.rf.None.0.pkl, rf\n"
     ]
    },
    {
     "name": "stderr",
     "output_type": "stream",
     "text": [
      "\n",
      "                                              \n",
      " 44%|████▍     | 4/9 [34:09<39:52, 478.40s/it]\u001b[A\n",
      " 53%|█████▎    | 8/15 [11:57<07:40, 65.78s/it]\u001b[A"
     ]
    },
    {
     "name": "stdout",
     "output_type": "stream",
     "text": [
      "PPARG, /g/g13/jones289/workspace/hd-cuda-master/hdpy/hdpy/results/125/lit_pcba.PPARG.rf.None.0.pkl, rf\n"
     ]
    },
    {
     "name": "stderr",
     "output_type": "stream",
     "text": [
      "\n",
      "                                              \n",
      " 44%|████▍     | 4/9 [36:42<39:52, 478.40s/it]\u001b[A\n",
      " 60%|██████    | 9/15 [14:30<09:19, 93.19s/it]\u001b[A"
     ]
    },
    {
     "name": "stdout",
     "output_type": "stream",
     "text": [
      "PKM2, /g/g13/jones289/workspace/hd-cuda-master/hdpy/hdpy/results/125/lit_pcba.PKM2.rf.None.0.pkl, rf\n"
     ]
    },
    {
     "name": "stderr",
     "output_type": "stream",
     "text": [
      "\n",
      "                                              \n",
      " 44%|████▍     | 4/9 [36:43<39:52, 478.40s/it]\u001b[A\n",
      " 67%|██████▋   | 10/15 [14:31<05:22, 64.55s/it]\u001b[A"
     ]
    },
    {
     "name": "stdout",
     "output_type": "stream",
     "text": [
      "MAPK1, /g/g13/jones289/workspace/hd-cuda-master/hdpy/hdpy/results/125/lit_pcba.MAPK1.rf.None.0.pkl, rf\n"
     ]
    },
    {
     "name": "stderr",
     "output_type": "stream",
     "text": [
      "\n",
      "                                               \n",
      " 44%|████▍     | 4/9 [39:32<39:52, 478.40s/it]]\u001b[A\n",
      " 73%|███████▎  | 11/15 [17:20<06:26, 96.70s/it]\u001b[A"
     ]
    },
    {
     "name": "stdout",
     "output_type": "stream",
     "text": [
      "OPRK1, /g/g13/jones289/workspace/hd-cuda-master/hdpy/hdpy/results/125/lit_pcba.OPRK1.rf.None.0.pkl, rf\n"
     ]
    },
    {
     "name": "stderr",
     "output_type": "stream",
     "text": [
      "\n",
      "                                               \n",
      " 44%|████▍     | 4/9 [39:45<39:52, 478.40s/it]]\u001b[A\n",
      " 80%|████████  | 12/15 [17:33<03:33, 71.10s/it]\u001b[A"
     ]
    },
    {
     "name": "stdout",
     "output_type": "stream",
     "text": [
      "KAT2A, /g/g13/jones289/workspace/hd-cuda-master/hdpy/hdpy/results/125/lit_pcba.KAT2A.rf.None.0.pkl, rf\n"
     ]
    },
    {
     "name": "stderr",
     "output_type": "stream",
     "text": [
      "\n",
      "                                               \n",
      " 44%|████▍     | 4/9 [39:45<39:52, 478.40s/it]]\u001b[A\n",
      " 87%|████████▋ | 13/15 [17:33<01:39, 49.63s/it]\u001b[A"
     ]
    },
    {
     "name": "stdout",
     "output_type": "stream",
     "text": [
      "MTORC1, /g/g13/jones289/workspace/hd-cuda-master/hdpy/hdpy/results/125/lit_pcba.MTORC1.rf.None.0.pkl, rf\n"
     ]
    },
    {
     "name": "stderr",
     "output_type": "stream",
     "text": [
      "\n",
      "                                               \n",
      " 44%|████▍     | 4/9 [39:46<39:52, 478.40s/it]]\u001b[A\n",
      " 93%|█████████▎| 14/15 [17:34<00:34, 34.98s/it]\u001b[A\n",
      "                                               \n",
      " 44%|████▍     | 4/9 [39:46<39:52, 478.40s/it]]\u001b[A\n",
      "100%|██████████| 15/15 [17:34<00:00, 70.32s/it]\u001b[A\n",
      " 67%|██████▋   | 6/9 [39:46<25:13, 504.40s/it]"
     ]
    },
    {
     "name": "stdout",
     "output_type": "stream",
     "text": [
      "GBA, /g/g13/jones289/workspace/hd-cuda-master/hdpy/hdpy/results/125/lit_pcba.GBA.rf.None.0.pkl, rf\n",
      "TP53, /g/g13/jones289/workspace/hd-cuda-master/hdpy/hdpy/results/125/lit_pcba.TP53.rf.None.0.pkl, rf\n"
     ]
    },
    {
     "name": "stderr",
     "output_type": "stream",
     "text": [
      "\n",
      "  0%|          | 0/15 [00:00<?, ?it/s]\u001b[A\n",
      "                                              \n",
      " 67%|██████▋   | 6/9 [42:46<25:13, 504.40s/it]\n",
      "  7%|▋         | 1/15 [02:59<41:46, 179.06s/it]\u001b[A"
     ]
    },
    {
     "name": "stdout",
     "output_type": "stream",
     "text": [
      "FEN1, /g/g13/jones289/workspace/hd-cuda-master/hdpy/hdpy/results/125/lit_pcba.FEN1.mlp.None.0.pkl, mlp\n"
     ]
    },
    {
     "name": "stderr",
     "output_type": "stream",
     "text": [
      "\n",
      "                                               \n",
      " 67%|██████▋   | 6/9 [45:26<25:13, 504.40s/it]]\u001b[A\n",
      " 13%|█▎        | 2/15 [05:39<36:28, 168.35s/it]\u001b[A"
     ]
    },
    {
     "name": "stdout",
     "output_type": "stream",
     "text": [
      "PKM2, /g/g13/jones289/workspace/hd-cuda-master/hdpy/hdpy/results/125/lit_pcba.PKM2.mlp.None.0.pkl, mlp\n"
     ]
    },
    {
     "name": "stderr",
     "output_type": "stream",
     "text": [
      "\n",
      "                                               \n",
      " 67%|██████▋   | 6/9 [45:27<25:13, 504.40s/it]]\u001b[A\n",
      " 20%|██        | 3/15 [05:40<18:22, 91.89s/it] \u001b[A"
     ]
    },
    {
     "name": "stdout",
     "output_type": "stream",
     "text": [
      "ALDH1, /g/g13/jones289/workspace/hd-cuda-master/hdpy/hdpy/results/125/lit_pcba.ALDH1.mlp.None.0.pkl, mlp\n"
     ]
    },
    {
     "name": "stderr",
     "output_type": "stream",
     "text": [
      "\n",
      "                                              \n",
      " 67%|██████▋   | 6/9 [48:38<25:13, 504.40s/it]\u001b[A\n",
      " 27%|██▋       | 4/15 [08:51<23:58, 130.79s/it]\u001b[A"
     ]
    },
    {
     "name": "stdout",
     "output_type": "stream",
     "text": [
      "VDR, /g/g13/jones289/workspace/hd-cuda-master/hdpy/hdpy/results/125/lit_pcba.VDR.mlp.None.0.pkl, mlp\n"
     ]
    },
    {
     "name": "stderr",
     "output_type": "stream",
     "text": [
      "\n",
      "                                               \n",
      " 67%|██████▋   | 6/9 [48:38<25:13, 504.40s/it]]\u001b[A\n",
      " 33%|███▎      | 5/15 [08:51<13:57, 83.76s/it] \u001b[A"
     ]
    },
    {
     "name": "stdout",
     "output_type": "stream",
     "text": [
      "ESR1_ant, /g/g13/jones289/workspace/hd-cuda-master/hdpy/hdpy/results/125/lit_pcba.ESR1_ant.mlp.None.0.pkl, mlp\n"
     ]
    },
    {
     "name": "stderr",
     "output_type": "stream",
     "text": [
      "\n",
      "                                              \n",
      " 67%|██████▋   | 6/9 [48:39<25:13, 504.40s/it]\u001b[A\n",
      " 40%|████      | 6/15 [08:52<08:19, 55.51s/it]\u001b[A"
     ]
    },
    {
     "name": "stdout",
     "output_type": "stream",
     "text": [
      "MTORC1, /g/g13/jones289/workspace/hd-cuda-master/hdpy/hdpy/results/125/lit_pcba.MTORC1.mlp.None.0.pkl, mlp\n"
     ]
    },
    {
     "name": "stderr",
     "output_type": "stream",
     "text": [
      "\n",
      "                                              \n",
      " 67%|██████▋   | 6/9 [51:53<25:13, 504.40s/it]\u001b[A\n",
      " 47%|████▋     | 7/15 [12:06<13:25, 100.75s/it]\u001b[A"
     ]
    },
    {
     "name": "stdout",
     "output_type": "stream",
     "text": [
      "IDH1, /g/g13/jones289/workspace/hd-cuda-master/hdpy/hdpy/results/125/lit_pcba.IDH1.mlp.None.0.pkl, mlp\n"
     ]
    },
    {
     "name": "stderr",
     "output_type": "stream",
     "text": [
      "\n",
      "                                               \n",
      " 67%|██████▋   | 6/9 [51:53<25:13, 504.40s/it]]\u001b[A\n",
      " 53%|█████▎    | 8/15 [12:06<08:02, 68.90s/it] \u001b[A"
     ]
    },
    {
     "name": "stdout",
     "output_type": "stream",
     "text": [
      "TP53, /g/g13/jones289/workspace/hd-cuda-master/hdpy/hdpy/results/125/lit_pcba.TP53.mlp.None.0.pkl, mlp\n"
     ]
    },
    {
     "name": "stderr",
     "output_type": "stream",
     "text": [
      "\n",
      "                                              \n",
      " 67%|██████▋   | 6/9 [54:48<25:13, 504.40s/it]\u001b[A\n",
      " 60%|██████    | 9/15 [15:01<10:12, 102.07s/it]\u001b[A"
     ]
    },
    {
     "name": "stdout",
     "output_type": "stream",
     "text": [
      "ADRB2, /g/g13/jones289/workspace/hd-cuda-master/hdpy/hdpy/results/125/lit_pcba.ADRB2.mlp.None.0.pkl, mlp\n"
     ]
    },
    {
     "name": "stderr",
     "output_type": "stream",
     "text": [
      "\n",
      "                                               \n",
      " 67%|██████▋   | 6/9 [54:49<25:13, 504.40s/it]]\u001b[A\n",
      " 67%|██████▋   | 10/15 [15:02<05:53, 70.70s/it]\u001b[A"
     ]
    },
    {
     "name": "stdout",
     "output_type": "stream",
     "text": [
      "PPARG, /g/g13/jones289/workspace/hd-cuda-master/hdpy/hdpy/results/125/lit_pcba.PPARG.mlp.None.0.pkl, mlp\n"
     ]
    },
    {
     "name": "stderr",
     "output_type": "stream",
     "text": [
      "\n",
      "                                               \n",
      " 67%|██████▋   | 6/9 [54:49<25:13, 504.40s/it]]\u001b[A\n",
      " 73%|███████▎  | 11/15 [15:03<03:17, 49.27s/it]\u001b[A"
     ]
    },
    {
     "name": "stdout",
     "output_type": "stream",
     "text": [
      "MAPK1, /g/g13/jones289/workspace/hd-cuda-master/hdpy/hdpy/results/125/lit_pcba.MAPK1.mlp.None.0.pkl, mlp\n"
     ]
    },
    {
     "name": "stderr",
     "output_type": "stream",
     "text": [
      "\n",
      "                                               \n",
      " 67%|██████▋   | 6/9 [55:08<25:13, 504.40s/it]]\u001b[A\n",
      " 80%|████████  | 12/15 [15:21<01:59, 39.92s/it]\u001b[A"
     ]
    },
    {
     "name": "stdout",
     "output_type": "stream",
     "text": [
      "OPRK1, /g/g13/jones289/workspace/hd-cuda-master/hdpy/hdpy/results/125/lit_pcba.OPRK1.mlp.None.0.pkl, mlp\n"
     ]
    },
    {
     "name": "stderr",
     "output_type": "stream",
     "text": [
      "\n",
      "                                               \n",
      " 67%|██████▋   | 6/9 [55:08<25:13, 504.40s/it]]\u001b[A\n",
      " 87%|████████▋ | 13/15 [15:21<00:55, 27.93s/it]\u001b[A"
     ]
    },
    {
     "name": "stdout",
     "output_type": "stream",
     "text": [
      "ESR1_ago, /g/g13/jones289/workspace/hd-cuda-master/hdpy/hdpy/results/125/lit_pcba.ESR1_ago.mlp.None.0.pkl, mlp\n"
     ]
    },
    {
     "name": "stderr",
     "output_type": "stream",
     "text": [
      "\n",
      "                                               \n",
      " 67%|██████▋   | 6/9 [55:10<25:13, 504.40s/it]]\u001b[A\n",
      " 93%|█████████▎| 14/15 [15:23<00:19, 19.87s/it]\u001b[A"
     ]
    },
    {
     "name": "stdout",
     "output_type": "stream",
     "text": [
      "GBA, /g/g13/jones289/workspace/hd-cuda-master/hdpy/hdpy/results/125/lit_pcba.GBA.mlp.None.0.pkl, mlp\n"
     ]
    },
    {
     "name": "stderr",
     "output_type": "stream",
     "text": [
      "\n",
      "                                               \n",
      " 67%|██████▋   | 6/9 [55:53<25:13, 504.40s/it]]\u001b[A\n",
      "100%|██████████| 15/15 [16:06<00:00, 64.45s/it]\u001b[A\n",
      " 78%|███████▊  | 7/9 [55:53<21:02, 631.36s/it]"
     ]
    },
    {
     "name": "stdout",
     "output_type": "stream",
     "text": [
      "KAT2A, /g/g13/jones289/workspace/hd-cuda-master/hdpy/hdpy/results/125/lit_pcba.KAT2A.mlp.None.0.pkl, mlp\n"
     ]
    },
    {
     "name": "stderr",
     "output_type": "stream",
     "text": [
      "\n",
      "  0%|          | 0/15 [00:00<?, ?it/s]\u001b[A\n",
      "                                              \n",
      " 78%|███████▊  | 7/9 [55:54<21:02, 631.36s/it]\n",
      "  7%|▋         | 1/15 [00:00<00:09,  1.44it/s]\u001b[A"
     ]
    },
    {
     "name": "stdout",
     "output_type": "stream",
     "text": [
      "ALDH1, /g/g13/jones289/workspace/hd-cuda-master/hdpy/hdpy/results/125/lit_pcba.ALDH1.ecfp.atomwise.0.pkl, HDC-RF\n"
     ]
    },
    {
     "name": "stderr",
     "output_type": "stream",
     "text": [
      "\n",
      "                                              \n",
      " 78%|███████▊  | 7/9 [56:40<21:02, 631.36s/it]\u001b[A\n",
      " 13%|█▎        | 2/15 [00:47<05:57, 27.52s/it]\u001b[A\n",
      "                                              \n",
      " 78%|███████▊  | 7/9 [56:40<21:02, 631.36s/it]\u001b[A\n",
      " 20%|██        | 3/15 [00:47<03:00, 15.03s/it]\u001b[A"
     ]
    },
    {
     "name": "stdout",
     "output_type": "stream",
     "text": [
      "GBA, /g/g13/jones289/workspace/hd-cuda-master/hdpy/hdpy/results/125/lit_pcba.GBA.ecfp.atomwise.0.pkl, HDC-RF\n",
      "ESR1_ago, /g/g13/jones289/workspace/hd-cuda-master/hdpy/hdpy/results/125/lit_pcba.ESR1_ago.ecfp.atomwise.0.pkl, HDC-RF\n"
     ]
    }
   ],
   "source": [
    "time_dict = aggregate_time_results(dataset=\"lit-pcba\", range_limit=10)\n",
    "time_df = pd.DataFrame(time_dict)"
   ]
  },
  {
   "cell_type": "code",
   "execution_count": null,
   "metadata": {},
   "outputs": [],
   "source": [
    "time_df[\"test_latency\"] = time_df.apply(lambda x: x[\"test_time\"]/x[\"test_size\"], axis=1)"
   ]
  },
  {
   "cell_type": "markdown",
   "metadata": {},
   "source": [
    "## averaging over seeds"
   ]
  },
  {
   "cell_type": "code",
   "execution_count": null,
   "metadata": {},
   "outputs": [],
   "source": [
    "time_df.groupby([\"model\", \"target\"])[\"test_latency\"].mean().reset_index()"
   ]
  },
  {
   "cell_type": "markdown",
   "metadata": {},
   "source": [
    "## averaging over both seeds and target dimensions"
   ]
  },
  {
   "cell_type": "code",
   "execution_count": null,
   "metadata": {},
   "outputs": [],
   "source": [
    "time_df.groupby([\"model\", \"target\"])[\"test_latency\"].mean().reset_index().groupby(\"model\")[\"test_latency\"].median().reset_index()"
   ]
  },
  {
   "cell_type": "code",
   "execution_count": null,
   "metadata": {},
   "outputs": [],
   "source": [
    "sns.boxplot(x=\"model\", y=\"test_latency\", data=time_df.groupby([\"model\", \"target\"])[\"test_latency\"].mean().reset_index())"
   ]
  },
  {
   "cell_type": "code",
   "execution_count": null,
   "metadata": {},
   "outputs": [],
   "source": []
  },
  {
   "cell_type": "code",
   "execution_count": null,
   "metadata": {},
   "outputs": [],
   "source": []
  }
 ],
 "metadata": {
  "kernelspec": {
   "display_name": "HD_env",
   "language": "python",
   "name": "hd_env"
  },
  "language_info": {
   "codemirror_mode": {
    "name": "ipython",
    "version": 3
   },
   "file_extension": ".py",
   "mimetype": "text/x-python",
   "name": "python",
   "nbconvert_exporter": "python",
   "pygments_lexer": "ipython3",
   "version": "3.8.12"
  }
 },
 "nbformat": 4,
 "nbformat_minor": 4
}
