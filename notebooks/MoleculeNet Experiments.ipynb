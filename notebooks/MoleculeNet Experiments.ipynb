{
 "cells": [
  {
   "cell_type": "markdown",
   "metadata": {},
   "source": [
    "These are moleculeNet benchmarks meant to sanity check our approaches"
   ]
  },
  {
   "cell_type": "code",
   "execution_count": 28,
   "metadata": {},
   "outputs": [
    {
     "data": {
      "text/html": [
       "<svg  width=\"715\" height=\"55\"><rect x=\"0\" y=\"0\" width=\"55\" height=\"55\" style=\"fill:#0173b2;stroke-width:2;stroke:rgb(255,255,255)\"/><rect x=\"55\" y=\"0\" width=\"55\" height=\"55\" style=\"fill:#de8f05;stroke-width:2;stroke:rgb(255,255,255)\"/><rect x=\"110\" y=\"0\" width=\"55\" height=\"55\" style=\"fill:#029e73;stroke-width:2;stroke:rgb(255,255,255)\"/><rect x=\"165\" y=\"0\" width=\"55\" height=\"55\" style=\"fill:#d55e00;stroke-width:2;stroke:rgb(255,255,255)\"/><rect x=\"220\" y=\"0\" width=\"55\" height=\"55\" style=\"fill:#cc78bc;stroke-width:2;stroke:rgb(255,255,255)\"/><rect x=\"275\" y=\"0\" width=\"55\" height=\"55\" style=\"fill:#ca9161;stroke-width:2;stroke:rgb(255,255,255)\"/><rect x=\"330\" y=\"0\" width=\"55\" height=\"55\" style=\"fill:#fbafe4;stroke-width:2;stroke:rgb(255,255,255)\"/><rect x=\"385\" y=\"0\" width=\"55\" height=\"55\" style=\"fill:#949494;stroke-width:2;stroke:rgb(255,255,255)\"/><rect x=\"440\" y=\"0\" width=\"55\" height=\"55\" style=\"fill:#ece133;stroke-width:2;stroke:rgb(255,255,255)\"/><rect x=\"495\" y=\"0\" width=\"55\" height=\"55\" style=\"fill:#56b4e9;stroke-width:2;stroke:rgb(255,255,255)\"/><rect x=\"550\" y=\"0\" width=\"55\" height=\"55\" style=\"fill:#0173b2;stroke-width:2;stroke:rgb(255,255,255)\"/><rect x=\"605\" y=\"0\" width=\"55\" height=\"55\" style=\"fill:#de8f05;stroke-width:2;stroke:rgb(255,255,255)\"/><rect x=\"660\" y=\"0\" width=\"55\" height=\"55\" style=\"fill:#029e73;stroke-width:2;stroke:rgb(255,255,255)\"/></svg>"
      ],
      "text/plain": [
       "[(0.00392156862745098, 0.45098039215686275, 0.6980392156862745),\n",
       " (0.8705882352941177, 0.5607843137254902, 0.0196078431372549),\n",
       " (0.00784313725490196, 0.6196078431372549, 0.45098039215686275),\n",
       " (0.8352941176470589, 0.3686274509803922, 0.0),\n",
       " (0.8, 0.47058823529411764, 0.7372549019607844),\n",
       " (0.792156862745098, 0.5686274509803921, 0.3803921568627451),\n",
       " (0.984313725490196, 0.6862745098039216, 0.8941176470588236),\n",
       " (0.5803921568627451, 0.5803921568627451, 0.5803921568627451),\n",
       " (0.9254901960784314, 0.8823529411764706, 0.2),\n",
       " (0.33725490196078434, 0.7058823529411765, 0.9137254901960784),\n",
       " (0.00392156862745098, 0.45098039215686275, 0.6980392156862745),\n",
       " (0.8705882352941177, 0.5607843137254902, 0.0196078431372549),\n",
       " (0.00784313725490196, 0.6196078431372549, 0.45098039215686275)]"
      ]
     },
     "execution_count": 28,
     "metadata": {},
     "output_type": "execute_result"
    }
   ],
   "source": [
    "import matplotlib.pyplot as plt\n",
    "import pickle\n",
    "import seaborn as sns\n",
    "from sklearn.metrics import confusion_matrix, ConfusionMatrixDisplay\n",
    "from pathlib import Path\n",
    "import pandas as pd\n",
    "import numpy as np\n",
    "import io\n",
    "from tqdm import tqdm\n",
    "\n",
    "plt.rc('text', usetex=True)\n",
    "plt.rc('font', family='serif')\n",
    "plt.rc('xtick', labelsize=15)\n",
    "plt.rc('ytick', labelsize=15)\n",
    "plt.rc('axes', labelsize=15, titlesize=20)\n",
    "plt.rc('figure', titlesize=20)\n",
    "\n",
    "n_seed = 10\n",
    "data_p = Path(f\"/g/g13/jones289/workspace/hd-cuda-master/hdpy/hdpy/results/4\")\n",
    "# data_p = Path(\"/usr/WS1/jones289/hd-cuda-master/hdpy/hdpy/before_rng_results/before_rng_results\")\n",
    "\n",
    "\n",
    "green_color_pal = sns.color_palette(\"Greens\", 10)\n",
    "blue_color_pal = sns.color_palette(\"Blues\", 10)\n",
    "rocket_color_pal = sns.color_palette(\"rocket\", 10)\n",
    "\n",
    "n_colors=13\n",
    "color_pal_list = [sns.color_palette(x[0], x[1]) for x in [(\"Spectral\", n_colors),\n",
    "                    (\"brg\", n_colors),\n",
    "                 (\"cool\", n_colors),\n",
    "                 (\"gist_rainbow\", n_colors),\n",
    "                 (\"hsv\", n_colors),\n",
    "                (\"colorblind\", n_colors)]]\n",
    "\n",
    "color_pal = color_pal_list[5]\n",
    "color_pal"
   ]
  },
  {
   "cell_type": "code",
   "execution_count": 29,
   "metadata": {},
   "outputs": [],
   "source": [
    "color_dict = {\n",
    "    \"smiles-pe.atomwise.0\": rocket_color_pal[2],\n",
    "    \"smiles-pe.bpe.0\": rocket_color_pal[4],   \n",
    "#     \"smiles-pe.ngram.1\": color_pal[0],\n",
    "#     \"selfies.None\": \"purple\",\n",
    "\"selfies.atomwise\": green_color_pal[4],\n",
    "#     \"selfies.selfies-charwise\": color_pal[2],\n",
    "    \"ecfp\": green_color_pal[6],\n",
    "    \"rp\": green_color_pal[8],\n",
    "    \"rf\": blue_color_pal[4],\n",
    "#     \"openhd\": \"green\",\n",
    "    \"mlp\": blue_color_pal[7],\n",
    "#     \"Vina\": color_pal[2]\n",
    "}\n",
    "\n",
    "\n",
    "\n",
    "marker_dict = {\n",
    "#     \"smiles-pe\": \"+\",\n",
    "    \"smiles-pe.atomwise.0\": \"+\",\n",
    "    \"smiles-pe.bpe.0\": \"+\",   \n",
    "#     \"smiles-pe.ngram.1\": \"+\",\n",
    "    \"selfies.atomwise\": \"*\",\n",
    "#     \"selfies.selfies-charwise\": \"*\",\n",
    "    \"ecfp\": \"+\",\n",
    "    \"rp\": \"+\",\n",
    "    \"rf\": \"^\",\n",
    "#     \"openhd\": \"*\",\n",
    "    \"mlp\": \"+\",\n",
    "#     \"Vina\": \"+\"\n",
    "}\n",
    "\n",
    "\n",
    "model_order_list = [\n",
    "    (\"smiles-pe.atomwise.0\", \"MoleHD-Atomw.\"),\n",
    "    (\"smiles-pe.bpe.0\", \"MoleHD-BPE\"),\n",
    "#     (\"smiles-pe.ngram.1\", \"SMILES uni-gram\"),\n",
    "    (\"selfies.atomwise\", \"HDBind-SELFIES\"),\n",
    "#     (\"selfies.selfies-charwise\", \"SELFIES uni-gram\"),\n",
    "    (\"ecfp\", \"HDBind-ECFP\"),\n",
    "    (\"rp\", \"HDBind-RPFP\"),\n",
    "    (\"rf\", \"RF\"),\n",
    "    (\"mlp\", \"MLP\"),\n",
    "    (\"Vina\", \"Vina\")\n",
    "]\n",
    "\n",
    "\n",
    "model_name_dict = {\n",
    "    \"smiles-pe.atomwise.0\": \"MoleHD-Atomw.\", \n",
    "    \"smiles-pe.bpe.0\": \"MoleHD-BPE\",\n",
    "#     \"smiles-pe.ngram.1\": \"SMILES uni-gram\",\n",
    "    \"selfies.atomwise\": \"HDBind-SELFIES\",\n",
    "#     \"selfies.selfies-charwise\": \"SELFIES uni-gram\",\n",
    "    \"ecfp\": \"HDBind-ECFP\",\n",
    "    \"rp\": \"HDBind-RPFP\",\n",
    "    \"rf\": \"RF\",\n",
    "    \"mlp\": \"MLP\",\n",
    "    \"Vina\": \"Vina\"\n",
    "}\n",
    "\n",
    "\n",
    "linestyle_dict = {\n",
    "    \"smiles-pe.atomwise.0\": \"-\", \n",
    "    \"smiles-pe.bpe.0\": \":\",\n",
    "    \"selfies.atomwise\": \"-\",\n",
    "    \"ecfp\": \":\",\n",
    "    \"rp\": \"-.\",\n",
    "    \"rf\": \"-\",\n",
    "    \"mlp\": \":\",\n",
    "    \"Vina\": \"-\"\n",
    "}\n",
    "\n",
    "\n",
    "\n",
    "\n",
    "\n",
    "def plot_confusion_matrix(y_pred, y_true, ax):\n",
    "\n",
    "    cm = confusion_matrix(y_true=y_true, y_pred=y_pred, labels=[0,1], normalize=\"true\")\n",
    "    disp = ConfusionMatrixDisplay(confusion_matrix=cm,\n",
    "                              display_labels=[0,1])\n",
    "    disp.plot(cmap=\"Purples\", ax=ax)\n",
    "    \n",
    "    \n",
    "    \n",
    "from sklearn.metrics import RocCurveDisplay, roc_curve, auc\n",
    "\n",
    "    \n",
    "def plot_dist_plot(y_score, y_true, ax):\n",
    "    \n",
    "    neg_dist = y_score[y_true == 0]\n",
    "    pos_dist = y_score[y_true == 1]\n",
    "    \n",
    "    \n",
    "    sns.distplot(neg_dist, color=\"blue\", ax=ax)\n",
    "    sns.distplot(pos_dist, color=\"red\", ax=ax)\n",
    "    "
   ]
  },
  {
   "cell_type": "code",
   "execution_count": 30,
   "metadata": {},
   "outputs": [],
   "source": [
    "import torch \n",
    "\n",
    "\n",
    "def compute_average_roc_from_pkl(path):\n",
    "    \n",
    "#     fpr_list = []\n",
    "#     tpr_list = []\n",
    "    \n",
    "    roc_list = []\n",
    "    \n",
    "    \n",
    "    \n",
    "#         data = pickle.load(path)  # In my case this call is buried deeper in torch-agnostic code\n",
    "    with open(path, \"rb\") as handle:\n",
    "        print(path)\n",
    "#         data = pickle.load(handle)\n",
    "        data = pickle.load(handle)\n",
    "\n",
    "\n",
    "#         print(f\"loading file {path}, with {len(data)-1} seeds to read\")\n",
    "\n",
    "#         '''\n",
    "        for seed in range(n_seed):\n",
    "        \n",
    "            y_pred = data[seed]['y_pred']\n",
    "            y_true = data[seed]['y_true']\n",
    "            y_score = data[seed]['eta']\n",
    "\n",
    "            score = None\n",
    "\n",
    "            if y_score.squeeze().ndim < 2:\n",
    "                score = y_score\n",
    "            else:\n",
    "                score = y_score[:, 1]\n",
    "\n",
    "            fpr, tpr, thresholds = roc_curve(y_score=score, y_true=y_true)\n",
    "            roc_auc = auc(fpr, tpr)\n",
    "\n",
    "            roc_list.append(roc_auc)\n",
    "\n",
    "        return np.mean(roc_list), np.std(roc_list)\n",
    "#         '''"
   ]
  },
  {
   "cell_type": "code",
   "execution_count": 31,
   "metadata": {},
   "outputs": [],
   "source": [
    "def bbbp_main():\n",
    "    \n",
    "    roc_f, roc_ax = plt.subplots(1,2, figsize=(16,6), sharex=True, sharey=True)\n",
    "\n",
    "\n",
    "    for split_type, ax in [(\"random\", roc_ax[0]), (\"scaffold\", roc_ax[1])]:\n",
    "        model_dict = {\"model\": [], \"roc-auc-mean\": [], \"roc-auc-std\": []}\n",
    "\n",
    "        for model, color in color_dict.items():\n",
    "\n",
    "#             tqdm.write(f\"{model}, {split_type}\")\n",
    "\n",
    "            data_path_list = list(data_p.glob(f\"bbbp.{split_type}.{model}*pkl\"))\n",
    "        \n",
    "            ax.set_title(split_type.capitalize())\n",
    "\n",
    "\n",
    "            for path in tqdm(data_path_list, total=len(data_path_list)):\n",
    "\n",
    "                name = str(path.name).split('.')[-2]     \n",
    "                roc_auc_mean, roc_auc_std = compute_average_roc_from_pkl(path)\n",
    "\n",
    "                model_dict[\"model\"].append(model)\n",
    "                model_dict[\"roc-auc-mean\"].append(roc_auc_mean)\n",
    "                model_dict[\"roc-auc-std\"].append(roc_auc_std)\n",
    "\n",
    "            df = pd.DataFrame(model_dict)\n",
    "\n",
    "        \n",
    "            df[\"model_name\"] = df[\"model\"].apply(lambda x: model_name_dict[x])\n",
    "            df[\"color\"] = df[\"model\"].apply(lambda x: color_dict[x])\n",
    "\n",
    "            bars = ax.bar(data=df, x=\"model\", height=\"roc-auc-mean\", yerr=\"roc-auc-std\", color=[color_dict[x] for x in df['model'].values],\n",
    "                         hatch=\"/\")\n",
    "            ax.tick_params(axis=\"x\", labelrotation=25)\n",
    "            ax.set_xticklabels([model_name_dict[x] for x in df['model'].values])\n",
    "\n",
    "\n",
    "    roc_ax[0].set_title(\"Random\", fontdict={\"fontsize\": 20})\n",
    "    roc_ax[1].set_title(\"Scaffold\", fontdict={\"fontsize\": 20})\n",
    "    \n",
    "    roc_ax[0].set_ylabel(\"ROC-AUC\")\n",
    "\n",
    "    plt.tight_layout()\n",
    "    plt.savefig(f\"bbbp_roc.png\", dpi=600, bbox_inches=\"tight\")\n"
   ]
  },
  {
   "cell_type": "code",
   "execution_count": 32,
   "metadata": {
    "scrolled": false
   },
   "outputs": [
    {
     "name": "stderr",
     "output_type": "stream",
     "text": [
      "100%|██████████| 1/1 [00:00<00:00, 18.75it/s]\n",
      "/tmp/ipykernel_2299244/2283127535.py:36: UserWarning: FixedFormatter should only be used together with FixedLocator\n",
      "  ax.set_xticklabels([model_name_dict[x] for x in df['model'].values])\n"
     ]
    },
    {
     "name": "stdout",
     "output_type": "stream",
     "text": [
      "/g/g13/jones289/workspace/hd-cuda-master/hdpy/hdpy/results/4/bbbp.random.smiles-pe.atomwise.0.pkl\n"
     ]
    },
    {
     "name": "stderr",
     "output_type": "stream",
     "text": [
      "100%|██████████| 1/1 [00:00<00:00, 33.72it/s]\n",
      "/tmp/ipykernel_2299244/2283127535.py:36: UserWarning: FixedFormatter should only be used together with FixedLocator\n",
      "  ax.set_xticklabels([model_name_dict[x] for x in df['model'].values])\n"
     ]
    },
    {
     "name": "stdout",
     "output_type": "stream",
     "text": [
      "/g/g13/jones289/workspace/hd-cuda-master/hdpy/hdpy/results/4/bbbp.random.smiles-pe.bpe.0.pkl\n"
     ]
    },
    {
     "name": "stderr",
     "output_type": "stream",
     "text": [
      "100%|██████████| 1/1 [00:00<00:00, 31.80it/s]\n",
      "/tmp/ipykernel_2299244/2283127535.py:36: UserWarning: FixedFormatter should only be used together with FixedLocator\n",
      "  ax.set_xticklabels([model_name_dict[x] for x in df['model'].values])\n"
     ]
    },
    {
     "name": "stdout",
     "output_type": "stream",
     "text": [
      "/g/g13/jones289/workspace/hd-cuda-master/hdpy/hdpy/results/4/bbbp.random.selfies.atomwise.0.pkl\n"
     ]
    },
    {
     "name": "stderr",
     "output_type": "stream",
     "text": [
      "100%|██████████| 1/1 [00:00<00:00, 34.04it/s]\n",
      "/tmp/ipykernel_2299244/2283127535.py:36: UserWarning: FixedFormatter should only be used together with FixedLocator\n",
      "  ax.set_xticklabels([model_name_dict[x] for x in df['model'].values])\n"
     ]
    },
    {
     "name": "stdout",
     "output_type": "stream",
     "text": [
      "/g/g13/jones289/workspace/hd-cuda-master/hdpy/hdpy/results/4/bbbp.random.ecfp.atomwise.0.pkl\n"
     ]
    },
    {
     "name": "stderr",
     "output_type": "stream",
     "text": [
      "\r",
      "  0%|          | 0/1 [00:00<?, ?it/s]"
     ]
    },
    {
     "name": "stdout",
     "output_type": "stream",
     "text": [
      "/g/g13/jones289/workspace/hd-cuda-master/hdpy/hdpy/results/4/bbbp.random.rp.atomwise.0.pkl\n"
     ]
    },
    {
     "name": "stderr",
     "output_type": "stream",
     "text": [
      "100%|██████████| 1/1 [00:00<00:00, 34.60it/s]\n",
      "/tmp/ipykernel_2299244/2283127535.py:36: UserWarning: FixedFormatter should only be used together with FixedLocator\n",
      "  ax.set_xticklabels([model_name_dict[x] for x in df['model'].values])\n",
      "100%|██████████| 1/1 [00:00<00:00, 77.57it/s]\n",
      "/tmp/ipykernel_2299244/2283127535.py:36: UserWarning: FixedFormatter should only be used together with FixedLocator\n",
      "  ax.set_xticklabels([model_name_dict[x] for x in df['model'].values])\n"
     ]
    },
    {
     "name": "stdout",
     "output_type": "stream",
     "text": [
      "/g/g13/jones289/workspace/hd-cuda-master/hdpy/hdpy/results/4/bbbp.random.rf.None.0.pkl\n"
     ]
    },
    {
     "name": "stderr",
     "output_type": "stream",
     "text": [
      "\r",
      "  0%|          | 0/1 [00:00<?, ?it/s]"
     ]
    },
    {
     "name": "stdout",
     "output_type": "stream",
     "text": [
      "/g/g13/jones289/workspace/hd-cuda-master/hdpy/hdpy/results/4/bbbp.random.mlp.None.0.pkl\n"
     ]
    },
    {
     "name": "stderr",
     "output_type": "stream",
     "text": [
      "100%|██████████| 1/1 [00:00<00:00, 28.47it/s]\n",
      "/tmp/ipykernel_2299244/2283127535.py:36: UserWarning: FixedFormatter should only be used together with FixedLocator\n",
      "  ax.set_xticklabels([model_name_dict[x] for x in df['model'].values])\n",
      "100%|██████████| 1/1 [00:00<00:00, 35.02it/s]\n",
      "/tmp/ipykernel_2299244/2283127535.py:36: UserWarning: FixedFormatter should only be used together with FixedLocator\n",
      "  ax.set_xticklabels([model_name_dict[x] for x in df['model'].values])\n"
     ]
    },
    {
     "name": "stdout",
     "output_type": "stream",
     "text": [
      "/g/g13/jones289/workspace/hd-cuda-master/hdpy/hdpy/results/4/bbbp.scaffold.smiles-pe.atomwise.0.pkl\n"
     ]
    },
    {
     "name": "stderr",
     "output_type": "stream",
     "text": [
      "\r",
      "  0%|          | 0/1 [00:00<?, ?it/s]"
     ]
    },
    {
     "name": "stdout",
     "output_type": "stream",
     "text": [
      "/g/g13/jones289/workspace/hd-cuda-master/hdpy/hdpy/results/4/bbbp.scaffold.smiles-pe.bpe.0.pkl\n"
     ]
    },
    {
     "name": "stderr",
     "output_type": "stream",
     "text": [
      "100%|██████████| 1/1 [00:00<00:00, 25.12it/s]\n",
      "/tmp/ipykernel_2299244/2283127535.py:36: UserWarning: FixedFormatter should only be used together with FixedLocator\n",
      "  ax.set_xticklabels([model_name_dict[x] for x in df['model'].values])\n",
      "100%|██████████| 1/1 [00:00<00:00, 33.23it/s]"
     ]
    },
    {
     "name": "stdout",
     "output_type": "stream",
     "text": [
      "/g/g13/jones289/workspace/hd-cuda-master/hdpy/hdpy/results/4/bbbp.scaffold.selfies.atomwise.0.pkl\n"
     ]
    },
    {
     "name": "stderr",
     "output_type": "stream",
     "text": [
      "\n",
      "/tmp/ipykernel_2299244/2283127535.py:36: UserWarning: FixedFormatter should only be used together with FixedLocator\n",
      "  ax.set_xticklabels([model_name_dict[x] for x in df['model'].values])\n",
      "  0%|          | 0/1 [00:00<?, ?it/s]"
     ]
    },
    {
     "name": "stdout",
     "output_type": "stream",
     "text": [
      "/g/g13/jones289/workspace/hd-cuda-master/hdpy/hdpy/results/4/bbbp.scaffold.ecfp.atomwise.0.pkl\n"
     ]
    },
    {
     "name": "stderr",
     "output_type": "stream",
     "text": [
      "100%|██████████| 1/1 [00:00<00:00, 28.13it/s]\n",
      "/tmp/ipykernel_2299244/2283127535.py:36: UserWarning: FixedFormatter should only be used together with FixedLocator\n",
      "  ax.set_xticklabels([model_name_dict[x] for x in df['model'].values])\n",
      "  0%|          | 0/1 [00:00<?, ?it/s]"
     ]
    },
    {
     "name": "stdout",
     "output_type": "stream",
     "text": [
      "/g/g13/jones289/workspace/hd-cuda-master/hdpy/hdpy/results/4/bbbp.scaffold.rp.atomwise.0.pkl\n"
     ]
    },
    {
     "name": "stderr",
     "output_type": "stream",
     "text": [
      "100%|██████████| 1/1 [00:00<00:00, 31.05it/s]\n",
      "/tmp/ipykernel_2299244/2283127535.py:36: UserWarning: FixedFormatter should only be used together with FixedLocator\n",
      "  ax.set_xticklabels([model_name_dict[x] for x in df['model'].values])\n",
      "100%|██████████| 1/1 [00:00<00:00, 80.39it/s]\n"
     ]
    },
    {
     "name": "stdout",
     "output_type": "stream",
     "text": [
      "/g/g13/jones289/workspace/hd-cuda-master/hdpy/hdpy/results/4/bbbp.scaffold.rf.None.0.pkl\n"
     ]
    },
    {
     "name": "stderr",
     "output_type": "stream",
     "text": [
      "/tmp/ipykernel_2299244/2283127535.py:36: UserWarning: FixedFormatter should only be used together with FixedLocator\n",
      "  ax.set_xticklabels([model_name_dict[x] for x in df['model'].values])\n",
      "100%|██████████| 1/1 [00:00<00:00, 27.99it/s]\n"
     ]
    },
    {
     "name": "stdout",
     "output_type": "stream",
     "text": [
      "/g/g13/jones289/workspace/hd-cuda-master/hdpy/hdpy/results/4/bbbp.scaffold.mlp.None.0.pkl\n"
     ]
    },
    {
     "name": "stderr",
     "output_type": "stream",
     "text": [
      "/tmp/ipykernel_2299244/2283127535.py:36: UserWarning: FixedFormatter should only be used together with FixedLocator\n",
      "  ax.set_xticklabels([model_name_dict[x] for x in df['model'].values])\n"
     ]
    },
    {
     "data": {
      "image/png": "[encoded data removed]",
      "text/plain": [
       "<Figure size 1152x432 with 2 Axes>"
      ]
     },
     "metadata": {
      "needs_background": "light"
     },
     "output_type": "display_data"
    }
   ],
   "source": [
    "bbbp_main()"
   ]
  },
  {
   "cell_type": "code",
   "execution_count": 33,
   "metadata": {},
   "outputs": [],
   "source": [
    "def sider_main():\n",
    "    \n",
    "    sider_f, sider_ax = plt.subplots(1,2, figsize=(16,6), sharex=True, sharey=True)\n",
    "    sider_ax = sider_ax.flatten()\n",
    "    \n",
    "    \n",
    "    model_dict = {\"model\": [], \"task\": [], \"roc-auc-mean\": [], \"roc-auc-std\": []}\n",
    "\n",
    "    for split_type, ax in [(\"random\", sider_ax[0]), (\"scaffold\", sider_ax[1])]:\n",
    "        ax.set_title(split_type.capitalize())\n",
    "\n",
    "        for model, color in color_dict.items():\n",
    "            \n",
    "            data_path_list = list(data_p.glob(f\"sider.*.{split_type}.{model}*pkl\"))\n",
    "\n",
    "            print(f\"{model}-{split_type}-{len(data_path_list)}\")\n",
    "            for path in tqdm(data_path_list, total=len(data_path_list)):\n",
    "                                \n",
    "                try:\n",
    "                \n",
    "                        name = str(path.name).split('.')[-2]\n",
    "                \n",
    "                        task = int(str(path.name).split('.')[1].split('_')[-1])\n",
    "            \n",
    "                        roc_auc_mean, roc_auc_std = compute_average_roc_from_pkl(path)\n",
    "\n",
    "                        model_dict[\"model\"].append(model)\n",
    "                        model_dict[\"task\"].append(task)\n",
    "                        model_dict[\"roc-auc-mean\"].append(roc_auc_mean)\n",
    "                        model_dict[\"roc-auc-std\"].append(roc_auc_std)\n",
    "                \n",
    "                except Exception as e:\n",
    "                    print(e)\n",
    "                    continue\n",
    "\n",
    "\n",
    "        df = pd.DataFrame(model_dict)\n",
    "        print(df.shape)\n",
    "\n",
    "        g = sns.boxplot(data=df, x=\"model\", y=\"roc-auc-mean\", ax=ax, palette=color_dict)\n",
    "\n",
    "    for ax in sider_ax:\n",
    "        ax.tick_params(axis=\"x\", labelrotation=25)\n",
    "        labels = [x for x in ax.get_xticklabels()]\n",
    "        labels = [model_name_dict[x.get_text()] for x in labels]\n",
    "        ax.set_xticklabels(labels)\n",
    "        ax.set_ylabel(\"\")\n",
    "        ax.set_xlabel(\"\")\n",
    "    \n",
    "    sider_ax[0].set_title(\"Random\", fontdict={\"fontsize\": 20})\n",
    "    sider_ax[1].set_title(\"Scaffold\", fontdict={\"fontsize\": 20})\n",
    "    \n",
    "    sider_ax[0].set_ylabel(\"ROC-AUC\")\n",
    "        \n",
    "    plt.tight_layout()\n",
    "    sider_f.savefig(f\"sider_roc.png\", dpi=600, bbox_inches=\"tight\")\n"
   ]
  },
  {
   "cell_type": "code",
   "execution_count": 34,
   "metadata": {
    "scrolled": false
   },
   "outputs": [
    {
     "name": "stdout",
     "output_type": "stream",
     "text": [
      "smiles-pe.atomwise.0-random-27\n"
     ]
    },
    {
     "name": "stderr",
     "output_type": "stream",
     "text": [
      " 11%|█         | 3/27 [00:00<00:00, 25.59it/s]"
     ]
    },
    {
     "name": "stdout",
     "output_type": "stream",
     "text": [
      "/g/g13/jones289/workspace/hd-cuda-master/hdpy/hdpy/results/4/sider.task_13.random.smiles-pe.atomwise.0.pkl\n",
      "/g/g13/jones289/workspace/hd-cuda-master/hdpy/hdpy/results/4/sider.task_9.random.smiles-pe.atomwise.0.pkl\n",
      "/g/g13/jones289/workspace/hd-cuda-master/hdpy/hdpy/results/4/sider.task_8.random.smiles-pe.atomwise.0.pkl\n",
      "/g/g13/jones289/workspace/hd-cuda-master/hdpy/hdpy/results/4/sider.task_12.random.smiles-pe.atomwise.0.pkl\n",
      "/g/g13/jones289/workspace/hd-cuda-master/hdpy/hdpy/results/4/sider.task_10.random.smiles-pe.atomwise.0.pkl\n",
      "/g/g13/jones289/workspace/hd-cuda-master/hdpy/hdpy/results/4/sider.task_11.random.smiles-pe.atomwise.0.pkl\n"
     ]
    },
    {
     "name": "stderr",
     "output_type": "stream",
     "text": [
      " 41%|████      | 11/27 [00:00<00:00, 31.72it/s]"
     ]
    },
    {
     "name": "stdout",
     "output_type": "stream",
     "text": [
      "/g/g13/jones289/workspace/hd-cuda-master/hdpy/hdpy/results/4/sider.task_15.random.smiles-pe.atomwise.0.pkl\n",
      "/g/g13/jones289/workspace/hd-cuda-master/hdpy/hdpy/results/4/sider.task_14.random.smiles-pe.atomwise.0.pkl\n",
      "/g/g13/jones289/workspace/hd-cuda-master/hdpy/hdpy/results/4/sider.task_16.random.smiles-pe.atomwise.0.pkl\n",
      "/g/g13/jones289/workspace/hd-cuda-master/hdpy/hdpy/results/4/sider.task_17.random.smiles-pe.atomwise.0.pkl\n",
      "/g/g13/jones289/workspace/hd-cuda-master/hdpy/hdpy/results/4/sider.task_21.random.smiles-pe.atomwise.0.pkl\n",
      "/g/g13/jones289/workspace/hd-cuda-master/hdpy/hdpy/results/4/sider.task_5.random.smiles-pe.atomwise.0.pkl\n",
      "/g/g13/jones289/workspace/hd-cuda-master/hdpy/hdpy/results/4/sider.task_4.random.smiles-pe.atomwise.0.pkl\n"
     ]
    },
    {
     "name": "stderr",
     "output_type": "stream",
     "text": [
      " 70%|███████   | 19/27 [00:00<00:00, 32.43it/s]"
     ]
    },
    {
     "name": "stdout",
     "output_type": "stream",
     "text": [
      "/g/g13/jones289/workspace/hd-cuda-master/hdpy/hdpy/results/4/sider.task_20.random.smiles-pe.atomwise.0.pkl\n",
      "/g/g13/jones289/workspace/hd-cuda-master/hdpy/hdpy/results/4/sider.task_22.random.smiles-pe.atomwise.0.pkl\n",
      "/g/g13/jones289/workspace/hd-cuda-master/hdpy/hdpy/results/4/sider.task_6.random.smiles-pe.atomwise.0.pkl\n",
      "/g/g13/jones289/workspace/hd-cuda-master/hdpy/hdpy/results/4/sider.task_7.random.smiles-pe.atomwise.0.pkl\n",
      "/g/g13/jones289/workspace/hd-cuda-master/hdpy/hdpy/results/4/sider.task_23.random.smiles-pe.atomwise.0.pkl\n",
      "/g/g13/jones289/workspace/hd-cuda-master/hdpy/hdpy/results/4/sider.task_19.random.smiles-pe.atomwise.0.pkl\n",
      "/g/g13/jones289/workspace/hd-cuda-master/hdpy/hdpy/results/4/sider.task_3.random.smiles-pe.atomwise.0.pkl\n"
     ]
    },
    {
     "name": "stderr",
     "output_type": "stream",
     "text": [
      "100%|██████████| 27/27 [00:00<00:00, 32.56it/s]"
     ]
    },
    {
     "name": "stdout",
     "output_type": "stream",
     "text": [
      "/g/g13/jones289/workspace/hd-cuda-master/hdpy/hdpy/results/4/sider.task_2.random.smiles-pe.atomwise.0.pkl\n",
      "/g/g13/jones289/workspace/hd-cuda-master/hdpy/hdpy/results/4/sider.task_26.random.smiles-pe.atomwise.0.pkl\n",
      "/g/g13/jones289/workspace/hd-cuda-master/hdpy/hdpy/results/4/sider.task_18.random.smiles-pe.atomwise.0.pkl\n",
      "/g/g13/jones289/workspace/hd-cuda-master/hdpy/hdpy/results/4/sider.task_24.random.smiles-pe.atomwise.0.pkl\n",
      "/g/g13/jones289/workspace/hd-cuda-master/hdpy/hdpy/results/4/sider.task_0.random.smiles-pe.atomwise.0.pkl\n",
      "/g/g13/jones289/workspace/hd-cuda-master/hdpy/hdpy/results/4/sider.task_1.random.smiles-pe.atomwise.0.pkl\n",
      "/g/g13/jones289/workspace/hd-cuda-master/hdpy/hdpy/results/4/sider.task_25.random.smiles-pe.atomwise.0.pkl\n",
      "smiles-pe.bpe.0-random-27\n"
     ]
    },
    {
     "name": "stderr",
     "output_type": "stream",
     "text": [
      "\n",
      " 11%|█         | 3/27 [00:00<00:01, 22.67it/s]"
     ]
    },
    {
     "name": "stdout",
     "output_type": "stream",
     "text": [
      "/g/g13/jones289/workspace/hd-cuda-master/hdpy/hdpy/results/4/sider.task_9.random.smiles-pe.bpe.0.pkl\n",
      "/g/g13/jones289/workspace/hd-cuda-master/hdpy/hdpy/results/4/sider.task_15.random.smiles-pe.bpe.0.pkl\n",
      "/g/g13/jones289/workspace/hd-cuda-master/hdpy/hdpy/results/4/sider.task_1.random.smiles-pe.bpe.0.pkl\n",
      "/g/g13/jones289/workspace/hd-cuda-master/hdpy/hdpy/results/4/sider.task_21.random.smiles-pe.bpe.0.pkl\n",
      "/g/g13/jones289/workspace/hd-cuda-master/hdpy/hdpy/results/4/sider.task_0.random.smiles-pe.bpe.0.pkl\n",
      "/g/g13/jones289/workspace/hd-cuda-master/hdpy/hdpy/results/4/sider.task_14.random.smiles-pe.bpe.0.pkl\n"
     ]
    },
    {
     "name": "stderr",
     "output_type": "stream",
     "text": [
      " 37%|███▋      | 10/27 [00:00<00:00, 27.18it/s]"
     ]
    },
    {
     "name": "stdout",
     "output_type": "stream",
     "text": [
      "/g/g13/jones289/workspace/hd-cuda-master/hdpy/hdpy/results/4/sider.task_20.random.smiles-pe.bpe.0.pkl\n",
      "/g/g13/jones289/workspace/hd-cuda-master/hdpy/hdpy/results/4/sider.task_8.random.smiles-pe.bpe.0.pkl\n",
      "/g/g13/jones289/workspace/hd-cuda-master/hdpy/hdpy/results/4/sider.task_16.random.smiles-pe.bpe.0.pkl\n",
      "/g/g13/jones289/workspace/hd-cuda-master/hdpy/hdpy/results/4/sider.task_2.random.smiles-pe.bpe.0.pkl\n",
      "/g/g13/jones289/workspace/hd-cuda-master/hdpy/hdpy/results/4/sider.task_22.random.smiles-pe.bpe.0.pkl\n",
      "/g/g13/jones289/workspace/hd-cuda-master/hdpy/hdpy/results/4/sider.task_3.random.smiles-pe.bpe.0.pkl\n"
     ]
    },
    {
     "name": "stderr",
     "output_type": "stream",
     "text": [
      " 67%|██████▋   | 18/27 [00:00<00:00, 31.08it/s]"
     ]
    },
    {
     "name": "stdout",
     "output_type": "stream",
     "text": [
      "/g/g13/jones289/workspace/hd-cuda-master/hdpy/hdpy/results/4/sider.task_17.random.smiles-pe.bpe.0.pkl\n",
      "/g/g13/jones289/workspace/hd-cuda-master/hdpy/hdpy/results/4/sider.task_23.random.smiles-pe.bpe.0.pkl\n",
      "/g/g13/jones289/workspace/hd-cuda-master/hdpy/hdpy/results/4/sider.task_6.random.smiles-pe.bpe.0.pkl\n",
      "/g/g13/jones289/workspace/hd-cuda-master/hdpy/hdpy/results/4/sider.task_12.random.smiles-pe.bpe.0.pkl\n",
      "/g/g13/jones289/workspace/hd-cuda-master/hdpy/hdpy/results/4/sider.task_26.random.smiles-pe.bpe.0.pkl\n",
      "/g/g13/jones289/workspace/hd-cuda-master/hdpy/hdpy/results/4/sider.task_13.random.smiles-pe.bpe.0.pkl\n",
      "/g/g13/jones289/workspace/hd-cuda-master/hdpy/hdpy/results/4/sider.task_7.random.smiles-pe.bpe.0.pkl\n"
     ]
    },
    {
     "name": "stderr",
     "output_type": "stream",
     "text": [
      " 96%|█████████▋| 26/27 [00:00<00:00, 32.92it/s]"
     ]
    },
    {
     "name": "stdout",
     "output_type": "stream",
     "text": [
      "/g/g13/jones289/workspace/hd-cuda-master/hdpy/hdpy/results/4/sider.task_19.random.smiles-pe.bpe.0.pkl\n",
      "/g/g13/jones289/workspace/hd-cuda-master/hdpy/hdpy/results/4/sider.task_5.random.smiles-pe.bpe.0.pkl\n",
      "/g/g13/jones289/workspace/hd-cuda-master/hdpy/hdpy/results/4/sider.task_11.random.smiles-pe.bpe.0.pkl\n",
      "/g/g13/jones289/workspace/hd-cuda-master/hdpy/hdpy/results/4/sider.task_25.random.smiles-pe.bpe.0.pkl\n",
      "/g/g13/jones289/workspace/hd-cuda-master/hdpy/hdpy/results/4/sider.task_10.random.smiles-pe.bpe.0.pkl\n",
      "/g/g13/jones289/workspace/hd-cuda-master/hdpy/hdpy/results/4/sider.task_4.random.smiles-pe.bpe.0.pkl\n",
      "/g/g13/jones289/workspace/hd-cuda-master/hdpy/hdpy/results/4/sider.task_24.random.smiles-pe.bpe.0.pkl\n"
     ]
    },
    {
     "name": "stderr",
     "output_type": "stream",
     "text": [
      "100%|██████████| 27/27 [00:00<00:00, 30.95it/s]\n"
     ]
    },
    {
     "name": "stdout",
     "output_type": "stream",
     "text": [
      "/g/g13/jones289/workspace/hd-cuda-master/hdpy/hdpy/results/4/sider.task_18.random.smiles-pe.bpe.0.pkl\n",
      "selfies.atomwise-random-27\n"
     ]
    },
    {
     "name": "stderr",
     "output_type": "stream",
     "text": [
      "  7%|▋         | 2/27 [00:00<00:01, 19.38it/s]"
     ]
    },
    {
     "name": "stdout",
     "output_type": "stream",
     "text": [
      "/g/g13/jones289/workspace/hd-cuda-master/hdpy/hdpy/results/4/sider.task_10.random.selfies.atomwise.0.pkl\n",
      "/g/g13/jones289/workspace/hd-cuda-master/hdpy/hdpy/results/4/sider.task_2.random.selfies.atomwise.0.pkl\n",
      "/g/g13/jones289/workspace/hd-cuda-master/hdpy/hdpy/results/4/sider.task_16.random.selfies.atomwise.0.pkl\n",
      "/g/g13/jones289/workspace/hd-cuda-master/hdpy/hdpy/results/4/sider.task_4.random.selfies.atomwise.0.pkl\n",
      "/g/g13/jones289/workspace/hd-cuda-master/hdpy/hdpy/results/4/sider.task_22.random.selfies.atomwise.0.pkl\n",
      "/g/g13/jones289/workspace/hd-cuda-master/hdpy/hdpy/results/4/sider.task_8.random.selfies.atomwise.0.pkl\n"
     ]
    },
    {
     "name": "stderr",
     "output_type": "stream",
     "text": [
      "\r",
      " 22%|██▏       | 6/27 [00:00<00:01, 20.99it/s]"
     ]
    },
    {
     "name": "stdout",
     "output_type": "stream",
     "text": [
      "/g/g13/jones289/workspace/hd-cuda-master/hdpy/hdpy/results/4/sider.task_24.random.selfies.atomwise.0.pkl\n",
      "/g/g13/jones289/workspace/hd-cuda-master/hdpy/hdpy/results/4/sider.task_11.random.selfies.atomwise.0.pkl\n"
     ]
    },
    {
     "name": "stderr",
     "output_type": "stream",
     "text": [
      "\r",
      " 33%|███▎      | 9/27 [00:00<00:00, 21.28it/s]"
     ]
    },
    {
     "name": "stdout",
     "output_type": "stream",
     "text": [
      "/g/g13/jones289/workspace/hd-cuda-master/hdpy/hdpy/results/4/sider.task_3.random.selfies.atomwise.0.pkl\n",
      "/g/g13/jones289/workspace/hd-cuda-master/hdpy/hdpy/results/4/sider.task_17.random.selfies.atomwise.0.pkl\n",
      "/g/g13/jones289/workspace/hd-cuda-master/hdpy/hdpy/results/4/sider.task_5.random.selfies.atomwise.0.pkl\n",
      "/g/g13/jones289/workspace/hd-cuda-master/hdpy/hdpy/results/4/sider.task_23.random.selfies.atomwise.0.pkl\n"
     ]
    },
    {
     "name": "stderr",
     "output_type": "stream",
     "text": [
      "\r",
      " 48%|████▊     | 13/27 [00:00<00:00, 23.74it/s]"
     ]
    },
    {
     "name": "stdout",
     "output_type": "stream",
     "text": [
      "/g/g13/jones289/workspace/hd-cuda-master/hdpy/hdpy/results/4/sider.task_9.random.selfies.atomwise.0.pkl\n",
      "/g/g13/jones289/workspace/hd-cuda-master/hdpy/hdpy/results/4/sider.task_25.random.selfies.atomwise.0.pkl\n"
     ]
    },
    {
     "name": "stderr",
     "output_type": "stream",
     "text": [
      "\r",
      " 63%|██████▎   | 17/27 [00:00<00:00, 27.14it/s]"
     ]
    },
    {
     "name": "stdout",
     "output_type": "stream",
     "text": [
      "/g/g13/jones289/workspace/hd-cuda-master/hdpy/hdpy/results/4/sider.task_0.random.selfies.atomwise.0.pkl\n",
      "/g/g13/jones289/workspace/hd-cuda-master/hdpy/hdpy/results/4/sider.task_12.random.selfies.atomwise.0.pkl\n",
      "/g/g13/jones289/workspace/hd-cuda-master/hdpy/hdpy/results/4/sider.task_6.random.selfies.atomwise.0.pkl\n",
      "/g/g13/jones289/workspace/hd-cuda-master/hdpy/hdpy/results/4/sider.task_14.random.selfies.atomwise.0.pkl\n",
      "/g/g13/jones289/workspace/hd-cuda-master/hdpy/hdpy/results/4/sider.task_20.random.selfies.atomwise.0.pkl\n",
      "/g/g13/jones289/workspace/hd-cuda-master/hdpy/hdpy/results/4/sider.task_18.random.selfies.atomwise.0.pkl\n"
     ]
    },
    {
     "name": "stderr",
     "output_type": "stream",
     "text": [
      " 89%|████████▉ | 24/27 [00:00<00:00, 27.72it/s]"
     ]
    },
    {
     "name": "stdout",
     "output_type": "stream",
     "text": [
      "/g/g13/jones289/workspace/hd-cuda-master/hdpy/hdpy/results/4/sider.task_26.random.selfies.atomwise.0.pkl\n",
      "/g/g13/jones289/workspace/hd-cuda-master/hdpy/hdpy/results/4/sider.task_1.random.selfies.atomwise.0.pkl\n",
      "/g/g13/jones289/workspace/hd-cuda-master/hdpy/hdpy/results/4/sider.task_13.random.selfies.atomwise.0.pkl\n",
      "/g/g13/jones289/workspace/hd-cuda-master/hdpy/hdpy/results/4/sider.task_7.random.selfies.atomwise.0.pkl\n",
      "/g/g13/jones289/workspace/hd-cuda-master/hdpy/hdpy/results/4/sider.task_15.random.selfies.atomwise.0.pkl\n",
      "/g/g13/jones289/workspace/hd-cuda-master/hdpy/hdpy/results/4/sider.task_21.random.selfies.atomwise.0.pkl\n",
      "/g/g13/jones289/workspace/hd-cuda-master/hdpy/hdpy/results/4/sider.task_19.random.selfies.atomwise.0.pkl\n"
     ]
    },
    {
     "name": "stderr",
     "output_type": "stream",
     "text": [
      "100%|██████████| 27/27 [00:01<00:00, 25.86it/s]\n"
     ]
    },
    {
     "name": "stdout",
     "output_type": "stream",
     "text": [
      "ecfp-random-27\n"
     ]
    },
    {
     "name": "stderr",
     "output_type": "stream",
     "text": [
      " 15%|█▍        | 4/27 [00:00<00:00, 33.96it/s]"
     ]
    },
    {
     "name": "stdout",
     "output_type": "stream",
     "text": [
      "/g/g13/jones289/workspace/hd-cuda-master/hdpy/hdpy/results/4/sider.task_7.random.ecfp.atomwise.0.pkl\n",
      "/g/g13/jones289/workspace/hd-cuda-master/hdpy/hdpy/results/4/sider.task_13.random.ecfp.atomwise.0.pkl\n",
      "/g/g13/jones289/workspace/hd-cuda-master/hdpy/hdpy/results/4/sider.task_26.random.ecfp.atomwise.0.pkl\n",
      "/g/g13/jones289/workspace/hd-cuda-master/hdpy/hdpy/results/4/sider.task_12.random.ecfp.atomwise.0.pkl\n",
      "/g/g13/jones289/workspace/hd-cuda-master/hdpy/hdpy/results/4/sider.task_6.random.ecfp.atomwise.0.pkl\n",
      "/g/g13/jones289/workspace/hd-cuda-master/hdpy/hdpy/results/4/sider.task_24.random.ecfp.atomwise.0.pkl\n",
      "/g/g13/jones289/workspace/hd-cuda-master/hdpy/hdpy/results/4/sider.task_4.random.ecfp.atomwise.0.pkl\n"
     ]
    },
    {
     "name": "stderr",
     "output_type": "stream",
     "text": [
      "\r",
      " 30%|██▉       | 8/27 [00:00<00:00, 33.42it/s]"
     ]
    },
    {
     "name": "stdout",
     "output_type": "stream",
     "text": [
      "/g/g13/jones289/workspace/hd-cuda-master/hdpy/hdpy/results/4/sider.task_10.random.ecfp.atomwise.0.pkl\n",
      "/g/g13/jones289/workspace/hd-cuda-master/hdpy/hdpy/results/4/sider.task_18.random.ecfp.atomwise.0.pkl\n",
      "/g/g13/jones289/workspace/hd-cuda-master/hdpy/hdpy/results/4/sider.task_19.random.ecfp.atomwise.0.pkl\n",
      "/g/g13/jones289/workspace/hd-cuda-master/hdpy/hdpy/results/4/sider.task_25.random.ecfp.atomwise.0.pkl\n"
     ]
    },
    {
     "name": "stderr",
     "output_type": "stream",
     "text": [
      "\r",
      " 44%|████▍     | 12/27 [00:00<00:00, 30.36it/s]"
     ]
    },
    {
     "name": "stdout",
     "output_type": "stream",
     "text": [
      "/g/g13/jones289/workspace/hd-cuda-master/hdpy/hdpy/results/4/sider.task_11.random.ecfp.atomwise.0.pkl\n",
      "/g/g13/jones289/workspace/hd-cuda-master/hdpy/hdpy/results/4/sider.task_5.random.ecfp.atomwise.0.pkl\n"
     ]
    },
    {
     "name": "stderr",
     "output_type": "stream",
     "text": [
      "\r",
      " 59%|█████▉    | 16/27 [00:00<00:00, 31.55it/s]"
     ]
    },
    {
     "name": "stdout",
     "output_type": "stream",
     "text": [
      "/g/g13/jones289/workspace/hd-cuda-master/hdpy/hdpy/results/4/sider.task_20.random.ecfp.atomwise.0.pkl\n",
      "/g/g13/jones289/workspace/hd-cuda-master/hdpy/hdpy/results/4/sider.task_14.random.ecfp.atomwise.0.pkl\n",
      "/g/g13/jones289/workspace/hd-cuda-master/hdpy/hdpy/results/4/sider.task_0.random.ecfp.atomwise.0.pkl\n",
      "/g/g13/jones289/workspace/hd-cuda-master/hdpy/hdpy/results/4/sider.task_8.random.ecfp.atomwise.0.pkl\n",
      "/g/g13/jones289/workspace/hd-cuda-master/hdpy/hdpy/results/4/sider.task_9.random.ecfp.atomwise.0.pkl\n",
      "/g/g13/jones289/workspace/hd-cuda-master/hdpy/hdpy/results/4/sider.task_21.random.ecfp.atomwise.0.pkl\n",
      "/g/g13/jones289/workspace/hd-cuda-master/hdpy/hdpy/results/4/sider.task_1.random.ecfp.atomwise.0.pkl\n"
     ]
    },
    {
     "name": "stderr",
     "output_type": "stream",
     "text": [
      " 89%|████████▉ | 24/27 [00:00<00:00, 32.44it/s]"
     ]
    },
    {
     "name": "stdout",
     "output_type": "stream",
     "text": [
      "/g/g13/jones289/workspace/hd-cuda-master/hdpy/hdpy/results/4/sider.task_15.random.ecfp.atomwise.0.pkl\n",
      "/g/g13/jones289/workspace/hd-cuda-master/hdpy/hdpy/results/4/sider.task_23.random.ecfp.atomwise.0.pkl\n",
      "/g/g13/jones289/workspace/hd-cuda-master/hdpy/hdpy/results/4/sider.task_17.random.ecfp.atomwise.0.pkl\n",
      "/g/g13/jones289/workspace/hd-cuda-master/hdpy/hdpy/results/4/sider.task_3.random.ecfp.atomwise.0.pkl\n",
      "/g/g13/jones289/workspace/hd-cuda-master/hdpy/hdpy/results/4/sider.task_22.random.ecfp.atomwise.0.pkl\n"
     ]
    },
    {
     "name": "stderr",
     "output_type": "stream",
     "text": [
      "100%|██████████| 27/27 [00:00<00:00, 32.87it/s]\n"
     ]
    },
    {
     "name": "stdout",
     "output_type": "stream",
     "text": [
      "/g/g13/jones289/workspace/hd-cuda-master/hdpy/hdpy/results/4/sider.task_2.random.ecfp.atomwise.0.pkl\n",
      "/g/g13/jones289/workspace/hd-cuda-master/hdpy/hdpy/results/4/sider.task_16.random.ecfp.atomwise.0.pkl\n",
      "rp-random-27\n"
     ]
    },
    {
     "name": "stderr",
     "output_type": "stream",
     "text": [
      "\r",
      "  0%|          | 0/27 [00:00<?, ?it/s]"
     ]
    },
    {
     "name": "stdout",
     "output_type": "stream",
     "text": [
      "/g/g13/jones289/workspace/hd-cuda-master/hdpy/hdpy/results/4/sider.task_8.random.rp.atomwise.0.pkl\n"
     ]
    },
    {
     "name": "stderr",
     "output_type": "stream",
     "text": [
      "\r",
      " 15%|█▍        | 4/27 [00:00<00:00, 32.30it/s]"
     ]
    },
    {
     "name": "stdout",
     "output_type": "stream",
     "text": [
      "/g/g13/jones289/workspace/hd-cuda-master/hdpy/hdpy/results/4/sider.task_18.random.rp.atomwise.0.pkl\n",
      "/g/g13/jones289/workspace/hd-cuda-master/hdpy/hdpy/results/4/sider.task_19.random.rp.atomwise.0.pkl\n",
      "/g/g13/jones289/workspace/hd-cuda-master/hdpy/hdpy/results/4/sider.task_9.random.rp.atomwise.0.pkl\n",
      "/g/g13/jones289/workspace/hd-cuda-master/hdpy/hdpy/results/4/sider.task_4.random.rp.atomwise.0.pkl\n",
      "/g/g13/jones289/workspace/hd-cuda-master/hdpy/hdpy/results/4/sider.task_14.random.rp.atomwise.0.pkl\n",
      "/g/g13/jones289/workspace/hd-cuda-master/hdpy/hdpy/results/4/sider.task_15.random.rp.atomwise.0.pkl\n",
      "/g/g13/jones289/workspace/hd-cuda-master/hdpy/hdpy/results/4/sider.task_26.random.rp.atomwise.0.pkl\n"
     ]
    },
    {
     "name": "stderr",
     "output_type": "stream",
     "text": [
      "\r",
      " 30%|██▉       | 8/27 [00:00<00:00, 32.70it/s]"
     ]
    },
    {
     "name": "stdout",
     "output_type": "stream",
     "text": [
      "/g/g13/jones289/workspace/hd-cuda-master/hdpy/hdpy/results/4/sider.task_5.random.rp.atomwise.0.pkl\n",
      "/g/g13/jones289/workspace/hd-cuda-master/hdpy/hdpy/results/4/sider.task_24.random.rp.atomwise.0.pkl\n",
      "/g/g13/jones289/workspace/hd-cuda-master/hdpy/hdpy/results/4/sider.task_17.random.rp.atomwise.0.pkl\n"
     ]
    },
    {
     "name": "stderr",
     "output_type": "stream",
     "text": [
      "\r",
      " 44%|████▍     | 12/27 [00:00<00:00, 28.55it/s]"
     ]
    },
    {
     "name": "stdout",
     "output_type": "stream",
     "text": [
      "/g/g13/jones289/workspace/hd-cuda-master/hdpy/hdpy/results/4/sider.task_7.random.rp.atomwise.0.pkl\n",
      "/g/g13/jones289/workspace/hd-cuda-master/hdpy/hdpy/results/4/sider.task_6.random.rp.atomwise.0.pkl\n",
      "/g/g13/jones289/workspace/hd-cuda-master/hdpy/hdpy/results/4/sider.task_25.random.rp.atomwise.0.pkl\n"
     ]
    },
    {
     "name": "stderr",
     "output_type": "stream",
     "text": [
      "\r",
      " 59%|█████▉    | 16/27 [00:00<00:00, 30.48it/s]"
     ]
    },
    {
     "name": "stdout",
     "output_type": "stream",
     "text": [
      "/g/g13/jones289/workspace/hd-cuda-master/hdpy/hdpy/results/4/sider.task_16.random.rp.atomwise.0.pkl\n",
      "/g/g13/jones289/workspace/hd-cuda-master/hdpy/hdpy/results/4/sider.task_13.random.rp.atomwise.0.pkl\n",
      "/g/g13/jones289/workspace/hd-cuda-master/hdpy/hdpy/results/4/sider.task_20.random.rp.atomwise.0.pkl\n",
      "/g/g13/jones289/workspace/hd-cuda-master/hdpy/hdpy/results/4/sider.task_3.random.rp.atomwise.0.pkl\n"
     ]
    },
    {
     "name": "stderr",
     "output_type": "stream",
     "text": [
      "\r",
      " 74%|███████▍  | 20/27 [00:00<00:00, 33.29it/s]"
     ]
    },
    {
     "name": "stdout",
     "output_type": "stream",
     "text": [
      "/g/g13/jones289/workspace/hd-cuda-master/hdpy/hdpy/results/4/sider.task_2.random.rp.atomwise.0.pkl\n",
      "/g/g13/jones289/workspace/hd-cuda-master/hdpy/hdpy/results/4/sider.task_12.random.rp.atomwise.0.pkl\n",
      "/g/g13/jones289/workspace/hd-cuda-master/hdpy/hdpy/results/4/sider.task_21.random.rp.atomwise.0.pkl\n",
      "/g/g13/jones289/workspace/hd-cuda-master/hdpy/hdpy/results/4/sider.task_0.random.rp.atomwise.0.pkl\n"
     ]
    },
    {
     "name": "stderr",
     "output_type": "stream",
     "text": [
      "\r",
      " 89%|████████▉ | 24/27 [00:00<00:00, 32.82it/s]"
     ]
    },
    {
     "name": "stdout",
     "output_type": "stream",
     "text": [
      "/g/g13/jones289/workspace/hd-cuda-master/hdpy/hdpy/results/4/sider.task_23.random.rp.atomwise.0.pkl\n",
      "/g/g13/jones289/workspace/hd-cuda-master/hdpy/hdpy/results/4/sider.task_10.random.rp.atomwise.0.pkl\n",
      "/g/g13/jones289/workspace/hd-cuda-master/hdpy/hdpy/results/4/sider.task_22.random.rp.atomwise.0.pkl\n",
      "/g/g13/jones289/workspace/hd-cuda-master/hdpy/hdpy/results/4/sider.task_11.random.rp.atomwise.0.pkl\n",
      "/g/g13/jones289/workspace/hd-cuda-master/hdpy/hdpy/results/4/sider.task_1.random.rp.atomwise.0.pkl\n"
     ]
    },
    {
     "name": "stderr",
     "output_type": "stream",
     "text": [
      "100%|██████████| 27/27 [00:00<00:00, 31.27it/s]\n"
     ]
    },
    {
     "name": "stdout",
     "output_type": "stream",
     "text": [
      "rf-random-27\n"
     ]
    },
    {
     "name": "stderr",
     "output_type": "stream",
     "text": [
      "\r",
      "  0%|          | 0/27 [00:00<?, ?it/s]"
     ]
    },
    {
     "name": "stdout",
     "output_type": "stream",
     "text": [
      "/g/g13/jones289/workspace/hd-cuda-master/hdpy/hdpy/results/4/sider.task_4.random.rf.None.0.pkl\n",
      "/g/g13/jones289/workspace/hd-cuda-master/hdpy/hdpy/results/4/sider.task_11.random.rf.None.0.pkl\n"
     ]
    },
    {
     "name": "stderr",
     "output_type": "stream",
     "text": [
      "\r",
      " 33%|███▎      | 9/27 [00:00<00:00, 85.70it/s]"
     ]
    },
    {
     "name": "stdout",
     "output_type": "stream",
     "text": [
      "/g/g13/jones289/workspace/hd-cuda-master/hdpy/hdpy/results/4/sider.task_22.random.rf.None.0.pkl\n",
      "/g/g13/jones289/workspace/hd-cuda-master/hdpy/hdpy/results/4/sider.task_24.random.rf.None.0.pkl\n",
      "/g/g13/jones289/workspace/hd-cuda-master/hdpy/hdpy/results/4/sider.task_17.random.rf.None.0.pkl\n",
      "/g/g13/jones289/workspace/hd-cuda-master/hdpy/hdpy/results/4/sider.task_9.random.rf.None.0.pkl\n",
      "/g/g13/jones289/workspace/hd-cuda-master/hdpy/hdpy/results/4/sider.task_2.random.rf.None.0.pkl\n",
      "/g/g13/jones289/workspace/hd-cuda-master/hdpy/hdpy/results/4/sider.task_10.random.rf.None.0.pkl\n",
      "/g/g13/jones289/workspace/hd-cuda-master/hdpy/hdpy/results/4/sider.task_5.random.rf.None.0.pkl\n",
      "/g/g13/jones289/workspace/hd-cuda-master/hdpy/hdpy/results/4/sider.task_23.random.rf.None.0.pkl\n",
      "/g/g13/jones289/workspace/hd-cuda-master/hdpy/hdpy/results/4/sider.task_25.random.rf.None.0.pkl\n",
      "/g/g13/jones289/workspace/hd-cuda-master/hdpy/hdpy/results/4/sider.task_3.random.rf.None.0.pkl\n",
      "/g/g13/jones289/workspace/hd-cuda-master/hdpy/hdpy/results/4/sider.task_8.random.rf.None.0.pkl\n",
      "/g/g13/jones289/workspace/hd-cuda-master/hdpy/hdpy/results/4/sider.task_16.random.rf.None.0.pkl\n",
      "/g/g13/jones289/workspace/hd-cuda-master/hdpy/hdpy/results/4/sider.task_20.random.rf.None.0.pkl\n",
      "/g/g13/jones289/workspace/hd-cuda-master/hdpy/hdpy/results/4/sider.task_13.random.rf.None.0.pkl\n",
      "/g/g13/jones289/workspace/hd-cuda-master/hdpy/hdpy/results/4/sider.task_18.random.rf.None.0.pkl\n",
      "/g/g13/jones289/workspace/hd-cuda-master/hdpy/hdpy/results/4/sider.task_6.random.rf.None.0.pkl\n"
     ]
    },
    {
     "name": "stderr",
     "output_type": "stream",
     "text": [
      "\r",
      " 67%|██████▋   | 18/27 [00:00<00:00, 86.79it/s]"
     ]
    },
    {
     "name": "stdout",
     "output_type": "stream",
     "text": [
      "/g/g13/jones289/workspace/hd-cuda-master/hdpy/hdpy/results/4/sider.task_0.random.rf.None.0.pkl\n",
      "/g/g13/jones289/workspace/hd-cuda-master/hdpy/hdpy/results/4/sider.task_15.random.rf.None.0.pkl\n"
     ]
    },
    {
     "name": "stderr",
     "output_type": "stream",
     "text": [
      "100%|██████████| 27/27 [00:00<00:00, 86.36it/s]\n"
     ]
    },
    {
     "name": "stdout",
     "output_type": "stream",
     "text": [
      "/g/g13/jones289/workspace/hd-cuda-master/hdpy/hdpy/results/4/sider.task_26.random.rf.None.0.pkl\n",
      "/g/g13/jones289/workspace/hd-cuda-master/hdpy/hdpy/results/4/sider.task_21.random.rf.None.0.pkl\n",
      "/g/g13/jones289/workspace/hd-cuda-master/hdpy/hdpy/results/4/sider.task_7.random.rf.None.0.pkl\n",
      "/g/g13/jones289/workspace/hd-cuda-master/hdpy/hdpy/results/4/sider.task_19.random.rf.None.0.pkl\n",
      "/g/g13/jones289/workspace/hd-cuda-master/hdpy/hdpy/results/4/sider.task_12.random.rf.None.0.pkl\n",
      "/g/g13/jones289/workspace/hd-cuda-master/hdpy/hdpy/results/4/sider.task_14.random.rf.None.0.pkl\n",
      "/g/g13/jones289/workspace/hd-cuda-master/hdpy/hdpy/results/4/sider.task_1.random.rf.None.0.pkl\n",
      "mlp-random-27\n"
     ]
    },
    {
     "name": "stderr",
     "output_type": "stream",
     "text": [
      "\r",
      "  0%|          | 0/27 [00:00<?, ?it/s]"
     ]
    },
    {
     "name": "stdout",
     "output_type": "stream",
     "text": [
      "/g/g13/jones289/workspace/hd-cuda-master/hdpy/hdpy/results/4/sider.task_9.random.mlp.None.0.pkl\n",
      "/g/g13/jones289/workspace/hd-cuda-master/hdpy/hdpy/results/4/sider.task_11.random.mlp.None.0.pkl\n",
      "/g/g13/jones289/workspace/hd-cuda-master/hdpy/hdpy/results/4/sider.task_26.random.mlp.None.0.pkl\n"
     ]
    },
    {
     "name": "stderr",
     "output_type": "stream",
     "text": [
      "\r",
      " 11%|█         | 3/27 [00:00<00:00, 29.53it/s]"
     ]
    },
    {
     "name": "stdout",
     "output_type": "stream",
     "text": [
      "/g/g13/jones289/workspace/hd-cuda-master/hdpy/hdpy/results/4/sider.task_20.random.mlp.None.0.pkl\n",
      "/g/g13/jones289/workspace/hd-cuda-master/hdpy/hdpy/results/4/sider.task_17.random.mlp.None.0.pkl\n",
      "/g/g13/jones289/workspace/hd-cuda-master/hdpy/hdpy/results/4/sider.task_3.random.mlp.None.0.pkl\n",
      "/g/g13/jones289/workspace/hd-cuda-master/hdpy/hdpy/results/4/sider.task_5.random.mlp.None.0.pkl\n"
     ]
    },
    {
     "name": "stderr",
     "output_type": "stream",
     "text": [
      "\r",
      " 26%|██▌       | 7/27 [00:00<00:00, 30.92it/s]"
     ]
    },
    {
     "name": "stdout",
     "output_type": "stream",
     "text": [
      "/g/g13/jones289/workspace/hd-cuda-master/hdpy/hdpy/results/4/sider.task_10.random.mlp.None.0.pkl\n",
      "/g/g13/jones289/workspace/hd-cuda-master/hdpy/hdpy/results/4/sider.task_8.random.mlp.None.0.pkl\n",
      "/g/g13/jones289/workspace/hd-cuda-master/hdpy/hdpy/results/4/sider.task_16.random.mlp.None.0.pkl\n",
      "/g/g13/jones289/workspace/hd-cuda-master/hdpy/hdpy/results/4/sider.task_21.random.mlp.None.0.pkl\n"
     ]
    },
    {
     "name": "stderr",
     "output_type": "stream",
     "text": [
      "\r",
      " 41%|████      | 11/27 [00:00<00:00, 30.41it/s]"
     ]
    },
    {
     "name": "stdout",
     "output_type": "stream",
     "text": [
      "/g/g13/jones289/workspace/hd-cuda-master/hdpy/hdpy/results/4/sider.task_2.random.mlp.None.0.pkl\n",
      "/g/g13/jones289/workspace/hd-cuda-master/hdpy/hdpy/results/4/sider.task_4.random.mlp.None.0.pkl\n",
      "/g/g13/jones289/workspace/hd-cuda-master/hdpy/hdpy/results/4/sider.task_22.random.mlp.None.0.pkl\n"
     ]
    },
    {
     "name": "stderr",
     "output_type": "stream",
     "text": [
      "\r",
      " 56%|█████▌    | 15/27 [00:00<00:00, 27.51it/s]"
     ]
    },
    {
     "name": "stdout",
     "output_type": "stream",
     "text": [
      "/g/g13/jones289/workspace/hd-cuda-master/hdpy/hdpy/results/4/sider.task_15.random.mlp.None.0.pkl\n",
      "/g/g13/jones289/workspace/hd-cuda-master/hdpy/hdpy/results/4/sider.task_13.random.mlp.None.0.pkl\n",
      "/g/g13/jones289/workspace/hd-cuda-master/hdpy/hdpy/results/4/sider.task_24.random.mlp.None.0.pkl\n"
     ]
    },
    {
     "name": "stderr",
     "output_type": "stream",
     "text": [
      "\r",
      " 67%|██████▋   | 18/27 [00:00<00:00, 26.40it/s]"
     ]
    },
    {
     "name": "stdout",
     "output_type": "stream",
     "text": [
      "/g/g13/jones289/workspace/hd-cuda-master/hdpy/hdpy/results/4/sider.task_7.random.mlp.None.0.pkl\n",
      "/g/g13/jones289/workspace/hd-cuda-master/hdpy/hdpy/results/4/sider.task_19.random.mlp.None.0.pkl\n",
      "/g/g13/jones289/workspace/hd-cuda-master/hdpy/hdpy/results/4/sider.task_1.random.mlp.None.0.pkl\n",
      "/g/g13/jones289/workspace/hd-cuda-master/hdpy/hdpy/results/4/sider.task_14.random.mlp.None.0.pkl\n",
      "/g/g13/jones289/workspace/hd-cuda-master/hdpy/hdpy/results/4/sider.task_23.random.mlp.None.0.pkl\n"
     ]
    },
    {
     "name": "stderr",
     "output_type": "stream",
     "text": [
      "\r",
      " 81%|████████▏ | 22/27 [00:00<00:00, 28.15it/s]"
     ]
    },
    {
     "name": "stdout",
     "output_type": "stream",
     "text": [
      "/g/g13/jones289/workspace/hd-cuda-master/hdpy/hdpy/results/4/sider.task_25.random.mlp.None.0.pkl\n",
      "/g/g13/jones289/workspace/hd-cuda-master/hdpy/hdpy/results/4/sider.task_12.random.mlp.None.0.pkl\n",
      "/g/g13/jones289/workspace/hd-cuda-master/hdpy/hdpy/results/4/sider.task_6.random.mlp.None.0.pkl\n",
      "/g/g13/jones289/workspace/hd-cuda-master/hdpy/hdpy/results/4/sider.task_0.random.mlp.None.0.pkl\n"
     ]
    },
    {
     "name": "stderr",
     "output_type": "stream",
     "text": [
      "100%|██████████| 27/27 [00:00<00:00, 28.81it/s]\n"
     ]
    },
    {
     "name": "stdout",
     "output_type": "stream",
     "text": [
      "/g/g13/jones289/workspace/hd-cuda-master/hdpy/hdpy/results/4/sider.task_18.random.mlp.None.0.pkl\n",
      "(189, 4)\n",
      "smiles-pe.atomwise.0-scaffold-27\n"
     ]
    },
    {
     "name": "stderr",
     "output_type": "stream",
     "text": [
      "\r",
      "  0%|          | 0/27 [00:00<?, ?it/s]"
     ]
    },
    {
     "name": "stdout",
     "output_type": "stream",
     "text": [
      "/g/g13/jones289/workspace/hd-cuda-master/hdpy/hdpy/results/4/sider.task_19.scaffold.smiles-pe.atomwise.0.pkl\n",
      "/g/g13/jones289/workspace/hd-cuda-master/hdpy/hdpy/results/4/sider.task_15.scaffold.smiles-pe.atomwise.0.pkl\n",
      "/g/g13/jones289/workspace/hd-cuda-master/hdpy/hdpy/results/4/sider.task_16.scaffold.smiles-pe.atomwise.0.pkl\n"
     ]
    },
    {
     "name": "stderr",
     "output_type": "stream",
     "text": [
      "\r",
      " 22%|██▏       | 6/27 [00:00<00:00, 57.56it/s]"
     ]
    },
    {
     "name": "stdout",
     "output_type": "stream",
     "text": [
      "/g/g13/jones289/workspace/hd-cuda-master/hdpy/hdpy/results/4/sider.task_13.scaffold.smiles-pe.atomwise.0.pkl\n",
      "/g/g13/jones289/workspace/hd-cuda-master/hdpy/hdpy/results/4/sider.task_10.scaffold.smiles-pe.atomwise.0.pkl\n",
      "/g/g13/jones289/workspace/hd-cuda-master/hdpy/hdpy/results/4/sider.task_6.scaffold.smiles-pe.atomwise.0.pkl\n",
      "/g/g13/jones289/workspace/hd-cuda-master/hdpy/hdpy/results/4/sider.task_5.scaffold.smiles-pe.atomwise.0.pkl\n",
      "/g/g13/jones289/workspace/hd-cuda-master/hdpy/hdpy/results/4/sider.task_0.scaffold.smiles-pe.atomwise.0.pkl\n",
      "/g/g13/jones289/workspace/hd-cuda-master/hdpy/hdpy/results/4/sider.task_3.scaffold.smiles-pe.atomwise.0.pkl\n",
      "/g/g13/jones289/workspace/hd-cuda-master/hdpy/hdpy/results/4/sider.task_23.scaffold.smiles-pe.atomwise.0.pkl\n",
      "/g/g13/jones289/workspace/hd-cuda-master/hdpy/hdpy/results/4/sider.task_9.scaffold.smiles-pe.atomwise.0.pkl\n",
      "/g/g13/jones289/workspace/hd-cuda-master/hdpy/hdpy/results/4/sider.task_20.scaffold.smiles-pe.atomwise.0.pkl\n"
     ]
    },
    {
     "name": "stderr",
     "output_type": "stream",
     "text": [
      "\r",
      " 44%|████▍     | 12/27 [00:00<00:00, 36.86it/s]"
     ]
    },
    {
     "name": "stdout",
     "output_type": "stream",
     "text": [
      "/g/g13/jones289/workspace/hd-cuda-master/hdpy/hdpy/results/4/sider.task_25.scaffold.smiles-pe.atomwise.0.pkl\n"
     ]
    },
    {
     "name": "stderr",
     "output_type": "stream",
     "text": [
      "\r",
      " 67%|██████▋   | 18/27 [00:00<00:00, 43.90it/s]"
     ]
    },
    {
     "name": "stdout",
     "output_type": "stream",
     "text": [
      "/g/g13/jones289/workspace/hd-cuda-master/hdpy/hdpy/results/4/sider.task_26.scaffold.smiles-pe.atomwise.0.pkl\n",
      "/g/g13/jones289/workspace/hd-cuda-master/hdpy/hdpy/results/4/sider.task_18.scaffold.smiles-pe.atomwise.0.pkl\n",
      "/g/g13/jones289/workspace/hd-cuda-master/hdpy/hdpy/results/4/sider.task_17.scaffold.smiles-pe.atomwise.0.pkl\n",
      "/g/g13/jones289/workspace/hd-cuda-master/hdpy/hdpy/results/4/sider.task_14.scaffold.smiles-pe.atomwise.0.pkl\n",
      "/g/g13/jones289/workspace/hd-cuda-master/hdpy/hdpy/results/4/sider.task_11.scaffold.smiles-pe.atomwise.0.pkl\n",
      "/g/g13/jones289/workspace/hd-cuda-master/hdpy/hdpy/results/4/sider.task_12.scaffold.smiles-pe.atomwise.0.pkl\n",
      "/g/g13/jones289/workspace/hd-cuda-master/hdpy/hdpy/results/4/sider.task_4.scaffold.smiles-pe.atomwise.0.pkl\n",
      "/g/g13/jones289/workspace/hd-cuda-master/hdpy/hdpy/results/4/sider.task_7.scaffold.smiles-pe.atomwise.0.pkl\n",
      "/g/g13/jones289/workspace/hd-cuda-master/hdpy/hdpy/results/4/sider.task_2.scaffold.smiles-pe.atomwise.0.pkl\n",
      "/g/g13/jones289/workspace/hd-cuda-master/hdpy/hdpy/results/4/sider.task_1.scaffold.smiles-pe.atomwise.0.pkl\n"
     ]
    },
    {
     "name": "stderr",
     "output_type": "stream",
     "text": [
      "\r",
      " 85%|████████▌ | 23/27 [00:00<00:00, 44.91it/s]"
     ]
    },
    {
     "name": "stdout",
     "output_type": "stream",
     "text": [
      "/g/g13/jones289/workspace/hd-cuda-master/hdpy/hdpy/results/4/sider.task_8.scaffold.smiles-pe.atomwise.0.pkl\n"
     ]
    },
    {
     "name": "stderr",
     "output_type": "stream",
     "text": [
      "100%|██████████| 27/27 [00:00<00:00, 46.11it/s]\n"
     ]
    },
    {
     "name": "stdout",
     "output_type": "stream",
     "text": [
      "/g/g13/jones289/workspace/hd-cuda-master/hdpy/hdpy/results/4/sider.task_21.scaffold.smiles-pe.atomwise.0.pkl\n",
      "/g/g13/jones289/workspace/hd-cuda-master/hdpy/hdpy/results/4/sider.task_22.scaffold.smiles-pe.atomwise.0.pkl\n",
      "/g/g13/jones289/workspace/hd-cuda-master/hdpy/hdpy/results/4/sider.task_24.scaffold.smiles-pe.atomwise.0.pkl\n",
      "smiles-pe.bpe.0-scaffold-27\n"
     ]
    },
    {
     "name": "stderr",
     "output_type": "stream",
     "text": [
      "\r",
      "  0%|          | 0/27 [00:00<?, ?it/s]"
     ]
    },
    {
     "name": "stdout",
     "output_type": "stream",
     "text": [
      "/g/g13/jones289/workspace/hd-cuda-master/hdpy/hdpy/results/4/sider.task_10.scaffold.smiles-pe.bpe.0.pkl\n",
      "/g/g13/jones289/workspace/hd-cuda-master/hdpy/hdpy/results/4/sider.task_1.scaffold.smiles-pe.bpe.0.pkl\n",
      "/g/g13/jones289/workspace/hd-cuda-master/hdpy/hdpy/results/4/sider.task_11.scaffold.smiles-pe.bpe.0.pkl\n",
      "/g/g13/jones289/workspace/hd-cuda-master/hdpy/hdpy/results/4/sider.task_26.scaffold.smiles-pe.bpe.0.pkl\n"
     ]
    },
    {
     "name": "stderr",
     "output_type": "stream",
     "text": [
      "\r",
      " 15%|█▍        | 4/27 [00:00<00:00, 34.86it/s]"
     ]
    },
    {
     "name": "stdout",
     "output_type": "stream",
     "text": [
      "/g/g13/jones289/workspace/hd-cuda-master/hdpy/hdpy/results/4/sider.task_0.scaffold.smiles-pe.bpe.0.pkl\n",
      "/g/g13/jones289/workspace/hd-cuda-master/hdpy/hdpy/results/4/sider.task_3.scaffold.smiles-pe.bpe.0.pkl\n",
      "/g/g13/jones289/workspace/hd-cuda-master/hdpy/hdpy/results/4/sider.task_25.scaffold.smiles-pe.bpe.0.pkl\n",
      "/g/g13/jones289/workspace/hd-cuda-master/hdpy/hdpy/results/4/sider.task_12.scaffold.smiles-pe.bpe.0.pkl\n"
     ]
    },
    {
     "name": "stderr",
     "output_type": "stream",
     "text": [
      "\r",
      " 33%|███▎      | 9/27 [00:00<00:00, 41.62it/s]"
     ]
    },
    {
     "name": "stdout",
     "output_type": "stream",
     "text": [
      "/g/g13/jones289/workspace/hd-cuda-master/hdpy/hdpy/results/4/sider.task_2.scaffold.smiles-pe.bpe.0.pkl\n",
      "/g/g13/jones289/workspace/hd-cuda-master/hdpy/hdpy/results/4/sider.task_13.scaffold.smiles-pe.bpe.0.pkl\n",
      "/g/g13/jones289/workspace/hd-cuda-master/hdpy/hdpy/results/4/sider.task_24.scaffold.smiles-pe.bpe.0.pkl\n",
      "/g/g13/jones289/workspace/hd-cuda-master/hdpy/hdpy/results/4/sider.task_4.scaffold.smiles-pe.bpe.0.pkl\n",
      "/g/g13/jones289/workspace/hd-cuda-master/hdpy/hdpy/results/4/sider.task_22.scaffold.smiles-pe.bpe.0.pkl\n",
      "/g/g13/jones289/workspace/hd-cuda-master/hdpy/hdpy/results/4/sider.task_15.scaffold.smiles-pe.bpe.0.pkl\n",
      "/g/g13/jones289/workspace/hd-cuda-master/hdpy/hdpy/results/4/sider.task_5.scaffold.smiles-pe.bpe.0.pkl\n"
     ]
    },
    {
     "name": "stderr",
     "output_type": "stream",
     "text": [
      "\r",
      " 56%|█████▌    | 15/27 [00:00<00:00, 43.91it/s]"
     ]
    },
    {
     "name": "stdout",
     "output_type": "stream",
     "text": [
      "/g/g13/jones289/workspace/hd-cuda-master/hdpy/hdpy/results/4/sider.task_14.scaffold.smiles-pe.bpe.0.pkl\n",
      "/g/g13/jones289/workspace/hd-cuda-master/hdpy/hdpy/results/4/sider.task_23.scaffold.smiles-pe.bpe.0.pkl\n",
      "/g/g13/jones289/workspace/hd-cuda-master/hdpy/hdpy/results/4/sider.task_8.scaffold.smiles-pe.bpe.0.pkl\n"
     ]
    },
    {
     "name": "stderr",
     "output_type": "stream",
     "text": [
      "\r",
      " 74%|███████▍  | 20/27 [00:00<00:00, 40.26it/s]"
     ]
    },
    {
     "name": "stdout",
     "output_type": "stream",
     "text": [
      "/g/g13/jones289/workspace/hd-cuda-master/hdpy/hdpy/results/4/sider.task_20.scaffold.smiles-pe.bpe.0.pkl\n",
      "/g/g13/jones289/workspace/hd-cuda-master/hdpy/hdpy/results/4/sider.task_17.scaffold.smiles-pe.bpe.0.pkl\n",
      "/g/g13/jones289/workspace/hd-cuda-master/hdpy/hdpy/results/4/sider.task_6.scaffold.smiles-pe.bpe.0.pkl\n",
      "/g/g13/jones289/workspace/hd-cuda-master/hdpy/hdpy/results/4/sider.task_19.scaffold.smiles-pe.bpe.0.pkl\n",
      "/g/g13/jones289/workspace/hd-cuda-master/hdpy/hdpy/results/4/sider.task_16.scaffold.smiles-pe.bpe.0.pkl\n",
      "/g/g13/jones289/workspace/hd-cuda-master/hdpy/hdpy/results/4/sider.task_9.scaffold.smiles-pe.bpe.0.pkl\n"
     ]
    },
    {
     "name": "stderr",
     "output_type": "stream",
     "text": [
      "\r",
      " 93%|█████████▎| 25/27 [00:00<00:00, 41.16it/s]"
     ]
    },
    {
     "name": "stdout",
     "output_type": "stream",
     "text": [
      "/g/g13/jones289/workspace/hd-cuda-master/hdpy/hdpy/results/4/sider.task_21.scaffold.smiles-pe.bpe.0.pkl\n",
      "/g/g13/jones289/workspace/hd-cuda-master/hdpy/hdpy/results/4/sider.task_18.scaffold.smiles-pe.bpe.0.pkl\n",
      "/g/g13/jones289/workspace/hd-cuda-master/hdpy/hdpy/results/4/sider.task_7.scaffold.smiles-pe.bpe.0.pkl\n"
     ]
    },
    {
     "name": "stderr",
     "output_type": "stream",
     "text": [
      "100%|██████████| 27/27 [00:00<00:00, 41.42it/s]\n"
     ]
    },
    {
     "name": "stdout",
     "output_type": "stream",
     "text": [
      "selfies.atomwise-scaffold-27\n"
     ]
    },
    {
     "name": "stderr",
     "output_type": "stream",
     "text": [
      "\r",
      "  0%|          | 0/27 [00:00<?, ?it/s]"
     ]
    },
    {
     "name": "stdout",
     "output_type": "stream",
     "text": [
      "/g/g13/jones289/workspace/hd-cuda-master/hdpy/hdpy/results/4/sider.task_10.scaffold.selfies.atomwise.0.pkl\n",
      "/g/g13/jones289/workspace/hd-cuda-master/hdpy/hdpy/results/4/sider.task_11.scaffold.selfies.atomwise.0.pkl\n",
      "/g/g13/jones289/workspace/hd-cuda-master/hdpy/hdpy/results/4/sider.task_13.scaffold.selfies.atomwise.0.pkl\n",
      "/g/g13/jones289/workspace/hd-cuda-master/hdpy/hdpy/results/4/sider.task_9.scaffold.selfies.atomwise.0.pkl\n",
      "/g/g13/jones289/workspace/hd-cuda-master/hdpy/hdpy/results/4/sider.task_8.scaffold.selfies.atomwise.0.pkl\n"
     ]
    },
    {
     "name": "stderr",
     "output_type": "stream",
     "text": [
      "\r",
      " 19%|█▊        | 5/27 [00:00<00:00, 45.87it/s]"
     ]
    },
    {
     "name": "stdout",
     "output_type": "stream",
     "text": [
      "/g/g13/jones289/workspace/hd-cuda-master/hdpy/hdpy/results/4/sider.task_12.scaffold.selfies.atomwise.0.pkl\n",
      "/g/g13/jones289/workspace/hd-cuda-master/hdpy/hdpy/results/4/sider.task_16.scaffold.selfies.atomwise.0.pkl\n",
      "/g/g13/jones289/workspace/hd-cuda-master/hdpy/hdpy/results/4/sider.task_17.scaffold.selfies.atomwise.0.pkl\n",
      "/g/g13/jones289/workspace/hd-cuda-master/hdpy/hdpy/results/4/sider.task_15.scaffold.selfies.atomwise.0.pkl\n",
      "/g/g13/jones289/workspace/hd-cuda-master/hdpy/hdpy/results/4/sider.task_14.scaffold.selfies.atomwise.0.pkl\n",
      "/g/g13/jones289/workspace/hd-cuda-master/hdpy/hdpy/results/4/sider.task_22.scaffold.selfies.atomwise.0.pkl\n",
      "/g/g13/jones289/workspace/hd-cuda-master/hdpy/hdpy/results/4/sider.task_6.scaffold.selfies.atomwise.0.pkl\n"
     ]
    },
    {
     "name": "stderr",
     "output_type": "stream",
     "text": [
      "\r",
      " 48%|████▊     | 13/27 [00:00<00:00, 62.19it/s]"
     ]
    },
    {
     "name": "stdout",
     "output_type": "stream",
     "text": [
      "/g/g13/jones289/workspace/hd-cuda-master/hdpy/hdpy/results/4/sider.task_7.scaffold.selfies.atomwise.0.pkl\n",
      "/g/g13/jones289/workspace/hd-cuda-master/hdpy/hdpy/results/4/sider.task_23.scaffold.selfies.atomwise.0.pkl\n",
      "/g/g13/jones289/workspace/hd-cuda-master/hdpy/hdpy/results/4/sider.task_21.scaffold.selfies.atomwise.0.pkl\n",
      "/g/g13/jones289/workspace/hd-cuda-master/hdpy/hdpy/results/4/sider.task_5.scaffold.selfies.atomwise.0.pkl\n",
      "/g/g13/jones289/workspace/hd-cuda-master/hdpy/hdpy/results/4/sider.task_4.scaffold.selfies.atomwise.0.pkl\n",
      "/g/g13/jones289/workspace/hd-cuda-master/hdpy/hdpy/results/4/sider.task_20.scaffold.selfies.atomwise.0.pkl\n",
      "/g/g13/jones289/workspace/hd-cuda-master/hdpy/hdpy/results/4/sider.task_24.scaffold.selfies.atomwise.0.pkl\n"
     ]
    },
    {
     "name": "stderr",
     "output_type": "stream",
     "text": [
      "\r",
      " 74%|███████▍  | 20/27 [00:00<00:00, 52.04it/s]"
     ]
    },
    {
     "name": "stdout",
     "output_type": "stream",
     "text": [
      "/g/g13/jones289/workspace/hd-cuda-master/hdpy/hdpy/results/4/sider.task_0.scaffold.selfies.atomwise.0.pkl\n",
      "/g/g13/jones289/workspace/hd-cuda-master/hdpy/hdpy/results/4/sider.task_1.scaffold.selfies.atomwise.0.pkl\n",
      "/g/g13/jones289/workspace/hd-cuda-master/hdpy/hdpy/results/4/sider.task_25.scaffold.selfies.atomwise.0.pkl\n",
      "/g/g13/jones289/workspace/hd-cuda-master/hdpy/hdpy/results/4/sider.task_19.scaffold.selfies.atomwise.0.pkl\n",
      "/g/g13/jones289/workspace/hd-cuda-master/hdpy/hdpy/results/4/sider.task_3.scaffold.selfies.atomwise.0.pkl\n",
      "/g/g13/jones289/workspace/hd-cuda-master/hdpy/hdpy/results/4/sider.task_2.scaffold.selfies.atomwise.0.pkl\n",
      "/g/g13/jones289/workspace/hd-cuda-master/hdpy/hdpy/results/4/sider.task_26.scaffold.selfies.atomwise.0.pkl\n"
     ]
    },
    {
     "name": "stderr",
     "output_type": "stream",
     "text": [
      "\r",
      " 96%|█████████▋| 26/27 [00:00<00:00, 46.48it/s]"
     ]
    },
    {
     "name": "stdout",
     "output_type": "stream",
     "text": [
      "/g/g13/jones289/workspace/hd-cuda-master/hdpy/hdpy/results/4/sider.task_18.scaffold.selfies.atomwise.0.pkl\n"
     ]
    },
    {
     "name": "stderr",
     "output_type": "stream",
     "text": [
      "100%|██████████| 27/27 [00:00<00:00, 48.25it/s]\n"
     ]
    },
    {
     "name": "stdout",
     "output_type": "stream",
     "text": [
      "ecfp-scaffold-27\n"
     ]
    },
    {
     "name": "stderr",
     "output_type": "stream",
     "text": [
      "\r",
      "  0%|          | 0/27 [00:00<?, ?it/s]"
     ]
    },
    {
     "name": "stdout",
     "output_type": "stream",
     "text": [
      "/g/g13/jones289/workspace/hd-cuda-master/hdpy/hdpy/results/4/sider.task_5.scaffold.ecfp.atomwise.0.pkl\n",
      "/g/g13/jones289/workspace/hd-cuda-master/hdpy/hdpy/results/4/sider.task_14.scaffold.ecfp.atomwise.0.pkl\n",
      "/g/g13/jones289/workspace/hd-cuda-master/hdpy/hdpy/results/4/sider.task_23.scaffold.ecfp.atomwise.0.pkl\n"
     ]
    },
    {
     "name": "stderr",
     "output_type": "stream",
     "text": [
      "\r",
      " 22%|██▏       | 6/27 [00:00<00:00, 58.78it/s]"
     ]
    },
    {
     "name": "stdout",
     "output_type": "stream",
     "text": [
      "/g/g13/jones289/workspace/hd-cuda-master/hdpy/hdpy/results/4/sider.task_4.scaffold.ecfp.atomwise.0.pkl\n",
      "/g/g13/jones289/workspace/hd-cuda-master/hdpy/hdpy/results/4/sider.task_22.scaffold.ecfp.atomwise.0.pkl\n",
      "/g/g13/jones289/workspace/hd-cuda-master/hdpy/hdpy/results/4/sider.task_15.scaffold.ecfp.atomwise.0.pkl\n",
      "/g/g13/jones289/workspace/hd-cuda-master/hdpy/hdpy/results/4/sider.task_16.scaffold.ecfp.atomwise.0.pkl\n",
      "/g/g13/jones289/workspace/hd-cuda-master/hdpy/hdpy/results/4/sider.task_21.scaffold.ecfp.atomwise.0.pkl\n",
      "/g/g13/jones289/workspace/hd-cuda-master/hdpy/hdpy/results/4/sider.task_9.scaffold.ecfp.atomwise.0.pkl\n",
      "/g/g13/jones289/workspace/hd-cuda-master/hdpy/hdpy/results/4/sider.task_18.scaffold.ecfp.atomwise.0.pkl\n"
     ]
    },
    {
     "name": "stderr",
     "output_type": "stream",
     "text": [
      "\r",
      " 44%|████▍     | 12/27 [00:00<00:00, 52.30it/s]"
     ]
    },
    {
     "name": "stdout",
     "output_type": "stream",
     "text": [
      "/g/g13/jones289/workspace/hd-cuda-master/hdpy/hdpy/results/4/sider.task_7.scaffold.ecfp.atomwise.0.pkl\n",
      "/g/g13/jones289/workspace/hd-cuda-master/hdpy/hdpy/results/4/sider.task_20.scaffold.ecfp.atomwise.0.pkl\n",
      "/g/g13/jones289/workspace/hd-cuda-master/hdpy/hdpy/results/4/sider.task_8.scaffold.ecfp.atomwise.0.pkl\n"
     ]
    },
    {
     "name": "stderr",
     "output_type": "stream",
     "text": [
      "\r",
      " 67%|██████▋   | 18/27 [00:00<00:00, 54.50it/s]"
     ]
    },
    {
     "name": "stdout",
     "output_type": "stream",
     "text": [
      "/g/g13/jones289/workspace/hd-cuda-master/hdpy/hdpy/results/4/sider.task_17.scaffold.ecfp.atomwise.0.pkl\n",
      "/g/g13/jones289/workspace/hd-cuda-master/hdpy/hdpy/results/4/sider.task_6.scaffold.ecfp.atomwise.0.pkl\n",
      "/g/g13/jones289/workspace/hd-cuda-master/hdpy/hdpy/results/4/sider.task_19.scaffold.ecfp.atomwise.0.pkl\n",
      "/g/g13/jones289/workspace/hd-cuda-master/hdpy/hdpy/results/4/sider.task_11.scaffold.ecfp.atomwise.0.pkl\n",
      "/g/g13/jones289/workspace/hd-cuda-master/hdpy/hdpy/results/4/sider.task_26.scaffold.ecfp.atomwise.0.pkl\n",
      "/g/g13/jones289/workspace/hd-cuda-master/hdpy/hdpy/results/4/sider.task_0.scaffold.ecfp.atomwise.0.pkl\n",
      "/g/g13/jones289/workspace/hd-cuda-master/hdpy/hdpy/results/4/sider.task_10.scaffold.ecfp.atomwise.0.pkl\n",
      "/g/g13/jones289/workspace/hd-cuda-master/hdpy/hdpy/results/4/sider.task_1.scaffold.ecfp.atomwise.0.pkl\n",
      "/g/g13/jones289/workspace/hd-cuda-master/hdpy/hdpy/results/4/sider.task_2.scaffold.ecfp.atomwise.0.pkl\n",
      "/g/g13/jones289/workspace/hd-cuda-master/hdpy/hdpy/results/4/sider.task_13.scaffold.ecfp.atomwise.0.pkl\n",
      "/g/g13/jones289/workspace/hd-cuda-master/hdpy/hdpy/results/4/sider.task_24.scaffold.ecfp.atomwise.0.pkl\n"
     ]
    },
    {
     "name": "stderr",
     "output_type": "stream",
     "text": [
      "100%|██████████| 27/27 [00:00<00:00, 51.24it/s]\n"
     ]
    },
    {
     "name": "stdout",
     "output_type": "stream",
     "text": [
      "/g/g13/jones289/workspace/hd-cuda-master/hdpy/hdpy/results/4/sider.task_3.scaffold.ecfp.atomwise.0.pkl\n",
      "/g/g13/jones289/workspace/hd-cuda-master/hdpy/hdpy/results/4/sider.task_25.scaffold.ecfp.atomwise.0.pkl\n",
      "/g/g13/jones289/workspace/hd-cuda-master/hdpy/hdpy/results/4/sider.task_12.scaffold.ecfp.atomwise.0.pkl\n",
      "rp-scaffold-27\n"
     ]
    },
    {
     "name": "stderr",
     "output_type": "stream",
     "text": [
      "\r",
      "  0%|          | 0/27 [00:00<?, ?it/s]"
     ]
    },
    {
     "name": "stdout",
     "output_type": "stream",
     "text": [
      "/g/g13/jones289/workspace/hd-cuda-master/hdpy/hdpy/results/4/sider.task_2.scaffold.rp.atomwise.0.pkl\n",
      "/g/g13/jones289/workspace/hd-cuda-master/hdpy/hdpy/results/4/sider.task_16.scaffold.rp.atomwise.0.pkl\n",
      "/g/g13/jones289/workspace/hd-cuda-master/hdpy/hdpy/results/4/sider.task_22.scaffold.rp.atomwise.0.pkl\n",
      "/g/g13/jones289/workspace/hd-cuda-master/hdpy/hdpy/results/4/sider.task_17.scaffold.rp.atomwise.0.pkl\n",
      "/g/g13/jones289/workspace/hd-cuda-master/hdpy/hdpy/results/4/sider.task_3.scaffold.rp.atomwise.0.pkl\n",
      "/g/g13/jones289/workspace/hd-cuda-master/hdpy/hdpy/results/4/sider.task_23.scaffold.rp.atomwise.0.pkl\n"
     ]
    },
    {
     "name": "stderr",
     "output_type": "stream",
     "text": [
      "\r",
      " 26%|██▌       | 7/27 [00:00<00:00, 65.30it/s]"
     ]
    },
    {
     "name": "stdout",
     "output_type": "stream",
     "text": [
      "/g/g13/jones289/workspace/hd-cuda-master/hdpy/hdpy/results/4/sider.task_1.scaffold.rp.atomwise.0.pkl\n",
      "/g/g13/jones289/workspace/hd-cuda-master/hdpy/hdpy/results/4/sider.task_15.scaffold.rp.atomwise.0.pkl\n",
      "/g/g13/jones289/workspace/hd-cuda-master/hdpy/hdpy/results/4/sider.task_21.scaffold.rp.atomwise.0.pkl\n",
      "/g/g13/jones289/workspace/hd-cuda-master/hdpy/hdpy/results/4/sider.task_9.scaffold.rp.atomwise.0.pkl\n",
      "/g/g13/jones289/workspace/hd-cuda-master/hdpy/hdpy/results/4/sider.task_8.scaffold.rp.atomwise.0.pkl\n",
      "/g/g13/jones289/workspace/hd-cuda-master/hdpy/hdpy/results/4/sider.task_14.scaffold.rp.atomwise.0.pkl\n",
      "/g/g13/jones289/workspace/hd-cuda-master/hdpy/hdpy/results/4/sider.task_0.scaffold.rp.atomwise.0.pkl\n"
     ]
    },
    {
     "name": "stderr",
     "output_type": "stream",
     "text": [
      "\r",
      " 52%|█████▏    | 14/27 [00:00<00:00, 42.79it/s]"
     ]
    },
    {
     "name": "stdout",
     "output_type": "stream",
     "text": [
      "/g/g13/jones289/workspace/hd-cuda-master/hdpy/hdpy/results/4/sider.task_20.scaffold.rp.atomwise.0.pkl\n",
      "/g/g13/jones289/workspace/hd-cuda-master/hdpy/hdpy/results/4/sider.task_11.scaffold.rp.atomwise.0.pkl\n",
      "/g/g13/jones289/workspace/hd-cuda-master/hdpy/hdpy/results/4/sider.task_5.scaffold.rp.atomwise.0.pkl\n",
      "/g/g13/jones289/workspace/hd-cuda-master/hdpy/hdpy/results/4/sider.task_25.scaffold.rp.atomwise.0.pkl\n"
     ]
    },
    {
     "name": "stderr",
     "output_type": "stream",
     "text": [
      "\r",
      " 78%|███████▊  | 21/27 [00:00<00:00, 48.80it/s]"
     ]
    },
    {
     "name": "stdout",
     "output_type": "stream",
     "text": [
      "/g/g13/jones289/workspace/hd-cuda-master/hdpy/hdpy/results/4/sider.task_19.scaffold.rp.atomwise.0.pkl\n",
      "/g/g13/jones289/workspace/hd-cuda-master/hdpy/hdpy/results/4/sider.task_18.scaffold.rp.atomwise.0.pkl\n",
      "/g/g13/jones289/workspace/hd-cuda-master/hdpy/hdpy/results/4/sider.task_4.scaffold.rp.atomwise.0.pkl\n",
      "/g/g13/jones289/workspace/hd-cuda-master/hdpy/hdpy/results/4/sider.task_10.scaffold.rp.atomwise.0.pkl\n",
      "/g/g13/jones289/workspace/hd-cuda-master/hdpy/hdpy/results/4/sider.task_24.scaffold.rp.atomwise.0.pkl\n",
      "/g/g13/jones289/workspace/hd-cuda-master/hdpy/hdpy/results/4/sider.task_12.scaffold.rp.atomwise.0.pkl\n",
      "/g/g13/jones289/workspace/hd-cuda-master/hdpy/hdpy/results/4/sider.task_6.scaffold.rp.atomwise.0.pkl\n",
      "/g/g13/jones289/workspace/hd-cuda-master/hdpy/hdpy/results/4/sider.task_26.scaffold.rp.atomwise.0.pkl\n",
      "/g/g13/jones289/workspace/hd-cuda-master/hdpy/hdpy/results/4/sider.task_7.scaffold.rp.atomwise.0.pkl\n"
     ]
    },
    {
     "name": "stderr",
     "output_type": "stream",
     "text": [
      "100%|██████████| 27/27 [00:00<00:00, 47.53it/s]\n"
     ]
    },
    {
     "name": "stdout",
     "output_type": "stream",
     "text": [
      "/g/g13/jones289/workspace/hd-cuda-master/hdpy/hdpy/results/4/sider.task_13.scaffold.rp.atomwise.0.pkl\n",
      "rf-scaffold-27\n"
     ]
    },
    {
     "name": "stderr",
     "output_type": "stream",
     "text": [
      "\r",
      "  0%|          | 0/27 [00:00<?, ?it/s]"
     ]
    },
    {
     "name": "stdout",
     "output_type": "stream",
     "text": [
      "/g/g13/jones289/workspace/hd-cuda-master/hdpy/hdpy/results/4/sider.task_6.scaffold.rf.None.0.pkl\n",
      "/g/g13/jones289/workspace/hd-cuda-master/hdpy/hdpy/results/4/sider.task_22.scaffold.rf.None.0.pkl\n",
      "/g/g13/jones289/workspace/hd-cuda-master/hdpy/hdpy/results/4/sider.task_10.scaffold.rf.None.0.pkl\n",
      "/g/g13/jones289/workspace/hd-cuda-master/hdpy/hdpy/results/4/sider.task_11.scaffold.rf.None.0.pkl\n",
      "/g/g13/jones289/workspace/hd-cuda-master/hdpy/hdpy/results/4/sider.task_7.scaffold.rf.None.0.pkl\n",
      "/g/g13/jones289/workspace/hd-cuda-master/hdpy/hdpy/results/4/sider.task_23.scaffold.rf.None.0.pkl\n",
      "/g/g13/jones289/workspace/hd-cuda-master/hdpy/hdpy/results/4/sider.task_21.scaffold.rf.None.0.pkl\n"
     ]
    },
    {
     "name": "stderr",
     "output_type": "stream",
     "text": [
      "\r",
      " 33%|███▎      | 9/27 [00:00<00:00, 86.89it/s]"
     ]
    },
    {
     "name": "stdout",
     "output_type": "stream",
     "text": [
      "/g/g13/jones289/workspace/hd-cuda-master/hdpy/hdpy/results/4/sider.task_5.scaffold.rf.None.0.pkl\n",
      "/g/g13/jones289/workspace/hd-cuda-master/hdpy/hdpy/results/4/sider.task_13.scaffold.rf.None.0.pkl\n",
      "/g/g13/jones289/workspace/hd-cuda-master/hdpy/hdpy/results/4/sider.task_18.scaffold.rf.None.0.pkl\n",
      "/g/g13/jones289/workspace/hd-cuda-master/hdpy/hdpy/results/4/sider.task_19.scaffold.rf.None.0.pkl\n",
      "/g/g13/jones289/workspace/hd-cuda-master/hdpy/hdpy/results/4/sider.task_12.scaffold.rf.None.0.pkl\n",
      "/g/g13/jones289/workspace/hd-cuda-master/hdpy/hdpy/results/4/sider.task_20.scaffold.rf.None.0.pkl\n",
      "/g/g13/jones289/workspace/hd-cuda-master/hdpy/hdpy/results/4/sider.task_4.scaffold.rf.None.0.pkl\n",
      "/g/g13/jones289/workspace/hd-cuda-master/hdpy/hdpy/results/4/sider.task_16.scaffold.rf.None.0.pkl\n",
      "/g/g13/jones289/workspace/hd-cuda-master/hdpy/hdpy/results/4/sider.task_0.scaffold.rf.None.0.pkl\n",
      "/g/g13/jones289/workspace/hd-cuda-master/hdpy/hdpy/results/4/sider.task_24.scaffold.rf.None.0.pkl\n",
      "/g/g13/jones289/workspace/hd-cuda-master/hdpy/hdpy/results/4/sider.task_1.scaffold.rf.None.0.pkl\n"
     ]
    },
    {
     "name": "stderr",
     "output_type": "stream",
     "text": [
      "\r",
      " 67%|██████▋   | 18/27 [00:00<00:00, 88.62it/s]"
     ]
    },
    {
     "name": "stdout",
     "output_type": "stream",
     "text": [
      "/g/g13/jones289/workspace/hd-cuda-master/hdpy/hdpy/results/4/sider.task_25.scaffold.rf.None.0.pkl\n",
      "/g/g13/jones289/workspace/hd-cuda-master/hdpy/hdpy/results/4/sider.task_17.scaffold.rf.None.0.pkl\n",
      "/g/g13/jones289/workspace/hd-cuda-master/hdpy/hdpy/results/4/sider.task_15.scaffold.rf.None.0.pkl\n",
      "/g/g13/jones289/workspace/hd-cuda-master/hdpy/hdpy/results/4/sider.task_8.scaffold.rf.None.0.pkl\n",
      "/g/g13/jones289/workspace/hd-cuda-master/hdpy/hdpy/results/4/sider.task_3.scaffold.rf.None.0.pkl\n",
      "/g/g13/jones289/workspace/hd-cuda-master/hdpy/hdpy/results/4/sider.task_26.scaffold.rf.None.0.pkl\n",
      "/g/g13/jones289/workspace/hd-cuda-master/hdpy/hdpy/results/4/sider.task_2.scaffold.rf.None.0.pkl\n"
     ]
    },
    {
     "name": "stderr",
     "output_type": "stream",
     "text": [
      "100%|██████████| 27/27 [00:00<00:00, 88.59it/s]\n"
     ]
    },
    {
     "name": "stdout",
     "output_type": "stream",
     "text": [
      "/g/g13/jones289/workspace/hd-cuda-master/hdpy/hdpy/results/4/sider.task_9.scaffold.rf.None.0.pkl\n",
      "/g/g13/jones289/workspace/hd-cuda-master/hdpy/hdpy/results/4/sider.task_14.scaffold.rf.None.0.pkl\n",
      "mlp-scaffold-27\n"
     ]
    },
    {
     "name": "stderr",
     "output_type": "stream",
     "text": [
      "\r",
      "  0%|          | 0/27 [00:00<?, ?it/s]"
     ]
    },
    {
     "name": "stdout",
     "output_type": "stream",
     "text": [
      "/g/g13/jones289/workspace/hd-cuda-master/hdpy/hdpy/results/4/sider.task_6.scaffold.mlp.None.0.pkl\n",
      "/g/g13/jones289/workspace/hd-cuda-master/hdpy/hdpy/results/4/sider.task_24.scaffold.mlp.None.0.pkl\n",
      "/g/g13/jones289/workspace/hd-cuda-master/hdpy/hdpy/results/4/sider.task_10.scaffold.mlp.None.0.pkl\n",
      "/g/g13/jones289/workspace/hd-cuda-master/hdpy/hdpy/results/4/sider.task_14.scaffold.mlp.None.0.pkl\n"
     ]
    },
    {
     "name": "stderr",
     "output_type": "stream",
     "text": [
      "\r",
      " 15%|█▍        | 4/27 [00:00<00:00, 33.12it/s]"
     ]
    },
    {
     "name": "stdout",
     "output_type": "stream",
     "text": [
      "/g/g13/jones289/workspace/hd-cuda-master/hdpy/hdpy/results/4/sider.task_20.scaffold.mlp.None.0.pkl\n",
      "/g/g13/jones289/workspace/hd-cuda-master/hdpy/hdpy/results/4/sider.task_2.scaffold.mlp.None.0.pkl\n",
      "/g/g13/jones289/workspace/hd-cuda-master/hdpy/hdpy/results/4/sider.task_18.scaffold.mlp.None.0.pkl\n"
     ]
    },
    {
     "name": "stderr",
     "output_type": "stream",
     "text": [
      "\r",
      " 30%|██▉       | 8/27 [00:00<00:00, 32.39it/s]"
     ]
    },
    {
     "name": "stdout",
     "output_type": "stream",
     "text": [
      "/g/g13/jones289/workspace/hd-cuda-master/hdpy/hdpy/results/4/sider.task_9.scaffold.mlp.None.0.pkl\n",
      "/g/g13/jones289/workspace/hd-cuda-master/hdpy/hdpy/results/4/sider.task_13.scaffold.mlp.None.0.pkl\n",
      "/g/g13/jones289/workspace/hd-cuda-master/hdpy/hdpy/results/4/sider.task_5.scaffold.mlp.None.0.pkl\n",
      "/g/g13/jones289/workspace/hd-cuda-master/hdpy/hdpy/results/4/sider.task_1.scaffold.mlp.None.0.pkl\n"
     ]
    },
    {
     "name": "stderr",
     "output_type": "stream",
     "text": [
      "\r",
      " 44%|████▍     | 12/27 [00:00<00:00, 30.98it/s]"
     ]
    },
    {
     "name": "stdout",
     "output_type": "stream",
     "text": [
      "/g/g13/jones289/workspace/hd-cuda-master/hdpy/hdpy/results/4/sider.task_23.scaffold.mlp.None.0.pkl\n",
      "/g/g13/jones289/workspace/hd-cuda-master/hdpy/hdpy/results/4/sider.task_17.scaffold.mlp.None.0.pkl\n",
      "/g/g13/jones289/workspace/hd-cuda-master/hdpy/hdpy/results/4/sider.task_19.scaffold.mlp.None.0.pkl\n"
     ]
    },
    {
     "name": "stderr",
     "output_type": "stream",
     "text": [
      "\r",
      " 59%|█████▉    | 16/27 [00:00<00:00, 32.60it/s]"
     ]
    },
    {
     "name": "stdout",
     "output_type": "stream",
     "text": [
      "/g/g13/jones289/workspace/hd-cuda-master/hdpy/hdpy/results/4/sider.task_11.scaffold.mlp.None.0.pkl\n",
      "/g/g13/jones289/workspace/hd-cuda-master/hdpy/hdpy/results/4/sider.task_7.scaffold.mlp.None.0.pkl\n",
      "/g/g13/jones289/workspace/hd-cuda-master/hdpy/hdpy/results/4/sider.task_25.scaffold.mlp.None.0.pkl\n",
      "/g/g13/jones289/workspace/hd-cuda-master/hdpy/hdpy/results/4/sider.task_21.scaffold.mlp.None.0.pkl\n",
      "/g/g13/jones289/workspace/hd-cuda-master/hdpy/hdpy/results/4/sider.task_3.scaffold.mlp.None.0.pkl\n",
      "/g/g13/jones289/workspace/hd-cuda-master/hdpy/hdpy/results/4/sider.task_15.scaffold.mlp.None.0.pkl\n"
     ]
    },
    {
     "name": "stderr",
     "output_type": "stream",
     "text": [
      "\r",
      " 74%|███████▍  | 20/27 [00:00<00:00, 31.22it/s]"
     ]
    },
    {
     "name": "stdout",
     "output_type": "stream",
     "text": [
      "/g/g13/jones289/workspace/hd-cuda-master/hdpy/hdpy/results/4/sider.task_26.scaffold.mlp.None.0.pkl\n",
      "/g/g13/jones289/workspace/hd-cuda-master/hdpy/hdpy/results/4/sider.task_4.scaffold.mlp.None.0.pkl\n",
      "/g/g13/jones289/workspace/hd-cuda-master/hdpy/hdpy/results/4/sider.task_12.scaffold.mlp.None.0.pkl\n",
      "/g/g13/jones289/workspace/hd-cuda-master/hdpy/hdpy/results/4/sider.task_16.scaffold.mlp.None.0.pkl\n"
     ]
    },
    {
     "name": "stderr",
     "output_type": "stream",
     "text": [
      "\r",
      " 89%|████████▉ | 24/27 [00:00<00:00, 31.79it/s]"
     ]
    },
    {
     "name": "stdout",
     "output_type": "stream",
     "text": [
      "/g/g13/jones289/workspace/hd-cuda-master/hdpy/hdpy/results/4/sider.task_0.scaffold.mlp.None.0.pkl\n",
      "/g/g13/jones289/workspace/hd-cuda-master/hdpy/hdpy/results/4/sider.task_22.scaffold.mlp.None.0.pkl\n",
      "/g/g13/jones289/workspace/hd-cuda-master/hdpy/hdpy/results/4/sider.task_8.scaffold.mlp.None.0.pkl\n"
     ]
    },
    {
     "name": "stderr",
     "output_type": "stream",
     "text": [
      "\r",
      "100%|██████████| 27/27 [00:00<00:00, 31.59it/s]"
     ]
    },
    {
     "name": "stdout",
     "output_type": "stream",
     "text": [
      "(378, 4)\n"
     ]
    },
    {
     "name": "stderr",
     "output_type": "stream",
     "text": [
      "\n"
     ]
    },
    {
     "data": {
      "image/png": "[encoded data removed]",
      "text/plain": [
       "<Figure size 1152x432 with 2 Axes>"
      ]
     },
     "metadata": {
      "needs_background": "light"
     },
     "output_type": "display_data"
    }
   ],
   "source": [
    "sider_main()"
   ]
  },
  {
   "cell_type": "code",
   "execution_count": 35,
   "metadata": {},
   "outputs": [],
   "source": [
    "def clintox_main():    \n",
    "    \n",
    "    clintox_f, clintox_ax = plt.subplots(1,2, figsize=(16,6), sharex=True, sharey=True)\n",
    "    \n",
    "    for split_type, ax in [(\"random\", clintox_ax[0]), (\"scaffold\", clintox_ax[1])]:\n",
    "        model_dict = {\"model\": [], \"task\": [], \"roc-auc-mean\": [], \"roc-auc-std\": []}\n",
    "        ax.set_title(split_type.capitalize())\n",
    "\n",
    "        for model, color in color_dict.items():\n",
    "\n",
    "            data_path_list = list(data_p.glob(f\"clintox.task_0.{split_type}.{model}*.pkl\"))        \n",
    "\n",
    "            for path in tqdm(data_path_list):\n",
    "                with open(path, \"rb\") as handle:\n",
    "\n",
    "                    data = pickle.load(handle)\n",
    "                    name = str(path.name).split('.')[-2]\n",
    "\n",
    "\n",
    "                    task = int(str(path.name).split('.')[1].split('_')[-1])\n",
    "                    roc_auc_mean, roc_auc_std = compute_average_roc_from_pkl(path)\n",
    "\n",
    "\n",
    "                    model_dict[\"model\"].append(model)\n",
    "                    model_dict[\"task\"].append(task)\n",
    "                    model_dict[\"roc-auc-mean\"].append(roc_auc_mean)\n",
    "                    model_dict[\"roc-auc-std\"].append(roc_auc_std)\n",
    "\n",
    "\n",
    "        df = pd.DataFrame(model_dict)\n",
    "        df[\"model_name\"] = df[\"model\"].apply(lambda x: model_name_dict[x])\n",
    "        df[\"color\"] = df[\"model\"].apply(lambda x: color_dict[x])\n",
    "\n",
    "        bars = ax.bar(data=df, x=\"model\", height=\"roc-auc-mean\", yerr=\"roc-auc-std\", color=[color_dict[x] for x in df['model'].values],\n",
    "                     hatch=\"x\")\n",
    "        ax.tick_params(axis=\"x\", labelrotation=25)\n",
    "        ax.set_xticklabels([model_name_dict[x] for x in df['model'].values])\n",
    "\n",
    "    clintox_ax[0].set_ylabel(\"ROC-AUC\")\n",
    "\n",
    "        \n",
    "    plt.tight_layout()\n",
    "    clintox_f.savefig(f\"clintox_roc.png\", dpi=600, bbox_inches=\"tight\")\n"
   ]
  },
  {
   "cell_type": "code",
   "execution_count": 36,
   "metadata": {},
   "outputs": [
    {
     "name": "stderr",
     "output_type": "stream",
     "text": [
      "100%|██████████| 1/1 [00:00<00:00, 33.05it/s]\n"
     ]
    },
    {
     "name": "stdout",
     "output_type": "stream",
     "text": [
      "/g/g13/jones289/workspace/hd-cuda-master/hdpy/hdpy/results/4/clintox.task_0.random.smiles-pe.atomwise.0.pkl\n"
     ]
    },
    {
     "name": "stderr",
     "output_type": "stream",
     "text": [
      "100%|██████████| 1/1 [00:00<00:00, 27.55it/s]\n"
     ]
    },
    {
     "name": "stdout",
     "output_type": "stream",
     "text": [
      "/g/g13/jones289/workspace/hd-cuda-master/hdpy/hdpy/results/4/clintox.task_0.random.smiles-pe.bpe.0.pkl\n"
     ]
    },
    {
     "name": "stderr",
     "output_type": "stream",
     "text": [
      "100%|██████████| 1/1 [00:00<00:00, 33.29it/s]\n"
     ]
    },
    {
     "name": "stdout",
     "output_type": "stream",
     "text": [
      "/g/g13/jones289/workspace/hd-cuda-master/hdpy/hdpy/results/4/clintox.task_0.random.selfies.atomwise.0.pkl\n"
     ]
    },
    {
     "name": "stderr",
     "output_type": "stream",
     "text": [
      "100%|██████████| 1/1 [00:00<00:00, 33.73it/s]\n"
     ]
    },
    {
     "name": "stdout",
     "output_type": "stream",
     "text": [
      "/g/g13/jones289/workspace/hd-cuda-master/hdpy/hdpy/results/4/clintox.task_0.random.ecfp.atomwise.0.pkl\n"
     ]
    },
    {
     "name": "stderr",
     "output_type": "stream",
     "text": [
      "100%|██████████| 1/1 [00:00<00:00, 29.06it/s]\n"
     ]
    },
    {
     "name": "stdout",
     "output_type": "stream",
     "text": [
      "/g/g13/jones289/workspace/hd-cuda-master/hdpy/hdpy/results/4/clintox.task_0.random.rp.atomwise.0.pkl\n"
     ]
    },
    {
     "name": "stderr",
     "output_type": "stream",
     "text": [
      "100%|██████████| 1/1 [00:00<00:00, 81.76it/s]\n"
     ]
    },
    {
     "name": "stdout",
     "output_type": "stream",
     "text": [
      "/g/g13/jones289/workspace/hd-cuda-master/hdpy/hdpy/results/4/clintox.task_0.random.rf.None.0.pkl\n"
     ]
    },
    {
     "name": "stderr",
     "output_type": "stream",
     "text": [
      "\r",
      "  0%|          | 0/1 [00:00<?, ?it/s]"
     ]
    },
    {
     "name": "stdout",
     "output_type": "stream",
     "text": [
      "/g/g13/jones289/workspace/hd-cuda-master/hdpy/hdpy/results/4/clintox.task_0.random.mlp.None.0.pkl\n"
     ]
    },
    {
     "name": "stderr",
     "output_type": "stream",
     "text": [
      "100%|██████████| 1/1 [00:00<00:00, 32.65it/s]\n",
      "/tmp/ipykernel_2299244/2990216876.py:37: UserWarning: FixedFormatter should only be used together with FixedLocator\n",
      "  ax.set_xticklabels([model_name_dict[x] for x in df['model'].values])\n",
      "100%|██████████| 1/1 [00:00<00:00, 76.65it/s]\n"
     ]
    },
    {
     "name": "stdout",
     "output_type": "stream",
     "text": [
      "/g/g13/jones289/workspace/hd-cuda-master/hdpy/hdpy/results/4/clintox.task_0.scaffold.smiles-pe.atomwise.0.pkl\n"
     ]
    },
    {
     "name": "stderr",
     "output_type": "stream",
     "text": [
      "100%|██████████| 1/1 [00:00<00:00, 86.85it/s]\n"
     ]
    },
    {
     "name": "stdout",
     "output_type": "stream",
     "text": [
      "/g/g13/jones289/workspace/hd-cuda-master/hdpy/hdpy/results/4/clintox.task_0.scaffold.smiles-pe.bpe.0.pkl\n"
     ]
    },
    {
     "name": "stderr",
     "output_type": "stream",
     "text": [
      "100%|██████████| 1/1 [00:00<00:00, 82.44it/s]\n"
     ]
    },
    {
     "name": "stdout",
     "output_type": "stream",
     "text": [
      "/g/g13/jones289/workspace/hd-cuda-master/hdpy/hdpy/results/4/clintox.task_0.scaffold.selfies.atomwise.0.pkl\n"
     ]
    },
    {
     "name": "stderr",
     "output_type": "stream",
     "text": [
      "100%|██████████| 1/1 [00:00<00:00, 78.59it/s]\n"
     ]
    },
    {
     "name": "stdout",
     "output_type": "stream",
     "text": [
      "/g/g13/jones289/workspace/hd-cuda-master/hdpy/hdpy/results/4/clintox.task_0.scaffold.ecfp.atomwise.0.pkl\n"
     ]
    },
    {
     "name": "stderr",
     "output_type": "stream",
     "text": [
      "100%|██████████| 1/1 [00:00<00:00, 76.97it/s]\n"
     ]
    },
    {
     "name": "stdout",
     "output_type": "stream",
     "text": [
      "/g/g13/jones289/workspace/hd-cuda-master/hdpy/hdpy/results/4/clintox.task_0.scaffold.rp.atomwise.0.pkl\n"
     ]
    },
    {
     "name": "stderr",
     "output_type": "stream",
     "text": [
      "100%|██████████| 1/1 [00:00<00:00, 78.42it/s]\n"
     ]
    },
    {
     "name": "stdout",
     "output_type": "stream",
     "text": [
      "/g/g13/jones289/workspace/hd-cuda-master/hdpy/hdpy/results/4/clintox.task_0.scaffold.rf.None.0.pkl\n"
     ]
    },
    {
     "name": "stderr",
     "output_type": "stream",
     "text": [
      "\r",
      "  0%|          | 0/1 [00:00<?, ?it/s]"
     ]
    },
    {
     "name": "stdout",
     "output_type": "stream",
     "text": [
      "/g/g13/jones289/workspace/hd-cuda-master/hdpy/hdpy/results/4/clintox.task_0.scaffold.mlp.None.0.pkl\n"
     ]
    },
    {
     "name": "stderr",
     "output_type": "stream",
     "text": [
      "100%|██████████| 1/1 [00:00<00:00, 33.77it/s]\n",
      "/tmp/ipykernel_2299244/2990216876.py:37: UserWarning: FixedFormatter should only be used together with FixedLocator\n",
      "  ax.set_xticklabels([model_name_dict[x] for x in df['model'].values])\n"
     ]
    },
    {
     "data": {
      "image/png": "[encoded data removed]",
      "text/plain": [
       "<Figure size 1152x432 with 2 Axes>"
      ]
     },
     "metadata": {
      "needs_background": "light"
     },
     "output_type": "display_data"
    }
   ],
   "source": [
    "clintox_main()"
   ]
  },
  {
   "cell_type": "markdown",
   "metadata": {},
   "source": [
    "I wonder if there is a bias in the smiles string itself that separates the positive from negative classes almost linearly? Especially since the raw smiles uni-gram model is the best here?"
   ]
  },
  {
   "cell_type": "code",
   "execution_count": null,
   "metadata": {},
   "outputs": [],
   "source": []
  },
  {
   "cell_type": "code",
   "execution_count": null,
   "metadata": {},
   "outputs": [],
   "source": []
  },
  {
   "cell_type": "code",
   "execution_count": null,
   "metadata": {},
   "outputs": [],
   "source": []
  }
 ],
 "metadata": {
  "kernelspec": {
   "display_name": "dtra_reactivator",
   "language": "python",
   "name": "dtra_reactivator"
  },
  "language_info": {
   "codemirror_mode": {
    "name": "ipython",
    "version": 3
   },
   "file_extension": ".py",
   "mimetype": "text/x-python",
   "name": "python",
   "nbconvert_exporter": "python",
   "pygments_lexer": "ipython3",
   "version": "3.8.12"
  }
 },
 "nbformat": 4,
 "nbformat_minor": 4
}
