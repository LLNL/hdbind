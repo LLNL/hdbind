{
 "cells": [
  {
   "cell_type": "markdown",
   "metadata": {},
   "source": [
    "These are moleculeNet benchmarks meant to sanity check our approaches"
   ]
  },
  {
   "cell_type": "code",
   "execution_count": 1,
   "metadata": {},
   "outputs": [
    {
     "data": {
      "text/html": [
       "<svg  width=\"715\" height=\"55\"><rect x=\"0\" y=\"0\" width=\"55\" height=\"55\" style=\"fill:#0173b2;stroke-width:2;stroke:rgb(255,255,255)\"/><rect x=\"55\" y=\"0\" width=\"55\" height=\"55\" style=\"fill:#de8f05;stroke-width:2;stroke:rgb(255,255,255)\"/><rect x=\"110\" y=\"0\" width=\"55\" height=\"55\" style=\"fill:#029e73;stroke-width:2;stroke:rgb(255,255,255)\"/><rect x=\"165\" y=\"0\" width=\"55\" height=\"55\" style=\"fill:#d55e00;stroke-width:2;stroke:rgb(255,255,255)\"/><rect x=\"220\" y=\"0\" width=\"55\" height=\"55\" style=\"fill:#cc78bc;stroke-width:2;stroke:rgb(255,255,255)\"/><rect x=\"275\" y=\"0\" width=\"55\" height=\"55\" style=\"fill:#ca9161;stroke-width:2;stroke:rgb(255,255,255)\"/><rect x=\"330\" y=\"0\" width=\"55\" height=\"55\" style=\"fill:#fbafe4;stroke-width:2;stroke:rgb(255,255,255)\"/><rect x=\"385\" y=\"0\" width=\"55\" height=\"55\" style=\"fill:#949494;stroke-width:2;stroke:rgb(255,255,255)\"/><rect x=\"440\" y=\"0\" width=\"55\" height=\"55\" style=\"fill:#ece133;stroke-width:2;stroke:rgb(255,255,255)\"/><rect x=\"495\" y=\"0\" width=\"55\" height=\"55\" style=\"fill:#56b4e9;stroke-width:2;stroke:rgb(255,255,255)\"/><rect x=\"550\" y=\"0\" width=\"55\" height=\"55\" style=\"fill:#0173b2;stroke-width:2;stroke:rgb(255,255,255)\"/><rect x=\"605\" y=\"0\" width=\"55\" height=\"55\" style=\"fill:#de8f05;stroke-width:2;stroke:rgb(255,255,255)\"/><rect x=\"660\" y=\"0\" width=\"55\" height=\"55\" style=\"fill:#029e73;stroke-width:2;stroke:rgb(255,255,255)\"/></svg>"
      ],
      "text/plain": [
       "[(0.00392156862745098, 0.45098039215686275, 0.6980392156862745),\n",
       " (0.8705882352941177, 0.5607843137254902, 0.0196078431372549),\n",
       " (0.00784313725490196, 0.6196078431372549, 0.45098039215686275),\n",
       " (0.8352941176470589, 0.3686274509803922, 0.0),\n",
       " (0.8, 0.47058823529411764, 0.7372549019607844),\n",
       " (0.792156862745098, 0.5686274509803921, 0.3803921568627451),\n",
       " (0.984313725490196, 0.6862745098039216, 0.8941176470588236),\n",
       " (0.5803921568627451, 0.5803921568627451, 0.5803921568627451),\n",
       " (0.9254901960784314, 0.8823529411764706, 0.2),\n",
       " (0.33725490196078434, 0.7058823529411765, 0.9137254901960784),\n",
       " (0.00392156862745098, 0.45098039215686275, 0.6980392156862745),\n",
       " (0.8705882352941177, 0.5607843137254902, 0.0196078431372549),\n",
       " (0.00784313725490196, 0.6196078431372549, 0.45098039215686275)]"
      ]
     },
     "execution_count": 1,
     "metadata": {},
     "output_type": "execute_result"
    }
   ],
   "source": [
    "import matplotlib.pyplot as plt\n",
    "import pickle\n",
    "import seaborn as sns\n",
    "from sklearn.metrics import confusion_matrix, ConfusionMatrixDisplay\n",
    "from pathlib import Path\n",
    "import pandas as pd\n",
    "import numpy as np\n",
    "import io\n",
    "from tqdm import tqdm\n",
    "\n",
    "import sys\n",
    "sys.path.append(\"/g/g13/jones289/workspace/hd-cuda-master\")\n",
    "\n",
    "plt.rc('text', usetex=True)\n",
    "plt.rc('font', family='serif')\n",
    "plt.rc('xtick', labelsize=15)\n",
    "plt.rc('ytick', labelsize=15)\n",
    "plt.rc('axes', labelsize=15, titlesize=20)\n",
    "plt.rc('figure', titlesize=20)\n",
    "\n",
    "n_seed = 10\n",
    "data_p = Path(\"/p/lustre2/jones289/hd_results/125\")\n",
    "# data_p = Path(f\"/g/g13/jones289/workspace/hd-cuda-master/hdpy/hdpy/results/10\")\n",
    "# data_p = Path(f\"/g/g13/jones289/workspace/hd-cuda-master/hdpy/hdpy/results/4\")\n",
    "# data_p = Path(\"/usr/WS1/jones289/hd-cuda-master/hdpy/hdpy/before_rng_results/before_rng_results\")\n",
    "\n",
    "\n",
    "green_color_pal = sns.color_palette(\"Greens\", 10)\n",
    "blue_color_pal = sns.color_palette(\"Blues\", 10)\n",
    "rocket_color_pal = sns.color_palette(\"rocket\", 10)\n",
    "\n",
    "n_colors=13\n",
    "color_pal_list = [sns.color_palette(x[0], x[1]) for x in [(\"Spectral\", n_colors),\n",
    "                    (\"brg\", n_colors),\n",
    "                 (\"cool\", n_colors),\n",
    "                 (\"gist_rainbow\", n_colors),\n",
    "                 (\"hsv\", n_colors),\n",
    "                (\"colorblind\", n_colors)]]\n",
    "\n",
    "color_pal = color_pal_list[5]\n",
    "color_pal"
   ]
  },
  {
   "cell_type": "code",
   "execution_count": 2,
   "metadata": {},
   "outputs": [],
   "source": [
    "color_dict = {\"rp.molformer\": rocket_color_pal[0],\n",
    "             \"rp.ecfp\": rocket_color_pal[2],\n",
    "             \"smiles-pe\": rocket_color_pal[4]}\n",
    "#     \"smiles-pe.atomwise.0\": rocket_color_pal[2],\n",
    "#     \"smiles-pe.bpe.0\": rocket_color_pal[4],   \n",
    "#     \"smiles-pe.ngram.1\": color_pal[0],\n",
    "#     \"selfies.None\": \"purple\",\n",
    "# \"selfies.atomwise\": green_color_pal[4],\n",
    "#     \"selfies.selfies-charwise\": color_pal[2],\n",
    "#     \"ecfp\": green_color_pal[6],\n",
    "#     \"rp\": green_color_pal[8],\n",
    "#     \"rf\": blue_color_pal[4],\n",
    "#     \"openhd\": \"green\",\n",
    "#     \"mlp\": blue_color_pal[7],\n",
    "#     \"Vina\": color_pal[2]\n",
    "# }\n",
    "\n",
    "\n",
    "\n",
    "marker_dict = {\n",
    "        \"rp.molformer\": \"+\",\n",
    "            \"rp.ecfp\": \"*\",\n",
    "    \"smiles-pe\": \"^\",\n",
    "#     \"smiles-pe\": \"+\",\n",
    "#     \"smiles-pe.atomwise.0\": \"+\",\n",
    "#     \"smiles-pe.bpe.0\": \"+\",   \n",
    "#     \"smiles-pe.ngram.1\": \"+\",\n",
    "#     \"selfies.atomwise\": \"*\",\n",
    "#     \"selfies.selfies-charwise\": \"*\",\n",
    "#     \"ecfp\": \"+\",\n",
    "#     \"rp\": \"+\",\n",
    "#     \"rf\": \"^\",\n",
    "#     \"openhd\": \"*\",\n",
    "#     \"mlp\": \"+\",\n",
    "#     \"Vina\": \"+\"\n",
    "}\n",
    "\n",
    "\n",
    "model_order_list = [\n",
    "        (\"rp.molformer\", \"RP-MolFormer\"),\n",
    "    (\"rp.ecfp\", \"RP-ECFP\"),\n",
    "    (\"smiles-pe\", \"MoleHD\")\n",
    "#     (\"smiles-pe.atomwise.0\", \"MoleHD-Atomw.\"),\n",
    "#     (\"smiles-pe.bpe.0\", \"MoleHD-BPE\"),\n",
    "#     (\"smiles-pe.ngram.1\", \"SMILES uni-gram\"),\n",
    "#     (\"selfies.atomwise\", \"HDBind-SELFIES\"),\n",
    "#     (\"selfies.selfies-charwise\", \"SELFIES uni-gram\"),\n",
    "#     (\"ecfp\", \"HDBind-ECFP\"),\n",
    "#     (\"rp\", \"HDBind-RPFP\"),\n",
    "#     (\"rf\", \"RF\"),\n",
    "#     (\"mlp\", \"MLP\"),\n",
    "#     (\"Vina\", \"Vina\")\n",
    "]\n",
    "\n",
    "\n",
    "model_name_dict = {\"rp.molformer\": \"RP-MolFormer\",\n",
    "                   \"rp.ecfp\": \"RP-ECFP\",\n",
    "                   \"smiles-pe\": \"SMILES-pe\"\n",
    "#     \"smiles-pe.atomwise.0\": \"MoleHD-Atomw.\", \n",
    "#     \"smiles-pe.bpe.0\": \"MoleHD-BPE\",\n",
    "#     \"smiles-pe.ngram.1\": \"SMILES uni-gram\",\n",
    "#     \"selfies.atomwise\": \"HDBind-SELFIES\",\n",
    "#     \"selfies.selfies-charwise\": \"SELFIES uni-gram\",\n",
    "#     \"ecfp\": \"HDBind-ECFP\",\n",
    "#     \"rp\": \"HDBind-RPFP\",\n",
    "#     \"rf\": \"RF\",\n",
    "#     \"mlp\": \"MLP\",\n",
    "#     \"Vina\": \"Vina\"\n",
    "}\n",
    "\n",
    "\n",
    "linestyle_dict = {\n",
    "        \"rp.molformer\": \"-\",\n",
    "            \"rp.molformer\": \"_\",\n",
    "    \"smiles-pe\": \"-\"\n",
    "#     \"smiles-pe.atomwise.0\": \"-\", \n",
    "#     \"smiles-pe.bpe.0\": \":\",\n",
    "#     \"selfies.atomwise\": \"-\",\n",
    "#     \"ecfp\": \":\",\n",
    "#     \"rp\": \"-.\",\n",
    "#     \"rf\": \"-\",\n",
    "#     \"mlp\": \":\",\n",
    "#     \"Vina\": \"-\"\n",
    "}\n",
    "\n",
    "\n",
    "\n",
    "\n",
    "\n",
    "def plot_confusion_matrix(y_pred, y_true, ax):\n",
    "\n",
    "    cm = confusion_matrix(y_true=y_true, y_pred=y_pred, labels=[0,1], normalize=\"true\")\n",
    "    disp = ConfusionMatrixDisplay(confusion_matrix=cm,\n",
    "                              display_labels=[0,1])\n",
    "    disp.plot(cmap=\"Purples\", ax=ax)\n",
    "    \n",
    "    \n",
    "    \n",
    "from sklearn.metrics import RocCurveDisplay, roc_curve, auc\n",
    "\n",
    "    \n",
    "def plot_dist_plot(y_score, y_true, ax):\n",
    "    \n",
    "    neg_dist = y_score[y_true == 0]\n",
    "    pos_dist = y_score[y_true == 1]\n",
    "    \n",
    "    \n",
    "    sns.distplot(neg_dist, color=\"blue\", ax=ax)\n",
    "    sns.distplot(pos_dist, color=\"red\", ax=ax)\n",
    "    "
   ]
  },
  {
   "cell_type": "code",
   "execution_count": 3,
   "metadata": {},
   "outputs": [],
   "source": [
    "import torch \n",
    "\n",
    "\n",
    "def compute_average_roc_from_pkl(path):\n",
    "    \n",
    "#     fpr_list = []\n",
    "#     tpr_list = []\n",
    "    \n",
    "    roc_list = []\n",
    "    \n",
    "    \n",
    "    \n",
    "#         data = pickle.load(path)  # In my case this call is buried deeper in torch-agnostic code\n",
    "#     with open(path, \"rb\") as handle:\n",
    "#         print(path)\n",
    "#         data = pickle.load(handle)\n",
    "#         data = pickle.load(handle)\n",
    "\n",
    "\n",
    "#         print(f\"loading file {path}, with {len(data)-1} seeds to read\")\n",
    "\n",
    "    data = torch.load(path, map_location=\"cpu\")\n",
    "    for seed in range(n_seed):\n",
    "        \n",
    "        y_pred = data[seed]['y_pred']\n",
    "        y_true = data[seed]['y_true']\n",
    "        y_score = data[seed]['eta']\n",
    "\n",
    "        score = None\n",
    "\n",
    "        if y_score.squeeze().ndim < 2:\n",
    "            score = y_score\n",
    "        else:\n",
    "            score = y_score[:, 1]\n",
    "\n",
    "        fpr, tpr, thresholds = roc_curve(y_score=score, y_true=y_true)\n",
    "        roc_auc = auc(fpr, tpr)\n",
    "\n",
    "        roc_list.append(roc_auc)\n",
    "\n",
    "    return np.mean(roc_list), np.std(roc_list)\n",
    "#         '''"
   ]
  },
  {
   "cell_type": "code",
   "execution_count": 4,
   "metadata": {},
   "outputs": [],
   "source": [
    "def bbbp_main():\n",
    "    \n",
    "    roc_f, roc_ax = plt.subplots(1,2, figsize=(16,6), sharex=True, sharey=True)\n",
    "\n",
    "\n",
    "#     import ipdb\n",
    "#     ipdb.set_trace()\n",
    "    for split_type, ax in [(\"random\", roc_ax[0]), (\"scaffold\", roc_ax[1])]:\n",
    "        model_dict = {\"model\": [], \"roc-auc-mean\": [], \"roc-auc-std\": []}\n",
    "\n",
    "        for model, color in color_dict.items():\n",
    "\n",
    "            tqdm.write(f\"{model}, {split_type}\")\n",
    "\n",
    "            \n",
    "            glob_str = f\"bbbp.{split_type}.{model}.*pt\"\n",
    "            print(glob_str)\n",
    "            data_path_list = list(data_p.glob(glob_str))\n",
    "        \n",
    "        \n",
    "            print(data_path_list)\n",
    "        \n",
    "        \n",
    "#     '''\n",
    "            ax.set_title(split_type.capitalize())\n",
    "\n",
    "\n",
    "            for path in tqdm(data_path_list, total=len(data_path_list)):\n",
    "\n",
    "                name = str(path.name).split('.')[-2]     \n",
    "                roc_auc_mean, roc_auc_std = compute_average_roc_from_pkl(path)\n",
    "\n",
    "                model_dict[\"model\"].append(model)\n",
    "                model_dict[\"roc-auc-mean\"].append(roc_auc_mean)\n",
    "                model_dict[\"roc-auc-std\"].append(roc_auc_std)\n",
    "\n",
    "            df = pd.DataFrame(model_dict)\n",
    "\n",
    "        \n",
    "            df[\"model_name\"] = df[\"model\"].apply(lambda x: model_name_dict[x])\n",
    "            df[\"color\"] = df[\"model\"].apply(lambda x: color_dict[x])\n",
    "\n",
    "            bars = ax.bar(data=df, x=\"model\", height=\"roc-auc-mean\", yerr=\"roc-auc-std\", color=[color_dict[x] for x in df['model'].values],\n",
    "                         hatch=\"/\")\n",
    "            ax.tick_params(axis=\"x\", labelrotation=25)\n",
    "            ax.set_xticklabels([model_name_dict[x] for x in df['model'].values])\n",
    "\n",
    "\n",
    "    roc_ax[0].set_title(\"Random\", fontdict={\"fontsize\": 20})\n",
    "    roc_ax[1].set_title(\"Scaffold\", fontdict={\"fontsize\": 20})\n",
    "    \n",
    "    roc_ax[0].set_ylabel(\"ROC-AUC\")\n",
    "\n",
    "    plt.tight_layout()\n",
    "    plt.savefig(f\"bbbp_roc.png\", dpi=600, bbox_inches=\"tight\")\n",
    "#     '''"
   ]
  },
  {
   "cell_type": "code",
   "execution_count": 5,
   "metadata": {
    "scrolled": false
   },
   "outputs": [
    {
     "name": "stdout",
     "output_type": "stream",
     "text": [
      "rp.molformer, random\n",
      "bbbp.random.rp.molformer.*pt\n",
      "[PosixPath('/p/lustre2/jones289/hd_results/125/bbbp.random.rp.molformer.atomwise.0.pt')]\n"
     ]
    },
    {
     "name": "stderr",
     "output_type": "stream",
     "text": [
      "100%|██████████| 1/1 [00:03<00:00,  3.02s/it]\n",
      "/tmp/ipykernel_3858461/873705133.py:46: UserWarning: FixedFormatter should only be used together with FixedLocator\n",
      "  ax.set_xticklabels([model_name_dict[x] for x in df['model'].values])\n"
     ]
    },
    {
     "name": "stdout",
     "output_type": "stream",
     "text": [
      "rp.ecfp, random\n",
      "bbbp.random.rp.ecfp.*pt\n",
      "[PosixPath('/p/lustre2/jones289/hd_results/125/bbbp.random.rp.ecfp.atomwise.0.pt')]\n"
     ]
    },
    {
     "name": "stderr",
     "output_type": "stream",
     "text": [
      "100%|██████████| 1/1 [00:00<00:00,  9.62it/s]\n",
      "/tmp/ipykernel_3858461/873705133.py:46: UserWarning: FixedFormatter should only be used together with FixedLocator\n",
      "  ax.set_xticklabels([model_name_dict[x] for x in df['model'].values])\n"
     ]
    },
    {
     "name": "stdout",
     "output_type": "stream",
     "text": [
      "smiles-pe, random\n",
      "bbbp.random.smiles-pe.*pt\n",
      "[PosixPath('/p/lustre2/jones289/hd_results/125/bbbp.random.smiles-pe.ecfp.bpe.1.pt')]\n"
     ]
    },
    {
     "name": "stderr",
     "output_type": "stream",
     "text": [
      "100%|██████████| 1/1 [00:00<00:00,  1.04it/s]\n",
      "/tmp/ipykernel_3858461/873705133.py:46: UserWarning: FixedFormatter should only be used together with FixedLocator\n",
      "  ax.set_xticklabels([model_name_dict[x] for x in df['model'].values])\n"
     ]
    },
    {
     "name": "stdout",
     "output_type": "stream",
     "text": [
      "rp.molformer, scaffold\n",
      "bbbp.scaffold.rp.molformer.*pt\n",
      "[PosixPath('/p/lustre2/jones289/hd_results/125/bbbp.scaffold.rp.molformer.atomwise.0.pt')]\n"
     ]
    },
    {
     "name": "stderr",
     "output_type": "stream",
     "text": [
      "100%|██████████| 1/1 [00:00<00:00,  7.83it/s]\n",
      "/tmp/ipykernel_3858461/873705133.py:46: UserWarning: FixedFormatter should only be used together with FixedLocator\n",
      "  ax.set_xticklabels([model_name_dict[x] for x in df['model'].values])\n"
     ]
    },
    {
     "name": "stdout",
     "output_type": "stream",
     "text": [
      "rp.ecfp, scaffold\n",
      "bbbp.scaffold.rp.ecfp.*pt\n",
      "[PosixPath('/p/lustre2/jones289/hd_results/125/bbbp.scaffold.rp.ecfp.atomwise.0.pt')]\n"
     ]
    },
    {
     "name": "stderr",
     "output_type": "stream",
     "text": [
      "100%|██████████| 1/1 [00:00<00:00,  8.42it/s]\n",
      "/tmp/ipykernel_3858461/873705133.py:46: UserWarning: FixedFormatter should only be used together with FixedLocator\n",
      "  ax.set_xticklabels([model_name_dict[x] for x in df['model'].values])\n"
     ]
    },
    {
     "name": "stdout",
     "output_type": "stream",
     "text": [
      "smiles-pe, scaffold\n",
      "bbbp.scaffold.smiles-pe.*pt\n",
      "[PosixPath('/p/lustre2/jones289/hd_results/125/bbbp.scaffold.smiles-pe.ecfp.bpe.1.pt')]\n"
     ]
    },
    {
     "name": "stderr",
     "output_type": "stream",
     "text": [
      "100%|██████████| 1/1 [00:00<00:00,  1.13it/s]\n",
      "/tmp/ipykernel_3858461/873705133.py:46: UserWarning: FixedFormatter should only be used together with FixedLocator\n",
      "  ax.set_xticklabels([model_name_dict[x] for x in df['model'].values])\n"
     ]
    },
    {
     "data": {
      "image/png": "[encoded data removed]",
      "text/plain": [
       "<Figure size 1152x432 with 2 Axes>"
      ]
     },
     "metadata": {
      "needs_background": "light"
     },
     "output_type": "display_data"
    }
   ],
   "source": [
    "bbbp_main()"
   ]
  },
  {
   "cell_type": "code",
   "execution_count": 56,
   "metadata": {},
   "outputs": [],
   "source": [
    "def sider_main():\n",
    "    \n",
    "    sider_f, sider_ax = plt.subplots(1,2, figsize=(16,6), sharex=True, sharey=True)\n",
    "    sider_ax = sider_ax.flatten()\n",
    "    \n",
    "    \n",
    "    model_dict = {\"model\": [], \"task\": [], \"roc-auc-mean\": [], \"roc-auc-std\": []}\n",
    "\n",
    "    for split_type, ax in [(\"random\", sider_ax[0]), (\"scaffold\", sider_ax[1])]:\n",
    "        ax.set_title(split_type.capitalize())\n",
    "\n",
    "        for model, color in color_dict.items():\n",
    "            \n",
    "            data_path_list = list(data_p.glob(f\"sider.*.{split_type}.{model}*pkl\"))\n",
    "\n",
    "            print(f\"{model}-{split_type}-{len(data_path_list)}\")\n",
    "            for path in tqdm(data_path_list, total=len(data_path_list)):\n",
    "                                \n",
    "                try:\n",
    "                \n",
    "                        name = str(path.name).split('.')[-2]\n",
    "                \n",
    "                        task = int(str(path.name).split('.')[1].split('_')[-1])\n",
    "            \n",
    "                        roc_auc_mean, roc_auc_std = compute_average_roc_from_pkl(path)\n",
    "\n",
    "                        model_dict[\"model\"].append(model)\n",
    "                        model_dict[\"task\"].append(task)\n",
    "                        model_dict[\"roc-auc-mean\"].append(roc_auc_mean)\n",
    "                        model_dict[\"roc-auc-std\"].append(roc_auc_std)\n",
    "                \n",
    "                except Exception as e:\n",
    "                    print(e)\n",
    "                    continue\n",
    "\n",
    "\n",
    "        df = pd.DataFrame(model_dict)\n",
    "        print(df.shape)\n",
    "\n",
    "        g = sns.boxplot(data=df, x=\"model\", y=\"roc-auc-mean\", ax=ax, palette=color_dict)\n",
    "\n",
    "    for ax in sider_ax:\n",
    "        ax.tick_params(axis=\"x\", labelrotation=25)\n",
    "        labels = [x for x in ax.get_xticklabels()]\n",
    "        labels = [model_name_dict[x.get_text()] for x in labels]\n",
    "        ax.set_xticklabels(labels)\n",
    "        ax.set_ylabel(\"\")\n",
    "        ax.set_xlabel(\"\")\n",
    "    \n",
    "    sider_ax[0].set_title(\"Random\", fontdict={\"fontsize\": 20})\n",
    "    sider_ax[1].set_title(\"Scaffold\", fontdict={\"fontsize\": 20})\n",
    "    \n",
    "    sider_ax[0].set_ylabel(\"ROC-AUC\")\n",
    "        \n",
    "    plt.tight_layout()\n",
    "    sider_f.savefig(f\"sider_roc.png\", dpi=600, bbox_inches=\"tight\")\n"
   ]
  },
  {
   "cell_type": "code",
   "execution_count": 57,
   "metadata": {
    "scrolled": false
   },
   "outputs": [
    {
     "name": "stdout",
     "output_type": "stream",
     "text": [
      "rp.molformer-random-0\n"
     ]
    },
    {
     "name": "stderr",
     "output_type": "stream",
     "text": [
      "0it [00:00, ?it/s]\n"
     ]
    },
    {
     "name": "stdout",
     "output_type": "stream",
     "text": [
      "rp.ecfp-random-0\n"
     ]
    },
    {
     "name": "stderr",
     "output_type": "stream",
     "text": [
      "0it [00:00, ?it/s]"
     ]
    },
    {
     "name": "stdout",
     "output_type": "stream",
     "text": [
      "(0, 4)\n"
     ]
    },
    {
     "name": "stderr",
     "output_type": "stream",
     "text": [
      "\n"
     ]
    },
    {
     "ename": "ValueError",
     "evalue": "min() arg is an empty sequence",
     "output_type": "error",
     "traceback": [
      "\u001b[0;31m---------------------------------------------------------------------------\u001b[0m",
      "\u001b[0;31mValueError\u001b[0m                                Traceback (most recent call last)",
      "Input \u001b[0;32mIn [57]\u001b[0m, in \u001b[0;36m<module>\u001b[0;34m\u001b[0m\n\u001b[0;32m----> 1\u001b[0m \u001b[43msider_main\u001b[49m\u001b[43m(\u001b[49m\u001b[43m)\u001b[49m\n",
      "Input \u001b[0;32mIn [56]\u001b[0m, in \u001b[0;36msider_main\u001b[0;34m()\u001b[0m\n\u001b[1;32m     37\u001b[0m     df \u001b[38;5;241m=\u001b[39m pd\u001b[38;5;241m.\u001b[39mDataFrame(model_dict)\n\u001b[1;32m     38\u001b[0m     \u001b[38;5;28mprint\u001b[39m(df\u001b[38;5;241m.\u001b[39mshape)\n\u001b[0;32m---> 40\u001b[0m     g \u001b[38;5;241m=\u001b[39m \u001b[43msns\u001b[49m\u001b[38;5;241;43m.\u001b[39;49m\u001b[43mboxplot\u001b[49m\u001b[43m(\u001b[49m\u001b[43mdata\u001b[49m\u001b[38;5;241;43m=\u001b[39;49m\u001b[43mdf\u001b[49m\u001b[43m,\u001b[49m\u001b[43m \u001b[49m\u001b[43mx\u001b[49m\u001b[38;5;241;43m=\u001b[39;49m\u001b[38;5;124;43m\"\u001b[39;49m\u001b[38;5;124;43mmodel\u001b[39;49m\u001b[38;5;124;43m\"\u001b[39;49m\u001b[43m,\u001b[49m\u001b[43m \u001b[49m\u001b[43my\u001b[49m\u001b[38;5;241;43m=\u001b[39;49m\u001b[38;5;124;43m\"\u001b[39;49m\u001b[38;5;124;43mroc-auc-mean\u001b[39;49m\u001b[38;5;124;43m\"\u001b[39;49m\u001b[43m,\u001b[49m\u001b[43m \u001b[49m\u001b[43max\u001b[49m\u001b[38;5;241;43m=\u001b[39;49m\u001b[43max\u001b[49m\u001b[43m,\u001b[49m\u001b[43m \u001b[49m\u001b[43mpalette\u001b[49m\u001b[38;5;241;43m=\u001b[39;49m\u001b[43mcolor_dict\u001b[49m\u001b[43m)\u001b[49m\n\u001b[1;32m     42\u001b[0m \u001b[38;5;28;01mfor\u001b[39;00m ax \u001b[38;5;129;01min\u001b[39;00m sider_ax:\n\u001b[1;32m     43\u001b[0m     ax\u001b[38;5;241m.\u001b[39mtick_params(axis\u001b[38;5;241m=\u001b[39m\u001b[38;5;124m\"\u001b[39m\u001b[38;5;124mx\u001b[39m\u001b[38;5;124m\"\u001b[39m, labelrotation\u001b[38;5;241m=\u001b[39m\u001b[38;5;241m25\u001b[39m)\n",
      "File \u001b[0;32m/usr/workspace/wsa/jones289/miniconda3/envs/dtra_reactivator/lib/python3.8/site-packages/seaborn/_decorators.py:46\u001b[0m, in \u001b[0;36m_deprecate_positional_args.<locals>.inner_f\u001b[0;34m(*args, **kwargs)\u001b[0m\n\u001b[1;32m     36\u001b[0m     warnings\u001b[38;5;241m.\u001b[39mwarn(\n\u001b[1;32m     37\u001b[0m         \u001b[38;5;124m\"\u001b[39m\u001b[38;5;124mPass the following variable\u001b[39m\u001b[38;5;132;01m{}\u001b[39;00m\u001b[38;5;124m as \u001b[39m\u001b[38;5;132;01m{}\u001b[39;00m\u001b[38;5;124mkeyword arg\u001b[39m\u001b[38;5;132;01m{}\u001b[39;00m\u001b[38;5;124m: \u001b[39m\u001b[38;5;132;01m{}\u001b[39;00m\u001b[38;5;124m. \u001b[39m\u001b[38;5;124m\"\u001b[39m\n\u001b[1;32m     38\u001b[0m         \u001b[38;5;124m\"\u001b[39m\u001b[38;5;124mFrom version 0.12, the only valid positional argument \u001b[39m\u001b[38;5;124m\"\u001b[39m\n\u001b[0;32m   (...)\u001b[0m\n\u001b[1;32m     43\u001b[0m         \u001b[38;5;167;01mFutureWarning\u001b[39;00m\n\u001b[1;32m     44\u001b[0m     )\n\u001b[1;32m     45\u001b[0m kwargs\u001b[38;5;241m.\u001b[39mupdate({k: arg \u001b[38;5;28;01mfor\u001b[39;00m k, arg \u001b[38;5;129;01min\u001b[39;00m \u001b[38;5;28mzip\u001b[39m(sig\u001b[38;5;241m.\u001b[39mparameters, args)})\n\u001b[0;32m---> 46\u001b[0m \u001b[38;5;28;01mreturn\u001b[39;00m \u001b[43mf\u001b[49m\u001b[43m(\u001b[49m\u001b[38;5;241;43m*\u001b[39;49m\u001b[38;5;241;43m*\u001b[39;49m\u001b[43mkwargs\u001b[49m\u001b[43m)\u001b[49m\n",
      "File \u001b[0;32m/usr/workspace/wsa/jones289/miniconda3/envs/dtra_reactivator/lib/python3.8/site-packages/seaborn/categorical.py:2243\u001b[0m, in \u001b[0;36mboxplot\u001b[0;34m(x, y, hue, data, order, hue_order, orient, color, palette, saturation, width, dodge, fliersize, linewidth, whis, ax, **kwargs)\u001b[0m\n\u001b[1;32m   2231\u001b[0m \u001b[38;5;129m@_deprecate_positional_args\u001b[39m\n\u001b[1;32m   2232\u001b[0m \u001b[38;5;28;01mdef\u001b[39;00m \u001b[38;5;21mboxplot\u001b[39m(\n\u001b[1;32m   2233\u001b[0m     \u001b[38;5;241m*\u001b[39m,\n\u001b[0;32m   (...)\u001b[0m\n\u001b[1;32m   2240\u001b[0m     \u001b[38;5;241m*\u001b[39m\u001b[38;5;241m*\u001b[39mkwargs\n\u001b[1;32m   2241\u001b[0m ):\n\u001b[0;32m-> 2243\u001b[0m     plotter \u001b[38;5;241m=\u001b[39m \u001b[43m_BoxPlotter\u001b[49m\u001b[43m(\u001b[49m\u001b[43mx\u001b[49m\u001b[43m,\u001b[49m\u001b[43m \u001b[49m\u001b[43my\u001b[49m\u001b[43m,\u001b[49m\u001b[43m \u001b[49m\u001b[43mhue\u001b[49m\u001b[43m,\u001b[49m\u001b[43m \u001b[49m\u001b[43mdata\u001b[49m\u001b[43m,\u001b[49m\u001b[43m \u001b[49m\u001b[43morder\u001b[49m\u001b[43m,\u001b[49m\u001b[43m \u001b[49m\u001b[43mhue_order\u001b[49m\u001b[43m,\u001b[49m\n\u001b[1;32m   2244\u001b[0m \u001b[43m                          \u001b[49m\u001b[43morient\u001b[49m\u001b[43m,\u001b[49m\u001b[43m \u001b[49m\u001b[43mcolor\u001b[49m\u001b[43m,\u001b[49m\u001b[43m \u001b[49m\u001b[43mpalette\u001b[49m\u001b[43m,\u001b[49m\u001b[43m \u001b[49m\u001b[43msaturation\u001b[49m\u001b[43m,\u001b[49m\n\u001b[1;32m   2245\u001b[0m \u001b[43m                          \u001b[49m\u001b[43mwidth\u001b[49m\u001b[43m,\u001b[49m\u001b[43m \u001b[49m\u001b[43mdodge\u001b[49m\u001b[43m,\u001b[49m\u001b[43m \u001b[49m\u001b[43mfliersize\u001b[49m\u001b[43m,\u001b[49m\u001b[43m \u001b[49m\u001b[43mlinewidth\u001b[49m\u001b[43m)\u001b[49m\n\u001b[1;32m   2247\u001b[0m     \u001b[38;5;28;01mif\u001b[39;00m ax \u001b[38;5;129;01mis\u001b[39;00m \u001b[38;5;28;01mNone\u001b[39;00m:\n\u001b[1;32m   2248\u001b[0m         ax \u001b[38;5;241m=\u001b[39m plt\u001b[38;5;241m.\u001b[39mgca()\n",
      "File \u001b[0;32m/usr/workspace/wsa/jones289/miniconda3/envs/dtra_reactivator/lib/python3.8/site-packages/seaborn/categorical.py:407\u001b[0m, in \u001b[0;36m_BoxPlotter.__init__\u001b[0;34m(self, x, y, hue, data, order, hue_order, orient, color, palette, saturation, width, dodge, fliersize, linewidth)\u001b[0m\n\u001b[1;32m    402\u001b[0m \u001b[38;5;28;01mdef\u001b[39;00m \u001b[38;5;21m__init__\u001b[39m(\u001b[38;5;28mself\u001b[39m, x, y, hue, data, order, hue_order,\n\u001b[1;32m    403\u001b[0m              orient, color, palette, saturation,\n\u001b[1;32m    404\u001b[0m              width, dodge, fliersize, linewidth):\n\u001b[1;32m    406\u001b[0m     \u001b[38;5;28mself\u001b[39m\u001b[38;5;241m.\u001b[39mestablish_variables(x, y, hue, data, orient, order, hue_order)\n\u001b[0;32m--> 407\u001b[0m     \u001b[38;5;28;43mself\u001b[39;49m\u001b[38;5;241;43m.\u001b[39;49m\u001b[43mestablish_colors\u001b[49m\u001b[43m(\u001b[49m\u001b[43mcolor\u001b[49m\u001b[43m,\u001b[49m\u001b[43m \u001b[49m\u001b[43mpalette\u001b[49m\u001b[43m,\u001b[49m\u001b[43m \u001b[49m\u001b[43msaturation\u001b[49m\u001b[43m)\u001b[49m\n\u001b[1;32m    409\u001b[0m     \u001b[38;5;28mself\u001b[39m\u001b[38;5;241m.\u001b[39mdodge \u001b[38;5;241m=\u001b[39m dodge\n\u001b[1;32m    410\u001b[0m     \u001b[38;5;28mself\u001b[39m\u001b[38;5;241m.\u001b[39mwidth \u001b[38;5;241m=\u001b[39m width\n",
      "File \u001b[0;32m/usr/workspace/wsa/jones289/miniconda3/envs/dtra_reactivator/lib/python3.8/site-packages/seaborn/categorical.py:319\u001b[0m, in \u001b[0;36m_CategoricalPlotter.establish_colors\u001b[0;34m(self, color, palette, saturation)\u001b[0m\n\u001b[1;32m    317\u001b[0m \u001b[38;5;66;03m# Determine the gray color to use for the lines framing the plot\u001b[39;00m\n\u001b[1;32m    318\u001b[0m light_vals \u001b[38;5;241m=\u001b[39m [colorsys\u001b[38;5;241m.\u001b[39mrgb_to_hls(\u001b[38;5;241m*\u001b[39mc)[\u001b[38;5;241m1\u001b[39m] \u001b[38;5;28;01mfor\u001b[39;00m c \u001b[38;5;129;01min\u001b[39;00m rgb_colors]\n\u001b[0;32m--> 319\u001b[0m lum \u001b[38;5;241m=\u001b[39m \u001b[38;5;28;43mmin\u001b[39;49m\u001b[43m(\u001b[49m\u001b[43mlight_vals\u001b[49m\u001b[43m)\u001b[49m \u001b[38;5;241m*\u001b[39m \u001b[38;5;241m.6\u001b[39m\n\u001b[1;32m    320\u001b[0m gray \u001b[38;5;241m=\u001b[39m mpl\u001b[38;5;241m.\u001b[39mcolors\u001b[38;5;241m.\u001b[39mrgb2hex((lum, lum, lum))\n\u001b[1;32m    322\u001b[0m \u001b[38;5;66;03m# Assign object attributes\u001b[39;00m\n",
      "\u001b[0;31mValueError\u001b[0m: min() arg is an empty sequence"
     ]
    },
    {
     "data": {
      "image/png": "[encoded data removed]",
      "text/plain": [
       "<Figure size 1152x432 with 2 Axes>"
      ]
     },
     "metadata": {
      "needs_background": "light"
     },
     "output_type": "display_data"
    }
   ],
   "source": [
    "sider_main()"
   ]
  },
  {
   "cell_type": "code",
   "execution_count": 35,
   "metadata": {},
   "outputs": [],
   "source": [
    "def clintox_main():    \n",
    "    \n",
    "    clintox_f, clintox_ax = plt.subplots(1,2, figsize=(16,6), sharex=True, sharey=True)\n",
    "    \n",
    "    for split_type, ax in [(\"random\", clintox_ax[0]), (\"scaffold\", clintox_ax[1])]:\n",
    "        model_dict = {\"model\": [], \"task\": [], \"roc-auc-mean\": [], \"roc-auc-std\": []}\n",
    "        ax.set_title(split_type.capitalize())\n",
    "\n",
    "        for model, color in color_dict.items():\n",
    "\n",
    "            data_path_list = list(data_p.glob(f\"clintox.task_0.{split_type}.{model}*.pkl\"))        \n",
    "\n",
    "            for path in tqdm(data_path_list):\n",
    "                with open(path, \"rb\") as handle:\n",
    "\n",
    "                    data = pickle.load(handle)\n",
    "                    name = str(path.name).split('.')[-2]\n",
    "\n",
    "\n",
    "                    task = int(str(path.name).split('.')[1].split('_')[-1])\n",
    "                    roc_auc_mean, roc_auc_std = compute_average_roc_from_pkl(path)\n",
    "\n",
    "\n",
    "                    model_dict[\"model\"].append(model)\n",
    "                    model_dict[\"task\"].append(task)\n",
    "                    model_dict[\"roc-auc-mean\"].append(roc_auc_mean)\n",
    "                    model_dict[\"roc-auc-std\"].append(roc_auc_std)\n",
    "\n",
    "\n",
    "        df = pd.DataFrame(model_dict)\n",
    "        df[\"model_name\"] = df[\"model\"].apply(lambda x: model_name_dict[x])\n",
    "        df[\"color\"] = df[\"model\"].apply(lambda x: color_dict[x])\n",
    "\n",
    "        bars = ax.bar(data=df, x=\"model\", height=\"roc-auc-mean\", yerr=\"roc-auc-std\", color=[color_dict[x] for x in df['model'].values],\n",
    "                     hatch=\"x\")\n",
    "        ax.tick_params(axis=\"x\", labelrotation=25)\n",
    "        ax.set_xticklabels([model_name_dict[x] for x in df['model'].values])\n",
    "\n",
    "    clintox_ax[0].set_ylabel(\"ROC-AUC\")\n",
    "\n",
    "        \n",
    "    plt.tight_layout()\n",
    "    clintox_f.savefig(f\"clintox_roc.png\", dpi=600, bbox_inches=\"tight\")\n"
   ]
  },
  {
   "cell_type": "code",
   "execution_count": 36,
   "metadata": {},
   "outputs": [
    {
     "name": "stderr",
     "output_type": "stream",
     "text": [
      "100%|██████████| 1/1 [00:00<00:00, 33.05it/s]\n"
     ]
    },
    {
     "name": "stdout",
     "output_type": "stream",
     "text": [
      "/g/g13/jones289/workspace/hd-cuda-master/hdpy/hdpy/results/4/clintox.task_0.random.smiles-pe.atomwise.0.pkl\n"
     ]
    },
    {
     "name": "stderr",
     "output_type": "stream",
     "text": [
      "100%|██████████| 1/1 [00:00<00:00, 27.55it/s]\n"
     ]
    },
    {
     "name": "stdout",
     "output_type": "stream",
     "text": [
      "/g/g13/jones289/workspace/hd-cuda-master/hdpy/hdpy/results/4/clintox.task_0.random.smiles-pe.bpe.0.pkl\n"
     ]
    },
    {
     "name": "stderr",
     "output_type": "stream",
     "text": [
      "100%|██████████| 1/1 [00:00<00:00, 33.29it/s]\n"
     ]
    },
    {
     "name": "stdout",
     "output_type": "stream",
     "text": [
      "/g/g13/jones289/workspace/hd-cuda-master/hdpy/hdpy/results/4/clintox.task_0.random.selfies.atomwise.0.pkl\n"
     ]
    },
    {
     "name": "stderr",
     "output_type": "stream",
     "text": [
      "100%|██████████| 1/1 [00:00<00:00, 33.73it/s]\n"
     ]
    },
    {
     "name": "stdout",
     "output_type": "stream",
     "text": [
      "/g/g13/jones289/workspace/hd-cuda-master/hdpy/hdpy/results/4/clintox.task_0.random.ecfp.atomwise.0.pkl\n"
     ]
    },
    {
     "name": "stderr",
     "output_type": "stream",
     "text": [
      "100%|██████████| 1/1 [00:00<00:00, 29.06it/s]\n"
     ]
    },
    {
     "name": "stdout",
     "output_type": "stream",
     "text": [
      "/g/g13/jones289/workspace/hd-cuda-master/hdpy/hdpy/results/4/clintox.task_0.random.rp.atomwise.0.pkl\n"
     ]
    },
    {
     "name": "stderr",
     "output_type": "stream",
     "text": [
      "100%|██████████| 1/1 [00:00<00:00, 81.76it/s]\n"
     ]
    },
    {
     "name": "stdout",
     "output_type": "stream",
     "text": [
      "/g/g13/jones289/workspace/hd-cuda-master/hdpy/hdpy/results/4/clintox.task_0.random.rf.None.0.pkl\n"
     ]
    },
    {
     "name": "stderr",
     "output_type": "stream",
     "text": [
      "\r",
      "  0%|          | 0/1 [00:00<?, ?it/s]"
     ]
    },
    {
     "name": "stdout",
     "output_type": "stream",
     "text": [
      "/g/g13/jones289/workspace/hd-cuda-master/hdpy/hdpy/results/4/clintox.task_0.random.mlp.None.0.pkl\n"
     ]
    },
    {
     "name": "stderr",
     "output_type": "stream",
     "text": [
      "100%|██████████| 1/1 [00:00<00:00, 32.65it/s]\n",
      "/tmp/ipykernel_2299244/2990216876.py:37: UserWarning: FixedFormatter should only be used together with FixedLocator\n",
      "  ax.set_xticklabels([model_name_dict[x] for x in df['model'].values])\n",
      "100%|██████████| 1/1 [00:00<00:00, 76.65it/s]\n"
     ]
    },
    {
     "name": "stdout",
     "output_type": "stream",
     "text": [
      "/g/g13/jones289/workspace/hd-cuda-master/hdpy/hdpy/results/4/clintox.task_0.scaffold.smiles-pe.atomwise.0.pkl\n"
     ]
    },
    {
     "name": "stderr",
     "output_type": "stream",
     "text": [
      "100%|██████████| 1/1 [00:00<00:00, 86.85it/s]\n"
     ]
    },
    {
     "name": "stdout",
     "output_type": "stream",
     "text": [
      "/g/g13/jones289/workspace/hd-cuda-master/hdpy/hdpy/results/4/clintox.task_0.scaffold.smiles-pe.bpe.0.pkl\n"
     ]
    },
    {
     "name": "stderr",
     "output_type": "stream",
     "text": [
      "100%|██████████| 1/1 [00:00<00:00, 82.44it/s]\n"
     ]
    },
    {
     "name": "stdout",
     "output_type": "stream",
     "text": [
      "/g/g13/jones289/workspace/hd-cuda-master/hdpy/hdpy/results/4/clintox.task_0.scaffold.selfies.atomwise.0.pkl\n"
     ]
    },
    {
     "name": "stderr",
     "output_type": "stream",
     "text": [
      "100%|██████████| 1/1 [00:00<00:00, 78.59it/s]\n"
     ]
    },
    {
     "name": "stdout",
     "output_type": "stream",
     "text": [
      "/g/g13/jones289/workspace/hd-cuda-master/hdpy/hdpy/results/4/clintox.task_0.scaffold.ecfp.atomwise.0.pkl\n"
     ]
    },
    {
     "name": "stderr",
     "output_type": "stream",
     "text": [
      "100%|██████████| 1/1 [00:00<00:00, 76.97it/s]\n"
     ]
    },
    {
     "name": "stdout",
     "output_type": "stream",
     "text": [
      "/g/g13/jones289/workspace/hd-cuda-master/hdpy/hdpy/results/4/clintox.task_0.scaffold.rp.atomwise.0.pkl\n"
     ]
    },
    {
     "name": "stderr",
     "output_type": "stream",
     "text": [
      "100%|██████████| 1/1 [00:00<00:00, 78.42it/s]\n"
     ]
    },
    {
     "name": "stdout",
     "output_type": "stream",
     "text": [
      "/g/g13/jones289/workspace/hd-cuda-master/hdpy/hdpy/results/4/clintox.task_0.scaffold.rf.None.0.pkl\n"
     ]
    },
    {
     "name": "stderr",
     "output_type": "stream",
     "text": [
      "\r",
      "  0%|          | 0/1 [00:00<?, ?it/s]"
     ]
    },
    {
     "name": "stdout",
     "output_type": "stream",
     "text": [
      "/g/g13/jones289/workspace/hd-cuda-master/hdpy/hdpy/results/4/clintox.task_0.scaffold.mlp.None.0.pkl\n"
     ]
    },
    {
     "name": "stderr",
     "output_type": "stream",
     "text": [
      "100%|██████████| 1/1 [00:00<00:00, 33.77it/s]\n",
      "/tmp/ipykernel_2299244/2990216876.py:37: UserWarning: FixedFormatter should only be used together with FixedLocator\n",
      "  ax.set_xticklabels([model_name_dict[x] for x in df['model'].values])\n"
     ]
    },
    {
     "data": {
      "image/png": "[encoded data removed]",
      "text/plain": [
       "<Figure size 1152x432 with 2 Axes>"
      ]
     },
     "metadata": {
      "needs_background": "light"
     },
     "output_type": "display_data"
    }
   ],
   "source": [
    "clintox_main()"
   ]
  },
  {
   "cell_type": "markdown",
   "metadata": {},
   "source": [
    "I wonder if there is a bias in the smiles string itself that separates the positive from negative classes almost linearly? Especially since the raw smiles uni-gram model is the best here?"
   ]
  },
  {
   "cell_type": "code",
   "execution_count": null,
   "metadata": {},
   "outputs": [],
   "source": []
  },
  {
   "cell_type": "code",
   "execution_count": null,
   "metadata": {},
   "outputs": [],
   "source": []
  },
  {
   "cell_type": "code",
   "execution_count": null,
   "metadata": {},
   "outputs": [],
   "source": []
  }
 ],
 "metadata": {
  "kernelspec": {
   "display_name": "dtra_reactivator",
   "language": "python",
   "name": "dtra_reactivator"
  },
  "language_info": {
   "codemirror_mode": {
    "name": "ipython",
    "version": 3
   },
   "file_extension": ".py",
   "mimetype": "text/x-python",
   "name": "python",
   "nbconvert_exporter": "python",
   "pygments_lexer": "ipython3",
   "version": "3.8.12"
  }
 },
 "nbformat": 4,
 "nbformat_minor": 4
}
