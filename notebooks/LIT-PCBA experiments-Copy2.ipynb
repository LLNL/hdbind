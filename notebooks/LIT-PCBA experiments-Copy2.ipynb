{
 "cells": [
  {
   "cell_type": "markdown",
   "metadata": {},
   "source": [
    "# LIT-PCBA \n",
    "this dataset is a proposed \"more difficult\" test than DUD-E. I used a 75/25 (sklearn default) stratified split. The dataset is heavily imbalanced, like DUD-E.\n",
    "\n",
    "- UPDATE: I'm using the AVE split now"
   ]
  },
  {
   "cell_type": "code",
   "execution_count": 8,
   "metadata": {},
   "outputs": [],
   "source": [
    "from sklearn.metrics import roc_auc_score\n",
    "import numpy as np\n",
    "import seaborn as sns\n",
    "import torch\n",
    "import seaborn as sns\n",
    "from tqdm import tqdm\n",
    "import pandas as pd\n",
    "from pathlib import Path\n",
    "from sklearn.metrics import f1_score, recall_score\n",
    "import matplotlib.pyplot as plt\n",
    "import sys\n",
    "# sys.path.append('..')\n",
    "sys.path.insert(0, \"/g/g13/jones289/workspace/hd-cuda-master\")\n",
    "# print(sys.path)\n",
    "import hdpy\n",
    "import hdpy.ecfp\n",
    "# from hdpy.analysis import load_pkl\n",
    "# from hdpy.metrics import compute_enrichment_factor, compute_roc_enrichment\n",
    "from hdpy.metrics import compute_roc_enrichment\n",
    "from pathlib import Path\n",
    "\n",
    "\n",
    "plt.rc('text', usetex=True)\n",
    "plt.rc('font', family='serif')\n",
    "plt.rc('xtick', labelsize=15)\n",
    "plt.rc('ytick', labelsize=15)\n",
    "plt.rc('axes', labelsize=17)\n",
    "plt.rc('figure', titlesize=20)\n",
    "\n",
    "\n",
    "# SEED=125\n",
    "SEED=5\n",
    "# SEED=6\n",
    "# SEED=7\n",
    "# SEED=8\n",
    "# SEED=2\n",
    "\n",
    "#TODO: rename to result_p \n",
    "data_p = Path(f\"/p/vast1/jones289/hd_results/{SEED}\")\n",
    "\n",
    "lit_pcba_full_data_p = Path(f\"/p/vast1/jones289/lit_pcba/lit_pcba_full_data\")\n",
    "\n",
    "\n",
    "# fig_size = (12,10)\n",
    "figsize = (16,18)"
   ]
  },
  {
   "cell_type": "code",
   "execution_count": 9,
   "metadata": {},
   "outputs": [],
   "source": [
    "green_color_pal = sns.color_palette(\"Greens\", 10)\n",
    "blue_color_pal = sns.color_palette(\"Blues\", 10)\n",
    "rocket_color_pal = sns.color_palette(\"rocket\", 10)\n",
    "purple_color_pal = sns.color_palette(\"Purples\", 10)"
   ]
  },
  {
   "cell_type": "code",
   "execution_count": 10,
   "metadata": {},
   "outputs": [],
   "source": [
    "model_dict = {\n",
    "    \"molehd-bpe\": (\"MoleHD-BPE\", rocket_color_pal[4]),\n",
    "    \"hdbind-rp-ecfp-1024-1-100\": (\"HDB-ECFP-100\", green_color_pal[6]),\n",
    "    \"hdbind-rp-ecfp-1024-1-1k\": (\"HDB-ECFP-1k\", green_color_pal[6]),\n",
    "    \"hdbind-rp-ecfp-1024-1\": (\"HDB-ECFP\", green_color_pal[6]),\n",
    "    \"hdbind-rp-ecfp-1024-1-100k\": (\"HDB-ECFP-100k\", green_color_pal[6]),\n",
    "    \"hdbind-rp-ecfp-1024-1-1m\": (\"HDB-ECFP-1m\", green_color_pal[6]),\n",
    "    \"hdbind-rp-ecfp-1024-1-100k\": (\"HDB-ECFP-100k\", green_color_pal[6]),\n",
    "    \"hdbind-rp-molclr-100\":  (\"HDB-MolCLR-100\", green_color_pal[6]),\n",
    "    \"hdbind-rp-molclr-1k\":  (\"HDB-MolCLR-1k\", green_color_pal[6]),\n",
    "    \"hdbind-rp-molclr\":  (\"HDB-MolCLR\", green_color_pal[6]),\n",
    "    \"hdbind-rp-molclr-100k\":  (\"HDB-MolCLR-100k\", green_color_pal[6]),\n",
    "    \"hdbind-rp-molclr-1m\":  (\"HDB-MolCLR-1m\", green_color_pal[6]),\n",
    "    \"hdbind-rp-molclr-100k\":  (\"HDB-MolCLR-100k\", green_color_pal[6]),\n",
    "    \"hdbind-rp-molformer-100\": (\"HDB-MolFormer-100\", green_color_pal[6]),\n",
    "    \"hdbind-rp-molformer-1k\": (\"HDB-MolFormer-1k\", green_color_pal[6]),\n",
    "    \"hdbind-rp-molformer\": (\"HDB-MolFormer\", green_color_pal[6]),\n",
    "    \"hdbind-rp-molformer-100k\": (\"HDB-MolFormer-100k\", green_color_pal[6]),\n",
    "    \"hdbind-rp-molformer-1m\": (\"HDB-MolFormer-1m\", green_color_pal[6]),\n",
    "    \"hdbind-rp-molformer-ecfp-combo\": (\"HDB-Combo\", green_color_pal[6]),\n",
    "    \"hdbind-rp-ecfp-1024-1-100\": (\"HDBind+ECFP-100\", green_color_pal[6]),\n",
    "    \"hdbind-rp-ecfp-1024-1-1k\": (\"HDBind+ECFP-1k\", green_color_pal[6]),\n",
    "    \"hdbind-rp-ecfp-1024-1-1m\": (\"HDBind+ECFP-1m\", green_color_pal[6]), \n",
    "    \"hdbind-directecfp-100-1\": (\"HDB-DECFP-100-1\", green_color_pal[6]),\n",
    "    \"hdbind-directecfp-100-2\": (\"HDB-DECFP-100-2\", green_color_pal[6]),\n",
    "    \"hdbind-directecfp-100-4\": (\"HDB-DECFP-100-4\", green_color_pal[6]),\n",
    "    \"hdbind-directecfp-1k-1\": (\"HDB-DECFP-1k-1\", green_color_pal[6]),\n",
    "    \"hdbind-directecfp-1k-2\": (\"HDB-DECFP-1k-2\", green_color_pal[6]),\n",
    "    \"hdbind-directecfp-1k-4\": (\"HDB-DECFP-1k-4\", green_color_pal[6]),\n",
    "    \"hdbind-directecfp-10k-1\": (\"HDB-DECFP-10k-1\", green_color_pal[6]),\n",
    "    \"hdbind-directecfp-10k-2\": (\"HDB-DECFP-10k-2\", green_color_pal[6]),\n",
    "    \"hdbind-directecfp-10k-4\": (\"HDB-DECFP\", green_color_pal[6]),\n",
    "    \"hdbind-directecfp-100k-1\": (\"HDB-DECFP-100k-1\", green_color_pal[6]),\n",
    "    \"hdbind-directecfp-100k-2\": (\"HDB-DECFP-100k-2\", green_color_pal[6]),\n",
    "    \"hdbind-directecfp-100k-4\": (\"HDB-DECFP-100k-4\", green_color_pal[6]),\n",
    "    \"hdbind-directecfp-1m-1\": (\"HDB-DECFP-1m-1\", green_color_pal[6]),\n",
    "    \"hdbind-directecfp-1m-2\": (\"HDB-DECFP-1m-2\", green_color_pal[6]),\n",
    "    \"hdbind-directecfp-1m-4\": (\"HDB-DECFP-1m-4\", green_color_pal[6]),\n",
    "    \"hdbind-molformer-decfp-combo-1k\": (\"HDB-Combo-1k\", purple_color_pal[6]),\n",
    "    \"hdbind-molformer-decfp-combo\": (\"HDB-Combo\", purple_color_pal[6]),\n",
    "    \"hdbind-molformer-decfp-combo-100k\": (\"HDB-Combo-100k (new)\", purple_color_pal[6]),\n",
    "    \"hdbind-molformer-decfp-combo-1m\": (\"HDB-Combo-1m (new)\", purple_color_pal[6]),\n",
    "    \"mlp-1024-1\": (\"MLP\", blue_color_pal[7]),\n",
    "    \"Vina\": (\"Vina\", \"salmon\"),\n",
    "}\n",
    "\n",
    "model_10k_list = [ \"molehd-bpe\", \"hdbind-rp-ecfp-1024-1\", \"hdbind-rp-molclr\", \"hdbind-rp-molformer\",\"hdbind-directecfp-10k-4\", \"hdbind-molformer-decfp-combo\", \"mlp-1024-1\", \"Vina\"]"
   ]
  },
  {
   "cell_type": "markdown",
   "metadata": {},
   "source": [
    "# LIT-PCBA Results"
   ]
  },
  {
   "cell_type": "code",
   "execution_count": 11,
   "metadata": {},
   "outputs": [],
   "source": [
    "def aggregate_results(model_list:list, dataset:str, split:str, target_list:list):\n",
    "    assert target_list is not None\n",
    "    \n",
    "    model_metric_dict = {\n",
    "                        \"model\": [], \n",
    "                        \"enrich\": [], \n",
    "                        \"target\": [],\n",
    "                        \"seed\": [],\n",
    "                        }\n",
    "\n",
    "    for model_name in tqdm(model_list, total=len(model_list), position=0):\n",
    "                        \n",
    "\n",
    "        data_path_list = list(data_p.glob(f\"{model_name}.{dataset}-*-{split}*.pkl\"))\n",
    "\n",
    "        \n",
    "        for path in tqdm(data_path_list, total=len(data_path_list), position=1):\n",
    "            target = path.name.split(\".\")[1].split(\"-\")[-2]\n",
    "            print(target, path, model_name)\n",
    "\n",
    "            if target in target_list or target_list == \"all\":\n",
    "                pass\n",
    "            else:\n",
    "                continue\n",
    "\n",
    "            try:\n",
    "                model_data_dict = torch.load(path)\n",
    "            except RuntimeError as e:\n",
    "                print(f\"{e}. moving to next file.\")\n",
    "                continue\n",
    "            \n",
    "            for seed in range(len(model_data_dict['trials'])):\n",
    "\n",
    "                trial_dict = model_data_dict['trials'][seed]\n",
    "\n",
    "                try:\n",
    "                    #######\n",
    "                    er_1 = trial_dict['er-1'][0]\n",
    "                    #######\n",
    "\n",
    "\n",
    "                except IndexError as e:\n",
    "                    print(f\"mismatched index, converting float to numpy array\")\n",
    "                    er_1 = trial_dict['er-1']\n",
    "\n",
    "                \n",
    "                except KeyError as e:\n",
    "            \n",
    "                    print(f\"{e}. result missing roc-enrichment metrics. computing these now.\")\n",
    "                    for trial_idx in model_data_dict[\"trials\"].keys():\n",
    "                        scores = None \n",
    "                        \n",
    "                        if \"er-1\" not in model_data_dict[\"trials\"][trial_idx].keys():\n",
    "\n",
    "                            # if config.model in [\"molehd-bpe\", \"selfies\",\"hdbind-directecfp-10k-4\",\n",
    "                                                # \"hdbind-molformer-decfp-combo\",\n",
    "                                                #   \"ecfp\", \"rp\", \"directecfp\"]:\n",
    "                                # scores = model_data_dict[\"trials\"][trial_idx][\"eta\"]\n",
    "                            if \"mlp\" in model_name.lower():\n",
    "                                scores = model_data_dict[\"trials\"][trial_idx][\"eta\"][:, 1]\n",
    "                            else:\n",
    "\n",
    "                                scores = model_data_dict[\"trials\"][trial_idx][\"eta\"]\n",
    "                            \n",
    "                            labels = model_data_dict[\"trials\"][trial_idx]['y_true']\n",
    "\n",
    "                            trial_er_1 = compute_roc_enrichment(scores=scores, labels=labels, fpr_thresh=.01)\n",
    "\n",
    "                            model_data_dict[\"trials\"][trial_idx][\"er-1\"] = trial_er_1\n",
    "            \n",
    "\n",
    "                    # mean_er_1 = np.mean([value[\"er-1\"] for value in model_data_dict[\"trials\"].values()])\n",
    "                    # std_er_1 = np.std([value[\"er-1\"] for value in model_data_dict[\"trials\"].values()])\n",
    "                    # er_1_mean_values.append(\n",
    "                    # mean_er_1 \n",
    "                    # )\n",
    "                    # er_1_std_values.append(\n",
    "                    # std_er_1 \n",
    "                    # )\n",
    "                    # torch.save(result_dict, output_file) \n",
    "                er_1 = model_data_dict[\"trials\"][seed][\"er-1\"]\n",
    "                model_metric_dict[\"enrich\"].append(er_1)\n",
    "                model_metric_dict[\"target\"].append(target)\n",
    "                model_metric_dict[\"seed\"].append(seed)\n",
    "                model_metric_dict[\"model\"].append(model_name)\n",
    "\n",
    "    print([key for key, value in model_metric_dict.items()])\n",
    "    print([len(value) for key, value in model_metric_dict.items()])\n",
    "    model_metric_df = pd.DataFrame({key: value for key, value in model_metric_dict.items() if key not in [\"train_time\", \"test_time\", \"precision\", \"recall\", \"f1\"]})\n",
    "\n",
    "    return model_metric_df\n",
    "        \n"
   ]
  },
  {
   "cell_type": "markdown",
   "metadata": {},
   "source": [
    "# VINA result"
   ]
  },
  {
   "cell_type": "code",
   "execution_count": 12,
   "metadata": {},
   "outputs": [],
   "source": [
    "def process_target(target_name=\"VDR\", target_id=\"AID504847\", split=\"ave\"):\n",
    "\n",
    "\n",
    "\n",
    "    train_actives = pd.read_csv(f\"/p/vast1/jones289/lit_pcba/AVE_unbiased/{target_name}/{target_id}_active_T.smi\", header=None, delim_whitespace=True) \n",
    "    test_actives = pd.read_csv(f\"/p/vast1/jones289/lit_pcba/AVE_unbiased/{target_name}/{target_id}_active_V.smi\", header=None, delim_whitespace=True) \n",
    "    test_actives[\"label\"] = [1] * len(test_actives)\n",
    "    train_actives[\"label\"] = [1] * len(train_actives)\n",
    "\n",
    "    train_inactives = pd.read_csv(f\"/p/vast1/jones289/lit_pcba/AVE_unbiased/{target_name}/{target_id}_inactive_T.smi\", header=None, delim_whitespace=True) \n",
    "    test_inactives = pd.read_csv(f\"/p/vast1/jones289/lit_pcba/AVE_unbiased/{target_name}/{target_id}_inactive_V.smi\", header=None, delim_whitespace=True) \n",
    "    test_inactives[\"label\"] = [0] * len(test_inactives)\n",
    "    train_inactives[\"label\"] = [0] * len(train_inactives)\n",
    "\n",
    "\n",
    "\n",
    "    print(\"train_actives.shape\", train_actives.shape, \n",
    "        \"train_inactives.shape\", train_inactives.shape,\n",
    "        \"test_actives.shape\", test_actives.shape,\n",
    "        \"test_inactives.shape\", test_inactives.shape)\n",
    "\n",
    "    dock_actives = pd.read_csv(f\"/p/vast1/jones289/LIT-PCBA-Data/{target_name}-actives.csv\")\n",
    "    dock_actives[\"id\"] = dock_actives[\" key\"].apply(lambda x: int(x.split(\"/\")[-1]))\n",
    "    dock_inactives = pd.read_csv(f\"/p/vast1/jones289/LIT-PCBA-Data/{target_name}-inactives.csv\")\n",
    "    dock_inactives[\"id\"] = dock_inactives[\" key\"].apply(lambda x: int(x.split(\"/\")[-1]))\n",
    "\n",
    "\n",
    "    print(\"dock_actives.shape\", dock_actives.shape, \"dock_inactives.shape\",dock_inactives.shape)\n",
    "\n",
    "\n",
    "    # these are the smiles and IDs for the train/test compounds for the target\n",
    "    train_df = pd.concat([train_actives, train_inactives])\n",
    "    train_df[\"id\"] = train_df[1]\n",
    "    test_df = pd.concat([test_actives, test_inactives])\n",
    "    test_df[\"id\"] = test_df[1]\n",
    "\n",
    "    # import pdb\n",
    "    # pdb.set_trace()\n",
    "\n",
    "    if split == \"ave\":\n",
    "\n",
    "        print(\"train_df.shape\", train_df.shape, \"test_df.shape\", test_df.shape)\n",
    "    else:\n",
    "        \n",
    "        # load a random split file from an ml result and use those smiles strings instead\n",
    "\n",
    "        full_df = pd.concat([train_df, test_df])\n",
    "\n",
    "        ml_result_file = torch.load(f\"/p/vast1/jones289/hd_results/{SEED}/hdbind-rp-molformer.lit-pcba-{target_name}-random.{SEED}.pkl\")\n",
    "\n",
    "        test_smiles = ml_result_file['smiles_test']\n",
    "\n",
    "\n",
    "        test_df = pd.merge(full_df, pd.DataFrame.from_dict({\"smiles\": test_smiles.tolist()}), left_on=0, right_on=\"smiles\", how=\"inner\")\n",
    "\n",
    "        # import pdb\n",
    "        # pdb.set_trace()\n",
    "\n",
    "    dock_actives[\"dock_id\"] = dock_actives[' key'].apply(lambda x: int(x.split(\"/\")[-1]))\n",
    "    dock_inactives[\"dock_id\"] = dock_inactives[' key'].apply(lambda x: int(x.split(\"/\")[-1]))\n",
    "\n",
    "\n",
    "    print(\"dock_actives.shape\", dock_actives.shape, \"dock_inactives.shape\", dock_inactives.shape)\n",
    "\n",
    "\n",
    "    active_lig_map_df = pd.read_csv(f\"/p/vast1/jones289/LIT-PCBA-Data/lig_rec/lig-{target_name}-actives.csv\")\n",
    "    active_lig_map_df[\"id\"] = active_lig_map_df[\" key\"].apply(lambda x: int(x.split(\"/\")[-1]))\n",
    "\n",
    "\n",
    "    inactive_lig_map_df = pd.read_csv(f\"/p/vast1/jones289/LIT-PCBA-Data/lig_rec/lig-{target_name}-inactives.csv\")\n",
    "    inactive_lig_map_df[\"id\"] = inactive_lig_map_df[\" key\"].apply(lambda x: int(x.split(\"/\")[-1]))\n",
    "\n",
    "    print(\"active_lig_map_df.shape\", active_lig_map_df.shape, \"inactive_lig_map_df.shape\", inactive_lig_map_df.shape)\n",
    "\n",
    "    active_df = pd.merge(dock_actives, active_lig_map_df, left_on=\"dock_id\", right_on=\"id\")\n",
    "    inactive_df = pd.merge(dock_inactives, inactive_lig_map_df, left_on=\"dock_id\", right_on=\"id\")\n",
    "\n",
    "    print(\"active_df.shape\", active_df.shape, \"inactive_df.shape\", inactive_df.shape)\n",
    "\n",
    "    test_active_df = pd.merge(active_df, test_df, left_on=\" name\", right_on=\"id\")\n",
    "    test_inactive_df = pd.merge(inactive_df, test_df, left_on=\" name\", right_on=\"id\")\n",
    "\n",
    "    print(\"test_active_df.shape\", test_active_df.shape, \"test_inactive_df.shape\", test_inactive_df.shape)\n",
    "\n",
    "\n",
    "    test_df = pd.concat([test_active_df, test_inactive_df])\n",
    "\n",
    "    print(\"test_data size\", test_df.shape, test_df[\"id\"].unique().shape)\n",
    "\n",
    "\n",
    "    test_df[\"min_vina\"] = test_df[test_df.columns[11:21]].min(axis=1)\n",
    "    test_df[\"target\"] = [target_name] * len(test_df)\n",
    "\n",
    "\n",
    "    return test_df\n",
    "\n",
    "def load_lit_pcba_vina(split:str):\n",
    "    assert split is not None\n",
    "\n",
    "    target_tup_list = [\n",
    "        (\"492947\", \"ADRB2\"),\n",
    "        (\"1030\", \"ALDH1\"),\n",
    "        (\"743075\", \"ESR1_ago\"),\n",
    "        (\"743080\", \"ESR1_ant\"),\n",
    "        (\"588795\", \"FEN1\"),\n",
    "        (\"2101\", \"GBA\"),\n",
    "        (\"602179\", \"IDH1\"),\n",
    "        (\"504327\", \"KAT2A\"),\n",
    "        (\"995\", \"MAPK1\"),\n",
    "        (\"493208\", \"MTORC1\"),\n",
    "        (\"1777\", \"OPRK1\"),\n",
    "        (\"1631\", \"PKM2\"),\n",
    "        (\"743094\", \"PPARG\"),\n",
    "        (\"651631\", \"TP53\"),\n",
    "        (\"504847\", \"VDR\"),\n",
    "    ]\n",
    "\n",
    "\n",
    "    df_list = []\n",
    "    for target_id, target_name in target_tup_list:\n",
    "        print(target_id, target_name) \n",
    "        target_df = process_target(target_name, target_id=f\"AID{target_id}\", split=split)\n",
    "        df_list.append(target_df)\n",
    "        print()\n",
    "\n",
    "\n",
    "    df = pd.concat(df_list)\n",
    "\n",
    "    # import pdb\n",
    "    # pdb.set_trace()\n",
    "    return df"
   ]
  },
  {
   "cell_type": "code",
   "execution_count": 13,
   "metadata": {},
   "outputs": [],
   "source": [
    "def make_swarm_plot(model_dict, model_list, enrich_1_df, enrich_10_df, dataset:str, split:str):\n",
    "    \n",
    "    assert model_list is not None\n",
    "    enrich_f, enrich_ax = plt.subplots(2,1, figsize=figsize, sharex=True, sharey=False)\n",
    "    enrich_ax = enrich_ax.flatten()\n",
    "    enrich_1_ax, enrich_10_ax = enrich_ax[0], enrich_ax[1]\n",
    "    \n",
    "    \n",
    "    # enrich_f.suptitle(f\"{dataset.upper()} ({split})\")\n",
    "\n",
    "    if split == \"random\":\n",
    "\n",
    "        enrich_ax[0].set_title(f\"Random\")\n",
    "    elif split == \"ave\":\n",
    "\n",
    "        enrich_ax[0].set_title(f\"AVE\")\n",
    "    \n",
    "    sns.swarmplot(data=enrich_1_df, x=\"model\", y=\"enrich\", \n",
    "                  order=model_list,\n",
    "                  palette={key: model_dict[key][1] for key in model_list},\n",
    "                  ax=enrich_1_ax)\n",
    "    enrich_1_ax.set_title(f\"Enrichment at 1\\%\", fontdict={\"fontsize\": 18})\n",
    "    enrich_1_ax.set_xlabel(\"\")\n",
    "    enrich_1_ax.set_ylabel(\"\")\n",
    "    enrich_1_ax.tick_params(axis=\"x\", labelrotation=22.5)\n",
    "\n",
    "    enrich_1_ax.set_ylabel(\"EF\")\n",
    "\n",
    "    plt.tight_layout()\n",
    "\n",
    "        \n",
    "    sns.swarmplot(data=enrich_10_df, x=\"model\", y=\"enrich\",\n",
    "                  order=model_list,\n",
    "                  palette={key: model_dict[key][1] for key in model_list},\n",
    "                  ax=enrich_10_ax)\n",
    "\n",
    "    enrich_10_ax.set_title(f\"Enrichment at 10\\%\", fontdict={\"fontsize\": 18})\n",
    "    enrich_10_ax.set_xlabel(\"\")\n",
    "    enrich_10_ax.set_ylabel(\"\")\n",
    "    enrich_10_ax.tick_params(axis=\"x\", labelrotation=22.5)\n",
    "    labels = [model_dict[item.get_text()][0] for item in enrich_10_ax.get_xticklabels()]\n",
    "\n",
    "    enrich_10_ax.set_xticklabels(labels)\n",
    "    enrich_ax[0].set_ylabel(\"EF\")\n",
    "    enrich_ax[1].set_ylabel(\"EF\")\n",
    "\n",
    "    plt.tight_layout()\n",
    "\n",
    "    enrich_f.savefig(f\"{dataset}-{split}-enrich-swarm.png\", dpi=600, bbox_inches=\"tight\")\n",
    "\n",
    "\n",
    "def make_violin_plot(model_dict, model_list, enrich_1_df, enrich_10_df, dataset:str, split:str):\n",
    "    \n",
    "    assert model_list is not None\n",
    "    enrich_f, enrich_ax = plt.subplots(2,1, figsize=figsize, sharex=True, sharey=False)\n",
    "    enrich_ax = enrich_ax.flatten()\n",
    "    enrich_1_ax, enrich_10_ax = enrich_ax[0], enrich_ax[1]\n",
    "    \n",
    "    \n",
    "    # enrich_f.suptitle(f\"{dataset.upper()} ({split})\")\n",
    "\n",
    "    if split == \"random\":\n",
    "\n",
    "        enrich_ax[0].set_title(f\"Random\")\n",
    "    elif split == \"ave\":\n",
    "\n",
    "        enrich_ax[0].set_title(f\"AVE\")\n",
    "    \n",
    "    sns.violinplot(data=enrich_1_df, x=\"model\", y=\"enrich\", \n",
    "                  order=model_list,\n",
    "                  palette={key: model_dict[key][1] for key in model_list},\n",
    "                  ax=enrich_1_ax)\n",
    "    enrich_1_ax.set_title(f\"Enrichment at 1\\%\", fontdict={\"fontsize\": 18})\n",
    "    enrich_1_ax.set_xlabel(\"\")\n",
    "    enrich_1_ax.set_ylabel(\"\")\n",
    "    enrich_1_ax.tick_params(axis=\"x\", labelrotation=22.5)\n",
    "\n",
    "    enrich_1_ax.set_ylabel(\"EF\")\n",
    "\n",
    "    plt.tight_layout()\n",
    "\n",
    "        \n",
    "    sns.violinplot(data=enrich_10_df, x=\"model\", y=\"enrich\",\n",
    "                  order=model_list,\n",
    "                  palette={key: model_dict[key][1] for key in model_list},\n",
    "                  ax=enrich_10_ax)\n",
    "\n",
    "    enrich_10_ax.set_title(f\"Enrichment at 10\\%\", fontdict={\"fontsize\": 18})\n",
    "    enrich_10_ax.set_xlabel(\"\")\n",
    "    enrich_10_ax.set_ylabel(\"\")\n",
    "    enrich_10_ax.tick_params(axis=\"x\", labelrotation=22.5)\n",
    "    labels = [model_dict[item.get_text()][0] for item in enrich_10_ax.get_xticklabels()]\n",
    "\n",
    "    enrich_10_ax.set_xticklabels(labels)\n",
    "    enrich_ax[0].set_ylabel(\"EF\")\n",
    "    enrich_ax[1].set_ylabel(\"EF\")\n",
    "\n",
    "    plt.tight_layout()\n",
    "\n",
    "    enrich_f.savefig(f\"{dataset}-{split}-enrich-violin.png\", dpi=600, bbox_inches=\"tight\")\n",
    "\n",
    "\n",
    "def compute_model_metric_df(model_dict, model_list, dataset, split, target_list=None):\n",
    "    \n",
    "    assert target_list is not None\n",
    "    if model_list is None:\n",
    "        model_list = list(model_dict.keys()) # use all models if nothing is provided\n",
    "    # docking_df = load_lit_pcba_vina(target_list=target_list, split=split)\n",
    "    docking_df = load_lit_pcba_vina(split=split) # need an argument to load the data for the random splits\n",
    "\n",
    "    \n",
    "    model_metric_df = aggregate_results(model_list=model_list, dataset=dataset,\n",
    "                                        split=split, target_list=target_list)\n",
    "    \n",
    "\n",
    "    # docking_dict = {\"enrich\": [], \"p\": [], \"model\": [], \"target\": []}\n",
    "    docking_dict = {\"enrich\": [], \"model\": [], \"target\": []}\n",
    "\n",
    "    vina_col='min_vina'\n",
    "    label_col = \"label\"\n",
    "    for target, target_df in docking_df.groupby(\"target\"):\n",
    "        enrich = compute_roc_enrichment(scores=np.abs(target_df[vina_col]), \n",
    "                                      labels=target_df[label_col], \n",
    "                                      fpr_thresh=.01)\n",
    "\n",
    "        docking_dict[\"enrich\"].append(float(enrich))\n",
    "        # docking_dict[\"p\"].append(p)\n",
    "        docking_dict[\"model\"].append(\"Vina\")\n",
    "        docking_dict[\"target\"].append(target)\n",
    "        # for p in [.1, .01]:\n",
    "            # enrich = compute_enrichment_factor(scores=np.abs(target_df[vina_col]), \n",
    "                                    #   labels=target_df[label_col], \n",
    "                                    #   n_percent=p)\n",
    "\n",
    "            # docking_dict[\"enrich\"].append(float(enrich))\n",
    "            # docking_dict[\"p\"].append(p)\n",
    "            # docking_dict[\"model\"].append(\"Vina\")\n",
    "            # docking_dict[\"target\"].append(target)\n",
    "\n",
    "    # takes the data extracted from the ml/hdbind methods and sticks the docking data on the bottom \n",
    "    model_metric_df = pd.concat([model_metric_df, pd.DataFrame(docking_dict)])\n",
    "    \n",
    "    \n",
    "    # take the average over the random seeds dimension for each combo of MODEL X TARGET X P\n",
    "    # grp_df = (model_metric_df).groupby([\"model\", \"target\", \"p\"])[\"enrich\"].mean().reset_index()\n",
    "    # grp_df = (model_metric_df).groupby([\"model\", \"target\", \"p\"]) \n",
    "    # grp_df = grp_df.sort_values(by=\"model\")\n",
    "    \n",
    "    grp_df = model_metric_df.sort_values(by=\"model\")\n",
    "    grp_df[\"model\"].apply(lambda x: model_dict[x][0])\n",
    "    \n",
    "    # for name, group in grp_df.groupby([\"model\", \"p\"]):\n",
    "        # print(name)\n",
    "        # print(group.describe())\n",
    "\n",
    "\n",
    "    # make_swarm_plot(model_dict=model_dict, model_list=model_list, enrich_1_df=grp_df[grp_df[\"p\"] == .01], \n",
    "        #   enrich_10_df=grp_df[grp_df[\"p\"] == .1],\n",
    "            #  dataset=dataset, split=split)\n",
    "\n",
    "    # make_violin_plot(model_dict=model_dict, model_list=model_list, enrich_1_df=grp_df[grp_df[\"p\"] == .01], \n",
    "        #   enrich_10_df=grp_df[grp_df[\"p\"] == .1],\n",
    "            #  dataset=dataset, split=split)\n",
    "\n",
    "\n",
    "    \n",
    "    return grp_df\n"
   ]
  },
  {
   "cell_type": "markdown",
   "metadata": {},
   "source": []
  },
  {
   "cell_type": "code",
   "execution_count": 14,
   "metadata": {
    "scrolled": true
   },
   "outputs": [
    {
     "name": "stdout",
     "output_type": "stream",
     "text": [
      "492947 ADRB2\n",
      "train_actives.shape (13, 3) train_inactives.shape (234363, 3) test_actives.shape (4, 3) test_inactives.shape (78120, 3)\n",
      "dock_actives.shape (128, 23) dock_inactives.shape (2499856, 23)\n",
      "train_df.shape (234376, 4) test_df.shape (78124, 4)\n",
      "dock_actives.shape (128, 24) dock_inactives.shape (2499856, 24)\n",
      "active_lig_map_df.shape (16, 7) inactive_lig_map_df.shape (312482, 7)\n",
      "active_df.shape (128, 31) inactive_df.shape (2499856, 31)\n",
      "test_active_df.shape (32, 35) test_inactive_df.shape (624960, 35)\n",
      "test_data size (624992, 35) (78124,)\n"
     ]
    },
    {
     "name": "stderr",
     "output_type": "stream",
     "text": [
      "/var/tmp/jones289/ipykernel_4109729/2180457326.py:91: FutureWarning: Dropping of nuisance columns in DataFrame reductions (with 'numeric_only=None') is deprecated; in a future version this will raise TypeError.  Select only valid columns before calling the reduction.\n",
      "  test_df[\"min_vina\"] = test_df[test_df.columns[11:21]].min(axis=1)\n"
     ]
    },
    {
     "name": "stdout",
     "output_type": "stream",
     "text": [
      "\n",
      "1030 ALDH1\n",
      "train_actives.shape (4032, 3) train_inactives.shape (77606, 3) test_actives.shape (1344, 3) test_inactives.shape (25868, 3)\n",
      "dock_actives.shape (57336, 23) dock_inactives.shape (1103712, 23)\n",
      "train_df.shape (81638, 4) test_df.shape (27212, 4)\n",
      "dock_actives.shape (57336, 24) dock_inactives.shape (1103712, 24)\n",
      "active_lig_map_df.shape (7167, 7) inactive_lig_map_df.shape (137964, 7)\n",
      "active_df.shape (57336, 31) inactive_df.shape (1103712, 31)\n",
      "test_active_df.shape (10744, 35) test_inactive_df.shape (206944, 35)\n",
      "test_data size (217688, 35) (27211,)\n"
     ]
    },
    {
     "name": "stderr",
     "output_type": "stream",
     "text": [
      "/var/tmp/jones289/ipykernel_4109729/2180457326.py:91: FutureWarning: Dropping of nuisance columns in DataFrame reductions (with 'numeric_only=None') is deprecated; in a future version this will raise TypeError.  Select only valid columns before calling the reduction.\n",
      "  test_df[\"min_vina\"] = test_df[test_df.columns[11:21]].min(axis=1)\n"
     ]
    },
    {
     "name": "stdout",
     "output_type": "stream",
     "text": [
      "\n",
      "743075 ESR1_ago\n",
      "train_actives.shape (10, 3) train_inactives.shape (4188, 3) test_actives.shape (3, 3) test_inactives.shape (1395, 3)\n",
      "dock_actives.shape (180, 23) dock_inactives.shape (83730, 23)\n",
      "train_df.shape (4198, 4) test_df.shape (1398, 4)\n",
      "dock_actives.shape (180, 24) dock_inactives.shape (83730, 24)\n",
      "active_lig_map_df.shape (12, 7) inactive_lig_map_df.shape (5582, 7)\n",
      "active_df.shape (180, 31) inactive_df.shape (83730, 31)\n",
      "test_active_df.shape (45, 35) test_inactive_df.shape (20925, 35)\n",
      "test_data size (20970, 35) (1398,)\n",
      "\n",
      "743080 ESR1_ant\n",
      "train_actives.shape (77, 3) train_inactives.shape (3711, 3) test_actives.shape (25, 3) test_inactives.shape (1237, 3)\n"
     ]
    },
    {
     "name": "stderr",
     "output_type": "stream",
     "text": [
      "/var/tmp/jones289/ipykernel_4109729/2180457326.py:91: FutureWarning: Dropping of nuisance columns in DataFrame reductions (with 'numeric_only=None') is deprecated; in a future version this will raise TypeError.  Select only valid columns before calling the reduction.\n",
      "  test_df[\"min_vina\"] = test_df[test_df.columns[11:21]].min(axis=1)\n"
     ]
    },
    {
     "name": "stdout",
     "output_type": "stream",
     "text": [
      "dock_actives.shape (1515, 23) dock_inactives.shape (74205, 23)\n",
      "train_df.shape (3788, 4) test_df.shape (1262, 4)\n",
      "dock_actives.shape (1515, 24) dock_inactives.shape (74205, 24)\n",
      "active_lig_map_df.shape (101, 7) inactive_lig_map_df.shape (4947, 7)\n",
      "active_df.shape (1515, 31) inactive_df.shape (74205, 31)\n",
      "test_active_df.shape (375, 35) test_inactive_df.shape (18540, 35)\n",
      "test_data size (18915, 35) (1261,)\n"
     ]
    },
    {
     "name": "stderr",
     "output_type": "stream",
     "text": [
      "/var/tmp/jones289/ipykernel_4109729/2180457326.py:91: FutureWarning: Dropping of nuisance columns in DataFrame reductions (with 'numeric_only=None') is deprecated; in a future version this will raise TypeError.  Select only valid columns before calling the reduction.\n",
      "  test_df[\"min_vina\"] = test_df[test_df.columns[11:21]].min(axis=1)\n"
     ]
    },
    {
     "name": "stdout",
     "output_type": "stream",
     "text": [
      "\n",
      "588795 FEN1\n",
      "train_actives.shape (277, 3) train_inactives.shape (266552, 3) test_actives.shape (92, 3) test_inactives.shape (88850, 3)\n",
      "dock_actives.shape (368, 23) dock_inactives.shape (355401, 23)\n",
      "train_df.shape (266829, 4) test_df.shape (88942, 4)\n",
      "dock_actives.shape (368, 24) dock_inactives.shape (355401, 24)\n",
      "active_lig_map_df.shape (368, 7) inactive_lig_map_df.shape (355401, 7)\n",
      "active_df.shape (368, 31) inactive_df.shape (355401, 31)\n",
      "test_active_df.shape (92, 35) test_inactive_df.shape (88850, 35)\n",
      "test_data size (88942, 35) (88942,)\n"
     ]
    },
    {
     "name": "stderr",
     "output_type": "stream",
     "text": [
      "/var/tmp/jones289/ipykernel_4109729/2180457326.py:91: FutureWarning: Dropping of nuisance columns in DataFrame reductions (with 'numeric_only=None') is deprecated; in a future version this will raise TypeError.  Select only valid columns before calling the reduction.\n",
      "  test_df[\"min_vina\"] = test_df[test_df.columns[11:21]].min(axis=1)\n"
     ]
    },
    {
     "name": "stdout",
     "output_type": "stream",
     "text": [
      "\n",
      "2101 GBA\n",
      "train_actives.shape (125, 3) train_inactives.shape (222039, 3) test_actives.shape (41, 3) test_inactives.shape (74013, 3)\n",
      "dock_actives.shape (990, 23) dock_inactives.shape (1776306, 23)\n",
      "train_df.shape (222164, 4) test_df.shape (74054, 4)\n",
      "dock_actives.shape (990, 24) dock_inactives.shape (1776306, 24)\n",
      "active_lig_map_df.shape (165, 7) inactive_lig_map_df.shape (296051, 7)\n",
      "active_df.shape (990, 31) inactive_df.shape (1776306, 31)\n",
      "test_active_df.shape (246, 35) test_inactive_df.shape (444078, 35)\n",
      "test_data size (444324, 35) (74054,)\n"
     ]
    },
    {
     "name": "stderr",
     "output_type": "stream",
     "text": [
      "/var/tmp/jones289/ipykernel_4109729/2180457326.py:91: FutureWarning: Dropping of nuisance columns in DataFrame reductions (with 'numeric_only=None') is deprecated; in a future version this will raise TypeError.  Select only valid columns before calling the reduction.\n",
      "  test_df[\"min_vina\"] = test_df[test_df.columns[11:21]].min(axis=1)\n"
     ]
    },
    {
     "name": "stdout",
     "output_type": "stream",
     "text": [
      "\n",
      "602179 IDH1\n",
      "train_actives.shape (30, 3) train_inactives.shape (271537, 3) test_actives.shape (9, 3) test_inactives.shape (90512, 3)\n",
      "dock_actives.shape (532, 23) dock_inactives.shape (5068672, 23)\n",
      "train_df.shape (271567, 4) test_df.shape (90521, 4)\n",
      "dock_actives.shape (532, 24) dock_inactives.shape (5068672, 24)\n",
      "active_lig_map_df.shape (38, 7) inactive_lig_map_df.shape (362048, 7)\n",
      "active_df.shape (532, 31) inactive_df.shape (5068672, 31)\n",
      "test_active_df.shape (126, 35) test_inactive_df.shape (1267168, 35)\n",
      "test_data size (1267294, 35) (90521,)\n"
     ]
    },
    {
     "name": "stderr",
     "output_type": "stream",
     "text": [
      "/var/tmp/jones289/ipykernel_4109729/2180457326.py:91: FutureWarning: Dropping of nuisance columns in DataFrame reductions (with 'numeric_only=None') is deprecated; in a future version this will raise TypeError.  Select only valid columns before calling the reduction.\n",
      "  test_df[\"min_vina\"] = test_df[test_df.columns[11:21]].min(axis=1)\n"
     ]
    },
    {
     "name": "stdout",
     "output_type": "stream",
     "text": [
      "\n",
      "504327 KAT2A\n",
      "train_actives.shape (146, 3) train_inactives.shape (261411, 3) test_actives.shape (48, 3) test_inactives.shape (87137, 3)\n",
      "dock_actives.shape (579, 23) dock_inactives.shape (1045641, 23)\n",
      "train_df.shape (261557, 4) test_df.shape (87185, 4)\n",
      "dock_actives.shape (579, 24) dock_inactives.shape (1045641, 24)\n",
      "active_lig_map_df.shape (193, 7) inactive_lig_map_df.shape (348547, 7)\n",
      "active_df.shape (579, 31) inactive_df.shape (1045641, 31)\n",
      "test_active_df.shape (144, 35) test_inactive_df.shape (261411, 35)\n",
      "test_data size (261555, 35) (87185,)\n"
     ]
    },
    {
     "name": "stderr",
     "output_type": "stream",
     "text": [
      "/var/tmp/jones289/ipykernel_4109729/2180457326.py:91: FutureWarning: Dropping of nuisance columns in DataFrame reductions (with 'numeric_only=None') is deprecated; in a future version this will raise TypeError.  Select only valid columns before calling the reduction.\n",
      "  test_df[\"min_vina\"] = test_df[test_df.columns[11:21]].min(axis=1)\n"
     ]
    },
    {
     "name": "stdout",
     "output_type": "stream",
     "text": [
      "\n",
      "995 MAPK1\n",
      "train_actives.shape (231, 3) train_inactives.shape (46972, 3) test_actives.shape (77, 3) test_inactives.shape (15657, 3)\n",
      "dock_actives.shape (4605, 23) dock_inactives.shape (939420, 23)\n",
      "train_df.shape (47203, 4) test_df.shape (15734, 4)\n",
      "dock_actives.shape (4605, 24) dock_inactives.shape (939420, 24)\n",
      "active_lig_map_df.shape (307, 7) inactive_lig_map_df.shape (62628, 7)\n",
      "active_df.shape (4605, 31) inactive_df.shape (939420, 31)\n",
      "test_active_df.shape (1155, 35) test_inactive_df.shape (234855, 35)\n",
      "test_data size (236010, 35) (15734,)\n"
     ]
    },
    {
     "name": "stderr",
     "output_type": "stream",
     "text": [
      "/var/tmp/jones289/ipykernel_4109729/2180457326.py:91: FutureWarning: Dropping of nuisance columns in DataFrame reductions (with 'numeric_only=None') is deprecated; in a future version this will raise TypeError.  Select only valid columns before calling the reduction.\n",
      "  test_df[\"min_vina\"] = test_df[test_df.columns[11:21]].min(axis=1)\n"
     ]
    },
    {
     "name": "stdout",
     "output_type": "stream",
     "text": [
      "\n",
      "493208 MTORC1\n",
      "train_actives.shape (73, 3) train_inactives.shape (24729, 3) test_actives.shape (24, 3) test_inactives.shape (8243, 3)\n"
     ]
    },
    {
     "name": "stderr",
     "output_type": "stream",
     "text": [
      "/var/tmp/jones289/ipykernel_4109729/2180457326.py:24: DtypeWarning: Columns (12,13,14) have mixed types. Specify dtype option on import or set low_memory=False.\n",
      "  dock_inactives = pd.read_csv(f\"/p/vast1/jones289/LIT-PCBA-Data/{target_name}-inactives.csv\")\n"
     ]
    },
    {
     "name": "stdout",
     "output_type": "stream",
     "text": [
      "dock_actives.shape (1056, 23) dock_inactives.shape (362681, 23)\n",
      "train_df.shape (24802, 4) test_df.shape (8267, 4)\n",
      "dock_actives.shape (1056, 24) dock_inactives.shape (362681, 24)\n",
      "active_lig_map_df.shape (96, 7) inactive_lig_map_df.shape (32971, 7)\n",
      "active_df.shape (1056, 31) inactive_df.shape (362681, 31)\n",
      "test_active_df.shape (253, 35) test_inactive_df.shape (90662, 35)\n",
      "test_data size (90915, 35) (8265,)\n"
     ]
    },
    {
     "name": "stderr",
     "output_type": "stream",
     "text": [
      "/var/tmp/jones289/ipykernel_4109729/2180457326.py:91: FutureWarning: Dropping of nuisance columns in DataFrame reductions (with 'numeric_only=None') is deprecated; in a future version this will raise TypeError.  Select only valid columns before calling the reduction.\n",
      "  test_df[\"min_vina\"] = test_df[test_df.columns[11:21]].min(axis=1)\n"
     ]
    },
    {
     "name": "stdout",
     "output_type": "stream",
     "text": [
      "\n",
      "1777 OPRK1\n",
      "train_actives.shape (18, 3) train_inactives.shape (202362, 3) test_actives.shape (6, 3) test_inactives.shape (67454, 3)\n",
      "dock_actives.shape (23, 23) dock_inactives.shape (269815, 23)\n",
      "train_df.shape (202380, 4) test_df.shape (67460, 4)\n",
      "dock_actives.shape (23, 24) dock_inactives.shape (269815, 24)\n",
      "active_lig_map_df.shape (23, 7) inactive_lig_map_df.shape (269815, 7)\n",
      "active_df.shape (23, 31) inactive_df.shape (269815, 31)\n",
      "test_active_df.shape (6, 35) test_inactive_df.shape (67454, 35)\n",
      "test_data size (67460, 35) (67460,)\n",
      "\n",
      "1631 PKM2\n"
     ]
    },
    {
     "name": "stderr",
     "output_type": "stream",
     "text": [
      "/var/tmp/jones289/ipykernel_4109729/2180457326.py:91: FutureWarning: Dropping of nuisance columns in DataFrame reductions (with 'numeric_only=None') is deprecated; in a future version this will raise TypeError.  Select only valid columns before calling the reduction.\n",
      "  test_df[\"min_vina\"] = test_df[test_df.columns[11:21]].min(axis=1)\n"
     ]
    },
    {
     "name": "stdout",
     "output_type": "stream",
     "text": [
      "train_actives.shape (410, 3) train_inactives.shape (184143, 3) test_actives.shape (136, 3) test_inactives.shape (61380, 3)\n",
      "dock_actives.shape (4905, 23) dock_inactives.shape (2209698, 23)\n",
      "train_df.shape (184553, 4) test_df.shape (61516, 4)\n",
      "dock_actives.shape (4905, 24) dock_inactives.shape (2209698, 24)\n",
      "active_lig_map_df.shape (545, 7) inactive_lig_map_df.shape (245522, 7)\n",
      "active_df.shape (4905, 31) inactive_df.shape (2209698, 31)\n",
      "test_active_df.shape (1224, 35) test_inactive_df.shape (552420, 35)\n",
      "test_data size (553644, 35) (61516,)\n"
     ]
    },
    {
     "name": "stderr",
     "output_type": "stream",
     "text": [
      "/var/tmp/jones289/ipykernel_4109729/2180457326.py:91: FutureWarning: Dropping of nuisance columns in DataFrame reductions (with 'numeric_only=None') is deprecated; in a future version this will raise TypeError.  Select only valid columns before calling the reduction.\n",
      "  test_df[\"min_vina\"] = test_df[test_df.columns[11:21]].min(axis=1)\n"
     ]
    },
    {
     "name": "stdout",
     "output_type": "stream",
     "text": [
      "\n",
      "743094 PPARG\n",
      "train_actives.shape (21, 3) train_inactives.shape (3909, 3) test_actives.shape (6, 3) test_inactives.shape (1302, 3)\n",
      "dock_actives.shape (390, 23) dock_inactives.shape (78150, 23)\n",
      "train_df.shape (3930, 4) test_df.shape (1308, 4)\n",
      "dock_actives.shape (390, 24) dock_inactives.shape (78150, 24)\n",
      "active_lig_map_df.shape (26, 7) inactive_lig_map_df.shape (5210, 7)\n",
      "active_df.shape (390, 31) inactive_df.shape (78150, 31)\n",
      "test_active_df.shape (90, 35) test_inactive_df.shape (19530, 35)\n",
      "test_data size (19620, 35) (1308,)\n",
      "\n",
      "651631 TP53\n",
      "train_actives.shape (60, 3) train_inactives.shape (3126, 3) test_actives.shape (19, 3) test_inactives.shape (1042, 3)\n",
      "dock_actives.shape (468, 23) dock_inactives.shape (25002, 23)\n",
      "train_df.shape (3186, 4) test_df.shape (1061, 4)\n",
      "dock_actives.shape (468, 24) dock_inactives.shape (25002, 24)\n"
     ]
    },
    {
     "name": "stderr",
     "output_type": "stream",
     "text": [
      "/var/tmp/jones289/ipykernel_4109729/2180457326.py:91: FutureWarning: Dropping of nuisance columns in DataFrame reductions (with 'numeric_only=None') is deprecated; in a future version this will raise TypeError.  Select only valid columns before calling the reduction.\n",
      "  test_df[\"min_vina\"] = test_df[test_df.columns[11:21]].min(axis=1)\n"
     ]
    },
    {
     "name": "stdout",
     "output_type": "stream",
     "text": [
      "active_lig_map_df.shape (78, 7) inactive_lig_map_df.shape (4167, 7)\n",
      "active_df.shape (468, 31) inactive_df.shape (25002, 31)\n",
      "test_active_df.shape (114, 35) test_inactive_df.shape (6252, 35)\n",
      "test_data size (6366, 35) (1061,)\n",
      "\n",
      "504847 VDR\n"
     ]
    },
    {
     "name": "stderr",
     "output_type": "stream",
     "text": [
      "/var/tmp/jones289/ipykernel_4109729/2180457326.py:91: FutureWarning: Dropping of nuisance columns in DataFrame reductions (with 'numeric_only=None') is deprecated; in a future version this will raise TypeError.  Select only valid columns before calling the reduction.\n",
      "  test_df[\"min_vina\"] = test_df[test_df.columns[11:21]].min(axis=1)\n"
     ]
    },
    {
     "name": "stdout",
     "output_type": "stream",
     "text": [
      "train_actives.shape (498, 3) train_inactives.shape (199906, 3) test_actives.shape (165, 3) test_inactives.shape (66635, 3)\n",
      "dock_actives.shape (1766, 23) dock_inactives.shape (710774, 23)\n",
      "train_df.shape (200404, 4) test_df.shape (66800, 4)\n",
      "dock_actives.shape (1766, 24) dock_inactives.shape (710774, 24)\n",
      "active_lig_map_df.shape (883, 7) inactive_lig_map_df.shape (355387, 7)\n",
      "active_df.shape (1766, 31) inactive_df.shape (710774, 31)\n",
      "test_active_df.shape (330, 35) test_inactive_df.shape (133270, 35)\n",
      "test_data size (133600, 35) (66800,)\n"
     ]
    },
    {
     "name": "stderr",
     "output_type": "stream",
     "text": [
      "/var/tmp/jones289/ipykernel_4109729/2180457326.py:91: FutureWarning: Dropping of nuisance columns in DataFrame reductions (with 'numeric_only=None') is deprecated; in a future version this will raise TypeError.  Select only valid columns before calling the reduction.\n",
      "  test_df[\"min_vina\"] = test_df[test_df.columns[11:21]].min(axis=1)\n"
     ]
    },
    {
     "name": "stdout",
     "output_type": "stream",
     "text": [
      "\n"
     ]
    },
    {
     "name": "stderr",
     "output_type": "stream",
     "text": [
      "  0%|          | 0/15 [00:00<?, ?it/s]\n",
      "  0%|          | 0/38 [00:00<?, ?it/s]\n"
     ]
    },
    {
     "name": "stdout",
     "output_type": "stream",
     "text": [
      "ADRB2 /p/vast1/jones289/hd_results/5/molehd-bpe.lit-pcba-ADRB2-ave.5.pkl molehd-bpe\n",
      "mismatched index, converting float to numpy array\n"
     ]
    },
    {
     "ename": "UnboundLocalError",
     "evalue": "local variable 'trial_idx' referenced before assignment",
     "output_type": "error",
     "traceback": [
      "\u001b[0;31m---------------------------------------------------------------------------\u001b[0m",
      "\u001b[0;31mUnboundLocalError\u001b[0m                         Traceback (most recent call last)",
      "Input \u001b[0;32mIn [14]\u001b[0m, in \u001b[0;36m<cell line: 2>\u001b[0;34m()\u001b[0m\n\u001b[1;32m      1\u001b[0m \u001b[38;5;66;03m# ave_df = compute_model_metric_df(model_dict=model_dict, model_list=model_10k_list, dataset=\"lit-pcba\", split=\"ave\", target_list=\"all\")\u001b[39;00m\n\u001b[0;32m----> 2\u001b[0m ave_df \u001b[38;5;241m=\u001b[39m \u001b[43mcompute_model_metric_df\u001b[49m\u001b[43m(\u001b[49m\u001b[43mmodel_dict\u001b[49m\u001b[38;5;241;43m=\u001b[39;49m\u001b[43mmodel_dict\u001b[49m\u001b[43m,\u001b[49m\u001b[43m \u001b[49m\u001b[43mmodel_list\u001b[49m\u001b[38;5;241;43m=\u001b[39;49m\u001b[38;5;28;43mlist\u001b[39;49m\u001b[43m(\u001b[49m\u001b[43mmodel_dict\u001b[49m\u001b[38;5;241;43m.\u001b[39;49m\u001b[43mkeys\u001b[49m\u001b[43m(\u001b[49m\u001b[43m)\u001b[49m\u001b[43m)\u001b[49m\u001b[43m,\u001b[49m\u001b[43m \u001b[49m\u001b[43mdataset\u001b[49m\u001b[38;5;241;43m=\u001b[39;49m\u001b[38;5;124;43m\"\u001b[39;49m\u001b[38;5;124;43mlit-pcba\u001b[39;49m\u001b[38;5;124;43m\"\u001b[39;49m\u001b[43m,\u001b[49m\u001b[43m \u001b[49m\u001b[43msplit\u001b[49m\u001b[38;5;241;43m=\u001b[39;49m\u001b[38;5;124;43m\"\u001b[39;49m\u001b[38;5;124;43mave\u001b[39;49m\u001b[38;5;124;43m\"\u001b[39;49m\u001b[43m,\u001b[49m\u001b[43m \u001b[49m\u001b[43mtarget_list\u001b[49m\u001b[38;5;241;43m=\u001b[39;49m\u001b[38;5;124;43m\"\u001b[39;49m\u001b[38;5;124;43mall\u001b[39;49m\u001b[38;5;124;43m\"\u001b[39;49m\u001b[43m)\u001b[49m\n\u001b[1;32m      3\u001b[0m ave_df\u001b[38;5;241m.\u001b[39mto_csv(\u001b[38;5;124m\"\u001b[39m\u001b[38;5;124mlit-pcba-metrics-10k-ave-full.csv\u001b[39m\u001b[38;5;124m\"\u001b[39m)\n",
      "Input \u001b[0;32mIn [13]\u001b[0m, in \u001b[0;36mcompute_model_metric_df\u001b[0;34m(model_dict, model_list, dataset, split, target_list)\u001b[0m\n\u001b[1;32m    108\u001b[0m \u001b[38;5;66;03m# docking_df = load_lit_pcba_vina(target_list=target_list, split=split)\u001b[39;00m\n\u001b[1;32m    109\u001b[0m docking_df \u001b[38;5;241m=\u001b[39m load_lit_pcba_vina(split\u001b[38;5;241m=\u001b[39msplit) \u001b[38;5;66;03m# need an argument to load the data for the random splits\u001b[39;00m\n\u001b[0;32m--> 112\u001b[0m model_metric_df \u001b[38;5;241m=\u001b[39m \u001b[43maggregate_results\u001b[49m\u001b[43m(\u001b[49m\u001b[43mmodel_list\u001b[49m\u001b[38;5;241;43m=\u001b[39;49m\u001b[43mmodel_list\u001b[49m\u001b[43m,\u001b[49m\u001b[43m \u001b[49m\u001b[43mdataset\u001b[49m\u001b[38;5;241;43m=\u001b[39;49m\u001b[43mdataset\u001b[49m\u001b[43m,\u001b[49m\n\u001b[1;32m    113\u001b[0m \u001b[43m                                    \u001b[49m\u001b[43msplit\u001b[49m\u001b[38;5;241;43m=\u001b[39;49m\u001b[43msplit\u001b[49m\u001b[43m,\u001b[49m\u001b[43m \u001b[49m\u001b[43mtarget_list\u001b[49m\u001b[38;5;241;43m=\u001b[39;49m\u001b[43mtarget_list\u001b[49m\u001b[43m)\u001b[49m\n\u001b[1;32m    116\u001b[0m \u001b[38;5;66;03m# docking_dict = {\"enrich\": [], \"p\": [], \"model\": [], \"target\": []}\u001b[39;00m\n\u001b[1;32m    117\u001b[0m docking_dict \u001b[38;5;241m=\u001b[39m {\u001b[38;5;124m\"\u001b[39m\u001b[38;5;124menrich\u001b[39m\u001b[38;5;124m\"\u001b[39m: [], \u001b[38;5;124m\"\u001b[39m\u001b[38;5;124mmodel\u001b[39m\u001b[38;5;124m\"\u001b[39m: [], \u001b[38;5;124m\"\u001b[39m\u001b[38;5;124mtarget\u001b[39m\u001b[38;5;124m\"\u001b[39m: []}\n",
      "Input \u001b[0;32mIn [11]\u001b[0m, in \u001b[0;36maggregate_results\u001b[0;34m(model_list, dataset, split, target_list)\u001b[0m\n\u001b[1;32m     69\u001b[0m             model_data_dict[\u001b[38;5;124m\"\u001b[39m\u001b[38;5;124mtrials\u001b[39m\u001b[38;5;124m\"\u001b[39m][trial_idx][\u001b[38;5;124m\"\u001b[39m\u001b[38;5;124mer-1\u001b[39m\u001b[38;5;124m\"\u001b[39m] \u001b[38;5;241m=\u001b[39m trial_er_1\n\u001b[1;32m     72\u001b[0m     \u001b[38;5;66;03m# mean_er_1 = np.mean([value[\"er-1\"] for value in model_data_dict[\"trials\"].values()])\u001b[39;00m\n\u001b[1;32m     73\u001b[0m     \u001b[38;5;66;03m# std_er_1 = np.std([value[\"er-1\"] for value in model_data_dict[\"trials\"].values()])\u001b[39;00m\n\u001b[1;32m     74\u001b[0m     \u001b[38;5;66;03m# er_1_mean_values.append(\u001b[39;00m\n\u001b[0;32m   (...)\u001b[0m\n\u001b[1;32m     79\u001b[0m     \u001b[38;5;66;03m# )\u001b[39;00m\n\u001b[1;32m     80\u001b[0m     \u001b[38;5;66;03m# torch.save(result_dict, output_file) \u001b[39;00m\n\u001b[0;32m---> 81\u001b[0m er_1 \u001b[38;5;241m=\u001b[39m model_data_dict[\u001b[38;5;124m\"\u001b[39m\u001b[38;5;124mtrials\u001b[39m\u001b[38;5;124m\"\u001b[39m][\u001b[43mtrial_idx\u001b[49m][\u001b[38;5;124m\"\u001b[39m\u001b[38;5;124mer-1\u001b[39m\u001b[38;5;124m\"\u001b[39m]\n\u001b[1;32m     82\u001b[0m model_metric_dict[\u001b[38;5;124m\"\u001b[39m\u001b[38;5;124menrich\u001b[39m\u001b[38;5;124m\"\u001b[39m]\u001b[38;5;241m.\u001b[39mappend(er_1)\n\u001b[1;32m     83\u001b[0m model_metric_dict[\u001b[38;5;124m\"\u001b[39m\u001b[38;5;124mtarget\u001b[39m\u001b[38;5;124m\"\u001b[39m]\u001b[38;5;241m.\u001b[39mappend(target)\n",
      "\u001b[0;31mUnboundLocalError\u001b[0m: local variable 'trial_idx' referenced before assignment"
     ]
    }
   ],
   "source": [
    "# ave_df = compute_model_metric_df(model_dict=model_dict, model_list=model_10k_list, dataset=\"lit-pcba\", split=\"ave\", target_list=\"all\")\n",
    "ave_df = compute_model_metric_df(model_dict=model_dict, model_list=list(model_dict.keys()), dataset=\"lit-pcba\", split=\"ave\", target_list=\"all\")\n",
    "ave_df.to_csv(\"lit-pcba-metrics-10k-ave-full.csv\")"
   ]
  },
  {
   "cell_type": "code",
   "execution_count": 74,
   "metadata": {},
   "outputs": [
    {
     "data": {
      "text/plain": [
       "14    <class 'float'>\n",
       "13    <class 'float'>\n",
       "0     <class 'float'>\n",
       "1     <class 'float'>\n",
       "2     <class 'float'>\n",
       "           ...       \n",
       "61    <class 'float'>\n",
       "62    <class 'float'>\n",
       "63    <class 'float'>\n",
       "57    <class 'float'>\n",
       "0     <class 'float'>\n",
       "Name: enrich, Length: 1065, dtype: object"
      ]
     },
     "execution_count": 74,
     "metadata": {},
     "output_type": "execute_result"
    }
   ],
   "source": [
    "ave_df['enrich'].apply(lambda x: type(x))"
   ]
  },
  {
   "cell_type": "code",
   "execution_count": 76,
   "metadata": {},
   "outputs": [
    {
     "name": "stdout",
     "output_type": "stream",
     "text": [
      "[Text(0, 0, ''), Text(0, 0, ''), Text(0, 0, ''), Text(0, 0, ''), Text(0, 0, ''), Text(0, 0, ''), Text(0, 0, ''), Text(0, 0, '')]\n",
      "['', '', '', '', '', '', '', '']\n"
     ]
    },
    {
     "name": "stderr",
     "output_type": "stream",
     "text": [
      "/var/tmp/jones289/ipykernel_3514984/904576743.py:2: FutureWarning: \n",
      "\n",
      "Passing `palette` without assigning `hue` is deprecated and will be removed in v0.14.0. Assign the `x` variable to `hue` and set `legend=False` for the same effect.\n",
      "\n",
      "  ave_ax = sns.boxenplot(data=ave_df, x=\"model\", y=\"enrich\",\n"
     ]
    },
    {
     "data": {
      "text/plain": [
       "Text(0, 0.5, 'ER-1\\\\%')"
      ]
     },
     "execution_count": 76,
     "metadata": {},
     "output_type": "execute_result"
    },
    {
     "data": {
      "image/png": "[encoded data removed]",
      "text/plain": [
       "<Figure size 1008x720 with 1 Axes>"
      ]
     },
     "metadata": {
      "needs_background": "light"
     },
     "output_type": "display_data"
    }
   ],
   "source": [
    "ave_f, ave_ax = plt.subplots(1,1, figsize=(14,10))\n",
    "ave_ax = sns.boxenplot(data=ave_df, x=\"model\", y=\"enrich\", \n",
    "                  order=model_10k_list,\n",
    "                  palette={key: model_dict[key][1] for key in model_10k_list},\n",
    "                #   ax=ave_ax\n",
    "                  )\n",
    "\n",
    "print(ave_ax.get_xticklabels())\n",
    "labels = [item.get_text() for item in ave_ax.get_xticklabels()]\n",
    "print(labels)\n",
    "# labels = [model_dict[item.get_text()][0] for item in ave_ax.get_xticklabels()]\n",
    "# ave_ax.set_title(f\"ER-1\\%\", fontdict={\"fontsize\": 18})\n",
    "# ave_ax.set_xlabel(\"\")\n",
    "# ave_ax.set_ylabel(\"\")\n",
    "ave_ax.tick_params(axis=\"x\", labelrotation=22.5)\n",
    "# ave_ax.tick_params(axis=\"y\", labelrotation=90)\n",
    "# ave_ax.tick_params(axis=\"y\", labelrotation=45)\n",
    "# ave_ax.set_ylabel(\"ER-1\\%\", rotation=45)\n",
    "ave_ax.set_ylabel(\"ER-1\\%\")\n",
    "# print(ave_ax.get_xticklabels())\n",
    "# labels = [model_dict[item.get_text()][0] for item in ave_ax.get_xticklabels()]\n",
    "\n",
    "# ave_ax.set_xticklabels(labels)\n",
    "# plt.tight_layout()"
   ]
  },
  {
   "cell_type": "code",
   "execution_count": 8,
   "metadata": {},
   "outputs": [
    {
     "data": {
      "text/html": [
       "<div>\n",
       "<style scoped>\n",
       "    .dataframe tbody tr th:only-of-type {\n",
       "        vertical-align: middle;\n",
       "    }\n",
       "\n",
       "    .dataframe tbody tr th {\n",
       "        vertical-align: top;\n",
       "    }\n",
       "\n",
       "    .dataframe thead th {\n",
       "        text-align: right;\n",
       "    }\n",
       "</style>\n",
       "<table border=\"1\" class=\"dataframe\">\n",
       "  <thead>\n",
       "    <tr style=\"text-align: right;\">\n",
       "      <th></th>\n",
       "      <th>seed</th>\n",
       "    </tr>\n",
       "  </thead>\n",
       "  <tbody>\n",
       "    <tr>\n",
       "      <th>count</th>\n",
       "      <td>1050.00000</td>\n",
       "    </tr>\n",
       "    <tr>\n",
       "      <th>mean</th>\n",
       "      <td>4.50000</td>\n",
       "    </tr>\n",
       "    <tr>\n",
       "      <th>std</th>\n",
       "      <td>2.87365</td>\n",
       "    </tr>\n",
       "    <tr>\n",
       "      <th>min</th>\n",
       "      <td>0.00000</td>\n",
       "    </tr>\n",
       "    <tr>\n",
       "      <th>25%</th>\n",
       "      <td>2.00000</td>\n",
       "    </tr>\n",
       "    <tr>\n",
       "      <th>50%</th>\n",
       "      <td>4.50000</td>\n",
       "    </tr>\n",
       "    <tr>\n",
       "      <th>75%</th>\n",
       "      <td>7.00000</td>\n",
       "    </tr>\n",
       "    <tr>\n",
       "      <th>max</th>\n",
       "      <td>9.00000</td>\n",
       "    </tr>\n",
       "  </tbody>\n",
       "</table>\n",
       "</div>"
      ],
      "text/plain": [
       "             seed\n",
       "count  1050.00000\n",
       "mean      4.50000\n",
       "std       2.87365\n",
       "min       0.00000\n",
       "25%       2.00000\n",
       "50%       4.50000\n",
       "75%       7.00000\n",
       "max       9.00000"
      ]
     },
     "execution_count": 8,
     "metadata": {},
     "output_type": "execute_result"
    }
   ],
   "source": [
    "ave_df.describe()"
   ]
  },
  {
   "cell_type": "code",
   "execution_count": 18,
   "metadata": {},
   "outputs": [
    {
     "data": {
      "text/plain": [
       "model\n",
       "Vina                            2.325644\n",
       "hdbind-directecfp-10k-4         7.846744\n",
       "hdbind-molformer-decfp-combo    4.716101\n",
       "hdbind-rp-ecfp-1024-1           5.459023\n",
       "hdbind-rp-molclr                7.994659\n",
       "hdbind-rp-molformer             5.721039\n",
       "mlp-1024-1                      7.609007\n",
       "molehd-bpe                      2.634551\n",
       "Name: enrich, dtype: float64"
      ]
     },
     "execution_count": 18,
     "metadata": {},
     "output_type": "execute_result"
    }
   ],
   "source": [
    "ave_df.groupby([\"model\"])[\"enrich\"].mean()"
   ]
  },
  {
   "cell_type": "code",
   "execution_count": null,
   "metadata": {
    "scrolled": true
   },
   "outputs": [],
   "source": [
    "random_df = compute_model_metric_df(model_dict=model_dict, model_list=model_10k_list, dataset=\"lit-pcba\", split=\"random\", target_list=\"all\")\n",
    "random_df.to_csv(\"lit-pcba-metrics-10k-random.csv\")"
   ]
  },
  {
   "cell_type": "code",
   "execution_count": null,
   "metadata": {},
   "outputs": [],
   "source": [
    "random_df.describe()"
   ]
  },
  {
   "cell_type": "code",
   "execution_count": null,
   "metadata": {},
   "outputs": [],
   "source": [
    "random_df.groupby([\"model\", \"p\"]).median()"
   ]
  },
  {
   "cell_type": "code",
   "execution_count": null,
   "metadata": {},
   "outputs": [],
   "source": []
  }
 ],
 "metadata": {
  "kernelspec": {
   "display_name": "HD_env",
   "language": "python",
   "name": "python3"
  },
  "language_info": {
   "codemirror_mode": {
    "name": "ipython",
    "version": 3
   },
   "file_extension": ".py",
   "mimetype": "text/x-python",
   "name": "python",
   "nbconvert_exporter": "python",
   "pygments_lexer": "ipython3",
   "version": "3.8.12"
  }
 },
 "nbformat": 4,
 "nbformat_minor": 4
}
