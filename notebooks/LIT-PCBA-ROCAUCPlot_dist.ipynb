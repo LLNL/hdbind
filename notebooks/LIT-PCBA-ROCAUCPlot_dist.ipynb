{
 "cells": [
  {
   "cell_type": "code",
   "execution_count": 38,
   "id": "eb27244d",
   "metadata": {},
   "outputs": [],
   "source": [
    "import torch\n",
    "import pandas as pd\n",
    "import matplotlib.pyplot as plt\n",
    "from matplotlib import rc\n",
    "from deepchem.molnet import load_hiv, load_tox21, load_bace_classification, load_sider, load_clintox, load_bbbp\n",
    "from hdpy.metrics import compute_roc_enrichment\n",
    "import seaborn as sns\n",
    "sns.set_style(\"whitegrid\")\n",
    "\n",
    "\n",
    "# plt.rc('text', usetex=True)\n",
    "plt.rc('font', family='serif')\n",
    "plt.rc('xtick', labelsize=15)\n",
    "plt.rc('ytick', labelsize=15)\n",
    "plt.rc('axes', labelsize=17)\n",
    "plt.rc('figure', titlesize=20)\n",
    "\n",
    "from tqdm import tqdm\n",
    "from pathlib import Path\n",
    "\n",
    "RANDOM_SEED=5\n",
    "output_result_dir = Path(f\"/p/vast1/jones289/hd_results/{RANDOM_SEED}\")\n",
    "\n",
    "green_color_pal = sns.color_palette(\"Greens\", 10)\n",
    "blue_color_pal = sns.color_palette(\"Blues\", 10)\n",
    "red_color_pal = sns.color_palette(\"Reds\", 10)\n",
    "purple_color_pal = sns.color_palette(\"Purples\", 10)\n",
    "rocket_color_pal = sns.color_palette(\"rocket\", 10)\n",
    "\n",
    "plot_dict = {\n",
    "    \"RPFP\": (\"HDB-RPFP\", red_color_pal[4]),\n",
    "    \"Combo\": (\"HDB-Combo\", purple_color_pal[5]),\n",
    "            #   \"HDBind (10k) (GPU-no encode)\": green_color_pal[8],\n",
    "              \"MoLFormer\": (\"HDB-MoLFormer\", green_color_pal[7]),\n",
    "              # \"MoLFormer+RPFP\": (\"HDB Combo\", green_color_pal[9]),\n",
    "              \"MolCLR\": (\"HDB-MolCLR\", green_color_pal[4]),\n",
    "              \"DECFP-4\": (\"HDB-DECFP\", red_color_pal[8]),\n",
    "              \"MLP\": (\"MLP\", \"black\"),\n",
    "    }\n",
    "\n",
    "\n",
    "model_name_map = {\n",
    "    \"hdbind-molformer-decfp-combo-1k\": \"HDB-Combo\",\n",
    "    \"hdbind-molformer-decfp-combo-100k\": \"HDB-Combo\",\n",
    "    \"hdbind-molformer-decfp-combo-1m\": \"HDB-Combo\",\n",
    "    \"hdbind-molformer-decfp-combo\": \"HDB-Combo\",\n",
    "    \"hdbind-rp-ecfp-1024-1-1k\": \"HDB-RPFP\",\n",
    "    \"hdbind-rp-ecfp-1024-1\": \"HDB-RPFP\",\n",
    "    \"hdbind-rp-ecfp-1024-1-100k\": \"HDB-RPFP\",\n",
    "    \"hdbind-rp-ecfp-1024-1-1m\": \"HDB-RPFP\",\n",
    "    \"hdbind-rp-molformer-1k\": \"HDB-MoLFormer\",\n",
    "    \"hdbind-rp-molformer\": \"HDB-MoLFormer\",\n",
    "    \"hdbind-rp-molformer-100k\": \"HDB-MoLFormer\",\n",
    "    \"hdbind-rp-molformer-1m\": \"HDB-MoLFormer\",\n",
    "    \"hdbind-rp-molclr-1k\": \"HDB-MolCLR\",\n",
    "    \"hdbind-rp-molclr\": \"HDB-MolCLR\",\n",
    "    \"hdbind-rp-molclr-100k\": \"HDB-MolCLR\",\n",
    "    \"hdbind-rp-molclr-1m\": \"HDB-MolCLR\",\n",
    "    \"hdbind-directecfp-1k-1\": \"HDB-DECFP\",\n",
    "    \"hdbind-directecfp-1k-2\": \"HDB-DECFP\",\n",
    "    \"hdbind-directecfp-1k-4\": \"HDB-DECFP\",\n",
    "    \"hdbind-directecfp-10k-1\": \"HDB-DECFP\",\n",
    "    \"hdbind-directecfp-10k-2\": \"HDB-DECFP\",\n",
    "    \"hdbind-directecfp-10k-4\": \"HDB-DECFP\",\n",
    "    \"hdbind-directecfp-100k-1\": \"HDB-DECFP\",\n",
    "    \"hdbind-directecfp-100k-2\": \"HDB-DECFP\",\n",
    "    \"hdbind-directecfp-100k-4\": \"HDB-DECFP\",\n",
    "    \"hdbind-directecfp-1m-1\": \"HDB-DECFP\",\n",
    "    \"hdbind-directecfp-1m-2\": \"HDB-DECFP\",\n",
    "    \"hdbind-directecfp-1m-4\": \"HDB-DECFP\",\n",
    "    \"mlp-1024-1\": \"MLP-1024\",\n",
    "    \"mlp-2048-1\": \"MLP-2048\"\n",
    "}\n",
    "\n",
    "\n",
    "\n",
    "config_dir = \"roc_auc_configs_final\""
   ]
  },
  {
   "cell_type": "code",
   "execution_count": 39,
   "id": "afedd17e",
   "metadata": {},
   "outputs": [],
   "source": [
    "def collect_roc_metrics(dataset:str, split:str, config_list:list):\n",
    "\n",
    "    result_dict = {\"model\": [],\n",
    "                   \"D\": [],\n",
    "                   \"target\": [],\n",
    "                   \"seed\": [],\n",
    "                   \"roc-auc\": [],\n",
    "                   \"er-1\": []\n",
    "                   }\n",
    "\n",
    "    target_list = []\n",
    "    if dataset in [\"bbbp\", \"tox21\", \"clintox\", \"hiv\", \"bace\", \"sider\"]:\n",
    "        if dataset == \"bbbp\":\n",
    "            data = load_bbbp()\n",
    "        if dataset == \"tox21\":\n",
    "            data = load_tox21()\n",
    "        if dataset == \"clintox\":\n",
    "            data = load_clintox(splitter=\"scaffold\")\n",
    "        if dataset == \"hiv\":\n",
    "            data = load_hiv()\n",
    "        if dataset == \"bace\":\n",
    "            data = load_bace_classification()\n",
    "        if dataset == \"sider\":\n",
    "            data = load_sider()\n",
    "\n",
    "        target_list = data[0]\n",
    "    elif dataset == \"lit-pcba\":\n",
    "        lit_pcba_ave_p = Path(\"/p/vast1/jones289/lit_pcba/AVE_unbiased\")\n",
    "        target_list = [x.name for x in list(lit_pcba_ave_p.glob(\"*/\"))]\n",
    "\n",
    "    # print(target_list)\n",
    "    for config_path in tqdm(config_list):\n",
    "        print(config_path)\n",
    "        exp_name = config_path.stem\n",
    "        # for d in range(10):\n",
    "        for target_name in target_list:\n",
    "            \n",
    "            result_file = Path(\n",
    "                f\"{output_result_dir}/{exp_name}.{dataset}-{target_name.replace(' ','_')}-{split}.{RANDOM_SEED}.pkl\"\n",
    "            )\n",
    "            try:\n",
    "                data = torch.load(result_file)\n",
    "            except FileNotFoundError as e:\n",
    "                print(f\"{e}. {result_file} does not exist.\")\n",
    "\n",
    "            for random_state in data[\"trials\"].keys():\n",
    "                result_dict[\"model\"].append(model_name_map[exp_name])\n",
    "                result_dict[\"D\"].append(data[\"args\"].D)\n",
    "                result_dict[\"target\"].append(target_name)\n",
    "                result_dict[\"seed\"].append(random_state)\n",
    "                result_dict[\"roc-auc\"].append(data[\"trials\"][random_state][\"roc-auc\"])\n",
    "\n",
    "                try:\n",
    "                    \n",
    "                    er_1 = data[\"trials\"][random_state][\"er-1\"]\n",
    "                    result_dict[\"er-1\"].append(er_1)\n",
    "\n",
    "                except KeyError as e:\n",
    "            \n",
    "                    print(f\"{e}. result missing roc-enrichment metrics. computing these now.\")\n",
    "                    for trial_idx in data[\"trials\"].keys():\n",
    "                        scores = None \n",
    "                        \n",
    "                        if \"er-1\" not in data[\"trials\"][trial_idx].keys():\n",
    "\n",
    "                            # if config.model in [\"molehd-bpe\", \"selfies\",\"hdbind-directecfp-10k-4\",\n",
    "                                                # \"hdbind-molformer-decfp-combo\",\n",
    "                                                #   \"ecfp\", \"rp\", \"directecfp\"]:\n",
    "                                # scores = model_data_dict[\"trials\"][trial_idx][\"eta\"]\n",
    "                            if \"mlp\" in exp_name.lower():\n",
    "                                scores = data[\"trials\"][trial_idx][\"eta\"][:, 1]\n",
    "                            else:\n",
    "\n",
    "                                scores = data[\"trials\"][trial_idx][\"eta\"]\n",
    "                            \n",
    "                            labels = data[\"trials\"][trial_idx]['y_true']\n",
    "\n",
    "                            trial_er_1 = compute_roc_enrichment(scores=scores, labels=labels, fpr_thresh=.01)\n",
    "\n",
    "                            data[\"trials\"][trial_idx][\"er-1\"] = trial_er_1\n",
    "            \n",
    "\n",
    " \n",
    "                    er_1 = data[\"trials\"][random_state][\"er-1\"]\n",
    "                    result_dict[\"er-1\"].append(er_1)\n",
    "\n",
    "    return pd.DataFrame(result_dict)"
   ]
  },
  {
   "cell_type": "code",
   "execution_count": 40,
   "id": "8b22fa94",
   "metadata": {},
   "outputs": [
    {
     "name": "stderr",
     "output_type": "stream",
     "text": [
      "  0%|          | 0/22 [00:00<?, ?it/s]"
     ]
    },
    {
     "name": "stdout",
     "output_type": "stream",
     "text": [
      "/usr/WS1/jones289/hd-cuda-master/hdpy/roc_auc_configs_final/hdbind-rp-molformer-100k.yml\n"
     ]
    },
    {
     "name": "stderr",
     "output_type": "stream",
     "text": [
      "  5%|▍         | 1/22 [00:04<01:29,  4.27s/it]"
     ]
    },
    {
     "name": "stdout",
     "output_type": "stream",
     "text": [
      "/usr/WS1/jones289/hd-cuda-master/hdpy/roc_auc_configs_final/hdbind-rp-molformer-1k.yml\n"
     ]
    },
    {
     "name": "stderr",
     "output_type": "stream",
     "text": [
      "  9%|▉         | 2/22 [00:06<01:01,  3.06s/it]"
     ]
    },
    {
     "name": "stdout",
     "output_type": "stream",
     "text": [
      "/usr/WS1/jones289/hd-cuda-master/hdpy/roc_auc_configs_final/hdbind-rp-molformer-1m.yml\n"
     ]
    },
    {
     "name": "stderr",
     "output_type": "stream",
     "text": [
      " 14%|█▎        | 3/22 [00:27<03:35, 11.33s/it]"
     ]
    },
    {
     "name": "stdout",
     "output_type": "stream",
     "text": [
      "/usr/WS1/jones289/hd-cuda-master/hdpy/roc_auc_configs_final/hdbind-rp-molformer.yml\n"
     ]
    },
    {
     "name": "stderr",
     "output_type": "stream",
     "text": [
      " 18%|█▊        | 4/22 [00:30<02:20,  7.80s/it]"
     ]
    },
    {
     "name": "stdout",
     "output_type": "stream",
     "text": [
      "/usr/WS1/jones289/hd-cuda-master/hdpy/roc_auc_configs_final/hdbind-molformer-decfp-combo-100k.yml\n"
     ]
    },
    {
     "name": "stderr",
     "output_type": "stream",
     "text": [
      " 23%|██▎       | 5/22 [00:34<01:49,  6.46s/it]"
     ]
    },
    {
     "name": "stdout",
     "output_type": "stream",
     "text": [
      "/usr/WS1/jones289/hd-cuda-master/hdpy/roc_auc_configs_final/hdbind-molformer-decfp-combo-1m.yml\n"
     ]
    },
    {
     "name": "stderr",
     "output_type": "stream",
     "text": [
      " 27%|██▋       | 6/22 [00:44<02:06,  7.93s/it]"
     ]
    },
    {
     "name": "stdout",
     "output_type": "stream",
     "text": [
      "/usr/WS1/jones289/hd-cuda-master/hdpy/roc_auc_configs_final/hdbind-molformer-decfp-combo-1k.yml\n",
      "'er-1'. result missing roc-enrichment metrics. computing these now.\n",
      "'er-1'. result missing roc-enrichment metrics. computing these now.\n",
      "'er-1'. result missing roc-enrichment metrics. computing these now.\n",
      "'er-1'. result missing roc-enrichment metrics. computing these now.\n",
      "'er-1'. result missing roc-enrichment metrics. computing these now.\n",
      "'er-1'. result missing roc-enrichment metrics. computing these now.\n",
      "'er-1'. result missing roc-enrichment metrics. computing these now.\n",
      "'er-1'. result missing roc-enrichment metrics. computing these now.\n",
      "'er-1'. result missing roc-enrichment metrics. computing these now.\n",
      "'er-1'. result missing roc-enrichment metrics. computing these now.\n",
      "'er-1'. result missing roc-enrichment metrics. computing these now.\n",
      "'er-1'. result missing roc-enrichment metrics. computing these now.\n",
      "'er-1'. result missing roc-enrichment metrics. computing these now.\n",
      "'er-1'. result missing roc-enrichment metrics. computing these now.\n"
     ]
    },
    {
     "name": "stderr",
     "output_type": "stream",
     "text": [
      " 32%|███▏      | 7/22 [00:48<01:37,  6.49s/it]"
     ]
    },
    {
     "name": "stdout",
     "output_type": "stream",
     "text": [
      "'er-1'. result missing roc-enrichment metrics. computing these now.\n",
      "/usr/WS1/jones289/hd-cuda-master/hdpy/roc_auc_configs_final/hdbind-molformer-decfp-combo.yml\n"
     ]
    },
    {
     "name": "stderr",
     "output_type": "stream",
     "text": [
      " 36%|███▋      | 8/22 [00:50<01:12,  5.16s/it]"
     ]
    },
    {
     "name": "stdout",
     "output_type": "stream",
     "text": [
      "/usr/WS1/jones289/hd-cuda-master/hdpy/roc_auc_configs_final/hdbind-directecfp-1m-4.yml\n"
     ]
    },
    {
     "name": "stderr",
     "output_type": "stream",
     "text": [
      " 41%|████      | 9/22 [01:01<01:31,  7.01s/it]"
     ]
    },
    {
     "name": "stdout",
     "output_type": "stream",
     "text": [
      "/usr/WS1/jones289/hd-cuda-master/hdpy/roc_auc_configs_final/hdbind-directecfp-100k-4.yml\n"
     ]
    },
    {
     "name": "stderr",
     "output_type": "stream",
     "text": [
      " 45%|████▌     | 10/22 [01:05<01:11,  5.94s/it]"
     ]
    },
    {
     "name": "stdout",
     "output_type": "stream",
     "text": [
      "/usr/WS1/jones289/hd-cuda-master/hdpy/roc_auc_configs_final/hdbind-directecfp-10k-4.yml\n"
     ]
    },
    {
     "name": "stderr",
     "output_type": "stream",
     "text": [
      " 50%|█████     | 11/22 [01:07<00:53,  4.86s/it]"
     ]
    },
    {
     "name": "stdout",
     "output_type": "stream",
     "text": [
      "/usr/WS1/jones289/hd-cuda-master/hdpy/roc_auc_configs_final/hdbind-directecfp-1k-4.yml\n",
      "'er-1'. result missing roc-enrichment metrics. computing these now.\n",
      "'er-1'. result missing roc-enrichment metrics. computing these now.\n",
      "'er-1'. result missing roc-enrichment metrics. computing these now.\n",
      "'er-1'. result missing roc-enrichment metrics. computing these now.\n",
      "'er-1'. result missing roc-enrichment metrics. computing these now.\n",
      "'er-1'. result missing roc-enrichment metrics. computing these now.\n",
      "'er-1'. result missing roc-enrichment metrics. computing these now.\n",
      "'er-1'. result missing roc-enrichment metrics. computing these now.\n",
      "'er-1'. result missing roc-enrichment metrics. computing these now.\n",
      "'er-1'. result missing roc-enrichment metrics. computing these now.\n",
      "'er-1'. result missing roc-enrichment metrics. computing these now.\n",
      "'er-1'. result missing roc-enrichment metrics. computing these now.\n",
      "'er-1'. result missing roc-enrichment metrics. computing these now.\n",
      "'er-1'. result missing roc-enrichment metrics. computing these now.\n"
     ]
    },
    {
     "name": "stderr",
     "output_type": "stream",
     "text": [
      " 55%|█████▍    | 12/22 [01:11<00:44,  4.46s/it]"
     ]
    },
    {
     "name": "stdout",
     "output_type": "stream",
     "text": [
      "'er-1'. result missing roc-enrichment metrics. computing these now.\n",
      "/usr/WS1/jones289/hd-cuda-master/hdpy/roc_auc_configs_final/hdbind-rp-ecfp-1024-1-100k.yml\n"
     ]
    },
    {
     "name": "stderr",
     "output_type": "stream",
     "text": [
      " 59%|█████▉    | 13/22 [01:15<00:40,  4.45s/it]"
     ]
    },
    {
     "name": "stdout",
     "output_type": "stream",
     "text": [
      "/usr/WS1/jones289/hd-cuda-master/hdpy/roc_auc_configs_final/hdbind-rp-ecfp-1024-1.yml\n"
     ]
    },
    {
     "name": "stderr",
     "output_type": "stream",
     "text": [
      " 64%|██████▎   | 14/22 [01:18<00:30,  3.82s/it]"
     ]
    },
    {
     "name": "stdout",
     "output_type": "stream",
     "text": [
      "/usr/WS1/jones289/hd-cuda-master/hdpy/roc_auc_configs_final/hdbind-rp-ecfp-1024-1-1k.yml\n",
      "'er-1'. result missing roc-enrichment metrics. computing these now.\n",
      "'er-1'. result missing roc-enrichment metrics. computing these now.\n",
      "'er-1'. result missing roc-enrichment metrics. computing these now.\n",
      "'er-1'. result missing roc-enrichment metrics. computing these now.\n",
      "'er-1'. result missing roc-enrichment metrics. computing these now.\n",
      "'er-1'. result missing roc-enrichment metrics. computing these now.\n",
      "'er-1'. result missing roc-enrichment metrics. computing these now.\n",
      "'er-1'. result missing roc-enrichment metrics. computing these now.\n",
      "'er-1'. result missing roc-enrichment metrics. computing these now.\n",
      "'er-1'. result missing roc-enrichment metrics. computing these now.\n",
      "'er-1'. result missing roc-enrichment metrics. computing these now.\n",
      "'er-1'. result missing roc-enrichment metrics. computing these now.\n",
      "'er-1'. result missing roc-enrichment metrics. computing these now.\n",
      "'er-1'. result missing roc-enrichment metrics. computing these now.\n"
     ]
    },
    {
     "name": "stderr",
     "output_type": "stream",
     "text": [
      " 68%|██████▊   | 15/22 [01:21<00:25,  3.66s/it]"
     ]
    },
    {
     "name": "stdout",
     "output_type": "stream",
     "text": [
      "'er-1'. result missing roc-enrichment metrics. computing these now.\n",
      "/usr/WS1/jones289/hd-cuda-master/hdpy/roc_auc_configs_final/hdbind-rp-ecfp-1024-1-1m.yml\n"
     ]
    },
    {
     "name": "stderr",
     "output_type": "stream",
     "text": [
      " 73%|███████▎  | 16/22 [01:49<01:05, 10.94s/it]"
     ]
    },
    {
     "name": "stdout",
     "output_type": "stream",
     "text": [
      "/usr/WS1/jones289/hd-cuda-master/hdpy/roc_auc_configs_final/hdbind-rp-molclr-100k.yml\n"
     ]
    },
    {
     "name": "stderr",
     "output_type": "stream",
     "text": [
      " 77%|███████▋  | 17/22 [01:53<00:44,  8.97s/it]"
     ]
    },
    {
     "name": "stdout",
     "output_type": "stream",
     "text": [
      "/usr/WS1/jones289/hd-cuda-master/hdpy/roc_auc_configs_final/hdbind-rp-molclr-1k.yml\n",
      "'er-1'. result missing roc-enrichment metrics. computing these now.\n",
      "'er-1'. result missing roc-enrichment metrics. computing these now.\n",
      "'er-1'. result missing roc-enrichment metrics. computing these now.\n",
      "'er-1'. result missing roc-enrichment metrics. computing these now.\n",
      "'er-1'. result missing roc-enrichment metrics. computing these now.\n",
      "'er-1'. result missing roc-enrichment metrics. computing these now.\n",
      "'er-1'. result missing roc-enrichment metrics. computing these now.\n",
      "'er-1'. result missing roc-enrichment metrics. computing these now.\n",
      "'er-1'. result missing roc-enrichment metrics. computing these now.\n",
      "'er-1'. result missing roc-enrichment metrics. computing these now.\n",
      "'er-1'. result missing roc-enrichment metrics. computing these now.\n",
      "'er-1'. result missing roc-enrichment metrics. computing these now.\n",
      "'er-1'. result missing roc-enrichment metrics. computing these now.\n",
      "'er-1'. result missing roc-enrichment metrics. computing these now.\n"
     ]
    },
    {
     "name": "stderr",
     "output_type": "stream",
     "text": [
      " 82%|████████▏ | 18/22 [01:57<00:29,  7.33s/it]"
     ]
    },
    {
     "name": "stdout",
     "output_type": "stream",
     "text": [
      "'er-1'. result missing roc-enrichment metrics. computing these now.\n",
      "/usr/WS1/jones289/hd-cuda-master/hdpy/roc_auc_configs_final/hdbind-rp-molclr-1m.yml\n"
     ]
    },
    {
     "name": "stderr",
     "output_type": "stream",
     "text": [
      " 86%|████████▋ | 19/22 [02:17<00:34, 11.38s/it]"
     ]
    },
    {
     "name": "stdout",
     "output_type": "stream",
     "text": [
      "/usr/WS1/jones289/hd-cuda-master/hdpy/roc_auc_configs_final/hdbind-rp-molclr.yml\n"
     ]
    },
    {
     "name": "stderr",
     "output_type": "stream",
     "text": [
      " 91%|█████████ | 20/22 [02:20<00:17,  8.72s/it]"
     ]
    },
    {
     "name": "stdout",
     "output_type": "stream",
     "text": [
      "/usr/WS1/jones289/hd-cuda-master/hdpy/roc_auc_configs_final/mlp-2048-1.yml\n",
      "[Errno 2] No such file or directory: '/p/vast1/jones289/hd_results/5/mlp-2048-1.lit-pcba-ADRB2-ave.5.pkl'. /p/vast1/jones289/hd_results/5/mlp-2048-1.lit-pcba-ADRB2-ave.5.pkl does not exist.\n",
      "[Errno 2] No such file or directory: '/p/vast1/jones289/hd_results/5/mlp-2048-1.lit-pcba-ALDH1-ave.5.pkl'. /p/vast1/jones289/hd_results/5/mlp-2048-1.lit-pcba-ALDH1-ave.5.pkl does not exist.\n",
      "[Errno 2] No such file or directory: '/p/vast1/jones289/hd_results/5/mlp-2048-1.lit-pcba-ESR1_ago-ave.5.pkl'. /p/vast1/jones289/hd_results/5/mlp-2048-1.lit-pcba-ESR1_ago-ave.5.pkl does not exist.\n",
      "[Errno 2] No such file or directory: '/p/vast1/jones289/hd_results/5/mlp-2048-1.lit-pcba-ESR1_ant-ave.5.pkl'. /p/vast1/jones289/hd_results/5/mlp-2048-1.lit-pcba-ESR1_ant-ave.5.pkl does not exist.\n",
      "[Errno 2] No such file or directory: '/p/vast1/jones289/hd_results/5/mlp-2048-1.lit-pcba-FEN1-ave.5.pkl'. /p/vast1/jones289/hd_results/5/mlp-2048-1.lit-pcba-FEN1-ave.5.pkl does not exist.\n",
      "[Errno 2] No such file or directory: '/p/vast1/jones289/hd_results/5/mlp-2048-1.lit-pcba-GBA-ave.5.pkl'. /p/vast1/jones289/hd_results/5/mlp-2048-1.lit-pcba-GBA-ave.5.pkl does not exist.\n",
      "[Errno 2] No such file or directory: '/p/vast1/jones289/hd_results/5/mlp-2048-1.lit-pcba-IDH1-ave.5.pkl'. /p/vast1/jones289/hd_results/5/mlp-2048-1.lit-pcba-IDH1-ave.5.pkl does not exist.\n",
      "[Errno 2] No such file or directory: '/p/vast1/jones289/hd_results/5/mlp-2048-1.lit-pcba-KAT2A-ave.5.pkl'. /p/vast1/jones289/hd_results/5/mlp-2048-1.lit-pcba-KAT2A-ave.5.pkl does not exist.\n",
      "[Errno 2] No such file or directory: '/p/vast1/jones289/hd_results/5/mlp-2048-1.lit-pcba-MAPK1-ave.5.pkl'. /p/vast1/jones289/hd_results/5/mlp-2048-1.lit-pcba-MAPK1-ave.5.pkl does not exist.\n",
      "[Errno 2] No such file or directory: '/p/vast1/jones289/hd_results/5/mlp-2048-1.lit-pcba-MTORC1-ave.5.pkl'. /p/vast1/jones289/hd_results/5/mlp-2048-1.lit-pcba-MTORC1-ave.5.pkl does not exist.\n",
      "[Errno 2] No such file or directory: '/p/vast1/jones289/hd_results/5/mlp-2048-1.lit-pcba-OPRK1-ave.5.pkl'. /p/vast1/jones289/hd_results/5/mlp-2048-1.lit-pcba-OPRK1-ave.5.pkl does not exist.\n",
      "[Errno 2] No such file or directory: '/p/vast1/jones289/hd_results/5/mlp-2048-1.lit-pcba-PKM2-ave.5.pkl'. /p/vast1/jones289/hd_results/5/mlp-2048-1.lit-pcba-PKM2-ave.5.pkl does not exist.\n",
      "[Errno 2] No such file or directory: '/p/vast1/jones289/hd_results/5/mlp-2048-1.lit-pcba-PPARG-ave.5.pkl'. /p/vast1/jones289/hd_results/5/mlp-2048-1.lit-pcba-PPARG-ave.5.pkl does not exist.\n",
      "[Errno 2] No such file or directory: '/p/vast1/jones289/hd_results/5/mlp-2048-1.lit-pcba-TP53-ave.5.pkl'. /p/vast1/jones289/hd_results/5/mlp-2048-1.lit-pcba-TP53-ave.5.pkl does not exist.\n",
      "[Errno 2] No such file or directory: '/p/vast1/jones289/hd_results/5/mlp-2048-1.lit-pcba-VDR-ave.5.pkl'. /p/vast1/jones289/hd_results/5/mlp-2048-1.lit-pcba-VDR-ave.5.pkl does not exist.\n",
      "/usr/WS1/jones289/hd-cuda-master/hdpy/roc_auc_configs_final/mlp-1024-1.yml\n"
     ]
    },
    {
     "name": "stderr",
     "output_type": "stream",
     "text": [
      "100%|██████████| 22/22 [02:22<00:00,  6.50s/it]\n"
     ]
    }
   ],
   "source": [
    "ave_metric_df = collect_roc_metrics(dataset=\"lit-pcba\", split=\"ave\", config_list=list(Path(f\"/usr/WS1/jones289/hd-cuda-master/hdpy/{config_dir}\").glob(\"*.yml\")))"
   ]
  },
  {
   "cell_type": "code",
   "execution_count": 41,
   "id": "9318b6f4",
   "metadata": {},
   "outputs": [
    {
     "name": "stderr",
     "output_type": "stream",
     "text": [
      "  0%|          | 0/22 [00:00<?, ?it/s]"
     ]
    },
    {
     "name": "stdout",
     "output_type": "stream",
     "text": [
      "/usr/WS1/jones289/hd-cuda-master/hdpy/roc_auc_configs_final/hdbind-rp-molformer-100k.yml\n"
     ]
    },
    {
     "name": "stderr",
     "output_type": "stream",
     "text": [
      "  5%|▍         | 1/22 [00:04<01:28,  4.22s/it]"
     ]
    },
    {
     "name": "stdout",
     "output_type": "stream",
     "text": [
      "/usr/WS1/jones289/hd-cuda-master/hdpy/roc_auc_configs_final/hdbind-rp-molformer-1k.yml\n",
      "'er-1'. result missing roc-enrichment metrics. computing these now.\n",
      "'er-1'. result missing roc-enrichment metrics. computing these now.\n",
      "'er-1'. result missing roc-enrichment metrics. computing these now.\n",
      "'er-1'. result missing roc-enrichment metrics. computing these now.\n",
      "'er-1'. result missing roc-enrichment metrics. computing these now.\n",
      "'er-1'. result missing roc-enrichment metrics. computing these now.\n",
      "'er-1'. result missing roc-enrichment metrics. computing these now.\n",
      "'er-1'. result missing roc-enrichment metrics. computing these now.\n",
      "'er-1'. result missing roc-enrichment metrics. computing these now.\n",
      "'er-1'. result missing roc-enrichment metrics. computing these now.\n",
      "'er-1'. result missing roc-enrichment metrics. computing these now.\n",
      "'er-1'. result missing roc-enrichment metrics. computing these now.\n",
      "'er-1'. result missing roc-enrichment metrics. computing these now.\n",
      "'er-1'. result missing roc-enrichment metrics. computing these now.\n"
     ]
    },
    {
     "name": "stderr",
     "output_type": "stream",
     "text": [
      "  9%|▉         | 2/22 [00:07<01:16,  3.84s/it]"
     ]
    },
    {
     "name": "stdout",
     "output_type": "stream",
     "text": [
      "'er-1'. result missing roc-enrichment metrics. computing these now.\n",
      "/usr/WS1/jones289/hd-cuda-master/hdpy/roc_auc_configs_final/hdbind-rp-molformer-1m.yml\n"
     ]
    },
    {
     "name": "stderr",
     "output_type": "stream",
     "text": [
      " 14%|█▎        | 3/22 [00:27<03:28, 10.95s/it]"
     ]
    },
    {
     "name": "stdout",
     "output_type": "stream",
     "text": [
      "/usr/WS1/jones289/hd-cuda-master/hdpy/roc_auc_configs_final/hdbind-rp-molformer.yml\n"
     ]
    },
    {
     "name": "stderr",
     "output_type": "stream",
     "text": [
      " 18%|█▊        | 4/22 [00:28<02:11,  7.33s/it]"
     ]
    },
    {
     "name": "stdout",
     "output_type": "stream",
     "text": [
      "/usr/WS1/jones289/hd-cuda-master/hdpy/roc_auc_configs_final/hdbind-molformer-decfp-combo-100k.yml\n"
     ]
    },
    {
     "name": "stderr",
     "output_type": "stream",
     "text": [
      " 23%|██▎       | 5/22 [00:31<01:37,  5.74s/it]"
     ]
    },
    {
     "name": "stdout",
     "output_type": "stream",
     "text": [
      "/usr/WS1/jones289/hd-cuda-master/hdpy/roc_auc_configs_final/hdbind-molformer-decfp-combo-1m.yml\n"
     ]
    },
    {
     "name": "stderr",
     "output_type": "stream",
     "text": [
      " 27%|██▋       | 6/22 [00:42<01:56,  7.25s/it]"
     ]
    },
    {
     "name": "stdout",
     "output_type": "stream",
     "text": [
      "/usr/WS1/jones289/hd-cuda-master/hdpy/roc_auc_configs_final/hdbind-molformer-decfp-combo-1k.yml\n",
      "'er-1'. result missing roc-enrichment metrics. computing these now.\n",
      "'er-1'. result missing roc-enrichment metrics. computing these now.\n",
      "'er-1'. result missing roc-enrichment metrics. computing these now.\n",
      "'er-1'. result missing roc-enrichment metrics. computing these now.\n",
      "'er-1'. result missing roc-enrichment metrics. computing these now.\n",
      "'er-1'. result missing roc-enrichment metrics. computing these now.\n",
      "'er-1'. result missing roc-enrichment metrics. computing these now.\n",
      "'er-1'. result missing roc-enrichment metrics. computing these now.\n",
      "'er-1'. result missing roc-enrichment metrics. computing these now.\n",
      "'er-1'. result missing roc-enrichment metrics. computing these now.\n",
      "'er-1'. result missing roc-enrichment metrics. computing these now.\n",
      "'er-1'. result missing roc-enrichment metrics. computing these now.\n",
      "'er-1'. result missing roc-enrichment metrics. computing these now.\n",
      "'er-1'. result missing roc-enrichment metrics. computing these now.\n"
     ]
    },
    {
     "name": "stderr",
     "output_type": "stream",
     "text": [
      " 32%|███▏      | 7/22 [00:45<01:28,  5.92s/it]"
     ]
    },
    {
     "name": "stdout",
     "output_type": "stream",
     "text": [
      "'er-1'. result missing roc-enrichment metrics. computing these now.\n",
      "/usr/WS1/jones289/hd-cuda-master/hdpy/roc_auc_configs_final/hdbind-molformer-decfp-combo.yml\n"
     ]
    },
    {
     "name": "stderr",
     "output_type": "stream",
     "text": [
      " 36%|███▋      | 8/22 [00:48<01:09,  4.96s/it]"
     ]
    },
    {
     "name": "stdout",
     "output_type": "stream",
     "text": [
      "/usr/WS1/jones289/hd-cuda-master/hdpy/roc_auc_configs_final/hdbind-directecfp-1m-4.yml\n"
     ]
    },
    {
     "name": "stderr",
     "output_type": "stream",
     "text": [
      " 41%|████      | 9/22 [00:58<01:28,  6.77s/it]"
     ]
    },
    {
     "name": "stdout",
     "output_type": "stream",
     "text": [
      "/usr/WS1/jones289/hd-cuda-master/hdpy/roc_auc_configs_final/hdbind-directecfp-100k-4.yml\n"
     ]
    },
    {
     "name": "stderr",
     "output_type": "stream",
     "text": [
      " 45%|████▌     | 10/22 [01:02<01:09,  5.78s/it]"
     ]
    },
    {
     "name": "stdout",
     "output_type": "stream",
     "text": [
      "/usr/WS1/jones289/hd-cuda-master/hdpy/roc_auc_configs_final/hdbind-directecfp-10k-4.yml\n"
     ]
    },
    {
     "name": "stderr",
     "output_type": "stream",
     "text": [
      " 50%|█████     | 11/22 [01:04<00:51,  4.72s/it]"
     ]
    },
    {
     "name": "stdout",
     "output_type": "stream",
     "text": [
      "/usr/WS1/jones289/hd-cuda-master/hdpy/roc_auc_configs_final/hdbind-directecfp-1k-4.yml\n",
      "'er-1'. result missing roc-enrichment metrics. computing these now.\n",
      "'er-1'. result missing roc-enrichment metrics. computing these now.\n",
      "'er-1'. result missing roc-enrichment metrics. computing these now.\n",
      "'er-1'. result missing roc-enrichment metrics. computing these now.\n",
      "'er-1'. result missing roc-enrichment metrics. computing these now.\n",
      "'er-1'. result missing roc-enrichment metrics. computing these now.\n",
      "'er-1'. result missing roc-enrichment metrics. computing these now.\n",
      "'er-1'. result missing roc-enrichment metrics. computing these now.\n",
      "'er-1'. result missing roc-enrichment metrics. computing these now.\n",
      "'er-1'. result missing roc-enrichment metrics. computing these now.\n",
      "'er-1'. result missing roc-enrichment metrics. computing these now.\n",
      "'er-1'. result missing roc-enrichment metrics. computing these now.\n",
      "'er-1'. result missing roc-enrichment metrics. computing these now.\n",
      "'er-1'. result missing roc-enrichment metrics. computing these now.\n"
     ]
    },
    {
     "name": "stderr",
     "output_type": "stream",
     "text": [
      " 55%|█████▍    | 12/22 [01:08<00:43,  4.32s/it]"
     ]
    },
    {
     "name": "stdout",
     "output_type": "stream",
     "text": [
      "'er-1'. result missing roc-enrichment metrics. computing these now.\n",
      "/usr/WS1/jones289/hd-cuda-master/hdpy/roc_auc_configs_final/hdbind-rp-ecfp-1024-1-100k.yml\n"
     ]
    },
    {
     "name": "stderr",
     "output_type": "stream",
     "text": [
      " 59%|█████▉    | 13/22 [01:12<00:38,  4.33s/it]"
     ]
    },
    {
     "name": "stdout",
     "output_type": "stream",
     "text": [
      "/usr/WS1/jones289/hd-cuda-master/hdpy/roc_auc_configs_final/hdbind-rp-ecfp-1024-1.yml\n"
     ]
    },
    {
     "name": "stderr",
     "output_type": "stream",
     "text": [
      " 64%|██████▎   | 14/22 [01:14<00:29,  3.73s/it]"
     ]
    },
    {
     "name": "stdout",
     "output_type": "stream",
     "text": [
      "/usr/WS1/jones289/hd-cuda-master/hdpy/roc_auc_configs_final/hdbind-rp-ecfp-1024-1-1k.yml\n",
      "'er-1'. result missing roc-enrichment metrics. computing these now.\n",
      "'er-1'. result missing roc-enrichment metrics. computing these now.\n",
      "'er-1'. result missing roc-enrichment metrics. computing these now.\n",
      "'er-1'. result missing roc-enrichment metrics. computing these now.\n",
      "'er-1'. result missing roc-enrichment metrics. computing these now.\n",
      "'er-1'. result missing roc-enrichment metrics. computing these now.\n",
      "'er-1'. result missing roc-enrichment metrics. computing these now.\n",
      "'er-1'. result missing roc-enrichment metrics. computing these now.\n",
      "'er-1'. result missing roc-enrichment metrics. computing these now.\n",
      "'er-1'. result missing roc-enrichment metrics. computing these now.\n",
      "'er-1'. result missing roc-enrichment metrics. computing these now.\n",
      "'er-1'. result missing roc-enrichment metrics. computing these now.\n",
      "'er-1'. result missing roc-enrichment metrics. computing these now.\n",
      "'er-1'. result missing roc-enrichment metrics. computing these now.\n"
     ]
    },
    {
     "name": "stderr",
     "output_type": "stream",
     "text": [
      " 68%|██████▊   | 15/22 [01:18<00:25,  3.66s/it]"
     ]
    },
    {
     "name": "stdout",
     "output_type": "stream",
     "text": [
      "'er-1'. result missing roc-enrichment metrics. computing these now.\n",
      "/usr/WS1/jones289/hd-cuda-master/hdpy/roc_auc_configs_final/hdbind-rp-ecfp-1024-1-1m.yml\n"
     ]
    },
    {
     "name": "stderr",
     "output_type": "stream",
     "text": [
      " 73%|███████▎  | 16/22 [01:39<00:54,  9.05s/it]"
     ]
    },
    {
     "name": "stdout",
     "output_type": "stream",
     "text": [
      "/usr/WS1/jones289/hd-cuda-master/hdpy/roc_auc_configs_final/hdbind-rp-molclr-100k.yml\n"
     ]
    },
    {
     "name": "stderr",
     "output_type": "stream",
     "text": [
      " 77%|███████▋  | 17/22 [01:44<00:38,  7.61s/it]"
     ]
    },
    {
     "name": "stdout",
     "output_type": "stream",
     "text": [
      "/usr/WS1/jones289/hd-cuda-master/hdpy/roc_auc_configs_final/hdbind-rp-molclr-1k.yml\n",
      "'er-1'. result missing roc-enrichment metrics. computing these now.\n",
      "'er-1'. result missing roc-enrichment metrics. computing these now.\n",
      "'er-1'. result missing roc-enrichment metrics. computing these now.\n",
      "'er-1'. result missing roc-enrichment metrics. computing these now.\n",
      "'er-1'. result missing roc-enrichment metrics. computing these now.\n",
      "'er-1'. result missing roc-enrichment metrics. computing these now.\n",
      "'er-1'. result missing roc-enrichment metrics. computing these now.\n",
      "'er-1'. result missing roc-enrichment metrics. computing these now.\n",
      "'er-1'. result missing roc-enrichment metrics. computing these now.\n",
      "'er-1'. result missing roc-enrichment metrics. computing these now.\n",
      "'er-1'. result missing roc-enrichment metrics. computing these now.\n",
      "'er-1'. result missing roc-enrichment metrics. computing these now.\n",
      "'er-1'. result missing roc-enrichment metrics. computing these now.\n",
      "'er-1'. result missing roc-enrichment metrics. computing these now.\n"
     ]
    },
    {
     "name": "stderr",
     "output_type": "stream",
     "text": [
      " 82%|████████▏ | 18/22 [01:47<00:25,  6.38s/it]"
     ]
    },
    {
     "name": "stdout",
     "output_type": "stream",
     "text": [
      "'er-1'. result missing roc-enrichment metrics. computing these now.\n",
      "/usr/WS1/jones289/hd-cuda-master/hdpy/roc_auc_configs_final/hdbind-rp-molclr-1m.yml\n"
     ]
    },
    {
     "name": "stderr",
     "output_type": "stream",
     "text": [
      " 86%|████████▋ | 19/22 [02:08<00:32, 10.81s/it]"
     ]
    },
    {
     "name": "stdout",
     "output_type": "stream",
     "text": [
      "/usr/WS1/jones289/hd-cuda-master/hdpy/roc_auc_configs_final/hdbind-rp-molclr.yml\n"
     ]
    },
    {
     "name": "stderr",
     "output_type": "stream",
     "text": [
      " 91%|█████████ | 20/22 [02:11<00:16,  8.26s/it]"
     ]
    },
    {
     "name": "stdout",
     "output_type": "stream",
     "text": [
      "/usr/WS1/jones289/hd-cuda-master/hdpy/roc_auc_configs_final/mlp-2048-1.yml\n",
      "[Errno 2] No such file or directory: '/p/vast1/jones289/hd_results/5/mlp-2048-1.lit-pcba-ADRB2-random.5.pkl'. /p/vast1/jones289/hd_results/5/mlp-2048-1.lit-pcba-ADRB2-random.5.pkl does not exist.\n",
      "[Errno 2] No such file or directory: '/p/vast1/jones289/hd_results/5/mlp-2048-1.lit-pcba-ALDH1-random.5.pkl'. /p/vast1/jones289/hd_results/5/mlp-2048-1.lit-pcba-ALDH1-random.5.pkl does not exist.\n",
      "[Errno 2] No such file or directory: '/p/vast1/jones289/hd_results/5/mlp-2048-1.lit-pcba-ESR1_ago-random.5.pkl'. /p/vast1/jones289/hd_results/5/mlp-2048-1.lit-pcba-ESR1_ago-random.5.pkl does not exist.\n",
      "[Errno 2] No such file or directory: '/p/vast1/jones289/hd_results/5/mlp-2048-1.lit-pcba-ESR1_ant-random.5.pkl'. /p/vast1/jones289/hd_results/5/mlp-2048-1.lit-pcba-ESR1_ant-random.5.pkl does not exist.\n",
      "[Errno 2] No such file or directory: '/p/vast1/jones289/hd_results/5/mlp-2048-1.lit-pcba-FEN1-random.5.pkl'. /p/vast1/jones289/hd_results/5/mlp-2048-1.lit-pcba-FEN1-random.5.pkl does not exist.\n",
      "[Errno 2] No such file or directory: '/p/vast1/jones289/hd_results/5/mlp-2048-1.lit-pcba-GBA-random.5.pkl'. /p/vast1/jones289/hd_results/5/mlp-2048-1.lit-pcba-GBA-random.5.pkl does not exist.\n",
      "[Errno 2] No such file or directory: '/p/vast1/jones289/hd_results/5/mlp-2048-1.lit-pcba-IDH1-random.5.pkl'. /p/vast1/jones289/hd_results/5/mlp-2048-1.lit-pcba-IDH1-random.5.pkl does not exist.\n",
      "[Errno 2] No such file or directory: '/p/vast1/jones289/hd_results/5/mlp-2048-1.lit-pcba-KAT2A-random.5.pkl'. /p/vast1/jones289/hd_results/5/mlp-2048-1.lit-pcba-KAT2A-random.5.pkl does not exist.\n",
      "[Errno 2] No such file or directory: '/p/vast1/jones289/hd_results/5/mlp-2048-1.lit-pcba-MAPK1-random.5.pkl'. /p/vast1/jones289/hd_results/5/mlp-2048-1.lit-pcba-MAPK1-random.5.pkl does not exist.\n",
      "[Errno 2] No such file or directory: '/p/vast1/jones289/hd_results/5/mlp-2048-1.lit-pcba-MTORC1-random.5.pkl'. /p/vast1/jones289/hd_results/5/mlp-2048-1.lit-pcba-MTORC1-random.5.pkl does not exist.\n",
      "[Errno 2] No such file or directory: '/p/vast1/jones289/hd_results/5/mlp-2048-1.lit-pcba-OPRK1-random.5.pkl'. /p/vast1/jones289/hd_results/5/mlp-2048-1.lit-pcba-OPRK1-random.5.pkl does not exist.\n",
      "[Errno 2] No such file or directory: '/p/vast1/jones289/hd_results/5/mlp-2048-1.lit-pcba-PKM2-random.5.pkl'. /p/vast1/jones289/hd_results/5/mlp-2048-1.lit-pcba-PKM2-random.5.pkl does not exist.\n",
      "[Errno 2] No such file or directory: '/p/vast1/jones289/hd_results/5/mlp-2048-1.lit-pcba-PPARG-random.5.pkl'. /p/vast1/jones289/hd_results/5/mlp-2048-1.lit-pcba-PPARG-random.5.pkl does not exist.\n",
      "[Errno 2] No such file or directory: '/p/vast1/jones289/hd_results/5/mlp-2048-1.lit-pcba-TP53-random.5.pkl'. /p/vast1/jones289/hd_results/5/mlp-2048-1.lit-pcba-TP53-random.5.pkl does not exist.\n",
      "[Errno 2] No such file or directory: '/p/vast1/jones289/hd_results/5/mlp-2048-1.lit-pcba-VDR-random.5.pkl'. /p/vast1/jones289/hd_results/5/mlp-2048-1.lit-pcba-VDR-random.5.pkl does not exist.\n",
      "/usr/WS1/jones289/hd-cuda-master/hdpy/roc_auc_configs_final/mlp-1024-1.yml\n"
     ]
    },
    {
     "name": "stderr",
     "output_type": "stream",
     "text": [
      "100%|██████████| 22/22 [02:13<00:00,  6.06s/it]\n"
     ]
    }
   ],
   "source": [
    "random_metric_df = collect_roc_metrics(dataset=\"lit-pcba\", split=\"random\", config_list=list(Path(f\"/usr/WS1/jones289/hd-cuda-master/hdpy/{config_dir}\").glob(\"*.yml\")))"
   ]
  },
  {
   "cell_type": "code",
   "execution_count": 42,
   "id": "f206382f",
   "metadata": {},
   "outputs": [
    {
     "data": {
      "text/html": [
       "<div>\n",
       "<style scoped>\n",
       "    .dataframe tbody tr th:only-of-type {\n",
       "        vertical-align: middle;\n",
       "    }\n",
       "\n",
       "    .dataframe tbody tr th {\n",
       "        vertical-align: top;\n",
       "    }\n",
       "\n",
       "    .dataframe thead th {\n",
       "        text-align: right;\n",
       "    }\n",
       "</style>\n",
       "<table border=\"1\" class=\"dataframe\">\n",
       "  <thead>\n",
       "    <tr style=\"text-align: right;\">\n",
       "      <th></th>\n",
       "      <th>model</th>\n",
       "      <th>D</th>\n",
       "      <th>target</th>\n",
       "      <th>seed</th>\n",
       "      <th>roc-auc</th>\n",
       "      <th>er-1</th>\n",
       "    </tr>\n",
       "  </thead>\n",
       "  <tbody>\n",
       "    <tr>\n",
       "      <th>0</th>\n",
       "      <td>HDB-MoLFormer</td>\n",
       "      <td>100000</td>\n",
       "      <td>ADRB2</td>\n",
       "      <td>0</td>\n",
       "      <td>0.649411</td>\n",
       "      <td>25.000000</td>\n",
       "    </tr>\n",
       "    <tr>\n",
       "      <th>1</th>\n",
       "      <td>HDB-MoLFormer</td>\n",
       "      <td>100000</td>\n",
       "      <td>ADRB2</td>\n",
       "      <td>1</td>\n",
       "      <td>0.669319</td>\n",
       "      <td>25.000000</td>\n",
       "    </tr>\n",
       "    <tr>\n",
       "      <th>2</th>\n",
       "      <td>HDB-MoLFormer</td>\n",
       "      <td>100000</td>\n",
       "      <td>ADRB2</td>\n",
       "      <td>2</td>\n",
       "      <td>0.678273</td>\n",
       "      <td>25.000000</td>\n",
       "    </tr>\n",
       "    <tr>\n",
       "      <th>3</th>\n",
       "      <td>HDB-MoLFormer</td>\n",
       "      <td>100000</td>\n",
       "      <td>ADRB2</td>\n",
       "      <td>3</td>\n",
       "      <td>0.682488</td>\n",
       "      <td>25.000000</td>\n",
       "    </tr>\n",
       "    <tr>\n",
       "      <th>4</th>\n",
       "      <td>HDB-MoLFormer</td>\n",
       "      <td>100000</td>\n",
       "      <td>ADRB2</td>\n",
       "      <td>4</td>\n",
       "      <td>0.683325</td>\n",
       "      <td>25.000000</td>\n",
       "    </tr>\n",
       "    <tr>\n",
       "      <th>...</th>\n",
       "      <td>...</td>\n",
       "      <td>...</td>\n",
       "      <td>...</td>\n",
       "      <td>...</td>\n",
       "      <td>...</td>\n",
       "      <td>...</td>\n",
       "    </tr>\n",
       "    <tr>\n",
       "      <th>3220</th>\n",
       "      <td>MLP-1024</td>\n",
       "      <td>10000</td>\n",
       "      <td>VDR</td>\n",
       "      <td>5</td>\n",
       "      <td>0.833841</td>\n",
       "      <td>36.746988</td>\n",
       "    </tr>\n",
       "    <tr>\n",
       "      <th>3221</th>\n",
       "      <td>MLP-1024</td>\n",
       "      <td>10000</td>\n",
       "      <td>VDR</td>\n",
       "      <td>6</td>\n",
       "      <td>0.844265</td>\n",
       "      <td>36.746988</td>\n",
       "    </tr>\n",
       "    <tr>\n",
       "      <th>3222</th>\n",
       "      <td>MLP-1024</td>\n",
       "      <td>10000</td>\n",
       "      <td>VDR</td>\n",
       "      <td>7</td>\n",
       "      <td>0.839351</td>\n",
       "      <td>35.542169</td>\n",
       "    </tr>\n",
       "    <tr>\n",
       "      <th>3223</th>\n",
       "      <td>MLP-1024</td>\n",
       "      <td>10000</td>\n",
       "      <td>VDR</td>\n",
       "      <td>8</td>\n",
       "      <td>0.840733</td>\n",
       "      <td>37.951807</td>\n",
       "    </tr>\n",
       "    <tr>\n",
       "      <th>3224</th>\n",
       "      <td>MLP-1024</td>\n",
       "      <td>10000</td>\n",
       "      <td>VDR</td>\n",
       "      <td>9</td>\n",
       "      <td>0.842705</td>\n",
       "      <td>38.554217</td>\n",
       "    </tr>\n",
       "  </tbody>\n",
       "</table>\n",
       "<p>3225 rows × 6 columns</p>\n",
       "</div>"
      ],
      "text/plain": [
       "              model       D target  seed   roc-auc       er-1\n",
       "0     HDB-MoLFormer  100000  ADRB2     0  0.649411  25.000000\n",
       "1     HDB-MoLFormer  100000  ADRB2     1  0.669319  25.000000\n",
       "2     HDB-MoLFormer  100000  ADRB2     2  0.678273  25.000000\n",
       "3     HDB-MoLFormer  100000  ADRB2     3  0.682488  25.000000\n",
       "4     HDB-MoLFormer  100000  ADRB2     4  0.683325  25.000000\n",
       "...             ...     ...    ...   ...       ...        ...\n",
       "3220       MLP-1024   10000    VDR     5  0.833841  36.746988\n",
       "3221       MLP-1024   10000    VDR     6  0.844265  36.746988\n",
       "3222       MLP-1024   10000    VDR     7  0.839351  35.542169\n",
       "3223       MLP-1024   10000    VDR     8  0.840733  37.951807\n",
       "3224       MLP-1024   10000    VDR     9  0.842705  38.554217\n",
       "\n",
       "[3225 rows x 6 columns]"
      ]
     },
     "execution_count": 42,
     "metadata": {},
     "output_type": "execute_result"
    }
   ],
   "source": [
    "random_metric_df"
   ]
  },
  {
   "cell_type": "code",
   "execution_count": 43,
   "id": "c0da57b1",
   "metadata": {},
   "outputs": [],
   "source": [
    "mlp_1024_mean_rocauc_random = (random_metric_df[random_metric_df[\"model\"].apply(lambda x: x.lower()==\"mlp-1024\")]).groupby([\"model\", \"D\"]).mean()[\"roc-auc\"].values\n",
    "\n",
    "mlp_1024_mean_rocauc_ave = (ave_metric_df[ave_metric_df[\"model\"].apply(lambda x: x.lower()==\"mlp-1024\")]).groupby([\"model\", \"D\"]).mean()[\"roc-auc\"].values"
   ]
  },
  {
   "cell_type": "code",
   "execution_count": 44,
   "id": "5ef5fedb",
   "metadata": {},
   "outputs": [
    {
     "data": {
      "text/plain": [
       "'1.4.0'"
      ]
     },
     "execution_count": 44,
     "metadata": {},
     "output_type": "execute_result"
    }
   ],
   "source": [
    "pd.__version__"
   ]
  },
  {
   "cell_type": "code",
   "execution_count": 45,
   "id": "79d4be6a",
   "metadata": {},
   "outputs": [],
   "source": [
    "model_dict = {\n",
    "    \"MoleHD-BPE\": rocket_color_pal[4],\n",
    "    \"HDB-RPFP\": green_color_pal[0],\n",
    "    \"HDB-DECFP\": green_color_pal[3],\n",
    "    \"HDB-MolCLR\": green_color_pal[5],\n",
    "    \"HDB-MoLFormer\": green_color_pal[7],\n",
    "    \"HDB-Combo\": green_color_pal[9],\n",
    "    \"MLP\": blue_color_pal[7],\n",
    "    # \"Vina\": (\"Vina\", \"salmon\"),\n",
    "}\n",
    "\n",
    "model_order_dict = {\n",
    "    \"HDB-RPFP\": 0,\n",
    "    \"HDB-DECFP\": 1,\n",
    "    \"HDB-MolCLR\": 2,\n",
    "    \"HDB-MoLFormer\": 3,\n",
    "    \"HDB-Combo\": 4}\n",
    "\n",
    "\n",
    "\n",
    "def make_plot(df, ax, metric):\n",
    "    # print(df.head())\n",
    "    df = df.sort_values(by='model', key=lambda x: x.map(model_order_dict))\n",
    "\n",
    "    width=0.8\n",
    "    gap=0.2\n",
    "\n",
    "    sns.boxenplot(data=df, \n",
    "            x=\"D\", y=metric, \n",
    "            hue=\"model\", \n",
    "            ax=ax,\n",
    "            # order=model_order_list,\n",
    "            palette={x: model_dict[x] for x in model_dict.keys()},\n",
    "            width=width, \n",
    "            gap=gap\n",
    "            )\n",
    "    \n",
    "def make_roc_auc_plot():\n",
    "    f,ax = plt.subplots(2,1, figsize=(16,20), sharex=True, sharey=True)\n",
    "\n",
    "    make_plot(df=random_metric_df[random_metric_df[\"model\"].apply(lambda x: \"mlp\" not in x.lower())],\n",
    "          ax=ax[0], metric=\"roc-auc\")\n",
    "\n",
    "    make_plot(df=ave_metric_df[ave_metric_df[\"model\"].apply(lambda x: \"mlp\" not in x.lower())],\n",
    "          ax=ax[1], metric=\"roc-auc\")\n",
    "    ax[0].set_ylabel(\"ROC-AUC\")\n",
    "    ax[1].set_ylabel(\"\")\n",
    "\n",
    "    ax[0].set_title(\"Random\", fontsize=18)\n",
    "    ax[1].set_title(\"AVE\", fontsize=18)\n",
    "\n",
    "    alpha=0.7\n",
    "    handles, labels = ax[0].get_legend_handles_labels()\n",
    "    handles.append(ax[0].axhline(mlp_1024_mean_rocauc_random, color=\"red\", linestyle=\"--\", alpha=alpha))\n",
    "    labels.append(\"MLP ($\\mu$)\")\n",
    "    # ax[0].legend(handles,labels, fontsize=\"x-large\", loc=\"best\")\n",
    "    ax[0].get_legend().remove()\n",
    "\n",
    "    handles, labels = ax[1].get_legend_handles_labels()\n",
    "    handles.append(ax[1].axhline(mlp_1024_mean_rocauc_ave, color=\"red\", linestyle=\"--\", alpha=alpha))\n",
    "    labels.append(\"MLP ($\\mu$)\")\n",
    "    ax[1].legend(handles,labels, fontsize=\"x-large\", loc=\"best\")\n",
    "    ax[0].set_xlabel(\"HDC Dimension $D$\", fontsize=20)\n",
    "    ax[1].set_xlabel(\"HDC Dimension $D$\", fontsize=20)\n",
    "\n",
    "    plt.tight_layout()\n",
    "    plt.savefig(\"lit-pcba-rocauc-boxenplot.png\", dpi=450)\n",
    "    \n",
    "def make_er1_plot():\n",
    "    f,ax = plt.subplots(1,1, figsize=(16,8), sharex=True, sharey=True)\n",
    "\n",
    "\n",
    "    make_plot(df=ave_metric_df[ave_metric_df[\"model\"].apply(lambda x: \"mlp\" not in x.lower())],\n",
    "          ax=ax, metric=\"er-1\")\n",
    "    ax.set_ylabel(\"\")\n",
    "\n",
    "    ax.set_title(\"AVE\", fontsize=18)\n",
    "\n",
    "    alpha=0.7\n",
    "    handles, labels = ax.get_legend_handles_labels()\n",
    "    handles.append(ax.axhline(4.78, color=\"red\", linestyle=\"--\", alpha=alpha))\n",
    "    labels.append(\"GRIM ($\\mu$)\")\n",
    "    handles.append(ax.axhline(3.46, color=\"darkred\", linestyle=\"-.\", alpha=alpha))\n",
    "    labels.append(\"Pafnucy ($\\mu$)\")\n",
    "\n",
    "    ax.legend(handles,labels, fontsize=\"x-large\", loc=\"best\")\n",
    "    ax.set_xlabel(\"HDC Dimension $D$\", fontsize=20)\n",
    "\n",
    "    plt.tight_layout()\n",
    "    plt.savefig(\"lit-pcba-er1-boxenplot.png\", dpi=450)"
   ]
  },
  {
   "cell_type": "code",
   "execution_count": 46,
   "id": "d5da5b2c",
   "metadata": {},
   "outputs": [],
   "source": [
    "# make_roc_auc_plot()"
   ]
  },
  {
   "cell_type": "code",
   "execution_count": 47,
   "id": "ce55fcd3",
   "metadata": {},
   "outputs": [
    {
     "data": {
      "image/png": "[encoded data removed]",
      "text/plain": [
       "<Figure size 1152x576 with 1 Axes>"
      ]
     },
     "metadata": {},
     "output_type": "display_data"
    }
   ],
   "source": [
    "make_er1_plot()"
   ]
  },
  {
   "cell_type": "code",
   "execution_count": 48,
   "id": "cc389e7c",
   "metadata": {},
   "outputs": [],
   "source": [
    "# for grp, grp_df in ave_metric_df.groupby([\"model\", 'D']):\n",
    "    # print(grp, grp_df)"
   ]
  },
  {
   "cell_type": "code",
   "execution_count": 83,
   "id": "c4f0cbd9",
   "metadata": {},
   "outputs": [
    {
     "data": {
      "text/plain": [
       "array(['ADRB2', 'ALDH1', 'ESR1_ago', 'ESR1_ant', 'FEN1', 'GBA', 'IDH1',\n",
       "       'KAT2A', 'MAPK1', 'MTORC1', 'OPRK1', 'PKM2', 'PPARG', 'TP53',\n",
       "       'VDR'], dtype=object)"
      ]
     },
     "execution_count": 83,
     "metadata": {},
     "output_type": "execute_result"
    }
   ],
   "source": [
    "ave_metric_df['target'].unique()"
   ]
  },
  {
   "cell_type": "code",
   "execution_count": 97,
   "id": "ce74c24a",
   "metadata": {},
   "outputs": [
    {
     "name": "stderr",
     "output_type": "stream",
     "text": [
      "/var/tmp/jones289/ipykernel_237365/582430755.py:18: FutureWarning: In future versions `DataFrame.to_latex` is expected to utilise the base implementation of `Styler.to_latex` for formatting and rendering. The arguments signature may therefore change. It is recommended instead to use `DataFrame.style.to_latex` which also contains additional functionality.\n",
      "  paper_df.to_latex(\"lit-pcba-by-target-metrics.tex\")\n"
     ]
    },
    {
     "data": {
      "text/html": [
       "<div>\n",
       "<style scoped>\n",
       "    .dataframe tbody tr th:only-of-type {\n",
       "        vertical-align: middle;\n",
       "    }\n",
       "\n",
       "    .dataframe tbody tr th {\n",
       "        vertical-align: top;\n",
       "    }\n",
       "\n",
       "    .dataframe thead tr th {\n",
       "        text-align: left;\n",
       "    }\n",
       "\n",
       "    .dataframe thead tr:last-of-type th {\n",
       "        text-align: right;\n",
       "    }\n",
       "</style>\n",
       "<table border=\"1\" class=\"dataframe\">\n",
       "  <thead>\n",
       "    <tr>\n",
       "      <th></th>\n",
       "      <th></th>\n",
       "      <th></th>\n",
       "      <th colspan=\"4\" halign=\"left\">roc-auc</th>\n",
       "      <th colspan=\"4\" halign=\"left\">er-1</th>\n",
       "      <th>Actives</th>\n",
       "    </tr>\n",
       "    <tr>\n",
       "      <th></th>\n",
       "      <th></th>\n",
       "      <th></th>\n",
       "      <th>mean</th>\n",
       "      <th>std</th>\n",
       "      <th>min</th>\n",
       "      <th>max</th>\n",
       "      <th>mean</th>\n",
       "      <th>std</th>\n",
       "      <th>min</th>\n",
       "      <th>max</th>\n",
       "      <th>mean</th>\n",
       "    </tr>\n",
       "    <tr>\n",
       "      <th>model</th>\n",
       "      <th>D</th>\n",
       "      <th>target</th>\n",
       "      <th></th>\n",
       "      <th></th>\n",
       "      <th></th>\n",
       "      <th></th>\n",
       "      <th></th>\n",
       "      <th></th>\n",
       "      <th></th>\n",
       "      <th></th>\n",
       "      <th></th>\n",
       "    </tr>\n",
       "  </thead>\n",
       "  <tbody>\n",
       "    <tr>\n",
       "      <th rowspan=\"5\" valign=\"top\">HDB-Combo</th>\n",
       "      <th rowspan=\"5\" valign=\"top\">100000</th>\n",
       "      <th>ADRB2</th>\n",
       "      <td>1.00</td>\n",
       "      <td>0.00</td>\n",
       "      <td>1.00</td>\n",
       "      <td>1.00</td>\n",
       "      <td>100.00</td>\n",
       "      <td>0.00</td>\n",
       "      <td>100.00</td>\n",
       "      <td>100.00</td>\n",
       "      <td>17.0</td>\n",
       "    </tr>\n",
       "    <tr>\n",
       "      <th>ALDH1</th>\n",
       "      <td>0.53</td>\n",
       "      <td>0.01</td>\n",
       "      <td>0.51</td>\n",
       "      <td>0.55</td>\n",
       "      <td>1.53</td>\n",
       "      <td>0.30</td>\n",
       "      <td>1.14</td>\n",
       "      <td>2.11</td>\n",
       "      <td>5363.0</td>\n",
       "    </tr>\n",
       "    <tr>\n",
       "      <th>FEN1</th>\n",
       "      <td>0.97</td>\n",
       "      <td>0.00</td>\n",
       "      <td>0.96</td>\n",
       "      <td>0.97</td>\n",
       "      <td>73.55</td>\n",
       "      <td>3.12</td>\n",
       "      <td>65.88</td>\n",
       "      <td>76.09</td>\n",
       "      <td>360.0</td>\n",
       "    </tr>\n",
       "    <tr>\n",
       "      <th>GBA</th>\n",
       "      <td>0.73</td>\n",
       "      <td>0.02</td>\n",
       "      <td>0.68</td>\n",
       "      <td>0.74</td>\n",
       "      <td>35.09</td>\n",
       "      <td>5.37</td>\n",
       "      <td>24.39</td>\n",
       "      <td>39.02</td>\n",
       "      <td>163.0</td>\n",
       "    </tr>\n",
       "    <tr>\n",
       "      <th>IDH1</th>\n",
       "      <td>0.44</td>\n",
       "      <td>0.05</td>\n",
       "      <td>0.36</td>\n",
       "      <td>0.52</td>\n",
       "      <td>0.75</td>\n",
       "      <td>2.37</td>\n",
       "      <td>0.00</td>\n",
       "      <td>7.50</td>\n",
       "      <td>39.0</td>\n",
       "    </tr>\n",
       "    <tr>\n",
       "      <th>...</th>\n",
       "      <th>...</th>\n",
       "      <th>...</th>\n",
       "      <td>...</td>\n",
       "      <td>...</td>\n",
       "      <td>...</td>\n",
       "      <td>...</td>\n",
       "      <td>...</td>\n",
       "      <td>...</td>\n",
       "      <td>...</td>\n",
       "      <td>...</td>\n",
       "      <td>...</td>\n",
       "    </tr>\n",
       "    <tr>\n",
       "      <th rowspan=\"5\" valign=\"top\">HDB-RPFP</th>\n",
       "      <th rowspan=\"5\" valign=\"top\">1000000</th>\n",
       "      <th>OPRK1</th>\n",
       "      <td>0.70</td>\n",
       "      <td>0.01</td>\n",
       "      <td>0.69</td>\n",
       "      <td>0.71</td>\n",
       "      <td>1.67</td>\n",
       "      <td>5.27</td>\n",
       "      <td>0.00</td>\n",
       "      <td>16.67</td>\n",
       "      <td>24.0</td>\n",
       "    </tr>\n",
       "    <tr>\n",
       "      <th>PKM2</th>\n",
       "      <td>0.74</td>\n",
       "      <td>0.01</td>\n",
       "      <td>0.71</td>\n",
       "      <td>0.75</td>\n",
       "      <td>9.12</td>\n",
       "      <td>1.05</td>\n",
       "      <td>7.35</td>\n",
       "      <td>10.29</td>\n",
       "      <td>546.0</td>\n",
       "    </tr>\n",
       "    <tr>\n",
       "      <th>PPARG</th>\n",
       "      <td>0.80</td>\n",
       "      <td>0.02</td>\n",
       "      <td>0.76</td>\n",
       "      <td>0.83</td>\n",
       "      <td>11.67</td>\n",
       "      <td>8.05</td>\n",
       "      <td>0.00</td>\n",
       "      <td>16.67</td>\n",
       "      <td>24.0</td>\n",
       "    </tr>\n",
       "    <tr>\n",
       "      <th>TP53</th>\n",
       "      <td>0.72</td>\n",
       "      <td>0.02</td>\n",
       "      <td>0.68</td>\n",
       "      <td>0.74</td>\n",
       "      <td>14.74</td>\n",
       "      <td>2.22</td>\n",
       "      <td>10.53</td>\n",
       "      <td>15.79</td>\n",
       "      <td>64.0</td>\n",
       "    </tr>\n",
       "    <tr>\n",
       "      <th>VDR</th>\n",
       "      <td>0.76</td>\n",
       "      <td>0.01</td>\n",
       "      <td>0.75</td>\n",
       "      <td>0.77</td>\n",
       "      <td>10.36</td>\n",
       "      <td>1.05</td>\n",
       "      <td>9.09</td>\n",
       "      <td>12.12</td>\n",
       "      <td>655.0</td>\n",
       "    </tr>\n",
       "  </tbody>\n",
       "</table>\n",
       "<p>130 rows × 9 columns</p>\n",
       "</div>"
      ],
      "text/plain": [
       "                         roc-auc                      er-1                \\\n",
       "                            mean   std   min   max    mean   std     min   \n",
       "model     D       target                                                   \n",
       "HDB-Combo 100000  ADRB2     1.00  0.00  1.00  1.00  100.00  0.00  100.00   \n",
       "                  ALDH1     0.53  0.01  0.51  0.55    1.53  0.30    1.14   \n",
       "                  FEN1      0.97  0.00  0.96  0.97   73.55  3.12   65.88   \n",
       "                  GBA       0.73  0.02  0.68  0.74   35.09  5.37   24.39   \n",
       "                  IDH1      0.44  0.05  0.36  0.52    0.75  2.37    0.00   \n",
       "...                          ...   ...   ...   ...     ...   ...     ...   \n",
       "HDB-RPFP  1000000 OPRK1     0.70  0.01  0.69  0.71    1.67  5.27    0.00   \n",
       "                  PKM2      0.74  0.01  0.71  0.75    9.12  1.05    7.35   \n",
       "                  PPARG     0.80  0.02  0.76  0.83   11.67  8.05    0.00   \n",
       "                  TP53      0.72  0.02  0.68  0.74   14.74  2.22   10.53   \n",
       "                  VDR       0.76  0.01  0.75  0.77   10.36  1.05    9.09   \n",
       "\n",
       "                                 Actives  \n",
       "                             max    mean  \n",
       "model     D       target                  \n",
       "HDB-Combo 100000  ADRB2   100.00    17.0  \n",
       "                  ALDH1     2.11  5363.0  \n",
       "                  FEN1     76.09   360.0  \n",
       "                  GBA      39.02   163.0  \n",
       "                  IDH1      7.50    39.0  \n",
       "...                          ...     ...  \n",
       "HDB-RPFP  1000000 OPRK1    16.67    24.0  \n",
       "                  PKM2     10.29   546.0  \n",
       "                  PPARG    16.67    24.0  \n",
       "                  TP53     15.79    64.0  \n",
       "                  VDR      12.12   655.0  \n",
       "\n",
       "[130 rows x 9 columns]"
      ]
     },
     "execution_count": 97,
     "metadata": {},
     "output_type": "execute_result"
    }
   ],
   "source": [
    "lit_pcba_summary_df = pd.read_csv(\"/g/g13/jones289/workspace/hd-cuda-master/notebooks/lit-pcba-dataset-overview.csv\")\n",
    "merge_df = pd.merge(ave_metric_df, lit_pcba_summary_df, left_on=\"target\", right_on=\"Set\")\n",
    "\n",
    "\n",
    "# merge_df\n",
    "# paper_df = merge_df[merge_df[\"D\"] > 10000].groupby([\"model\", 'D', 'target']).describe()[['roc-auc', 'er-1']].round(2)\n",
    "paper_df = merge_df[merge_df[\"D\"] > 10000].groupby([\"model\", 'D', 'target']).describe().round(2)\n",
    "\n",
    "\n",
    "mask_cols = [x for x in paper_df.columns if x[1] in [\"mean\", \"std\", \"min\", \"max\"]]\n",
    "paper_df = paper_df.loc[:, mask_cols]\n",
    "mask_cols = [x for x in paper_df.columns if x[0] in [\"roc-auc\", \"er-1\", \"Actives\"]]\n",
    "paper_df = paper_df.loc[:, mask_cols]\n",
    "# print(paper_df.columns)\n",
    "mask_cols = [x for x in paper_df.columns if x[0] != \"Actives\" or x[0] == \"Actives\" and x[1] not in [\"std\", \"min\", \"max\"]]\n",
    "paper_df = paper_df.loc[:, mask_cols]\n",
    "# paper_df.to_csv(\"lit-pcba-by-target-metrics.csv\")\n",
    "paper_df.to_latex(\"lit-pcba-by-target-metrics.tex\")\n",
    "paper_df"
   ]
  }
 ],
 "metadata": {
  "kernelspec": {
   "display_name": "HD_env",
   "language": "python",
   "name": "python3"
  },
  "language_info": {
   "codemirror_mode": {
    "name": "ipython",
    "version": 3
   },
   "file_extension": ".py",
   "mimetype": "text/x-python",
   "name": "python",
   "nbconvert_exporter": "python",
   "pygments_lexer": "ipython3",
   "version": "3.8.12"
  }
 },
 "nbformat": 4,
 "nbformat_minor": 5
}
