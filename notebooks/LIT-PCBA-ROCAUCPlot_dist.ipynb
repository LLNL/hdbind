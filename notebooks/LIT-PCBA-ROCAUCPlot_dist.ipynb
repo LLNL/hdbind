{
 "cells": [
  {
   "cell_type": "code",
   "execution_count": 13,
   "id": "eb27244d",
   "metadata": {},
   "outputs": [],
   "source": [
    "import torch\n",
    "import pandas as pd\n",
    "import matplotlib.pyplot as plt\n",
    "from matplotlib import rc\n",
    "from deepchem.molnet import load_hiv, load_tox21, load_bace_classification, load_sider, load_clintox, load_bbbp\n",
    "from hdpy.metrics import compute_roc_enrichment\n",
    "import seaborn as sns\n",
    "sns.set_style(\"whitegrid\")\n",
    "\n",
    "\n",
    "plt.rc('text', usetex=True)\n",
    "plt.rc('font', family='serif')\n",
    "plt.rc('xtick', labelsize=15)\n",
    "plt.rc('ytick', labelsize=15)\n",
    "plt.rc('axes', labelsize=17)\n",
    "plt.rc('figure', titlesize=20)\n",
    "\n",
    "from tqdm import tqdm\n",
    "from pathlib import Path\n",
    "\n",
    "RANDOM_SEED=5\n",
    "output_result_dir = Path(f\"/p/vast1/jones289/hd_results/{RANDOM_SEED}\")\n",
    "\n",
    "green_color_pal = sns.color_palette(\"Greens\", 10)\n",
    "blue_color_pal = sns.color_palette(\"Blues\", 10)\n",
    "red_color_pal = sns.color_palette(\"Reds\", 10)\n",
    "purple_color_pal = sns.color_palette(\"Purples\", 10)\n",
    "rocket_color_pal = sns.color_palette(\"rocket\", 10)\n",
    "\n",
    "plot_dict = {\n",
    "    \"RPFP\": (\"HDB-RPFP\", red_color_pal[4]),\n",
    "    \"Combo\": (\"HDB-Combo\", purple_color_pal[5]),\n",
    "            #   \"HDBind (10k) (GPU-no encode)\": green_color_pal[8],\n",
    "              \"MoLFormer\": (\"HDB-MoLFormer\", green_color_pal[7]),\n",
    "              # \"MoLFormer+RPFP\": (\"HDB Combo\", green_color_pal[9]),\n",
    "              \"MolCLR\": (\"HDB-MolCLR\", green_color_pal[4]),\n",
    "              \"DECFP-4\": (\"HDB-DECFP\", red_color_pal[8]),\n",
    "              \"MLP\": (\"MLP\", \"black\"),\n",
    "    }\n",
    "\n",
    "\n",
    "model_name_map = {\n",
    "    \"hdbind-molformer-decfp-combo-1k\": \"HDB-Combo\",\n",
    "    \"hdbind-molformer-decfp-combo-100k\": \"HDB-Combo\",\n",
    "    \"hdbind-molformer-decfp-combo-1m\": \"HDB-Combo\",\n",
    "    \"hdbind-molformer-decfp-combo\": \"HDB-Combo\",\n",
    "    \"hdbind-rp-ecfp-1024-1-1k\": \"HDB-RPFP\",\n",
    "    \"hdbind-rp-ecfp-1024-1\": \"HDB-RPFP\",\n",
    "    \"hdbind-rp-ecfp-1024-1-100k\": \"HDB-RPFP\",\n",
    "    \"hdbind-rp-ecfp-1024-1-1m\": \"HDB-RPFP\",\n",
    "    \"hdbind-rp-molformer-1k\": \"HDB-MoLFormer\",\n",
    "    \"hdbind-rp-molformer\": \"HDB-MoLFormer\",\n",
    "    \"hdbind-rp-molformer-100k\": \"HDB-MoLFormer\",\n",
    "    \"hdbind-rp-molformer-1m\": \"HDB-MoLFormer\",\n",
    "    \"hdbind-rp-molclr-1k\": \"HDB-MolCLR\",\n",
    "    \"hdbind-rp-molclr\": \"HDB-MolCLR\",\n",
    "    \"hdbind-rp-molclr-100k\": \"HDB-MolCLR\",\n",
    "    \"hdbind-rp-molclr-1m\": \"HDB-MolCLR\",\n",
    "    \"hdbind-directecfp-1k-1\": \"HDB-DECFP\",\n",
    "    \"hdbind-directecfp-1k-2\": \"HDB-DECFP\",\n",
    "    \"hdbind-directecfp-1k-4\": \"HDB-DECFP\",\n",
    "    \"hdbind-directecfp-10k-1\": \"HDB-DECFP\",\n",
    "    \"hdbind-directecfp-10k-2\": \"HDB-DECFP\",\n",
    "    \"hdbind-directecfp-10k-4\": \"HDB-DECFP\",\n",
    "    \"hdbind-directecfp-100k-1\": \"HDB-DECFP\",\n",
    "    \"hdbind-directecfp-100k-2\": \"HDB-DECFP\",\n",
    "    \"hdbind-directecfp-100k-4\": \"HDB-DECFP\",\n",
    "    \"hdbind-directecfp-1m-1\": \"HDB-DECFP\",\n",
    "    \"hdbind-directecfp-1m-2\": \"HDB-DECFP\",\n",
    "    \"hdbind-directecfp-1m-4\": \"HDB-DECFP\",\n",
    "    \"mlp-1024-1\": \"MLP-1024\",\n",
    "    \"mlp-2048-1\": \"MLP-2048\"\n",
    "}"
   ]
  },
  {
   "cell_type": "code",
   "execution_count": 14,
   "id": "f7a9d7b8",
   "metadata": {},
   "outputs": [],
   "source": [
    "# model_dict = {\n",
    "#     \"molehd-bpe\": (\"MoleHD-BPE\", rocket_color_pal[4]),\n",
    "#     # \"hdbind-rp-ecfp-1024-1-100\": (\"HDB-ECFP-100\", green_color_pal[3]),\n",
    "#     # \"hdbind-rp-ecfp-1024-1-1k\": (\"HDB-ECFP-1k\", green_color_pal[3]),\n",
    "#     \"hdbind-rp-ecfp-1024-1\": (\"HDB-RPFP\", green_color_pal[3]),\n",
    "#     # \"hdbind-rp-ecfp-1024-1-100k\": (\"HDB-ECFP-100k\", green_color_pal[3]),\n",
    "#     # \"hdbind-rp-ecfp-1024-1-1m\": (\"HDB-ECFP-1m\", green_color_pal[3]),\n",
    "#     # \"hdbind-rp-ecfp-1024-1-100k\": (\"HDB-ECFP-100k\", green_color_pal[3]),\n",
    "#     # \"hdbind-rp-molclr-100\":  (\"HDB-MolCLR-100\", green_color_pal[7]),\n",
    "#     # \"hdbind-rp-molclr-1k\":  (\"HDB-MolCLR-1k\", green_color_pal[7]),\n",
    "#     \"hdbind-rp-molclr\":  (\"HDB-MolCLR\", green_color_pal[7]),\n",
    "#     # \"hdbind-rp-molclr-100k\":  (\"HDB-MolCLR-100k\", green_color_pal[7]),\n",
    "#     # \"hdbind-rp-molclr-1m\":  (\"HDB-MolCLR-1m\", green_color_pal[7]),\n",
    "#     # \"hdbind-rp-molclr-100k\":  (\"HDB-MolCLR-100k\", green_color_pal[7]),\n",
    "#     # \"hdbind-rp-molformer-100\": (\"HDB-MolFormer-100\", green_color_pal[7]),\n",
    "#     # \"hdbind-rp-molformer-1k\": (\"HDB-MolFormer-1k\", green_color_pal[7]),\n",
    "#     \"hdbind-rp-molformer\": (\"HDB-MolFormer\", green_color_pal[7]),\n",
    "#     # \"hdbind-rp-molformer-100k\": (\"HDB-MolFormer-100k\", green_color_pal[7]),\n",
    "#     # \"hdbind-rp-molformer-1m\": (\"HDB-MolFormer-1m\", green_color_pal[7]),\n",
    "#     \"hdbind-rp-molformer-ecfp-combo\": (\"HDB-Combo\", green_color_pal[7]),\n",
    "#     # \"hdbind-rp-ecfp-1024-1-100\": (\"HDBind+ECFP-100\", green_color_pal[3]),\n",
    "#     # \"hdbind-rp-ecfp-1024-1-1k\": (\"HDBind+ECFP-1k\", green_color_pal[3]),\n",
    "#     # \"hdbind-rp-ecfp-1024-1-1m\": (\"HDBind+ECFP-1m\", green_color_pal[3]), \n",
    "#     # \"hdbind-directecfp-100-1\": (\"HDB-DECFP-100-1\", green_color_pal[3]),\n",
    "#     # \"hdbind-directecfp-100-2\": (\"HDB-DECFP-100-2\", green_color_pal[3]),\n",
    "#     # \"hdbind-directecfp-100-4\": (\"HDB-DECFP-100-4\", green_color_pal[3]),\n",
    "#     # \"hdbind-directecfp-1k-1\": (\"HDB-DECFP-1k-1\", green_color_pal[3]),\n",
    "#     # \"hdbind-directecfp-1k-2\": (\"HDB-DECFP-1k-2\", green_color_pal[3]),\n",
    "#     # \"hdbind-directecfp-1k-4\": (\"HDB-DECFP-1k-4\", green_color_pal[3]),\n",
    "#     # \"hdbind-directecfp-10k-1\": (\"HDB-DECFP-10k-1\", green_color_pal[3]),\n",
    "#     # \"hdbind-directecfp-10k-2\": (\"HDB-DECFP-10k-2\", green_color_pal[3]),\n",
    "#     \"hdbind-directecfp-10k-4\": (\"HDB-DECFP\", green_color_pal[3]),\n",
    "#     # \"hdbind-directecfp-100k-1\": (\"HDB-DECFP-100k-1\", green_color_pal[3]),\n",
    "#     # \"hdbind-directecfp-100k-2\": (\"HDB-DECFP-100k-2\", green_color_pal[3]),\n",
    "#     # \"hdbind-directecfp-100k-4\": (\"HDB-DECFP-100k-4\", green_color_pal[3]),\n",
    "#     # \"hdbind-directecfp-1m-1\": (\"HDB-DECFP-1m-1\", green_color_pal[3]),\n",
    "#     # \"hdbind-directecfp-1m-2\": (\"HDB-DECFP-1m-2\", green_color_pal[3]),\n",
    "#     # \"hdbind-directecfp-1m-4\": (\"HDB-DECFP-1m-4\", green_color_pal[3]),\n",
    "#     # \"hdbind-molformer-decfp-combo-1k\": (\"HDB-Combo-1k\", purple_color_pal[9]),\n",
    "#     \"hdbind-molformer-decfp-combo\": (\"HDB-Combo\", green_color_pal[9]),\n",
    "#     # \"hdbind-molformer-decfp-combo-100k\": (\"HDB-Combo-100k\", green_color_pal[9]),\n",
    "#     # \"hdbind-molformer-decfp-combo-1m\": (\"HDB-Combo-1m\", green_color_pal[9]),\n",
    "#     \"mlp-1024-1\": (\"MLP\", blue_color_pal[7]),\n",
    "#     \"Vina\": (\"Vina\", \"salmon\"),\n",
    "# }\n"
   ]
  },
  {
   "cell_type": "code",
   "execution_count": 15,
   "id": "285d7261",
   "metadata": {},
   "outputs": [
    {
     "data": {
      "text/plain": [
       "'0.13.2'"
      ]
     },
     "execution_count": 15,
     "metadata": {},
     "output_type": "execute_result"
    }
   ],
   "source": [
    "sns.__version__"
   ]
  },
  {
   "cell_type": "code",
   "execution_count": 16,
   "id": "afedd17e",
   "metadata": {},
   "outputs": [],
   "source": [
    "def collect_roc_metrics(dataset:str, split:str, config_list:list):\n",
    "\n",
    "    result_dict = {\"model\": [],\n",
    "                   \"D\": [],\n",
    "                   \"seed\": [],\n",
    "                   \"roc-auc\": [],\n",
    "                   \"er-1\": []\n",
    "                   }\n",
    "\n",
    "    target_list = []\n",
    "    if dataset in [\"bbbp\", \"tox21\", \"clintox\", \"hiv\", \"bace\", \"sider\"]:\n",
    "        if dataset == \"bbbp\":\n",
    "            data = load_bbbp()\n",
    "        if dataset == \"tox21\":\n",
    "            data = load_tox21()\n",
    "        if dataset == \"clintox\":\n",
    "            data = load_clintox(splitter=\"scaffold\")\n",
    "        if dataset == \"hiv\":\n",
    "            data = load_hiv()\n",
    "        if dataset == \"bace\":\n",
    "            data = load_bace_classification()\n",
    "        if dataset == \"sider\":\n",
    "            data = load_sider()\n",
    "\n",
    "        target_list = data[0]\n",
    "    elif dataset == \"lit-pcba\":\n",
    "        lit_pcba_ave_p = Path(\"/p/vast1/jones289/lit_pcba/AVE_unbiased\")\n",
    "        target_list = [x.name for x in list(lit_pcba_ave_p.glob(\"*/\"))]\n",
    "\n",
    "    # print(target_list)\n",
    "    for config_path in tqdm(config_list):\n",
    "        print(config_path)\n",
    "        exp_name = config_path.stem\n",
    "        # for d in range(10):\n",
    "        for target_name in target_list:\n",
    "            \n",
    "            result_file = Path(\n",
    "                f\"{output_result_dir}/{exp_name}.{dataset}-{target_name.replace(' ','_')}-{split}.{RANDOM_SEED}.pkl\"\n",
    "            )\n",
    "            try:\n",
    "                data = torch.load(result_file)\n",
    "            except FileNotFoundError as e:\n",
    "                print(f\"{e}. {result_file} does not exist.\")\n",
    "\n",
    "            for random_state in data[\"trials\"].keys():\n",
    "                result_dict[\"model\"].append(model_name_map[exp_name])\n",
    "                result_dict[\"D\"].append(data[\"args\"].D)\n",
    "                result_dict[\"seed\"].append(random_state)\n",
    "                result_dict[\"roc-auc\"].append(data[\"trials\"][random_state][\"roc-auc\"])\n",
    "\n",
    "                try:\n",
    "                    \n",
    "                    er_1 = data[\"trials\"][random_state][\"er-1\"]\n",
    "                    result_dict[\"er-1\"].append(er_1)\n",
    "\n",
    "                except KeyError as e:\n",
    "            \n",
    "                    print(f\"{e}. result missing roc-enrichment metrics. computing these now.\")\n",
    "                    for trial_idx in data[\"trials\"].keys():\n",
    "                        scores = None \n",
    "                        \n",
    "                        if \"er-1\" not in data[\"trials\"][trial_idx].keys():\n",
    "\n",
    "                            # if config.model in [\"molehd-bpe\", \"selfies\",\"hdbind-directecfp-10k-4\",\n",
    "                                                # \"hdbind-molformer-decfp-combo\",\n",
    "                                                #   \"ecfp\", \"rp\", \"directecfp\"]:\n",
    "                                # scores = model_data_dict[\"trials\"][trial_idx][\"eta\"]\n",
    "                            if \"mlp\" in exp_name.lower():\n",
    "                                scores = data[\"trials\"][trial_idx][\"eta\"][:, 1]\n",
    "                            else:\n",
    "\n",
    "                                scores = data[\"trials\"][trial_idx][\"eta\"]\n",
    "                            \n",
    "                            labels = data[\"trials\"][trial_idx]['y_true']\n",
    "\n",
    "                            trial_er_1 = compute_roc_enrichment(scores=scores, labels=labels, fpr_thresh=.01)\n",
    "\n",
    "                            data[\"trials\"][trial_idx][\"er-1\"] = trial_er_1\n",
    "            \n",
    "\n",
    " \n",
    "                    er_1 = data[\"trials\"][random_state][\"er-1\"]\n",
    "                    result_dict[\"er-1\"].append(er_1)\n",
    "\n",
    "    return pd.DataFrame(result_dict)"
   ]
  },
  {
   "cell_type": "code",
   "execution_count": 17,
   "id": "8b22fa94",
   "metadata": {},
   "outputs": [
    {
     "name": "stderr",
     "output_type": "stream",
     "text": [
      "  0%|          | 0/30 [00:00<?, ?it/s]"
     ]
    },
    {
     "name": "stdout",
     "output_type": "stream",
     "text": [
      "/usr/WS1/jones289/hd-cuda-master/hdpy/roc_auc_configs/hdbind-rp-ecfp-1024-1.yml\n"
     ]
    },
    {
     "name": "stderr",
     "output_type": "stream",
     "text": [
      "  3%|▎         | 1/30 [00:02<01:13,  2.54s/it]"
     ]
    },
    {
     "name": "stdout",
     "output_type": "stream",
     "text": [
      "/usr/WS1/jones289/hd-cuda-master/hdpy/roc_auc_configs/hdbind-rp-molformer-100k.yml\n"
     ]
    },
    {
     "name": "stderr",
     "output_type": "stream",
     "text": [
      "  7%|▋         | 2/30 [00:06<01:39,  3.55s/it]"
     ]
    },
    {
     "name": "stdout",
     "output_type": "stream",
     "text": [
      "/usr/WS1/jones289/hd-cuda-master/hdpy/roc_auc_configs/hdbind-rp-molformer-1k.yml\n"
     ]
    },
    {
     "name": "stderr",
     "output_type": "stream",
     "text": [
      " 10%|█         | 3/30 [00:08<01:18,  2.92s/it]"
     ]
    },
    {
     "name": "stdout",
     "output_type": "stream",
     "text": [
      "/usr/WS1/jones289/hd-cuda-master/hdpy/roc_auc_configs/hdbind-rp-molformer-1m.yml\n"
     ]
    },
    {
     "name": "stderr",
     "output_type": "stream",
     "text": [
      " 13%|█▎        | 4/30 [00:34<05:05, 11.73s/it]"
     ]
    },
    {
     "name": "stdout",
     "output_type": "stream",
     "text": [
      "/usr/WS1/jones289/hd-cuda-master/hdpy/roc_auc_configs/hdbind-rp-molformer.yml\n"
     ]
    },
    {
     "name": "stderr",
     "output_type": "stream",
     "text": [
      " 17%|█▋        | 5/30 [00:36<03:29,  8.37s/it]"
     ]
    },
    {
     "name": "stdout",
     "output_type": "stream",
     "text": [
      "/usr/WS1/jones289/hd-cuda-master/hdpy/roc_auc_configs/hdbind-molformer-decfp-combo-100k.yml\n"
     ]
    },
    {
     "name": "stderr",
     "output_type": "stream",
     "text": [
      " 20%|██        | 6/30 [00:40<02:45,  6.89s/it]"
     ]
    },
    {
     "name": "stdout",
     "output_type": "stream",
     "text": [
      "/usr/WS1/jones289/hd-cuda-master/hdpy/roc_auc_configs/hdbind-molformer-decfp-combo-1k.yml\n",
      "'er-1'. result missing roc-enrichment metrics. computing these now.\n",
      "'er-1'. result missing roc-enrichment metrics. computing these now.\n",
      "'er-1'. result missing roc-enrichment metrics. computing these now.\n",
      "'er-1'. result missing roc-enrichment metrics. computing these now.\n",
      "'er-1'. result missing roc-enrichment metrics. computing these now.\n",
      "'er-1'. result missing roc-enrichment metrics. computing these now.\n",
      "'er-1'. result missing roc-enrichment metrics. computing these now.\n",
      "'er-1'. result missing roc-enrichment metrics. computing these now.\n",
      "'er-1'. result missing roc-enrichment metrics. computing these now.\n",
      "'er-1'. result missing roc-enrichment metrics. computing these now.\n",
      "'er-1'. result missing roc-enrichment metrics. computing these now.\n",
      "'er-1'. result missing roc-enrichment metrics. computing these now.\n",
      "'er-1'. result missing roc-enrichment metrics. computing these now.\n",
      "'er-1'. result missing roc-enrichment metrics. computing these now.\n"
     ]
    },
    {
     "name": "stderr",
     "output_type": "stream",
     "text": [
      " 23%|██▎       | 7/30 [00:43<02:11,  5.70s/it]"
     ]
    },
    {
     "name": "stdout",
     "output_type": "stream",
     "text": [
      "'er-1'. result missing roc-enrichment metrics. computing these now.\n",
      "/usr/WS1/jones289/hd-cuda-master/hdpy/roc_auc_configs/hdbind-molformer-decfp-combo-1m.yml\n"
     ]
    },
    {
     "name": "stderr",
     "output_type": "stream",
     "text": [
      " 27%|██▋       | 8/30 [00:56<02:53,  7.88s/it]"
     ]
    },
    {
     "name": "stdout",
     "output_type": "stream",
     "text": [
      "/usr/WS1/jones289/hd-cuda-master/hdpy/roc_auc_configs/hdbind-molformer-decfp-combo.yml\n"
     ]
    },
    {
     "name": "stderr",
     "output_type": "stream",
     "text": [
      " 30%|███       | 9/30 [00:58<02:08,  6.13s/it]"
     ]
    },
    {
     "name": "stdout",
     "output_type": "stream",
     "text": [
      "/usr/WS1/jones289/hd-cuda-master/hdpy/roc_auc_configs/hdbind-directecfp-100k-1.yml\n"
     ]
    },
    {
     "name": "stderr",
     "output_type": "stream",
     "text": [
      " 33%|███▎      | 10/30 [01:01<01:43,  5.18s/it]"
     ]
    },
    {
     "name": "stdout",
     "output_type": "stream",
     "text": [
      "/usr/WS1/jones289/hd-cuda-master/hdpy/roc_auc_configs/hdbind-directecfp-100k-2.yml\n"
     ]
    },
    {
     "name": "stderr",
     "output_type": "stream",
     "text": [
      " 37%|███▋      | 11/30 [01:05<01:28,  4.64s/it]"
     ]
    },
    {
     "name": "stdout",
     "output_type": "stream",
     "text": [
      "/usr/WS1/jones289/hd-cuda-master/hdpy/roc_auc_configs/hdbind-directecfp-100k-4.yml\n"
     ]
    },
    {
     "name": "stderr",
     "output_type": "stream",
     "text": [
      " 40%|████      | 12/30 [01:09<01:19,  4.40s/it]"
     ]
    },
    {
     "name": "stdout",
     "output_type": "stream",
     "text": [
      "/usr/WS1/jones289/hd-cuda-master/hdpy/roc_auc_configs/hdbind-directecfp-10k-1.yml\n"
     ]
    },
    {
     "name": "stderr",
     "output_type": "stream",
     "text": [
      " 43%|████▎     | 13/30 [01:11<01:04,  3.78s/it]"
     ]
    },
    {
     "name": "stdout",
     "output_type": "stream",
     "text": [
      "/usr/WS1/jones289/hd-cuda-master/hdpy/roc_auc_configs/hdbind-directecfp-10k-2.yml\n"
     ]
    },
    {
     "name": "stderr",
     "output_type": "stream",
     "text": [
      " 47%|████▋     | 14/30 [01:13<00:53,  3.36s/it]"
     ]
    },
    {
     "name": "stdout",
     "output_type": "stream",
     "text": [
      "/usr/WS1/jones289/hd-cuda-master/hdpy/roc_auc_configs/hdbind-directecfp-10k-4.yml\n"
     ]
    },
    {
     "name": "stderr",
     "output_type": "stream",
     "text": [
      " 50%|█████     | 15/30 [01:16<00:46,  3.09s/it]"
     ]
    },
    {
     "name": "stdout",
     "output_type": "stream",
     "text": [
      "/usr/WS1/jones289/hd-cuda-master/hdpy/roc_auc_configs/hdbind-directecfp-1k-1.yml\n",
      "'er-1'. result missing roc-enrichment metrics. computing these now.\n",
      "'er-1'. result missing roc-enrichment metrics. computing these now.\n",
      "'er-1'. result missing roc-enrichment metrics. computing these now.\n",
      "'er-1'. result missing roc-enrichment metrics. computing these now.\n",
      "'er-1'. result missing roc-enrichment metrics. computing these now.\n",
      "'er-1'. result missing roc-enrichment metrics. computing these now.\n",
      "'er-1'. result missing roc-enrichment metrics. computing these now.\n",
      "'er-1'. result missing roc-enrichment metrics. computing these now.\n",
      "'er-1'. result missing roc-enrichment metrics. computing these now.\n",
      "'er-1'. result missing roc-enrichment metrics. computing these now.\n",
      "'er-1'. result missing roc-enrichment metrics. computing these now.\n",
      "'er-1'. result missing roc-enrichment metrics. computing these now.\n",
      "'er-1'. result missing roc-enrichment metrics. computing these now.\n",
      "'er-1'. result missing roc-enrichment metrics. computing these now.\n"
     ]
    },
    {
     "name": "stderr",
     "output_type": "stream",
     "text": [
      " 53%|█████▎    | 16/30 [01:19<00:44,  3.16s/it]"
     ]
    },
    {
     "name": "stdout",
     "output_type": "stream",
     "text": [
      "'er-1'. result missing roc-enrichment metrics. computing these now.\n",
      "/usr/WS1/jones289/hd-cuda-master/hdpy/roc_auc_configs/hdbind-directecfp-1k-2.yml\n",
      "'er-1'. result missing roc-enrichment metrics. computing these now.\n",
      "'er-1'. result missing roc-enrichment metrics. computing these now.\n",
      "'er-1'. result missing roc-enrichment metrics. computing these now.\n",
      "'er-1'. result missing roc-enrichment metrics. computing these now.\n",
      "'er-1'. result missing roc-enrichment metrics. computing these now.\n",
      "'er-1'. result missing roc-enrichment metrics. computing these now.\n",
      "'er-1'. result missing roc-enrichment metrics. computing these now.\n",
      "'er-1'. result missing roc-enrichment metrics. computing these now.\n",
      "'er-1'. result missing roc-enrichment metrics. computing these now.\n",
      "'er-1'. result missing roc-enrichment metrics. computing these now.\n",
      "'er-1'. result missing roc-enrichment metrics. computing these now.\n",
      "'er-1'. result missing roc-enrichment metrics. computing these now.\n",
      "'er-1'. result missing roc-enrichment metrics. computing these now.\n",
      "'er-1'. result missing roc-enrichment metrics. computing these now.\n"
     ]
    },
    {
     "name": "stderr",
     "output_type": "stream",
     "text": [
      " 57%|█████▋    | 17/30 [01:22<00:41,  3.18s/it]"
     ]
    },
    {
     "name": "stdout",
     "output_type": "stream",
     "text": [
      "'er-1'. result missing roc-enrichment metrics. computing these now.\n",
      "/usr/WS1/jones289/hd-cuda-master/hdpy/roc_auc_configs/hdbind-directecfp-1k-4.yml\n",
      "'er-1'. result missing roc-enrichment metrics. computing these now.\n",
      "'er-1'. result missing roc-enrichment metrics. computing these now.\n",
      "'er-1'. result missing roc-enrichment metrics. computing these now.\n",
      "'er-1'. result missing roc-enrichment metrics. computing these now.\n",
      "'er-1'. result missing roc-enrichment metrics. computing these now.\n",
      "'er-1'. result missing roc-enrichment metrics. computing these now.\n",
      "'er-1'. result missing roc-enrichment metrics. computing these now.\n",
      "'er-1'. result missing roc-enrichment metrics. computing these now.\n",
      "'er-1'. result missing roc-enrichment metrics. computing these now.\n",
      "'er-1'. result missing roc-enrichment metrics. computing these now.\n",
      "'er-1'. result missing roc-enrichment metrics. computing these now.\n",
      "'er-1'. result missing roc-enrichment metrics. computing these now.\n",
      "'er-1'. result missing roc-enrichment metrics. computing these now.\n",
      "'er-1'. result missing roc-enrichment metrics. computing these now.\n"
     ]
    },
    {
     "name": "stderr",
     "output_type": "stream",
     "text": [
      " 60%|██████    | 18/30 [01:26<00:38,  3.19s/it]"
     ]
    },
    {
     "name": "stdout",
     "output_type": "stream",
     "text": [
      "'er-1'. result missing roc-enrichment metrics. computing these now.\n",
      "/usr/WS1/jones289/hd-cuda-master/hdpy/roc_auc_configs/hdbind-directecfp-1m-1.yml\n"
     ]
    },
    {
     "name": "stderr",
     "output_type": "stream",
     "text": [
      " 63%|██████▎   | 19/30 [01:38<01:04,  5.90s/it]"
     ]
    },
    {
     "name": "stdout",
     "output_type": "stream",
     "text": [
      "/usr/WS1/jones289/hd-cuda-master/hdpy/roc_auc_configs/hdbind-directecfp-1m-2.yml\n"
     ]
    },
    {
     "name": "stderr",
     "output_type": "stream",
     "text": [
      " 67%|██████▋   | 20/30 [01:50<01:19,  7.95s/it]"
     ]
    },
    {
     "name": "stdout",
     "output_type": "stream",
     "text": [
      "/usr/WS1/jones289/hd-cuda-master/hdpy/roc_auc_configs/hdbind-directecfp-1m-4.yml\n"
     ]
    },
    {
     "name": "stderr",
     "output_type": "stream",
     "text": [
      " 70%|███████   | 21/30 [02:04<01:26,  9.66s/it]"
     ]
    },
    {
     "name": "stdout",
     "output_type": "stream",
     "text": [
      "/usr/WS1/jones289/hd-cuda-master/hdpy/roc_auc_configs/hdbind-rp-ecfp-1024-1-100k.yml\n"
     ]
    },
    {
     "name": "stderr",
     "output_type": "stream",
     "text": [
      " 73%|███████▎  | 22/30 [02:09<01:05,  8.13s/it]"
     ]
    },
    {
     "name": "stdout",
     "output_type": "stream",
     "text": [
      "/usr/WS1/jones289/hd-cuda-master/hdpy/roc_auc_configs/hdbind-rp-ecfp-1024-1-1k.yml\n",
      "'er-1'. result missing roc-enrichment metrics. computing these now.\n",
      "'er-1'. result missing roc-enrichment metrics. computing these now.\n",
      "'er-1'. result missing roc-enrichment metrics. computing these now.\n",
      "'er-1'. result missing roc-enrichment metrics. computing these now.\n",
      "'er-1'. result missing roc-enrichment metrics. computing these now.\n",
      "'er-1'. result missing roc-enrichment metrics. computing these now.\n",
      "'er-1'. result missing roc-enrichment metrics. computing these now.\n",
      "'er-1'. result missing roc-enrichment metrics. computing these now.\n",
      "'er-1'. result missing roc-enrichment metrics. computing these now.\n",
      "'er-1'. result missing roc-enrichment metrics. computing these now.\n",
      "'er-1'. result missing roc-enrichment metrics. computing these now.\n",
      "'er-1'. result missing roc-enrichment metrics. computing these now.\n",
      "'er-1'. result missing roc-enrichment metrics. computing these now.\n",
      "'er-1'. result missing roc-enrichment metrics. computing these now.\n"
     ]
    },
    {
     "name": "stderr",
     "output_type": "stream",
     "text": [
      " 77%|███████▋  | 23/30 [02:12<00:47,  6.75s/it]"
     ]
    },
    {
     "name": "stdout",
     "output_type": "stream",
     "text": [
      "'er-1'. result missing roc-enrichment metrics. computing these now.\n",
      "/usr/WS1/jones289/hd-cuda-master/hdpy/roc_auc_configs/hdbind-rp-ecfp-1024-1-1m.yml\n"
     ]
    },
    {
     "name": "stderr",
     "output_type": "stream",
     "text": [
      " 80%|████████  | 24/30 [02:36<01:10, 11.82s/it]"
     ]
    },
    {
     "name": "stdout",
     "output_type": "stream",
     "text": [
      "/usr/WS1/jones289/hd-cuda-master/hdpy/roc_auc_configs/hdbind-rp-molclr-100k.yml\n"
     ]
    },
    {
     "name": "stderr",
     "output_type": "stream",
     "text": [
      " 83%|████████▎ | 25/30 [02:40<00:47,  9.48s/it]"
     ]
    },
    {
     "name": "stdout",
     "output_type": "stream",
     "text": [
      "/usr/WS1/jones289/hd-cuda-master/hdpy/roc_auc_configs/hdbind-rp-molclr-1k.yml\n",
      "'er-1'. result missing roc-enrichment metrics. computing these now.\n",
      "'er-1'. result missing roc-enrichment metrics. computing these now.\n",
      "'er-1'. result missing roc-enrichment metrics. computing these now.\n",
      "'er-1'. result missing roc-enrichment metrics. computing these now.\n",
      "'er-1'. result missing roc-enrichment metrics. computing these now.\n",
      "'er-1'. result missing roc-enrichment metrics. computing these now.\n",
      "'er-1'. result missing roc-enrichment metrics. computing these now.\n",
      "'er-1'. result missing roc-enrichment metrics. computing these now.\n",
      "'er-1'. result missing roc-enrichment metrics. computing these now.\n",
      "'er-1'. result missing roc-enrichment metrics. computing these now.\n",
      "'er-1'. result missing roc-enrichment metrics. computing these now.\n",
      "'er-1'. result missing roc-enrichment metrics. computing these now.\n",
      "'er-1'. result missing roc-enrichment metrics. computing these now.\n",
      "'er-1'. result missing roc-enrichment metrics. computing these now.\n"
     ]
    },
    {
     "name": "stderr",
     "output_type": "stream",
     "text": [
      " 87%|████████▋ | 26/30 [02:43<00:30,  7.57s/it]"
     ]
    },
    {
     "name": "stdout",
     "output_type": "stream",
     "text": [
      "'er-1'. result missing roc-enrichment metrics. computing these now.\n",
      "/usr/WS1/jones289/hd-cuda-master/hdpy/roc_auc_configs/hdbind-rp-molclr-1m.yml\n"
     ]
    },
    {
     "name": "stderr",
     "output_type": "stream",
     "text": [
      " 90%|█████████ | 27/30 [03:08<00:38, 12.76s/it]"
     ]
    },
    {
     "name": "stdout",
     "output_type": "stream",
     "text": [
      "/usr/WS1/jones289/hd-cuda-master/hdpy/roc_auc_configs/hdbind-rp-molclr.yml\n"
     ]
    },
    {
     "name": "stderr",
     "output_type": "stream",
     "text": [
      " 93%|█████████▎| 28/30 [03:10<00:19,  9.71s/it]"
     ]
    },
    {
     "name": "stdout",
     "output_type": "stream",
     "text": [
      "/usr/WS1/jones289/hd-cuda-master/hdpy/roc_auc_configs/mlp-1024-1.yml\n"
     ]
    },
    {
     "name": "stderr",
     "output_type": "stream",
     "text": [
      "100%|██████████| 30/30 [03:13<00:00,  6.44s/it]"
     ]
    },
    {
     "name": "stdout",
     "output_type": "stream",
     "text": [
      "/usr/WS1/jones289/hd-cuda-master/hdpy/roc_auc_configs/mlp-2048-1.yml\n",
      "[Errno 2] No such file or directory: '/p/vast1/jones289/hd_results/5/mlp-2048-1.lit-pcba-ADRB2-ave.5.pkl'. /p/vast1/jones289/hd_results/5/mlp-2048-1.lit-pcba-ADRB2-ave.5.pkl does not exist.\n",
      "[Errno 2] No such file or directory: '/p/vast1/jones289/hd_results/5/mlp-2048-1.lit-pcba-ALDH1-ave.5.pkl'. /p/vast1/jones289/hd_results/5/mlp-2048-1.lit-pcba-ALDH1-ave.5.pkl does not exist.\n",
      "[Errno 2] No such file or directory: '/p/vast1/jones289/hd_results/5/mlp-2048-1.lit-pcba-ESR1_ago-ave.5.pkl'. /p/vast1/jones289/hd_results/5/mlp-2048-1.lit-pcba-ESR1_ago-ave.5.pkl does not exist.\n",
      "[Errno 2] No such file or directory: '/p/vast1/jones289/hd_results/5/mlp-2048-1.lit-pcba-ESR1_ant-ave.5.pkl'. /p/vast1/jones289/hd_results/5/mlp-2048-1.lit-pcba-ESR1_ant-ave.5.pkl does not exist.\n",
      "[Errno 2] No such file or directory: '/p/vast1/jones289/hd_results/5/mlp-2048-1.lit-pcba-FEN1-ave.5.pkl'. /p/vast1/jones289/hd_results/5/mlp-2048-1.lit-pcba-FEN1-ave.5.pkl does not exist.\n",
      "[Errno 2] No such file or directory: '/p/vast1/jones289/hd_results/5/mlp-2048-1.lit-pcba-GBA-ave.5.pkl'. /p/vast1/jones289/hd_results/5/mlp-2048-1.lit-pcba-GBA-ave.5.pkl does not exist.\n",
      "[Errno 2] No such file or directory: '/p/vast1/jones289/hd_results/5/mlp-2048-1.lit-pcba-IDH1-ave.5.pkl'. /p/vast1/jones289/hd_results/5/mlp-2048-1.lit-pcba-IDH1-ave.5.pkl does not exist.\n",
      "[Errno 2] No such file or directory: '/p/vast1/jones289/hd_results/5/mlp-2048-1.lit-pcba-KAT2A-ave.5.pkl'. /p/vast1/jones289/hd_results/5/mlp-2048-1.lit-pcba-KAT2A-ave.5.pkl does not exist.\n",
      "[Errno 2] No such file or directory: '/p/vast1/jones289/hd_results/5/mlp-2048-1.lit-pcba-MAPK1-ave.5.pkl'. /p/vast1/jones289/hd_results/5/mlp-2048-1.lit-pcba-MAPK1-ave.5.pkl does not exist.\n",
      "[Errno 2] No such file or directory: '/p/vast1/jones289/hd_results/5/mlp-2048-1.lit-pcba-MTORC1-ave.5.pkl'. /p/vast1/jones289/hd_results/5/mlp-2048-1.lit-pcba-MTORC1-ave.5.pkl does not exist.\n",
      "[Errno 2] No such file or directory: '/p/vast1/jones289/hd_results/5/mlp-2048-1.lit-pcba-OPRK1-ave.5.pkl'. /p/vast1/jones289/hd_results/5/mlp-2048-1.lit-pcba-OPRK1-ave.5.pkl does not exist.\n",
      "[Errno 2] No such file or directory: '/p/vast1/jones289/hd_results/5/mlp-2048-1.lit-pcba-PKM2-ave.5.pkl'. /p/vast1/jones289/hd_results/5/mlp-2048-1.lit-pcba-PKM2-ave.5.pkl does not exist.\n",
      "[Errno 2] No such file or directory: '/p/vast1/jones289/hd_results/5/mlp-2048-1.lit-pcba-PPARG-ave.5.pkl'. /p/vast1/jones289/hd_results/5/mlp-2048-1.lit-pcba-PPARG-ave.5.pkl does not exist.\n",
      "[Errno 2] No such file or directory: '/p/vast1/jones289/hd_results/5/mlp-2048-1.lit-pcba-TP53-ave.5.pkl'. /p/vast1/jones289/hd_results/5/mlp-2048-1.lit-pcba-TP53-ave.5.pkl does not exist.\n",
      "[Errno 2] No such file or directory: '/p/vast1/jones289/hd_results/5/mlp-2048-1.lit-pcba-VDR-ave.5.pkl'. /p/vast1/jones289/hd_results/5/mlp-2048-1.lit-pcba-VDR-ave.5.pkl does not exist.\n"
     ]
    },
    {
     "name": "stderr",
     "output_type": "stream",
     "text": [
      "\n"
     ]
    }
   ],
   "source": [
    "ave_metric_df = collect_roc_metrics(dataset=\"lit-pcba\", split=\"ave\", config_list=list(Path(\"/usr/WS1/jones289/hd-cuda-master/hdpy/roc_auc_configs\").glob(\"*.yml\")))"
   ]
  },
  {
   "cell_type": "code",
   "execution_count": 18,
   "id": "9318b6f4",
   "metadata": {},
   "outputs": [
    {
     "name": "stderr",
     "output_type": "stream",
     "text": [
      "  0%|          | 0/30 [00:00<?, ?it/s]"
     ]
    },
    {
     "name": "stdout",
     "output_type": "stream",
     "text": [
      "/usr/WS1/jones289/hd-cuda-master/hdpy/roc_auc_configs/hdbind-rp-ecfp-1024-1.yml\n"
     ]
    },
    {
     "name": "stderr",
     "output_type": "stream",
     "text": [
      "  3%|▎         | 1/30 [00:02<01:14,  2.56s/it]"
     ]
    },
    {
     "name": "stdout",
     "output_type": "stream",
     "text": [
      "/usr/WS1/jones289/hd-cuda-master/hdpy/roc_auc_configs/hdbind-rp-molformer-100k.yml\n"
     ]
    },
    {
     "name": "stderr",
     "output_type": "stream",
     "text": [
      "  7%|▋         | 2/30 [00:06<01:40,  3.58s/it]"
     ]
    },
    {
     "name": "stdout",
     "output_type": "stream",
     "text": [
      "/usr/WS1/jones289/hd-cuda-master/hdpy/roc_auc_configs/hdbind-rp-molformer-1k.yml\n",
      "'er-1'. result missing roc-enrichment metrics. computing these now.\n",
      "'er-1'. result missing roc-enrichment metrics. computing these now.\n",
      "'er-1'. result missing roc-enrichment metrics. computing these now.\n",
      "'er-1'. result missing roc-enrichment metrics. computing these now.\n",
      "'er-1'. result missing roc-enrichment metrics. computing these now.\n",
      "'er-1'. result missing roc-enrichment metrics. computing these now.\n",
      "'er-1'. result missing roc-enrichment metrics. computing these now.\n",
      "'er-1'. result missing roc-enrichment metrics. computing these now.\n",
      "'er-1'. result missing roc-enrichment metrics. computing these now.\n",
      "'er-1'. result missing roc-enrichment metrics. computing these now.\n",
      "'er-1'. result missing roc-enrichment metrics. computing these now.\n",
      "'er-1'. result missing roc-enrichment metrics. computing these now.\n",
      "'er-1'. result missing roc-enrichment metrics. computing these now.\n",
      "'er-1'. result missing roc-enrichment metrics. computing these now.\n"
     ]
    },
    {
     "name": "stderr",
     "output_type": "stream",
     "text": [
      " 10%|█         | 3/30 [00:10<01:35,  3.55s/it]"
     ]
    },
    {
     "name": "stdout",
     "output_type": "stream",
     "text": [
      "'er-1'. result missing roc-enrichment metrics. computing these now.\n",
      "/usr/WS1/jones289/hd-cuda-master/hdpy/roc_auc_configs/hdbind-rp-molformer-1m.yml\n"
     ]
    },
    {
     "name": "stderr",
     "output_type": "stream",
     "text": [
      " 13%|█▎        | 4/30 [00:35<05:13, 12.06s/it]"
     ]
    },
    {
     "name": "stdout",
     "output_type": "stream",
     "text": [
      "/usr/WS1/jones289/hd-cuda-master/hdpy/roc_auc_configs/hdbind-rp-molformer.yml\n"
     ]
    },
    {
     "name": "stderr",
     "output_type": "stream",
     "text": [
      " 17%|█▋        | 5/30 [00:38<03:35,  8.64s/it]"
     ]
    },
    {
     "name": "stdout",
     "output_type": "stream",
     "text": [
      "/usr/WS1/jones289/hd-cuda-master/hdpy/roc_auc_configs/hdbind-molformer-decfp-combo-100k.yml\n"
     ]
    },
    {
     "name": "stderr",
     "output_type": "stream",
     "text": [
      " 20%|██        | 6/30 [00:42<02:51,  7.14s/it]"
     ]
    },
    {
     "name": "stdout",
     "output_type": "stream",
     "text": [
      "/usr/WS1/jones289/hd-cuda-master/hdpy/roc_auc_configs/hdbind-molformer-decfp-combo-1k.yml\n",
      "'er-1'. result missing roc-enrichment metrics. computing these now.\n",
      "'er-1'. result missing roc-enrichment metrics. computing these now.\n",
      "'er-1'. result missing roc-enrichment metrics. computing these now.\n",
      "'er-1'. result missing roc-enrichment metrics. computing these now.\n",
      "'er-1'. result missing roc-enrichment metrics. computing these now.\n",
      "'er-1'. result missing roc-enrichment metrics. computing these now.\n",
      "'er-1'. result missing roc-enrichment metrics. computing these now.\n",
      "'er-1'. result missing roc-enrichment metrics. computing these now.\n",
      "'er-1'. result missing roc-enrichment metrics. computing these now.\n",
      "'er-1'. result missing roc-enrichment metrics. computing these now.\n",
      "'er-1'. result missing roc-enrichment metrics. computing these now.\n",
      "'er-1'. result missing roc-enrichment metrics. computing these now.\n",
      "'er-1'. result missing roc-enrichment metrics. computing these now.\n",
      "'er-1'. result missing roc-enrichment metrics. computing these now.\n"
     ]
    },
    {
     "name": "stderr",
     "output_type": "stream",
     "text": [
      " 23%|██▎       | 7/30 [00:45<02:15,  5.87s/it]"
     ]
    },
    {
     "name": "stdout",
     "output_type": "stream",
     "text": [
      "'er-1'. result missing roc-enrichment metrics. computing these now.\n",
      "/usr/WS1/jones289/hd-cuda-master/hdpy/roc_auc_configs/hdbind-molformer-decfp-combo-1m.yml\n"
     ]
    },
    {
     "name": "stderr",
     "output_type": "stream",
     "text": [
      " 27%|██▋       | 8/30 [00:58<03:00,  8.21s/it]"
     ]
    },
    {
     "name": "stdout",
     "output_type": "stream",
     "text": [
      "/usr/WS1/jones289/hd-cuda-master/hdpy/roc_auc_configs/hdbind-molformer-decfp-combo.yml\n"
     ]
    },
    {
     "name": "stderr",
     "output_type": "stream",
     "text": [
      " 30%|███       | 9/30 [01:01<02:17,  6.57s/it]"
     ]
    },
    {
     "name": "stdout",
     "output_type": "stream",
     "text": [
      "/usr/WS1/jones289/hd-cuda-master/hdpy/roc_auc_configs/hdbind-directecfp-100k-1.yml\n"
     ]
    },
    {
     "name": "stderr",
     "output_type": "stream",
     "text": [
      " 33%|███▎      | 10/30 [01:04<01:49,  5.50s/it]"
     ]
    },
    {
     "name": "stdout",
     "output_type": "stream",
     "text": [
      "/usr/WS1/jones289/hd-cuda-master/hdpy/roc_auc_configs/hdbind-directecfp-100k-2.yml\n"
     ]
    },
    {
     "name": "stderr",
     "output_type": "stream",
     "text": [
      " 37%|███▋      | 11/30 [01:08<01:31,  4.84s/it]"
     ]
    },
    {
     "name": "stdout",
     "output_type": "stream",
     "text": [
      "/usr/WS1/jones289/hd-cuda-master/hdpy/roc_auc_configs/hdbind-directecfp-100k-4.yml\n"
     ]
    },
    {
     "name": "stderr",
     "output_type": "stream",
     "text": [
      " 40%|████      | 12/30 [01:11<01:20,  4.45s/it]"
     ]
    },
    {
     "name": "stdout",
     "output_type": "stream",
     "text": [
      "/usr/WS1/jones289/hd-cuda-master/hdpy/roc_auc_configs/hdbind-directecfp-10k-1.yml\n"
     ]
    },
    {
     "name": "stderr",
     "output_type": "stream",
     "text": [
      " 43%|████▎     | 13/30 [01:14<01:04,  3.82s/it]"
     ]
    },
    {
     "name": "stdout",
     "output_type": "stream",
     "text": [
      "/usr/WS1/jones289/hd-cuda-master/hdpy/roc_auc_configs/hdbind-directecfp-10k-2.yml\n"
     ]
    },
    {
     "name": "stderr",
     "output_type": "stream",
     "text": [
      " 47%|████▋     | 14/30 [01:16<00:54,  3.39s/it]"
     ]
    },
    {
     "name": "stdout",
     "output_type": "stream",
     "text": [
      "/usr/WS1/jones289/hd-cuda-master/hdpy/roc_auc_configs/hdbind-directecfp-10k-4.yml\n"
     ]
    },
    {
     "name": "stderr",
     "output_type": "stream",
     "text": [
      " 50%|█████     | 15/30 [01:18<00:46,  3.09s/it]"
     ]
    },
    {
     "name": "stdout",
     "output_type": "stream",
     "text": [
      "/usr/WS1/jones289/hd-cuda-master/hdpy/roc_auc_configs/hdbind-directecfp-1k-1.yml\n",
      "'er-1'. result missing roc-enrichment metrics. computing these now.\n",
      "'er-1'. result missing roc-enrichment metrics. computing these now.\n",
      "'er-1'. result missing roc-enrichment metrics. computing these now.\n",
      "'er-1'. result missing roc-enrichment metrics. computing these now.\n",
      "'er-1'. result missing roc-enrichment metrics. computing these now.\n",
      "'er-1'. result missing roc-enrichment metrics. computing these now.\n",
      "'er-1'. result missing roc-enrichment metrics. computing these now.\n",
      "'er-1'. result missing roc-enrichment metrics. computing these now.\n",
      "'er-1'. result missing roc-enrichment metrics. computing these now.\n",
      "'er-1'. result missing roc-enrichment metrics. computing these now.\n",
      "'er-1'. result missing roc-enrichment metrics. computing these now.\n",
      "'er-1'. result missing roc-enrichment metrics. computing these now.\n",
      "'er-1'. result missing roc-enrichment metrics. computing these now.\n",
      "'er-1'. result missing roc-enrichment metrics. computing these now.\n"
     ]
    },
    {
     "name": "stderr",
     "output_type": "stream",
     "text": [
      " 53%|█████▎    | 16/30 [01:22<00:44,  3.18s/it]"
     ]
    },
    {
     "name": "stdout",
     "output_type": "stream",
     "text": [
      "'er-1'. result missing roc-enrichment metrics. computing these now.\n",
      "/usr/WS1/jones289/hd-cuda-master/hdpy/roc_auc_configs/hdbind-directecfp-1k-2.yml\n",
      "'er-1'. result missing roc-enrichment metrics. computing these now.\n",
      "'er-1'. result missing roc-enrichment metrics. computing these now.\n",
      "'er-1'. result missing roc-enrichment metrics. computing these now.\n",
      "'er-1'. result missing roc-enrichment metrics. computing these now.\n",
      "'er-1'. result missing roc-enrichment metrics. computing these now.\n",
      "'er-1'. result missing roc-enrichment metrics. computing these now.\n",
      "'er-1'. result missing roc-enrichment metrics. computing these now.\n",
      "'er-1'. result missing roc-enrichment metrics. computing these now.\n",
      "'er-1'. result missing roc-enrichment metrics. computing these now.\n",
      "'er-1'. result missing roc-enrichment metrics. computing these now.\n",
      "'er-1'. result missing roc-enrichment metrics. computing these now.\n",
      "'er-1'. result missing roc-enrichment metrics. computing these now.\n",
      "'er-1'. result missing roc-enrichment metrics. computing these now.\n",
      "'er-1'. result missing roc-enrichment metrics. computing these now.\n"
     ]
    },
    {
     "name": "stderr",
     "output_type": "stream",
     "text": [
      " 57%|█████▋    | 17/30 [01:25<00:42,  3.25s/it]"
     ]
    },
    {
     "name": "stdout",
     "output_type": "stream",
     "text": [
      "'er-1'. result missing roc-enrichment metrics. computing these now.\n",
      "/usr/WS1/jones289/hd-cuda-master/hdpy/roc_auc_configs/hdbind-directecfp-1k-4.yml\n",
      "'er-1'. result missing roc-enrichment metrics. computing these now.\n",
      "'er-1'. result missing roc-enrichment metrics. computing these now.\n",
      "'er-1'. result missing roc-enrichment metrics. computing these now.\n",
      "'er-1'. result missing roc-enrichment metrics. computing these now.\n",
      "'er-1'. result missing roc-enrichment metrics. computing these now.\n",
      "'er-1'. result missing roc-enrichment metrics. computing these now.\n",
      "'er-1'. result missing roc-enrichment metrics. computing these now.\n",
      "'er-1'. result missing roc-enrichment metrics. computing these now.\n",
      "'er-1'. result missing roc-enrichment metrics. computing these now.\n",
      "'er-1'. result missing roc-enrichment metrics. computing these now.\n",
      "'er-1'. result missing roc-enrichment metrics. computing these now.\n",
      "'er-1'. result missing roc-enrichment metrics. computing these now.\n",
      "'er-1'. result missing roc-enrichment metrics. computing these now.\n",
      "'er-1'. result missing roc-enrichment metrics. computing these now.\n"
     ]
    },
    {
     "name": "stderr",
     "output_type": "stream",
     "text": [
      " 60%|██████    | 18/30 [01:29<00:39,  3.31s/it]"
     ]
    },
    {
     "name": "stdout",
     "output_type": "stream",
     "text": [
      "'er-1'. result missing roc-enrichment metrics. computing these now.\n",
      "/usr/WS1/jones289/hd-cuda-master/hdpy/roc_auc_configs/hdbind-directecfp-1m-1.yml\n"
     ]
    },
    {
     "name": "stderr",
     "output_type": "stream",
     "text": [
      " 63%|██████▎   | 19/30 [01:41<01:06,  6.02s/it]"
     ]
    },
    {
     "name": "stdout",
     "output_type": "stream",
     "text": [
      "/usr/WS1/jones289/hd-cuda-master/hdpy/roc_auc_configs/hdbind-directecfp-1m-2.yml\n"
     ]
    },
    {
     "name": "stderr",
     "output_type": "stream",
     "text": [
      " 67%|██████▋   | 20/30 [01:53<01:19,  7.96s/it]"
     ]
    },
    {
     "name": "stdout",
     "output_type": "stream",
     "text": [
      "/usr/WS1/jones289/hd-cuda-master/hdpy/roc_auc_configs/hdbind-directecfp-1m-4.yml\n"
     ]
    },
    {
     "name": "stderr",
     "output_type": "stream",
     "text": [
      " 70%|███████   | 21/30 [02:05<01:20,  8.97s/it]"
     ]
    },
    {
     "name": "stdout",
     "output_type": "stream",
     "text": [
      "/usr/WS1/jones289/hd-cuda-master/hdpy/roc_auc_configs/hdbind-rp-ecfp-1024-1-100k.yml\n"
     ]
    },
    {
     "name": "stderr",
     "output_type": "stream",
     "text": [
      " 73%|███████▎  | 22/30 [02:08<00:57,  7.25s/it]"
     ]
    },
    {
     "name": "stdout",
     "output_type": "stream",
     "text": [
      "/usr/WS1/jones289/hd-cuda-master/hdpy/roc_auc_configs/hdbind-rp-ecfp-1024-1-1k.yml\n",
      "'er-1'. result missing roc-enrichment metrics. computing these now.\n",
      "'er-1'. result missing roc-enrichment metrics. computing these now.\n",
      "'er-1'. result missing roc-enrichment metrics. computing these now.\n",
      "'er-1'. result missing roc-enrichment metrics. computing these now.\n",
      "'er-1'. result missing roc-enrichment metrics. computing these now.\n",
      "'er-1'. result missing roc-enrichment metrics. computing these now.\n",
      "'er-1'. result missing roc-enrichment metrics. computing these now.\n",
      "'er-1'. result missing roc-enrichment metrics. computing these now.\n",
      "'er-1'. result missing roc-enrichment metrics. computing these now.\n",
      "'er-1'. result missing roc-enrichment metrics. computing these now.\n",
      "'er-1'. result missing roc-enrichment metrics. computing these now.\n",
      "'er-1'. result missing roc-enrichment metrics. computing these now.\n",
      "'er-1'. result missing roc-enrichment metrics. computing these now.\n",
      "'er-1'. result missing roc-enrichment metrics. computing these now.\n"
     ]
    },
    {
     "name": "stderr",
     "output_type": "stream",
     "text": [
      " 77%|███████▋  | 23/30 [02:11<00:41,  5.91s/it]"
     ]
    },
    {
     "name": "stdout",
     "output_type": "stream",
     "text": [
      "'er-1'. result missing roc-enrichment metrics. computing these now.\n",
      "/usr/WS1/jones289/hd-cuda-master/hdpy/roc_auc_configs/hdbind-rp-ecfp-1024-1-1m.yml\n"
     ]
    },
    {
     "name": "stderr",
     "output_type": "stream",
     "text": [
      " 80%|████████  | 24/30 [02:29<00:57,  9.56s/it]"
     ]
    },
    {
     "name": "stdout",
     "output_type": "stream",
     "text": [
      "/usr/WS1/jones289/hd-cuda-master/hdpy/roc_auc_configs/hdbind-rp-molclr-100k.yml\n"
     ]
    },
    {
     "name": "stderr",
     "output_type": "stream",
     "text": [
      " 83%|████████▎ | 25/30 [02:32<00:37,  7.59s/it]"
     ]
    },
    {
     "name": "stdout",
     "output_type": "stream",
     "text": [
      "/usr/WS1/jones289/hd-cuda-master/hdpy/roc_auc_configs/hdbind-rp-molclr-1k.yml\n",
      "'er-1'. result missing roc-enrichment metrics. computing these now.\n",
      "'er-1'. result missing roc-enrichment metrics. computing these now.\n",
      "'er-1'. result missing roc-enrichment metrics. computing these now.\n",
      "'er-1'. result missing roc-enrichment metrics. computing these now.\n",
      "'er-1'. result missing roc-enrichment metrics. computing these now.\n",
      "'er-1'. result missing roc-enrichment metrics. computing these now.\n",
      "'er-1'. result missing roc-enrichment metrics. computing these now.\n",
      "'er-1'. result missing roc-enrichment metrics. computing these now.\n",
      "'er-1'. result missing roc-enrichment metrics. computing these now.\n",
      "'er-1'. result missing roc-enrichment metrics. computing these now.\n",
      "'er-1'. result missing roc-enrichment metrics. computing these now.\n",
      "'er-1'. result missing roc-enrichment metrics. computing these now.\n",
      "'er-1'. result missing roc-enrichment metrics. computing these now.\n",
      "'er-1'. result missing roc-enrichment metrics. computing these now.\n"
     ]
    },
    {
     "name": "stderr",
     "output_type": "stream",
     "text": [
      " 87%|████████▋ | 26/30 [02:35<00:24,  6.17s/it]"
     ]
    },
    {
     "name": "stdout",
     "output_type": "stream",
     "text": [
      "'er-1'. result missing roc-enrichment metrics. computing these now.\n",
      "/usr/WS1/jones289/hd-cuda-master/hdpy/roc_auc_configs/hdbind-rp-molclr-1m.yml\n"
     ]
    },
    {
     "name": "stderr",
     "output_type": "stream",
     "text": [
      " 90%|█████████ | 27/30 [02:52<00:28,  9.42s/it]"
     ]
    },
    {
     "name": "stdout",
     "output_type": "stream",
     "text": [
      "/usr/WS1/jones289/hd-cuda-master/hdpy/roc_auc_configs/hdbind-rp-molclr.yml\n"
     ]
    },
    {
     "name": "stderr",
     "output_type": "stream",
     "text": [
      " 93%|█████████▎| 28/30 [02:53<00:14,  7.10s/it]"
     ]
    },
    {
     "name": "stdout",
     "output_type": "stream",
     "text": [
      "/usr/WS1/jones289/hd-cuda-master/hdpy/roc_auc_configs/mlp-1024-1.yml\n"
     ]
    },
    {
     "name": "stderr",
     "output_type": "stream",
     "text": [
      "100%|██████████| 30/30 [02:55<00:00,  5.84s/it]"
     ]
    },
    {
     "name": "stdout",
     "output_type": "stream",
     "text": [
      "/usr/WS1/jones289/hd-cuda-master/hdpy/roc_auc_configs/mlp-2048-1.yml\n",
      "[Errno 2] No such file or directory: '/p/vast1/jones289/hd_results/5/mlp-2048-1.lit-pcba-ADRB2-random.5.pkl'. /p/vast1/jones289/hd_results/5/mlp-2048-1.lit-pcba-ADRB2-random.5.pkl does not exist.\n",
      "[Errno 2] No such file or directory: '/p/vast1/jones289/hd_results/5/mlp-2048-1.lit-pcba-ALDH1-random.5.pkl'. /p/vast1/jones289/hd_results/5/mlp-2048-1.lit-pcba-ALDH1-random.5.pkl does not exist.\n",
      "[Errno 2] No such file or directory: '/p/vast1/jones289/hd_results/5/mlp-2048-1.lit-pcba-ESR1_ago-random.5.pkl'. /p/vast1/jones289/hd_results/5/mlp-2048-1.lit-pcba-ESR1_ago-random.5.pkl does not exist.\n",
      "[Errno 2] No such file or directory: '/p/vast1/jones289/hd_results/5/mlp-2048-1.lit-pcba-ESR1_ant-random.5.pkl'. /p/vast1/jones289/hd_results/5/mlp-2048-1.lit-pcba-ESR1_ant-random.5.pkl does not exist.\n",
      "[Errno 2] No such file or directory: '/p/vast1/jones289/hd_results/5/mlp-2048-1.lit-pcba-FEN1-random.5.pkl'. /p/vast1/jones289/hd_results/5/mlp-2048-1.lit-pcba-FEN1-random.5.pkl does not exist.\n",
      "[Errno 2] No such file or directory: '/p/vast1/jones289/hd_results/5/mlp-2048-1.lit-pcba-GBA-random.5.pkl'. /p/vast1/jones289/hd_results/5/mlp-2048-1.lit-pcba-GBA-random.5.pkl does not exist.\n",
      "[Errno 2] No such file or directory: '/p/vast1/jones289/hd_results/5/mlp-2048-1.lit-pcba-IDH1-random.5.pkl'. /p/vast1/jones289/hd_results/5/mlp-2048-1.lit-pcba-IDH1-random.5.pkl does not exist.\n",
      "[Errno 2] No such file or directory: '/p/vast1/jones289/hd_results/5/mlp-2048-1.lit-pcba-KAT2A-random.5.pkl'. /p/vast1/jones289/hd_results/5/mlp-2048-1.lit-pcba-KAT2A-random.5.pkl does not exist.\n",
      "[Errno 2] No such file or directory: '/p/vast1/jones289/hd_results/5/mlp-2048-1.lit-pcba-MAPK1-random.5.pkl'. /p/vast1/jones289/hd_results/5/mlp-2048-1.lit-pcba-MAPK1-random.5.pkl does not exist.\n",
      "[Errno 2] No such file or directory: '/p/vast1/jones289/hd_results/5/mlp-2048-1.lit-pcba-MTORC1-random.5.pkl'. /p/vast1/jones289/hd_results/5/mlp-2048-1.lit-pcba-MTORC1-random.5.pkl does not exist.\n",
      "[Errno 2] No such file or directory: '/p/vast1/jones289/hd_results/5/mlp-2048-1.lit-pcba-OPRK1-random.5.pkl'. /p/vast1/jones289/hd_results/5/mlp-2048-1.lit-pcba-OPRK1-random.5.pkl does not exist.\n",
      "[Errno 2] No such file or directory: '/p/vast1/jones289/hd_results/5/mlp-2048-1.lit-pcba-PKM2-random.5.pkl'. /p/vast1/jones289/hd_results/5/mlp-2048-1.lit-pcba-PKM2-random.5.pkl does not exist.\n",
      "[Errno 2] No such file or directory: '/p/vast1/jones289/hd_results/5/mlp-2048-1.lit-pcba-PPARG-random.5.pkl'. /p/vast1/jones289/hd_results/5/mlp-2048-1.lit-pcba-PPARG-random.5.pkl does not exist.\n",
      "[Errno 2] No such file or directory: '/p/vast1/jones289/hd_results/5/mlp-2048-1.lit-pcba-TP53-random.5.pkl'. /p/vast1/jones289/hd_results/5/mlp-2048-1.lit-pcba-TP53-random.5.pkl does not exist.\n",
      "[Errno 2] No such file or directory: '/p/vast1/jones289/hd_results/5/mlp-2048-1.lit-pcba-VDR-random.5.pkl'. /p/vast1/jones289/hd_results/5/mlp-2048-1.lit-pcba-VDR-random.5.pkl does not exist.\n"
     ]
    },
    {
     "name": "stderr",
     "output_type": "stream",
     "text": [
      "\n"
     ]
    }
   ],
   "source": [
    "random_metric_df = collect_roc_metrics(dataset=\"lit-pcba\", split=\"random\", config_list=list(Path(\"/usr/WS1/jones289/hd-cuda-master/hdpy/roc_auc_configs\").glob(\"*.yml\")))"
   ]
  },
  {
   "cell_type": "code",
   "execution_count": 19,
   "id": "f206382f",
   "metadata": {},
   "outputs": [
    {
     "data": {
      "text/html": [
       "<div>\n",
       "<style scoped>\n",
       "    .dataframe tbody tr th:only-of-type {\n",
       "        vertical-align: middle;\n",
       "    }\n",
       "\n",
       "    .dataframe tbody tr th {\n",
       "        vertical-align: top;\n",
       "    }\n",
       "\n",
       "    .dataframe thead th {\n",
       "        text-align: right;\n",
       "    }\n",
       "</style>\n",
       "<table border=\"1\" class=\"dataframe\">\n",
       "  <thead>\n",
       "    <tr style=\"text-align: right;\">\n",
       "      <th></th>\n",
       "      <th>model</th>\n",
       "      <th>D</th>\n",
       "      <th>seed</th>\n",
       "      <th>roc-auc</th>\n",
       "      <th>er-1</th>\n",
       "    </tr>\n",
       "  </thead>\n",
       "  <tbody>\n",
       "    <tr>\n",
       "      <th>0</th>\n",
       "      <td>HDB-RPFP</td>\n",
       "      <td>10000</td>\n",
       "      <td>0</td>\n",
       "      <td>0.801561</td>\n",
       "      <td>50.000000</td>\n",
       "    </tr>\n",
       "    <tr>\n",
       "      <th>1</th>\n",
       "      <td>HDB-RPFP</td>\n",
       "      <td>10000</td>\n",
       "      <td>1</td>\n",
       "      <td>0.798270</td>\n",
       "      <td>25.000000</td>\n",
       "    </tr>\n",
       "    <tr>\n",
       "      <th>2</th>\n",
       "      <td>HDB-RPFP</td>\n",
       "      <td>10000</td>\n",
       "      <td>2</td>\n",
       "      <td>0.796849</td>\n",
       "      <td>25.000000</td>\n",
       "    </tr>\n",
       "    <tr>\n",
       "      <th>3</th>\n",
       "      <td>HDB-RPFP</td>\n",
       "      <td>10000</td>\n",
       "      <td>3</td>\n",
       "      <td>0.797068</td>\n",
       "      <td>25.000000</td>\n",
       "    </tr>\n",
       "    <tr>\n",
       "      <th>4</th>\n",
       "      <td>HDB-RPFP</td>\n",
       "      <td>10000</td>\n",
       "      <td>4</td>\n",
       "      <td>0.801267</td>\n",
       "      <td>25.000000</td>\n",
       "    </tr>\n",
       "    <tr>\n",
       "      <th>...</th>\n",
       "      <td>...</td>\n",
       "      <td>...</td>\n",
       "      <td>...</td>\n",
       "      <td>...</td>\n",
       "      <td>...</td>\n",
       "    </tr>\n",
       "    <tr>\n",
       "      <th>4420</th>\n",
       "      <td>MLP-2048</td>\n",
       "      <td>10000</td>\n",
       "      <td>5</td>\n",
       "      <td>0.833841</td>\n",
       "      <td>36.746988</td>\n",
       "    </tr>\n",
       "    <tr>\n",
       "      <th>4421</th>\n",
       "      <td>MLP-2048</td>\n",
       "      <td>10000</td>\n",
       "      <td>6</td>\n",
       "      <td>0.844265</td>\n",
       "      <td>36.746988</td>\n",
       "    </tr>\n",
       "    <tr>\n",
       "      <th>4422</th>\n",
       "      <td>MLP-2048</td>\n",
       "      <td>10000</td>\n",
       "      <td>7</td>\n",
       "      <td>0.839351</td>\n",
       "      <td>35.542169</td>\n",
       "    </tr>\n",
       "    <tr>\n",
       "      <th>4423</th>\n",
       "      <td>MLP-2048</td>\n",
       "      <td>10000</td>\n",
       "      <td>8</td>\n",
       "      <td>0.840733</td>\n",
       "      <td>37.951807</td>\n",
       "    </tr>\n",
       "    <tr>\n",
       "      <th>4424</th>\n",
       "      <td>MLP-2048</td>\n",
       "      <td>10000</td>\n",
       "      <td>9</td>\n",
       "      <td>0.842705</td>\n",
       "      <td>38.554217</td>\n",
       "    </tr>\n",
       "  </tbody>\n",
       "</table>\n",
       "<p>4425 rows × 5 columns</p>\n",
       "</div>"
      ],
      "text/plain": [
       "         model      D  seed   roc-auc       er-1\n",
       "0     HDB-RPFP  10000     0  0.801561  50.000000\n",
       "1     HDB-RPFP  10000     1  0.798270  25.000000\n",
       "2     HDB-RPFP  10000     2  0.796849  25.000000\n",
       "3     HDB-RPFP  10000     3  0.797068  25.000000\n",
       "4     HDB-RPFP  10000     4  0.801267  25.000000\n",
       "...        ...    ...   ...       ...        ...\n",
       "4420  MLP-2048  10000     5  0.833841  36.746988\n",
       "4421  MLP-2048  10000     6  0.844265  36.746988\n",
       "4422  MLP-2048  10000     7  0.839351  35.542169\n",
       "4423  MLP-2048  10000     8  0.840733  37.951807\n",
       "4424  MLP-2048  10000     9  0.842705  38.554217\n",
       "\n",
       "[4425 rows x 5 columns]"
      ]
     },
     "execution_count": 19,
     "metadata": {},
     "output_type": "execute_result"
    }
   ],
   "source": [
    "random_metric_df"
   ]
  },
  {
   "cell_type": "code",
   "execution_count": 20,
   "id": "c0da57b1",
   "metadata": {},
   "outputs": [],
   "source": [
    "mlp_1024_mean_rocauc_random = (random_metric_df[random_metric_df[\"model\"].apply(lambda x: x.lower()==\"mlp-1024\")]).groupby([\"model\", \"D\"]).mean()[\"roc-auc\"].values\n",
    "\n",
    "mlp_1024_mean_rocauc_ave = (ave_metric_df[ave_metric_df[\"model\"].apply(lambda x: x.lower()==\"mlp-1024\")]).groupby([\"model\", \"D\"]).mean()[\"roc-auc\"].values"
   ]
  },
  {
   "cell_type": "code",
   "execution_count": 21,
   "id": "5ef5fedb",
   "metadata": {},
   "outputs": [
    {
     "data": {
      "text/plain": [
       "'1.4.0'"
      ]
     },
     "execution_count": 21,
     "metadata": {},
     "output_type": "execute_result"
    }
   ],
   "source": [
    "pd.__version__"
   ]
  },
  {
   "cell_type": "code",
   "execution_count": 36,
   "id": "79d4be6a",
   "metadata": {},
   "outputs": [],
   "source": [
    "model_dict = {\n",
    "    \"MoleHD-BPE\": rocket_color_pal[4],\n",
    "    \"HDB-RPFP\": green_color_pal[0],\n",
    "    \"HDB-DECFP\": green_color_pal[3],\n",
    "    \"HDB-MolCLR\": green_color_pal[5],\n",
    "    \"HDB-MoLFormer\": green_color_pal[7],\n",
    "    \"HDB-Combo\": green_color_pal[9],\n",
    "    \"MLP\": blue_color_pal[7],\n",
    "    # \"Vina\": (\"Vina\", \"salmon\"),\n",
    "}\n",
    "\n",
    "model_order_dict = {\n",
    "    \"HDB-RPFP\": 0,\n",
    "    \"HDB-DECFP\": 1,\n",
    "    \"HDB-MolCLR\": 2,\n",
    "    \"HDB-MoLFormer\": 3,\n",
    "    \"HDB-Combo\": 4}\n",
    "\n",
    "\n",
    "\n",
    "def make_plot(df, ax, metric):\n",
    "    # print(df.head())\n",
    "    df = df.sort_values(by='model', key=lambda x: x.map(model_order_dict))\n",
    "\n",
    "    width=0.8\n",
    "    gap=0.2\n",
    "\n",
    "    sns.boxenplot(data=df, \n",
    "            x=\"D\", y=metric, \n",
    "            hue=\"model\", \n",
    "            ax=ax,\n",
    "            # order=model_order_list,\n",
    "            palette={x: model_dict[x] for x in model_dict.keys()},\n",
    "            width=width, \n",
    "            gap=gap\n",
    "            )\n",
    "    \n",
    "def make_roc_auc_plot():\n",
    "    f,ax = plt.subplots(2,1, figsize=(16,20), sharex=True, sharey=True)\n",
    "\n",
    "    make_plot(df=random_metric_df[random_metric_df[\"model\"].apply(lambda x: \"mlp\" not in x.lower())],\n",
    "          ax=ax[0], metric=\"roc-auc\")\n",
    "\n",
    "    make_plot(df=ave_metric_df[ave_metric_df[\"model\"].apply(lambda x: \"mlp\" not in x.lower())],\n",
    "          ax=ax[1], metric=\"roc-auc\")\n",
    "    ax[0].set_ylabel(\"ROC-AUC\")\n",
    "    ax[1].set_ylabel(\"\")\n",
    "\n",
    "    ax[0].set_title(\"Random\", fontsize=18)\n",
    "    ax[1].set_title(\"AVE\", fontsize=18)\n",
    "\n",
    "    alpha=0.7\n",
    "    handles, labels = ax[0].get_legend_handles_labels()\n",
    "    handles.append(ax[0].axhline(mlp_1024_mean_rocauc_random, color=\"red\", linestyle=\"--\", alpha=alpha))\n",
    "    labels.append(\"MLP ($\\mu$)\")\n",
    "    # ax[0].legend(handles,labels, fontsize=\"x-large\", loc=\"best\")\n",
    "    ax[0].get_legend().remove()\n",
    "\n",
    "    handles, labels = ax[1].get_legend_handles_labels()\n",
    "    handles.append(ax[1].axhline(mlp_1024_mean_rocauc_ave, color=\"red\", linestyle=\"--\", alpha=alpha))\n",
    "    labels.append(\"MLP ($\\mu$)\")\n",
    "    ax[1].legend(handles,labels, fontsize=\"x-large\", loc=\"best\")\n",
    "    ax[0].set_xlabel(\"HDC Dimension $D$\", fontsize=20)\n",
    "    ax[1].set_xlabel(\"HDC Dimension $D$\", fontsize=20)\n",
    "\n",
    "    plt.tight_layout()\n",
    "    plt.savefig(\"lit-pcba-rocauc-boxenplot.png\", dpi=450)\n",
    "    \n",
    "def make_er1_plot():\n",
    "    f,ax = plt.subplots(1,1, figsize=(16,8), sharex=True, sharey=True)\n",
    "\n",
    "\n",
    "    make_plot(df=ave_metric_df[ave_metric_df[\"model\"].apply(lambda x: \"mlp\" not in x.lower())],\n",
    "          ax=ax, metric=\"er-1\")\n",
    "    ax.set_ylabel(\"\")\n",
    "\n",
    "    ax.set_title(\"AVE\", fontsize=18)\n",
    "\n",
    "    alpha=0.7\n",
    "    handles, labels = ax.get_legend_handles_labels()\n",
    "    handles.append(ax.axhline(4.78, color=\"red\", linestyle=\"--\", alpha=alpha))\n",
    "    labels.append(\"GRIM ($\\mu$)\")\n",
    "    handles.append(ax.axhline(3.46, color=\"darkred\", linestyle=\"-.\", alpha=alpha))\n",
    "    labels.append(\"Pafnucy ($\\mu$)\")\n",
    "\n",
    "    ax.legend(handles,labels, fontsize=\"x-large\", loc=\"best\")\n",
    "    ax.set_xlabel(\"HDC Dimension $D$\", fontsize=20)\n",
    "\n",
    "    plt.tight_layout()\n",
    "    plt.savefig(\"lit-pcba-er1-boxenplot.png\", dpi=450)"
   ]
  },
  {
   "cell_type": "code",
   "execution_count": 37,
   "id": "d5da5b2c",
   "metadata": {},
   "outputs": [],
   "source": [
    "# make_roc_auc_plot()"
   ]
  },
  {
   "cell_type": "code",
   "execution_count": 38,
   "id": "ce55fcd3",
   "metadata": {},
   "outputs": [
    {
     "data": {
      "image/png": "[encoded data removed]",
      "text/plain": [
       "<Figure size 1152x576 with 1 Axes>"
      ]
     },
     "metadata": {},
     "output_type": "display_data"
    }
   ],
   "source": [
    "make_er1_plot()"
   ]
  }
 ],
 "metadata": {
  "kernelspec": {
   "display_name": "HD_env",
   "language": "python",
   "name": "python3"
  },
  "language_info": {
   "codemirror_mode": {
    "name": "ipython",
    "version": 3
   },
   "file_extension": ".py",
   "mimetype": "text/x-python",
   "name": "python",
   "nbconvert_exporter": "python",
   "pygments_lexer": "ipython3",
   "version": "3.8.-1"
  }
 },
 "nbformat": 4,
 "nbformat_minor": 5
}
