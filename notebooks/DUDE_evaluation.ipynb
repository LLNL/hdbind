{
 "cells": [
  {
   "cell_type": "markdown",
   "metadata": {},
   "source": [
    "This notebook will describe experiments related to DUD-E"
   ]
  },
  {
   "cell_type": "code",
   "execution_count": 1,
   "metadata": {},
   "outputs": [],
   "source": [
    "import pickle\n",
    "from sklearn.metrics import roc_auc_score\n",
    "import numpy as np\n",
    "import seaborn as sns\n",
    "import torch\n",
    "import seaborn as sns\n",
    "import pandas as pd\n",
    "from tqdm import tqdm\n",
    "from pathlib import Path\n",
    "from sklearn.metrics import f1_score, recall_score\n",
    "import matplotlib.pyplot as plt\n",
    "\n",
    "\n",
    "plt.rc('text', usetex=True)\n",
    "plt.rc('font', family='serif')\n",
    "plt.rc('xtick', labelsize=15)\n",
    "plt.rc('ytick', labelsize=15)\n",
    "plt.rc('axes', labelsize=17)\n",
    "plt.rc('figure', titlesize=20)\n"
   ]
  },
  {
   "cell_type": "code",
   "execution_count": 2,
   "metadata": {},
   "outputs": [],
   "source": [
    "def compute_enrichment_factor(scores, labels, n_percent):\n",
    "    # this variant implements the equation from Xiaohua's paper\n",
    "    \n",
    "    sample_n = int(np.ceil(n_percent * labels.shape[0]))\n",
    "    \n",
    "    sorted_scores = sorted(zip(scores, labels), key=lambda x: x[0], reverse=True)\n",
    "\n",
    "    top_n_sorted_scores = sorted_scores[:sample_n]\n",
    "\n",
    "    # counting number of true positives in top x% of sorted compounds\n",
    "    actives_sampled = sum([y for x, y in top_n_sorted_scores])\n",
    "    # labels are binary, sum to count number of actives\n",
    "    actives_database = sum(labels)\n",
    "\n",
    "    norm_factor = (sample_n/len(labels))\n",
    "\n",
    "    return (actives_sampled / actives_database) * (labels.shape[0]/sample_n)\n"
   ]
  },
  {
   "cell_type": "code",
   "execution_count": 3,
   "metadata": {},
   "outputs": [],
   "source": [
    "# data_p = Path(\"/g/g13/jones289/workspace/hd-cuda-master/hdpy/hdpy/results/0\")\n",
    "data_p = Path(\"/g/g13/jones289/workspace/hd-cuda-master/hdpy/hdpy/results/4\")"
   ]
  },
  {
   "cell_type": "code",
   "execution_count": 4,
   "metadata": {},
   "outputs": [
    {
     "data": {
      "text/plain": [
       "'dude.random.inha.rf.None.0.pkl'"
      ]
     },
     "execution_count": 4,
     "metadata": {},
     "output_type": "execute_result"
    }
   ],
   "source": [
    "list(data_p.glob(\"dude.random*.pkl\"))[0].name"
   ]
  },
  {
   "cell_type": "code",
   "execution_count": 5,
   "metadata": {},
   "outputs": [
    {
     "data": {
      "text/plain": [
       "['dyr',\n",
       " 'cdk2',\n",
       " 'sahh',\n",
       " 'kith',\n",
       " 'prgr',\n",
       " 'pgh1',\n",
       " 'ace',\n",
       " 'mk14',\n",
       " 'parp1',\n",
       " 'fa10',\n",
       " 'aldr',\n",
       " 'pygm',\n",
       " 'pnph',\n",
       " 'hs90a',\n",
       " 'esr1',\n",
       " 'mcr',\n",
       " 'src',\n",
       " 'ada',\n",
       " 'comt',\n",
       " 'thrb',\n",
       " 'pde5a',\n",
       " 'egfr',\n",
       " 'gcr',\n",
       " 'hmdh',\n",
       " 'inha',\n",
       " 'nram',\n",
       " 'pgh2',\n",
       " 'ampc',\n",
       " 'hivpr',\n",
       " 'aces',\n",
       " 'pur2',\n",
       " 'bace1',\n",
       " 'vgfr2',\n",
       " 'try1',\n",
       " 'hivrt',\n",
       " 'rxra',\n",
       " 'andr',\n",
       " 'pparg']"
      ]
     },
     "execution_count": 5,
     "metadata": {},
     "output_type": "execute_result"
    }
   ],
   "source": [
    "dude_target_names = list(set([x.name.split('.')[2] for x in list(data_p.glob(\"dude.random*.pkl\"))]))\n",
    "dude_target_names"
   ]
  },
  {
   "cell_type": "code",
   "execution_count": 48,
   "metadata": {},
   "outputs": [],
   "source": [
    "def compute_average_enrichment(pkl_path, model):\n",
    "    \n",
    "    enrich_1_list = [] \n",
    "    enrich_10_list = []\n",
    "    \n",
    "#     import pdb\n",
    "#     pdb.set_trace()\n",
    "    with open(pkl_path, \"rb\") as handle:\n",
    "        data = pickle.load(handle) # lets just use one seed\n",
    "        \n",
    "#         for seed in data.keys():\n",
    "\n",
    "        range_limit = 10\n",
    "    \n",
    "        if \"openhd\" in str(pkl_path):\n",
    "            range_limit=1\n",
    "        for seed in range(range_limit):\n",
    "#             print(seed)\n",
    "\n",
    "            if isinstance(data[seed][\"y_true\"], np.ndarray):\n",
    "                y_true = data[seed][\"y_true\"]\n",
    "            else:\n",
    "                y_true = np.concatenate(data[seed][\"y_true\"]) \n",
    "            y_pred = np.array(data[seed][\"y_pred\"])\n",
    "\n",
    "    \n",
    "            eta = np.array(data[seed][\"eta\"])\n",
    "\n",
    "            if np.unique(y_true).shape[0] < 2 :\n",
    "                metric = 0\n",
    "            else:\n",
    "                metric = recall_score(y_pred=y_pred, y_true=y_true)\n",
    "                if model in [\"rf\", \"mlp\"]:\n",
    "                    eta= eta[:, 1]\n",
    "\n",
    "            enrich_1 = compute_enrichment_factor(scores=eta, labels=y_true, n_percent=.01)\n",
    "            enrich_1_list.append(enrich_1)\n",
    "                \n",
    "            enrich_10 = compute_enrichment_factor(scores=eta, labels=y_true, n_percent=.1)\n",
    "            enrich_10_list.append(enrich_10)\n",
    "            \n",
    "    \n",
    "    return np.mean(enrich_1_list), np.std(enrich_1_list), np.mean(enrich_10_list), np.std(enrich_10_list)\n",
    "\n",
    "\n",
    "\n",
    "\n",
    "def compute_average_train_time(pkl_path):\n",
    "    print(pkl_path)\n",
    "    train_time_list = []\n",
    "    \n",
    "\n",
    "    with open(pkl_path, \"rb\") as handle:\n",
    "        data = pickle.load(handle) # lets just use one seed\n",
    "        \n",
    "        target = pkl_path.name.split(\".\")[2]\n",
    "        split = pkl_path.name.split(\".\")[1]\n",
    "        model = pkl_path.name.split(\".\")[3]\n",
    "\n",
    "        range_limit = 10\n",
    "    \n",
    "        if \"openhd\" in model:\n",
    "            range_limit=1\n",
    "        for seed in range(range_limit):\n",
    "\n",
    "            train_time  = data[seed][\"train_time\"]\n",
    "\n",
    "            if \"openhd\" in model:\n",
    "                pass\n",
    "            \n",
    "            elif \"mlp\" in model:\n",
    "                train_time = train_time / 10 # trained MLP for max 10 epochs...check that it hits that but assume it didn't converge that quickly\n",
    "            elif \"rf\" in model:\n",
    "                train_time = train_time # there's no concept of epoch in a random forest\n",
    "            else:\n",
    "                train_time = train_time/10 # this should catch all HD models which were trained for 10 epochs per seed\n",
    "            \n",
    "            train_time_list.append(train_time)\n",
    "            \n",
    "            \n",
    "    \n",
    "    return np.mean(train_time_list)\n",
    "\n",
    "\n",
    "\n",
    "def compute_average_inference_time(pkl_path):\n",
    "    \n",
    "    test_time_list = []\n",
    "    \n",
    "\n",
    "    with open(pkl_path, \"rb\") as handle:\n",
    "        data = pickle.load(handle) # lets just use one seed\n",
    "        \n",
    "\n",
    "        range_limit = 10\n",
    "    \n",
    "        if \"openhd\" in str(pkl_path):\n",
    "            range_limit=1\n",
    "        for seed in range(range_limit):\n",
    "\n",
    "            test_time  = data[seed][\"test_time\"]\n",
    "\n",
    "            test_time_list.append(test_time)\n",
    "            \n",
    "            \n",
    "    \n",
    "    return np.mean(test_time_list)\n",
    "\n",
    "\n",
    "def get_train_test_sizes(pkl_path):\n",
    "    \n",
    "    train_size_list = []\n",
    "    test_size_list = []\n",
    "    \n",
    "\n",
    "    with open(pkl_path, \"rb\") as handle:\n",
    "        data = pickle.load(handle) # lets just use one seed\n",
    "        \n",
    "        range_limit = 10\n",
    "    \n",
    "        if \"openhd\" in str(pkl_path):\n",
    "            range_limit=1\n",
    "        for seed in range(range_limit):\n",
    "\n",
    "            train_size_list.append(data[seed][\"train_size\"])\n",
    "            test_size_list.append(data[seed][\"test_size\"])            \n",
    "            \n",
    "    \n",
    "    return np.mean(train_size_list), np.mean(test_size_list)\n",
    "                    "
   ]
  },
  {
   "cell_type": "markdown",
   "metadata": {},
   "source": [
    "# DUD-E results"
   ]
  },
  {
   "cell_type": "code",
   "execution_count": 49,
   "metadata": {},
   "outputs": [],
   "source": [
    "green_color_pal = sns.color_palette(\"Greens\", 10)\n",
    "blue_color_pal = sns.color_palette(\"Blues\", 10)\n",
    "rocket_color_pal = sns.color_palette(\"rocket\", 10)"
   ]
  },
  {
   "cell_type": "code",
   "execution_count": 50,
   "metadata": {},
   "outputs": [],
   "source": [
    "#     \"openhd-ecfp\": green_color_pal[6],\n",
    "\n",
    "color_dict = {\n",
    "    \"smiles-pe.atomwise.0\": rocket_color_pal[2],\n",
    "    \"smiles-pe.bpe.0\": rocket_color_pal[4],   \n",
    "\"selfies.atomwise\": green_color_pal[4],\n",
    "    \"selfies.atomwise\": green_color_pal[4],\n",
    "    \"openhd-ecfp\": green_color_pal[5],\n",
    "        \"openhd-rp\": green_color_pal[5],\n",
    "    \"ecfp\": green_color_pal[6],\n",
    "    \"rp\": green_color_pal[8],\n",
    "    \"rf\": blue_color_pal[4],\n",
    "    \"mlp\": blue_color_pal[7],\n",
    "}\n",
    "\n",
    "\n",
    "model_order_list = [\n",
    "    (\"smiles-pe.atomwise.0\", \"MoleHD-Atomw.\"),\n",
    "    (\"smiles-pe.bpe.0\", \"MoleHD-BPE\"),\n",
    "    (\"selfies.atomwise\", \"HDBind-SELFIES\"),\n",
    "    (\"ecfp\", \"HDBind-ECFP\"),\n",
    "    (\"openhd-ecfp\", \"OpenHD-ECFP\"),\n",
    "    (\"openhd-rp\", \"OpenHD-RPFP\"),\n",
    "    (\"rp\", \"HDBind-RPFP\"),\n",
    "    (\"rf\", \"RF\"),\n",
    "    (\"mlp\", \"MLP\"),\n",
    "    (\"Vina\", \"Vina\")\n",
    "]\n",
    "\n",
    "\n",
    "model_name_dict = {\n",
    "    \"smiles-pe.atomwise.0\": \"MoleHD-Atomw.\",\n",
    "    \"smiles-pe.bpe.0\": \"MoleHD-BPE\",\n",
    "    \"selfies.atomwise\": \"HDBind-SELFIES\",\n",
    "    \"ecfp\": \"HDBind-ECFP\",\n",
    "    \"openhd-ecfp\": \"OPENHD-ECFP\",\n",
    "    \"openhd-rp\": \"OPENHD-RPFP\",\n",
    "    \"rp\": \"HDBind-RPFP\",\n",
    "    \"rf\": \"RF\",\n",
    "    \"mlp\": \"MLP\",\n",
    "    \"Vina\": \"Vina\"\n",
    " }"
   ]
  },
  {
   "cell_type": "code",
   "execution_count": 53,
   "metadata": {},
   "outputs": [],
   "source": [
    "def aggregate_dude_results(dataset, split):\n",
    "    \n",
    "    model_metric_dict = {\"model\": [], \"enrich-1-mean\": [], \n",
    "                         \"enrich-1-std\":[], \"enrich-10-mean\": [], \n",
    "                         \"enrich-10-std\": [], \"train_time\":[], \"test_time\": [],\n",
    "                        \"train_size\": [], \"test_size\": []}\n",
    "    \n",
    "\n",
    "    enrich_f, enrich_ax = plt.subplots(2,1, figsize=(12,10), sharex=True, sharey=False)\n",
    "    enrich_ax = enrich_ax.flatten()\n",
    "    enrich_1_ax, enrich_10_ax = enrich_ax[0], enrich_ax[1]\n",
    "\n",
    "    for model, color in color_dict.items():\n",
    "                        \n",
    "        data_path_list = list(data_p.glob(f\"{dataset}.{split}.*.{model}*pkl\"))\n",
    "\n",
    "        \n",
    "        for path in tqdm(data_path_list, total=len(data_path_list)):\n",
    "            \n",
    "            target = path.name.split(\".\")[2]\n",
    "            split = path.name.split(\".\")[1]\n",
    "            \n",
    "                \n",
    "                \n",
    "            enrich_1_mean, enrich_1_std, enrich_10_mean, enrich_10_std = compute_average_enrichment(path, model=model)\n",
    "            train_time_mean = compute_average_train_time(path)\n",
    "            test_time_mean = compute_average_inference_time(path)\n",
    "            train_size, test_size = get_train_test_sizes(path)\n",
    "            \n",
    "            \n",
    "            model_metric_dict[\"model\"].append(model)\n",
    "            model_metric_dict[\"enrich-1-mean\"].append(enrich_1_mean)\n",
    "            model_metric_dict[\"enrich-1-std\"].append(enrich_1_std)\n",
    "            model_metric_dict[\"enrich-10-mean\"].append(enrich_10_mean)\n",
    "            model_metric_dict[\"enrich-10-std\"].append(enrich_10_std)\n",
    "            model_metric_dict[\"train_time\"].append(train_time_mean)\n",
    "            model_metric_dict[\"test_time\"].append(test_time_mean)\n",
    "            model_metric_dict[\"train_size\"].append(train_size)\n",
    "            model_metric_dict[\"test_size\"].append(test_size)\n",
    "\n",
    "\n",
    "    return enrich_f, enrich_1_ax, enrich_10_ax, model_metric_dict\n",
    "\n",
    "\n"
   ]
  },
  {
   "cell_type": "code",
   "execution_count": 54,
   "metadata": {
    "scrolled": true
   },
   "outputs": [
    {
     "name": "stderr",
     "output_type": "stream",
     "text": [
      "  5%|▌         | 2/38 [00:00<00:05,  7.16it/s]"
     ]
    },
    {
     "name": "stdout",
     "output_type": "stream",
     "text": [
      "/g/g13/jones289/workspace/hd-cuda-master/hdpy/hdpy/results/4/dude.random.pnph.smiles-pe.atomwise.0.pkl\n",
      "/g/g13/jones289/workspace/hd-cuda-master/hdpy/hdpy/results/4/dude.random.try1.smiles-pe.atomwise.0.pkl\n"
     ]
    },
    {
     "name": "stderr",
     "output_type": "stream",
     "text": [
      "\r",
      "  8%|▊         | 3/38 [00:00<00:06,  5.53it/s]"
     ]
    },
    {
     "name": "stdout",
     "output_type": "stream",
     "text": [
      "/g/g13/jones289/workspace/hd-cuda-master/hdpy/hdpy/results/4/dude.random.pgh1.smiles-pe.atomwise.0.pkl\n"
     ]
    },
    {
     "name": "stderr",
     "output_type": "stream",
     "text": [
      "\r",
      " 11%|█         | 4/38 [00:00<00:07,  4.41it/s]"
     ]
    },
    {
     "name": "stdout",
     "output_type": "stream",
     "text": [
      "/g/g13/jones289/workspace/hd-cuda-master/hdpy/hdpy/results/4/dude.random.fa10.smiles-pe.atomwise.0.pkl\n"
     ]
    },
    {
     "name": "stderr",
     "output_type": "stream",
     "text": [
      "\r",
      " 13%|█▎        | 5/38 [00:01<00:09,  3.39it/s]"
     ]
    },
    {
     "name": "stdout",
     "output_type": "stream",
     "text": [
      "/g/g13/jones289/workspace/hd-cuda-master/hdpy/hdpy/results/4/dude.random.pgh2.smiles-pe.atomwise.0.pkl\n"
     ]
    },
    {
     "name": "stderr",
     "output_type": "stream",
     "text": [
      "\r",
      " 16%|█▌        | 6/38 [00:01<00:13,  2.36it/s]"
     ]
    },
    {
     "name": "stdout",
     "output_type": "stream",
     "text": [
      "/g/g13/jones289/workspace/hd-cuda-master/hdpy/hdpy/results/4/dude.random.egfr.smiles-pe.atomwise.0.pkl\n"
     ]
    },
    {
     "name": "stderr",
     "output_type": "stream",
     "text": [
      " 21%|██        | 8/38 [00:02<00:10,  2.82it/s]"
     ]
    },
    {
     "name": "stdout",
     "output_type": "stream",
     "text": [
      "/g/g13/jones289/workspace/hd-cuda-master/hdpy/hdpy/results/4/dude.random.pde5a.smiles-pe.atomwise.0.pkl\n",
      "/g/g13/jones289/workspace/hd-cuda-master/hdpy/hdpy/results/4/dude.random.nram.smiles-pe.atomwise.0.pkl\n"
     ]
    },
    {
     "name": "stderr",
     "output_type": "stream",
     "text": [
      "\r",
      " 24%|██▎       | 9/38 [00:02<00:10,  2.84it/s]"
     ]
    },
    {
     "name": "stdout",
     "output_type": "stream",
     "text": [
      "/g/g13/jones289/workspace/hd-cuda-master/hdpy/hdpy/results/4/dude.random.esr1.smiles-pe.atomwise.0.pkl\n"
     ]
    },
    {
     "name": "stderr",
     "output_type": "stream",
     "text": [
      "\r",
      " 26%|██▋       | 10/38 [00:03<00:12,  2.33it/s]"
     ]
    },
    {
     "name": "stdout",
     "output_type": "stream",
     "text": [
      "/g/g13/jones289/workspace/hd-cuda-master/hdpy/hdpy/results/4/dude.random.parp1.smiles-pe.atomwise.0.pkl\n",
      "/g/g13/jones289/workspace/hd-cuda-master/hdpy/hdpy/results/4/dude.random.inha.smiles-pe.atomwise.0.pkl\n"
     ]
    },
    {
     "name": "stderr",
     "output_type": "stream",
     "text": [
      " 34%|███▍      | 13/38 [00:03<00:06,  4.02it/s]"
     ]
    },
    {
     "name": "stdout",
     "output_type": "stream",
     "text": [
      "/g/g13/jones289/workspace/hd-cuda-master/hdpy/hdpy/results/4/dude.random.ada.smiles-pe.atomwise.0.pkl\n",
      "/g/g13/jones289/workspace/hd-cuda-master/hdpy/hdpy/results/4/dude.random.thrb.smiles-pe.atomwise.0.pkl\n"
     ]
    },
    {
     "name": "stderr",
     "output_type": "stream",
     "text": [
      "\r",
      " 37%|███▋      | 14/38 [00:04<00:07,  3.07it/s]"
     ]
    },
    {
     "name": "stdout",
     "output_type": "stream",
     "text": [
      "/g/g13/jones289/workspace/hd-cuda-master/hdpy/hdpy/results/4/dude.random.hivpr.smiles-pe.atomwise.0.pkl\n"
     ]
    },
    {
     "name": "stderr",
     "output_type": "stream",
     "text": [
      " 42%|████▏     | 16/38 [00:05<00:07,  3.02it/s]"
     ]
    },
    {
     "name": "stdout",
     "output_type": "stream",
     "text": [
      "/g/g13/jones289/workspace/hd-cuda-master/hdpy/hdpy/results/4/dude.random.src.smiles-pe.atomwise.0.pkl\n",
      "/g/g13/jones289/workspace/hd-cuda-master/hdpy/hdpy/results/4/dude.random.rxra.smiles-pe.atomwise.0.pkl\n"
     ]
    },
    {
     "name": "stderr",
     "output_type": "stream",
     "text": [
      " 47%|████▋     | 18/38 [00:05<00:04,  4.46it/s]"
     ]
    },
    {
     "name": "stdout",
     "output_type": "stream",
     "text": [
      "/g/g13/jones289/workspace/hd-cuda-master/hdpy/hdpy/results/4/dude.random.hs90a.smiles-pe.atomwise.0.pkl\n",
      "/g/g13/jones289/workspace/hd-cuda-master/hdpy/hdpy/results/4/dude.random.pygm.smiles-pe.atomwise.0.pkl\n",
      "/g/g13/jones289/workspace/hd-cuda-master/hdpy/hdpy/results/4/dude.random.pur2.smiles-pe.atomwise.0.pkl\n"
     ]
    },
    {
     "name": "stderr",
     "output_type": "stream",
     "text": [
      " 55%|█████▌    | 21/38 [00:05<00:03,  5.01it/s]"
     ]
    },
    {
     "name": "stdout",
     "output_type": "stream",
     "text": [
      "/g/g13/jones289/workspace/hd-cuda-master/hdpy/hdpy/results/4/dude.random.bace1.smiles-pe.atomwise.0.pkl\n",
      "/g/g13/jones289/workspace/hd-cuda-master/hdpy/hdpy/results/4/dude.random.hmdh.smiles-pe.atomwise.0.pkl\n"
     ]
    },
    {
     "name": "stderr",
     "output_type": "stream",
     "text": [
      "\r",
      " 58%|█████▊    | 22/38 [00:06<00:04,  3.33it/s]"
     ]
    },
    {
     "name": "stdout",
     "output_type": "stream",
     "text": [
      "/g/g13/jones289/workspace/hd-cuda-master/hdpy/hdpy/results/4/dude.random.mk14.smiles-pe.atomwise.0.pkl\n"
     ]
    },
    {
     "name": "stderr",
     "output_type": "stream",
     "text": [
      " 63%|██████▎   | 24/38 [00:06<00:03,  4.30it/s]"
     ]
    },
    {
     "name": "stdout",
     "output_type": "stream",
     "text": [
      "/g/g13/jones289/workspace/hd-cuda-master/hdpy/hdpy/results/4/dude.random.gcr.smiles-pe.atomwise.0.pkl\n",
      "/g/g13/jones289/workspace/hd-cuda-master/hdpy/hdpy/results/4/dude.random.andr.smiles-pe.atomwise.0.pkl\n"
     ]
    },
    {
     "name": "stderr",
     "output_type": "stream",
     "text": [
      "\r",
      " 66%|██████▌   | 25/38 [00:07<00:03,  3.59it/s]"
     ]
    },
    {
     "name": "stdout",
     "output_type": "stream",
     "text": [
      "/g/g13/jones289/workspace/hd-cuda-master/hdpy/hdpy/results/4/dude.random.vgfr2.smiles-pe.atomwise.0.pkl\n"
     ]
    },
    {
     "name": "stderr",
     "output_type": "stream",
     "text": [
      "\r",
      " 68%|██████▊   | 26/38 [00:07<00:04,  2.94it/s]"
     ]
    },
    {
     "name": "stdout",
     "output_type": "stream",
     "text": [
      "/g/g13/jones289/workspace/hd-cuda-master/hdpy/hdpy/results/4/dude.random.cdk2.smiles-pe.atomwise.0.pkl\n"
     ]
    },
    {
     "name": "stderr",
     "output_type": "stream",
     "text": [
      "\r",
      " 71%|███████   | 27/38 [00:07<00:03,  3.36it/s]"
     ]
    },
    {
     "name": "stdout",
     "output_type": "stream",
     "text": [
      "/g/g13/jones289/workspace/hd-cuda-master/hdpy/hdpy/results/4/dude.random.prgr.smiles-pe.atomwise.0.pkl\n",
      "/g/g13/jones289/workspace/hd-cuda-master/hdpy/hdpy/results/4/dude.random.ampc.smiles-pe.atomwise.0.pkl\n"
     ]
    },
    {
     "name": "stderr",
     "output_type": "stream",
     "text": [
      " 79%|███████▉  | 30/38 [00:08<00:02,  4.00it/s]"
     ]
    },
    {
     "name": "stdout",
     "output_type": "stream",
     "text": [
      "/g/g13/jones289/workspace/hd-cuda-master/hdpy/hdpy/results/4/dude.random.aces.smiles-pe.atomwise.0.pkl\n",
      "/g/g13/jones289/workspace/hd-cuda-master/hdpy/hdpy/results/4/dude.random.aldr.smiles-pe.atomwise.0.pkl\n"
     ]
    },
    {
     "name": "stderr",
     "output_type": "stream",
     "text": [
      "\r",
      " 84%|████████▍ | 32/38 [00:08<00:01,  5.45it/s]"
     ]
    },
    {
     "name": "stdout",
     "output_type": "stream",
     "text": [
      "/g/g13/jones289/workspace/hd-cuda-master/hdpy/hdpy/results/4/dude.random.kith.smiles-pe.atomwise.0.pkl\n",
      "/g/g13/jones289/workspace/hd-cuda-master/hdpy/hdpy/results/4/dude.random.comt.smiles-pe.atomwise.0.pkl\n"
     ]
    },
    {
     "name": "stderr",
     "output_type": "stream",
     "text": [
      " 92%|█████████▏| 35/38 [00:09<00:00,  6.30it/s]"
     ]
    },
    {
     "name": "stdout",
     "output_type": "stream",
     "text": [
      "/g/g13/jones289/workspace/hd-cuda-master/hdpy/hdpy/results/4/dude.random.ace.smiles-pe.atomwise.0.pkl\n",
      "/g/g13/jones289/workspace/hd-cuda-master/hdpy/hdpy/results/4/dude.random.sahh.smiles-pe.atomwise.0.pkl\n",
      "/g/g13/jones289/workspace/hd-cuda-master/hdpy/hdpy/results/4/dude.random.mcr.smiles-pe.atomwise.0.pkl\n"
     ]
    },
    {
     "name": "stderr",
     "output_type": "stream",
     "text": [
      "\r",
      " 95%|█████████▍| 36/38 [00:09<00:00,  4.39it/s]"
     ]
    },
    {
     "name": "stdout",
     "output_type": "stream",
     "text": [
      "/g/g13/jones289/workspace/hd-cuda-master/hdpy/hdpy/results/4/dude.random.pparg.smiles-pe.atomwise.0.pkl\n",
      "/g/g13/jones289/workspace/hd-cuda-master/hdpy/hdpy/results/4/dude.random.hivrt.smiles-pe.atomwise.0.pkl\n"
     ]
    },
    {
     "name": "stderr",
     "output_type": "stream",
     "text": [
      "100%|██████████| 38/38 [00:10<00:00,  3.77it/s]\n"
     ]
    },
    {
     "name": "stdout",
     "output_type": "stream",
     "text": [
      "/g/g13/jones289/workspace/hd-cuda-master/hdpy/hdpy/results/4/dude.random.dyr.smiles-pe.atomwise.0.pkl\n"
     ]
    },
    {
     "name": "stderr",
     "output_type": "stream",
     "text": [
      "  3%|▎         | 1/38 [00:00<00:05,  6.79it/s]"
     ]
    },
    {
     "name": "stdout",
     "output_type": "stream",
     "text": [
      "/g/g13/jones289/workspace/hd-cuda-master/hdpy/hdpy/results/4/dude.random.pnph.smiles-pe.bpe.0.pkl\n"
     ]
    },
    {
     "name": "stderr",
     "output_type": "stream",
     "text": [
      "\r",
      "  5%|▌         | 2/38 [00:00<00:05,  6.54it/s]"
     ]
    },
    {
     "name": "stdout",
     "output_type": "stream",
     "text": [
      "/g/g13/jones289/workspace/hd-cuda-master/hdpy/hdpy/results/4/dude.random.ada.smiles-pe.bpe.0.pkl\n",
      "/g/g13/jones289/workspace/hd-cuda-master/hdpy/hdpy/results/4/dude.random.inha.smiles-pe.bpe.0.pkl\n"
     ]
    },
    {
     "name": "stderr",
     "output_type": "stream",
     "text": [
      "\r",
      " 11%|█         | 4/38 [00:00<00:07,  4.59it/s]"
     ]
    },
    {
     "name": "stdout",
     "output_type": "stream",
     "text": [
      "/g/g13/jones289/workspace/hd-cuda-master/hdpy/hdpy/results/4/dude.random.aces.smiles-pe.bpe.0.pkl\n"
     ]
    },
    {
     "name": "stderr",
     "output_type": "stream",
     "text": [
      "\r",
      " 13%|█▎        | 5/38 [00:01<00:11,  2.85it/s]"
     ]
    },
    {
     "name": "stdout",
     "output_type": "stream",
     "text": [
      "/g/g13/jones289/workspace/hd-cuda-master/hdpy/hdpy/results/4/dude.random.egfr.smiles-pe.bpe.0.pkl\n"
     ]
    },
    {
     "name": "stderr",
     "output_type": "stream",
     "text": [
      "\r",
      " 16%|█▌        | 6/38 [00:02<00:13,  2.41it/s]"
     ]
    },
    {
     "name": "stdout",
     "output_type": "stream",
     "text": [
      "/g/g13/jones289/workspace/hd-cuda-master/hdpy/hdpy/results/4/dude.random.parp1.smiles-pe.bpe.0.pkl\n"
     ]
    },
    {
     "name": "stderr",
     "output_type": "stream",
     "text": [
      "\r",
      " 18%|█▊        | 7/38 [00:02<00:12,  2.57it/s]"
     ]
    },
    {
     "name": "stdout",
     "output_type": "stream",
     "text": [
      "/g/g13/jones289/workspace/hd-cuda-master/hdpy/hdpy/results/4/dude.random.ace.smiles-pe.bpe.0.pkl\n"
     ]
    },
    {
     "name": "stderr",
     "output_type": "stream",
     "text": [
      "\r",
      " 21%|██        | 8/38 [00:02<00:12,  2.34it/s]"
     ]
    },
    {
     "name": "stdout",
     "output_type": "stream",
     "text": [
      "/g/g13/jones289/workspace/hd-cuda-master/hdpy/hdpy/results/4/dude.random.cdk2.smiles-pe.bpe.0.pkl\n"
     ]
    },
    {
     "name": "stderr",
     "output_type": "stream",
     "text": [
      "\r",
      " 24%|██▎       | 9/38 [00:03<00:10,  2.79it/s]"
     ]
    },
    {
     "name": "stdout",
     "output_type": "stream",
     "text": [
      "/g/g13/jones289/workspace/hd-cuda-master/hdpy/hdpy/results/4/dude.random.aldr.smiles-pe.bpe.0.pkl\n"
     ]
    },
    {
     "name": "stderr",
     "output_type": "stream",
     "text": [
      "\r",
      " 26%|██▋       | 10/38 [00:03<00:10,  2.73it/s]"
     ]
    },
    {
     "name": "stdout",
     "output_type": "stream",
     "text": [
      "/g/g13/jones289/workspace/hd-cuda-master/hdpy/hdpy/results/4/dude.random.fa10.smiles-pe.bpe.0.pkl\n"
     ]
    },
    {
     "name": "stderr",
     "output_type": "stream",
     "text": [
      " 32%|███▏      | 12/38 [00:03<00:06,  3.86it/s]"
     ]
    },
    {
     "name": "stdout",
     "output_type": "stream",
     "text": [
      "/g/g13/jones289/workspace/hd-cuda-master/hdpy/hdpy/results/4/dude.random.thrb.smiles-pe.bpe.0.pkl\n",
      "/g/g13/jones289/workspace/hd-cuda-master/hdpy/hdpy/results/4/dude.random.rxra.smiles-pe.bpe.0.pkl\n"
     ]
    },
    {
     "name": "stderr",
     "output_type": "stream",
     "text": [
      " 37%|███▋      | 14/38 [00:04<00:04,  4.96it/s]"
     ]
    },
    {
     "name": "stdout",
     "output_type": "stream",
     "text": [
      "/g/g13/jones289/workspace/hd-cuda-master/hdpy/hdpy/results/4/dude.random.try1.smiles-pe.bpe.0.pkl\n",
      "/g/g13/jones289/workspace/hd-cuda-master/hdpy/hdpy/results/4/dude.random.pygm.smiles-pe.bpe.0.pkl\n"
     ]
    },
    {
     "name": "stderr",
     "output_type": "stream",
     "text": [
      "\r",
      " 39%|███▉      | 15/38 [00:04<00:05,  4.33it/s]"
     ]
    },
    {
     "name": "stdout",
     "output_type": "stream",
     "text": [
      "/g/g13/jones289/workspace/hd-cuda-master/hdpy/hdpy/results/4/dude.random.dyr.smiles-pe.bpe.0.pkl\n",
      "/g/g13/jones289/workspace/hd-cuda-master/hdpy/hdpy/results/4/dude.random.sahh.smiles-pe.bpe.0.pkl\n"
     ]
    },
    {
     "name": "stderr",
     "output_type": "stream",
     "text": [
      "\r",
      " 45%|████▍     | 17/38 [00:04<00:05,  3.91it/s]"
     ]
    },
    {
     "name": "stdout",
     "output_type": "stream",
     "text": [
      "/g/g13/jones289/workspace/hd-cuda-master/hdpy/hdpy/results/4/dude.random.pparg.smiles-pe.bpe.0.pkl\n",
      "/g/g13/jones289/workspace/hd-cuda-master/hdpy/hdpy/results/4/dude.random.kith.smiles-pe.bpe.0.pkl\n"
     ]
    },
    {
     "name": "stderr",
     "output_type": "stream",
     "text": [
      " 53%|█████▎    | 20/38 [00:05<00:03,  4.99it/s]"
     ]
    },
    {
     "name": "stdout",
     "output_type": "stream",
     "text": [
      "/g/g13/jones289/workspace/hd-cuda-master/hdpy/hdpy/results/4/dude.random.prgr.smiles-pe.bpe.0.pkl\n",
      "/g/g13/jones289/workspace/hd-cuda-master/hdpy/hdpy/results/4/dude.random.nram.smiles-pe.bpe.0.pkl\n"
     ]
    },
    {
     "name": "stderr",
     "output_type": "stream",
     "text": [
      "\r",
      " 55%|█████▌    | 21/38 [00:06<00:05,  3.38it/s]"
     ]
    },
    {
     "name": "stdout",
     "output_type": "stream",
     "text": [
      "/g/g13/jones289/workspace/hd-cuda-master/hdpy/hdpy/results/4/dude.random.mk14.smiles-pe.bpe.0.pkl\n"
     ]
    },
    {
     "name": "stderr",
     "output_type": "stream",
     "text": [
      "\r",
      " 58%|█████▊    | 22/38 [00:06<00:04,  3.31it/s]"
     ]
    },
    {
     "name": "stdout",
     "output_type": "stream",
     "text": [
      "/g/g13/jones289/workspace/hd-cuda-master/hdpy/hdpy/results/4/dude.random.bace1.smiles-pe.bpe.0.pkl\n"
     ]
    },
    {
     "name": "stderr",
     "output_type": "stream",
     "text": [
      " 63%|██████▎   | 24/38 [00:07<00:04,  3.21it/s]"
     ]
    },
    {
     "name": "stdout",
     "output_type": "stream",
     "text": [
      "/g/g13/jones289/workspace/hd-cuda-master/hdpy/hdpy/results/4/dude.random.hivpr.smiles-pe.bpe.0.pkl\n",
      "/g/g13/jones289/workspace/hd-cuda-master/hdpy/hdpy/results/4/dude.random.ampc.smiles-pe.bpe.0.pkl\n"
     ]
    },
    {
     "name": "stderr",
     "output_type": "stream",
     "text": [
      " 71%|███████   | 27/38 [00:07<00:02,  5.21it/s]"
     ]
    },
    {
     "name": "stdout",
     "output_type": "stream",
     "text": [
      "/g/g13/jones289/workspace/hd-cuda-master/hdpy/hdpy/results/4/dude.random.hmdh.smiles-pe.bpe.0.pkl\n",
      "/g/g13/jones289/workspace/hd-cuda-master/hdpy/hdpy/results/4/dude.random.pur2.smiles-pe.bpe.0.pkl\n",
      "/g/g13/jones289/workspace/hd-cuda-master/hdpy/hdpy/results/4/dude.random.comt.smiles-pe.bpe.0.pkl\n"
     ]
    },
    {
     "name": "stderr",
     "output_type": "stream",
     "text": [
      "\r",
      " 74%|███████▎  | 28/38 [00:07<00:02,  4.22it/s]"
     ]
    },
    {
     "name": "stdout",
     "output_type": "stream",
     "text": [
      "/g/g13/jones289/workspace/hd-cuda-master/hdpy/hdpy/results/4/dude.random.vgfr2.smiles-pe.bpe.0.pkl\n",
      "/g/g13/jones289/workspace/hd-cuda-master/hdpy/hdpy/results/4/dude.random.hivrt.smiles-pe.bpe.0.pkl\n"
     ]
    },
    {
     "name": "stderr",
     "output_type": "stream",
     "text": [
      "\r",
      " 79%|███████▉  | 30/38 [00:08<00:01,  5.36it/s]"
     ]
    },
    {
     "name": "stdout",
     "output_type": "stream",
     "text": [
      "/g/g13/jones289/workspace/hd-cuda-master/hdpy/hdpy/results/4/dude.random.andr.smiles-pe.bpe.0.pkl\n"
     ]
    },
    {
     "name": "stderr",
     "output_type": "stream",
     "text": [
      "\r",
      " 82%|████████▏ | 31/38 [00:08<00:01,  4.59it/s]"
     ]
    },
    {
     "name": "stdout",
     "output_type": "stream",
     "text": [
      "/g/g13/jones289/workspace/hd-cuda-master/hdpy/hdpy/results/4/dude.random.esr1.smiles-pe.bpe.0.pkl\n"
     ]
    },
    {
     "name": "stderr",
     "output_type": "stream",
     "text": [
      "\r",
      " 84%|████████▍ | 32/38 [00:08<00:01,  4.62it/s]"
     ]
    },
    {
     "name": "stdout",
     "output_type": "stream",
     "text": [
      "/g/g13/jones289/workspace/hd-cuda-master/hdpy/hdpy/results/4/dude.random.pgh1.smiles-pe.bpe.0.pkl\n"
     ]
    },
    {
     "name": "stderr",
     "output_type": "stream",
     "text": [
      "\r",
      " 87%|████████▋ | 33/38 [00:09<00:01,  3.52it/s]"
     ]
    },
    {
     "name": "stdout",
     "output_type": "stream",
     "text": [
      "/g/g13/jones289/workspace/hd-cuda-master/hdpy/hdpy/results/4/dude.random.pde5a.smiles-pe.bpe.0.pkl\n"
     ]
    },
    {
     "name": "stderr",
     "output_type": "stream",
     "text": [
      "\r",
      " 89%|████████▉ | 34/38 [00:09<00:01,  2.55it/s]"
     ]
    },
    {
     "name": "stdout",
     "output_type": "stream",
     "text": [
      "/g/g13/jones289/workspace/hd-cuda-master/hdpy/hdpy/results/4/dude.random.src.smiles-pe.bpe.0.pkl\n"
     ]
    },
    {
     "name": "stderr",
     "output_type": "stream",
     "text": [
      "\r",
      " 92%|█████████▏| 35/38 [00:10<00:01,  2.57it/s]"
     ]
    },
    {
     "name": "stdout",
     "output_type": "stream",
     "text": [
      "/g/g13/jones289/workspace/hd-cuda-master/hdpy/hdpy/results/4/dude.random.pgh2.smiles-pe.bpe.0.pkl\n",
      "/g/g13/jones289/workspace/hd-cuda-master/hdpy/hdpy/results/4/dude.random.mcr.smiles-pe.bpe.0.pkl\n"
     ]
    },
    {
     "name": "stderr",
     "output_type": "stream",
     "text": [
      "100%|██████████| 38/38 [00:10<00:00,  3.62it/s]\n"
     ]
    },
    {
     "name": "stdout",
     "output_type": "stream",
     "text": [
      "/g/g13/jones289/workspace/hd-cuda-master/hdpy/hdpy/results/4/dude.random.gcr.smiles-pe.bpe.0.pkl\n",
      "/g/g13/jones289/workspace/hd-cuda-master/hdpy/hdpy/results/4/dude.random.hs90a.smiles-pe.bpe.0.pkl\n"
     ]
    },
    {
     "name": "stderr",
     "output_type": "stream",
     "text": [
      "  5%|▌         | 2/38 [00:00<00:07,  5.03it/s]"
     ]
    },
    {
     "name": "stdout",
     "output_type": "stream",
     "text": [
      "/g/g13/jones289/workspace/hd-cuda-master/hdpy/hdpy/results/4/dude.random.pgh2.selfies.atomwise.0.pkl\n",
      "/g/g13/jones289/workspace/hd-cuda-master/hdpy/hdpy/results/4/dude.random.hs90a.selfies.atomwise.0.pkl\n"
     ]
    },
    {
     "name": "stderr",
     "output_type": "stream",
     "text": [
      "\r",
      "  8%|▊         | 3/38 [00:00<00:11,  2.92it/s]"
     ]
    },
    {
     "name": "stdout",
     "output_type": "stream",
     "text": [
      "/g/g13/jones289/workspace/hd-cuda-master/hdpy/hdpy/results/4/dude.random.cdk2.selfies.atomwise.0.pkl\n"
     ]
    },
    {
     "name": "stderr",
     "output_type": "stream",
     "text": [
      "\r",
      " 11%|█         | 4/38 [00:01<00:09,  3.45it/s]"
     ]
    },
    {
     "name": "stdout",
     "output_type": "stream",
     "text": [
      "/g/g13/jones289/workspace/hd-cuda-master/hdpy/hdpy/results/4/dude.random.thrb.selfies.atomwise.0.pkl\n",
      "/g/g13/jones289/workspace/hd-cuda-master/hdpy/hdpy/results/4/dude.random.mcr.selfies.atomwise.0.pkl\n"
     ]
    },
    {
     "name": "stderr",
     "output_type": "stream",
     "text": [
      "\r",
      " 16%|█▌        | 6/38 [00:01<00:10,  3.01it/s]"
     ]
    },
    {
     "name": "stdout",
     "output_type": "stream",
     "text": [
      "/g/g13/jones289/workspace/hd-cuda-master/hdpy/hdpy/results/4/dude.random.egfr.selfies.atomwise.0.pkl\n"
     ]
    },
    {
     "name": "stderr",
     "output_type": "stream",
     "text": [
      " 21%|██        | 8/38 [00:02<00:07,  4.01it/s]"
     ]
    },
    {
     "name": "stdout",
     "output_type": "stream",
     "text": [
      "/g/g13/jones289/workspace/hd-cuda-master/hdpy/hdpy/results/4/dude.random.pgh1.selfies.atomwise.0.pkl\n",
      "/g/g13/jones289/workspace/hd-cuda-master/hdpy/hdpy/results/4/dude.random.nram.selfies.atomwise.0.pkl\n"
     ]
    },
    {
     "name": "stderr",
     "output_type": "stream",
     "text": [
      "\r",
      " 24%|██▎       | 9/38 [00:02<00:06,  4.41it/s]"
     ]
    },
    {
     "name": "stdout",
     "output_type": "stream",
     "text": [
      "/g/g13/jones289/workspace/hd-cuda-master/hdpy/hdpy/results/4/dude.random.gcr.selfies.atomwise.0.pkl\n"
     ]
    },
    {
     "name": "stderr",
     "output_type": "stream",
     "text": [
      " 29%|██▉       | 11/38 [00:02<00:05,  4.66it/s]"
     ]
    },
    {
     "name": "stdout",
     "output_type": "stream",
     "text": [
      "/g/g13/jones289/workspace/hd-cuda-master/hdpy/hdpy/results/4/dude.random.esr1.selfies.atomwise.0.pkl\n",
      "/g/g13/jones289/workspace/hd-cuda-master/hdpy/hdpy/results/4/dude.random.sahh.selfies.atomwise.0.pkl\n"
     ]
    },
    {
     "name": "stderr",
     "output_type": "stream",
     "text": [
      "\r",
      " 34%|███▍      | 13/38 [00:03<00:04,  5.79it/s]"
     ]
    },
    {
     "name": "stdout",
     "output_type": "stream",
     "text": [
      "/g/g13/jones289/workspace/hd-cuda-master/hdpy/hdpy/results/4/dude.random.inha.selfies.atomwise.0.pkl\n",
      "/g/g13/jones289/workspace/hd-cuda-master/hdpy/hdpy/results/4/dude.random.aldr.selfies.atomwise.0.pkl\n",
      "/g/g13/jones289/workspace/hd-cuda-master/hdpy/hdpy/results/4/dude.random.pur2.selfies.atomwise.0.pkl\n"
     ]
    },
    {
     "name": "stderr",
     "output_type": "stream",
     "text": [
      " 42%|████▏     | 16/38 [00:03<00:03,  5.70it/s]"
     ]
    },
    {
     "name": "stdout",
     "output_type": "stream",
     "text": [
      "/g/g13/jones289/workspace/hd-cuda-master/hdpy/hdpy/results/4/dude.random.ace.selfies.atomwise.0.pkl\n",
      "/g/g13/jones289/workspace/hd-cuda-master/hdpy/hdpy/results/4/dude.random.andr.selfies.atomwise.0.pkl\n"
     ]
    },
    {
     "name": "stderr",
     "output_type": "stream",
     "text": [
      "\r",
      " 45%|████▍     | 17/38 [00:03<00:03,  5.77it/s]"
     ]
    },
    {
     "name": "stdout",
     "output_type": "stream",
     "text": [
      "/g/g13/jones289/workspace/hd-cuda-master/hdpy/hdpy/results/4/dude.random.pnph.selfies.atomwise.0.pkl\n"
     ]
    },
    {
     "name": "stderr",
     "output_type": "stream",
     "text": [
      "\r",
      " 47%|████▋     | 18/38 [00:04<00:03,  5.44it/s]"
     ]
    },
    {
     "name": "stdout",
     "output_type": "stream",
     "text": [
      "/g/g13/jones289/workspace/hd-cuda-master/hdpy/hdpy/results/4/dude.random.prgr.selfies.atomwise.0.pkl\n",
      "/g/g13/jones289/workspace/hd-cuda-master/hdpy/hdpy/results/4/dude.random.pygm.selfies.atomwise.0.pkl\n"
     ]
    },
    {
     "name": "stderr",
     "output_type": "stream",
     "text": [
      "\r",
      " 53%|█████▎    | 20/38 [00:04<00:03,  4.99it/s]"
     ]
    },
    {
     "name": "stdout",
     "output_type": "stream",
     "text": [
      "/g/g13/jones289/workspace/hd-cuda-master/hdpy/hdpy/results/4/dude.random.vgfr2.selfies.atomwise.0.pkl\n",
      "/g/g13/jones289/workspace/hd-cuda-master/hdpy/hdpy/results/4/dude.random.ampc.selfies.atomwise.0.pkl\n"
     ]
    },
    {
     "name": "stderr",
     "output_type": "stream",
     "text": [
      "\r",
      " 58%|█████▊    | 22/38 [00:04<00:02,  5.87it/s]"
     ]
    },
    {
     "name": "stdout",
     "output_type": "stream",
     "text": [
      "/g/g13/jones289/workspace/hd-cuda-master/hdpy/hdpy/results/4/dude.random.hmdh.selfies.atomwise.0.pkl\n"
     ]
    },
    {
     "name": "stderr",
     "output_type": "stream",
     "text": [
      " 63%|██████▎   | 24/38 [00:05<00:03,  4.43it/s]"
     ]
    },
    {
     "name": "stdout",
     "output_type": "stream",
     "text": [
      "/g/g13/jones289/workspace/hd-cuda-master/hdpy/hdpy/results/4/dude.random.parp1.selfies.atomwise.0.pkl\n",
      "/g/g13/jones289/workspace/hd-cuda-master/hdpy/hdpy/results/4/dude.random.rxra.selfies.atomwise.0.pkl\n"
     ]
    },
    {
     "name": "stderr",
     "output_type": "stream",
     "text": [
      "\r",
      " 66%|██████▌   | 25/38 [00:05<00:03,  3.58it/s]"
     ]
    },
    {
     "name": "stdout",
     "output_type": "stream",
     "text": [
      "/g/g13/jones289/workspace/hd-cuda-master/hdpy/hdpy/results/4/dude.random.pparg.selfies.atomwise.0.pkl\n"
     ]
    },
    {
     "name": "stderr",
     "output_type": "stream",
     "text": [
      "\r",
      " 68%|██████▊   | 26/38 [00:06<00:03,  3.10it/s]"
     ]
    },
    {
     "name": "stdout",
     "output_type": "stream",
     "text": [
      "/g/g13/jones289/workspace/hd-cuda-master/hdpy/hdpy/results/4/dude.random.aces.selfies.atomwise.0.pkl\n",
      "/g/g13/jones289/workspace/hd-cuda-master/hdpy/hdpy/results/4/dude.random.hivrt.selfies.atomwise.0.pkl\n"
     ]
    },
    {
     "name": "stderr",
     "output_type": "stream",
     "text": [
      " 76%|███████▋  | 29/38 [00:06<00:02,  4.31it/s]"
     ]
    },
    {
     "name": "stdout",
     "output_type": "stream",
     "text": [
      "/g/g13/jones289/workspace/hd-cuda-master/hdpy/hdpy/results/4/dude.random.fa10.selfies.atomwise.0.pkl\n",
      "/g/g13/jones289/workspace/hd-cuda-master/hdpy/hdpy/results/4/dude.random.comt.selfies.atomwise.0.pkl\n"
     ]
    },
    {
     "name": "stderr",
     "output_type": "stream",
     "text": [
      " 82%|████████▏ | 31/38 [00:07<00:01,  3.64it/s]"
     ]
    },
    {
     "name": "stdout",
     "output_type": "stream",
     "text": [
      "/g/g13/jones289/workspace/hd-cuda-master/hdpy/hdpy/results/4/dude.random.src.selfies.atomwise.0.pkl\n",
      "/g/g13/jones289/workspace/hd-cuda-master/hdpy/hdpy/results/4/dude.random.ada.selfies.atomwise.0.pkl\n"
     ]
    },
    {
     "name": "stderr",
     "output_type": "stream",
     "text": [
      "\r",
      " 84%|████████▍ | 32/38 [00:07<00:01,  3.59it/s]"
     ]
    },
    {
     "name": "stdout",
     "output_type": "stream",
     "text": [
      "/g/g13/jones289/workspace/hd-cuda-master/hdpy/hdpy/results/4/dude.random.bace1.selfies.atomwise.0.pkl\n",
      "/g/g13/jones289/workspace/hd-cuda-master/hdpy/hdpy/results/4/dude.random.try1.selfies.atomwise.0.pkl\n"
     ]
    },
    {
     "name": "stderr",
     "output_type": "stream",
     "text": [
      " 89%|████████▉ | 34/38 [00:08<00:01,  3.18it/s]"
     ]
    },
    {
     "name": "stdout",
     "output_type": "stream",
     "text": [
      "/g/g13/jones289/workspace/hd-cuda-master/hdpy/hdpy/results/4/dude.random.pde5a.selfies.atomwise.0.pkl\n",
      "/g/g13/jones289/workspace/hd-cuda-master/hdpy/hdpy/results/4/dude.random.kith.selfies.atomwise.0.pkl\n"
     ]
    },
    {
     "name": "stderr",
     "output_type": "stream",
     "text": [
      "\r",
      " 95%|█████████▍| 36/38 [00:08<00:00,  3.90it/s]"
     ]
    },
    {
     "name": "stdout",
     "output_type": "stream",
     "text": [
      "/g/g13/jones289/workspace/hd-cuda-master/hdpy/hdpy/results/4/dude.random.dyr.selfies.atomwise.0.pkl\n"
     ]
    },
    {
     "name": "stderr",
     "output_type": "stream",
     "text": [
      "\r",
      " 97%|█████████▋| 37/38 [00:09<00:00,  2.89it/s]"
     ]
    },
    {
     "name": "stdout",
     "output_type": "stream",
     "text": [
      "/g/g13/jones289/workspace/hd-cuda-master/hdpy/hdpy/results/4/dude.random.mk14.selfies.atomwise.0.pkl\n"
     ]
    },
    {
     "name": "stderr",
     "output_type": "stream",
     "text": [
      "100%|██████████| 38/38 [00:10<00:00,  3.78it/s]\n"
     ]
    },
    {
     "name": "stdout",
     "output_type": "stream",
     "text": [
      "/g/g13/jones289/workspace/hd-cuda-master/hdpy/hdpy/results/4/dude.random.hivpr.selfies.atomwise.0.pkl\n"
     ]
    },
    {
     "name": "stderr",
     "output_type": "stream",
     "text": [
      " 21%|██        | 8/38 [00:00<00:00, 75.81it/s]"
     ]
    },
    {
     "name": "stdout",
     "output_type": "stream",
     "text": [
      "/g/g13/jones289/workspace/hd-cuda-master/hdpy/hdpy/results/4/dude.random.rxra.openhd-ecfp.atomwise.0.pkl\n",
      "/g/g13/jones289/workspace/hd-cuda-master/hdpy/hdpy/results/4/dude.random.bace1.openhd-ecfp.atomwise.0.pkl\n",
      "/g/g13/jones289/workspace/hd-cuda-master/hdpy/hdpy/results/4/dude.random.hmdh.openhd-ecfp.atomwise.0.pkl\n",
      "/g/g13/jones289/workspace/hd-cuda-master/hdpy/hdpy/results/4/dude.random.inha.openhd-ecfp.atomwise.0.pkl\n",
      "/g/g13/jones289/workspace/hd-cuda-master/hdpy/hdpy/results/4/dude.random.comt.openhd-ecfp.atomwise.0.pkl\n",
      "/g/g13/jones289/workspace/hd-cuda-master/hdpy/hdpy/results/4/dude.random.pnph.openhd-ecfp.atomwise.0.pkl\n",
      "/g/g13/jones289/workspace/hd-cuda-master/hdpy/hdpy/results/4/dude.random.dyr.openhd-ecfp.atomwise.0.pkl\n",
      "/g/g13/jones289/workspace/hd-cuda-master/hdpy/hdpy/results/4/dude.random.thrb.openhd-ecfp.atomwise.0.pkl\n",
      "/g/g13/jones289/workspace/hd-cuda-master/hdpy/hdpy/results/4/dude.random.ada.openhd-ecfp.atomwise.0.pkl\n",
      "/g/g13/jones289/workspace/hd-cuda-master/hdpy/hdpy/results/4/dude.random.ace.openhd-ecfp.atomwise.0.pkl\n",
      "/g/g13/jones289/workspace/hd-cuda-master/hdpy/hdpy/results/4/dude.random.pgh1.openhd-ecfp.atomwise.0.pkl\n",
      "/g/g13/jones289/workspace/hd-cuda-master/hdpy/hdpy/results/4/dude.random.parp1.openhd-ecfp.atomwise.0.pkl\n",
      "/g/g13/jones289/workspace/hd-cuda-master/hdpy/hdpy/results/4/dude.random.kith.openhd-ecfp.atomwise.0.pkl\n",
      "/g/g13/jones289/workspace/hd-cuda-master/hdpy/hdpy/results/4/dude.random.aces.openhd-ecfp.atomwise.0.pkl\n",
      "/g/g13/jones289/workspace/hd-cuda-master/hdpy/hdpy/results/4/dude.random.hivrt.openhd-ecfp.atomwise.0.pkl\n"
     ]
    },
    {
     "name": "stderr",
     "output_type": "stream",
     "text": [
      " 61%|██████    | 23/38 [00:00<00:00, 66.61it/s]"
     ]
    },
    {
     "name": "stdout",
     "output_type": "stream",
     "text": [
      "/g/g13/jones289/workspace/hd-cuda-master/hdpy/hdpy/results/4/dude.random.src.openhd-ecfp.atomwise.0.pkl\n",
      "/g/g13/jones289/workspace/hd-cuda-master/hdpy/hdpy/results/4/dude.random.pgh2.openhd-ecfp.atomwise.0.pkl\n",
      "/g/g13/jones289/workspace/hd-cuda-master/hdpy/hdpy/results/4/dude.random.mk14.openhd-ecfp.atomwise.0.pkl\n",
      "/g/g13/jones289/workspace/hd-cuda-master/hdpy/hdpy/results/4/dude.random.nram.openhd-ecfp.atomwise.0.pkl\n",
      "/g/g13/jones289/workspace/hd-cuda-master/hdpy/hdpy/results/4/dude.random.gcr.openhd-ecfp.atomwise.0.pkl\n",
      "/g/g13/jones289/workspace/hd-cuda-master/hdpy/hdpy/results/4/dude.random.fa10.openhd-ecfp.atomwise.0.pkl\n",
      "/g/g13/jones289/workspace/hd-cuda-master/hdpy/hdpy/results/4/dude.random.pur2.openhd-ecfp.atomwise.0.pkl\n",
      "/g/g13/jones289/workspace/hd-cuda-master/hdpy/hdpy/results/4/dude.random.vgfr2.openhd-ecfp.atomwise.0.pkl\n",
      "/g/g13/jones289/workspace/hd-cuda-master/hdpy/hdpy/results/4/dude.random.egfr.openhd-ecfp.atomwise.0.pkl\n",
      "/g/g13/jones289/workspace/hd-cuda-master/hdpy/hdpy/results/4/dude.random.ampc.openhd-ecfp.atomwise.0.pkl\n",
      "/g/g13/jones289/workspace/hd-cuda-master/hdpy/hdpy/results/4/dude.random.pygm.openhd-ecfp.atomwise.0.pkl\n",
      "/g/g13/jones289/workspace/hd-cuda-master/hdpy/hdpy/results/4/dude.random.aldr.openhd-ecfp.atomwise.0.pkl\n"
     ]
    },
    {
     "name": "stderr",
     "output_type": "stream",
     "text": [
      " 97%|█████████▋| 37/38 [00:00<00:00, 65.19it/s]"
     ]
    },
    {
     "name": "stdout",
     "output_type": "stream",
     "text": [
      "/g/g13/jones289/workspace/hd-cuda-master/hdpy/hdpy/results/4/dude.random.prgr.openhd-ecfp.atomwise.0.pkl\n",
      "/g/g13/jones289/workspace/hd-cuda-master/hdpy/hdpy/results/4/dude.random.try1.openhd-ecfp.atomwise.0.pkl\n",
      "/g/g13/jones289/workspace/hd-cuda-master/hdpy/hdpy/results/4/dude.random.esr1.openhd-ecfp.atomwise.0.pkl\n",
      "/g/g13/jones289/workspace/hd-cuda-master/hdpy/hdpy/results/4/dude.random.andr.openhd-ecfp.atomwise.0.pkl\n",
      "/g/g13/jones289/workspace/hd-cuda-master/hdpy/hdpy/results/4/dude.random.mcr.openhd-ecfp.atomwise.0.pkl\n",
      "/g/g13/jones289/workspace/hd-cuda-master/hdpy/hdpy/results/4/dude.random.pparg.openhd-ecfp.atomwise.0.pkl\n",
      "/g/g13/jones289/workspace/hd-cuda-master/hdpy/hdpy/results/4/dude.random.cdk2.openhd-ecfp.atomwise.0.pkl\n",
      "/g/g13/jones289/workspace/hd-cuda-master/hdpy/hdpy/results/4/dude.random.hs90a.openhd-ecfp.atomwise.0.pkl\n",
      "/g/g13/jones289/workspace/hd-cuda-master/hdpy/hdpy/results/4/dude.random.sahh.openhd-ecfp.atomwise.0.pkl\n",
      "/g/g13/jones289/workspace/hd-cuda-master/hdpy/hdpy/results/4/dude.random.pde5a.openhd-ecfp.atomwise.0.pkl\n"
     ]
    },
    {
     "name": "stderr",
     "output_type": "stream",
     "text": [
      "100%|██████████| 38/38 [00:00<00:00, 65.24it/s]\n"
     ]
    },
    {
     "name": "stdout",
     "output_type": "stream",
     "text": [
      "/g/g13/jones289/workspace/hd-cuda-master/hdpy/hdpy/results/4/dude.random.hivpr.openhd-ecfp.atomwise.0.pkl\n"
     ]
    },
    {
     "name": "stderr",
     "output_type": "stream",
     "text": [
      "\r",
      "  0%|          | 0/38 [00:00<?, ?it/s]"
     ]
    },
    {
     "name": "stdout",
     "output_type": "stream",
     "text": [
      "/g/g13/jones289/workspace/hd-cuda-master/hdpy/hdpy/results/4/dude.random.ampc.openhd-rp.atomwise.0.pkl\n",
      "/g/g13/jones289/workspace/hd-cuda-master/hdpy/hdpy/results/4/dude.random.aces.openhd-rp.atomwise.0.pkl\n",
      "/g/g13/jones289/workspace/hd-cuda-master/hdpy/hdpy/results/4/dude.random.aldr.openhd-rp.atomwise.0.pkl\n"
     ]
    },
    {
     "name": "stderr",
     "output_type": "stream",
     "text": [
      "\r",
      " 21%|██        | 8/38 [00:00<00:00, 78.33it/s]"
     ]
    },
    {
     "name": "stdout",
     "output_type": "stream",
     "text": [
      "/g/g13/jones289/workspace/hd-cuda-master/hdpy/hdpy/results/4/dude.random.kith.openhd-rp.atomwise.0.pkl\n",
      "/g/g13/jones289/workspace/hd-cuda-master/hdpy/hdpy/results/4/dude.random.comt.openhd-rp.atomwise.0.pkl\n",
      "/g/g13/jones289/workspace/hd-cuda-master/hdpy/hdpy/results/4/dude.random.ace.openhd-rp.atomwise.0.pkl\n",
      "/g/g13/jones289/workspace/hd-cuda-master/hdpy/hdpy/results/4/dude.random.sahh.openhd-rp.atomwise.0.pkl\n",
      "/g/g13/jones289/workspace/hd-cuda-master/hdpy/hdpy/results/4/dude.random.mcr.openhd-rp.atomwise.0.pkl\n",
      "/g/g13/jones289/workspace/hd-cuda-master/hdpy/hdpy/results/4/dude.random.pparg.openhd-rp.atomwise.0.pkl\n",
      "/g/g13/jones289/workspace/hd-cuda-master/hdpy/hdpy/results/4/dude.random.hivrt.openhd-rp.atomwise.0.pkl\n",
      "/g/g13/jones289/workspace/hd-cuda-master/hdpy/hdpy/results/4/dude.random.dyr.openhd-rp.atomwise.0.pkl\n",
      "/g/g13/jones289/workspace/hd-cuda-master/hdpy/hdpy/results/4/dude.random.mk14.openhd-rp.atomwise.0.pkl\n",
      "/g/g13/jones289/workspace/hd-cuda-master/hdpy/hdpy/results/4/dude.random.hmdh.openhd-rp.atomwise.0.pkl\n"
     ]
    },
    {
     "name": "stderr",
     "output_type": "stream",
     "text": [
      "\r",
      " 42%|████▏     | 16/38 [00:00<00:00, 63.50it/s]"
     ]
    },
    {
     "name": "stdout",
     "output_type": "stream",
     "text": [
      "/g/g13/jones289/workspace/hd-cuda-master/hdpy/hdpy/results/4/dude.random.gcr.openhd-rp.atomwise.0.pkl\n",
      "/g/g13/jones289/workspace/hd-cuda-master/hdpy/hdpy/results/4/dude.random.andr.openhd-rp.atomwise.0.pkl\n",
      "/g/g13/jones289/workspace/hd-cuda-master/hdpy/hdpy/results/4/dude.random.vgfr2.openhd-rp.atomwise.0.pkl\n"
     ]
    },
    {
     "name": "stderr",
     "output_type": "stream",
     "text": [
      "\r",
      " 61%|██████    | 23/38 [00:00<00:00, 62.02it/s]"
     ]
    },
    {
     "name": "stdout",
     "output_type": "stream",
     "text": [
      "/g/g13/jones289/workspace/hd-cuda-master/hdpy/hdpy/results/4/dude.random.cdk2.openhd-rp.atomwise.0.pkl\n",
      "/g/g13/jones289/workspace/hd-cuda-master/hdpy/hdpy/results/4/dude.random.prgr.openhd-rp.atomwise.0.pkl\n",
      "/g/g13/jones289/workspace/hd-cuda-master/hdpy/hdpy/results/4/dude.random.thrb.openhd-rp.atomwise.0.pkl\n",
      "/g/g13/jones289/workspace/hd-cuda-master/hdpy/hdpy/results/4/dude.random.ada.openhd-rp.atomwise.0.pkl\n",
      "/g/g13/jones289/workspace/hd-cuda-master/hdpy/hdpy/results/4/dude.random.hivpr.openhd-rp.atomwise.0.pkl\n",
      "/g/g13/jones289/workspace/hd-cuda-master/hdpy/hdpy/results/4/dude.random.src.openhd-rp.atomwise.0.pkl\n",
      "/g/g13/jones289/workspace/hd-cuda-master/hdpy/hdpy/results/4/dude.random.rxra.openhd-rp.atomwise.0.pkl\n",
      "/g/g13/jones289/workspace/hd-cuda-master/hdpy/hdpy/results/4/dude.random.hs90a.openhd-rp.atomwise.0.pkl\n",
      "/g/g13/jones289/workspace/hd-cuda-master/hdpy/hdpy/results/4/dude.random.pygm.openhd-rp.atomwise.0.pkl\n",
      "/g/g13/jones289/workspace/hd-cuda-master/hdpy/hdpy/results/4/dude.random.pur2.openhd-rp.atomwise.0.pkl\n",
      "/g/g13/jones289/workspace/hd-cuda-master/hdpy/hdpy/results/4/dude.random.bace1.openhd-rp.atomwise.0.pkl\n",
      "/g/g13/jones289/workspace/hd-cuda-master/hdpy/hdpy/results/4/dude.random.pnph.openhd-rp.atomwise.0.pkl\n",
      "/g/g13/jones289/workspace/hd-cuda-master/hdpy/hdpy/results/4/dude.random.try1.openhd-rp.atomwise.0.pkl\n",
      "/g/g13/jones289/workspace/hd-cuda-master/hdpy/hdpy/results/4/dude.random.pgh1.openhd-rp.atomwise.0.pkl\n"
     ]
    },
    {
     "name": "stderr",
     "output_type": "stream",
     "text": [
      "\r",
      " 82%|████████▏ | 31/38 [00:00<00:00, 66.43it/s]"
     ]
    },
    {
     "name": "stdout",
     "output_type": "stream",
     "text": [
      "/g/g13/jones289/workspace/hd-cuda-master/hdpy/hdpy/results/4/dude.random.fa10.openhd-rp.atomwise.0.pkl\n",
      "/g/g13/jones289/workspace/hd-cuda-master/hdpy/hdpy/results/4/dude.random.pgh2.openhd-rp.atomwise.0.pkl\n",
      "/g/g13/jones289/workspace/hd-cuda-master/hdpy/hdpy/results/4/dude.random.egfr.openhd-rp.atomwise.0.pkl\n",
      "/g/g13/jones289/workspace/hd-cuda-master/hdpy/hdpy/results/4/dude.random.nram.openhd-rp.atomwise.0.pkl\n",
      "/g/g13/jones289/workspace/hd-cuda-master/hdpy/hdpy/results/4/dude.random.pde5a.openhd-rp.atomwise.0.pkl\n",
      "/g/g13/jones289/workspace/hd-cuda-master/hdpy/hdpy/results/4/dude.random.esr1.openhd-rp.atomwise.0.pkl\n",
      "/g/g13/jones289/workspace/hd-cuda-master/hdpy/hdpy/results/4/dude.random.parp1.openhd-rp.atomwise.0.pkl\n",
      "/g/g13/jones289/workspace/hd-cuda-master/hdpy/hdpy/results/4/dude.random.inha.openhd-rp.atomwise.0.pkl\n"
     ]
    },
    {
     "name": "stderr",
     "output_type": "stream",
     "text": [
      "100%|██████████| 38/38 [00:00<00:00, 62.26it/s]\n",
      "  3%|▎         | 1/38 [00:00<00:04,  8.02it/s]"
     ]
    },
    {
     "name": "stdout",
     "output_type": "stream",
     "text": [
      "/g/g13/jones289/workspace/hd-cuda-master/hdpy/hdpy/results/4/dude.random.comt.ecfp.atomwise.0.pkl\n",
      "/g/g13/jones289/workspace/hd-cuda-master/hdpy/hdpy/results/4/dude.random.pur2.ecfp.atomwise.0.pkl\n"
     ]
    },
    {
     "name": "stderr",
     "output_type": "stream",
     "text": [
      " 11%|█         | 4/38 [00:00<00:05,  6.66it/s]"
     ]
    },
    {
     "name": "stdout",
     "output_type": "stream",
     "text": [
      "/g/g13/jones289/workspace/hd-cuda-master/hdpy/hdpy/results/4/dude.random.pgh1.ecfp.atomwise.0.pkl\n",
      "/g/g13/jones289/workspace/hd-cuda-master/hdpy/hdpy/results/4/dude.random.andr.ecfp.atomwise.0.pkl\n"
     ]
    },
    {
     "name": "stderr",
     "output_type": "stream",
     "text": [
      "\r",
      " 13%|█▎        | 5/38 [00:00<00:07,  4.60it/s]"
     ]
    },
    {
     "name": "stdout",
     "output_type": "stream",
     "text": [
      "/g/g13/jones289/workspace/hd-cuda-master/hdpy/hdpy/results/4/dude.random.esr1.ecfp.atomwise.0.pkl\n",
      "/g/g13/jones289/workspace/hd-cuda-master/hdpy/hdpy/results/4/dude.random.hivrt.ecfp.atomwise.0.pkl\n"
     ]
    },
    {
     "name": "stderr",
     "output_type": "stream",
     "text": [
      "\r",
      " 18%|█▊        | 7/38 [00:01<00:06,  4.67it/s]"
     ]
    },
    {
     "name": "stdout",
     "output_type": "stream",
     "text": [
      "/g/g13/jones289/workspace/hd-cuda-master/hdpy/hdpy/results/4/dude.random.vgfr2.ecfp.atomwise.0.pkl\n"
     ]
    },
    {
     "name": "stderr",
     "output_type": "stream",
     "text": [
      "\r",
      " 21%|██        | 8/38 [00:01<00:07,  3.98it/s]"
     ]
    },
    {
     "name": "stdout",
     "output_type": "stream",
     "text": [
      "/g/g13/jones289/workspace/hd-cuda-master/hdpy/hdpy/results/4/dude.random.bace1.ecfp.atomwise.0.pkl\n",
      "/g/g13/jones289/workspace/hd-cuda-master/hdpy/hdpy/results/4/dude.random.hmdh.ecfp.atomwise.0.pkl\n"
     ]
    },
    {
     "name": "stderr",
     "output_type": "stream",
     "text": [
      " 26%|██▋       | 10/38 [00:02<00:09,  2.98it/s]"
     ]
    },
    {
     "name": "stdout",
     "output_type": "stream",
     "text": [
      "/g/g13/jones289/workspace/hd-cuda-master/hdpy/hdpy/results/4/dude.random.hivpr.ecfp.atomwise.0.pkl\n",
      "/g/g13/jones289/workspace/hd-cuda-master/hdpy/hdpy/results/4/dude.random.ampc.ecfp.atomwise.0.pkl\n"
     ]
    },
    {
     "name": "stderr",
     "output_type": "stream",
     "text": [
      "\r",
      " 32%|███▏      | 12/38 [00:02<00:07,  3.52it/s]"
     ]
    },
    {
     "name": "stdout",
     "output_type": "stream",
     "text": [
      "/g/g13/jones289/workspace/hd-cuda-master/hdpy/hdpy/results/4/dude.random.pgh2.ecfp.atomwise.0.pkl\n",
      "/g/g13/jones289/workspace/hd-cuda-master/hdpy/hdpy/results/4/dude.random.mcr.ecfp.atomwise.0.pkl\n"
     ]
    },
    {
     "name": "stderr",
     "output_type": "stream",
     "text": [
      "\r",
      " 37%|███▋      | 14/38 [00:03<00:05,  4.58it/s]"
     ]
    },
    {
     "name": "stdout",
     "output_type": "stream",
     "text": [
      "/g/g13/jones289/workspace/hd-cuda-master/hdpy/hdpy/results/4/dude.random.hs90a.ecfp.atomwise.0.pkl\n",
      "/g/g13/jones289/workspace/hd-cuda-master/hdpy/hdpy/results/4/dude.random.gcr.ecfp.atomwise.0.pkl\n"
     ]
    },
    {
     "name": "stderr",
     "output_type": "stream",
     "text": [
      " 42%|████▏     | 16/38 [00:03<00:05,  3.67it/s]"
     ]
    },
    {
     "name": "stdout",
     "output_type": "stream",
     "text": [
      "/g/g13/jones289/workspace/hd-cuda-master/hdpy/hdpy/results/4/dude.random.pde5a.ecfp.atomwise.0.pkl\n"
     ]
    },
    {
     "name": "stderr",
     "output_type": "stream",
     "text": [
      "\r",
      " 45%|████▍     | 17/38 [00:04<00:07,  2.80it/s]"
     ]
    },
    {
     "name": "stdout",
     "output_type": "stream",
     "text": [
      "/g/g13/jones289/workspace/hd-cuda-master/hdpy/hdpy/results/4/dude.random.src.ecfp.atomwise.0.pkl\n"
     ]
    },
    {
     "name": "stderr",
     "output_type": "stream",
     "text": [
      "\r",
      " 47%|████▋     | 18/38 [00:04<00:06,  2.87it/s]"
     ]
    },
    {
     "name": "stdout",
     "output_type": "stream",
     "text": [
      "/g/g13/jones289/workspace/hd-cuda-master/hdpy/hdpy/results/4/dude.random.ace.ecfp.atomwise.0.pkl\n"
     ]
    },
    {
     "name": "stderr",
     "output_type": "stream",
     "text": [
      "\r",
      " 50%|█████     | 19/38 [00:05<00:07,  2.53it/s]"
     ]
    },
    {
     "name": "stdout",
     "output_type": "stream",
     "text": [
      "/g/g13/jones289/workspace/hd-cuda-master/hdpy/hdpy/results/4/dude.random.cdk2.ecfp.atomwise.0.pkl\n",
      "/g/g13/jones289/workspace/hd-cuda-master/hdpy/hdpy/results/4/dude.random.thrb.ecfp.atomwise.0.pkl\n"
     ]
    },
    {
     "name": "stderr",
     "output_type": "stream",
     "text": [
      " 55%|█████▌    | 21/38 [00:05<00:05,  2.99it/s]"
     ]
    },
    {
     "name": "stdout",
     "output_type": "stream",
     "text": [
      "/g/g13/jones289/workspace/hd-cuda-master/hdpy/hdpy/results/4/dude.random.fa10.ecfp.atomwise.0.pkl\n"
     ]
    },
    {
     "name": "stderr",
     "output_type": "stream",
     "text": [
      " 61%|██████    | 23/38 [00:06<00:03,  3.77it/s]"
     ]
    },
    {
     "name": "stdout",
     "output_type": "stream",
     "text": [
      "/g/g13/jones289/workspace/hd-cuda-master/hdpy/hdpy/results/4/dude.random.aldr.ecfp.atomwise.0.pkl\n",
      "/g/g13/jones289/workspace/hd-cuda-master/hdpy/hdpy/results/4/dude.random.ada.ecfp.atomwise.0.pkl\n"
     ]
    },
    {
     "name": "stderr",
     "output_type": "stream",
     "text": [
      "\r",
      " 66%|██████▌   | 25/38 [00:06<00:02,  5.06it/s]"
     ]
    },
    {
     "name": "stdout",
     "output_type": "stream",
     "text": [
      "/g/g13/jones289/workspace/hd-cuda-master/hdpy/hdpy/results/4/dude.random.inha.ecfp.atomwise.0.pkl\n",
      "/g/g13/jones289/workspace/hd-cuda-master/hdpy/hdpy/results/4/dude.random.pnph.ecfp.atomwise.0.pkl\n"
     ]
    },
    {
     "name": "stderr",
     "output_type": "stream",
     "text": [
      "\r",
      " 68%|██████▊   | 26/38 [00:06<00:03,  3.50it/s]"
     ]
    },
    {
     "name": "stdout",
     "output_type": "stream",
     "text": [
      "/g/g13/jones289/workspace/hd-cuda-master/hdpy/hdpy/results/4/dude.random.parp1.ecfp.atomwise.0.pkl\n"
     ]
    },
    {
     "name": "stderr",
     "output_type": "stream",
     "text": [
      "\r",
      " 71%|███████   | 27/38 [00:07<00:03,  3.03it/s]"
     ]
    },
    {
     "name": "stdout",
     "output_type": "stream",
     "text": [
      "/g/g13/jones289/workspace/hd-cuda-master/hdpy/hdpy/results/4/dude.random.aces.ecfp.atomwise.0.pkl\n"
     ]
    },
    {
     "name": "stderr",
     "output_type": "stream",
     "text": [
      "\r",
      " 74%|███████▎  | 28/38 [00:08<00:04,  2.42it/s]"
     ]
    },
    {
     "name": "stdout",
     "output_type": "stream",
     "text": [
      "/g/g13/jones289/workspace/hd-cuda-master/hdpy/hdpy/results/4/dude.random.egfr.ecfp.atomwise.0.pkl\n",
      "/g/g13/jones289/workspace/hd-cuda-master/hdpy/hdpy/results/4/dude.random.sahh.ecfp.atomwise.0.pkl\n"
     ]
    },
    {
     "name": "stderr",
     "output_type": "stream",
     "text": [
      "\r",
      " 79%|███████▉  | 30/38 [00:08<00:03,  2.60it/s]"
     ]
    },
    {
     "name": "stdout",
     "output_type": "stream",
     "text": [
      "/g/g13/jones289/workspace/hd-cuda-master/hdpy/hdpy/results/4/dude.random.mk14.ecfp.atomwise.0.pkl\n",
      "/g/g13/jones289/workspace/hd-cuda-master/hdpy/hdpy/results/4/dude.random.nram.ecfp.atomwise.0.pkl\n"
     ]
    },
    {
     "name": "stderr",
     "output_type": "stream",
     "text": [
      " 84%|████████▍ | 32/38 [00:09<00:01,  3.30it/s]"
     ]
    },
    {
     "name": "stdout",
     "output_type": "stream",
     "text": [
      "/g/g13/jones289/workspace/hd-cuda-master/hdpy/hdpy/results/4/dude.random.prgr.ecfp.atomwise.0.pkl\n",
      "/g/g13/jones289/workspace/hd-cuda-master/hdpy/hdpy/results/4/dude.random.kith.ecfp.atomwise.0.pkl\n"
     ]
    },
    {
     "name": "stderr",
     "output_type": "stream",
     "text": [
      "\r",
      " 89%|████████▉ | 34/38 [00:09<00:01,  3.47it/s]"
     ]
    },
    {
     "name": "stdout",
     "output_type": "stream",
     "text": [
      "/g/g13/jones289/workspace/hd-cuda-master/hdpy/hdpy/results/4/dude.random.pparg.ecfp.atomwise.0.pkl\n"
     ]
    },
    {
     "name": "stderr",
     "output_type": "stream",
     "text": [
      "\r",
      " 92%|█████████▏| 35/38 [00:09<00:00,  3.41it/s]"
     ]
    },
    {
     "name": "stdout",
     "output_type": "stream",
     "text": [
      "/g/g13/jones289/workspace/hd-cuda-master/hdpy/hdpy/results/4/dude.random.dyr.ecfp.atomwise.0.pkl\n",
      "/g/g13/jones289/workspace/hd-cuda-master/hdpy/hdpy/results/4/dude.random.pygm.ecfp.atomwise.0.pkl\n"
     ]
    },
    {
     "name": "stderr",
     "output_type": "stream",
     "text": [
      "100%|██████████| 38/38 [00:10<00:00,  3.65it/s]\n"
     ]
    },
    {
     "name": "stdout",
     "output_type": "stream",
     "text": [
      "/g/g13/jones289/workspace/hd-cuda-master/hdpy/hdpy/results/4/dude.random.try1.ecfp.atomwise.0.pkl\n",
      "/g/g13/jones289/workspace/hd-cuda-master/hdpy/hdpy/results/4/dude.random.rxra.ecfp.atomwise.0.pkl\n"
     ]
    },
    {
     "name": "stderr",
     "output_type": "stream",
     "text": [
      "  3%|▎         | 1/38 [00:00<00:03,  9.34it/s]"
     ]
    },
    {
     "name": "stdout",
     "output_type": "stream",
     "text": [
      "/g/g13/jones289/workspace/hd-cuda-master/hdpy/hdpy/results/4/dude.random.pygm.rp.atomwise.0.pkl\n"
     ]
    },
    {
     "name": "stderr",
     "output_type": "stream",
     "text": [
      "\r",
      "  5%|▌         | 2/38 [00:00<00:08,  4.15it/s]"
     ]
    },
    {
     "name": "stdout",
     "output_type": "stream",
     "text": [
      "/g/g13/jones289/workspace/hd-cuda-master/hdpy/hdpy/results/4/dude.random.ace.rp.atomwise.0.pkl\n",
      "/g/g13/jones289/workspace/hd-cuda-master/hdpy/hdpy/results/4/dude.random.kith.rp.atomwise.0.pkl\n"
     ]
    },
    {
     "name": "stderr",
     "output_type": "stream",
     "text": [
      "\r",
      " 11%|█         | 4/38 [00:01<00:09,  3.76it/s]"
     ]
    },
    {
     "name": "stdout",
     "output_type": "stream",
     "text": [
      "/g/g13/jones289/workspace/hd-cuda-master/hdpy/hdpy/results/4/dude.random.pde5a.rp.atomwise.0.pkl\n",
      "/g/g13/jones289/workspace/hd-cuda-master/hdpy/hdpy/results/4/dude.random.pur2.rp.atomwise.0.pkl\n"
     ]
    },
    {
     "name": "stderr",
     "output_type": "stream",
     "text": [
      "\r",
      " 16%|█▌        | 6/38 [00:01<00:09,  3.32it/s]"
     ]
    },
    {
     "name": "stdout",
     "output_type": "stream",
     "text": [
      "/g/g13/jones289/workspace/hd-cuda-master/hdpy/hdpy/results/4/dude.random.hivpr.rp.atomwise.0.pkl\n"
     ]
    },
    {
     "name": "stderr",
     "output_type": "stream",
     "text": [
      "\r",
      " 18%|█▊        | 7/38 [00:02<00:10,  2.90it/s]"
     ]
    },
    {
     "name": "stdout",
     "output_type": "stream",
     "text": [
      "/g/g13/jones289/workspace/hd-cuda-master/hdpy/hdpy/results/4/dude.random.hmdh.rp.atomwise.0.pkl\n"
     ]
    },
    {
     "name": "stderr",
     "output_type": "stream",
     "text": [
      "\r",
      " 21%|██        | 8/38 [00:03<00:16,  1.84it/s]"
     ]
    },
    {
     "name": "stdout",
     "output_type": "stream",
     "text": [
      "/g/g13/jones289/workspace/hd-cuda-master/hdpy/hdpy/results/4/dude.random.mk14.rp.atomwise.0.pkl\n"
     ]
    },
    {
     "name": "stderr",
     "output_type": "stream",
     "text": [
      "\r",
      " 24%|██▎       | 9/38 [00:03<00:15,  1.82it/s]"
     ]
    },
    {
     "name": "stdout",
     "output_type": "stream",
     "text": [
      "/g/g13/jones289/workspace/hd-cuda-master/hdpy/hdpy/results/4/dude.random.src.rp.atomwise.0.pkl\n"
     ]
    },
    {
     "name": "stderr",
     "output_type": "stream",
     "text": [
      "\r",
      " 26%|██▋       | 10/38 [00:04<00:12,  2.23it/s]"
     ]
    },
    {
     "name": "stdout",
     "output_type": "stream",
     "text": [
      "/g/g13/jones289/workspace/hd-cuda-master/hdpy/hdpy/results/4/dude.random.try1.rp.atomwise.0.pkl\n"
     ]
    },
    {
     "name": "stderr",
     "output_type": "stream",
     "text": [
      "\r",
      " 29%|██▉       | 11/38 [00:04<00:12,  2.15it/s]"
     ]
    },
    {
     "name": "stdout",
     "output_type": "stream",
     "text": [
      "/g/g13/jones289/workspace/hd-cuda-master/hdpy/hdpy/results/4/dude.random.cdk2.rp.atomwise.0.pkl\n"
     ]
    },
    {
     "name": "stderr",
     "output_type": "stream",
     "text": [
      "\r",
      " 32%|███▏      | 12/38 [00:04<00:11,  2.29it/s]"
     ]
    },
    {
     "name": "stdout",
     "output_type": "stream",
     "text": [
      "/g/g13/jones289/workspace/hd-cuda-master/hdpy/hdpy/results/4/dude.random.pgh2.rp.atomwise.0.pkl\n"
     ]
    },
    {
     "name": "stderr",
     "output_type": "stream",
     "text": [
      "\r",
      " 34%|███▍      | 13/38 [00:05<00:10,  2.49it/s]"
     ]
    },
    {
     "name": "stdout",
     "output_type": "stream",
     "text": [
      "/g/g13/jones289/workspace/hd-cuda-master/hdpy/hdpy/results/4/dude.random.bace1.rp.atomwise.0.pkl\n",
      "/g/g13/jones289/workspace/hd-cuda-master/hdpy/hdpy/results/4/dude.random.hivrt.rp.atomwise.0.pkl\n",
      "/g/g13/jones289/workspace/hd-cuda-master/hdpy/hdpy/results/4/dude.random.hs90a.rp.atomwise.0.pkl\n"
     ]
    },
    {
     "name": "stderr",
     "output_type": "stream",
     "text": [
      " 42%|████▏     | 16/38 [00:06<00:07,  2.81it/s]"
     ]
    },
    {
     "name": "stdout",
     "output_type": "stream",
     "text": [
      "/g/g13/jones289/workspace/hd-cuda-master/hdpy/hdpy/results/4/dude.random.egfr.rp.atomwise.0.pkl\n"
     ]
    },
    {
     "name": "stderr",
     "output_type": "stream",
     "text": [
      "\r",
      " 45%|████▍     | 17/38 [00:06<00:06,  3.20it/s]"
     ]
    },
    {
     "name": "stdout",
     "output_type": "stream",
     "text": [
      "/g/g13/jones289/workspace/hd-cuda-master/hdpy/hdpy/results/4/dude.random.aldr.rp.atomwise.0.pkl\n"
     ]
    },
    {
     "name": "stderr",
     "output_type": "stream",
     "text": [
      "\r",
      " 47%|████▋     | 18/38 [00:06<00:05,  3.45it/s]"
     ]
    },
    {
     "name": "stdout",
     "output_type": "stream",
     "text": [
      "/g/g13/jones289/workspace/hd-cuda-master/hdpy/hdpy/results/4/dude.random.prgr.rp.atomwise.0.pkl\n"
     ]
    },
    {
     "name": "stderr",
     "output_type": "stream",
     "text": [
      " 53%|█████▎    | 20/38 [00:07<00:04,  3.68it/s]"
     ]
    },
    {
     "name": "stdout",
     "output_type": "stream",
     "text": [
      "/g/g13/jones289/workspace/hd-cuda-master/hdpy/hdpy/results/4/dude.random.aces.rp.atomwise.0.pkl\n",
      "/g/g13/jones289/workspace/hd-cuda-master/hdpy/hdpy/results/4/dude.random.ada.rp.atomwise.0.pkl\n"
     ]
    },
    {
     "name": "stderr",
     "output_type": "stream",
     "text": [
      "\r",
      " 55%|█████▌    | 21/38 [00:07<00:04,  3.86it/s]"
     ]
    },
    {
     "name": "stdout",
     "output_type": "stream",
     "text": [
      "/g/g13/jones289/workspace/hd-cuda-master/hdpy/hdpy/results/4/dude.random.pgh1.rp.atomwise.0.pkl\n",
      "/g/g13/jones289/workspace/hd-cuda-master/hdpy/hdpy/results/4/dude.random.ampc.rp.atomwise.0.pkl\n"
     ]
    },
    {
     "name": "stderr",
     "output_type": "stream",
     "text": [
      " 63%|██████▎   | 24/38 [00:07<00:02,  5.32it/s]"
     ]
    },
    {
     "name": "stdout",
     "output_type": "stream",
     "text": [
      "/g/g13/jones289/workspace/hd-cuda-master/hdpy/hdpy/results/4/dude.random.andr.rp.atomwise.0.pkl\n",
      "/g/g13/jones289/workspace/hd-cuda-master/hdpy/hdpy/results/4/dude.random.rxra.rp.atomwise.0.pkl\n"
     ]
    },
    {
     "name": "stderr",
     "output_type": "stream",
     "text": [
      "\r",
      " 68%|██████▊   | 26/38 [00:07<00:01,  6.99it/s]"
     ]
    },
    {
     "name": "stdout",
     "output_type": "stream",
     "text": [
      "/g/g13/jones289/workspace/hd-cuda-master/hdpy/hdpy/results/4/dude.random.mcr.rp.atomwise.0.pkl\n",
      "/g/g13/jones289/workspace/hd-cuda-master/hdpy/hdpy/results/4/dude.random.inha.rp.atomwise.0.pkl\n"
     ]
    },
    {
     "name": "stderr",
     "output_type": "stream",
     "text": [
      "\r",
      " 71%|███████   | 27/38 [00:07<00:01,  6.50it/s]"
     ]
    },
    {
     "name": "stdout",
     "output_type": "stream",
     "text": [
      "/g/g13/jones289/workspace/hd-cuda-master/hdpy/hdpy/results/4/dude.random.thrb.rp.atomwise.0.pkl\n"
     ]
    },
    {
     "name": "stderr",
     "output_type": "stream",
     "text": [
      "\r",
      " 74%|███████▎  | 28/38 [00:08<00:02,  4.95it/s]"
     ]
    },
    {
     "name": "stdout",
     "output_type": "stream",
     "text": [
      "/g/g13/jones289/workspace/hd-cuda-master/hdpy/hdpy/results/4/dude.random.fa10.rp.atomwise.0.pkl\n"
     ]
    },
    {
     "name": "stderr",
     "output_type": "stream",
     "text": [
      "\r",
      " 76%|███████▋  | 29/38 [00:08<00:02,  4.25it/s]"
     ]
    },
    {
     "name": "stdout",
     "output_type": "stream",
     "text": [
      "/g/g13/jones289/workspace/hd-cuda-master/hdpy/hdpy/results/4/dude.random.esr1.rp.atomwise.0.pkl\n",
      "/g/g13/jones289/workspace/hd-cuda-master/hdpy/hdpy/results/4/dude.random.pnph.rp.atomwise.0.pkl\n"
     ]
    },
    {
     "name": "stderr",
     "output_type": "stream",
     "text": [
      " 82%|████████▏ | 31/38 [00:09<00:01,  3.52it/s]"
     ]
    },
    {
     "name": "stdout",
     "output_type": "stream",
     "text": [
      "/g/g13/jones289/workspace/hd-cuda-master/hdpy/hdpy/results/4/dude.random.pparg.rp.atomwise.0.pkl\n"
     ]
    },
    {
     "name": "stderr",
     "output_type": "stream",
     "text": [
      "\r",
      " 84%|████████▍ | 32/38 [00:09<00:01,  3.46it/s]"
     ]
    },
    {
     "name": "stdout",
     "output_type": "stream",
     "text": [
      "/g/g13/jones289/workspace/hd-cuda-master/hdpy/hdpy/results/4/dude.random.dyr.rp.atomwise.0.pkl\n"
     ]
    },
    {
     "name": "stderr",
     "output_type": "stream",
     "text": [
      "\r",
      " 87%|████████▋ | 33/38 [00:10<00:01,  2.78it/s]"
     ]
    },
    {
     "name": "stdout",
     "output_type": "stream",
     "text": [
      "/g/g13/jones289/workspace/hd-cuda-master/hdpy/hdpy/results/4/dude.random.parp1.rp.atomwise.0.pkl\n"
     ]
    },
    {
     "name": "stderr",
     "output_type": "stream",
     "text": [
      "\r",
      " 89%|████████▉ | 34/38 [00:10<00:01,  3.19it/s]"
     ]
    },
    {
     "name": "stdout",
     "output_type": "stream",
     "text": [
      "/g/g13/jones289/workspace/hd-cuda-master/hdpy/hdpy/results/4/dude.random.gcr.rp.atomwise.0.pkl\n"
     ]
    },
    {
     "name": "stderr",
     "output_type": "stream",
     "text": [
      "\r",
      " 92%|█████████▏| 35/38 [00:10<00:01,  2.91it/s]"
     ]
    },
    {
     "name": "stdout",
     "output_type": "stream",
     "text": [
      "/g/g13/jones289/workspace/hd-cuda-master/hdpy/hdpy/results/4/dude.random.vgfr2.rp.atomwise.0.pkl\n",
      "/g/g13/jones289/workspace/hd-cuda-master/hdpy/hdpy/results/4/dude.random.sahh.rp.atomwise.0.pkl\n"
     ]
    },
    {
     "name": "stderr",
     "output_type": "stream",
     "text": [
      "100%|██████████| 38/38 [00:11<00:00,  3.43it/s]\n"
     ]
    },
    {
     "name": "stdout",
     "output_type": "stream",
     "text": [
      "/g/g13/jones289/workspace/hd-cuda-master/hdpy/hdpy/results/4/dude.random.comt.rp.atomwise.0.pkl\n",
      "/g/g13/jones289/workspace/hd-cuda-master/hdpy/hdpy/results/4/dude.random.nram.rp.atomwise.0.pkl\n"
     ]
    },
    {
     "name": "stderr",
     "output_type": "stream",
     "text": [
      "\r",
      "  0%|          | 0/38 [00:00<?, ?it/s]"
     ]
    },
    {
     "name": "stdout",
     "output_type": "stream",
     "text": [
      "/g/g13/jones289/workspace/hd-cuda-master/hdpy/hdpy/results/4/dude.random.inha.rf.None.0.pkl\n"
     ]
    },
    {
     "name": "stderr",
     "output_type": "stream",
     "text": [
      "\r",
      "  5%|▌         | 2/38 [00:00<00:04,  8.77it/s]"
     ]
    },
    {
     "name": "stdout",
     "output_type": "stream",
     "text": [
      "/g/g13/jones289/workspace/hd-cuda-master/hdpy/hdpy/results/4/dude.random.vgfr2.rf.None.0.pkl\n"
     ]
    },
    {
     "name": "stderr",
     "output_type": "stream",
     "text": [
      "\r",
      "  8%|▊         | 3/38 [00:00<00:03,  8.82it/s]"
     ]
    },
    {
     "name": "stdout",
     "output_type": "stream",
     "text": [
      "/g/g13/jones289/workspace/hd-cuda-master/hdpy/hdpy/results/4/dude.random.try1.rf.None.0.pkl\n"
     ]
    },
    {
     "name": "stderr",
     "output_type": "stream",
     "text": [
      "\r",
      " 11%|█         | 4/38 [00:00<00:04,  8.19it/s]"
     ]
    },
    {
     "name": "stdout",
     "output_type": "stream",
     "text": [
      "/g/g13/jones289/workspace/hd-cuda-master/hdpy/hdpy/results/4/dude.random.gcr.rf.None.0.pkl\n",
      "/g/g13/jones289/workspace/hd-cuda-master/hdpy/hdpy/results/4/dude.random.kith.rf.None.0.pkl\n"
     ]
    },
    {
     "name": "stderr",
     "output_type": "stream",
     "text": [
      "\r",
      " 16%|█▌        | 6/38 [00:00<00:03, 10.32it/s]"
     ]
    },
    {
     "name": "stdout",
     "output_type": "stream",
     "text": [
      "/g/g13/jones289/workspace/hd-cuda-master/hdpy/hdpy/results/4/dude.random.pnph.rf.None.0.pkl\n",
      "/g/g13/jones289/workspace/hd-cuda-master/hdpy/hdpy/results/4/dude.random.ace.rf.None.0.pkl\n"
     ]
    },
    {
     "name": "stderr",
     "output_type": "stream",
     "text": [
      "\r",
      " 21%|██        | 8/38 [00:01<00:04,  6.76it/s]"
     ]
    },
    {
     "name": "stdout",
     "output_type": "stream",
     "text": [
      "/g/g13/jones289/workspace/hd-cuda-master/hdpy/hdpy/results/4/dude.random.egfr.rf.None.0.pkl\n"
     ]
    },
    {
     "name": "stderr",
     "output_type": "stream",
     "text": [
      "\r",
      " 24%|██▎       | 9/38 [00:01<00:04,  5.89it/s]"
     ]
    },
    {
     "name": "stdout",
     "output_type": "stream",
     "text": [
      "/g/g13/jones289/workspace/hd-cuda-master/hdpy/hdpy/results/4/dude.random.hivpr.rf.None.0.pkl\n"
     ]
    },
    {
     "name": "stderr",
     "output_type": "stream",
     "text": [
      "\r",
      " 26%|██▋       | 10/38 [00:01<00:05,  5.31it/s]"
     ]
    },
    {
     "name": "stdout",
     "output_type": "stream",
     "text": [
      "/g/g13/jones289/workspace/hd-cuda-master/hdpy/hdpy/results/4/dude.random.src.rf.None.0.pkl\n"
     ]
    },
    {
     "name": "stderr",
     "output_type": "stream",
     "text": [
      "\r",
      " 29%|██▉       | 11/38 [00:01<00:05,  4.93it/s]"
     ]
    },
    {
     "name": "stdout",
     "output_type": "stream",
     "text": [
      "/g/g13/jones289/workspace/hd-cuda-master/hdpy/hdpy/results/4/dude.random.parp1.rf.None.0.pkl\n",
      "/g/g13/jones289/workspace/hd-cuda-master/hdpy/hdpy/results/4/dude.random.comt.rf.None.0.pkl\n"
     ]
    },
    {
     "name": "stderr",
     "output_type": "stream",
     "text": [
      " 39%|███▉      | 15/38 [00:02<00:02,  7.80it/s]"
     ]
    },
    {
     "name": "stdout",
     "output_type": "stream",
     "text": [
      "/g/g13/jones289/workspace/hd-cuda-master/hdpy/hdpy/results/4/dude.random.fa10.rf.None.0.pkl\n",
      "/g/g13/jones289/workspace/hd-cuda-master/hdpy/hdpy/results/4/dude.random.ampc.rf.None.0.pkl\n",
      "/g/g13/jones289/workspace/hd-cuda-master/hdpy/hdpy/results/4/dude.random.pur2.rf.None.0.pkl\n"
     ]
    },
    {
     "name": "stderr",
     "output_type": "stream",
     "text": [
      "\r",
      " 42%|████▏     | 16/38 [00:02<00:02,  7.97it/s]"
     ]
    },
    {
     "name": "stdout",
     "output_type": "stream",
     "text": [
      "/g/g13/jones289/workspace/hd-cuda-master/hdpy/hdpy/results/4/dude.random.pgh1.rf.None.0.pkl\n",
      "/g/g13/jones289/workspace/hd-cuda-master/hdpy/hdpy/results/4/dude.random.rxra.rf.None.0.pkl\n"
     ]
    },
    {
     "name": "stderr",
     "output_type": "stream",
     "text": [
      "\r",
      " 47%|████▋     | 18/38 [00:02<00:02,  6.96it/s]"
     ]
    },
    {
     "name": "stdout",
     "output_type": "stream",
     "text": [
      "/g/g13/jones289/workspace/hd-cuda-master/hdpy/hdpy/results/4/dude.random.mk14.rf.None.0.pkl\n",
      "/g/g13/jones289/workspace/hd-cuda-master/hdpy/hdpy/results/4/dude.random.hivrt.rf.None.0.pkl\n"
     ]
    },
    {
     "name": "stderr",
     "output_type": "stream",
     "text": [
      "\r",
      " 53%|█████▎    | 20/38 [00:02<00:02,  7.72it/s]"
     ]
    },
    {
     "name": "stdout",
     "output_type": "stream",
     "text": [
      "/g/g13/jones289/workspace/hd-cuda-master/hdpy/hdpy/results/4/dude.random.esr1.rf.None.0.pkl\n",
      "/g/g13/jones289/workspace/hd-cuda-master/hdpy/hdpy/results/4/dude.random.aces.rf.None.0.pkl\n"
     ]
    },
    {
     "name": "stderr",
     "output_type": "stream",
     "text": [
      " 58%|█████▊    | 22/38 [00:03<00:02,  6.63it/s]"
     ]
    },
    {
     "name": "stdout",
     "output_type": "stream",
     "text": [
      "/g/g13/jones289/workspace/hd-cuda-master/hdpy/hdpy/results/4/dude.random.pparg.rf.None.0.pkl\n"
     ]
    },
    {
     "name": "stderr",
     "output_type": "stream",
     "text": [
      " 63%|██████▎   | 24/38 [00:03<00:02,  6.64it/s]"
     ]
    },
    {
     "name": "stdout",
     "output_type": "stream",
     "text": [
      "/g/g13/jones289/workspace/hd-cuda-master/hdpy/hdpy/results/4/dude.random.pde5a.rf.None.0.pkl\n",
      "/g/g13/jones289/workspace/hd-cuda-master/hdpy/hdpy/results/4/dude.random.prgr.rf.None.0.pkl\n"
     ]
    },
    {
     "name": "stderr",
     "output_type": "stream",
     "text": [
      "\r",
      " 68%|██████▊   | 26/38 [00:03<00:01,  8.13it/s]"
     ]
    },
    {
     "name": "stdout",
     "output_type": "stream",
     "text": [
      "/g/g13/jones289/workspace/hd-cuda-master/hdpy/hdpy/results/4/dude.random.pygm.rf.None.0.pkl\n",
      "/g/g13/jones289/workspace/hd-cuda-master/hdpy/hdpy/results/4/dude.random.hs90a.rf.None.0.pkl\n",
      "/g/g13/jones289/workspace/hd-cuda-master/hdpy/hdpy/results/4/dude.random.mcr.rf.None.0.pkl\n"
     ]
    },
    {
     "name": "stderr",
     "output_type": "stream",
     "text": [
      " 76%|███████▋  | 29/38 [00:03<00:00,  9.18it/s]"
     ]
    },
    {
     "name": "stdout",
     "output_type": "stream",
     "text": [
      "/g/g13/jones289/workspace/hd-cuda-master/hdpy/hdpy/results/4/dude.random.hmdh.rf.None.0.pkl\n",
      "/g/g13/jones289/workspace/hd-cuda-master/hdpy/hdpy/results/4/dude.random.aldr.rf.None.0.pkl\n"
     ]
    },
    {
     "name": "stderr",
     "output_type": "stream",
     "text": [
      " 82%|████████▏ | 31/38 [00:04<00:00,  7.93it/s]"
     ]
    },
    {
     "name": "stdout",
     "output_type": "stream",
     "text": [
      "/g/g13/jones289/workspace/hd-cuda-master/hdpy/hdpy/results/4/dude.random.cdk2.rf.None.0.pkl\n",
      "/g/g13/jones289/workspace/hd-cuda-master/hdpy/hdpy/results/4/dude.random.nram.rf.None.0.pkl\n"
     ]
    },
    {
     "name": "stderr",
     "output_type": "stream",
     "text": [
      " 87%|████████▋ | 33/38 [00:04<00:00,  7.68it/s]"
     ]
    },
    {
     "name": "stdout",
     "output_type": "stream",
     "text": [
      "/g/g13/jones289/workspace/hd-cuda-master/hdpy/hdpy/results/4/dude.random.dyr.rf.None.0.pkl\n",
      "/g/g13/jones289/workspace/hd-cuda-master/hdpy/hdpy/results/4/dude.random.ada.rf.None.0.pkl\n"
     ]
    },
    {
     "name": "stderr",
     "output_type": "stream",
     "text": [
      "\r",
      " 92%|█████████▏| 35/38 [00:04<00:00,  7.85it/s]"
     ]
    },
    {
     "name": "stdout",
     "output_type": "stream",
     "text": [
      "/g/g13/jones289/workspace/hd-cuda-master/hdpy/hdpy/results/4/dude.random.sahh.rf.None.0.pkl\n",
      "/g/g13/jones289/workspace/hd-cuda-master/hdpy/hdpy/results/4/dude.random.bace1.rf.None.0.pkl\n"
     ]
    },
    {
     "name": "stderr",
     "output_type": "stream",
     "text": [
      " 97%|█████████▋| 37/38 [00:05<00:00,  8.13it/s]"
     ]
    },
    {
     "name": "stdout",
     "output_type": "stream",
     "text": [
      "/g/g13/jones289/workspace/hd-cuda-master/hdpy/hdpy/results/4/dude.random.andr.rf.None.0.pkl\n",
      "/g/g13/jones289/workspace/hd-cuda-master/hdpy/hdpy/results/4/dude.random.thrb.rf.None.0.pkl\n"
     ]
    },
    {
     "name": "stderr",
     "output_type": "stream",
     "text": [
      "100%|██████████| 38/38 [00:05<00:00,  7.27it/s]\n"
     ]
    },
    {
     "name": "stdout",
     "output_type": "stream",
     "text": [
      "/g/g13/jones289/workspace/hd-cuda-master/hdpy/hdpy/results/4/dude.random.pgh2.rf.None.0.pkl\n"
     ]
    },
    {
     "name": "stderr",
     "output_type": "stream",
     "text": [
      "\r",
      "  0%|          | 0/38 [00:00<?, ?it/s]"
     ]
    },
    {
     "name": "stdout",
     "output_type": "stream",
     "text": [
      "/g/g13/jones289/workspace/hd-cuda-master/hdpy/hdpy/results/4/dude.random.try1.mlp.None.0.pkl\n",
      "/g/g13/jones289/workspace/hd-cuda-master/hdpy/hdpy/results/4/dude.random.ada.mlp.None.0.pkl\n"
     ]
    },
    {
     "name": "stderr",
     "output_type": "stream",
     "text": [
      " 11%|█         | 4/38 [00:00<00:04,  7.35it/s]"
     ]
    },
    {
     "name": "stdout",
     "output_type": "stream",
     "text": [
      "/g/g13/jones289/workspace/hd-cuda-master/hdpy/hdpy/results/4/dude.random.parp1.mlp.None.0.pkl\n",
      "/g/g13/jones289/workspace/hd-cuda-master/hdpy/hdpy/results/4/dude.random.nram.mlp.None.0.pkl\n"
     ]
    },
    {
     "name": "stderr",
     "output_type": "stream",
     "text": [
      " 18%|█▊        | 7/38 [00:00<00:04,  7.68it/s]"
     ]
    },
    {
     "name": "stdout",
     "output_type": "stream",
     "text": [
      "/g/g13/jones289/workspace/hd-cuda-master/hdpy/hdpy/results/4/dude.random.src.mlp.None.0.pkl\n",
      "/g/g13/jones289/workspace/hd-cuda-master/hdpy/hdpy/results/4/dude.random.kith.mlp.None.0.pkl\n",
      "/g/g13/jones289/workspace/hd-cuda-master/hdpy/hdpy/results/4/dude.random.hivrt.mlp.None.0.pkl\n"
     ]
    },
    {
     "name": "stderr",
     "output_type": "stream",
     "text": [
      "\r",
      " 21%|██        | 8/38 [00:01<00:03,  7.84it/s]"
     ]
    },
    {
     "name": "stdout",
     "output_type": "stream",
     "text": [
      "/g/g13/jones289/workspace/hd-cuda-master/hdpy/hdpy/results/4/dude.random.gcr.mlp.None.0.pkl\n",
      "/g/g13/jones289/workspace/hd-cuda-master/hdpy/hdpy/results/4/dude.random.pde5a.mlp.None.0.pkl\n"
     ]
    },
    {
     "name": "stderr",
     "output_type": "stream",
     "text": [
      " 32%|███▏      | 12/38 [00:01<00:03,  7.82it/s]"
     ]
    },
    {
     "name": "stdout",
     "output_type": "stream",
     "text": [
      "/g/g13/jones289/workspace/hd-cuda-master/hdpy/hdpy/results/4/dude.random.mk14.mlp.None.0.pkl\n",
      "/g/g13/jones289/workspace/hd-cuda-master/hdpy/hdpy/results/4/dude.random.sahh.mlp.None.0.pkl\n",
      "/g/g13/jones289/workspace/hd-cuda-master/hdpy/hdpy/results/4/dude.random.comt.mlp.None.0.pkl\n"
     ]
    },
    {
     "name": "stderr",
     "output_type": "stream",
     "text": [
      " 37%|███▋      | 14/38 [00:01<00:03,  6.91it/s]"
     ]
    },
    {
     "name": "stdout",
     "output_type": "stream",
     "text": [
      "/g/g13/jones289/workspace/hd-cuda-master/hdpy/hdpy/results/4/dude.random.fa10.mlp.None.0.pkl\n",
      "/g/g13/jones289/workspace/hd-cuda-master/hdpy/hdpy/results/4/dude.random.ace.mlp.None.0.pkl\n"
     ]
    },
    {
     "name": "stderr",
     "output_type": "stream",
     "text": [
      "\r",
      " 39%|███▉      | 15/38 [00:02<00:03,  7.08it/s]"
     ]
    },
    {
     "name": "stdout",
     "output_type": "stream",
     "text": [
      "/g/g13/jones289/workspace/hd-cuda-master/hdpy/hdpy/results/4/dude.random.pgh1.mlp.None.0.pkl\n"
     ]
    },
    {
     "name": "stderr",
     "output_type": "stream",
     "text": [
      "\r",
      " 42%|████▏     | 16/38 [00:02<00:03,  5.76it/s]"
     ]
    },
    {
     "name": "stdout",
     "output_type": "stream",
     "text": [
      "/g/g13/jones289/workspace/hd-cuda-master/hdpy/hdpy/results/4/dude.random.cdk2.mlp.None.0.pkl\n"
     ]
    },
    {
     "name": "stderr",
     "output_type": "stream",
     "text": [
      "\r",
      " 45%|████▍     | 17/38 [00:02<00:04,  5.05it/s]"
     ]
    },
    {
     "name": "stdout",
     "output_type": "stream",
     "text": [
      "/g/g13/jones289/workspace/hd-cuda-master/hdpy/hdpy/results/4/dude.random.hivpr.mlp.None.0.pkl\n",
      "/g/g13/jones289/workspace/hd-cuda-master/hdpy/hdpy/results/4/dude.random.hs90a.mlp.None.0.pkl\n"
     ]
    },
    {
     "name": "stderr",
     "output_type": "stream",
     "text": [
      "\r",
      " 50%|█████     | 19/38 [00:02<00:03,  5.24it/s]"
     ]
    },
    {
     "name": "stdout",
     "output_type": "stream",
     "text": [
      "/g/g13/jones289/workspace/hd-cuda-master/hdpy/hdpy/results/4/dude.random.egfr.mlp.None.0.pkl\n"
     ]
    },
    {
     "name": "stderr",
     "output_type": "stream",
     "text": [
      " 58%|█████▊    | 22/38 [00:03<00:02,  6.68it/s]"
     ]
    },
    {
     "name": "stdout",
     "output_type": "stream",
     "text": [
      "/g/g13/jones289/workspace/hd-cuda-master/hdpy/hdpy/results/4/dude.random.pparg.mlp.None.0.pkl\n",
      "/g/g13/jones289/workspace/hd-cuda-master/hdpy/hdpy/results/4/dude.random.pygm.mlp.None.0.pkl\n",
      "/g/g13/jones289/workspace/hd-cuda-master/hdpy/hdpy/results/4/dude.random.rxra.mlp.None.0.pkl\n"
     ]
    },
    {
     "name": "stderr",
     "output_type": "stream",
     "text": [
      "\r",
      " 61%|██████    | 23/38 [00:03<00:02,  6.55it/s]"
     ]
    },
    {
     "name": "stdout",
     "output_type": "stream",
     "text": [
      "/g/g13/jones289/workspace/hd-cuda-master/hdpy/hdpy/results/4/dude.random.vgfr2.mlp.None.0.pkl\n",
      "/g/g13/jones289/workspace/hd-cuda-master/hdpy/hdpy/results/4/dude.random.mcr.mlp.None.0.pkl\n"
     ]
    },
    {
     "name": "stderr",
     "output_type": "stream",
     "text": [
      "\r",
      " 66%|██████▌   | 25/38 [00:03<00:01,  7.40it/s]"
     ]
    },
    {
     "name": "stdout",
     "output_type": "stream",
     "text": [
      "/g/g13/jones289/workspace/hd-cuda-master/hdpy/hdpy/results/4/dude.random.dyr.mlp.None.0.pkl\n",
      "/g/g13/jones289/workspace/hd-cuda-master/hdpy/hdpy/results/4/dude.random.pgh2.mlp.None.0.pkl\n"
     ]
    },
    {
     "name": "stderr",
     "output_type": "stream",
     "text": [
      " 74%|███████▎  | 28/38 [00:04<00:01,  7.64it/s]"
     ]
    },
    {
     "name": "stdout",
     "output_type": "stream",
     "text": [
      "/g/g13/jones289/workspace/hd-cuda-master/hdpy/hdpy/results/4/dude.random.hmdh.mlp.None.0.pkl\n",
      "/g/g13/jones289/workspace/hd-cuda-master/hdpy/hdpy/results/4/dude.random.andr.mlp.None.0.pkl\n",
      "/g/g13/jones289/workspace/hd-cuda-master/hdpy/hdpy/results/4/dude.random.inha.mlp.None.0.pkl\n"
     ]
    },
    {
     "name": "stderr",
     "output_type": "stream",
     "text": [
      " 82%|████████▏ | 31/38 [00:04<00:00,  8.72it/s]"
     ]
    },
    {
     "name": "stdout",
     "output_type": "stream",
     "text": [
      "/g/g13/jones289/workspace/hd-cuda-master/hdpy/hdpy/results/4/dude.random.thrb.mlp.None.0.pkl\n",
      "/g/g13/jones289/workspace/hd-cuda-master/hdpy/hdpy/results/4/dude.random.pnph.mlp.None.0.pkl\n"
     ]
    },
    {
     "name": "stderr",
     "output_type": "stream",
     "text": [
      " 87%|████████▋ | 33/38 [00:04<00:00,  8.10it/s]"
     ]
    },
    {
     "name": "stdout",
     "output_type": "stream",
     "text": [
      "/g/g13/jones289/workspace/hd-cuda-master/hdpy/hdpy/results/4/dude.random.bace1.mlp.None.0.pkl\n",
      "/g/g13/jones289/workspace/hd-cuda-master/hdpy/hdpy/results/4/dude.random.aldr.mlp.None.0.pkl\n",
      "/g/g13/jones289/workspace/hd-cuda-master/hdpy/hdpy/results/4/dude.random.pur2.mlp.None.0.pkl\n"
     ]
    },
    {
     "name": "stderr",
     "output_type": "stream",
     "text": [
      "\r",
      " 92%|█████████▏| 35/38 [00:04<00:00,  8.26it/s]"
     ]
    },
    {
     "name": "stdout",
     "output_type": "stream",
     "text": [
      "/g/g13/jones289/workspace/hd-cuda-master/hdpy/hdpy/results/4/dude.random.esr1.mlp.None.0.pkl\n",
      "/g/g13/jones289/workspace/hd-cuda-master/hdpy/hdpy/results/4/dude.random.ampc.mlp.None.0.pkl\n"
     ]
    },
    {
     "name": "stderr",
     "output_type": "stream",
     "text": [
      "\r",
      " 97%|█████████▋| 37/38 [00:05<00:00,  7.97it/s]"
     ]
    },
    {
     "name": "stdout",
     "output_type": "stream",
     "text": [
      "/g/g13/jones289/workspace/hd-cuda-master/hdpy/hdpy/results/4/dude.random.aces.mlp.None.0.pkl\n",
      "/g/g13/jones289/workspace/hd-cuda-master/hdpy/hdpy/results/4/dude.random.prgr.mlp.None.0.pkl\n"
     ]
    },
    {
     "name": "stderr",
     "output_type": "stream",
     "text": [
      "100%|██████████| 38/38 [00:05<00:00,  7.04it/s]\n"
     ]
    },
    {
     "data": {
      "image/png": "[encoded data removed]",
      "text/plain": [
       "<Figure size 864x720 with 2 Axes>"
      ]
     },
     "metadata": {
      "needs_background": "light"
     },
     "output_type": "display_data"
    }
   ],
   "source": [
    "dude_enrich_f, dude_enrich_1_ax, dude_enrich_10_ax, model_metric_dict = aggregate_dude_results(dataset=\"dude\", split=\"random\")\n"
   ]
  },
  {
   "cell_type": "code",
   "execution_count": 55,
   "metadata": {},
   "outputs": [
    {
     "data": {
      "text/plain": [
       "dict_keys(['model', 'enrich-1-mean', 'enrich-1-std', 'enrich-10-mean', 'enrich-10-std', 'train_time', 'test_time', 'train_size', 'test_size'])"
      ]
     },
     "execution_count": 55,
     "metadata": {},
     "output_type": "execute_result"
    }
   ],
   "source": [
    "model_metric_dict.keys()"
   ]
  },
  {
   "cell_type": "code",
   "execution_count": 56,
   "metadata": {},
   "outputs": [
    {
     "data": {
      "text/plain": [
       "[('model', 342),\n",
       " ('enrich-1-mean', 342),\n",
       " ('enrich-1-std', 342),\n",
       " ('enrich-10-mean', 342),\n",
       " ('enrich-10-std', 342),\n",
       " ('train_time', 342),\n",
       " ('test_time', 342),\n",
       " ('train_size', 342),\n",
       " ('test_size', 342)]"
      ]
     },
     "execution_count": 56,
     "metadata": {},
     "output_type": "execute_result"
    }
   ],
   "source": [
    "[(x[0], len(x[1])) for x in model_metric_dict.items()]"
   ]
  },
  {
   "cell_type": "code",
   "execution_count": 57,
   "metadata": {},
   "outputs": [
    {
     "data": {
      "text/html": [
       "<div>\n",
       "<style scoped>\n",
       "    .dataframe tbody tr th:only-of-type {\n",
       "        vertical-align: middle;\n",
       "    }\n",
       "\n",
       "    .dataframe tbody tr th {\n",
       "        vertical-align: top;\n",
       "    }\n",
       "\n",
       "    .dataframe thead th {\n",
       "        text-align: right;\n",
       "    }\n",
       "</style>\n",
       "<table border=\"1\" class=\"dataframe\">\n",
       "  <thead>\n",
       "    <tr style=\"text-align: right;\">\n",
       "      <th></th>\n",
       "      <th>model</th>\n",
       "      <th>enrich-1-mean</th>\n",
       "      <th>enrich-1-std</th>\n",
       "      <th>enrich-10-mean</th>\n",
       "      <th>enrich-10-std</th>\n",
       "      <th>train_time</th>\n",
       "      <th>test_time</th>\n",
       "      <th>train_size</th>\n",
       "      <th>test_size</th>\n",
       "    </tr>\n",
       "  </thead>\n",
       "  <tbody>\n",
       "    <tr>\n",
       "      <th>0</th>\n",
       "      <td>smiles-pe.atomwise.0</td>\n",
       "      <td>91.857143</td>\n",
       "      <td>0.000000e+00</td>\n",
       "      <td>9.892308</td>\n",
       "      <td>0.000000e+00</td>\n",
       "      <td>0.874518</td>\n",
       "      <td>0.135526</td>\n",
       "      <td>5145.0</td>\n",
       "      <td>643.0</td>\n",
       "    </tr>\n",
       "    <tr>\n",
       "      <th>1</th>\n",
       "      <td>smiles-pe.atomwise.0</td>\n",
       "      <td>16.688889</td>\n",
       "      <td>0.000000e+00</td>\n",
       "      <td>8.256608</td>\n",
       "      <td>2.812132e-01</td>\n",
       "      <td>1.046939</td>\n",
       "      <td>0.218363</td>\n",
       "      <td>6022.0</td>\n",
       "      <td>751.0</td>\n",
       "    </tr>\n",
       "    <tr>\n",
       "      <th>2</th>\n",
       "      <td>smiles-pe.atomwise.0</td>\n",
       "      <td>43.984286</td>\n",
       "      <td>1.332857e+00</td>\n",
       "      <td>9.358359</td>\n",
       "      <td>1.890578e-01</td>\n",
       "      <td>1.222343</td>\n",
       "      <td>0.195387</td>\n",
       "      <td>7420.0</td>\n",
       "      <td>933.0</td>\n",
       "    </tr>\n",
       "    <tr>\n",
       "      <th>3</th>\n",
       "      <td>smiles-pe.atomwise.0</td>\n",
       "      <td>32.840000</td>\n",
       "      <td>7.105427e-15</td>\n",
       "      <td>9.414133</td>\n",
       "      <td>9.120714e-02</td>\n",
       "      <td>3.076663</td>\n",
       "      <td>0.435076</td>\n",
       "      <td>13168.0</td>\n",
       "      <td>1642.0</td>\n",
       "    </tr>\n",
       "    <tr>\n",
       "      <th>4</th>\n",
       "      <td>smiles-pe.atomwise.0</td>\n",
       "      <td>47.416667</td>\n",
       "      <td>7.105427e-15</td>\n",
       "      <td>9.705166</td>\n",
       "      <td>0.000000e+00</td>\n",
       "      <td>2.245790</td>\n",
       "      <td>0.331386</td>\n",
       "      <td>13688.0</td>\n",
       "      <td>1707.0</td>\n",
       "    </tr>\n",
       "    <tr>\n",
       "      <th>...</th>\n",
       "      <td>...</td>\n",
       "      <td>...</td>\n",
       "      <td>...</td>\n",
       "      <td>...</td>\n",
       "      <td>...</td>\n",
       "      <td>...</td>\n",
       "      <td>...</td>\n",
       "      <td>...</td>\n",
       "      <td>...</td>\n",
       "    </tr>\n",
       "    <tr>\n",
       "      <th>337</th>\n",
       "      <td>mlp</td>\n",
       "      <td>58.000000</td>\n",
       "      <td>0.000000e+00</td>\n",
       "      <td>9.666667</td>\n",
       "      <td>1.776357e-15</td>\n",
       "      <td>0.255127</td>\n",
       "      <td>0.007313</td>\n",
       "      <td>1855.0</td>\n",
       "      <td>232.0</td>\n",
       "    </tr>\n",
       "    <tr>\n",
       "      <th>338</th>\n",
       "      <td>mlp</td>\n",
       "      <td>40.512821</td>\n",
       "      <td>0.000000e+00</td>\n",
       "      <td>9.743590</td>\n",
       "      <td>1.776357e-15</td>\n",
       "      <td>0.468919</td>\n",
       "      <td>0.013278</td>\n",
       "      <td>12693.0</td>\n",
       "      <td>1580.0</td>\n",
       "    </tr>\n",
       "    <tr>\n",
       "      <th>339</th>\n",
       "      <td>mlp</td>\n",
       "      <td>22.125000</td>\n",
       "      <td>7.375000e+00</td>\n",
       "      <td>6.391667</td>\n",
       "      <td>9.198241e-01</td>\n",
       "      <td>0.191531</td>\n",
       "      <td>0.009194</td>\n",
       "      <td>2322.0</td>\n",
       "      <td>295.0</td>\n",
       "    </tr>\n",
       "    <tr>\n",
       "      <th>340</th>\n",
       "      <td>mlp</td>\n",
       "      <td>58.527778</td>\n",
       "      <td>7.105427e-15</td>\n",
       "      <td>9.958044</td>\n",
       "      <td>8.321485e-02</td>\n",
       "      <td>0.455344</td>\n",
       "      <td>0.020553</td>\n",
       "      <td>16925.0</td>\n",
       "      <td>2107.0</td>\n",
       "    </tr>\n",
       "    <tr>\n",
       "      <th>341</th>\n",
       "      <td>mlp</td>\n",
       "      <td>39.458333</td>\n",
       "      <td>7.105427e-15</td>\n",
       "      <td>8.846974</td>\n",
       "      <td>2.659543e-01</td>\n",
       "      <td>0.564447</td>\n",
       "      <td>0.008887</td>\n",
       "      <td>7582.0</td>\n",
       "      <td>947.0</td>\n",
       "    </tr>\n",
       "  </tbody>\n",
       "</table>\n",
       "<p>342 rows × 9 columns</p>\n",
       "</div>"
      ],
      "text/plain": [
       "                    model  enrich-1-mean  enrich-1-std  enrich-10-mean  \\\n",
       "0    smiles-pe.atomwise.0      91.857143  0.000000e+00        9.892308   \n",
       "1    smiles-pe.atomwise.0      16.688889  0.000000e+00        8.256608   \n",
       "2    smiles-pe.atomwise.0      43.984286  1.332857e+00        9.358359   \n",
       "3    smiles-pe.atomwise.0      32.840000  7.105427e-15        9.414133   \n",
       "4    smiles-pe.atomwise.0      47.416667  7.105427e-15        9.705166   \n",
       "..                    ...            ...           ...             ...   \n",
       "337                   mlp      58.000000  0.000000e+00        9.666667   \n",
       "338                   mlp      40.512821  0.000000e+00        9.743590   \n",
       "339                   mlp      22.125000  7.375000e+00        6.391667   \n",
       "340                   mlp      58.527778  7.105427e-15        9.958044   \n",
       "341                   mlp      39.458333  7.105427e-15        8.846974   \n",
       "\n",
       "     enrich-10-std  train_time  test_time  train_size  test_size  \n",
       "0     0.000000e+00    0.874518   0.135526      5145.0      643.0  \n",
       "1     2.812132e-01    1.046939   0.218363      6022.0      751.0  \n",
       "2     1.890578e-01    1.222343   0.195387      7420.0      933.0  \n",
       "3     9.120714e-02    3.076663   0.435076     13168.0     1642.0  \n",
       "4     0.000000e+00    2.245790   0.331386     13688.0     1707.0  \n",
       "..             ...         ...        ...         ...        ...  \n",
       "337   1.776357e-15    0.255127   0.007313      1855.0      232.0  \n",
       "338   1.776357e-15    0.468919   0.013278     12693.0     1580.0  \n",
       "339   9.198241e-01    0.191531   0.009194      2322.0      295.0  \n",
       "340   8.321485e-02    0.455344   0.020553     16925.0     2107.0  \n",
       "341   2.659543e-01    0.564447   0.008887      7582.0      947.0  \n",
       "\n",
       "[342 rows x 9 columns]"
      ]
     },
     "execution_count": 57,
     "metadata": {},
     "output_type": "execute_result"
    }
   ],
   "source": [
    "model_metric_df = pd.DataFrame(model_metric_dict)\n",
    "\n",
    "# for col in model_metric_df.columns:\n",
    "#     model_model_metric_df[col].apply(lambda x: x[0])\n",
    "#     model_metric_df[col].apply(lambda x: x[1])\n",
    "#     model_metric_df[col].apply(lambda x: x[2])\n",
    "    \n",
    "# model_metric_df_list = [pd.DataFrame({\"metric\": [tup[0] for tup in model_metric_df[col].values],\n",
    "#                                       \"enrich-1\": [tup[1] for tup in model_metric_df[col].values],\n",
    "#                                       \"enrich-10\": [tup[2] for tup in model_metric_df[col].values]\n",
    "#                                       \"model\": [col]*len(model_metric_df)} for col in model_metric_df.columns)]\n",
    "\n",
    "\n",
    "# model_metric_df = pd.concat(model_metric_df_list)\n",
    "\n",
    "# model_metric_df[\"latency\"] = model_metric_df[\"test_time\"] / model_metric_df[\"test_size\"]\n",
    "\n",
    "model_metric_df\n"
   ]
  },
  {
   "cell_type": "code",
   "execution_count": 58,
   "metadata": {},
   "outputs": [],
   "source": [
    "# model_metric_df['enrich-1'] = model_metric_df['enrich-1'].apply(lambda x: float(np.array(x)))\n",
    "# model_metric_df['enrich-10'] = model_metric_df['enrich-10'].apply(lambda x: float(np.array(x)))"
   ]
  },
  {
   "cell_type": "markdown",
   "metadata": {},
   "source": [
    "## Vina Docking baseline"
   ]
  },
  {
   "cell_type": "code",
   "execution_count": 59,
   "metadata": {},
   "outputs": [
    {
     "name": "stdout",
     "output_type": "stream",
     "text": [
      "pgh1 1 /p/lustre1/jones289/DUDE-38/pgh1-active-summary.txt\n",
      "(941, 11)\n",
      "rxra 2 /p/lustre1/jones289/DUDE-38/rxra-active-summary.txt\n",
      "(568, 11)\n",
      "pnph 3 /p/lustre1/jones289/DUDE-38/pnph-active-summary.txt\n",
      "(655, 11)\n",
      "ampc 4 /p/lustre1/jones289/DUDE-38/ampc-active-summary.txt\n",
      "(295, 11)\n",
      "try1 5 /p/lustre1/jones289/DUDE-38/try1-active-summary.txt\n",
      "(782, 11)\n",
      "parp1 6 /p/lustre1/jones289/DUDE-38/parp1-active-summary.txt\n",
      "(2673, 11)\n",
      "comt 7 /p/lustre1/jones289/DUDE-38/comt-active-summary.txt\n",
      "(406, 11)\n",
      "andr 8 /p/lustre1/jones289/DUDE-38/andr-active-summary.txt\n",
      "(643, 11)\n",
      "sahh 9 /p/lustre1/jones289/DUDE-38/sahh-active-summary.txt\n",
      "(336, 11)\n",
      "ace 10 /p/lustre1/jones289/DUDE-38/ace-active-summary.txt\n",
      "(1587, 11)\n",
      "cdk2 11 /p/lustre1/jones289/DUDE-38/cdk2-active-summary.txt\n",
      "(2604, 11)\n",
      "fgfr1 12 /p/lustre1/jones289/DUDE-38/fgfr1-active-summary.txt\n",
      "hmdh 13 /p/lustre1/jones289/DUDE-38/hmdh-active-summary.txt\n",
      "(789, 11)\n",
      "nram 14 /p/lustre1/jones289/DUDE-38/nram-active-summary.txt\n",
      "(587, 11)\n",
      "aces 15 /p/lustre1/jones289/DUDE-38/aces-active-summary.txt\n",
      "(2126, 11)\n",
      "abl1 16 /p/lustre1/jones289/DUDE-38/abl1-active-summary.txt\n",
      "inha 17 /p/lustre1/jones289/DUDE-38/inha-active-summary.txt\n",
      "(211, 11)\n",
      "src 18 /p/lustre1/jones289/DUDE-38/src-active-summary.txt\n",
      "(2992, 11)\n",
      "hivrt 19 /p/lustre1/jones289/DUDE-38/hivrt-active-summary.txt\n",
      "(157, 11)\n",
      "esr1 20 /p/lustre1/jones289/DUDE-38/esr1-active-summary.txt\n",
      "(1597, 11)\n",
      "vgfr2 21 /p/lustre1/jones289/DUDE-38/vgfr2-active-summary.txt\n",
      "(1864, 11)\n",
      "hivpr 22 /p/lustre1/jones289/DUDE-38/hivpr-active-summary.txt\n",
      "(3087, 11)\n",
      "mk14 23 /p/lustre1/jones289/DUDE-38/mk14-active-summary.txt\n",
      "(3079, 11)\n",
      "pur2 24 /p/lustre1/jones289/DUDE-38/pur2-active-summary.txt\n",
      "(241, 11)\n",
      "bace1 25 /p/lustre1/jones289/DUDE-38/bace1-active-summary.txt\n",
      "(1529, 11)\n",
      "thrb 26 /p/lustre1/jones289/DUDE-38/thrb-active-summary.txt\n",
      "(880, 11)\n",
      "pparg 27 /p/lustre1/jones289/DUDE-38/pparg-active-summary.txt\n",
      "(2265, 11)\n",
      "aldr 28 /p/lustre1/jones289/DUDE-38/aldr-active-summary.txt\n",
      "(837, 11)\n",
      "pgh2 29 /p/lustre1/jones289/DUDE-38/pgh2-active-summary.txt\n",
      "(1725, 11)\n",
      "dyr 30 /p/lustre1/jones289/DUDE-38/dyr-active-summary.txt\n",
      "(1459, 11)\n",
      "hs90a 31 /p/lustre1/jones289/DUDE-38/hs90a-active-summary.txt\n",
      "(466, 11)\n",
      "pde5a 32 /p/lustre1/jones289/DUDE-38/pde5a-active-summary.txt\n",
      "(2223, 11)\n",
      "mcr 33 /p/lustre1/jones289/DUDE-38/mcr-active-summary.txt\n",
      "(146, 11)\n",
      "egfr 34 /p/lustre1/jones289/DUDE-38/egfr-active-summary.txt\n",
      "(3219, 11)\n",
      "ada 35 /p/lustre1/jones289/DUDE-38/ada-active-summary.txt\n",
      "(574, 11)\n",
      "pygm 36 /p/lustre1/jones289/DUDE-38/pygm-active-summary.txt\n",
      "(357, 11)\n",
      "prgr 37 /p/lustre1/jones289/DUDE-38/prgr-active-summary.txt\n",
      "(967, 11)\n",
      "fa10 38 /p/lustre1/jones289/DUDE-38/fa10-active-summary.txt\n",
      "(1687, 11)\n",
      "kith 39 /p/lustre1/jones289/DUDE-38/kith-active-summary.txt\n",
      "(282, 11)\n",
      "gcr 40 /p/lustre1/jones289/DUDE-38/gcr-active-summary.txt\n",
      "(872, 11)\n"
     ]
    }
   ],
   "source": [
    "vina_root_p = Path(\"/p/lustre1/jones289/DUDE-38/\")\n",
    "\n",
    "\n",
    "color_dict.update({\"Vina\": \"salmon\"})\n",
    "\n",
    "\n",
    "\n",
    "vina_path_list = [path for path in vina_root_p.glob(\"*-active-summary.txt\")]\n",
    "\n",
    "\n",
    "df_list = []\n",
    "\n",
    "\n",
    "# root_dude_dir = Path(\"/g/g13/jones289/workspace/hd-cuda-master/datasets/dude/dude_smiles/\")\n",
    "root_dude_dir = Path(\"/usr/workspace/atom/gbsa_modeling/dude_smiles/\")\n",
    "for idx, path in  enumerate(vina_path_list):\n",
    "#     print(idx, path)\n",
    "    target = path.name.split(\".\")[0].split(\"-\")[0]\n",
    "    print(target, idx+1, path)\n",
    "    \n",
    "    # for some reason don't have inactive data for abl1\n",
    "    if target in [\"abl1\"]:\n",
    "        continue\n",
    "    if target in dude_target_names:\n",
    "    \n",
    "        active_df = pd.read_csv(f\"/p/lustre1/jones289/DUDE-38/{target}-active-summary.txt\", header=None, delim_whitespace=True)\n",
    "        active_df['y_true'] = [1] * len(active_df)\n",
    "    \n",
    "        decoy_df = pd.read_csv(f\"/p/lustre1/jones289/DUDE-38/{target}-decoy-summary.txt\", header=None, delim_whitespace=True)\n",
    "        decoy_df['y_true'] = [0] * len(decoy_df)\n",
    "    \n",
    "    \n",
    "        target_df = pd.concat([active_df, decoy_df])\n",
    "        \n",
    "        target_df[\"target\"] = [target] * len(target_df)\n",
    "    \n",
    "        target_df[\"vina\"] = target_df[2]\n",
    "        target_df[\"gbsa\"] = target_df[3]\n",
    "        \n",
    "        target_df[\"cmpd_id\"] = target_df[1]\n",
    "        \n",
    "        target_df[\"target_size\"] = target_df.shape[0]\n",
    "        \n",
    "#         import pdb\n",
    "#         pdb.set_trace()\n",
    "        random_split_df = pd.read_csv(root_dude_dir/ Path(f\"{target}_gbsa_smiles_with_base_rdkit_smiles_train_valid_test_random_random.csv\"))\n",
    "        \n",
    "        \n",
    "#         import pdb\n",
    "#         pdb.set_trace()\n",
    "\n",
    "        # we only use the scores from the test set to attempt an even comparison\n",
    "    \n",
    "        merged_df = pd.merge(target_df, random_split_df, on=\"cmpd_id\")\n",
    "        merged_df = merged_df.loc[merged_df['subset'] == \"test\"]\n",
    "\n",
    "        print(merged_df.shape)\n",
    "    \n",
    "        df_list.append(merged_df)\n",
    "    else:\n",
    "        pass\n",
    "\n",
    "df = pd.concat(df_list)\n",
    "    "
   ]
  },
  {
   "cell_type": "code",
   "execution_count": 60,
   "metadata": {},
   "outputs": [
    {
     "data": {
      "text/plain": [
       "{'ace',\n",
       " 'aces',\n",
       " 'ada',\n",
       " 'aldr',\n",
       " 'ampc',\n",
       " 'andr',\n",
       " 'bace1',\n",
       " 'cdk2',\n",
       " 'comt',\n",
       " 'dyr',\n",
       " 'egfr',\n",
       " 'esr1',\n",
       " 'fa10',\n",
       " 'gcr',\n",
       " 'hivpr',\n",
       " 'hivrt',\n",
       " 'hmdh',\n",
       " 'hs90a',\n",
       " 'inha',\n",
       " 'kith',\n",
       " 'mcr',\n",
       " 'mk14',\n",
       " 'nram',\n",
       " 'parp1',\n",
       " 'pde5a',\n",
       " 'pgh1',\n",
       " 'pgh2',\n",
       " 'pnph',\n",
       " 'pparg',\n",
       " 'prgr',\n",
       " 'pur2',\n",
       " 'pygm',\n",
       " 'rxra',\n",
       " 'sahh',\n",
       " 'src',\n",
       " 'thrb',\n",
       " 'try1',\n",
       " 'vgfr2'}"
      ]
     },
     "execution_count": 60,
     "metadata": {},
     "output_type": "execute_result"
    }
   ],
   "source": [
    "set(df['target'].values.tolist())"
   ]
  },
  {
   "cell_type": "code",
   "execution_count": 61,
   "metadata": {},
   "outputs": [
    {
     "data": {
      "text/html": [
       "<div>\n",
       "<style scoped>\n",
       "    .dataframe tbody tr th:only-of-type {\n",
       "        vertical-align: middle;\n",
       "    }\n",
       "\n",
       "    .dataframe tbody tr th {\n",
       "        vertical-align: top;\n",
       "    }\n",
       "\n",
       "    .dataframe thead th {\n",
       "        text-align: right;\n",
       "    }\n",
       "</style>\n",
       "<table border=\"1\" class=\"dataframe\">\n",
       "  <thead>\n",
       "    <tr style=\"text-align: right;\">\n",
       "      <th></th>\n",
       "      <th>0</th>\n",
       "      <th>1</th>\n",
       "      <th>2</th>\n",
       "      <th>3</th>\n",
       "      <th>y_true</th>\n",
       "      <th>target</th>\n",
       "      <th>vina</th>\n",
       "      <th>gbsa</th>\n",
       "      <th>cmpd_id</th>\n",
       "      <th>target_size</th>\n",
       "      <th>subset</th>\n",
       "    </tr>\n",
       "  </thead>\n",
       "  <tbody>\n",
       "    <tr>\n",
       "      <th>65</th>\n",
       "      <td>158</td>\n",
       "      <td>CHEMBL178355</td>\n",
       "      <td>-7.3</td>\n",
       "      <td>-23.4889</td>\n",
       "      <td>1</td>\n",
       "      <td>pgh1</td>\n",
       "      <td>-7.3</td>\n",
       "      <td>-23.4889</td>\n",
       "      <td>CHEMBL178355</td>\n",
       "      <td>9475</td>\n",
       "      <td>test</td>\n",
       "    </tr>\n",
       "    <tr>\n",
       "      <th>68</th>\n",
       "      <td>161</td>\n",
       "      <td>CHEMBL283267</td>\n",
       "      <td>-7.7</td>\n",
       "      <td>-26.2514</td>\n",
       "      <td>1</td>\n",
       "      <td>pgh1</td>\n",
       "      <td>-7.7</td>\n",
       "      <td>-26.2514</td>\n",
       "      <td>CHEMBL283267</td>\n",
       "      <td>9475</td>\n",
       "      <td>test</td>\n",
       "    </tr>\n",
       "    <tr>\n",
       "      <th>69</th>\n",
       "      <td>162</td>\n",
       "      <td>CHEMBL184374</td>\n",
       "      <td>-7.1</td>\n",
       "      <td>-22.7434</td>\n",
       "      <td>1</td>\n",
       "      <td>pgh1</td>\n",
       "      <td>-7.1</td>\n",
       "      <td>-22.7434</td>\n",
       "      <td>CHEMBL184374</td>\n",
       "      <td>9475</td>\n",
       "      <td>test</td>\n",
       "    </tr>\n",
       "    <tr>\n",
       "      <th>79</th>\n",
       "      <td>171</td>\n",
       "      <td>CHEMBL433892</td>\n",
       "      <td>-7.3</td>\n",
       "      <td>-29.1098</td>\n",
       "      <td>1</td>\n",
       "      <td>pgh1</td>\n",
       "      <td>-7.3</td>\n",
       "      <td>-29.1098</td>\n",
       "      <td>CHEMBL433892</td>\n",
       "      <td>9475</td>\n",
       "      <td>test</td>\n",
       "    </tr>\n",
       "    <tr>\n",
       "      <th>90</th>\n",
       "      <td>180</td>\n",
       "      <td>CHEMBL404928</td>\n",
       "      <td>-6.6</td>\n",
       "      <td>-22.1502</td>\n",
       "      <td>1</td>\n",
       "      <td>pgh1</td>\n",
       "      <td>-6.6</td>\n",
       "      <td>-22.1502</td>\n",
       "      <td>CHEMBL404928</td>\n",
       "      <td>9475</td>\n",
       "      <td>test</td>\n",
       "    </tr>\n",
       "    <tr>\n",
       "      <th>...</th>\n",
       "      <td>...</td>\n",
       "      <td>...</td>\n",
       "      <td>...</td>\n",
       "      <td>...</td>\n",
       "      <td>...</td>\n",
       "      <td>...</td>\n",
       "      <td>...</td>\n",
       "      <td>...</td>\n",
       "      <td>...</td>\n",
       "      <td>...</td>\n",
       "      <td>...</td>\n",
       "    </tr>\n",
       "    <tr>\n",
       "      <th>8660</th>\n",
       "      <td>994</td>\n",
       "      <td>ZINC35141443</td>\n",
       "      <td>-7.8</td>\n",
       "      <td>-28.5967</td>\n",
       "      <td>0</td>\n",
       "      <td>gcr</td>\n",
       "      <td>-7.8</td>\n",
       "      <td>-28.5967</td>\n",
       "      <td>ZINC35141443</td>\n",
       "      <td>11247</td>\n",
       "      <td>test</td>\n",
       "    </tr>\n",
       "    <tr>\n",
       "      <th>8661</th>\n",
       "      <td>9941</td>\n",
       "      <td>ZINC08387402</td>\n",
       "      <td>-7.3</td>\n",
       "      <td>-5.9566</td>\n",
       "      <td>0</td>\n",
       "      <td>gcr</td>\n",
       "      <td>-7.3</td>\n",
       "      <td>-5.9566</td>\n",
       "      <td>ZINC08387402</td>\n",
       "      <td>11247</td>\n",
       "      <td>test</td>\n",
       "    </tr>\n",
       "    <tr>\n",
       "      <th>8678</th>\n",
       "      <td>9969</td>\n",
       "      <td>ZINC64795840</td>\n",
       "      <td>-7.4</td>\n",
       "      <td>-20.0953</td>\n",
       "      <td>0</td>\n",
       "      <td>gcr</td>\n",
       "      <td>-7.4</td>\n",
       "      <td>-20.0953</td>\n",
       "      <td>ZINC64795840</td>\n",
       "      <td>11247</td>\n",
       "      <td>test</td>\n",
       "    </tr>\n",
       "    <tr>\n",
       "      <th>8698</th>\n",
       "      <td>9992</td>\n",
       "      <td>ZINC02647100</td>\n",
       "      <td>-5.5</td>\n",
       "      <td>-11.0534</td>\n",
       "      <td>0</td>\n",
       "      <td>gcr</td>\n",
       "      <td>-5.5</td>\n",
       "      <td>-11.0534</td>\n",
       "      <td>ZINC02647100</td>\n",
       "      <td>11247</td>\n",
       "      <td>test</td>\n",
       "    </tr>\n",
       "    <tr>\n",
       "      <th>8699</th>\n",
       "      <td>9993</td>\n",
       "      <td>ZINC06160061</td>\n",
       "      <td>-6.2</td>\n",
       "      <td>-25.7973</td>\n",
       "      <td>0</td>\n",
       "      <td>gcr</td>\n",
       "      <td>-6.2</td>\n",
       "      <td>-25.7973</td>\n",
       "      <td>ZINC06160061</td>\n",
       "      <td>11247</td>\n",
       "      <td>test</td>\n",
       "    </tr>\n",
       "  </tbody>\n",
       "</table>\n",
       "<p>47708 rows × 11 columns</p>\n",
       "</div>"
      ],
      "text/plain": [
       "         0             1    2        3  y_true target  vina     gbsa  \\\n",
       "65     158  CHEMBL178355 -7.3 -23.4889       1   pgh1  -7.3 -23.4889   \n",
       "68     161  CHEMBL283267 -7.7 -26.2514       1   pgh1  -7.7 -26.2514   \n",
       "69     162  CHEMBL184374 -7.1 -22.7434       1   pgh1  -7.1 -22.7434   \n",
       "79     171  CHEMBL433892 -7.3 -29.1098       1   pgh1  -7.3 -29.1098   \n",
       "90     180  CHEMBL404928 -6.6 -22.1502       1   pgh1  -6.6 -22.1502   \n",
       "...    ...           ...  ...      ...     ...    ...   ...      ...   \n",
       "8660   994  ZINC35141443 -7.8 -28.5967       0    gcr  -7.8 -28.5967   \n",
       "8661  9941  ZINC08387402 -7.3  -5.9566       0    gcr  -7.3  -5.9566   \n",
       "8678  9969  ZINC64795840 -7.4 -20.0953       0    gcr  -7.4 -20.0953   \n",
       "8698  9992  ZINC02647100 -5.5 -11.0534       0    gcr  -5.5 -11.0534   \n",
       "8699  9993  ZINC06160061 -6.2 -25.7973       0    gcr  -6.2 -25.7973   \n",
       "\n",
       "           cmpd_id  target_size subset  \n",
       "65    CHEMBL178355         9475   test  \n",
       "68    CHEMBL283267         9475   test  \n",
       "69    CHEMBL184374         9475   test  \n",
       "79    CHEMBL433892         9475   test  \n",
       "90    CHEMBL404928         9475   test  \n",
       "...            ...          ...    ...  \n",
       "8660  ZINC35141443        11247   test  \n",
       "8661  ZINC08387402        11247   test  \n",
       "8678  ZINC64795840        11247   test  \n",
       "8698  ZINC02647100        11247   test  \n",
       "8699  ZINC06160061        11247   test  \n",
       "\n",
       "[47708 rows x 11 columns]"
      ]
     },
     "execution_count": 61,
     "metadata": {},
     "output_type": "execute_result"
    }
   ],
   "source": [
    "df"
   ]
  },
  {
   "cell_type": "code",
   "execution_count": 62,
   "metadata": {},
   "outputs": [
    {
     "name": "stdout",
     "output_type": "stream",
     "text": [
      "ace, 1.6811\t1.3534\t1587\n",
      "aces, 12.2992\t4.7184\t2126\n",
      "ada, 0.0000\t0.2302\t574\n",
      "aldr, 3.5769\t1.5330\t837\n",
      "ampc, 0.0000\t1.2292\t295\n",
      "andr, 18.3714\t2.9677\t643\n",
      "bace1, 3.6061\t2.6398\t1529\n",
      "cdk2, 1.4183\t1.7606\t2604\n",
      "comt, 0.0000\t0.9002\t406\n",
      "dyr, 0.0000\t1.7635\t1459\n",
      "egfr, 4.3677\t2.2381\t3219\n",
      "esr1, 3.6968\t2.2181\t1597\n",
      "fa10, 5.4376\t2.1879\t1687\n",
      "gcr, 0.0000\t2.3696\t872\n",
      "hivpr, 1.3017\t3.1342\t3087\n",
      "hivrt, 0.0000\t2.6167\t157\n",
      "hmdh, 0.0000\t0.9665\t789\n",
      "hs90a, 0.0000\t0.0000\t466\n",
      "inha, 0.0000\t1.7438\t211\n",
      "kith, 0.0000\t0.5402\t282\n",
      "mcr, 9.7333\t3.8933\t146\n",
      "mk14, 7.4759\t2.5798\t3079\n",
      "nram, 0.0000\t0.0000\t587\n",
      "parp1, 10.4211\t3.9371\t2673\n",
      "pde5a, 8.6297\t2.4922\t2223\n",
      "pgh1, 0.0000\t1.1006\t941\n",
      "pgh2, 4.0780\t3.1823\t1725\n",
      "pnph, 5.1984\t2.2054\t655\n",
      "pparg, 5.8793\t4.6167\t2265\n",
      "prgr, 12.3974\t4.0899\t967\n",
      "pur2, 6.1795\t5.1908\t241\n",
      "pygm, 0.0000\t0.9015\t357\n",
      "rxra, 18.9333\t9.9649\t568\n",
      "sahh, 0.0000\t0.0000\t336\n",
      "src, 3.2879\t1.9727\t2992\n",
      "thrb, 4.9508\t4.0506\t880\n",
      "try1, 2.7153\t1.7873\t782\n",
      "vgfr2, 21.6409\t4.8374\t1864\n"
     ]
    }
   ],
   "source": [
    "target_size_list = []\n",
    "vina_enrich_1_list = []\n",
    "vina_enrich_10_list = []\n",
    "\n",
    "for target, target_df in df.groupby(\"target\"):\n",
    "    \n",
    "    ef_1 = compute_enrichment_factor(scores=np.abs(target_df[\"vina\"]), labels=target_df[\"y_true\"], n_percent=0.01)\n",
    "    ef_10 = compute_enrichment_factor(scores=np.abs(target_df[\"vina\"]), labels=target_df[\"y_true\"], n_percent=0.1)\n",
    "\n",
    "    \n",
    "    target_size_list.append(target_df.shape[0])\n",
    "    \n",
    "    vina_enrich_1_list.append(ef_1)\n",
    "    vina_enrich_10_list.append(ef_10)\n",
    "    \n",
    "    \n",
    "    print(f\"{target}, {ef_1:.4f}\\t{ef_10:.4f}\\t{target_df.shape[0]}\")\n",
    "    \n",
    "sorted_vina_enrich_1_list = [x for _, x in sorted(zip(target_size_list, vina_enrich_1_list), key=lambda pair: pair[0])]\n",
    "sorted_vina_enrich_10_list = [x for _, x in sorted(zip(target_size_list, vina_enrich_10_list), key=lambda pair: pair[0])]\n",
    "\n"
   ]
  },
  {
   "cell_type": "markdown",
   "metadata": {},
   "source": [
    "I think it would be good to move away from the per-target (sorted by size) scatter plot and instead make a series of box plots...this should make it easier to compare the enrichment factors as you increase the amount of data that you are allowed to screen"
   ]
  },
  {
   "cell_type": "code",
   "execution_count": 63,
   "metadata": {},
   "outputs": [
    {
     "data": {
      "text/html": [
       "<div>\n",
       "<style scoped>\n",
       "    .dataframe tbody tr th:only-of-type {\n",
       "        vertical-align: middle;\n",
       "    }\n",
       "\n",
       "    .dataframe tbody tr th {\n",
       "        vertical-align: top;\n",
       "    }\n",
       "\n",
       "    .dataframe thead th {\n",
       "        text-align: right;\n",
       "    }\n",
       "</style>\n",
       "<table border=\"1\" class=\"dataframe\">\n",
       "  <thead>\n",
       "    <tr style=\"text-align: right;\">\n",
       "      <th></th>\n",
       "      <th>model</th>\n",
       "      <th>enrich-1-mean</th>\n",
       "      <th>enrich-1-std</th>\n",
       "      <th>enrich-10-mean</th>\n",
       "      <th>enrich-10-std</th>\n",
       "      <th>train_time</th>\n",
       "      <th>test_time</th>\n",
       "      <th>train_size</th>\n",
       "      <th>test_size</th>\n",
       "      <th>metric</th>\n",
       "    </tr>\n",
       "  </thead>\n",
       "  <tbody>\n",
       "    <tr>\n",
       "      <th>0</th>\n",
       "      <td>smiles-pe.atomwise.0</td>\n",
       "      <td>91.857143</td>\n",
       "      <td>0.000000e+00</td>\n",
       "      <td>9.892308</td>\n",
       "      <td>0.000000</td>\n",
       "      <td>0.874518</td>\n",
       "      <td>0.135526</td>\n",
       "      <td>5145.0</td>\n",
       "      <td>643.0</td>\n",
       "      <td>NaN</td>\n",
       "    </tr>\n",
       "    <tr>\n",
       "      <th>1</th>\n",
       "      <td>smiles-pe.atomwise.0</td>\n",
       "      <td>16.688889</td>\n",
       "      <td>0.000000e+00</td>\n",
       "      <td>8.256608</td>\n",
       "      <td>0.281213</td>\n",
       "      <td>1.046939</td>\n",
       "      <td>0.218363</td>\n",
       "      <td>6022.0</td>\n",
       "      <td>751.0</td>\n",
       "      <td>NaN</td>\n",
       "    </tr>\n",
       "    <tr>\n",
       "      <th>2</th>\n",
       "      <td>smiles-pe.atomwise.0</td>\n",
       "      <td>43.984286</td>\n",
       "      <td>1.332857e+00</td>\n",
       "      <td>9.358359</td>\n",
       "      <td>0.189058</td>\n",
       "      <td>1.222343</td>\n",
       "      <td>0.195387</td>\n",
       "      <td>7420.0</td>\n",
       "      <td>933.0</td>\n",
       "      <td>NaN</td>\n",
       "    </tr>\n",
       "    <tr>\n",
       "      <th>3</th>\n",
       "      <td>smiles-pe.atomwise.0</td>\n",
       "      <td>32.840000</td>\n",
       "      <td>7.105427e-15</td>\n",
       "      <td>9.414133</td>\n",
       "      <td>0.091207</td>\n",
       "      <td>3.076663</td>\n",
       "      <td>0.435076</td>\n",
       "      <td>13168.0</td>\n",
       "      <td>1642.0</td>\n",
       "      <td>NaN</td>\n",
       "    </tr>\n",
       "    <tr>\n",
       "      <th>4</th>\n",
       "      <td>smiles-pe.atomwise.0</td>\n",
       "      <td>47.416667</td>\n",
       "      <td>7.105427e-15</td>\n",
       "      <td>9.705166</td>\n",
       "      <td>0.000000</td>\n",
       "      <td>2.245790</td>\n",
       "      <td>0.331386</td>\n",
       "      <td>13688.0</td>\n",
       "      <td>1707.0</td>\n",
       "      <td>NaN</td>\n",
       "    </tr>\n",
       "    <tr>\n",
       "      <th>...</th>\n",
       "      <td>...</td>\n",
       "      <td>...</td>\n",
       "      <td>...</td>\n",
       "      <td>...</td>\n",
       "      <td>...</td>\n",
       "      <td>...</td>\n",
       "      <td>...</td>\n",
       "      <td>...</td>\n",
       "      <td>...</td>\n",
       "      <td>...</td>\n",
       "    </tr>\n",
       "    <tr>\n",
       "      <th>33</th>\n",
       "      <td>Vina</td>\n",
       "      <td>10.421053</td>\n",
       "      <td>NaN</td>\n",
       "      <td>3.937058</td>\n",
       "      <td>NaN</td>\n",
       "      <td>NaN</td>\n",
       "      <td>NaN</td>\n",
       "      <td>NaN</td>\n",
       "      <td>NaN</td>\n",
       "      <td>0.0</td>\n",
       "    </tr>\n",
       "    <tr>\n",
       "      <th>34</th>\n",
       "      <td>Vina</td>\n",
       "      <td>3.287912</td>\n",
       "      <td>NaN</td>\n",
       "      <td>1.972747</td>\n",
       "      <td>NaN</td>\n",
       "      <td>NaN</td>\n",
       "      <td>NaN</td>\n",
       "      <td>NaN</td>\n",
       "      <td>NaN</td>\n",
       "      <td>0.0</td>\n",
       "    </tr>\n",
       "    <tr>\n",
       "      <th>35</th>\n",
       "      <td>Vina</td>\n",
       "      <td>7.475893</td>\n",
       "      <td>NaN</td>\n",
       "      <td>2.579807</td>\n",
       "      <td>NaN</td>\n",
       "      <td>NaN</td>\n",
       "      <td>NaN</td>\n",
       "      <td>NaN</td>\n",
       "      <td>NaN</td>\n",
       "      <td>0.0</td>\n",
       "    </tr>\n",
       "    <tr>\n",
       "      <th>36</th>\n",
       "      <td>Vina</td>\n",
       "      <td>1.301708</td>\n",
       "      <td>NaN</td>\n",
       "      <td>3.134209</td>\n",
       "      <td>NaN</td>\n",
       "      <td>NaN</td>\n",
       "      <td>NaN</td>\n",
       "      <td>NaN</td>\n",
       "      <td>NaN</td>\n",
       "      <td>0.0</td>\n",
       "    </tr>\n",
       "    <tr>\n",
       "      <th>37</th>\n",
       "      <td>Vina</td>\n",
       "      <td>4.367707</td>\n",
       "      <td>NaN</td>\n",
       "      <td>2.238111</td>\n",
       "      <td>NaN</td>\n",
       "      <td>NaN</td>\n",
       "      <td>NaN</td>\n",
       "      <td>NaN</td>\n",
       "      <td>NaN</td>\n",
       "      <td>0.0</td>\n",
       "    </tr>\n",
       "  </tbody>\n",
       "</table>\n",
       "<p>380 rows × 10 columns</p>\n",
       "</div>"
      ],
      "text/plain": [
       "                   model  enrich-1-mean  enrich-1-std  enrich-10-mean  \\\n",
       "0   smiles-pe.atomwise.0      91.857143  0.000000e+00        9.892308   \n",
       "1   smiles-pe.atomwise.0      16.688889  0.000000e+00        8.256608   \n",
       "2   smiles-pe.atomwise.0      43.984286  1.332857e+00        9.358359   \n",
       "3   smiles-pe.atomwise.0      32.840000  7.105427e-15        9.414133   \n",
       "4   smiles-pe.atomwise.0      47.416667  7.105427e-15        9.705166   \n",
       "..                   ...            ...           ...             ...   \n",
       "33                  Vina      10.421053           NaN        3.937058   \n",
       "34                  Vina       3.287912           NaN        1.972747   \n",
       "35                  Vina       7.475893           NaN        2.579807   \n",
       "36                  Vina       1.301708           NaN        3.134209   \n",
       "37                  Vina       4.367707           NaN        2.238111   \n",
       "\n",
       "    enrich-10-std  train_time  test_time  train_size  test_size  metric  \n",
       "0        0.000000    0.874518   0.135526      5145.0      643.0     NaN  \n",
       "1        0.281213    1.046939   0.218363      6022.0      751.0     NaN  \n",
       "2        0.189058    1.222343   0.195387      7420.0      933.0     NaN  \n",
       "3        0.091207    3.076663   0.435076     13168.0     1642.0     NaN  \n",
       "4        0.000000    2.245790   0.331386     13688.0     1707.0     NaN  \n",
       "..            ...         ...        ...         ...        ...     ...  \n",
       "33            NaN         NaN        NaN         NaN        NaN     0.0  \n",
       "34            NaN         NaN        NaN         NaN        NaN     0.0  \n",
       "35            NaN         NaN        NaN         NaN        NaN     0.0  \n",
       "36            NaN         NaN        NaN         NaN        NaN     0.0  \n",
       "37            NaN         NaN        NaN         NaN        NaN     0.0  \n",
       "\n",
       "[380 rows x 10 columns]"
      ]
     },
     "execution_count": 63,
     "metadata": {},
     "output_type": "execute_result"
    }
   ],
   "source": [
    "model_metric_df = pd.concat([model_metric_df, pd.DataFrame({\"metric\": [0]*38, \"enrich-1-mean\": sorted_vina_enrich_1_list, \n",
    "                                            \"enrich-10-mean\": sorted_vina_enrich_10_list,\n",
    "                                          \"model\": [\"Vina\"]*38, \n",
    "                                                           })])\n",
    "\n",
    "\n",
    "model_metric_df"
   ]
  },
  {
   "cell_type": "code",
   "execution_count": 64,
   "metadata": {},
   "outputs": [
    {
     "data": {
      "text/plain": [
       "Text(3.2000000000000135, 0.5, 'EF')"
      ]
     },
     "execution_count": 64,
     "metadata": {},
     "output_type": "execute_result"
    }
   ],
   "source": [
    "sns.boxplot(data=model_metric_df[model_metric_df[\"model\"].apply(lambda x: \"openhd\" not in x.lower())], x=\"model\", y=\"enrich-1-mean\", ax=dude_enrich_1_ax, palette=color_dict)\n",
    "# dude_enrich_1_ax.set_title(\"(a) DUD-E Enrichment at 1\\%\", fontdict={\"fontsize\": 18})\n",
    "dude_enrich_1_ax.tick_params(axis=\"x\", labelrotation=22.5)\n",
    "dude_enrich_1_ax.set_xlabel(\"\")\n",
    "dude_enrich_1_ax.set_ylabel(\"EF\")\n",
    "\n",
    "# labels = [x[1] for x in model_order_list]\n",
    "\n",
    "# dude_enrich_1_ax.set_xticklabels(labels)\n"
   ]
  },
  {
   "cell_type": "code",
   "execution_count": 65,
   "metadata": {},
   "outputs": [],
   "source": [
    "sns.boxplot(data=model_metric_df[model_metric_df[\"model\"].apply(lambda x: \"openhd\" not in x.lower())], x=\"model\", y=\"enrich-10-mean\", ax=dude_enrich_10_ax, palette=color_dict)\n",
    "# dude_enrich_10_ax.set_title(\"(b) DUD-E Enrichment at 10\\%\", fontdict={\"fontsize\": 18})\n",
    "\n",
    "dude_enrich_10_ax.tick_params(axis=\"x\", labelrotation=22.5)\n",
    "# dude_enrich_10_ax.tick_params(axis=\"y\")\n",
    "dude_enrich_10_ax.set_xlabel(\"\")\n",
    "dude_enrich_10_ax.set_ylabel(\"EF\")\n",
    "\n",
    "labels = [model_name_dict[x.get_text()] for x in dude_enrich_10_ax.get_xticklabels()]\n",
    "dude_enrich_10_ax.set_xticklabels(labels)\n",
    "\n",
    "\n",
    "# # dude_enrich_10_ax.set_xticklabels(labels)\n",
    "# plt.tight_layout()\n",
    "dude_enrich_f.savefig(\"dude_enrich.png\", dpi=600, bbox_inches=\"tight\")\n"
   ]
  },
  {
   "cell_type": "code",
   "execution_count": 66,
   "metadata": {},
   "outputs": [
    {
     "data": {
      "image/png": "[encoded data removed]",
      "text/plain": [
       "<Figure size 864x720 with 2 Axes>"
      ]
     },
     "execution_count": 66,
     "metadata": {},
     "output_type": "execute_result"
    }
   ],
   "source": [
    "dude_enrich_f"
   ]
  },
  {
   "cell_type": "code",
   "execution_count": 67,
   "metadata": {},
   "outputs": [
    {
     "name": "stdout",
     "output_type": "stream",
     "text": [
      "(38, 10)\n",
      "(38, 10)\n",
      "(38, 10)\n",
      "(38, 10)\n",
      "(38, 10)\n",
      "(38, 10)\n",
      "(38, 10)\n",
      "(38, 10)\n",
      "(38, 10)\n",
      "(38, 10)\n"
     ]
    }
   ],
   "source": [
    "model_metric_df[model_metric_df['model'] == \"rp\"].shape\n",
    "for group_name, group_df in model_metric_df.groupby(\"model\"):\n",
    "    print(group_df.shape)"
   ]
  },
  {
   "cell_type": "code",
   "execution_count": 68,
   "metadata": {},
   "outputs": [
    {
     "data": {
      "text/html": [
       "<div>\n",
       "<style scoped>\n",
       "    .dataframe tbody tr th:only-of-type {\n",
       "        vertical-align: middle;\n",
       "    }\n",
       "\n",
       "    .dataframe tbody tr th {\n",
       "        vertical-align: top;\n",
       "    }\n",
       "\n",
       "    .dataframe thead tr th {\n",
       "        text-align: left;\n",
       "    }\n",
       "\n",
       "    .dataframe thead tr:last-of-type th {\n",
       "        text-align: right;\n",
       "    }\n",
       "</style>\n",
       "<table border=\"1\" class=\"dataframe\">\n",
       "  <thead>\n",
       "    <tr>\n",
       "      <th></th>\n",
       "      <th colspan=\"8\" halign=\"left\">enrich-1-mean</th>\n",
       "      <th colspan=\"8\" halign=\"left\">enrich-10-mean</th>\n",
       "    </tr>\n",
       "    <tr>\n",
       "      <th></th>\n",
       "      <th>count</th>\n",
       "      <th>mean</th>\n",
       "      <th>std</th>\n",
       "      <th>min</th>\n",
       "      <th>25%</th>\n",
       "      <th>50%</th>\n",
       "      <th>75%</th>\n",
       "      <th>max</th>\n",
       "      <th>count</th>\n",
       "      <th>mean</th>\n",
       "      <th>std</th>\n",
       "      <th>min</th>\n",
       "      <th>25%</th>\n",
       "      <th>50%</th>\n",
       "      <th>75%</th>\n",
       "      <th>max</th>\n",
       "    </tr>\n",
       "    <tr>\n",
       "      <th>model</th>\n",
       "      <th></th>\n",
       "      <th></th>\n",
       "      <th></th>\n",
       "      <th></th>\n",
       "      <th></th>\n",
       "      <th></th>\n",
       "      <th></th>\n",
       "      <th></th>\n",
       "      <th></th>\n",
       "      <th></th>\n",
       "      <th></th>\n",
       "      <th></th>\n",
       "      <th></th>\n",
       "      <th></th>\n",
       "      <th></th>\n",
       "      <th></th>\n",
       "    </tr>\n",
       "  </thead>\n",
       "  <tbody>\n",
       "    <tr>\n",
       "      <th>Vina</th>\n",
       "      <td>38.0</td>\n",
       "      <td>4.665199</td>\n",
       "      <td>5.764932</td>\n",
       "      <td>0.00</td>\n",
       "      <td>0.000000</td>\n",
       "      <td>3.432418</td>\n",
       "      <td>6.104440</td>\n",
       "      <td>21.640867</td>\n",
       "      <td>38.0</td>\n",
       "      <td>2.471403</td>\n",
       "      <td>1.886596</td>\n",
       "      <td>0.000000</td>\n",
       "      <td>1.260218</td>\n",
       "      <td>2.211721</td>\n",
       "      <td>3.170251</td>\n",
       "      <td>9.964912</td>\n",
       "    </tr>\n",
       "    <tr>\n",
       "      <th>ecfp</th>\n",
       "      <td>38.0</td>\n",
       "      <td>48.879478</td>\n",
       "      <td>18.618741</td>\n",
       "      <td>7.35</td>\n",
       "      <td>41.018336</td>\n",
       "      <td>47.991764</td>\n",
       "      <td>57.995687</td>\n",
       "      <td>91.857143</td>\n",
       "      <td>38.0</td>\n",
       "      <td>9.610850</td>\n",
       "      <td>0.584149</td>\n",
       "      <td>7.350000</td>\n",
       "      <td>9.581469</td>\n",
       "      <td>9.839481</td>\n",
       "      <td>9.937364</td>\n",
       "      <td>10.000000</td>\n",
       "    </tr>\n",
       "    <tr>\n",
       "      <th>mlp</th>\n",
       "      <td>38.0</td>\n",
       "      <td>49.651707</td>\n",
       "      <td>19.416390</td>\n",
       "      <td>7.35</td>\n",
       "      <td>41.018336</td>\n",
       "      <td>47.991764</td>\n",
       "      <td>61.548611</td>\n",
       "      <td>91.857143</td>\n",
       "      <td>38.0</td>\n",
       "      <td>9.641049</td>\n",
       "      <td>0.722382</td>\n",
       "      <td>6.391667</td>\n",
       "      <td>9.735985</td>\n",
       "      <td>9.897767</td>\n",
       "      <td>9.948045</td>\n",
       "      <td>10.000000</td>\n",
       "    </tr>\n",
       "    <tr>\n",
       "      <th>openhd-ecfp</th>\n",
       "      <td>38.0</td>\n",
       "      <td>5.681031</td>\n",
       "      <td>12.342704</td>\n",
       "      <td>0.00</td>\n",
       "      <td>0.000000</td>\n",
       "      <td>0.000000</td>\n",
       "      <td>4.166640</td>\n",
       "      <td>51.333333</td>\n",
       "      <td>38.0</td>\n",
       "      <td>2.135541</td>\n",
       "      <td>2.336629</td>\n",
       "      <td>0.000000</td>\n",
       "      <td>0.955682</td>\n",
       "      <td>1.422711</td>\n",
       "      <td>2.177408</td>\n",
       "      <td>9.629630</td>\n",
       "    </tr>\n",
       "    <tr>\n",
       "      <th>openhd-rp</th>\n",
       "      <td>38.0</td>\n",
       "      <td>21.930473</td>\n",
       "      <td>26.149160</td>\n",
       "      <td>0.00</td>\n",
       "      <td>0.000000</td>\n",
       "      <td>5.602974</td>\n",
       "      <td>39.773880</td>\n",
       "      <td>89.166667</td>\n",
       "      <td>38.0</td>\n",
       "      <td>4.969829</td>\n",
       "      <td>4.023492</td>\n",
       "      <td>0.000000</td>\n",
       "      <td>1.312813</td>\n",
       "      <td>4.009214</td>\n",
       "      <td>9.343701</td>\n",
       "      <td>9.975000</td>\n",
       "    </tr>\n",
       "    <tr>\n",
       "      <th>rf</th>\n",
       "      <td>38.0</td>\n",
       "      <td>50.299595</td>\n",
       "      <td>20.273109</td>\n",
       "      <td>7.35</td>\n",
       "      <td>41.018336</td>\n",
       "      <td>47.991764</td>\n",
       "      <td>61.548611</td>\n",
       "      <td>92.600000</td>\n",
       "      <td>38.0</td>\n",
       "      <td>9.648628</td>\n",
       "      <td>0.643554</td>\n",
       "      <td>7.350000</td>\n",
       "      <td>9.691888</td>\n",
       "      <td>9.884750</td>\n",
       "      <td>9.945559</td>\n",
       "      <td>10.000000</td>\n",
       "    </tr>\n",
       "    <tr>\n",
       "      <th>rp</th>\n",
       "      <td>38.0</td>\n",
       "      <td>48.841328</td>\n",
       "      <td>18.606270</td>\n",
       "      <td>7.35</td>\n",
       "      <td>41.018336</td>\n",
       "      <td>47.991764</td>\n",
       "      <td>57.850000</td>\n",
       "      <td>91.857143</td>\n",
       "      <td>38.0</td>\n",
       "      <td>9.696737</td>\n",
       "      <td>0.520078</td>\n",
       "      <td>7.350000</td>\n",
       "      <td>9.727739</td>\n",
       "      <td>9.884750</td>\n",
       "      <td>9.945559</td>\n",
       "      <td>10.000000</td>\n",
       "    </tr>\n",
       "    <tr>\n",
       "      <th>selfies.atomwise</th>\n",
       "      <td>38.0</td>\n",
       "      <td>46.885436</td>\n",
       "      <td>18.268510</td>\n",
       "      <td>7.35</td>\n",
       "      <td>41.018336</td>\n",
       "      <td>47.351190</td>\n",
       "      <td>56.754167</td>\n",
       "      <td>91.857143</td>\n",
       "      <td>38.0</td>\n",
       "      <td>8.946550</td>\n",
       "      <td>1.078520</td>\n",
       "      <td>6.000000</td>\n",
       "      <td>8.712646</td>\n",
       "      <td>9.214594</td>\n",
       "      <td>9.783278</td>\n",
       "      <td>9.925926</td>\n",
       "    </tr>\n",
       "    <tr>\n",
       "      <th>smiles-pe.atomwise.0</th>\n",
       "      <td>38.0</td>\n",
       "      <td>44.385852</td>\n",
       "      <td>16.940196</td>\n",
       "      <td>7.35</td>\n",
       "      <td>38.510900</td>\n",
       "      <td>45.882057</td>\n",
       "      <td>53.679319</td>\n",
       "      <td>91.857143</td>\n",
       "      <td>38.0</td>\n",
       "      <td>8.998361</td>\n",
       "      <td>1.326607</td>\n",
       "      <td>2.335417</td>\n",
       "      <td>8.638054</td>\n",
       "      <td>9.363905</td>\n",
       "      <td>9.757373</td>\n",
       "      <td>9.925926</td>\n",
       "    </tr>\n",
       "    <tr>\n",
       "      <th>smiles-pe.bpe.0</th>\n",
       "      <td>38.0</td>\n",
       "      <td>47.343310</td>\n",
       "      <td>16.186690</td>\n",
       "      <td>7.35</td>\n",
       "      <td>40.973157</td>\n",
       "      <td>47.499828</td>\n",
       "      <td>56.800000</td>\n",
       "      <td>83.983673</td>\n",
       "      <td>38.0</td>\n",
       "      <td>8.571762</td>\n",
       "      <td>1.101500</td>\n",
       "      <td>4.793750</td>\n",
       "      <td>8.136993</td>\n",
       "      <td>8.877215</td>\n",
       "      <td>9.323135</td>\n",
       "      <td>9.922078</td>\n",
       "    </tr>\n",
       "  </tbody>\n",
       "</table>\n",
       "</div>"
      ],
      "text/plain": [
       "                     enrich-1-mean                                         \\\n",
       "                             count       mean        std   min        25%   \n",
       "model                                                                       \n",
       "Vina                          38.0   4.665199   5.764932  0.00   0.000000   \n",
       "ecfp                          38.0  48.879478  18.618741  7.35  41.018336   \n",
       "mlp                           38.0  49.651707  19.416390  7.35  41.018336   \n",
       "openhd-ecfp                   38.0   5.681031  12.342704  0.00   0.000000   \n",
       "openhd-rp                     38.0  21.930473  26.149160  0.00   0.000000   \n",
       "rf                            38.0  50.299595  20.273109  7.35  41.018336   \n",
       "rp                            38.0  48.841328  18.606270  7.35  41.018336   \n",
       "selfies.atomwise              38.0  46.885436  18.268510  7.35  41.018336   \n",
       "smiles-pe.atomwise.0          38.0  44.385852  16.940196  7.35  38.510900   \n",
       "smiles-pe.bpe.0               38.0  47.343310  16.186690  7.35  40.973157   \n",
       "\n",
       "                                                      enrich-10-mean  \\\n",
       "                            50%        75%        max          count   \n",
       "model                                                                  \n",
       "Vina                   3.432418   6.104440  21.640867           38.0   \n",
       "ecfp                  47.991764  57.995687  91.857143           38.0   \n",
       "mlp                   47.991764  61.548611  91.857143           38.0   \n",
       "openhd-ecfp            0.000000   4.166640  51.333333           38.0   \n",
       "openhd-rp              5.602974  39.773880  89.166667           38.0   \n",
       "rf                    47.991764  61.548611  92.600000           38.0   \n",
       "rp                    47.991764  57.850000  91.857143           38.0   \n",
       "selfies.atomwise      47.351190  56.754167  91.857143           38.0   \n",
       "smiles-pe.atomwise.0  45.882057  53.679319  91.857143           38.0   \n",
       "smiles-pe.bpe.0       47.499828  56.800000  83.983673           38.0   \n",
       "\n",
       "                                                                        \\\n",
       "                          mean       std       min       25%       50%   \n",
       "model                                                                    \n",
       "Vina                  2.471403  1.886596  0.000000  1.260218  2.211721   \n",
       "ecfp                  9.610850  0.584149  7.350000  9.581469  9.839481   \n",
       "mlp                   9.641049  0.722382  6.391667  9.735985  9.897767   \n",
       "openhd-ecfp           2.135541  2.336629  0.000000  0.955682  1.422711   \n",
       "openhd-rp             4.969829  4.023492  0.000000  1.312813  4.009214   \n",
       "rf                    9.648628  0.643554  7.350000  9.691888  9.884750   \n",
       "rp                    9.696737  0.520078  7.350000  9.727739  9.884750   \n",
       "selfies.atomwise      8.946550  1.078520  6.000000  8.712646  9.214594   \n",
       "smiles-pe.atomwise.0  8.998361  1.326607  2.335417  8.638054  9.363905   \n",
       "smiles-pe.bpe.0       8.571762  1.101500  4.793750  8.136993  8.877215   \n",
       "\n",
       "                                           \n",
       "                           75%        max  \n",
       "model                                      \n",
       "Vina                  3.170251   9.964912  \n",
       "ecfp                  9.937364  10.000000  \n",
       "mlp                   9.948045  10.000000  \n",
       "openhd-ecfp           2.177408   9.629630  \n",
       "openhd-rp             9.343701   9.975000  \n",
       "rf                    9.945559  10.000000  \n",
       "rp                    9.945559  10.000000  \n",
       "selfies.atomwise      9.783278   9.925926  \n",
       "smiles-pe.atomwise.0  9.757373   9.925926  \n",
       "smiles-pe.bpe.0       9.323135   9.922078  "
      ]
     },
     "execution_count": 68,
     "metadata": {},
     "output_type": "execute_result"
    }
   ],
   "source": [
    "model_metric_df.groupby('model').describe()[['enrich-1-mean', 'enrich-10-mean']]"
   ]
  },
  {
   "cell_type": "code",
   "execution_count": 69,
   "metadata": {},
   "outputs": [
    {
     "data": {
      "text/html": [
       "<div>\n",
       "<style scoped>\n",
       "    .dataframe tbody tr th:only-of-type {\n",
       "        vertical-align: middle;\n",
       "    }\n",
       "\n",
       "    .dataframe tbody tr th {\n",
       "        vertical-align: top;\n",
       "    }\n",
       "\n",
       "    .dataframe thead tr th {\n",
       "        text-align: left;\n",
       "    }\n",
       "\n",
       "    .dataframe thead tr:last-of-type th {\n",
       "        text-align: right;\n",
       "    }\n",
       "</style>\n",
       "<table border=\"1\" class=\"dataframe\">\n",
       "  <thead>\n",
       "    <tr>\n",
       "      <th></th>\n",
       "      <th colspan=\"8\" halign=\"left\">enrich-1-std</th>\n",
       "      <th colspan=\"8\" halign=\"left\">enrich-10-std</th>\n",
       "    </tr>\n",
       "    <tr>\n",
       "      <th></th>\n",
       "      <th>count</th>\n",
       "      <th>mean</th>\n",
       "      <th>std</th>\n",
       "      <th>min</th>\n",
       "      <th>25%</th>\n",
       "      <th>50%</th>\n",
       "      <th>75%</th>\n",
       "      <th>max</th>\n",
       "      <th>count</th>\n",
       "      <th>mean</th>\n",
       "      <th>std</th>\n",
       "      <th>min</th>\n",
       "      <th>25%</th>\n",
       "      <th>50%</th>\n",
       "      <th>75%</th>\n",
       "      <th>max</th>\n",
       "    </tr>\n",
       "    <tr>\n",
       "      <th>model</th>\n",
       "      <th></th>\n",
       "      <th></th>\n",
       "      <th></th>\n",
       "      <th></th>\n",
       "      <th></th>\n",
       "      <th></th>\n",
       "      <th></th>\n",
       "      <th></th>\n",
       "      <th></th>\n",
       "      <th></th>\n",
       "      <th></th>\n",
       "      <th></th>\n",
       "      <th></th>\n",
       "      <th></th>\n",
       "      <th></th>\n",
       "      <th></th>\n",
       "    </tr>\n",
       "  </thead>\n",
       "  <tbody>\n",
       "    <tr>\n",
       "      <th>Vina</th>\n",
       "      <td>0.0</td>\n",
       "      <td>NaN</td>\n",
       "      <td>NaN</td>\n",
       "      <td>NaN</td>\n",
       "      <td>NaN</td>\n",
       "      <td>NaN</td>\n",
       "      <td>NaN</td>\n",
       "      <td>NaN</td>\n",
       "      <td>0.0</td>\n",
       "      <td>NaN</td>\n",
       "      <td>NaN</td>\n",
       "      <td>NaN</td>\n",
       "      <td>NaN</td>\n",
       "      <td>NaN</td>\n",
       "      <td>NaN</td>\n",
       "      <td>NaN</td>\n",
       "    </tr>\n",
       "    <tr>\n",
       "      <th>ecfp</th>\n",
       "      <td>38.0</td>\n",
       "      <td>6.543306e-02</td>\n",
       "      <td>3.090660e-01</td>\n",
       "      <td>0.0</td>\n",
       "      <td>0.0</td>\n",
       "      <td>0.000000e+00</td>\n",
       "      <td>7.105427e-15</td>\n",
       "      <td>1.793578e+00</td>\n",
       "      <td>38.0</td>\n",
       "      <td>1.941830e-02</td>\n",
       "      <td>4.035053e-02</td>\n",
       "      <td>0.0</td>\n",
       "      <td>0.000000e+00</td>\n",
       "      <td>1.776357e-15</td>\n",
       "      <td>1.776357e-15</td>\n",
       "      <td>1.386452e-01</td>\n",
       "    </tr>\n",
       "    <tr>\n",
       "      <th>mlp</th>\n",
       "      <td>38.0</td>\n",
       "      <td>4.931212e-01</td>\n",
       "      <td>1.825067e+00</td>\n",
       "      <td>0.0</td>\n",
       "      <td>0.0</td>\n",
       "      <td>0.000000e+00</td>\n",
       "      <td>7.105427e-15</td>\n",
       "      <td>8.282396e+00</td>\n",
       "      <td>38.0</td>\n",
       "      <td>8.525197e-02</td>\n",
       "      <td>2.010683e-01</td>\n",
       "      <td>0.0</td>\n",
       "      <td>0.000000e+00</td>\n",
       "      <td>1.776357e-15</td>\n",
       "      <td>6.820738e-02</td>\n",
       "      <td>9.198241e-01</td>\n",
       "    </tr>\n",
       "    <tr>\n",
       "      <th>openhd-ecfp</th>\n",
       "      <td>38.0</td>\n",
       "      <td>0.000000e+00</td>\n",
       "      <td>0.000000e+00</td>\n",
       "      <td>0.0</td>\n",
       "      <td>0.0</td>\n",
       "      <td>0.000000e+00</td>\n",
       "      <td>0.000000e+00</td>\n",
       "      <td>0.000000e+00</td>\n",
       "      <td>38.0</td>\n",
       "      <td>0.000000e+00</td>\n",
       "      <td>0.000000e+00</td>\n",
       "      <td>0.0</td>\n",
       "      <td>0.000000e+00</td>\n",
       "      <td>0.000000e+00</td>\n",
       "      <td>0.000000e+00</td>\n",
       "      <td>0.000000e+00</td>\n",
       "    </tr>\n",
       "    <tr>\n",
       "      <th>openhd-rp</th>\n",
       "      <td>38.0</td>\n",
       "      <td>0.000000e+00</td>\n",
       "      <td>0.000000e+00</td>\n",
       "      <td>0.0</td>\n",
       "      <td>0.0</td>\n",
       "      <td>0.000000e+00</td>\n",
       "      <td>0.000000e+00</td>\n",
       "      <td>0.000000e+00</td>\n",
       "      <td>38.0</td>\n",
       "      <td>0.000000e+00</td>\n",
       "      <td>0.000000e+00</td>\n",
       "      <td>0.0</td>\n",
       "      <td>0.000000e+00</td>\n",
       "      <td>0.000000e+00</td>\n",
       "      <td>0.000000e+00</td>\n",
       "      <td>0.000000e+00</td>\n",
       "    </tr>\n",
       "    <tr>\n",
       "      <th>rf</th>\n",
       "      <td>38.0</td>\n",
       "      <td>2.781401e-15</td>\n",
       "      <td>4.130829e-15</td>\n",
       "      <td>0.0</td>\n",
       "      <td>0.0</td>\n",
       "      <td>0.000000e+00</td>\n",
       "      <td>7.105427e-15</td>\n",
       "      <td>1.421085e-14</td>\n",
       "      <td>38.0</td>\n",
       "      <td>5.375817e-16</td>\n",
       "      <td>8.140152e-16</td>\n",
       "      <td>0.0</td>\n",
       "      <td>0.000000e+00</td>\n",
       "      <td>0.000000e+00</td>\n",
       "      <td>1.776357e-15</td>\n",
       "      <td>1.776357e-15</td>\n",
       "    </tr>\n",
       "    <tr>\n",
       "      <th>rp</th>\n",
       "      <td>38.0</td>\n",
       "      <td>4.642544e-02</td>\n",
       "      <td>1.998464e-01</td>\n",
       "      <td>0.0</td>\n",
       "      <td>0.0</td>\n",
       "      <td>0.000000e+00</td>\n",
       "      <td>7.105427e-15</td>\n",
       "      <td>9.238372e-01</td>\n",
       "      <td>38.0</td>\n",
       "      <td>2.595306e-02</td>\n",
       "      <td>9.588627e-02</td>\n",
       "      <td>0.0</td>\n",
       "      <td>0.000000e+00</td>\n",
       "      <td>0.000000e+00</td>\n",
       "      <td>1.776357e-15</td>\n",
       "      <td>5.632749e-01</td>\n",
       "    </tr>\n",
       "    <tr>\n",
       "      <th>selfies.atomwise</th>\n",
       "      <td>38.0</td>\n",
       "      <td>1.074131e+00</td>\n",
       "      <td>1.952959e+00</td>\n",
       "      <td>0.0</td>\n",
       "      <td>0.0</td>\n",
       "      <td>7.105427e-15</td>\n",
       "      <td>1.147998e+00</td>\n",
       "      <td>7.434926e+00</td>\n",
       "      <td>38.0</td>\n",
       "      <td>1.475649e-01</td>\n",
       "      <td>2.055399e-01</td>\n",
       "      <td>0.0</td>\n",
       "      <td>2.220446e-16</td>\n",
       "      <td>7.984275e-02</td>\n",
       "      <td>2.012886e-01</td>\n",
       "      <td>1.018350e+00</td>\n",
       "    </tr>\n",
       "    <tr>\n",
       "      <th>smiles-pe.atomwise.0</th>\n",
       "      <td>38.0</td>\n",
       "      <td>1.118816e+00</td>\n",
       "      <td>2.365646e+00</td>\n",
       "      <td>0.0</td>\n",
       "      <td>0.0</td>\n",
       "      <td>4.440892e-16</td>\n",
       "      <td>1.179253e+00</td>\n",
       "      <td>1.021532e+01</td>\n",
       "      <td>38.0</td>\n",
       "      <td>1.431214e-01</td>\n",
       "      <td>1.567982e-01</td>\n",
       "      <td>0.0</td>\n",
       "      <td>1.776357e-15</td>\n",
       "      <td>1.018448e-01</td>\n",
       "      <td>1.991971e-01</td>\n",
       "      <td>7.250000e-01</td>\n",
       "    </tr>\n",
       "    <tr>\n",
       "      <th>smiles-pe.bpe.0</th>\n",
       "      <td>38.0</td>\n",
       "      <td>7.278354e-01</td>\n",
       "      <td>1.773662e+00</td>\n",
       "      <td>0.0</td>\n",
       "      <td>0.0</td>\n",
       "      <td>0.000000e+00</td>\n",
       "      <td>7.105427e-15</td>\n",
       "      <td>6.687500e+00</td>\n",
       "      <td>38.0</td>\n",
       "      <td>1.855583e-01</td>\n",
       "      <td>1.959551e-01</td>\n",
       "      <td>0.0</td>\n",
       "      <td>1.776357e-15</td>\n",
       "      <td>1.586279e-01</td>\n",
       "      <td>2.691692e-01</td>\n",
       "      <td>7.430556e-01</td>\n",
       "    </tr>\n",
       "  </tbody>\n",
       "</table>\n",
       "</div>"
      ],
      "text/plain": [
       "                     enrich-1-std                                        \\\n",
       "                            count          mean           std  min  25%   \n",
       "model                                                                     \n",
       "Vina                          0.0           NaN           NaN  NaN  NaN   \n",
       "ecfp                         38.0  6.543306e-02  3.090660e-01  0.0  0.0   \n",
       "mlp                          38.0  4.931212e-01  1.825067e+00  0.0  0.0   \n",
       "openhd-ecfp                  38.0  0.000000e+00  0.000000e+00  0.0  0.0   \n",
       "openhd-rp                    38.0  0.000000e+00  0.000000e+00  0.0  0.0   \n",
       "rf                           38.0  2.781401e-15  4.130829e-15  0.0  0.0   \n",
       "rp                           38.0  4.642544e-02  1.998464e-01  0.0  0.0   \n",
       "selfies.atomwise             38.0  1.074131e+00  1.952959e+00  0.0  0.0   \n",
       "smiles-pe.atomwise.0         38.0  1.118816e+00  2.365646e+00  0.0  0.0   \n",
       "smiles-pe.bpe.0              38.0  7.278354e-01  1.773662e+00  0.0  0.0   \n",
       "\n",
       "                                                               enrich-10-std  \\\n",
       "                               50%           75%           max         count   \n",
       "model                                                                          \n",
       "Vina                           NaN           NaN           NaN           0.0   \n",
       "ecfp                  0.000000e+00  7.105427e-15  1.793578e+00          38.0   \n",
       "mlp                   0.000000e+00  7.105427e-15  8.282396e+00          38.0   \n",
       "openhd-ecfp           0.000000e+00  0.000000e+00  0.000000e+00          38.0   \n",
       "openhd-rp             0.000000e+00  0.000000e+00  0.000000e+00          38.0   \n",
       "rf                    0.000000e+00  7.105427e-15  1.421085e-14          38.0   \n",
       "rp                    0.000000e+00  7.105427e-15  9.238372e-01          38.0   \n",
       "selfies.atomwise      7.105427e-15  1.147998e+00  7.434926e+00          38.0   \n",
       "smiles-pe.atomwise.0  4.440892e-16  1.179253e+00  1.021532e+01          38.0   \n",
       "smiles-pe.bpe.0       0.000000e+00  7.105427e-15  6.687500e+00          38.0   \n",
       "\n",
       "                                                                     \\\n",
       "                              mean           std  min           25%   \n",
       "model                                                                 \n",
       "Vina                           NaN           NaN  NaN           NaN   \n",
       "ecfp                  1.941830e-02  4.035053e-02  0.0  0.000000e+00   \n",
       "mlp                   8.525197e-02  2.010683e-01  0.0  0.000000e+00   \n",
       "openhd-ecfp           0.000000e+00  0.000000e+00  0.0  0.000000e+00   \n",
       "openhd-rp             0.000000e+00  0.000000e+00  0.0  0.000000e+00   \n",
       "rf                    5.375817e-16  8.140152e-16  0.0  0.000000e+00   \n",
       "rp                    2.595306e-02  9.588627e-02  0.0  0.000000e+00   \n",
       "selfies.atomwise      1.475649e-01  2.055399e-01  0.0  2.220446e-16   \n",
       "smiles-pe.atomwise.0  1.431214e-01  1.567982e-01  0.0  1.776357e-15   \n",
       "smiles-pe.bpe.0       1.855583e-01  1.959551e-01  0.0  1.776357e-15   \n",
       "\n",
       "                                                                \n",
       "                               50%           75%           max  \n",
       "model                                                           \n",
       "Vina                           NaN           NaN           NaN  \n",
       "ecfp                  1.776357e-15  1.776357e-15  1.386452e-01  \n",
       "mlp                   1.776357e-15  6.820738e-02  9.198241e-01  \n",
       "openhd-ecfp           0.000000e+00  0.000000e+00  0.000000e+00  \n",
       "openhd-rp             0.000000e+00  0.000000e+00  0.000000e+00  \n",
       "rf                    0.000000e+00  1.776357e-15  1.776357e-15  \n",
       "rp                    0.000000e+00  1.776357e-15  5.632749e-01  \n",
       "selfies.atomwise      7.984275e-02  2.012886e-01  1.018350e+00  \n",
       "smiles-pe.atomwise.0  1.018448e-01  1.991971e-01  7.250000e-01  \n",
       "smiles-pe.bpe.0       1.586279e-01  2.691692e-01  7.430556e-01  "
      ]
     },
     "execution_count": 69,
     "metadata": {},
     "output_type": "execute_result"
    }
   ],
   "source": [
    "model_metric_df.groupby('model').describe()[['enrich-1-std', 'enrich-10-std']]"
   ]
  },
  {
   "cell_type": "code",
   "execution_count": 70,
   "metadata": {},
   "outputs": [],
   "source": [
    "# model_metric_df.groupby('model').describe()['latency']['mean']['ecfp'] +\\\n",
    "# model_metric_df.groupby('model').describe()['latency']['mean']['rp'] +\\\n",
    "# model_metric_df.groupby('model').describe()['latency']['mean']['ecfp']"
   ]
  },
  {
   "cell_type": "code",
   "execution_count": null,
   "metadata": {},
   "outputs": [],
   "source": []
  },
  {
   "cell_type": "code",
   "execution_count": null,
   "metadata": {},
   "outputs": [],
   "source": []
  },
  {
   "cell_type": "markdown",
   "metadata": {},
   "source": [
    "# OpenHD speedup\n",
    "\n",
    "for now (03/15/23), the current openhd results are stored here: "
   ]
  },
  {
   "cell_type": "code",
   "execution_count": 71,
   "metadata": {},
   "outputs": [
    {
     "data": {
      "text/html": [
       "<div>\n",
       "<style scoped>\n",
       "    .dataframe tbody tr th:only-of-type {\n",
       "        vertical-align: middle;\n",
       "    }\n",
       "\n",
       "    .dataframe tbody tr th {\n",
       "        vertical-align: top;\n",
       "    }\n",
       "\n",
       "    .dataframe thead th {\n",
       "        text-align: right;\n",
       "    }\n",
       "</style>\n",
       "<table border=\"1\" class=\"dataframe\">\n",
       "  <thead>\n",
       "    <tr style=\"text-align: right;\">\n",
       "      <th></th>\n",
       "      <th>model</th>\n",
       "      <th>enrich-1-mean</th>\n",
       "      <th>enrich-1-std</th>\n",
       "      <th>enrich-10-mean</th>\n",
       "      <th>enrich-10-std</th>\n",
       "      <th>train_time</th>\n",
       "      <th>test_time</th>\n",
       "      <th>train_size</th>\n",
       "      <th>test_size</th>\n",
       "      <th>metric</th>\n",
       "    </tr>\n",
       "  </thead>\n",
       "  <tbody>\n",
       "    <tr>\n",
       "      <th>0</th>\n",
       "      <td>smiles-pe.atomwise.0</td>\n",
       "      <td>91.857143</td>\n",
       "      <td>0.000000e+00</td>\n",
       "      <td>9.892308</td>\n",
       "      <td>0.000000</td>\n",
       "      <td>0.874518</td>\n",
       "      <td>0.135526</td>\n",
       "      <td>5145.0</td>\n",
       "      <td>643.0</td>\n",
       "      <td>NaN</td>\n",
       "    </tr>\n",
       "    <tr>\n",
       "      <th>1</th>\n",
       "      <td>smiles-pe.atomwise.0</td>\n",
       "      <td>16.688889</td>\n",
       "      <td>0.000000e+00</td>\n",
       "      <td>8.256608</td>\n",
       "      <td>0.281213</td>\n",
       "      <td>1.046939</td>\n",
       "      <td>0.218363</td>\n",
       "      <td>6022.0</td>\n",
       "      <td>751.0</td>\n",
       "      <td>NaN</td>\n",
       "    </tr>\n",
       "    <tr>\n",
       "      <th>2</th>\n",
       "      <td>smiles-pe.atomwise.0</td>\n",
       "      <td>43.984286</td>\n",
       "      <td>1.332857e+00</td>\n",
       "      <td>9.358359</td>\n",
       "      <td>0.189058</td>\n",
       "      <td>1.222343</td>\n",
       "      <td>0.195387</td>\n",
       "      <td>7420.0</td>\n",
       "      <td>933.0</td>\n",
       "      <td>NaN</td>\n",
       "    </tr>\n",
       "    <tr>\n",
       "      <th>3</th>\n",
       "      <td>smiles-pe.atomwise.0</td>\n",
       "      <td>32.840000</td>\n",
       "      <td>7.105427e-15</td>\n",
       "      <td>9.414133</td>\n",
       "      <td>0.091207</td>\n",
       "      <td>3.076663</td>\n",
       "      <td>0.435076</td>\n",
       "      <td>13168.0</td>\n",
       "      <td>1642.0</td>\n",
       "      <td>NaN</td>\n",
       "    </tr>\n",
       "    <tr>\n",
       "      <th>4</th>\n",
       "      <td>smiles-pe.atomwise.0</td>\n",
       "      <td>47.416667</td>\n",
       "      <td>7.105427e-15</td>\n",
       "      <td>9.705166</td>\n",
       "      <td>0.000000</td>\n",
       "      <td>2.245790</td>\n",
       "      <td>0.331386</td>\n",
       "      <td>13688.0</td>\n",
       "      <td>1707.0</td>\n",
       "      <td>NaN</td>\n",
       "    </tr>\n",
       "    <tr>\n",
       "      <th>...</th>\n",
       "      <td>...</td>\n",
       "      <td>...</td>\n",
       "      <td>...</td>\n",
       "      <td>...</td>\n",
       "      <td>...</td>\n",
       "      <td>...</td>\n",
       "      <td>...</td>\n",
       "      <td>...</td>\n",
       "      <td>...</td>\n",
       "      <td>...</td>\n",
       "    </tr>\n",
       "    <tr>\n",
       "      <th>33</th>\n",
       "      <td>Vina</td>\n",
       "      <td>10.421053</td>\n",
       "      <td>NaN</td>\n",
       "      <td>3.937058</td>\n",
       "      <td>NaN</td>\n",
       "      <td>NaN</td>\n",
       "      <td>NaN</td>\n",
       "      <td>NaN</td>\n",
       "      <td>NaN</td>\n",
       "      <td>0.0</td>\n",
       "    </tr>\n",
       "    <tr>\n",
       "      <th>34</th>\n",
       "      <td>Vina</td>\n",
       "      <td>3.287912</td>\n",
       "      <td>NaN</td>\n",
       "      <td>1.972747</td>\n",
       "      <td>NaN</td>\n",
       "      <td>NaN</td>\n",
       "      <td>NaN</td>\n",
       "      <td>NaN</td>\n",
       "      <td>NaN</td>\n",
       "      <td>0.0</td>\n",
       "    </tr>\n",
       "    <tr>\n",
       "      <th>35</th>\n",
       "      <td>Vina</td>\n",
       "      <td>7.475893</td>\n",
       "      <td>NaN</td>\n",
       "      <td>2.579807</td>\n",
       "      <td>NaN</td>\n",
       "      <td>NaN</td>\n",
       "      <td>NaN</td>\n",
       "      <td>NaN</td>\n",
       "      <td>NaN</td>\n",
       "      <td>0.0</td>\n",
       "    </tr>\n",
       "    <tr>\n",
       "      <th>36</th>\n",
       "      <td>Vina</td>\n",
       "      <td>1.301708</td>\n",
       "      <td>NaN</td>\n",
       "      <td>3.134209</td>\n",
       "      <td>NaN</td>\n",
       "      <td>NaN</td>\n",
       "      <td>NaN</td>\n",
       "      <td>NaN</td>\n",
       "      <td>NaN</td>\n",
       "      <td>0.0</td>\n",
       "    </tr>\n",
       "    <tr>\n",
       "      <th>37</th>\n",
       "      <td>Vina</td>\n",
       "      <td>4.367707</td>\n",
       "      <td>NaN</td>\n",
       "      <td>2.238111</td>\n",
       "      <td>NaN</td>\n",
       "      <td>NaN</td>\n",
       "      <td>NaN</td>\n",
       "      <td>NaN</td>\n",
       "      <td>NaN</td>\n",
       "      <td>0.0</td>\n",
       "    </tr>\n",
       "  </tbody>\n",
       "</table>\n",
       "<p>380 rows × 10 columns</p>\n",
       "</div>"
      ],
      "text/plain": [
       "                   model  enrich-1-mean  enrich-1-std  enrich-10-mean  \\\n",
       "0   smiles-pe.atomwise.0      91.857143  0.000000e+00        9.892308   \n",
       "1   smiles-pe.atomwise.0      16.688889  0.000000e+00        8.256608   \n",
       "2   smiles-pe.atomwise.0      43.984286  1.332857e+00        9.358359   \n",
       "3   smiles-pe.atomwise.0      32.840000  7.105427e-15        9.414133   \n",
       "4   smiles-pe.atomwise.0      47.416667  7.105427e-15        9.705166   \n",
       "..                   ...            ...           ...             ...   \n",
       "33                  Vina      10.421053           NaN        3.937058   \n",
       "34                  Vina       3.287912           NaN        1.972747   \n",
       "35                  Vina       7.475893           NaN        2.579807   \n",
       "36                  Vina       1.301708           NaN        3.134209   \n",
       "37                  Vina       4.367707           NaN        2.238111   \n",
       "\n",
       "    enrich-10-std  train_time  test_time  train_size  test_size  metric  \n",
       "0        0.000000    0.874518   0.135526      5145.0      643.0     NaN  \n",
       "1        0.281213    1.046939   0.218363      6022.0      751.0     NaN  \n",
       "2        0.189058    1.222343   0.195387      7420.0      933.0     NaN  \n",
       "3        0.091207    3.076663   0.435076     13168.0     1642.0     NaN  \n",
       "4        0.000000    2.245790   0.331386     13688.0     1707.0     NaN  \n",
       "..            ...         ...        ...         ...        ...     ...  \n",
       "33            NaN         NaN        NaN         NaN        NaN     0.0  \n",
       "34            NaN         NaN        NaN         NaN        NaN     0.0  \n",
       "35            NaN         NaN        NaN         NaN        NaN     0.0  \n",
       "36            NaN         NaN        NaN         NaN        NaN     0.0  \n",
       "37            NaN         NaN        NaN         NaN        NaN     0.0  \n",
       "\n",
       "[380 rows x 10 columns]"
      ]
     },
     "execution_count": 71,
     "metadata": {},
     "output_type": "execute_result"
    }
   ],
   "source": [
    "model_metric_df"
   ]
  },
  {
   "cell_type": "code",
   "execution_count": 93,
   "metadata": {},
   "outputs": [],
   "source": [
    "model_metric_df[\"latency_per_mol\"] = model_metric_df.apply(lambda x: x[\"test_time\"]/x[\"test_size\"], axis=1)"
   ]
  },
  {
   "cell_type": "code",
   "execution_count": 94,
   "metadata": {},
   "outputs": [
    {
     "data": {
      "text/html": [
       "<div>\n",
       "<style scoped>\n",
       "    .dataframe tbody tr th:only-of-type {\n",
       "        vertical-align: middle;\n",
       "    }\n",
       "\n",
       "    .dataframe tbody tr th {\n",
       "        vertical-align: top;\n",
       "    }\n",
       "\n",
       "    .dataframe thead th {\n",
       "        text-align: right;\n",
       "    }\n",
       "</style>\n",
       "<table border=\"1\" class=\"dataframe\">\n",
       "  <thead>\n",
       "    <tr style=\"text-align: right;\">\n",
       "      <th></th>\n",
       "      <th>model</th>\n",
       "      <th>enrich-1-mean</th>\n",
       "      <th>enrich-1-std</th>\n",
       "      <th>enrich-10-mean</th>\n",
       "      <th>enrich-10-std</th>\n",
       "      <th>train_time</th>\n",
       "      <th>test_time</th>\n",
       "      <th>train_size</th>\n",
       "      <th>test_size</th>\n",
       "      <th>metric</th>\n",
       "      <th>latency_per_mol</th>\n",
       "    </tr>\n",
       "  </thead>\n",
       "  <tbody>\n",
       "    <tr>\n",
       "      <th>304</th>\n",
       "      <td>mlp</td>\n",
       "      <td>16.688889</td>\n",
       "      <td>0.000000e+00</td>\n",
       "      <td>9.881579</td>\n",
       "      <td>0.000000e+00</td>\n",
       "      <td>0.432650</td>\n",
       "      <td>0.007520</td>\n",
       "      <td>6022.0</td>\n",
       "      <td>751.0</td>\n",
       "      <td>NaN</td>\n",
       "      <td>0.000010</td>\n",
       "    </tr>\n",
       "    <tr>\n",
       "      <th>305</th>\n",
       "      <td>mlp</td>\n",
       "      <td>89.166667</td>\n",
       "      <td>1.421085e-14</td>\n",
       "      <td>9.907407</td>\n",
       "      <td>0.000000e+00</td>\n",
       "      <td>1.860686</td>\n",
       "      <td>0.014028</td>\n",
       "      <td>4299.0</td>\n",
       "      <td>535.0</td>\n",
       "      <td>NaN</td>\n",
       "      <td>0.000026</td>\n",
       "    </tr>\n",
       "    <tr>\n",
       "      <th>306</th>\n",
       "      <td>mlp</td>\n",
       "      <td>53.836735</td>\n",
       "      <td>0.000000e+00</td>\n",
       "      <td>9.992424</td>\n",
       "      <td>1.776357e-15</td>\n",
       "      <td>1.236752</td>\n",
       "      <td>0.013592</td>\n",
       "      <td>21092.0</td>\n",
       "      <td>2638.0</td>\n",
       "      <td>NaN</td>\n",
       "      <td>0.000005</td>\n",
       "    </tr>\n",
       "    <tr>\n",
       "      <th>307</th>\n",
       "      <td>mlp</td>\n",
       "      <td>57.400000</td>\n",
       "      <td>0.000000e+00</td>\n",
       "      <td>9.797586</td>\n",
       "      <td>2.968966e-01</td>\n",
       "      <td>1.519571</td>\n",
       "      <td>0.006729</td>\n",
       "      <td>4565.0</td>\n",
       "      <td>574.0</td>\n",
       "      <td>NaN</td>\n",
       "      <td>0.000012</td>\n",
       "    </tr>\n",
       "    <tr>\n",
       "      <th>308</th>\n",
       "      <td>mlp</td>\n",
       "      <td>47.467742</td>\n",
       "      <td>7.105427e-15</td>\n",
       "      <td>9.976271</td>\n",
       "      <td>1.776357e-15</td>\n",
       "      <td>4.445355</td>\n",
       "      <td>0.027138</td>\n",
       "      <td>23591.0</td>\n",
       "      <td>2943.0</td>\n",
       "      <td>NaN</td>\n",
       "      <td>0.000009</td>\n",
       "    </tr>\n",
       "    <tr>\n",
       "      <th>309</th>\n",
       "      <td>mlp</td>\n",
       "      <td>67.000000</td>\n",
       "      <td>0.000000e+00</td>\n",
       "      <td>9.925926</td>\n",
       "      <td>0.000000e+00</td>\n",
       "      <td>0.930253</td>\n",
       "      <td>0.007844</td>\n",
       "      <td>2130.0</td>\n",
       "      <td>268.0</td>\n",
       "      <td>NaN</td>\n",
       "      <td>0.000029</td>\n",
       "    </tr>\n",
       "    <tr>\n",
       "      <th>310</th>\n",
       "      <td>mlp</td>\n",
       "      <td>7.350000</td>\n",
       "      <td>8.881784e-16</td>\n",
       "      <td>7.350000</td>\n",
       "      <td>8.881784e-16</td>\n",
       "      <td>0.085396</td>\n",
       "      <td>0.001506</td>\n",
       "      <td>1156.0</td>\n",
       "      <td>147.0</td>\n",
       "      <td>NaN</td>\n",
       "      <td>0.000010</td>\n",
       "    </tr>\n",
       "    <tr>\n",
       "      <th>311</th>\n",
       "      <td>mlp</td>\n",
       "      <td>38.409091</td>\n",
       "      <td>7.105427e-15</td>\n",
       "      <td>9.941176</td>\n",
       "      <td>0.000000e+00</td>\n",
       "      <td>0.462826</td>\n",
       "      <td>0.013120</td>\n",
       "      <td>6758.0</td>\n",
       "      <td>845.0</td>\n",
       "      <td>NaN</td>\n",
       "      <td>0.000016</td>\n",
       "    </tr>\n",
       "    <tr>\n",
       "      <th>312</th>\n",
       "      <td>mlp</td>\n",
       "      <td>70.322581</td>\n",
       "      <td>1.421085e-14</td>\n",
       "      <td>9.903226</td>\n",
       "      <td>1.478250e-01</td>\n",
       "      <td>0.388088</td>\n",
       "      <td>0.006950</td>\n",
       "      <td>17484.0</td>\n",
       "      <td>2180.0</td>\n",
       "      <td>NaN</td>\n",
       "      <td>0.000003</td>\n",
       "    </tr>\n",
       "    <tr>\n",
       "      <th>313</th>\n",
       "      <td>mlp</td>\n",
       "      <td>49.688525</td>\n",
       "      <td>0.000000e+00</td>\n",
       "      <td>9.790601</td>\n",
       "      <td>4.903473e-02</td>\n",
       "      <td>1.219669</td>\n",
       "      <td>0.009984</td>\n",
       "      <td>24390.0</td>\n",
       "      <td>3031.0</td>\n",
       "      <td>NaN</td>\n",
       "      <td>0.000003</td>\n",
       "    </tr>\n",
       "    <tr>\n",
       "      <th>314</th>\n",
       "      <td>mlp</td>\n",
       "      <td>47.285714</td>\n",
       "      <td>0.000000e+00</td>\n",
       "      <td>9.735294</td>\n",
       "      <td>0.000000e+00</td>\n",
       "      <td>0.172710</td>\n",
       "      <td>0.003271</td>\n",
       "      <td>2660.0</td>\n",
       "      <td>331.0</td>\n",
       "      <td>NaN</td>\n",
       "      <td>0.000010</td>\n",
       "    </tr>\n",
       "    <tr>\n",
       "      <th>315</th>\n",
       "      <td>mlp</td>\n",
       "      <td>66.500000</td>\n",
       "      <td>0.000000e+00</td>\n",
       "      <td>9.975000</td>\n",
       "      <td>1.776357e-15</td>\n",
       "      <td>0.470746</td>\n",
       "      <td>0.006763</td>\n",
       "      <td>3177.0</td>\n",
       "      <td>399.0</td>\n",
       "      <td>NaN</td>\n",
       "      <td>0.000017</td>\n",
       "    </tr>\n",
       "    <tr>\n",
       "      <th>316</th>\n",
       "      <td>mlp</td>\n",
       "      <td>32.840000</td>\n",
       "      <td>7.105427e-15</td>\n",
       "      <td>9.951515</td>\n",
       "      <td>0.000000e+00</td>\n",
       "      <td>1.351717</td>\n",
       "      <td>0.008172</td>\n",
       "      <td>13168.0</td>\n",
       "      <td>1642.0</td>\n",
       "      <td>NaN</td>\n",
       "      <td>0.000005</td>\n",
       "    </tr>\n",
       "    <tr>\n",
       "      <th>317</th>\n",
       "      <td>mlp</td>\n",
       "      <td>70.090909</td>\n",
       "      <td>0.000000e+00</td>\n",
       "      <td>9.948387</td>\n",
       "      <td>0.000000e+00</td>\n",
       "      <td>0.549798</td>\n",
       "      <td>0.013438</td>\n",
       "      <td>12355.0</td>\n",
       "      <td>1542.0</td>\n",
       "      <td>NaN</td>\n",
       "      <td>0.000009</td>\n",
       "    </tr>\n",
       "    <tr>\n",
       "      <th>318</th>\n",
       "      <td>mlp</td>\n",
       "      <td>44.428571</td>\n",
       "      <td>7.105427e-15</td>\n",
       "      <td>9.074772</td>\n",
       "      <td>2.835866e-01</td>\n",
       "      <td>0.623049</td>\n",
       "      <td>0.003798</td>\n",
       "      <td>7420.0</td>\n",
       "      <td>933.0</td>\n",
       "      <td>NaN</td>\n",
       "      <td>0.000004</td>\n",
       "    </tr>\n",
       "    <tr>\n",
       "      <th>319</th>\n",
       "      <td>mlp</td>\n",
       "      <td>69.187143</td>\n",
       "      <td>3.081209e+00</td>\n",
       "      <td>9.653356</td>\n",
       "      <td>1.713613e-01</td>\n",
       "      <td>3.474790</td>\n",
       "      <td>0.012499</td>\n",
       "      <td>20290.0</td>\n",
       "      <td>2549.0</td>\n",
       "      <td>NaN</td>\n",
       "      <td>0.000005</td>\n",
       "    </tr>\n",
       "    <tr>\n",
       "      <th>320</th>\n",
       "      <td>mlp</td>\n",
       "      <td>55.000000</td>\n",
       "      <td>0.000000e+00</td>\n",
       "      <td>10.000000</td>\n",
       "      <td>0.000000e+00</td>\n",
       "      <td>0.806723</td>\n",
       "      <td>0.048079</td>\n",
       "      <td>23680.0</td>\n",
       "      <td>2970.0</td>\n",
       "      <td>NaN</td>\n",
       "      <td>0.000016</td>\n",
       "    </tr>\n",
       "    <tr>\n",
       "      <th>321</th>\n",
       "      <td>mlp</td>\n",
       "      <td>74.080000</td>\n",
       "      <td>8.282396e+00</td>\n",
       "      <td>9.851064</td>\n",
       "      <td>0.000000e+00</td>\n",
       "      <td>0.655556</td>\n",
       "      <td>0.014151</td>\n",
       "      <td>3697.0</td>\n",
       "      <td>463.0</td>\n",
       "      <td>NaN</td>\n",
       "      <td>0.000031</td>\n",
       "    </tr>\n",
       "    <tr>\n",
       "      <th>322</th>\n",
       "      <td>mlp</td>\n",
       "      <td>73.906977</td>\n",
       "      <td>0.000000e+00</td>\n",
       "      <td>9.738058</td>\n",
       "      <td>6.972356e-02</td>\n",
       "      <td>3.456869</td>\n",
       "      <td>0.026928</td>\n",
       "      <td>25336.0</td>\n",
       "      <td>3178.0</td>\n",
       "      <td>NaN</td>\n",
       "      <td>0.000008</td>\n",
       "    </tr>\n",
       "    <tr>\n",
       "      <th>323</th>\n",
       "      <td>mlp</td>\n",
       "      <td>47.531915</td>\n",
       "      <td>7.105427e-15</td>\n",
       "      <td>9.951995</td>\n",
       "      <td>6.365881e-02</td>\n",
       "      <td>2.291140</td>\n",
       "      <td>0.019469</td>\n",
       "      <td>17768.0</td>\n",
       "      <td>2234.0</td>\n",
       "      <td>NaN</td>\n",
       "      <td>0.000009</td>\n",
       "    </tr>\n",
       "    <tr>\n",
       "      <th>324</th>\n",
       "      <td>mlp</td>\n",
       "      <td>50.428571</td>\n",
       "      <td>7.105427e-15</td>\n",
       "      <td>9.805556</td>\n",
       "      <td>0.000000e+00</td>\n",
       "      <td>0.423388</td>\n",
       "      <td>0.011507</td>\n",
       "      <td>2861.0</td>\n",
       "      <td>353.0</td>\n",
       "      <td>NaN</td>\n",
       "      <td>0.000033</td>\n",
       "    </tr>\n",
       "    <tr>\n",
       "      <th>325</th>\n",
       "      <td>mlp</td>\n",
       "      <td>62.555556</td>\n",
       "      <td>7.105427e-15</td>\n",
       "      <td>9.877193</td>\n",
       "      <td>0.000000e+00</td>\n",
       "      <td>0.285098</td>\n",
       "      <td>0.016294</td>\n",
       "      <td>4421.0</td>\n",
       "      <td>563.0</td>\n",
       "      <td>NaN</td>\n",
       "      <td>0.000029</td>\n",
       "    </tr>\n",
       "    <tr>\n",
       "      <th>326</th>\n",
       "      <td>mlp</td>\n",
       "      <td>42.534884</td>\n",
       "      <td>0.000000e+00</td>\n",
       "      <td>9.994536</td>\n",
       "      <td>1.776357e-15</td>\n",
       "      <td>0.434899</td>\n",
       "      <td>0.016036</td>\n",
       "      <td>14622.0</td>\n",
       "      <td>1829.0</td>\n",
       "      <td>NaN</td>\n",
       "      <td>0.000009</td>\n",
       "    </tr>\n",
       "    <tr>\n",
       "      <th>327</th>\n",
       "      <td>mlp</td>\n",
       "      <td>15.555556</td>\n",
       "      <td>1.776357e-15</td>\n",
       "      <td>9.000000</td>\n",
       "      <td>7.777778e-01</td>\n",
       "      <td>0.102738</td>\n",
       "      <td>0.005558</td>\n",
       "      <td>1108.0</td>\n",
       "      <td>140.0</td>\n",
       "      <td>NaN</td>\n",
       "      <td>0.000040</td>\n",
       "    </tr>\n",
       "    <tr>\n",
       "      <th>328</th>\n",
       "      <td>mlp</td>\n",
       "      <td>52.037037</td>\n",
       "      <td>0.000000e+00</td>\n",
       "      <td>9.558576</td>\n",
       "      <td>1.107171e-01</td>\n",
       "      <td>0.926346</td>\n",
       "      <td>0.041105</td>\n",
       "      <td>11241.0</td>\n",
       "      <td>1405.0</td>\n",
       "      <td>NaN</td>\n",
       "      <td>0.000029</td>\n",
       "    </tr>\n",
       "    <tr>\n",
       "      <th>329</th>\n",
       "      <td>mlp</td>\n",
       "      <td>47.416667</td>\n",
       "      <td>7.105427e-15</td>\n",
       "      <td>9.705166</td>\n",
       "      <td>0.000000e+00</td>\n",
       "      <td>1.428684</td>\n",
       "      <td>0.015706</td>\n",
       "      <td>13688.0</td>\n",
       "      <td>1707.0</td>\n",
       "      <td>NaN</td>\n",
       "      <td>0.000009</td>\n",
       "    </tr>\n",
       "    <tr>\n",
       "      <th>330</th>\n",
       "      <td>mlp</td>\n",
       "      <td>44.941176</td>\n",
       "      <td>0.000000e+00</td>\n",
       "      <td>9.922078</td>\n",
       "      <td>0.000000e+00</td>\n",
       "      <td>0.339483</td>\n",
       "      <td>0.006822</td>\n",
       "      <td>6065.0</td>\n",
       "      <td>764.0</td>\n",
       "      <td>NaN</td>\n",
       "      <td>0.000009</td>\n",
       "    </tr>\n",
       "    <tr>\n",
       "      <th>331</th>\n",
       "      <td>mlp</td>\n",
       "      <td>45.285714</td>\n",
       "      <td>0.000000e+00</td>\n",
       "      <td>9.906250</td>\n",
       "      <td>0.000000e+00</td>\n",
       "      <td>0.625518</td>\n",
       "      <td>0.006520</td>\n",
       "      <td>5064.0</td>\n",
       "      <td>634.0</td>\n",
       "      <td>NaN</td>\n",
       "      <td>0.000010</td>\n",
       "    </tr>\n",
       "    <tr>\n",
       "      <th>332</th>\n",
       "      <td>mlp</td>\n",
       "      <td>26.000000</td>\n",
       "      <td>0.000000e+00</td>\n",
       "      <td>9.904762</td>\n",
       "      <td>1.776357e-15</td>\n",
       "      <td>0.140743</td>\n",
       "      <td>0.006892</td>\n",
       "      <td>1653.0</td>\n",
       "      <td>208.0</td>\n",
       "      <td>NaN</td>\n",
       "      <td>0.000033</td>\n",
       "    </tr>\n",
       "    <tr>\n",
       "      <th>333</th>\n",
       "      <td>mlp</td>\n",
       "      <td>16.840000</td>\n",
       "      <td>0.000000e+00</td>\n",
       "      <td>9.905882</td>\n",
       "      <td>0.000000e+00</td>\n",
       "      <td>0.488052</td>\n",
       "      <td>0.005309</td>\n",
       "      <td>6703.0</td>\n",
       "      <td>842.0</td>\n",
       "      <td>NaN</td>\n",
       "      <td>0.000006</td>\n",
       "    </tr>\n",
       "    <tr>\n",
       "      <th>334</th>\n",
       "      <td>mlp</td>\n",
       "      <td>91.857143</td>\n",
       "      <td>0.000000e+00</td>\n",
       "      <td>9.892308</td>\n",
       "      <td>0.000000e+00</td>\n",
       "      <td>0.293030</td>\n",
       "      <td>0.017979</td>\n",
       "      <td>5145.0</td>\n",
       "      <td>643.0</td>\n",
       "      <td>NaN</td>\n",
       "      <td>0.000028</td>\n",
       "    </tr>\n",
       "    <tr>\n",
       "      <th>335</th>\n",
       "      <td>mlp</td>\n",
       "      <td>48.451613</td>\n",
       "      <td>0.000000e+00</td>\n",
       "      <td>9.947020</td>\n",
       "      <td>0.000000e+00</td>\n",
       "      <td>0.386116</td>\n",
       "      <td>0.004681</td>\n",
       "      <td>12019.0</td>\n",
       "      <td>1502.0</td>\n",
       "      <td>NaN</td>\n",
       "      <td>0.000003</td>\n",
       "    </tr>\n",
       "    <tr>\n",
       "      <th>336</th>\n",
       "      <td>mlp</td>\n",
       "      <td>46.055556</td>\n",
       "      <td>0.000000e+00</td>\n",
       "      <td>9.987952</td>\n",
       "      <td>1.776357e-15</td>\n",
       "      <td>1.024792</td>\n",
       "      <td>0.023721</td>\n",
       "      <td>6663.0</td>\n",
       "      <td>829.0</td>\n",
       "      <td>NaN</td>\n",
       "      <td>0.000029</td>\n",
       "    </tr>\n",
       "    <tr>\n",
       "      <th>337</th>\n",
       "      <td>mlp</td>\n",
       "      <td>58.000000</td>\n",
       "      <td>0.000000e+00</td>\n",
       "      <td>9.666667</td>\n",
       "      <td>1.776357e-15</td>\n",
       "      <td>0.255127</td>\n",
       "      <td>0.007313</td>\n",
       "      <td>1855.0</td>\n",
       "      <td>232.0</td>\n",
       "      <td>NaN</td>\n",
       "      <td>0.000032</td>\n",
       "    </tr>\n",
       "    <tr>\n",
       "      <th>338</th>\n",
       "      <td>mlp</td>\n",
       "      <td>40.512821</td>\n",
       "      <td>0.000000e+00</td>\n",
       "      <td>9.743590</td>\n",
       "      <td>1.776357e-15</td>\n",
       "      <td>0.468919</td>\n",
       "      <td>0.013278</td>\n",
       "      <td>12693.0</td>\n",
       "      <td>1580.0</td>\n",
       "      <td>NaN</td>\n",
       "      <td>0.000008</td>\n",
       "    </tr>\n",
       "    <tr>\n",
       "      <th>339</th>\n",
       "      <td>mlp</td>\n",
       "      <td>22.125000</td>\n",
       "      <td>7.375000e+00</td>\n",
       "      <td>6.391667</td>\n",
       "      <td>9.198241e-01</td>\n",
       "      <td>0.191531</td>\n",
       "      <td>0.009194</td>\n",
       "      <td>2322.0</td>\n",
       "      <td>295.0</td>\n",
       "      <td>NaN</td>\n",
       "      <td>0.000031</td>\n",
       "    </tr>\n",
       "    <tr>\n",
       "      <th>340</th>\n",
       "      <td>mlp</td>\n",
       "      <td>58.527778</td>\n",
       "      <td>7.105427e-15</td>\n",
       "      <td>9.958044</td>\n",
       "      <td>8.321485e-02</td>\n",
       "      <td>0.455344</td>\n",
       "      <td>0.020553</td>\n",
       "      <td>16925.0</td>\n",
       "      <td>2107.0</td>\n",
       "      <td>NaN</td>\n",
       "      <td>0.000010</td>\n",
       "    </tr>\n",
       "    <tr>\n",
       "      <th>341</th>\n",
       "      <td>mlp</td>\n",
       "      <td>39.458333</td>\n",
       "      <td>7.105427e-15</td>\n",
       "      <td>8.846974</td>\n",
       "      <td>2.659543e-01</td>\n",
       "      <td>0.564447</td>\n",
       "      <td>0.008887</td>\n",
       "      <td>7582.0</td>\n",
       "      <td>947.0</td>\n",
       "      <td>NaN</td>\n",
       "      <td>0.000009</td>\n",
       "    </tr>\n",
       "  </tbody>\n",
       "</table>\n",
       "</div>"
      ],
      "text/plain": [
       "    model  enrich-1-mean  enrich-1-std  enrich-10-mean  enrich-10-std  \\\n",
       "304   mlp      16.688889  0.000000e+00        9.881579   0.000000e+00   \n",
       "305   mlp      89.166667  1.421085e-14        9.907407   0.000000e+00   \n",
       "306   mlp      53.836735  0.000000e+00        9.992424   1.776357e-15   \n",
       "307   mlp      57.400000  0.000000e+00        9.797586   2.968966e-01   \n",
       "308   mlp      47.467742  7.105427e-15        9.976271   1.776357e-15   \n",
       "309   mlp      67.000000  0.000000e+00        9.925926   0.000000e+00   \n",
       "310   mlp       7.350000  8.881784e-16        7.350000   8.881784e-16   \n",
       "311   mlp      38.409091  7.105427e-15        9.941176   0.000000e+00   \n",
       "312   mlp      70.322581  1.421085e-14        9.903226   1.478250e-01   \n",
       "313   mlp      49.688525  0.000000e+00        9.790601   4.903473e-02   \n",
       "314   mlp      47.285714  0.000000e+00        9.735294   0.000000e+00   \n",
       "315   mlp      66.500000  0.000000e+00        9.975000   1.776357e-15   \n",
       "316   mlp      32.840000  7.105427e-15        9.951515   0.000000e+00   \n",
       "317   mlp      70.090909  0.000000e+00        9.948387   0.000000e+00   \n",
       "318   mlp      44.428571  7.105427e-15        9.074772   2.835866e-01   \n",
       "319   mlp      69.187143  3.081209e+00        9.653356   1.713613e-01   \n",
       "320   mlp      55.000000  0.000000e+00       10.000000   0.000000e+00   \n",
       "321   mlp      74.080000  8.282396e+00        9.851064   0.000000e+00   \n",
       "322   mlp      73.906977  0.000000e+00        9.738058   6.972356e-02   \n",
       "323   mlp      47.531915  7.105427e-15        9.951995   6.365881e-02   \n",
       "324   mlp      50.428571  7.105427e-15        9.805556   0.000000e+00   \n",
       "325   mlp      62.555556  7.105427e-15        9.877193   0.000000e+00   \n",
       "326   mlp      42.534884  0.000000e+00        9.994536   1.776357e-15   \n",
       "327   mlp      15.555556  1.776357e-15        9.000000   7.777778e-01   \n",
       "328   mlp      52.037037  0.000000e+00        9.558576   1.107171e-01   \n",
       "329   mlp      47.416667  7.105427e-15        9.705166   0.000000e+00   \n",
       "330   mlp      44.941176  0.000000e+00        9.922078   0.000000e+00   \n",
       "331   mlp      45.285714  0.000000e+00        9.906250   0.000000e+00   \n",
       "332   mlp      26.000000  0.000000e+00        9.904762   1.776357e-15   \n",
       "333   mlp      16.840000  0.000000e+00        9.905882   0.000000e+00   \n",
       "334   mlp      91.857143  0.000000e+00        9.892308   0.000000e+00   \n",
       "335   mlp      48.451613  0.000000e+00        9.947020   0.000000e+00   \n",
       "336   mlp      46.055556  0.000000e+00        9.987952   1.776357e-15   \n",
       "337   mlp      58.000000  0.000000e+00        9.666667   1.776357e-15   \n",
       "338   mlp      40.512821  0.000000e+00        9.743590   1.776357e-15   \n",
       "339   mlp      22.125000  7.375000e+00        6.391667   9.198241e-01   \n",
       "340   mlp      58.527778  7.105427e-15        9.958044   8.321485e-02   \n",
       "341   mlp      39.458333  7.105427e-15        8.846974   2.659543e-01   \n",
       "\n",
       "     train_time  test_time  train_size  test_size  metric  latency_per_mol  \n",
       "304    0.432650   0.007520      6022.0      751.0     NaN         0.000010  \n",
       "305    1.860686   0.014028      4299.0      535.0     NaN         0.000026  \n",
       "306    1.236752   0.013592     21092.0     2638.0     NaN         0.000005  \n",
       "307    1.519571   0.006729      4565.0      574.0     NaN         0.000012  \n",
       "308    4.445355   0.027138     23591.0     2943.0     NaN         0.000009  \n",
       "309    0.930253   0.007844      2130.0      268.0     NaN         0.000029  \n",
       "310    0.085396   0.001506      1156.0      147.0     NaN         0.000010  \n",
       "311    0.462826   0.013120      6758.0      845.0     NaN         0.000016  \n",
       "312    0.388088   0.006950     17484.0     2180.0     NaN         0.000003  \n",
       "313    1.219669   0.009984     24390.0     3031.0     NaN         0.000003  \n",
       "314    0.172710   0.003271      2660.0      331.0     NaN         0.000010  \n",
       "315    0.470746   0.006763      3177.0      399.0     NaN         0.000017  \n",
       "316    1.351717   0.008172     13168.0     1642.0     NaN         0.000005  \n",
       "317    0.549798   0.013438     12355.0     1542.0     NaN         0.000009  \n",
       "318    0.623049   0.003798      7420.0      933.0     NaN         0.000004  \n",
       "319    3.474790   0.012499     20290.0     2549.0     NaN         0.000005  \n",
       "320    0.806723   0.048079     23680.0     2970.0     NaN         0.000016  \n",
       "321    0.655556   0.014151      3697.0      463.0     NaN         0.000031  \n",
       "322    3.456869   0.026928     25336.0     3178.0     NaN         0.000008  \n",
       "323    2.291140   0.019469     17768.0     2234.0     NaN         0.000009  \n",
       "324    0.423388   0.011507      2861.0      353.0     NaN         0.000033  \n",
       "325    0.285098   0.016294      4421.0      563.0     NaN         0.000029  \n",
       "326    0.434899   0.016036     14622.0     1829.0     NaN         0.000009  \n",
       "327    0.102738   0.005558      1108.0      140.0     NaN         0.000040  \n",
       "328    0.926346   0.041105     11241.0     1405.0     NaN         0.000029  \n",
       "329    1.428684   0.015706     13688.0     1707.0     NaN         0.000009  \n",
       "330    0.339483   0.006822      6065.0      764.0     NaN         0.000009  \n",
       "331    0.625518   0.006520      5064.0      634.0     NaN         0.000010  \n",
       "332    0.140743   0.006892      1653.0      208.0     NaN         0.000033  \n",
       "333    0.488052   0.005309      6703.0      842.0     NaN         0.000006  \n",
       "334    0.293030   0.017979      5145.0      643.0     NaN         0.000028  \n",
       "335    0.386116   0.004681     12019.0     1502.0     NaN         0.000003  \n",
       "336    1.024792   0.023721      6663.0      829.0     NaN         0.000029  \n",
       "337    0.255127   0.007313      1855.0      232.0     NaN         0.000032  \n",
       "338    0.468919   0.013278     12693.0     1580.0     NaN         0.000008  \n",
       "339    0.191531   0.009194      2322.0      295.0     NaN         0.000031  \n",
       "340    0.455344   0.020553     16925.0     2107.0     NaN         0.000010  \n",
       "341    0.564447   0.008887      7582.0      947.0     NaN         0.000009  "
      ]
     },
     "execution_count": 94,
     "metadata": {},
     "output_type": "execute_result"
    }
   ],
   "source": [
    "model_metric_df[model_metric_df[\"model\"] == \"mlp\"]"
   ]
  },
  {
   "cell_type": "code",
   "execution_count": 95,
   "metadata": {},
   "outputs": [
    {
     "data": {
      "text/html": [
       "<div>\n",
       "<style scoped>\n",
       "    .dataframe tbody tr th:only-of-type {\n",
       "        vertical-align: middle;\n",
       "    }\n",
       "\n",
       "    .dataframe tbody tr th {\n",
       "        vertical-align: top;\n",
       "    }\n",
       "\n",
       "    .dataframe thead th {\n",
       "        text-align: right;\n",
       "    }\n",
       "</style>\n",
       "<table border=\"1\" class=\"dataframe\">\n",
       "  <thead>\n",
       "    <tr style=\"text-align: right;\">\n",
       "      <th></th>\n",
       "      <th>model</th>\n",
       "      <th>enrich-1-mean</th>\n",
       "      <th>enrich-1-std</th>\n",
       "      <th>enrich-10-mean</th>\n",
       "      <th>enrich-10-std</th>\n",
       "      <th>train_time</th>\n",
       "      <th>test_time</th>\n",
       "      <th>train_size</th>\n",
       "      <th>test_size</th>\n",
       "      <th>metric</th>\n",
       "      <th>latency_per_mol</th>\n",
       "    </tr>\n",
       "  </thead>\n",
       "  <tbody>\n",
       "    <tr>\n",
       "      <th>190</th>\n",
       "      <td>ecfp</td>\n",
       "      <td>66.500000</td>\n",
       "      <td>0.000000e+00</td>\n",
       "      <td>9.975000</td>\n",
       "      <td>1.776357e-15</td>\n",
       "      <td>0.515006</td>\n",
       "      <td>0.070779</td>\n",
       "      <td>3177.0</td>\n",
       "      <td>399.0</td>\n",
       "      <td>NaN</td>\n",
       "      <td>0.000177</td>\n",
       "    </tr>\n",
       "    <tr>\n",
       "      <th>191</th>\n",
       "      <td>ecfp</td>\n",
       "      <td>58.000000</td>\n",
       "      <td>0.000000e+00</td>\n",
       "      <td>9.666667</td>\n",
       "      <td>1.776357e-15</td>\n",
       "      <td>0.320977</td>\n",
       "      <td>0.508504</td>\n",
       "      <td>1855.0</td>\n",
       "      <td>232.0</td>\n",
       "      <td>NaN</td>\n",
       "      <td>0.002192</td>\n",
       "    </tr>\n",
       "    <tr>\n",
       "      <th>192</th>\n",
       "      <td>ecfp</td>\n",
       "      <td>44.428571</td>\n",
       "      <td>7.105427e-15</td>\n",
       "      <td>8.980243</td>\n",
       "      <td>0.000000e+00</td>\n",
       "      <td>1.203742</td>\n",
       "      <td>0.178494</td>\n",
       "      <td>7420.0</td>\n",
       "      <td>933.0</td>\n",
       "      <td>NaN</td>\n",
       "      <td>0.000191</td>\n",
       "    </tr>\n",
       "    <tr>\n",
       "      <th>193</th>\n",
       "      <td>ecfp</td>\n",
       "      <td>45.285714</td>\n",
       "      <td>0.000000e+00</td>\n",
       "      <td>9.906250</td>\n",
       "      <td>0.000000e+00</td>\n",
       "      <td>0.963895</td>\n",
       "      <td>0.139968</td>\n",
       "      <td>5064.0</td>\n",
       "      <td>634.0</td>\n",
       "      <td>NaN</td>\n",
       "      <td>0.000221</td>\n",
       "    </tr>\n",
       "    <tr>\n",
       "      <th>194</th>\n",
       "      <td>ecfp</td>\n",
       "      <td>40.512821</td>\n",
       "      <td>0.000000e+00</td>\n",
       "      <td>9.743590</td>\n",
       "      <td>1.776357e-15</td>\n",
       "      <td>1.978869</td>\n",
       "      <td>0.264528</td>\n",
       "      <td>12693.0</td>\n",
       "      <td>1580.0</td>\n",
       "      <td>NaN</td>\n",
       "      <td>0.000167</td>\n",
       "    </tr>\n",
       "    <tr>\n",
       "      <th>195</th>\n",
       "      <td>ecfp</td>\n",
       "      <td>7.350000</td>\n",
       "      <td>8.881784e-16</td>\n",
       "      <td>7.350000</td>\n",
       "      <td>8.881784e-16</td>\n",
       "      <td>0.211260</td>\n",
       "      <td>0.026836</td>\n",
       "      <td>1156.0</td>\n",
       "      <td>147.0</td>\n",
       "      <td>NaN</td>\n",
       "      <td>0.000183</td>\n",
       "    </tr>\n",
       "    <tr>\n",
       "      <th>196</th>\n",
       "      <td>ecfp</td>\n",
       "      <td>42.534884</td>\n",
       "      <td>0.000000e+00</td>\n",
       "      <td>9.808591</td>\n",
       "      <td>9.297242e-02</td>\n",
       "      <td>2.260613</td>\n",
       "      <td>0.299745</td>\n",
       "      <td>14622.0</td>\n",
       "      <td>1829.0</td>\n",
       "      <td>NaN</td>\n",
       "      <td>0.000164</td>\n",
       "    </tr>\n",
       "    <tr>\n",
       "      <th>197</th>\n",
       "      <td>ecfp</td>\n",
       "      <td>48.451613</td>\n",
       "      <td>0.000000e+00</td>\n",
       "      <td>9.947020</td>\n",
       "      <td>0.000000e+00</td>\n",
       "      <td>1.845874</td>\n",
       "      <td>0.263107</td>\n",
       "      <td>12019.0</td>\n",
       "      <td>1502.0</td>\n",
       "      <td>NaN</td>\n",
       "      <td>0.000175</td>\n",
       "    </tr>\n",
       "    <tr>\n",
       "      <th>198</th>\n",
       "      <td>ecfp</td>\n",
       "      <td>44.941176</td>\n",
       "      <td>0.000000e+00</td>\n",
       "      <td>9.922078</td>\n",
       "      <td>0.000000e+00</td>\n",
       "      <td>0.960671</td>\n",
       "      <td>0.134666</td>\n",
       "      <td>6065.0</td>\n",
       "      <td>764.0</td>\n",
       "      <td>NaN</td>\n",
       "      <td>0.000176</td>\n",
       "    </tr>\n",
       "    <tr>\n",
       "      <th>199</th>\n",
       "      <td>ecfp</td>\n",
       "      <td>55.000000</td>\n",
       "      <td>0.000000e+00</td>\n",
       "      <td>9.870370</td>\n",
       "      <td>8.486251e-02</td>\n",
       "      <td>3.596129</td>\n",
       "      <td>0.476484</td>\n",
       "      <td>23680.0</td>\n",
       "      <td>2970.0</td>\n",
       "      <td>NaN</td>\n",
       "      <td>0.000160</td>\n",
       "    </tr>\n",
       "    <tr>\n",
       "      <th>200</th>\n",
       "      <td>ecfp</td>\n",
       "      <td>24.583333</td>\n",
       "      <td>3.552714e-15</td>\n",
       "      <td>8.604167</td>\n",
       "      <td>0.000000e+00</td>\n",
       "      <td>0.386470</td>\n",
       "      <td>0.052552</td>\n",
       "      <td>2322.0</td>\n",
       "      <td>295.0</td>\n",
       "      <td>NaN</td>\n",
       "      <td>0.000178</td>\n",
       "    </tr>\n",
       "    <tr>\n",
       "      <th>201</th>\n",
       "      <td>ecfp</td>\n",
       "      <td>47.416667</td>\n",
       "      <td>7.105427e-15</td>\n",
       "      <td>9.011940</td>\n",
       "      <td>1.386452e-01</td>\n",
       "      <td>2.135611</td>\n",
       "      <td>0.283123</td>\n",
       "      <td>13688.0</td>\n",
       "      <td>1707.0</td>\n",
       "      <td>NaN</td>\n",
       "      <td>0.000166</td>\n",
       "    </tr>\n",
       "    <tr>\n",
       "      <th>202</th>\n",
       "      <td>ecfp</td>\n",
       "      <td>15.555556</td>\n",
       "      <td>1.776357e-15</td>\n",
       "      <td>10.000000</td>\n",
       "      <td>0.000000e+00</td>\n",
       "      <td>0.202432</td>\n",
       "      <td>0.025189</td>\n",
       "      <td>1108.0</td>\n",
       "      <td>140.0</td>\n",
       "      <td>NaN</td>\n",
       "      <td>0.000180</td>\n",
       "    </tr>\n",
       "    <tr>\n",
       "      <th>203</th>\n",
       "      <td>ecfp</td>\n",
       "      <td>55.560000</td>\n",
       "      <td>7.105427e-15</td>\n",
       "      <td>7.880851</td>\n",
       "      <td>1.776357e-15</td>\n",
       "      <td>0.611534</td>\n",
       "      <td>0.084398</td>\n",
       "      <td>3697.0</td>\n",
       "      <td>463.0</td>\n",
       "      <td>NaN</td>\n",
       "      <td>0.000182</td>\n",
       "    </tr>\n",
       "    <tr>\n",
       "      <th>204</th>\n",
       "      <td>ecfp</td>\n",
       "      <td>38.409091</td>\n",
       "      <td>7.105427e-15</td>\n",
       "      <td>9.941176</td>\n",
       "      <td>0.000000e+00</td>\n",
       "      <td>1.096524</td>\n",
       "      <td>0.162806</td>\n",
       "      <td>6758.0</td>\n",
       "      <td>845.0</td>\n",
       "      <td>NaN</td>\n",
       "      <td>0.000193</td>\n",
       "    </tr>\n",
       "    <tr>\n",
       "      <th>205</th>\n",
       "      <td>ecfp</td>\n",
       "      <td>70.322581</td>\n",
       "      <td>1.421085e-14</td>\n",
       "      <td>9.967742</td>\n",
       "      <td>9.677419e-02</td>\n",
       "      <td>2.717229</td>\n",
       "      <td>0.353504</td>\n",
       "      <td>17484.0</td>\n",
       "      <td>2180.0</td>\n",
       "      <td>NaN</td>\n",
       "      <td>0.000162</td>\n",
       "    </tr>\n",
       "    <tr>\n",
       "      <th>206</th>\n",
       "      <td>ecfp</td>\n",
       "      <td>47.467742</td>\n",
       "      <td>7.105427e-15</td>\n",
       "      <td>9.670547</td>\n",
       "      <td>4.827228e-02</td>\n",
       "      <td>3.853256</td>\n",
       "      <td>0.496267</td>\n",
       "      <td>23591.0</td>\n",
       "      <td>2943.0</td>\n",
       "      <td>NaN</td>\n",
       "      <td>0.000169</td>\n",
       "    </tr>\n",
       "    <tr>\n",
       "      <th>207</th>\n",
       "      <td>ecfp</td>\n",
       "      <td>70.090909</td>\n",
       "      <td>0.000000e+00</td>\n",
       "      <td>9.948387</td>\n",
       "      <td>0.000000e+00</td>\n",
       "      <td>1.909051</td>\n",
       "      <td>0.260584</td>\n",
       "      <td>12355.0</td>\n",
       "      <td>1542.0</td>\n",
       "      <td>NaN</td>\n",
       "      <td>0.000169</td>\n",
       "    </tr>\n",
       "    <tr>\n",
       "      <th>208</th>\n",
       "      <td>ecfp</td>\n",
       "      <td>57.982747</td>\n",
       "      <td>1.793578e+00</td>\n",
       "      <td>9.053591</td>\n",
       "      <td>1.308794e-01</td>\n",
       "      <td>3.294956</td>\n",
       "      <td>0.422867</td>\n",
       "      <td>20290.0</td>\n",
       "      <td>2549.0</td>\n",
       "      <td>NaN</td>\n",
       "      <td>0.000166</td>\n",
       "    </tr>\n",
       "    <tr>\n",
       "      <th>209</th>\n",
       "      <td>ecfp</td>\n",
       "      <td>16.840000</td>\n",
       "      <td>0.000000e+00</td>\n",
       "      <td>9.707765</td>\n",
       "      <td>0.000000e+00</td>\n",
       "      <td>1.084807</td>\n",
       "      <td>0.163459</td>\n",
       "      <td>6703.0</td>\n",
       "      <td>842.0</td>\n",
       "      <td>NaN</td>\n",
       "      <td>0.000194</td>\n",
       "    </tr>\n",
       "    <tr>\n",
       "      <th>210</th>\n",
       "      <td>ecfp</td>\n",
       "      <td>32.840000</td>\n",
       "      <td>7.105427e-15</td>\n",
       "      <td>9.792291</td>\n",
       "      <td>7.961212e-02</td>\n",
       "      <td>2.062562</td>\n",
       "      <td>0.278387</td>\n",
       "      <td>13168.0</td>\n",
       "      <td>1642.0</td>\n",
       "      <td>NaN</td>\n",
       "      <td>0.000170</td>\n",
       "    </tr>\n",
       "    <tr>\n",
       "      <th>211</th>\n",
       "      <td>ecfp</td>\n",
       "      <td>46.055556</td>\n",
       "      <td>0.000000e+00</td>\n",
       "      <td>9.987952</td>\n",
       "      <td>1.776357e-15</td>\n",
       "      <td>1.037423</td>\n",
       "      <td>0.153964</td>\n",
       "      <td>6663.0</td>\n",
       "      <td>829.0</td>\n",
       "      <td>NaN</td>\n",
       "      <td>0.000186</td>\n",
       "    </tr>\n",
       "    <tr>\n",
       "      <th>212</th>\n",
       "      <td>ecfp</td>\n",
       "      <td>89.166667</td>\n",
       "      <td>1.421085e-14</td>\n",
       "      <td>9.907407</td>\n",
       "      <td>0.000000e+00</td>\n",
       "      <td>0.689276</td>\n",
       "      <td>0.094463</td>\n",
       "      <td>4299.0</td>\n",
       "      <td>535.0</td>\n",
       "      <td>NaN</td>\n",
       "      <td>0.000177</td>\n",
       "    </tr>\n",
       "    <tr>\n",
       "      <th>213</th>\n",
       "      <td>ecfp</td>\n",
       "      <td>26.000000</td>\n",
       "      <td>0.000000e+00</td>\n",
       "      <td>9.904762</td>\n",
       "      <td>1.776357e-15</td>\n",
       "      <td>0.337606</td>\n",
       "      <td>0.050750</td>\n",
       "      <td>1653.0</td>\n",
       "      <td>208.0</td>\n",
       "      <td>NaN</td>\n",
       "      <td>0.000244</td>\n",
       "    </tr>\n",
       "    <tr>\n",
       "      <th>214</th>\n",
       "      <td>ecfp</td>\n",
       "      <td>91.857143</td>\n",
       "      <td>0.000000e+00</td>\n",
       "      <td>9.892308</td>\n",
       "      <td>0.000000e+00</td>\n",
       "      <td>0.824343</td>\n",
       "      <td>0.113707</td>\n",
       "      <td>5145.0</td>\n",
       "      <td>643.0</td>\n",
       "      <td>NaN</td>\n",
       "      <td>0.000177</td>\n",
       "    </tr>\n",
       "    <tr>\n",
       "      <th>215</th>\n",
       "      <td>ecfp</td>\n",
       "      <td>53.836735</td>\n",
       "      <td>0.000000e+00</td>\n",
       "      <td>9.992424</td>\n",
       "      <td>1.776357e-15</td>\n",
       "      <td>3.339736</td>\n",
       "      <td>0.429084</td>\n",
       "      <td>21092.0</td>\n",
       "      <td>2638.0</td>\n",
       "      <td>NaN</td>\n",
       "      <td>0.000163</td>\n",
       "    </tr>\n",
       "    <tr>\n",
       "      <th>216</th>\n",
       "      <td>ecfp</td>\n",
       "      <td>58.527778</td>\n",
       "      <td>7.105427e-15</td>\n",
       "      <td>9.985782</td>\n",
       "      <td>1.776357e-15</td>\n",
       "      <td>2.694913</td>\n",
       "      <td>0.348325</td>\n",
       "      <td>16925.0</td>\n",
       "      <td>2107.0</td>\n",
       "      <td>NaN</td>\n",
       "      <td>0.000165</td>\n",
       "    </tr>\n",
       "    <tr>\n",
       "      <th>217</th>\n",
       "      <td>ecfp</td>\n",
       "      <td>71.828343</td>\n",
       "      <td>6.928779e-01</td>\n",
       "      <td>9.528887</td>\n",
       "      <td>0.000000e+00</td>\n",
       "      <td>3.933036</td>\n",
       "      <td>0.505396</td>\n",
       "      <td>25336.0</td>\n",
       "      <td>3178.0</td>\n",
       "      <td>NaN</td>\n",
       "      <td>0.000159</td>\n",
       "    </tr>\n",
       "    <tr>\n",
       "      <th>218</th>\n",
       "      <td>ecfp</td>\n",
       "      <td>47.285714</td>\n",
       "      <td>0.000000e+00</td>\n",
       "      <td>9.735294</td>\n",
       "      <td>0.000000e+00</td>\n",
       "      <td>0.442598</td>\n",
       "      <td>0.058894</td>\n",
       "      <td>2660.0</td>\n",
       "      <td>331.0</td>\n",
       "      <td>NaN</td>\n",
       "      <td>0.000178</td>\n",
       "    </tr>\n",
       "    <tr>\n",
       "      <th>219</th>\n",
       "      <td>ecfp</td>\n",
       "      <td>49.688525</td>\n",
       "      <td>0.000000e+00</td>\n",
       "      <td>9.806946</td>\n",
       "      <td>0.000000e+00</td>\n",
       "      <td>3.778054</td>\n",
       "      <td>0.493078</td>\n",
       "      <td>24390.0</td>\n",
       "      <td>3031.0</td>\n",
       "      <td>NaN</td>\n",
       "      <td>0.000163</td>\n",
       "    </tr>\n",
       "    <tr>\n",
       "      <th>220</th>\n",
       "      <td>ecfp</td>\n",
       "      <td>57.400000</td>\n",
       "      <td>0.000000e+00</td>\n",
       "      <td>9.896552</td>\n",
       "      <td>1.776357e-15</td>\n",
       "      <td>0.724251</td>\n",
       "      <td>0.100135</td>\n",
       "      <td>4565.0</td>\n",
       "      <td>574.0</td>\n",
       "      <td>NaN</td>\n",
       "      <td>0.000174</td>\n",
       "    </tr>\n",
       "    <tr>\n",
       "      <th>221</th>\n",
       "      <td>ecfp</td>\n",
       "      <td>39.458333</td>\n",
       "      <td>7.105427e-15</td>\n",
       "      <td>9.553070</td>\n",
       "      <td>1.776357e-15</td>\n",
       "      <td>1.197184</td>\n",
       "      <td>0.166713</td>\n",
       "      <td>7582.0</td>\n",
       "      <td>947.0</td>\n",
       "      <td>NaN</td>\n",
       "      <td>0.000176</td>\n",
       "    </tr>\n",
       "    <tr>\n",
       "      <th>222</th>\n",
       "      <td>ecfp</td>\n",
       "      <td>67.000000</td>\n",
       "      <td>0.000000e+00</td>\n",
       "      <td>9.925926</td>\n",
       "      <td>0.000000e+00</td>\n",
       "      <td>0.373057</td>\n",
       "      <td>0.049761</td>\n",
       "      <td>2130.0</td>\n",
       "      <td>268.0</td>\n",
       "      <td>NaN</td>\n",
       "      <td>0.000186</td>\n",
       "    </tr>\n",
       "    <tr>\n",
       "      <th>223</th>\n",
       "      <td>ecfp</td>\n",
       "      <td>47.531915</td>\n",
       "      <td>7.105427e-15</td>\n",
       "      <td>9.973214</td>\n",
       "      <td>1.776357e-15</td>\n",
       "      <td>2.763415</td>\n",
       "      <td>0.373682</td>\n",
       "      <td>17768.0</td>\n",
       "      <td>2234.0</td>\n",
       "      <td>NaN</td>\n",
       "      <td>0.000167</td>\n",
       "    </tr>\n",
       "    <tr>\n",
       "      <th>224</th>\n",
       "      <td>ecfp</td>\n",
       "      <td>52.037037</td>\n",
       "      <td>0.000000e+00</td>\n",
       "      <td>9.226425</td>\n",
       "      <td>1.776357e-15</td>\n",
       "      <td>1.833415</td>\n",
       "      <td>0.670510</td>\n",
       "      <td>11241.0</td>\n",
       "      <td>1405.0</td>\n",
       "      <td>NaN</td>\n",
       "      <td>0.000477</td>\n",
       "    </tr>\n",
       "    <tr>\n",
       "      <th>225</th>\n",
       "      <td>ecfp</td>\n",
       "      <td>50.428571</td>\n",
       "      <td>7.105427e-15</td>\n",
       "      <td>9.805556</td>\n",
       "      <td>0.000000e+00</td>\n",
       "      <td>0.469193</td>\n",
       "      <td>0.062282</td>\n",
       "      <td>2861.0</td>\n",
       "      <td>353.0</td>\n",
       "      <td>NaN</td>\n",
       "      <td>0.000176</td>\n",
       "    </tr>\n",
       "    <tr>\n",
       "      <th>226</th>\n",
       "      <td>ecfp</td>\n",
       "      <td>16.688889</td>\n",
       "      <td>0.000000e+00</td>\n",
       "      <td>9.464357</td>\n",
       "      <td>6.587719e-02</td>\n",
       "      <td>0.943103</td>\n",
       "      <td>0.132195</td>\n",
       "      <td>6022.0</td>\n",
       "      <td>751.0</td>\n",
       "      <td>NaN</td>\n",
       "      <td>0.000176</td>\n",
       "    </tr>\n",
       "    <tr>\n",
       "      <th>227</th>\n",
       "      <td>ecfp</td>\n",
       "      <td>62.555556</td>\n",
       "      <td>7.105427e-15</td>\n",
       "      <td>9.877193</td>\n",
       "      <td>0.000000e+00</td>\n",
       "      <td>0.703682</td>\n",
       "      <td>0.098147</td>\n",
       "      <td>4421.0</td>\n",
       "      <td>563.0</td>\n",
       "      <td>NaN</td>\n",
       "      <td>0.000174</td>\n",
       "    </tr>\n",
       "  </tbody>\n",
       "</table>\n",
       "</div>"
      ],
      "text/plain": [
       "    model  enrich-1-mean  enrich-1-std  enrich-10-mean  enrich-10-std  \\\n",
       "190  ecfp      66.500000  0.000000e+00        9.975000   1.776357e-15   \n",
       "191  ecfp      58.000000  0.000000e+00        9.666667   1.776357e-15   \n",
       "192  ecfp      44.428571  7.105427e-15        8.980243   0.000000e+00   \n",
       "193  ecfp      45.285714  0.000000e+00        9.906250   0.000000e+00   \n",
       "194  ecfp      40.512821  0.000000e+00        9.743590   1.776357e-15   \n",
       "195  ecfp       7.350000  8.881784e-16        7.350000   8.881784e-16   \n",
       "196  ecfp      42.534884  0.000000e+00        9.808591   9.297242e-02   \n",
       "197  ecfp      48.451613  0.000000e+00        9.947020   0.000000e+00   \n",
       "198  ecfp      44.941176  0.000000e+00        9.922078   0.000000e+00   \n",
       "199  ecfp      55.000000  0.000000e+00        9.870370   8.486251e-02   \n",
       "200  ecfp      24.583333  3.552714e-15        8.604167   0.000000e+00   \n",
       "201  ecfp      47.416667  7.105427e-15        9.011940   1.386452e-01   \n",
       "202  ecfp      15.555556  1.776357e-15       10.000000   0.000000e+00   \n",
       "203  ecfp      55.560000  7.105427e-15        7.880851   1.776357e-15   \n",
       "204  ecfp      38.409091  7.105427e-15        9.941176   0.000000e+00   \n",
       "205  ecfp      70.322581  1.421085e-14        9.967742   9.677419e-02   \n",
       "206  ecfp      47.467742  7.105427e-15        9.670547   4.827228e-02   \n",
       "207  ecfp      70.090909  0.000000e+00        9.948387   0.000000e+00   \n",
       "208  ecfp      57.982747  1.793578e+00        9.053591   1.308794e-01   \n",
       "209  ecfp      16.840000  0.000000e+00        9.707765   0.000000e+00   \n",
       "210  ecfp      32.840000  7.105427e-15        9.792291   7.961212e-02   \n",
       "211  ecfp      46.055556  0.000000e+00        9.987952   1.776357e-15   \n",
       "212  ecfp      89.166667  1.421085e-14        9.907407   0.000000e+00   \n",
       "213  ecfp      26.000000  0.000000e+00        9.904762   1.776357e-15   \n",
       "214  ecfp      91.857143  0.000000e+00        9.892308   0.000000e+00   \n",
       "215  ecfp      53.836735  0.000000e+00        9.992424   1.776357e-15   \n",
       "216  ecfp      58.527778  7.105427e-15        9.985782   1.776357e-15   \n",
       "217  ecfp      71.828343  6.928779e-01        9.528887   0.000000e+00   \n",
       "218  ecfp      47.285714  0.000000e+00        9.735294   0.000000e+00   \n",
       "219  ecfp      49.688525  0.000000e+00        9.806946   0.000000e+00   \n",
       "220  ecfp      57.400000  0.000000e+00        9.896552   1.776357e-15   \n",
       "221  ecfp      39.458333  7.105427e-15        9.553070   1.776357e-15   \n",
       "222  ecfp      67.000000  0.000000e+00        9.925926   0.000000e+00   \n",
       "223  ecfp      47.531915  7.105427e-15        9.973214   1.776357e-15   \n",
       "224  ecfp      52.037037  0.000000e+00        9.226425   1.776357e-15   \n",
       "225  ecfp      50.428571  7.105427e-15        9.805556   0.000000e+00   \n",
       "226  ecfp      16.688889  0.000000e+00        9.464357   6.587719e-02   \n",
       "227  ecfp      62.555556  7.105427e-15        9.877193   0.000000e+00   \n",
       "\n",
       "     train_time  test_time  train_size  test_size  metric  latency_per_mol  \n",
       "190    0.515006   0.070779      3177.0      399.0     NaN         0.000177  \n",
       "191    0.320977   0.508504      1855.0      232.0     NaN         0.002192  \n",
       "192    1.203742   0.178494      7420.0      933.0     NaN         0.000191  \n",
       "193    0.963895   0.139968      5064.0      634.0     NaN         0.000221  \n",
       "194    1.978869   0.264528     12693.0     1580.0     NaN         0.000167  \n",
       "195    0.211260   0.026836      1156.0      147.0     NaN         0.000183  \n",
       "196    2.260613   0.299745     14622.0     1829.0     NaN         0.000164  \n",
       "197    1.845874   0.263107     12019.0     1502.0     NaN         0.000175  \n",
       "198    0.960671   0.134666      6065.0      764.0     NaN         0.000176  \n",
       "199    3.596129   0.476484     23680.0     2970.0     NaN         0.000160  \n",
       "200    0.386470   0.052552      2322.0      295.0     NaN         0.000178  \n",
       "201    2.135611   0.283123     13688.0     1707.0     NaN         0.000166  \n",
       "202    0.202432   0.025189      1108.0      140.0     NaN         0.000180  \n",
       "203    0.611534   0.084398      3697.0      463.0     NaN         0.000182  \n",
       "204    1.096524   0.162806      6758.0      845.0     NaN         0.000193  \n",
       "205    2.717229   0.353504     17484.0     2180.0     NaN         0.000162  \n",
       "206    3.853256   0.496267     23591.0     2943.0     NaN         0.000169  \n",
       "207    1.909051   0.260584     12355.0     1542.0     NaN         0.000169  \n",
       "208    3.294956   0.422867     20290.0     2549.0     NaN         0.000166  \n",
       "209    1.084807   0.163459      6703.0      842.0     NaN         0.000194  \n",
       "210    2.062562   0.278387     13168.0     1642.0     NaN         0.000170  \n",
       "211    1.037423   0.153964      6663.0      829.0     NaN         0.000186  \n",
       "212    0.689276   0.094463      4299.0      535.0     NaN         0.000177  \n",
       "213    0.337606   0.050750      1653.0      208.0     NaN         0.000244  \n",
       "214    0.824343   0.113707      5145.0      643.0     NaN         0.000177  \n",
       "215    3.339736   0.429084     21092.0     2638.0     NaN         0.000163  \n",
       "216    2.694913   0.348325     16925.0     2107.0     NaN         0.000165  \n",
       "217    3.933036   0.505396     25336.0     3178.0     NaN         0.000159  \n",
       "218    0.442598   0.058894      2660.0      331.0     NaN         0.000178  \n",
       "219    3.778054   0.493078     24390.0     3031.0     NaN         0.000163  \n",
       "220    0.724251   0.100135      4565.0      574.0     NaN         0.000174  \n",
       "221    1.197184   0.166713      7582.0      947.0     NaN         0.000176  \n",
       "222    0.373057   0.049761      2130.0      268.0     NaN         0.000186  \n",
       "223    2.763415   0.373682     17768.0     2234.0     NaN         0.000167  \n",
       "224    1.833415   0.670510     11241.0     1405.0     NaN         0.000477  \n",
       "225    0.469193   0.062282      2861.0      353.0     NaN         0.000176  \n",
       "226    0.943103   0.132195      6022.0      751.0     NaN         0.000176  \n",
       "227    0.703682   0.098147      4421.0      563.0     NaN         0.000174  "
      ]
     },
     "execution_count": 95,
     "metadata": {},
     "output_type": "execute_result"
    }
   ],
   "source": [
    "model_metric_df[model_metric_df[\"model\"] == \"ecfp\"]"
   ]
  },
  {
   "cell_type": "code",
   "execution_count": 96,
   "metadata": {},
   "outputs": [
    {
     "name": "stdout",
     "output_type": "stream",
     "text": [
      "Vina (38, 11)\n",
      "ecfp (38, 11)\n",
      "mlp (38, 11)\n",
      "openhd-ecfp (38, 11)\n",
      "openhd-rp (38, 11)\n",
      "rf (38, 11)\n",
      "rp (38, 11)\n",
      "selfies.atomwise (38, 11)\n",
      "smiles-pe.atomwise.0 (38, 11)\n",
      "smiles-pe.bpe.0 (38, 11)\n"
     ]
    }
   ],
   "source": [
    "for group_name, group_df in model_metric_df.groupby(\"model\"):\n",
    "    print(group_name, group_df.shape)\n"
   ]
  },
  {
   "cell_type": "code",
   "execution_count": 97,
   "metadata": {
    "scrolled": false
   },
   "outputs": [
    {
     "data": {
      "image/png": "[encoded data removed]",
      "text/plain": [
       "<Figure size 1008x576 with 1 Axes>"
      ]
     },
     "metadata": {
      "needs_background": "light"
     },
     "output_type": "display_data"
    }
   ],
   "source": [
    "f, ax = plt.subplots(1,1, figsize=(14,8))\n",
    "\n",
    "# for group_name, group_df in model_metric_df.groupby(\"model\"):\n",
    "#     sns.boxplot(data=group_df, x=\"train_time\", ax=ax)\n",
    "g = sns.boxplot(data=model_metric_df[model_metric_df[\"model\"] != \"Vina\"], x=\"model\", y=\"train_time\", ax=ax, palette=color_dict)\n",
    "ax.tick_params(axis=\"x\", labelrotation=22.5)\n",
    "g.set_yscale(\"log\")"
   ]
  },
  {
   "cell_type": "code",
   "execution_count": 98,
   "metadata": {},
   "outputs": [],
   "source": [
    "group_dict = {group_name: group_df for group_name, group_df in model_metric_df.groupby('model')}"
   ]
  },
  {
   "cell_type": "code",
   "execution_count": 99,
   "metadata": {},
   "outputs": [
    {
     "data": {
      "text/plain": [
       "19.864687543423006"
      ]
     },
     "execution_count": 99,
     "metadata": {},
     "output_type": "execute_result"
    }
   ],
   "source": [
    "group_dict[\"rp\"][\"train_time\"].mean() / group_dict[\"openhd-rp\"][\"train_time\"].mean()"
   ]
  },
  {
   "cell_type": "code",
   "execution_count": 100,
   "metadata": {},
   "outputs": [
    {
     "data": {
      "text/plain": [
       "41.74038920418333"
      ]
     },
     "execution_count": 100,
     "metadata": {},
     "output_type": "execute_result"
    }
   ],
   "source": [
    "group_dict[\"ecfp\"][\"train_time\"].mean() / group_dict[\"openhd-ecfp\"][\"train_time\"].mean()"
   ]
  },
  {
   "cell_type": "code",
   "execution_count": 101,
   "metadata": {},
   "outputs": [
    {
     "data": {
      "image/png": "[encoded data removed]",
      "text/plain": [
       "<Figure size 1008x576 with 1 Axes>"
      ]
     },
     "metadata": {
      "needs_background": "light"
     },
     "output_type": "display_data"
    }
   ],
   "source": [
    "f, ax = plt.subplots(1,1, figsize=(14,8))\n",
    "\n",
    "g = sns.boxplot(data=model_metric_df[model_metric_df[\"model\"] != \"Vina\"], x=\"model\", y=\"test_time\", ax=ax, palette=color_dict)\n",
    "ax.tick_params(axis=\"x\", labelrotation=22.5)\n",
    "g.set_yscale(\"log\")"
   ]
  },
  {
   "cell_type": "code",
   "execution_count": 102,
   "metadata": {},
   "outputs": [],
   "source": [
    "# sns.lineplot(data=model_metric_df, x=\"model\", y=\"test_time\")"
   ]
  },
  {
   "cell_type": "code",
   "execution_count": 103,
   "metadata": {},
   "outputs": [
    {
     "data": {
      "text/plain": [
       "2.2593216043764142e-05"
      ]
     },
     "execution_count": 103,
     "metadata": {},
     "output_type": "execute_result"
    }
   ],
   "source": [
    "group_dict[\"rf\"][\"test_time\"].mean() / group_dict[\"rf\"][\"test_size\"].mean()"
   ]
  },
  {
   "cell_type": "code",
   "execution_count": 104,
   "metadata": {},
   "outputs": [
    {
     "data": {
      "text/plain": [
       "1.0749024067174423e-05"
      ]
     },
     "execution_count": 104,
     "metadata": {},
     "output_type": "execute_result"
    }
   ],
   "source": [
    "group_dict[\"mlp\"][\"test_time\"].mean() / group_dict[\"rf\"][\"test_size\"].mean()"
   ]
  },
  {
   "cell_type": "code",
   "execution_count": 105,
   "metadata": {},
   "outputs": [
    {
     "data": {
      "text/plain": [
       "0.00018931656838014365"
      ]
     },
     "execution_count": 105,
     "metadata": {},
     "output_type": "execute_result"
    }
   ],
   "source": [
    "group_dict[\"ecfp\"][\"test_time\"].mean() / group_dict[\"rf\"][\"test_size\"].mean()"
   ]
  },
  {
   "cell_type": "code",
   "execution_count": 106,
   "metadata": {},
   "outputs": [
    {
     "data": {
      "text/plain": [
       "1.4876711211172797e-06"
      ]
     },
     "execution_count": 106,
     "metadata": {},
     "output_type": "execute_result"
    }
   ],
   "source": [
    "group_dict[\"openhd-ecfp\"][\"test_time\"].mean() / group_dict[\"rf\"][\"test_size\"].mean()"
   ]
  },
  {
   "cell_type": "code",
   "execution_count": null,
   "metadata": {},
   "outputs": [],
   "source": []
  },
  {
   "cell_type": "code",
   "execution_count": 108,
   "metadata": {},
   "outputs": [
    {
     "data": {
      "image/png": "[encoded data removed]",
      "text/plain": [
       "<Figure size 1008x576 with 1 Axes>"
      ]
     },
     "metadata": {
      "needs_background": "light"
     },
     "output_type": "display_data"
    }
   ],
   "source": [
    "f, ax = plt.subplots(1,1, figsize=(14,8))\n",
    "\n",
    "g = sns.boxplot(data=model_metric_df[model_metric_df[\"model\"] != \"Vina\"], x=\"model\", y=\"latency_per_mol\", ax=ax, palette=color_dict)\n",
    "ax.tick_params(axis=\"x\", labelrotation=22.5)\n",
    "g.set_yscale(\"log\")"
   ]
  },
  {
   "cell_type": "code",
   "execution_count": null,
   "metadata": {},
   "outputs": [],
   "source": []
  },
  {
   "cell_type": "code",
   "execution_count": null,
   "metadata": {},
   "outputs": [],
   "source": []
  },
  {
   "cell_type": "code",
   "execution_count": null,
   "metadata": {},
   "outputs": [],
   "source": []
  },
  {
   "cell_type": "code",
   "execution_count": null,
   "metadata": {},
   "outputs": [],
   "source": []
  },
  {
   "cell_type": "code",
   "execution_count": null,
   "metadata": {},
   "outputs": [],
   "source": []
  },
  {
   "cell_type": "code",
   "execution_count": null,
   "metadata": {},
   "outputs": [],
   "source": []
  },
  {
   "cell_type": "code",
   "execution_count": 82,
   "metadata": {},
   "outputs": [
    {
     "data": {
      "text/plain": [
       "127.25700303838794"
      ]
     },
     "execution_count": 82,
     "metadata": {},
     "output_type": "execute_result"
    }
   ],
   "source": [
    "group_dict[\"ecfp\"][\"test_time\"].mean() / group_dict[\"openhd-ecfp\"][\"test_time\"].mean()"
   ]
  },
  {
   "cell_type": "code",
   "execution_count": 83,
   "metadata": {},
   "outputs": [
    {
     "data": {
      "text/plain": [
       "134.77375004944426"
      ]
     },
     "execution_count": 83,
     "metadata": {},
     "output_type": "execute_result"
    }
   ],
   "source": [
    "group_dict[\"rp\"][\"test_time\"].mean() / group_dict[\"openhd-rp\"][\"test_time\"].mean()"
   ]
  },
  {
   "cell_type": "code",
   "execution_count": null,
   "metadata": {},
   "outputs": [],
   "source": []
  },
  {
   "cell_type": "code",
   "execution_count": 84,
   "metadata": {},
   "outputs": [
    {
     "data": {
      "text/plain": [
       "0.2565294949631942"
      ]
     },
     "execution_count": 84,
     "metadata": {},
     "output_type": "execute_result"
    }
   ],
   "source": [
    "group_dict[\"rp\"][\"test_time\"].mean()"
   ]
  },
  {
   "cell_type": "code",
   "execution_count": 85,
   "metadata": {},
   "outputs": [
    {
     "name": "stdout",
     "output_type": "stream",
     "text": [
      "Vina-nan\n",
      "ecfp-1.5604145370659073\n",
      "mlp-0.9281210509726877\n",
      "openhd-ecfp-0.037383804195805594\n",
      "openhd-rp-0.10364420664937872\n",
      "rf-2.451891372078343\n",
      "rp-2.0588597807758733\n",
      "selfies.atomwise-1.710242604895642\n",
      "smiles-pe.atomwise.0-1.8002140311190955\n",
      "smiles-pe.bpe.0-2.0068377205572627\n"
     ]
    }
   ],
   "source": [
    "for group_name in group_dict.keys():\n",
    "    print(f\"{group_name}-{group_dict[group_name]['train_time'].mean()}\")"
   ]
  },
  {
   "cell_type": "code",
   "execution_count": 86,
   "metadata": {},
   "outputs": [
    {
     "name": "stdout",
     "output_type": "stream",
     "text": [
      "Vina-nan\n",
      "ecfp-0.23282450500287508\n",
      "mlp-0.013219319519243744\n",
      "openhd-ecfp-0.0018295614342940482\n",
      "openhd-rp-0.00190340845208419\n",
      "rf-0.027785493825611306\n",
      "rp-0.2565294949631942\n",
      "selfies.atomwise-0.2625335141232139\n",
      "smiles-pe.atomwise.0-0.2723608556546663\n",
      "smiles-pe.bpe.0-0.30056622028350827\n"
     ]
    }
   ],
   "source": [
    "for group_name in group_dict.keys():\n",
    "    print(f\"{group_name}-{group_dict[group_name]['test_time'].mean()}\")"
   ]
  },
  {
   "cell_type": "code",
   "execution_count": null,
   "metadata": {},
   "outputs": [],
   "source": []
  }
 ],
 "metadata": {
  "kernelspec": {
   "display_name": "dtra_reactivator",
   "language": "python",
   "name": "dtra_reactivator"
  },
  "language_info": {
   "codemirror_mode": {
    "name": "ipython",
    "version": 3
   },
   "file_extension": ".py",
   "mimetype": "text/x-python",
   "name": "python",
   "nbconvert_exporter": "python",
   "pygments_lexer": "ipython3",
   "version": "3.8.12"
  }
 },
 "nbformat": 4,
 "nbformat_minor": 4
}
