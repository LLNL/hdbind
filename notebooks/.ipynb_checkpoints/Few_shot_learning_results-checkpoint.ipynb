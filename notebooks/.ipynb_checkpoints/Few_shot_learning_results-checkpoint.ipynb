{
 "cells": [
  {
   "cell_type": "markdown",
   "metadata": {},
   "source": [
    "# Generate Plots for Few Shot Learning"
   ]
  },
  {
   "cell_type": "code",
   "execution_count": 25,
   "metadata": {},
   "outputs": [],
   "source": [
    "import matplotlib.pyplot as plt\n",
    "import seaborn as sns\n",
    "sns.set_style('whitegrid')\n",
    "import pandas as pd "
   ]
  },
  {
   "cell_type": "code",
   "execution_count": 26,
   "metadata": {},
   "outputs": [],
   "source": [
    "df = pd.read_csv(\"/usr/WS1/jones289/hd-cuda-master/hdpy/hdpy/fsl/postera_results.csv\", sep='\\t')"
   ]
  },
  {
   "cell_type": "code",
   "execution_count": 27,
   "metadata": {},
   "outputs": [
    {
     "data": {
      "text/html": [
       "<div>\n",
       "<style scoped>\n",
       "    .dataframe tbody tr th:only-of-type {\n",
       "        vertical-align: middle;\n",
       "    }\n",
       "\n",
       "    .dataframe tbody tr th {\n",
       "        vertical-align: top;\n",
       "    }\n",
       "\n",
       "    .dataframe thead th {\n",
       "        text-align: right;\n",
       "    }\n",
       "</style>\n",
       "<table border=\"1\" class=\"dataframe\">\n",
       "  <thead>\n",
       "    <tr style=\"text-align: right;\">\n",
       "      <th></th>\n",
       "      <th>dataset</th>\n",
       "      <th>nway</th>\n",
       "      <th>kshot</th>\n",
       "      <th>kquery</th>\n",
       "      <th>n_problems</th>\n",
       "      <th>classifier_type</th>\n",
       "      <th>hidden_size</th>\n",
       "      <th>num_epochs</th>\n",
       "      <th>acc</th>\n",
       "      <th>ci95</th>\n",
       "    </tr>\n",
       "  </thead>\n",
       "  <tbody>\n",
       "    <tr>\n",
       "      <th>0</th>\n",
       "      <td>postera</td>\n",
       "      <td>3</td>\n",
       "      <td>1</td>\n",
       "      <td>10</td>\n",
       "      <td>100</td>\n",
       "      <td>HD</td>\n",
       "      <td>8192</td>\n",
       "      <td>0</td>\n",
       "      <td>51.10</td>\n",
       "      <td>2.10</td>\n",
       "    </tr>\n",
       "    <tr>\n",
       "      <th>1</th>\n",
       "      <td>postera</td>\n",
       "      <td>3</td>\n",
       "      <td>1</td>\n",
       "      <td>10</td>\n",
       "      <td>100</td>\n",
       "      <td>HD-Sparse</td>\n",
       "      <td>8192</td>\n",
       "      <td>0</td>\n",
       "      <td>0.00</td>\n",
       "      <td>0.00</td>\n",
       "    </tr>\n",
       "    <tr>\n",
       "      <th>2</th>\n",
       "      <td>postera</td>\n",
       "      <td>3</td>\n",
       "      <td>1</td>\n",
       "      <td>10</td>\n",
       "      <td>100</td>\n",
       "      <td>L1</td>\n",
       "      <td>0</td>\n",
       "      <td>0</td>\n",
       "      <td>51.85</td>\n",
       "      <td>1.61</td>\n",
       "    </tr>\n",
       "    <tr>\n",
       "      <th>3</th>\n",
       "      <td>postera</td>\n",
       "      <td>3</td>\n",
       "      <td>1</td>\n",
       "      <td>10</td>\n",
       "      <td>100</td>\n",
       "      <td>L2</td>\n",
       "      <td>0</td>\n",
       "      <td>0</td>\n",
       "      <td>52.55</td>\n",
       "      <td>2.00</td>\n",
       "    </tr>\n",
       "    <tr>\n",
       "      <th>4</th>\n",
       "      <td>postera</td>\n",
       "      <td>3</td>\n",
       "      <td>1</td>\n",
       "      <td>10</td>\n",
       "      <td>100</td>\n",
       "      <td>cosine</td>\n",
       "      <td>0</td>\n",
       "      <td>0</td>\n",
       "      <td>53.85</td>\n",
       "      <td>2.10</td>\n",
       "    </tr>\n",
       "  </tbody>\n",
       "</table>\n",
       "</div>"
      ],
      "text/plain": [
       "   dataset  nway  kshot  kquery  n_problems classifier_type  hidden_size  \\\n",
       "0  postera     3      1      10         100              HD         8192   \n",
       "1  postera     3      1      10         100       HD-Sparse         8192   \n",
       "2  postera     3      1      10         100              L1            0   \n",
       "3  postera     3      1      10         100              L2            0   \n",
       "4  postera     3      1      10         100          cosine            0   \n",
       "\n",
       "   num_epochs    acc  ci95  \n",
       "0           0  51.10  2.10  \n",
       "1           0   0.00  0.00  \n",
       "2           0  51.85  1.61  \n",
       "3           0  52.55  2.00  \n",
       "4           0  53.85  2.10  "
      ]
     },
     "execution_count": 27,
     "metadata": {},
     "output_type": "execute_result"
    }
   ],
   "source": [
    "df.head()"
   ]
  },
  {
   "cell_type": "code",
   "execution_count": 28,
   "metadata": {},
   "outputs": [
    {
     "data": {
      "text/html": [
       "<div>\n",
       "<style scoped>\n",
       "    .dataframe tbody tr th:only-of-type {\n",
       "        vertical-align: middle;\n",
       "    }\n",
       "\n",
       "    .dataframe tbody tr th {\n",
       "        vertical-align: top;\n",
       "    }\n",
       "\n",
       "    .dataframe thead th {\n",
       "        text-align: right;\n",
       "    }\n",
       "</style>\n",
       "<table border=\"1\" class=\"dataframe\">\n",
       "  <thead>\n",
       "    <tr style=\"text-align: right;\">\n",
       "      <th></th>\n",
       "      <th>dataset</th>\n",
       "      <th>nway</th>\n",
       "      <th>kshot</th>\n",
       "      <th>kquery</th>\n",
       "      <th>n_problems</th>\n",
       "      <th>classifier_type</th>\n",
       "      <th>hidden_size</th>\n",
       "      <th>num_epochs</th>\n",
       "      <th>acc</th>\n",
       "      <th>ci95</th>\n",
       "    </tr>\n",
       "  </thead>\n",
       "  <tbody>\n",
       "    <tr>\n",
       "      <th>0</th>\n",
       "      <td>postera</td>\n",
       "      <td>3</td>\n",
       "      <td>1</td>\n",
       "      <td>10</td>\n",
       "      <td>100</td>\n",
       "      <td>HD</td>\n",
       "      <td>8192</td>\n",
       "      <td>0</td>\n",
       "      <td>51.10</td>\n",
       "      <td>2.10</td>\n",
       "    </tr>\n",
       "    <tr>\n",
       "      <th>8</th>\n",
       "      <td>postera</td>\n",
       "      <td>3</td>\n",
       "      <td>2</td>\n",
       "      <td>10</td>\n",
       "      <td>100</td>\n",
       "      <td>HD</td>\n",
       "      <td>8192</td>\n",
       "      <td>0</td>\n",
       "      <td>53.80</td>\n",
       "      <td>2.14</td>\n",
       "    </tr>\n",
       "    <tr>\n",
       "      <th>16</th>\n",
       "      <td>postera</td>\n",
       "      <td>3</td>\n",
       "      <td>4</td>\n",
       "      <td>10</td>\n",
       "      <td>100</td>\n",
       "      <td>HD</td>\n",
       "      <td>8192</td>\n",
       "      <td>0</td>\n",
       "      <td>54.25</td>\n",
       "      <td>2.37</td>\n",
       "    </tr>\n",
       "    <tr>\n",
       "      <th>24</th>\n",
       "      <td>postera</td>\n",
       "      <td>3</td>\n",
       "      <td>8</td>\n",
       "      <td>10</td>\n",
       "      <td>100</td>\n",
       "      <td>HD</td>\n",
       "      <td>8192</td>\n",
       "      <td>0</td>\n",
       "      <td>57.30</td>\n",
       "      <td>2.13</td>\n",
       "    </tr>\n",
       "    <tr>\n",
       "      <th>32</th>\n",
       "      <td>postera</td>\n",
       "      <td>3</td>\n",
       "      <td>16</td>\n",
       "      <td>10</td>\n",
       "      <td>100</td>\n",
       "      <td>HD</td>\n",
       "      <td>8192</td>\n",
       "      <td>0</td>\n",
       "      <td>59.00</td>\n",
       "      <td>1.83</td>\n",
       "    </tr>\n",
       "    <tr>\n",
       "      <th>40</th>\n",
       "      <td>postera</td>\n",
       "      <td>3</td>\n",
       "      <td>32</td>\n",
       "      <td>10</td>\n",
       "      <td>100</td>\n",
       "      <td>HD</td>\n",
       "      <td>8192</td>\n",
       "      <td>0</td>\n",
       "      <td>59.35</td>\n",
       "      <td>1.83</td>\n",
       "    </tr>\n",
       "  </tbody>\n",
       "</table>\n",
       "</div>"
      ],
      "text/plain": [
       "    dataset  nway  kshot  kquery  n_problems classifier_type  hidden_size  \\\n",
       "0   postera     3      1      10         100              HD         8192   \n",
       "8   postera     3      2      10         100              HD         8192   \n",
       "16  postera     3      4      10         100              HD         8192   \n",
       "24  postera     3      8      10         100              HD         8192   \n",
       "32  postera     3     16      10         100              HD         8192   \n",
       "40  postera     3     32      10         100              HD         8192   \n",
       "\n",
       "    num_epochs    acc  ci95  \n",
       "0            0  51.10  2.10  \n",
       "8            0  53.80  2.14  \n",
       "16           0  54.25  2.37  \n",
       "24           0  57.30  2.13  \n",
       "32           0  59.00  1.83  \n",
       "40           0  59.35  1.83  "
      ]
     },
     "execution_count": 28,
     "metadata": {},
     "output_type": "execute_result"
    }
   ],
   "source": [
    "df[df['classifier_type'] == \"HD\"]"
   ]
  },
  {
   "cell_type": "code",
   "execution_count": 52,
   "metadata": {},
   "outputs": [
    {
     "data": {
      "text/plain": [
       "<AxesSubplot:xlabel='classifier_type', ylabel='acc'>"
      ]
     },
     "execution_count": 52,
     "metadata": {},
     "output_type": "execute_result"
    },
    {
     "data": {
      "image/png": "[encoded data removed]",
      "text/plain": [
       "<Figure size 720x504 with 1 Axes>"
      ]
     },
     "metadata": {},
     "output_type": "display_data"
    }
   ],
   "source": [
    "f, ax = plt.subplots(1,1, figsize=(10,7))\n",
    "sns.boxplot(x=\"classifier_type\", y=\"acc\", data=df)\n",
    "# plt.legend()"
   ]
  },
  {
   "cell_type": "code",
   "execution_count": 44,
   "metadata": {},
   "outputs": [
    {
     "name": "stdout",
     "output_type": "stream",
     "text": [
      "HD\n",
      "HD-Sparse\n",
      "L1\n",
      "L2\n",
      "MLP\n",
      "Majority\n",
      "Uniform\n",
      "cosine\n"
     ]
    },
    {
     "name": "stderr",
     "output_type": "stream",
     "text": [
      "/usr/workspace/wsa/jones289/miniconda3/envs/md/lib/python3.8/site-packages/seaborn/_decorators.py:36: FutureWarning: Pass the following variables as keyword args: x, y. From version 0.12, the only valid positional argument will be `data`, and passing other arguments without an explicit keyword will result in an error or misinterpretation.\n",
      "  warnings.warn(\n",
      "/usr/workspace/wsa/jones289/miniconda3/envs/md/lib/python3.8/site-packages/seaborn/_decorators.py:36: FutureWarning: Pass the following variables as keyword args: x, y. From version 0.12, the only valid positional argument will be `data`, and passing other arguments without an explicit keyword will result in an error or misinterpretation.\n",
      "  warnings.warn(\n",
      "/usr/workspace/wsa/jones289/miniconda3/envs/md/lib/python3.8/site-packages/seaborn/_decorators.py:36: FutureWarning: Pass the following variables as keyword args: x, y. From version 0.12, the only valid positional argument will be `data`, and passing other arguments without an explicit keyword will result in an error or misinterpretation.\n",
      "  warnings.warn(\n",
      "/usr/workspace/wsa/jones289/miniconda3/envs/md/lib/python3.8/site-packages/seaborn/_decorators.py:36: FutureWarning: Pass the following variables as keyword args: x, y. From version 0.12, the only valid positional argument will be `data`, and passing other arguments without an explicit keyword will result in an error or misinterpretation.\n",
      "  warnings.warn(\n",
      "/usr/workspace/wsa/jones289/miniconda3/envs/md/lib/python3.8/site-packages/seaborn/_decorators.py:36: FutureWarning: Pass the following variables as keyword args: x, y. From version 0.12, the only valid positional argument will be `data`, and passing other arguments without an explicit keyword will result in an error or misinterpretation.\n",
      "  warnings.warn(\n",
      "/usr/workspace/wsa/jones289/miniconda3/envs/md/lib/python3.8/site-packages/seaborn/_decorators.py:36: FutureWarning: Pass the following variables as keyword args: x, y. From version 0.12, the only valid positional argument will be `data`, and passing other arguments without an explicit keyword will result in an error or misinterpretation.\n",
      "  warnings.warn(\n",
      "/usr/workspace/wsa/jones289/miniconda3/envs/md/lib/python3.8/site-packages/seaborn/_decorators.py:36: FutureWarning: Pass the following variables as keyword args: x, y. From version 0.12, the only valid positional argument will be `data`, and passing other arguments without an explicit keyword will result in an error or misinterpretation.\n",
      "  warnings.warn(\n",
      "/usr/workspace/wsa/jones289/miniconda3/envs/md/lib/python3.8/site-packages/seaborn/_decorators.py:36: FutureWarning: Pass the following variables as keyword args: x, y. From version 0.12, the only valid positional argument will be `data`, and passing other arguments without an explicit keyword will result in an error or misinterpretation.\n",
      "  warnings.warn(\n",
      "<ipython-input-44-d87ef54855fa>:17: MatplotlibDeprecationWarning: The 'basex' parameter of __init__() has been renamed 'base' since Matplotlib 3.3; support for the old name will be dropped two minor releases later.\n",
      "  ax.set_xscale('log', basex=2)\n"
     ]
    },
    {
     "data": {
      "image/png": "[encoded data removed]",
      "text/plain": [
       "<Figure size 432x432 with 1 Axes>"
      ]
     },
     "metadata": {},
     "output_type": "display_data"
    }
   ],
   "source": [
    "# import itertools\n",
    "\n",
    "# line_style_buffer = itertools.cycle(['-', ':', \"--\", \"-.\"])\n",
    "# marker_style_buffer = itertools.cycle(['o', 'v', '^', '<', '>'])\n",
    "# f, ax = plt.subplots(1,1, figsize=(6, 6))\n",
    "# for group in df.groupby('classifier_type'):\n",
    "#     group_name, group_df = group\n",
    "#     print(group_name)\n",
    "#     if group_name in [\"Uniform\", \"Majority\"]:\n",
    "#         sns.lineplot(group_df['kshot'], group_df['acc'], label=group_name, linewidth=1,\n",
    "#                      color='b', marker=next(marker_style_buffer), linestyle=next(line_style_buffer))\n",
    "#     else:\n",
    "#         sns.lineplot(group_df['kshot'], group_df['acc'], label=group_name, linewidth=2,\n",
    "#                      marker=next(marker_style_buffer), linestyle=next(line_style_buffer))\n",
    "\n",
    "# plt.legend()\n",
    "# ax.set_xscale('log', basex=2)\n",
    "# # ax.set_yscale('log', basey=10)"
   ]
  },
  {
   "cell_type": "code",
   "execution_count": null,
   "metadata": {},
   "outputs": [],
   "source": []
  },
  {
   "cell_type": "code",
   "execution_count": null,
   "metadata": {},
   "outputs": [],
   "source": []
  },
  {
   "cell_type": "code",
   "execution_count": null,
   "metadata": {},
   "outputs": [],
   "source": []
  }
 ],
 "metadata": {
  "kernelspec": {
   "display_name": "md",
   "language": "python",
   "name": "md"
  },
  "language_info": {
   "codemirror_mode": {
    "name": "ipython",
    "version": 3
   },
   "file_extension": ".py",
   "mimetype": "text/x-python",
   "name": "python",
   "nbconvert_exporter": "python",
   "pygments_lexer": "ipython3",
   "version": "3.8.3"
  }
 },
 "nbformat": 4,
 "nbformat_minor": 4
}
