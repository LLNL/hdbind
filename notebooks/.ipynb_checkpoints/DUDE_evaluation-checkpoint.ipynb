{
 "cells": [
  {
   "cell_type": "markdown",
   "metadata": {},
   "source": [
    "This notebook will describe experiments related to DUD-E"
   ]
  },
  {
   "cell_type": "code",
   "execution_count": 1,
   "metadata": {},
   "outputs": [],
   "source": [
    "import pickle\n",
    "from sklearn.metrics import roc_auc_score\n",
    "import numpy as np\n",
    "import seaborn as sns\n",
    "import torch\n",
    "import seaborn as sns\n",
    "import pandas as pd\n",
    "from tqdm import tqdm\n",
    "from pathlib import Path\n",
    "from sklearn.metrics import f1_score, recall_score\n",
    "import matplotlib.pyplot as plt\n",
    "\n",
    "\n",
    "plt.rc('text', usetex=True)\n",
    "plt.rc('font', family='serif')\n",
    "plt.rc('xtick', labelsize=15)\n",
    "plt.rc('ytick', labelsize=15)\n",
    "plt.rc('axes', labelsize=17)\n",
    "plt.rc('figure', titlesize=20)\n"
   ]
  },
  {
   "cell_type": "code",
   "execution_count": 2,
   "metadata": {},
   "outputs": [],
   "source": [
    "def compute_enrichment_factor(scores, labels, n_percent):\n",
    "    # this variant implements the equation from Xiaohua's paper\n",
    "    \n",
    "    sample_n = int(np.ceil(n_percent * labels.shape[0]))\n",
    "    \n",
    "    sorted_scores = sorted(zip(scores, labels), key=lambda x: x[0], reverse=True)\n",
    "\n",
    "    top_n_sorted_scores = sorted_scores[:sample_n]\n",
    "\n",
    "    # counting number of true positives in top x% of sorted compounds\n",
    "    actives_sampled = sum([y for x, y in top_n_sorted_scores])\n",
    "    # labels are binary, sum to count number of actives\n",
    "    actives_database = sum(labels)\n",
    "\n",
    "    norm_factor = (sample_n/len(labels))\n",
    "\n",
    "    return (actives_sampled / actives_database) * (labels.shape[0]/sample_n)\n"
   ]
  },
  {
   "cell_type": "code",
   "execution_count": 3,
   "metadata": {},
   "outputs": [],
   "source": [
    "# data_p = Path(\"/g/g13/jones289/workspace/hd-cuda-master/hdpy/hdpy/results/0\")\n",
    "data_p = Path(\"/g/g13/jones289/workspace/hd-cuda-master/hdpy/hdpy/results/4\")\n",
    "range_limit = 10\n",
    "\n",
    "# TODO: what is this directory (1) ?? (update) I think its a run that has openhd results\n",
    "# data_p = Path(\"/g/g13/jones289/workspace/hd-cuda-master/hdpy/hdpy/results/1\")\n",
    "# range_limit = 1\n"
   ]
  },
  {
   "cell_type": "code",
   "execution_count": 4,
   "metadata": {},
   "outputs": [
    {
     "data": {
      "text/plain": [
       "'dude.random.inha.rf.None.0.pkl'"
      ]
     },
     "execution_count": 4,
     "metadata": {},
     "output_type": "execute_result"
    }
   ],
   "source": [
    "list(data_p.glob(\"dude.random*.pkl\"))[0].name"
   ]
  },
  {
   "cell_type": "code",
   "execution_count": 5,
   "metadata": {},
   "outputs": [
    {
     "data": {
      "text/plain": [
       "['fa10',\n",
       " 'egfr',\n",
       " 'try1',\n",
       " 'dyr',\n",
       " 'pgh2',\n",
       " 'mk14',\n",
       " 'ace',\n",
       " 'hs90a',\n",
       " 'pygm',\n",
       " 'hivpr',\n",
       " 'hivrt',\n",
       " 'andr',\n",
       " 'aldr',\n",
       " 'ada',\n",
       " 'esr1',\n",
       " 'src',\n",
       " 'parp1',\n",
       " 'pgh1',\n",
       " 'cdk2',\n",
       " 'pnph',\n",
       " 'pparg',\n",
       " 'comt',\n",
       " 'sahh',\n",
       " 'pde5a',\n",
       " 'inha',\n",
       " 'ampc',\n",
       " 'vgfr2',\n",
       " 'mcr',\n",
       " 'bace1',\n",
       " 'nram',\n",
       " 'thrb',\n",
       " 'gcr',\n",
       " 'hmdh',\n",
       " 'pur2',\n",
       " 'prgr',\n",
       " 'kith',\n",
       " 'aces',\n",
       " 'rxra']"
      ]
     },
     "execution_count": 5,
     "metadata": {},
     "output_type": "execute_result"
    }
   ],
   "source": [
    "dude_target_names = list(set([x.name.split('.')[2] for x in list(data_p.glob(\"dude.random*.pkl\"))]))\n",
    "dude_target_names"
   ]
  },
  {
   "cell_type": "code",
   "execution_count": 6,
   "metadata": {},
   "outputs": [],
   "source": [
    "def compute_average_enrichment(pkl_path, model):\n",
    "    range_limit=10\n",
    "    enrich_1_list = [] \n",
    "    enrich_10_list = []\n",
    "    \n",
    "\n",
    "    with open(pkl_path, \"rb\") as handle:\n",
    "        data = pickle.load(handle) # lets just use one seed\n",
    "\n",
    "    \n",
    "        if \"openhd\" in str(pkl_path):\n",
    "            range_limit=1\n",
    "        for seed in range(range_limit):\n",
    "#             print(seed)\n",
    "\n",
    "            if isinstance(data[seed][\"y_true\"], np.ndarray):\n",
    "                y_true = data[seed][\"y_true\"]\n",
    "            else:\n",
    "                y_true = np.concatenate(data[seed][\"y_true\"]) \n",
    "            y_pred = np.array(data[seed][\"y_pred\"])\n",
    "\n",
    "    \n",
    "            eta = np.array(data[seed][\"eta\"])\n",
    "\n",
    "            if np.unique(y_true).shape[0] < 2 :\n",
    "                metric = 0\n",
    "            else:\n",
    "                metric = recall_score(y_pred=y_pred, y_true=y_true)\n",
    "                if model in [\"rf\", \"mlp\"]:\n",
    "                    eta= eta[:, 1]\n",
    "\n",
    "            enrich_1 = compute_enrichment_factor(scores=eta, labels=y_true, n_percent=.01)\n",
    "            enrich_1_list.append(enrich_1)\n",
    "                \n",
    "            enrich_10 = compute_enrichment_factor(scores=eta, labels=y_true, n_percent=.1)\n",
    "            enrich_10_list.append(enrich_10)\n",
    "            \n",
    "    \n",
    "    return np.mean(enrich_1_list), np.std(enrich_1_list), np.mean(enrich_10_list), np.std(enrich_10_list)\n",
    "\n",
    "\n",
    "\n",
    "\n",
    "def compute_average_train_time(pkl_path):\n",
    "    print(pkl_path)\n",
    "    train_time_list = []\n",
    "    range_limit=10\n",
    "\n",
    "    with open(pkl_path, \"rb\") as handle:\n",
    "        data = pickle.load(handle) # lets just use one seed\n",
    "        \n",
    "        target = pkl_path.name.split(\".\")[2]\n",
    "        split = pkl_path.name.split(\".\")[1]\n",
    "        model = pkl_path.name.split(\".\")[3]\n",
    "\n",
    "    \n",
    "#         if \"openhd\" in model:\n",
    "#             range_limit=1\n",
    "        for seed in range(range_limit):\n",
    "\n",
    "            train_time = -1\n",
    "            if model in [\"rf\", \"mlp\"]:\n",
    "                train_time  = data[seed][\"train_time\"]\n",
    "\n",
    "            else:\n",
    "                train_time = data[seed][\"single_pass_train_time\"]\n",
    "                \n",
    "                \n",
    "                \n",
    "            if \"openhd\" in model:\n",
    "                pass\n",
    "            \n",
    "            elif \"mlp\" in model:\n",
    "                train_time = train_time / 10 # trained MLP for max 10 epochs...check that it hits that but assume it didn't converge that quickly\n",
    "            elif \"rf\" in model:\n",
    "                train_time = train_time # there's no concept of epoch in a random forest\n",
    "            else:\n",
    "                train_time = train_time/10 # this should catch all HD models which were trained for 10 epochs per seed\n",
    "            \n",
    "            train_time_list.append(train_time)\n",
    "            \n",
    "            \n",
    "    \n",
    "    return np.mean(train_time_list)\n",
    "\n",
    "\n",
    "\n",
    "def compute_average_inference_time(pkl_path):\n",
    "    range_limit=10\n",
    "    test_time_list = []\n",
    "    \n",
    "\n",
    "    with open(pkl_path, \"rb\") as handle:\n",
    "        data = pickle.load(handle) # lets just use one seed\n",
    "        \n",
    "\n",
    "    \n",
    "#         if \"openhd\" in str(pkl_path):\n",
    "#             range_limit=1\n",
    "        for seed in range(range_limit):\n",
    "\n",
    "            test_time  = data[seed][\"test_time\"]\n",
    "\n",
    "            test_time_list.append(test_time)\n",
    "            \n",
    "            \n",
    "    \n",
    "    return np.mean(test_time_list)\n",
    "\n",
    "\n",
    "def get_train_test_sizes(pkl_path):\n",
    "    range_limit = 10\n",
    "    train_size_list = []\n",
    "    test_size_list = []\n",
    "    \n",
    "\n",
    "    with open(pkl_path, \"rb\") as handle:\n",
    "        data = pickle.load(handle) # lets just use one seed\n",
    "        \n",
    "    \n",
    "#         if \"openhd\" in str(pkl_path):\n",
    "#             range_limit=1\n",
    "        for seed in range(range_limit):\n",
    "\n",
    "            train_size_list.append(data[seed][\"train_size\"])\n",
    "            test_size_list.append(data[seed][\"test_size\"])            \n",
    "            \n",
    "    \n",
    "    return np.mean(train_size_list), np.mean(test_size_list)\n",
    "                    "
   ]
  },
  {
   "cell_type": "markdown",
   "metadata": {},
   "source": [
    "# DUD-E results"
   ]
  },
  {
   "cell_type": "code",
   "execution_count": 7,
   "metadata": {},
   "outputs": [],
   "source": [
    "green_color_pal = sns.color_palette(\"Greens\", 10)\n",
    "blue_color_pal = sns.color_palette(\"Blues\", 10)\n",
    "rocket_color_pal = sns.color_palette(\"rocket\", 10)"
   ]
  },
  {
   "cell_type": "code",
   "execution_count": 13,
   "metadata": {},
   "outputs": [],
   "source": [
    "#     \"openhd-ecfp\": green_color_pal[6],\n",
    "\n",
    "color_dict = {\n",
    "    \"smiles-pe.atomwise.0\": rocket_color_pal[2],\n",
    "    \"smiles-pe.bpe.0\": rocket_color_pal[4],   \n",
    "\"selfies.atomwise\": green_color_pal[4],\n",
    "    \"selfies.atomwise\": green_color_pal[4],\n",
    "#     \"openhd-ecfp\": green_color_pal[5],\n",
    "#         \"openhd-rp\": green_color_pal[5],\n",
    "    \"ecfp\": green_color_pal[6],\n",
    "    \"rp\": green_color_pal[8],\n",
    "    \"rf\": blue_color_pal[4],\n",
    "    \"mlp\": blue_color_pal[7],\n",
    "}\n",
    "\n",
    "\n",
    "model_order_list = [\n",
    "    (\"smiles-pe.atomwise.0\", \"MoleHD-Atomw.\"),\n",
    "    (\"smiles-pe.bpe.0\", \"MoleHD-BPE\"),\n",
    "    (\"selfies.atomwise\", \"HDBind-SELFIES\"),\n",
    "    (\"ecfp\", \"HDBind-ECFP\"),\n",
    "    (\"openhd-ecfp\", \"OpenHD-ECFP\"),\n",
    "    (\"openhd-rp\", \"OpenHD-RPFP\"),\n",
    "    (\"rp\", \"HDBind-RPFP\"),\n",
    "    (\"rf\", \"RF\"),\n",
    "    (\"mlp\", \"MLP\"),\n",
    "    (\"Vina\", \"Vina\")\n",
    "]\n",
    "\n",
    "\n",
    "model_name_dict = {\n",
    "    \"smiles-pe.atomwise.0\": \"MoleHD-Atomw.\",\n",
    "    \"smiles-pe.bpe.0\": \"MoleHD-BPE\",\n",
    "    \"selfies.atomwise\": \"HDBind-SELFIES\",\n",
    "    \"ecfp\": \"HDBind-ECFP\",\n",
    "    \"openhd-ecfp\": \"OPENHD-ECFP\",\n",
    "    \"openhd-rp\": \"OPENHD-RPFP\",\n",
    "    \"rp\": \"HDBind-RPFP\",\n",
    "    \"rf\": \"RF\",\n",
    "    \"mlp\": \"MLP\",\n",
    "    \"Vina\": \"Vina\"\n",
    " }"
   ]
  },
  {
   "cell_type": "code",
   "execution_count": 14,
   "metadata": {},
   "outputs": [],
   "source": [
    "def aggregate_dude_results(dataset, split):\n",
    "    \n",
    "    model_metric_dict = {\"model\": [], \"enrich-1-mean\": [], \n",
    "                         \"enrich-1-std\":[], \"enrich-10-mean\": [], \n",
    "                         \"enrich-10-std\": [], \n",
    "#                          \"train_time\":[], \n",
    "                         \"test_time\": [],\n",
    "                        \"train_size\": [], \"test_size\": []}\n",
    "    \n",
    "\n",
    "    enrich_f, enrich_ax = plt.subplots(2,1, figsize=(12,10), sharex=True, sharey=False)\n",
    "    enrich_ax = enrich_ax.flatten()\n",
    "    enrich_1_ax, enrich_10_ax = enrich_ax[0], enrich_ax[1]\n",
    "\n",
    "    for model, color in color_dict.items():\n",
    "                        \n",
    "        data_path_list = list(data_p.glob(f\"{dataset}.{split}.*.{model}*pkl\"))\n",
    "\n",
    "        \n",
    "        for path in tqdm(data_path_list, total=len(data_path_list)):\n",
    "            print(path)\n",
    "            target = path.name.split(\".\")[2]\n",
    "            split = path.name.split(\".\")[1]\n",
    "            \n",
    "                \n",
    "                \n",
    "            enrich_1_mean, enrich_1_std, enrich_10_mean, enrich_10_std = compute_average_enrichment(path, model=model)\n",
    "#             train_time_mean = compute_average_train_time(path)\n",
    "            test_time_mean = compute_average_inference_time(path)\n",
    "            train_size, test_size = get_train_test_sizes(path)\n",
    "            \n",
    "            \n",
    "            model_metric_dict[\"model\"].append(model)\n",
    "            model_metric_dict[\"enrich-1-mean\"].append(enrich_1_mean)\n",
    "            model_metric_dict[\"enrich-1-std\"].append(enrich_1_std)\n",
    "            model_metric_dict[\"enrich-10-mean\"].append(enrich_10_mean)\n",
    "            model_metric_dict[\"enrich-10-std\"].append(enrich_10_std)\n",
    "#             model_metric_dict[\"train_time\"].append(train_time_mean)\n",
    "            model_metric_dict[\"test_time\"].append(test_time_mean)\n",
    "            model_metric_dict[\"train_size\"].append(train_size)\n",
    "            model_metric_dict[\"test_size\"].append(test_size)\n",
    "\n",
    "\n",
    "    return enrich_f, enrich_1_ax, enrich_10_ax, model_metric_dict\n",
    "\n",
    "\n"
   ]
  },
  {
   "cell_type": "code",
   "execution_count": 15,
   "metadata": {
    "scrolled": true
   },
   "outputs": [
    {
     "name": "stderr",
     "output_type": "stream",
     "text": [
      "\r",
      "  0%|          | 0/38 [00:00<?, ?it/s]"
     ]
    },
    {
     "name": "stdout",
     "output_type": "stream",
     "text": [
      "/g/g13/jones289/workspace/hd-cuda-master/hdpy/hdpy/results/4/dude.random.pnph.smiles-pe.atomwise.0.pkl\n",
      "/g/g13/jones289/workspace/hd-cuda-master/hdpy/hdpy/results/4/dude.random.try1.smiles-pe.atomwise.0.pkl\n"
     ]
    },
    {
     "name": "stderr",
     "output_type": "stream",
     "text": [
      "  8%|▊         | 3/38 [00:00<00:04,  8.75it/s]"
     ]
    },
    {
     "name": "stdout",
     "output_type": "stream",
     "text": [
      "/g/g13/jones289/workspace/hd-cuda-master/hdpy/hdpy/results/4/dude.random.pgh1.smiles-pe.atomwise.0.pkl\n",
      "/g/g13/jones289/workspace/hd-cuda-master/hdpy/hdpy/results/4/dude.random.fa10.smiles-pe.atomwise.0.pkl\n"
     ]
    },
    {
     "name": "stderr",
     "output_type": "stream",
     "text": [
      "\r",
      " 11%|█         | 4/38 [00:00<00:05,  6.29it/s]"
     ]
    },
    {
     "name": "stdout",
     "output_type": "stream",
     "text": [
      "/g/g13/jones289/workspace/hd-cuda-master/hdpy/hdpy/results/4/dude.random.pgh2.smiles-pe.atomwise.0.pkl\n"
     ]
    },
    {
     "name": "stderr",
     "output_type": "stream",
     "text": [
      "\r",
      " 13%|█▎        | 5/38 [00:00<00:06,  5.22it/s]"
     ]
    },
    {
     "name": "stdout",
     "output_type": "stream",
     "text": [
      "/g/g13/jones289/workspace/hd-cuda-master/hdpy/hdpy/results/4/dude.random.egfr.smiles-pe.atomwise.0.pkl\n"
     ]
    },
    {
     "name": "stderr",
     "output_type": "stream",
     "text": [
      "\r",
      " 16%|█▌        | 6/38 [00:01<00:09,  3.47it/s]"
     ]
    },
    {
     "name": "stdout",
     "output_type": "stream",
     "text": [
      "/g/g13/jones289/workspace/hd-cuda-master/hdpy/hdpy/results/4/dude.random.pde5a.smiles-pe.atomwise.0.pkl\n"
     ]
    },
    {
     "name": "stderr",
     "output_type": "stream",
     "text": [
      "\r",
      " 18%|█▊        | 7/38 [00:01<00:09,  3.35it/s]"
     ]
    },
    {
     "name": "stdout",
     "output_type": "stream",
     "text": [
      "/g/g13/jones289/workspace/hd-cuda-master/hdpy/hdpy/results/4/dude.random.nram.smiles-pe.atomwise.0.pkl\n",
      "/g/g13/jones289/workspace/hd-cuda-master/hdpy/hdpy/results/4/dude.random.esr1.smiles-pe.atomwise.0.pkl\n"
     ]
    },
    {
     "name": "stderr",
     "output_type": "stream",
     "text": [
      "\r",
      " 24%|██▎       | 9/38 [00:01<00:06,  4.34it/s]"
     ]
    },
    {
     "name": "stdout",
     "output_type": "stream",
     "text": [
      "/g/g13/jones289/workspace/hd-cuda-master/hdpy/hdpy/results/4/dude.random.parp1.smiles-pe.atomwise.0.pkl\n"
     ]
    },
    {
     "name": "stderr",
     "output_type": "stream",
     "text": [
      " 32%|███▏      | 12/38 [00:02<00:04,  5.49it/s]"
     ]
    },
    {
     "name": "stdout",
     "output_type": "stream",
     "text": [
      "/g/g13/jones289/workspace/hd-cuda-master/hdpy/hdpy/results/4/dude.random.inha.smiles-pe.atomwise.0.pkl\n",
      "/g/g13/jones289/workspace/hd-cuda-master/hdpy/hdpy/results/4/dude.random.ada.smiles-pe.atomwise.0.pkl\n",
      "/g/g13/jones289/workspace/hd-cuda-master/hdpy/hdpy/results/4/dude.random.thrb.smiles-pe.atomwise.0.pkl\n"
     ]
    },
    {
     "name": "stderr",
     "output_type": "stream",
     "text": [
      "\r",
      " 34%|███▍      | 13/38 [00:02<00:04,  5.94it/s]"
     ]
    },
    {
     "name": "stdout",
     "output_type": "stream",
     "text": [
      "/g/g13/jones289/workspace/hd-cuda-master/hdpy/hdpy/results/4/dude.random.hivpr.smiles-pe.atomwise.0.pkl\n"
     ]
    },
    {
     "name": "stderr",
     "output_type": "stream",
     "text": [
      "\r",
      " 37%|███▋      | 14/38 [00:03<00:05,  4.20it/s]"
     ]
    },
    {
     "name": "stdout",
     "output_type": "stream",
     "text": [
      "/g/g13/jones289/workspace/hd-cuda-master/hdpy/hdpy/results/4/dude.random.src.smiles-pe.atomwise.0.pkl\n"
     ]
    },
    {
     "name": "stderr",
     "output_type": "stream",
     "text": [
      " 45%|████▍     | 17/38 [00:03<00:04,  5.03it/s]"
     ]
    },
    {
     "name": "stdout",
     "output_type": "stream",
     "text": [
      "/g/g13/jones289/workspace/hd-cuda-master/hdpy/hdpy/results/4/dude.random.rxra.smiles-pe.atomwise.0.pkl\n",
      "/g/g13/jones289/workspace/hd-cuda-master/hdpy/hdpy/results/4/dude.random.hs90a.smiles-pe.atomwise.0.pkl\n",
      "/g/g13/jones289/workspace/hd-cuda-master/hdpy/hdpy/results/4/dude.random.pygm.smiles-pe.atomwise.0.pkl\n",
      "/g/g13/jones289/workspace/hd-cuda-master/hdpy/hdpy/results/4/dude.random.pur2.smiles-pe.atomwise.0.pkl\n",
      "/g/g13/jones289/workspace/hd-cuda-master/hdpy/hdpy/results/4/dude.random.bace1.smiles-pe.atomwise.0.pkl\n"
     ]
    },
    {
     "name": "stderr",
     "output_type": "stream",
     "text": [
      " 55%|█████▌    | 21/38 [00:04<00:02,  6.87it/s]"
     ]
    },
    {
     "name": "stdout",
     "output_type": "stream",
     "text": [
      "/g/g13/jones289/workspace/hd-cuda-master/hdpy/hdpy/results/4/dude.random.hmdh.smiles-pe.atomwise.0.pkl\n",
      "/g/g13/jones289/workspace/hd-cuda-master/hdpy/hdpy/results/4/dude.random.mk14.smiles-pe.atomwise.0.pkl\n"
     ]
    },
    {
     "name": "stderr",
     "output_type": "stream",
     "text": [
      " 61%|██████    | 23/38 [00:04<00:02,  5.28it/s]"
     ]
    },
    {
     "name": "stdout",
     "output_type": "stream",
     "text": [
      "/g/g13/jones289/workspace/hd-cuda-master/hdpy/hdpy/results/4/dude.random.gcr.smiles-pe.atomwise.0.pkl\n",
      "/g/g13/jones289/workspace/hd-cuda-master/hdpy/hdpy/results/4/dude.random.andr.smiles-pe.atomwise.0.pkl\n",
      "/g/g13/jones289/workspace/hd-cuda-master/hdpy/hdpy/results/4/dude.random.vgfr2.smiles-pe.atomwise.0.pkl\n"
     ]
    },
    {
     "name": "stderr",
     "output_type": "stream",
     "text": [
      "\r",
      " 66%|██████▌   | 25/38 [00:04<00:02,  5.36it/s]"
     ]
    },
    {
     "name": "stdout",
     "output_type": "stream",
     "text": [
      "/g/g13/jones289/workspace/hd-cuda-master/hdpy/hdpy/results/4/dude.random.cdk2.smiles-pe.atomwise.0.pkl\n"
     ]
    },
    {
     "name": "stderr",
     "output_type": "stream",
     "text": [
      " 71%|███████   | 27/38 [00:05<00:02,  4.84it/s]"
     ]
    },
    {
     "name": "stdout",
     "output_type": "stream",
     "text": [
      "/g/g13/jones289/workspace/hd-cuda-master/hdpy/hdpy/results/4/dude.random.prgr.smiles-pe.atomwise.0.pkl\n",
      "/g/g13/jones289/workspace/hd-cuda-master/hdpy/hdpy/results/4/dude.random.ampc.smiles-pe.atomwise.0.pkl\n",
      "/g/g13/jones289/workspace/hd-cuda-master/hdpy/hdpy/results/4/dude.random.aces.smiles-pe.atomwise.0.pkl\n"
     ]
    },
    {
     "name": "stderr",
     "output_type": "stream",
     "text": [
      " 79%|███████▉  | 30/38 [00:05<00:01,  5.56it/s]"
     ]
    },
    {
     "name": "stdout",
     "output_type": "stream",
     "text": [
      "/g/g13/jones289/workspace/hd-cuda-master/hdpy/hdpy/results/4/dude.random.aldr.smiles-pe.atomwise.0.pkl\n",
      "/g/g13/jones289/workspace/hd-cuda-master/hdpy/hdpy/results/4/dude.random.kith.smiles-pe.atomwise.0.pkl\n",
      "/g/g13/jones289/workspace/hd-cuda-master/hdpy/hdpy/results/4/dude.random.comt.smiles-pe.atomwise.0.pkl\n"
     ]
    },
    {
     "name": "stderr",
     "output_type": "stream",
     "text": [
      "\r",
      " 84%|████████▍ | 32/38 [00:06<00:00,  7.47it/s]"
     ]
    },
    {
     "name": "stdout",
     "output_type": "stream",
     "text": [
      "/g/g13/jones289/workspace/hd-cuda-master/hdpy/hdpy/results/4/dude.random.ace.smiles-pe.atomwise.0.pkl\n"
     ]
    },
    {
     "name": "stderr",
     "output_type": "stream",
     "text": [
      "\r",
      " 87%|████████▋ | 33/38 [00:06<00:00,  6.46it/s]"
     ]
    },
    {
     "name": "stdout",
     "output_type": "stream",
     "text": [
      "/g/g13/jones289/workspace/hd-cuda-master/hdpy/hdpy/results/4/dude.random.sahh.smiles-pe.atomwise.0.pkl\n",
      "/g/g13/jones289/workspace/hd-cuda-master/hdpy/hdpy/results/4/dude.random.mcr.smiles-pe.atomwise.0.pkl\n",
      "/g/g13/jones289/workspace/hd-cuda-master/hdpy/hdpy/results/4/dude.random.pparg.smiles-pe.atomwise.0.pkl\n"
     ]
    },
    {
     "name": "stderr",
     "output_type": "stream",
     "text": [
      "\r",
      " 95%|█████████▍| 36/38 [00:06<00:00,  6.80it/s]"
     ]
    },
    {
     "name": "stdout",
     "output_type": "stream",
     "text": [
      "/g/g13/jones289/workspace/hd-cuda-master/hdpy/hdpy/results/4/dude.random.hivrt.smiles-pe.atomwise.0.pkl\n",
      "/g/g13/jones289/workspace/hd-cuda-master/hdpy/hdpy/results/4/dude.random.dyr.smiles-pe.atomwise.0.pkl\n"
     ]
    },
    {
     "name": "stderr",
     "output_type": "stream",
     "text": [
      "100%|██████████| 38/38 [00:06<00:00,  5.43it/s]\n",
      "  5%|▌         | 2/38 [00:00<00:03, 11.51it/s]"
     ]
    },
    {
     "name": "stdout",
     "output_type": "stream",
     "text": [
      "/g/g13/jones289/workspace/hd-cuda-master/hdpy/hdpy/results/4/dude.random.pnph.smiles-pe.bpe.0.pkl\n",
      "/g/g13/jones289/workspace/hd-cuda-master/hdpy/hdpy/results/4/dude.random.ada.smiles-pe.bpe.0.pkl\n",
      "/g/g13/jones289/workspace/hd-cuda-master/hdpy/hdpy/results/4/dude.random.inha.smiles-pe.bpe.0.pkl\n",
      "/g/g13/jones289/workspace/hd-cuda-master/hdpy/hdpy/results/4/dude.random.aces.smiles-pe.bpe.0.pkl\n"
     ]
    },
    {
     "name": "stderr",
     "output_type": "stream",
     "text": [
      "\r",
      " 11%|█         | 4/38 [00:00<00:04,  7.04it/s]"
     ]
    },
    {
     "name": "stdout",
     "output_type": "stream",
     "text": [
      "/g/g13/jones289/workspace/hd-cuda-master/hdpy/hdpy/results/4/dude.random.egfr.smiles-pe.bpe.0.pkl\n"
     ]
    },
    {
     "name": "stderr",
     "output_type": "stream",
     "text": [
      "\r",
      " 13%|█▎        | 5/38 [00:01<00:08,  4.07it/s]"
     ]
    },
    {
     "name": "stdout",
     "output_type": "stream",
     "text": [
      "/g/g13/jones289/workspace/hd-cuda-master/hdpy/hdpy/results/4/dude.random.parp1.smiles-pe.bpe.0.pkl\n"
     ]
    },
    {
     "name": "stderr",
     "output_type": "stream",
     "text": [
      "\r",
      " 16%|█▌        | 6/38 [00:01<00:09,  3.46it/s]"
     ]
    },
    {
     "name": "stdout",
     "output_type": "stream",
     "text": [
      "/g/g13/jones289/workspace/hd-cuda-master/hdpy/hdpy/results/4/dude.random.ace.smiles-pe.bpe.0.pkl\n"
     ]
    },
    {
     "name": "stderr",
     "output_type": "stream",
     "text": [
      "\r",
      " 18%|█▊        | 7/38 [00:01<00:08,  3.71it/s]"
     ]
    },
    {
     "name": "stdout",
     "output_type": "stream",
     "text": [
      "/g/g13/jones289/workspace/hd-cuda-master/hdpy/hdpy/results/4/dude.random.cdk2.smiles-pe.bpe.0.pkl\n"
     ]
    },
    {
     "name": "stderr",
     "output_type": "stream",
     "text": [
      " 24%|██▎       | 9/38 [00:02<00:07,  4.05it/s]"
     ]
    },
    {
     "name": "stdout",
     "output_type": "stream",
     "text": [
      "/g/g13/jones289/workspace/hd-cuda-master/hdpy/hdpy/results/4/dude.random.aldr.smiles-pe.bpe.0.pkl\n",
      "/g/g13/jones289/workspace/hd-cuda-master/hdpy/hdpy/results/4/dude.random.fa10.smiles-pe.bpe.0.pkl\n"
     ]
    },
    {
     "name": "stderr",
     "output_type": "stream",
     "text": [
      " 29%|██▉       | 11/38 [00:02<00:05,  4.76it/s]"
     ]
    },
    {
     "name": "stdout",
     "output_type": "stream",
     "text": [
      "/g/g13/jones289/workspace/hd-cuda-master/hdpy/hdpy/results/4/dude.random.thrb.smiles-pe.bpe.0.pkl\n",
      "/g/g13/jones289/workspace/hd-cuda-master/hdpy/hdpy/results/4/dude.random.rxra.smiles-pe.bpe.0.pkl\n"
     ]
    },
    {
     "name": "stderr",
     "output_type": "stream",
     "text": [
      "\r",
      " 34%|███▍      | 13/38 [00:02<00:03,  6.37it/s]"
     ]
    },
    {
     "name": "stdout",
     "output_type": "stream",
     "text": [
      "/g/g13/jones289/workspace/hd-cuda-master/hdpy/hdpy/results/4/dude.random.try1.smiles-pe.bpe.0.pkl\n",
      "/g/g13/jones289/workspace/hd-cuda-master/hdpy/hdpy/results/4/dude.random.pygm.smiles-pe.bpe.0.pkl\n",
      "/g/g13/jones289/workspace/hd-cuda-master/hdpy/hdpy/results/4/dude.random.dyr.smiles-pe.bpe.0.pkl\n"
     ]
    },
    {
     "name": "stderr",
     "output_type": "stream",
     "text": [
      "\r",
      " 39%|███▉      | 15/38 [00:02<00:03,  6.85it/s]"
     ]
    },
    {
     "name": "stdout",
     "output_type": "stream",
     "text": [
      "/g/g13/jones289/workspace/hd-cuda-master/hdpy/hdpy/results/4/dude.random.sahh.smiles-pe.bpe.0.pkl\n",
      "/g/g13/jones289/workspace/hd-cuda-master/hdpy/hdpy/results/4/dude.random.pparg.smiles-pe.bpe.0.pkl\n"
     ]
    },
    {
     "name": "stderr",
     "output_type": "stream",
     "text": [
      " 50%|█████     | 19/38 [00:03<00:02,  7.28it/s]"
     ]
    },
    {
     "name": "stdout",
     "output_type": "stream",
     "text": [
      "/g/g13/jones289/workspace/hd-cuda-master/hdpy/hdpy/results/4/dude.random.kith.smiles-pe.bpe.0.pkl\n",
      "/g/g13/jones289/workspace/hd-cuda-master/hdpy/hdpy/results/4/dude.random.prgr.smiles-pe.bpe.0.pkl\n",
      "/g/g13/jones289/workspace/hd-cuda-master/hdpy/hdpy/results/4/dude.random.nram.smiles-pe.bpe.0.pkl\n",
      "/g/g13/jones289/workspace/hd-cuda-master/hdpy/hdpy/results/4/dude.random.mk14.smiles-pe.bpe.0.pkl\n"
     ]
    },
    {
     "name": "stderr",
     "output_type": "stream",
     "text": [
      "\r",
      " 55%|█████▌    | 21/38 [00:04<00:03,  5.50it/s]"
     ]
    },
    {
     "name": "stdout",
     "output_type": "stream",
     "text": [
      "/g/g13/jones289/workspace/hd-cuda-master/hdpy/hdpy/results/4/dude.random.bace1.smiles-pe.bpe.0.pkl\n"
     ]
    },
    {
     "name": "stderr",
     "output_type": "stream",
     "text": [
      "\r",
      " 58%|█████▊    | 22/38 [00:04<00:03,  5.19it/s]"
     ]
    },
    {
     "name": "stdout",
     "output_type": "stream",
     "text": [
      "/g/g13/jones289/workspace/hd-cuda-master/hdpy/hdpy/results/4/dude.random.hivpr.smiles-pe.bpe.0.pkl\n"
     ]
    },
    {
     "name": "stderr",
     "output_type": "stream",
     "text": [
      " 66%|██████▌   | 25/38 [00:04<00:02,  5.32it/s]"
     ]
    },
    {
     "name": "stdout",
     "output_type": "stream",
     "text": [
      "/g/g13/jones289/workspace/hd-cuda-master/hdpy/hdpy/results/4/dude.random.ampc.smiles-pe.bpe.0.pkl\n",
      "/g/g13/jones289/workspace/hd-cuda-master/hdpy/hdpy/results/4/dude.random.hmdh.smiles-pe.bpe.0.pkl\n",
      "/g/g13/jones289/workspace/hd-cuda-master/hdpy/hdpy/results/4/dude.random.pur2.smiles-pe.bpe.0.pkl\n"
     ]
    },
    {
     "name": "stderr",
     "output_type": "stream",
     "text": [
      "\r",
      " 71%|███████   | 27/38 [00:05<00:01,  7.09it/s]"
     ]
    },
    {
     "name": "stdout",
     "output_type": "stream",
     "text": [
      "/g/g13/jones289/workspace/hd-cuda-master/hdpy/hdpy/results/4/dude.random.comt.smiles-pe.bpe.0.pkl\n",
      "/g/g13/jones289/workspace/hd-cuda-master/hdpy/hdpy/results/4/dude.random.vgfr2.smiles-pe.bpe.0.pkl\n"
     ]
    },
    {
     "name": "stderr",
     "output_type": "stream",
     "text": [
      "\r",
      " 76%|███████▋  | 29/38 [00:05<00:01,  6.67it/s]"
     ]
    },
    {
     "name": "stdout",
     "output_type": "stream",
     "text": [
      "/g/g13/jones289/workspace/hd-cuda-master/hdpy/hdpy/results/4/dude.random.hivrt.smiles-pe.bpe.0.pkl\n",
      "/g/g13/jones289/workspace/hd-cuda-master/hdpy/hdpy/results/4/dude.random.andr.smiles-pe.bpe.0.pkl\n",
      "/g/g13/jones289/workspace/hd-cuda-master/hdpy/hdpy/results/4/dude.random.esr1.smiles-pe.bpe.0.pkl\n"
     ]
    },
    {
     "name": "stderr",
     "output_type": "stream",
     "text": [
      " 84%|████████▍ | 32/38 [00:05<00:00,  6.66it/s]"
     ]
    },
    {
     "name": "stdout",
     "output_type": "stream",
     "text": [
      "/g/g13/jones289/workspace/hd-cuda-master/hdpy/hdpy/results/4/dude.random.pgh1.smiles-pe.bpe.0.pkl\n",
      "/g/g13/jones289/workspace/hd-cuda-master/hdpy/hdpy/results/4/dude.random.pde5a.smiles-pe.bpe.0.pkl\n"
     ]
    },
    {
     "name": "stderr",
     "output_type": "stream",
     "text": [
      "\r",
      " 87%|████████▋ | 33/38 [00:06<00:00,  5.38it/s]"
     ]
    },
    {
     "name": "stdout",
     "output_type": "stream",
     "text": [
      "/g/g13/jones289/workspace/hd-cuda-master/hdpy/hdpy/results/4/dude.random.src.smiles-pe.bpe.0.pkl\n"
     ]
    },
    {
     "name": "stderr",
     "output_type": "stream",
     "text": [
      "\r",
      " 89%|████████▉ | 34/38 [00:06<00:00,  4.09it/s]"
     ]
    },
    {
     "name": "stdout",
     "output_type": "stream",
     "text": [
      "/g/g13/jones289/workspace/hd-cuda-master/hdpy/hdpy/results/4/dude.random.pgh2.smiles-pe.bpe.0.pkl\n"
     ]
    },
    {
     "name": "stderr",
     "output_type": "stream",
     "text": [
      " 97%|█████████▋| 37/38 [00:06<00:00,  5.73it/s]"
     ]
    },
    {
     "name": "stdout",
     "output_type": "stream",
     "text": [
      "/g/g13/jones289/workspace/hd-cuda-master/hdpy/hdpy/results/4/dude.random.mcr.smiles-pe.bpe.0.pkl\n",
      "/g/g13/jones289/workspace/hd-cuda-master/hdpy/hdpy/results/4/dude.random.gcr.smiles-pe.bpe.0.pkl\n",
      "/g/g13/jones289/workspace/hd-cuda-master/hdpy/hdpy/results/4/dude.random.hs90a.smiles-pe.bpe.0.pkl\n"
     ]
    },
    {
     "name": "stderr",
     "output_type": "stream",
     "text": [
      "100%|██████████| 38/38 [00:07<00:00,  5.38it/s]\n",
      "  0%|          | 0/38 [00:00<?, ?it/s]"
     ]
    },
    {
     "name": "stdout",
     "output_type": "stream",
     "text": [
      "/g/g13/jones289/workspace/hd-cuda-master/hdpy/hdpy/results/4/dude.random.pgh2.selfies.atomwise.0.pkl\n"
     ]
    },
    {
     "name": "stderr",
     "output_type": "stream",
     "text": [
      "\r",
      "  3%|▎         | 1/38 [00:00<00:09,  3.88it/s]"
     ]
    },
    {
     "name": "stdout",
     "output_type": "stream",
     "text": [
      "/g/g13/jones289/workspace/hd-cuda-master/hdpy/hdpy/results/4/dude.random.hs90a.selfies.atomwise.0.pkl\n",
      "/g/g13/jones289/workspace/hd-cuda-master/hdpy/hdpy/results/4/dude.random.cdk2.selfies.atomwise.0.pkl\n"
     ]
    },
    {
     "name": "stderr",
     "output_type": "stream",
     "text": [
      " 11%|█         | 4/38 [00:00<00:06,  5.10it/s]"
     ]
    },
    {
     "name": "stdout",
     "output_type": "stream",
     "text": [
      "/g/g13/jones289/workspace/hd-cuda-master/hdpy/hdpy/results/4/dude.random.thrb.selfies.atomwise.0.pkl\n",
      "/g/g13/jones289/workspace/hd-cuda-master/hdpy/hdpy/results/4/dude.random.mcr.selfies.atomwise.0.pkl\n",
      "/g/g13/jones289/workspace/hd-cuda-master/hdpy/hdpy/results/4/dude.random.egfr.selfies.atomwise.0.pkl\n"
     ]
    },
    {
     "name": "stderr",
     "output_type": "stream",
     "text": [
      " 18%|█▊        | 7/38 [00:01<00:06,  4.92it/s]"
     ]
    },
    {
     "name": "stdout",
     "output_type": "stream",
     "text": [
      "/g/g13/jones289/workspace/hd-cuda-master/hdpy/hdpy/results/4/dude.random.pgh1.selfies.atomwise.0.pkl\n",
      "/g/g13/jones289/workspace/hd-cuda-master/hdpy/hdpy/results/4/dude.random.nram.selfies.atomwise.0.pkl\n"
     ]
    },
    {
     "name": "stderr",
     "output_type": "stream",
     "text": [
      "\r",
      " 24%|██▎       | 9/38 [00:01<00:04,  6.03it/s]"
     ]
    },
    {
     "name": "stdout",
     "output_type": "stream",
     "text": [
      "/g/g13/jones289/workspace/hd-cuda-master/hdpy/hdpy/results/4/dude.random.gcr.selfies.atomwise.0.pkl\n",
      "/g/g13/jones289/workspace/hd-cuda-master/hdpy/hdpy/results/4/dude.random.esr1.selfies.atomwise.0.pkl\n"
     ]
    },
    {
     "name": "stderr",
     "output_type": "stream",
     "text": [
      "\r",
      " 26%|██▋       | 10/38 [00:01<00:05,  5.38it/s]"
     ]
    },
    {
     "name": "stdout",
     "output_type": "stream",
     "text": [
      "/g/g13/jones289/workspace/hd-cuda-master/hdpy/hdpy/results/4/dude.random.sahh.selfies.atomwise.0.pkl\n",
      "/g/g13/jones289/workspace/hd-cuda-master/hdpy/hdpy/results/4/dude.random.inha.selfies.atomwise.0.pkl\n",
      "/g/g13/jones289/workspace/hd-cuda-master/hdpy/hdpy/results/4/dude.random.aldr.selfies.atomwise.0.pkl\n"
     ]
    },
    {
     "name": "stderr",
     "output_type": "stream",
     "text": [
      "\r",
      " 34%|███▍      | 13/38 [00:02<00:03,  7.61it/s]"
     ]
    },
    {
     "name": "stdout",
     "output_type": "stream",
     "text": [
      "/g/g13/jones289/workspace/hd-cuda-master/hdpy/hdpy/results/4/dude.random.pur2.selfies.atomwise.0.pkl\n",
      "/g/g13/jones289/workspace/hd-cuda-master/hdpy/hdpy/results/4/dude.random.ace.selfies.atomwise.0.pkl\n"
     ]
    },
    {
     "name": "stderr",
     "output_type": "stream",
     "text": [
      " 42%|████▏     | 16/38 [00:02<00:02,  7.58it/s]"
     ]
    },
    {
     "name": "stdout",
     "output_type": "stream",
     "text": [
      "/g/g13/jones289/workspace/hd-cuda-master/hdpy/hdpy/results/4/dude.random.andr.selfies.atomwise.0.pkl\n",
      "/g/g13/jones289/workspace/hd-cuda-master/hdpy/hdpy/results/4/dude.random.pnph.selfies.atomwise.0.pkl\n"
     ]
    },
    {
     "name": "stderr",
     "output_type": "stream",
     "text": [
      " 47%|████▋     | 18/38 [00:02<00:02,  7.47it/s]"
     ]
    },
    {
     "name": "stdout",
     "output_type": "stream",
     "text": [
      "/g/g13/jones289/workspace/hd-cuda-master/hdpy/hdpy/results/4/dude.random.prgr.selfies.atomwise.0.pkl\n",
      "/g/g13/jones289/workspace/hd-cuda-master/hdpy/hdpy/results/4/dude.random.pygm.selfies.atomwise.0.pkl\n",
      "/g/g13/jones289/workspace/hd-cuda-master/hdpy/hdpy/results/4/dude.random.vgfr2.selfies.atomwise.0.pkl\n"
     ]
    },
    {
     "name": "stderr",
     "output_type": "stream",
     "text": [
      " 58%|█████▊    | 22/38 [00:03<00:02,  7.53it/s]"
     ]
    },
    {
     "name": "stdout",
     "output_type": "stream",
     "text": [
      "/g/g13/jones289/workspace/hd-cuda-master/hdpy/hdpy/results/4/dude.random.ampc.selfies.atomwise.0.pkl\n",
      "/g/g13/jones289/workspace/hd-cuda-master/hdpy/hdpy/results/4/dude.random.hmdh.selfies.atomwise.0.pkl\n",
      "/g/g13/jones289/workspace/hd-cuda-master/hdpy/hdpy/results/4/dude.random.parp1.selfies.atomwise.0.pkl\n"
     ]
    },
    {
     "name": "stderr",
     "output_type": "stream",
     "text": [
      "\r",
      " 61%|██████    | 23/38 [00:03<00:02,  5.01it/s]"
     ]
    },
    {
     "name": "stdout",
     "output_type": "stream",
     "text": [
      "/g/g13/jones289/workspace/hd-cuda-master/hdpy/hdpy/results/4/dude.random.rxra.selfies.atomwise.0.pkl\n",
      "/g/g13/jones289/workspace/hd-cuda-master/hdpy/hdpy/results/4/dude.random.pparg.selfies.atomwise.0.pkl\n"
     ]
    },
    {
     "name": "stderr",
     "output_type": "stream",
     "text": [
      "\r",
      " 66%|██████▌   | 25/38 [00:04<00:02,  4.66it/s]"
     ]
    },
    {
     "name": "stdout",
     "output_type": "stream",
     "text": [
      "/g/g13/jones289/workspace/hd-cuda-master/hdpy/hdpy/results/4/dude.random.aces.selfies.atomwise.0.pkl\n"
     ]
    },
    {
     "name": "stderr",
     "output_type": "stream",
     "text": [
      "\r",
      " 68%|██████▊   | 26/38 [00:04<00:02,  4.11it/s]"
     ]
    },
    {
     "name": "stdout",
     "output_type": "stream",
     "text": [
      "/g/g13/jones289/workspace/hd-cuda-master/hdpy/hdpy/results/4/dude.random.hivrt.selfies.atomwise.0.pkl\n",
      "/g/g13/jones289/workspace/hd-cuda-master/hdpy/hdpy/results/4/dude.random.fa10.selfies.atomwise.0.pkl\n"
     ]
    },
    {
     "name": "stderr",
     "output_type": "stream",
     "text": [
      "\r",
      " 74%|███████▎  | 28/38 [00:05<00:02,  4.76it/s]"
     ]
    },
    {
     "name": "stdout",
     "output_type": "stream",
     "text": [
      "/g/g13/jones289/workspace/hd-cuda-master/hdpy/hdpy/results/4/dude.random.comt.selfies.atomwise.0.pkl\n",
      "/g/g13/jones289/workspace/hd-cuda-master/hdpy/hdpy/results/4/dude.random.src.selfies.atomwise.0.pkl\n"
     ]
    },
    {
     "name": "stderr",
     "output_type": "stream",
     "text": [
      "\r",
      " 79%|███████▉  | 30/38 [00:05<00:01,  4.23it/s]"
     ]
    },
    {
     "name": "stdout",
     "output_type": "stream",
     "text": [
      "/g/g13/jones289/workspace/hd-cuda-master/hdpy/hdpy/results/4/dude.random.ada.selfies.atomwise.0.pkl\n",
      "/g/g13/jones289/workspace/hd-cuda-master/hdpy/hdpy/results/4/dude.random.bace1.selfies.atomwise.0.pkl\n"
     ]
    },
    {
     "name": "stderr",
     "output_type": "stream",
     "text": [
      " 87%|████████▋ | 33/38 [00:06<00:00,  5.10it/s]"
     ]
    },
    {
     "name": "stdout",
     "output_type": "stream",
     "text": [
      "/g/g13/jones289/workspace/hd-cuda-master/hdpy/hdpy/results/4/dude.random.try1.selfies.atomwise.0.pkl\n",
      "/g/g13/jones289/workspace/hd-cuda-master/hdpy/hdpy/results/4/dude.random.pde5a.selfies.atomwise.0.pkl\n"
     ]
    },
    {
     "name": "stderr",
     "output_type": "stream",
     "text": [
      "\r",
      " 89%|████████▉ | 34/38 [00:06<00:00,  4.30it/s]"
     ]
    },
    {
     "name": "stdout",
     "output_type": "stream",
     "text": [
      "/g/g13/jones289/workspace/hd-cuda-master/hdpy/hdpy/results/4/dude.random.kith.selfies.atomwise.0.pkl\n",
      "/g/g13/jones289/workspace/hd-cuda-master/hdpy/hdpy/results/4/dude.random.dyr.selfies.atomwise.0.pkl\n"
     ]
    },
    {
     "name": "stderr",
     "output_type": "stream",
     "text": [
      "\r",
      " 95%|█████████▍| 36/38 [00:06<00:00,  5.07it/s]"
     ]
    },
    {
     "name": "stdout",
     "output_type": "stream",
     "text": [
      "/g/g13/jones289/workspace/hd-cuda-master/hdpy/hdpy/results/4/dude.random.mk14.selfies.atomwise.0.pkl\n"
     ]
    },
    {
     "name": "stderr",
     "output_type": "stream",
     "text": [
      "\r",
      " 97%|█████████▋| 37/38 [00:07<00:00,  3.77it/s]"
     ]
    },
    {
     "name": "stdout",
     "output_type": "stream",
     "text": [
      "/g/g13/jones289/workspace/hd-cuda-master/hdpy/hdpy/results/4/dude.random.hivpr.selfies.atomwise.0.pkl\n"
     ]
    },
    {
     "name": "stderr",
     "output_type": "stream",
     "text": [
      "100%|██████████| 38/38 [00:07<00:00,  4.91it/s]\n",
      "  5%|▌         | 2/38 [00:00<00:01, 18.48it/s]"
     ]
    },
    {
     "name": "stdout",
     "output_type": "stream",
     "text": [
      "/g/g13/jones289/workspace/hd-cuda-master/hdpy/hdpy/results/4/dude.random.comt.ecfp.atomwise.0.pkl\n",
      "/g/g13/jones289/workspace/hd-cuda-master/hdpy/hdpy/results/4/dude.random.pur2.ecfp.atomwise.0.pkl\n",
      "/g/g13/jones289/workspace/hd-cuda-master/hdpy/hdpy/results/4/dude.random.pgh1.ecfp.atomwise.0.pkl\n"
     ]
    },
    {
     "name": "stderr",
     "output_type": "stream",
     "text": [
      "\r",
      " 11%|█         | 4/38 [00:00<00:03, 10.19it/s]"
     ]
    },
    {
     "name": "stdout",
     "output_type": "stream",
     "text": [
      "/g/g13/jones289/workspace/hd-cuda-master/hdpy/hdpy/results/4/dude.random.andr.ecfp.atomwise.0.pkl\n",
      "/g/g13/jones289/workspace/hd-cuda-master/hdpy/hdpy/results/4/dude.random.esr1.ecfp.atomwise.0.pkl\n"
     ]
    },
    {
     "name": "stderr",
     "output_type": "stream",
     "text": [
      "\r",
      " 16%|█▌        | 6/38 [00:00<00:03,  8.24it/s]"
     ]
    },
    {
     "name": "stdout",
     "output_type": "stream",
     "text": [
      "/g/g13/jones289/workspace/hd-cuda-master/hdpy/hdpy/results/4/dude.random.hivrt.ecfp.atomwise.0.pkl\n",
      "/g/g13/jones289/workspace/hd-cuda-master/hdpy/hdpy/results/4/dude.random.vgfr2.ecfp.atomwise.0.pkl\n"
     ]
    },
    {
     "name": "stderr",
     "output_type": "stream",
     "text": [
      "\r",
      " 18%|█▊        | 7/38 [00:00<00:05,  5.93it/s]"
     ]
    },
    {
     "name": "stdout",
     "output_type": "stream",
     "text": [
      "/g/g13/jones289/workspace/hd-cuda-master/hdpy/hdpy/results/4/dude.random.bace1.ecfp.atomwise.0.pkl\n"
     ]
    },
    {
     "name": "stderr",
     "output_type": "stream",
     "text": [
      " 24%|██▎       | 9/38 [00:01<00:05,  5.77it/s]"
     ]
    },
    {
     "name": "stdout",
     "output_type": "stream",
     "text": [
      "/g/g13/jones289/workspace/hd-cuda-master/hdpy/hdpy/results/4/dude.random.hmdh.ecfp.atomwise.0.pkl\n",
      "/g/g13/jones289/workspace/hd-cuda-master/hdpy/hdpy/results/4/dude.random.hivpr.ecfp.atomwise.0.pkl\n"
     ]
    },
    {
     "name": "stderr",
     "output_type": "stream",
     "text": [
      "\r",
      " 26%|██▋       | 10/38 [00:01<00:07,  3.68it/s]"
     ]
    },
    {
     "name": "stdout",
     "output_type": "stream",
     "text": [
      "/g/g13/jones289/workspace/hd-cuda-master/hdpy/hdpy/results/4/dude.random.ampc.ecfp.atomwise.0.pkl\n",
      "/g/g13/jones289/workspace/hd-cuda-master/hdpy/hdpy/results/4/dude.random.pgh2.ecfp.atomwise.0.pkl\n"
     ]
    },
    {
     "name": "stderr",
     "output_type": "stream",
     "text": [
      " 37%|███▋      | 14/38 [00:02<00:03,  6.21it/s]"
     ]
    },
    {
     "name": "stdout",
     "output_type": "stream",
     "text": [
      "/g/g13/jones289/workspace/hd-cuda-master/hdpy/hdpy/results/4/dude.random.mcr.ecfp.atomwise.0.pkl\n",
      "/g/g13/jones289/workspace/hd-cuda-master/hdpy/hdpy/results/4/dude.random.hs90a.ecfp.atomwise.0.pkl\n",
      "/g/g13/jones289/workspace/hd-cuda-master/hdpy/hdpy/results/4/dude.random.gcr.ecfp.atomwise.0.pkl\n"
     ]
    },
    {
     "name": "stderr",
     "output_type": "stream",
     "text": [
      "\r",
      " 39%|███▉      | 15/38 [00:02<00:03,  6.43it/s]"
     ]
    },
    {
     "name": "stdout",
     "output_type": "stream",
     "text": [
      "/g/g13/jones289/workspace/hd-cuda-master/hdpy/hdpy/results/4/dude.random.pde5a.ecfp.atomwise.0.pkl\n"
     ]
    },
    {
     "name": "stderr",
     "output_type": "stream",
     "text": [
      "\r",
      " 42%|████▏     | 16/38 [00:02<00:04,  5.01it/s]"
     ]
    },
    {
     "name": "stdout",
     "output_type": "stream",
     "text": [
      "/g/g13/jones289/workspace/hd-cuda-master/hdpy/hdpy/results/4/dude.random.src.ecfp.atomwise.0.pkl\n"
     ]
    },
    {
     "name": "stderr",
     "output_type": "stream",
     "text": [
      "\r",
      " 45%|████▍     | 17/38 [00:03<00:05,  3.76it/s]"
     ]
    },
    {
     "name": "stdout",
     "output_type": "stream",
     "text": [
      "/g/g13/jones289/workspace/hd-cuda-master/hdpy/hdpy/results/4/dude.random.ace.ecfp.atomwise.0.pkl\n"
     ]
    },
    {
     "name": "stderr",
     "output_type": "stream",
     "text": [
      "\r",
      " 47%|████▋     | 18/38 [00:03<00:05,  3.90it/s]"
     ]
    },
    {
     "name": "stdout",
     "output_type": "stream",
     "text": [
      "/g/g13/jones289/workspace/hd-cuda-master/hdpy/hdpy/results/4/dude.random.cdk2.ecfp.atomwise.0.pkl\n"
     ]
    },
    {
     "name": "stderr",
     "output_type": "stream",
     "text": [
      " 53%|█████▎    | 20/38 [00:04<00:04,  4.06it/s]"
     ]
    },
    {
     "name": "stdout",
     "output_type": "stream",
     "text": [
      "/g/g13/jones289/workspace/hd-cuda-master/hdpy/hdpy/results/4/dude.random.thrb.ecfp.atomwise.0.pkl\n",
      "/g/g13/jones289/workspace/hd-cuda-master/hdpy/hdpy/results/4/dude.random.fa10.ecfp.atomwise.0.pkl\n"
     ]
    },
    {
     "name": "stderr",
     "output_type": "stream",
     "text": [
      " 58%|█████▊    | 22/38 [00:04<00:03,  4.76it/s]"
     ]
    },
    {
     "name": "stdout",
     "output_type": "stream",
     "text": [
      "/g/g13/jones289/workspace/hd-cuda-master/hdpy/hdpy/results/4/dude.random.aldr.ecfp.atomwise.0.pkl\n",
      "/g/g13/jones289/workspace/hd-cuda-master/hdpy/hdpy/results/4/dude.random.ada.ecfp.atomwise.0.pkl\n",
      "/g/g13/jones289/workspace/hd-cuda-master/hdpy/hdpy/results/4/dude.random.inha.ecfp.atomwise.0.pkl\n"
     ]
    },
    {
     "name": "stderr",
     "output_type": "stream",
     "text": [
      "\r",
      " 63%|██████▎   | 24/38 [00:04<00:01,  7.04it/s]"
     ]
    },
    {
     "name": "stdout",
     "output_type": "stream",
     "text": [
      "/g/g13/jones289/workspace/hd-cuda-master/hdpy/hdpy/results/4/dude.random.pnph.ecfp.atomwise.0.pkl\n",
      "/g/g13/jones289/workspace/hd-cuda-master/hdpy/hdpy/results/4/dude.random.parp1.ecfp.atomwise.0.pkl\n"
     ]
    },
    {
     "name": "stderr",
     "output_type": "stream",
     "text": [
      "\r",
      " 68%|██████▊   | 26/38 [00:05<00:02,  5.41it/s]"
     ]
    },
    {
     "name": "stdout",
     "output_type": "stream",
     "text": [
      "/g/g13/jones289/workspace/hd-cuda-master/hdpy/hdpy/results/4/dude.random.aces.ecfp.atomwise.0.pkl\n"
     ]
    },
    {
     "name": "stderr",
     "output_type": "stream",
     "text": [
      "\r",
      " 71%|███████   | 27/38 [00:05<00:02,  4.69it/s]"
     ]
    },
    {
     "name": "stdout",
     "output_type": "stream",
     "text": [
      "/g/g13/jones289/workspace/hd-cuda-master/hdpy/hdpy/results/4/dude.random.egfr.ecfp.atomwise.0.pkl\n"
     ]
    },
    {
     "name": "stderr",
     "output_type": "stream",
     "text": [
      "\r",
      " 74%|███████▎  | 28/38 [00:05<00:02,  3.49it/s]"
     ]
    },
    {
     "name": "stdout",
     "output_type": "stream",
     "text": [
      "/g/g13/jones289/workspace/hd-cuda-master/hdpy/hdpy/results/4/dude.random.sahh.ecfp.atomwise.0.pkl\n",
      "/g/g13/jones289/workspace/hd-cuda-master/hdpy/hdpy/results/4/dude.random.mk14.ecfp.atomwise.0.pkl\n"
     ]
    },
    {
     "name": "stderr",
     "output_type": "stream",
     "text": [
      "\r",
      " 79%|███████▉  | 30/38 [00:06<00:02,  3.53it/s]"
     ]
    },
    {
     "name": "stdout",
     "output_type": "stream",
     "text": [
      "/g/g13/jones289/workspace/hd-cuda-master/hdpy/hdpy/results/4/dude.random.nram.ecfp.atomwise.0.pkl\n",
      "/g/g13/jones289/workspace/hd-cuda-master/hdpy/hdpy/results/4/dude.random.prgr.ecfp.atomwise.0.pkl\n"
     ]
    },
    {
     "name": "stderr",
     "output_type": "stream",
     "text": [
      "\r",
      " 84%|████████▍ | 32/38 [00:06<00:01,  4.42it/s]"
     ]
    },
    {
     "name": "stdout",
     "output_type": "stream",
     "text": [
      "/g/g13/jones289/workspace/hd-cuda-master/hdpy/hdpy/results/4/dude.random.kith.ecfp.atomwise.0.pkl\n",
      "/g/g13/jones289/workspace/hd-cuda-master/hdpy/hdpy/results/4/dude.random.pparg.ecfp.atomwise.0.pkl\n"
     ]
    },
    {
     "name": "stderr",
     "output_type": "stream",
     "text": [
      "\r",
      " 89%|████████▉ | 34/38 [00:07<00:00,  4.57it/s]"
     ]
    },
    {
     "name": "stdout",
     "output_type": "stream",
     "text": [
      "/g/g13/jones289/workspace/hd-cuda-master/hdpy/hdpy/results/4/dude.random.dyr.ecfp.atomwise.0.pkl\n"
     ]
    },
    {
     "name": "stderr",
     "output_type": "stream",
     "text": [
      " 97%|█████████▋| 37/38 [00:07<00:00,  5.85it/s]"
     ]
    },
    {
     "name": "stdout",
     "output_type": "stream",
     "text": [
      "/g/g13/jones289/workspace/hd-cuda-master/hdpy/hdpy/results/4/dude.random.pygm.ecfp.atomwise.0.pkl\n",
      "/g/g13/jones289/workspace/hd-cuda-master/hdpy/hdpy/results/4/dude.random.try1.ecfp.atomwise.0.pkl\n",
      "/g/g13/jones289/workspace/hd-cuda-master/hdpy/hdpy/results/4/dude.random.rxra.ecfp.atomwise.0.pkl\n"
     ]
    },
    {
     "name": "stderr",
     "output_type": "stream",
     "text": [
      "100%|██████████| 38/38 [00:07<00:00,  5.03it/s]\n",
      "  0%|          | 0/38 [00:00<?, ?it/s]"
     ]
    },
    {
     "name": "stdout",
     "output_type": "stream",
     "text": [
      "/g/g13/jones289/workspace/hd-cuda-master/hdpy/hdpy/results/4/dude.random.pygm.rp.atomwise.0.pkl\n",
      "/g/g13/jones289/workspace/hd-cuda-master/hdpy/hdpy/results/4/dude.random.ace.rp.atomwise.0.pkl\n"
     ]
    },
    {
     "name": "stderr",
     "output_type": "stream",
     "text": [
      "\r",
      "  5%|▌         | 2/38 [00:00<00:05,  6.37it/s]"
     ]
    },
    {
     "name": "stdout",
     "output_type": "stream",
     "text": [
      "/g/g13/jones289/workspace/hd-cuda-master/hdpy/hdpy/results/4/dude.random.kith.rp.atomwise.0.pkl\n",
      "/g/g13/jones289/workspace/hd-cuda-master/hdpy/hdpy/results/4/dude.random.pde5a.rp.atomwise.0.pkl\n"
     ]
    },
    {
     "name": "stderr",
     "output_type": "stream",
     "text": [
      "\r",
      " 11%|█         | 4/38 [00:00<00:06,  5.55it/s]"
     ]
    },
    {
     "name": "stdout",
     "output_type": "stream",
     "text": [
      "/g/g13/jones289/workspace/hd-cuda-master/hdpy/hdpy/results/4/dude.random.pur2.rp.atomwise.0.pkl\n",
      "/g/g13/jones289/workspace/hd-cuda-master/hdpy/hdpy/results/4/dude.random.hivpr.rp.atomwise.0.pkl\n"
     ]
    },
    {
     "name": "stderr",
     "output_type": "stream",
     "text": [
      " 18%|█▊        | 7/38 [00:01<00:06,  5.16it/s]"
     ]
    },
    {
     "name": "stdout",
     "output_type": "stream",
     "text": [
      "/g/g13/jones289/workspace/hd-cuda-master/hdpy/hdpy/results/4/dude.random.hmdh.rp.atomwise.0.pkl\n",
      "/g/g13/jones289/workspace/hd-cuda-master/hdpy/hdpy/results/4/dude.random.mk14.rp.atomwise.0.pkl\n"
     ]
    },
    {
     "name": "stderr",
     "output_type": "stream",
     "text": [
      "\r",
      " 21%|██        | 8/38 [00:01<00:08,  3.59it/s]"
     ]
    },
    {
     "name": "stdout",
     "output_type": "stream",
     "text": [
      "/g/g13/jones289/workspace/hd-cuda-master/hdpy/hdpy/results/4/dude.random.src.rp.atomwise.0.pkl\n"
     ]
    },
    {
     "name": "stderr",
     "output_type": "stream",
     "text": [
      " 26%|██▋       | 10/38 [00:02<00:07,  3.55it/s]"
     ]
    },
    {
     "name": "stdout",
     "output_type": "stream",
     "text": [
      "/g/g13/jones289/workspace/hd-cuda-master/hdpy/hdpy/results/4/dude.random.try1.rp.atomwise.0.pkl\n",
      "/g/g13/jones289/workspace/hd-cuda-master/hdpy/hdpy/results/4/dude.random.cdk2.rp.atomwise.0.pkl\n"
     ]
    },
    {
     "name": "stderr",
     "output_type": "stream",
     "text": [
      "\r",
      " 29%|██▉       | 11/38 [00:02<00:08,  3.04it/s]"
     ]
    },
    {
     "name": "stdout",
     "output_type": "stream",
     "text": [
      "/g/g13/jones289/workspace/hd-cuda-master/hdpy/hdpy/results/4/dude.random.pgh2.rp.atomwise.0.pkl\n"
     ]
    },
    {
     "name": "stderr",
     "output_type": "stream",
     "text": [
      "\r",
      " 32%|███▏      | 12/38 [00:03<00:08,  3.15it/s]"
     ]
    },
    {
     "name": "stdout",
     "output_type": "stream",
     "text": [
      "/g/g13/jones289/workspace/hd-cuda-master/hdpy/hdpy/results/4/dude.random.bace1.rp.atomwise.0.pkl\n"
     ]
    },
    {
     "name": "stderr",
     "output_type": "stream",
     "text": [
      " 39%|███▉      | 15/38 [00:03<00:04,  5.28it/s]"
     ]
    },
    {
     "name": "stdout",
     "output_type": "stream",
     "text": [
      "/g/g13/jones289/workspace/hd-cuda-master/hdpy/hdpy/results/4/dude.random.hivrt.rp.atomwise.0.pkl\n",
      "/g/g13/jones289/workspace/hd-cuda-master/hdpy/hdpy/results/4/dude.random.hs90a.rp.atomwise.0.pkl\n",
      "/g/g13/jones289/workspace/hd-cuda-master/hdpy/hdpy/results/4/dude.random.egfr.rp.atomwise.0.pkl\n"
     ]
    },
    {
     "name": "stderr",
     "output_type": "stream",
     "text": [
      " 45%|████▍     | 17/38 [00:04<00:05,  4.05it/s]"
     ]
    },
    {
     "name": "stdout",
     "output_type": "stream",
     "text": [
      "/g/g13/jones289/workspace/hd-cuda-master/hdpy/hdpy/results/4/dude.random.aldr.rp.atomwise.0.pkl\n",
      "/g/g13/jones289/workspace/hd-cuda-master/hdpy/hdpy/results/4/dude.random.prgr.rp.atomwise.0.pkl\n"
     ]
    },
    {
     "name": "stderr",
     "output_type": "stream",
     "text": [
      "\r",
      " 47%|████▋     | 18/38 [00:04<00:04,  4.48it/s]"
     ]
    },
    {
     "name": "stdout",
     "output_type": "stream",
     "text": [
      "/g/g13/jones289/workspace/hd-cuda-master/hdpy/hdpy/results/4/dude.random.aces.rp.atomwise.0.pkl\n"
     ]
    },
    {
     "name": "stderr",
     "output_type": "stream",
     "text": [
      "\r",
      " 50%|█████     | 19/38 [00:04<00:04,  3.82it/s]"
     ]
    },
    {
     "name": "stdout",
     "output_type": "stream",
     "text": [
      "/g/g13/jones289/workspace/hd-cuda-master/hdpy/hdpy/results/4/dude.random.ada.rp.atomwise.0.pkl\n",
      "/g/g13/jones289/workspace/hd-cuda-master/hdpy/hdpy/results/4/dude.random.pgh1.rp.atomwise.0.pkl\n"
     ]
    },
    {
     "name": "stderr",
     "output_type": "stream",
     "text": [
      " 61%|██████    | 23/38 [00:05<00:02,  6.47it/s]"
     ]
    },
    {
     "name": "stdout",
     "output_type": "stream",
     "text": [
      "/g/g13/jones289/workspace/hd-cuda-master/hdpy/hdpy/results/4/dude.random.ampc.rp.atomwise.0.pkl\n",
      "/g/g13/jones289/workspace/hd-cuda-master/hdpy/hdpy/results/4/dude.random.andr.rp.atomwise.0.pkl\n",
      "/g/g13/jones289/workspace/hd-cuda-master/hdpy/hdpy/results/4/dude.random.rxra.rp.atomwise.0.pkl\n"
     ]
    },
    {
     "name": "stderr",
     "output_type": "stream",
     "text": [
      "\r",
      " 66%|██████▌   | 25/38 [00:05<00:01,  8.19it/s]"
     ]
    },
    {
     "name": "stdout",
     "output_type": "stream",
     "text": [
      "/g/g13/jones289/workspace/hd-cuda-master/hdpy/hdpy/results/4/dude.random.mcr.rp.atomwise.0.pkl\n",
      "/g/g13/jones289/workspace/hd-cuda-master/hdpy/hdpy/results/4/dude.random.inha.rp.atomwise.0.pkl\n",
      "/g/g13/jones289/workspace/hd-cuda-master/hdpy/hdpy/results/4/dude.random.thrb.rp.atomwise.0.pkl\n"
     ]
    },
    {
     "name": "stderr",
     "output_type": "stream",
     "text": [
      "\r",
      " 71%|███████   | 27/38 [00:05<00:01,  9.03it/s]"
     ]
    },
    {
     "name": "stdout",
     "output_type": "stream",
     "text": [
      "/g/g13/jones289/workspace/hd-cuda-master/hdpy/hdpy/results/4/dude.random.fa10.rp.atomwise.0.pkl\n",
      "/g/g13/jones289/workspace/hd-cuda-master/hdpy/hdpy/results/4/dude.random.esr1.rp.atomwise.0.pkl\n"
     ]
    },
    {
     "name": "stderr",
     "output_type": "stream",
     "text": [
      " 79%|███████▉  | 30/38 [00:06<00:01,  6.82it/s]"
     ]
    },
    {
     "name": "stdout",
     "output_type": "stream",
     "text": [
      "/g/g13/jones289/workspace/hd-cuda-master/hdpy/hdpy/results/4/dude.random.pnph.rp.atomwise.0.pkl\n",
      "/g/g13/jones289/workspace/hd-cuda-master/hdpy/hdpy/results/4/dude.random.pparg.rp.atomwise.0.pkl\n"
     ]
    },
    {
     "name": "stderr",
     "output_type": "stream",
     "text": [
      "\r",
      " 82%|████████▏ | 31/38 [00:06<00:01,  5.22it/s]"
     ]
    },
    {
     "name": "stdout",
     "output_type": "stream",
     "text": [
      "/g/g13/jones289/workspace/hd-cuda-master/hdpy/hdpy/results/4/dude.random.dyr.rp.atomwise.0.pkl\n"
     ]
    },
    {
     "name": "stderr",
     "output_type": "stream",
     "text": [
      "\r",
      " 84%|████████▍ | 32/38 [00:06<00:01,  4.96it/s]"
     ]
    },
    {
     "name": "stdout",
     "output_type": "stream",
     "text": [
      "/g/g13/jones289/workspace/hd-cuda-master/hdpy/hdpy/results/4/dude.random.parp1.rp.atomwise.0.pkl\n"
     ]
    },
    {
     "name": "stderr",
     "output_type": "stream",
     "text": [
      " 89%|████████▉ | 34/38 [00:07<00:00,  4.39it/s]"
     ]
    },
    {
     "name": "stdout",
     "output_type": "stream",
     "text": [
      "/g/g13/jones289/workspace/hd-cuda-master/hdpy/hdpy/results/4/dude.random.gcr.rp.atomwise.0.pkl\n",
      "/g/g13/jones289/workspace/hd-cuda-master/hdpy/hdpy/results/4/dude.random.vgfr2.rp.atomwise.0.pkl\n"
     ]
    },
    {
     "name": "stderr",
     "output_type": "stream",
     "text": [
      " 97%|█████████▋| 37/38 [00:07<00:00,  6.07it/s]"
     ]
    },
    {
     "name": "stdout",
     "output_type": "stream",
     "text": [
      "/g/g13/jones289/workspace/hd-cuda-master/hdpy/hdpy/results/4/dude.random.sahh.rp.atomwise.0.pkl\n",
      "/g/g13/jones289/workspace/hd-cuda-master/hdpy/hdpy/results/4/dude.random.comt.rp.atomwise.0.pkl\n",
      "/g/g13/jones289/workspace/hd-cuda-master/hdpy/hdpy/results/4/dude.random.nram.rp.atomwise.0.pkl\n"
     ]
    },
    {
     "name": "stderr",
     "output_type": "stream",
     "text": [
      "100%|██████████| 38/38 [00:07<00:00,  4.84it/s]\n",
      "  5%|▌         | 2/38 [00:00<00:02, 17.70it/s]"
     ]
    },
    {
     "name": "stdout",
     "output_type": "stream",
     "text": [
      "/g/g13/jones289/workspace/hd-cuda-master/hdpy/hdpy/results/4/dude.random.inha.rf.None.0.pkl\n",
      "/g/g13/jones289/workspace/hd-cuda-master/hdpy/hdpy/results/4/dude.random.vgfr2.rf.None.0.pkl\n",
      "/g/g13/jones289/workspace/hd-cuda-master/hdpy/hdpy/results/4/dude.random.try1.rf.None.0.pkl\n",
      "/g/g13/jones289/workspace/hd-cuda-master/hdpy/hdpy/results/4/dude.random.gcr.rf.None.0.pkl\n"
     ]
    },
    {
     "name": "stderr",
     "output_type": "stream",
     "text": [
      "\r",
      " 13%|█▎        | 5/38 [00:00<00:01, 21.97it/s]"
     ]
    },
    {
     "name": "stdout",
     "output_type": "stream",
     "text": [
      "/g/g13/jones289/workspace/hd-cuda-master/hdpy/hdpy/results/4/dude.random.kith.rf.None.0.pkl\n",
      "/g/g13/jones289/workspace/hd-cuda-master/hdpy/hdpy/results/4/dude.random.pnph.rf.None.0.pkl\n",
      "/g/g13/jones289/workspace/hd-cuda-master/hdpy/hdpy/results/4/dude.random.ace.rf.None.0.pkl\n",
      "/g/g13/jones289/workspace/hd-cuda-master/hdpy/hdpy/results/4/dude.random.egfr.rf.None.0.pkl\n"
     ]
    },
    {
     "name": "stderr",
     "output_type": "stream",
     "text": [
      "\r",
      " 21%|██        | 8/38 [00:00<00:02, 14.62it/s]"
     ]
    },
    {
     "name": "stdout",
     "output_type": "stream",
     "text": [
      "/g/g13/jones289/workspace/hd-cuda-master/hdpy/hdpy/results/4/dude.random.hivpr.rf.None.0.pkl\n",
      "/g/g13/jones289/workspace/hd-cuda-master/hdpy/hdpy/results/4/dude.random.src.rf.None.0.pkl\n"
     ]
    },
    {
     "name": "stderr",
     "output_type": "stream",
     "text": [
      " 32%|███▏      | 12/38 [00:00<00:02, 10.93it/s]"
     ]
    },
    {
     "name": "stdout",
     "output_type": "stream",
     "text": [
      "/g/g13/jones289/workspace/hd-cuda-master/hdpy/hdpy/results/4/dude.random.parp1.rf.None.0.pkl\n",
      "/g/g13/jones289/workspace/hd-cuda-master/hdpy/hdpy/results/4/dude.random.comt.rf.None.0.pkl\n",
      "/g/g13/jones289/workspace/hd-cuda-master/hdpy/hdpy/results/4/dude.random.fa10.rf.None.0.pkl\n"
     ]
    },
    {
     "name": "stderr",
     "output_type": "stream",
     "text": [
      " 45%|████▍     | 17/38 [00:01<00:01, 15.36it/s]"
     ]
    },
    {
     "name": "stdout",
     "output_type": "stream",
     "text": [
      "/g/g13/jones289/workspace/hd-cuda-master/hdpy/hdpy/results/4/dude.random.ampc.rf.None.0.pkl\n",
      "/g/g13/jones289/workspace/hd-cuda-master/hdpy/hdpy/results/4/dude.random.pur2.rf.None.0.pkl\n",
      "/g/g13/jones289/workspace/hd-cuda-master/hdpy/hdpy/results/4/dude.random.pgh1.rf.None.0.pkl\n",
      "/g/g13/jones289/workspace/hd-cuda-master/hdpy/hdpy/results/4/dude.random.rxra.rf.None.0.pkl\n",
      "/g/g13/jones289/workspace/hd-cuda-master/hdpy/hdpy/results/4/dude.random.mk14.rf.None.0.pkl\n"
     ]
    },
    {
     "name": "stderr",
     "output_type": "stream",
     "text": [
      "\r",
      " 50%|█████     | 19/38 [00:01<00:01, 14.02it/s]"
     ]
    },
    {
     "name": "stdout",
     "output_type": "stream",
     "text": [
      "/g/g13/jones289/workspace/hd-cuda-master/hdpy/hdpy/results/4/dude.random.hivrt.rf.None.0.pkl\n",
      "/g/g13/jones289/workspace/hd-cuda-master/hdpy/hdpy/results/4/dude.random.esr1.rf.None.0.pkl\n",
      "/g/g13/jones289/workspace/hd-cuda-master/hdpy/hdpy/results/4/dude.random.aces.rf.None.0.pkl\n"
     ]
    },
    {
     "name": "stderr",
     "output_type": "stream",
     "text": [
      "\r",
      " 55%|█████▌    | 21/38 [00:01<00:01, 12.67it/s]"
     ]
    },
    {
     "name": "stdout",
     "output_type": "stream",
     "text": [
      "/g/g13/jones289/workspace/hd-cuda-master/hdpy/hdpy/results/4/dude.random.pparg.rf.None.0.pkl\n",
      "/g/g13/jones289/workspace/hd-cuda-master/hdpy/hdpy/results/4/dude.random.pde5a.rf.None.0.pkl\n"
     ]
    },
    {
     "name": "stderr",
     "output_type": "stream",
     "text": [
      " 68%|██████▊   | 26/38 [00:01<00:00, 14.14it/s]"
     ]
    },
    {
     "name": "stdout",
     "output_type": "stream",
     "text": [
      "/g/g13/jones289/workspace/hd-cuda-master/hdpy/hdpy/results/4/dude.random.prgr.rf.None.0.pkl\n",
      "/g/g13/jones289/workspace/hd-cuda-master/hdpy/hdpy/results/4/dude.random.pygm.rf.None.0.pkl\n",
      "/g/g13/jones289/workspace/hd-cuda-master/hdpy/hdpy/results/4/dude.random.hs90a.rf.None.0.pkl\n",
      "/g/g13/jones289/workspace/hd-cuda-master/hdpy/hdpy/results/4/dude.random.mcr.rf.None.0.pkl\n",
      "/g/g13/jones289/workspace/hd-cuda-master/hdpy/hdpy/results/4/dude.random.hmdh.rf.None.0.pkl\n",
      "/g/g13/jones289/workspace/hd-cuda-master/hdpy/hdpy/results/4/dude.random.aldr.rf.None.0.pkl\n"
     ]
    },
    {
     "name": "stderr",
     "output_type": "stream",
     "text": [
      " 82%|████████▏ | 31/38 [00:02<00:00, 15.03it/s]"
     ]
    },
    {
     "name": "stdout",
     "output_type": "stream",
     "text": [
      "/g/g13/jones289/workspace/hd-cuda-master/hdpy/hdpy/results/4/dude.random.cdk2.rf.None.0.pkl\n",
      "/g/g13/jones289/workspace/hd-cuda-master/hdpy/hdpy/results/4/dude.random.nram.rf.None.0.pkl\n",
      "/g/g13/jones289/workspace/hd-cuda-master/hdpy/hdpy/results/4/dude.random.dyr.rf.None.0.pkl\n"
     ]
    },
    {
     "name": "stderr",
     "output_type": "stream",
     "text": [
      " 92%|█████████▏| 35/38 [00:02<00:00, 16.22it/s]"
     ]
    },
    {
     "name": "stdout",
     "output_type": "stream",
     "text": [
      "/g/g13/jones289/workspace/hd-cuda-master/hdpy/hdpy/results/4/dude.random.ada.rf.None.0.pkl\n",
      "/g/g13/jones289/workspace/hd-cuda-master/hdpy/hdpy/results/4/dude.random.sahh.rf.None.0.pkl\n",
      "/g/g13/jones289/workspace/hd-cuda-master/hdpy/hdpy/results/4/dude.random.bace1.rf.None.0.pkl\n",
      "/g/g13/jones289/workspace/hd-cuda-master/hdpy/hdpy/results/4/dude.random.andr.rf.None.0.pkl\n",
      "/g/g13/jones289/workspace/hd-cuda-master/hdpy/hdpy/results/4/dude.random.thrb.rf.None.0.pkl\n"
     ]
    },
    {
     "name": "stderr",
     "output_type": "stream",
     "text": [
      "100%|██████████| 38/38 [00:02<00:00, 14.35it/s]\n"
     ]
    },
    {
     "name": "stdout",
     "output_type": "stream",
     "text": [
      "/g/g13/jones289/workspace/hd-cuda-master/hdpy/hdpy/results/4/dude.random.pgh2.rf.None.0.pkl\n"
     ]
    },
    {
     "name": "stderr",
     "output_type": "stream",
     "text": [
      "\r",
      "  0%|          | 0/38 [00:00<?, ?it/s]"
     ]
    },
    {
     "name": "stdout",
     "output_type": "stream",
     "text": [
      "/g/g13/jones289/workspace/hd-cuda-master/hdpy/hdpy/results/4/dude.random.try1.mlp.None.0.pkl\n",
      "/g/g13/jones289/workspace/hd-cuda-master/hdpy/hdpy/results/4/dude.random.ada.mlp.None.0.pkl\n",
      "/g/g13/jones289/workspace/hd-cuda-master/hdpy/hdpy/results/4/dude.random.parp1.mlp.None.0.pkl\n"
     ]
    },
    {
     "name": "stderr",
     "output_type": "stream",
     "text": [
      "\r",
      "  8%|▊         | 3/38 [00:00<00:02, 13.22it/s]"
     ]
    },
    {
     "name": "stdout",
     "output_type": "stream",
     "text": [
      "/g/g13/jones289/workspace/hd-cuda-master/hdpy/hdpy/results/4/dude.random.nram.mlp.None.0.pkl\n",
      "/g/g13/jones289/workspace/hd-cuda-master/hdpy/hdpy/results/4/dude.random.src.mlp.None.0.pkl\n"
     ]
    },
    {
     "name": "stderr",
     "output_type": "stream",
     "text": [
      " 21%|██        | 8/38 [00:00<00:01, 16.39it/s]"
     ]
    },
    {
     "name": "stdout",
     "output_type": "stream",
     "text": [
      "/g/g13/jones289/workspace/hd-cuda-master/hdpy/hdpy/results/4/dude.random.kith.mlp.None.0.pkl\n",
      "/g/g13/jones289/workspace/hd-cuda-master/hdpy/hdpy/results/4/dude.random.hivrt.mlp.None.0.pkl\n",
      "/g/g13/jones289/workspace/hd-cuda-master/hdpy/hdpy/results/4/dude.random.gcr.mlp.None.0.pkl\n",
      "/g/g13/jones289/workspace/hd-cuda-master/hdpy/hdpy/results/4/dude.random.pde5a.mlp.None.0.pkl\n"
     ]
    },
    {
     "name": "stderr",
     "output_type": "stream",
     "text": [
      "\r",
      " 26%|██▋       | 10/38 [00:00<00:02, 11.60it/s]"
     ]
    },
    {
     "name": "stdout",
     "output_type": "stream",
     "text": [
      "/g/g13/jones289/workspace/hd-cuda-master/hdpy/hdpy/results/4/dude.random.mk14.mlp.None.0.pkl\n",
      "/g/g13/jones289/workspace/hd-cuda-master/hdpy/hdpy/results/4/dude.random.sahh.mlp.None.0.pkl\n",
      "/g/g13/jones289/workspace/hd-cuda-master/hdpy/hdpy/results/4/dude.random.comt.mlp.None.0.pkl\n"
     ]
    },
    {
     "name": "stderr",
     "output_type": "stream",
     "text": [
      "\r",
      " 34%|███▍      | 13/38 [00:00<00:01, 13.84it/s]"
     ]
    },
    {
     "name": "stdout",
     "output_type": "stream",
     "text": [
      "/g/g13/jones289/workspace/hd-cuda-master/hdpy/hdpy/results/4/dude.random.fa10.mlp.None.0.pkl\n",
      "/g/g13/jones289/workspace/hd-cuda-master/hdpy/hdpy/results/4/dude.random.ace.mlp.None.0.pkl\n",
      "/g/g13/jones289/workspace/hd-cuda-master/hdpy/hdpy/results/4/dude.random.pgh1.mlp.None.0.pkl\n"
     ]
    },
    {
     "name": "stderr",
     "output_type": "stream",
     "text": [
      "\r",
      " 39%|███▉      | 15/38 [00:01<00:01, 13.83it/s]"
     ]
    },
    {
     "name": "stdout",
     "output_type": "stream",
     "text": [
      "/g/g13/jones289/workspace/hd-cuda-master/hdpy/hdpy/results/4/dude.random.cdk2.mlp.None.0.pkl\n",
      "/g/g13/jones289/workspace/hd-cuda-master/hdpy/hdpy/results/4/dude.random.hivpr.mlp.None.0.pkl\n"
     ]
    },
    {
     "name": "stderr",
     "output_type": "stream",
     "text": [
      "\r",
      " 45%|████▍     | 17/38 [00:01<00:01, 10.71it/s]"
     ]
    },
    {
     "name": "stdout",
     "output_type": "stream",
     "text": [
      "/g/g13/jones289/workspace/hd-cuda-master/hdpy/hdpy/results/4/dude.random.hs90a.mlp.None.0.pkl\n",
      "/g/g13/jones289/workspace/hd-cuda-master/hdpy/hdpy/results/4/dude.random.egfr.mlp.None.0.pkl\n"
     ]
    },
    {
     "name": "stderr",
     "output_type": "stream",
     "text": [
      " 55%|█████▌    | 21/38 [00:01<00:01, 11.02it/s]"
     ]
    },
    {
     "name": "stdout",
     "output_type": "stream",
     "text": [
      "/g/g13/jones289/workspace/hd-cuda-master/hdpy/hdpy/results/4/dude.random.pparg.mlp.None.0.pkl\n",
      "/g/g13/jones289/workspace/hd-cuda-master/hdpy/hdpy/results/4/dude.random.pygm.mlp.None.0.pkl\n",
      "/g/g13/jones289/workspace/hd-cuda-master/hdpy/hdpy/results/4/dude.random.rxra.mlp.None.0.pkl\n",
      "/g/g13/jones289/workspace/hd-cuda-master/hdpy/hdpy/results/4/dude.random.vgfr2.mlp.None.0.pkl\n"
     ]
    },
    {
     "name": "stderr",
     "output_type": "stream",
     "text": [
      " 66%|██████▌   | 25/38 [00:02<00:00, 13.34it/s]"
     ]
    },
    {
     "name": "stdout",
     "output_type": "stream",
     "text": [
      "/g/g13/jones289/workspace/hd-cuda-master/hdpy/hdpy/results/4/dude.random.mcr.mlp.None.0.pkl\n",
      "/g/g13/jones289/workspace/hd-cuda-master/hdpy/hdpy/results/4/dude.random.dyr.mlp.None.0.pkl\n",
      "/g/g13/jones289/workspace/hd-cuda-master/hdpy/hdpy/results/4/dude.random.pgh2.mlp.None.0.pkl\n",
      "/g/g13/jones289/workspace/hd-cuda-master/hdpy/hdpy/results/4/dude.random.hmdh.mlp.None.0.pkl\n"
     ]
    },
    {
     "name": "stderr",
     "output_type": "stream",
     "text": [
      " 79%|███████▉  | 30/38 [00:02<00:00, 15.83it/s]"
     ]
    },
    {
     "name": "stdout",
     "output_type": "stream",
     "text": [
      "/g/g13/jones289/workspace/hd-cuda-master/hdpy/hdpy/results/4/dude.random.andr.mlp.None.0.pkl\n",
      "/g/g13/jones289/workspace/hd-cuda-master/hdpy/hdpy/results/4/dude.random.inha.mlp.None.0.pkl\n",
      "/g/g13/jones289/workspace/hd-cuda-master/hdpy/hdpy/results/4/dude.random.thrb.mlp.None.0.pkl\n",
      "/g/g13/jones289/workspace/hd-cuda-master/hdpy/hdpy/results/4/dude.random.pnph.mlp.None.0.pkl\n",
      "/g/g13/jones289/workspace/hd-cuda-master/hdpy/hdpy/results/4/dude.random.bace1.mlp.None.0.pkl\n"
     ]
    },
    {
     "name": "stderr",
     "output_type": "stream",
     "text": [
      " 92%|█████████▏| 35/38 [00:02<00:00, 16.25it/s]"
     ]
    },
    {
     "name": "stdout",
     "output_type": "stream",
     "text": [
      "/g/g13/jones289/workspace/hd-cuda-master/hdpy/hdpy/results/4/dude.random.aldr.mlp.None.0.pkl\n",
      "/g/g13/jones289/workspace/hd-cuda-master/hdpy/hdpy/results/4/dude.random.pur2.mlp.None.0.pkl\n",
      "/g/g13/jones289/workspace/hd-cuda-master/hdpy/hdpy/results/4/dude.random.esr1.mlp.None.0.pkl\n",
      "/g/g13/jones289/workspace/hd-cuda-master/hdpy/hdpy/results/4/dude.random.ampc.mlp.None.0.pkl\n",
      "/g/g13/jones289/workspace/hd-cuda-master/hdpy/hdpy/results/4/dude.random.aces.mlp.None.0.pkl\n"
     ]
    },
    {
     "name": "stderr",
     "output_type": "stream",
     "text": [
      "100%|██████████| 38/38 [00:02<00:00, 13.54it/s]\n"
     ]
    },
    {
     "name": "stdout",
     "output_type": "stream",
     "text": [
      "/g/g13/jones289/workspace/hd-cuda-master/hdpy/hdpy/results/4/dude.random.prgr.mlp.None.0.pkl\n"
     ]
    },
    {
     "data": {
      "image/png": "[encoded data removed]",
      "text/plain": [
       "<Figure size 864x720 with 2 Axes>"
      ]
     },
     "metadata": {
      "needs_background": "light"
     },
     "output_type": "display_data"
    }
   ],
   "source": [
    "dude_enrich_f, dude_enrich_1_ax, dude_enrich_10_ax, model_metric_dict = aggregate_dude_results(dataset=\"dude\", split=\"random\")\n"
   ]
  },
  {
   "cell_type": "code",
   "execution_count": 16,
   "metadata": {},
   "outputs": [
    {
     "data": {
      "text/plain": [
       "dict_keys(['model', 'enrich-1-mean', 'enrich-1-std', 'enrich-10-mean', 'enrich-10-std', 'test_time', 'train_size', 'test_size'])"
      ]
     },
     "execution_count": 16,
     "metadata": {},
     "output_type": "execute_result"
    }
   ],
   "source": [
    "model_metric_dict.keys()"
   ]
  },
  {
   "cell_type": "code",
   "execution_count": 17,
   "metadata": {},
   "outputs": [
    {
     "data": {
      "text/plain": [
       "[('model', 266),\n",
       " ('enrich-1-mean', 266),\n",
       " ('enrich-1-std', 266),\n",
       " ('enrich-10-mean', 266),\n",
       " ('enrich-10-std', 266),\n",
       " ('test_time', 266),\n",
       " ('train_size', 266),\n",
       " ('test_size', 266)]"
      ]
     },
     "execution_count": 17,
     "metadata": {},
     "output_type": "execute_result"
    }
   ],
   "source": [
    "[(x[0], len(x[1])) for x in model_metric_dict.items()]"
   ]
  },
  {
   "cell_type": "code",
   "execution_count": 18,
   "metadata": {},
   "outputs": [
    {
     "data": {
      "text/html": [
       "<div>\n",
       "<style scoped>\n",
       "    .dataframe tbody tr th:only-of-type {\n",
       "        vertical-align: middle;\n",
       "    }\n",
       "\n",
       "    .dataframe tbody tr th {\n",
       "        vertical-align: top;\n",
       "    }\n",
       "\n",
       "    .dataframe thead th {\n",
       "        text-align: right;\n",
       "    }\n",
       "</style>\n",
       "<table border=\"1\" class=\"dataframe\">\n",
       "  <thead>\n",
       "    <tr style=\"text-align: right;\">\n",
       "      <th></th>\n",
       "      <th>model</th>\n",
       "      <th>enrich-1-mean</th>\n",
       "      <th>enrich-1-std</th>\n",
       "      <th>enrich-10-mean</th>\n",
       "      <th>enrich-10-std</th>\n",
       "      <th>test_time</th>\n",
       "      <th>train_size</th>\n",
       "      <th>test_size</th>\n",
       "    </tr>\n",
       "  </thead>\n",
       "  <tbody>\n",
       "    <tr>\n",
       "      <th>0</th>\n",
       "      <td>smiles-pe.atomwise.0</td>\n",
       "      <td>91.857143</td>\n",
       "      <td>0.000000e+00</td>\n",
       "      <td>9.892308</td>\n",
       "      <td>0.000000e+00</td>\n",
       "      <td>0.135526</td>\n",
       "      <td>5145.0</td>\n",
       "      <td>643.0</td>\n",
       "    </tr>\n",
       "    <tr>\n",
       "      <th>1</th>\n",
       "      <td>smiles-pe.atomwise.0</td>\n",
       "      <td>16.688889</td>\n",
       "      <td>0.000000e+00</td>\n",
       "      <td>8.256608</td>\n",
       "      <td>2.812132e-01</td>\n",
       "      <td>0.218363</td>\n",
       "      <td>6022.0</td>\n",
       "      <td>751.0</td>\n",
       "    </tr>\n",
       "    <tr>\n",
       "      <th>2</th>\n",
       "      <td>smiles-pe.atomwise.0</td>\n",
       "      <td>43.984286</td>\n",
       "      <td>1.332857e+00</td>\n",
       "      <td>9.358359</td>\n",
       "      <td>1.890578e-01</td>\n",
       "      <td>0.195387</td>\n",
       "      <td>7420.0</td>\n",
       "      <td>933.0</td>\n",
       "    </tr>\n",
       "    <tr>\n",
       "      <th>3</th>\n",
       "      <td>smiles-pe.atomwise.0</td>\n",
       "      <td>32.840000</td>\n",
       "      <td>7.105427e-15</td>\n",
       "      <td>9.414133</td>\n",
       "      <td>9.120714e-02</td>\n",
       "      <td>0.435076</td>\n",
       "      <td>13168.0</td>\n",
       "      <td>1642.0</td>\n",
       "    </tr>\n",
       "    <tr>\n",
       "      <th>4</th>\n",
       "      <td>smiles-pe.atomwise.0</td>\n",
       "      <td>47.416667</td>\n",
       "      <td>7.105427e-15</td>\n",
       "      <td>9.705166</td>\n",
       "      <td>0.000000e+00</td>\n",
       "      <td>0.331386</td>\n",
       "      <td>13688.0</td>\n",
       "      <td>1707.0</td>\n",
       "    </tr>\n",
       "    <tr>\n",
       "      <th>...</th>\n",
       "      <td>...</td>\n",
       "      <td>...</td>\n",
       "      <td>...</td>\n",
       "      <td>...</td>\n",
       "      <td>...</td>\n",
       "      <td>...</td>\n",
       "      <td>...</td>\n",
       "      <td>...</td>\n",
       "    </tr>\n",
       "    <tr>\n",
       "      <th>261</th>\n",
       "      <td>mlp</td>\n",
       "      <td>58.000000</td>\n",
       "      <td>0.000000e+00</td>\n",
       "      <td>9.666667</td>\n",
       "      <td>1.776357e-15</td>\n",
       "      <td>0.007313</td>\n",
       "      <td>1855.0</td>\n",
       "      <td>232.0</td>\n",
       "    </tr>\n",
       "    <tr>\n",
       "      <th>262</th>\n",
       "      <td>mlp</td>\n",
       "      <td>40.512821</td>\n",
       "      <td>0.000000e+00</td>\n",
       "      <td>9.743590</td>\n",
       "      <td>1.776357e-15</td>\n",
       "      <td>0.013278</td>\n",
       "      <td>12693.0</td>\n",
       "      <td>1580.0</td>\n",
       "    </tr>\n",
       "    <tr>\n",
       "      <th>263</th>\n",
       "      <td>mlp</td>\n",
       "      <td>22.125000</td>\n",
       "      <td>7.375000e+00</td>\n",
       "      <td>6.391667</td>\n",
       "      <td>9.198241e-01</td>\n",
       "      <td>0.009194</td>\n",
       "      <td>2322.0</td>\n",
       "      <td>295.0</td>\n",
       "    </tr>\n",
       "    <tr>\n",
       "      <th>264</th>\n",
       "      <td>mlp</td>\n",
       "      <td>58.527778</td>\n",
       "      <td>7.105427e-15</td>\n",
       "      <td>9.958044</td>\n",
       "      <td>8.321485e-02</td>\n",
       "      <td>0.020553</td>\n",
       "      <td>16925.0</td>\n",
       "      <td>2107.0</td>\n",
       "    </tr>\n",
       "    <tr>\n",
       "      <th>265</th>\n",
       "      <td>mlp</td>\n",
       "      <td>39.458333</td>\n",
       "      <td>7.105427e-15</td>\n",
       "      <td>8.846974</td>\n",
       "      <td>2.659543e-01</td>\n",
       "      <td>0.008887</td>\n",
       "      <td>7582.0</td>\n",
       "      <td>947.0</td>\n",
       "    </tr>\n",
       "  </tbody>\n",
       "</table>\n",
       "<p>266 rows × 8 columns</p>\n",
       "</div>"
      ],
      "text/plain": [
       "                    model  enrich-1-mean  enrich-1-std  enrich-10-mean  \\\n",
       "0    smiles-pe.atomwise.0      91.857143  0.000000e+00        9.892308   \n",
       "1    smiles-pe.atomwise.0      16.688889  0.000000e+00        8.256608   \n",
       "2    smiles-pe.atomwise.0      43.984286  1.332857e+00        9.358359   \n",
       "3    smiles-pe.atomwise.0      32.840000  7.105427e-15        9.414133   \n",
       "4    smiles-pe.atomwise.0      47.416667  7.105427e-15        9.705166   \n",
       "..                    ...            ...           ...             ...   \n",
       "261                   mlp      58.000000  0.000000e+00        9.666667   \n",
       "262                   mlp      40.512821  0.000000e+00        9.743590   \n",
       "263                   mlp      22.125000  7.375000e+00        6.391667   \n",
       "264                   mlp      58.527778  7.105427e-15        9.958044   \n",
       "265                   mlp      39.458333  7.105427e-15        8.846974   \n",
       "\n",
       "     enrich-10-std  test_time  train_size  test_size  \n",
       "0     0.000000e+00   0.135526      5145.0      643.0  \n",
       "1     2.812132e-01   0.218363      6022.0      751.0  \n",
       "2     1.890578e-01   0.195387      7420.0      933.0  \n",
       "3     9.120714e-02   0.435076     13168.0     1642.0  \n",
       "4     0.000000e+00   0.331386     13688.0     1707.0  \n",
       "..             ...        ...         ...        ...  \n",
       "261   1.776357e-15   0.007313      1855.0      232.0  \n",
       "262   1.776357e-15   0.013278     12693.0     1580.0  \n",
       "263   9.198241e-01   0.009194      2322.0      295.0  \n",
       "264   8.321485e-02   0.020553     16925.0     2107.0  \n",
       "265   2.659543e-01   0.008887      7582.0      947.0  \n",
       "\n",
       "[266 rows x 8 columns]"
      ]
     },
     "execution_count": 18,
     "metadata": {},
     "output_type": "execute_result"
    }
   ],
   "source": [
    "model_metric_df = pd.DataFrame(model_metric_dict)\n",
    "\n",
    "# for col in model_metric_df.columns:\n",
    "#     model_model_metric_df[col].apply(lambda x: x[0])\n",
    "#     model_metric_df[col].apply(lambda x: x[1])\n",
    "#     model_metric_df[col].apply(lambda x: x[2])\n",
    "    \n",
    "# model_metric_df_list = [pd.DataFrame({\"metric\": [tup[0] for tup in model_metric_df[col].values],\n",
    "#                                       \"enrich-1\": [tup[1] for tup in model_metric_df[col].values],\n",
    "#                                       \"enrich-10\": [tup[2] for tup in model_metric_df[col].values]\n",
    "#                                       \"model\": [col]*len(model_metric_df)} for col in model_metric_df.columns)]\n",
    "\n",
    "\n",
    "# model_metric_df = pd.concat(model_metric_df_list)\n",
    "\n",
    "# model_metric_df[\"latency\"] = model_metric_df[\"test_time\"] / model_metric_df[\"test_size\"]\n",
    "\n",
    "model_metric_df\n"
   ]
  },
  {
   "cell_type": "code",
   "execution_count": 19,
   "metadata": {},
   "outputs": [],
   "source": [
    "# model_metric_df['enrich-1'] = model_metric_df['enrich-1'].apply(lambda x: float(np.array(x)))\n",
    "# model_metric_df['enrich-10'] = model_metric_df['enrich-10'].apply(lambda x: float(np.array(x)))"
   ]
  },
  {
   "cell_type": "markdown",
   "metadata": {},
   "source": [
    "## Vina Docking baseline"
   ]
  },
  {
   "cell_type": "code",
   "execution_count": 20,
   "metadata": {},
   "outputs": [
    {
     "name": "stdout",
     "output_type": "stream",
     "text": [
      "pgh1 1 /p/lustre1/jones289/DUDE-38/pgh1-active-summary.txt\n",
      "(941, 11)\n",
      "rxra 2 /p/lustre1/jones289/DUDE-38/rxra-active-summary.txt\n",
      "(568, 11)\n",
      "pnph 3 /p/lustre1/jones289/DUDE-38/pnph-active-summary.txt\n",
      "(655, 11)\n",
      "ampc 4 /p/lustre1/jones289/DUDE-38/ampc-active-summary.txt\n",
      "(295, 11)\n",
      "try1 5 /p/lustre1/jones289/DUDE-38/try1-active-summary.txt\n",
      "(782, 11)\n",
      "parp1 6 /p/lustre1/jones289/DUDE-38/parp1-active-summary.txt\n",
      "(2673, 11)\n",
      "comt 7 /p/lustre1/jones289/DUDE-38/comt-active-summary.txt\n",
      "(406, 11)\n",
      "andr 8 /p/lustre1/jones289/DUDE-38/andr-active-summary.txt\n",
      "(643, 11)\n",
      "sahh 9 /p/lustre1/jones289/DUDE-38/sahh-active-summary.txt\n",
      "(336, 11)\n",
      "ace 10 /p/lustre1/jones289/DUDE-38/ace-active-summary.txt\n",
      "(1587, 11)\n",
      "cdk2 11 /p/lustre1/jones289/DUDE-38/cdk2-active-summary.txt\n",
      "(2604, 11)\n",
      "fgfr1 12 /p/lustre1/jones289/DUDE-38/fgfr1-active-summary.txt\n",
      "hmdh 13 /p/lustre1/jones289/DUDE-38/hmdh-active-summary.txt\n",
      "(789, 11)\n",
      "nram 14 /p/lustre1/jones289/DUDE-38/nram-active-summary.txt\n",
      "(587, 11)\n",
      "aces 15 /p/lustre1/jones289/DUDE-38/aces-active-summary.txt\n",
      "(2126, 11)\n",
      "abl1 16 /p/lustre1/jones289/DUDE-38/abl1-active-summary.txt\n",
      "inha 17 /p/lustre1/jones289/DUDE-38/inha-active-summary.txt\n",
      "(211, 11)\n",
      "src 18 /p/lustre1/jones289/DUDE-38/src-active-summary.txt\n",
      "(2992, 11)\n",
      "hivrt 19 /p/lustre1/jones289/DUDE-38/hivrt-active-summary.txt\n",
      "(157, 11)\n",
      "esr1 20 /p/lustre1/jones289/DUDE-38/esr1-active-summary.txt\n",
      "(1597, 11)\n",
      "vgfr2 21 /p/lustre1/jones289/DUDE-38/vgfr2-active-summary.txt\n",
      "(1864, 11)\n",
      "hivpr 22 /p/lustre1/jones289/DUDE-38/hivpr-active-summary.txt\n",
      "(3087, 11)\n",
      "mk14 23 /p/lustre1/jones289/DUDE-38/mk14-active-summary.txt\n",
      "(3079, 11)\n",
      "pur2 24 /p/lustre1/jones289/DUDE-38/pur2-active-summary.txt\n",
      "(241, 11)\n",
      "bace1 25 /p/lustre1/jones289/DUDE-38/bace1-active-summary.txt\n",
      "(1529, 11)\n",
      "thrb 26 /p/lustre1/jones289/DUDE-38/thrb-active-summary.txt\n",
      "(880, 11)\n",
      "pparg 27 /p/lustre1/jones289/DUDE-38/pparg-active-summary.txt\n",
      "(2265, 11)\n",
      "aldr 28 /p/lustre1/jones289/DUDE-38/aldr-active-summary.txt\n",
      "(837, 11)\n",
      "pgh2 29 /p/lustre1/jones289/DUDE-38/pgh2-active-summary.txt\n",
      "(1725, 11)\n",
      "dyr 30 /p/lustre1/jones289/DUDE-38/dyr-active-summary.txt\n",
      "(1459, 11)\n",
      "hs90a 31 /p/lustre1/jones289/DUDE-38/hs90a-active-summary.txt\n",
      "(466, 11)\n",
      "pde5a 32 /p/lustre1/jones289/DUDE-38/pde5a-active-summary.txt\n",
      "(2223, 11)\n",
      "mcr 33 /p/lustre1/jones289/DUDE-38/mcr-active-summary.txt\n",
      "(146, 11)\n",
      "egfr 34 /p/lustre1/jones289/DUDE-38/egfr-active-summary.txt\n",
      "(3219, 11)\n",
      "ada 35 /p/lustre1/jones289/DUDE-38/ada-active-summary.txt\n",
      "(574, 11)\n",
      "pygm 36 /p/lustre1/jones289/DUDE-38/pygm-active-summary.txt\n",
      "(357, 11)\n",
      "prgr 37 /p/lustre1/jones289/DUDE-38/prgr-active-summary.txt\n",
      "(967, 11)\n",
      "fa10 38 /p/lustre1/jones289/DUDE-38/fa10-active-summary.txt\n",
      "(1687, 11)\n",
      "kith 39 /p/lustre1/jones289/DUDE-38/kith-active-summary.txt\n",
      "(282, 11)\n",
      "gcr 40 /p/lustre1/jones289/DUDE-38/gcr-active-summary.txt\n",
      "(872, 11)\n"
     ]
    }
   ],
   "source": [
    "vina_root_p = Path(\"/p/lustre1/jones289/DUDE-38/\")\n",
    "\n",
    "\n",
    "color_dict.update({\"Vina\": \"salmon\"})\n",
    "\n",
    "\n",
    "\n",
    "vina_path_list = [path for path in vina_root_p.glob(\"*-active-summary.txt\")]\n",
    "\n",
    "\n",
    "df_list = []\n",
    "\n",
    "\n",
    "# root_dude_dir = Path(\"/g/g13/jones289/workspace/hd-cuda-master/datasets/dude/dude_smiles/\")\n",
    "root_dude_dir = Path(\"/usr/workspace/atom/gbsa_modeling/dude_smiles/\")\n",
    "for idx, path in  enumerate(vina_path_list):\n",
    "#     print(idx, path)\n",
    "    target = path.name.split(\".\")[0].split(\"-\")[0]\n",
    "    print(target, idx+1, path)\n",
    "    \n",
    "    # for some reason don't have inactive data for abl1\n",
    "    if target in [\"abl1\"]:\n",
    "        continue\n",
    "    if target in dude_target_names:\n",
    "    \n",
    "        active_df = pd.read_csv(f\"/p/lustre1/jones289/DUDE-38/{target}-active-summary.txt\", header=None, delim_whitespace=True)\n",
    "        active_df['y_true'] = [1] * len(active_df)\n",
    "    \n",
    "        decoy_df = pd.read_csv(f\"/p/lustre1/jones289/DUDE-38/{target}-decoy-summary.txt\", header=None, delim_whitespace=True)\n",
    "        decoy_df['y_true'] = [0] * len(decoy_df)\n",
    "    \n",
    "    \n",
    "        target_df = pd.concat([active_df, decoy_df])\n",
    "        \n",
    "        target_df[\"target\"] = [target] * len(target_df)\n",
    "    \n",
    "        target_df[\"vina\"] = target_df[2]\n",
    "        target_df[\"gbsa\"] = target_df[3]\n",
    "        \n",
    "        target_df[\"cmpd_id\"] = target_df[1]\n",
    "        \n",
    "        target_df[\"target_size\"] = target_df.shape[0]\n",
    "        \n",
    "#         import pdb\n",
    "#         pdb.set_trace()\n",
    "        random_split_df = pd.read_csv(root_dude_dir/ Path(f\"{target}_gbsa_smiles_with_base_rdkit_smiles_train_valid_test_random_random.csv\"))\n",
    "        \n",
    "        \n",
    "#         import pdb\n",
    "#         pdb.set_trace()\n",
    "\n",
    "        # we only use the scores from the test set to attempt an even comparison\n",
    "    \n",
    "        merged_df = pd.merge(target_df, random_split_df, on=\"cmpd_id\")\n",
    "        merged_df = merged_df.loc[merged_df['subset'] == \"test\"]\n",
    "\n",
    "        print(merged_df.shape)\n",
    "    \n",
    "        df_list.append(merged_df)\n",
    "    else:\n",
    "        pass\n",
    "\n",
    "df = pd.concat(df_list)\n",
    "    "
   ]
  },
  {
   "cell_type": "code",
   "execution_count": 21,
   "metadata": {},
   "outputs": [
    {
     "data": {
      "text/plain": [
       "{'ace',\n",
       " 'aces',\n",
       " 'ada',\n",
       " 'aldr',\n",
       " 'ampc',\n",
       " 'andr',\n",
       " 'bace1',\n",
       " 'cdk2',\n",
       " 'comt',\n",
       " 'dyr',\n",
       " 'egfr',\n",
       " 'esr1',\n",
       " 'fa10',\n",
       " 'gcr',\n",
       " 'hivpr',\n",
       " 'hivrt',\n",
       " 'hmdh',\n",
       " 'hs90a',\n",
       " 'inha',\n",
       " 'kith',\n",
       " 'mcr',\n",
       " 'mk14',\n",
       " 'nram',\n",
       " 'parp1',\n",
       " 'pde5a',\n",
       " 'pgh1',\n",
       " 'pgh2',\n",
       " 'pnph',\n",
       " 'pparg',\n",
       " 'prgr',\n",
       " 'pur2',\n",
       " 'pygm',\n",
       " 'rxra',\n",
       " 'sahh',\n",
       " 'src',\n",
       " 'thrb',\n",
       " 'try1',\n",
       " 'vgfr2'}"
      ]
     },
     "execution_count": 21,
     "metadata": {},
     "output_type": "execute_result"
    }
   ],
   "source": [
    "set(df['target'].values.tolist())"
   ]
  },
  {
   "cell_type": "code",
   "execution_count": 22,
   "metadata": {},
   "outputs": [
    {
     "data": {
      "text/html": [
       "<div>\n",
       "<style scoped>\n",
       "    .dataframe tbody tr th:only-of-type {\n",
       "        vertical-align: middle;\n",
       "    }\n",
       "\n",
       "    .dataframe tbody tr th {\n",
       "        vertical-align: top;\n",
       "    }\n",
       "\n",
       "    .dataframe thead th {\n",
       "        text-align: right;\n",
       "    }\n",
       "</style>\n",
       "<table border=\"1\" class=\"dataframe\">\n",
       "  <thead>\n",
       "    <tr style=\"text-align: right;\">\n",
       "      <th></th>\n",
       "      <th>0</th>\n",
       "      <th>1</th>\n",
       "      <th>2</th>\n",
       "      <th>3</th>\n",
       "      <th>y_true</th>\n",
       "      <th>target</th>\n",
       "      <th>vina</th>\n",
       "      <th>gbsa</th>\n",
       "      <th>cmpd_id</th>\n",
       "      <th>target_size</th>\n",
       "      <th>subset</th>\n",
       "    </tr>\n",
       "  </thead>\n",
       "  <tbody>\n",
       "    <tr>\n",
       "      <th>65</th>\n",
       "      <td>158</td>\n",
       "      <td>CHEMBL178355</td>\n",
       "      <td>-7.3</td>\n",
       "      <td>-23.4889</td>\n",
       "      <td>1</td>\n",
       "      <td>pgh1</td>\n",
       "      <td>-7.3</td>\n",
       "      <td>-23.4889</td>\n",
       "      <td>CHEMBL178355</td>\n",
       "      <td>9475</td>\n",
       "      <td>test</td>\n",
       "    </tr>\n",
       "    <tr>\n",
       "      <th>68</th>\n",
       "      <td>161</td>\n",
       "      <td>CHEMBL283267</td>\n",
       "      <td>-7.7</td>\n",
       "      <td>-26.2514</td>\n",
       "      <td>1</td>\n",
       "      <td>pgh1</td>\n",
       "      <td>-7.7</td>\n",
       "      <td>-26.2514</td>\n",
       "      <td>CHEMBL283267</td>\n",
       "      <td>9475</td>\n",
       "      <td>test</td>\n",
       "    </tr>\n",
       "    <tr>\n",
       "      <th>69</th>\n",
       "      <td>162</td>\n",
       "      <td>CHEMBL184374</td>\n",
       "      <td>-7.1</td>\n",
       "      <td>-22.7434</td>\n",
       "      <td>1</td>\n",
       "      <td>pgh1</td>\n",
       "      <td>-7.1</td>\n",
       "      <td>-22.7434</td>\n",
       "      <td>CHEMBL184374</td>\n",
       "      <td>9475</td>\n",
       "      <td>test</td>\n",
       "    </tr>\n",
       "    <tr>\n",
       "      <th>79</th>\n",
       "      <td>171</td>\n",
       "      <td>CHEMBL433892</td>\n",
       "      <td>-7.3</td>\n",
       "      <td>-29.1098</td>\n",
       "      <td>1</td>\n",
       "      <td>pgh1</td>\n",
       "      <td>-7.3</td>\n",
       "      <td>-29.1098</td>\n",
       "      <td>CHEMBL433892</td>\n",
       "      <td>9475</td>\n",
       "      <td>test</td>\n",
       "    </tr>\n",
       "    <tr>\n",
       "      <th>90</th>\n",
       "      <td>180</td>\n",
       "      <td>CHEMBL404928</td>\n",
       "      <td>-6.6</td>\n",
       "      <td>-22.1502</td>\n",
       "      <td>1</td>\n",
       "      <td>pgh1</td>\n",
       "      <td>-6.6</td>\n",
       "      <td>-22.1502</td>\n",
       "      <td>CHEMBL404928</td>\n",
       "      <td>9475</td>\n",
       "      <td>test</td>\n",
       "    </tr>\n",
       "    <tr>\n",
       "      <th>...</th>\n",
       "      <td>...</td>\n",
       "      <td>...</td>\n",
       "      <td>...</td>\n",
       "      <td>...</td>\n",
       "      <td>...</td>\n",
       "      <td>...</td>\n",
       "      <td>...</td>\n",
       "      <td>...</td>\n",
       "      <td>...</td>\n",
       "      <td>...</td>\n",
       "      <td>...</td>\n",
       "    </tr>\n",
       "    <tr>\n",
       "      <th>8660</th>\n",
       "      <td>994</td>\n",
       "      <td>ZINC35141443</td>\n",
       "      <td>-7.8</td>\n",
       "      <td>-28.5967</td>\n",
       "      <td>0</td>\n",
       "      <td>gcr</td>\n",
       "      <td>-7.8</td>\n",
       "      <td>-28.5967</td>\n",
       "      <td>ZINC35141443</td>\n",
       "      <td>11247</td>\n",
       "      <td>test</td>\n",
       "    </tr>\n",
       "    <tr>\n",
       "      <th>8661</th>\n",
       "      <td>9941</td>\n",
       "      <td>ZINC08387402</td>\n",
       "      <td>-7.3</td>\n",
       "      <td>-5.9566</td>\n",
       "      <td>0</td>\n",
       "      <td>gcr</td>\n",
       "      <td>-7.3</td>\n",
       "      <td>-5.9566</td>\n",
       "      <td>ZINC08387402</td>\n",
       "      <td>11247</td>\n",
       "      <td>test</td>\n",
       "    </tr>\n",
       "    <tr>\n",
       "      <th>8678</th>\n",
       "      <td>9969</td>\n",
       "      <td>ZINC64795840</td>\n",
       "      <td>-7.4</td>\n",
       "      <td>-20.0953</td>\n",
       "      <td>0</td>\n",
       "      <td>gcr</td>\n",
       "      <td>-7.4</td>\n",
       "      <td>-20.0953</td>\n",
       "      <td>ZINC64795840</td>\n",
       "      <td>11247</td>\n",
       "      <td>test</td>\n",
       "    </tr>\n",
       "    <tr>\n",
       "      <th>8698</th>\n",
       "      <td>9992</td>\n",
       "      <td>ZINC02647100</td>\n",
       "      <td>-5.5</td>\n",
       "      <td>-11.0534</td>\n",
       "      <td>0</td>\n",
       "      <td>gcr</td>\n",
       "      <td>-5.5</td>\n",
       "      <td>-11.0534</td>\n",
       "      <td>ZINC02647100</td>\n",
       "      <td>11247</td>\n",
       "      <td>test</td>\n",
       "    </tr>\n",
       "    <tr>\n",
       "      <th>8699</th>\n",
       "      <td>9993</td>\n",
       "      <td>ZINC06160061</td>\n",
       "      <td>-6.2</td>\n",
       "      <td>-25.7973</td>\n",
       "      <td>0</td>\n",
       "      <td>gcr</td>\n",
       "      <td>-6.2</td>\n",
       "      <td>-25.7973</td>\n",
       "      <td>ZINC06160061</td>\n",
       "      <td>11247</td>\n",
       "      <td>test</td>\n",
       "    </tr>\n",
       "  </tbody>\n",
       "</table>\n",
       "<p>47708 rows × 11 columns</p>\n",
       "</div>"
      ],
      "text/plain": [
       "         0             1    2        3  y_true target  vina     gbsa  \\\n",
       "65     158  CHEMBL178355 -7.3 -23.4889       1   pgh1  -7.3 -23.4889   \n",
       "68     161  CHEMBL283267 -7.7 -26.2514       1   pgh1  -7.7 -26.2514   \n",
       "69     162  CHEMBL184374 -7.1 -22.7434       1   pgh1  -7.1 -22.7434   \n",
       "79     171  CHEMBL433892 -7.3 -29.1098       1   pgh1  -7.3 -29.1098   \n",
       "90     180  CHEMBL404928 -6.6 -22.1502       1   pgh1  -6.6 -22.1502   \n",
       "...    ...           ...  ...      ...     ...    ...   ...      ...   \n",
       "8660   994  ZINC35141443 -7.8 -28.5967       0    gcr  -7.8 -28.5967   \n",
       "8661  9941  ZINC08387402 -7.3  -5.9566       0    gcr  -7.3  -5.9566   \n",
       "8678  9969  ZINC64795840 -7.4 -20.0953       0    gcr  -7.4 -20.0953   \n",
       "8698  9992  ZINC02647100 -5.5 -11.0534       0    gcr  -5.5 -11.0534   \n",
       "8699  9993  ZINC06160061 -6.2 -25.7973       0    gcr  -6.2 -25.7973   \n",
       "\n",
       "           cmpd_id  target_size subset  \n",
       "65    CHEMBL178355         9475   test  \n",
       "68    CHEMBL283267         9475   test  \n",
       "69    CHEMBL184374         9475   test  \n",
       "79    CHEMBL433892         9475   test  \n",
       "90    CHEMBL404928         9475   test  \n",
       "...            ...          ...    ...  \n",
       "8660  ZINC35141443        11247   test  \n",
       "8661  ZINC08387402        11247   test  \n",
       "8678  ZINC64795840        11247   test  \n",
       "8698  ZINC02647100        11247   test  \n",
       "8699  ZINC06160061        11247   test  \n",
       "\n",
       "[47708 rows x 11 columns]"
      ]
     },
     "execution_count": 22,
     "metadata": {},
     "output_type": "execute_result"
    }
   ],
   "source": [
    "df"
   ]
  },
  {
   "cell_type": "code",
   "execution_count": 23,
   "metadata": {},
   "outputs": [
    {
     "name": "stdout",
     "output_type": "stream",
     "text": [
      "ace, 1.6811\t1.3534\t1587\n",
      "aces, 12.2992\t4.7184\t2126\n",
      "ada, 0.0000\t0.2302\t574\n",
      "aldr, 3.5769\t1.5330\t837\n",
      "ampc, 0.0000\t1.2292\t295\n",
      "andr, 18.3714\t2.9677\t643\n",
      "bace1, 3.6061\t2.6398\t1529\n",
      "cdk2, 1.4183\t1.7606\t2604\n",
      "comt, 0.0000\t0.9002\t406\n",
      "dyr, 0.0000\t1.7635\t1459\n",
      "egfr, 4.3677\t2.2381\t3219\n",
      "esr1, 3.6968\t2.2181\t1597\n",
      "fa10, 5.4376\t2.1879\t1687\n",
      "gcr, 0.0000\t2.3696\t872\n",
      "hivpr, 1.3017\t3.1342\t3087\n",
      "hivrt, 0.0000\t2.6167\t157\n",
      "hmdh, 0.0000\t0.9665\t789\n",
      "hs90a, 0.0000\t0.0000\t466\n",
      "inha, 0.0000\t1.7438\t211\n",
      "kith, 0.0000\t0.5402\t282\n",
      "mcr, 9.7333\t3.8933\t146\n",
      "mk14, 7.4759\t2.5798\t3079\n",
      "nram, 0.0000\t0.0000\t587\n",
      "parp1, 10.4211\t3.9371\t2673\n",
      "pde5a, 8.6297\t2.4922\t2223\n",
      "pgh1, 0.0000\t1.1006\t941\n",
      "pgh2, 4.0780\t3.1823\t1725\n",
      "pnph, 5.1984\t2.2054\t655\n",
      "pparg, 5.8793\t4.6167\t2265\n",
      "prgr, 12.3974\t4.0899\t967\n",
      "pur2, 6.1795\t5.1908\t241\n",
      "pygm, 0.0000\t0.9015\t357\n",
      "rxra, 18.9333\t9.9649\t568\n",
      "sahh, 0.0000\t0.0000\t336\n",
      "src, 3.2879\t1.9727\t2992\n",
      "thrb, 4.9508\t4.0506\t880\n",
      "try1, 2.7153\t1.7873\t782\n",
      "vgfr2, 21.6409\t4.8374\t1864\n"
     ]
    }
   ],
   "source": [
    "target_size_list = []\n",
    "vina_enrich_1_list = []\n",
    "vina_enrich_10_list = []\n",
    "\n",
    "for target, target_df in df.groupby(\"target\"):\n",
    "    \n",
    "    ef_1 = compute_enrichment_factor(scores=np.abs(target_df[\"vina\"]), labels=target_df[\"y_true\"], n_percent=0.01)\n",
    "    ef_10 = compute_enrichment_factor(scores=np.abs(target_df[\"vina\"]), labels=target_df[\"y_true\"], n_percent=0.1)\n",
    "\n",
    "    \n",
    "    target_size_list.append(target_df.shape[0])\n",
    "    \n",
    "    vina_enrich_1_list.append(ef_1)\n",
    "    vina_enrich_10_list.append(ef_10)\n",
    "    \n",
    "    \n",
    "    print(f\"{target}, {ef_1:.4f}\\t{ef_10:.4f}\\t{target_df.shape[0]}\")\n",
    "    \n",
    "sorted_vina_enrich_1_list = [x for _, x in sorted(zip(target_size_list, vina_enrich_1_list), key=lambda pair: pair[0])]\n",
    "sorted_vina_enrich_10_list = [x for _, x in sorted(zip(target_size_list, vina_enrich_10_list), key=lambda pair: pair[0])]\n",
    "\n"
   ]
  },
  {
   "cell_type": "markdown",
   "metadata": {},
   "source": [
    "I think it would be good to move away from the per-target (sorted by size) scatter plot and instead make a series of box plots...this should make it easier to compare the enrichment factors as you increase the amount of data that you are allowed to screen"
   ]
  },
  {
   "cell_type": "code",
   "execution_count": 26,
   "metadata": {},
   "outputs": [
    {
     "data": {
      "text/html": [
       "<div>\n",
       "<style scoped>\n",
       "    .dataframe tbody tr th:only-of-type {\n",
       "        vertical-align: middle;\n",
       "    }\n",
       "\n",
       "    .dataframe tbody tr th {\n",
       "        vertical-align: top;\n",
       "    }\n",
       "\n",
       "    .dataframe thead th {\n",
       "        text-align: right;\n",
       "    }\n",
       "</style>\n",
       "<table border=\"1\" class=\"dataframe\">\n",
       "  <thead>\n",
       "    <tr style=\"text-align: right;\">\n",
       "      <th></th>\n",
       "      <th>model</th>\n",
       "      <th>enrich-1-mean</th>\n",
       "      <th>enrich-1-std</th>\n",
       "      <th>enrich-10-mean</th>\n",
       "      <th>enrich-10-std</th>\n",
       "      <th>test_time</th>\n",
       "      <th>train_size</th>\n",
       "      <th>test_size</th>\n",
       "      <th>metric</th>\n",
       "    </tr>\n",
       "  </thead>\n",
       "  <tbody>\n",
       "    <tr>\n",
       "      <th>0</th>\n",
       "      <td>smiles-pe.atomwise.0</td>\n",
       "      <td>91.857143</td>\n",
       "      <td>0.000000e+00</td>\n",
       "      <td>9.892308</td>\n",
       "      <td>0.000000</td>\n",
       "      <td>0.135526</td>\n",
       "      <td>5145.0</td>\n",
       "      <td>643.0</td>\n",
       "      <td>NaN</td>\n",
       "    </tr>\n",
       "    <tr>\n",
       "      <th>1</th>\n",
       "      <td>smiles-pe.atomwise.0</td>\n",
       "      <td>16.688889</td>\n",
       "      <td>0.000000e+00</td>\n",
       "      <td>8.256608</td>\n",
       "      <td>0.281213</td>\n",
       "      <td>0.218363</td>\n",
       "      <td>6022.0</td>\n",
       "      <td>751.0</td>\n",
       "      <td>NaN</td>\n",
       "    </tr>\n",
       "    <tr>\n",
       "      <th>2</th>\n",
       "      <td>smiles-pe.atomwise.0</td>\n",
       "      <td>43.984286</td>\n",
       "      <td>1.332857e+00</td>\n",
       "      <td>9.358359</td>\n",
       "      <td>0.189058</td>\n",
       "      <td>0.195387</td>\n",
       "      <td>7420.0</td>\n",
       "      <td>933.0</td>\n",
       "      <td>NaN</td>\n",
       "    </tr>\n",
       "    <tr>\n",
       "      <th>3</th>\n",
       "      <td>smiles-pe.atomwise.0</td>\n",
       "      <td>32.840000</td>\n",
       "      <td>7.105427e-15</td>\n",
       "      <td>9.414133</td>\n",
       "      <td>0.091207</td>\n",
       "      <td>0.435076</td>\n",
       "      <td>13168.0</td>\n",
       "      <td>1642.0</td>\n",
       "      <td>NaN</td>\n",
       "    </tr>\n",
       "    <tr>\n",
       "      <th>4</th>\n",
       "      <td>smiles-pe.atomwise.0</td>\n",
       "      <td>47.416667</td>\n",
       "      <td>7.105427e-15</td>\n",
       "      <td>9.705166</td>\n",
       "      <td>0.000000</td>\n",
       "      <td>0.331386</td>\n",
       "      <td>13688.0</td>\n",
       "      <td>1707.0</td>\n",
       "      <td>NaN</td>\n",
       "    </tr>\n",
       "    <tr>\n",
       "      <th>...</th>\n",
       "      <td>...</td>\n",
       "      <td>...</td>\n",
       "      <td>...</td>\n",
       "      <td>...</td>\n",
       "      <td>...</td>\n",
       "      <td>...</td>\n",
       "      <td>...</td>\n",
       "      <td>...</td>\n",
       "      <td>...</td>\n",
       "    </tr>\n",
       "    <tr>\n",
       "      <th>33</th>\n",
       "      <td>Vina</td>\n",
       "      <td>10.421053</td>\n",
       "      <td>NaN</td>\n",
       "      <td>3.937058</td>\n",
       "      <td>NaN</td>\n",
       "      <td>NaN</td>\n",
       "      <td>NaN</td>\n",
       "      <td>NaN</td>\n",
       "      <td>0.0</td>\n",
       "    </tr>\n",
       "    <tr>\n",
       "      <th>34</th>\n",
       "      <td>Vina</td>\n",
       "      <td>3.287912</td>\n",
       "      <td>NaN</td>\n",
       "      <td>1.972747</td>\n",
       "      <td>NaN</td>\n",
       "      <td>NaN</td>\n",
       "      <td>NaN</td>\n",
       "      <td>NaN</td>\n",
       "      <td>0.0</td>\n",
       "    </tr>\n",
       "    <tr>\n",
       "      <th>35</th>\n",
       "      <td>Vina</td>\n",
       "      <td>7.475893</td>\n",
       "      <td>NaN</td>\n",
       "      <td>2.579807</td>\n",
       "      <td>NaN</td>\n",
       "      <td>NaN</td>\n",
       "      <td>NaN</td>\n",
       "      <td>NaN</td>\n",
       "      <td>0.0</td>\n",
       "    </tr>\n",
       "    <tr>\n",
       "      <th>36</th>\n",
       "      <td>Vina</td>\n",
       "      <td>1.301708</td>\n",
       "      <td>NaN</td>\n",
       "      <td>3.134209</td>\n",
       "      <td>NaN</td>\n",
       "      <td>NaN</td>\n",
       "      <td>NaN</td>\n",
       "      <td>NaN</td>\n",
       "      <td>0.0</td>\n",
       "    </tr>\n",
       "    <tr>\n",
       "      <th>37</th>\n",
       "      <td>Vina</td>\n",
       "      <td>4.367707</td>\n",
       "      <td>NaN</td>\n",
       "      <td>2.238111</td>\n",
       "      <td>NaN</td>\n",
       "      <td>NaN</td>\n",
       "      <td>NaN</td>\n",
       "      <td>NaN</td>\n",
       "      <td>0.0</td>\n",
       "    </tr>\n",
       "  </tbody>\n",
       "</table>\n",
       "<p>304 rows × 9 columns</p>\n",
       "</div>"
      ],
      "text/plain": [
       "                   model  enrich-1-mean  enrich-1-std  enrich-10-mean  \\\n",
       "0   smiles-pe.atomwise.0      91.857143  0.000000e+00        9.892308   \n",
       "1   smiles-pe.atomwise.0      16.688889  0.000000e+00        8.256608   \n",
       "2   smiles-pe.atomwise.0      43.984286  1.332857e+00        9.358359   \n",
       "3   smiles-pe.atomwise.0      32.840000  7.105427e-15        9.414133   \n",
       "4   smiles-pe.atomwise.0      47.416667  7.105427e-15        9.705166   \n",
       "..                   ...            ...           ...             ...   \n",
       "33                  Vina      10.421053           NaN        3.937058   \n",
       "34                  Vina       3.287912           NaN        1.972747   \n",
       "35                  Vina       7.475893           NaN        2.579807   \n",
       "36                  Vina       1.301708           NaN        3.134209   \n",
       "37                  Vina       4.367707           NaN        2.238111   \n",
       "\n",
       "    enrich-10-std  test_time  train_size  test_size  metric  \n",
       "0        0.000000   0.135526      5145.0      643.0     NaN  \n",
       "1        0.281213   0.218363      6022.0      751.0     NaN  \n",
       "2        0.189058   0.195387      7420.0      933.0     NaN  \n",
       "3        0.091207   0.435076     13168.0     1642.0     NaN  \n",
       "4        0.000000   0.331386     13688.0     1707.0     NaN  \n",
       "..            ...        ...         ...        ...     ...  \n",
       "33            NaN        NaN         NaN        NaN     0.0  \n",
       "34            NaN        NaN         NaN        NaN     0.0  \n",
       "35            NaN        NaN         NaN        NaN     0.0  \n",
       "36            NaN        NaN         NaN        NaN     0.0  \n",
       "37            NaN        NaN         NaN        NaN     0.0  \n",
       "\n",
       "[304 rows x 9 columns]"
      ]
     },
     "execution_count": 26,
     "metadata": {},
     "output_type": "execute_result"
    }
   ],
   "source": [
    "model_metric_df = pd.concat([model_metric_df, pd.DataFrame({\"metric\": [0]*38, \"enrich-1-mean\": sorted_vina_enrich_1_list, \n",
    "                                            \"enrich-10-mean\": sorted_vina_enrich_10_list,\n",
    "                                          \"model\": [\"Vina\"]*38, \n",
    "                                                           })])\n",
    "\n",
    "\n",
    "model_metric_df"
   ]
  },
  {
   "cell_type": "code",
   "execution_count": 28,
   "metadata": {},
   "outputs": [
    {
     "data": {
      "text/plain": [
       "Text(3.2000000000000135, 0.5, 'EF')"
      ]
     },
     "execution_count": 28,
     "metadata": {},
     "output_type": "execute_result"
    }
   ],
   "source": [
    "sns.boxplot(data=model_metric_df[model_metric_df[\"model\"].apply(lambda x: \"openhd\" not in x.lower())], x=\"model\", y=\"enrich-1-mean\", ax=dude_enrich_1_ax, palette=color_dict)\n",
    "# dude_enrich_1_ax.set_title(\"(a) DUD-E Enrichment at 1\\%\", fontdict={\"fontsize\": 18})\n",
    "dude_enrich_1_ax.tick_params(axis=\"x\", labelrotation=22.5)\n",
    "dude_enrich_1_ax.set_xlabel(\"\")\n",
    "dude_enrich_1_ax.set_ylabel(\"EF\")\n",
    "\n",
    "# labels = [x[1] for x in model_order_list]\n",
    "\n",
    "# dude_enrich_1_ax.set_xticklabels(labels)\n"
   ]
  },
  {
   "cell_type": "code",
   "execution_count": 29,
   "metadata": {},
   "outputs": [],
   "source": [
    "sns.boxplot(data=model_metric_df[model_metric_df[\"model\"].apply(lambda x: \"openhd\" not in x.lower())], x=\"model\", y=\"enrich-10-mean\", ax=dude_enrich_10_ax, palette=color_dict)\n",
    "# dude_enrich_10_ax.set_title(\"(b) DUD-E Enrichment at 10\\%\", fontdict={\"fontsize\": 18})\n",
    "\n",
    "dude_enrich_10_ax.tick_params(axis=\"x\", labelrotation=22.5)\n",
    "# dude_enrich_10_ax.tick_params(axis=\"y\")\n",
    "dude_enrich_10_ax.set_xlabel(\"\")\n",
    "dude_enrich_10_ax.set_ylabel(\"EF\")\n",
    "\n",
    "labels = [model_name_dict[x.get_text()] for x in dude_enrich_10_ax.get_xticklabels()]\n",
    "dude_enrich_10_ax.set_xticklabels(labels)\n",
    "\n",
    "\n",
    "# # dude_enrich_10_ax.set_xticklabels(labels)\n",
    "# plt.tight_layout()\n",
    "dude_enrich_f.savefig(\"dude_enrich.png\", dpi=600, bbox_inches=\"tight\")\n"
   ]
  },
  {
   "cell_type": "code",
   "execution_count": 30,
   "metadata": {},
   "outputs": [
    {
     "data": {
      "image/png": "[encoded data removed]",
      "text/plain": [
       "<Figure size 864x720 with 2 Axes>"
      ]
     },
     "execution_count": 30,
     "metadata": {},
     "output_type": "execute_result"
    }
   ],
   "source": [
    "dude_enrich_f"
   ]
  },
  {
   "cell_type": "code",
   "execution_count": 31,
   "metadata": {},
   "outputs": [
    {
     "name": "stdout",
     "output_type": "stream",
     "text": [
      "(38, 9)\n",
      "(38, 9)\n",
      "(38, 9)\n",
      "(38, 9)\n",
      "(38, 9)\n",
      "(38, 9)\n",
      "(38, 9)\n",
      "(38, 9)\n"
     ]
    }
   ],
   "source": [
    "model_metric_df[model_metric_df['model'] == \"rp\"].shape\n",
    "for group_name, group_df in model_metric_df.groupby(\"model\"):\n",
    "    print(group_df.shape)"
   ]
  },
  {
   "cell_type": "code",
   "execution_count": 32,
   "metadata": {},
   "outputs": [
    {
     "data": {
      "text/html": [
       "<div>\n",
       "<style scoped>\n",
       "    .dataframe tbody tr th:only-of-type {\n",
       "        vertical-align: middle;\n",
       "    }\n",
       "\n",
       "    .dataframe tbody tr th {\n",
       "        vertical-align: top;\n",
       "    }\n",
       "\n",
       "    .dataframe thead tr th {\n",
       "        text-align: left;\n",
       "    }\n",
       "\n",
       "    .dataframe thead tr:last-of-type th {\n",
       "        text-align: right;\n",
       "    }\n",
       "</style>\n",
       "<table border=\"1\" class=\"dataframe\">\n",
       "  <thead>\n",
       "    <tr>\n",
       "      <th></th>\n",
       "      <th colspan=\"8\" halign=\"left\">enrich-1-mean</th>\n",
       "      <th colspan=\"8\" halign=\"left\">enrich-10-mean</th>\n",
       "    </tr>\n",
       "    <tr>\n",
       "      <th></th>\n",
       "      <th>count</th>\n",
       "      <th>mean</th>\n",
       "      <th>std</th>\n",
       "      <th>min</th>\n",
       "      <th>25%</th>\n",
       "      <th>50%</th>\n",
       "      <th>75%</th>\n",
       "      <th>max</th>\n",
       "      <th>count</th>\n",
       "      <th>mean</th>\n",
       "      <th>std</th>\n",
       "      <th>min</th>\n",
       "      <th>25%</th>\n",
       "      <th>50%</th>\n",
       "      <th>75%</th>\n",
       "      <th>max</th>\n",
       "    </tr>\n",
       "    <tr>\n",
       "      <th>model</th>\n",
       "      <th></th>\n",
       "      <th></th>\n",
       "      <th></th>\n",
       "      <th></th>\n",
       "      <th></th>\n",
       "      <th></th>\n",
       "      <th></th>\n",
       "      <th></th>\n",
       "      <th></th>\n",
       "      <th></th>\n",
       "      <th></th>\n",
       "      <th></th>\n",
       "      <th></th>\n",
       "      <th></th>\n",
       "      <th></th>\n",
       "      <th></th>\n",
       "    </tr>\n",
       "  </thead>\n",
       "  <tbody>\n",
       "    <tr>\n",
       "      <th>Vina</th>\n",
       "      <td>38.0</td>\n",
       "      <td>4.665199</td>\n",
       "      <td>5.764932</td>\n",
       "      <td>0.00</td>\n",
       "      <td>0.000000</td>\n",
       "      <td>3.432418</td>\n",
       "      <td>6.104440</td>\n",
       "      <td>21.640867</td>\n",
       "      <td>38.0</td>\n",
       "      <td>2.471403</td>\n",
       "      <td>1.886596</td>\n",
       "      <td>0.000000</td>\n",
       "      <td>1.260218</td>\n",
       "      <td>2.211721</td>\n",
       "      <td>3.170251</td>\n",
       "      <td>9.964912</td>\n",
       "    </tr>\n",
       "    <tr>\n",
       "      <th>ecfp</th>\n",
       "      <td>38.0</td>\n",
       "      <td>48.879478</td>\n",
       "      <td>18.618741</td>\n",
       "      <td>7.35</td>\n",
       "      <td>41.018336</td>\n",
       "      <td>47.991764</td>\n",
       "      <td>57.995687</td>\n",
       "      <td>91.857143</td>\n",
       "      <td>38.0</td>\n",
       "      <td>9.610850</td>\n",
       "      <td>0.584149</td>\n",
       "      <td>7.350000</td>\n",
       "      <td>9.581469</td>\n",
       "      <td>9.839481</td>\n",
       "      <td>9.937364</td>\n",
       "      <td>10.000000</td>\n",
       "    </tr>\n",
       "    <tr>\n",
       "      <th>mlp</th>\n",
       "      <td>38.0</td>\n",
       "      <td>49.651707</td>\n",
       "      <td>19.416390</td>\n",
       "      <td>7.35</td>\n",
       "      <td>41.018336</td>\n",
       "      <td>47.991764</td>\n",
       "      <td>61.548611</td>\n",
       "      <td>91.857143</td>\n",
       "      <td>38.0</td>\n",
       "      <td>9.641049</td>\n",
       "      <td>0.722382</td>\n",
       "      <td>6.391667</td>\n",
       "      <td>9.735985</td>\n",
       "      <td>9.897767</td>\n",
       "      <td>9.948045</td>\n",
       "      <td>10.000000</td>\n",
       "    </tr>\n",
       "    <tr>\n",
       "      <th>rf</th>\n",
       "      <td>38.0</td>\n",
       "      <td>50.299595</td>\n",
       "      <td>20.273109</td>\n",
       "      <td>7.35</td>\n",
       "      <td>41.018336</td>\n",
       "      <td>47.991764</td>\n",
       "      <td>61.548611</td>\n",
       "      <td>92.600000</td>\n",
       "      <td>38.0</td>\n",
       "      <td>9.648628</td>\n",
       "      <td>0.643554</td>\n",
       "      <td>7.350000</td>\n",
       "      <td>9.691888</td>\n",
       "      <td>9.884750</td>\n",
       "      <td>9.945559</td>\n",
       "      <td>10.000000</td>\n",
       "    </tr>\n",
       "    <tr>\n",
       "      <th>rp</th>\n",
       "      <td>38.0</td>\n",
       "      <td>48.841328</td>\n",
       "      <td>18.606270</td>\n",
       "      <td>7.35</td>\n",
       "      <td>41.018336</td>\n",
       "      <td>47.991764</td>\n",
       "      <td>57.850000</td>\n",
       "      <td>91.857143</td>\n",
       "      <td>38.0</td>\n",
       "      <td>9.696737</td>\n",
       "      <td>0.520078</td>\n",
       "      <td>7.350000</td>\n",
       "      <td>9.727739</td>\n",
       "      <td>9.884750</td>\n",
       "      <td>9.945559</td>\n",
       "      <td>10.000000</td>\n",
       "    </tr>\n",
       "    <tr>\n",
       "      <th>selfies.atomwise</th>\n",
       "      <td>38.0</td>\n",
       "      <td>46.885436</td>\n",
       "      <td>18.268510</td>\n",
       "      <td>7.35</td>\n",
       "      <td>41.018336</td>\n",
       "      <td>47.351190</td>\n",
       "      <td>56.754167</td>\n",
       "      <td>91.857143</td>\n",
       "      <td>38.0</td>\n",
       "      <td>8.946550</td>\n",
       "      <td>1.078520</td>\n",
       "      <td>6.000000</td>\n",
       "      <td>8.712646</td>\n",
       "      <td>9.214594</td>\n",
       "      <td>9.783278</td>\n",
       "      <td>9.925926</td>\n",
       "    </tr>\n",
       "    <tr>\n",
       "      <th>smiles-pe.atomwise.0</th>\n",
       "      <td>38.0</td>\n",
       "      <td>44.385852</td>\n",
       "      <td>16.940196</td>\n",
       "      <td>7.35</td>\n",
       "      <td>38.510900</td>\n",
       "      <td>45.882057</td>\n",
       "      <td>53.679319</td>\n",
       "      <td>91.857143</td>\n",
       "      <td>38.0</td>\n",
       "      <td>8.998361</td>\n",
       "      <td>1.326607</td>\n",
       "      <td>2.335417</td>\n",
       "      <td>8.638054</td>\n",
       "      <td>9.363905</td>\n",
       "      <td>9.757373</td>\n",
       "      <td>9.925926</td>\n",
       "    </tr>\n",
       "    <tr>\n",
       "      <th>smiles-pe.bpe.0</th>\n",
       "      <td>38.0</td>\n",
       "      <td>47.343310</td>\n",
       "      <td>16.186690</td>\n",
       "      <td>7.35</td>\n",
       "      <td>40.973157</td>\n",
       "      <td>47.499828</td>\n",
       "      <td>56.800000</td>\n",
       "      <td>83.983673</td>\n",
       "      <td>38.0</td>\n",
       "      <td>8.571762</td>\n",
       "      <td>1.101500</td>\n",
       "      <td>4.793750</td>\n",
       "      <td>8.136993</td>\n",
       "      <td>8.877215</td>\n",
       "      <td>9.323135</td>\n",
       "      <td>9.922078</td>\n",
       "    </tr>\n",
       "  </tbody>\n",
       "</table>\n",
       "</div>"
      ],
      "text/plain": [
       "                     enrich-1-mean                                         \\\n",
       "                             count       mean        std   min        25%   \n",
       "model                                                                       \n",
       "Vina                          38.0   4.665199   5.764932  0.00   0.000000   \n",
       "ecfp                          38.0  48.879478  18.618741  7.35  41.018336   \n",
       "mlp                           38.0  49.651707  19.416390  7.35  41.018336   \n",
       "rf                            38.0  50.299595  20.273109  7.35  41.018336   \n",
       "rp                            38.0  48.841328  18.606270  7.35  41.018336   \n",
       "selfies.atomwise              38.0  46.885436  18.268510  7.35  41.018336   \n",
       "smiles-pe.atomwise.0          38.0  44.385852  16.940196  7.35  38.510900   \n",
       "smiles-pe.bpe.0               38.0  47.343310  16.186690  7.35  40.973157   \n",
       "\n",
       "                                                      enrich-10-mean  \\\n",
       "                            50%        75%        max          count   \n",
       "model                                                                  \n",
       "Vina                   3.432418   6.104440  21.640867           38.0   \n",
       "ecfp                  47.991764  57.995687  91.857143           38.0   \n",
       "mlp                   47.991764  61.548611  91.857143           38.0   \n",
       "rf                    47.991764  61.548611  92.600000           38.0   \n",
       "rp                    47.991764  57.850000  91.857143           38.0   \n",
       "selfies.atomwise      47.351190  56.754167  91.857143           38.0   \n",
       "smiles-pe.atomwise.0  45.882057  53.679319  91.857143           38.0   \n",
       "smiles-pe.bpe.0       47.499828  56.800000  83.983673           38.0   \n",
       "\n",
       "                                                                        \\\n",
       "                          mean       std       min       25%       50%   \n",
       "model                                                                    \n",
       "Vina                  2.471403  1.886596  0.000000  1.260218  2.211721   \n",
       "ecfp                  9.610850  0.584149  7.350000  9.581469  9.839481   \n",
       "mlp                   9.641049  0.722382  6.391667  9.735985  9.897767   \n",
       "rf                    9.648628  0.643554  7.350000  9.691888  9.884750   \n",
       "rp                    9.696737  0.520078  7.350000  9.727739  9.884750   \n",
       "selfies.atomwise      8.946550  1.078520  6.000000  8.712646  9.214594   \n",
       "smiles-pe.atomwise.0  8.998361  1.326607  2.335417  8.638054  9.363905   \n",
       "smiles-pe.bpe.0       8.571762  1.101500  4.793750  8.136993  8.877215   \n",
       "\n",
       "                                           \n",
       "                           75%        max  \n",
       "model                                      \n",
       "Vina                  3.170251   9.964912  \n",
       "ecfp                  9.937364  10.000000  \n",
       "mlp                   9.948045  10.000000  \n",
       "rf                    9.945559  10.000000  \n",
       "rp                    9.945559  10.000000  \n",
       "selfies.atomwise      9.783278   9.925926  \n",
       "smiles-pe.atomwise.0  9.757373   9.925926  \n",
       "smiles-pe.bpe.0       9.323135   9.922078  "
      ]
     },
     "execution_count": 32,
     "metadata": {},
     "output_type": "execute_result"
    }
   ],
   "source": [
    "model_metric_df.groupby('model').describe()[['enrich-1-mean', 'enrich-10-mean']]"
   ]
  },
  {
   "cell_type": "code",
   "execution_count": 33,
   "metadata": {},
   "outputs": [
    {
     "data": {
      "text/html": [
       "<div>\n",
       "<style scoped>\n",
       "    .dataframe tbody tr th:only-of-type {\n",
       "        vertical-align: middle;\n",
       "    }\n",
       "\n",
       "    .dataframe tbody tr th {\n",
       "        vertical-align: top;\n",
       "    }\n",
       "\n",
       "    .dataframe thead tr th {\n",
       "        text-align: left;\n",
       "    }\n",
       "\n",
       "    .dataframe thead tr:last-of-type th {\n",
       "        text-align: right;\n",
       "    }\n",
       "</style>\n",
       "<table border=\"1\" class=\"dataframe\">\n",
       "  <thead>\n",
       "    <tr>\n",
       "      <th></th>\n",
       "      <th colspan=\"8\" halign=\"left\">enrich-1-std</th>\n",
       "      <th colspan=\"8\" halign=\"left\">enrich-10-std</th>\n",
       "    </tr>\n",
       "    <tr>\n",
       "      <th></th>\n",
       "      <th>count</th>\n",
       "      <th>mean</th>\n",
       "      <th>std</th>\n",
       "      <th>min</th>\n",
       "      <th>25%</th>\n",
       "      <th>50%</th>\n",
       "      <th>75%</th>\n",
       "      <th>max</th>\n",
       "      <th>count</th>\n",
       "      <th>mean</th>\n",
       "      <th>std</th>\n",
       "      <th>min</th>\n",
       "      <th>25%</th>\n",
       "      <th>50%</th>\n",
       "      <th>75%</th>\n",
       "      <th>max</th>\n",
       "    </tr>\n",
       "    <tr>\n",
       "      <th>model</th>\n",
       "      <th></th>\n",
       "      <th></th>\n",
       "      <th></th>\n",
       "      <th></th>\n",
       "      <th></th>\n",
       "      <th></th>\n",
       "      <th></th>\n",
       "      <th></th>\n",
       "      <th></th>\n",
       "      <th></th>\n",
       "      <th></th>\n",
       "      <th></th>\n",
       "      <th></th>\n",
       "      <th></th>\n",
       "      <th></th>\n",
       "      <th></th>\n",
       "    </tr>\n",
       "  </thead>\n",
       "  <tbody>\n",
       "    <tr>\n",
       "      <th>Vina</th>\n",
       "      <td>0.0</td>\n",
       "      <td>NaN</td>\n",
       "      <td>NaN</td>\n",
       "      <td>NaN</td>\n",
       "      <td>NaN</td>\n",
       "      <td>NaN</td>\n",
       "      <td>NaN</td>\n",
       "      <td>NaN</td>\n",
       "      <td>0.0</td>\n",
       "      <td>NaN</td>\n",
       "      <td>NaN</td>\n",
       "      <td>NaN</td>\n",
       "      <td>NaN</td>\n",
       "      <td>NaN</td>\n",
       "      <td>NaN</td>\n",
       "      <td>NaN</td>\n",
       "    </tr>\n",
       "    <tr>\n",
       "      <th>ecfp</th>\n",
       "      <td>38.0</td>\n",
       "      <td>6.543306e-02</td>\n",
       "      <td>3.090660e-01</td>\n",
       "      <td>0.0</td>\n",
       "      <td>0.0</td>\n",
       "      <td>0.000000e+00</td>\n",
       "      <td>7.105427e-15</td>\n",
       "      <td>1.793578e+00</td>\n",
       "      <td>38.0</td>\n",
       "      <td>1.941830e-02</td>\n",
       "      <td>4.035053e-02</td>\n",
       "      <td>0.0</td>\n",
       "      <td>0.000000e+00</td>\n",
       "      <td>1.776357e-15</td>\n",
       "      <td>1.776357e-15</td>\n",
       "      <td>1.386452e-01</td>\n",
       "    </tr>\n",
       "    <tr>\n",
       "      <th>mlp</th>\n",
       "      <td>38.0</td>\n",
       "      <td>4.931212e-01</td>\n",
       "      <td>1.825067e+00</td>\n",
       "      <td>0.0</td>\n",
       "      <td>0.0</td>\n",
       "      <td>0.000000e+00</td>\n",
       "      <td>7.105427e-15</td>\n",
       "      <td>8.282396e+00</td>\n",
       "      <td>38.0</td>\n",
       "      <td>8.525197e-02</td>\n",
       "      <td>2.010683e-01</td>\n",
       "      <td>0.0</td>\n",
       "      <td>0.000000e+00</td>\n",
       "      <td>1.776357e-15</td>\n",
       "      <td>6.820738e-02</td>\n",
       "      <td>9.198241e-01</td>\n",
       "    </tr>\n",
       "    <tr>\n",
       "      <th>rf</th>\n",
       "      <td>38.0</td>\n",
       "      <td>2.781401e-15</td>\n",
       "      <td>4.130829e-15</td>\n",
       "      <td>0.0</td>\n",
       "      <td>0.0</td>\n",
       "      <td>0.000000e+00</td>\n",
       "      <td>7.105427e-15</td>\n",
       "      <td>1.421085e-14</td>\n",
       "      <td>38.0</td>\n",
       "      <td>5.375817e-16</td>\n",
       "      <td>8.140152e-16</td>\n",
       "      <td>0.0</td>\n",
       "      <td>0.000000e+00</td>\n",
       "      <td>0.000000e+00</td>\n",
       "      <td>1.776357e-15</td>\n",
       "      <td>1.776357e-15</td>\n",
       "    </tr>\n",
       "    <tr>\n",
       "      <th>rp</th>\n",
       "      <td>38.0</td>\n",
       "      <td>4.642544e-02</td>\n",
       "      <td>1.998464e-01</td>\n",
       "      <td>0.0</td>\n",
       "      <td>0.0</td>\n",
       "      <td>0.000000e+00</td>\n",
       "      <td>7.105427e-15</td>\n",
       "      <td>9.238372e-01</td>\n",
       "      <td>38.0</td>\n",
       "      <td>2.595306e-02</td>\n",
       "      <td>9.588627e-02</td>\n",
       "      <td>0.0</td>\n",
       "      <td>0.000000e+00</td>\n",
       "      <td>0.000000e+00</td>\n",
       "      <td>1.776357e-15</td>\n",
       "      <td>5.632749e-01</td>\n",
       "    </tr>\n",
       "    <tr>\n",
       "      <th>selfies.atomwise</th>\n",
       "      <td>38.0</td>\n",
       "      <td>1.074131e+00</td>\n",
       "      <td>1.952959e+00</td>\n",
       "      <td>0.0</td>\n",
       "      <td>0.0</td>\n",
       "      <td>7.105427e-15</td>\n",
       "      <td>1.147998e+00</td>\n",
       "      <td>7.434926e+00</td>\n",
       "      <td>38.0</td>\n",
       "      <td>1.475649e-01</td>\n",
       "      <td>2.055399e-01</td>\n",
       "      <td>0.0</td>\n",
       "      <td>2.220446e-16</td>\n",
       "      <td>7.984275e-02</td>\n",
       "      <td>2.012886e-01</td>\n",
       "      <td>1.018350e+00</td>\n",
       "    </tr>\n",
       "    <tr>\n",
       "      <th>smiles-pe.atomwise.0</th>\n",
       "      <td>38.0</td>\n",
       "      <td>1.118816e+00</td>\n",
       "      <td>2.365646e+00</td>\n",
       "      <td>0.0</td>\n",
       "      <td>0.0</td>\n",
       "      <td>4.440892e-16</td>\n",
       "      <td>1.179253e+00</td>\n",
       "      <td>1.021532e+01</td>\n",
       "      <td>38.0</td>\n",
       "      <td>1.431214e-01</td>\n",
       "      <td>1.567982e-01</td>\n",
       "      <td>0.0</td>\n",
       "      <td>1.776357e-15</td>\n",
       "      <td>1.018448e-01</td>\n",
       "      <td>1.991971e-01</td>\n",
       "      <td>7.250000e-01</td>\n",
       "    </tr>\n",
       "    <tr>\n",
       "      <th>smiles-pe.bpe.0</th>\n",
       "      <td>38.0</td>\n",
       "      <td>7.278354e-01</td>\n",
       "      <td>1.773662e+00</td>\n",
       "      <td>0.0</td>\n",
       "      <td>0.0</td>\n",
       "      <td>0.000000e+00</td>\n",
       "      <td>7.105427e-15</td>\n",
       "      <td>6.687500e+00</td>\n",
       "      <td>38.0</td>\n",
       "      <td>1.855583e-01</td>\n",
       "      <td>1.959551e-01</td>\n",
       "      <td>0.0</td>\n",
       "      <td>1.776357e-15</td>\n",
       "      <td>1.586279e-01</td>\n",
       "      <td>2.691692e-01</td>\n",
       "      <td>7.430556e-01</td>\n",
       "    </tr>\n",
       "  </tbody>\n",
       "</table>\n",
       "</div>"
      ],
      "text/plain": [
       "                     enrich-1-std                                        \\\n",
       "                            count          mean           std  min  25%   \n",
       "model                                                                     \n",
       "Vina                          0.0           NaN           NaN  NaN  NaN   \n",
       "ecfp                         38.0  6.543306e-02  3.090660e-01  0.0  0.0   \n",
       "mlp                          38.0  4.931212e-01  1.825067e+00  0.0  0.0   \n",
       "rf                           38.0  2.781401e-15  4.130829e-15  0.0  0.0   \n",
       "rp                           38.0  4.642544e-02  1.998464e-01  0.0  0.0   \n",
       "selfies.atomwise             38.0  1.074131e+00  1.952959e+00  0.0  0.0   \n",
       "smiles-pe.atomwise.0         38.0  1.118816e+00  2.365646e+00  0.0  0.0   \n",
       "smiles-pe.bpe.0              38.0  7.278354e-01  1.773662e+00  0.0  0.0   \n",
       "\n",
       "                                                               enrich-10-std  \\\n",
       "                               50%           75%           max         count   \n",
       "model                                                                          \n",
       "Vina                           NaN           NaN           NaN           0.0   \n",
       "ecfp                  0.000000e+00  7.105427e-15  1.793578e+00          38.0   \n",
       "mlp                   0.000000e+00  7.105427e-15  8.282396e+00          38.0   \n",
       "rf                    0.000000e+00  7.105427e-15  1.421085e-14          38.0   \n",
       "rp                    0.000000e+00  7.105427e-15  9.238372e-01          38.0   \n",
       "selfies.atomwise      7.105427e-15  1.147998e+00  7.434926e+00          38.0   \n",
       "smiles-pe.atomwise.0  4.440892e-16  1.179253e+00  1.021532e+01          38.0   \n",
       "smiles-pe.bpe.0       0.000000e+00  7.105427e-15  6.687500e+00          38.0   \n",
       "\n",
       "                                                                     \\\n",
       "                              mean           std  min           25%   \n",
       "model                                                                 \n",
       "Vina                           NaN           NaN  NaN           NaN   \n",
       "ecfp                  1.941830e-02  4.035053e-02  0.0  0.000000e+00   \n",
       "mlp                   8.525197e-02  2.010683e-01  0.0  0.000000e+00   \n",
       "rf                    5.375817e-16  8.140152e-16  0.0  0.000000e+00   \n",
       "rp                    2.595306e-02  9.588627e-02  0.0  0.000000e+00   \n",
       "selfies.atomwise      1.475649e-01  2.055399e-01  0.0  2.220446e-16   \n",
       "smiles-pe.atomwise.0  1.431214e-01  1.567982e-01  0.0  1.776357e-15   \n",
       "smiles-pe.bpe.0       1.855583e-01  1.959551e-01  0.0  1.776357e-15   \n",
       "\n",
       "                                                                \n",
       "                               50%           75%           max  \n",
       "model                                                           \n",
       "Vina                           NaN           NaN           NaN  \n",
       "ecfp                  1.776357e-15  1.776357e-15  1.386452e-01  \n",
       "mlp                   1.776357e-15  6.820738e-02  9.198241e-01  \n",
       "rf                    0.000000e+00  1.776357e-15  1.776357e-15  \n",
       "rp                    0.000000e+00  1.776357e-15  5.632749e-01  \n",
       "selfies.atomwise      7.984275e-02  2.012886e-01  1.018350e+00  \n",
       "smiles-pe.atomwise.0  1.018448e-01  1.991971e-01  7.250000e-01  \n",
       "smiles-pe.bpe.0       1.586279e-01  2.691692e-01  7.430556e-01  "
      ]
     },
     "execution_count": 33,
     "metadata": {},
     "output_type": "execute_result"
    }
   ],
   "source": [
    "model_metric_df.groupby('model').describe()[['enrich-1-std', 'enrich-10-std']]"
   ]
  },
  {
   "cell_type": "code",
   "execution_count": null,
   "metadata": {},
   "outputs": [],
   "source": [
    "# model_metric_df.groupby('model').describe()['latency']['mean']['ecfp'] +\\\n",
    "# model_metric_df.groupby('model').describe()['latency']['mean']['rp'] +\\\n",
    "# model_metric_df.groupby('model').describe()['latency']['mean']['ecfp']"
   ]
  },
  {
   "cell_type": "code",
   "execution_count": null,
   "metadata": {},
   "outputs": [],
   "source": []
  },
  {
   "cell_type": "code",
   "execution_count": null,
   "metadata": {},
   "outputs": [],
   "source": []
  },
  {
   "cell_type": "code",
   "execution_count": null,
   "metadata": {},
   "outputs": [],
   "source": []
  },
  {
   "cell_type": "code",
   "execution_count": null,
   "metadata": {},
   "outputs": [],
   "source": []
  },
  {
   "cell_type": "code",
   "execution_count": null,
   "metadata": {},
   "outputs": [],
   "source": []
  },
  {
   "cell_type": "code",
   "execution_count": null,
   "metadata": {},
   "outputs": [],
   "source": []
  },
  {
   "cell_type": "code",
   "execution_count": null,
   "metadata": {},
   "outputs": [],
   "source": []
  },
  {
   "cell_type": "code",
   "execution_count": null,
   "metadata": {},
   "outputs": [],
   "source": []
  },
  {
   "cell_type": "code",
   "execution_count": null,
   "metadata": {},
   "outputs": [],
   "source": []
  },
  {
   "cell_type": "code",
   "execution_count": null,
   "metadata": {},
   "outputs": [],
   "source": []
  },
  {
   "cell_type": "code",
   "execution_count": null,
   "metadata": {},
   "outputs": [],
   "source": []
  },
  {
   "cell_type": "code",
   "execution_count": null,
   "metadata": {},
   "outputs": [],
   "source": []
  },
  {
   "cell_type": "markdown",
   "metadata": {},
   "source": [
    "# OpenHD speedup\n",
    "\n",
    "for now (03/15/23), the current openhd results are stored here: "
   ]
  },
  {
   "cell_type": "code",
   "execution_count": null,
   "metadata": {},
   "outputs": [],
   "source": [
    "model_metric_df"
   ]
  },
  {
   "cell_type": "code",
   "execution_count": null,
   "metadata": {},
   "outputs": [],
   "source": [
    "model_metric_df[\"latency_per_mol\"] = model_metric_df.apply(lambda x: x[\"test_time\"]/x[\"test_size\"], axis=1)"
   ]
  },
  {
   "cell_type": "code",
   "execution_count": null,
   "metadata": {},
   "outputs": [],
   "source": [
    "model_metric_df[model_metric_df[\"model\"] == \"mlp\"]"
   ]
  },
  {
   "cell_type": "code",
   "execution_count": null,
   "metadata": {},
   "outputs": [],
   "source": [
    "model_metric_df[model_metric_df[\"model\"] == \"ecfp\"]"
   ]
  },
  {
   "cell_type": "code",
   "execution_count": null,
   "metadata": {},
   "outputs": [],
   "source": [
    "for group_name, group_df in model_metric_df.groupby(\"model\"):\n",
    "    print(group_name, group_df.shape)\n"
   ]
  },
  {
   "cell_type": "code",
   "execution_count": null,
   "metadata": {
    "scrolled": false
   },
   "outputs": [],
   "source": [
    "f, ax = plt.subplots(1,1, figsize=(14,8))\n",
    "\n",
    "# for group_name, group_df in model_metric_df.groupby(\"model\"):\n",
    "#     sns.boxplot(data=group_df, x=\"train_time\", ax=ax)\n",
    "g = sns.boxplot(data=model_metric_df[model_metric_df[\"model\"] != \"Vina\"], x=\"model\", y=\"train_time\", ax=ax, palette=color_dict)\n",
    "ax.tick_params(axis=\"x\", labelrotation=22.5)\n",
    "g.set_yscale(\"log\")"
   ]
  },
  {
   "cell_type": "code",
   "execution_count": null,
   "metadata": {},
   "outputs": [],
   "source": [
    "group_dict = {group_name: group_df for group_name, group_df in model_metric_df.groupby('model')}"
   ]
  },
  {
   "cell_type": "code",
   "execution_count": null,
   "metadata": {},
   "outputs": [],
   "source": [
    "# group_dict[\"rp\"][\"train_time\"].mean() / group_dict[\"openhd-rp\"][\"train_time\"].mean()"
   ]
  },
  {
   "cell_type": "code",
   "execution_count": null,
   "metadata": {},
   "outputs": [],
   "source": [
    "# group_dict[\"ecfp\"][\"train_time\"].mean() / group_dict[\"openhd-ecfp\"][\"train_time\"].mean()"
   ]
  },
  {
   "cell_type": "code",
   "execution_count": null,
   "metadata": {},
   "outputs": [],
   "source": [
    "f, ax = plt.subplots(1,1, figsize=(14,8))\n",
    "\n",
    "g = sns.boxplot(data=model_metric_df[model_metric_df[\"model\"] != \"Vina\"], x=\"model\", y=\"test_time\", ax=ax, palette=color_dict)\n",
    "ax.tick_params(axis=\"x\", labelrotation=22.5)\n",
    "g.set_yscale(\"log\")"
   ]
  },
  {
   "cell_type": "code",
   "execution_count": null,
   "metadata": {},
   "outputs": [],
   "source": [
    "# sns.lineplot(data=model_metric_df, x=\"model\", y=\"test_time\")"
   ]
  },
  {
   "cell_type": "code",
   "execution_count": null,
   "metadata": {},
   "outputs": [],
   "source": [
    "group_dict[\"rf\"][\"test_time\"].mean() / group_dict[\"rf\"][\"test_size\"].mean()"
   ]
  },
  {
   "cell_type": "code",
   "execution_count": null,
   "metadata": {},
   "outputs": [],
   "source": [
    "group_dict[\"mlp\"][\"test_time\"].mean() / group_dict[\"rf\"][\"test_size\"].mean()"
   ]
  },
  {
   "cell_type": "code",
   "execution_count": null,
   "metadata": {},
   "outputs": [],
   "source": [
    "group_dict[\"ecfp\"][\"test_time\"].mean() / group_dict[\"rf\"][\"test_size\"].mean()"
   ]
  },
  {
   "cell_type": "code",
   "execution_count": null,
   "metadata": {},
   "outputs": [],
   "source": [
    "# group_dict[\"openhd-ecfp\"][\"test_time\"].mean() / group_dict[\"rf\"][\"test_size\"].mean()"
   ]
  },
  {
   "cell_type": "code",
   "execution_count": null,
   "metadata": {},
   "outputs": [],
   "source": []
  },
  {
   "cell_type": "code",
   "execution_count": null,
   "metadata": {},
   "outputs": [],
   "source": [
    "f, ax = plt.subplots(1,1, figsize=(14,8))\n",
    "\n",
    "g = sns.boxplot(data=model_metric_df[model_metric_df[\"model\"] != \"Vina\"], x=\"model\", y=\"latency_per_mol\", ax=ax, palette=color_dict)\n",
    "ax.tick_params(axis=\"x\", labelrotation=22.5)\n",
    "g.set_yscale(\"log\")"
   ]
  },
  {
   "cell_type": "code",
   "execution_count": null,
   "metadata": {},
   "outputs": [],
   "source": []
  },
  {
   "cell_type": "code",
   "execution_count": null,
   "metadata": {},
   "outputs": [],
   "source": [
    "group_dict[\"ecfp\"][\"test_time\"].mean() / group_dict[\"openhd-ecfp\"][\"test_time\"].mean()"
   ]
  },
  {
   "cell_type": "code",
   "execution_count": null,
   "metadata": {},
   "outputs": [],
   "source": [
    "group_dict[\"rp\"][\"test_time\"].mean() / group_dict[\"openhd-rp\"][\"test_time\"].mean()"
   ]
  },
  {
   "cell_type": "code",
   "execution_count": null,
   "metadata": {},
   "outputs": [],
   "source": []
  },
  {
   "cell_type": "code",
   "execution_count": null,
   "metadata": {},
   "outputs": [],
   "source": [
    "group_dict[\"rp\"][\"test_time\"].mean()"
   ]
  },
  {
   "cell_type": "code",
   "execution_count": null,
   "metadata": {},
   "outputs": [],
   "source": [
    "for group_name in group_dict.keys():\n",
    "    print(f\"{group_name}-{group_dict[group_name]['train_time'].mean()}\")"
   ]
  },
  {
   "cell_type": "code",
   "execution_count": null,
   "metadata": {},
   "outputs": [],
   "source": [
    "for group_name in group_dict.keys():\n",
    "    print(f\"{group_name}-{group_dict[group_name]['test_time'].mean()}\")"
   ]
  },
  {
   "cell_type": "code",
   "execution_count": null,
   "metadata": {},
   "outputs": [],
   "source": []
  },
  {
   "cell_type": "code",
   "execution_count": null,
   "metadata": {},
   "outputs": [],
   "source": []
  },
  {
   "cell_type": "code",
   "execution_count": null,
   "metadata": {},
   "outputs": [],
   "source": []
  }
 ],
 "metadata": {
  "kernelspec": {
   "display_name": "dtra_reactivator",
   "language": "python",
   "name": "dtra_reactivator"
  },
  "language_info": {
   "codemirror_mode": {
    "name": "ipython",
    "version": 3
   },
   "file_extension": ".py",
   "mimetype": "text/x-python",
   "name": "python",
   "nbconvert_exporter": "python",
   "pygments_lexer": "ipython3",
   "version": "3.8.12"
  }
 },
 "nbformat": 4,
 "nbformat_minor": 4
}
