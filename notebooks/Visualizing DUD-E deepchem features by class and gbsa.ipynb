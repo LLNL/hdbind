{
 "cells": [
  {
   "cell_type": "code",
   "execution_count": 3,
   "metadata": {},
   "outputs": [],
   "source": [
    "from pathlib import Path\n",
    "from sklearn.decomposition import PCA\n",
    "from sklearn.preprocessing import StandardScaler\n",
    "import numpy as np\n",
    "from tqdm import tqdm \n",
    "import pandas as pd\n",
    "import matplotlib.pyplot as plt\n",
    "import seaborn as sns\n",
    "sns.set_style('whitegrid')"
   ]
  },
  {
   "cell_type": "code",
   "execution_count": 65,
   "metadata": {},
   "outputs": [],
   "source": [
    "def load_and_plot_pca(path, outdir, hue, output=False, label_type=\"class\"):\n",
    "    feat_type = path.parent.name\n",
    "    target = path.parent.parent.name\n",
    "    title = f\"{target}-{feat_type}\"\n",
    "    data = np.load(path)\n",
    "    \n",
    "    x = data[:, :-1]\n",
    "    x = StandardScaler().fit_transform(x)\n",
    "    y = data[:, -1]\n",
    "    pca = PCA(n_components=2)\n",
    "    comps = pca.fit_transform(x)\n",
    "    \n",
    "    df = pd.DataFrame(comps,columns=[\"comp_0\", \"comp_1\"])\n",
    "    df[hue] = y\n",
    "    f, ax = plt.subplots(figsize=(7,7))    \n",
    "    \n",
    "    if label_type==\"class\":\n",
    "#         alpha = np.zeros(df.shape[0])\n",
    "#         print(alpha.shape)\n",
    "#         alpha[y ==1] = 0.2\n",
    "#         alpha[y ==0] = 0.8\n",
    "        for group in df.groupby('decoy'):\n",
    "            group_label, group_df = group\n",
    "            if group_label == 0:\n",
    "                sns.scatterplot(x=\"comp_0\", y=\"comp_1\", data=group_df, ax=ax, s=5, alpha=1, color=\"red\")\n",
    "            elif group_label == 1:\n",
    "                sns.scatterplot(x=\"comp_0\", y=\"comp_1\", data=group_df, ax=ax, s=1, alpha=0.25, color=\"blue\")\n",
    "            \n",
    "    else:\n",
    "        sns.scatterplot(x=\"comp_0\", y=\"comp_1\", data=df, hue=hue, ax=ax, s=5)\n",
    "        \n",
    "    ax.set_title(title)\n",
    "    \n",
    "    if output:\n",
    "        output_path = Path(f\"{outdir}/{title}.png\")\n",
    "        if not output_path.exists():\n",
    "            output_path.parent.mkdir(exist_ok=True)\n",
    "        plt.savefig(output_path, dpi=300)\n",
    "        plt.close(f)"
   ]
  },
  {
   "cell_type": "markdown",
   "metadata": {},
   "source": [
    "## Label By Class"
   ]
  },
  {
   "cell_type": "code",
   "execution_count": 70,
   "metadata": {},
   "outputs": [],
   "source": [
    "from tqdm import tqdm \n",
    "\n",
    "def main_class(output):\n",
    "    p = Path(\"/usr/WS1/jones289/hd-cuda-master/datasets/dude/deepchem_feats\")\n",
    "    path_list = list(p.glob(\"**/data.npy\"))\n",
    "\n",
    "    for path in tqdm(path_list):\n",
    "        load_and_plot_pca(path, outdir=\"dude_figs\", hue='decoy', output=output, label_type=\"class\")\n",
    "\n",
    "def main_reg(output):\n",
    "    p = Path(\"/usr/WS1/jones289/hd-cuda-master/datasets/dude/deepchem_feats_labeled_by_gbsa/\")\n",
    "    path_list = list(p.glob(\"**/data.npy\"))\n",
    "    for path in tqdm(path_list):\n",
    "        load_and_plot_pca(path, output_dir=\"dude_gbsa_figs\", hue=\"best_gbsa_score\", output=output, label_type=\"reg\")\n"
   ]
  },
  {
   "cell_type": "code",
   "execution_count": 71,
   "metadata": {
    "scrolled": false
   },
   "outputs": [
    {
     "name": "stderr",
     "output_type": "stream",
     "text": [
      "100%|██████████| 242/242 [13:30<00:00,  3.35s/it]\n"
     ]
    }
   ],
   "source": [
    "main_class(output=True)"
   ]
  },
  {
   "cell_type": "code",
   "execution_count": null,
   "metadata": {},
   "outputs": [],
   "source": []
  }
 ],
 "metadata": {
  "kernelspec": {
   "display_name": "md",
   "language": "python",
   "name": "md"
  },
  "language_info": {
   "codemirror_mode": {
    "name": "ipython",
    "version": 3
   },
   "file_extension": ".py",
   "mimetype": "text/x-python",
   "name": "python",
   "nbconvert_exporter": "python",
   "pygments_lexer": "ipython3",
   "version": "3.8.3"
  }
 },
 "nbformat": 4,
 "nbformat_minor": 4
}
