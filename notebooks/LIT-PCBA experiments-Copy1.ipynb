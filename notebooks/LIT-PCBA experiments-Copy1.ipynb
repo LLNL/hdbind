{
 "cells": [
  {
   "cell_type": "markdown",
   "metadata": {},
   "source": [
    "# LIT-PCBA \n",
    "this dataset is a proposed \"more difficult\" test than DUD-E. I used a 75/25 (sklearn default) stratified split. The dataset is heavily imbalanced, like DUD-E.\n",
    "\n",
    "- UPDATE: I'm using the AVE split now"
   ]
  },
  {
   "cell_type": "code",
   "execution_count": 1,
   "metadata": {},
   "outputs": [],
   "source": [
    "import pickle\n",
    "from sklearn.metrics import roc_auc_score\n",
    "import numpy as np\n",
    "import seaborn as sns\n",
    "import torch\n",
    "import seaborn as sns\n",
    "from tqdm import tqdm\n",
    "import pandas as pd\n",
    "from pathlib import Path\n",
    "from sklearn.metrics import f1_score, recall_score\n",
    "import matplotlib.pyplot as plt\n",
    "import sys\n",
    "# sys.path.append('..')\n",
    "sys.path.insert(0, \"/g/g13/jones289/workspace/hd-cuda-master\")\n",
    "# print(sys.path)\n",
    "import hdpy\n",
    "import hdpy.ecfp\n",
    "# from hdpy.analysis import load_pkl\n",
    "from hdpy.metrics import compute_enrichment_factor\n",
    "from pathlib import Path\n",
    "\n",
    "\n",
    "plt.rc('text', usetex=True)\n",
    "plt.rc('font', family='serif')\n",
    "plt.rc('xtick', labelsize=15)\n",
    "plt.rc('ytick', labelsize=15)\n",
    "plt.rc('axes', labelsize=17)\n",
    "plt.rc('figure', titlesize=20)\n",
    "\n",
    "\n",
    "# SEED=125\n",
    "SEED=5\n",
    "# SEED=6\n",
    "# SEED=7\n",
    "# SEED=8\n",
    "# SEED=2\n",
    "\n",
    "#TODO: rename to result_p \n",
    "data_p = Path(f\"/p/vast1/jones289/hd_results/{SEED}\")\n",
    "\n",
    "lit_pcba_full_data_p = Path(f\"/p/vast1/jones289/lit_pcba/lit_pcba_full_data\")"
   ]
  },
  {
   "cell_type": "code",
   "execution_count": 2,
   "metadata": {},
   "outputs": [],
   "source": [
    "green_color_pal = sns.color_palette(\"Greens\", 10)\n",
    "blue_color_pal = sns.color_palette(\"Blues\", 10)\n",
    "rocket_color_pal = sns.color_palette(\"rocket\", 10)"
   ]
  },
  {
   "cell_type": "code",
   "execution_count": 3,
   "metadata": {},
   "outputs": [],
   "source": [
    "# model_dict = {\n",
    "#     \"molehd-bpe\": (\"MoleHD-BPE\", rocket_color_pal[4]),\n",
    "#     \"hdbind-rp-molformer\": (\"HDBind+MolFormer-10k\", green_color_pal[6]),\n",
    "#     \"hdbind-rp-molformer-100k\": (\"HDBind+MolFormer-100k\", green_color_pal[6]),\n",
    "#     \"hdbind-rp-ecfp-1024-1-100\": (\"HDBind+ECFP-100\", green_color_pal[6]),\n",
    "#     \"hdbind-rp-ecfp-1024-1-1k\": (\"HDBind+ECFP-1k\", green_color_pal[6]),\n",
    "#     \"hdbind-rp-ecfp-1024-1\": (\"HDBind+ECFP-10k\", green_color_pal[6]),\n",
    "#     \"hdbind-rp-ecfp-1024-1-100k\": (\"HDBind+ECFP-100k\", green_color_pal[6]),\n",
    "#     \"hdbind-rp-ecfp-1024-1-1m\": (\"HDBind+ECFP-1m\", green_color_pal[6]),    \n",
    "#     \"mlp-1024-1\": (\"MLP\", blue_color_pal[7]),\n",
    "#     \"Vina\": (\"Vina\", \"salmon\"),\n",
    "# }\n",
    "model_dict = {\n",
    "    \"molehd-bpe\": (\"MoleHD-BPE\", rocket_color_pal[4]),\n",
    "    \"hdbind-rp-ecfp-1024-1\": (\"HDB-ECFP-10k\", green_color_pal[6]),\n",
    "    \"hdbind-rp-ecfp-1024-1-100k\": (\"HDB-ECFP-100k\", green_color_pal[6]),\n",
    "    \"hdbind-rp-molclr\":  (\"HDB-MolCLR-10k\", green_color_pal[4]),\n",
    "    \"hdbind-rp-molclr-100k\":  (\"HDB-MolCLR-100k\", green_color_pal[4]),\n",
    "    \"hdbind-rp-molformer\": (\"HDB-MolFormer-10k\", green_color_pal[6]),\n",
    "    \"hdbind-rp-molformer-100k\": (\"HDB-MolFormer-100k\", green_color_pal[6]),\n",
    "#     \"hdbind-rp-ecfp-1024-1-100\": (\"HDBind+ECFP-100\", green_color_pal[6]),\n",
    "#     \"hdbind-rp-ecfp-1024-1-1k\": (\"HDBind+ECFP-1k\", green_color_pal[6]),\n",
    "#     \"hdbind-rp-ecfp-1024-1-1m\": (\"HDBind+ECFP-1m\", green_color_pal[6]),    \n",
    "    \"mlp-1024-1\": (\"MLP\", blue_color_pal[7]),\n",
    "    \"Vina\": (\"Vina\", \"salmon\"),\n",
    "}"
   ]
  },
  {
   "cell_type": "markdown",
   "metadata": {},
   "source": [
    "# LIT-PCBA Results"
   ]
  },
  {
   "cell_type": "markdown",
   "metadata": {},
   "source": [
    "export CONDA_ROOT=/usr/workspace/jones289/anaconda3-power #installed using the LC installer script\n",
    "export PATH=$CONDA_ROOT/bin:$PATH\n",
    "export CONDA_EXE=$CONDA_ROOT/bin/conda\n",
    "ml load gcc/11\n",
    "export PYTHONPATH=$PWD:$PYTHONPATH\n",
    "source activate /usr/workspace/jones289/anaconda3-power/envs/opence-1.8.0"
   ]
  },
  {
   "cell_type": "code",
   "execution_count": 4,
   "metadata": {},
   "outputs": [],
   "source": [
    "from sklearn.metrics import recall_score, precision_score, f1_score, roc_auc_score\n",
    "\n",
    "\n",
    "def compute_metrics(y_pred, y_score, y_true, p):\n",
    "#     import pdb\n",
    "#     pdb.set_trace()\n",
    "\n",
    "\n",
    "    if y_score.squeeze().ndim == 2:\n",
    "        enrich = float(compute_enrichment_factor(scores=y_score[:, 1], labels=y_true, n_percent=p))\n",
    "        roc = roc_auc_score(y_score=y_score[:, 1], y_true=y_true)\n",
    "    else:\n",
    "        enrich = float(compute_enrichment_factor(scores=y_score, labels=y_true, n_percent=p))\n",
    "        roc = roc_auc_score(y_score=y_score, y_true=y_true)\n",
    "\n",
    "    \n",
    "    \n",
    "    return {\"precision\": precision_score(y_pred=y_pred, y_true=y_true, zero_division=0),\n",
    "            \"recall\": recall_score(y_pred=y_pred, y_true=y_true),\n",
    "           \"f1\": f1_score(y_pred=y_pred, y_true=y_true, zero_division=0),\n",
    "            \"enrich\": enrich,            \n",
    "           \"roc\": roc\n",
    "           }\n",
    "\n",
    "\n",
    "def aggregate_results(dataset, split, target_list=None):\n",
    "    assert target_list is not None\n",
    "#     import pdb\n",
    "#     pdb.set_trace() \n",
    "    \n",
    "#     if split == \"random\":\n",
    "#         raise NotImplementedError # rename the files with \"-random\" to be consistent\n",
    "        \n",
    "    \n",
    "    model_metric_dict = {\"model\": [], \"enrich\": [], \"p\":[], \"train_time\":[], \"test_time\": [], \"target\": [],\n",
    "                        \"seed\": [], \"recall\": [], \"precision\": [], \"f1\": [], \n",
    "#                          \"smiles\": []\n",
    "                        }\n",
    "\n",
    "\n",
    "    for model_name, model_tup in tqdm(model_dict.items(), total=len(model_dict), position=0):\n",
    "                        \n",
    "\n",
    "        data_path_list = list(data_p.glob(f\"{model_name}.{dataset}-*-{split}*.pkl\"))\n",
    "#         print(f\"{model_name}\\t{dataset}\\t{len(model_tup)}\\t {len(data_path_list)}\")\n",
    "\n",
    "        \n",
    "        for path in tqdm(data_path_list, total=len(data_path_list), position=1):\n",
    "            target = path.name.split(\".\")[1].split(\"-\")[-2]\n",
    "            print(target, path, model_name)\n",
    "\n",
    "            if target in target_list or target_list == \"all\":\n",
    "                pass\n",
    "            else:\n",
    "                continue\n",
    "            \n",
    "            model_data_dict = torch.load(path)\n",
    "            \n",
    "            # apparently we have duplicates in the test set...\n",
    "            \n",
    "\n",
    "            for seed in range(len(model_data_dict['trials'])):\n",
    "\n",
    "    \n",
    "                \n",
    "                trial_dict = model_data_dict['trials'][seed]\n",
    "            \n",
    "            \n",
    "\n",
    "                for p in [.01, .1]:\n",
    "\n",
    "                    try:\n",
    "\n",
    "                        \n",
    "                        y_pred = trial_dict[\"y_pred\"]\n",
    "                        y_score = trial_dict[\"eta\"]\n",
    "                        \n",
    "                        if model_name == \"mlp\":\n",
    "                            y_score = y_score[:, 1]\n",
    "                        \n",
    "                        \n",
    "#                         y_true = model_data_dict[\"y_test\"]\n",
    "                        y_true = trial_dict[\"y_true\"]\n",
    "\n",
    "\n",
    "                        # TODO: there are some issues with the number of smiles not lining up with the number of predictions/etc...\n",
    "#                         import pdb\n",
    "#                         pdb.set_trace()\n",
    "                        print(f\"y_pred: {y_pred.shape}\\ty_score: {y_score.shape}\\ty_true: {y_true.shape}\")\n",
    "\n",
    "                        \n",
    "                        \n",
    "                        metrics = compute_metrics(y_pred=y_pred, \n",
    "                                                  y_score=y_score, \n",
    "                                                  y_true=y_true,\n",
    "                                                 p=p)\n",
    "\n",
    "                        \n",
    "                        \n",
    "                        \n",
    "                        \n",
    "                        \n",
    "                        \n",
    "                        model_metric_dict[\"target\"].append(target)\n",
    "                        model_metric_dict[\"test_time\"].append(trial_dict[\"test_time\"])\n",
    "                        model_metric_dict[\"enrich\"].append(metrics[\"enrich\"])\n",
    "                        model_metric_dict[\"p\"].append(p)\n",
    "                        model_metric_dict[\"seed\"].append(seed)\n",
    "                        model_metric_dict[\"precision\"].append(metrics[\"precision\"])\n",
    "                        model_metric_dict[\"recall\"].append(metrics[\"recall\"])\n",
    "                        model_metric_dict[\"f1\"].append(metrics[\"f1\"])\n",
    "                        model_metric_dict[\"model\"].append(model_name)\n",
    "#                         model_metric_dict[\"smiles\"].append(model_data_dict[\"smiles_test\"])\n",
    "                        \n",
    "                    except Exception as e:\n",
    "                        print(e)\n",
    "\n",
    "\n",
    "    model_metric_df = pd.DataFrame({key: value for key, value in model_metric_dict.items() if key not in [\"train_time\", \"test_time\", \"precision\", \"recall\", \"f1\"]})\n",
    "\n",
    "#     import pdb\n",
    "#     pdb.set_trace()\n",
    "    return model_metric_df\n",
    "        \n"
   ]
  },
  {
   "cell_type": "markdown",
   "metadata": {},
   "source": [
    "# VINA result"
   ]
  },
  {
   "cell_type": "code",
   "execution_count": 5,
   "metadata": {},
   "outputs": [],
   "source": [
    "from pathlib import Path\n",
    "\n",
    "def load_lit_pcba_vina(nrows=None, split=None, target_list=None):\n",
    "\n",
    "    \n",
    "#     assert target_list is not None\n",
    "    assert split is not None\n",
    "\n",
    "\n",
    "\n",
    "    root_p = Path(\"/p/lustre2/ahashare/zhang30/LIT-PCBA-Data/\")\n",
    "    lig_map_p = Path(\"/p/lustre2/ahashare/zhang30/LIT-PCBA-Data/lig_rec/\")\n",
    "#     /p/lustre2/ahashare/zhang30/LIT-PCBA-Data/lig_rec/ # this path stores the map between conveyor and the original files\n",
    "    \n",
    "    path_list = [path for path in root_p.glob(\"*-actives.csv\")]\n",
    "#     print(len(path_list))\n",
    "\n",
    "    df_list = []\n",
    "\n",
    "    for idx, path in tqdm(enumerate(path_list), total=len(path_list)):\n",
    "        \n",
    "#         import pdb\n",
    "#         pdb.set_trace()\n",
    "        target = path.name.split(\".\")[0].split(\"-\")[0]\n",
    "#         print(target, target_list, (target in target_list))\n",
    "        if target in target_list or target_list == \"all\":\n",
    "\n",
    "        \n",
    "            active_lig_map = pd.read_csv(lig_map_p / f\"lig-{target}-actives.csv\")\n",
    "            inactive_lig_map = pd.read_csv(lig_map_p / f\"lig-{target}-inactives.csv\")\n",
    "\n",
    "            lig_map = pd.concat([active_lig_map, inactive_lig_map])\n",
    "\n",
    "            \n",
    "#             import pdb\n",
    "#             pdb.set_trace()\n",
    "            active_smiles_df = pd.read_csv(f\"{lit_pcba_full_data_p}/{target}/actives.smi\", delim_whitespace=True, header=None)\n",
    "            inactive_smiles_df = pd.read_csv(f\"{lit_pcba_full_data_p}/{target}/inactives.smi\", delim_whitespace=True, header=None)\n",
    "            smiles_df = pd.concat([active_smiles_df, inactive_smiles_df])\n",
    "\n",
    "            input_num_mols = smiles_df.shape[0]\n",
    "\n",
    "\n",
    "            # Filter out the test set smiles strings\n",
    "\n",
    "            test_smiles_path = f\"/p/vast1/jones289/hd_results/{SEED}/hdbind-rp-molformer.lit-pcba-{target}-{split}.{SEED}.pkl\"         \n",
    "            print(test_smiles_path)\n",
    "            test_smiles = torch.load(test_smiles_path)[\"smiles_test\"]\n",
    "\n",
    "#             import pdb\n",
    "#             pdb.set_trace()\n",
    "\n",
    "            # TODO: there's missing docking data?\n",
    "            smiles_df = pd.merge(smiles_df, pd.DataFrame({0: test_smiles}), on=0)\n",
    "\n",
    "            smiles_df = smiles_df.drop_duplicates(subset=[0])\n",
    "\n",
    "            print(f\"started with {input_num_mols} molecules for {target}, after merging with available docking data, have {smiles_df.shape[0]}/{len(test_smiles)} in test set\")\n",
    "\n",
    "\n",
    "\n",
    "    #         smiles_df = smiles_df[smiles_df[1].apply(lambda x: x in test_smiles.values)]\n",
    "\n",
    "\n",
    "\n",
    "\n",
    "\n",
    "            target_df = pd.merge(lig_map, smiles_df, left_on=\" name\", right_on=1)\n",
    "\n",
    "            # dock_score_cols = {idx: value for idx,value in enumerate([\"file\", \"key\", \"Mesg\", \"Box/cx\", \"Box/cy\", \"Box/cz\", \"Box/dx\", \"Box/dy\", \"Box/dz\", \n",
    "                        #    \"ligName\", \n",
    "                        #    \"numPose\", \n",
    "                        #    \"scores/1\", \n",
    "                        #    \"scores/2\", \n",
    "                        #    \"scores/3\", \n",
    "                        #    \"scores/4\", \n",
    "                        #    \"scores/5\", \n",
    "                        #    \"scores/6\", \n",
    "                        #    \"scores/7\", \n",
    "                        #    \"scores/8\", \n",
    "                        #    \"scores/9\", \n",
    "                        #    \"scores/10\", \n",
    "                        #    \"Box/default\"])}\n",
    "            lig_id_col = 9\n",
    "            active_dock_scores = pd.read_csv(root_p / Path(f\"{target}-actives.csv.clean\"), header=None)\n",
    "            active_dock_scores[\"label\"] = [1] * len(active_dock_scores)\n",
    "\n",
    "            inactive_dock_scores = pd.read_csv(root_p / Path(f\"{target}-inactives.csv.clean\"), header=None)\n",
    "            inactive_dock_scores[\"label\"] = [0] * len(inactive_dock_scores)\n",
    "            dock_scores = pd.concat([active_dock_scores, inactive_dock_scores])\n",
    "\n",
    "\n",
    "            dock_scores['min_vina'] = dock_scores[dock_scores.columns[11:21]].min(axis=1)\n",
    "\n",
    "\n",
    "            dock_scores = dock_scores.groupby(lig_id_col)[[lig_id_col, 'min_vina', 'label']].min().reset_index(drop=True)\n",
    "\n",
    "\n",
    "            target_df = pd.merge(dock_scores, target_df, left_on=9, right_on=\" name\")\n",
    "\n",
    "            target_df[\"target\"] = [target] * len(target_df)\n",
    "\n",
    "            # compute enrichment at 1% and 10%\n",
    "\n",
    "\n",
    "\n",
    "\n",
    "    #         import pdb\n",
    "    #         pdb.set_trace() \n",
    "\n",
    "            df_list.append(target_df)\n",
    "        else:\n",
    "            pass\n",
    "\n",
    "\n",
    "    df = pd.concat(df_list)\n",
    "    return df\n"
   ]
  },
  {
   "cell_type": "code",
   "execution_count": 6,
   "metadata": {},
   "outputs": [],
   "source": [
    "\n",
    "def make_box_plot(enrich_1_df, enrich_10_df, dataset:str, split:str):\n",
    "    \n",
    "    enrich_f, enrich_ax = plt.subplots(2,1, figsize=(12,10), sharex=True, sharey=False)\n",
    "    enrich_ax = enrich_ax.flatten()\n",
    "    enrich_1_ax, enrich_10_ax = enrich_ax[0], enrich_ax[1]\n",
    "    \n",
    "    \n",
    "    enrich_f.suptitle(f\"{dataset.upper()} ({split})\")\n",
    "    \n",
    "    \n",
    "    sns.swarmplot(data=enrich_1_df, x=\"model\", y=\"enrich\", \n",
    "                  order=list(model_dict.keys()),\n",
    "                  palette={key: value[1] for key, value in model_dict.items()},\n",
    "                  ax=enrich_1_ax)\n",
    "    enrich_1_ax.set_title(f\"Enrichment at 1\\%\", fontdict={\"fontsize\": 18})\n",
    "    enrich_1_ax.set_xlabel(\"\")\n",
    "    enrich_1_ax.set_ylabel(\"\")\n",
    "    enrich_1_ax.tick_params(axis=\"x\", labelrotation=22.5)\n",
    "\n",
    "    enrich_1_ax.set_ylabel(\"EF\")\n",
    "\n",
    "    plt.tight_layout()\n",
    "\n",
    "        \n",
    "    sns.swarmplot(data=enrich_10_df, x=\"model\", y=\"enrich\",\n",
    "                  order=list(model_dict.keys()),\n",
    "                  palette={key: value[1] for key, value in model_dict.items()},\n",
    "                  ax=enrich_10_ax)\n",
    "\n",
    "    enrich_10_ax.set_title(f\"Enrichment at 10\\%\", fontdict={\"fontsize\": 18})\n",
    "    enrich_10_ax.set_xlabel(\"\")\n",
    "    enrich_10_ax.set_ylabel(\"\")\n",
    "    enrich_10_ax.tick_params(axis=\"x\", labelrotation=22.5)\n",
    "    labels = [model_dict[item.get_text()][0] for item in enrich_10_ax.get_xticklabels()]\n",
    "\n",
    "    enrich_10_ax.set_xticklabels(labels)\n",
    "    enrich_ax[0].set_ylabel(\"EF\")\n",
    "    enrich_ax[1].set_ylabel(\"EF\")\n",
    "\n",
    "    plt.tight_layout()\n",
    "\n",
    "    enrich_f.savefig(f\"{dataset}-{split}-enrich.png\", dpi=600, bbox_inches=\"tight\")\n",
    "\n",
    "\n",
    "\n",
    "\n",
    "\n",
    "def compute_model_metric_df(dataset, split, target_list=None):\n",
    "    \n",
    "    assert target_list is not None\n",
    "    \n",
    "    docking_df = load_lit_pcba_vina(target_list=target_list, split=split)\n",
    "\n",
    "    \n",
    "    model_metric_df = aggregate_results(dataset=dataset,\n",
    "                                        split=split, target_list=target_list)\n",
    "    \n",
    "\n",
    "    docking_dict = {\"enrich\": [], \"p\": [], \"model\": [], \"target\": []}\n",
    "\n",
    "    vina_col='min_vina'\n",
    "    label_col = \"label\"\n",
    "    for target, target_df in docking_df.groupby(\"target\"):\n",
    "\n",
    "        for p in [.1, .01]:\n",
    "            enrich = compute_enrichment_factor(scores=np.abs(target_df[vina_col]), \n",
    "                                      labels=target_df[label_col], \n",
    "                                      n_percent=p)\n",
    "\n",
    "            docking_dict[\"enrich\"].append(float(enrich))\n",
    "            docking_dict[\"p\"].append(p)\n",
    "            docking_dict[\"model\"].append(\"Vina\")\n",
    "            docking_dict[\"target\"].append(target)\n",
    "           \n",
    "    model_metric_df = pd.concat([model_metric_df, pd.DataFrame(docking_dict)])\n",
    "    \n",
    "    \n",
    "    # take the average over the random seeds dimension for each combo of MODEL X TARGET X P\n",
    "    grp_df = (model_metric_df).groupby([\"model\", \"target\", \"p\"])[\"enrich\"].mean().reset_index()\n",
    "    grp_df = grp_df.sort_values(by=\"model\")\n",
    "    \n",
    "    \n",
    "    for name, group in grp_df.groupby([\"model\", \"p\"]):\n",
    "        print(name)\n",
    "        print(group.describe())\n",
    "\n",
    "\n",
    "    make_box_plot(enrich_1_df=grp_df[grp_df[\"p\"] == .01], \n",
    "          enrich_10_df=grp_df[grp_df[\"p\"] == .1],\n",
    "             dataset=dataset, split=split)\n",
    "\n",
    "    return model_metric_df\n"
   ]
  },
  {
   "cell_type": "markdown",
   "metadata": {},
   "source": []
  },
  {
   "cell_type": "code",
   "execution_count": 7,
   "metadata": {
    "scrolled": true
   },
   "outputs": [
    {
     "name": "stderr",
     "output_type": "stream",
     "text": [
      "\r",
      "  0%|          | 0/15 [00:00<?, ?it/s]"
     ]
    },
    {
     "name": "stdout",
     "output_type": "stream",
     "text": [
      "/p/vast1/jones289/hd_results/5/hdbind-rp-molformer.lit-pcba-PKM2-ave.5.pkl\n",
      "started with 246069 molecules for PKM2, after merging with available docking data, have 43472/61516 in test set\n"
     ]
    },
    {
     "name": "stderr",
     "output_type": "stream",
     "text": [
      "/tmp/ipykernel_3590472/2535884398.py:93: FutureWarning: Dropping of nuisance columns in DataFrame reductions (with 'numeric_only=None') is deprecated; in a future version this will raise TypeError.  Select only valid columns before calling the reduction.\n",
      "  dock_scores['min_vina'] = dock_scores[dock_scores.columns[11:21]].min(axis=1)\n",
      "  7%|▋         | 1/15 [00:18<04:19, 18.56s/it]"
     ]
    },
    {
     "name": "stdout",
     "output_type": "stream",
     "text": [
      "/p/vast1/jones289/hd_results/5/hdbind-rp-molformer.lit-pcba-GBA-ave.5.pkl\n",
      "started with 296218 molecules for GBA, after merging with available docking data, have 51872/74054 in test set\n"
     ]
    },
    {
     "name": "stderr",
     "output_type": "stream",
     "text": [
      "/tmp/ipykernel_3590472/2535884398.py:93: FutureWarning: Dropping of nuisance columns in DataFrame reductions (with 'numeric_only=None') is deprecated; in a future version this will raise TypeError.  Select only valid columns before calling the reduction.\n",
      "  dock_scores['min_vina'] = dock_scores[dock_scores.columns[11:21]].min(axis=1)\n",
      " 13%|█▎        | 2/15 [00:32<03:27, 15.93s/it]"
     ]
    },
    {
     "name": "stdout",
     "output_type": "stream",
     "text": [
      "/p/vast1/jones289/hd_results/5/hdbind-rp-molformer.lit-pcba-ESR1_ago-ave.5.pkl\n",
      "started with 5596 molecules for ESR1_ago, after merging with available docking data, have 971/1398 in test set\n"
     ]
    },
    {
     "name": "stderr",
     "output_type": "stream",
     "text": [
      "/tmp/ipykernel_3590472/2535884398.py:93: FutureWarning: Dropping of nuisance columns in DataFrame reductions (with 'numeric_only=None') is deprecated; in a future version this will raise TypeError.  Select only valid columns before calling the reduction.\n",
      "  dock_scores['min_vina'] = dock_scores[dock_scores.columns[11:21]].min(axis=1)\n",
      "\r",
      " 20%|██        | 3/15 [00:33<01:50,  9.21s/it]"
     ]
    },
    {
     "name": "stdout",
     "output_type": "stream",
     "text": [
      "/p/vast1/jones289/hd_results/5/hdbind-rp-molformer.lit-pcba-MAPK1-ave.5.pkl\n",
      "started with 62937 molecules for MAPK1, after merging with available docking data, have 10778/15734 in test set\n"
     ]
    },
    {
     "name": "stderr",
     "output_type": "stream",
     "text": [
      "/tmp/ipykernel_3590472/2535884398.py:93: FutureWarning: Dropping of nuisance columns in DataFrame reductions (with 'numeric_only=None') is deprecated; in a future version this will raise TypeError.  Select only valid columns before calling the reduction.\n",
      "  dock_scores['min_vina'] = dock_scores[dock_scores.columns[11:21]].min(axis=1)\n",
      " 27%|██▋       | 4/15 [00:40<01:31,  8.32s/it]"
     ]
    },
    {
     "name": "stdout",
     "output_type": "stream",
     "text": [
      "/p/vast1/jones289/hd_results/5/hdbind-rp-molformer.lit-pcba-VDR-ave.5.pkl\n",
      "started with 356272 molecules for VDR, after merging with available docking data, have 47296/66800 in test set\n"
     ]
    },
    {
     "name": "stderr",
     "output_type": "stream",
     "text": [
      "/tmp/ipykernel_3590472/2535884398.py:93: FutureWarning: Dropping of nuisance columns in DataFrame reductions (with 'numeric_only=None') is deprecated; in a future version this will raise TypeError.  Select only valid columns before calling the reduction.\n",
      "  dock_scores['min_vina'] = dock_scores[dock_scores.columns[11:21]].min(axis=1)\n",
      " 33%|███▎      | 5/15 [00:47<01:18,  7.81s/it]"
     ]
    },
    {
     "name": "stdout",
     "output_type": "stream",
     "text": [
      "/p/vast1/jones289/hd_results/5/hdbind-rp-molformer.lit-pcba-KAT2A-ave.5.pkl\n",
      "started with 348742 molecules for KAT2A, after merging with available docking data, have 61847/87185 in test set\n"
     ]
    },
    {
     "name": "stderr",
     "output_type": "stream",
     "text": [
      "/tmp/ipykernel_3590472/2535884398.py:93: FutureWarning: Dropping of nuisance columns in DataFrame reductions (with 'numeric_only=None') is deprecated; in a future version this will raise TypeError.  Select only valid columns before calling the reduction.\n",
      "  dock_scores['min_vina'] = dock_scores[dock_scores.columns[11:21]].min(axis=1)\n",
      " 40%|████      | 6/15 [00:56<01:12,  8.02s/it]"
     ]
    },
    {
     "name": "stdout",
     "output_type": "stream",
     "text": [
      "/p/vast1/jones289/hd_results/5/hdbind-rp-molformer.lit-pcba-ALDH1-ave.5.pkl\n",
      "started with 145133 molecules for ALDH1, after merging with available docking data, have 19303/27212 in test set\n"
     ]
    },
    {
     "name": "stderr",
     "output_type": "stream",
     "text": [
      "/tmp/ipykernel_3590472/2535884398.py:93: FutureWarning: Dropping of nuisance columns in DataFrame reductions (with 'numeric_only=None') is deprecated; in a future version this will raise TypeError.  Select only valid columns before calling the reduction.\n",
      "  dock_scores['min_vina'] = dock_scores[dock_scores.columns[11:21]].min(axis=1)\n",
      " 47%|████▋     | 7/15 [01:03<01:03,  7.90s/it]"
     ]
    },
    {
     "name": "stdout",
     "output_type": "stream",
     "text": [
      "/p/vast1/jones289/hd_results/5/hdbind-rp-molformer.lit-pcba-TP53-ave.5.pkl\n",
      "started with 4247 molecules for TP53, after merging with available docking data, have 744/1061 in test set\n"
     ]
    },
    {
     "name": "stderr",
     "output_type": "stream",
     "text": [
      "/tmp/ipykernel_3590472/2535884398.py:93: FutureWarning: Dropping of nuisance columns in DataFrame reductions (with 'numeric_only=None') is deprecated; in a future version this will raise TypeError.  Select only valid columns before calling the reduction.\n",
      "  dock_scores['min_vina'] = dock_scores[dock_scores.columns[11:21]].min(axis=1)\n",
      "\r",
      " 53%|█████▎    | 8/15 [01:04<00:38,  5.52s/it]"
     ]
    },
    {
     "name": "stdout",
     "output_type": "stream",
     "text": [
      "/p/vast1/jones289/hd_results/5/hdbind-rp-molformer.lit-pcba-PPARG-ave.5.pkl\n",
      "started with 5238 molecules for PPARG, after merging with available docking data, have 958/1308 in test set\n"
     ]
    },
    {
     "name": "stderr",
     "output_type": "stream",
     "text": [
      "/tmp/ipykernel_3590472/2535884398.py:93: FutureWarning: Dropping of nuisance columns in DataFrame reductions (with 'numeric_only=None') is deprecated; in a future version this will raise TypeError.  Select only valid columns before calling the reduction.\n",
      "  dock_scores['min_vina'] = dock_scores[dock_scores.columns[11:21]].min(axis=1)\n",
      "\r",
      " 60%|██████    | 9/15 [01:04<00:24,  4.01s/it]"
     ]
    },
    {
     "name": "stdout",
     "output_type": "stream",
     "text": [
      "/p/vast1/jones289/hd_results/5/hdbind-rp-molformer.lit-pcba-ADRB2-ave.5.pkl\n",
      "started with 312500 molecules for ADRB2, after merging with available docking data, have 55031/78124 in test set\n"
     ]
    },
    {
     "name": "stderr",
     "output_type": "stream",
     "text": [
      "/tmp/ipykernel_3590472/2535884398.py:93: FutureWarning: Dropping of nuisance columns in DataFrame reductions (with 'numeric_only=None') is deprecated; in a future version this will raise TypeError.  Select only valid columns before calling the reduction.\n",
      "  dock_scores['min_vina'] = dock_scores[dock_scores.columns[11:21]].min(axis=1)\n",
      " 67%|██████▋   | 10/15 [01:23<00:42,  8.43s/it]"
     ]
    },
    {
     "name": "stdout",
     "output_type": "stream",
     "text": [
      "/p/vast1/jones289/hd_results/5/hdbind-rp-molformer.lit-pcba-MTORC1-ave.5.pkl\n",
      "started with 33069 molecules for MTORC1, after merging with available docking data, have 6385/8267 in test set\n"
     ]
    },
    {
     "name": "stderr",
     "output_type": "stream",
     "text": [
      "/tmp/ipykernel_3590472/2535884398.py:88: DtypeWarning: Columns (12,13,14) have mixed types. Specify dtype option on import or set low_memory=False.\n",
      "  inactive_dock_scores = pd.read_csv(root_p / Path(f\"{target}-inactives.csv.clean\"), header=None)\n",
      "/tmp/ipykernel_3590472/2535884398.py:93: FutureWarning: Dropping of nuisance columns in DataFrame reductions (with 'numeric_only=None') is deprecated; in a future version this will raise TypeError.  Select only valid columns before calling the reduction.\n",
      "  dock_scores['min_vina'] = dock_scores[dock_scores.columns[11:21]].min(axis=1)\n",
      " 73%|███████▎  | 11/15 [01:26<00:26,  6.72s/it]"
     ]
    },
    {
     "name": "stdout",
     "output_type": "stream",
     "text": [
      "/p/vast1/jones289/hd_results/5/hdbind-rp-molformer.lit-pcba-OPRK1-ave.5.pkl\n",
      "started with 269840 molecules for OPRK1, after merging with available docking data, have 47848/67460 in test set\n"
     ]
    },
    {
     "name": "stderr",
     "output_type": "stream",
     "text": [
      "/tmp/ipykernel_3590472/2535884398.py:93: FutureWarning: Dropping of nuisance columns in DataFrame reductions (with 'numeric_only=None') is deprecated; in a future version this will raise TypeError.  Select only valid columns before calling the reduction.\n",
      "  dock_scores['min_vina'] = dock_scores[dock_scores.columns[11:21]].min(axis=1)\n",
      " 80%|████████  | 12/15 [01:29<00:17,  5.69s/it]"
     ]
    },
    {
     "name": "stdout",
     "output_type": "stream",
     "text": [
      "/p/vast1/jones289/hd_results/5/hdbind-rp-molformer.lit-pcba-IDH1-ave.5.pkl\n",
      "started with 362088 molecules for IDH1, after merging with available docking data, have 64232/90521 in test set\n"
     ]
    },
    {
     "name": "stderr",
     "output_type": "stream",
     "text": [
      "/tmp/ipykernel_3590472/2535884398.py:93: FutureWarning: Dropping of nuisance columns in DataFrame reductions (with 'numeric_only=None') is deprecated; in a future version this will raise TypeError.  Select only valid columns before calling the reduction.\n",
      "  dock_scores['min_vina'] = dock_scores[dock_scores.columns[11:21]].min(axis=1)\n",
      " 87%|████████▋ | 13/15 [02:06<00:30, 15.11s/it]"
     ]
    },
    {
     "name": "stdout",
     "output_type": "stream",
     "text": [
      "/p/vast1/jones289/hd_results/5/hdbind-rp-molformer.lit-pcba-ESR1_ant-ave.5.pkl\n",
      "started with 5050 molecules for ESR1_ant, after merging with available docking data, have 895/1262 in test set\n"
     ]
    },
    {
     "name": "stderr",
     "output_type": "stream",
     "text": [
      "/tmp/ipykernel_3590472/2535884398.py:93: FutureWarning: Dropping of nuisance columns in DataFrame reductions (with 'numeric_only=None') is deprecated; in a future version this will raise TypeError.  Select only valid columns before calling the reduction.\n",
      "  dock_scores['min_vina'] = dock_scores[dock_scores.columns[11:21]].min(axis=1)\n",
      "\r",
      " 93%|█████████▎| 14/15 [02:07<00:10, 10.84s/it]"
     ]
    },
    {
     "name": "stdout",
     "output_type": "stream",
     "text": [
      "/p/vast1/jones289/hd_results/5/hdbind-rp-molformer.lit-pcba-FEN1-ave.5.pkl\n",
      "started with 355771 molecules for FEN1, after merging with available docking data, have 62823/88942 in test set\n"
     ]
    },
    {
     "name": "stderr",
     "output_type": "stream",
     "text": [
      "/tmp/ipykernel_3590472/2535884398.py:93: FutureWarning: Dropping of nuisance columns in DataFrame reductions (with 'numeric_only=None') is deprecated; in a future version this will raise TypeError.  Select only valid columns before calling the reduction.\n",
      "  dock_scores['min_vina'] = dock_scores[dock_scores.columns[11:21]].min(axis=1)\n",
      "100%|██████████| 15/15 [02:11<00:00,  8.76s/it]\n",
      "  0%|          | 0/9 [00:00<?, ?it/s]\n",
      "  0%|          | 0/15 [00:00<?, ?it/s]\u001b[A"
     ]
    },
    {
     "name": "stdout",
     "output_type": "stream",
     "text": [
      "ADRB2 /p/vast1/jones289/hd_results/5/molehd-bpe.lit-pcba-ADRB2-ave.5.pkl molehd-bpe\n",
      "y_pred: (78124, 1)\ty_score: (78124, 1)\ty_true: (78124, 1)\n",
      "y_pred: (78124, 1)\ty_score: (78124, 1)\ty_true: (78124, 1)\n",
      "y_pred: (78124, 1)\ty_score: (78124, 1)\ty_true: (78124, 1)\n",
      "y_pred: (78124, 1)\ty_score: (78124, 1)\ty_true: (78124, 1)\n",
      "y_pred: (78124, 1)\ty_score: (78124, 1)\ty_true: (78124, 1)\n",
      "y_pred: (78124, 1)\ty_score: (78124, 1)\ty_true: (78124, 1)\n",
      "y_pred: (78124, 1)\ty_score: (78124, 1)\ty_true: (78124, 1)\n",
      "y_pred: (78124, 1)\ty_score: (78124, 1)\ty_true: (78124, 1)\n",
      "y_pred: (78124, 1)\ty_score: (78124, 1)\ty_true: (78124, 1)\n",
      "y_pred: (78124, 1)\ty_score: (78124, 1)\ty_true: (78124, 1)\n",
      "y_pred: (78124, 1)\ty_score: (78124, 1)\ty_true: (78124, 1)\n",
      "y_pred: (78124, 1)\ty_score: (78124, 1)\ty_true: (78124, 1)\n",
      "y_pred: (78124, 1)\ty_score: (78124, 1)\ty_true: (78124, 1)\n",
      "y_pred: (78124, 1)\ty_score: (78124, 1)\ty_true: (78124, 1)\n",
      "y_pred: (78124, 1)\ty_score: (78124, 1)\ty_true: (78124, 1)\n",
      "y_pred: (78124, 1)\ty_score: (78124, 1)\ty_true: (78124, 1)\n",
      "y_pred: (78124, 1)\ty_score: (78124, 1)\ty_true: (78124, 1)\n",
      "y_pred: (78124, 1)\ty_score: (78124, 1)\ty_true: (78124, 1)\n",
      "y_pred: (78124, 1)\ty_score: (78124, 1)\ty_true: (78124, 1)\n",
      "y_pred: (78124, 1)\ty_score: (78124, 1)\ty_true: (78124, 1)\n"
     ]
    },
    {
     "name": "stderr",
     "output_type": "stream",
     "text": [
      "\n",
      "  7%|▋         | 1/15 [00:19<04:29, 19.25s/it]\u001b[A"
     ]
    },
    {
     "name": "stdout",
     "output_type": "stream",
     "text": [
      "ALDH1 /p/vast1/jones289/hd_results/5/molehd-bpe.lit-pcba-ALDH1-ave.5.pkl molehd-bpe\n",
      "y_pred: (27212, 1)\ty_score: (27212, 1)\ty_true: (27212, 1)\n",
      "y_pred: (27212, 1)\ty_score: (27212, 1)\ty_true: (27212, 1)\n",
      "y_pred: (27212, 1)\ty_score: (27212, 1)\ty_true: (27212, 1)\n",
      "y_pred: (27212, 1)\ty_score: (27212, 1)\ty_true: (27212, 1)\n",
      "y_pred: (27212, 1)\ty_score: (27212, 1)\ty_true: (27212, 1)\n",
      "y_pred: (27212, 1)\ty_score: (27212, 1)\ty_true: (27212, 1)\n",
      "y_pred: (27212, 1)\ty_score: (27212, 1)\ty_true: (27212, 1)\n",
      "y_pred: (27212, 1)\ty_score: (27212, 1)\ty_true: (27212, 1)\n",
      "y_pred: (27212, 1)\ty_score: (27212, 1)\ty_true: (27212, 1)\n",
      "y_pred: (27212, 1)\ty_score: (27212, 1)\ty_true: (27212, 1)\n",
      "y_pred: (27212, 1)\ty_score: (27212, 1)\ty_true: (27212, 1)\n",
      "y_pred: (27212, 1)\ty_score: (27212, 1)\ty_true: (27212, 1)\n",
      "y_pred: (27212, 1)\ty_score: (27212, 1)\ty_true: (27212, 1)\n",
      "y_pred: (27212, 1)\ty_score: (27212, 1)\ty_true: (27212, 1)\n",
      "y_pred: (27212, 1)\ty_score: (27212, 1)\ty_true: (27212, 1)\n",
      "y_pred: (27212, 1)\ty_score: (27212, 1)\ty_true: (27212, 1)\n",
      "y_pred: (27212, 1)\ty_score: (27212, 1)\ty_true: (27212, 1)\n",
      "y_pred: (27212, 1)\ty_score: (27212, 1)\ty_true: (27212, 1)\n",
      "y_pred: (27212, 1)\ty_score: (27212, 1)\ty_true: (27212, 1)\n",
      "y_pred: (27212, 1)\ty_score: (27212, 1)\ty_true: (27212, 1)\n"
     ]
    },
    {
     "name": "stderr",
     "output_type": "stream",
     "text": [
      "\n",
      " 13%|█▎        | 2/15 [00:25<02:29, 11.49s/it]\u001b[A"
     ]
    },
    {
     "name": "stdout",
     "output_type": "stream",
     "text": [
      "ESR1_ago /p/vast1/jones289/hd_results/5/molehd-bpe.lit-pcba-ESR1_ago-ave.5.pkl molehd-bpe\n",
      "y_pred: (1398, 1)\ty_score: (1398, 1)\ty_true: (1398, 1)\n",
      "y_pred: (1398, 1)\ty_score: (1398, 1)\ty_true: (1398, 1)\n",
      "y_pred: (1398, 1)\ty_score: (1398, 1)\ty_true: (1398, 1)\n",
      "y_pred: (1398, 1)\ty_score: (1398, 1)\ty_true: (1398, 1)\n",
      "y_pred: (1398, 1)\ty_score: (1398, 1)\ty_true: (1398, 1)\n",
      "y_pred: (1398, 1)\ty_score: (1398, 1)\ty_true: (1398, 1)\n",
      "y_pred: (1398, 1)\ty_score: (1398, 1)\ty_true: (1398, 1)\n",
      "y_pred: (1398, 1)\ty_score: (1398, 1)\ty_true: (1398, 1)\n",
      "y_pred: (1398, 1)\ty_score: (1398, 1)\ty_true: (1398, 1)\n",
      "y_pred: (1398, 1)\ty_score: (1398, 1)\ty_true: (1398, 1)\n",
      "y_pred: (1398, 1)\ty_score: (1398, 1)\ty_true: (1398, 1)\n",
      "y_pred: (1398, 1)\ty_score: (1398, 1)\ty_true: (1398, 1)\n"
     ]
    },
    {
     "name": "stderr",
     "output_type": "stream",
     "text": [
      "\n",
      " 20%|██        | 3/15 [00:25<01:16,  6.40s/it]\u001b[A"
     ]
    },
    {
     "name": "stdout",
     "output_type": "stream",
     "text": [
      "y_pred: (1398, 1)\ty_score: (1398, 1)\ty_true: (1398, 1)\n",
      "y_pred: (1398, 1)\ty_score: (1398, 1)\ty_true: (1398, 1)\n",
      "y_pred: (1398, 1)\ty_score: (1398, 1)\ty_true: (1398, 1)\n",
      "y_pred: (1398, 1)\ty_score: (1398, 1)\ty_true: (1398, 1)\n",
      "y_pred: (1398, 1)\ty_score: (1398, 1)\ty_true: (1398, 1)\n",
      "y_pred: (1398, 1)\ty_score: (1398, 1)\ty_true: (1398, 1)\n",
      "y_pred: (1398, 1)\ty_score: (1398, 1)\ty_true: (1398, 1)\n",
      "y_pred: (1398, 1)\ty_score: (1398, 1)\ty_true: (1398, 1)\n",
      "ESR1_ant /p/vast1/jones289/hd_results/5/molehd-bpe.lit-pcba-ESR1_ant-ave.5.pkl molehd-bpe\n",
      "y_pred: (1262, 1)\ty_score: (1262, 1)\ty_true: (1262, 1)\n",
      "y_pred: (1262, 1)\ty_score: (1262, 1)\ty_true: (1262, 1)\n",
      "y_pred: (1262, 1)\ty_score: (1262, 1)\ty_true: (1262, 1)\n",
      "y_pred: (1262, 1)\ty_score: (1262, 1)\ty_true: (1262, 1)\n",
      "y_pred: (1262, 1)\ty_score: (1262, 1)\ty_true: (1262, 1)\n",
      "y_pred: (1262, 1)\ty_score: (1262, 1)\ty_true: (1262, 1)\n",
      "y_pred: (1262, 1)\ty_score: (1262, 1)\ty_true: (1262, 1)\n",
      "y_pred: (1262, 1)\ty_score: (1262, 1)\ty_true: (1262, 1)\n",
      "y_pred: (1262, 1)\ty_score: (1262, 1)\ty_true: (1262, 1)\n",
      "y_pred: (1262, 1)\ty_score: (1262, 1)\ty_true: (1262, 1)\n",
      "y_pred: (1262, 1)\ty_score: (1262, 1)\ty_true: (1262, 1)\n",
      "y_pred: (1262, 1)\ty_score: (1262, 1)\ty_true: (1262, 1)\n",
      "y_pred: (1262, 1)\ty_score: (1262, 1)\ty_true: (1262, 1)\n",
      "y_pred: (1262, 1)\ty_score: (1262, 1)\ty_true: (1262, 1)\n",
      "y_pred: (1262, 1)\ty_score: (1262, 1)\ty_true: (1262, 1)\n",
      "y_pred: (1262, 1)\ty_score: (1262, 1)\ty_true: (1262, 1)\n",
      "y_pred: (1262, 1)\ty_score: (1262, 1)\ty_true: (1262, 1)\n",
      "y_pred: (1262, 1)\ty_score: (1262, 1)\ty_true: (1262, 1)\n",
      "y_pred: (1262, 1)\ty_score: (1262, 1)\ty_true: (1262, 1)\n",
      "y_pred: (1262, 1)\ty_score: (1262, 1)\ty_true: (1262, 1)\n"
     ]
    },
    {
     "name": "stderr",
     "output_type": "stream",
     "text": [
      "\n",
      " 27%|██▋       | 4/15 [00:25<00:43,  3.99s/it]\u001b[A"
     ]
    },
    {
     "name": "stdout",
     "output_type": "stream",
     "text": [
      "FEN1 /p/vast1/jones289/hd_results/5/molehd-bpe.lit-pcba-FEN1-ave.5.pkl molehd-bpe\n",
      "y_pred: (88942, 1)\ty_score: (88942, 1)\ty_true: (88942, 1)\n",
      "y_pred: (88942, 1)\ty_score: (88942, 1)\ty_true: (88942, 1)\n",
      "y_pred: (88942, 1)\ty_score: (88942, 1)\ty_true: (88942, 1)\n",
      "y_pred: (88942, 1)\ty_score: (88942, 1)\ty_true: (88942, 1)\n",
      "y_pred: (88942, 1)\ty_score: (88942, 1)\ty_true: (88942, 1)\n",
      "y_pred: (88942, 1)\ty_score: (88942, 1)\ty_true: (88942, 1)\n",
      "y_pred: (88942, 1)\ty_score: (88942, 1)\ty_true: (88942, 1)\n",
      "y_pred: (88942, 1)\ty_score: (88942, 1)\ty_true: (88942, 1)\n",
      "y_pred: (88942, 1)\ty_score: (88942, 1)\ty_true: (88942, 1)\n",
      "y_pred: (88942, 1)\ty_score: (88942, 1)\ty_true: (88942, 1)\n",
      "y_pred: (88942, 1)\ty_score: (88942, 1)\ty_true: (88942, 1)\n",
      "y_pred: (88942, 1)\ty_score: (88942, 1)\ty_true: (88942, 1)\n",
      "y_pred: (88942, 1)\ty_score: (88942, 1)\ty_true: (88942, 1)\n",
      "y_pred: (88942, 1)\ty_score: (88942, 1)\ty_true: (88942, 1)\n",
      "y_pred: (88942, 1)\ty_score: (88942, 1)\ty_true: (88942, 1)\n",
      "y_pred: (88942, 1)\ty_score: (88942, 1)\ty_true: (88942, 1)\n",
      "y_pred: (88942, 1)\ty_score: (88942, 1)\ty_true: (88942, 1)\n",
      "y_pred: (88942, 1)\ty_score: (88942, 1)\ty_true: (88942, 1)\n",
      "y_pred: (88942, 1)\ty_score: (88942, 1)\ty_true: (88942, 1)\n",
      "y_pred: (88942, 1)\ty_score: (88942, 1)\ty_true: (88942, 1)\n"
     ]
    },
    {
     "name": "stderr",
     "output_type": "stream",
     "text": [
      "\n",
      " 33%|███▎      | 5/15 [00:48<01:46, 10.66s/it]\u001b[A"
     ]
    },
    {
     "name": "stdout",
     "output_type": "stream",
     "text": [
      "GBA /p/vast1/jones289/hd_results/5/molehd-bpe.lit-pcba-GBA-ave.5.pkl molehd-bpe\n",
      "y_pred: (74054, 1)\ty_score: (74054, 1)\ty_true: (74054, 1)\n",
      "y_pred: (74054, 1)\ty_score: (74054, 1)\ty_true: (74054, 1)\n",
      "y_pred: (74054, 1)\ty_score: (74054, 1)\ty_true: (74054, 1)\n",
      "y_pred: (74054, 1)\ty_score: (74054, 1)\ty_true: (74054, 1)\n",
      "y_pred: (74054, 1)\ty_score: (74054, 1)\ty_true: (74054, 1)\n",
      "y_pred: (74054, 1)\ty_score: (74054, 1)\ty_true: (74054, 1)\n",
      "y_pred: (74054, 1)\ty_score: (74054, 1)\ty_true: (74054, 1)\n",
      "y_pred: (74054, 1)\ty_score: (74054, 1)\ty_true: (74054, 1)\n",
      "y_pred: (74054, 1)\ty_score: (74054, 1)\ty_true: (74054, 1)\n",
      "y_pred: (74054, 1)\ty_score: (74054, 1)\ty_true: (74054, 1)\n",
      "y_pred: (74054, 1)\ty_score: (74054, 1)\ty_true: (74054, 1)\n",
      "y_pred: (74054, 1)\ty_score: (74054, 1)\ty_true: (74054, 1)\n",
      "y_pred: (74054, 1)\ty_score: (74054, 1)\ty_true: (74054, 1)\n",
      "y_pred: (74054, 1)\ty_score: (74054, 1)\ty_true: (74054, 1)\n",
      "y_pred: (74054, 1)\ty_score: (74054, 1)\ty_true: (74054, 1)\n",
      "y_pred: (74054, 1)\ty_score: (74054, 1)\ty_true: (74054, 1)\n",
      "y_pred: (74054, 1)\ty_score: (74054, 1)\ty_true: (74054, 1)\n",
      "y_pred: (74054, 1)\ty_score: (74054, 1)\ty_true: (74054, 1)\n",
      "y_pred: (74054, 1)\ty_score: (74054, 1)\ty_true: (74054, 1)\n",
      "y_pred: (74054, 1)\ty_score: (74054, 1)\ty_true: (74054, 1)\n"
     ]
    },
    {
     "name": "stderr",
     "output_type": "stream",
     "text": [
      "\n",
      " 40%|████      | 6/15 [01:06<01:58, 13.18s/it]\u001b[A"
     ]
    },
    {
     "name": "stdout",
     "output_type": "stream",
     "text": [
      "IDH1 /p/vast1/jones289/hd_results/5/molehd-bpe.lit-pcba-IDH1-ave.5.pkl molehd-bpe\n",
      "y_pred: (90521, 1)\ty_score: (90521, 1)\ty_true: (90521, 1)\n",
      "y_pred: (90521, 1)\ty_score: (90521, 1)\ty_true: (90521, 1)\n",
      "y_pred: (90521, 1)\ty_score: (90521, 1)\ty_true: (90521, 1)\n",
      "y_pred: (90521, 1)\ty_score: (90521, 1)\ty_true: (90521, 1)\n",
      "y_pred: (90521, 1)\ty_score: (90521, 1)\ty_true: (90521, 1)\n",
      "y_pred: (90521, 1)\ty_score: (90521, 1)\ty_true: (90521, 1)\n",
      "y_pred: (90521, 1)\ty_score: (90521, 1)\ty_true: (90521, 1)\n",
      "y_pred: (90521, 1)\ty_score: (90521, 1)\ty_true: (90521, 1)\n",
      "y_pred: (90521, 1)\ty_score: (90521, 1)\ty_true: (90521, 1)\n",
      "y_pred: (90521, 1)\ty_score: (90521, 1)\ty_true: (90521, 1)\n",
      "y_pred: (90521, 1)\ty_score: (90521, 1)\ty_true: (90521, 1)\n",
      "y_pred: (90521, 1)\ty_score: (90521, 1)\ty_true: (90521, 1)\n",
      "y_pred: (90521, 1)\ty_score: (90521, 1)\ty_true: (90521, 1)\n",
      "y_pred: (90521, 1)\ty_score: (90521, 1)\ty_true: (90521, 1)\n",
      "y_pred: (90521, 1)\ty_score: (90521, 1)\ty_true: (90521, 1)\n",
      "y_pred: (90521, 1)\ty_score: (90521, 1)\ty_true: (90521, 1)\n",
      "y_pred: (90521, 1)\ty_score: (90521, 1)\ty_true: (90521, 1)\n",
      "y_pred: (90521, 1)\ty_score: (90521, 1)\ty_true: (90521, 1)\n",
      "y_pred: (90521, 1)\ty_score: (90521, 1)\ty_true: (90521, 1)\n",
      "y_pred: (90521, 1)\ty_score: (90521, 1)\ty_true: (90521, 1)\n"
     ]
    },
    {
     "name": "stderr",
     "output_type": "stream",
     "text": [
      "\n",
      " 47%|████▋     | 7/15 [01:29<02:12, 16.52s/it]\u001b[A"
     ]
    },
    {
     "name": "stdout",
     "output_type": "stream",
     "text": [
      "KAT2A /p/vast1/jones289/hd_results/5/molehd-bpe.lit-pcba-KAT2A-ave.5.pkl molehd-bpe\n",
      "y_pred: (87185, 1)\ty_score: (87185, 1)\ty_true: (87185, 1)\n",
      "y_pred: (87185, 1)\ty_score: (87185, 1)\ty_true: (87185, 1)\n",
      "y_pred: (87185, 1)\ty_score: (87185, 1)\ty_true: (87185, 1)\n",
      "y_pred: (87185, 1)\ty_score: (87185, 1)\ty_true: (87185, 1)\n",
      "y_pred: (87185, 1)\ty_score: (87185, 1)\ty_true: (87185, 1)\n",
      "y_pred: (87185, 1)\ty_score: (87185, 1)\ty_true: (87185, 1)\n",
      "y_pred: (87185, 1)\ty_score: (87185, 1)\ty_true: (87185, 1)\n",
      "y_pred: (87185, 1)\ty_score: (87185, 1)\ty_true: (87185, 1)\n",
      "y_pred: (87185, 1)\ty_score: (87185, 1)\ty_true: (87185, 1)\n",
      "y_pred: (87185, 1)\ty_score: (87185, 1)\ty_true: (87185, 1)\n",
      "y_pred: (87185, 1)\ty_score: (87185, 1)\ty_true: (87185, 1)\n",
      "y_pred: (87185, 1)\ty_score: (87185, 1)\ty_true: (87185, 1)\n",
      "y_pred: (87185, 1)\ty_score: (87185, 1)\ty_true: (87185, 1)\n",
      "y_pred: (87185, 1)\ty_score: (87185, 1)\ty_true: (87185, 1)\n",
      "y_pred: (87185, 1)\ty_score: (87185, 1)\ty_true: (87185, 1)\n",
      "y_pred: (87185, 1)\ty_score: (87185, 1)\ty_true: (87185, 1)\n",
      "y_pred: (87185, 1)\ty_score: (87185, 1)\ty_true: (87185, 1)\n",
      "y_pred: (87185, 1)\ty_score: (87185, 1)\ty_true: (87185, 1)\n",
      "y_pred: (87185, 1)\ty_score: (87185, 1)\ty_true: (87185, 1)\n",
      "y_pred: (87185, 1)\ty_score: (87185, 1)\ty_true: (87185, 1)\n"
     ]
    },
    {
     "name": "stderr",
     "output_type": "stream",
     "text": [
      "\n",
      " 53%|█████▎    | 8/15 [01:52<02:08, 18.41s/it]\u001b[A"
     ]
    },
    {
     "name": "stdout",
     "output_type": "stream",
     "text": [
      "MAPK1 /p/vast1/jones289/hd_results/5/molehd-bpe.lit-pcba-MAPK1-ave.5.pkl molehd-bpe\n",
      "y_pred: (15734, 1)\ty_score: (15734, 1)\ty_true: (15734, 1)\n",
      "y_pred: (15734, 1)\ty_score: (15734, 1)\ty_true: (15734, 1)\n",
      "y_pred: (15734, 1)\ty_score: (15734, 1)\ty_true: (15734, 1)\n",
      "y_pred: (15734, 1)\ty_score: (15734, 1)\ty_true: (15734, 1)\n",
      "y_pred: (15734, 1)\ty_score: (15734, 1)\ty_true: (15734, 1)\n",
      "y_pred: (15734, 1)\ty_score: (15734, 1)\ty_true: (15734, 1)\n",
      "y_pred: (15734, 1)\ty_score: (15734, 1)\ty_true: (15734, 1)\n",
      "y_pred: (15734, 1)\ty_score: (15734, 1)\ty_true: (15734, 1)\n",
      "y_pred: (15734, 1)\ty_score: (15734, 1)\ty_true: (15734, 1)\n",
      "y_pred: (15734, 1)\ty_score: (15734, 1)\ty_true: (15734, 1)\n",
      "y_pred: (15734, 1)\ty_score: (15734, 1)\ty_true: (15734, 1)\n",
      "y_pred: (15734, 1)\ty_score: (15734, 1)\ty_true: (15734, 1)\n",
      "y_pred: (15734, 1)\ty_score: (15734, 1)\ty_true: (15734, 1)\n",
      "y_pred: (15734, 1)\ty_score: (15734, 1)\ty_true: (15734, 1)\n",
      "y_pred: (15734, 1)\ty_score: (15734, 1)\ty_true: (15734, 1)\n",
      "y_pred: (15734, 1)\ty_score: (15734, 1)\ty_true: (15734, 1)\n",
      "y_pred: (15734, 1)\ty_score: (15734, 1)\ty_true: (15734, 1)\n",
      "y_pred: (15734, 1)\ty_score: (15734, 1)\ty_true: (15734, 1)\n",
      "y_pred: (15734, 1)\ty_score: (15734, 1)\ty_true: (15734, 1)\n"
     ]
    },
    {
     "name": "stderr",
     "output_type": "stream",
     "text": [
      "\n",
      " 60%|██████    | 9/15 [01:55<01:22, 13.72s/it]\u001b[A"
     ]
    },
    {
     "name": "stdout",
     "output_type": "stream",
     "text": [
      "y_pred: (15734, 1)\ty_score: (15734, 1)\ty_true: (15734, 1)\n",
      "MTORC1 /p/vast1/jones289/hd_results/5/molehd-bpe.lit-pcba-MTORC1-ave.5.pkl molehd-bpe\n",
      "y_pred: (8267, 1)\ty_score: (8267, 1)\ty_true: (8267, 1)\n",
      "y_pred: (8267, 1)\ty_score: (8267, 1)\ty_true: (8267, 1)\n",
      "y_pred: (8267, 1)\ty_score: (8267, 1)\ty_true: (8267, 1)\n",
      "y_pred: (8267, 1)\ty_score: (8267, 1)\ty_true: (8267, 1)\n",
      "y_pred: (8267, 1)\ty_score: (8267, 1)\ty_true: (8267, 1)\n",
      "y_pred: (8267, 1)\ty_score: (8267, 1)\ty_true: (8267, 1)\n",
      "y_pred: (8267, 1)\ty_score: (8267, 1)\ty_true: (8267, 1)\n",
      "y_pred: (8267, 1)\ty_score: (8267, 1)\ty_true: (8267, 1)\n",
      "y_pred: (8267, 1)\ty_score: (8267, 1)\ty_true: (8267, 1)\n",
      "y_pred: (8267, 1)\ty_score: (8267, 1)\ty_true: (8267, 1)\n",
      "y_pred: (8267, 1)\ty_score: (8267, 1)\ty_true: (8267, 1)\n",
      "y_pred: (8267, 1)\ty_score: (8267, 1)\ty_true: (8267, 1)\n",
      "y_pred: (8267, 1)\ty_score: (8267, 1)\ty_true: (8267, 1)\n",
      "y_pred: (8267, 1)\ty_score: (8267, 1)\ty_true: (8267, 1)\n",
      "y_pred: (8267, 1)\ty_score: (8267, 1)\ty_true: (8267, 1)\n",
      "y_pred: (8267, 1)\ty_score: (8267, 1)\ty_true: (8267, 1)\n",
      "y_pred: (8267, 1)\ty_score: (8267, 1)\ty_true: (8267, 1)\n",
      "y_pred: (8267, 1)\ty_score: (8267, 1)\ty_true: (8267, 1)\n",
      "y_pred: (8267, 1)\ty_score: (8267, 1)\ty_true: (8267, 1)\n",
      "y_pred: (8267, 1)\ty_score: (8267, 1)\ty_true: (8267, 1)\n"
     ]
    },
    {
     "name": "stderr",
     "output_type": "stream",
     "text": [
      "\n",
      " 67%|██████▋   | 10/15 [01:57<00:50, 10.02s/it]\u001b[A"
     ]
    },
    {
     "name": "stdout",
     "output_type": "stream",
     "text": [
      "OPRK1 /p/vast1/jones289/hd_results/5/molehd-bpe.lit-pcba-OPRK1-ave.5.pkl molehd-bpe\n",
      "y_pred: (67460, 1)\ty_score: (67460, 1)\ty_true: (67460, 1)\n",
      "y_pred: (67460, 1)\ty_score: (67460, 1)\ty_true: (67460, 1)\n",
      "y_pred: (67460, 1)\ty_score: (67460, 1)\ty_true: (67460, 1)\n",
      "y_pred: (67460, 1)\ty_score: (67460, 1)\ty_true: (67460, 1)\n",
      "y_pred: (67460, 1)\ty_score: (67460, 1)\ty_true: (67460, 1)\n",
      "y_pred: (67460, 1)\ty_score: (67460, 1)\ty_true: (67460, 1)\n",
      "y_pred: (67460, 1)\ty_score: (67460, 1)\ty_true: (67460, 1)\n",
      "y_pred: (67460, 1)\ty_score: (67460, 1)\ty_true: (67460, 1)\n",
      "y_pred: (67460, 1)\ty_score: (67460, 1)\ty_true: (67460, 1)\n",
      "y_pred: (67460, 1)\ty_score: (67460, 1)\ty_true: (67460, 1)\n",
      "y_pred: (67460, 1)\ty_score: (67460, 1)\ty_true: (67460, 1)\n",
      "y_pred: (67460, 1)\ty_score: (67460, 1)\ty_true: (67460, 1)\n",
      "y_pred: (67460, 1)\ty_score: (67460, 1)\ty_true: (67460, 1)\n",
      "y_pred: (67460, 1)\ty_score: (67460, 1)\ty_true: (67460, 1)\n",
      "y_pred: (67460, 1)\ty_score: (67460, 1)\ty_true: (67460, 1)\n",
      "y_pred: (67460, 1)\ty_score: (67460, 1)\ty_true: (67460, 1)\n",
      "y_pred: (67460, 1)\ty_score: (67460, 1)\ty_true: (67460, 1)\n",
      "y_pred: (67460, 1)\ty_score: (67460, 1)\ty_true: (67460, 1)\n",
      "y_pred: (67460, 1)\ty_score: (67460, 1)\ty_true: (67460, 1)\n",
      "y_pred: (67460, 1)\ty_score: (67460, 1)\ty_true: (67460, 1)\n"
     ]
    },
    {
     "name": "stderr",
     "output_type": "stream",
     "text": [
      "\n",
      " 73%|███████▎  | 11/15 [02:14<00:48, 12.04s/it]\u001b[A"
     ]
    },
    {
     "name": "stdout",
     "output_type": "stream",
     "text": [
      "PKM2 /p/vast1/jones289/hd_results/5/molehd-bpe.lit-pcba-PKM2-ave.5.pkl molehd-bpe\n",
      "y_pred: (61516, 1)\ty_score: (61516, 1)\ty_true: (61516, 1)\n",
      "y_pred: (61516, 1)\ty_score: (61516, 1)\ty_true: (61516, 1)\n",
      "y_pred: (61516, 1)\ty_score: (61516, 1)\ty_true: (61516, 1)\n",
      "y_pred: (61516, 1)\ty_score: (61516, 1)\ty_true: (61516, 1)\n",
      "y_pred: (61516, 1)\ty_score: (61516, 1)\ty_true: (61516, 1)\n",
      "y_pred: (61516, 1)\ty_score: (61516, 1)\ty_true: (61516, 1)\n",
      "y_pred: (61516, 1)\ty_score: (61516, 1)\ty_true: (61516, 1)\n",
      "y_pred: (61516, 1)\ty_score: (61516, 1)\ty_true: (61516, 1)\n",
      "y_pred: (61516, 1)\ty_score: (61516, 1)\ty_true: (61516, 1)\n",
      "y_pred: (61516, 1)\ty_score: (61516, 1)\ty_true: (61516, 1)\n",
      "y_pred: (61516, 1)\ty_score: (61516, 1)\ty_true: (61516, 1)\n",
      "y_pred: (61516, 1)\ty_score: (61516, 1)\ty_true: (61516, 1)\n",
      "y_pred: (61516, 1)\ty_score: (61516, 1)\ty_true: (61516, 1)\n",
      "y_pred: (61516, 1)\ty_score: (61516, 1)\ty_true: (61516, 1)\n",
      "y_pred: (61516, 1)\ty_score: (61516, 1)\ty_true: (61516, 1)\n",
      "y_pred: (61516, 1)\ty_score: (61516, 1)\ty_true: (61516, 1)\n",
      "y_pred: (61516, 1)\ty_score: (61516, 1)\ty_true: (61516, 1)\n",
      "y_pred: (61516, 1)\ty_score: (61516, 1)\ty_true: (61516, 1)\n",
      "y_pred: (61516, 1)\ty_score: (61516, 1)\ty_true: (61516, 1)\n",
      "y_pred: (61516, 1)\ty_score: (61516, 1)\ty_true: (61516, 1)\n"
     ]
    },
    {
     "name": "stderr",
     "output_type": "stream",
     "text": [
      "\n",
      " 80%|████████  | 12/15 [02:29<00:38, 12.93s/it]\u001b[A"
     ]
    },
    {
     "name": "stdout",
     "output_type": "stream",
     "text": [
      "PPARG /p/vast1/jones289/hd_results/5/molehd-bpe.lit-pcba-PPARG-ave.5.pkl molehd-bpe\n",
      "y_pred: (1308, 1)\ty_score: (1308, 1)\ty_true: (1308, 1)\n",
      "y_pred: (1308, 1)\ty_score: (1308, 1)\ty_true: (1308, 1)\n",
      "y_pred: (1308, 1)\ty_score: (1308, 1)\ty_true: (1308, 1)\n",
      "y_pred: (1308, 1)\ty_score: (1308, 1)\ty_true: (1308, 1)\n",
      "y_pred: (1308, 1)\ty_score: (1308, 1)\ty_true: (1308, 1)\n",
      "y_pred: (1308, 1)\ty_score: (1308, 1)\ty_true: (1308, 1)\n",
      "y_pred: (1308, 1)\ty_score: (1308, 1)\ty_true: (1308, 1)\n",
      "y_pred: (1308, 1)\ty_score: (1308, 1)\ty_true: (1308, 1)\n",
      "y_pred: (1308, 1)\ty_score: (1308, 1)\ty_true: (1308, 1)\n",
      "y_pred: (1308, 1)\ty_score: (1308, 1)\ty_true: (1308, 1)\n",
      "y_pred: (1308, 1)\ty_score: (1308, 1)\ty_true: (1308, 1)\n",
      "y_pred: (1308, 1)\ty_score: (1308, 1)\ty_true: (1308, 1)\n"
     ]
    },
    {
     "name": "stderr",
     "output_type": "stream",
     "text": [
      "\n",
      " 87%|████████▋ | 13/15 [02:29<00:18,  9.11s/it]\u001b[A"
     ]
    },
    {
     "name": "stdout",
     "output_type": "stream",
     "text": [
      "y_pred: (1308, 1)\ty_score: (1308, 1)\ty_true: (1308, 1)\n",
      "y_pred: (1308, 1)\ty_score: (1308, 1)\ty_true: (1308, 1)\n",
      "y_pred: (1308, 1)\ty_score: (1308, 1)\ty_true: (1308, 1)\n",
      "y_pred: (1308, 1)\ty_score: (1308, 1)\ty_true: (1308, 1)\n",
      "y_pred: (1308, 1)\ty_score: (1308, 1)\ty_true: (1308, 1)\n",
      "y_pred: (1308, 1)\ty_score: (1308, 1)\ty_true: (1308, 1)\n",
      "y_pred: (1308, 1)\ty_score: (1308, 1)\ty_true: (1308, 1)\n",
      "y_pred: (1308, 1)\ty_score: (1308, 1)\ty_true: (1308, 1)\n",
      "TP53 /p/vast1/jones289/hd_results/5/molehd-bpe.lit-pcba-TP53-ave.5.pkl molehd-bpe\n",
      "y_pred: (1061, 1)\ty_score: (1061, 1)\ty_true: (1061, 1)\n",
      "y_pred: (1061, 1)\ty_score: (1061, 1)\ty_true: (1061, 1)\n",
      "y_pred: (1061, 1)\ty_score: (1061, 1)\ty_true: (1061, 1)\n",
      "y_pred: (1061, 1)\ty_score: (1061, 1)\ty_true: (1061, 1)\n",
      "y_pred: (1061, 1)\ty_score: (1061, 1)\ty_true: (1061, 1)\n",
      "y_pred: (1061, 1)\ty_score: (1061, 1)\ty_true: (1061, 1)\n"
     ]
    },
    {
     "name": "stderr",
     "output_type": "stream",
     "text": [
      "\n",
      " 93%|█████████▎| 14/15 [02:29<00:06,  6.44s/it]\u001b[A"
     ]
    },
    {
     "name": "stdout",
     "output_type": "stream",
     "text": [
      "y_pred: (1061, 1)\ty_score: (1061, 1)\ty_true: (1061, 1)\n",
      "y_pred: (1061, 1)\ty_score: (1061, 1)\ty_true: (1061, 1)\n",
      "y_pred: (1061, 1)\ty_score: (1061, 1)\ty_true: (1061, 1)\n",
      "y_pred: (1061, 1)\ty_score: (1061, 1)\ty_true: (1061, 1)\n",
      "y_pred: (1061, 1)\ty_score: (1061, 1)\ty_true: (1061, 1)\n",
      "y_pred: (1061, 1)\ty_score: (1061, 1)\ty_true: (1061, 1)\n",
      "y_pred: (1061, 1)\ty_score: (1061, 1)\ty_true: (1061, 1)\n",
      "y_pred: (1061, 1)\ty_score: (1061, 1)\ty_true: (1061, 1)\n",
      "y_pred: (1061, 1)\ty_score: (1061, 1)\ty_true: (1061, 1)\n",
      "y_pred: (1061, 1)\ty_score: (1061, 1)\ty_true: (1061, 1)\n",
      "y_pred: (1061, 1)\ty_score: (1061, 1)\ty_true: (1061, 1)\n",
      "y_pred: (1061, 1)\ty_score: (1061, 1)\ty_true: (1061, 1)\n",
      "y_pred: (1061, 1)\ty_score: (1061, 1)\ty_true: (1061, 1)\n",
      "y_pred: (1061, 1)\ty_score: (1061, 1)\ty_true: (1061, 1)\n",
      "VDR /p/vast1/jones289/hd_results/5/molehd-bpe.lit-pcba-VDR-ave.5.pkl molehd-bpe\n",
      "y_pred: (66800, 1)\ty_score: (66800, 1)\ty_true: (66800, 1)\n",
      "y_pred: (66800, 1)\ty_score: (66800, 1)\ty_true: (66800, 1)\n",
      "y_pred: (66800, 1)\ty_score: (66800, 1)\ty_true: (66800, 1)\n",
      "y_pred: (66800, 1)\ty_score: (66800, 1)\ty_true: (66800, 1)\n",
      "y_pred: (66800, 1)\ty_score: (66800, 1)\ty_true: (66800, 1)\n",
      "y_pred: (66800, 1)\ty_score: (66800, 1)\ty_true: (66800, 1)\n",
      "y_pred: (66800, 1)\ty_score: (66800, 1)\ty_true: (66800, 1)\n",
      "y_pred: (66800, 1)\ty_score: (66800, 1)\ty_true: (66800, 1)\n",
      "y_pred: (66800, 1)\ty_score: (66800, 1)\ty_true: (66800, 1)\n",
      "y_pred: (66800, 1)\ty_score: (66800, 1)\ty_true: (66800, 1)\n",
      "y_pred: (66800, 1)\ty_score: (66800, 1)\ty_true: (66800, 1)\n",
      "y_pred: (66800, 1)\ty_score: (66800, 1)\ty_true: (66800, 1)\n",
      "y_pred: (66800, 1)\ty_score: (66800, 1)\ty_true: (66800, 1)\n",
      "y_pred: (66800, 1)\ty_score: (66800, 1)\ty_true: (66800, 1)\n",
      "y_pred: (66800, 1)\ty_score: (66800, 1)\ty_true: (66800, 1)\n",
      "y_pred: (66800, 1)\ty_score: (66800, 1)\ty_true: (66800, 1)\n",
      "y_pred: (66800, 1)\ty_score: (66800, 1)\ty_true: (66800, 1)\n",
      "y_pred: (66800, 1)\ty_score: (66800, 1)\ty_true: (66800, 1)\n",
      "y_pred: (66800, 1)\ty_score: (66800, 1)\ty_true: (66800, 1)\n",
      "y_pred: (66800, 1)\ty_score: (66800, 1)\ty_true: (66800, 1)\n"
     ]
    },
    {
     "name": "stderr",
     "output_type": "stream",
     "text": [
      "\n",
      "100%|██████████| 15/15 [02:46<00:00, 11.07s/it]\u001b[A\n",
      " 11%|█         | 1/9 [02:46<22:09, 166.13s/it]\n",
      "  0%|          | 0/15 [00:00<?, ?it/s]\u001b[A"
     ]
    },
    {
     "name": "stdout",
     "output_type": "stream",
     "text": [
      "ADRB2 /p/vast1/jones289/hd_results/5/hdbind-rp-ecfp-1024-1.lit-pcba-ADRB2-ave.5.pkl hdbind-rp-ecfp-1024-1\n",
      "y_pred: (78124, 1)\ty_score: (78124, 1)\ty_true: (78124, 1)\n",
      "y_pred: (78124, 1)\ty_score: (78124, 1)\ty_true: (78124, 1)\n",
      "y_pred: (78124, 1)\ty_score: (78124, 1)\ty_true: (78124, 1)\n",
      "y_pred: (78124, 1)\ty_score: (78124, 1)\ty_true: (78124, 1)\n",
      "y_pred: (78124, 1)\ty_score: (78124, 1)\ty_true: (78124, 1)\n",
      "y_pred: (78124, 1)\ty_score: (78124, 1)\ty_true: (78124, 1)\n",
      "y_pred: (78124, 1)\ty_score: (78124, 1)\ty_true: (78124, 1)\n",
      "y_pred: (78124, 1)\ty_score: (78124, 1)\ty_true: (78124, 1)\n",
      "y_pred: (78124, 1)\ty_score: (78124, 1)\ty_true: (78124, 1)\n",
      "y_pred: (78124, 1)\ty_score: (78124, 1)\ty_true: (78124, 1)\n",
      "y_pred: (78124, 1)\ty_score: (78124, 1)\ty_true: (78124, 1)\n",
      "y_pred: (78124, 1)\ty_score: (78124, 1)\ty_true: (78124, 1)\n",
      "y_pred: (78124, 1)\ty_score: (78124, 1)\ty_true: (78124, 1)\n",
      "y_pred: (78124, 1)\ty_score: (78124, 1)\ty_true: (78124, 1)\n",
      "y_pred: (78124, 1)\ty_score: (78124, 1)\ty_true: (78124, 1)\n",
      "y_pred: (78124, 1)\ty_score: (78124, 1)\ty_true: (78124, 1)\n",
      "y_pred: (78124, 1)\ty_score: (78124, 1)\ty_true: (78124, 1)\n",
      "y_pred: (78124, 1)\ty_score: (78124, 1)\ty_true: (78124, 1)\n",
      "y_pred: (78124, 1)\ty_score: (78124, 1)\ty_true: (78124, 1)\n",
      "y_pred: (78124, 1)\ty_score: (78124, 1)\ty_true: (78124, 1)\n"
     ]
    },
    {
     "name": "stderr",
     "output_type": "stream",
     "text": [
      "\n",
      "  7%|▋         | 1/15 [00:18<04:14, 18.17s/it]\u001b[A"
     ]
    },
    {
     "name": "stdout",
     "output_type": "stream",
     "text": [
      "ALDH1 /p/vast1/jones289/hd_results/5/hdbind-rp-ecfp-1024-1.lit-pcba-ALDH1-ave.5.pkl hdbind-rp-ecfp-1024-1\n",
      "y_pred: (27212, 1)\ty_score: (27212, 1)\ty_true: (27212, 1)\n",
      "y_pred: (27212, 1)\ty_score: (27212, 1)\ty_true: (27212, 1)\n",
      "y_pred: (27212, 1)\ty_score: (27212, 1)\ty_true: (27212, 1)\n",
      "y_pred: (27212, 1)\ty_score: (27212, 1)\ty_true: (27212, 1)\n",
      "y_pred: (27212, 1)\ty_score: (27212, 1)\ty_true: (27212, 1)\n",
      "y_pred: (27212, 1)\ty_score: (27212, 1)\ty_true: (27212, 1)\n",
      "y_pred: (27212, 1)\ty_score: (27212, 1)\ty_true: (27212, 1)\n",
      "y_pred: (27212, 1)\ty_score: (27212, 1)\ty_true: (27212, 1)\n",
      "y_pred: (27212, 1)\ty_score: (27212, 1)\ty_true: (27212, 1)\n",
      "y_pred: (27212, 1)\ty_score: (27212, 1)\ty_true: (27212, 1)\n",
      "y_pred: (27212, 1)\ty_score: (27212, 1)\ty_true: (27212, 1)\n",
      "y_pred: (27212, 1)\ty_score: (27212, 1)\ty_true: (27212, 1)\n",
      "y_pred: (27212, 1)\ty_score: (27212, 1)\ty_true: (27212, 1)\n",
      "y_pred: (27212, 1)\ty_score: (27212, 1)\ty_true: (27212, 1)\n",
      "y_pred: (27212, 1)\ty_score: (27212, 1)\ty_true: (27212, 1)\n",
      "y_pred: (27212, 1)\ty_score: (27212, 1)\ty_true: (27212, 1)\n",
      "y_pred: (27212, 1)\ty_score: (27212, 1)\ty_true: (27212, 1)\n",
      "y_pred: (27212, 1)\ty_score: (27212, 1)\ty_true: (27212, 1)\n",
      "y_pred: (27212, 1)\ty_score: (27212, 1)\ty_true: (27212, 1)\n",
      "y_pred: (27212, 1)\ty_score: (27212, 1)\ty_true: (27212, 1)\n"
     ]
    },
    {
     "name": "stderr",
     "output_type": "stream",
     "text": [
      "\n",
      " 13%|█▎        | 2/15 [00:23<02:15, 10.45s/it]\u001b[A"
     ]
    },
    {
     "name": "stdout",
     "output_type": "stream",
     "text": [
      "ESR1_ago /p/vast1/jones289/hd_results/5/hdbind-rp-ecfp-1024-1.lit-pcba-ESR1_ago-ave.5.pkl hdbind-rp-ecfp-1024-1\n",
      "y_pred: (1398, 1)\ty_score: (1398, 1)\ty_true: (1398, 1)\n",
      "y_pred: (1398, 1)\ty_score: (1398, 1)\ty_true: (1398, 1)\n",
      "y_pred: (1398, 1)\ty_score: (1398, 1)\ty_true: (1398, 1)\n",
      "y_pred: (1398, 1)\ty_score: (1398, 1)\ty_true: (1398, 1)\n",
      "y_pred: (1398, 1)\ty_score: (1398, 1)\ty_true: (1398, 1)\n",
      "y_pred: (1398, 1)\ty_score: (1398, 1)\ty_true: (1398, 1)\n",
      "y_pred: (1398, 1)\ty_score: (1398, 1)\ty_true: (1398, 1)\n",
      "y_pred: (1398, 1)\ty_score: (1398, 1)\ty_true: (1398, 1)\n",
      "y_pred: (1398, 1)\ty_score: (1398, 1)\ty_true: (1398, 1)\n",
      "y_pred: (1398, 1)\ty_score: (1398, 1)\ty_true: (1398, 1)\n",
      "y_pred: (1398, 1)\ty_score: (1398, 1)\ty_true: (1398, 1)\n",
      "y_pred: (1398, 1)\ty_score: (1398, 1)\ty_true: (1398, 1)\n",
      "y_pred: (1398, 1)\ty_score: (1398, 1)\ty_true: (1398, 1)\n",
      "y_pred: (1398, 1)\ty_score: (1398, 1)\ty_true: (1398, 1)\n",
      "y_pred: (1398, 1)\ty_score: (1398, 1)\ty_true: (1398, 1)\n"
     ]
    },
    {
     "name": "stderr",
     "output_type": "stream",
     "text": [
      "\n",
      " 20%|██        | 3/15 [00:23<01:09,  5.80s/it]\u001b[A"
     ]
    },
    {
     "name": "stdout",
     "output_type": "stream",
     "text": [
      "y_pred: (1398, 1)\ty_score: (1398, 1)\ty_true: (1398, 1)\n",
      "y_pred: (1398, 1)\ty_score: (1398, 1)\ty_true: (1398, 1)\n",
      "y_pred: (1398, 1)\ty_score: (1398, 1)\ty_true: (1398, 1)\n",
      "y_pred: (1398, 1)\ty_score: (1398, 1)\ty_true: (1398, 1)\n",
      "y_pred: (1398, 1)\ty_score: (1398, 1)\ty_true: (1398, 1)\n",
      "ESR1_ant /p/vast1/jones289/hd_results/5/hdbind-rp-ecfp-1024-1.lit-pcba-ESR1_ant-ave.5.pkl hdbind-rp-ecfp-1024-1\n",
      "y_pred: (1262, 1)\ty_score: (1262, 1)\ty_true: (1262, 1)\n",
      "y_pred: (1262, 1)\ty_score: (1262, 1)\ty_true: (1262, 1)\n",
      "y_pred: (1262, 1)\ty_score: (1262, 1)\ty_true: (1262, 1)\n",
      "y_pred: (1262, 1)\ty_score: (1262, 1)\ty_true: (1262, 1)\n",
      "y_pred: (1262, 1)\ty_score: (1262, 1)\ty_true: (1262, 1)\n",
      "y_pred: (1262, 1)\ty_score: (1262, 1)\ty_true: (1262, 1)\n",
      "y_pred: (1262, 1)\ty_score: (1262, 1)\ty_true: (1262, 1)\n",
      "y_pred: (1262, 1)\ty_score: (1262, 1)\ty_true: (1262, 1)\n",
      "y_pred: (1262, 1)\ty_score: (1262, 1)\ty_true: (1262, 1)\n",
      "y_pred: (1262, 1)\ty_score: (1262, 1)\ty_true: (1262, 1)\n",
      "y_pred: (1262, 1)\ty_score: (1262, 1)\ty_true: (1262, 1)\n"
     ]
    },
    {
     "name": "stderr",
     "output_type": "stream",
     "text": [
      "\n",
      " 27%|██▋       | 4/15 [00:23<00:39,  3.61s/it]\u001b[A"
     ]
    },
    {
     "name": "stdout",
     "output_type": "stream",
     "text": [
      "y_pred: (1262, 1)\ty_score: (1262, 1)\ty_true: (1262, 1)\n",
      "y_pred: (1262, 1)\ty_score: (1262, 1)\ty_true: (1262, 1)\n",
      "y_pred: (1262, 1)\ty_score: (1262, 1)\ty_true: (1262, 1)\n",
      "y_pred: (1262, 1)\ty_score: (1262, 1)\ty_true: (1262, 1)\n",
      "y_pred: (1262, 1)\ty_score: (1262, 1)\ty_true: (1262, 1)\n",
      "y_pred: (1262, 1)\ty_score: (1262, 1)\ty_true: (1262, 1)\n",
      "y_pred: (1262, 1)\ty_score: (1262, 1)\ty_true: (1262, 1)\n",
      "y_pred: (1262, 1)\ty_score: (1262, 1)\ty_true: (1262, 1)\n",
      "y_pred: (1262, 1)\ty_score: (1262, 1)\ty_true: (1262, 1)\n",
      "FEN1 /p/vast1/jones289/hd_results/5/hdbind-rp-ecfp-1024-1.lit-pcba-FEN1-ave.5.pkl hdbind-rp-ecfp-1024-1\n",
      "y_pred: (88942, 1)\ty_score: (88942, 1)\ty_true: (88942, 1)\n",
      "y_pred: (88942, 1)\ty_score: (88942, 1)\ty_true: (88942, 1)\n",
      "y_pred: (88942, 1)\ty_score: (88942, 1)\ty_true: (88942, 1)\n",
      "y_pred: (88942, 1)\ty_score: (88942, 1)\ty_true: (88942, 1)\n",
      "y_pred: (88942, 1)\ty_score: (88942, 1)\ty_true: (88942, 1)\n",
      "y_pred: (88942, 1)\ty_score: (88942, 1)\ty_true: (88942, 1)\n",
      "y_pred: (88942, 1)\ty_score: (88942, 1)\ty_true: (88942, 1)\n",
      "y_pred: (88942, 1)\ty_score: (88942, 1)\ty_true: (88942, 1)\n",
      "y_pred: (88942, 1)\ty_score: (88942, 1)\ty_true: (88942, 1)\n",
      "y_pred: (88942, 1)\ty_score: (88942, 1)\ty_true: (88942, 1)\n",
      "y_pred: (88942, 1)\ty_score: (88942, 1)\ty_true: (88942, 1)\n",
      "y_pred: (88942, 1)\ty_score: (88942, 1)\ty_true: (88942, 1)\n",
      "y_pred: (88942, 1)\ty_score: (88942, 1)\ty_true: (88942, 1)\n",
      "y_pred: (88942, 1)\ty_score: (88942, 1)\ty_true: (88942, 1)\n",
      "y_pred: (88942, 1)\ty_score: (88942, 1)\ty_true: (88942, 1)\n",
      "y_pred: (88942, 1)\ty_score: (88942, 1)\ty_true: (88942, 1)\n",
      "y_pred: (88942, 1)\ty_score: (88942, 1)\ty_true: (88942, 1)\n",
      "y_pred: (88942, 1)\ty_score: (88942, 1)\ty_true: (88942, 1)\n",
      "y_pred: (88942, 1)\ty_score: (88942, 1)\ty_true: (88942, 1)\n",
      "y_pred: (88942, 1)\ty_score: (88942, 1)\ty_true: (88942, 1)\n"
     ]
    },
    {
     "name": "stderr",
     "output_type": "stream",
     "text": [
      "\n",
      " 33%|███▎      | 5/15 [00:44<01:38,  9.84s/it]\u001b[A"
     ]
    },
    {
     "name": "stdout",
     "output_type": "stream",
     "text": [
      "GBA /p/vast1/jones289/hd_results/5/hdbind-rp-ecfp-1024-1.lit-pcba-GBA-ave.5.pkl hdbind-rp-ecfp-1024-1\n",
      "y_pred: (74054, 1)\ty_score: (74054, 1)\ty_true: (74054, 1)\n",
      "y_pred: (74054, 1)\ty_score: (74054, 1)\ty_true: (74054, 1)\n",
      "y_pred: (74054, 1)\ty_score: (74054, 1)\ty_true: (74054, 1)\n",
      "y_pred: (74054, 1)\ty_score: (74054, 1)\ty_true: (74054, 1)\n",
      "y_pred: (74054, 1)\ty_score: (74054, 1)\ty_true: (74054, 1)\n",
      "y_pred: (74054, 1)\ty_score: (74054, 1)\ty_true: (74054, 1)\n",
      "y_pred: (74054, 1)\ty_score: (74054, 1)\ty_true: (74054, 1)\n",
      "y_pred: (74054, 1)\ty_score: (74054, 1)\ty_true: (74054, 1)\n",
      "y_pred: (74054, 1)\ty_score: (74054, 1)\ty_true: (74054, 1)\n",
      "y_pred: (74054, 1)\ty_score: (74054, 1)\ty_true: (74054, 1)\n",
      "y_pred: (74054, 1)\ty_score: (74054, 1)\ty_true: (74054, 1)\n",
      "y_pred: (74054, 1)\ty_score: (74054, 1)\ty_true: (74054, 1)\n",
      "y_pred: (74054, 1)\ty_score: (74054, 1)\ty_true: (74054, 1)\n",
      "y_pred: (74054, 1)\ty_score: (74054, 1)\ty_true: (74054, 1)\n",
      "y_pred: (74054, 1)\ty_score: (74054, 1)\ty_true: (74054, 1)\n",
      "y_pred: (74054, 1)\ty_score: (74054, 1)\ty_true: (74054, 1)\n",
      "y_pred: (74054, 1)\ty_score: (74054, 1)\ty_true: (74054, 1)\n",
      "y_pred: (74054, 1)\ty_score: (74054, 1)\ty_true: (74054, 1)\n",
      "y_pred: (74054, 1)\ty_score: (74054, 1)\ty_true: (74054, 1)\n",
      "y_pred: (74054, 1)\ty_score: (74054, 1)\ty_true: (74054, 1)\n"
     ]
    },
    {
     "name": "stderr",
     "output_type": "stream",
     "text": [
      "\n",
      " 40%|████      | 6/15 [01:02<01:53, 12.63s/it]\u001b[A"
     ]
    },
    {
     "name": "stdout",
     "output_type": "stream",
     "text": [
      "IDH1 /p/vast1/jones289/hd_results/5/hdbind-rp-ecfp-1024-1.lit-pcba-IDH1-ave.5.pkl hdbind-rp-ecfp-1024-1\n",
      "y_pred: (90521, 1)\ty_score: (90521, 1)\ty_true: (90521, 1)\n",
      "y_pred: (90521, 1)\ty_score: (90521, 1)\ty_true: (90521, 1)\n",
      "y_pred: (90521, 1)\ty_score: (90521, 1)\ty_true: (90521, 1)\n",
      "y_pred: (90521, 1)\ty_score: (90521, 1)\ty_true: (90521, 1)\n",
      "y_pred: (90521, 1)\ty_score: (90521, 1)\ty_true: (90521, 1)\n",
      "y_pred: (90521, 1)\ty_score: (90521, 1)\ty_true: (90521, 1)\n",
      "y_pred: (90521, 1)\ty_score: (90521, 1)\ty_true: (90521, 1)\n",
      "y_pred: (90521, 1)\ty_score: (90521, 1)\ty_true: (90521, 1)\n",
      "y_pred: (90521, 1)\ty_score: (90521, 1)\ty_true: (90521, 1)\n",
      "y_pred: (90521, 1)\ty_score: (90521, 1)\ty_true: (90521, 1)\n",
      "y_pred: (90521, 1)\ty_score: (90521, 1)\ty_true: (90521, 1)\n",
      "y_pred: (90521, 1)\ty_score: (90521, 1)\ty_true: (90521, 1)\n",
      "y_pred: (90521, 1)\ty_score: (90521, 1)\ty_true: (90521, 1)\n",
      "y_pred: (90521, 1)\ty_score: (90521, 1)\ty_true: (90521, 1)\n",
      "y_pred: (90521, 1)\ty_score: (90521, 1)\ty_true: (90521, 1)\n",
      "y_pred: (90521, 1)\ty_score: (90521, 1)\ty_true: (90521, 1)\n",
      "y_pred: (90521, 1)\ty_score: (90521, 1)\ty_true: (90521, 1)\n",
      "y_pred: (90521, 1)\ty_score: (90521, 1)\ty_true: (90521, 1)\n",
      "y_pred: (90521, 1)\ty_score: (90521, 1)\ty_true: (90521, 1)\n",
      "y_pred: (90521, 1)\ty_score: (90521, 1)\ty_true: (90521, 1)\n"
     ]
    },
    {
     "name": "stderr",
     "output_type": "stream",
     "text": [
      "\n",
      " 47%|████▋     | 7/15 [01:22<01:59, 14.96s/it]\u001b[A"
     ]
    },
    {
     "name": "stdout",
     "output_type": "stream",
     "text": [
      "KAT2A /p/vast1/jones289/hd_results/5/hdbind-rp-ecfp-1024-1.lit-pcba-KAT2A-ave.5.pkl hdbind-rp-ecfp-1024-1\n",
      "y_pred: (87185, 1)\ty_score: (87185, 1)\ty_true: (87185, 1)\n",
      "y_pred: (87185, 1)\ty_score: (87185, 1)\ty_true: (87185, 1)\n",
      "y_pred: (87185, 1)\ty_score: (87185, 1)\ty_true: (87185, 1)\n",
      "y_pred: (87185, 1)\ty_score: (87185, 1)\ty_true: (87185, 1)\n",
      "y_pred: (87185, 1)\ty_score: (87185, 1)\ty_true: (87185, 1)\n",
      "y_pred: (87185, 1)\ty_score: (87185, 1)\ty_true: (87185, 1)\n",
      "y_pred: (87185, 1)\ty_score: (87185, 1)\ty_true: (87185, 1)\n",
      "y_pred: (87185, 1)\ty_score: (87185, 1)\ty_true: (87185, 1)\n",
      "y_pred: (87185, 1)\ty_score: (87185, 1)\ty_true: (87185, 1)\n",
      "y_pred: (87185, 1)\ty_score: (87185, 1)\ty_true: (87185, 1)\n",
      "y_pred: (87185, 1)\ty_score: (87185, 1)\ty_true: (87185, 1)\n",
      "y_pred: (87185, 1)\ty_score: (87185, 1)\ty_true: (87185, 1)\n",
      "y_pred: (87185, 1)\ty_score: (87185, 1)\ty_true: (87185, 1)\n",
      "y_pred: (87185, 1)\ty_score: (87185, 1)\ty_true: (87185, 1)\n",
      "y_pred: (87185, 1)\ty_score: (87185, 1)\ty_true: (87185, 1)\n",
      "y_pred: (87185, 1)\ty_score: (87185, 1)\ty_true: (87185, 1)\n",
      "y_pred: (87185, 1)\ty_score: (87185, 1)\ty_true: (87185, 1)\n",
      "y_pred: (87185, 1)\ty_score: (87185, 1)\ty_true: (87185, 1)\n",
      "y_pred: (87185, 1)\ty_score: (87185, 1)\ty_true: (87185, 1)\n",
      "y_pred: (87185, 1)\ty_score: (87185, 1)\ty_true: (87185, 1)\n"
     ]
    },
    {
     "name": "stderr",
     "output_type": "stream",
     "text": [
      "\n",
      " 53%|█████▎    | 8/15 [01:41<01:53, 16.24s/it]\u001b[A"
     ]
    },
    {
     "name": "stdout",
     "output_type": "stream",
     "text": [
      "MAPK1 /p/vast1/jones289/hd_results/5/hdbind-rp-ecfp-1024-1.lit-pcba-MAPK1-ave.5.pkl hdbind-rp-ecfp-1024-1\n",
      "y_pred: (15734, 1)\ty_score: (15734, 1)\ty_true: (15734, 1)\n",
      "y_pred: (15734, 1)\ty_score: (15734, 1)\ty_true: (15734, 1)\n",
      "y_pred: (15734, 1)\ty_score: (15734, 1)\ty_true: (15734, 1)\n",
      "y_pred: (15734, 1)\ty_score: (15734, 1)\ty_true: (15734, 1)\n",
      "y_pred: (15734, 1)\ty_score: (15734, 1)\ty_true: (15734, 1)\n",
      "y_pred: (15734, 1)\ty_score: (15734, 1)\ty_true: (15734, 1)\n",
      "y_pred: (15734, 1)\ty_score: (15734, 1)\ty_true: (15734, 1)\n",
      "y_pred: (15734, 1)\ty_score: (15734, 1)\ty_true: (15734, 1)\n",
      "y_pred: (15734, 1)\ty_score: (15734, 1)\ty_true: (15734, 1)\n",
      "y_pred: (15734, 1)\ty_score: (15734, 1)\ty_true: (15734, 1)\n",
      "y_pred: (15734, 1)\ty_score: (15734, 1)\ty_true: (15734, 1)\n",
      "y_pred: (15734, 1)\ty_score: (15734, 1)\ty_true: (15734, 1)\n",
      "y_pred: (15734, 1)\ty_score: (15734, 1)\ty_true: (15734, 1)\n",
      "y_pred: (15734, 1)\ty_score: (15734, 1)\ty_true: (15734, 1)\n",
      "y_pred: (15734, 1)\ty_score: (15734, 1)\ty_true: (15734, 1)\n",
      "y_pred: (15734, 1)\ty_score: (15734, 1)\ty_true: (15734, 1)\n",
      "y_pred: (15734, 1)\ty_score: (15734, 1)\ty_true: (15734, 1)\n",
      "y_pred: (15734, 1)\ty_score: (15734, 1)\ty_true: (15734, 1)\n",
      "y_pred: (15734, 1)\ty_score: (15734, 1)\ty_true: (15734, 1)\n"
     ]
    },
    {
     "name": "stderr",
     "output_type": "stream",
     "text": [
      "\n",
      " 60%|██████    | 9/15 [01:44<01:12, 12.07s/it]\u001b[A"
     ]
    },
    {
     "name": "stdout",
     "output_type": "stream",
     "text": [
      "y_pred: (15734, 1)\ty_score: (15734, 1)\ty_true: (15734, 1)\n",
      "MTORC1 /p/vast1/jones289/hd_results/5/hdbind-rp-ecfp-1024-1.lit-pcba-MTORC1-ave.5.pkl hdbind-rp-ecfp-1024-1\n",
      "y_pred: (8267, 1)\ty_score: (8267, 1)\ty_true: (8267, 1)\n",
      "y_pred: (8267, 1)\ty_score: (8267, 1)\ty_true: (8267, 1)\n",
      "y_pred: (8267, 1)\ty_score: (8267, 1)\ty_true: (8267, 1)\n",
      "y_pred: (8267, 1)\ty_score: (8267, 1)\ty_true: (8267, 1)\n",
      "y_pred: (8267, 1)\ty_score: (8267, 1)\ty_true: (8267, 1)\n",
      "y_pred: (8267, 1)\ty_score: (8267, 1)\ty_true: (8267, 1)\n",
      "y_pred: (8267, 1)\ty_score: (8267, 1)\ty_true: (8267, 1)\n",
      "y_pred: (8267, 1)\ty_score: (8267, 1)\ty_true: (8267, 1)\n",
      "y_pred: (8267, 1)\ty_score: (8267, 1)\ty_true: (8267, 1)\n",
      "y_pred: (8267, 1)\ty_score: (8267, 1)\ty_true: (8267, 1)\n",
      "y_pred: (8267, 1)\ty_score: (8267, 1)\ty_true: (8267, 1)\n",
      "y_pred: (8267, 1)\ty_score: (8267, 1)\ty_true: (8267, 1)\n",
      "y_pred: (8267, 1)\ty_score: (8267, 1)\ty_true: (8267, 1)\n",
      "y_pred: (8267, 1)\ty_score: (8267, 1)\ty_true: (8267, 1)\n",
      "y_pred: (8267, 1)\ty_score: (8267, 1)\ty_true: (8267, 1)\n",
      "y_pred: (8267, 1)\ty_score: (8267, 1)\ty_true: (8267, 1)\n",
      "y_pred: (8267, 1)\ty_score: (8267, 1)\ty_true: (8267, 1)\n"
     ]
    },
    {
     "name": "stderr",
     "output_type": "stream",
     "text": [
      "\n",
      " 67%|██████▋   | 10/15 [01:46<00:44,  8.87s/it]\u001b[A"
     ]
    },
    {
     "name": "stdout",
     "output_type": "stream",
     "text": [
      "y_pred: (8267, 1)\ty_score: (8267, 1)\ty_true: (8267, 1)\n",
      "y_pred: (8267, 1)\ty_score: (8267, 1)\ty_true: (8267, 1)\n",
      "y_pred: (8267, 1)\ty_score: (8267, 1)\ty_true: (8267, 1)\n",
      "OPRK1 /p/vast1/jones289/hd_results/5/hdbind-rp-ecfp-1024-1.lit-pcba-OPRK1-ave.5.pkl hdbind-rp-ecfp-1024-1\n",
      "y_pred: (67460, 1)\ty_score: (67460, 1)\ty_true: (67460, 1)\n",
      "y_pred: (67460, 1)\ty_score: (67460, 1)\ty_true: (67460, 1)\n",
      "y_pred: (67460, 1)\ty_score: (67460, 1)\ty_true: (67460, 1)\n",
      "y_pred: (67460, 1)\ty_score: (67460, 1)\ty_true: (67460, 1)\n",
      "y_pred: (67460, 1)\ty_score: (67460, 1)\ty_true: (67460, 1)\n",
      "y_pred: (67460, 1)\ty_score: (67460, 1)\ty_true: (67460, 1)\n",
      "y_pred: (67460, 1)\ty_score: (67460, 1)\ty_true: (67460, 1)\n",
      "y_pred: (67460, 1)\ty_score: (67460, 1)\ty_true: (67460, 1)\n",
      "y_pred: (67460, 1)\ty_score: (67460, 1)\ty_true: (67460, 1)\n",
      "y_pred: (67460, 1)\ty_score: (67460, 1)\ty_true: (67460, 1)\n",
      "y_pred: (67460, 1)\ty_score: (67460, 1)\ty_true: (67460, 1)\n",
      "y_pred: (67460, 1)\ty_score: (67460, 1)\ty_true: (67460, 1)\n",
      "y_pred: (67460, 1)\ty_score: (67460, 1)\ty_true: (67460, 1)\n",
      "y_pred: (67460, 1)\ty_score: (67460, 1)\ty_true: (67460, 1)\n",
      "y_pred: (67460, 1)\ty_score: (67460, 1)\ty_true: (67460, 1)\n",
      "y_pred: (67460, 1)\ty_score: (67460, 1)\ty_true: (67460, 1)\n",
      "y_pred: (67460, 1)\ty_score: (67460, 1)\ty_true: (67460, 1)\n",
      "y_pred: (67460, 1)\ty_score: (67460, 1)\ty_true: (67460, 1)\n",
      "y_pred: (67460, 1)\ty_score: (67460, 1)\ty_true: (67460, 1)\n",
      "y_pred: (67460, 1)\ty_score: (67460, 1)\ty_true: (67460, 1)\n"
     ]
    },
    {
     "name": "stderr",
     "output_type": "stream",
     "text": [
      "\n",
      " 73%|███████▎  | 11/15 [02:00<00:42, 10.52s/it]\u001b[A"
     ]
    },
    {
     "name": "stdout",
     "output_type": "stream",
     "text": [
      "PKM2 /p/vast1/jones289/hd_results/5/hdbind-rp-ecfp-1024-1.lit-pcba-PKM2-ave.5.pkl hdbind-rp-ecfp-1024-1\n",
      "y_pred: (61516, 1)\ty_score: (61516, 1)\ty_true: (61516, 1)\n",
      "y_pred: (61516, 1)\ty_score: (61516, 1)\ty_true: (61516, 1)\n",
      "y_pred: (61516, 1)\ty_score: (61516, 1)\ty_true: (61516, 1)\n",
      "y_pred: (61516, 1)\ty_score: (61516, 1)\ty_true: (61516, 1)\n",
      "y_pred: (61516, 1)\ty_score: (61516, 1)\ty_true: (61516, 1)\n",
      "y_pred: (61516, 1)\ty_score: (61516, 1)\ty_true: (61516, 1)\n",
      "y_pred: (61516, 1)\ty_score: (61516, 1)\ty_true: (61516, 1)\n",
      "y_pred: (61516, 1)\ty_score: (61516, 1)\ty_true: (61516, 1)\n",
      "y_pred: (61516, 1)\ty_score: (61516, 1)\ty_true: (61516, 1)\n",
      "y_pred: (61516, 1)\ty_score: (61516, 1)\ty_true: (61516, 1)\n",
      "y_pred: (61516, 1)\ty_score: (61516, 1)\ty_true: (61516, 1)\n",
      "y_pred: (61516, 1)\ty_score: (61516, 1)\ty_true: (61516, 1)\n",
      "y_pred: (61516, 1)\ty_score: (61516, 1)\ty_true: (61516, 1)\n",
      "y_pred: (61516, 1)\ty_score: (61516, 1)\ty_true: (61516, 1)\n",
      "y_pred: (61516, 1)\ty_score: (61516, 1)\ty_true: (61516, 1)\n",
      "y_pred: (61516, 1)\ty_score: (61516, 1)\ty_true: (61516, 1)\n",
      "y_pred: (61516, 1)\ty_score: (61516, 1)\ty_true: (61516, 1)\n",
      "y_pred: (61516, 1)\ty_score: (61516, 1)\ty_true: (61516, 1)\n",
      "y_pred: (61516, 1)\ty_score: (61516, 1)\ty_true: (61516, 1)\n",
      "y_pred: (61516, 1)\ty_score: (61516, 1)\ty_true: (61516, 1)\n"
     ]
    },
    {
     "name": "stderr",
     "output_type": "stream",
     "text": [
      "\n",
      " 80%|████████  | 12/15 [02:13<00:34, 11.35s/it]\u001b[A"
     ]
    },
    {
     "name": "stdout",
     "output_type": "stream",
     "text": [
      "PPARG /p/vast1/jones289/hd_results/5/hdbind-rp-ecfp-1024-1.lit-pcba-PPARG-ave.5.pkl hdbind-rp-ecfp-1024-1\n",
      "y_pred: (1308, 1)\ty_score: (1308, 1)\ty_true: (1308, 1)\n",
      "y_pred: (1308, 1)\ty_score: (1308, 1)\ty_true: (1308, 1)\n",
      "y_pred: (1308, 1)\ty_score: (1308, 1)\ty_true: (1308, 1)\n",
      "y_pred: (1308, 1)\ty_score: (1308, 1)\ty_true: (1308, 1)\n",
      "y_pred: (1308, 1)\ty_score: (1308, 1)\ty_true: (1308, 1)\n",
      "y_pred: (1308, 1)\ty_score: (1308, 1)\ty_true: (1308, 1)\n",
      "y_pred: (1308, 1)\ty_score: (1308, 1)\ty_true: (1308, 1)\n",
      "y_pred: (1308, 1)\ty_score: (1308, 1)\ty_true: (1308, 1)\n",
      "y_pred: (1308, 1)\ty_score: (1308, 1)\ty_true: (1308, 1)\n",
      "y_pred: (1308, 1)\ty_score: (1308, 1)\ty_true: (1308, 1)\n",
      "y_pred: (1308, 1)\ty_score: (1308, 1)\ty_true: (1308, 1)\n",
      "y_pred: (1308, 1)\ty_score: (1308, 1)\ty_true: (1308, 1)\n",
      "y_pred: (1308, 1)\ty_score: (1308, 1)\ty_true: (1308, 1)\n"
     ]
    },
    {
     "name": "stderr",
     "output_type": "stream",
     "text": [
      "\n",
      " 87%|████████▋ | 13/15 [02:13<00:16,  8.01s/it]\u001b[A"
     ]
    },
    {
     "name": "stdout",
     "output_type": "stream",
     "text": [
      "y_pred: (1308, 1)\ty_score: (1308, 1)\ty_true: (1308, 1)\n",
      "y_pred: (1308, 1)\ty_score: (1308, 1)\ty_true: (1308, 1)\n",
      "y_pred: (1308, 1)\ty_score: (1308, 1)\ty_true: (1308, 1)\n",
      "y_pred: (1308, 1)\ty_score: (1308, 1)\ty_true: (1308, 1)\n",
      "y_pred: (1308, 1)\ty_score: (1308, 1)\ty_true: (1308, 1)\n",
      "y_pred: (1308, 1)\ty_score: (1308, 1)\ty_true: (1308, 1)\n",
      "y_pred: (1308, 1)\ty_score: (1308, 1)\ty_true: (1308, 1)\n",
      "TP53 /p/vast1/jones289/hd_results/5/hdbind-rp-ecfp-1024-1.lit-pcba-TP53-ave.5.pkl hdbind-rp-ecfp-1024-1\n",
      "y_pred: (1061, 1)\ty_score: (1061, 1)\ty_true: (1061, 1)\n",
      "y_pred: (1061, 1)\ty_score: (1061, 1)\ty_true: (1061, 1)\n",
      "y_pred: (1061, 1)\ty_score: (1061, 1)\ty_true: (1061, 1)\n",
      "y_pred: (1061, 1)\ty_score: (1061, 1)\ty_true: (1061, 1)\n",
      "y_pred: (1061, 1)\ty_score: (1061, 1)\ty_true: (1061, 1)\n",
      "y_pred: (1061, 1)\ty_score: (1061, 1)\ty_true: (1061, 1)\n",
      "y_pred: (1061, 1)\ty_score: (1061, 1)\ty_true: (1061, 1)\n",
      "y_pred: (1061, 1)\ty_score: (1061, 1)\ty_true: (1061, 1)\n"
     ]
    },
    {
     "name": "stderr",
     "output_type": "stream",
     "text": [
      "\n",
      " 93%|█████████▎| 14/15 [02:14<00:05,  5.67s/it]\u001b[A"
     ]
    },
    {
     "name": "stdout",
     "output_type": "stream",
     "text": [
      "y_pred: (1061, 1)\ty_score: (1061, 1)\ty_true: (1061, 1)\n",
      "y_pred: (1061, 1)\ty_score: (1061, 1)\ty_true: (1061, 1)\n",
      "y_pred: (1061, 1)\ty_score: (1061, 1)\ty_true: (1061, 1)\n",
      "y_pred: (1061, 1)\ty_score: (1061, 1)\ty_true: (1061, 1)\n",
      "y_pred: (1061, 1)\ty_score: (1061, 1)\ty_true: (1061, 1)\n",
      "y_pred: (1061, 1)\ty_score: (1061, 1)\ty_true: (1061, 1)\n",
      "y_pred: (1061, 1)\ty_score: (1061, 1)\ty_true: (1061, 1)\n",
      "y_pred: (1061, 1)\ty_score: (1061, 1)\ty_true: (1061, 1)\n",
      "y_pred: (1061, 1)\ty_score: (1061, 1)\ty_true: (1061, 1)\n",
      "y_pred: (1061, 1)\ty_score: (1061, 1)\ty_true: (1061, 1)\n",
      "y_pred: (1061, 1)\ty_score: (1061, 1)\ty_true: (1061, 1)\n",
      "y_pred: (1061, 1)\ty_score: (1061, 1)\ty_true: (1061, 1)\n",
      "VDR /p/vast1/jones289/hd_results/5/hdbind-rp-ecfp-1024-1.lit-pcba-VDR-ave.5.pkl hdbind-rp-ecfp-1024-1\n",
      "y_pred: (66800, 1)\ty_score: (66800, 1)\ty_true: (66800, 1)\n",
      "y_pred: (66800, 1)\ty_score: (66800, 1)\ty_true: (66800, 1)\n",
      "y_pred: (66800, 1)\ty_score: (66800, 1)\ty_true: (66800, 1)\n",
      "y_pred: (66800, 1)\ty_score: (66800, 1)\ty_true: (66800, 1)\n",
      "y_pred: (66800, 1)\ty_score: (66800, 1)\ty_true: (66800, 1)\n",
      "y_pred: (66800, 1)\ty_score: (66800, 1)\ty_true: (66800, 1)\n",
      "y_pred: (66800, 1)\ty_score: (66800, 1)\ty_true: (66800, 1)\n",
      "y_pred: (66800, 1)\ty_score: (66800, 1)\ty_true: (66800, 1)\n",
      "y_pred: (66800, 1)\ty_score: (66800, 1)\ty_true: (66800, 1)\n",
      "y_pred: (66800, 1)\ty_score: (66800, 1)\ty_true: (66800, 1)\n",
      "y_pred: (66800, 1)\ty_score: (66800, 1)\ty_true: (66800, 1)\n",
      "y_pred: (66800, 1)\ty_score: (66800, 1)\ty_true: (66800, 1)\n",
      "y_pred: (66800, 1)\ty_score: (66800, 1)\ty_true: (66800, 1)\n",
      "y_pred: (66800, 1)\ty_score: (66800, 1)\ty_true: (66800, 1)\n",
      "y_pred: (66800, 1)\ty_score: (66800, 1)\ty_true: (66800, 1)\n",
      "y_pred: (66800, 1)\ty_score: (66800, 1)\ty_true: (66800, 1)\n",
      "y_pred: (66800, 1)\ty_score: (66800, 1)\ty_true: (66800, 1)\n",
      "y_pred: (66800, 1)\ty_score: (66800, 1)\ty_true: (66800, 1)\n",
      "y_pred: (66800, 1)\ty_score: (66800, 1)\ty_true: (66800, 1)\n",
      "y_pred: (66800, 1)\ty_score: (66800, 1)\ty_true: (66800, 1)\n"
     ]
    },
    {
     "name": "stderr",
     "output_type": "stream",
     "text": [
      "\n",
      "100%|██████████| 15/15 [02:30<00:00, 10.01s/it]\u001b[A\n",
      " 22%|██▏       | 2/9 [05:16<18:17, 156.77s/it]\n",
      "  0%|          | 0/15 [00:00<?, ?it/s]\u001b[A"
     ]
    },
    {
     "name": "stdout",
     "output_type": "stream",
     "text": [
      "ADRB2 /p/vast1/jones289/hd_results/5/hdbind-rp-ecfp-1024-1-100k.lit-pcba-ADRB2-ave.5.pkl hdbind-rp-ecfp-1024-1-100k\n",
      "y_pred: (78124, 1)\ty_score: (78124, 1)\ty_true: (78124, 1)\n",
      "y_pred: (78124, 1)\ty_score: (78124, 1)\ty_true: (78124, 1)\n",
      "y_pred: (78124, 1)\ty_score: (78124, 1)\ty_true: (78124, 1)\n",
      "y_pred: (78124, 1)\ty_score: (78124, 1)\ty_true: (78124, 1)\n",
      "y_pred: (78124, 1)\ty_score: (78124, 1)\ty_true: (78124, 1)\n",
      "y_pred: (78124, 1)\ty_score: (78124, 1)\ty_true: (78124, 1)\n",
      "y_pred: (78124, 1)\ty_score: (78124, 1)\ty_true: (78124, 1)\n",
      "y_pred: (78124, 1)\ty_score: (78124, 1)\ty_true: (78124, 1)\n",
      "y_pred: (78124, 1)\ty_score: (78124, 1)\ty_true: (78124, 1)\n",
      "y_pred: (78124, 1)\ty_score: (78124, 1)\ty_true: (78124, 1)\n",
      "y_pred: (78124, 1)\ty_score: (78124, 1)\ty_true: (78124, 1)\n",
      "y_pred: (78124, 1)\ty_score: (78124, 1)\ty_true: (78124, 1)\n",
      "y_pred: (78124, 1)\ty_score: (78124, 1)\ty_true: (78124, 1)\n",
      "y_pred: (78124, 1)\ty_score: (78124, 1)\ty_true: (78124, 1)\n",
      "y_pred: (78124, 1)\ty_score: (78124, 1)\ty_true: (78124, 1)\n",
      "y_pred: (78124, 1)\ty_score: (78124, 1)\ty_true: (78124, 1)\n",
      "y_pred: (78124, 1)\ty_score: (78124, 1)\ty_true: (78124, 1)\n",
      "y_pred: (78124, 1)\ty_score: (78124, 1)\ty_true: (78124, 1)\n",
      "y_pred: (78124, 1)\ty_score: (78124, 1)\ty_true: (78124, 1)\n",
      "y_pred: (78124, 1)\ty_score: (78124, 1)\ty_true: (78124, 1)\n"
     ]
    },
    {
     "name": "stderr",
     "output_type": "stream",
     "text": [
      "\n",
      "  7%|▋         | 1/15 [00:18<04:12, 18.03s/it]\u001b[A"
     ]
    },
    {
     "name": "stdout",
     "output_type": "stream",
     "text": [
      "ALDH1 /p/vast1/jones289/hd_results/5/hdbind-rp-ecfp-1024-1-100k.lit-pcba-ALDH1-ave.5.pkl hdbind-rp-ecfp-1024-1-100k\n",
      "y_pred: (27212, 1)\ty_score: (27212, 1)\ty_true: (27212, 1)\n",
      "y_pred: (27212, 1)\ty_score: (27212, 1)\ty_true: (27212, 1)\n",
      "y_pred: (27212, 1)\ty_score: (27212, 1)\ty_true: (27212, 1)\n",
      "y_pred: (27212, 1)\ty_score: (27212, 1)\ty_true: (27212, 1)\n",
      "y_pred: (27212, 1)\ty_score: (27212, 1)\ty_true: (27212, 1)\n",
      "y_pred: (27212, 1)\ty_score: (27212, 1)\ty_true: (27212, 1)\n",
      "y_pred: (27212, 1)\ty_score: (27212, 1)\ty_true: (27212, 1)\n",
      "y_pred: (27212, 1)\ty_score: (27212, 1)\ty_true: (27212, 1)\n",
      "y_pred: (27212, 1)\ty_score: (27212, 1)\ty_true: (27212, 1)\n",
      "y_pred: (27212, 1)\ty_score: (27212, 1)\ty_true: (27212, 1)\n",
      "y_pred: (27212, 1)\ty_score: (27212, 1)\ty_true: (27212, 1)\n",
      "y_pred: (27212, 1)\ty_score: (27212, 1)\ty_true: (27212, 1)\n",
      "y_pred: (27212, 1)\ty_score: (27212, 1)\ty_true: (27212, 1)\n",
      "y_pred: (27212, 1)\ty_score: (27212, 1)\ty_true: (27212, 1)\n",
      "y_pred: (27212, 1)\ty_score: (27212, 1)\ty_true: (27212, 1)\n",
      "y_pred: (27212, 1)\ty_score: (27212, 1)\ty_true: (27212, 1)\n",
      "y_pred: (27212, 1)\ty_score: (27212, 1)\ty_true: (27212, 1)\n",
      "y_pred: (27212, 1)\ty_score: (27212, 1)\ty_true: (27212, 1)\n",
      "y_pred: (27212, 1)\ty_score: (27212, 1)\ty_true: (27212, 1)\n",
      "y_pred: (27212, 1)\ty_score: (27212, 1)\ty_true: (27212, 1)\n"
     ]
    },
    {
     "name": "stderr",
     "output_type": "stream",
     "text": [
      "\n",
      " 13%|█▎        | 2/15 [00:23<02:17, 10.57s/it]\u001b[A"
     ]
    },
    {
     "name": "stdout",
     "output_type": "stream",
     "text": [
      "ESR1_ago /p/vast1/jones289/hd_results/5/hdbind-rp-ecfp-1024-1-100k.lit-pcba-ESR1_ago-ave.5.pkl hdbind-rp-ecfp-1024-1-100k\n",
      "y_pred: (1398, 1)\ty_score: (1398, 1)\ty_true: (1398, 1)\n",
      "y_pred: (1398, 1)\ty_score: (1398, 1)\ty_true: (1398, 1)\n",
      "y_pred: (1398, 1)\ty_score: (1398, 1)\ty_true: (1398, 1)\n",
      "y_pred: (1398, 1)\ty_score: (1398, 1)\ty_true: (1398, 1)\n",
      "y_pred: (1398, 1)\ty_score: (1398, 1)\ty_true: (1398, 1)\n"
     ]
    },
    {
     "name": "stderr",
     "output_type": "stream",
     "text": [
      "\n",
      " 20%|██        | 3/15 [00:23<01:11,  5.93s/it]\u001b[A"
     ]
    },
    {
     "name": "stdout",
     "output_type": "stream",
     "text": [
      "y_pred: (1398, 1)\ty_score: (1398, 1)\ty_true: (1398, 1)\n",
      "y_pred: (1398, 1)\ty_score: (1398, 1)\ty_true: (1398, 1)\n",
      "y_pred: (1398, 1)\ty_score: (1398, 1)\ty_true: (1398, 1)\n",
      "y_pred: (1398, 1)\ty_score: (1398, 1)\ty_true: (1398, 1)\n",
      "y_pred: (1398, 1)\ty_score: (1398, 1)\ty_true: (1398, 1)\n",
      "y_pred: (1398, 1)\ty_score: (1398, 1)\ty_true: (1398, 1)\n",
      "y_pred: (1398, 1)\ty_score: (1398, 1)\ty_true: (1398, 1)\n",
      "y_pred: (1398, 1)\ty_score: (1398, 1)\ty_true: (1398, 1)\n",
      "y_pred: (1398, 1)\ty_score: (1398, 1)\ty_true: (1398, 1)\n",
      "y_pred: (1398, 1)\ty_score: (1398, 1)\ty_true: (1398, 1)\n",
      "y_pred: (1398, 1)\ty_score: (1398, 1)\ty_true: (1398, 1)\n",
      "y_pred: (1398, 1)\ty_score: (1398, 1)\ty_true: (1398, 1)\n",
      "y_pred: (1398, 1)\ty_score: (1398, 1)\ty_true: (1398, 1)\n",
      "y_pred: (1398, 1)\ty_score: (1398, 1)\ty_true: (1398, 1)\n",
      "y_pred: (1398, 1)\ty_score: (1398, 1)\ty_true: (1398, 1)\n",
      "ESR1_ant /p/vast1/jones289/hd_results/5/hdbind-rp-ecfp-1024-1-100k.lit-pcba-ESR1_ant-ave.5.pkl hdbind-rp-ecfp-1024-1-100k\n",
      "y_pred: (1262, 1)\ty_score: (1262, 1)\ty_true: (1262, 1)\n",
      "y_pred: (1262, 1)\ty_score: (1262, 1)\ty_true: (1262, 1)\n",
      "y_pred: (1262, 1)\ty_score: (1262, 1)\ty_true: (1262, 1)\n",
      "y_pred: (1262, 1)\ty_score: (1262, 1)\ty_true: (1262, 1)\n",
      "y_pred: (1262, 1)\ty_score: (1262, 1)\ty_true: (1262, 1)\n",
      "y_pred: (1262, 1)\ty_score: (1262, 1)\ty_true: (1262, 1)\n",
      "y_pred: (1262, 1)\ty_score: (1262, 1)\ty_true: (1262, 1)\n",
      "y_pred: (1262, 1)\ty_score: (1262, 1)\ty_true: (1262, 1)\n",
      "y_pred: (1262, 1)\ty_score: (1262, 1)\ty_true: (1262, 1)\n",
      "y_pred: (1262, 1)\ty_score: (1262, 1)\ty_true: (1262, 1)\n",
      "y_pred: (1262, 1)\ty_score: (1262, 1)\ty_true: (1262, 1)\n",
      "y_pred: (1262, 1)\ty_score: (1262, 1)\ty_true: (1262, 1)\n",
      "y_pred: (1262, 1)\ty_score: (1262, 1)\ty_true: (1262, 1)\n",
      "y_pred: (1262, 1)\ty_score: (1262, 1)\ty_true: (1262, 1)\n",
      "y_pred: (1262, 1)\ty_score: (1262, 1)\ty_true: (1262, 1)\n",
      "y_pred: (1262, 1)\ty_score: (1262, 1)\ty_true: (1262, 1)\n",
      "y_pred: (1262, 1)\ty_score: (1262, 1)\ty_true: (1262, 1)\n"
     ]
    },
    {
     "name": "stderr",
     "output_type": "stream",
     "text": [
      "\n",
      " 27%|██▋       | 4/15 [00:24<00:41,  3.74s/it]\u001b[A"
     ]
    },
    {
     "name": "stdout",
     "output_type": "stream",
     "text": [
      "y_pred: (1262, 1)\ty_score: (1262, 1)\ty_true: (1262, 1)\n",
      "y_pred: (1262, 1)\ty_score: (1262, 1)\ty_true: (1262, 1)\n",
      "y_pred: (1262, 1)\ty_score: (1262, 1)\ty_true: (1262, 1)\n",
      "FEN1 /p/vast1/jones289/hd_results/5/hdbind-rp-ecfp-1024-1-100k.lit-pcba-FEN1-ave.5.pkl hdbind-rp-ecfp-1024-1-100k\n",
      "y_pred: (88942, 1)\ty_score: (88942, 1)\ty_true: (88942, 1)\n",
      "y_pred: (88942, 1)\ty_score: (88942, 1)\ty_true: (88942, 1)\n",
      "y_pred: (88942, 1)\ty_score: (88942, 1)\ty_true: (88942, 1)\n",
      "y_pred: (88942, 1)\ty_score: (88942, 1)\ty_true: (88942, 1)\n",
      "y_pred: (88942, 1)\ty_score: (88942, 1)\ty_true: (88942, 1)\n",
      "y_pred: (88942, 1)\ty_score: (88942, 1)\ty_true: (88942, 1)\n",
      "y_pred: (88942, 1)\ty_score: (88942, 1)\ty_true: (88942, 1)\n",
      "y_pred: (88942, 1)\ty_score: (88942, 1)\ty_true: (88942, 1)\n",
      "y_pred: (88942, 1)\ty_score: (88942, 1)\ty_true: (88942, 1)\n",
      "y_pred: (88942, 1)\ty_score: (88942, 1)\ty_true: (88942, 1)\n",
      "y_pred: (88942, 1)\ty_score: (88942, 1)\ty_true: (88942, 1)\n",
      "y_pred: (88942, 1)\ty_score: (88942, 1)\ty_true: (88942, 1)\n",
      "y_pred: (88942, 1)\ty_score: (88942, 1)\ty_true: (88942, 1)\n",
      "y_pred: (88942, 1)\ty_score: (88942, 1)\ty_true: (88942, 1)\n",
      "y_pred: (88942, 1)\ty_score: (88942, 1)\ty_true: (88942, 1)\n",
      "y_pred: (88942, 1)\ty_score: (88942, 1)\ty_true: (88942, 1)\n",
      "y_pred: (88942, 1)\ty_score: (88942, 1)\ty_true: (88942, 1)\n",
      "y_pred: (88942, 1)\ty_score: (88942, 1)\ty_true: (88942, 1)\n",
      "y_pred: (88942, 1)\ty_score: (88942, 1)\ty_true: (88942, 1)\n",
      "y_pred: (88942, 1)\ty_score: (88942, 1)\ty_true: (88942, 1)\n"
     ]
    },
    {
     "name": "stderr",
     "output_type": "stream",
     "text": [
      "\n",
      " 33%|███▎      | 5/15 [00:43<01:33,  9.39s/it]\u001b[A"
     ]
    },
    {
     "name": "stdout",
     "output_type": "stream",
     "text": [
      "GBA /p/vast1/jones289/hd_results/5/hdbind-rp-ecfp-1024-1-100k.lit-pcba-GBA-ave.5.pkl hdbind-rp-ecfp-1024-1-100k\n",
      "y_pred: (74054, 1)\ty_score: (74054, 1)\ty_true: (74054, 1)\n",
      "y_pred: (74054, 1)\ty_score: (74054, 1)\ty_true: (74054, 1)\n",
      "y_pred: (74054, 1)\ty_score: (74054, 1)\ty_true: (74054, 1)\n",
      "y_pred: (74054, 1)\ty_score: (74054, 1)\ty_true: (74054, 1)\n",
      "y_pred: (74054, 1)\ty_score: (74054, 1)\ty_true: (74054, 1)\n",
      "y_pred: (74054, 1)\ty_score: (74054, 1)\ty_true: (74054, 1)\n",
      "y_pred: (74054, 1)\ty_score: (74054, 1)\ty_true: (74054, 1)\n",
      "y_pred: (74054, 1)\ty_score: (74054, 1)\ty_true: (74054, 1)\n",
      "y_pred: (74054, 1)\ty_score: (74054, 1)\ty_true: (74054, 1)\n",
      "y_pred: (74054, 1)\ty_score: (74054, 1)\ty_true: (74054, 1)\n",
      "y_pred: (74054, 1)\ty_score: (74054, 1)\ty_true: (74054, 1)\n",
      "y_pred: (74054, 1)\ty_score: (74054, 1)\ty_true: (74054, 1)\n",
      "y_pred: (74054, 1)\ty_score: (74054, 1)\ty_true: (74054, 1)\n",
      "y_pred: (74054, 1)\ty_score: (74054, 1)\ty_true: (74054, 1)\n",
      "y_pred: (74054, 1)\ty_score: (74054, 1)\ty_true: (74054, 1)\n",
      "y_pred: (74054, 1)\ty_score: (74054, 1)\ty_true: (74054, 1)\n",
      "y_pred: (74054, 1)\ty_score: (74054, 1)\ty_true: (74054, 1)\n",
      "y_pred: (74054, 1)\ty_score: (74054, 1)\ty_true: (74054, 1)\n",
      "y_pred: (74054, 1)\ty_score: (74054, 1)\ty_true: (74054, 1)\n",
      "y_pred: (74054, 1)\ty_score: (74054, 1)\ty_true: (74054, 1)\n"
     ]
    },
    {
     "name": "stderr",
     "output_type": "stream",
     "text": [
      "\n",
      " 40%|████      | 6/15 [01:00<01:46, 11.84s/it]\u001b[A"
     ]
    },
    {
     "name": "stdout",
     "output_type": "stream",
     "text": [
      "IDH1 /p/vast1/jones289/hd_results/5/hdbind-rp-ecfp-1024-1-100k.lit-pcba-IDH1-ave.5.pkl hdbind-rp-ecfp-1024-1-100k\n",
      "y_pred: (90521, 1)\ty_score: (90521, 1)\ty_true: (90521, 1)\n",
      "y_pred: (90521, 1)\ty_score: (90521, 1)\ty_true: (90521, 1)\n",
      "y_pred: (90521, 1)\ty_score: (90521, 1)\ty_true: (90521, 1)\n",
      "y_pred: (90521, 1)\ty_score: (90521, 1)\ty_true: (90521, 1)\n",
      "y_pred: (90521, 1)\ty_score: (90521, 1)\ty_true: (90521, 1)\n",
      "y_pred: (90521, 1)\ty_score: (90521, 1)\ty_true: (90521, 1)\n",
      "y_pred: (90521, 1)\ty_score: (90521, 1)\ty_true: (90521, 1)\n",
      "y_pred: (90521, 1)\ty_score: (90521, 1)\ty_true: (90521, 1)\n",
      "y_pred: (90521, 1)\ty_score: (90521, 1)\ty_true: (90521, 1)\n",
      "y_pred: (90521, 1)\ty_score: (90521, 1)\ty_true: (90521, 1)\n",
      "y_pred: (90521, 1)\ty_score: (90521, 1)\ty_true: (90521, 1)\n",
      "y_pred: (90521, 1)\ty_score: (90521, 1)\ty_true: (90521, 1)\n",
      "y_pred: (90521, 1)\ty_score: (90521, 1)\ty_true: (90521, 1)\n",
      "y_pred: (90521, 1)\ty_score: (90521, 1)\ty_true: (90521, 1)\n",
      "y_pred: (90521, 1)\ty_score: (90521, 1)\ty_true: (90521, 1)\n",
      "y_pred: (90521, 1)\ty_score: (90521, 1)\ty_true: (90521, 1)\n",
      "y_pred: (90521, 1)\ty_score: (90521, 1)\ty_true: (90521, 1)\n",
      "y_pred: (90521, 1)\ty_score: (90521, 1)\ty_true: (90521, 1)\n",
      "y_pred: (90521, 1)\ty_score: (90521, 1)\ty_true: (90521, 1)\n",
      "y_pred: (90521, 1)\ty_score: (90521, 1)\ty_true: (90521, 1)\n"
     ]
    },
    {
     "name": "stderr",
     "output_type": "stream",
     "text": [
      "\n",
      " 47%|████▋     | 7/15 [01:22<02:02, 15.29s/it]\u001b[A"
     ]
    },
    {
     "name": "stdout",
     "output_type": "stream",
     "text": [
      "KAT2A /p/vast1/jones289/hd_results/5/hdbind-rp-ecfp-1024-1-100k.lit-pcba-KAT2A-ave.5.pkl hdbind-rp-ecfp-1024-1-100k\n",
      "y_pred: (87185, 1)\ty_score: (87185, 1)\ty_true: (87185, 1)\n",
      "y_pred: (87185, 1)\ty_score: (87185, 1)\ty_true: (87185, 1)\n",
      "y_pred: (87185, 1)\ty_score: (87185, 1)\ty_true: (87185, 1)\n",
      "y_pred: (87185, 1)\ty_score: (87185, 1)\ty_true: (87185, 1)\n",
      "y_pred: (87185, 1)\ty_score: (87185, 1)\ty_true: (87185, 1)\n",
      "y_pred: (87185, 1)\ty_score: (87185, 1)\ty_true: (87185, 1)\n",
      "y_pred: (87185, 1)\ty_score: (87185, 1)\ty_true: (87185, 1)\n",
      "y_pred: (87185, 1)\ty_score: (87185, 1)\ty_true: (87185, 1)\n",
      "y_pred: (87185, 1)\ty_score: (87185, 1)\ty_true: (87185, 1)\n",
      "y_pred: (87185, 1)\ty_score: (87185, 1)\ty_true: (87185, 1)\n",
      "y_pred: (87185, 1)\ty_score: (87185, 1)\ty_true: (87185, 1)\n",
      "y_pred: (87185, 1)\ty_score: (87185, 1)\ty_true: (87185, 1)\n",
      "y_pred: (87185, 1)\ty_score: (87185, 1)\ty_true: (87185, 1)\n",
      "y_pred: (87185, 1)\ty_score: (87185, 1)\ty_true: (87185, 1)\n",
      "y_pred: (87185, 1)\ty_score: (87185, 1)\ty_true: (87185, 1)\n",
      "y_pred: (87185, 1)\ty_score: (87185, 1)\ty_true: (87185, 1)\n",
      "y_pred: (87185, 1)\ty_score: (87185, 1)\ty_true: (87185, 1)\n",
      "y_pred: (87185, 1)\ty_score: (87185, 1)\ty_true: (87185, 1)\n",
      "y_pred: (87185, 1)\ty_score: (87185, 1)\ty_true: (87185, 1)\n",
      "y_pred: (87185, 1)\ty_score: (87185, 1)\ty_true: (87185, 1)\n"
     ]
    },
    {
     "name": "stderr",
     "output_type": "stream",
     "text": [
      "\n",
      " 53%|█████▎    | 8/15 [01:45<02:03, 17.61s/it]\u001b[A"
     ]
    },
    {
     "name": "stdout",
     "output_type": "stream",
     "text": [
      "MAPK1 /p/vast1/jones289/hd_results/5/hdbind-rp-ecfp-1024-1-100k.lit-pcba-MAPK1-ave.5.pkl hdbind-rp-ecfp-1024-1-100k\n",
      "y_pred: (15734, 1)\ty_score: (15734, 1)\ty_true: (15734, 1)\n",
      "y_pred: (15734, 1)\ty_score: (15734, 1)\ty_true: (15734, 1)\n",
      "y_pred: (15734, 1)\ty_score: (15734, 1)\ty_true: (15734, 1)\n",
      "y_pred: (15734, 1)\ty_score: (15734, 1)\ty_true: (15734, 1)\n",
      "y_pred: (15734, 1)\ty_score: (15734, 1)\ty_true: (15734, 1)\n",
      "y_pred: (15734, 1)\ty_score: (15734, 1)\ty_true: (15734, 1)\n",
      "y_pred: (15734, 1)\ty_score: (15734, 1)\ty_true: (15734, 1)\n",
      "y_pred: (15734, 1)\ty_score: (15734, 1)\ty_true: (15734, 1)\n",
      "y_pred: (15734, 1)\ty_score: (15734, 1)\ty_true: (15734, 1)\n",
      "y_pred: (15734, 1)\ty_score: (15734, 1)\ty_true: (15734, 1)\n",
      "y_pred: (15734, 1)\ty_score: (15734, 1)\ty_true: (15734, 1)\n",
      "y_pred: (15734, 1)\ty_score: (15734, 1)\ty_true: (15734, 1)\n",
      "y_pred: (15734, 1)\ty_score: (15734, 1)\ty_true: (15734, 1)\n",
      "y_pred: (15734, 1)\ty_score: (15734, 1)\ty_true: (15734, 1)\n",
      "y_pred: (15734, 1)\ty_score: (15734, 1)\ty_true: (15734, 1)\n",
      "y_pred: (15734, 1)\ty_score: (15734, 1)\ty_true: (15734, 1)\n",
      "y_pred: (15734, 1)\ty_score: (15734, 1)\ty_true: (15734, 1)\n",
      "y_pred: (15734, 1)\ty_score: (15734, 1)\ty_true: (15734, 1)\n",
      "y_pred: (15734, 1)\ty_score: (15734, 1)\ty_true: (15734, 1)\n"
     ]
    },
    {
     "name": "stderr",
     "output_type": "stream",
     "text": [
      "\n",
      " 60%|██████    | 9/15 [01:48<01:19, 13.19s/it]\u001b[A"
     ]
    },
    {
     "name": "stdout",
     "output_type": "stream",
     "text": [
      "y_pred: (15734, 1)\ty_score: (15734, 1)\ty_true: (15734, 1)\n",
      "MTORC1 /p/vast1/jones289/hd_results/5/hdbind-rp-ecfp-1024-1-100k.lit-pcba-MTORC1-ave.5.pkl hdbind-rp-ecfp-1024-1-100k\n",
      "y_pred: (8267, 1)\ty_score: (8267, 1)\ty_true: (8267, 1)\n",
      "y_pred: (8267, 1)\ty_score: (8267, 1)\ty_true: (8267, 1)\n",
      "y_pred: (8267, 1)\ty_score: (8267, 1)\ty_true: (8267, 1)\n",
      "y_pred: (8267, 1)\ty_score: (8267, 1)\ty_true: (8267, 1)\n",
      "y_pred: (8267, 1)\ty_score: (8267, 1)\ty_true: (8267, 1)\n",
      "y_pred: (8267, 1)\ty_score: (8267, 1)\ty_true: (8267, 1)\n",
      "y_pred: (8267, 1)\ty_score: (8267, 1)\ty_true: (8267, 1)\n",
      "y_pred: (8267, 1)\ty_score: (8267, 1)\ty_true: (8267, 1)\n",
      "y_pred: (8267, 1)\ty_score: (8267, 1)\ty_true: (8267, 1)\n",
      "y_pred: (8267, 1)\ty_score: (8267, 1)\ty_true: (8267, 1)\n",
      "y_pred: (8267, 1)\ty_score: (8267, 1)\ty_true: (8267, 1)\n",
      "y_pred: (8267, 1)\ty_score: (8267, 1)\ty_true: (8267, 1)\n",
      "y_pred: (8267, 1)\ty_score: (8267, 1)\ty_true: (8267, 1)\n",
      "y_pred: (8267, 1)\ty_score: (8267, 1)\ty_true: (8267, 1)\n",
      "y_pred: (8267, 1)\ty_score: (8267, 1)\ty_true: (8267, 1)\n",
      "y_pred: (8267, 1)\ty_score: (8267, 1)\ty_true: (8267, 1)\n",
      "y_pred: (8267, 1)\ty_score: (8267, 1)\ty_true: (8267, 1)\n",
      "y_pred: (8267, 1)\ty_score: (8267, 1)\ty_true: (8267, 1)\n",
      "y_pred: (8267, 1)\ty_score: (8267, 1)\ty_true: (8267, 1)\n"
     ]
    },
    {
     "name": "stderr",
     "output_type": "stream",
     "text": [
      "\n",
      " 67%|██████▋   | 10/15 [01:50<00:48,  9.67s/it]\u001b[A"
     ]
    },
    {
     "name": "stdout",
     "output_type": "stream",
     "text": [
      "y_pred: (8267, 1)\ty_score: (8267, 1)\ty_true: (8267, 1)\n",
      "OPRK1 /p/vast1/jones289/hd_results/5/hdbind-rp-ecfp-1024-1-100k.lit-pcba-OPRK1-ave.5.pkl hdbind-rp-ecfp-1024-1-100k\n",
      "y_pred: (67460, 1)\ty_score: (67460, 1)\ty_true: (67460, 1)\n",
      "y_pred: (67460, 1)\ty_score: (67460, 1)\ty_true: (67460, 1)\n",
      "y_pred: (67460, 1)\ty_score: (67460, 1)\ty_true: (67460, 1)\n",
      "y_pred: (67460, 1)\ty_score: (67460, 1)\ty_true: (67460, 1)\n",
      "y_pred: (67460, 1)\ty_score: (67460, 1)\ty_true: (67460, 1)\n",
      "y_pred: (67460, 1)\ty_score: (67460, 1)\ty_true: (67460, 1)\n",
      "y_pred: (67460, 1)\ty_score: (67460, 1)\ty_true: (67460, 1)\n",
      "y_pred: (67460, 1)\ty_score: (67460, 1)\ty_true: (67460, 1)\n",
      "y_pred: (67460, 1)\ty_score: (67460, 1)\ty_true: (67460, 1)\n",
      "y_pred: (67460, 1)\ty_score: (67460, 1)\ty_true: (67460, 1)\n",
      "y_pred: (67460, 1)\ty_score: (67460, 1)\ty_true: (67460, 1)\n",
      "y_pred: (67460, 1)\ty_score: (67460, 1)\ty_true: (67460, 1)\n",
      "y_pred: (67460, 1)\ty_score: (67460, 1)\ty_true: (67460, 1)\n",
      "y_pred: (67460, 1)\ty_score: (67460, 1)\ty_true: (67460, 1)\n",
      "y_pred: (67460, 1)\ty_score: (67460, 1)\ty_true: (67460, 1)\n",
      "y_pred: (67460, 1)\ty_score: (67460, 1)\ty_true: (67460, 1)\n",
      "y_pred: (67460, 1)\ty_score: (67460, 1)\ty_true: (67460, 1)\n",
      "y_pred: (67460, 1)\ty_score: (67460, 1)\ty_true: (67460, 1)\n",
      "y_pred: (67460, 1)\ty_score: (67460, 1)\ty_true: (67460, 1)\n",
      "y_pred: (67460, 1)\ty_score: (67460, 1)\ty_true: (67460, 1)\n"
     ]
    },
    {
     "name": "stderr",
     "output_type": "stream",
     "text": [
      "\n",
      " 73%|███████▎  | 11/15 [02:07<00:47, 11.86s/it]\u001b[A"
     ]
    },
    {
     "name": "stdout",
     "output_type": "stream",
     "text": [
      "PKM2 /p/vast1/jones289/hd_results/5/hdbind-rp-ecfp-1024-1-100k.lit-pcba-PKM2-ave.5.pkl hdbind-rp-ecfp-1024-1-100k\n",
      "y_pred: (61516, 1)\ty_score: (61516, 1)\ty_true: (61516, 1)\n",
      "y_pred: (61516, 1)\ty_score: (61516, 1)\ty_true: (61516, 1)\n",
      "y_pred: (61516, 1)\ty_score: (61516, 1)\ty_true: (61516, 1)\n",
      "y_pred: (61516, 1)\ty_score: (61516, 1)\ty_true: (61516, 1)\n",
      "y_pred: (61516, 1)\ty_score: (61516, 1)\ty_true: (61516, 1)\n",
      "y_pred: (61516, 1)\ty_score: (61516, 1)\ty_true: (61516, 1)\n",
      "y_pred: (61516, 1)\ty_score: (61516, 1)\ty_true: (61516, 1)\n",
      "y_pred: (61516, 1)\ty_score: (61516, 1)\ty_true: (61516, 1)\n",
      "y_pred: (61516, 1)\ty_score: (61516, 1)\ty_true: (61516, 1)\n",
      "y_pred: (61516, 1)\ty_score: (61516, 1)\ty_true: (61516, 1)\n",
      "y_pred: (61516, 1)\ty_score: (61516, 1)\ty_true: (61516, 1)\n",
      "y_pred: (61516, 1)\ty_score: (61516, 1)\ty_true: (61516, 1)\n",
      "y_pred: (61516, 1)\ty_score: (61516, 1)\ty_true: (61516, 1)\n",
      "y_pred: (61516, 1)\ty_score: (61516, 1)\ty_true: (61516, 1)\n",
      "y_pred: (61516, 1)\ty_score: (61516, 1)\ty_true: (61516, 1)\n",
      "y_pred: (61516, 1)\ty_score: (61516, 1)\ty_true: (61516, 1)\n",
      "y_pred: (61516, 1)\ty_score: (61516, 1)\ty_true: (61516, 1)\n",
      "y_pred: (61516, 1)\ty_score: (61516, 1)\ty_true: (61516, 1)\n",
      "y_pred: (61516, 1)\ty_score: (61516, 1)\ty_true: (61516, 1)\n",
      "y_pred: (61516, 1)\ty_score: (61516, 1)\ty_true: (61516, 1)\n"
     ]
    },
    {
     "name": "stderr",
     "output_type": "stream",
     "text": [
      "\n",
      " 80%|████████  | 12/15 [02:22<00:38, 12.89s/it]\u001b[A"
     ]
    },
    {
     "name": "stdout",
     "output_type": "stream",
     "text": [
      "PPARG /p/vast1/jones289/hd_results/5/hdbind-rp-ecfp-1024-1-100k.lit-pcba-PPARG-ave.5.pkl hdbind-rp-ecfp-1024-1-100k\n",
      "y_pred: (1308, 1)\ty_score: (1308, 1)\ty_true: (1308, 1)\n",
      "y_pred: (1308, 1)\ty_score: (1308, 1)\ty_true: (1308, 1)\n",
      "y_pred: (1308, 1)\ty_score: (1308, 1)\ty_true: (1308, 1)\n",
      "y_pred: (1308, 1)\ty_score: (1308, 1)\ty_true: (1308, 1)\n",
      "y_pred: (1308, 1)\ty_score: (1308, 1)\ty_true: (1308, 1)\n",
      "y_pred: (1308, 1)\ty_score: (1308, 1)\ty_true: (1308, 1)\n",
      "y_pred: (1308, 1)\ty_score: (1308, 1)\ty_true: (1308, 1)\n",
      "y_pred: (1308, 1)\ty_score: (1308, 1)\ty_true: (1308, 1)\n",
      "y_pred: (1308, 1)\ty_score: (1308, 1)\ty_true: (1308, 1)\n"
     ]
    },
    {
     "name": "stderr",
     "output_type": "stream",
     "text": [
      "\n",
      " 87%|████████▋ | 13/15 [02:22<00:18,  9.10s/it]\u001b[A"
     ]
    },
    {
     "name": "stdout",
     "output_type": "stream",
     "text": [
      "y_pred: (1308, 1)\ty_score: (1308, 1)\ty_true: (1308, 1)\n",
      "y_pred: (1308, 1)\ty_score: (1308, 1)\ty_true: (1308, 1)\n",
      "y_pred: (1308, 1)\ty_score: (1308, 1)\ty_true: (1308, 1)\n",
      "y_pred: (1308, 1)\ty_score: (1308, 1)\ty_true: (1308, 1)\n",
      "y_pred: (1308, 1)\ty_score: (1308, 1)\ty_true: (1308, 1)\n",
      "y_pred: (1308, 1)\ty_score: (1308, 1)\ty_true: (1308, 1)\n",
      "y_pred: (1308, 1)\ty_score: (1308, 1)\ty_true: (1308, 1)\n",
      "y_pred: (1308, 1)\ty_score: (1308, 1)\ty_true: (1308, 1)\n",
      "y_pred: (1308, 1)\ty_score: (1308, 1)\ty_true: (1308, 1)\n",
      "y_pred: (1308, 1)\ty_score: (1308, 1)\ty_true: (1308, 1)\n",
      "y_pred: (1308, 1)\ty_score: (1308, 1)\ty_true: (1308, 1)\n",
      "TP53 /p/vast1/jones289/hd_results/5/hdbind-rp-ecfp-1024-1-100k.lit-pcba-TP53-ave.5.pkl hdbind-rp-ecfp-1024-1-100k\n",
      "y_pred: (1061, 1)\ty_score: (1061, 1)\ty_true: (1061, 1)\n",
      "y_pred: (1061, 1)\ty_score: (1061, 1)\ty_true: (1061, 1)\n",
      "y_pred: (1061, 1)\ty_score: (1061, 1)\ty_true: (1061, 1)\n",
      "y_pred: (1061, 1)\ty_score: (1061, 1)\ty_true: (1061, 1)\n",
      "y_pred: (1061, 1)\ty_score: (1061, 1)\ty_true: (1061, 1)\n",
      "y_pred: (1061, 1)\ty_score: (1061, 1)\ty_true: (1061, 1)\n",
      "y_pred: (1061, 1)\ty_score: (1061, 1)\ty_true: (1061, 1)\n",
      "y_pred: (1061, 1)\ty_score: (1061, 1)\ty_true: (1061, 1)\n",
      "y_pred: (1061, 1)\ty_score: (1061, 1)\ty_true: (1061, 1)\n",
      "y_pred: (1061, 1)\ty_score: (1061, 1)\ty_true: (1061, 1)\n",
      "y_pred: (1061, 1)\ty_score: (1061, 1)\ty_true: (1061, 1)\n",
      "y_pred: (1061, 1)\ty_score: (1061, 1)\ty_true: (1061, 1)\n",
      "y_pred: (1061, 1)\ty_score: (1061, 1)\ty_true: (1061, 1)\n",
      "y_pred: (1061, 1)\ty_score: (1061, 1)\ty_true: (1061, 1)\n",
      "y_pred: (1061, 1)\ty_score: (1061, 1)\ty_true: (1061, 1)\n",
      "y_pred: (1061, 1)\ty_score: (1061, 1)\ty_true: (1061, 1)\n",
      "y_pred: (1061, 1)\ty_score: (1061, 1)\ty_true: (1061, 1)\n",
      "y_pred: (1061, 1)\ty_score: (1061, 1)\ty_true: (1061, 1)\n"
     ]
    },
    {
     "name": "stderr",
     "output_type": "stream",
     "text": [
      "\n",
      " 93%|█████████▎| 14/15 [02:23<00:06,  6.45s/it]\u001b[A"
     ]
    },
    {
     "name": "stdout",
     "output_type": "stream",
     "text": [
      "y_pred: (1061, 1)\ty_score: (1061, 1)\ty_true: (1061, 1)\n",
      "y_pred: (1061, 1)\ty_score: (1061, 1)\ty_true: (1061, 1)\n",
      "VDR /p/vast1/jones289/hd_results/5/hdbind-rp-ecfp-1024-1-100k.lit-pcba-VDR-ave.5.pkl hdbind-rp-ecfp-1024-1-100k\n",
      "y_pred: (66800, 1)\ty_score: (66800, 1)\ty_true: (66800, 1)\n",
      "y_pred: (66800, 1)\ty_score: (66800, 1)\ty_true: (66800, 1)\n",
      "y_pred: (66800, 1)\ty_score: (66800, 1)\ty_true: (66800, 1)\n",
      "y_pred: (66800, 1)\ty_score: (66800, 1)\ty_true: (66800, 1)\n",
      "y_pred: (66800, 1)\ty_score: (66800, 1)\ty_true: (66800, 1)\n",
      "y_pred: (66800, 1)\ty_score: (66800, 1)\ty_true: (66800, 1)\n",
      "y_pred: (66800, 1)\ty_score: (66800, 1)\ty_true: (66800, 1)\n",
      "y_pred: (66800, 1)\ty_score: (66800, 1)\ty_true: (66800, 1)\n",
      "y_pred: (66800, 1)\ty_score: (66800, 1)\ty_true: (66800, 1)\n",
      "y_pred: (66800, 1)\ty_score: (66800, 1)\ty_true: (66800, 1)\n",
      "y_pred: (66800, 1)\ty_score: (66800, 1)\ty_true: (66800, 1)\n",
      "y_pred: (66800, 1)\ty_score: (66800, 1)\ty_true: (66800, 1)\n",
      "y_pred: (66800, 1)\ty_score: (66800, 1)\ty_true: (66800, 1)\n",
      "y_pred: (66800, 1)\ty_score: (66800, 1)\ty_true: (66800, 1)\n",
      "y_pred: (66800, 1)\ty_score: (66800, 1)\ty_true: (66800, 1)\n",
      "y_pred: (66800, 1)\ty_score: (66800, 1)\ty_true: (66800, 1)\n",
      "y_pred: (66800, 1)\ty_score: (66800, 1)\ty_true: (66800, 1)\n",
      "y_pred: (66800, 1)\ty_score: (66800, 1)\ty_true: (66800, 1)\n",
      "y_pred: (66800, 1)\ty_score: (66800, 1)\ty_true: (66800, 1)\n",
      "y_pred: (66800, 1)\ty_score: (66800, 1)\ty_true: (66800, 1)\n"
     ]
    },
    {
     "name": "stderr",
     "output_type": "stream",
     "text": [
      "\n",
      "100%|██████████| 15/15 [02:39<00:00, 10.61s/it]\u001b[A\n",
      " 33%|███▎      | 3/9 [07:55<15:47, 157.86s/it]\n",
      "  0%|          | 0/15 [00:00<?, ?it/s]\u001b[A"
     ]
    },
    {
     "name": "stdout",
     "output_type": "stream",
     "text": [
      "ADRB2 /p/vast1/jones289/hd_results/5/hdbind-rp-molclr.lit-pcba-ADRB2-ave.5.pkl hdbind-rp-molclr\n",
      "y_pred: (78124, 1)\ty_score: (78124, 1)\ty_true: (78124, 1)\n",
      "y_pred: (78124, 1)\ty_score: (78124, 1)\ty_true: (78124, 1)\n",
      "y_pred: (78124, 1)\ty_score: (78124, 1)\ty_true: (78124, 1)\n",
      "y_pred: (78124, 1)\ty_score: (78124, 1)\ty_true: (78124, 1)\n",
      "y_pred: (78124, 1)\ty_score: (78124, 1)\ty_true: (78124, 1)\n",
      "y_pred: (78124, 1)\ty_score: (78124, 1)\ty_true: (78124, 1)\n",
      "y_pred: (78124, 1)\ty_score: (78124, 1)\ty_true: (78124, 1)\n",
      "y_pred: (78124, 1)\ty_score: (78124, 1)\ty_true: (78124, 1)\n",
      "y_pred: (78124, 1)\ty_score: (78124, 1)\ty_true: (78124, 1)\n",
      "y_pred: (78124, 1)\ty_score: (78124, 1)\ty_true: (78124, 1)\n",
      "y_pred: (78124, 1)\ty_score: (78124, 1)\ty_true: (78124, 1)\n",
      "y_pred: (78124, 1)\ty_score: (78124, 1)\ty_true: (78124, 1)\n",
      "y_pred: (78124, 1)\ty_score: (78124, 1)\ty_true: (78124, 1)\n",
      "y_pred: (78124, 1)\ty_score: (78124, 1)\ty_true: (78124, 1)\n",
      "y_pred: (78124, 1)\ty_score: (78124, 1)\ty_true: (78124, 1)\n",
      "y_pred: (78124, 1)\ty_score: (78124, 1)\ty_true: (78124, 1)\n",
      "y_pred: (78124, 1)\ty_score: (78124, 1)\ty_true: (78124, 1)\n",
      "y_pred: (78124, 1)\ty_score: (78124, 1)\ty_true: (78124, 1)\n",
      "y_pred: (78124, 1)\ty_score: (78124, 1)\ty_true: (78124, 1)\n",
      "y_pred: (78124, 1)\ty_score: (78124, 1)\ty_true: (78124, 1)\n"
     ]
    },
    {
     "name": "stderr",
     "output_type": "stream",
     "text": [
      "\n",
      "  7%|▋         | 1/15 [00:19<04:35, 19.68s/it]\u001b[A"
     ]
    },
    {
     "name": "stdout",
     "output_type": "stream",
     "text": [
      "ALDH1 /p/vast1/jones289/hd_results/5/hdbind-rp-molclr.lit-pcba-ALDH1-ave.5.pkl hdbind-rp-molclr\n",
      "y_pred: (27212, 1)\ty_score: (27212, 1)\ty_true: (27212, 1)\n",
      "y_pred: (27212, 1)\ty_score: (27212, 1)\ty_true: (27212, 1)\n",
      "y_pred: (27212, 1)\ty_score: (27212, 1)\ty_true: (27212, 1)\n",
      "y_pred: (27212, 1)\ty_score: (27212, 1)\ty_true: (27212, 1)\n",
      "y_pred: (27212, 1)\ty_score: (27212, 1)\ty_true: (27212, 1)\n",
      "y_pred: (27212, 1)\ty_score: (27212, 1)\ty_true: (27212, 1)\n",
      "y_pred: (27212, 1)\ty_score: (27212, 1)\ty_true: (27212, 1)\n",
      "y_pred: (27212, 1)\ty_score: (27212, 1)\ty_true: (27212, 1)\n",
      "y_pred: (27212, 1)\ty_score: (27212, 1)\ty_true: (27212, 1)\n",
      "y_pred: (27212, 1)\ty_score: (27212, 1)\ty_true: (27212, 1)\n",
      "y_pred: (27212, 1)\ty_score: (27212, 1)\ty_true: (27212, 1)\n",
      "y_pred: (27212, 1)\ty_score: (27212, 1)\ty_true: (27212, 1)\n",
      "y_pred: (27212, 1)\ty_score: (27212, 1)\ty_true: (27212, 1)\n",
      "y_pred: (27212, 1)\ty_score: (27212, 1)\ty_true: (27212, 1)\n",
      "y_pred: (27212, 1)\ty_score: (27212, 1)\ty_true: (27212, 1)\n",
      "y_pred: (27212, 1)\ty_score: (27212, 1)\ty_true: (27212, 1)\n",
      "y_pred: (27212, 1)\ty_score: (27212, 1)\ty_true: (27212, 1)\n",
      "y_pred: (27212, 1)\ty_score: (27212, 1)\ty_true: (27212, 1)\n",
      "y_pred: (27212, 1)\ty_score: (27212, 1)\ty_true: (27212, 1)\n",
      "y_pred: (27212, 1)\ty_score: (27212, 1)\ty_true: (27212, 1)\n"
     ]
    },
    {
     "name": "stderr",
     "output_type": "stream",
     "text": [
      "\n",
      " 13%|█▎        | 2/15 [00:25<02:29, 11.52s/it]\u001b[A"
     ]
    },
    {
     "name": "stdout",
     "output_type": "stream",
     "text": [
      "ESR1_ago /p/vast1/jones289/hd_results/5/hdbind-rp-molclr.lit-pcba-ESR1_ago-ave.5.pkl hdbind-rp-molclr\n",
      "y_pred: (1398, 1)\ty_score: (1398, 1)\ty_true: (1398, 1)\n",
      "y_pred: (1398, 1)\ty_score: (1398, 1)\ty_true: (1398, 1)\n",
      "y_pred: (1398, 1)\ty_score: (1398, 1)\ty_true: (1398, 1)\n",
      "y_pred: (1398, 1)\ty_score: (1398, 1)\ty_true: (1398, 1)\n",
      "y_pred: (1398, 1)\ty_score: (1398, 1)\ty_true: (1398, 1)\n",
      "y_pred: (1398, 1)\ty_score: (1398, 1)\ty_true: (1398, 1)\n",
      "y_pred: (1398, 1)\ty_score: (1398, 1)\ty_true: (1398, 1)\n",
      "y_pred: (1398, 1)\ty_score: (1398, 1)\ty_true: (1398, 1)\n",
      "y_pred: (1398, 1)\ty_score: (1398, 1)\ty_true: (1398, 1)\n",
      "y_pred: (1398, 1)\ty_score: (1398, 1)\ty_true: (1398, 1)\n",
      "y_pred: (1398, 1)\ty_score: (1398, 1)\ty_true: (1398, 1)\n",
      "y_pred: (1398, 1)\ty_score: (1398, 1)\ty_true: (1398, 1)\n"
     ]
    },
    {
     "name": "stderr",
     "output_type": "stream",
     "text": [
      "\n",
      " 20%|██        | 3/15 [00:25<01:16,  6.41s/it]\u001b[A"
     ]
    },
    {
     "name": "stdout",
     "output_type": "stream",
     "text": [
      "y_pred: (1398, 1)\ty_score: (1398, 1)\ty_true: (1398, 1)\n",
      "y_pred: (1398, 1)\ty_score: (1398, 1)\ty_true: (1398, 1)\n",
      "y_pred: (1398, 1)\ty_score: (1398, 1)\ty_true: (1398, 1)\n",
      "y_pred: (1398, 1)\ty_score: (1398, 1)\ty_true: (1398, 1)\n",
      "y_pred: (1398, 1)\ty_score: (1398, 1)\ty_true: (1398, 1)\n",
      "y_pred: (1398, 1)\ty_score: (1398, 1)\ty_true: (1398, 1)\n",
      "y_pred: (1398, 1)\ty_score: (1398, 1)\ty_true: (1398, 1)\n",
      "y_pred: (1398, 1)\ty_score: (1398, 1)\ty_true: (1398, 1)\n",
      "ESR1_ant /p/vast1/jones289/hd_results/5/hdbind-rp-molclr.lit-pcba-ESR1_ant-ave.5.pkl hdbind-rp-molclr\n",
      "y_pred: (1262, 1)\ty_score: (1262, 1)\ty_true: (1262, 1)\n",
      "y_pred: (1262, 1)\ty_score: (1262, 1)\ty_true: (1262, 1)\n",
      "y_pred: (1262, 1)\ty_score: (1262, 1)\ty_true: (1262, 1)\n",
      "y_pred: (1262, 1)\ty_score: (1262, 1)\ty_true: (1262, 1)\n",
      "y_pred: (1262, 1)\ty_score: (1262, 1)\ty_true: (1262, 1)\n",
      "y_pred: (1262, 1)\ty_score: (1262, 1)\ty_true: (1262, 1)\n",
      "y_pred: (1262, 1)\ty_score: (1262, 1)\ty_true: (1262, 1)\n",
      "y_pred: (1262, 1)\ty_score: (1262, 1)\ty_true: (1262, 1)\n",
      "y_pred: (1262, 1)\ty_score: (1262, 1)\ty_true: (1262, 1)\n",
      "y_pred: (1262, 1)\ty_score: (1262, 1)\ty_true: (1262, 1)\n",
      "y_pred: (1262, 1)\ty_score: (1262, 1)\ty_true: (1262, 1)\n",
      "y_pred: (1262, 1)\ty_score: (1262, 1)\ty_true: (1262, 1)\n",
      "y_pred: (1262, 1)\ty_score: (1262, 1)\ty_true: (1262, 1)\n",
      "y_pred: (1262, 1)\ty_score: (1262, 1)\ty_true: (1262, 1)\n",
      "y_pred: (1262, 1)\ty_score: (1262, 1)\ty_true: (1262, 1)\n",
      "y_pred: (1262, 1)\ty_score: (1262, 1)\ty_true: (1262, 1)\n",
      "y_pred: (1262, 1)\ty_score: (1262, 1)\ty_true: (1262, 1)\n",
      "y_pred: (1262, 1)\ty_score: (1262, 1)\ty_true: (1262, 1)\n",
      "y_pred: (1262, 1)\ty_score: (1262, 1)\ty_true: (1262, 1)\n",
      "y_pred: (1262, 1)\ty_score: (1262, 1)\ty_true: (1262, 1)\n"
     ]
    },
    {
     "name": "stderr",
     "output_type": "stream",
     "text": [
      "\n",
      " 27%|██▋       | 4/15 [00:26<00:44,  4.00s/it]\u001b[A"
     ]
    },
    {
     "name": "stdout",
     "output_type": "stream",
     "text": [
      "FEN1 /p/vast1/jones289/hd_results/5/hdbind-rp-molclr.lit-pcba-FEN1-ave.5.pkl hdbind-rp-molclr\n",
      "y_pred: (88942, 1)\ty_score: (88942, 1)\ty_true: (88942, 1)\n",
      "y_pred: (88942, 1)\ty_score: (88942, 1)\ty_true: (88942, 1)\n",
      "y_pred: (88942, 1)\ty_score: (88942, 1)\ty_true: (88942, 1)\n",
      "y_pred: (88942, 1)\ty_score: (88942, 1)\ty_true: (88942, 1)\n",
      "y_pred: (88942, 1)\ty_score: (88942, 1)\ty_true: (88942, 1)\n",
      "y_pred: (88942, 1)\ty_score: (88942, 1)\ty_true: (88942, 1)\n",
      "y_pred: (88942, 1)\ty_score: (88942, 1)\ty_true: (88942, 1)\n",
      "y_pred: (88942, 1)\ty_score: (88942, 1)\ty_true: (88942, 1)\n",
      "y_pred: (88942, 1)\ty_score: (88942, 1)\ty_true: (88942, 1)\n",
      "y_pred: (88942, 1)\ty_score: (88942, 1)\ty_true: (88942, 1)\n",
      "y_pred: (88942, 1)\ty_score: (88942, 1)\ty_true: (88942, 1)\n",
      "y_pred: (88942, 1)\ty_score: (88942, 1)\ty_true: (88942, 1)\n",
      "y_pred: (88942, 1)\ty_score: (88942, 1)\ty_true: (88942, 1)\n",
      "y_pred: (88942, 1)\ty_score: (88942, 1)\ty_true: (88942, 1)\n",
      "y_pred: (88942, 1)\ty_score: (88942, 1)\ty_true: (88942, 1)\n",
      "y_pred: (88942, 1)\ty_score: (88942, 1)\ty_true: (88942, 1)\n",
      "y_pred: (88942, 1)\ty_score: (88942, 1)\ty_true: (88942, 1)\n",
      "y_pred: (88942, 1)\ty_score: (88942, 1)\ty_true: (88942, 1)\n",
      "y_pred: (88942, 1)\ty_score: (88942, 1)\ty_true: (88942, 1)\n",
      "y_pred: (88942, 1)\ty_score: (88942, 1)\ty_true: (88942, 1)\n"
     ]
    },
    {
     "name": "stderr",
     "output_type": "stream",
     "text": [
      "\n",
      " 33%|███▎      | 5/15 [00:48<01:47, 10.71s/it]\u001b[A"
     ]
    },
    {
     "name": "stdout",
     "output_type": "stream",
     "text": [
      "GBA /p/vast1/jones289/hd_results/5/hdbind-rp-molclr.lit-pcba-GBA-ave.5.pkl hdbind-rp-molclr\n",
      "y_pred: (74054, 1)\ty_score: (74054, 1)\ty_true: (74054, 1)\n",
      "y_pred: (74054, 1)\ty_score: (74054, 1)\ty_true: (74054, 1)\n",
      "y_pred: (74054, 1)\ty_score: (74054, 1)\ty_true: (74054, 1)\n",
      "y_pred: (74054, 1)\ty_score: (74054, 1)\ty_true: (74054, 1)\n",
      "y_pred: (74054, 1)\ty_score: (74054, 1)\ty_true: (74054, 1)\n",
      "y_pred: (74054, 1)\ty_score: (74054, 1)\ty_true: (74054, 1)\n",
      "y_pred: (74054, 1)\ty_score: (74054, 1)\ty_true: (74054, 1)\n",
      "y_pred: (74054, 1)\ty_score: (74054, 1)\ty_true: (74054, 1)\n",
      "y_pred: (74054, 1)\ty_score: (74054, 1)\ty_true: (74054, 1)\n",
      "y_pred: (74054, 1)\ty_score: (74054, 1)\ty_true: (74054, 1)\n",
      "y_pred: (74054, 1)\ty_score: (74054, 1)\ty_true: (74054, 1)\n",
      "y_pred: (74054, 1)\ty_score: (74054, 1)\ty_true: (74054, 1)\n",
      "y_pred: (74054, 1)\ty_score: (74054, 1)\ty_true: (74054, 1)\n",
      "y_pred: (74054, 1)\ty_score: (74054, 1)\ty_true: (74054, 1)\n",
      "y_pred: (74054, 1)\ty_score: (74054, 1)\ty_true: (74054, 1)\n",
      "y_pred: (74054, 1)\ty_score: (74054, 1)\ty_true: (74054, 1)\n",
      "y_pred: (74054, 1)\ty_score: (74054, 1)\ty_true: (74054, 1)\n",
      "y_pred: (74054, 1)\ty_score: (74054, 1)\ty_true: (74054, 1)\n",
      "y_pred: (74054, 1)\ty_score: (74054, 1)\ty_true: (74054, 1)\n",
      "y_pred: (74054, 1)\ty_score: (74054, 1)\ty_true: (74054, 1)\n"
     ]
    },
    {
     "name": "stderr",
     "output_type": "stream",
     "text": [
      "\n",
      " 40%|████      | 6/15 [01:07<02:00, 13.41s/it]\u001b[A"
     ]
    },
    {
     "name": "stdout",
     "output_type": "stream",
     "text": [
      "IDH1 /p/vast1/jones289/hd_results/5/hdbind-rp-molclr.lit-pcba-IDH1-ave.5.pkl hdbind-rp-molclr\n",
      "y_pred: (90521, 1)\ty_score: (90521, 1)\ty_true: (90521, 1)\n",
      "y_pred: (90521, 1)\ty_score: (90521, 1)\ty_true: (90521, 1)\n",
      "y_pred: (90521, 1)\ty_score: (90521, 1)\ty_true: (90521, 1)\n",
      "y_pred: (90521, 1)\ty_score: (90521, 1)\ty_true: (90521, 1)\n",
      "y_pred: (90521, 1)\ty_score: (90521, 1)\ty_true: (90521, 1)\n",
      "y_pred: (90521, 1)\ty_score: (90521, 1)\ty_true: (90521, 1)\n",
      "y_pred: (90521, 1)\ty_score: (90521, 1)\ty_true: (90521, 1)\n",
      "y_pred: (90521, 1)\ty_score: (90521, 1)\ty_true: (90521, 1)\n",
      "y_pred: (90521, 1)\ty_score: (90521, 1)\ty_true: (90521, 1)\n",
      "y_pred: (90521, 1)\ty_score: (90521, 1)\ty_true: (90521, 1)\n",
      "y_pred: (90521, 1)\ty_score: (90521, 1)\ty_true: (90521, 1)\n",
      "y_pred: (90521, 1)\ty_score: (90521, 1)\ty_true: (90521, 1)\n",
      "y_pred: (90521, 1)\ty_score: (90521, 1)\ty_true: (90521, 1)\n",
      "y_pred: (90521, 1)\ty_score: (90521, 1)\ty_true: (90521, 1)\n",
      "y_pred: (90521, 1)\ty_score: (90521, 1)\ty_true: (90521, 1)\n",
      "y_pred: (90521, 1)\ty_score: (90521, 1)\ty_true: (90521, 1)\n",
      "y_pred: (90521, 1)\ty_score: (90521, 1)\ty_true: (90521, 1)\n",
      "y_pred: (90521, 1)\ty_score: (90521, 1)\ty_true: (90521, 1)\n",
      "y_pred: (90521, 1)\ty_score: (90521, 1)\ty_true: (90521, 1)\n",
      "y_pred: (90521, 1)\ty_score: (90521, 1)\ty_true: (90521, 1)\n"
     ]
    },
    {
     "name": "stderr",
     "output_type": "stream",
     "text": [
      "\n",
      " 47%|████▋     | 7/15 [01:31<02:14, 16.79s/it]\u001b[A"
     ]
    },
    {
     "name": "stdout",
     "output_type": "stream",
     "text": [
      "KAT2A /p/vast1/jones289/hd_results/5/hdbind-rp-molclr.lit-pcba-KAT2A-ave.5.pkl hdbind-rp-molclr\n",
      "y_pred: (87185, 1)\ty_score: (87185, 1)\ty_true: (87185, 1)\n",
      "y_pred: (87185, 1)\ty_score: (87185, 1)\ty_true: (87185, 1)\n",
      "y_pred: (87185, 1)\ty_score: (87185, 1)\ty_true: (87185, 1)\n",
      "y_pred: (87185, 1)\ty_score: (87185, 1)\ty_true: (87185, 1)\n",
      "y_pred: (87185, 1)\ty_score: (87185, 1)\ty_true: (87185, 1)\n",
      "y_pred: (87185, 1)\ty_score: (87185, 1)\ty_true: (87185, 1)\n",
      "y_pred: (87185, 1)\ty_score: (87185, 1)\ty_true: (87185, 1)\n",
      "y_pred: (87185, 1)\ty_score: (87185, 1)\ty_true: (87185, 1)\n",
      "y_pred: (87185, 1)\ty_score: (87185, 1)\ty_true: (87185, 1)\n",
      "y_pred: (87185, 1)\ty_score: (87185, 1)\ty_true: (87185, 1)\n",
      "y_pred: (87185, 1)\ty_score: (87185, 1)\ty_true: (87185, 1)\n",
      "y_pred: (87185, 1)\ty_score: (87185, 1)\ty_true: (87185, 1)\n",
      "y_pred: (87185, 1)\ty_score: (87185, 1)\ty_true: (87185, 1)\n",
      "y_pred: (87185, 1)\ty_score: (87185, 1)\ty_true: (87185, 1)\n",
      "y_pred: (87185, 1)\ty_score: (87185, 1)\ty_true: (87185, 1)\n",
      "y_pred: (87185, 1)\ty_score: (87185, 1)\ty_true: (87185, 1)\n",
      "y_pred: (87185, 1)\ty_score: (87185, 1)\ty_true: (87185, 1)\n",
      "y_pred: (87185, 1)\ty_score: (87185, 1)\ty_true: (87185, 1)\n",
      "y_pred: (87185, 1)\ty_score: (87185, 1)\ty_true: (87185, 1)\n",
      "y_pred: (87185, 1)\ty_score: (87185, 1)\ty_true: (87185, 1)\n"
     ]
    },
    {
     "name": "stderr",
     "output_type": "stream",
     "text": [
      "\n",
      " 53%|█████▎    | 8/15 [01:54<02:11, 18.81s/it]\u001b[A"
     ]
    },
    {
     "name": "stdout",
     "output_type": "stream",
     "text": [
      "MAPK1 /p/vast1/jones289/hd_results/5/hdbind-rp-molclr.lit-pcba-MAPK1-ave.5.pkl hdbind-rp-molclr\n",
      "y_pred: (15734, 1)\ty_score: (15734, 1)\ty_true: (15734, 1)\n",
      "y_pred: (15734, 1)\ty_score: (15734, 1)\ty_true: (15734, 1)\n",
      "y_pred: (15734, 1)\ty_score: (15734, 1)\ty_true: (15734, 1)\n",
      "y_pred: (15734, 1)\ty_score: (15734, 1)\ty_true: (15734, 1)\n",
      "y_pred: (15734, 1)\ty_score: (15734, 1)\ty_true: (15734, 1)\n",
      "y_pred: (15734, 1)\ty_score: (15734, 1)\ty_true: (15734, 1)\n",
      "y_pred: (15734, 1)\ty_score: (15734, 1)\ty_true: (15734, 1)\n",
      "y_pred: (15734, 1)\ty_score: (15734, 1)\ty_true: (15734, 1)\n",
      "y_pred: (15734, 1)\ty_score: (15734, 1)\ty_true: (15734, 1)\n",
      "y_pred: (15734, 1)\ty_score: (15734, 1)\ty_true: (15734, 1)\n",
      "y_pred: (15734, 1)\ty_score: (15734, 1)\ty_true: (15734, 1)\n",
      "y_pred: (15734, 1)\ty_score: (15734, 1)\ty_true: (15734, 1)\n",
      "y_pred: (15734, 1)\ty_score: (15734, 1)\ty_true: (15734, 1)\n",
      "y_pred: (15734, 1)\ty_score: (15734, 1)\ty_true: (15734, 1)\n",
      "y_pred: (15734, 1)\ty_score: (15734, 1)\ty_true: (15734, 1)\n",
      "y_pred: (15734, 1)\ty_score: (15734, 1)\ty_true: (15734, 1)\n",
      "y_pred: (15734, 1)\ty_score: (15734, 1)\ty_true: (15734, 1)\n",
      "y_pred: (15734, 1)\ty_score: (15734, 1)\ty_true: (15734, 1)\n",
      "y_pred: (15734, 1)\ty_score: (15734, 1)\ty_true: (15734, 1)\n"
     ]
    },
    {
     "name": "stderr",
     "output_type": "stream",
     "text": [
      "\n",
      " 60%|██████    | 9/15 [01:57<01:24, 14.05s/it]\u001b[A"
     ]
    },
    {
     "name": "stdout",
     "output_type": "stream",
     "text": [
      "y_pred: (15734, 1)\ty_score: (15734, 1)\ty_true: (15734, 1)\n",
      "MTORC1 /p/vast1/jones289/hd_results/5/hdbind-rp-molclr.lit-pcba-MTORC1-ave.5.pkl hdbind-rp-molclr\n",
      "y_pred: (8267, 1)\ty_score: (8267, 1)\ty_true: (8267, 1)\n",
      "y_pred: (8267, 1)\ty_score: (8267, 1)\ty_true: (8267, 1)\n",
      "y_pred: (8267, 1)\ty_score: (8267, 1)\ty_true: (8267, 1)\n",
      "y_pred: (8267, 1)\ty_score: (8267, 1)\ty_true: (8267, 1)\n",
      "y_pred: (8267, 1)\ty_score: (8267, 1)\ty_true: (8267, 1)\n",
      "y_pred: (8267, 1)\ty_score: (8267, 1)\ty_true: (8267, 1)\n",
      "y_pred: (8267, 1)\ty_score: (8267, 1)\ty_true: (8267, 1)\n",
      "y_pred: (8267, 1)\ty_score: (8267, 1)\ty_true: (8267, 1)\n",
      "y_pred: (8267, 1)\ty_score: (8267, 1)\ty_true: (8267, 1)\n",
      "y_pred: (8267, 1)\ty_score: (8267, 1)\ty_true: (8267, 1)\n",
      "y_pred: (8267, 1)\ty_score: (8267, 1)\ty_true: (8267, 1)\n",
      "y_pred: (8267, 1)\ty_score: (8267, 1)\ty_true: (8267, 1)\n",
      "y_pred: (8267, 1)\ty_score: (8267, 1)\ty_true: (8267, 1)\n",
      "y_pred: (8267, 1)\ty_score: (8267, 1)\ty_true: (8267, 1)\n",
      "y_pred: (8267, 1)\ty_score: (8267, 1)\ty_true: (8267, 1)\n",
      "y_pred: (8267, 1)\ty_score: (8267, 1)\ty_true: (8267, 1)\n",
      "y_pred: (8267, 1)\ty_score: (8267, 1)\ty_true: (8267, 1)\n",
      "y_pred: (8267, 1)\ty_score: (8267, 1)\ty_true: (8267, 1)\n",
      "y_pred: (8267, 1)\ty_score: (8267, 1)\ty_true: (8267, 1)\n",
      "y_pred: (8267, 1)\ty_score: (8267, 1)\ty_true: (8267, 1)\n"
     ]
    },
    {
     "name": "stderr",
     "output_type": "stream",
     "text": [
      "\n",
      " 67%|██████▋   | 10/15 [01:59<00:51, 10.23s/it]\u001b[A"
     ]
    },
    {
     "name": "stdout",
     "output_type": "stream",
     "text": [
      "OPRK1 /p/vast1/jones289/hd_results/5/hdbind-rp-molclr.lit-pcba-OPRK1-ave.5.pkl hdbind-rp-molclr\n",
      "y_pred: (67460, 1)\ty_score: (67460, 1)\ty_true: (67460, 1)\n",
      "y_pred: (67460, 1)\ty_score: (67460, 1)\ty_true: (67460, 1)\n",
      "y_pred: (67460, 1)\ty_score: (67460, 1)\ty_true: (67460, 1)\n",
      "y_pred: (67460, 1)\ty_score: (67460, 1)\ty_true: (67460, 1)\n",
      "y_pred: (67460, 1)\ty_score: (67460, 1)\ty_true: (67460, 1)\n",
      "y_pred: (67460, 1)\ty_score: (67460, 1)\ty_true: (67460, 1)\n",
      "y_pred: (67460, 1)\ty_score: (67460, 1)\ty_true: (67460, 1)\n",
      "y_pred: (67460, 1)\ty_score: (67460, 1)\ty_true: (67460, 1)\n",
      "y_pred: (67460, 1)\ty_score: (67460, 1)\ty_true: (67460, 1)\n",
      "y_pred: (67460, 1)\ty_score: (67460, 1)\ty_true: (67460, 1)\n",
      "y_pred: (67460, 1)\ty_score: (67460, 1)\ty_true: (67460, 1)\n",
      "y_pred: (67460, 1)\ty_score: (67460, 1)\ty_true: (67460, 1)\n",
      "y_pred: (67460, 1)\ty_score: (67460, 1)\ty_true: (67460, 1)\n",
      "y_pred: (67460, 1)\ty_score: (67460, 1)\ty_true: (67460, 1)\n",
      "y_pred: (67460, 1)\ty_score: (67460, 1)\ty_true: (67460, 1)\n",
      "y_pred: (67460, 1)\ty_score: (67460, 1)\ty_true: (67460, 1)\n",
      "y_pred: (67460, 1)\ty_score: (67460, 1)\ty_true: (67460, 1)\n",
      "y_pred: (67460, 1)\ty_score: (67460, 1)\ty_true: (67460, 1)\n",
      "y_pred: (67460, 1)\ty_score: (67460, 1)\ty_true: (67460, 1)\n",
      "y_pred: (67460, 1)\ty_score: (67460, 1)\ty_true: (67460, 1)\n"
     ]
    },
    {
     "name": "stderr",
     "output_type": "stream",
     "text": [
      "\n",
      " 73%|███████▎  | 11/15 [02:16<00:49, 12.29s/it]\u001b[A"
     ]
    },
    {
     "name": "stdout",
     "output_type": "stream",
     "text": [
      "PKM2 /p/vast1/jones289/hd_results/5/hdbind-rp-molclr.lit-pcba-PKM2-ave.5.pkl hdbind-rp-molclr\n",
      "y_pred: (61516, 1)\ty_score: (61516, 1)\ty_true: (61516, 1)\n",
      "y_pred: (61516, 1)\ty_score: (61516, 1)\ty_true: (61516, 1)\n",
      "y_pred: (61516, 1)\ty_score: (61516, 1)\ty_true: (61516, 1)\n",
      "y_pred: (61516, 1)\ty_score: (61516, 1)\ty_true: (61516, 1)\n",
      "y_pred: (61516, 1)\ty_score: (61516, 1)\ty_true: (61516, 1)\n",
      "y_pred: (61516, 1)\ty_score: (61516, 1)\ty_true: (61516, 1)\n",
      "y_pred: (61516, 1)\ty_score: (61516, 1)\ty_true: (61516, 1)\n",
      "y_pred: (61516, 1)\ty_score: (61516, 1)\ty_true: (61516, 1)\n",
      "y_pred: (61516, 1)\ty_score: (61516, 1)\ty_true: (61516, 1)\n",
      "y_pred: (61516, 1)\ty_score: (61516, 1)\ty_true: (61516, 1)\n",
      "y_pred: (61516, 1)\ty_score: (61516, 1)\ty_true: (61516, 1)\n",
      "y_pred: (61516, 1)\ty_score: (61516, 1)\ty_true: (61516, 1)\n",
      "y_pred: (61516, 1)\ty_score: (61516, 1)\ty_true: (61516, 1)\n",
      "y_pred: (61516, 1)\ty_score: (61516, 1)\ty_true: (61516, 1)\n",
      "y_pred: (61516, 1)\ty_score: (61516, 1)\ty_true: (61516, 1)\n",
      "y_pred: (61516, 1)\ty_score: (61516, 1)\ty_true: (61516, 1)\n",
      "y_pred: (61516, 1)\ty_score: (61516, 1)\ty_true: (61516, 1)\n",
      "y_pred: (61516, 1)\ty_score: (61516, 1)\ty_true: (61516, 1)\n",
      "y_pred: (61516, 1)\ty_score: (61516, 1)\ty_true: (61516, 1)\n",
      "y_pred: (61516, 1)\ty_score: (61516, 1)\ty_true: (61516, 1)\n"
     ]
    },
    {
     "name": "stderr",
     "output_type": "stream",
     "text": [
      "\n",
      " 80%|████████  | 12/15 [02:32<00:40, 13.55s/it]\u001b[A"
     ]
    },
    {
     "name": "stdout",
     "output_type": "stream",
     "text": [
      "PPARG /p/vast1/jones289/hd_results/5/hdbind-rp-molclr.lit-pcba-PPARG-ave.5.pkl hdbind-rp-molclr\n",
      "y_pred: (1308, 1)\ty_score: (1308, 1)\ty_true: (1308, 1)\n",
      "y_pred: (1308, 1)\ty_score: (1308, 1)\ty_true: (1308, 1)\n",
      "y_pred: (1308, 1)\ty_score: (1308, 1)\ty_true: (1308, 1)\n",
      "y_pred: (1308, 1)\ty_score: (1308, 1)\ty_true: (1308, 1)\n",
      "y_pred: (1308, 1)\ty_score: (1308, 1)\ty_true: (1308, 1)\n",
      "y_pred: (1308, 1)\ty_score: (1308, 1)\ty_true: (1308, 1)\n",
      "y_pred: (1308, 1)\ty_score: (1308, 1)\ty_true: (1308, 1)\n",
      "y_pred: (1308, 1)\ty_score: (1308, 1)\ty_true: (1308, 1)\n",
      "y_pred: (1308, 1)\ty_score: (1308, 1)\ty_true: (1308, 1)\n",
      "y_pred: (1308, 1)\ty_score: (1308, 1)\ty_true: (1308, 1)\n",
      "y_pred: (1308, 1)\ty_score: (1308, 1)\ty_true: (1308, 1)\n"
     ]
    },
    {
     "name": "stderr",
     "output_type": "stream",
     "text": [
      "\n",
      " 87%|████████▋ | 13/15 [02:33<00:19,  9.55s/it]\u001b[A"
     ]
    },
    {
     "name": "stdout",
     "output_type": "stream",
     "text": [
      "y_pred: (1308, 1)\ty_score: (1308, 1)\ty_true: (1308, 1)\n",
      "y_pred: (1308, 1)\ty_score: (1308, 1)\ty_true: (1308, 1)\n",
      "y_pred: (1308, 1)\ty_score: (1308, 1)\ty_true: (1308, 1)\n",
      "y_pred: (1308, 1)\ty_score: (1308, 1)\ty_true: (1308, 1)\n",
      "y_pred: (1308, 1)\ty_score: (1308, 1)\ty_true: (1308, 1)\n",
      "y_pred: (1308, 1)\ty_score: (1308, 1)\ty_true: (1308, 1)\n",
      "y_pred: (1308, 1)\ty_score: (1308, 1)\ty_true: (1308, 1)\n",
      "y_pred: (1308, 1)\ty_score: (1308, 1)\ty_true: (1308, 1)\n",
      "y_pred: (1308, 1)\ty_score: (1308, 1)\ty_true: (1308, 1)\n",
      "TP53 /p/vast1/jones289/hd_results/5/hdbind-rp-molclr.lit-pcba-TP53-ave.5.pkl hdbind-rp-molclr\n",
      "y_pred: (1061, 1)\ty_score: (1061, 1)\ty_true: (1061, 1)\n",
      "y_pred: (1061, 1)\ty_score: (1061, 1)\ty_true: (1061, 1)\n",
      "y_pred: (1061, 1)\ty_score: (1061, 1)\ty_true: (1061, 1)\n",
      "y_pred: (1061, 1)\ty_score: (1061, 1)\ty_true: (1061, 1)\n",
      "y_pred: (1061, 1)\ty_score: (1061, 1)\ty_true: (1061, 1)\n",
      "y_pred: (1061, 1)\ty_score: (1061, 1)\ty_true: (1061, 1)\n",
      "y_pred: (1061, 1)\ty_score: (1061, 1)\ty_true: (1061, 1)\n",
      "y_pred: (1061, 1)\ty_score: (1061, 1)\ty_true: (1061, 1)\n",
      "y_pred: (1061, 1)\ty_score: (1061, 1)\ty_true: (1061, 1)\n",
      "y_pred: (1061, 1)\ty_score: (1061, 1)\ty_true: (1061, 1)\n",
      "y_pred: (1061, 1)\ty_score: (1061, 1)\ty_true: (1061, 1)\n",
      "y_pred: (1061, 1)\ty_score: (1061, 1)\ty_true: (1061, 1)\n",
      "y_pred: (1061, 1)\ty_score: (1061, 1)\ty_true: (1061, 1)\n",
      "y_pred: (1061, 1)\ty_score: (1061, 1)\ty_true: (1061, 1)\n",
      "y_pred: (1061, 1)\ty_score: (1061, 1)\ty_true: (1061, 1)\n",
      "y_pred: (1061, 1)\ty_score: (1061, 1)\ty_true: (1061, 1)\n",
      "y_pred: (1061, 1)\ty_score: (1061, 1)\ty_true: (1061, 1)\n",
      "y_pred: (1061, 1)\ty_score: (1061, 1)\ty_true: (1061, 1)\n",
      "y_pred: (1061, 1)\ty_score: (1061, 1)\ty_true: (1061, 1)\n",
      "y_pred: (1061, 1)\ty_score: (1061, 1)\ty_true: (1061, 1)\n"
     ]
    },
    {
     "name": "stderr",
     "output_type": "stream",
     "text": [
      "\n",
      " 93%|█████████▎| 14/15 [02:33<00:06,  6.76s/it]\u001b[A"
     ]
    },
    {
     "name": "stdout",
     "output_type": "stream",
     "text": [
      "VDR /p/vast1/jones289/hd_results/5/hdbind-rp-molclr.lit-pcba-VDR-ave.5.pkl hdbind-rp-molclr\n",
      "y_pred: (66800, 1)\ty_score: (66800, 1)\ty_true: (66800, 1)\n",
      "y_pred: (66800, 1)\ty_score: (66800, 1)\ty_true: (66800, 1)\n",
      "y_pred: (66800, 1)\ty_score: (66800, 1)\ty_true: (66800, 1)\n",
      "y_pred: (66800, 1)\ty_score: (66800, 1)\ty_true: (66800, 1)\n",
      "y_pred: (66800, 1)\ty_score: (66800, 1)\ty_true: (66800, 1)\n",
      "y_pred: (66800, 1)\ty_score: (66800, 1)\ty_true: (66800, 1)\n",
      "y_pred: (66800, 1)\ty_score: (66800, 1)\ty_true: (66800, 1)\n",
      "y_pred: (66800, 1)\ty_score: (66800, 1)\ty_true: (66800, 1)\n",
      "y_pred: (66800, 1)\ty_score: (66800, 1)\ty_true: (66800, 1)\n",
      "y_pred: (66800, 1)\ty_score: (66800, 1)\ty_true: (66800, 1)\n",
      "y_pred: (66800, 1)\ty_score: (66800, 1)\ty_true: (66800, 1)\n",
      "y_pred: (66800, 1)\ty_score: (66800, 1)\ty_true: (66800, 1)\n",
      "y_pred: (66800, 1)\ty_score: (66800, 1)\ty_true: (66800, 1)\n",
      "y_pred: (66800, 1)\ty_score: (66800, 1)\ty_true: (66800, 1)\n",
      "y_pred: (66800, 1)\ty_score: (66800, 1)\ty_true: (66800, 1)\n",
      "y_pred: (66800, 1)\ty_score: (66800, 1)\ty_true: (66800, 1)\n",
      "y_pred: (66800, 1)\ty_score: (66800, 1)\ty_true: (66800, 1)\n",
      "y_pred: (66800, 1)\ty_score: (66800, 1)\ty_true: (66800, 1)\n",
      "y_pred: (66800, 1)\ty_score: (66800, 1)\ty_true: (66800, 1)\n",
      "y_pred: (66800, 1)\ty_score: (66800, 1)\ty_true: (66800, 1)\n"
     ]
    },
    {
     "name": "stderr",
     "output_type": "stream",
     "text": [
      "\n",
      "100%|██████████| 15/15 [02:51<00:00, 11.42s/it]\u001b[A\n",
      " 44%|████▍     | 4/9 [10:46<13:35, 163.16s/it]\n",
      "  0%|          | 0/15 [00:00<?, ?it/s]\u001b[A"
     ]
    },
    {
     "name": "stdout",
     "output_type": "stream",
     "text": [
      "ADRB2 /p/vast1/jones289/hd_results/5/hdbind-rp-molclr-100k.lit-pcba-ADRB2-ave.5.pkl hdbind-rp-molclr-100k\n",
      "y_pred: (78124, 1)\ty_score: (78124, 1)\ty_true: (78124, 1)\n",
      "y_pred: (78124, 1)\ty_score: (78124, 1)\ty_true: (78124, 1)\n",
      "y_pred: (78124, 1)\ty_score: (78124, 1)\ty_true: (78124, 1)\n",
      "y_pred: (78124, 1)\ty_score: (78124, 1)\ty_true: (78124, 1)\n",
      "y_pred: (78124, 1)\ty_score: (78124, 1)\ty_true: (78124, 1)\n",
      "y_pred: (78124, 1)\ty_score: (78124, 1)\ty_true: (78124, 1)\n",
      "y_pred: (78124, 1)\ty_score: (78124, 1)\ty_true: (78124, 1)\n",
      "y_pred: (78124, 1)\ty_score: (78124, 1)\ty_true: (78124, 1)\n",
      "y_pred: (78124, 1)\ty_score: (78124, 1)\ty_true: (78124, 1)\n",
      "y_pred: (78124, 1)\ty_score: (78124, 1)\ty_true: (78124, 1)\n",
      "y_pred: (78124, 1)\ty_score: (78124, 1)\ty_true: (78124, 1)\n",
      "y_pred: (78124, 1)\ty_score: (78124, 1)\ty_true: (78124, 1)\n",
      "y_pred: (78124, 1)\ty_score: (78124, 1)\ty_true: (78124, 1)\n",
      "y_pred: (78124, 1)\ty_score: (78124, 1)\ty_true: (78124, 1)\n",
      "y_pred: (78124, 1)\ty_score: (78124, 1)\ty_true: (78124, 1)\n",
      "y_pred: (78124, 1)\ty_score: (78124, 1)\ty_true: (78124, 1)\n",
      "y_pred: (78124, 1)\ty_score: (78124, 1)\ty_true: (78124, 1)\n",
      "y_pred: (78124, 1)\ty_score: (78124, 1)\ty_true: (78124, 1)\n",
      "y_pred: (78124, 1)\ty_score: (78124, 1)\ty_true: (78124, 1)\n",
      "y_pred: (78124, 1)\ty_score: (78124, 1)\ty_true: (78124, 1)\n"
     ]
    },
    {
     "name": "stderr",
     "output_type": "stream",
     "text": [
      "\n",
      "  7%|▋         | 1/15 [00:19<04:35, 19.66s/it]\u001b[A"
     ]
    },
    {
     "name": "stdout",
     "output_type": "stream",
     "text": [
      "ALDH1 /p/vast1/jones289/hd_results/5/hdbind-rp-molclr-100k.lit-pcba-ALDH1-ave.5.pkl hdbind-rp-molclr-100k\n",
      "y_pred: (27212, 1)\ty_score: (27212, 1)\ty_true: (27212, 1)\n",
      "y_pred: (27212, 1)\ty_score: (27212, 1)\ty_true: (27212, 1)\n",
      "y_pred: (27212, 1)\ty_score: (27212, 1)\ty_true: (27212, 1)\n",
      "y_pred: (27212, 1)\ty_score: (27212, 1)\ty_true: (27212, 1)\n",
      "y_pred: (27212, 1)\ty_score: (27212, 1)\ty_true: (27212, 1)\n",
      "y_pred: (27212, 1)\ty_score: (27212, 1)\ty_true: (27212, 1)\n",
      "y_pred: (27212, 1)\ty_score: (27212, 1)\ty_true: (27212, 1)\n",
      "y_pred: (27212, 1)\ty_score: (27212, 1)\ty_true: (27212, 1)\n",
      "y_pred: (27212, 1)\ty_score: (27212, 1)\ty_true: (27212, 1)\n",
      "y_pred: (27212, 1)\ty_score: (27212, 1)\ty_true: (27212, 1)\n",
      "y_pred: (27212, 1)\ty_score: (27212, 1)\ty_true: (27212, 1)\n",
      "y_pred: (27212, 1)\ty_score: (27212, 1)\ty_true: (27212, 1)\n",
      "y_pred: (27212, 1)\ty_score: (27212, 1)\ty_true: (27212, 1)\n",
      "y_pred: (27212, 1)\ty_score: (27212, 1)\ty_true: (27212, 1)\n",
      "y_pred: (27212, 1)\ty_score: (27212, 1)\ty_true: (27212, 1)\n",
      "y_pred: (27212, 1)\ty_score: (27212, 1)\ty_true: (27212, 1)\n",
      "y_pred: (27212, 1)\ty_score: (27212, 1)\ty_true: (27212, 1)\n",
      "y_pred: (27212, 1)\ty_score: (27212, 1)\ty_true: (27212, 1)\n",
      "y_pred: (27212, 1)\ty_score: (27212, 1)\ty_true: (27212, 1)\n",
      "y_pred: (27212, 1)\ty_score: (27212, 1)\ty_true: (27212, 1)\n"
     ]
    },
    {
     "name": "stderr",
     "output_type": "stream",
     "text": [
      "\n",
      " 13%|█▎        | 2/15 [00:25<02:26, 11.27s/it]\u001b[A"
     ]
    },
    {
     "name": "stdout",
     "output_type": "stream",
     "text": [
      "ESR1_ago /p/vast1/jones289/hd_results/5/hdbind-rp-molclr-100k.lit-pcba-ESR1_ago-ave.5.pkl hdbind-rp-molclr-100k\n",
      "y_pred: (1398, 1)\ty_score: (1398, 1)\ty_true: (1398, 1)\n",
      "y_pred: (1398, 1)\ty_score: (1398, 1)\ty_true: (1398, 1)\n",
      "y_pred: (1398, 1)\ty_score: (1398, 1)\ty_true: (1398, 1)\n",
      "y_pred: (1398, 1)\ty_score: (1398, 1)\ty_true: (1398, 1)\n",
      "y_pred: (1398, 1)\ty_score: (1398, 1)\ty_true: (1398, 1)\n",
      "y_pred: (1398, 1)\ty_score: (1398, 1)\ty_true: (1398, 1)\n",
      "y_pred: (1398, 1)\ty_score: (1398, 1)\ty_true: (1398, 1)\n",
      "y_pred: (1398, 1)\ty_score: (1398, 1)\ty_true: (1398, 1)\n",
      "y_pred: (1398, 1)\ty_score: (1398, 1)\ty_true: (1398, 1)\n"
     ]
    },
    {
     "name": "stderr",
     "output_type": "stream",
     "text": [
      "\n",
      " 20%|██        | 3/15 [00:25<01:15,  6.29s/it]\u001b[A"
     ]
    },
    {
     "name": "stdout",
     "output_type": "stream",
     "text": [
      "y_pred: (1398, 1)\ty_score: (1398, 1)\ty_true: (1398, 1)\n",
      "y_pred: (1398, 1)\ty_score: (1398, 1)\ty_true: (1398, 1)\n",
      "y_pred: (1398, 1)\ty_score: (1398, 1)\ty_true: (1398, 1)\n",
      "y_pred: (1398, 1)\ty_score: (1398, 1)\ty_true: (1398, 1)\n",
      "y_pred: (1398, 1)\ty_score: (1398, 1)\ty_true: (1398, 1)\n",
      "y_pred: (1398, 1)\ty_score: (1398, 1)\ty_true: (1398, 1)\n",
      "y_pred: (1398, 1)\ty_score: (1398, 1)\ty_true: (1398, 1)\n",
      "y_pred: (1398, 1)\ty_score: (1398, 1)\ty_true: (1398, 1)\n",
      "y_pred: (1398, 1)\ty_score: (1398, 1)\ty_true: (1398, 1)\n",
      "y_pred: (1398, 1)\ty_score: (1398, 1)\ty_true: (1398, 1)\n",
      "y_pred: (1398, 1)\ty_score: (1398, 1)\ty_true: (1398, 1)\n",
      "ESR1_ant /p/vast1/jones289/hd_results/5/hdbind-rp-molclr-100k.lit-pcba-ESR1_ant-ave.5.pkl hdbind-rp-molclr-100k\n",
      "y_pred: (1262, 1)\ty_score: (1262, 1)\ty_true: (1262, 1)\n",
      "y_pred: (1262, 1)\ty_score: (1262, 1)\ty_true: (1262, 1)\n",
      "y_pred: (1262, 1)\ty_score: (1262, 1)\ty_true: (1262, 1)\n",
      "y_pred: (1262, 1)\ty_score: (1262, 1)\ty_true: (1262, 1)\n",
      "y_pred: (1262, 1)\ty_score: (1262, 1)\ty_true: (1262, 1)\n",
      "y_pred: (1262, 1)\ty_score: (1262, 1)\ty_true: (1262, 1)\n",
      "y_pred: (1262, 1)\ty_score: (1262, 1)\ty_true: (1262, 1)\n",
      "y_pred: (1262, 1)\ty_score: (1262, 1)\ty_true: (1262, 1)\n",
      "y_pred: (1262, 1)\ty_score: (1262, 1)\ty_true: (1262, 1)\n",
      "y_pred: (1262, 1)\ty_score: (1262, 1)\ty_true: (1262, 1)\n",
      "y_pred: (1262, 1)\ty_score: (1262, 1)\ty_true: (1262, 1)\n",
      "y_pred: (1262, 1)\ty_score: (1262, 1)\ty_true: (1262, 1)\n",
      "y_pred: (1262, 1)\ty_score: (1262, 1)\ty_true: (1262, 1)\n",
      "y_pred: (1262, 1)\ty_score: (1262, 1)\ty_true: (1262, 1)\n",
      "y_pred: (1262, 1)\ty_score: (1262, 1)\ty_true: (1262, 1)\n",
      "y_pred: (1262, 1)\ty_score: (1262, 1)\ty_true: (1262, 1)\n",
      "y_pred: (1262, 1)\ty_score: (1262, 1)\ty_true: (1262, 1)\n"
     ]
    },
    {
     "name": "stderr",
     "output_type": "stream",
     "text": [
      "\n",
      " 27%|██▋       | 4/15 [00:25<00:43,  3.95s/it]\u001b[A"
     ]
    },
    {
     "name": "stdout",
     "output_type": "stream",
     "text": [
      "y_pred: (1262, 1)\ty_score: (1262, 1)\ty_true: (1262, 1)\n",
      "y_pred: (1262, 1)\ty_score: (1262, 1)\ty_true: (1262, 1)\n",
      "y_pred: (1262, 1)\ty_score: (1262, 1)\ty_true: (1262, 1)\n",
      "FEN1 /p/vast1/jones289/hd_results/5/hdbind-rp-molclr-100k.lit-pcba-FEN1-ave.5.pkl hdbind-rp-molclr-100k\n",
      "y_pred: (88942, 1)\ty_score: (88942, 1)\ty_true: (88942, 1)\n",
      "y_pred: (88942, 1)\ty_score: (88942, 1)\ty_true: (88942, 1)\n",
      "y_pred: (88942, 1)\ty_score: (88942, 1)\ty_true: (88942, 1)\n",
      "y_pred: (88942, 1)\ty_score: (88942, 1)\ty_true: (88942, 1)\n",
      "y_pred: (88942, 1)\ty_score: (88942, 1)\ty_true: (88942, 1)\n",
      "y_pred: (88942, 1)\ty_score: (88942, 1)\ty_true: (88942, 1)\n",
      "y_pred: (88942, 1)\ty_score: (88942, 1)\ty_true: (88942, 1)\n",
      "y_pred: (88942, 1)\ty_score: (88942, 1)\ty_true: (88942, 1)\n",
      "y_pred: (88942, 1)\ty_score: (88942, 1)\ty_true: (88942, 1)\n",
      "y_pred: (88942, 1)\ty_score: (88942, 1)\ty_true: (88942, 1)\n",
      "y_pred: (88942, 1)\ty_score: (88942, 1)\ty_true: (88942, 1)\n",
      "y_pred: (88942, 1)\ty_score: (88942, 1)\ty_true: (88942, 1)\n",
      "y_pred: (88942, 1)\ty_score: (88942, 1)\ty_true: (88942, 1)\n",
      "y_pred: (88942, 1)\ty_score: (88942, 1)\ty_true: (88942, 1)\n",
      "y_pred: (88942, 1)\ty_score: (88942, 1)\ty_true: (88942, 1)\n",
      "y_pred: (88942, 1)\ty_score: (88942, 1)\ty_true: (88942, 1)\n",
      "y_pred: (88942, 1)\ty_score: (88942, 1)\ty_true: (88942, 1)\n",
      "y_pred: (88942, 1)\ty_score: (88942, 1)\ty_true: (88942, 1)\n",
      "y_pred: (88942, 1)\ty_score: (88942, 1)\ty_true: (88942, 1)\n",
      "y_pred: (88942, 1)\ty_score: (88942, 1)\ty_true: (88942, 1)\n"
     ]
    },
    {
     "name": "stderr",
     "output_type": "stream",
     "text": [
      "\n",
      " 33%|███▎      | 5/15 [00:50<01:54, 11.48s/it]\u001b[A"
     ]
    },
    {
     "name": "stdout",
     "output_type": "stream",
     "text": [
      "GBA /p/vast1/jones289/hd_results/5/hdbind-rp-molclr-100k.lit-pcba-GBA-ave.5.pkl hdbind-rp-molclr-100k\n",
      "y_pred: (74054, 1)\ty_score: (74054, 1)\ty_true: (74054, 1)\n",
      "y_pred: (74054, 1)\ty_score: (74054, 1)\ty_true: (74054, 1)\n",
      "y_pred: (74054, 1)\ty_score: (74054, 1)\ty_true: (74054, 1)\n",
      "y_pred: (74054, 1)\ty_score: (74054, 1)\ty_true: (74054, 1)\n",
      "y_pred: (74054, 1)\ty_score: (74054, 1)\ty_true: (74054, 1)\n",
      "y_pred: (74054, 1)\ty_score: (74054, 1)\ty_true: (74054, 1)\n",
      "y_pred: (74054, 1)\ty_score: (74054, 1)\ty_true: (74054, 1)\n",
      "y_pred: (74054, 1)\ty_score: (74054, 1)\ty_true: (74054, 1)\n",
      "y_pred: (74054, 1)\ty_score: (74054, 1)\ty_true: (74054, 1)\n",
      "y_pred: (74054, 1)\ty_score: (74054, 1)\ty_true: (74054, 1)\n",
      "y_pred: (74054, 1)\ty_score: (74054, 1)\ty_true: (74054, 1)\n",
      "y_pred: (74054, 1)\ty_score: (74054, 1)\ty_true: (74054, 1)\n",
      "y_pred: (74054, 1)\ty_score: (74054, 1)\ty_true: (74054, 1)\n",
      "y_pred: (74054, 1)\ty_score: (74054, 1)\ty_true: (74054, 1)\n",
      "y_pred: (74054, 1)\ty_score: (74054, 1)\ty_true: (74054, 1)\n",
      "y_pred: (74054, 1)\ty_score: (74054, 1)\ty_true: (74054, 1)\n",
      "y_pred: (74054, 1)\ty_score: (74054, 1)\ty_true: (74054, 1)\n",
      "y_pred: (74054, 1)\ty_score: (74054, 1)\ty_true: (74054, 1)\n",
      "y_pred: (74054, 1)\ty_score: (74054, 1)\ty_true: (74054, 1)\n",
      "y_pred: (74054, 1)\ty_score: (74054, 1)\ty_true: (74054, 1)\n"
     ]
    },
    {
     "name": "stderr",
     "output_type": "stream",
     "text": [
      "\n",
      " 40%|████      | 6/15 [01:11<02:11, 14.60s/it]\u001b[A"
     ]
    },
    {
     "name": "stdout",
     "output_type": "stream",
     "text": [
      "IDH1 /p/vast1/jones289/hd_results/5/hdbind-rp-molclr-100k.lit-pcba-IDH1-ave.5.pkl hdbind-rp-molclr-100k\n",
      "y_pred: (90521, 1)\ty_score: (90521, 1)\ty_true: (90521, 1)\n",
      "y_pred: (90521, 1)\ty_score: (90521, 1)\ty_true: (90521, 1)\n",
      "y_pred: (90521, 1)\ty_score: (90521, 1)\ty_true: (90521, 1)\n",
      "y_pred: (90521, 1)\ty_score: (90521, 1)\ty_true: (90521, 1)\n",
      "y_pred: (90521, 1)\ty_score: (90521, 1)\ty_true: (90521, 1)\n",
      "y_pred: (90521, 1)\ty_score: (90521, 1)\ty_true: (90521, 1)\n",
      "y_pred: (90521, 1)\ty_score: (90521, 1)\ty_true: (90521, 1)\n",
      "y_pred: (90521, 1)\ty_score: (90521, 1)\ty_true: (90521, 1)\n",
      "y_pred: (90521, 1)\ty_score: (90521, 1)\ty_true: (90521, 1)\n",
      "y_pred: (90521, 1)\ty_score: (90521, 1)\ty_true: (90521, 1)\n",
      "y_pred: (90521, 1)\ty_score: (90521, 1)\ty_true: (90521, 1)\n",
      "y_pred: (90521, 1)\ty_score: (90521, 1)\ty_true: (90521, 1)\n",
      "y_pred: (90521, 1)\ty_score: (90521, 1)\ty_true: (90521, 1)\n",
      "y_pred: (90521, 1)\ty_score: (90521, 1)\ty_true: (90521, 1)\n",
      "y_pred: (90521, 1)\ty_score: (90521, 1)\ty_true: (90521, 1)\n",
      "y_pred: (90521, 1)\ty_score: (90521, 1)\ty_true: (90521, 1)\n",
      "y_pred: (90521, 1)\ty_score: (90521, 1)\ty_true: (90521, 1)\n",
      "y_pred: (90521, 1)\ty_score: (90521, 1)\ty_true: (90521, 1)\n",
      "y_pred: (90521, 1)\ty_score: (90521, 1)\ty_true: (90521, 1)\n",
      "y_pred: (90521, 1)\ty_score: (90521, 1)\ty_true: (90521, 1)\n"
     ]
    },
    {
     "name": "stderr",
     "output_type": "stream",
     "text": [
      "\n",
      " 47%|████▋     | 7/15 [01:36<02:23, 17.91s/it]\u001b[A"
     ]
    },
    {
     "name": "stdout",
     "output_type": "stream",
     "text": [
      "KAT2A /p/vast1/jones289/hd_results/5/hdbind-rp-molclr-100k.lit-pcba-KAT2A-ave.5.pkl hdbind-rp-molclr-100k\n",
      "y_pred: (87185, 1)\ty_score: (87185, 1)\ty_true: (87185, 1)\n",
      "y_pred: (87185, 1)\ty_score: (87185, 1)\ty_true: (87185, 1)\n",
      "y_pred: (87185, 1)\ty_score: (87185, 1)\ty_true: (87185, 1)\n",
      "y_pred: (87185, 1)\ty_score: (87185, 1)\ty_true: (87185, 1)\n",
      "y_pred: (87185, 1)\ty_score: (87185, 1)\ty_true: (87185, 1)\n",
      "y_pred: (87185, 1)\ty_score: (87185, 1)\ty_true: (87185, 1)\n",
      "y_pred: (87185, 1)\ty_score: (87185, 1)\ty_true: (87185, 1)\n",
      "y_pred: (87185, 1)\ty_score: (87185, 1)\ty_true: (87185, 1)\n",
      "y_pred: (87185, 1)\ty_score: (87185, 1)\ty_true: (87185, 1)\n",
      "y_pred: (87185, 1)\ty_score: (87185, 1)\ty_true: (87185, 1)\n",
      "y_pred: (87185, 1)\ty_score: (87185, 1)\ty_true: (87185, 1)\n",
      "y_pred: (87185, 1)\ty_score: (87185, 1)\ty_true: (87185, 1)\n",
      "y_pred: (87185, 1)\ty_score: (87185, 1)\ty_true: (87185, 1)\n",
      "y_pred: (87185, 1)\ty_score: (87185, 1)\ty_true: (87185, 1)\n",
      "y_pred: (87185, 1)\ty_score: (87185, 1)\ty_true: (87185, 1)\n",
      "y_pred: (87185, 1)\ty_score: (87185, 1)\ty_true: (87185, 1)\n",
      "y_pred: (87185, 1)\ty_score: (87185, 1)\ty_true: (87185, 1)\n",
      "y_pred: (87185, 1)\ty_score: (87185, 1)\ty_true: (87185, 1)\n",
      "y_pred: (87185, 1)\ty_score: (87185, 1)\ty_true: (87185, 1)\n",
      "y_pred: (87185, 1)\ty_score: (87185, 1)\ty_true: (87185, 1)\n"
     ]
    },
    {
     "name": "stderr",
     "output_type": "stream",
     "text": [
      "\n",
      " 53%|█████▎    | 8/15 [01:59<02:17, 19.70s/it]\u001b[A"
     ]
    },
    {
     "name": "stdout",
     "output_type": "stream",
     "text": [
      "MAPK1 /p/vast1/jones289/hd_results/5/hdbind-rp-molclr-100k.lit-pcba-MAPK1-ave.5.pkl hdbind-rp-molclr-100k\n",
      "y_pred: (15734, 1)\ty_score: (15734, 1)\ty_true: (15734, 1)\n",
      "y_pred: (15734, 1)\ty_score: (15734, 1)\ty_true: (15734, 1)\n",
      "y_pred: (15734, 1)\ty_score: (15734, 1)\ty_true: (15734, 1)\n",
      "y_pred: (15734, 1)\ty_score: (15734, 1)\ty_true: (15734, 1)\n",
      "y_pred: (15734, 1)\ty_score: (15734, 1)\ty_true: (15734, 1)\n",
      "y_pred: (15734, 1)\ty_score: (15734, 1)\ty_true: (15734, 1)\n",
      "y_pred: (15734, 1)\ty_score: (15734, 1)\ty_true: (15734, 1)\n",
      "y_pred: (15734, 1)\ty_score: (15734, 1)\ty_true: (15734, 1)\n",
      "y_pred: (15734, 1)\ty_score: (15734, 1)\ty_true: (15734, 1)\n",
      "y_pred: (15734, 1)\ty_score: (15734, 1)\ty_true: (15734, 1)\n",
      "y_pred: (15734, 1)\ty_score: (15734, 1)\ty_true: (15734, 1)\n",
      "y_pred: (15734, 1)\ty_score: (15734, 1)\ty_true: (15734, 1)\n",
      "y_pred: (15734, 1)\ty_score: (15734, 1)\ty_true: (15734, 1)\n",
      "y_pred: (15734, 1)\ty_score: (15734, 1)\ty_true: (15734, 1)\n",
      "y_pred: (15734, 1)\ty_score: (15734, 1)\ty_true: (15734, 1)\n",
      "y_pred: (15734, 1)\ty_score: (15734, 1)\ty_true: (15734, 1)\n",
      "y_pred: (15734, 1)\ty_score: (15734, 1)\ty_true: (15734, 1)\n",
      "y_pred: (15734, 1)\ty_score: (15734, 1)\ty_true: (15734, 1)\n",
      "y_pred: (15734, 1)\ty_score: (15734, 1)\ty_true: (15734, 1)\n"
     ]
    },
    {
     "name": "stderr",
     "output_type": "stream",
     "text": [
      "\n",
      " 60%|██████    | 9/15 [02:03<01:27, 14.65s/it]\u001b[A"
     ]
    },
    {
     "name": "stdout",
     "output_type": "stream",
     "text": [
      "y_pred: (15734, 1)\ty_score: (15734, 1)\ty_true: (15734, 1)\n",
      "MTORC1 /p/vast1/jones289/hd_results/5/hdbind-rp-molclr-100k.lit-pcba-MTORC1-ave.5.pkl hdbind-rp-molclr-100k\n",
      "y_pred: (8267, 1)\ty_score: (8267, 1)\ty_true: (8267, 1)\n",
      "y_pred: (8267, 1)\ty_score: (8267, 1)\ty_true: (8267, 1)\n",
      "y_pred: (8267, 1)\ty_score: (8267, 1)\ty_true: (8267, 1)\n",
      "y_pred: (8267, 1)\ty_score: (8267, 1)\ty_true: (8267, 1)\n",
      "y_pred: (8267, 1)\ty_score: (8267, 1)\ty_true: (8267, 1)\n",
      "y_pred: (8267, 1)\ty_score: (8267, 1)\ty_true: (8267, 1)\n",
      "y_pred: (8267, 1)\ty_score: (8267, 1)\ty_true: (8267, 1)\n",
      "y_pred: (8267, 1)\ty_score: (8267, 1)\ty_true: (8267, 1)\n",
      "y_pred: (8267, 1)\ty_score: (8267, 1)\ty_true: (8267, 1)\n",
      "y_pred: (8267, 1)\ty_score: (8267, 1)\ty_true: (8267, 1)\n",
      "y_pred: (8267, 1)\ty_score: (8267, 1)\ty_true: (8267, 1)\n",
      "y_pred: (8267, 1)\ty_score: (8267, 1)\ty_true: (8267, 1)\n",
      "y_pred: (8267, 1)\ty_score: (8267, 1)\ty_true: (8267, 1)\n",
      "y_pred: (8267, 1)\ty_score: (8267, 1)\ty_true: (8267, 1)\n",
      "y_pred: (8267, 1)\ty_score: (8267, 1)\ty_true: (8267, 1)\n",
      "y_pred: (8267, 1)\ty_score: (8267, 1)\ty_true: (8267, 1)\n",
      "y_pred: (8267, 1)\ty_score: (8267, 1)\ty_true: (8267, 1)\n",
      "y_pred: (8267, 1)\ty_score: (8267, 1)\ty_true: (8267, 1)\n",
      "y_pred: (8267, 1)\ty_score: (8267, 1)\ty_true: (8267, 1)\n",
      "y_pred: (8267, 1)\ty_score: (8267, 1)\ty_true: (8267, 1)\n"
     ]
    },
    {
     "name": "stderr",
     "output_type": "stream",
     "text": [
      "\n",
      " 67%|██████▋   | 10/15 [02:05<00:53, 10.72s/it]\u001b[A"
     ]
    },
    {
     "name": "stdout",
     "output_type": "stream",
     "text": [
      "OPRK1 /p/vast1/jones289/hd_results/5/hdbind-rp-molclr-100k.lit-pcba-OPRK1-ave.5.pkl hdbind-rp-molclr-100k\n",
      "y_pred: (67460, 1)\ty_score: (67460, 1)\ty_true: (67460, 1)\n",
      "y_pred: (67460, 1)\ty_score: (67460, 1)\ty_true: (67460, 1)\n",
      "y_pred: (67460, 1)\ty_score: (67460, 1)\ty_true: (67460, 1)\n",
      "y_pred: (67460, 1)\ty_score: (67460, 1)\ty_true: (67460, 1)\n",
      "y_pred: (67460, 1)\ty_score: (67460, 1)\ty_true: (67460, 1)\n",
      "y_pred: (67460, 1)\ty_score: (67460, 1)\ty_true: (67460, 1)\n",
      "y_pred: (67460, 1)\ty_score: (67460, 1)\ty_true: (67460, 1)\n",
      "y_pred: (67460, 1)\ty_score: (67460, 1)\ty_true: (67460, 1)\n",
      "y_pred: (67460, 1)\ty_score: (67460, 1)\ty_true: (67460, 1)\n",
      "y_pred: (67460, 1)\ty_score: (67460, 1)\ty_true: (67460, 1)\n",
      "y_pred: (67460, 1)\ty_score: (67460, 1)\ty_true: (67460, 1)\n",
      "y_pred: (67460, 1)\ty_score: (67460, 1)\ty_true: (67460, 1)\n",
      "y_pred: (67460, 1)\ty_score: (67460, 1)\ty_true: (67460, 1)\n",
      "y_pred: (67460, 1)\ty_score: (67460, 1)\ty_true: (67460, 1)\n",
      "y_pred: (67460, 1)\ty_score: (67460, 1)\ty_true: (67460, 1)\n",
      "y_pred: (67460, 1)\ty_score: (67460, 1)\ty_true: (67460, 1)\n",
      "y_pred: (67460, 1)\ty_score: (67460, 1)\ty_true: (67460, 1)\n",
      "y_pred: (67460, 1)\ty_score: (67460, 1)\ty_true: (67460, 1)\n",
      "y_pred: (67460, 1)\ty_score: (67460, 1)\ty_true: (67460, 1)\n",
      "y_pred: (67460, 1)\ty_score: (67460, 1)\ty_true: (67460, 1)\n"
     ]
    },
    {
     "name": "stderr",
     "output_type": "stream",
     "text": [
      "\n",
      " 73%|███████▎  | 11/15 [02:22<00:51, 12.83s/it]\u001b[A"
     ]
    },
    {
     "name": "stdout",
     "output_type": "stream",
     "text": [
      "PKM2 /p/vast1/jones289/hd_results/5/hdbind-rp-molclr-100k.lit-pcba-PKM2-ave.5.pkl hdbind-rp-molclr-100k\n",
      "y_pred: (61516, 1)\ty_score: (61516, 1)\ty_true: (61516, 1)\n",
      "y_pred: (61516, 1)\ty_score: (61516, 1)\ty_true: (61516, 1)\n",
      "y_pred: (61516, 1)\ty_score: (61516, 1)\ty_true: (61516, 1)\n",
      "y_pred: (61516, 1)\ty_score: (61516, 1)\ty_true: (61516, 1)\n",
      "y_pred: (61516, 1)\ty_score: (61516, 1)\ty_true: (61516, 1)\n",
      "y_pred: (61516, 1)\ty_score: (61516, 1)\ty_true: (61516, 1)\n",
      "y_pred: (61516, 1)\ty_score: (61516, 1)\ty_true: (61516, 1)\n",
      "y_pred: (61516, 1)\ty_score: (61516, 1)\ty_true: (61516, 1)\n",
      "y_pred: (61516, 1)\ty_score: (61516, 1)\ty_true: (61516, 1)\n",
      "y_pred: (61516, 1)\ty_score: (61516, 1)\ty_true: (61516, 1)\n",
      "y_pred: (61516, 1)\ty_score: (61516, 1)\ty_true: (61516, 1)\n",
      "y_pred: (61516, 1)\ty_score: (61516, 1)\ty_true: (61516, 1)\n",
      "y_pred: (61516, 1)\ty_score: (61516, 1)\ty_true: (61516, 1)\n",
      "y_pred: (61516, 1)\ty_score: (61516, 1)\ty_true: (61516, 1)\n",
      "y_pred: (61516, 1)\ty_score: (61516, 1)\ty_true: (61516, 1)\n",
      "y_pred: (61516, 1)\ty_score: (61516, 1)\ty_true: (61516, 1)\n",
      "y_pred: (61516, 1)\ty_score: (61516, 1)\ty_true: (61516, 1)\n",
      "y_pred: (61516, 1)\ty_score: (61516, 1)\ty_true: (61516, 1)\n",
      "y_pred: (61516, 1)\ty_score: (61516, 1)\ty_true: (61516, 1)\n",
      "y_pred: (61516, 1)\ty_score: (61516, 1)\ty_true: (61516, 1)\n"
     ]
    },
    {
     "name": "stderr",
     "output_type": "stream",
     "text": [
      "\n",
      " 80%|████████  | 12/15 [02:38<00:41, 13.71s/it]\u001b[A"
     ]
    },
    {
     "name": "stdout",
     "output_type": "stream",
     "text": [
      "PPARG /p/vast1/jones289/hd_results/5/hdbind-rp-molclr-100k.lit-pcba-PPARG-ave.5.pkl hdbind-rp-molclr-100k\n",
      "y_pred: (1308, 1)\ty_score: (1308, 1)\ty_true: (1308, 1)\n",
      "y_pred: (1308, 1)\ty_score: (1308, 1)\ty_true: (1308, 1)\n",
      "y_pred: (1308, 1)\ty_score: (1308, 1)\ty_true: (1308, 1)\n",
      "y_pred: (1308, 1)\ty_score: (1308, 1)\ty_true: (1308, 1)\n",
      "y_pred: (1308, 1)\ty_score: (1308, 1)\ty_true: (1308, 1)\n",
      "y_pred: (1308, 1)\ty_score: (1308, 1)\ty_true: (1308, 1)\n",
      "y_pred: (1308, 1)\ty_score: (1308, 1)\ty_true: (1308, 1)\n",
      "y_pred: (1308, 1)\ty_score: (1308, 1)\ty_true: (1308, 1)\n",
      "y_pred: (1308, 1)\ty_score: (1308, 1)\ty_true: (1308, 1)\n",
      "y_pred: (1308, 1)\ty_score: (1308, 1)\ty_true: (1308, 1)\n",
      "y_pred: (1308, 1)\ty_score: (1308, 1)\ty_true: (1308, 1)\n",
      "y_pred: (1308, 1)\ty_score: (1308, 1)\ty_true: (1308, 1)\n",
      "y_pred: (1308, 1)\ty_score: (1308, 1)\ty_true: (1308, 1)\n",
      "y_pred: (1308, 1)\ty_score: (1308, 1)\ty_true: (1308, 1)\n",
      "y_pred: (1308, 1)\ty_score: (1308, 1)\ty_true: (1308, 1)\n",
      "y_pred: (1308, 1)\ty_score: (1308, 1)\ty_true: (1308, 1)\n"
     ]
    },
    {
     "name": "stderr",
     "output_type": "stream",
     "text": [
      "\n",
      " 87%|████████▋ | 13/15 [02:38<00:19,  9.70s/it]\u001b[A"
     ]
    },
    {
     "name": "stdout",
     "output_type": "stream",
     "text": [
      "y_pred: (1308, 1)\ty_score: (1308, 1)\ty_true: (1308, 1)\n",
      "y_pred: (1308, 1)\ty_score: (1308, 1)\ty_true: (1308, 1)\n",
      "y_pred: (1308, 1)\ty_score: (1308, 1)\ty_true: (1308, 1)\n",
      "y_pred: (1308, 1)\ty_score: (1308, 1)\ty_true: (1308, 1)\n",
      "TP53 /p/vast1/jones289/hd_results/5/hdbind-rp-molclr-100k.lit-pcba-TP53-ave.5.pkl hdbind-rp-molclr-100k\n",
      "y_pred: (1061, 1)\ty_score: (1061, 1)\ty_true: (1061, 1)\n",
      "y_pred: (1061, 1)\ty_score: (1061, 1)\ty_true: (1061, 1)\n",
      "y_pred: (1061, 1)\ty_score: (1061, 1)\ty_true: (1061, 1)\n",
      "y_pred: (1061, 1)\ty_score: (1061, 1)\ty_true: (1061, 1)\n",
      "y_pred: (1061, 1)\ty_score: (1061, 1)\ty_true: (1061, 1)\n",
      "y_pred: (1061, 1)\ty_score: (1061, 1)\ty_true: (1061, 1)\n",
      "y_pred: (1061, 1)\ty_score: (1061, 1)\ty_true: (1061, 1)\n",
      "y_pred: (1061, 1)\ty_score: (1061, 1)\ty_true: (1061, 1)\n",
      "y_pred: (1061, 1)\ty_score: (1061, 1)\ty_true: (1061, 1)\n",
      "y_pred: (1061, 1)\ty_score: (1061, 1)\ty_true: (1061, 1)\n",
      "y_pred: (1061, 1)\ty_score: (1061, 1)\ty_true: (1061, 1)\n",
      "y_pred: (1061, 1)\ty_score: (1061, 1)\ty_true: (1061, 1)\n",
      "y_pred: (1061, 1)\ty_score: (1061, 1)\ty_true: (1061, 1)\n",
      "y_pred: (1061, 1)\ty_score: (1061, 1)\ty_true: (1061, 1)\n",
      "y_pred: (1061, 1)\ty_score: (1061, 1)\ty_true: (1061, 1)\n",
      "y_pred: (1061, 1)\ty_score: (1061, 1)\ty_true: (1061, 1)\n",
      "y_pred: (1061, 1)\ty_score: (1061, 1)\ty_true: (1061, 1)\n"
     ]
    },
    {
     "name": "stderr",
     "output_type": "stream",
     "text": [
      "\n",
      " 93%|█████████▎| 14/15 [02:39<00:06,  6.90s/it]\u001b[A"
     ]
    },
    {
     "name": "stdout",
     "output_type": "stream",
     "text": [
      "y_pred: (1061, 1)\ty_score: (1061, 1)\ty_true: (1061, 1)\n",
      "y_pred: (1061, 1)\ty_score: (1061, 1)\ty_true: (1061, 1)\n",
      "y_pred: (1061, 1)\ty_score: (1061, 1)\ty_true: (1061, 1)\n",
      "VDR /p/vast1/jones289/hd_results/5/hdbind-rp-molclr-100k.lit-pcba-VDR-ave.5.pkl hdbind-rp-molclr-100k\n",
      "y_pred: (66800, 1)\ty_score: (66800, 1)\ty_true: (66800, 1)\n",
      "y_pred: (66800, 1)\ty_score: (66800, 1)\ty_true: (66800, 1)\n",
      "y_pred: (66800, 1)\ty_score: (66800, 1)\ty_true: (66800, 1)\n",
      "y_pred: (66800, 1)\ty_score: (66800, 1)\ty_true: (66800, 1)\n",
      "y_pred: (66800, 1)\ty_score: (66800, 1)\ty_true: (66800, 1)\n",
      "y_pred: (66800, 1)\ty_score: (66800, 1)\ty_true: (66800, 1)\n",
      "y_pred: (66800, 1)\ty_score: (66800, 1)\ty_true: (66800, 1)\n",
      "y_pred: (66800, 1)\ty_score: (66800, 1)\ty_true: (66800, 1)\n",
      "y_pred: (66800, 1)\ty_score: (66800, 1)\ty_true: (66800, 1)\n",
      "y_pred: (66800, 1)\ty_score: (66800, 1)\ty_true: (66800, 1)\n",
      "y_pred: (66800, 1)\ty_score: (66800, 1)\ty_true: (66800, 1)\n",
      "y_pred: (66800, 1)\ty_score: (66800, 1)\ty_true: (66800, 1)\n",
      "y_pred: (66800, 1)\ty_score: (66800, 1)\ty_true: (66800, 1)\n",
      "y_pred: (66800, 1)\ty_score: (66800, 1)\ty_true: (66800, 1)\n",
      "y_pred: (66800, 1)\ty_score: (66800, 1)\ty_true: (66800, 1)\n",
      "y_pred: (66800, 1)\ty_score: (66800, 1)\ty_true: (66800, 1)\n",
      "y_pred: (66800, 1)\ty_score: (66800, 1)\ty_true: (66800, 1)\n",
      "y_pred: (66800, 1)\ty_score: (66800, 1)\ty_true: (66800, 1)\n",
      "y_pred: (66800, 1)\ty_score: (66800, 1)\ty_true: (66800, 1)\n",
      "y_pred: (66800, 1)\ty_score: (66800, 1)\ty_true: (66800, 1)\n"
     ]
    },
    {
     "name": "stderr",
     "output_type": "stream",
     "text": [
      "\n",
      "100%|██████████| 15/15 [02:57<00:00, 11.83s/it]\u001b[A\n",
      " 56%|█████▌    | 5/9 [13:44<11:13, 168.33s/it]\n",
      "  0%|          | 0/15 [00:00<?, ?it/s]\u001b[A"
     ]
    },
    {
     "name": "stdout",
     "output_type": "stream",
     "text": [
      "ADRB2 /p/vast1/jones289/hd_results/5/hdbind-rp-molformer.lit-pcba-ADRB2-ave.5.pkl hdbind-rp-molformer\n",
      "y_pred: (78124, 1)\ty_score: (78124, 1)\ty_true: (78124, 1)\n",
      "y_pred: (78124, 1)\ty_score: (78124, 1)\ty_true: (78124, 1)\n",
      "y_pred: (78124, 1)\ty_score: (78124, 1)\ty_true: (78124, 1)\n",
      "y_pred: (78124, 1)\ty_score: (78124, 1)\ty_true: (78124, 1)\n",
      "y_pred: (78124, 1)\ty_score: (78124, 1)\ty_true: (78124, 1)\n",
      "y_pred: (78124, 1)\ty_score: (78124, 1)\ty_true: (78124, 1)\n",
      "y_pred: (78124, 1)\ty_score: (78124, 1)\ty_true: (78124, 1)\n",
      "y_pred: (78124, 1)\ty_score: (78124, 1)\ty_true: (78124, 1)\n",
      "y_pred: (78124, 1)\ty_score: (78124, 1)\ty_true: (78124, 1)\n",
      "y_pred: (78124, 1)\ty_score: (78124, 1)\ty_true: (78124, 1)\n",
      "y_pred: (78124, 1)\ty_score: (78124, 1)\ty_true: (78124, 1)\n",
      "y_pred: (78124, 1)\ty_score: (78124, 1)\ty_true: (78124, 1)\n",
      "y_pred: (78124, 1)\ty_score: (78124, 1)\ty_true: (78124, 1)\n",
      "y_pred: (78124, 1)\ty_score: (78124, 1)\ty_true: (78124, 1)\n",
      "y_pred: (78124, 1)\ty_score: (78124, 1)\ty_true: (78124, 1)\n",
      "y_pred: (78124, 1)\ty_score: (78124, 1)\ty_true: (78124, 1)\n",
      "y_pred: (78124, 1)\ty_score: (78124, 1)\ty_true: (78124, 1)\n",
      "y_pred: (78124, 1)\ty_score: (78124, 1)\ty_true: (78124, 1)\n",
      "y_pred: (78124, 1)\ty_score: (78124, 1)\ty_true: (78124, 1)\n",
      "y_pred: (78124, 1)\ty_score: (78124, 1)\ty_true: (78124, 1)\n"
     ]
    },
    {
     "name": "stderr",
     "output_type": "stream",
     "text": [
      "\n",
      "  7%|▋         | 1/15 [00:20<04:51, 20.82s/it]\u001b[A"
     ]
    },
    {
     "name": "stdout",
     "output_type": "stream",
     "text": [
      "ALDH1 /p/vast1/jones289/hd_results/5/hdbind-rp-molformer.lit-pcba-ALDH1-ave.5.pkl hdbind-rp-molformer\n",
      "y_pred: (27212, 1)\ty_score: (27212, 1)\ty_true: (27212, 1)\n",
      "y_pred: (27212, 1)\ty_score: (27212, 1)\ty_true: (27212, 1)\n",
      "y_pred: (27212, 1)\ty_score: (27212, 1)\ty_true: (27212, 1)\n",
      "y_pred: (27212, 1)\ty_score: (27212, 1)\ty_true: (27212, 1)\n",
      "y_pred: (27212, 1)\ty_score: (27212, 1)\ty_true: (27212, 1)\n",
      "y_pred: (27212, 1)\ty_score: (27212, 1)\ty_true: (27212, 1)\n",
      "y_pred: (27212, 1)\ty_score: (27212, 1)\ty_true: (27212, 1)\n",
      "y_pred: (27212, 1)\ty_score: (27212, 1)\ty_true: (27212, 1)\n",
      "y_pred: (27212, 1)\ty_score: (27212, 1)\ty_true: (27212, 1)\n",
      "y_pred: (27212, 1)\ty_score: (27212, 1)\ty_true: (27212, 1)\n",
      "y_pred: (27212, 1)\ty_score: (27212, 1)\ty_true: (27212, 1)\n",
      "y_pred: (27212, 1)\ty_score: (27212, 1)\ty_true: (27212, 1)\n",
      "y_pred: (27212, 1)\ty_score: (27212, 1)\ty_true: (27212, 1)\n",
      "y_pred: (27212, 1)\ty_score: (27212, 1)\ty_true: (27212, 1)\n",
      "y_pred: (27212, 1)\ty_score: (27212, 1)\ty_true: (27212, 1)\n",
      "y_pred: (27212, 1)\ty_score: (27212, 1)\ty_true: (27212, 1)\n",
      "y_pred: (27212, 1)\ty_score: (27212, 1)\ty_true: (27212, 1)\n",
      "y_pred: (27212, 1)\ty_score: (27212, 1)\ty_true: (27212, 1)\n",
      "y_pred: (27212, 1)\ty_score: (27212, 1)\ty_true: (27212, 1)\n",
      "y_pred: (27212, 1)\ty_score: (27212, 1)\ty_true: (27212, 1)\n"
     ]
    },
    {
     "name": "stderr",
     "output_type": "stream",
     "text": [
      "\n",
      " 13%|█▎        | 2/15 [00:27<02:40, 12.37s/it]\u001b[A"
     ]
    },
    {
     "name": "stdout",
     "output_type": "stream",
     "text": [
      "ESR1_ago /p/vast1/jones289/hd_results/5/hdbind-rp-molformer.lit-pcba-ESR1_ago-ave.5.pkl hdbind-rp-molformer\n",
      "y_pred: (1398, 1)\ty_score: (1398, 1)\ty_true: (1398, 1)\n",
      "y_pred: (1398, 1)\ty_score: (1398, 1)\ty_true: (1398, 1)\n",
      "y_pred: (1398, 1)\ty_score: (1398, 1)\ty_true: (1398, 1)\n",
      "y_pred: (1398, 1)\ty_score: (1398, 1)\ty_true: (1398, 1)\n",
      "y_pred: (1398, 1)\ty_score: (1398, 1)\ty_true: (1398, 1)\n",
      "y_pred: (1398, 1)\ty_score: (1398, 1)\ty_true: (1398, 1)\n",
      "y_pred: (1398, 1)\ty_score: (1398, 1)\ty_true: (1398, 1)\n",
      "y_pred: (1398, 1)\ty_score: (1398, 1)\ty_true: (1398, 1)\n",
      "y_pred: (1398, 1)\ty_score: (1398, 1)\ty_true: (1398, 1)\n",
      "y_pred: (1398, 1)\ty_score: (1398, 1)\ty_true: (1398, 1)\n",
      "y_pred: (1398, 1)\ty_score: (1398, 1)\ty_true: (1398, 1)\n",
      "y_pred: (1398, 1)\ty_score: (1398, 1)\ty_true: (1398, 1)\n"
     ]
    },
    {
     "name": "stderr",
     "output_type": "stream",
     "text": [
      "\n",
      " 20%|██        | 3/15 [00:27<01:22,  6.87s/it]\u001b[A"
     ]
    },
    {
     "name": "stdout",
     "output_type": "stream",
     "text": [
      "y_pred: (1398, 1)\ty_score: (1398, 1)\ty_true: (1398, 1)\n",
      "y_pred: (1398, 1)\ty_score: (1398, 1)\ty_true: (1398, 1)\n",
      "y_pred: (1398, 1)\ty_score: (1398, 1)\ty_true: (1398, 1)\n",
      "y_pred: (1398, 1)\ty_score: (1398, 1)\ty_true: (1398, 1)\n",
      "y_pred: (1398, 1)\ty_score: (1398, 1)\ty_true: (1398, 1)\n",
      "y_pred: (1398, 1)\ty_score: (1398, 1)\ty_true: (1398, 1)\n",
      "y_pred: (1398, 1)\ty_score: (1398, 1)\ty_true: (1398, 1)\n",
      "y_pred: (1398, 1)\ty_score: (1398, 1)\ty_true: (1398, 1)\n",
      "ESR1_ant /p/vast1/jones289/hd_results/5/hdbind-rp-molformer.lit-pcba-ESR1_ant-ave.5.pkl hdbind-rp-molformer\n",
      "y_pred: (1262, 1)\ty_score: (1262, 1)\ty_true: (1262, 1)\n",
      "y_pred: (1262, 1)\ty_score: (1262, 1)\ty_true: (1262, 1)\n",
      "y_pred: (1262, 1)\ty_score: (1262, 1)\ty_true: (1262, 1)\n",
      "y_pred: (1262, 1)\ty_score: (1262, 1)\ty_true: (1262, 1)\n",
      "y_pred: (1262, 1)\ty_score: (1262, 1)\ty_true: (1262, 1)\n",
      "y_pred: (1262, 1)\ty_score: (1262, 1)\ty_true: (1262, 1)\n",
      "y_pred: (1262, 1)\ty_score: (1262, 1)\ty_true: (1262, 1)\n",
      "y_pred: (1262, 1)\ty_score: (1262, 1)\ty_true: (1262, 1)\n",
      "y_pred: (1262, 1)\ty_score: (1262, 1)\ty_true: (1262, 1)\n",
      "y_pred: (1262, 1)\ty_score: (1262, 1)\ty_true: (1262, 1)\n",
      "y_pred: (1262, 1)\ty_score: (1262, 1)\ty_true: (1262, 1)\n",
      "y_pred: (1262, 1)\ty_score: (1262, 1)\ty_true: (1262, 1)\n",
      "y_pred: (1262, 1)\ty_score: (1262, 1)\ty_true: (1262, 1)\n",
      "y_pred: (1262, 1)\ty_score: (1262, 1)\ty_true: (1262, 1)\n",
      "y_pred: (1262, 1)\ty_score: (1262, 1)\ty_true: (1262, 1)\n",
      "y_pred: (1262, 1)\ty_score: (1262, 1)\ty_true: (1262, 1)\n",
      "y_pred: (1262, 1)\ty_score: (1262, 1)\ty_true: (1262, 1)\n",
      "y_pred: (1262, 1)\ty_score: (1262, 1)\ty_true: (1262, 1)\n",
      "y_pred: (1262, 1)\ty_score: (1262, 1)\ty_true: (1262, 1)\n",
      "y_pred: (1262, 1)\ty_score: (1262, 1)\ty_true: (1262, 1)\n"
     ]
    },
    {
     "name": "stderr",
     "output_type": "stream",
     "text": [
      "\n",
      " 27%|██▋       | 4/15 [00:27<00:47,  4.28s/it]\u001b[A"
     ]
    },
    {
     "name": "stdout",
     "output_type": "stream",
     "text": [
      "FEN1 /p/vast1/jones289/hd_results/5/hdbind-rp-molformer.lit-pcba-FEN1-ave.5.pkl hdbind-rp-molformer\n",
      "y_pred: (88942, 1)\ty_score: (88942, 1)\ty_true: (88942, 1)\n",
      "y_pred: (88942, 1)\ty_score: (88942, 1)\ty_true: (88942, 1)\n",
      "y_pred: (88942, 1)\ty_score: (88942, 1)\ty_true: (88942, 1)\n",
      "y_pred: (88942, 1)\ty_score: (88942, 1)\ty_true: (88942, 1)\n",
      "y_pred: (88942, 1)\ty_score: (88942, 1)\ty_true: (88942, 1)\n",
      "y_pred: (88942, 1)\ty_score: (88942, 1)\ty_true: (88942, 1)\n",
      "y_pred: (88942, 1)\ty_score: (88942, 1)\ty_true: (88942, 1)\n",
      "y_pred: (88942, 1)\ty_score: (88942, 1)\ty_true: (88942, 1)\n",
      "y_pred: (88942, 1)\ty_score: (88942, 1)\ty_true: (88942, 1)\n",
      "y_pred: (88942, 1)\ty_score: (88942, 1)\ty_true: (88942, 1)\n",
      "y_pred: (88942, 1)\ty_score: (88942, 1)\ty_true: (88942, 1)\n",
      "y_pred: (88942, 1)\ty_score: (88942, 1)\ty_true: (88942, 1)\n",
      "y_pred: (88942, 1)\ty_score: (88942, 1)\ty_true: (88942, 1)\n",
      "y_pred: (88942, 1)\ty_score: (88942, 1)\ty_true: (88942, 1)\n",
      "y_pred: (88942, 1)\ty_score: (88942, 1)\ty_true: (88942, 1)\n",
      "y_pred: (88942, 1)\ty_score: (88942, 1)\ty_true: (88942, 1)\n",
      "y_pred: (88942, 1)\ty_score: (88942, 1)\ty_true: (88942, 1)\n",
      "y_pred: (88942, 1)\ty_score: (88942, 1)\ty_true: (88942, 1)\n",
      "y_pred: (88942, 1)\ty_score: (88942, 1)\ty_true: (88942, 1)\n",
      "y_pred: (88942, 1)\ty_score: (88942, 1)\ty_true: (88942, 1)\n"
     ]
    },
    {
     "name": "stderr",
     "output_type": "stream",
     "text": [
      "\n",
      " 33%|███▎      | 5/15 [00:50<01:49, 10.99s/it]\u001b[A"
     ]
    },
    {
     "name": "stdout",
     "output_type": "stream",
     "text": [
      "GBA /p/vast1/jones289/hd_results/5/hdbind-rp-molformer.lit-pcba-GBA-ave.5.pkl hdbind-rp-molformer\n",
      "y_pred: (74054, 1)\ty_score: (74054, 1)\ty_true: (74054, 1)\n",
      "y_pred: (74054, 1)\ty_score: (74054, 1)\ty_true: (74054, 1)\n",
      "y_pred: (74054, 1)\ty_score: (74054, 1)\ty_true: (74054, 1)\n",
      "y_pred: (74054, 1)\ty_score: (74054, 1)\ty_true: (74054, 1)\n",
      "y_pred: (74054, 1)\ty_score: (74054, 1)\ty_true: (74054, 1)\n",
      "y_pred: (74054, 1)\ty_score: (74054, 1)\ty_true: (74054, 1)\n",
      "y_pred: (74054, 1)\ty_score: (74054, 1)\ty_true: (74054, 1)\n",
      "y_pred: (74054, 1)\ty_score: (74054, 1)\ty_true: (74054, 1)\n",
      "y_pred: (74054, 1)\ty_score: (74054, 1)\ty_true: (74054, 1)\n",
      "y_pred: (74054, 1)\ty_score: (74054, 1)\ty_true: (74054, 1)\n",
      "y_pred: (74054, 1)\ty_score: (74054, 1)\ty_true: (74054, 1)\n",
      "y_pred: (74054, 1)\ty_score: (74054, 1)\ty_true: (74054, 1)\n",
      "y_pred: (74054, 1)\ty_score: (74054, 1)\ty_true: (74054, 1)\n",
      "y_pred: (74054, 1)\ty_score: (74054, 1)\ty_true: (74054, 1)\n",
      "y_pred: (74054, 1)\ty_score: (74054, 1)\ty_true: (74054, 1)\n",
      "y_pred: (74054, 1)\ty_score: (74054, 1)\ty_true: (74054, 1)\n",
      "y_pred: (74054, 1)\ty_score: (74054, 1)\ty_true: (74054, 1)\n",
      "y_pred: (74054, 1)\ty_score: (74054, 1)\ty_true: (74054, 1)\n",
      "y_pred: (74054, 1)\ty_score: (74054, 1)\ty_true: (74054, 1)\n",
      "y_pred: (74054, 1)\ty_score: (74054, 1)\ty_true: (74054, 1)\n"
     ]
    },
    {
     "name": "stderr",
     "output_type": "stream",
     "text": [
      "\n",
      " 40%|████      | 6/15 [01:10<02:06, 14.02s/it]\u001b[A"
     ]
    },
    {
     "name": "stdout",
     "output_type": "stream",
     "text": [
      "IDH1 /p/vast1/jones289/hd_results/5/hdbind-rp-molformer.lit-pcba-IDH1-ave.5.pkl hdbind-rp-molformer\n",
      "y_pred: (90521, 1)\ty_score: (90521, 1)\ty_true: (90521, 1)\n",
      "y_pred: (90521, 1)\ty_score: (90521, 1)\ty_true: (90521, 1)\n",
      "y_pred: (90521, 1)\ty_score: (90521, 1)\ty_true: (90521, 1)\n",
      "y_pred: (90521, 1)\ty_score: (90521, 1)\ty_true: (90521, 1)\n",
      "y_pred: (90521, 1)\ty_score: (90521, 1)\ty_true: (90521, 1)\n",
      "y_pred: (90521, 1)\ty_score: (90521, 1)\ty_true: (90521, 1)\n",
      "y_pred: (90521, 1)\ty_score: (90521, 1)\ty_true: (90521, 1)\n",
      "y_pred: (90521, 1)\ty_score: (90521, 1)\ty_true: (90521, 1)\n",
      "y_pred: (90521, 1)\ty_score: (90521, 1)\ty_true: (90521, 1)\n",
      "y_pred: (90521, 1)\ty_score: (90521, 1)\ty_true: (90521, 1)\n",
      "y_pred: (90521, 1)\ty_score: (90521, 1)\ty_true: (90521, 1)\n",
      "y_pred: (90521, 1)\ty_score: (90521, 1)\ty_true: (90521, 1)\n",
      "y_pred: (90521, 1)\ty_score: (90521, 1)\ty_true: (90521, 1)\n",
      "y_pred: (90521, 1)\ty_score: (90521, 1)\ty_true: (90521, 1)\n",
      "y_pred: (90521, 1)\ty_score: (90521, 1)\ty_true: (90521, 1)\n",
      "y_pred: (90521, 1)\ty_score: (90521, 1)\ty_true: (90521, 1)\n",
      "y_pred: (90521, 1)\ty_score: (90521, 1)\ty_true: (90521, 1)\n",
      "y_pred: (90521, 1)\ty_score: (90521, 1)\ty_true: (90521, 1)\n",
      "y_pred: (90521, 1)\ty_score: (90521, 1)\ty_true: (90521, 1)\n",
      "y_pred: (90521, 1)\ty_score: (90521, 1)\ty_true: (90521, 1)\n"
     ]
    },
    {
     "name": "stderr",
     "output_type": "stream",
     "text": [
      "\n",
      " 47%|████▋     | 7/15 [01:34<02:16, 17.11s/it]\u001b[A"
     ]
    },
    {
     "name": "stdout",
     "output_type": "stream",
     "text": [
      "KAT2A /p/vast1/jones289/hd_results/5/hdbind-rp-molformer.lit-pcba-KAT2A-ave.5.pkl hdbind-rp-molformer\n",
      "y_pred: (87185, 1)\ty_score: (87185, 1)\ty_true: (87185, 1)\n",
      "y_pred: (87185, 1)\ty_score: (87185, 1)\ty_true: (87185, 1)\n",
      "y_pred: (87185, 1)\ty_score: (87185, 1)\ty_true: (87185, 1)\n",
      "y_pred: (87185, 1)\ty_score: (87185, 1)\ty_true: (87185, 1)\n",
      "y_pred: (87185, 1)\ty_score: (87185, 1)\ty_true: (87185, 1)\n",
      "y_pred: (87185, 1)\ty_score: (87185, 1)\ty_true: (87185, 1)\n",
      "y_pred: (87185, 1)\ty_score: (87185, 1)\ty_true: (87185, 1)\n",
      "y_pred: (87185, 1)\ty_score: (87185, 1)\ty_true: (87185, 1)\n",
      "y_pred: (87185, 1)\ty_score: (87185, 1)\ty_true: (87185, 1)\n",
      "y_pred: (87185, 1)\ty_score: (87185, 1)\ty_true: (87185, 1)\n",
      "y_pred: (87185, 1)\ty_score: (87185, 1)\ty_true: (87185, 1)\n",
      "y_pred: (87185, 1)\ty_score: (87185, 1)\ty_true: (87185, 1)\n",
      "y_pred: (87185, 1)\ty_score: (87185, 1)\ty_true: (87185, 1)\n",
      "y_pred: (87185, 1)\ty_score: (87185, 1)\ty_true: (87185, 1)\n",
      "y_pred: (87185, 1)\ty_score: (87185, 1)\ty_true: (87185, 1)\n",
      "y_pred: (87185, 1)\ty_score: (87185, 1)\ty_true: (87185, 1)\n",
      "y_pred: (87185, 1)\ty_score: (87185, 1)\ty_true: (87185, 1)\n",
      "y_pred: (87185, 1)\ty_score: (87185, 1)\ty_true: (87185, 1)\n",
      "y_pred: (87185, 1)\ty_score: (87185, 1)\ty_true: (87185, 1)\n",
      "y_pred: (87185, 1)\ty_score: (87185, 1)\ty_true: (87185, 1)\n"
     ]
    },
    {
     "name": "stderr",
     "output_type": "stream",
     "text": [
      "\n",
      " 53%|█████▎    | 8/15 [01:55<02:10, 18.60s/it]\u001b[A"
     ]
    },
    {
     "name": "stdout",
     "output_type": "stream",
     "text": [
      "MAPK1 /p/vast1/jones289/hd_results/5/hdbind-rp-molformer.lit-pcba-MAPK1-ave.5.pkl hdbind-rp-molformer\n",
      "y_pred: (15734, 1)\ty_score: (15734, 1)\ty_true: (15734, 1)\n",
      "y_pred: (15734, 1)\ty_score: (15734, 1)\ty_true: (15734, 1)\n",
      "y_pred: (15734, 1)\ty_score: (15734, 1)\ty_true: (15734, 1)\n",
      "y_pred: (15734, 1)\ty_score: (15734, 1)\ty_true: (15734, 1)\n",
      "y_pred: (15734, 1)\ty_score: (15734, 1)\ty_true: (15734, 1)\n",
      "y_pred: (15734, 1)\ty_score: (15734, 1)\ty_true: (15734, 1)\n",
      "y_pred: (15734, 1)\ty_score: (15734, 1)\ty_true: (15734, 1)\n",
      "y_pred: (15734, 1)\ty_score: (15734, 1)\ty_true: (15734, 1)\n",
      "y_pred: (15734, 1)\ty_score: (15734, 1)\ty_true: (15734, 1)\n",
      "y_pred: (15734, 1)\ty_score: (15734, 1)\ty_true: (15734, 1)\n",
      "y_pred: (15734, 1)\ty_score: (15734, 1)\ty_true: (15734, 1)\n",
      "y_pred: (15734, 1)\ty_score: (15734, 1)\ty_true: (15734, 1)\n",
      "y_pred: (15734, 1)\ty_score: (15734, 1)\ty_true: (15734, 1)\n",
      "y_pred: (15734, 1)\ty_score: (15734, 1)\ty_true: (15734, 1)\n",
      "y_pred: (15734, 1)\ty_score: (15734, 1)\ty_true: (15734, 1)\n",
      "y_pred: (15734, 1)\ty_score: (15734, 1)\ty_true: (15734, 1)\n",
      "y_pred: (15734, 1)\ty_score: (15734, 1)\ty_true: (15734, 1)\n",
      "y_pred: (15734, 1)\ty_score: (15734, 1)\ty_true: (15734, 1)\n",
      "y_pred: (15734, 1)\ty_score: (15734, 1)\ty_true: (15734, 1)\n"
     ]
    },
    {
     "name": "stderr",
     "output_type": "stream",
     "text": [
      "\n",
      " 60%|██████    | 9/15 [01:59<01:23, 13.84s/it]\u001b[A"
     ]
    },
    {
     "name": "stdout",
     "output_type": "stream",
     "text": [
      "y_pred: (15734, 1)\ty_score: (15734, 1)\ty_true: (15734, 1)\n",
      "MTORC1 /p/vast1/jones289/hd_results/5/hdbind-rp-molformer.lit-pcba-MTORC1-ave.5.pkl hdbind-rp-molformer\n",
      "y_pred: (8267, 1)\ty_score: (8267, 1)\ty_true: (8267, 1)\n",
      "y_pred: (8267, 1)\ty_score: (8267, 1)\ty_true: (8267, 1)\n",
      "y_pred: (8267, 1)\ty_score: (8267, 1)\ty_true: (8267, 1)\n",
      "y_pred: (8267, 1)\ty_score: (8267, 1)\ty_true: (8267, 1)\n",
      "y_pred: (8267, 1)\ty_score: (8267, 1)\ty_true: (8267, 1)\n",
      "y_pred: (8267, 1)\ty_score: (8267, 1)\ty_true: (8267, 1)\n",
      "y_pred: (8267, 1)\ty_score: (8267, 1)\ty_true: (8267, 1)\n",
      "y_pred: (8267, 1)\ty_score: (8267, 1)\ty_true: (8267, 1)\n",
      "y_pred: (8267, 1)\ty_score: (8267, 1)\ty_true: (8267, 1)\n",
      "y_pred: (8267, 1)\ty_score: (8267, 1)\ty_true: (8267, 1)\n",
      "y_pred: (8267, 1)\ty_score: (8267, 1)\ty_true: (8267, 1)\n",
      "y_pred: (8267, 1)\ty_score: (8267, 1)\ty_true: (8267, 1)\n",
      "y_pred: (8267, 1)\ty_score: (8267, 1)\ty_true: (8267, 1)\n",
      "y_pred: (8267, 1)\ty_score: (8267, 1)\ty_true: (8267, 1)\n",
      "y_pred: (8267, 1)\ty_score: (8267, 1)\ty_true: (8267, 1)\n",
      "y_pred: (8267, 1)\ty_score: (8267, 1)\ty_true: (8267, 1)\n",
      "y_pred: (8267, 1)\ty_score: (8267, 1)\ty_true: (8267, 1)\n"
     ]
    },
    {
     "name": "stderr",
     "output_type": "stream",
     "text": [
      "\n",
      " 67%|██████▋   | 10/15 [02:01<00:50, 10.09s/it]\u001b[A"
     ]
    },
    {
     "name": "stdout",
     "output_type": "stream",
     "text": [
      "y_pred: (8267, 1)\ty_score: (8267, 1)\ty_true: (8267, 1)\n",
      "y_pred: (8267, 1)\ty_score: (8267, 1)\ty_true: (8267, 1)\n",
      "y_pred: (8267, 1)\ty_score: (8267, 1)\ty_true: (8267, 1)\n",
      "OPRK1 /p/vast1/jones289/hd_results/5/hdbind-rp-molformer.lit-pcba-OPRK1-ave.5.pkl hdbind-rp-molformer\n",
      "y_pred: (67460, 1)\ty_score: (67460, 1)\ty_true: (67460, 1)\n",
      "y_pred: (67460, 1)\ty_score: (67460, 1)\ty_true: (67460, 1)\n",
      "y_pred: (67460, 1)\ty_score: (67460, 1)\ty_true: (67460, 1)\n",
      "y_pred: (67460, 1)\ty_score: (67460, 1)\ty_true: (67460, 1)\n",
      "y_pred: (67460, 1)\ty_score: (67460, 1)\ty_true: (67460, 1)\n",
      "y_pred: (67460, 1)\ty_score: (67460, 1)\ty_true: (67460, 1)\n",
      "y_pred: (67460, 1)\ty_score: (67460, 1)\ty_true: (67460, 1)\n",
      "y_pred: (67460, 1)\ty_score: (67460, 1)\ty_true: (67460, 1)\n",
      "y_pred: (67460, 1)\ty_score: (67460, 1)\ty_true: (67460, 1)\n",
      "y_pred: (67460, 1)\ty_score: (67460, 1)\ty_true: (67460, 1)\n",
      "y_pred: (67460, 1)\ty_score: (67460, 1)\ty_true: (67460, 1)\n",
      "y_pred: (67460, 1)\ty_score: (67460, 1)\ty_true: (67460, 1)\n",
      "y_pred: (67460, 1)\ty_score: (67460, 1)\ty_true: (67460, 1)\n",
      "y_pred: (67460, 1)\ty_score: (67460, 1)\ty_true: (67460, 1)\n",
      "y_pred: (67460, 1)\ty_score: (67460, 1)\ty_true: (67460, 1)\n",
      "y_pred: (67460, 1)\ty_score: (67460, 1)\ty_true: (67460, 1)\n",
      "y_pred: (67460, 1)\ty_score: (67460, 1)\ty_true: (67460, 1)\n",
      "y_pred: (67460, 1)\ty_score: (67460, 1)\ty_true: (67460, 1)\n",
      "y_pred: (67460, 1)\ty_score: (67460, 1)\ty_true: (67460, 1)\n",
      "y_pred: (67460, 1)\ty_score: (67460, 1)\ty_true: (67460, 1)\n"
     ]
    },
    {
     "name": "stderr",
     "output_type": "stream",
     "text": [
      "\n",
      " 73%|███████▎  | 11/15 [02:18<00:49, 12.48s/it]\u001b[A"
     ]
    },
    {
     "name": "stdout",
     "output_type": "stream",
     "text": [
      "PKM2 /p/vast1/jones289/hd_results/5/hdbind-rp-molformer.lit-pcba-PKM2-ave.5.pkl hdbind-rp-molformer\n",
      "y_pred: (61516, 1)\ty_score: (61516, 1)\ty_true: (61516, 1)\n",
      "y_pred: (61516, 1)\ty_score: (61516, 1)\ty_true: (61516, 1)\n",
      "y_pred: (61516, 1)\ty_score: (61516, 1)\ty_true: (61516, 1)\n",
      "y_pred: (61516, 1)\ty_score: (61516, 1)\ty_true: (61516, 1)\n",
      "y_pred: (61516, 1)\ty_score: (61516, 1)\ty_true: (61516, 1)\n",
      "y_pred: (61516, 1)\ty_score: (61516, 1)\ty_true: (61516, 1)\n",
      "y_pred: (61516, 1)\ty_score: (61516, 1)\ty_true: (61516, 1)\n",
      "y_pred: (61516, 1)\ty_score: (61516, 1)\ty_true: (61516, 1)\n",
      "y_pred: (61516, 1)\ty_score: (61516, 1)\ty_true: (61516, 1)\n",
      "y_pred: (61516, 1)\ty_score: (61516, 1)\ty_true: (61516, 1)\n",
      "y_pred: (61516, 1)\ty_score: (61516, 1)\ty_true: (61516, 1)\n",
      "y_pred: (61516, 1)\ty_score: (61516, 1)\ty_true: (61516, 1)\n",
      "y_pred: (61516, 1)\ty_score: (61516, 1)\ty_true: (61516, 1)\n",
      "y_pred: (61516, 1)\ty_score: (61516, 1)\ty_true: (61516, 1)\n",
      "y_pred: (61516, 1)\ty_score: (61516, 1)\ty_true: (61516, 1)\n",
      "y_pred: (61516, 1)\ty_score: (61516, 1)\ty_true: (61516, 1)\n",
      "y_pred: (61516, 1)\ty_score: (61516, 1)\ty_true: (61516, 1)\n",
      "y_pred: (61516, 1)\ty_score: (61516, 1)\ty_true: (61516, 1)\n",
      "y_pred: (61516, 1)\ty_score: (61516, 1)\ty_true: (61516, 1)\n",
      "y_pred: (61516, 1)\ty_score: (61516, 1)\ty_true: (61516, 1)\n"
     ]
    },
    {
     "name": "stderr",
     "output_type": "stream",
     "text": [
      "\n",
      " 80%|████████  | 12/15 [02:34<00:40, 13.51s/it]\u001b[A"
     ]
    },
    {
     "name": "stdout",
     "output_type": "stream",
     "text": [
      "PPARG /p/vast1/jones289/hd_results/5/hdbind-rp-molformer.lit-pcba-PPARG-ave.5.pkl hdbind-rp-molformer\n",
      "y_pred: (1308, 1)\ty_score: (1308, 1)\ty_true: (1308, 1)\n",
      "y_pred: (1308, 1)\ty_score: (1308, 1)\ty_true: (1308, 1)\n",
      "y_pred: (1308, 1)\ty_score: (1308, 1)\ty_true: (1308, 1)\n",
      "y_pred: (1308, 1)\ty_score: (1308, 1)\ty_true: (1308, 1)\n",
      "y_pred: (1308, 1)\ty_score: (1308, 1)\ty_true: (1308, 1)\n",
      "y_pred: (1308, 1)\ty_score: (1308, 1)\ty_true: (1308, 1)\n",
      "y_pred: (1308, 1)\ty_score: (1308, 1)\ty_true: (1308, 1)\n",
      "y_pred: (1308, 1)\ty_score: (1308, 1)\ty_true: (1308, 1)\n",
      "y_pred: (1308, 1)\ty_score: (1308, 1)\ty_true: (1308, 1)\n",
      "y_pred: (1308, 1)\ty_score: (1308, 1)\ty_true: (1308, 1)\n",
      "y_pred: (1308, 1)\ty_score: (1308, 1)\ty_true: (1308, 1)\n",
      "y_pred: (1308, 1)\ty_score: (1308, 1)\ty_true: (1308, 1)\n",
      "y_pred: (1308, 1)\ty_score: (1308, 1)\ty_true: (1308, 1)\n"
     ]
    },
    {
     "name": "stderr",
     "output_type": "stream",
     "text": [
      "\n",
      " 87%|████████▋ | 13/15 [02:35<00:19,  9.51s/it]\u001b[A"
     ]
    },
    {
     "name": "stdout",
     "output_type": "stream",
     "text": [
      "y_pred: (1308, 1)\ty_score: (1308, 1)\ty_true: (1308, 1)\n",
      "y_pred: (1308, 1)\ty_score: (1308, 1)\ty_true: (1308, 1)\n",
      "y_pred: (1308, 1)\ty_score: (1308, 1)\ty_true: (1308, 1)\n",
      "y_pred: (1308, 1)\ty_score: (1308, 1)\ty_true: (1308, 1)\n",
      "y_pred: (1308, 1)\ty_score: (1308, 1)\ty_true: (1308, 1)\n",
      "y_pred: (1308, 1)\ty_score: (1308, 1)\ty_true: (1308, 1)\n",
      "y_pred: (1308, 1)\ty_score: (1308, 1)\ty_true: (1308, 1)\n",
      "TP53 /p/vast1/jones289/hd_results/5/hdbind-rp-molformer.lit-pcba-TP53-ave.5.pkl hdbind-rp-molformer\n",
      "y_pred: (1061, 1)\ty_score: (1061, 1)\ty_true: (1061, 1)\n",
      "y_pred: (1061, 1)\ty_score: (1061, 1)\ty_true: (1061, 1)\n",
      "y_pred: (1061, 1)\ty_score: (1061, 1)\ty_true: (1061, 1)\n",
      "y_pred: (1061, 1)\ty_score: (1061, 1)\ty_true: (1061, 1)\n",
      "y_pred: (1061, 1)\ty_score: (1061, 1)\ty_true: (1061, 1)\n",
      "y_pred: (1061, 1)\ty_score: (1061, 1)\ty_true: (1061, 1)\n",
      "y_pred: (1061, 1)\ty_score: (1061, 1)\ty_true: (1061, 1)\n",
      "y_pred: (1061, 1)\ty_score: (1061, 1)\ty_true: (1061, 1)\n"
     ]
    },
    {
     "name": "stderr",
     "output_type": "stream",
     "text": [
      "\n",
      " 93%|█████████▎| 14/15 [02:35<00:06,  6.72s/it]\u001b[A"
     ]
    },
    {
     "name": "stdout",
     "output_type": "stream",
     "text": [
      "y_pred: (1061, 1)\ty_score: (1061, 1)\ty_true: (1061, 1)\n",
      "y_pred: (1061, 1)\ty_score: (1061, 1)\ty_true: (1061, 1)\n",
      "y_pred: (1061, 1)\ty_score: (1061, 1)\ty_true: (1061, 1)\n",
      "y_pred: (1061, 1)\ty_score: (1061, 1)\ty_true: (1061, 1)\n",
      "y_pred: (1061, 1)\ty_score: (1061, 1)\ty_true: (1061, 1)\n",
      "y_pred: (1061, 1)\ty_score: (1061, 1)\ty_true: (1061, 1)\n",
      "y_pred: (1061, 1)\ty_score: (1061, 1)\ty_true: (1061, 1)\n",
      "y_pred: (1061, 1)\ty_score: (1061, 1)\ty_true: (1061, 1)\n",
      "y_pred: (1061, 1)\ty_score: (1061, 1)\ty_true: (1061, 1)\n",
      "y_pred: (1061, 1)\ty_score: (1061, 1)\ty_true: (1061, 1)\n",
      "y_pred: (1061, 1)\ty_score: (1061, 1)\ty_true: (1061, 1)\n",
      "y_pred: (1061, 1)\ty_score: (1061, 1)\ty_true: (1061, 1)\n",
      "VDR /p/vast1/jones289/hd_results/5/hdbind-rp-molformer.lit-pcba-VDR-ave.5.pkl hdbind-rp-molformer\n",
      "y_pred: (66800, 1)\ty_score: (66800, 1)\ty_true: (66800, 1)\n",
      "y_pred: (66800, 1)\ty_score: (66800, 1)\ty_true: (66800, 1)\n",
      "y_pred: (66800, 1)\ty_score: (66800, 1)\ty_true: (66800, 1)\n",
      "y_pred: (66800, 1)\ty_score: (66800, 1)\ty_true: (66800, 1)\n",
      "y_pred: (66800, 1)\ty_score: (66800, 1)\ty_true: (66800, 1)\n",
      "y_pred: (66800, 1)\ty_score: (66800, 1)\ty_true: (66800, 1)\n",
      "y_pred: (66800, 1)\ty_score: (66800, 1)\ty_true: (66800, 1)\n",
      "y_pred: (66800, 1)\ty_score: (66800, 1)\ty_true: (66800, 1)\n",
      "y_pred: (66800, 1)\ty_score: (66800, 1)\ty_true: (66800, 1)\n",
      "y_pred: (66800, 1)\ty_score: (66800, 1)\ty_true: (66800, 1)\n",
      "y_pred: (66800, 1)\ty_score: (66800, 1)\ty_true: (66800, 1)\n",
      "y_pred: (66800, 1)\ty_score: (66800, 1)\ty_true: (66800, 1)\n",
      "y_pred: (66800, 1)\ty_score: (66800, 1)\ty_true: (66800, 1)\n",
      "y_pred: (66800, 1)\ty_score: (66800, 1)\ty_true: (66800, 1)\n",
      "y_pred: (66800, 1)\ty_score: (66800, 1)\ty_true: (66800, 1)\n",
      "y_pred: (66800, 1)\ty_score: (66800, 1)\ty_true: (66800, 1)\n",
      "y_pred: (66800, 1)\ty_score: (66800, 1)\ty_true: (66800, 1)\n",
      "y_pred: (66800, 1)\ty_score: (66800, 1)\ty_true: (66800, 1)\n",
      "y_pred: (66800, 1)\ty_score: (66800, 1)\ty_true: (66800, 1)\n",
      "y_pred: (66800, 1)\ty_score: (66800, 1)\ty_true: (66800, 1)\n"
     ]
    },
    {
     "name": "stderr",
     "output_type": "stream",
     "text": [
      "\n",
      "100%|██████████| 15/15 [02:52<00:00, 11.53s/it]\u001b[A\n",
      " 67%|██████▋   | 6/9 [16:37<08:29, 169.90s/it]\n",
      "  0%|          | 0/15 [00:00<?, ?it/s]\u001b[A"
     ]
    },
    {
     "name": "stdout",
     "output_type": "stream",
     "text": [
      "ADRB2 /p/vast1/jones289/hd_results/5/hdbind-rp-molformer-100k.lit-pcba-ADRB2-ave.5.pkl hdbind-rp-molformer-100k\n",
      "y_pred: (78124, 1)\ty_score: (78124, 1)\ty_true: (78124, 1)\n",
      "y_pred: (78124, 1)\ty_score: (78124, 1)\ty_true: (78124, 1)\n",
      "y_pred: (78124, 1)\ty_score: (78124, 1)\ty_true: (78124, 1)\n",
      "y_pred: (78124, 1)\ty_score: (78124, 1)\ty_true: (78124, 1)\n",
      "y_pred: (78124, 1)\ty_score: (78124, 1)\ty_true: (78124, 1)\n",
      "y_pred: (78124, 1)\ty_score: (78124, 1)\ty_true: (78124, 1)\n",
      "y_pred: (78124, 1)\ty_score: (78124, 1)\ty_true: (78124, 1)\n",
      "y_pred: (78124, 1)\ty_score: (78124, 1)\ty_true: (78124, 1)\n",
      "y_pred: (78124, 1)\ty_score: (78124, 1)\ty_true: (78124, 1)\n",
      "y_pred: (78124, 1)\ty_score: (78124, 1)\ty_true: (78124, 1)\n",
      "y_pred: (78124, 1)\ty_score: (78124, 1)\ty_true: (78124, 1)\n",
      "y_pred: (78124, 1)\ty_score: (78124, 1)\ty_true: (78124, 1)\n",
      "y_pred: (78124, 1)\ty_score: (78124, 1)\ty_true: (78124, 1)\n",
      "y_pred: (78124, 1)\ty_score: (78124, 1)\ty_true: (78124, 1)\n",
      "y_pred: (78124, 1)\ty_score: (78124, 1)\ty_true: (78124, 1)\n",
      "y_pred: (78124, 1)\ty_score: (78124, 1)\ty_true: (78124, 1)\n",
      "y_pred: (78124, 1)\ty_score: (78124, 1)\ty_true: (78124, 1)\n",
      "y_pred: (78124, 1)\ty_score: (78124, 1)\ty_true: (78124, 1)\n",
      "y_pred: (78124, 1)\ty_score: (78124, 1)\ty_true: (78124, 1)\n",
      "y_pred: (78124, 1)\ty_score: (78124, 1)\ty_true: (78124, 1)\n"
     ]
    },
    {
     "name": "stderr",
     "output_type": "stream",
     "text": [
      "\n",
      "  7%|▋         | 1/15 [00:21<05:03, 21.65s/it]\u001b[A"
     ]
    },
    {
     "name": "stdout",
     "output_type": "stream",
     "text": [
      "ALDH1 /p/vast1/jones289/hd_results/5/hdbind-rp-molformer-100k.lit-pcba-ALDH1-ave.5.pkl hdbind-rp-molformer-100k\n",
      "y_pred: (27212, 1)\ty_score: (27212, 1)\ty_true: (27212, 1)\n",
      "y_pred: (27212, 1)\ty_score: (27212, 1)\ty_true: (27212, 1)\n",
      "y_pred: (27212, 1)\ty_score: (27212, 1)\ty_true: (27212, 1)\n",
      "y_pred: (27212, 1)\ty_score: (27212, 1)\ty_true: (27212, 1)\n",
      "y_pred: (27212, 1)\ty_score: (27212, 1)\ty_true: (27212, 1)\n",
      "y_pred: (27212, 1)\ty_score: (27212, 1)\ty_true: (27212, 1)\n",
      "y_pred: (27212, 1)\ty_score: (27212, 1)\ty_true: (27212, 1)\n",
      "y_pred: (27212, 1)\ty_score: (27212, 1)\ty_true: (27212, 1)\n",
      "y_pred: (27212, 1)\ty_score: (27212, 1)\ty_true: (27212, 1)\n",
      "y_pred: (27212, 1)\ty_score: (27212, 1)\ty_true: (27212, 1)\n",
      "y_pred: (27212, 1)\ty_score: (27212, 1)\ty_true: (27212, 1)\n",
      "y_pred: (27212, 1)\ty_score: (27212, 1)\ty_true: (27212, 1)\n",
      "y_pred: (27212, 1)\ty_score: (27212, 1)\ty_true: (27212, 1)\n",
      "y_pred: (27212, 1)\ty_score: (27212, 1)\ty_true: (27212, 1)\n",
      "y_pred: (27212, 1)\ty_score: (27212, 1)\ty_true: (27212, 1)\n",
      "y_pred: (27212, 1)\ty_score: (27212, 1)\ty_true: (27212, 1)\n",
      "y_pred: (27212, 1)\ty_score: (27212, 1)\ty_true: (27212, 1)\n",
      "y_pred: (27212, 1)\ty_score: (27212, 1)\ty_true: (27212, 1)\n",
      "y_pred: (27212, 1)\ty_score: (27212, 1)\ty_true: (27212, 1)\n",
      "y_pred: (27212, 1)\ty_score: (27212, 1)\ty_true: (27212, 1)\n"
     ]
    },
    {
     "name": "stderr",
     "output_type": "stream",
     "text": [
      "\n",
      " 13%|█▎        | 2/15 [00:28<02:47, 12.88s/it]\u001b[A"
     ]
    },
    {
     "name": "stdout",
     "output_type": "stream",
     "text": [
      "ESR1_ago /p/vast1/jones289/hd_results/5/hdbind-rp-molformer-100k.lit-pcba-ESR1_ago-ave.5.pkl hdbind-rp-molformer-100k\n",
      "y_pred: (1398, 1)\ty_score: (1398, 1)\ty_true: (1398, 1)\n",
      "y_pred: (1398, 1)\ty_score: (1398, 1)\ty_true: (1398, 1)\n",
      "y_pred: (1398, 1)\ty_score: (1398, 1)\ty_true: (1398, 1)\n",
      "y_pred: (1398, 1)\ty_score: (1398, 1)\ty_true: (1398, 1)\n",
      "y_pred: (1398, 1)\ty_score: (1398, 1)\ty_true: (1398, 1)\n",
      "y_pred: (1398, 1)\ty_score: (1398, 1)\ty_true: (1398, 1)\n",
      "y_pred: (1398, 1)\ty_score: (1398, 1)\ty_true: (1398, 1)\n"
     ]
    },
    {
     "name": "stderr",
     "output_type": "stream",
     "text": [
      "\n",
      " 20%|██        | 3/15 [00:28<01:26,  7.19s/it]\u001b[A"
     ]
    },
    {
     "name": "stdout",
     "output_type": "stream",
     "text": [
      "y_pred: (1398, 1)\ty_score: (1398, 1)\ty_true: (1398, 1)\n",
      "y_pred: (1398, 1)\ty_score: (1398, 1)\ty_true: (1398, 1)\n",
      "y_pred: (1398, 1)\ty_score: (1398, 1)\ty_true: (1398, 1)\n",
      "y_pred: (1398, 1)\ty_score: (1398, 1)\ty_true: (1398, 1)\n",
      "y_pred: (1398, 1)\ty_score: (1398, 1)\ty_true: (1398, 1)\n",
      "y_pred: (1398, 1)\ty_score: (1398, 1)\ty_true: (1398, 1)\n",
      "y_pred: (1398, 1)\ty_score: (1398, 1)\ty_true: (1398, 1)\n",
      "y_pred: (1398, 1)\ty_score: (1398, 1)\ty_true: (1398, 1)\n",
      "y_pred: (1398, 1)\ty_score: (1398, 1)\ty_true: (1398, 1)\n",
      "y_pred: (1398, 1)\ty_score: (1398, 1)\ty_true: (1398, 1)\n",
      "y_pred: (1398, 1)\ty_score: (1398, 1)\ty_true: (1398, 1)\n",
      "y_pred: (1398, 1)\ty_score: (1398, 1)\ty_true: (1398, 1)\n",
      "y_pred: (1398, 1)\ty_score: (1398, 1)\ty_true: (1398, 1)\n",
      "ESR1_ant /p/vast1/jones289/hd_results/5/hdbind-rp-molformer-100k.lit-pcba-ESR1_ant-ave.5.pkl hdbind-rp-molformer-100k\n",
      "y_pred: (1262, 1)\ty_score: (1262, 1)\ty_true: (1262, 1)\n",
      "y_pred: (1262, 1)\ty_score: (1262, 1)\ty_true: (1262, 1)\n",
      "y_pred: (1262, 1)\ty_score: (1262, 1)\ty_true: (1262, 1)\n",
      "y_pred: (1262, 1)\ty_score: (1262, 1)\ty_true: (1262, 1)\n",
      "y_pred: (1262, 1)\ty_score: (1262, 1)\ty_true: (1262, 1)\n",
      "y_pred: (1262, 1)\ty_score: (1262, 1)\ty_true: (1262, 1)\n",
      "y_pred: (1262, 1)\ty_score: (1262, 1)\ty_true: (1262, 1)\n",
      "y_pred: (1262, 1)\ty_score: (1262, 1)\ty_true: (1262, 1)\n",
      "y_pred: (1262, 1)\ty_score: (1262, 1)\ty_true: (1262, 1)\n",
      "y_pred: (1262, 1)\ty_score: (1262, 1)\ty_true: (1262, 1)\n",
      "y_pred: (1262, 1)\ty_score: (1262, 1)\ty_true: (1262, 1)\n",
      "y_pred: (1262, 1)\ty_score: (1262, 1)\ty_true: (1262, 1)\n",
      "y_pred: (1262, 1)\ty_score: (1262, 1)\ty_true: (1262, 1)\n",
      "y_pred: (1262, 1)\ty_score: (1262, 1)\ty_true: (1262, 1)\n"
     ]
    },
    {
     "name": "stderr",
     "output_type": "stream",
     "text": [
      "\n",
      " 27%|██▋       | 4/15 [00:29<00:49,  4.50s/it]\u001b[A"
     ]
    },
    {
     "name": "stdout",
     "output_type": "stream",
     "text": [
      "y_pred: (1262, 1)\ty_score: (1262, 1)\ty_true: (1262, 1)\n",
      "y_pred: (1262, 1)\ty_score: (1262, 1)\ty_true: (1262, 1)\n",
      "y_pred: (1262, 1)\ty_score: (1262, 1)\ty_true: (1262, 1)\n",
      "y_pred: (1262, 1)\ty_score: (1262, 1)\ty_true: (1262, 1)\n",
      "y_pred: (1262, 1)\ty_score: (1262, 1)\ty_true: (1262, 1)\n",
      "y_pred: (1262, 1)\ty_score: (1262, 1)\ty_true: (1262, 1)\n",
      "FEN1 /p/vast1/jones289/hd_results/5/hdbind-rp-molformer-100k.lit-pcba-FEN1-ave.5.pkl hdbind-rp-molformer-100k\n",
      "y_pred: (88942, 1)\ty_score: (88942, 1)\ty_true: (88942, 1)\n",
      "y_pred: (88942, 1)\ty_score: (88942, 1)\ty_true: (88942, 1)\n",
      "y_pred: (88942, 1)\ty_score: (88942, 1)\ty_true: (88942, 1)\n",
      "y_pred: (88942, 1)\ty_score: (88942, 1)\ty_true: (88942, 1)\n",
      "y_pred: (88942, 1)\ty_score: (88942, 1)\ty_true: (88942, 1)\n",
      "y_pred: (88942, 1)\ty_score: (88942, 1)\ty_true: (88942, 1)\n",
      "y_pred: (88942, 1)\ty_score: (88942, 1)\ty_true: (88942, 1)\n",
      "y_pred: (88942, 1)\ty_score: (88942, 1)\ty_true: (88942, 1)\n",
      "y_pred: (88942, 1)\ty_score: (88942, 1)\ty_true: (88942, 1)\n",
      "y_pred: (88942, 1)\ty_score: (88942, 1)\ty_true: (88942, 1)\n",
      "y_pred: (88942, 1)\ty_score: (88942, 1)\ty_true: (88942, 1)\n",
      "y_pred: (88942, 1)\ty_score: (88942, 1)\ty_true: (88942, 1)\n",
      "y_pred: (88942, 1)\ty_score: (88942, 1)\ty_true: (88942, 1)\n",
      "y_pred: (88942, 1)\ty_score: (88942, 1)\ty_true: (88942, 1)\n",
      "y_pred: (88942, 1)\ty_score: (88942, 1)\ty_true: (88942, 1)\n",
      "y_pred: (88942, 1)\ty_score: (88942, 1)\ty_true: (88942, 1)\n",
      "y_pred: (88942, 1)\ty_score: (88942, 1)\ty_true: (88942, 1)\n",
      "y_pred: (88942, 1)\ty_score: (88942, 1)\ty_true: (88942, 1)\n",
      "y_pred: (88942, 1)\ty_score: (88942, 1)\ty_true: (88942, 1)\n",
      "y_pred: (88942, 1)\ty_score: (88942, 1)\ty_true: (88942, 1)\n"
     ]
    },
    {
     "name": "stderr",
     "output_type": "stream",
     "text": [
      "\n",
      " 33%|███▎      | 5/15 [00:51<01:51, 11.10s/it]\u001b[A"
     ]
    },
    {
     "name": "stdout",
     "output_type": "stream",
     "text": [
      "GBA /p/vast1/jones289/hd_results/5/hdbind-rp-molformer-100k.lit-pcba-GBA-ave.5.pkl hdbind-rp-molformer-100k\n",
      "y_pred: (74054, 1)\ty_score: (74054, 1)\ty_true: (74054, 1)\n",
      "y_pred: (74054, 1)\ty_score: (74054, 1)\ty_true: (74054, 1)\n",
      "y_pred: (74054, 1)\ty_score: (74054, 1)\ty_true: (74054, 1)\n",
      "y_pred: (74054, 1)\ty_score: (74054, 1)\ty_true: (74054, 1)\n",
      "y_pred: (74054, 1)\ty_score: (74054, 1)\ty_true: (74054, 1)\n",
      "y_pred: (74054, 1)\ty_score: (74054, 1)\ty_true: (74054, 1)\n",
      "y_pred: (74054, 1)\ty_score: (74054, 1)\ty_true: (74054, 1)\n",
      "y_pred: (74054, 1)\ty_score: (74054, 1)\ty_true: (74054, 1)\n",
      "y_pred: (74054, 1)\ty_score: (74054, 1)\ty_true: (74054, 1)\n",
      "y_pred: (74054, 1)\ty_score: (74054, 1)\ty_true: (74054, 1)\n",
      "y_pred: (74054, 1)\ty_score: (74054, 1)\ty_true: (74054, 1)\n",
      "y_pred: (74054, 1)\ty_score: (74054, 1)\ty_true: (74054, 1)\n",
      "y_pred: (74054, 1)\ty_score: (74054, 1)\ty_true: (74054, 1)\n",
      "y_pred: (74054, 1)\ty_score: (74054, 1)\ty_true: (74054, 1)\n",
      "y_pred: (74054, 1)\ty_score: (74054, 1)\ty_true: (74054, 1)\n",
      "y_pred: (74054, 1)\ty_score: (74054, 1)\ty_true: (74054, 1)\n",
      "y_pred: (74054, 1)\ty_score: (74054, 1)\ty_true: (74054, 1)\n",
      "y_pred: (74054, 1)\ty_score: (74054, 1)\ty_true: (74054, 1)\n",
      "y_pred: (74054, 1)\ty_score: (74054, 1)\ty_true: (74054, 1)\n",
      "y_pred: (74054, 1)\ty_score: (74054, 1)\ty_true: (74054, 1)\n"
     ]
    },
    {
     "name": "stderr",
     "output_type": "stream",
     "text": [
      "\n",
      " 40%|████      | 6/15 [01:10<02:01, 13.54s/it]\u001b[A"
     ]
    },
    {
     "name": "stdout",
     "output_type": "stream",
     "text": [
      "IDH1 /p/vast1/jones289/hd_results/5/hdbind-rp-molformer-100k.lit-pcba-IDH1-ave.5.pkl hdbind-rp-molformer-100k\n",
      "y_pred: (90521, 1)\ty_score: (90521, 1)\ty_true: (90521, 1)\n",
      "y_pred: (90521, 1)\ty_score: (90521, 1)\ty_true: (90521, 1)\n",
      "y_pred: (90521, 1)\ty_score: (90521, 1)\ty_true: (90521, 1)\n",
      "y_pred: (90521, 1)\ty_score: (90521, 1)\ty_true: (90521, 1)\n",
      "y_pred: (90521, 1)\ty_score: (90521, 1)\ty_true: (90521, 1)\n",
      "y_pred: (90521, 1)\ty_score: (90521, 1)\ty_true: (90521, 1)\n",
      "y_pred: (90521, 1)\ty_score: (90521, 1)\ty_true: (90521, 1)\n",
      "y_pred: (90521, 1)\ty_score: (90521, 1)\ty_true: (90521, 1)\n",
      "y_pred: (90521, 1)\ty_score: (90521, 1)\ty_true: (90521, 1)\n",
      "y_pred: (90521, 1)\ty_score: (90521, 1)\ty_true: (90521, 1)\n",
      "y_pred: (90521, 1)\ty_score: (90521, 1)\ty_true: (90521, 1)\n",
      "y_pred: (90521, 1)\ty_score: (90521, 1)\ty_true: (90521, 1)\n",
      "y_pred: (90521, 1)\ty_score: (90521, 1)\ty_true: (90521, 1)\n",
      "y_pred: (90521, 1)\ty_score: (90521, 1)\ty_true: (90521, 1)\n",
      "y_pred: (90521, 1)\ty_score: (90521, 1)\ty_true: (90521, 1)\n",
      "y_pred: (90521, 1)\ty_score: (90521, 1)\ty_true: (90521, 1)\n",
      "y_pred: (90521, 1)\ty_score: (90521, 1)\ty_true: (90521, 1)\n",
      "y_pred: (90521, 1)\ty_score: (90521, 1)\ty_true: (90521, 1)\n",
      "y_pred: (90521, 1)\ty_score: (90521, 1)\ty_true: (90521, 1)\n",
      "y_pred: (90521, 1)\ty_score: (90521, 1)\ty_true: (90521, 1)\n"
     ]
    },
    {
     "name": "stderr",
     "output_type": "stream",
     "text": [
      "\n",
      " 47%|████▋     | 7/15 [01:32<02:10, 16.30s/it]\u001b[A"
     ]
    },
    {
     "name": "stdout",
     "output_type": "stream",
     "text": [
      "KAT2A /p/vast1/jones289/hd_results/5/hdbind-rp-molformer-100k.lit-pcba-KAT2A-ave.5.pkl hdbind-rp-molformer-100k\n",
      "y_pred: (87185, 1)\ty_score: (87185, 1)\ty_true: (87185, 1)\n",
      "y_pred: (87185, 1)\ty_score: (87185, 1)\ty_true: (87185, 1)\n",
      "y_pred: (87185, 1)\ty_score: (87185, 1)\ty_true: (87185, 1)\n",
      "y_pred: (87185, 1)\ty_score: (87185, 1)\ty_true: (87185, 1)\n",
      "y_pred: (87185, 1)\ty_score: (87185, 1)\ty_true: (87185, 1)\n",
      "y_pred: (87185, 1)\ty_score: (87185, 1)\ty_true: (87185, 1)\n",
      "y_pred: (87185, 1)\ty_score: (87185, 1)\ty_true: (87185, 1)\n",
      "y_pred: (87185, 1)\ty_score: (87185, 1)\ty_true: (87185, 1)\n",
      "y_pred: (87185, 1)\ty_score: (87185, 1)\ty_true: (87185, 1)\n",
      "y_pred: (87185, 1)\ty_score: (87185, 1)\ty_true: (87185, 1)\n",
      "y_pred: (87185, 1)\ty_score: (87185, 1)\ty_true: (87185, 1)\n",
      "y_pred: (87185, 1)\ty_score: (87185, 1)\ty_true: (87185, 1)\n",
      "y_pred: (87185, 1)\ty_score: (87185, 1)\ty_true: (87185, 1)\n",
      "y_pred: (87185, 1)\ty_score: (87185, 1)\ty_true: (87185, 1)\n",
      "y_pred: (87185, 1)\ty_score: (87185, 1)\ty_true: (87185, 1)\n",
      "y_pred: (87185, 1)\ty_score: (87185, 1)\ty_true: (87185, 1)\n",
      "y_pred: (87185, 1)\ty_score: (87185, 1)\ty_true: (87185, 1)\n",
      "y_pred: (87185, 1)\ty_score: (87185, 1)\ty_true: (87185, 1)\n",
      "y_pred: (87185, 1)\ty_score: (87185, 1)\ty_true: (87185, 1)\n",
      "y_pred: (87185, 1)\ty_score: (87185, 1)\ty_true: (87185, 1)\n"
     ]
    },
    {
     "name": "stderr",
     "output_type": "stream",
     "text": [
      "\n",
      " 53%|█████▎    | 8/15 [01:54<02:07, 18.15s/it]\u001b[A"
     ]
    },
    {
     "name": "stdout",
     "output_type": "stream",
     "text": [
      "MAPK1 /p/vast1/jones289/hd_results/5/hdbind-rp-molformer-100k.lit-pcba-MAPK1-ave.5.pkl hdbind-rp-molformer-100k\n",
      "y_pred: (15734, 1)\ty_score: (15734, 1)\ty_true: (15734, 1)\n",
      "y_pred: (15734, 1)\ty_score: (15734, 1)\ty_true: (15734, 1)\n",
      "y_pred: (15734, 1)\ty_score: (15734, 1)\ty_true: (15734, 1)\n",
      "y_pred: (15734, 1)\ty_score: (15734, 1)\ty_true: (15734, 1)\n",
      "y_pred: (15734, 1)\ty_score: (15734, 1)\ty_true: (15734, 1)\n",
      "y_pred: (15734, 1)\ty_score: (15734, 1)\ty_true: (15734, 1)\n",
      "y_pred: (15734, 1)\ty_score: (15734, 1)\ty_true: (15734, 1)\n",
      "y_pred: (15734, 1)\ty_score: (15734, 1)\ty_true: (15734, 1)\n",
      "y_pred: (15734, 1)\ty_score: (15734, 1)\ty_true: (15734, 1)\n",
      "y_pred: (15734, 1)\ty_score: (15734, 1)\ty_true: (15734, 1)\n",
      "y_pred: (15734, 1)\ty_score: (15734, 1)\ty_true: (15734, 1)\n",
      "y_pred: (15734, 1)\ty_score: (15734, 1)\ty_true: (15734, 1)\n",
      "y_pred: (15734, 1)\ty_score: (15734, 1)\ty_true: (15734, 1)\n",
      "y_pred: (15734, 1)\ty_score: (15734, 1)\ty_true: (15734, 1)\n",
      "y_pred: (15734, 1)\ty_score: (15734, 1)\ty_true: (15734, 1)\n",
      "y_pred: (15734, 1)\ty_score: (15734, 1)\ty_true: (15734, 1)\n",
      "y_pred: (15734, 1)\ty_score: (15734, 1)\ty_true: (15734, 1)\n",
      "y_pred: (15734, 1)\ty_score: (15734, 1)\ty_true: (15734, 1)\n",
      "y_pred: (15734, 1)\ty_score: (15734, 1)\ty_true: (15734, 1)\n"
     ]
    },
    {
     "name": "stderr",
     "output_type": "stream",
     "text": [
      "\n",
      " 60%|██████    | 9/15 [01:57<01:21, 13.59s/it]\u001b[A"
     ]
    },
    {
     "name": "stdout",
     "output_type": "stream",
     "text": [
      "y_pred: (15734, 1)\ty_score: (15734, 1)\ty_true: (15734, 1)\n",
      "MTORC1 /p/vast1/jones289/hd_results/5/hdbind-rp-molformer-100k.lit-pcba-MTORC1-ave.5.pkl hdbind-rp-molformer-100k\n",
      "y_pred: (8267, 1)\ty_score: (8267, 1)\ty_true: (8267, 1)\n",
      "y_pred: (8267, 1)\ty_score: (8267, 1)\ty_true: (8267, 1)\n",
      "y_pred: (8267, 1)\ty_score: (8267, 1)\ty_true: (8267, 1)\n",
      "y_pred: (8267, 1)\ty_score: (8267, 1)\ty_true: (8267, 1)\n",
      "y_pred: (8267, 1)\ty_score: (8267, 1)\ty_true: (8267, 1)\n",
      "y_pred: (8267, 1)\ty_score: (8267, 1)\ty_true: (8267, 1)\n",
      "y_pred: (8267, 1)\ty_score: (8267, 1)\ty_true: (8267, 1)\n",
      "y_pred: (8267, 1)\ty_score: (8267, 1)\ty_true: (8267, 1)\n",
      "y_pred: (8267, 1)\ty_score: (8267, 1)\ty_true: (8267, 1)\n",
      "y_pred: (8267, 1)\ty_score: (8267, 1)\ty_true: (8267, 1)\n",
      "y_pred: (8267, 1)\ty_score: (8267, 1)\ty_true: (8267, 1)\n",
      "y_pred: (8267, 1)\ty_score: (8267, 1)\ty_true: (8267, 1)\n",
      "y_pred: (8267, 1)\ty_score: (8267, 1)\ty_true: (8267, 1)\n",
      "y_pred: (8267, 1)\ty_score: (8267, 1)\ty_true: (8267, 1)\n",
      "y_pred: (8267, 1)\ty_score: (8267, 1)\ty_true: (8267, 1)\n",
      "y_pred: (8267, 1)\ty_score: (8267, 1)\ty_true: (8267, 1)\n",
      "y_pred: (8267, 1)\ty_score: (8267, 1)\ty_true: (8267, 1)\n",
      "y_pred: (8267, 1)\ty_score: (8267, 1)\ty_true: (8267, 1)\n"
     ]
    },
    {
     "name": "stderr",
     "output_type": "stream",
     "text": [
      "\n",
      " 67%|██████▋   | 10/15 [01:59<00:49,  9.98s/it]\u001b[A"
     ]
    },
    {
     "name": "stdout",
     "output_type": "stream",
     "text": [
      "y_pred: (8267, 1)\ty_score: (8267, 1)\ty_true: (8267, 1)\n",
      "y_pred: (8267, 1)\ty_score: (8267, 1)\ty_true: (8267, 1)\n",
      "OPRK1 /p/vast1/jones289/hd_results/5/hdbind-rp-molformer-100k.lit-pcba-OPRK1-ave.5.pkl hdbind-rp-molformer-100k\n",
      "y_pred: (67460, 1)\ty_score: (67460, 1)\ty_true: (67460, 1)\n",
      "y_pred: (67460, 1)\ty_score: (67460, 1)\ty_true: (67460, 1)\n",
      "y_pred: (67460, 1)\ty_score: (67460, 1)\ty_true: (67460, 1)\n",
      "y_pred: (67460, 1)\ty_score: (67460, 1)\ty_true: (67460, 1)\n",
      "y_pred: (67460, 1)\ty_score: (67460, 1)\ty_true: (67460, 1)\n",
      "y_pred: (67460, 1)\ty_score: (67460, 1)\ty_true: (67460, 1)\n",
      "y_pred: (67460, 1)\ty_score: (67460, 1)\ty_true: (67460, 1)\n",
      "y_pred: (67460, 1)\ty_score: (67460, 1)\ty_true: (67460, 1)\n",
      "y_pred: (67460, 1)\ty_score: (67460, 1)\ty_true: (67460, 1)\n",
      "y_pred: (67460, 1)\ty_score: (67460, 1)\ty_true: (67460, 1)\n",
      "y_pred: (67460, 1)\ty_score: (67460, 1)\ty_true: (67460, 1)\n",
      "y_pred: (67460, 1)\ty_score: (67460, 1)\ty_true: (67460, 1)\n",
      "y_pred: (67460, 1)\ty_score: (67460, 1)\ty_true: (67460, 1)\n",
      "y_pred: (67460, 1)\ty_score: (67460, 1)\ty_true: (67460, 1)\n",
      "y_pred: (67460, 1)\ty_score: (67460, 1)\ty_true: (67460, 1)\n",
      "y_pred: (67460, 1)\ty_score: (67460, 1)\ty_true: (67460, 1)\n",
      "y_pred: (67460, 1)\ty_score: (67460, 1)\ty_true: (67460, 1)\n",
      "y_pred: (67460, 1)\ty_score: (67460, 1)\ty_true: (67460, 1)\n",
      "y_pred: (67460, 1)\ty_score: (67460, 1)\ty_true: (67460, 1)\n",
      "y_pred: (67460, 1)\ty_score: (67460, 1)\ty_true: (67460, 1)\n"
     ]
    },
    {
     "name": "stderr",
     "output_type": "stream",
     "text": [
      "\n",
      " 73%|███████▎  | 11/15 [02:16<00:48, 12.17s/it]\u001b[A"
     ]
    },
    {
     "name": "stdout",
     "output_type": "stream",
     "text": [
      "PKM2 /p/vast1/jones289/hd_results/5/hdbind-rp-molformer-100k.lit-pcba-PKM2-ave.5.pkl hdbind-rp-molformer-100k\n",
      "y_pred: (61516, 1)\ty_score: (61516, 1)\ty_true: (61516, 1)\n",
      "y_pred: (61516, 1)\ty_score: (61516, 1)\ty_true: (61516, 1)\n",
      "y_pred: (61516, 1)\ty_score: (61516, 1)\ty_true: (61516, 1)\n",
      "y_pred: (61516, 1)\ty_score: (61516, 1)\ty_true: (61516, 1)\n",
      "y_pred: (61516, 1)\ty_score: (61516, 1)\ty_true: (61516, 1)\n",
      "y_pred: (61516, 1)\ty_score: (61516, 1)\ty_true: (61516, 1)\n",
      "y_pred: (61516, 1)\ty_score: (61516, 1)\ty_true: (61516, 1)\n",
      "y_pred: (61516, 1)\ty_score: (61516, 1)\ty_true: (61516, 1)\n",
      "y_pred: (61516, 1)\ty_score: (61516, 1)\ty_true: (61516, 1)\n",
      "y_pred: (61516, 1)\ty_score: (61516, 1)\ty_true: (61516, 1)\n",
      "y_pred: (61516, 1)\ty_score: (61516, 1)\ty_true: (61516, 1)\n",
      "y_pred: (61516, 1)\ty_score: (61516, 1)\ty_true: (61516, 1)\n",
      "y_pred: (61516, 1)\ty_score: (61516, 1)\ty_true: (61516, 1)\n",
      "y_pred: (61516, 1)\ty_score: (61516, 1)\ty_true: (61516, 1)\n",
      "y_pred: (61516, 1)\ty_score: (61516, 1)\ty_true: (61516, 1)\n",
      "y_pred: (61516, 1)\ty_score: (61516, 1)\ty_true: (61516, 1)\n",
      "y_pred: (61516, 1)\ty_score: (61516, 1)\ty_true: (61516, 1)\n",
      "y_pred: (61516, 1)\ty_score: (61516, 1)\ty_true: (61516, 1)\n",
      "y_pred: (61516, 1)\ty_score: (61516, 1)\ty_true: (61516, 1)\n",
      "y_pred: (61516, 1)\ty_score: (61516, 1)\ty_true: (61516, 1)\n"
     ]
    },
    {
     "name": "stderr",
     "output_type": "stream",
     "text": [
      "\n",
      " 80%|████████  | 12/15 [02:32<00:39, 13.11s/it]\u001b[A"
     ]
    },
    {
     "name": "stdout",
     "output_type": "stream",
     "text": [
      "PPARG /p/vast1/jones289/hd_results/5/hdbind-rp-molformer-100k.lit-pcba-PPARG-ave.5.pkl hdbind-rp-molformer-100k\n",
      "y_pred: (1308, 1)\ty_score: (1308, 1)\ty_true: (1308, 1)\n",
      "y_pred: (1308, 1)\ty_score: (1308, 1)\ty_true: (1308, 1)\n",
      "y_pred: (1308, 1)\ty_score: (1308, 1)\ty_true: (1308, 1)\n",
      "y_pred: (1308, 1)\ty_score: (1308, 1)\ty_true: (1308, 1)\n",
      "y_pred: (1308, 1)\ty_score: (1308, 1)\ty_true: (1308, 1)\n",
      "y_pred: (1308, 1)\ty_score: (1308, 1)\ty_true: (1308, 1)\n",
      "y_pred: (1308, 1)\ty_score: (1308, 1)\ty_true: (1308, 1)\n",
      "y_pred: (1308, 1)\ty_score: (1308, 1)\ty_true: (1308, 1)\n",
      "y_pred: (1308, 1)\ty_score: (1308, 1)\ty_true: (1308, 1)\n",
      "y_pred: (1308, 1)\ty_score: (1308, 1)\ty_true: (1308, 1)\n",
      "y_pred: (1308, 1)\ty_score: (1308, 1)\ty_true: (1308, 1)\n",
      "y_pred: (1308, 1)\ty_score: (1308, 1)\ty_true: (1308, 1)\n",
      "y_pred: (1308, 1)\ty_score: (1308, 1)\ty_true: (1308, 1)\n",
      "y_pred: (1308, 1)\ty_score: (1308, 1)\ty_true: (1308, 1)\n",
      "y_pred: (1308, 1)\ty_score: (1308, 1)\ty_true: (1308, 1)\n",
      "y_pred: (1308, 1)\ty_score: (1308, 1)\ty_true: (1308, 1)\n",
      "y_pred: (1308, 1)\ty_score: (1308, 1)\ty_true: (1308, 1)\n",
      "y_pred: (1308, 1)\ty_score: (1308, 1)\ty_true: (1308, 1)\n"
     ]
    },
    {
     "name": "stderr",
     "output_type": "stream",
     "text": [
      "\n",
      " 87%|████████▋ | 13/15 [02:32<00:18,  9.27s/it]\u001b[A"
     ]
    },
    {
     "name": "stdout",
     "output_type": "stream",
     "text": [
      "y_pred: (1308, 1)\ty_score: (1308, 1)\ty_true: (1308, 1)\n",
      "y_pred: (1308, 1)\ty_score: (1308, 1)\ty_true: (1308, 1)\n",
      "TP53 /p/vast1/jones289/hd_results/5/hdbind-rp-molformer-100k.lit-pcba-TP53-ave.5.pkl hdbind-rp-molformer-100k\n",
      "y_pred: (1061, 1)\ty_score: (1061, 1)\ty_true: (1061, 1)\n",
      "y_pred: (1061, 1)\ty_score: (1061, 1)\ty_true: (1061, 1)\n",
      "y_pred: (1061, 1)\ty_score: (1061, 1)\ty_true: (1061, 1)\n",
      "y_pred: (1061, 1)\ty_score: (1061, 1)\ty_true: (1061, 1)\n",
      "y_pred: (1061, 1)\ty_score: (1061, 1)\ty_true: (1061, 1)\n"
     ]
    },
    {
     "name": "stderr",
     "output_type": "stream",
     "text": [
      "\n",
      " 93%|█████████▎| 14/15 [02:33<00:06,  6.58s/it]\u001b[A"
     ]
    },
    {
     "name": "stdout",
     "output_type": "stream",
     "text": [
      "y_pred: (1061, 1)\ty_score: (1061, 1)\ty_true: (1061, 1)\n",
      "y_pred: (1061, 1)\ty_score: (1061, 1)\ty_true: (1061, 1)\n",
      "y_pred: (1061, 1)\ty_score: (1061, 1)\ty_true: (1061, 1)\n",
      "y_pred: (1061, 1)\ty_score: (1061, 1)\ty_true: (1061, 1)\n",
      "y_pred: (1061, 1)\ty_score: (1061, 1)\ty_true: (1061, 1)\n",
      "y_pred: (1061, 1)\ty_score: (1061, 1)\ty_true: (1061, 1)\n",
      "y_pred: (1061, 1)\ty_score: (1061, 1)\ty_true: (1061, 1)\n",
      "y_pred: (1061, 1)\ty_score: (1061, 1)\ty_true: (1061, 1)\n",
      "y_pred: (1061, 1)\ty_score: (1061, 1)\ty_true: (1061, 1)\n",
      "y_pred: (1061, 1)\ty_score: (1061, 1)\ty_true: (1061, 1)\n",
      "y_pred: (1061, 1)\ty_score: (1061, 1)\ty_true: (1061, 1)\n",
      "y_pred: (1061, 1)\ty_score: (1061, 1)\ty_true: (1061, 1)\n",
      "y_pred: (1061, 1)\ty_score: (1061, 1)\ty_true: (1061, 1)\n",
      "y_pred: (1061, 1)\ty_score: (1061, 1)\ty_true: (1061, 1)\n",
      "y_pred: (1061, 1)\ty_score: (1061, 1)\ty_true: (1061, 1)\n",
      "VDR /p/vast1/jones289/hd_results/5/hdbind-rp-molformer-100k.lit-pcba-VDR-ave.5.pkl hdbind-rp-molformer-100k\n",
      "y_pred: (66800, 1)\ty_score: (66800, 1)\ty_true: (66800, 1)\n",
      "y_pred: (66800, 1)\ty_score: (66800, 1)\ty_true: (66800, 1)\n",
      "y_pred: (66800, 1)\ty_score: (66800, 1)\ty_true: (66800, 1)\n",
      "y_pred: (66800, 1)\ty_score: (66800, 1)\ty_true: (66800, 1)\n",
      "y_pred: (66800, 1)\ty_score: (66800, 1)\ty_true: (66800, 1)\n",
      "y_pred: (66800, 1)\ty_score: (66800, 1)\ty_true: (66800, 1)\n",
      "y_pred: (66800, 1)\ty_score: (66800, 1)\ty_true: (66800, 1)\n",
      "y_pred: (66800, 1)\ty_score: (66800, 1)\ty_true: (66800, 1)\n",
      "y_pred: (66800, 1)\ty_score: (66800, 1)\ty_true: (66800, 1)\n",
      "y_pred: (66800, 1)\ty_score: (66800, 1)\ty_true: (66800, 1)\n",
      "y_pred: (66800, 1)\ty_score: (66800, 1)\ty_true: (66800, 1)\n",
      "y_pred: (66800, 1)\ty_score: (66800, 1)\ty_true: (66800, 1)\n",
      "y_pred: (66800, 1)\ty_score: (66800, 1)\ty_true: (66800, 1)\n",
      "y_pred: (66800, 1)\ty_score: (66800, 1)\ty_true: (66800, 1)\n",
      "y_pred: (66800, 1)\ty_score: (66800, 1)\ty_true: (66800, 1)\n",
      "y_pred: (66800, 1)\ty_score: (66800, 1)\ty_true: (66800, 1)\n",
      "y_pred: (66800, 1)\ty_score: (66800, 1)\ty_true: (66800, 1)\n",
      "y_pred: (66800, 1)\ty_score: (66800, 1)\ty_true: (66800, 1)\n",
      "y_pred: (66800, 1)\ty_score: (66800, 1)\ty_true: (66800, 1)\n",
      "y_pred: (66800, 1)\ty_score: (66800, 1)\ty_true: (66800, 1)\n"
     ]
    },
    {
     "name": "stderr",
     "output_type": "stream",
     "text": [
      "\n",
      "100%|██████████| 15/15 [02:49<00:00, 11.28s/it]\u001b[A\n",
      " 78%|███████▊  | 7/9 [19:26<05:39, 169.68s/it]\n",
      "  0%|          | 0/15 [00:00<?, ?it/s]\u001b[A"
     ]
    },
    {
     "name": "stdout",
     "output_type": "stream",
     "text": [
      "ADRB2 /p/vast1/jones289/hd_results/5/mlp-1024-1.lit-pcba-ADRB2-ave.5.pkl mlp-1024-1\n",
      "y_pred: torch.Size([78124])\ty_score: torch.Size([78124, 2])\ty_true: torch.Size([78124])\n",
      "y_pred: torch.Size([78124])\ty_score: torch.Size([78124, 2])\ty_true: torch.Size([78124])\n",
      "y_pred: torch.Size([78124])\ty_score: torch.Size([78124, 2])\ty_true: torch.Size([78124])\n",
      "y_pred: torch.Size([78124])\ty_score: torch.Size([78124, 2])\ty_true: torch.Size([78124])\n",
      "y_pred: torch.Size([78124])\ty_score: torch.Size([78124, 2])\ty_true: torch.Size([78124])\n",
      "y_pred: torch.Size([78124])\ty_score: torch.Size([78124, 2])\ty_true: torch.Size([78124])\n",
      "y_pred: torch.Size([78124])\ty_score: torch.Size([78124, 2])\ty_true: torch.Size([78124])\n",
      "y_pred: torch.Size([78124])\ty_score: torch.Size([78124, 2])\ty_true: torch.Size([78124])\n",
      "y_pred: torch.Size([78124])\ty_score: torch.Size([78124, 2])\ty_true: torch.Size([78124])\n",
      "y_pred: torch.Size([78124])\ty_score: torch.Size([78124, 2])\ty_true: torch.Size([78124])\n",
      "y_pred: torch.Size([78124])\ty_score: torch.Size([78124, 2])\ty_true: torch.Size([78124])\n",
      "y_pred: torch.Size([78124])\ty_score: torch.Size([78124, 2])\ty_true: torch.Size([78124])\n",
      "y_pred: torch.Size([78124])\ty_score: torch.Size([78124, 2])\ty_true: torch.Size([78124])\n",
      "y_pred: torch.Size([78124])\ty_score: torch.Size([78124, 2])\ty_true: torch.Size([78124])\n",
      "y_pred: torch.Size([78124])\ty_score: torch.Size([78124, 2])\ty_true: torch.Size([78124])\n",
      "y_pred: torch.Size([78124])\ty_score: torch.Size([78124, 2])\ty_true: torch.Size([78124])\n",
      "y_pred: torch.Size([78124])\ty_score: torch.Size([78124, 2])\ty_true: torch.Size([78124])\n",
      "y_pred: torch.Size([78124])\ty_score: torch.Size([78124, 2])\ty_true: torch.Size([78124])\n",
      "y_pred: torch.Size([78124])\ty_score: torch.Size([78124, 2])\ty_true: torch.Size([78124])\n",
      "y_pred: torch.Size([78124])\ty_score: torch.Size([78124, 2])\ty_true: torch.Size([78124])\n"
     ]
    },
    {
     "name": "stderr",
     "output_type": "stream",
     "text": [
      "\n",
      "  7%|▋         | 1/15 [01:25<20:03, 85.98s/it]\u001b[A"
     ]
    },
    {
     "name": "stdout",
     "output_type": "stream",
     "text": [
      "ALDH1 /p/vast1/jones289/hd_results/5/mlp-1024-1.lit-pcba-ALDH1-ave.5.pkl mlp-1024-1\n",
      "y_pred: torch.Size([27212])\ty_score: torch.Size([27212, 2])\ty_true: torch.Size([27212])\n",
      "y_pred: torch.Size([27212])\ty_score: torch.Size([27212, 2])\ty_true: torch.Size([27212])\n",
      "y_pred: torch.Size([27212])\ty_score: torch.Size([27212, 2])\ty_true: torch.Size([27212])\n",
      "y_pred: torch.Size([27212])\ty_score: torch.Size([27212, 2])\ty_true: torch.Size([27212])\n",
      "y_pred: torch.Size([27212])\ty_score: torch.Size([27212, 2])\ty_true: torch.Size([27212])\n",
      "y_pred: torch.Size([27212])\ty_score: torch.Size([27212, 2])\ty_true: torch.Size([27212])\n",
      "y_pred: torch.Size([27212])\ty_score: torch.Size([27212, 2])\ty_true: torch.Size([27212])\n",
      "y_pred: torch.Size([27212])\ty_score: torch.Size([27212, 2])\ty_true: torch.Size([27212])\n",
      "y_pred: torch.Size([27212])\ty_score: torch.Size([27212, 2])\ty_true: torch.Size([27212])\n",
      "y_pred: torch.Size([27212])\ty_score: torch.Size([27212, 2])\ty_true: torch.Size([27212])\n",
      "y_pred: torch.Size([27212])\ty_score: torch.Size([27212, 2])\ty_true: torch.Size([27212])\n",
      "y_pred: torch.Size([27212])\ty_score: torch.Size([27212, 2])\ty_true: torch.Size([27212])\n",
      "y_pred: torch.Size([27212])\ty_score: torch.Size([27212, 2])\ty_true: torch.Size([27212])\n",
      "y_pred: torch.Size([27212])\ty_score: torch.Size([27212, 2])\ty_true: torch.Size([27212])\n",
      "y_pred: torch.Size([27212])\ty_score: torch.Size([27212, 2])\ty_true: torch.Size([27212])\n",
      "y_pred: torch.Size([27212])\ty_score: torch.Size([27212, 2])\ty_true: torch.Size([27212])\n",
      "y_pred: torch.Size([27212])\ty_score: torch.Size([27212, 2])\ty_true: torch.Size([27212])\n",
      "y_pred: torch.Size([27212])\ty_score: torch.Size([27212, 2])\ty_true: torch.Size([27212])\n",
      "y_pred: torch.Size([27212])\ty_score: torch.Size([27212, 2])\ty_true: torch.Size([27212])\n",
      "y_pred: torch.Size([27212])\ty_score: torch.Size([27212, 2])\ty_true: torch.Size([27212])\n"
     ]
    },
    {
     "name": "stderr",
     "output_type": "stream",
     "text": [
      "\n",
      " 13%|█▎        | 2/15 [01:51<10:55, 50.41s/it]\u001b[A"
     ]
    },
    {
     "name": "stdout",
     "output_type": "stream",
     "text": [
      "ESR1_ago /p/vast1/jones289/hd_results/5/mlp-1024-1.lit-pcba-ESR1_ago-ave.5.pkl mlp-1024-1\n",
      "y_pred: torch.Size([1398])\ty_score: torch.Size([1398, 2])\ty_true: torch.Size([1398])\n",
      "y_pred: torch.Size([1398])\ty_score: torch.Size([1398, 2])\ty_true: torch.Size([1398])\n",
      "y_pred: torch.Size([1398])\ty_score: torch.Size([1398, 2])\ty_true: torch.Size([1398])\n",
      "y_pred: torch.Size([1398])\ty_score: torch.Size([1398, 2])\ty_true: torch.Size([1398])\n",
      "y_pred: torch.Size([1398])\ty_score: torch.Size([1398, 2])\ty_true: torch.Size([1398])\n",
      "y_pred: torch.Size([1398])\ty_score: torch.Size([1398, 2])\ty_true: torch.Size([1398])\n",
      "y_pred: torch.Size([1398])\ty_score: torch.Size([1398, 2])\ty_true: torch.Size([1398])\n",
      "y_pred: torch.Size([1398])\ty_score: torch.Size([1398, 2])\ty_true: torch.Size([1398])\n",
      "y_pred: torch.Size([1398])\ty_score: torch.Size([1398, 2])\ty_true: torch.Size([1398])\n",
      "y_pred: torch.Size([1398])\ty_score: torch.Size([1398, 2])\ty_true: torch.Size([1398])\n",
      "y_pred: torch.Size([1398])\ty_score: torch.Size([1398, 2])\ty_true: torch.Size([1398])\n",
      "y_pred: torch.Size([1398])\ty_score: torch.Size([1398, 2])\ty_true: torch.Size([1398])\n",
      "y_pred: torch.Size([1398])\ty_score: torch.Size([1398, 2])\ty_true: torch.Size([1398])\n",
      "y_pred: torch.Size([1398])\ty_score: torch.Size([1398, 2])\ty_true: torch.Size([1398])\n",
      "y_pred: torch.Size([1398])\ty_score: torch.Size([1398, 2])\ty_true: torch.Size([1398])\n",
      "y_pred: torch.Size([1398])\ty_score: torch.Size([1398, 2])\ty_true: torch.Size([1398])\n"
     ]
    },
    {
     "name": "stderr",
     "output_type": "stream",
     "text": [
      "\n",
      " 20%|██        | 3/15 [01:52<05:33, 27.80s/it]\u001b[A"
     ]
    },
    {
     "name": "stdout",
     "output_type": "stream",
     "text": [
      "y_pred: torch.Size([1398])\ty_score: torch.Size([1398, 2])\ty_true: torch.Size([1398])\n",
      "y_pred: torch.Size([1398])\ty_score: torch.Size([1398, 2])\ty_true: torch.Size([1398])\n",
      "y_pred: torch.Size([1398])\ty_score: torch.Size([1398, 2])\ty_true: torch.Size([1398])\n",
      "y_pred: torch.Size([1398])\ty_score: torch.Size([1398, 2])\ty_true: torch.Size([1398])\n",
      "ESR1_ant /p/vast1/jones289/hd_results/5/mlp-1024-1.lit-pcba-ESR1_ant-ave.5.pkl mlp-1024-1\n",
      "y_pred: torch.Size([1262])\ty_score: torch.Size([1262, 2])\ty_true: torch.Size([1262])\n",
      "y_pred: torch.Size([1262])\ty_score: torch.Size([1262, 2])\ty_true: torch.Size([1262])\n",
      "y_pred: torch.Size([1262])\ty_score: torch.Size([1262, 2])\ty_true: torch.Size([1262])\n",
      "y_pred: torch.Size([1262])\ty_score: torch.Size([1262, 2])\ty_true: torch.Size([1262])\n",
      "y_pred: torch.Size([1262])\ty_score: torch.Size([1262, 2])\ty_true: torch.Size([1262])\n",
      "y_pred: torch.Size([1262])\ty_score: torch.Size([1262, 2])\ty_true: torch.Size([1262])\n",
      "y_pred: torch.Size([1262])\ty_score: torch.Size([1262, 2])\ty_true: torch.Size([1262])\n",
      "y_pred: torch.Size([1262])\ty_score: torch.Size([1262, 2])\ty_true: torch.Size([1262])\n",
      "y_pred: torch.Size([1262])\ty_score: torch.Size([1262, 2])\ty_true: torch.Size([1262])\n",
      "y_pred: torch.Size([1262])\ty_score: torch.Size([1262, 2])\ty_true: torch.Size([1262])\n",
      "y_pred: torch.Size([1262])\ty_score: torch.Size([1262, 2])\ty_true: torch.Size([1262])\n",
      "y_pred: torch.Size([1262])\ty_score: torch.Size([1262, 2])\ty_true: torch.Size([1262])\n",
      "y_pred: torch.Size([1262])\ty_score: torch.Size([1262, 2])\ty_true: torch.Size([1262])\n",
      "y_pred: torch.Size([1262])\ty_score: torch.Size([1262, 2])\ty_true: torch.Size([1262])\n",
      "y_pred: torch.Size([1262])\ty_score: torch.Size([1262, 2])\ty_true: torch.Size([1262])\n",
      "y_pred: torch.Size([1262])\ty_score: torch.Size([1262, 2])\ty_true: torch.Size([1262])\n",
      "y_pred: torch.Size([1262])\ty_score: torch.Size([1262, 2])\ty_true: torch.Size([1262])\n",
      "y_pred: torch.Size([1262])\ty_score: torch.Size([1262, 2])\ty_true: torch.Size([1262])\n",
      "y_pred: torch.Size([1262])\ty_score: torch.Size([1262, 2])\ty_true: torch.Size([1262])\n"
     ]
    },
    {
     "name": "stderr",
     "output_type": "stream",
     "text": [
      "\n",
      " 27%|██▋       | 4/15 [01:53<03:08, 17.13s/it]\u001b[A"
     ]
    },
    {
     "name": "stdout",
     "output_type": "stream",
     "text": [
      "y_pred: torch.Size([1262])\ty_score: torch.Size([1262, 2])\ty_true: torch.Size([1262])\n",
      "FEN1 /p/vast1/jones289/hd_results/5/mlp-1024-1.lit-pcba-FEN1-ave.5.pkl mlp-1024-1\n",
      "y_pred: torch.Size([88942])\ty_score: torch.Size([88942, 2])\ty_true: torch.Size([88942])\n",
      "y_pred: torch.Size([88942])\ty_score: torch.Size([88942, 2])\ty_true: torch.Size([88942])\n",
      "y_pred: torch.Size([88942])\ty_score: torch.Size([88942, 2])\ty_true: torch.Size([88942])\n",
      "y_pred: torch.Size([88942])\ty_score: torch.Size([88942, 2])\ty_true: torch.Size([88942])\n",
      "y_pred: torch.Size([88942])\ty_score: torch.Size([88942, 2])\ty_true: torch.Size([88942])\n",
      "y_pred: torch.Size([88942])\ty_score: torch.Size([88942, 2])\ty_true: torch.Size([88942])\n",
      "y_pred: torch.Size([88942])\ty_score: torch.Size([88942, 2])\ty_true: torch.Size([88942])\n",
      "y_pred: torch.Size([88942])\ty_score: torch.Size([88942, 2])\ty_true: torch.Size([88942])\n",
      "y_pred: torch.Size([88942])\ty_score: torch.Size([88942, 2])\ty_true: torch.Size([88942])\n",
      "y_pred: torch.Size([88942])\ty_score: torch.Size([88942, 2])\ty_true: torch.Size([88942])\n",
      "y_pred: torch.Size([88942])\ty_score: torch.Size([88942, 2])\ty_true: torch.Size([88942])\n",
      "y_pred: torch.Size([88942])\ty_score: torch.Size([88942, 2])\ty_true: torch.Size([88942])\n",
      "y_pred: torch.Size([88942])\ty_score: torch.Size([88942, 2])\ty_true: torch.Size([88942])\n",
      "y_pred: torch.Size([88942])\ty_score: torch.Size([88942, 2])\ty_true: torch.Size([88942])\n",
      "y_pred: torch.Size([88942])\ty_score: torch.Size([88942, 2])\ty_true: torch.Size([88942])\n",
      "y_pred: torch.Size([88942])\ty_score: torch.Size([88942, 2])\ty_true: torch.Size([88942])\n",
      "y_pred: torch.Size([88942])\ty_score: torch.Size([88942, 2])\ty_true: torch.Size([88942])\n",
      "y_pred: torch.Size([88942])\ty_score: torch.Size([88942, 2])\ty_true: torch.Size([88942])\n",
      "y_pred: torch.Size([88942])\ty_score: torch.Size([88942, 2])\ty_true: torch.Size([88942])\n",
      "y_pred: torch.Size([88942])\ty_score: torch.Size([88942, 2])\ty_true: torch.Size([88942])\n"
     ]
    },
    {
     "name": "stderr",
     "output_type": "stream",
     "text": [
      "\n",
      " 33%|███▎      | 5/15 [03:32<07:48, 46.87s/it]\u001b[A"
     ]
    },
    {
     "name": "stdout",
     "output_type": "stream",
     "text": [
      "GBA /p/vast1/jones289/hd_results/5/mlp-1024-1.lit-pcba-GBA-ave.5.pkl mlp-1024-1\n",
      "y_pred: torch.Size([74054])\ty_score: torch.Size([74054, 2])\ty_true: torch.Size([74054])\n",
      "y_pred: torch.Size([74054])\ty_score: torch.Size([74054, 2])\ty_true: torch.Size([74054])\n",
      "y_pred: torch.Size([74054])\ty_score: torch.Size([74054, 2])\ty_true: torch.Size([74054])\n",
      "y_pred: torch.Size([74054])\ty_score: torch.Size([74054, 2])\ty_true: torch.Size([74054])\n",
      "y_pred: torch.Size([74054])\ty_score: torch.Size([74054, 2])\ty_true: torch.Size([74054])\n",
      "y_pred: torch.Size([74054])\ty_score: torch.Size([74054, 2])\ty_true: torch.Size([74054])\n",
      "y_pred: torch.Size([74054])\ty_score: torch.Size([74054, 2])\ty_true: torch.Size([74054])\n",
      "y_pred: torch.Size([74054])\ty_score: torch.Size([74054, 2])\ty_true: torch.Size([74054])\n",
      "y_pred: torch.Size([74054])\ty_score: torch.Size([74054, 2])\ty_true: torch.Size([74054])\n",
      "y_pred: torch.Size([74054])\ty_score: torch.Size([74054, 2])\ty_true: torch.Size([74054])\n",
      "y_pred: torch.Size([74054])\ty_score: torch.Size([74054, 2])\ty_true: torch.Size([74054])\n",
      "y_pred: torch.Size([74054])\ty_score: torch.Size([74054, 2])\ty_true: torch.Size([74054])\n",
      "y_pred: torch.Size([74054])\ty_score: torch.Size([74054, 2])\ty_true: torch.Size([74054])\n",
      "y_pred: torch.Size([74054])\ty_score: torch.Size([74054, 2])\ty_true: torch.Size([74054])\n",
      "y_pred: torch.Size([74054])\ty_score: torch.Size([74054, 2])\ty_true: torch.Size([74054])\n",
      "y_pred: torch.Size([74054])\ty_score: torch.Size([74054, 2])\ty_true: torch.Size([74054])\n",
      "y_pred: torch.Size([74054])\ty_score: torch.Size([74054, 2])\ty_true: torch.Size([74054])\n",
      "y_pred: torch.Size([74054])\ty_score: torch.Size([74054, 2])\ty_true: torch.Size([74054])\n",
      "y_pred: torch.Size([74054])\ty_score: torch.Size([74054, 2])\ty_true: torch.Size([74054])\n",
      "y_pred: torch.Size([74054])\ty_score: torch.Size([74054, 2])\ty_true: torch.Size([74054])\n"
     ]
    },
    {
     "name": "stderr",
     "output_type": "stream",
     "text": [
      "\n",
      " 40%|████      | 6/15 [04:54<08:48, 58.68s/it]\u001b[A"
     ]
    },
    {
     "name": "stdout",
     "output_type": "stream",
     "text": [
      "IDH1 /p/vast1/jones289/hd_results/5/mlp-1024-1.lit-pcba-IDH1-ave.5.pkl mlp-1024-1\n",
      "y_pred: torch.Size([90521])\ty_score: torch.Size([90521, 2])\ty_true: torch.Size([90521])\n",
      "y_pred: torch.Size([90521])\ty_score: torch.Size([90521, 2])\ty_true: torch.Size([90521])\n",
      "y_pred: torch.Size([90521])\ty_score: torch.Size([90521, 2])\ty_true: torch.Size([90521])\n",
      "y_pred: torch.Size([90521])\ty_score: torch.Size([90521, 2])\ty_true: torch.Size([90521])\n",
      "y_pred: torch.Size([90521])\ty_score: torch.Size([90521, 2])\ty_true: torch.Size([90521])\n",
      "y_pred: torch.Size([90521])\ty_score: torch.Size([90521, 2])\ty_true: torch.Size([90521])\n",
      "y_pred: torch.Size([90521])\ty_score: torch.Size([90521, 2])\ty_true: torch.Size([90521])\n",
      "y_pred: torch.Size([90521])\ty_score: torch.Size([90521, 2])\ty_true: torch.Size([90521])\n",
      "y_pred: torch.Size([90521])\ty_score: torch.Size([90521, 2])\ty_true: torch.Size([90521])\n",
      "y_pred: torch.Size([90521])\ty_score: torch.Size([90521, 2])\ty_true: torch.Size([90521])\n",
      "y_pred: torch.Size([90521])\ty_score: torch.Size([90521, 2])\ty_true: torch.Size([90521])\n",
      "y_pred: torch.Size([90521])\ty_score: torch.Size([90521, 2])\ty_true: torch.Size([90521])\n",
      "y_pred: torch.Size([90521])\ty_score: torch.Size([90521, 2])\ty_true: torch.Size([90521])\n",
      "y_pred: torch.Size([90521])\ty_score: torch.Size([90521, 2])\ty_true: torch.Size([90521])\n",
      "y_pred: torch.Size([90521])\ty_score: torch.Size([90521, 2])\ty_true: torch.Size([90521])\n",
      "y_pred: torch.Size([90521])\ty_score: torch.Size([90521, 2])\ty_true: torch.Size([90521])\n",
      "y_pred: torch.Size([90521])\ty_score: torch.Size([90521, 2])\ty_true: torch.Size([90521])\n",
      "y_pred: torch.Size([90521])\ty_score: torch.Size([90521, 2])\ty_true: torch.Size([90521])\n",
      "y_pred: torch.Size([90521])\ty_score: torch.Size([90521, 2])\ty_true: torch.Size([90521])\n",
      "y_pred: torch.Size([90521])\ty_score: torch.Size([90521, 2])\ty_true: torch.Size([90521])\n"
     ]
    },
    {
     "name": "stderr",
     "output_type": "stream",
     "text": [
      "\n",
      " 47%|████▋     | 7/15 [06:37<09:44, 73.07s/it]\u001b[A"
     ]
    },
    {
     "name": "stdout",
     "output_type": "stream",
     "text": [
      "KAT2A /p/vast1/jones289/hd_results/5/mlp-1024-1.lit-pcba-KAT2A-ave.5.pkl mlp-1024-1\n",
      "y_pred: torch.Size([87185])\ty_score: torch.Size([87185, 2])\ty_true: torch.Size([87185])\n",
      "y_pred: torch.Size([87185])\ty_score: torch.Size([87185, 2])\ty_true: torch.Size([87185])\n",
      "y_pred: torch.Size([87185])\ty_score: torch.Size([87185, 2])\ty_true: torch.Size([87185])\n",
      "y_pred: torch.Size([87185])\ty_score: torch.Size([87185, 2])\ty_true: torch.Size([87185])\n",
      "y_pred: torch.Size([87185])\ty_score: torch.Size([87185, 2])\ty_true: torch.Size([87185])\n",
      "y_pred: torch.Size([87185])\ty_score: torch.Size([87185, 2])\ty_true: torch.Size([87185])\n",
      "y_pred: torch.Size([87185])\ty_score: torch.Size([87185, 2])\ty_true: torch.Size([87185])\n",
      "y_pred: torch.Size([87185])\ty_score: torch.Size([87185, 2])\ty_true: torch.Size([87185])\n",
      "y_pred: torch.Size([87185])\ty_score: torch.Size([87185, 2])\ty_true: torch.Size([87185])\n",
      "y_pred: torch.Size([87185])\ty_score: torch.Size([87185, 2])\ty_true: torch.Size([87185])\n",
      "y_pred: torch.Size([87185])\ty_score: torch.Size([87185, 2])\ty_true: torch.Size([87185])\n",
      "y_pred: torch.Size([87185])\ty_score: torch.Size([87185, 2])\ty_true: torch.Size([87185])\n",
      "y_pred: torch.Size([87185])\ty_score: torch.Size([87185, 2])\ty_true: torch.Size([87185])\n",
      "y_pred: torch.Size([87185])\ty_score: torch.Size([87185, 2])\ty_true: torch.Size([87185])\n",
      "y_pred: torch.Size([87185])\ty_score: torch.Size([87185, 2])\ty_true: torch.Size([87185])\n",
      "y_pred: torch.Size([87185])\ty_score: torch.Size([87185, 2])\ty_true: torch.Size([87185])\n",
      "y_pred: torch.Size([87185])\ty_score: torch.Size([87185, 2])\ty_true: torch.Size([87185])\n",
      "y_pred: torch.Size([87185])\ty_score: torch.Size([87185, 2])\ty_true: torch.Size([87185])\n",
      "y_pred: torch.Size([87185])\ty_score: torch.Size([87185, 2])\ty_true: torch.Size([87185])\n",
      "y_pred: torch.Size([87185])\ty_score: torch.Size([87185, 2])\ty_true: torch.Size([87185])\n"
     ]
    },
    {
     "name": "stderr",
     "output_type": "stream",
     "text": [
      "\n",
      " 53%|█████▎    | 8/15 [08:16<09:30, 81.44s/it]\u001b[A"
     ]
    },
    {
     "name": "stdout",
     "output_type": "stream",
     "text": [
      "MAPK1 /p/vast1/jones289/hd_results/5/mlp-1024-1.lit-pcba-MAPK1-ave.5.pkl mlp-1024-1\n",
      "y_pred: torch.Size([15734])\ty_score: torch.Size([15734, 2])\ty_true: torch.Size([15734])\n",
      "y_pred: torch.Size([15734])\ty_score: torch.Size([15734, 2])\ty_true: torch.Size([15734])\n",
      "y_pred: torch.Size([15734])\ty_score: torch.Size([15734, 2])\ty_true: torch.Size([15734])\n",
      "y_pred: torch.Size([15734])\ty_score: torch.Size([15734, 2])\ty_true: torch.Size([15734])\n",
      "y_pred: torch.Size([15734])\ty_score: torch.Size([15734, 2])\ty_true: torch.Size([15734])\n",
      "y_pred: torch.Size([15734])\ty_score: torch.Size([15734, 2])\ty_true: torch.Size([15734])\n",
      "y_pred: torch.Size([15734])\ty_score: torch.Size([15734, 2])\ty_true: torch.Size([15734])\n",
      "y_pred: torch.Size([15734])\ty_score: torch.Size([15734, 2])\ty_true: torch.Size([15734])\n",
      "y_pred: torch.Size([15734])\ty_score: torch.Size([15734, 2])\ty_true: torch.Size([15734])\n",
      "y_pred: torch.Size([15734])\ty_score: torch.Size([15734, 2])\ty_true: torch.Size([15734])\n",
      "y_pred: torch.Size([15734])\ty_score: torch.Size([15734, 2])\ty_true: torch.Size([15734])\n",
      "y_pred: torch.Size([15734])\ty_score: torch.Size([15734, 2])\ty_true: torch.Size([15734])\n",
      "y_pred: torch.Size([15734])\ty_score: torch.Size([15734, 2])\ty_true: torch.Size([15734])\n",
      "y_pred: torch.Size([15734])\ty_score: torch.Size([15734, 2])\ty_true: torch.Size([15734])\n",
      "y_pred: torch.Size([15734])\ty_score: torch.Size([15734, 2])\ty_true: torch.Size([15734])\n",
      "y_pred: torch.Size([15734])\ty_score: torch.Size([15734, 2])\ty_true: torch.Size([15734])\n",
      "y_pred: torch.Size([15734])\ty_score: torch.Size([15734, 2])\ty_true: torch.Size([15734])\n",
      "y_pred: torch.Size([15734])\ty_score: torch.Size([15734, 2])\ty_true: torch.Size([15734])\n",
      "y_pred: torch.Size([15734])\ty_score: torch.Size([15734, 2])\ty_true: torch.Size([15734])\n",
      "y_pred: torch.Size([15734])\ty_score: torch.Size([15734, 2])\ty_true: torch.Size([15734])\n"
     ]
    },
    {
     "name": "stderr",
     "output_type": "stream",
     "text": [
      "\n",
      " 60%|██████    | 9/15 [08:30<06:01, 60.30s/it]\u001b[A"
     ]
    },
    {
     "name": "stdout",
     "output_type": "stream",
     "text": [
      "MTORC1 /p/vast1/jones289/hd_results/5/mlp-1024-1.lit-pcba-MTORC1-ave.5.pkl mlp-1024-1\n",
      "y_pred: torch.Size([8267])\ty_score: torch.Size([8267, 2])\ty_true: torch.Size([8267])\n",
      "y_pred: torch.Size([8267])\ty_score: torch.Size([8267, 2])\ty_true: torch.Size([8267])\n",
      "y_pred: torch.Size([8267])\ty_score: torch.Size([8267, 2])\ty_true: torch.Size([8267])\n",
      "y_pred: torch.Size([8267])\ty_score: torch.Size([8267, 2])\ty_true: torch.Size([8267])\n",
      "y_pred: torch.Size([8267])\ty_score: torch.Size([8267, 2])\ty_true: torch.Size([8267])\n",
      "y_pred: torch.Size([8267])\ty_score: torch.Size([8267, 2])\ty_true: torch.Size([8267])\n",
      "y_pred: torch.Size([8267])\ty_score: torch.Size([8267, 2])\ty_true: torch.Size([8267])\n",
      "y_pred: torch.Size([8267])\ty_score: torch.Size([8267, 2])\ty_true: torch.Size([8267])\n",
      "y_pred: torch.Size([8267])\ty_score: torch.Size([8267, 2])\ty_true: torch.Size([8267])\n",
      "y_pred: torch.Size([8267])\ty_score: torch.Size([8267, 2])\ty_true: torch.Size([8267])\n",
      "y_pred: torch.Size([8267])\ty_score: torch.Size([8267, 2])\ty_true: torch.Size([8267])\n",
      "y_pred: torch.Size([8267])\ty_score: torch.Size([8267, 2])\ty_true: torch.Size([8267])\n",
      "y_pred: torch.Size([8267])\ty_score: torch.Size([8267, 2])\ty_true: torch.Size([8267])\n",
      "y_pred: torch.Size([8267])\ty_score: torch.Size([8267, 2])\ty_true: torch.Size([8267])\n",
      "y_pred: torch.Size([8267])\ty_score: torch.Size([8267, 2])\ty_true: torch.Size([8267])\n",
      "y_pred: torch.Size([8267])\ty_score: torch.Size([8267, 2])\ty_true: torch.Size([8267])\n",
      "y_pred: torch.Size([8267])\ty_score: torch.Size([8267, 2])\ty_true: torch.Size([8267])\n",
      "y_pred: torch.Size([8267])\ty_score: torch.Size([8267, 2])\ty_true: torch.Size([8267])\n",
      "y_pred: torch.Size([8267])\ty_score: torch.Size([8267, 2])\ty_true: torch.Size([8267])\n",
      "y_pred: torch.Size([8267])\ty_score: torch.Size([8267, 2])\ty_true: torch.Size([8267])\n"
     ]
    },
    {
     "name": "stderr",
     "output_type": "stream",
     "text": [
      "\n",
      " 67%|██████▋   | 10/15 [08:36<03:38, 43.63s/it]\u001b[A"
     ]
    },
    {
     "name": "stdout",
     "output_type": "stream",
     "text": [
      "OPRK1 /p/vast1/jones289/hd_results/5/mlp-1024-1.lit-pcba-OPRK1-ave.5.pkl mlp-1024-1\n",
      "y_pred: torch.Size([67460])\ty_score: torch.Size([67460, 2])\ty_true: torch.Size([67460])\n",
      "y_pred: torch.Size([67460])\ty_score: torch.Size([67460, 2])\ty_true: torch.Size([67460])\n",
      "y_pred: torch.Size([67460])\ty_score: torch.Size([67460, 2])\ty_true: torch.Size([67460])\n",
      "y_pred: torch.Size([67460])\ty_score: torch.Size([67460, 2])\ty_true: torch.Size([67460])\n",
      "y_pred: torch.Size([67460])\ty_score: torch.Size([67460, 2])\ty_true: torch.Size([67460])\n",
      "y_pred: torch.Size([67460])\ty_score: torch.Size([67460, 2])\ty_true: torch.Size([67460])\n",
      "y_pred: torch.Size([67460])\ty_score: torch.Size([67460, 2])\ty_true: torch.Size([67460])\n",
      "y_pred: torch.Size([67460])\ty_score: torch.Size([67460, 2])\ty_true: torch.Size([67460])\n",
      "y_pred: torch.Size([67460])\ty_score: torch.Size([67460, 2])\ty_true: torch.Size([67460])\n",
      "y_pred: torch.Size([67460])\ty_score: torch.Size([67460, 2])\ty_true: torch.Size([67460])\n",
      "y_pred: torch.Size([67460])\ty_score: torch.Size([67460, 2])\ty_true: torch.Size([67460])\n",
      "y_pred: torch.Size([67460])\ty_score: torch.Size([67460, 2])\ty_true: torch.Size([67460])\n",
      "y_pred: torch.Size([67460])\ty_score: torch.Size([67460, 2])\ty_true: torch.Size([67460])\n",
      "y_pred: torch.Size([67460])\ty_score: torch.Size([67460, 2])\ty_true: torch.Size([67460])\n",
      "y_pred: torch.Size([67460])\ty_score: torch.Size([67460, 2])\ty_true: torch.Size([67460])\n",
      "y_pred: torch.Size([67460])\ty_score: torch.Size([67460, 2])\ty_true: torch.Size([67460])\n",
      "y_pred: torch.Size([67460])\ty_score: torch.Size([67460, 2])\ty_true: torch.Size([67460])\n",
      "y_pred: torch.Size([67460])\ty_score: torch.Size([67460, 2])\ty_true: torch.Size([67460])\n",
      "y_pred: torch.Size([67460])\ty_score: torch.Size([67460, 2])\ty_true: torch.Size([67460])\n",
      "y_pred: torch.Size([67460])\ty_score: torch.Size([67460, 2])\ty_true: torch.Size([67460])\n"
     ]
    },
    {
     "name": "stderr",
     "output_type": "stream",
     "text": [
      "\n",
      " 73%|███████▎  | 11/15 [09:54<03:35, 53.98s/it]\u001b[A"
     ]
    },
    {
     "name": "stdout",
     "output_type": "stream",
     "text": [
      "PKM2 /p/vast1/jones289/hd_results/5/mlp-1024-1.lit-pcba-PKM2-ave.5.pkl mlp-1024-1\n",
      "y_pred: torch.Size([61516])\ty_score: torch.Size([61516, 2])\ty_true: torch.Size([61516])\n",
      "y_pred: torch.Size([61516])\ty_score: torch.Size([61516, 2])\ty_true: torch.Size([61516])\n",
      "y_pred: torch.Size([61516])\ty_score: torch.Size([61516, 2])\ty_true: torch.Size([61516])\n",
      "y_pred: torch.Size([61516])\ty_score: torch.Size([61516, 2])\ty_true: torch.Size([61516])\n",
      "y_pred: torch.Size([61516])\ty_score: torch.Size([61516, 2])\ty_true: torch.Size([61516])\n",
      "y_pred: torch.Size([61516])\ty_score: torch.Size([61516, 2])\ty_true: torch.Size([61516])\n",
      "y_pred: torch.Size([61516])\ty_score: torch.Size([61516, 2])\ty_true: torch.Size([61516])\n",
      "y_pred: torch.Size([61516])\ty_score: torch.Size([61516, 2])\ty_true: torch.Size([61516])\n",
      "y_pred: torch.Size([61516])\ty_score: torch.Size([61516, 2])\ty_true: torch.Size([61516])\n",
      "y_pred: torch.Size([61516])\ty_score: torch.Size([61516, 2])\ty_true: torch.Size([61516])\n",
      "y_pred: torch.Size([61516])\ty_score: torch.Size([61516, 2])\ty_true: torch.Size([61516])\n",
      "y_pred: torch.Size([61516])\ty_score: torch.Size([61516, 2])\ty_true: torch.Size([61516])\n",
      "y_pred: torch.Size([61516])\ty_score: torch.Size([61516, 2])\ty_true: torch.Size([61516])\n",
      "y_pred: torch.Size([61516])\ty_score: torch.Size([61516, 2])\ty_true: torch.Size([61516])\n",
      "y_pred: torch.Size([61516])\ty_score: torch.Size([61516, 2])\ty_true: torch.Size([61516])\n",
      "y_pred: torch.Size([61516])\ty_score: torch.Size([61516, 2])\ty_true: torch.Size([61516])\n",
      "y_pred: torch.Size([61516])\ty_score: torch.Size([61516, 2])\ty_true: torch.Size([61516])\n",
      "y_pred: torch.Size([61516])\ty_score: torch.Size([61516, 2])\ty_true: torch.Size([61516])\n",
      "y_pred: torch.Size([61516])\ty_score: torch.Size([61516, 2])\ty_true: torch.Size([61516])\n",
      "y_pred: torch.Size([61516])\ty_score: torch.Size([61516, 2])\ty_true: torch.Size([61516])\n"
     ]
    },
    {
     "name": "stderr",
     "output_type": "stream",
     "text": [
      "\n",
      " 80%|████████  | 12/15 [11:01<02:54, 58.13s/it]\u001b[A"
     ]
    },
    {
     "name": "stdout",
     "output_type": "stream",
     "text": [
      "PPARG /p/vast1/jones289/hd_results/5/mlp-1024-1.lit-pcba-PPARG-ave.5.pkl mlp-1024-1\n",
      "y_pred: torch.Size([1308])\ty_score: torch.Size([1308, 2])\ty_true: torch.Size([1308])\n",
      "y_pred: torch.Size([1308])\ty_score: torch.Size([1308, 2])\ty_true: torch.Size([1308])\n",
      "y_pred: torch.Size([1308])\ty_score: torch.Size([1308, 2])\ty_true: torch.Size([1308])\n",
      "y_pred: torch.Size([1308])\ty_score: torch.Size([1308, 2])\ty_true: torch.Size([1308])\n",
      "y_pred: torch.Size([1308])\ty_score: torch.Size([1308, 2])\ty_true: torch.Size([1308])\n",
      "y_pred: torch.Size([1308])\ty_score: torch.Size([1308, 2])\ty_true: torch.Size([1308])\n",
      "y_pred: torch.Size([1308])\ty_score: torch.Size([1308, 2])\ty_true: torch.Size([1308])\n",
      "y_pred: torch.Size([1308])\ty_score: torch.Size([1308, 2])\ty_true: torch.Size([1308])\n",
      "y_pred: torch.Size([1308])\ty_score: torch.Size([1308, 2])\ty_true: torch.Size([1308])\n",
      "y_pred: torch.Size([1308])\ty_score: torch.Size([1308, 2])\ty_true: torch.Size([1308])\n",
      "y_pred: torch.Size([1308])\ty_score: torch.Size([1308, 2])\ty_true: torch.Size([1308])\n",
      "y_pred: torch.Size([1308])\ty_score: torch.Size([1308, 2])\ty_true: torch.Size([1308])\n",
      "y_pred: torch.Size([1308])\ty_score: torch.Size([1308, 2])\ty_true: torch.Size([1308])\n"
     ]
    },
    {
     "name": "stderr",
     "output_type": "stream",
     "text": [
      "\n",
      " 87%|████████▋ | 13/15 [11:01<01:21, 40.61s/it]\u001b[A"
     ]
    },
    {
     "name": "stdout",
     "output_type": "stream",
     "text": [
      "y_pred: torch.Size([1308])\ty_score: torch.Size([1308, 2])\ty_true: torch.Size([1308])\n",
      "y_pred: torch.Size([1308])\ty_score: torch.Size([1308, 2])\ty_true: torch.Size([1308])\n",
      "y_pred: torch.Size([1308])\ty_score: torch.Size([1308, 2])\ty_true: torch.Size([1308])\n",
      "y_pred: torch.Size([1308])\ty_score: torch.Size([1308, 2])\ty_true: torch.Size([1308])\n",
      "y_pred: torch.Size([1308])\ty_score: torch.Size([1308, 2])\ty_true: torch.Size([1308])\n",
      "y_pred: torch.Size([1308])\ty_score: torch.Size([1308, 2])\ty_true: torch.Size([1308])\n",
      "y_pred: torch.Size([1308])\ty_score: torch.Size([1308, 2])\ty_true: torch.Size([1308])\n",
      "TP53 /p/vast1/jones289/hd_results/5/mlp-1024-1.lit-pcba-TP53-ave.5.pkl mlp-1024-1\n",
      "y_pred: torch.Size([1061])\ty_score: torch.Size([1061, 2])\ty_true: torch.Size([1061])\n",
      "y_pred: torch.Size([1061])\ty_score: torch.Size([1061, 2])\ty_true: torch.Size([1061])\n",
      "y_pred: torch.Size([1061])\ty_score: torch.Size([1061, 2])\ty_true: torch.Size([1061])\n",
      "y_pred: torch.Size([1061])\ty_score: torch.Size([1061, 2])\ty_true: torch.Size([1061])\n",
      "y_pred: torch.Size([1061])\ty_score: torch.Size([1061, 2])\ty_true: torch.Size([1061])\n",
      "y_pred: torch.Size([1061])\ty_score: torch.Size([1061, 2])\ty_true: torch.Size([1061])\n",
      "y_pred: torch.Size([1061])\ty_score: torch.Size([1061, 2])\ty_true: torch.Size([1061])\n",
      "y_pred: torch.Size([1061])\ty_score: torch.Size([1061, 2])\ty_true: torch.Size([1061])\n",
      "y_pred: torch.Size([1061])\ty_score: torch.Size([1061, 2])\ty_true: torch.Size([1061])\n",
      "y_pred: torch.Size([1061])\ty_score: torch.Size([1061, 2])\ty_true: torch.Size([1061])\n",
      "y_pred: torch.Size([1061])\ty_score: torch.Size([1061, 2])\ty_true: torch.Size([1061])\n",
      "y_pred: torch.Size([1061])\ty_score: torch.Size([1061, 2])\ty_true: torch.Size([1061])\n",
      "y_pred: torch.Size([1061])\ty_score: torch.Size([1061, 2])\ty_true: torch.Size([1061])\n",
      "y_pred: torch.Size([1061])\ty_score: torch.Size([1061, 2])\ty_true: torch.Size([1061])\n",
      "y_pred: torch.Size([1061])\ty_score: torch.Size([1061, 2])\ty_true: torch.Size([1061])\n",
      "y_pred: torch.Size([1061])\ty_score: torch.Size([1061, 2])\ty_true: torch.Size([1061])\n"
     ]
    },
    {
     "name": "stderr",
     "output_type": "stream",
     "text": [
      "\n",
      " 93%|█████████▎| 14/15 [11:02<00:28, 28.55s/it]\u001b[A"
     ]
    },
    {
     "name": "stdout",
     "output_type": "stream",
     "text": [
      "y_pred: torch.Size([1061])\ty_score: torch.Size([1061, 2])\ty_true: torch.Size([1061])\n",
      "y_pred: torch.Size([1061])\ty_score: torch.Size([1061, 2])\ty_true: torch.Size([1061])\n",
      "y_pred: torch.Size([1061])\ty_score: torch.Size([1061, 2])\ty_true: torch.Size([1061])\n",
      "y_pred: torch.Size([1061])\ty_score: torch.Size([1061, 2])\ty_true: torch.Size([1061])\n",
      "VDR /p/vast1/jones289/hd_results/5/mlp-1024-1.lit-pcba-VDR-ave.5.pkl mlp-1024-1\n",
      "y_pred: torch.Size([66800])\ty_score: torch.Size([66800, 2])\ty_true: torch.Size([66800])\n",
      "y_pred: torch.Size([66800])\ty_score: torch.Size([66800, 2])\ty_true: torch.Size([66800])\n",
      "y_pred: torch.Size([66800])\ty_score: torch.Size([66800, 2])\ty_true: torch.Size([66800])\n",
      "y_pred: torch.Size([66800])\ty_score: torch.Size([66800, 2])\ty_true: torch.Size([66800])\n",
      "y_pred: torch.Size([66800])\ty_score: torch.Size([66800, 2])\ty_true: torch.Size([66800])\n",
      "y_pred: torch.Size([66800])\ty_score: torch.Size([66800, 2])\ty_true: torch.Size([66800])\n",
      "y_pred: torch.Size([66800])\ty_score: torch.Size([66800, 2])\ty_true: torch.Size([66800])\n",
      "y_pred: torch.Size([66800])\ty_score: torch.Size([66800, 2])\ty_true: torch.Size([66800])\n",
      "y_pred: torch.Size([66800])\ty_score: torch.Size([66800, 2])\ty_true: torch.Size([66800])\n",
      "y_pred: torch.Size([66800])\ty_score: torch.Size([66800, 2])\ty_true: torch.Size([66800])\n",
      "y_pred: torch.Size([66800])\ty_score: torch.Size([66800, 2])\ty_true: torch.Size([66800])\n",
      "y_pred: torch.Size([66800])\ty_score: torch.Size([66800, 2])\ty_true: torch.Size([66800])\n",
      "y_pred: torch.Size([66800])\ty_score: torch.Size([66800, 2])\ty_true: torch.Size([66800])\n",
      "y_pred: torch.Size([66800])\ty_score: torch.Size([66800, 2])\ty_true: torch.Size([66800])\n",
      "y_pred: torch.Size([66800])\ty_score: torch.Size([66800, 2])\ty_true: torch.Size([66800])\n",
      "y_pred: torch.Size([66800])\ty_score: torch.Size([66800, 2])\ty_true: torch.Size([66800])\n",
      "y_pred: torch.Size([66800])\ty_score: torch.Size([66800, 2])\ty_true: torch.Size([66800])\n",
      "y_pred: torch.Size([66800])\ty_score: torch.Size([66800, 2])\ty_true: torch.Size([66800])\n",
      "y_pred: torch.Size([66800])\ty_score: torch.Size([66800, 2])\ty_true: torch.Size([66800])\n",
      "y_pred: torch.Size([66800])\ty_score: torch.Size([66800, 2])\ty_true: torch.Size([66800])\n"
     ]
    },
    {
     "name": "stderr",
     "output_type": "stream",
     "text": [
      "\n",
      "100%|██████████| 15/15 [12:19<00:00, 49.33s/it]\u001b[A\n",
      " 89%|████████▉ | 8/9 [31:46<05:51, 351.21s/it]\n",
      "0it [00:00, ?it/s]\u001b[A\n",
      "100%|██████████| 9/9 [31:46<00:00, 211.82s/it]\n"
     ]
    },
    {
     "name": "stdout",
     "output_type": "stream",
     "text": [
      "('Vina', 0.01)\n",
      "           p     enrich\n",
      "count  15.00  15.000000\n",
      "mean    0.01   0.626063\n",
      "std     0.00   0.932153\n",
      "min     0.01   0.000000\n",
      "25%     0.01   0.000000\n",
      "50%     0.01   0.000000\n",
      "75%     0.01   1.185305\n",
      "max     0.01   3.122324\n",
      "('Vina', 0.1)\n",
      "                  p     enrich\n",
      "count  1.500000e+01  15.000000\n",
      "mean   1.000000e-01   1.382682\n",
      "std    2.872975e-17   0.958248\n",
      "min    1.000000e-01   0.000000\n",
      "25%    1.000000e-01   0.917282\n",
      "50%    1.000000e-01   1.304161\n",
      "75%    1.000000e-01   1.651117\n",
      "max    1.000000e-01   3.332918\n",
      "('hdbind-rp-ecfp-1024-1', 0.01)\n",
      "           p     enrich\n",
      "count  15.00  15.000000\n",
      "mean    0.01   5.351097\n",
      "std     0.00   6.582956\n",
      "min     0.01   0.000000\n",
      "25%     0.01   1.692604\n",
      "50%     0.01   3.553589\n",
      "75%     0.01   5.517831\n",
      "max     0.01  25.200957\n",
      "('hdbind-rp-ecfp-1024-1', 0.1)\n",
      "                  p     enrich\n",
      "count  1.500000e+01  15.000000\n",
      "mean   1.000000e-01   2.857164\n",
      "std    2.872975e-17   1.735331\n",
      "min    1.000000e-01   0.166667\n",
      "25%    1.000000e-01   1.801959\n",
      "50%    1.000000e-01   2.749789\n",
      "75%    1.000000e-01   3.493795\n",
      "max    1.000000e-01   6.490076\n",
      "('hdbind-rp-ecfp-1024-1-100k', 0.01)\n",
      "           p     enrich\n",
      "count  15.00  15.000000\n",
      "mean    0.01   6.595212\n",
      "std     0.00   5.911852\n",
      "min     0.01   0.000000\n",
      "25%     0.01   0.776615\n",
      "50%     0.01   7.512907\n",
      "75%     0.01  10.758533\n",
      "max     0.01  16.945471\n",
      "('hdbind-rp-ecfp-1024-1-100k', 0.1)\n",
      "                  p     enrich\n",
      "count  1.500000e+01  15.000000\n",
      "mean   1.000000e-01   2.761603\n",
      "std    2.872975e-17   1.224330\n",
      "min    1.000000e-01   0.000000\n",
      "25%    1.000000e-01   2.114549\n",
      "50%    1.000000e-01   2.661323\n",
      "75%    1.000000e-01   3.457391\n",
      "max    1.000000e-01   5.053893\n",
      "('hdbind-rp-molclr', 0.01)\n",
      "           p     enrich\n",
      "count  15.00  15.000000\n",
      "mean    0.01   7.792125\n",
      "std     0.00   8.646350\n",
      "min     0.01   0.000000\n",
      "25%     0.01   2.773556\n",
      "50%     0.01   4.405749\n",
      "75%     0.01   7.965266\n",
      "max     0.01  30.306323\n",
      "('hdbind-rp-molclr', 0.1)\n",
      "                  p     enrich\n",
      "count  1.500000e+01  15.000000\n",
      "mean   1.000000e-01   2.419563\n",
      "std    2.872975e-17   1.914968\n",
      "min    1.000000e-01   0.000000\n",
      "25%    1.000000e-01   1.603888\n",
      "50%    1.000000e-01   2.163359\n",
      "75%    1.000000e-01   3.048001\n",
      "max    1.000000e-01   7.184137\n",
      "('hdbind-rp-molclr-100k', 0.01)\n",
      "           p     enrich\n",
      "count  15.00  15.000000\n",
      "mean    0.01   5.806695\n",
      "std     0.00   7.592353\n",
      "min     0.01   0.000000\n",
      "25%     0.01   0.555071\n",
      "50%     0.01   4.582545\n",
      "75%     0.01   6.603808\n",
      "max     0.01  30.089074\n",
      "('hdbind-rp-molclr-100k', 0.1)\n",
      "                  p     enrich\n",
      "count  1.500000e+01  15.000000\n",
      "mean   1.000000e-01   2.876609\n",
      "std    2.872975e-17   1.994547\n",
      "min    1.000000e-01   0.000000\n",
      "25%    1.000000e-01   2.074280\n",
      "50%    1.000000e-01   2.907982\n",
      "75%    1.000000e-01   3.685334\n",
      "max    1.000000e-01   7.738435\n",
      "('hdbind-rp-molformer', 0.01)\n",
      "           p     enrich\n",
      "count  15.00  15.000000\n",
      "mean    0.01   5.649929\n",
      "std     0.00   7.463767\n",
      "min     0.01   0.000000\n",
      "25%     0.01   0.778571\n",
      "50%     0.01   3.106462\n",
      "75%     0.01   6.307257\n",
      "max     0.01  27.807953\n",
      "('hdbind-rp-molformer', 0.1)\n",
      "                  p     enrich\n",
      "count  1.500000e+01  15.000000\n",
      "mean   1.000000e-01   2.937962\n",
      "std    2.872975e-17   1.634352\n",
      "min    1.000000e-01   0.000000\n",
      "25%    1.000000e-01   2.096736\n",
      "50%    1.000000e-01   2.348500\n",
      "75%    1.000000e-01   3.330952\n",
      "max    1.000000e-01   6.868947\n",
      "('hdbind-rp-molformer-100k', 0.01)\n",
      "           p     enrich\n",
      "count  15.00  15.000000\n",
      "mean    0.01   8.059813\n",
      "std     0.00   9.412858\n",
      "min     0.01   0.000000\n",
      "25%     0.01   3.622062\n",
      "50%     0.01   5.076555\n",
      "75%     0.01   8.373381\n",
      "max     0.01  37.584187\n",
      "('hdbind-rp-molformer-100k', 0.1)\n",
      "                  p     enrich\n",
      "count  1.500000e+01  15.000000\n",
      "mean   1.000000e-01   2.898037\n",
      "std    2.872975e-17   1.894086\n",
      "min    1.000000e-01   0.000000\n",
      "25%    1.000000e-01   1.614894\n",
      "50%    1.000000e-01   2.487364\n",
      "75%    1.000000e-01   3.791503\n",
      "max    1.000000e-01   7.412377\n",
      "('mlp-1024-1', 0.01)\n",
      "           p     enrich\n",
      "count  15.00  15.000000\n",
      "mean    0.01  13.537262\n",
      "std     0.00  23.318999\n",
      "min     0.01   0.000000\n",
      "25%     0.01   3.420776\n",
      "50%     0.01   7.636364\n",
      "75%     0.01  12.754629\n",
      "max     0.01  93.428574\n",
      "('mlp-1024-1', 0.1)\n",
      "                  p     enrich\n",
      "count  1.500000e+01  15.000000\n",
      "mean   1.000000e-01   3.229729\n",
      "std    2.872975e-17   2.253809\n",
      "min    1.000000e-01   0.665714\n",
      "25%    1.000000e-01   2.270958\n",
      "50%    1.000000e-01   2.661323\n",
      "75%    1.000000e-01   3.308741\n",
      "max    1.000000e-01   9.984733\n",
      "('molehd-bpe', 0.01)\n",
      "           p     enrich\n",
      "count  15.00  15.000000\n",
      "mean    0.01   2.608000\n",
      "std     0.00   3.125275\n",
      "min     0.01   0.000000\n",
      "25%     0.01   0.000000\n",
      "50%     0.01   2.075050\n",
      "75%     0.01   3.114163\n",
      "max     0.01   9.750041\n",
      "('molehd-bpe', 0.1)\n",
      "                  p     enrich\n",
      "count  1.500000e+01  15.000000\n",
      "mean   1.000000e-01   1.696853\n",
      "std    2.872975e-17   0.920285\n",
      "min    1.000000e-01   0.000000\n",
      "25%    1.000000e-01   1.138834\n",
      "50%    1.000000e-01   1.687668\n",
      "75%    1.000000e-01   2.074529\n",
      "max    1.000000e-01   3.456211\n"
     ]
    },
    {
     "name": "stderr",
     "output_type": "stream",
     "text": [
      "/usr/workspace/wsa/jones289/miniconda3/envs/dtra_reactivator/lib/python3.8/site-packages/seaborn/categorical.py:1296: UserWarning: 20.0% of the points cannot be placed; you may want to decrease the size of the markers or use stripplot.\n",
      "  warnings.warn(msg, UserWarning)\n"
     ]
    },
    {
     "data": {
      "image/png": "[encoded data removed]",
      "text/plain": [
       "<Figure size 864x720 with 2 Axes>"
      ]
     },
     "metadata": {
      "needs_background": "light"
     },
     "output_type": "display_data"
    }
   ],
   "source": [
    "litpcba_df = compute_model_metric_df(dataset=\"lit-pcba\", split=\"ave\", target_list=\"all\")"
   ]
  },
  {
   "cell_type": "code",
   "execution_count": 8,
   "metadata": {
    "scrolled": true
   },
   "outputs": [
    {
     "name": "stderr",
     "output_type": "stream",
     "text": [
      "\r",
      "  0%|          | 0/15 [00:00<?, ?it/s]"
     ]
    },
    {
     "name": "stdout",
     "output_type": "stream",
     "text": [
      "/p/vast1/jones289/hd_results/5/hdbind-rp-molformer.lit-pcba-PKM2-random.5.pkl\n",
      "started with 246069 molecules for PKM2, after merging with available docking data, have 43394/61518 in test set\n"
     ]
    },
    {
     "name": "stderr",
     "output_type": "stream",
     "text": [
      "/tmp/ipykernel_3590472/2535884398.py:93: FutureWarning: Dropping of nuisance columns in DataFrame reductions (with 'numeric_only=None') is deprecated; in a future version this will raise TypeError.  Select only valid columns before calling the reduction.\n",
      "  dock_scores['min_vina'] = dock_scores[dock_scores.columns[11:21]].min(axis=1)\n",
      "  7%|▋         | 1/15 [00:16<03:45, 16.12s/it]"
     ]
    },
    {
     "name": "stdout",
     "output_type": "stream",
     "text": [
      "/p/vast1/jones289/hd_results/5/hdbind-rp-molformer.lit-pcba-GBA-random.5.pkl\n",
      "started with 296218 molecules for GBA, after merging with available docking data, have 51851/74055 in test set\n"
     ]
    },
    {
     "name": "stderr",
     "output_type": "stream",
     "text": [
      "/tmp/ipykernel_3590472/2535884398.py:93: FutureWarning: Dropping of nuisance columns in DataFrame reductions (with 'numeric_only=None') is deprecated; in a future version this will raise TypeError.  Select only valid columns before calling the reduction.\n",
      "  dock_scores['min_vina'] = dock_scores[dock_scores.columns[11:21]].min(axis=1)\n",
      " 13%|█▎        | 2/15 [00:29<03:08, 14.48s/it]"
     ]
    },
    {
     "name": "stdout",
     "output_type": "stream",
     "text": [
      "/p/vast1/jones289/hd_results/5/hdbind-rp-molformer.lit-pcba-ESR1_ago-random.5.pkl\n",
      "started with 5596 molecules for ESR1_ago, after merging with available docking data, have 993/1399 in test set\n"
     ]
    },
    {
     "name": "stderr",
     "output_type": "stream",
     "text": [
      "/tmp/ipykernel_3590472/2535884398.py:93: FutureWarning: Dropping of nuisance columns in DataFrame reductions (with 'numeric_only=None') is deprecated; in a future version this will raise TypeError.  Select only valid columns before calling the reduction.\n",
      "  dock_scores['min_vina'] = dock_scores[dock_scores.columns[11:21]].min(axis=1)\n",
      "\r",
      " 20%|██        | 3/15 [00:30<01:39,  8.25s/it]"
     ]
    },
    {
     "name": "stdout",
     "output_type": "stream",
     "text": [
      "/p/vast1/jones289/hd_results/5/hdbind-rp-molformer.lit-pcba-MAPK1-random.5.pkl\n",
      "started with 62937 molecules for MAPK1, after merging with available docking data, have 10739/15735 in test set\n"
     ]
    },
    {
     "name": "stderr",
     "output_type": "stream",
     "text": [
      "/tmp/ipykernel_3590472/2535884398.py:93: FutureWarning: Dropping of nuisance columns in DataFrame reductions (with 'numeric_only=None') is deprecated; in a future version this will raise TypeError.  Select only valid columns before calling the reduction.\n",
      "  dock_scores['min_vina'] = dock_scores[dock_scores.columns[11:21]].min(axis=1)\n",
      "\r",
      " 27%|██▋       | 4/15 [00:36<01:23,  7.56s/it]"
     ]
    },
    {
     "name": "stdout",
     "output_type": "stream",
     "text": [
      "/p/vast1/jones289/hd_results/5/hdbind-rp-molformer.lit-pcba-VDR-random.5.pkl\n",
      "started with 356272 molecules for VDR, after merging with available docking data, have 47208/66801 in test set\n"
     ]
    },
    {
     "name": "stderr",
     "output_type": "stream",
     "text": [
      "/tmp/ipykernel_3590472/2535884398.py:93: FutureWarning: Dropping of nuisance columns in DataFrame reductions (with 'numeric_only=None') is deprecated; in a future version this will raise TypeError.  Select only valid columns before calling the reduction.\n",
      "  dock_scores['min_vina'] = dock_scores[dock_scores.columns[11:21]].min(axis=1)\n",
      " 33%|███▎      | 5/15 [00:43<01:12,  7.23s/it]"
     ]
    },
    {
     "name": "stdout",
     "output_type": "stream",
     "text": [
      "/p/vast1/jones289/hd_results/5/hdbind-rp-molformer.lit-pcba-KAT2A-random.5.pkl\n",
      "started with 348742 molecules for KAT2A, after merging with available docking data, have 61615/87186 in test set\n"
     ]
    },
    {
     "name": "stderr",
     "output_type": "stream",
     "text": [
      "/tmp/ipykernel_3590472/2535884398.py:93: FutureWarning: Dropping of nuisance columns in DataFrame reductions (with 'numeric_only=None') is deprecated; in a future version this will raise TypeError.  Select only valid columns before calling the reduction.\n",
      "  dock_scores['min_vina'] = dock_scores[dock_scores.columns[11:21]].min(axis=1)\n",
      " 40%|████      | 6/15 [00:52<01:09,  7.77s/it]"
     ]
    },
    {
     "name": "stdout",
     "output_type": "stream",
     "text": [
      "/p/vast1/jones289/hd_results/5/hdbind-rp-molformer.lit-pcba-ALDH1-random.5.pkl\n",
      "started with 145133 molecules for ALDH1, after merging with available docking data, have 19193/27213 in test set\n"
     ]
    },
    {
     "name": "stderr",
     "output_type": "stream",
     "text": [
      "/tmp/ipykernel_3590472/2535884398.py:93: FutureWarning: Dropping of nuisance columns in DataFrame reductions (with 'numeric_only=None') is deprecated; in a future version this will raise TypeError.  Select only valid columns before calling the reduction.\n",
      "  dock_scores['min_vina'] = dock_scores[dock_scores.columns[11:21]].min(axis=1)\n",
      " 47%|████▋     | 7/15 [01:00<01:04,  8.07s/it]"
     ]
    },
    {
     "name": "stdout",
     "output_type": "stream",
     "text": [
      "/p/vast1/jones289/hd_results/5/hdbind-rp-molformer.lit-pcba-TP53-random.5.pkl\n",
      "started with 4247 molecules for TP53, after merging with available docking data, have 764/1062 in test set\n"
     ]
    },
    {
     "name": "stderr",
     "output_type": "stream",
     "text": [
      "/tmp/ipykernel_3590472/2535884398.py:93: FutureWarning: Dropping of nuisance columns in DataFrame reductions (with 'numeric_only=None') is deprecated; in a future version this will raise TypeError.  Select only valid columns before calling the reduction.\n",
      "  dock_scores['min_vina'] = dock_scores[dock_scores.columns[11:21]].min(axis=1)\n",
      "\r",
      " 53%|█████▎    | 8/15 [01:01<00:39,  5.64s/it]"
     ]
    },
    {
     "name": "stdout",
     "output_type": "stream",
     "text": [
      "/p/vast1/jones289/hd_results/5/hdbind-rp-molformer.lit-pcba-PPARG-random.5.pkl\n",
      "started with 5238 molecules for PPARG, after merging with available docking data, have 955/1310 in test set\n"
     ]
    },
    {
     "name": "stderr",
     "output_type": "stream",
     "text": [
      "/tmp/ipykernel_3590472/2535884398.py:93: FutureWarning: Dropping of nuisance columns in DataFrame reductions (with 'numeric_only=None') is deprecated; in a future version this will raise TypeError.  Select only valid columns before calling the reduction.\n",
      "  dock_scores['min_vina'] = dock_scores[dock_scores.columns[11:21]].min(axis=1)\n",
      "\r",
      " 60%|██████    | 9/15 [01:02<00:24,  4.10s/it]"
     ]
    },
    {
     "name": "stdout",
     "output_type": "stream",
     "text": [
      "/p/vast1/jones289/hd_results/5/hdbind-rp-molformer.lit-pcba-ADRB2-random.5.pkl\n",
      "started with 312500 molecules for ADRB2, after merging with available docking data, have 54953/78125 in test set\n"
     ]
    },
    {
     "name": "stderr",
     "output_type": "stream",
     "text": [
      "/tmp/ipykernel_3590472/2535884398.py:93: FutureWarning: Dropping of nuisance columns in DataFrame reductions (with 'numeric_only=None') is deprecated; in a future version this will raise TypeError.  Select only valid columns before calling the reduction.\n",
      "  dock_scores['min_vina'] = dock_scores[dock_scores.columns[11:21]].min(axis=1)\n",
      " 67%|██████▋   | 10/15 [01:20<00:42,  8.55s/it]"
     ]
    },
    {
     "name": "stdout",
     "output_type": "stream",
     "text": [
      "/p/vast1/jones289/hd_results/5/hdbind-rp-molformer.lit-pcba-MTORC1-random.5.pkl\n",
      "started with 33069 molecules for MTORC1, after merging with available docking data, have 6450/8268 in test set\n"
     ]
    },
    {
     "name": "stderr",
     "output_type": "stream",
     "text": [
      "/tmp/ipykernel_3590472/2535884398.py:88: DtypeWarning: Columns (12,13,14) have mixed types. Specify dtype option on import or set low_memory=False.\n",
      "  inactive_dock_scores = pd.read_csv(root_p / Path(f\"{target}-inactives.csv.clean\"), header=None)\n",
      "/tmp/ipykernel_3590472/2535884398.py:93: FutureWarning: Dropping of nuisance columns in DataFrame reductions (with 'numeric_only=None') is deprecated; in a future version this will raise TypeError.  Select only valid columns before calling the reduction.\n",
      "  dock_scores['min_vina'] = dock_scores[dock_scores.columns[11:21]].min(axis=1)\n",
      " 73%|███████▎  | 11/15 [01:23<00:27,  6.79s/it]"
     ]
    },
    {
     "name": "stdout",
     "output_type": "stream",
     "text": [
      "/p/vast1/jones289/hd_results/5/hdbind-rp-molformer.lit-pcba-OPRK1-random.5.pkl\n",
      "started with 269840 molecules for OPRK1, after merging with available docking data, have 47787/67460 in test set\n"
     ]
    },
    {
     "name": "stderr",
     "output_type": "stream",
     "text": [
      "/tmp/ipykernel_3590472/2535884398.py:93: FutureWarning: Dropping of nuisance columns in DataFrame reductions (with 'numeric_only=None') is deprecated; in a future version this will raise TypeError.  Select only valid columns before calling the reduction.\n",
      "  dock_scores['min_vina'] = dock_scores[dock_scores.columns[11:21]].min(axis=1)\n",
      "\r",
      " 80%|████████  | 12/15 [01:26<00:17,  5.74s/it]"
     ]
    },
    {
     "name": "stdout",
     "output_type": "stream",
     "text": [
      "/p/vast1/jones289/hd_results/5/hdbind-rp-molformer.lit-pcba-IDH1-random.5.pkl\n",
      "started with 362088 molecules for IDH1, after merging with available docking data, have 64088/90522 in test set\n"
     ]
    },
    {
     "name": "stderr",
     "output_type": "stream",
     "text": [
      "/tmp/ipykernel_3590472/2535884398.py:93: FutureWarning: Dropping of nuisance columns in DataFrame reductions (with 'numeric_only=None') is deprecated; in a future version this will raise TypeError.  Select only valid columns before calling the reduction.\n",
      "  dock_scores['min_vina'] = dock_scores[dock_scores.columns[11:21]].min(axis=1)\n",
      " 87%|████████▋ | 13/15 [02:04<00:30, 15.34s/it]"
     ]
    },
    {
     "name": "stdout",
     "output_type": "stream",
     "text": [
      "/p/vast1/jones289/hd_results/5/hdbind-rp-molformer.lit-pcba-ESR1_ant-random.5.pkl\n",
      "started with 5050 molecules for ESR1_ant, after merging with available docking data, have 886/1263 in test set\n"
     ]
    },
    {
     "name": "stderr",
     "output_type": "stream",
     "text": [
      "/tmp/ipykernel_3590472/2535884398.py:93: FutureWarning: Dropping of nuisance columns in DataFrame reductions (with 'numeric_only=None') is deprecated; in a future version this will raise TypeError.  Select only valid columns before calling the reduction.\n",
      "  dock_scores['min_vina'] = dock_scores[dock_scores.columns[11:21]].min(axis=1)\n",
      "\r",
      " 93%|█████████▎| 14/15 [02:05<00:11, 11.01s/it]"
     ]
    },
    {
     "name": "stdout",
     "output_type": "stream",
     "text": [
      "/p/vast1/jones289/hd_results/5/hdbind-rp-molformer.lit-pcba-FEN1-random.5.pkl\n",
      "started with 355771 molecules for FEN1, after merging with available docking data, have 62951/88943 in test set\n"
     ]
    },
    {
     "name": "stderr",
     "output_type": "stream",
     "text": [
      "/tmp/ipykernel_3590472/2535884398.py:93: FutureWarning: Dropping of nuisance columns in DataFrame reductions (with 'numeric_only=None') is deprecated; in a future version this will raise TypeError.  Select only valid columns before calling the reduction.\n",
      "  dock_scores['min_vina'] = dock_scores[dock_scores.columns[11:21]].min(axis=1)\n",
      "100%|██████████| 15/15 [02:09<00:00,  8.64s/it]\n",
      "  0%|          | 0/9 [00:00<?, ?it/s]\n",
      "  0%|          | 0/15 [00:00<?, ?it/s]\u001b[A"
     ]
    },
    {
     "name": "stdout",
     "output_type": "stream",
     "text": [
      "ADRB2 /p/vast1/jones289/hd_results/5/molehd-bpe.lit-pcba-ADRB2-random.5.pkl molehd-bpe\n",
      "y_pred: (78125, 1)\ty_score: (78125, 1)\ty_true: (78125, 1)\n",
      "y_pred: (78125, 1)\ty_score: (78125, 1)\ty_true: (78125, 1)\n",
      "y_pred: (78125, 1)\ty_score: (78125, 1)\ty_true: (78125, 1)\n",
      "y_pred: (78125, 1)\ty_score: (78125, 1)\ty_true: (78125, 1)\n",
      "y_pred: (78125, 1)\ty_score: (78125, 1)\ty_true: (78125, 1)\n",
      "y_pred: (78125, 1)\ty_score: (78125, 1)\ty_true: (78125, 1)\n",
      "y_pred: (78125, 1)\ty_score: (78125, 1)\ty_true: (78125, 1)\n",
      "y_pred: (78125, 1)\ty_score: (78125, 1)\ty_true: (78125, 1)\n",
      "y_pred: (78125, 1)\ty_score: (78125, 1)\ty_true: (78125, 1)\n",
      "y_pred: (78125, 1)\ty_score: (78125, 1)\ty_true: (78125, 1)\n",
      "y_pred: (78125, 1)\ty_score: (78125, 1)\ty_true: (78125, 1)\n",
      "y_pred: (78125, 1)\ty_score: (78125, 1)\ty_true: (78125, 1)\n",
      "y_pred: (78125, 1)\ty_score: (78125, 1)\ty_true: (78125, 1)\n",
      "y_pred: (78125, 1)\ty_score: (78125, 1)\ty_true: (78125, 1)\n",
      "y_pred: (78125, 1)\ty_score: (78125, 1)\ty_true: (78125, 1)\n",
      "y_pred: (78125, 1)\ty_score: (78125, 1)\ty_true: (78125, 1)\n",
      "y_pred: (78125, 1)\ty_score: (78125, 1)\ty_true: (78125, 1)\n",
      "y_pred: (78125, 1)\ty_score: (78125, 1)\ty_true: (78125, 1)\n",
      "y_pred: (78125, 1)\ty_score: (78125, 1)\ty_true: (78125, 1)\n",
      "y_pred: (78125, 1)\ty_score: (78125, 1)\ty_true: (78125, 1)\n"
     ]
    },
    {
     "name": "stderr",
     "output_type": "stream",
     "text": [
      "\n",
      "  7%|▋         | 1/15 [00:19<04:35, 19.65s/it]\u001b[A"
     ]
    },
    {
     "name": "stdout",
     "output_type": "stream",
     "text": [
      "ALDH1 /p/vast1/jones289/hd_results/5/molehd-bpe.lit-pcba-ALDH1-random.5.pkl molehd-bpe\n",
      "y_pred: (27213, 1)\ty_score: (27213, 1)\ty_true: (27213, 1)\n",
      "y_pred: (27213, 1)\ty_score: (27213, 1)\ty_true: (27213, 1)\n",
      "y_pred: (27213, 1)\ty_score: (27213, 1)\ty_true: (27213, 1)\n",
      "y_pred: (27213, 1)\ty_score: (27213, 1)\ty_true: (27213, 1)\n",
      "y_pred: (27213, 1)\ty_score: (27213, 1)\ty_true: (27213, 1)\n",
      "y_pred: (27213, 1)\ty_score: (27213, 1)\ty_true: (27213, 1)\n",
      "y_pred: (27213, 1)\ty_score: (27213, 1)\ty_true: (27213, 1)\n",
      "y_pred: (27213, 1)\ty_score: (27213, 1)\ty_true: (27213, 1)\n",
      "y_pred: (27213, 1)\ty_score: (27213, 1)\ty_true: (27213, 1)\n",
      "y_pred: (27213, 1)\ty_score: (27213, 1)\ty_true: (27213, 1)\n",
      "y_pred: (27213, 1)\ty_score: (27213, 1)\ty_true: (27213, 1)\n",
      "y_pred: (27213, 1)\ty_score: (27213, 1)\ty_true: (27213, 1)\n",
      "y_pred: (27213, 1)\ty_score: (27213, 1)\ty_true: (27213, 1)\n",
      "y_pred: (27213, 1)\ty_score: (27213, 1)\ty_true: (27213, 1)\n",
      "y_pred: (27213, 1)\ty_score: (27213, 1)\ty_true: (27213, 1)\n",
      "y_pred: (27213, 1)\ty_score: (27213, 1)\ty_true: (27213, 1)\n",
      "y_pred: (27213, 1)\ty_score: (27213, 1)\ty_true: (27213, 1)\n",
      "y_pred: (27213, 1)\ty_score: (27213, 1)\ty_true: (27213, 1)\n",
      "y_pred: (27213, 1)\ty_score: (27213, 1)\ty_true: (27213, 1)\n",
      "y_pred: (27213, 1)\ty_score: (27213, 1)\ty_true: (27213, 1)\n"
     ]
    },
    {
     "name": "stderr",
     "output_type": "stream",
     "text": [
      "\n",
      " 13%|█▎        | 2/15 [00:25<02:33, 11.79s/it]\u001b[A"
     ]
    },
    {
     "name": "stdout",
     "output_type": "stream",
     "text": [
      "ESR1_ago /p/vast1/jones289/hd_results/5/molehd-bpe.lit-pcba-ESR1_ago-random.5.pkl molehd-bpe\n",
      "y_pred: (1399, 1)\ty_score: (1399, 1)\ty_true: (1399, 1)\n",
      "y_pred: (1399, 1)\ty_score: (1399, 1)\ty_true: (1399, 1)\n",
      "y_pred: (1399, 1)\ty_score: (1399, 1)\ty_true: (1399, 1)\n",
      "y_pred: (1399, 1)\ty_score: (1399, 1)\ty_true: (1399, 1)\n",
      "y_pred: (1399, 1)\ty_score: (1399, 1)\ty_true: (1399, 1)\n",
      "y_pred: (1399, 1)\ty_score: (1399, 1)\ty_true: (1399, 1)\n",
      "y_pred: (1399, 1)\ty_score: (1399, 1)\ty_true: (1399, 1)\n",
      "y_pred: (1399, 1)\ty_score: (1399, 1)\ty_true: (1399, 1)\n",
      "y_pred: (1399, 1)\ty_score: (1399, 1)\ty_true: (1399, 1)\n",
      "y_pred: (1399, 1)\ty_score: (1399, 1)\ty_true: (1399, 1)\n",
      "y_pred: (1399, 1)\ty_score: (1399, 1)\ty_true: (1399, 1)\n",
      "y_pred: (1399, 1)\ty_score: (1399, 1)\ty_true: (1399, 1)\n"
     ]
    },
    {
     "name": "stderr",
     "output_type": "stream",
     "text": [
      "\n",
      " 20%|██        | 3/15 [00:26<01:18,  6.55s/it]\u001b[A"
     ]
    },
    {
     "name": "stdout",
     "output_type": "stream",
     "text": [
      "y_pred: (1399, 1)\ty_score: (1399, 1)\ty_true: (1399, 1)\n",
      "y_pred: (1399, 1)\ty_score: (1399, 1)\ty_true: (1399, 1)\n",
      "y_pred: (1399, 1)\ty_score: (1399, 1)\ty_true: (1399, 1)\n",
      "y_pred: (1399, 1)\ty_score: (1399, 1)\ty_true: (1399, 1)\n",
      "y_pred: (1399, 1)\ty_score: (1399, 1)\ty_true: (1399, 1)\n",
      "y_pred: (1399, 1)\ty_score: (1399, 1)\ty_true: (1399, 1)\n",
      "y_pred: (1399, 1)\ty_score: (1399, 1)\ty_true: (1399, 1)\n",
      "y_pred: (1399, 1)\ty_score: (1399, 1)\ty_true: (1399, 1)\n",
      "ESR1_ant /p/vast1/jones289/hd_results/5/molehd-bpe.lit-pcba-ESR1_ant-random.5.pkl molehd-bpe\n",
      "y_pred: (1263, 1)\ty_score: (1263, 1)\ty_true: (1263, 1)\n",
      "y_pred: (1263, 1)\ty_score: (1263, 1)\ty_true: (1263, 1)\n",
      "y_pred: (1263, 1)\ty_score: (1263, 1)\ty_true: (1263, 1)\n",
      "y_pred: (1263, 1)\ty_score: (1263, 1)\ty_true: (1263, 1)\n",
      "y_pred: (1263, 1)\ty_score: (1263, 1)\ty_true: (1263, 1)\n",
      "y_pred: (1263, 1)\ty_score: (1263, 1)\ty_true: (1263, 1)\n",
      "y_pred: (1263, 1)\ty_score: (1263, 1)\ty_true: (1263, 1)\n",
      "y_pred: (1263, 1)\ty_score: (1263, 1)\ty_true: (1263, 1)\n",
      "y_pred: (1263, 1)\ty_score: (1263, 1)\ty_true: (1263, 1)\n",
      "y_pred: (1263, 1)\ty_score: (1263, 1)\ty_true: (1263, 1)\n",
      "y_pred: (1263, 1)\ty_score: (1263, 1)\ty_true: (1263, 1)\n",
      "y_pred: (1263, 1)\ty_score: (1263, 1)\ty_true: (1263, 1)\n",
      "y_pred: (1263, 1)\ty_score: (1263, 1)\ty_true: (1263, 1)\n",
      "y_pred: (1263, 1)\ty_score: (1263, 1)\ty_true: (1263, 1)\n",
      "y_pred: (1263, 1)\ty_score: (1263, 1)\ty_true: (1263, 1)\n",
      "y_pred: (1263, 1)\ty_score: (1263, 1)\ty_true: (1263, 1)\n",
      "y_pred: (1263, 1)\ty_score: (1263, 1)\ty_true: (1263, 1)\n",
      "y_pred: (1263, 1)\ty_score: (1263, 1)\ty_true: (1263, 1)\n",
      "y_pred: (1263, 1)\ty_score: (1263, 1)\ty_true: (1263, 1)\n",
      "y_pred: (1263, 1)\ty_score: (1263, 1)\ty_true: (1263, 1)\n"
     ]
    },
    {
     "name": "stderr",
     "output_type": "stream",
     "text": [
      "\n",
      " 27%|██▋       | 4/15 [00:26<00:44,  4.09s/it]\u001b[A"
     ]
    },
    {
     "name": "stdout",
     "output_type": "stream",
     "text": [
      "FEN1 /p/vast1/jones289/hd_results/5/molehd-bpe.lit-pcba-FEN1-random.5.pkl molehd-bpe\n",
      "y_pred: (88943, 1)\ty_score: (88943, 1)\ty_true: (88943, 1)\n",
      "y_pred: (88943, 1)\ty_score: (88943, 1)\ty_true: (88943, 1)\n",
      "y_pred: (88943, 1)\ty_score: (88943, 1)\ty_true: (88943, 1)\n",
      "y_pred: (88943, 1)\ty_score: (88943, 1)\ty_true: (88943, 1)\n",
      "y_pred: (88943, 1)\ty_score: (88943, 1)\ty_true: (88943, 1)\n",
      "y_pred: (88943, 1)\ty_score: (88943, 1)\ty_true: (88943, 1)\n",
      "y_pred: (88943, 1)\ty_score: (88943, 1)\ty_true: (88943, 1)\n",
      "y_pred: (88943, 1)\ty_score: (88943, 1)\ty_true: (88943, 1)\n",
      "y_pred: (88943, 1)\ty_score: (88943, 1)\ty_true: (88943, 1)\n",
      "y_pred: (88943, 1)\ty_score: (88943, 1)\ty_true: (88943, 1)\n",
      "y_pred: (88943, 1)\ty_score: (88943, 1)\ty_true: (88943, 1)\n",
      "y_pred: (88943, 1)\ty_score: (88943, 1)\ty_true: (88943, 1)\n",
      "y_pred: (88943, 1)\ty_score: (88943, 1)\ty_true: (88943, 1)\n",
      "y_pred: (88943, 1)\ty_score: (88943, 1)\ty_true: (88943, 1)\n",
      "y_pred: (88943, 1)\ty_score: (88943, 1)\ty_true: (88943, 1)\n",
      "y_pred: (88943, 1)\ty_score: (88943, 1)\ty_true: (88943, 1)\n",
      "y_pred: (88943, 1)\ty_score: (88943, 1)\ty_true: (88943, 1)\n",
      "y_pred: (88943, 1)\ty_score: (88943, 1)\ty_true: (88943, 1)\n",
      "y_pred: (88943, 1)\ty_score: (88943, 1)\ty_true: (88943, 1)\n",
      "y_pred: (88943, 1)\ty_score: (88943, 1)\ty_true: (88943, 1)\n"
     ]
    },
    {
     "name": "stderr",
     "output_type": "stream",
     "text": [
      "\n",
      " 33%|███▎      | 5/15 [00:49<01:47, 10.76s/it]\u001b[A"
     ]
    },
    {
     "name": "stdout",
     "output_type": "stream",
     "text": [
      "GBA /p/vast1/jones289/hd_results/5/molehd-bpe.lit-pcba-GBA-random.5.pkl molehd-bpe\n",
      "y_pred: (74055, 1)\ty_score: (74055, 1)\ty_true: (74055, 1)\n",
      "y_pred: (74055, 1)\ty_score: (74055, 1)\ty_true: (74055, 1)\n",
      "y_pred: (74055, 1)\ty_score: (74055, 1)\ty_true: (74055, 1)\n",
      "y_pred: (74055, 1)\ty_score: (74055, 1)\ty_true: (74055, 1)\n",
      "y_pred: (74055, 1)\ty_score: (74055, 1)\ty_true: (74055, 1)\n",
      "y_pred: (74055, 1)\ty_score: (74055, 1)\ty_true: (74055, 1)\n",
      "y_pred: (74055, 1)\ty_score: (74055, 1)\ty_true: (74055, 1)\n",
      "y_pred: (74055, 1)\ty_score: (74055, 1)\ty_true: (74055, 1)\n",
      "y_pred: (74055, 1)\ty_score: (74055, 1)\ty_true: (74055, 1)\n",
      "y_pred: (74055, 1)\ty_score: (74055, 1)\ty_true: (74055, 1)\n",
      "y_pred: (74055, 1)\ty_score: (74055, 1)\ty_true: (74055, 1)\n",
      "y_pred: (74055, 1)\ty_score: (74055, 1)\ty_true: (74055, 1)\n",
      "y_pred: (74055, 1)\ty_score: (74055, 1)\ty_true: (74055, 1)\n",
      "y_pred: (74055, 1)\ty_score: (74055, 1)\ty_true: (74055, 1)\n",
      "y_pred: (74055, 1)\ty_score: (74055, 1)\ty_true: (74055, 1)\n",
      "y_pred: (74055, 1)\ty_score: (74055, 1)\ty_true: (74055, 1)\n",
      "y_pred: (74055, 1)\ty_score: (74055, 1)\ty_true: (74055, 1)\n",
      "y_pred: (74055, 1)\ty_score: (74055, 1)\ty_true: (74055, 1)\n",
      "y_pred: (74055, 1)\ty_score: (74055, 1)\ty_true: (74055, 1)\n",
      "y_pred: (74055, 1)\ty_score: (74055, 1)\ty_true: (74055, 1)\n"
     ]
    },
    {
     "name": "stderr",
     "output_type": "stream",
     "text": [
      "\n",
      " 40%|████      | 6/15 [01:07<02:00, 13.41s/it]\u001b[A"
     ]
    },
    {
     "name": "stdout",
     "output_type": "stream",
     "text": [
      "IDH1 /p/vast1/jones289/hd_results/5/molehd-bpe.lit-pcba-IDH1-random.5.pkl molehd-bpe\n",
      "y_pred: (90522, 1)\ty_score: (90522, 1)\ty_true: (90522, 1)\n",
      "y_pred: (90522, 1)\ty_score: (90522, 1)\ty_true: (90522, 1)\n",
      "y_pred: (90522, 1)\ty_score: (90522, 1)\ty_true: (90522, 1)\n",
      "y_pred: (90522, 1)\ty_score: (90522, 1)\ty_true: (90522, 1)\n",
      "y_pred: (90522, 1)\ty_score: (90522, 1)\ty_true: (90522, 1)\n",
      "y_pred: (90522, 1)\ty_score: (90522, 1)\ty_true: (90522, 1)\n",
      "y_pred: (90522, 1)\ty_score: (90522, 1)\ty_true: (90522, 1)\n",
      "y_pred: (90522, 1)\ty_score: (90522, 1)\ty_true: (90522, 1)\n",
      "y_pred: (90522, 1)\ty_score: (90522, 1)\ty_true: (90522, 1)\n",
      "y_pred: (90522, 1)\ty_score: (90522, 1)\ty_true: (90522, 1)\n",
      "y_pred: (90522, 1)\ty_score: (90522, 1)\ty_true: (90522, 1)\n",
      "y_pred: (90522, 1)\ty_score: (90522, 1)\ty_true: (90522, 1)\n",
      "y_pred: (90522, 1)\ty_score: (90522, 1)\ty_true: (90522, 1)\n",
      "y_pred: (90522, 1)\ty_score: (90522, 1)\ty_true: (90522, 1)\n",
      "y_pred: (90522, 1)\ty_score: (90522, 1)\ty_true: (90522, 1)\n",
      "y_pred: (90522, 1)\ty_score: (90522, 1)\ty_true: (90522, 1)\n",
      "y_pred: (90522, 1)\ty_score: (90522, 1)\ty_true: (90522, 1)\n",
      "y_pred: (90522, 1)\ty_score: (90522, 1)\ty_true: (90522, 1)\n",
      "y_pred: (90522, 1)\ty_score: (90522, 1)\ty_true: (90522, 1)\n",
      "y_pred: (90522, 1)\ty_score: (90522, 1)\ty_true: (90522, 1)\n"
     ]
    },
    {
     "name": "stderr",
     "output_type": "stream",
     "text": [
      "\n",
      " 47%|████▋     | 7/15 [01:30<02:11, 16.50s/it]\u001b[A"
     ]
    },
    {
     "name": "stdout",
     "output_type": "stream",
     "text": [
      "KAT2A /p/vast1/jones289/hd_results/5/molehd-bpe.lit-pcba-KAT2A-random.5.pkl molehd-bpe\n",
      "y_pred: (87186, 1)\ty_score: (87186, 1)\ty_true: (87186, 1)\n",
      "y_pred: (87186, 1)\ty_score: (87186, 1)\ty_true: (87186, 1)\n",
      "y_pred: (87186, 1)\ty_score: (87186, 1)\ty_true: (87186, 1)\n",
      "y_pred: (87186, 1)\ty_score: (87186, 1)\ty_true: (87186, 1)\n",
      "y_pred: (87186, 1)\ty_score: (87186, 1)\ty_true: (87186, 1)\n",
      "y_pred: (87186, 1)\ty_score: (87186, 1)\ty_true: (87186, 1)\n",
      "y_pred: (87186, 1)\ty_score: (87186, 1)\ty_true: (87186, 1)\n",
      "y_pred: (87186, 1)\ty_score: (87186, 1)\ty_true: (87186, 1)\n",
      "y_pred: (87186, 1)\ty_score: (87186, 1)\ty_true: (87186, 1)\n",
      "y_pred: (87186, 1)\ty_score: (87186, 1)\ty_true: (87186, 1)\n",
      "y_pred: (87186, 1)\ty_score: (87186, 1)\ty_true: (87186, 1)\n",
      "y_pred: (87186, 1)\ty_score: (87186, 1)\ty_true: (87186, 1)\n",
      "y_pred: (87186, 1)\ty_score: (87186, 1)\ty_true: (87186, 1)\n",
      "y_pred: (87186, 1)\ty_score: (87186, 1)\ty_true: (87186, 1)\n",
      "y_pred: (87186, 1)\ty_score: (87186, 1)\ty_true: (87186, 1)\n",
      "y_pred: (87186, 1)\ty_score: (87186, 1)\ty_true: (87186, 1)\n",
      "y_pred: (87186, 1)\ty_score: (87186, 1)\ty_true: (87186, 1)\n",
      "y_pred: (87186, 1)\ty_score: (87186, 1)\ty_true: (87186, 1)\n",
      "y_pred: (87186, 1)\ty_score: (87186, 1)\ty_true: (87186, 1)\n",
      "y_pred: (87186, 1)\ty_score: (87186, 1)\ty_true: (87186, 1)\n"
     ]
    },
    {
     "name": "stderr",
     "output_type": "stream",
     "text": [
      "\n",
      " 53%|█████▎    | 8/15 [01:53<02:09, 18.44s/it]\u001b[A"
     ]
    },
    {
     "name": "stdout",
     "output_type": "stream",
     "text": [
      "MAPK1 /p/vast1/jones289/hd_results/5/molehd-bpe.lit-pcba-MAPK1-random.5.pkl molehd-bpe\n",
      "y_pred: (15735, 1)\ty_score: (15735, 1)\ty_true: (15735, 1)\n",
      "y_pred: (15735, 1)\ty_score: (15735, 1)\ty_true: (15735, 1)\n",
      "y_pred: (15735, 1)\ty_score: (15735, 1)\ty_true: (15735, 1)\n",
      "y_pred: (15735, 1)\ty_score: (15735, 1)\ty_true: (15735, 1)\n",
      "y_pred: (15735, 1)\ty_score: (15735, 1)\ty_true: (15735, 1)\n",
      "y_pred: (15735, 1)\ty_score: (15735, 1)\ty_true: (15735, 1)\n",
      "y_pred: (15735, 1)\ty_score: (15735, 1)\ty_true: (15735, 1)\n",
      "y_pred: (15735, 1)\ty_score: (15735, 1)\ty_true: (15735, 1)\n",
      "y_pred: (15735, 1)\ty_score: (15735, 1)\ty_true: (15735, 1)\n",
      "y_pred: (15735, 1)\ty_score: (15735, 1)\ty_true: (15735, 1)\n",
      "y_pred: (15735, 1)\ty_score: (15735, 1)\ty_true: (15735, 1)\n",
      "y_pred: (15735, 1)\ty_score: (15735, 1)\ty_true: (15735, 1)\n",
      "y_pred: (15735, 1)\ty_score: (15735, 1)\ty_true: (15735, 1)\n",
      "y_pred: (15735, 1)\ty_score: (15735, 1)\ty_true: (15735, 1)\n",
      "y_pred: (15735, 1)\ty_score: (15735, 1)\ty_true: (15735, 1)\n",
      "y_pred: (15735, 1)\ty_score: (15735, 1)\ty_true: (15735, 1)\n",
      "y_pred: (15735, 1)\ty_score: (15735, 1)\ty_true: (15735, 1)\n",
      "y_pred: (15735, 1)\ty_score: (15735, 1)\ty_true: (15735, 1)\n",
      "y_pred: (15735, 1)\ty_score: (15735, 1)\ty_true: (15735, 1)\n"
     ]
    },
    {
     "name": "stderr",
     "output_type": "stream",
     "text": [
      "\n",
      " 60%|██████    | 9/15 [01:56<01:22, 13.80s/it]\u001b[A"
     ]
    },
    {
     "name": "stdout",
     "output_type": "stream",
     "text": [
      "y_pred: (15735, 1)\ty_score: (15735, 1)\ty_true: (15735, 1)\n",
      "MTORC1 /p/vast1/jones289/hd_results/5/molehd-bpe.lit-pcba-MTORC1-random.5.pkl molehd-bpe\n",
      "y_pred: (8268, 1)\ty_score: (8268, 1)\ty_true: (8268, 1)\n",
      "y_pred: (8268, 1)\ty_score: (8268, 1)\ty_true: (8268, 1)\n",
      "y_pred: (8268, 1)\ty_score: (8268, 1)\ty_true: (8268, 1)\n",
      "y_pred: (8268, 1)\ty_score: (8268, 1)\ty_true: (8268, 1)\n",
      "y_pred: (8268, 1)\ty_score: (8268, 1)\ty_true: (8268, 1)\n",
      "y_pred: (8268, 1)\ty_score: (8268, 1)\ty_true: (8268, 1)\n",
      "y_pred: (8268, 1)\ty_score: (8268, 1)\ty_true: (8268, 1)\n",
      "y_pred: (8268, 1)\ty_score: (8268, 1)\ty_true: (8268, 1)\n",
      "y_pred: (8268, 1)\ty_score: (8268, 1)\ty_true: (8268, 1)\n",
      "y_pred: (8268, 1)\ty_score: (8268, 1)\ty_true: (8268, 1)\n",
      "y_pred: (8268, 1)\ty_score: (8268, 1)\ty_true: (8268, 1)\n",
      "y_pred: (8268, 1)\ty_score: (8268, 1)\ty_true: (8268, 1)\n",
      "y_pred: (8268, 1)\ty_score: (8268, 1)\ty_true: (8268, 1)\n",
      "y_pred: (8268, 1)\ty_score: (8268, 1)\ty_true: (8268, 1)\n",
      "y_pred: (8268, 1)\ty_score: (8268, 1)\ty_true: (8268, 1)\n",
      "y_pred: (8268, 1)\ty_score: (8268, 1)\ty_true: (8268, 1)\n",
      "y_pred: (8268, 1)\ty_score: (8268, 1)\ty_true: (8268, 1)\n",
      "y_pred: (8268, 1)\ty_score: (8268, 1)\ty_true: (8268, 1)\n",
      "y_pred: (8268, 1)\ty_score: (8268, 1)\ty_true: (8268, 1)\n",
      "y_pred: (8268, 1)\ty_score: (8268, 1)\ty_true: (8268, 1)\n"
     ]
    },
    {
     "name": "stderr",
     "output_type": "stream",
     "text": [
      "\n",
      " 67%|██████▋   | 10/15 [01:58<00:50, 10.10s/it]\u001b[A"
     ]
    },
    {
     "name": "stdout",
     "output_type": "stream",
     "text": [
      "OPRK1 /p/vast1/jones289/hd_results/5/molehd-bpe.lit-pcba-OPRK1-random.5.pkl molehd-bpe\n",
      "y_pred: (67460, 1)\ty_score: (67460, 1)\ty_true: (67460, 1)\n",
      "y_pred: (67460, 1)\ty_score: (67460, 1)\ty_true: (67460, 1)\n",
      "y_pred: (67460, 1)\ty_score: (67460, 1)\ty_true: (67460, 1)\n",
      "y_pred: (67460, 1)\ty_score: (67460, 1)\ty_true: (67460, 1)\n",
      "y_pred: (67460, 1)\ty_score: (67460, 1)\ty_true: (67460, 1)\n",
      "y_pred: (67460, 1)\ty_score: (67460, 1)\ty_true: (67460, 1)\n",
      "y_pred: (67460, 1)\ty_score: (67460, 1)\ty_true: (67460, 1)\n",
      "y_pred: (67460, 1)\ty_score: (67460, 1)\ty_true: (67460, 1)\n",
      "y_pred: (67460, 1)\ty_score: (67460, 1)\ty_true: (67460, 1)\n",
      "y_pred: (67460, 1)\ty_score: (67460, 1)\ty_true: (67460, 1)\n",
      "y_pred: (67460, 1)\ty_score: (67460, 1)\ty_true: (67460, 1)\n",
      "y_pred: (67460, 1)\ty_score: (67460, 1)\ty_true: (67460, 1)\n",
      "y_pred: (67460, 1)\ty_score: (67460, 1)\ty_true: (67460, 1)\n",
      "y_pred: (67460, 1)\ty_score: (67460, 1)\ty_true: (67460, 1)\n",
      "y_pred: (67460, 1)\ty_score: (67460, 1)\ty_true: (67460, 1)\n",
      "y_pred: (67460, 1)\ty_score: (67460, 1)\ty_true: (67460, 1)\n",
      "y_pred: (67460, 1)\ty_score: (67460, 1)\ty_true: (67460, 1)\n",
      "y_pred: (67460, 1)\ty_score: (67460, 1)\ty_true: (67460, 1)\n",
      "y_pred: (67460, 1)\ty_score: (67460, 1)\ty_true: (67460, 1)\n",
      "y_pred: (67460, 1)\ty_score: (67460, 1)\ty_true: (67460, 1)\n"
     ]
    },
    {
     "name": "stderr",
     "output_type": "stream",
     "text": [
      "\n",
      " 73%|███████▎  | 11/15 [02:15<00:49, 12.34s/it]\u001b[A"
     ]
    },
    {
     "name": "stdout",
     "output_type": "stream",
     "text": [
      "PKM2 /p/vast1/jones289/hd_results/5/molehd-bpe.lit-pcba-PKM2-random.5.pkl molehd-bpe\n",
      "y_pred: (61518, 1)\ty_score: (61518, 1)\ty_true: (61518, 1)\n",
      "y_pred: (61518, 1)\ty_score: (61518, 1)\ty_true: (61518, 1)\n",
      "y_pred: (61518, 1)\ty_score: (61518, 1)\ty_true: (61518, 1)\n",
      "y_pred: (61518, 1)\ty_score: (61518, 1)\ty_true: (61518, 1)\n",
      "y_pred: (61518, 1)\ty_score: (61518, 1)\ty_true: (61518, 1)\n",
      "y_pred: (61518, 1)\ty_score: (61518, 1)\ty_true: (61518, 1)\n",
      "y_pred: (61518, 1)\ty_score: (61518, 1)\ty_true: (61518, 1)\n",
      "y_pred: (61518, 1)\ty_score: (61518, 1)\ty_true: (61518, 1)\n",
      "y_pred: (61518, 1)\ty_score: (61518, 1)\ty_true: (61518, 1)\n",
      "y_pred: (61518, 1)\ty_score: (61518, 1)\ty_true: (61518, 1)\n",
      "y_pred: (61518, 1)\ty_score: (61518, 1)\ty_true: (61518, 1)\n",
      "y_pred: (61518, 1)\ty_score: (61518, 1)\ty_true: (61518, 1)\n",
      "y_pred: (61518, 1)\ty_score: (61518, 1)\ty_true: (61518, 1)\n",
      "y_pred: (61518, 1)\ty_score: (61518, 1)\ty_true: (61518, 1)\n",
      "y_pred: (61518, 1)\ty_score: (61518, 1)\ty_true: (61518, 1)\n",
      "y_pred: (61518, 1)\ty_score: (61518, 1)\ty_true: (61518, 1)\n",
      "y_pred: (61518, 1)\ty_score: (61518, 1)\ty_true: (61518, 1)\n",
      "y_pred: (61518, 1)\ty_score: (61518, 1)\ty_true: (61518, 1)\n",
      "y_pred: (61518, 1)\ty_score: (61518, 1)\ty_true: (61518, 1)\n",
      "y_pred: (61518, 1)\ty_score: (61518, 1)\ty_true: (61518, 1)\n"
     ]
    },
    {
     "name": "stderr",
     "output_type": "stream",
     "text": [
      "\n",
      " 80%|████████  | 12/15 [02:31<00:40, 13.34s/it]\u001b[A"
     ]
    },
    {
     "name": "stdout",
     "output_type": "stream",
     "text": [
      "PPARG /p/vast1/jones289/hd_results/5/molehd-bpe.lit-pcba-PPARG-random.5.pkl molehd-bpe\n",
      "y_pred: (1310, 1)\ty_score: (1310, 1)\ty_true: (1310, 1)\n",
      "y_pred: (1310, 1)\ty_score: (1310, 1)\ty_true: (1310, 1)\n",
      "y_pred: (1310, 1)\ty_score: (1310, 1)\ty_true: (1310, 1)\n",
      "y_pred: (1310, 1)\ty_score: (1310, 1)\ty_true: (1310, 1)\n",
      "y_pred: (1310, 1)\ty_score: (1310, 1)\ty_true: (1310, 1)\n",
      "y_pred: (1310, 1)\ty_score: (1310, 1)\ty_true: (1310, 1)\n",
      "y_pred: (1310, 1)\ty_score: (1310, 1)\ty_true: (1310, 1)\n",
      "y_pred: (1310, 1)\ty_score: (1310, 1)\ty_true: (1310, 1)\n",
      "y_pred: (1310, 1)\ty_score: (1310, 1)\ty_true: (1310, 1)\n",
      "y_pred: (1310, 1)\ty_score: (1310, 1)\ty_true: (1310, 1)\n",
      "y_pred: (1310, 1)\ty_score: (1310, 1)\ty_true: (1310, 1)\n",
      "y_pred: (1310, 1)\ty_score: (1310, 1)\ty_true: (1310, 1)\n"
     ]
    },
    {
     "name": "stderr",
     "output_type": "stream",
     "text": [
      "\n",
      " 87%|████████▋ | 13/15 [02:31<00:18,  9.40s/it]\u001b[A"
     ]
    },
    {
     "name": "stdout",
     "output_type": "stream",
     "text": [
      "y_pred: (1310, 1)\ty_score: (1310, 1)\ty_true: (1310, 1)\n",
      "y_pred: (1310, 1)\ty_score: (1310, 1)\ty_true: (1310, 1)\n",
      "y_pred: (1310, 1)\ty_score: (1310, 1)\ty_true: (1310, 1)\n",
      "y_pred: (1310, 1)\ty_score: (1310, 1)\ty_true: (1310, 1)\n",
      "y_pred: (1310, 1)\ty_score: (1310, 1)\ty_true: (1310, 1)\n",
      "y_pred: (1310, 1)\ty_score: (1310, 1)\ty_true: (1310, 1)\n",
      "y_pred: (1310, 1)\ty_score: (1310, 1)\ty_true: (1310, 1)\n",
      "y_pred: (1310, 1)\ty_score: (1310, 1)\ty_true: (1310, 1)\n",
      "TP53 /p/vast1/jones289/hd_results/5/molehd-bpe.lit-pcba-TP53-random.5.pkl molehd-bpe\n",
      "y_pred: (1062, 1)\ty_score: (1062, 1)\ty_true: (1062, 1)\n",
      "y_pred: (1062, 1)\ty_score: (1062, 1)\ty_true: (1062, 1)\n",
      "y_pred: (1062, 1)\ty_score: (1062, 1)\ty_true: (1062, 1)\n",
      "y_pred: (1062, 1)\ty_score: (1062, 1)\ty_true: (1062, 1)\n",
      "y_pred: (1062, 1)\ty_score: (1062, 1)\ty_true: (1062, 1)\n",
      "y_pred: (1062, 1)\ty_score: (1062, 1)\ty_true: (1062, 1)\n"
     ]
    },
    {
     "name": "stderr",
     "output_type": "stream",
     "text": [
      "\n",
      " 93%|█████████▎| 14/15 [02:32<00:06,  6.64s/it]\u001b[A"
     ]
    },
    {
     "name": "stdout",
     "output_type": "stream",
     "text": [
      "y_pred: (1062, 1)\ty_score: (1062, 1)\ty_true: (1062, 1)\n",
      "y_pred: (1062, 1)\ty_score: (1062, 1)\ty_true: (1062, 1)\n",
      "y_pred: (1062, 1)\ty_score: (1062, 1)\ty_true: (1062, 1)\n",
      "y_pred: (1062, 1)\ty_score: (1062, 1)\ty_true: (1062, 1)\n",
      "y_pred: (1062, 1)\ty_score: (1062, 1)\ty_true: (1062, 1)\n",
      "y_pred: (1062, 1)\ty_score: (1062, 1)\ty_true: (1062, 1)\n",
      "y_pred: (1062, 1)\ty_score: (1062, 1)\ty_true: (1062, 1)\n",
      "y_pred: (1062, 1)\ty_score: (1062, 1)\ty_true: (1062, 1)\n",
      "y_pred: (1062, 1)\ty_score: (1062, 1)\ty_true: (1062, 1)\n",
      "y_pred: (1062, 1)\ty_score: (1062, 1)\ty_true: (1062, 1)\n",
      "y_pred: (1062, 1)\ty_score: (1062, 1)\ty_true: (1062, 1)\n",
      "y_pred: (1062, 1)\ty_score: (1062, 1)\ty_true: (1062, 1)\n",
      "y_pred: (1062, 1)\ty_score: (1062, 1)\ty_true: (1062, 1)\n",
      "y_pred: (1062, 1)\ty_score: (1062, 1)\ty_true: (1062, 1)\n",
      "VDR /p/vast1/jones289/hd_results/5/molehd-bpe.lit-pcba-VDR-random.5.pkl molehd-bpe\n",
      "y_pred: (66801, 1)\ty_score: (66801, 1)\ty_true: (66801, 1)\n",
      "y_pred: (66801, 1)\ty_score: (66801, 1)\ty_true: (66801, 1)\n",
      "y_pred: (66801, 1)\ty_score: (66801, 1)\ty_true: (66801, 1)\n",
      "y_pred: (66801, 1)\ty_score: (66801, 1)\ty_true: (66801, 1)\n",
      "y_pred: (66801, 1)\ty_score: (66801, 1)\ty_true: (66801, 1)\n",
      "y_pred: (66801, 1)\ty_score: (66801, 1)\ty_true: (66801, 1)\n",
      "y_pred: (66801, 1)\ty_score: (66801, 1)\ty_true: (66801, 1)\n",
      "y_pred: (66801, 1)\ty_score: (66801, 1)\ty_true: (66801, 1)\n",
      "y_pred: (66801, 1)\ty_score: (66801, 1)\ty_true: (66801, 1)\n",
      "y_pred: (66801, 1)\ty_score: (66801, 1)\ty_true: (66801, 1)\n",
      "y_pred: (66801, 1)\ty_score: (66801, 1)\ty_true: (66801, 1)\n",
      "y_pred: (66801, 1)\ty_score: (66801, 1)\ty_true: (66801, 1)\n",
      "y_pred: (66801, 1)\ty_score: (66801, 1)\ty_true: (66801, 1)\n",
      "y_pred: (66801, 1)\ty_score: (66801, 1)\ty_true: (66801, 1)\n",
      "y_pred: (66801, 1)\ty_score: (66801, 1)\ty_true: (66801, 1)\n",
      "y_pred: (66801, 1)\ty_score: (66801, 1)\ty_true: (66801, 1)\n",
      "y_pred: (66801, 1)\ty_score: (66801, 1)\ty_true: (66801, 1)\n",
      "y_pred: (66801, 1)\ty_score: (66801, 1)\ty_true: (66801, 1)\n",
      "y_pred: (66801, 1)\ty_score: (66801, 1)\ty_true: (66801, 1)\n",
      "y_pred: (66801, 1)\ty_score: (66801, 1)\ty_true: (66801, 1)\n"
     ]
    },
    {
     "name": "stderr",
     "output_type": "stream",
     "text": [
      "\n",
      "100%|██████████| 15/15 [02:49<00:00, 11.32s/it]\u001b[A\n",
      " 11%|█         | 1/9 [02:49<22:38, 169.77s/it]\n",
      "  0%|          | 0/15 [00:00<?, ?it/s]\u001b[A"
     ]
    },
    {
     "name": "stdout",
     "output_type": "stream",
     "text": [
      "ADRB2 /p/vast1/jones289/hd_results/5/hdbind-rp-ecfp-1024-1.lit-pcba-ADRB2-random.5.pkl hdbind-rp-ecfp-1024-1\n",
      "y_pred: (78125, 1)\ty_score: (78125, 1)\ty_true: (78125, 1)\n",
      "y_pred: (78125, 1)\ty_score: (78125, 1)\ty_true: (78125, 1)\n",
      "y_pred: (78125, 1)\ty_score: (78125, 1)\ty_true: (78125, 1)\n",
      "y_pred: (78125, 1)\ty_score: (78125, 1)\ty_true: (78125, 1)\n",
      "y_pred: (78125, 1)\ty_score: (78125, 1)\ty_true: (78125, 1)\n",
      "y_pred: (78125, 1)\ty_score: (78125, 1)\ty_true: (78125, 1)\n",
      "y_pred: (78125, 1)\ty_score: (78125, 1)\ty_true: (78125, 1)\n",
      "y_pred: (78125, 1)\ty_score: (78125, 1)\ty_true: (78125, 1)\n",
      "y_pred: (78125, 1)\ty_score: (78125, 1)\ty_true: (78125, 1)\n",
      "y_pred: (78125, 1)\ty_score: (78125, 1)\ty_true: (78125, 1)\n",
      "y_pred: (78125, 1)\ty_score: (78125, 1)\ty_true: (78125, 1)\n",
      "y_pred: (78125, 1)\ty_score: (78125, 1)\ty_true: (78125, 1)\n",
      "y_pred: (78125, 1)\ty_score: (78125, 1)\ty_true: (78125, 1)\n",
      "y_pred: (78125, 1)\ty_score: (78125, 1)\ty_true: (78125, 1)\n",
      "y_pred: (78125, 1)\ty_score: (78125, 1)\ty_true: (78125, 1)\n",
      "y_pred: (78125, 1)\ty_score: (78125, 1)\ty_true: (78125, 1)\n",
      "y_pred: (78125, 1)\ty_score: (78125, 1)\ty_true: (78125, 1)\n",
      "y_pred: (78125, 1)\ty_score: (78125, 1)\ty_true: (78125, 1)\n",
      "y_pred: (78125, 1)\ty_score: (78125, 1)\ty_true: (78125, 1)\n",
      "y_pred: (78125, 1)\ty_score: (78125, 1)\ty_true: (78125, 1)\n"
     ]
    },
    {
     "name": "stderr",
     "output_type": "stream",
     "text": [
      "\n",
      "  7%|▋         | 1/15 [00:20<04:45, 20.36s/it]\u001b[A"
     ]
    },
    {
     "name": "stdout",
     "output_type": "stream",
     "text": [
      "ALDH1 /p/vast1/jones289/hd_results/5/hdbind-rp-ecfp-1024-1.lit-pcba-ALDH1-random.5.pkl hdbind-rp-ecfp-1024-1\n",
      "y_pred: (27213, 1)\ty_score: (27213, 1)\ty_true: (27213, 1)\n",
      "y_pred: (27213, 1)\ty_score: (27213, 1)\ty_true: (27213, 1)\n",
      "y_pred: (27213, 1)\ty_score: (27213, 1)\ty_true: (27213, 1)\n",
      "y_pred: (27213, 1)\ty_score: (27213, 1)\ty_true: (27213, 1)\n",
      "y_pred: (27213, 1)\ty_score: (27213, 1)\ty_true: (27213, 1)\n",
      "y_pred: (27213, 1)\ty_score: (27213, 1)\ty_true: (27213, 1)\n",
      "y_pred: (27213, 1)\ty_score: (27213, 1)\ty_true: (27213, 1)\n",
      "y_pred: (27213, 1)\ty_score: (27213, 1)\ty_true: (27213, 1)\n",
      "y_pred: (27213, 1)\ty_score: (27213, 1)\ty_true: (27213, 1)\n",
      "y_pred: (27213, 1)\ty_score: (27213, 1)\ty_true: (27213, 1)\n",
      "y_pred: (27213, 1)\ty_score: (27213, 1)\ty_true: (27213, 1)\n",
      "y_pred: (27213, 1)\ty_score: (27213, 1)\ty_true: (27213, 1)\n",
      "y_pred: (27213, 1)\ty_score: (27213, 1)\ty_true: (27213, 1)\n",
      "y_pred: (27213, 1)\ty_score: (27213, 1)\ty_true: (27213, 1)\n",
      "y_pred: (27213, 1)\ty_score: (27213, 1)\ty_true: (27213, 1)\n",
      "y_pred: (27213, 1)\ty_score: (27213, 1)\ty_true: (27213, 1)\n",
      "y_pred: (27213, 1)\ty_score: (27213, 1)\ty_true: (27213, 1)\n",
      "y_pred: (27213, 1)\ty_score: (27213, 1)\ty_true: (27213, 1)\n",
      "y_pred: (27213, 1)\ty_score: (27213, 1)\ty_true: (27213, 1)\n",
      "y_pred: (27213, 1)\ty_score: (27213, 1)\ty_true: (27213, 1)\n"
     ]
    },
    {
     "name": "stderr",
     "output_type": "stream",
     "text": [
      "\n",
      " 13%|█▎        | 2/15 [00:26<02:37, 12.08s/it]\u001b[A"
     ]
    },
    {
     "name": "stdout",
     "output_type": "stream",
     "text": [
      "ESR1_ago /p/vast1/jones289/hd_results/5/hdbind-rp-ecfp-1024-1.lit-pcba-ESR1_ago-random.5.pkl hdbind-rp-ecfp-1024-1\n",
      "y_pred: (1399, 1)\ty_score: (1399, 1)\ty_true: (1399, 1)\n",
      "y_pred: (1399, 1)\ty_score: (1399, 1)\ty_true: (1399, 1)\n",
      "y_pred: (1399, 1)\ty_score: (1399, 1)\ty_true: (1399, 1)\n",
      "y_pred: (1399, 1)\ty_score: (1399, 1)\ty_true: (1399, 1)\n",
      "y_pred: (1399, 1)\ty_score: (1399, 1)\ty_true: (1399, 1)\n",
      "y_pred: (1399, 1)\ty_score: (1399, 1)\ty_true: (1399, 1)\n",
      "y_pred: (1399, 1)\ty_score: (1399, 1)\ty_true: (1399, 1)\n",
      "y_pred: (1399, 1)\ty_score: (1399, 1)\ty_true: (1399, 1)\n",
      "y_pred: (1399, 1)\ty_score: (1399, 1)\ty_true: (1399, 1)\n",
      "y_pred: (1399, 1)\ty_score: (1399, 1)\ty_true: (1399, 1)\n",
      "y_pred: (1399, 1)\ty_score: (1399, 1)\ty_true: (1399, 1)\n",
      "y_pred: (1399, 1)\ty_score: (1399, 1)\ty_true: (1399, 1)\n"
     ]
    },
    {
     "name": "stderr",
     "output_type": "stream",
     "text": [
      "\n",
      " 20%|██        | 3/15 [00:26<01:20,  6.72s/it]\u001b[A"
     ]
    },
    {
     "name": "stdout",
     "output_type": "stream",
     "text": [
      "y_pred: (1399, 1)\ty_score: (1399, 1)\ty_true: (1399, 1)\n",
      "y_pred: (1399, 1)\ty_score: (1399, 1)\ty_true: (1399, 1)\n",
      "y_pred: (1399, 1)\ty_score: (1399, 1)\ty_true: (1399, 1)\n",
      "y_pred: (1399, 1)\ty_score: (1399, 1)\ty_true: (1399, 1)\n",
      "y_pred: (1399, 1)\ty_score: (1399, 1)\ty_true: (1399, 1)\n",
      "y_pred: (1399, 1)\ty_score: (1399, 1)\ty_true: (1399, 1)\n",
      "y_pred: (1399, 1)\ty_score: (1399, 1)\ty_true: (1399, 1)\n",
      "y_pred: (1399, 1)\ty_score: (1399, 1)\ty_true: (1399, 1)\n",
      "ESR1_ant /p/vast1/jones289/hd_results/5/hdbind-rp-ecfp-1024-1.lit-pcba-ESR1_ant-random.5.pkl hdbind-rp-ecfp-1024-1\n",
      "y_pred: (1263, 1)\ty_score: (1263, 1)\ty_true: (1263, 1)\n",
      "y_pred: (1263, 1)\ty_score: (1263, 1)\ty_true: (1263, 1)\n",
      "y_pred: (1263, 1)\ty_score: (1263, 1)\ty_true: (1263, 1)\n",
      "y_pred: (1263, 1)\ty_score: (1263, 1)\ty_true: (1263, 1)\n",
      "y_pred: (1263, 1)\ty_score: (1263, 1)\ty_true: (1263, 1)\n",
      "y_pred: (1263, 1)\ty_score: (1263, 1)\ty_true: (1263, 1)\n",
      "y_pred: (1263, 1)\ty_score: (1263, 1)\ty_true: (1263, 1)\n",
      "y_pred: (1263, 1)\ty_score: (1263, 1)\ty_true: (1263, 1)\n",
      "y_pred: (1263, 1)\ty_score: (1263, 1)\ty_true: (1263, 1)\n",
      "y_pred: (1263, 1)\ty_score: (1263, 1)\ty_true: (1263, 1)\n",
      "y_pred: (1263, 1)\ty_score: (1263, 1)\ty_true: (1263, 1)\n",
      "y_pred: (1263, 1)\ty_score: (1263, 1)\ty_true: (1263, 1)\n",
      "y_pred: (1263, 1)\ty_score: (1263, 1)\ty_true: (1263, 1)\n",
      "y_pred: (1263, 1)\ty_score: (1263, 1)\ty_true: (1263, 1)\n",
      "y_pred: (1263, 1)\ty_score: (1263, 1)\ty_true: (1263, 1)\n",
      "y_pred: (1263, 1)\ty_score: (1263, 1)\ty_true: (1263, 1)\n",
      "y_pred: (1263, 1)\ty_score: (1263, 1)\ty_true: (1263, 1)\n",
      "y_pred: (1263, 1)\ty_score: (1263, 1)\ty_true: (1263, 1)\n",
      "y_pred: (1263, 1)\ty_score: (1263, 1)\ty_true: (1263, 1)\n",
      "y_pred: (1263, 1)\ty_score: (1263, 1)\ty_true: (1263, 1)\n"
     ]
    },
    {
     "name": "stderr",
     "output_type": "stream",
     "text": [
      "\n",
      " 27%|██▋       | 4/15 [00:27<00:46,  4.19s/it]\u001b[A"
     ]
    },
    {
     "name": "stdout",
     "output_type": "stream",
     "text": [
      "FEN1 /p/vast1/jones289/hd_results/5/hdbind-rp-ecfp-1024-1.lit-pcba-FEN1-random.5.pkl hdbind-rp-ecfp-1024-1\n",
      "y_pred: (88943, 1)\ty_score: (88943, 1)\ty_true: (88943, 1)\n",
      "y_pred: (88943, 1)\ty_score: (88943, 1)\ty_true: (88943, 1)\n",
      "y_pred: (88943, 1)\ty_score: (88943, 1)\ty_true: (88943, 1)\n",
      "y_pred: (88943, 1)\ty_score: (88943, 1)\ty_true: (88943, 1)\n",
      "y_pred: (88943, 1)\ty_score: (88943, 1)\ty_true: (88943, 1)\n",
      "y_pred: (88943, 1)\ty_score: (88943, 1)\ty_true: (88943, 1)\n",
      "y_pred: (88943, 1)\ty_score: (88943, 1)\ty_true: (88943, 1)\n",
      "y_pred: (88943, 1)\ty_score: (88943, 1)\ty_true: (88943, 1)\n",
      "y_pred: (88943, 1)\ty_score: (88943, 1)\ty_true: (88943, 1)\n",
      "y_pred: (88943, 1)\ty_score: (88943, 1)\ty_true: (88943, 1)\n",
      "y_pred: (88943, 1)\ty_score: (88943, 1)\ty_true: (88943, 1)\n",
      "y_pred: (88943, 1)\ty_score: (88943, 1)\ty_true: (88943, 1)\n",
      "y_pred: (88943, 1)\ty_score: (88943, 1)\ty_true: (88943, 1)\n",
      "y_pred: (88943, 1)\ty_score: (88943, 1)\ty_true: (88943, 1)\n",
      "y_pred: (88943, 1)\ty_score: (88943, 1)\ty_true: (88943, 1)\n",
      "y_pred: (88943, 1)\ty_score: (88943, 1)\ty_true: (88943, 1)\n",
      "y_pred: (88943, 1)\ty_score: (88943, 1)\ty_true: (88943, 1)\n",
      "y_pred: (88943, 1)\ty_score: (88943, 1)\ty_true: (88943, 1)\n",
      "y_pred: (88943, 1)\ty_score: (88943, 1)\ty_true: (88943, 1)\n",
      "y_pred: (88943, 1)\ty_score: (88943, 1)\ty_true: (88943, 1)\n"
     ]
    },
    {
     "name": "stderr",
     "output_type": "stream",
     "text": [
      "\n",
      " 33%|███▎      | 5/15 [00:50<01:49, 10.91s/it]\u001b[A"
     ]
    },
    {
     "name": "stdout",
     "output_type": "stream",
     "text": [
      "GBA /p/vast1/jones289/hd_results/5/hdbind-rp-ecfp-1024-1.lit-pcba-GBA-random.5.pkl hdbind-rp-ecfp-1024-1\n",
      "y_pred: (74055, 1)\ty_score: (74055, 1)\ty_true: (74055, 1)\n",
      "y_pred: (74055, 1)\ty_score: (74055, 1)\ty_true: (74055, 1)\n",
      "y_pred: (74055, 1)\ty_score: (74055, 1)\ty_true: (74055, 1)\n",
      "y_pred: (74055, 1)\ty_score: (74055, 1)\ty_true: (74055, 1)\n",
      "y_pred: (74055, 1)\ty_score: (74055, 1)\ty_true: (74055, 1)\n",
      "y_pred: (74055, 1)\ty_score: (74055, 1)\ty_true: (74055, 1)\n",
      "y_pred: (74055, 1)\ty_score: (74055, 1)\ty_true: (74055, 1)\n",
      "y_pred: (74055, 1)\ty_score: (74055, 1)\ty_true: (74055, 1)\n",
      "y_pred: (74055, 1)\ty_score: (74055, 1)\ty_true: (74055, 1)\n",
      "y_pred: (74055, 1)\ty_score: (74055, 1)\ty_true: (74055, 1)\n",
      "y_pred: (74055, 1)\ty_score: (74055, 1)\ty_true: (74055, 1)\n",
      "y_pred: (74055, 1)\ty_score: (74055, 1)\ty_true: (74055, 1)\n",
      "y_pred: (74055, 1)\ty_score: (74055, 1)\ty_true: (74055, 1)\n",
      "y_pred: (74055, 1)\ty_score: (74055, 1)\ty_true: (74055, 1)\n",
      "y_pred: (74055, 1)\ty_score: (74055, 1)\ty_true: (74055, 1)\n",
      "y_pred: (74055, 1)\ty_score: (74055, 1)\ty_true: (74055, 1)\n",
      "y_pred: (74055, 1)\ty_score: (74055, 1)\ty_true: (74055, 1)\n",
      "y_pred: (74055, 1)\ty_score: (74055, 1)\ty_true: (74055, 1)\n",
      "y_pred: (74055, 1)\ty_score: (74055, 1)\ty_true: (74055, 1)\n",
      "y_pred: (74055, 1)\ty_score: (74055, 1)\ty_true: (74055, 1)\n"
     ]
    },
    {
     "name": "stderr",
     "output_type": "stream",
     "text": [
      "\n",
      " 40%|████      | 6/15 [01:09<02:03, 13.70s/it]\u001b[A"
     ]
    },
    {
     "name": "stdout",
     "output_type": "stream",
     "text": [
      "IDH1 /p/vast1/jones289/hd_results/5/hdbind-rp-ecfp-1024-1.lit-pcba-IDH1-random.5.pkl hdbind-rp-ecfp-1024-1\n",
      "y_pred: (90522, 1)\ty_score: (90522, 1)\ty_true: (90522, 1)\n",
      "y_pred: (90522, 1)\ty_score: (90522, 1)\ty_true: (90522, 1)\n",
      "y_pred: (90522, 1)\ty_score: (90522, 1)\ty_true: (90522, 1)\n",
      "y_pred: (90522, 1)\ty_score: (90522, 1)\ty_true: (90522, 1)\n",
      "y_pred: (90522, 1)\ty_score: (90522, 1)\ty_true: (90522, 1)\n",
      "y_pred: (90522, 1)\ty_score: (90522, 1)\ty_true: (90522, 1)\n",
      "y_pred: (90522, 1)\ty_score: (90522, 1)\ty_true: (90522, 1)\n",
      "y_pred: (90522, 1)\ty_score: (90522, 1)\ty_true: (90522, 1)\n",
      "y_pred: (90522, 1)\ty_score: (90522, 1)\ty_true: (90522, 1)\n",
      "y_pred: (90522, 1)\ty_score: (90522, 1)\ty_true: (90522, 1)\n",
      "y_pred: (90522, 1)\ty_score: (90522, 1)\ty_true: (90522, 1)\n",
      "y_pred: (90522, 1)\ty_score: (90522, 1)\ty_true: (90522, 1)\n",
      "y_pred: (90522, 1)\ty_score: (90522, 1)\ty_true: (90522, 1)\n",
      "y_pred: (90522, 1)\ty_score: (90522, 1)\ty_true: (90522, 1)\n",
      "y_pred: (90522, 1)\ty_score: (90522, 1)\ty_true: (90522, 1)\n",
      "y_pred: (90522, 1)\ty_score: (90522, 1)\ty_true: (90522, 1)\n",
      "y_pred: (90522, 1)\ty_score: (90522, 1)\ty_true: (90522, 1)\n",
      "y_pred: (90522, 1)\ty_score: (90522, 1)\ty_true: (90522, 1)\n",
      "y_pred: (90522, 1)\ty_score: (90522, 1)\ty_true: (90522, 1)\n",
      "y_pred: (90522, 1)\ty_score: (90522, 1)\ty_true: (90522, 1)\n"
     ]
    },
    {
     "name": "stderr",
     "output_type": "stream",
     "text": [
      "\n",
      " 47%|████▋     | 7/15 [01:32<02:15, 16.98s/it]\u001b[A"
     ]
    },
    {
     "name": "stdout",
     "output_type": "stream",
     "text": [
      "KAT2A /p/vast1/jones289/hd_results/5/hdbind-rp-ecfp-1024-1.lit-pcba-KAT2A-random.5.pkl hdbind-rp-ecfp-1024-1\n",
      "y_pred: (87186, 1)\ty_score: (87186, 1)\ty_true: (87186, 1)\n",
      "y_pred: (87186, 1)\ty_score: (87186, 1)\ty_true: (87186, 1)\n",
      "y_pred: (87186, 1)\ty_score: (87186, 1)\ty_true: (87186, 1)\n",
      "y_pred: (87186, 1)\ty_score: (87186, 1)\ty_true: (87186, 1)\n",
      "y_pred: (87186, 1)\ty_score: (87186, 1)\ty_true: (87186, 1)\n",
      "y_pred: (87186, 1)\ty_score: (87186, 1)\ty_true: (87186, 1)\n",
      "y_pred: (87186, 1)\ty_score: (87186, 1)\ty_true: (87186, 1)\n",
      "y_pred: (87186, 1)\ty_score: (87186, 1)\ty_true: (87186, 1)\n",
      "y_pred: (87186, 1)\ty_score: (87186, 1)\ty_true: (87186, 1)\n",
      "y_pred: (87186, 1)\ty_score: (87186, 1)\ty_true: (87186, 1)\n",
      "y_pred: (87186, 1)\ty_score: (87186, 1)\ty_true: (87186, 1)\n",
      "y_pred: (87186, 1)\ty_score: (87186, 1)\ty_true: (87186, 1)\n",
      "y_pred: (87186, 1)\ty_score: (87186, 1)\ty_true: (87186, 1)\n",
      "y_pred: (87186, 1)\ty_score: (87186, 1)\ty_true: (87186, 1)\n",
      "y_pred: (87186, 1)\ty_score: (87186, 1)\ty_true: (87186, 1)\n",
      "y_pred: (87186, 1)\ty_score: (87186, 1)\ty_true: (87186, 1)\n",
      "y_pred: (87186, 1)\ty_score: (87186, 1)\ty_true: (87186, 1)\n",
      "y_pred: (87186, 1)\ty_score: (87186, 1)\ty_true: (87186, 1)\n",
      "y_pred: (87186, 1)\ty_score: (87186, 1)\ty_true: (87186, 1)\n",
      "y_pred: (87186, 1)\ty_score: (87186, 1)\ty_true: (87186, 1)\n"
     ]
    },
    {
     "name": "stderr",
     "output_type": "stream",
     "text": [
      "\n",
      " 53%|█████▎    | 8/15 [01:56<02:13, 19.06s/it]\u001b[A"
     ]
    },
    {
     "name": "stdout",
     "output_type": "stream",
     "text": [
      "MAPK1 /p/vast1/jones289/hd_results/5/hdbind-rp-ecfp-1024-1.lit-pcba-MAPK1-random.5.pkl hdbind-rp-ecfp-1024-1\n",
      "y_pred: (15735, 1)\ty_score: (15735, 1)\ty_true: (15735, 1)\n",
      "y_pred: (15735, 1)\ty_score: (15735, 1)\ty_true: (15735, 1)\n",
      "y_pred: (15735, 1)\ty_score: (15735, 1)\ty_true: (15735, 1)\n",
      "y_pred: (15735, 1)\ty_score: (15735, 1)\ty_true: (15735, 1)\n",
      "y_pred: (15735, 1)\ty_score: (15735, 1)\ty_true: (15735, 1)\n",
      "y_pred: (15735, 1)\ty_score: (15735, 1)\ty_true: (15735, 1)\n",
      "y_pred: (15735, 1)\ty_score: (15735, 1)\ty_true: (15735, 1)\n",
      "y_pred: (15735, 1)\ty_score: (15735, 1)\ty_true: (15735, 1)\n",
      "y_pred: (15735, 1)\ty_score: (15735, 1)\ty_true: (15735, 1)\n",
      "y_pred: (15735, 1)\ty_score: (15735, 1)\ty_true: (15735, 1)\n",
      "y_pred: (15735, 1)\ty_score: (15735, 1)\ty_true: (15735, 1)\n",
      "y_pred: (15735, 1)\ty_score: (15735, 1)\ty_true: (15735, 1)\n",
      "y_pred: (15735, 1)\ty_score: (15735, 1)\ty_true: (15735, 1)\n",
      "y_pred: (15735, 1)\ty_score: (15735, 1)\ty_true: (15735, 1)\n",
      "y_pred: (15735, 1)\ty_score: (15735, 1)\ty_true: (15735, 1)\n",
      "y_pred: (15735, 1)\ty_score: (15735, 1)\ty_true: (15735, 1)\n",
      "y_pred: (15735, 1)\ty_score: (15735, 1)\ty_true: (15735, 1)\n",
      "y_pred: (15735, 1)\ty_score: (15735, 1)\ty_true: (15735, 1)\n",
      "y_pred: (15735, 1)\ty_score: (15735, 1)\ty_true: (15735, 1)\n"
     ]
    },
    {
     "name": "stderr",
     "output_type": "stream",
     "text": [
      "\n",
      " 60%|██████    | 9/15 [01:59<01:25, 14.17s/it]\u001b[A"
     ]
    },
    {
     "name": "stdout",
     "output_type": "stream",
     "text": [
      "y_pred: (15735, 1)\ty_score: (15735, 1)\ty_true: (15735, 1)\n",
      "MTORC1 /p/vast1/jones289/hd_results/5/hdbind-rp-ecfp-1024-1.lit-pcba-MTORC1-random.5.pkl hdbind-rp-ecfp-1024-1\n",
      "y_pred: (8268, 1)\ty_score: (8268, 1)\ty_true: (8268, 1)\n",
      "y_pred: (8268, 1)\ty_score: (8268, 1)\ty_true: (8268, 1)\n",
      "y_pred: (8268, 1)\ty_score: (8268, 1)\ty_true: (8268, 1)\n",
      "y_pred: (8268, 1)\ty_score: (8268, 1)\ty_true: (8268, 1)\n",
      "y_pred: (8268, 1)\ty_score: (8268, 1)\ty_true: (8268, 1)\n",
      "y_pred: (8268, 1)\ty_score: (8268, 1)\ty_true: (8268, 1)\n",
      "y_pred: (8268, 1)\ty_score: (8268, 1)\ty_true: (8268, 1)\n",
      "y_pred: (8268, 1)\ty_score: (8268, 1)\ty_true: (8268, 1)\n",
      "y_pred: (8268, 1)\ty_score: (8268, 1)\ty_true: (8268, 1)\n",
      "y_pred: (8268, 1)\ty_score: (8268, 1)\ty_true: (8268, 1)\n",
      "y_pred: (8268, 1)\ty_score: (8268, 1)\ty_true: (8268, 1)\n",
      "y_pred: (8268, 1)\ty_score: (8268, 1)\ty_true: (8268, 1)\n",
      "y_pred: (8268, 1)\ty_score: (8268, 1)\ty_true: (8268, 1)\n",
      "y_pred: (8268, 1)\ty_score: (8268, 1)\ty_true: (8268, 1)\n",
      "y_pred: (8268, 1)\ty_score: (8268, 1)\ty_true: (8268, 1)\n",
      "y_pred: (8268, 1)\ty_score: (8268, 1)\ty_true: (8268, 1)\n",
      "y_pred: (8268, 1)\ty_score: (8268, 1)\ty_true: (8268, 1)\n",
      "y_pred: (8268, 1)\ty_score: (8268, 1)\ty_true: (8268, 1)\n",
      "y_pred: (8268, 1)\ty_score: (8268, 1)\ty_true: (8268, 1)\n",
      "y_pred: (8268, 1)\ty_score: (8268, 1)\ty_true: (8268, 1)\n"
     ]
    },
    {
     "name": "stderr",
     "output_type": "stream",
     "text": [
      "\n",
      " 67%|██████▋   | 10/15 [02:01<00:51, 10.34s/it]\u001b[A"
     ]
    },
    {
     "name": "stdout",
     "output_type": "stream",
     "text": [
      "OPRK1 /p/vast1/jones289/hd_results/5/hdbind-rp-ecfp-1024-1.lit-pcba-OPRK1-random.5.pkl hdbind-rp-ecfp-1024-1\n",
      "y_pred: (67460, 1)\ty_score: (67460, 1)\ty_true: (67460, 1)\n",
      "y_pred: (67460, 1)\ty_score: (67460, 1)\ty_true: (67460, 1)\n",
      "y_pred: (67460, 1)\ty_score: (67460, 1)\ty_true: (67460, 1)\n",
      "y_pred: (67460, 1)\ty_score: (67460, 1)\ty_true: (67460, 1)\n",
      "y_pred: (67460, 1)\ty_score: (67460, 1)\ty_true: (67460, 1)\n",
      "y_pred: (67460, 1)\ty_score: (67460, 1)\ty_true: (67460, 1)\n",
      "y_pred: (67460, 1)\ty_score: (67460, 1)\ty_true: (67460, 1)\n",
      "y_pred: (67460, 1)\ty_score: (67460, 1)\ty_true: (67460, 1)\n",
      "y_pred: (67460, 1)\ty_score: (67460, 1)\ty_true: (67460, 1)\n",
      "y_pred: (67460, 1)\ty_score: (67460, 1)\ty_true: (67460, 1)\n",
      "y_pred: (67460, 1)\ty_score: (67460, 1)\ty_true: (67460, 1)\n",
      "y_pred: (67460, 1)\ty_score: (67460, 1)\ty_true: (67460, 1)\n",
      "y_pred: (67460, 1)\ty_score: (67460, 1)\ty_true: (67460, 1)\n",
      "y_pred: (67460, 1)\ty_score: (67460, 1)\ty_true: (67460, 1)\n",
      "y_pred: (67460, 1)\ty_score: (67460, 1)\ty_true: (67460, 1)\n",
      "y_pred: (67460, 1)\ty_score: (67460, 1)\ty_true: (67460, 1)\n",
      "y_pred: (67460, 1)\ty_score: (67460, 1)\ty_true: (67460, 1)\n",
      "y_pred: (67460, 1)\ty_score: (67460, 1)\ty_true: (67460, 1)\n",
      "y_pred: (67460, 1)\ty_score: (67460, 1)\ty_true: (67460, 1)\n",
      "y_pred: (67460, 1)\ty_score: (67460, 1)\ty_true: (67460, 1)\n"
     ]
    },
    {
     "name": "stderr",
     "output_type": "stream",
     "text": [
      "\n",
      " 73%|███████▎  | 11/15 [02:18<00:49, 12.47s/it]\u001b[A"
     ]
    },
    {
     "name": "stdout",
     "output_type": "stream",
     "text": [
      "PKM2 /p/vast1/jones289/hd_results/5/hdbind-rp-ecfp-1024-1.lit-pcba-PKM2-random.5.pkl hdbind-rp-ecfp-1024-1\n",
      "y_pred: (61518, 1)\ty_score: (61518, 1)\ty_true: (61518, 1)\n",
      "y_pred: (61518, 1)\ty_score: (61518, 1)\ty_true: (61518, 1)\n",
      "y_pred: (61518, 1)\ty_score: (61518, 1)\ty_true: (61518, 1)\n",
      "y_pred: (61518, 1)\ty_score: (61518, 1)\ty_true: (61518, 1)\n",
      "y_pred: (61518, 1)\ty_score: (61518, 1)\ty_true: (61518, 1)\n",
      "y_pred: (61518, 1)\ty_score: (61518, 1)\ty_true: (61518, 1)\n",
      "y_pred: (61518, 1)\ty_score: (61518, 1)\ty_true: (61518, 1)\n",
      "y_pred: (61518, 1)\ty_score: (61518, 1)\ty_true: (61518, 1)\n",
      "y_pred: (61518, 1)\ty_score: (61518, 1)\ty_true: (61518, 1)\n",
      "y_pred: (61518, 1)\ty_score: (61518, 1)\ty_true: (61518, 1)\n",
      "y_pred: (61518, 1)\ty_score: (61518, 1)\ty_true: (61518, 1)\n",
      "y_pred: (61518, 1)\ty_score: (61518, 1)\ty_true: (61518, 1)\n",
      "y_pred: (61518, 1)\ty_score: (61518, 1)\ty_true: (61518, 1)\n",
      "y_pred: (61518, 1)\ty_score: (61518, 1)\ty_true: (61518, 1)\n",
      "y_pred: (61518, 1)\ty_score: (61518, 1)\ty_true: (61518, 1)\n",
      "y_pred: (61518, 1)\ty_score: (61518, 1)\ty_true: (61518, 1)\n",
      "y_pred: (61518, 1)\ty_score: (61518, 1)\ty_true: (61518, 1)\n",
      "y_pred: (61518, 1)\ty_score: (61518, 1)\ty_true: (61518, 1)\n",
      "y_pred: (61518, 1)\ty_score: (61518, 1)\ty_true: (61518, 1)\n",
      "y_pred: (61518, 1)\ty_score: (61518, 1)\ty_true: (61518, 1)\n"
     ]
    },
    {
     "name": "stderr",
     "output_type": "stream",
     "text": [
      "\n",
      " 80%|████████  | 12/15 [02:34<00:40, 13.37s/it]\u001b[A"
     ]
    },
    {
     "name": "stdout",
     "output_type": "stream",
     "text": [
      "PPARG /p/vast1/jones289/hd_results/5/hdbind-rp-ecfp-1024-1.lit-pcba-PPARG-random.5.pkl hdbind-rp-ecfp-1024-1\n",
      "y_pred: (1310, 1)\ty_score: (1310, 1)\ty_true: (1310, 1)\n",
      "y_pred: (1310, 1)\ty_score: (1310, 1)\ty_true: (1310, 1)\n",
      "y_pred: (1310, 1)\ty_score: (1310, 1)\ty_true: (1310, 1)\n",
      "y_pred: (1310, 1)\ty_score: (1310, 1)\ty_true: (1310, 1)\n",
      "y_pred: (1310, 1)\ty_score: (1310, 1)\ty_true: (1310, 1)\n",
      "y_pred: (1310, 1)\ty_score: (1310, 1)\ty_true: (1310, 1)\n",
      "y_pred: (1310, 1)\ty_score: (1310, 1)\ty_true: (1310, 1)\n",
      "y_pred: (1310, 1)\ty_score: (1310, 1)\ty_true: (1310, 1)\n",
      "y_pred: (1310, 1)\ty_score: (1310, 1)\ty_true: (1310, 1)\n",
      "y_pred: (1310, 1)\ty_score: (1310, 1)\ty_true: (1310, 1)\n",
      "y_pred: (1310, 1)\ty_score: (1310, 1)\ty_true: (1310, 1)\n",
      "y_pred: (1310, 1)\ty_score: (1310, 1)\ty_true: (1310, 1)\n"
     ]
    },
    {
     "name": "stderr",
     "output_type": "stream",
     "text": [
      "\n",
      " 87%|████████▋ | 13/15 [02:34<00:18,  9.42s/it]\u001b[A"
     ]
    },
    {
     "name": "stdout",
     "output_type": "stream",
     "text": [
      "y_pred: (1310, 1)\ty_score: (1310, 1)\ty_true: (1310, 1)\n",
      "y_pred: (1310, 1)\ty_score: (1310, 1)\ty_true: (1310, 1)\n",
      "y_pred: (1310, 1)\ty_score: (1310, 1)\ty_true: (1310, 1)\n",
      "y_pred: (1310, 1)\ty_score: (1310, 1)\ty_true: (1310, 1)\n",
      "y_pred: (1310, 1)\ty_score: (1310, 1)\ty_true: (1310, 1)\n",
      "y_pred: (1310, 1)\ty_score: (1310, 1)\ty_true: (1310, 1)\n",
      "y_pred: (1310, 1)\ty_score: (1310, 1)\ty_true: (1310, 1)\n",
      "y_pred: (1310, 1)\ty_score: (1310, 1)\ty_true: (1310, 1)\n",
      "TP53 /p/vast1/jones289/hd_results/5/hdbind-rp-ecfp-1024-1.lit-pcba-TP53-random.5.pkl hdbind-rp-ecfp-1024-1\n",
      "y_pred: (1062, 1)\ty_score: (1062, 1)\ty_true: (1062, 1)\n",
      "y_pred: (1062, 1)\ty_score: (1062, 1)\ty_true: (1062, 1)\n",
      "y_pred: (1062, 1)\ty_score: (1062, 1)\ty_true: (1062, 1)\n",
      "y_pred: (1062, 1)\ty_score: (1062, 1)\ty_true: (1062, 1)\n",
      "y_pred: (1062, 1)\ty_score: (1062, 1)\ty_true: (1062, 1)\n",
      "y_pred: (1062, 1)\ty_score: (1062, 1)\ty_true: (1062, 1)\n"
     ]
    },
    {
     "name": "stderr",
     "output_type": "stream",
     "text": [
      "\n",
      " 93%|█████████▎| 14/15 [02:35<00:06,  6.66s/it]\u001b[A"
     ]
    },
    {
     "name": "stdout",
     "output_type": "stream",
     "text": [
      "y_pred: (1062, 1)\ty_score: (1062, 1)\ty_true: (1062, 1)\n",
      "y_pred: (1062, 1)\ty_score: (1062, 1)\ty_true: (1062, 1)\n",
      "y_pred: (1062, 1)\ty_score: (1062, 1)\ty_true: (1062, 1)\n",
      "y_pred: (1062, 1)\ty_score: (1062, 1)\ty_true: (1062, 1)\n",
      "y_pred: (1062, 1)\ty_score: (1062, 1)\ty_true: (1062, 1)\n",
      "y_pred: (1062, 1)\ty_score: (1062, 1)\ty_true: (1062, 1)\n",
      "y_pred: (1062, 1)\ty_score: (1062, 1)\ty_true: (1062, 1)\n",
      "y_pred: (1062, 1)\ty_score: (1062, 1)\ty_true: (1062, 1)\n",
      "y_pred: (1062, 1)\ty_score: (1062, 1)\ty_true: (1062, 1)\n",
      "y_pred: (1062, 1)\ty_score: (1062, 1)\ty_true: (1062, 1)\n",
      "y_pred: (1062, 1)\ty_score: (1062, 1)\ty_true: (1062, 1)\n",
      "y_pred: (1062, 1)\ty_score: (1062, 1)\ty_true: (1062, 1)\n",
      "y_pred: (1062, 1)\ty_score: (1062, 1)\ty_true: (1062, 1)\n",
      "y_pred: (1062, 1)\ty_score: (1062, 1)\ty_true: (1062, 1)\n",
      "VDR /p/vast1/jones289/hd_results/5/hdbind-rp-ecfp-1024-1.lit-pcba-VDR-random.5.pkl hdbind-rp-ecfp-1024-1\n",
      "y_pred: (66801, 1)\ty_score: (66801, 1)\ty_true: (66801, 1)\n",
      "y_pred: (66801, 1)\ty_score: (66801, 1)\ty_true: (66801, 1)\n",
      "y_pred: (66801, 1)\ty_score: (66801, 1)\ty_true: (66801, 1)\n",
      "y_pred: (66801, 1)\ty_score: (66801, 1)\ty_true: (66801, 1)\n",
      "y_pred: (66801, 1)\ty_score: (66801, 1)\ty_true: (66801, 1)\n",
      "y_pred: (66801, 1)\ty_score: (66801, 1)\ty_true: (66801, 1)\n",
      "y_pred: (66801, 1)\ty_score: (66801, 1)\ty_true: (66801, 1)\n",
      "y_pred: (66801, 1)\ty_score: (66801, 1)\ty_true: (66801, 1)\n",
      "y_pred: (66801, 1)\ty_score: (66801, 1)\ty_true: (66801, 1)\n",
      "y_pred: (66801, 1)\ty_score: (66801, 1)\ty_true: (66801, 1)\n",
      "y_pred: (66801, 1)\ty_score: (66801, 1)\ty_true: (66801, 1)\n",
      "y_pred: (66801, 1)\ty_score: (66801, 1)\ty_true: (66801, 1)\n",
      "y_pred: (66801, 1)\ty_score: (66801, 1)\ty_true: (66801, 1)\n",
      "y_pred: (66801, 1)\ty_score: (66801, 1)\ty_true: (66801, 1)\n",
      "y_pred: (66801, 1)\ty_score: (66801, 1)\ty_true: (66801, 1)\n",
      "y_pred: (66801, 1)\ty_score: (66801, 1)\ty_true: (66801, 1)\n",
      "y_pred: (66801, 1)\ty_score: (66801, 1)\ty_true: (66801, 1)\n",
      "y_pred: (66801, 1)\ty_score: (66801, 1)\ty_true: (66801, 1)\n",
      "y_pred: (66801, 1)\ty_score: (66801, 1)\ty_true: (66801, 1)\n",
      "y_pred: (66801, 1)\ty_score: (66801, 1)\ty_true: (66801, 1)\n"
     ]
    },
    {
     "name": "stderr",
     "output_type": "stream",
     "text": [
      "\n",
      "100%|██████████| 15/15 [02:51<00:00, 11.43s/it]\u001b[A\n",
      " 22%|██▏       | 2/9 [05:41<19:55, 170.82s/it]\n",
      "  0%|          | 0/15 [00:00<?, ?it/s]\u001b[A"
     ]
    },
    {
     "name": "stdout",
     "output_type": "stream",
     "text": [
      "ADRB2 /p/vast1/jones289/hd_results/5/hdbind-rp-ecfp-1024-1-100k.lit-pcba-ADRB2-random.5.pkl hdbind-rp-ecfp-1024-1-100k\n",
      "y_pred: (78125, 1)\ty_score: (78125, 1)\ty_true: (78125, 1)\n",
      "y_pred: (78125, 1)\ty_score: (78125, 1)\ty_true: (78125, 1)\n",
      "y_pred: (78125, 1)\ty_score: (78125, 1)\ty_true: (78125, 1)\n",
      "y_pred: (78125, 1)\ty_score: (78125, 1)\ty_true: (78125, 1)\n",
      "y_pred: (78125, 1)\ty_score: (78125, 1)\ty_true: (78125, 1)\n",
      "y_pred: (78125, 1)\ty_score: (78125, 1)\ty_true: (78125, 1)\n",
      "y_pred: (78125, 1)\ty_score: (78125, 1)\ty_true: (78125, 1)\n",
      "y_pred: (78125, 1)\ty_score: (78125, 1)\ty_true: (78125, 1)\n",
      "y_pred: (78125, 1)\ty_score: (78125, 1)\ty_true: (78125, 1)\n",
      "y_pred: (78125, 1)\ty_score: (78125, 1)\ty_true: (78125, 1)\n",
      "y_pred: (78125, 1)\ty_score: (78125, 1)\ty_true: (78125, 1)\n",
      "y_pred: (78125, 1)\ty_score: (78125, 1)\ty_true: (78125, 1)\n",
      "y_pred: (78125, 1)\ty_score: (78125, 1)\ty_true: (78125, 1)\n",
      "y_pred: (78125, 1)\ty_score: (78125, 1)\ty_true: (78125, 1)\n",
      "y_pred: (78125, 1)\ty_score: (78125, 1)\ty_true: (78125, 1)\n",
      "y_pred: (78125, 1)\ty_score: (78125, 1)\ty_true: (78125, 1)\n",
      "y_pred: (78125, 1)\ty_score: (78125, 1)\ty_true: (78125, 1)\n",
      "y_pred: (78125, 1)\ty_score: (78125, 1)\ty_true: (78125, 1)\n",
      "y_pred: (78125, 1)\ty_score: (78125, 1)\ty_true: (78125, 1)\n",
      "y_pred: (78125, 1)\ty_score: (78125, 1)\ty_true: (78125, 1)\n"
     ]
    },
    {
     "name": "stderr",
     "output_type": "stream",
     "text": [
      "\n",
      "  7%|▋         | 1/15 [00:19<04:38, 19.90s/it]\u001b[A"
     ]
    },
    {
     "name": "stdout",
     "output_type": "stream",
     "text": [
      "ALDH1 /p/vast1/jones289/hd_results/5/hdbind-rp-ecfp-1024-1-100k.lit-pcba-ALDH1-random.5.pkl hdbind-rp-ecfp-1024-1-100k\n",
      "y_pred: (27213, 1)\ty_score: (27213, 1)\ty_true: (27213, 1)\n",
      "y_pred: (27213, 1)\ty_score: (27213, 1)\ty_true: (27213, 1)\n",
      "y_pred: (27213, 1)\ty_score: (27213, 1)\ty_true: (27213, 1)\n",
      "y_pred: (27213, 1)\ty_score: (27213, 1)\ty_true: (27213, 1)\n",
      "y_pred: (27213, 1)\ty_score: (27213, 1)\ty_true: (27213, 1)\n",
      "y_pred: (27213, 1)\ty_score: (27213, 1)\ty_true: (27213, 1)\n",
      "y_pred: (27213, 1)\ty_score: (27213, 1)\ty_true: (27213, 1)\n",
      "y_pred: (27213, 1)\ty_score: (27213, 1)\ty_true: (27213, 1)\n",
      "y_pred: (27213, 1)\ty_score: (27213, 1)\ty_true: (27213, 1)\n",
      "y_pred: (27213, 1)\ty_score: (27213, 1)\ty_true: (27213, 1)\n",
      "y_pred: (27213, 1)\ty_score: (27213, 1)\ty_true: (27213, 1)\n",
      "y_pred: (27213, 1)\ty_score: (27213, 1)\ty_true: (27213, 1)\n",
      "y_pred: (27213, 1)\ty_score: (27213, 1)\ty_true: (27213, 1)\n",
      "y_pred: (27213, 1)\ty_score: (27213, 1)\ty_true: (27213, 1)\n",
      "y_pred: (27213, 1)\ty_score: (27213, 1)\ty_true: (27213, 1)\n",
      "y_pred: (27213, 1)\ty_score: (27213, 1)\ty_true: (27213, 1)\n",
      "y_pred: (27213, 1)\ty_score: (27213, 1)\ty_true: (27213, 1)\n",
      "y_pred: (27213, 1)\ty_score: (27213, 1)\ty_true: (27213, 1)\n",
      "y_pred: (27213, 1)\ty_score: (27213, 1)\ty_true: (27213, 1)\n",
      "y_pred: (27213, 1)\ty_score: (27213, 1)\ty_true: (27213, 1)\n"
     ]
    },
    {
     "name": "stderr",
     "output_type": "stream",
     "text": [
      "\n",
      " 13%|█▎        | 2/15 [00:26<02:34, 11.90s/it]\u001b[A"
     ]
    },
    {
     "name": "stdout",
     "output_type": "stream",
     "text": [
      "ESR1_ago /p/vast1/jones289/hd_results/5/hdbind-rp-ecfp-1024-1-100k.lit-pcba-ESR1_ago-random.5.pkl hdbind-rp-ecfp-1024-1-100k\n",
      "y_pred: (1399, 1)\ty_score: (1399, 1)\ty_true: (1399, 1)\n",
      "y_pred: (1399, 1)\ty_score: (1399, 1)\ty_true: (1399, 1)\n",
      "y_pred: (1399, 1)\ty_score: (1399, 1)\ty_true: (1399, 1)\n",
      "y_pred: (1399, 1)\ty_score: (1399, 1)\ty_true: (1399, 1)\n",
      "y_pred: (1399, 1)\ty_score: (1399, 1)\ty_true: (1399, 1)\n",
      "y_pred: (1399, 1)\ty_score: (1399, 1)\ty_true: (1399, 1)\n",
      "y_pred: (1399, 1)\ty_score: (1399, 1)\ty_true: (1399, 1)\n",
      "y_pred: (1399, 1)\ty_score: (1399, 1)\ty_true: (1399, 1)\n",
      "y_pred: (1399, 1)\ty_score: (1399, 1)\ty_true: (1399, 1)\n",
      "y_pred: (1399, 1)\ty_score: (1399, 1)\ty_true: (1399, 1)\n",
      "y_pred: (1399, 1)\ty_score: (1399, 1)\ty_true: (1399, 1)\n",
      "y_pred: (1399, 1)\ty_score: (1399, 1)\ty_true: (1399, 1)\n",
      "y_pred: (1399, 1)\ty_score: (1399, 1)\ty_true: (1399, 1)\n",
      "y_pred: (1399, 1)\ty_score: (1399, 1)\ty_true: (1399, 1)\n",
      "y_pred: (1399, 1)\ty_score: (1399, 1)\ty_true: (1399, 1)\n",
      "y_pred: (1399, 1)\ty_score: (1399, 1)\ty_true: (1399, 1)\n",
      "y_pred: (1399, 1)\ty_score: (1399, 1)\ty_true: (1399, 1)\n",
      "y_pred: (1399, 1)\ty_score: (1399, 1)\ty_true: (1399, 1)\n"
     ]
    },
    {
     "name": "stderr",
     "output_type": "stream",
     "text": [
      "\n",
      " 20%|██        | 3/15 [00:26<01:20,  6.67s/it]\u001b[A"
     ]
    },
    {
     "name": "stdout",
     "output_type": "stream",
     "text": [
      "y_pred: (1399, 1)\ty_score: (1399, 1)\ty_true: (1399, 1)\n",
      "y_pred: (1399, 1)\ty_score: (1399, 1)\ty_true: (1399, 1)\n",
      "ESR1_ant /p/vast1/jones289/hd_results/5/hdbind-rp-ecfp-1024-1-100k.lit-pcba-ESR1_ant-random.5.pkl hdbind-rp-ecfp-1024-1-100k\n",
      "y_pred: (1263, 1)\ty_score: (1263, 1)\ty_true: (1263, 1)\n",
      "y_pred: (1263, 1)\ty_score: (1263, 1)\ty_true: (1263, 1)\n",
      "y_pred: (1263, 1)\ty_score: (1263, 1)\ty_true: (1263, 1)\n",
      "y_pred: (1263, 1)\ty_score: (1263, 1)\ty_true: (1263, 1)\n",
      "y_pred: (1263, 1)\ty_score: (1263, 1)\ty_true: (1263, 1)\n",
      "y_pred: (1263, 1)\ty_score: (1263, 1)\ty_true: (1263, 1)\n",
      "y_pred: (1263, 1)\ty_score: (1263, 1)\ty_true: (1263, 1)\n",
      "y_pred: (1263, 1)\ty_score: (1263, 1)\ty_true: (1263, 1)\n",
      "y_pred: (1263, 1)\ty_score: (1263, 1)\ty_true: (1263, 1)\n",
      "y_pred: (1263, 1)\ty_score: (1263, 1)\ty_true: (1263, 1)\n",
      "y_pred: (1263, 1)\ty_score: (1263, 1)\ty_true: (1263, 1)\n",
      "y_pred: (1263, 1)\ty_score: (1263, 1)\ty_true: (1263, 1)\n",
      "y_pred: (1263, 1)\ty_score: (1263, 1)\ty_true: (1263, 1)\n",
      "y_pred: (1263, 1)\ty_score: (1263, 1)\ty_true: (1263, 1)\n",
      "y_pred: (1263, 1)\ty_score: (1263, 1)\ty_true: (1263, 1)\n"
     ]
    },
    {
     "name": "stderr",
     "output_type": "stream",
     "text": [
      "\n",
      " 27%|██▋       | 4/15 [00:27<00:46,  4.22s/it]\u001b[A"
     ]
    },
    {
     "name": "stdout",
     "output_type": "stream",
     "text": [
      "y_pred: (1263, 1)\ty_score: (1263, 1)\ty_true: (1263, 1)\n",
      "y_pred: (1263, 1)\ty_score: (1263, 1)\ty_true: (1263, 1)\n",
      "y_pred: (1263, 1)\ty_score: (1263, 1)\ty_true: (1263, 1)\n",
      "y_pred: (1263, 1)\ty_score: (1263, 1)\ty_true: (1263, 1)\n",
      "y_pred: (1263, 1)\ty_score: (1263, 1)\ty_true: (1263, 1)\n",
      "FEN1 /p/vast1/jones289/hd_results/5/hdbind-rp-ecfp-1024-1-100k.lit-pcba-FEN1-random.5.pkl hdbind-rp-ecfp-1024-1-100k\n",
      "y_pred: (88943, 1)\ty_score: (88943, 1)\ty_true: (88943, 1)\n",
      "y_pred: (88943, 1)\ty_score: (88943, 1)\ty_true: (88943, 1)\n",
      "y_pred: (88943, 1)\ty_score: (88943, 1)\ty_true: (88943, 1)\n",
      "y_pred: (88943, 1)\ty_score: (88943, 1)\ty_true: (88943, 1)\n",
      "y_pred: (88943, 1)\ty_score: (88943, 1)\ty_true: (88943, 1)\n",
      "y_pred: (88943, 1)\ty_score: (88943, 1)\ty_true: (88943, 1)\n",
      "y_pred: (88943, 1)\ty_score: (88943, 1)\ty_true: (88943, 1)\n",
      "y_pred: (88943, 1)\ty_score: (88943, 1)\ty_true: (88943, 1)\n",
      "y_pred: (88943, 1)\ty_score: (88943, 1)\ty_true: (88943, 1)\n",
      "y_pred: (88943, 1)\ty_score: (88943, 1)\ty_true: (88943, 1)\n",
      "y_pred: (88943, 1)\ty_score: (88943, 1)\ty_true: (88943, 1)\n",
      "y_pred: (88943, 1)\ty_score: (88943, 1)\ty_true: (88943, 1)\n",
      "y_pred: (88943, 1)\ty_score: (88943, 1)\ty_true: (88943, 1)\n",
      "y_pred: (88943, 1)\ty_score: (88943, 1)\ty_true: (88943, 1)\n",
      "y_pred: (88943, 1)\ty_score: (88943, 1)\ty_true: (88943, 1)\n",
      "y_pred: (88943, 1)\ty_score: (88943, 1)\ty_true: (88943, 1)\n",
      "y_pred: (88943, 1)\ty_score: (88943, 1)\ty_true: (88943, 1)\n",
      "y_pred: (88943, 1)\ty_score: (88943, 1)\ty_true: (88943, 1)\n",
      "y_pred: (88943, 1)\ty_score: (88943, 1)\ty_true: (88943, 1)\n",
      "y_pred: (88943, 1)\ty_score: (88943, 1)\ty_true: (88943, 1)\n"
     ]
    },
    {
     "name": "stderr",
     "output_type": "stream",
     "text": [
      "\n",
      " 33%|███▎      | 5/15 [00:49<01:48, 10.83s/it]\u001b[A"
     ]
    },
    {
     "name": "stdout",
     "output_type": "stream",
     "text": [
      "GBA /p/vast1/jones289/hd_results/5/hdbind-rp-ecfp-1024-1-100k.lit-pcba-GBA-random.5.pkl hdbind-rp-ecfp-1024-1-100k\n",
      "y_pred: (74055, 1)\ty_score: (74055, 1)\ty_true: (74055, 1)\n",
      "y_pred: (74055, 1)\ty_score: (74055, 1)\ty_true: (74055, 1)\n",
      "y_pred: (74055, 1)\ty_score: (74055, 1)\ty_true: (74055, 1)\n",
      "y_pred: (74055, 1)\ty_score: (74055, 1)\ty_true: (74055, 1)\n",
      "y_pred: (74055, 1)\ty_score: (74055, 1)\ty_true: (74055, 1)\n",
      "y_pred: (74055, 1)\ty_score: (74055, 1)\ty_true: (74055, 1)\n",
      "y_pred: (74055, 1)\ty_score: (74055, 1)\ty_true: (74055, 1)\n",
      "y_pred: (74055, 1)\ty_score: (74055, 1)\ty_true: (74055, 1)\n",
      "y_pred: (74055, 1)\ty_score: (74055, 1)\ty_true: (74055, 1)\n",
      "y_pred: (74055, 1)\ty_score: (74055, 1)\ty_true: (74055, 1)\n",
      "y_pred: (74055, 1)\ty_score: (74055, 1)\ty_true: (74055, 1)\n",
      "y_pred: (74055, 1)\ty_score: (74055, 1)\ty_true: (74055, 1)\n",
      "y_pred: (74055, 1)\ty_score: (74055, 1)\ty_true: (74055, 1)\n",
      "y_pred: (74055, 1)\ty_score: (74055, 1)\ty_true: (74055, 1)\n",
      "y_pred: (74055, 1)\ty_score: (74055, 1)\ty_true: (74055, 1)\n",
      "y_pred: (74055, 1)\ty_score: (74055, 1)\ty_true: (74055, 1)\n",
      "y_pred: (74055, 1)\ty_score: (74055, 1)\ty_true: (74055, 1)\n",
      "y_pred: (74055, 1)\ty_score: (74055, 1)\ty_true: (74055, 1)\n",
      "y_pred: (74055, 1)\ty_score: (74055, 1)\ty_true: (74055, 1)\n",
      "y_pred: (74055, 1)\ty_score: (74055, 1)\ty_true: (74055, 1)\n"
     ]
    },
    {
     "name": "stderr",
     "output_type": "stream",
     "text": [
      "\n",
      " 40%|████      | 6/15 [01:08<02:02, 13.63s/it]\u001b[A"
     ]
    },
    {
     "name": "stdout",
     "output_type": "stream",
     "text": [
      "IDH1 /p/vast1/jones289/hd_results/5/hdbind-rp-ecfp-1024-1-100k.lit-pcba-IDH1-random.5.pkl hdbind-rp-ecfp-1024-1-100k\n",
      "y_pred: (90522, 1)\ty_score: (90522, 1)\ty_true: (90522, 1)\n",
      "y_pred: (90522, 1)\ty_score: (90522, 1)\ty_true: (90522, 1)\n",
      "y_pred: (90522, 1)\ty_score: (90522, 1)\ty_true: (90522, 1)\n",
      "y_pred: (90522, 1)\ty_score: (90522, 1)\ty_true: (90522, 1)\n",
      "y_pred: (90522, 1)\ty_score: (90522, 1)\ty_true: (90522, 1)\n",
      "y_pred: (90522, 1)\ty_score: (90522, 1)\ty_true: (90522, 1)\n",
      "y_pred: (90522, 1)\ty_score: (90522, 1)\ty_true: (90522, 1)\n",
      "y_pred: (90522, 1)\ty_score: (90522, 1)\ty_true: (90522, 1)\n",
      "y_pred: (90522, 1)\ty_score: (90522, 1)\ty_true: (90522, 1)\n",
      "y_pred: (90522, 1)\ty_score: (90522, 1)\ty_true: (90522, 1)\n",
      "y_pred: (90522, 1)\ty_score: (90522, 1)\ty_true: (90522, 1)\n",
      "y_pred: (90522, 1)\ty_score: (90522, 1)\ty_true: (90522, 1)\n",
      "y_pred: (90522, 1)\ty_score: (90522, 1)\ty_true: (90522, 1)\n",
      "y_pred: (90522, 1)\ty_score: (90522, 1)\ty_true: (90522, 1)\n",
      "y_pred: (90522, 1)\ty_score: (90522, 1)\ty_true: (90522, 1)\n",
      "y_pred: (90522, 1)\ty_score: (90522, 1)\ty_true: (90522, 1)\n",
      "y_pred: (90522, 1)\ty_score: (90522, 1)\ty_true: (90522, 1)\n",
      "y_pred: (90522, 1)\ty_score: (90522, 1)\ty_true: (90522, 1)\n",
      "y_pred: (90522, 1)\ty_score: (90522, 1)\ty_true: (90522, 1)\n",
      "y_pred: (90522, 1)\ty_score: (90522, 1)\ty_true: (90522, 1)\n"
     ]
    },
    {
     "name": "stderr",
     "output_type": "stream",
     "text": [
      "\n",
      " 47%|████▋     | 7/15 [01:31<02:12, 16.61s/it]\u001b[A"
     ]
    },
    {
     "name": "stdout",
     "output_type": "stream",
     "text": [
      "KAT2A /p/vast1/jones289/hd_results/5/hdbind-rp-ecfp-1024-1-100k.lit-pcba-KAT2A-random.5.pkl hdbind-rp-ecfp-1024-1-100k\n",
      "y_pred: (87186, 1)\ty_score: (87186, 1)\ty_true: (87186, 1)\n",
      "y_pred: (87186, 1)\ty_score: (87186, 1)\ty_true: (87186, 1)\n",
      "y_pred: (87186, 1)\ty_score: (87186, 1)\ty_true: (87186, 1)\n",
      "y_pred: (87186, 1)\ty_score: (87186, 1)\ty_true: (87186, 1)\n",
      "y_pred: (87186, 1)\ty_score: (87186, 1)\ty_true: (87186, 1)\n",
      "y_pred: (87186, 1)\ty_score: (87186, 1)\ty_true: (87186, 1)\n",
      "y_pred: (87186, 1)\ty_score: (87186, 1)\ty_true: (87186, 1)\n",
      "y_pred: (87186, 1)\ty_score: (87186, 1)\ty_true: (87186, 1)\n",
      "y_pred: (87186, 1)\ty_score: (87186, 1)\ty_true: (87186, 1)\n",
      "y_pred: (87186, 1)\ty_score: (87186, 1)\ty_true: (87186, 1)\n",
      "y_pred: (87186, 1)\ty_score: (87186, 1)\ty_true: (87186, 1)\n",
      "y_pred: (87186, 1)\ty_score: (87186, 1)\ty_true: (87186, 1)\n",
      "y_pred: (87186, 1)\ty_score: (87186, 1)\ty_true: (87186, 1)\n",
      "y_pred: (87186, 1)\ty_score: (87186, 1)\ty_true: (87186, 1)\n",
      "y_pred: (87186, 1)\ty_score: (87186, 1)\ty_true: (87186, 1)\n",
      "y_pred: (87186, 1)\ty_score: (87186, 1)\ty_true: (87186, 1)\n",
      "y_pred: (87186, 1)\ty_score: (87186, 1)\ty_true: (87186, 1)\n",
      "y_pred: (87186, 1)\ty_score: (87186, 1)\ty_true: (87186, 1)\n",
      "y_pred: (87186, 1)\ty_score: (87186, 1)\ty_true: (87186, 1)\n",
      "y_pred: (87186, 1)\ty_score: (87186, 1)\ty_true: (87186, 1)\n"
     ]
    },
    {
     "name": "stderr",
     "output_type": "stream",
     "text": [
      "\n",
      " 53%|█████▎    | 8/15 [01:52<02:06, 18.09s/it]\u001b[A"
     ]
    },
    {
     "name": "stdout",
     "output_type": "stream",
     "text": [
      "MAPK1 /p/vast1/jones289/hd_results/5/hdbind-rp-ecfp-1024-1-100k.lit-pcba-MAPK1-random.5.pkl hdbind-rp-ecfp-1024-1-100k\n",
      "y_pred: (15735, 1)\ty_score: (15735, 1)\ty_true: (15735, 1)\n",
      "y_pred: (15735, 1)\ty_score: (15735, 1)\ty_true: (15735, 1)\n",
      "y_pred: (15735, 1)\ty_score: (15735, 1)\ty_true: (15735, 1)\n",
      "y_pred: (15735, 1)\ty_score: (15735, 1)\ty_true: (15735, 1)\n",
      "y_pred: (15735, 1)\ty_score: (15735, 1)\ty_true: (15735, 1)\n",
      "y_pred: (15735, 1)\ty_score: (15735, 1)\ty_true: (15735, 1)\n",
      "y_pred: (15735, 1)\ty_score: (15735, 1)\ty_true: (15735, 1)\n",
      "y_pred: (15735, 1)\ty_score: (15735, 1)\ty_true: (15735, 1)\n",
      "y_pred: (15735, 1)\ty_score: (15735, 1)\ty_true: (15735, 1)\n",
      "y_pred: (15735, 1)\ty_score: (15735, 1)\ty_true: (15735, 1)\n",
      "y_pred: (15735, 1)\ty_score: (15735, 1)\ty_true: (15735, 1)\n",
      "y_pred: (15735, 1)\ty_score: (15735, 1)\ty_true: (15735, 1)\n",
      "y_pred: (15735, 1)\ty_score: (15735, 1)\ty_true: (15735, 1)\n",
      "y_pred: (15735, 1)\ty_score: (15735, 1)\ty_true: (15735, 1)\n",
      "y_pred: (15735, 1)\ty_score: (15735, 1)\ty_true: (15735, 1)\n",
      "y_pred: (15735, 1)\ty_score: (15735, 1)\ty_true: (15735, 1)\n",
      "y_pred: (15735, 1)\ty_score: (15735, 1)\ty_true: (15735, 1)\n",
      "y_pred: (15735, 1)\ty_score: (15735, 1)\ty_true: (15735, 1)\n",
      "y_pred: (15735, 1)\ty_score: (15735, 1)\ty_true: (15735, 1)\n"
     ]
    },
    {
     "name": "stderr",
     "output_type": "stream",
     "text": [
      "\n",
      " 60%|██████    | 9/15 [01:55<01:20, 13.40s/it]\u001b[A"
     ]
    },
    {
     "name": "stdout",
     "output_type": "stream",
     "text": [
      "y_pred: (15735, 1)\ty_score: (15735, 1)\ty_true: (15735, 1)\n",
      "MTORC1 /p/vast1/jones289/hd_results/5/hdbind-rp-ecfp-1024-1-100k.lit-pcba-MTORC1-random.5.pkl hdbind-rp-ecfp-1024-1-100k\n",
      "y_pred: (8268, 1)\ty_score: (8268, 1)\ty_true: (8268, 1)\n",
      "y_pred: (8268, 1)\ty_score: (8268, 1)\ty_true: (8268, 1)\n",
      "y_pred: (8268, 1)\ty_score: (8268, 1)\ty_true: (8268, 1)\n",
      "y_pred: (8268, 1)\ty_score: (8268, 1)\ty_true: (8268, 1)\n",
      "y_pred: (8268, 1)\ty_score: (8268, 1)\ty_true: (8268, 1)\n",
      "y_pred: (8268, 1)\ty_score: (8268, 1)\ty_true: (8268, 1)\n",
      "y_pred: (8268, 1)\ty_score: (8268, 1)\ty_true: (8268, 1)\n",
      "y_pred: (8268, 1)\ty_score: (8268, 1)\ty_true: (8268, 1)\n",
      "y_pred: (8268, 1)\ty_score: (8268, 1)\ty_true: (8268, 1)\n",
      "y_pred: (8268, 1)\ty_score: (8268, 1)\ty_true: (8268, 1)\n",
      "y_pred: (8268, 1)\ty_score: (8268, 1)\ty_true: (8268, 1)\n",
      "y_pred: (8268, 1)\ty_score: (8268, 1)\ty_true: (8268, 1)\n",
      "y_pred: (8268, 1)\ty_score: (8268, 1)\ty_true: (8268, 1)\n",
      "y_pred: (8268, 1)\ty_score: (8268, 1)\ty_true: (8268, 1)\n",
      "y_pred: (8268, 1)\ty_score: (8268, 1)\ty_true: (8268, 1)\n",
      "y_pred: (8268, 1)\ty_score: (8268, 1)\ty_true: (8268, 1)\n",
      "y_pred: (8268, 1)\ty_score: (8268, 1)\ty_true: (8268, 1)\n",
      "y_pred: (8268, 1)\ty_score: (8268, 1)\ty_true: (8268, 1)\n",
      "y_pred: (8268, 1)\ty_score: (8268, 1)\ty_true: (8268, 1)\n",
      "y_pred: (8268, 1)\ty_score: (8268, 1)\ty_true: (8268, 1)\n"
     ]
    },
    {
     "name": "stderr",
     "output_type": "stream",
     "text": [
      "\n",
      " 67%|██████▋   | 10/15 [01:57<00:49,  9.84s/it]\u001b[A"
     ]
    },
    {
     "name": "stdout",
     "output_type": "stream",
     "text": [
      "OPRK1 /p/vast1/jones289/hd_results/5/hdbind-rp-ecfp-1024-1-100k.lit-pcba-OPRK1-random.5.pkl hdbind-rp-ecfp-1024-1-100k\n",
      "y_pred: (67460, 1)\ty_score: (67460, 1)\ty_true: (67460, 1)\n",
      "y_pred: (67460, 1)\ty_score: (67460, 1)\ty_true: (67460, 1)\n",
      "y_pred: (67460, 1)\ty_score: (67460, 1)\ty_true: (67460, 1)\n",
      "y_pred: (67460, 1)\ty_score: (67460, 1)\ty_true: (67460, 1)\n",
      "y_pred: (67460, 1)\ty_score: (67460, 1)\ty_true: (67460, 1)\n",
      "y_pred: (67460, 1)\ty_score: (67460, 1)\ty_true: (67460, 1)\n",
      "y_pred: (67460, 1)\ty_score: (67460, 1)\ty_true: (67460, 1)\n",
      "y_pred: (67460, 1)\ty_score: (67460, 1)\ty_true: (67460, 1)\n",
      "y_pred: (67460, 1)\ty_score: (67460, 1)\ty_true: (67460, 1)\n",
      "y_pred: (67460, 1)\ty_score: (67460, 1)\ty_true: (67460, 1)\n",
      "y_pred: (67460, 1)\ty_score: (67460, 1)\ty_true: (67460, 1)\n",
      "y_pred: (67460, 1)\ty_score: (67460, 1)\ty_true: (67460, 1)\n",
      "y_pred: (67460, 1)\ty_score: (67460, 1)\ty_true: (67460, 1)\n",
      "y_pred: (67460, 1)\ty_score: (67460, 1)\ty_true: (67460, 1)\n",
      "y_pred: (67460, 1)\ty_score: (67460, 1)\ty_true: (67460, 1)\n",
      "y_pred: (67460, 1)\ty_score: (67460, 1)\ty_true: (67460, 1)\n",
      "y_pred: (67460, 1)\ty_score: (67460, 1)\ty_true: (67460, 1)\n",
      "y_pred: (67460, 1)\ty_score: (67460, 1)\ty_true: (67460, 1)\n",
      "y_pred: (67460, 1)\ty_score: (67460, 1)\ty_true: (67460, 1)\n",
      "y_pred: (67460, 1)\ty_score: (67460, 1)\ty_true: (67460, 1)\n"
     ]
    },
    {
     "name": "stderr",
     "output_type": "stream",
     "text": [
      "\n",
      " 73%|███████▎  | 11/15 [02:12<00:45, 11.41s/it]\u001b[A"
     ]
    },
    {
     "name": "stdout",
     "output_type": "stream",
     "text": [
      "PKM2 /p/vast1/jones289/hd_results/5/hdbind-rp-ecfp-1024-1-100k.lit-pcba-PKM2-random.5.pkl hdbind-rp-ecfp-1024-1-100k\n",
      "y_pred: (61518, 1)\ty_score: (61518, 1)\ty_true: (61518, 1)\n",
      "y_pred: (61518, 1)\ty_score: (61518, 1)\ty_true: (61518, 1)\n",
      "y_pred: (61518, 1)\ty_score: (61518, 1)\ty_true: (61518, 1)\n",
      "y_pred: (61518, 1)\ty_score: (61518, 1)\ty_true: (61518, 1)\n",
      "y_pred: (61518, 1)\ty_score: (61518, 1)\ty_true: (61518, 1)\n",
      "y_pred: (61518, 1)\ty_score: (61518, 1)\ty_true: (61518, 1)\n",
      "y_pred: (61518, 1)\ty_score: (61518, 1)\ty_true: (61518, 1)\n",
      "y_pred: (61518, 1)\ty_score: (61518, 1)\ty_true: (61518, 1)\n",
      "y_pred: (61518, 1)\ty_score: (61518, 1)\ty_true: (61518, 1)\n",
      "y_pred: (61518, 1)\ty_score: (61518, 1)\ty_true: (61518, 1)\n",
      "y_pred: (61518, 1)\ty_score: (61518, 1)\ty_true: (61518, 1)\n",
      "y_pred: (61518, 1)\ty_score: (61518, 1)\ty_true: (61518, 1)\n",
      "y_pred: (61518, 1)\ty_score: (61518, 1)\ty_true: (61518, 1)\n",
      "y_pred: (61518, 1)\ty_score: (61518, 1)\ty_true: (61518, 1)\n",
      "y_pred: (61518, 1)\ty_score: (61518, 1)\ty_true: (61518, 1)\n",
      "y_pred: (61518, 1)\ty_score: (61518, 1)\ty_true: (61518, 1)\n",
      "y_pred: (61518, 1)\ty_score: (61518, 1)\ty_true: (61518, 1)\n",
      "y_pred: (61518, 1)\ty_score: (61518, 1)\ty_true: (61518, 1)\n",
      "y_pred: (61518, 1)\ty_score: (61518, 1)\ty_true: (61518, 1)\n",
      "y_pred: (61518, 1)\ty_score: (61518, 1)\ty_true: (61518, 1)\n"
     ]
    },
    {
     "name": "stderr",
     "output_type": "stream",
     "text": [
      "\n",
      " 80%|████████  | 12/15 [02:26<00:36, 12.01s/it]\u001b[A"
     ]
    },
    {
     "name": "stdout",
     "output_type": "stream",
     "text": [
      "PPARG /p/vast1/jones289/hd_results/5/hdbind-rp-ecfp-1024-1-100k.lit-pcba-PPARG-random.5.pkl hdbind-rp-ecfp-1024-1-100k\n",
      "y_pred: (1310, 1)\ty_score: (1310, 1)\ty_true: (1310, 1)\n",
      "y_pred: (1310, 1)\ty_score: (1310, 1)\ty_true: (1310, 1)\n",
      "y_pred: (1310, 1)\ty_score: (1310, 1)\ty_true: (1310, 1)\n",
      "y_pred: (1310, 1)\ty_score: (1310, 1)\ty_true: (1310, 1)\n"
     ]
    },
    {
     "name": "stderr",
     "output_type": "stream",
     "text": [
      "\n",
      " 87%|████████▋ | 13/15 [02:26<00:17,  8.50s/it]\u001b[A"
     ]
    },
    {
     "name": "stdout",
     "output_type": "stream",
     "text": [
      "y_pred: (1310, 1)\ty_score: (1310, 1)\ty_true: (1310, 1)\n",
      "y_pred: (1310, 1)\ty_score: (1310, 1)\ty_true: (1310, 1)\n",
      "y_pred: (1310, 1)\ty_score: (1310, 1)\ty_true: (1310, 1)\n",
      "y_pred: (1310, 1)\ty_score: (1310, 1)\ty_true: (1310, 1)\n",
      "y_pred: (1310, 1)\ty_score: (1310, 1)\ty_true: (1310, 1)\n",
      "y_pred: (1310, 1)\ty_score: (1310, 1)\ty_true: (1310, 1)\n",
      "y_pred: (1310, 1)\ty_score: (1310, 1)\ty_true: (1310, 1)\n",
      "y_pred: (1310, 1)\ty_score: (1310, 1)\ty_true: (1310, 1)\n",
      "y_pred: (1310, 1)\ty_score: (1310, 1)\ty_true: (1310, 1)\n",
      "y_pred: (1310, 1)\ty_score: (1310, 1)\ty_true: (1310, 1)\n",
      "y_pred: (1310, 1)\ty_score: (1310, 1)\ty_true: (1310, 1)\n",
      "y_pred: (1310, 1)\ty_score: (1310, 1)\ty_true: (1310, 1)\n",
      "y_pred: (1310, 1)\ty_score: (1310, 1)\ty_true: (1310, 1)\n",
      "y_pred: (1310, 1)\ty_score: (1310, 1)\ty_true: (1310, 1)\n",
      "y_pred: (1310, 1)\ty_score: (1310, 1)\ty_true: (1310, 1)\n",
      "y_pred: (1310, 1)\ty_score: (1310, 1)\ty_true: (1310, 1)\n",
      "TP53 /p/vast1/jones289/hd_results/5/hdbind-rp-ecfp-1024-1-100k.lit-pcba-TP53-random.5.pkl hdbind-rp-ecfp-1024-1-100k\n",
      "y_pred: (1062, 1)\ty_score: (1062, 1)\ty_true: (1062, 1)\n",
      "y_pred: (1062, 1)\ty_score: (1062, 1)\ty_true: (1062, 1)\n",
      "y_pred: (1062, 1)\ty_score: (1062, 1)\ty_true: (1062, 1)\n",
      "y_pred: (1062, 1)\ty_score: (1062, 1)\ty_true: (1062, 1)\n",
      "y_pred: (1062, 1)\ty_score: (1062, 1)\ty_true: (1062, 1)\n",
      "y_pred: (1062, 1)\ty_score: (1062, 1)\ty_true: (1062, 1)\n",
      "y_pred: (1062, 1)\ty_score: (1062, 1)\ty_true: (1062, 1)\n",
      "y_pred: (1062, 1)\ty_score: (1062, 1)\ty_true: (1062, 1)\n",
      "y_pred: (1062, 1)\ty_score: (1062, 1)\ty_true: (1062, 1)\n",
      "y_pred: (1062, 1)\ty_score: (1062, 1)\ty_true: (1062, 1)\n",
      "y_pred: (1062, 1)\ty_score: (1062, 1)\ty_true: (1062, 1)\n",
      "y_pred: (1062, 1)\ty_score: (1062, 1)\ty_true: (1062, 1)\n",
      "y_pred: (1062, 1)\ty_score: (1062, 1)\ty_true: (1062, 1)\n",
      "y_pred: (1062, 1)\ty_score: (1062, 1)\ty_true: (1062, 1)\n",
      "y_pred: (1062, 1)\ty_score: (1062, 1)\ty_true: (1062, 1)\n",
      "y_pred: (1062, 1)\ty_score: (1062, 1)\ty_true: (1062, 1)\n",
      "y_pred: (1062, 1)\ty_score: (1062, 1)\ty_true: (1062, 1)\n",
      "y_pred: (1062, 1)\ty_score: (1062, 1)\ty_true: (1062, 1)\n",
      "y_pred: (1062, 1)\ty_score: (1062, 1)\ty_true: (1062, 1)\n"
     ]
    },
    {
     "name": "stderr",
     "output_type": "stream",
     "text": [
      "\n",
      " 93%|█████████▎| 14/15 [02:26<00:06,  6.04s/it]\u001b[A"
     ]
    },
    {
     "name": "stdout",
     "output_type": "stream",
     "text": [
      "y_pred: (1062, 1)\ty_score: (1062, 1)\ty_true: (1062, 1)\n",
      "VDR /p/vast1/jones289/hd_results/5/hdbind-rp-ecfp-1024-1-100k.lit-pcba-VDR-random.5.pkl hdbind-rp-ecfp-1024-1-100k\n",
      "y_pred: (66801, 1)\ty_score: (66801, 1)\ty_true: (66801, 1)\n",
      "y_pred: (66801, 1)\ty_score: (66801, 1)\ty_true: (66801, 1)\n",
      "y_pred: (66801, 1)\ty_score: (66801, 1)\ty_true: (66801, 1)\n",
      "y_pred: (66801, 1)\ty_score: (66801, 1)\ty_true: (66801, 1)\n",
      "y_pred: (66801, 1)\ty_score: (66801, 1)\ty_true: (66801, 1)\n",
      "y_pred: (66801, 1)\ty_score: (66801, 1)\ty_true: (66801, 1)\n",
      "y_pred: (66801, 1)\ty_score: (66801, 1)\ty_true: (66801, 1)\n",
      "y_pred: (66801, 1)\ty_score: (66801, 1)\ty_true: (66801, 1)\n",
      "y_pred: (66801, 1)\ty_score: (66801, 1)\ty_true: (66801, 1)\n",
      "y_pred: (66801, 1)\ty_score: (66801, 1)\ty_true: (66801, 1)\n",
      "y_pred: (66801, 1)\ty_score: (66801, 1)\ty_true: (66801, 1)\n",
      "y_pred: (66801, 1)\ty_score: (66801, 1)\ty_true: (66801, 1)\n",
      "y_pred: (66801, 1)\ty_score: (66801, 1)\ty_true: (66801, 1)\n",
      "y_pred: (66801, 1)\ty_score: (66801, 1)\ty_true: (66801, 1)\n",
      "y_pred: (66801, 1)\ty_score: (66801, 1)\ty_true: (66801, 1)\n",
      "y_pred: (66801, 1)\ty_score: (66801, 1)\ty_true: (66801, 1)\n",
      "y_pred: (66801, 1)\ty_score: (66801, 1)\ty_true: (66801, 1)\n",
      "y_pred: (66801, 1)\ty_score: (66801, 1)\ty_true: (66801, 1)\n",
      "y_pred: (66801, 1)\ty_score: (66801, 1)\ty_true: (66801, 1)\n",
      "y_pred: (66801, 1)\ty_score: (66801, 1)\ty_true: (66801, 1)\n"
     ]
    },
    {
     "name": "stderr",
     "output_type": "stream",
     "text": [
      "\n",
      "100%|██████████| 15/15 [02:43<00:00, 10.93s/it]\u001b[A\n",
      " 33%|███▎      | 3/9 [08:25<16:45, 167.65s/it]\n",
      "  0%|          | 0/15 [00:00<?, ?it/s]\u001b[A"
     ]
    },
    {
     "name": "stdout",
     "output_type": "stream",
     "text": [
      "ADRB2 /p/vast1/jones289/hd_results/5/hdbind-rp-molclr.lit-pcba-ADRB2-random.5.pkl hdbind-rp-molclr\n",
      "y_pred: (78125, 1)\ty_score: (78125, 1)\ty_true: (78125, 1)\n",
      "y_pred: (78125, 1)\ty_score: (78125, 1)\ty_true: (78125, 1)\n",
      "y_pred: (78125, 1)\ty_score: (78125, 1)\ty_true: (78125, 1)\n",
      "y_pred: (78125, 1)\ty_score: (78125, 1)\ty_true: (78125, 1)\n",
      "y_pred: (78125, 1)\ty_score: (78125, 1)\ty_true: (78125, 1)\n",
      "y_pred: (78125, 1)\ty_score: (78125, 1)\ty_true: (78125, 1)\n",
      "y_pred: (78125, 1)\ty_score: (78125, 1)\ty_true: (78125, 1)\n",
      "y_pred: (78125, 1)\ty_score: (78125, 1)\ty_true: (78125, 1)\n",
      "y_pred: (78125, 1)\ty_score: (78125, 1)\ty_true: (78125, 1)\n",
      "y_pred: (78125, 1)\ty_score: (78125, 1)\ty_true: (78125, 1)\n",
      "y_pred: (78125, 1)\ty_score: (78125, 1)\ty_true: (78125, 1)\n",
      "y_pred: (78125, 1)\ty_score: (78125, 1)\ty_true: (78125, 1)\n",
      "y_pred: (78125, 1)\ty_score: (78125, 1)\ty_true: (78125, 1)\n",
      "y_pred: (78125, 1)\ty_score: (78125, 1)\ty_true: (78125, 1)\n",
      "y_pred: (78125, 1)\ty_score: (78125, 1)\ty_true: (78125, 1)\n",
      "y_pred: (78125, 1)\ty_score: (78125, 1)\ty_true: (78125, 1)\n",
      "y_pred: (78125, 1)\ty_score: (78125, 1)\ty_true: (78125, 1)\n",
      "y_pred: (78125, 1)\ty_score: (78125, 1)\ty_true: (78125, 1)\n",
      "y_pred: (78125, 1)\ty_score: (78125, 1)\ty_true: (78125, 1)\n",
      "y_pred: (78125, 1)\ty_score: (78125, 1)\ty_true: (78125, 1)\n"
     ]
    },
    {
     "name": "stderr",
     "output_type": "stream",
     "text": [
      "\n",
      "  7%|▋         | 1/15 [00:19<04:33, 19.51s/it]\u001b[A"
     ]
    },
    {
     "name": "stdout",
     "output_type": "stream",
     "text": [
      "ALDH1 /p/vast1/jones289/hd_results/5/hdbind-rp-molclr.lit-pcba-ALDH1-random.5.pkl hdbind-rp-molclr\n",
      "y_pred: (27213, 1)\ty_score: (27213, 1)\ty_true: (27213, 1)\n",
      "y_pred: (27213, 1)\ty_score: (27213, 1)\ty_true: (27213, 1)\n",
      "y_pred: (27213, 1)\ty_score: (27213, 1)\ty_true: (27213, 1)\n",
      "y_pred: (27213, 1)\ty_score: (27213, 1)\ty_true: (27213, 1)\n",
      "y_pred: (27213, 1)\ty_score: (27213, 1)\ty_true: (27213, 1)\n",
      "y_pred: (27213, 1)\ty_score: (27213, 1)\ty_true: (27213, 1)\n",
      "y_pred: (27213, 1)\ty_score: (27213, 1)\ty_true: (27213, 1)\n",
      "y_pred: (27213, 1)\ty_score: (27213, 1)\ty_true: (27213, 1)\n",
      "y_pred: (27213, 1)\ty_score: (27213, 1)\ty_true: (27213, 1)\n",
      "y_pred: (27213, 1)\ty_score: (27213, 1)\ty_true: (27213, 1)\n",
      "y_pred: (27213, 1)\ty_score: (27213, 1)\ty_true: (27213, 1)\n",
      "y_pred: (27213, 1)\ty_score: (27213, 1)\ty_true: (27213, 1)\n",
      "y_pred: (27213, 1)\ty_score: (27213, 1)\ty_true: (27213, 1)\n",
      "y_pred: (27213, 1)\ty_score: (27213, 1)\ty_true: (27213, 1)\n",
      "y_pred: (27213, 1)\ty_score: (27213, 1)\ty_true: (27213, 1)\n",
      "y_pred: (27213, 1)\ty_score: (27213, 1)\ty_true: (27213, 1)\n",
      "y_pred: (27213, 1)\ty_score: (27213, 1)\ty_true: (27213, 1)\n",
      "y_pred: (27213, 1)\ty_score: (27213, 1)\ty_true: (27213, 1)\n",
      "y_pred: (27213, 1)\ty_score: (27213, 1)\ty_true: (27213, 1)\n",
      "y_pred: (27213, 1)\ty_score: (27213, 1)\ty_true: (27213, 1)\n"
     ]
    },
    {
     "name": "stderr",
     "output_type": "stream",
     "text": [
      "\n",
      " 13%|█▎        | 2/15 [00:25<02:27, 11.37s/it]\u001b[A"
     ]
    },
    {
     "name": "stdout",
     "output_type": "stream",
     "text": [
      "ESR1_ago /p/vast1/jones289/hd_results/5/hdbind-rp-molclr.lit-pcba-ESR1_ago-random.5.pkl hdbind-rp-molclr\n",
      "y_pred: (1399, 1)\ty_score: (1399, 1)\ty_true: (1399, 1)\n",
      "y_pred: (1399, 1)\ty_score: (1399, 1)\ty_true: (1399, 1)\n",
      "y_pred: (1399, 1)\ty_score: (1399, 1)\ty_true: (1399, 1)\n",
      "y_pred: (1399, 1)\ty_score: (1399, 1)\ty_true: (1399, 1)\n",
      "y_pred: (1399, 1)\ty_score: (1399, 1)\ty_true: (1399, 1)\n",
      "y_pred: (1399, 1)\ty_score: (1399, 1)\ty_true: (1399, 1)\n",
      "y_pred: (1399, 1)\ty_score: (1399, 1)\ty_true: (1399, 1)\n",
      "y_pred: (1399, 1)\ty_score: (1399, 1)\ty_true: (1399, 1)\n",
      "y_pred: (1399, 1)\ty_score: (1399, 1)\ty_true: (1399, 1)\n",
      "y_pred: (1399, 1)\ty_score: (1399, 1)\ty_true: (1399, 1)\n",
      "y_pred: (1399, 1)\ty_score: (1399, 1)\ty_true: (1399, 1)\n",
      "y_pred: (1399, 1)\ty_score: (1399, 1)\ty_true: (1399, 1)\n"
     ]
    },
    {
     "name": "stderr",
     "output_type": "stream",
     "text": [
      "\n",
      " 20%|██        | 3/15 [00:25<01:15,  6.33s/it]\u001b[A"
     ]
    },
    {
     "name": "stdout",
     "output_type": "stream",
     "text": [
      "y_pred: (1399, 1)\ty_score: (1399, 1)\ty_true: (1399, 1)\n",
      "y_pred: (1399, 1)\ty_score: (1399, 1)\ty_true: (1399, 1)\n",
      "y_pred: (1399, 1)\ty_score: (1399, 1)\ty_true: (1399, 1)\n",
      "y_pred: (1399, 1)\ty_score: (1399, 1)\ty_true: (1399, 1)\n",
      "y_pred: (1399, 1)\ty_score: (1399, 1)\ty_true: (1399, 1)\n",
      "y_pred: (1399, 1)\ty_score: (1399, 1)\ty_true: (1399, 1)\n",
      "y_pred: (1399, 1)\ty_score: (1399, 1)\ty_true: (1399, 1)\n",
      "y_pred: (1399, 1)\ty_score: (1399, 1)\ty_true: (1399, 1)\n",
      "ESR1_ant /p/vast1/jones289/hd_results/5/hdbind-rp-molclr.lit-pcba-ESR1_ant-random.5.pkl hdbind-rp-molclr\n",
      "y_pred: (1263, 1)\ty_score: (1263, 1)\ty_true: (1263, 1)\n",
      "y_pred: (1263, 1)\ty_score: (1263, 1)\ty_true: (1263, 1)\n",
      "y_pred: (1263, 1)\ty_score: (1263, 1)\ty_true: (1263, 1)\n",
      "y_pred: (1263, 1)\ty_score: (1263, 1)\ty_true: (1263, 1)\n",
      "y_pred: (1263, 1)\ty_score: (1263, 1)\ty_true: (1263, 1)\n",
      "y_pred: (1263, 1)\ty_score: (1263, 1)\ty_true: (1263, 1)\n",
      "y_pred: (1263, 1)\ty_score: (1263, 1)\ty_true: (1263, 1)\n",
      "y_pred: (1263, 1)\ty_score: (1263, 1)\ty_true: (1263, 1)\n",
      "y_pred: (1263, 1)\ty_score: (1263, 1)\ty_true: (1263, 1)\n",
      "y_pred: (1263, 1)\ty_score: (1263, 1)\ty_true: (1263, 1)\n",
      "y_pred: (1263, 1)\ty_score: (1263, 1)\ty_true: (1263, 1)\n",
      "y_pred: (1263, 1)\ty_score: (1263, 1)\ty_true: (1263, 1)\n",
      "y_pred: (1263, 1)\ty_score: (1263, 1)\ty_true: (1263, 1)\n",
      "y_pred: (1263, 1)\ty_score: (1263, 1)\ty_true: (1263, 1)\n",
      "y_pred: (1263, 1)\ty_score: (1263, 1)\ty_true: (1263, 1)\n",
      "y_pred: (1263, 1)\ty_score: (1263, 1)\ty_true: (1263, 1)\n",
      "y_pred: (1263, 1)\ty_score: (1263, 1)\ty_true: (1263, 1)\n",
      "y_pred: (1263, 1)\ty_score: (1263, 1)\ty_true: (1263, 1)\n",
      "y_pred: (1263, 1)\ty_score: (1263, 1)\ty_true: (1263, 1)\n",
      "y_pred: (1263, 1)\ty_score: (1263, 1)\ty_true: (1263, 1)\n"
     ]
    },
    {
     "name": "stderr",
     "output_type": "stream",
     "text": [
      "\n",
      " 27%|██▋       | 4/15 [00:25<00:43,  3.95s/it]\u001b[A"
     ]
    },
    {
     "name": "stdout",
     "output_type": "stream",
     "text": [
      "FEN1 /p/vast1/jones289/hd_results/5/hdbind-rp-molclr.lit-pcba-FEN1-random.5.pkl hdbind-rp-molclr\n",
      "y_pred: (88943, 1)\ty_score: (88943, 1)\ty_true: (88943, 1)\n",
      "y_pred: (88943, 1)\ty_score: (88943, 1)\ty_true: (88943, 1)\n",
      "y_pred: (88943, 1)\ty_score: (88943, 1)\ty_true: (88943, 1)\n",
      "y_pred: (88943, 1)\ty_score: (88943, 1)\ty_true: (88943, 1)\n",
      "y_pred: (88943, 1)\ty_score: (88943, 1)\ty_true: (88943, 1)\n",
      "y_pred: (88943, 1)\ty_score: (88943, 1)\ty_true: (88943, 1)\n",
      "y_pred: (88943, 1)\ty_score: (88943, 1)\ty_true: (88943, 1)\n",
      "y_pred: (88943, 1)\ty_score: (88943, 1)\ty_true: (88943, 1)\n",
      "y_pred: (88943, 1)\ty_score: (88943, 1)\ty_true: (88943, 1)\n",
      "y_pred: (88943, 1)\ty_score: (88943, 1)\ty_true: (88943, 1)\n",
      "y_pred: (88943, 1)\ty_score: (88943, 1)\ty_true: (88943, 1)\n",
      "y_pred: (88943, 1)\ty_score: (88943, 1)\ty_true: (88943, 1)\n",
      "y_pred: (88943, 1)\ty_score: (88943, 1)\ty_true: (88943, 1)\n",
      "y_pred: (88943, 1)\ty_score: (88943, 1)\ty_true: (88943, 1)\n",
      "y_pred: (88943, 1)\ty_score: (88943, 1)\ty_true: (88943, 1)\n",
      "y_pred: (88943, 1)\ty_score: (88943, 1)\ty_true: (88943, 1)\n",
      "y_pred: (88943, 1)\ty_score: (88943, 1)\ty_true: (88943, 1)\n",
      "y_pred: (88943, 1)\ty_score: (88943, 1)\ty_true: (88943, 1)\n",
      "y_pred: (88943, 1)\ty_score: (88943, 1)\ty_true: (88943, 1)\n",
      "y_pred: (88943, 1)\ty_score: (88943, 1)\ty_true: (88943, 1)\n"
     ]
    },
    {
     "name": "stderr",
     "output_type": "stream",
     "text": [
      "\n",
      " 33%|███▎      | 5/15 [00:46<01:41, 10.16s/it]\u001b[A"
     ]
    },
    {
     "name": "stdout",
     "output_type": "stream",
     "text": [
      "GBA /p/vast1/jones289/hd_results/5/hdbind-rp-molclr.lit-pcba-GBA-random.5.pkl hdbind-rp-molclr\n",
      "y_pred: (74055, 1)\ty_score: (74055, 1)\ty_true: (74055, 1)\n",
      "y_pred: (74055, 1)\ty_score: (74055, 1)\ty_true: (74055, 1)\n",
      "y_pred: (74055, 1)\ty_score: (74055, 1)\ty_true: (74055, 1)\n",
      "y_pred: (74055, 1)\ty_score: (74055, 1)\ty_true: (74055, 1)\n",
      "y_pred: (74055, 1)\ty_score: (74055, 1)\ty_true: (74055, 1)\n",
      "y_pred: (74055, 1)\ty_score: (74055, 1)\ty_true: (74055, 1)\n",
      "y_pred: (74055, 1)\ty_score: (74055, 1)\ty_true: (74055, 1)\n",
      "y_pred: (74055, 1)\ty_score: (74055, 1)\ty_true: (74055, 1)\n",
      "y_pred: (74055, 1)\ty_score: (74055, 1)\ty_true: (74055, 1)\n",
      "y_pred: (74055, 1)\ty_score: (74055, 1)\ty_true: (74055, 1)\n",
      "y_pred: (74055, 1)\ty_score: (74055, 1)\ty_true: (74055, 1)\n",
      "y_pred: (74055, 1)\ty_score: (74055, 1)\ty_true: (74055, 1)\n",
      "y_pred: (74055, 1)\ty_score: (74055, 1)\ty_true: (74055, 1)\n",
      "y_pred: (74055, 1)\ty_score: (74055, 1)\ty_true: (74055, 1)\n",
      "y_pred: (74055, 1)\ty_score: (74055, 1)\ty_true: (74055, 1)\n",
      "y_pred: (74055, 1)\ty_score: (74055, 1)\ty_true: (74055, 1)\n",
      "y_pred: (74055, 1)\ty_score: (74055, 1)\ty_true: (74055, 1)\n",
      "y_pred: (74055, 1)\ty_score: (74055, 1)\ty_true: (74055, 1)\n",
      "y_pred: (74055, 1)\ty_score: (74055, 1)\ty_true: (74055, 1)\n",
      "y_pred: (74055, 1)\ty_score: (74055, 1)\ty_true: (74055, 1)\n"
     ]
    },
    {
     "name": "stderr",
     "output_type": "stream",
     "text": [
      "\n",
      " 40%|████      | 6/15 [01:04<01:52, 12.54s/it]\u001b[A"
     ]
    },
    {
     "name": "stdout",
     "output_type": "stream",
     "text": [
      "IDH1 /p/vast1/jones289/hd_results/5/hdbind-rp-molclr.lit-pcba-IDH1-random.5.pkl hdbind-rp-molclr\n",
      "y_pred: (90522, 1)\ty_score: (90522, 1)\ty_true: (90522, 1)\n",
      "y_pred: (90522, 1)\ty_score: (90522, 1)\ty_true: (90522, 1)\n",
      "y_pred: (90522, 1)\ty_score: (90522, 1)\ty_true: (90522, 1)\n",
      "y_pred: (90522, 1)\ty_score: (90522, 1)\ty_true: (90522, 1)\n",
      "y_pred: (90522, 1)\ty_score: (90522, 1)\ty_true: (90522, 1)\n",
      "y_pred: (90522, 1)\ty_score: (90522, 1)\ty_true: (90522, 1)\n",
      "y_pred: (90522, 1)\ty_score: (90522, 1)\ty_true: (90522, 1)\n",
      "y_pred: (90522, 1)\ty_score: (90522, 1)\ty_true: (90522, 1)\n",
      "y_pred: (90522, 1)\ty_score: (90522, 1)\ty_true: (90522, 1)\n",
      "y_pred: (90522, 1)\ty_score: (90522, 1)\ty_true: (90522, 1)\n",
      "y_pred: (90522, 1)\ty_score: (90522, 1)\ty_true: (90522, 1)\n",
      "y_pred: (90522, 1)\ty_score: (90522, 1)\ty_true: (90522, 1)\n",
      "y_pred: (90522, 1)\ty_score: (90522, 1)\ty_true: (90522, 1)\n",
      "y_pred: (90522, 1)\ty_score: (90522, 1)\ty_true: (90522, 1)\n",
      "y_pred: (90522, 1)\ty_score: (90522, 1)\ty_true: (90522, 1)\n",
      "y_pred: (90522, 1)\ty_score: (90522, 1)\ty_true: (90522, 1)\n",
      "y_pred: (90522, 1)\ty_score: (90522, 1)\ty_true: (90522, 1)\n",
      "y_pred: (90522, 1)\ty_score: (90522, 1)\ty_true: (90522, 1)\n",
      "y_pred: (90522, 1)\ty_score: (90522, 1)\ty_true: (90522, 1)\n",
      "y_pred: (90522, 1)\ty_score: (90522, 1)\ty_true: (90522, 1)\n"
     ]
    },
    {
     "name": "stderr",
     "output_type": "stream",
     "text": [
      "\n",
      " 47%|████▋     | 7/15 [01:27<02:08, 16.00s/it]\u001b[A"
     ]
    },
    {
     "name": "stdout",
     "output_type": "stream",
     "text": [
      "KAT2A /p/vast1/jones289/hd_results/5/hdbind-rp-molclr.lit-pcba-KAT2A-random.5.pkl hdbind-rp-molclr\n",
      "y_pred: (87186, 1)\ty_score: (87186, 1)\ty_true: (87186, 1)\n",
      "y_pred: (87186, 1)\ty_score: (87186, 1)\ty_true: (87186, 1)\n",
      "y_pred: (87186, 1)\ty_score: (87186, 1)\ty_true: (87186, 1)\n",
      "y_pred: (87186, 1)\ty_score: (87186, 1)\ty_true: (87186, 1)\n",
      "y_pred: (87186, 1)\ty_score: (87186, 1)\ty_true: (87186, 1)\n",
      "y_pred: (87186, 1)\ty_score: (87186, 1)\ty_true: (87186, 1)\n",
      "y_pred: (87186, 1)\ty_score: (87186, 1)\ty_true: (87186, 1)\n",
      "y_pred: (87186, 1)\ty_score: (87186, 1)\ty_true: (87186, 1)\n",
      "y_pred: (87186, 1)\ty_score: (87186, 1)\ty_true: (87186, 1)\n",
      "y_pred: (87186, 1)\ty_score: (87186, 1)\ty_true: (87186, 1)\n",
      "y_pred: (87186, 1)\ty_score: (87186, 1)\ty_true: (87186, 1)\n",
      "y_pred: (87186, 1)\ty_score: (87186, 1)\ty_true: (87186, 1)\n",
      "y_pred: (87186, 1)\ty_score: (87186, 1)\ty_true: (87186, 1)\n",
      "y_pred: (87186, 1)\ty_score: (87186, 1)\ty_true: (87186, 1)\n",
      "y_pred: (87186, 1)\ty_score: (87186, 1)\ty_true: (87186, 1)\n",
      "y_pred: (87186, 1)\ty_score: (87186, 1)\ty_true: (87186, 1)\n",
      "y_pred: (87186, 1)\ty_score: (87186, 1)\ty_true: (87186, 1)\n",
      "y_pred: (87186, 1)\ty_score: (87186, 1)\ty_true: (87186, 1)\n",
      "y_pred: (87186, 1)\ty_score: (87186, 1)\ty_true: (87186, 1)\n",
      "y_pred: (87186, 1)\ty_score: (87186, 1)\ty_true: (87186, 1)\n"
     ]
    },
    {
     "name": "stderr",
     "output_type": "stream",
     "text": [
      "\n",
      " 53%|█████▎    | 8/15 [01:50<02:07, 18.28s/it]\u001b[A"
     ]
    },
    {
     "name": "stdout",
     "output_type": "stream",
     "text": [
      "MAPK1 /p/vast1/jones289/hd_results/5/hdbind-rp-molclr.lit-pcba-MAPK1-random.5.pkl hdbind-rp-molclr\n",
      "y_pred: (15735, 1)\ty_score: (15735, 1)\ty_true: (15735, 1)\n",
      "y_pred: (15735, 1)\ty_score: (15735, 1)\ty_true: (15735, 1)\n",
      "y_pred: (15735, 1)\ty_score: (15735, 1)\ty_true: (15735, 1)\n",
      "y_pred: (15735, 1)\ty_score: (15735, 1)\ty_true: (15735, 1)\n",
      "y_pred: (15735, 1)\ty_score: (15735, 1)\ty_true: (15735, 1)\n",
      "y_pred: (15735, 1)\ty_score: (15735, 1)\ty_true: (15735, 1)\n",
      "y_pred: (15735, 1)\ty_score: (15735, 1)\ty_true: (15735, 1)\n",
      "y_pred: (15735, 1)\ty_score: (15735, 1)\ty_true: (15735, 1)\n",
      "y_pred: (15735, 1)\ty_score: (15735, 1)\ty_true: (15735, 1)\n",
      "y_pred: (15735, 1)\ty_score: (15735, 1)\ty_true: (15735, 1)\n",
      "y_pred: (15735, 1)\ty_score: (15735, 1)\ty_true: (15735, 1)\n",
      "y_pred: (15735, 1)\ty_score: (15735, 1)\ty_true: (15735, 1)\n",
      "y_pred: (15735, 1)\ty_score: (15735, 1)\ty_true: (15735, 1)\n",
      "y_pred: (15735, 1)\ty_score: (15735, 1)\ty_true: (15735, 1)\n",
      "y_pred: (15735, 1)\ty_score: (15735, 1)\ty_true: (15735, 1)\n",
      "y_pred: (15735, 1)\ty_score: (15735, 1)\ty_true: (15735, 1)\n",
      "y_pred: (15735, 1)\ty_score: (15735, 1)\ty_true: (15735, 1)\n",
      "y_pred: (15735, 1)\ty_score: (15735, 1)\ty_true: (15735, 1)\n",
      "y_pred: (15735, 1)\ty_score: (15735, 1)\ty_true: (15735, 1)\n"
     ]
    },
    {
     "name": "stderr",
     "output_type": "stream",
     "text": [
      "\n",
      " 60%|██████    | 9/15 [01:53<01:21, 13.62s/it]\u001b[A"
     ]
    },
    {
     "name": "stdout",
     "output_type": "stream",
     "text": [
      "y_pred: (15735, 1)\ty_score: (15735, 1)\ty_true: (15735, 1)\n",
      "MTORC1 /p/vast1/jones289/hd_results/5/hdbind-rp-molclr.lit-pcba-MTORC1-random.5.pkl hdbind-rp-molclr\n",
      "y_pred: (8268, 1)\ty_score: (8268, 1)\ty_true: (8268, 1)\n",
      "y_pred: (8268, 1)\ty_score: (8268, 1)\ty_true: (8268, 1)\n",
      "y_pred: (8268, 1)\ty_score: (8268, 1)\ty_true: (8268, 1)\n",
      "y_pred: (8268, 1)\ty_score: (8268, 1)\ty_true: (8268, 1)\n",
      "y_pred: (8268, 1)\ty_score: (8268, 1)\ty_true: (8268, 1)\n",
      "y_pred: (8268, 1)\ty_score: (8268, 1)\ty_true: (8268, 1)\n",
      "y_pred: (8268, 1)\ty_score: (8268, 1)\ty_true: (8268, 1)\n",
      "y_pred: (8268, 1)\ty_score: (8268, 1)\ty_true: (8268, 1)\n",
      "y_pred: (8268, 1)\ty_score: (8268, 1)\ty_true: (8268, 1)\n",
      "y_pred: (8268, 1)\ty_score: (8268, 1)\ty_true: (8268, 1)\n",
      "y_pred: (8268, 1)\ty_score: (8268, 1)\ty_true: (8268, 1)\n",
      "y_pred: (8268, 1)\ty_score: (8268, 1)\ty_true: (8268, 1)\n",
      "y_pred: (8268, 1)\ty_score: (8268, 1)\ty_true: (8268, 1)\n",
      "y_pred: (8268, 1)\ty_score: (8268, 1)\ty_true: (8268, 1)\n",
      "y_pred: (8268, 1)\ty_score: (8268, 1)\ty_true: (8268, 1)\n",
      "y_pred: (8268, 1)\ty_score: (8268, 1)\ty_true: (8268, 1)\n",
      "y_pred: (8268, 1)\ty_score: (8268, 1)\ty_true: (8268, 1)\n",
      "y_pred: (8268, 1)\ty_score: (8268, 1)\ty_true: (8268, 1)\n",
      "y_pred: (8268, 1)\ty_score: (8268, 1)\ty_true: (8268, 1)\n",
      "y_pred: (8268, 1)\ty_score: (8268, 1)\ty_true: (8268, 1)\n"
     ]
    },
    {
     "name": "stderr",
     "output_type": "stream",
     "text": [
      "\n",
      " 67%|██████▋   | 10/15 [01:55<00:49,  9.90s/it]\u001b[A"
     ]
    },
    {
     "name": "stdout",
     "output_type": "stream",
     "text": [
      "OPRK1 /p/vast1/jones289/hd_results/5/hdbind-rp-molclr.lit-pcba-OPRK1-random.5.pkl hdbind-rp-molclr\n",
      "y_pred: (67460, 1)\ty_score: (67460, 1)\ty_true: (67460, 1)\n",
      "y_pred: (67460, 1)\ty_score: (67460, 1)\ty_true: (67460, 1)\n",
      "y_pred: (67460, 1)\ty_score: (67460, 1)\ty_true: (67460, 1)\n",
      "y_pred: (67460, 1)\ty_score: (67460, 1)\ty_true: (67460, 1)\n",
      "y_pred: (67460, 1)\ty_score: (67460, 1)\ty_true: (67460, 1)\n",
      "y_pred: (67460, 1)\ty_score: (67460, 1)\ty_true: (67460, 1)\n",
      "y_pred: (67460, 1)\ty_score: (67460, 1)\ty_true: (67460, 1)\n",
      "y_pred: (67460, 1)\ty_score: (67460, 1)\ty_true: (67460, 1)\n",
      "y_pred: (67460, 1)\ty_score: (67460, 1)\ty_true: (67460, 1)\n",
      "y_pred: (67460, 1)\ty_score: (67460, 1)\ty_true: (67460, 1)\n",
      "y_pred: (67460, 1)\ty_score: (67460, 1)\ty_true: (67460, 1)\n",
      "y_pred: (67460, 1)\ty_score: (67460, 1)\ty_true: (67460, 1)\n",
      "y_pred: (67460, 1)\ty_score: (67460, 1)\ty_true: (67460, 1)\n",
      "y_pred: (67460, 1)\ty_score: (67460, 1)\ty_true: (67460, 1)\n",
      "y_pred: (67460, 1)\ty_score: (67460, 1)\ty_true: (67460, 1)\n",
      "y_pred: (67460, 1)\ty_score: (67460, 1)\ty_true: (67460, 1)\n",
      "y_pred: (67460, 1)\ty_score: (67460, 1)\ty_true: (67460, 1)\n",
      "y_pred: (67460, 1)\ty_score: (67460, 1)\ty_true: (67460, 1)\n",
      "y_pred: (67460, 1)\ty_score: (67460, 1)\ty_true: (67460, 1)\n",
      "y_pred: (67460, 1)\ty_score: (67460, 1)\ty_true: (67460, 1)\n"
     ]
    },
    {
     "name": "stderr",
     "output_type": "stream",
     "text": [
      "\n",
      " 73%|███████▎  | 11/15 [02:12<00:48, 12.06s/it]\u001b[A"
     ]
    },
    {
     "name": "stdout",
     "output_type": "stream",
     "text": [
      "PKM2 /p/vast1/jones289/hd_results/5/hdbind-rp-molclr.lit-pcba-PKM2-random.5.pkl hdbind-rp-molclr\n",
      "y_pred: (61518, 1)\ty_score: (61518, 1)\ty_true: (61518, 1)\n",
      "y_pred: (61518, 1)\ty_score: (61518, 1)\ty_true: (61518, 1)\n",
      "y_pred: (61518, 1)\ty_score: (61518, 1)\ty_true: (61518, 1)\n",
      "y_pred: (61518, 1)\ty_score: (61518, 1)\ty_true: (61518, 1)\n",
      "y_pred: (61518, 1)\ty_score: (61518, 1)\ty_true: (61518, 1)\n",
      "y_pred: (61518, 1)\ty_score: (61518, 1)\ty_true: (61518, 1)\n",
      "y_pred: (61518, 1)\ty_score: (61518, 1)\ty_true: (61518, 1)\n",
      "y_pred: (61518, 1)\ty_score: (61518, 1)\ty_true: (61518, 1)\n",
      "y_pred: (61518, 1)\ty_score: (61518, 1)\ty_true: (61518, 1)\n",
      "y_pred: (61518, 1)\ty_score: (61518, 1)\ty_true: (61518, 1)\n",
      "y_pred: (61518, 1)\ty_score: (61518, 1)\ty_true: (61518, 1)\n",
      "y_pred: (61518, 1)\ty_score: (61518, 1)\ty_true: (61518, 1)\n",
      "y_pred: (61518, 1)\ty_score: (61518, 1)\ty_true: (61518, 1)\n",
      "y_pred: (61518, 1)\ty_score: (61518, 1)\ty_true: (61518, 1)\n",
      "y_pred: (61518, 1)\ty_score: (61518, 1)\ty_true: (61518, 1)\n",
      "y_pred: (61518, 1)\ty_score: (61518, 1)\ty_true: (61518, 1)\n",
      "y_pred: (61518, 1)\ty_score: (61518, 1)\ty_true: (61518, 1)\n",
      "y_pred: (61518, 1)\ty_score: (61518, 1)\ty_true: (61518, 1)\n",
      "y_pred: (61518, 1)\ty_score: (61518, 1)\ty_true: (61518, 1)\n",
      "y_pred: (61518, 1)\ty_score: (61518, 1)\ty_true: (61518, 1)\n"
     ]
    },
    {
     "name": "stderr",
     "output_type": "stream",
     "text": [
      "\n",
      " 80%|████████  | 12/15 [02:26<00:38, 12.76s/it]\u001b[A"
     ]
    },
    {
     "name": "stdout",
     "output_type": "stream",
     "text": [
      "PPARG /p/vast1/jones289/hd_results/5/hdbind-rp-molclr.lit-pcba-PPARG-random.5.pkl hdbind-rp-molclr\n",
      "y_pred: (1310, 1)\ty_score: (1310, 1)\ty_true: (1310, 1)\n",
      "y_pred: (1310, 1)\ty_score: (1310, 1)\ty_true: (1310, 1)\n",
      "y_pred: (1310, 1)\ty_score: (1310, 1)\ty_true: (1310, 1)\n",
      "y_pred: (1310, 1)\ty_score: (1310, 1)\ty_true: (1310, 1)\n",
      "y_pred: (1310, 1)\ty_score: (1310, 1)\ty_true: (1310, 1)\n",
      "y_pred: (1310, 1)\ty_score: (1310, 1)\ty_true: (1310, 1)\n",
      "y_pred: (1310, 1)\ty_score: (1310, 1)\ty_true: (1310, 1)\n",
      "y_pred: (1310, 1)\ty_score: (1310, 1)\ty_true: (1310, 1)\n",
      "y_pred: (1310, 1)\ty_score: (1310, 1)\ty_true: (1310, 1)\n",
      "y_pred: (1310, 1)\ty_score: (1310, 1)\ty_true: (1310, 1)\n",
      "y_pred: (1310, 1)\ty_score: (1310, 1)\ty_true: (1310, 1)\n",
      "y_pred: (1310, 1)\ty_score: (1310, 1)\ty_true: (1310, 1)\n",
      "y_pred: (1310, 1)\ty_score: (1310, 1)\ty_true: (1310, 1)\n"
     ]
    },
    {
     "name": "stderr",
     "output_type": "stream",
     "text": [
      "\n",
      " 87%|████████▋ | 13/15 [02:27<00:17,  8.99s/it]\u001b[A"
     ]
    },
    {
     "name": "stdout",
     "output_type": "stream",
     "text": [
      "y_pred: (1310, 1)\ty_score: (1310, 1)\ty_true: (1310, 1)\n",
      "y_pred: (1310, 1)\ty_score: (1310, 1)\ty_true: (1310, 1)\n",
      "y_pred: (1310, 1)\ty_score: (1310, 1)\ty_true: (1310, 1)\n",
      "y_pred: (1310, 1)\ty_score: (1310, 1)\ty_true: (1310, 1)\n",
      "y_pred: (1310, 1)\ty_score: (1310, 1)\ty_true: (1310, 1)\n",
      "y_pred: (1310, 1)\ty_score: (1310, 1)\ty_true: (1310, 1)\n",
      "y_pred: (1310, 1)\ty_score: (1310, 1)\ty_true: (1310, 1)\n",
      "TP53 /p/vast1/jones289/hd_results/5/hdbind-rp-molclr.lit-pcba-TP53-random.5.pkl hdbind-rp-molclr\n",
      "y_pred: (1062, 1)\ty_score: (1062, 1)\ty_true: (1062, 1)\n",
      "y_pred: (1062, 1)\ty_score: (1062, 1)\ty_true: (1062, 1)\n",
      "y_pred: (1062, 1)\ty_score: (1062, 1)\ty_true: (1062, 1)\n",
      "y_pred: (1062, 1)\ty_score: (1062, 1)\ty_true: (1062, 1)\n",
      "y_pred: (1062, 1)\ty_score: (1062, 1)\ty_true: (1062, 1)\n",
      "y_pred: (1062, 1)\ty_score: (1062, 1)\ty_true: (1062, 1)\n",
      "y_pred: (1062, 1)\ty_score: (1062, 1)\ty_true: (1062, 1)\n",
      "y_pred: (1062, 1)\ty_score: (1062, 1)\ty_true: (1062, 1)\n",
      "y_pred: (1062, 1)\ty_score: (1062, 1)\ty_true: (1062, 1)\n"
     ]
    },
    {
     "name": "stderr",
     "output_type": "stream",
     "text": [
      "\n",
      " 93%|█████████▎| 14/15 [02:27<00:06,  6.35s/it]\u001b[A"
     ]
    },
    {
     "name": "stdout",
     "output_type": "stream",
     "text": [
      "y_pred: (1062, 1)\ty_score: (1062, 1)\ty_true: (1062, 1)\n",
      "y_pred: (1062, 1)\ty_score: (1062, 1)\ty_true: (1062, 1)\n",
      "y_pred: (1062, 1)\ty_score: (1062, 1)\ty_true: (1062, 1)\n",
      "y_pred: (1062, 1)\ty_score: (1062, 1)\ty_true: (1062, 1)\n",
      "y_pred: (1062, 1)\ty_score: (1062, 1)\ty_true: (1062, 1)\n",
      "y_pred: (1062, 1)\ty_score: (1062, 1)\ty_true: (1062, 1)\n",
      "y_pred: (1062, 1)\ty_score: (1062, 1)\ty_true: (1062, 1)\n",
      "y_pred: (1062, 1)\ty_score: (1062, 1)\ty_true: (1062, 1)\n",
      "y_pred: (1062, 1)\ty_score: (1062, 1)\ty_true: (1062, 1)\n",
      "y_pred: (1062, 1)\ty_score: (1062, 1)\ty_true: (1062, 1)\n",
      "y_pred: (1062, 1)\ty_score: (1062, 1)\ty_true: (1062, 1)\n",
      "VDR /p/vast1/jones289/hd_results/5/hdbind-rp-molclr.lit-pcba-VDR-random.5.pkl hdbind-rp-molclr\n",
      "y_pred: (66801, 1)\ty_score: (66801, 1)\ty_true: (66801, 1)\n",
      "y_pred: (66801, 1)\ty_score: (66801, 1)\ty_true: (66801, 1)\n",
      "y_pred: (66801, 1)\ty_score: (66801, 1)\ty_true: (66801, 1)\n",
      "y_pred: (66801, 1)\ty_score: (66801, 1)\ty_true: (66801, 1)\n",
      "y_pred: (66801, 1)\ty_score: (66801, 1)\ty_true: (66801, 1)\n",
      "y_pred: (66801, 1)\ty_score: (66801, 1)\ty_true: (66801, 1)\n",
      "y_pred: (66801, 1)\ty_score: (66801, 1)\ty_true: (66801, 1)\n",
      "y_pred: (66801, 1)\ty_score: (66801, 1)\ty_true: (66801, 1)\n",
      "y_pred: (66801, 1)\ty_score: (66801, 1)\ty_true: (66801, 1)\n",
      "y_pred: (66801, 1)\ty_score: (66801, 1)\ty_true: (66801, 1)\n",
      "y_pred: (66801, 1)\ty_score: (66801, 1)\ty_true: (66801, 1)\n",
      "y_pred: (66801, 1)\ty_score: (66801, 1)\ty_true: (66801, 1)\n",
      "y_pred: (66801, 1)\ty_score: (66801, 1)\ty_true: (66801, 1)\n",
      "y_pred: (66801, 1)\ty_score: (66801, 1)\ty_true: (66801, 1)\n",
      "y_pred: (66801, 1)\ty_score: (66801, 1)\ty_true: (66801, 1)\n",
      "y_pred: (66801, 1)\ty_score: (66801, 1)\ty_true: (66801, 1)\n",
      "y_pred: (66801, 1)\ty_score: (66801, 1)\ty_true: (66801, 1)\n",
      "y_pred: (66801, 1)\ty_score: (66801, 1)\ty_true: (66801, 1)\n",
      "y_pred: (66801, 1)\ty_score: (66801, 1)\ty_true: (66801, 1)\n",
      "y_pred: (66801, 1)\ty_score: (66801, 1)\ty_true: (66801, 1)\n"
     ]
    },
    {
     "name": "stderr",
     "output_type": "stream",
     "text": [
      "\n",
      "100%|██████████| 15/15 [02:43<00:00, 10.91s/it]\u001b[A\n",
      " 44%|████▍     | 4/9 [11:08<13:50, 166.07s/it]\n",
      "  0%|          | 0/15 [00:00<?, ?it/s]\u001b[A"
     ]
    },
    {
     "name": "stdout",
     "output_type": "stream",
     "text": [
      "ADRB2 /p/vast1/jones289/hd_results/5/hdbind-rp-molclr-100k.lit-pcba-ADRB2-random.5.pkl hdbind-rp-molclr-100k\n",
      "y_pred: (78125, 1)\ty_score: (78125, 1)\ty_true: (78125, 1)\n",
      "y_pred: (78125, 1)\ty_score: (78125, 1)\ty_true: (78125, 1)\n",
      "y_pred: (78125, 1)\ty_score: (78125, 1)\ty_true: (78125, 1)\n",
      "y_pred: (78125, 1)\ty_score: (78125, 1)\ty_true: (78125, 1)\n",
      "y_pred: (78125, 1)\ty_score: (78125, 1)\ty_true: (78125, 1)\n",
      "y_pred: (78125, 1)\ty_score: (78125, 1)\ty_true: (78125, 1)\n",
      "y_pred: (78125, 1)\ty_score: (78125, 1)\ty_true: (78125, 1)\n",
      "y_pred: (78125, 1)\ty_score: (78125, 1)\ty_true: (78125, 1)\n",
      "y_pred: (78125, 1)\ty_score: (78125, 1)\ty_true: (78125, 1)\n",
      "y_pred: (78125, 1)\ty_score: (78125, 1)\ty_true: (78125, 1)\n",
      "y_pred: (78125, 1)\ty_score: (78125, 1)\ty_true: (78125, 1)\n",
      "y_pred: (78125, 1)\ty_score: (78125, 1)\ty_true: (78125, 1)\n",
      "y_pred: (78125, 1)\ty_score: (78125, 1)\ty_true: (78125, 1)\n",
      "y_pred: (78125, 1)\ty_score: (78125, 1)\ty_true: (78125, 1)\n",
      "y_pred: (78125, 1)\ty_score: (78125, 1)\ty_true: (78125, 1)\n",
      "y_pred: (78125, 1)\ty_score: (78125, 1)\ty_true: (78125, 1)\n",
      "y_pred: (78125, 1)\ty_score: (78125, 1)\ty_true: (78125, 1)\n",
      "y_pred: (78125, 1)\ty_score: (78125, 1)\ty_true: (78125, 1)\n",
      "y_pred: (78125, 1)\ty_score: (78125, 1)\ty_true: (78125, 1)\n",
      "y_pred: (78125, 1)\ty_score: (78125, 1)\ty_true: (78125, 1)\n"
     ]
    },
    {
     "name": "stderr",
     "output_type": "stream",
     "text": [
      "\n",
      "  7%|▋         | 1/15 [00:20<04:50, 20.78s/it]\u001b[A"
     ]
    },
    {
     "name": "stdout",
     "output_type": "stream",
     "text": [
      "ALDH1 /p/vast1/jones289/hd_results/5/hdbind-rp-molclr-100k.lit-pcba-ALDH1-random.5.pkl hdbind-rp-molclr-100k\n",
      "y_pred: (27213, 1)\ty_score: (27213, 1)\ty_true: (27213, 1)\n",
      "y_pred: (27213, 1)\ty_score: (27213, 1)\ty_true: (27213, 1)\n",
      "y_pred: (27213, 1)\ty_score: (27213, 1)\ty_true: (27213, 1)\n",
      "y_pred: (27213, 1)\ty_score: (27213, 1)\ty_true: (27213, 1)\n",
      "y_pred: (27213, 1)\ty_score: (27213, 1)\ty_true: (27213, 1)\n",
      "y_pred: (27213, 1)\ty_score: (27213, 1)\ty_true: (27213, 1)\n",
      "y_pred: (27213, 1)\ty_score: (27213, 1)\ty_true: (27213, 1)\n",
      "y_pred: (27213, 1)\ty_score: (27213, 1)\ty_true: (27213, 1)\n",
      "y_pred: (27213, 1)\ty_score: (27213, 1)\ty_true: (27213, 1)\n",
      "y_pred: (27213, 1)\ty_score: (27213, 1)\ty_true: (27213, 1)\n",
      "y_pred: (27213, 1)\ty_score: (27213, 1)\ty_true: (27213, 1)\n",
      "y_pred: (27213, 1)\ty_score: (27213, 1)\ty_true: (27213, 1)\n",
      "y_pred: (27213, 1)\ty_score: (27213, 1)\ty_true: (27213, 1)\n",
      "y_pred: (27213, 1)\ty_score: (27213, 1)\ty_true: (27213, 1)\n",
      "y_pred: (27213, 1)\ty_score: (27213, 1)\ty_true: (27213, 1)\n",
      "y_pred: (27213, 1)\ty_score: (27213, 1)\ty_true: (27213, 1)\n",
      "y_pred: (27213, 1)\ty_score: (27213, 1)\ty_true: (27213, 1)\n",
      "y_pred: (27213, 1)\ty_score: (27213, 1)\ty_true: (27213, 1)\n",
      "y_pred: (27213, 1)\ty_score: (27213, 1)\ty_true: (27213, 1)\n",
      "y_pred: (27213, 1)\ty_score: (27213, 1)\ty_true: (27213, 1)\n"
     ]
    },
    {
     "name": "stderr",
     "output_type": "stream",
     "text": [
      "\n",
      " 13%|█▎        | 2/15 [00:27<02:40, 12.37s/it]\u001b[A"
     ]
    },
    {
     "name": "stdout",
     "output_type": "stream",
     "text": [
      "ESR1_ago /p/vast1/jones289/hd_results/5/hdbind-rp-molclr-100k.lit-pcba-ESR1_ago-random.5.pkl hdbind-rp-molclr-100k\n",
      "y_pred: (1399, 1)\ty_score: (1399, 1)\ty_true: (1399, 1)\n",
      "y_pred: (1399, 1)\ty_score: (1399, 1)\ty_true: (1399, 1)\n",
      "y_pred: (1399, 1)\ty_score: (1399, 1)\ty_true: (1399, 1)\n",
      "y_pred: (1399, 1)\ty_score: (1399, 1)\ty_true: (1399, 1)\n",
      "y_pred: (1399, 1)\ty_score: (1399, 1)\ty_true: (1399, 1)\n",
      "y_pred: (1399, 1)\ty_score: (1399, 1)\ty_true: (1399, 1)\n",
      "y_pred: (1399, 1)\ty_score: (1399, 1)\ty_true: (1399, 1)\n",
      "y_pred: (1399, 1)\ty_score: (1399, 1)\ty_true: (1399, 1)\n",
      "y_pred: (1399, 1)\ty_score: (1399, 1)\ty_true: (1399, 1)\n",
      "y_pred: (1399, 1)\ty_score: (1399, 1)\ty_true: (1399, 1)\n",
      "y_pred: (1399, 1)\ty_score: (1399, 1)\ty_true: (1399, 1)\n",
      "y_pred: (1399, 1)\ty_score: (1399, 1)\ty_true: (1399, 1)\n",
      "y_pred: (1399, 1)\ty_score: (1399, 1)\ty_true: (1399, 1)\n",
      "y_pred: (1399, 1)\ty_score: (1399, 1)\ty_true: (1399, 1)\n",
      "y_pred: (1399, 1)\ty_score: (1399, 1)\ty_true: (1399, 1)\n",
      "y_pred: (1399, 1)\ty_score: (1399, 1)\ty_true: (1399, 1)\n",
      "y_pred: (1399, 1)\ty_score: (1399, 1)\ty_true: (1399, 1)\n",
      "y_pred: (1399, 1)\ty_score: (1399, 1)\ty_true: (1399, 1)\n"
     ]
    },
    {
     "name": "stderr",
     "output_type": "stream",
     "text": [
      "\n",
      " 20%|██        | 3/15 [00:27<01:23,  6.93s/it]\u001b[A"
     ]
    },
    {
     "name": "stdout",
     "output_type": "stream",
     "text": [
      "y_pred: (1399, 1)\ty_score: (1399, 1)\ty_true: (1399, 1)\n",
      "y_pred: (1399, 1)\ty_score: (1399, 1)\ty_true: (1399, 1)\n",
      "ESR1_ant /p/vast1/jones289/hd_results/5/hdbind-rp-molclr-100k.lit-pcba-ESR1_ant-random.5.pkl hdbind-rp-molclr-100k\n",
      "y_pred: (1263, 1)\ty_score: (1263, 1)\ty_true: (1263, 1)\n",
      "y_pred: (1263, 1)\ty_score: (1263, 1)\ty_true: (1263, 1)\n",
      "y_pred: (1263, 1)\ty_score: (1263, 1)\ty_true: (1263, 1)\n",
      "y_pred: (1263, 1)\ty_score: (1263, 1)\ty_true: (1263, 1)\n",
      "y_pred: (1263, 1)\ty_score: (1263, 1)\ty_true: (1263, 1)\n",
      "y_pred: (1263, 1)\ty_score: (1263, 1)\ty_true: (1263, 1)\n",
      "y_pred: (1263, 1)\ty_score: (1263, 1)\ty_true: (1263, 1)\n",
      "y_pred: (1263, 1)\ty_score: (1263, 1)\ty_true: (1263, 1)\n",
      "y_pred: (1263, 1)\ty_score: (1263, 1)\ty_true: (1263, 1)\n",
      "y_pred: (1263, 1)\ty_score: (1263, 1)\ty_true: (1263, 1)\n",
      "y_pred: (1263, 1)\ty_score: (1263, 1)\ty_true: (1263, 1)\n",
      "y_pred: (1263, 1)\ty_score: (1263, 1)\ty_true: (1263, 1)\n",
      "y_pred: (1263, 1)\ty_score: (1263, 1)\ty_true: (1263, 1)\n",
      "y_pred: (1263, 1)\ty_score: (1263, 1)\ty_true: (1263, 1)\n"
     ]
    },
    {
     "name": "stderr",
     "output_type": "stream",
     "text": [
      "\n",
      " 27%|██▋       | 4/15 [00:28<00:48,  4.39s/it]\u001b[A"
     ]
    },
    {
     "name": "stdout",
     "output_type": "stream",
     "text": [
      "y_pred: (1263, 1)\ty_score: (1263, 1)\ty_true: (1263, 1)\n",
      "y_pred: (1263, 1)\ty_score: (1263, 1)\ty_true: (1263, 1)\n",
      "y_pred: (1263, 1)\ty_score: (1263, 1)\ty_true: (1263, 1)\n",
      "y_pred: (1263, 1)\ty_score: (1263, 1)\ty_true: (1263, 1)\n",
      "y_pred: (1263, 1)\ty_score: (1263, 1)\ty_true: (1263, 1)\n",
      "y_pred: (1263, 1)\ty_score: (1263, 1)\ty_true: (1263, 1)\n",
      "FEN1 /p/vast1/jones289/hd_results/5/hdbind-rp-molclr-100k.lit-pcba-FEN1-random.5.pkl hdbind-rp-molclr-100k\n",
      "y_pred: (88943, 1)\ty_score: (88943, 1)\ty_true: (88943, 1)\n",
      "y_pred: (88943, 1)\ty_score: (88943, 1)\ty_true: (88943, 1)\n",
      "y_pred: (88943, 1)\ty_score: (88943, 1)\ty_true: (88943, 1)\n",
      "y_pred: (88943, 1)\ty_score: (88943, 1)\ty_true: (88943, 1)\n",
      "y_pred: (88943, 1)\ty_score: (88943, 1)\ty_true: (88943, 1)\n",
      "y_pred: (88943, 1)\ty_score: (88943, 1)\ty_true: (88943, 1)\n",
      "y_pred: (88943, 1)\ty_score: (88943, 1)\ty_true: (88943, 1)\n",
      "y_pred: (88943, 1)\ty_score: (88943, 1)\ty_true: (88943, 1)\n",
      "y_pred: (88943, 1)\ty_score: (88943, 1)\ty_true: (88943, 1)\n",
      "y_pred: (88943, 1)\ty_score: (88943, 1)\ty_true: (88943, 1)\n",
      "y_pred: (88943, 1)\ty_score: (88943, 1)\ty_true: (88943, 1)\n",
      "y_pred: (88943, 1)\ty_score: (88943, 1)\ty_true: (88943, 1)\n",
      "y_pred: (88943, 1)\ty_score: (88943, 1)\ty_true: (88943, 1)\n",
      "y_pred: (88943, 1)\ty_score: (88943, 1)\ty_true: (88943, 1)\n",
      "y_pred: (88943, 1)\ty_score: (88943, 1)\ty_true: (88943, 1)\n",
      "y_pred: (88943, 1)\ty_score: (88943, 1)\ty_true: (88943, 1)\n",
      "y_pred: (88943, 1)\ty_score: (88943, 1)\ty_true: (88943, 1)\n",
      "y_pred: (88943, 1)\ty_score: (88943, 1)\ty_true: (88943, 1)\n",
      "y_pred: (88943, 1)\ty_score: (88943, 1)\ty_true: (88943, 1)\n",
      "y_pred: (88943, 1)\ty_score: (88943, 1)\ty_true: (88943, 1)\n"
     ]
    },
    {
     "name": "stderr",
     "output_type": "stream",
     "text": [
      "\n",
      " 33%|███▎      | 5/15 [00:51<01:53, 11.38s/it]\u001b[A"
     ]
    },
    {
     "name": "stdout",
     "output_type": "stream",
     "text": [
      "GBA /p/vast1/jones289/hd_results/5/hdbind-rp-molclr-100k.lit-pcba-GBA-random.5.pkl hdbind-rp-molclr-100k\n",
      "y_pred: (74055, 1)\ty_score: (74055, 1)\ty_true: (74055, 1)\n",
      "y_pred: (74055, 1)\ty_score: (74055, 1)\ty_true: (74055, 1)\n",
      "y_pred: (74055, 1)\ty_score: (74055, 1)\ty_true: (74055, 1)\n",
      "y_pred: (74055, 1)\ty_score: (74055, 1)\ty_true: (74055, 1)\n",
      "y_pred: (74055, 1)\ty_score: (74055, 1)\ty_true: (74055, 1)\n",
      "y_pred: (74055, 1)\ty_score: (74055, 1)\ty_true: (74055, 1)\n",
      "y_pred: (74055, 1)\ty_score: (74055, 1)\ty_true: (74055, 1)\n",
      "y_pred: (74055, 1)\ty_score: (74055, 1)\ty_true: (74055, 1)\n",
      "y_pred: (74055, 1)\ty_score: (74055, 1)\ty_true: (74055, 1)\n",
      "y_pred: (74055, 1)\ty_score: (74055, 1)\ty_true: (74055, 1)\n",
      "y_pred: (74055, 1)\ty_score: (74055, 1)\ty_true: (74055, 1)\n",
      "y_pred: (74055, 1)\ty_score: (74055, 1)\ty_true: (74055, 1)\n",
      "y_pred: (74055, 1)\ty_score: (74055, 1)\ty_true: (74055, 1)\n",
      "y_pred: (74055, 1)\ty_score: (74055, 1)\ty_true: (74055, 1)\n",
      "y_pred: (74055, 1)\ty_score: (74055, 1)\ty_true: (74055, 1)\n",
      "y_pred: (74055, 1)\ty_score: (74055, 1)\ty_true: (74055, 1)\n",
      "y_pred: (74055, 1)\ty_score: (74055, 1)\ty_true: (74055, 1)\n",
      "y_pred: (74055, 1)\ty_score: (74055, 1)\ty_true: (74055, 1)\n",
      "y_pred: (74055, 1)\ty_score: (74055, 1)\ty_true: (74055, 1)\n",
      "y_pred: (74055, 1)\ty_score: (74055, 1)\ty_true: (74055, 1)\n"
     ]
    },
    {
     "name": "stderr",
     "output_type": "stream",
     "text": [
      "\n",
      " 40%|████      | 6/15 [01:09<02:02, 13.58s/it]\u001b[A"
     ]
    },
    {
     "name": "stdout",
     "output_type": "stream",
     "text": [
      "IDH1 /p/vast1/jones289/hd_results/5/hdbind-rp-molclr-100k.lit-pcba-IDH1-random.5.pkl hdbind-rp-molclr-100k\n",
      "y_pred: (90522, 1)\ty_score: (90522, 1)\ty_true: (90522, 1)\n",
      "y_pred: (90522, 1)\ty_score: (90522, 1)\ty_true: (90522, 1)\n",
      "y_pred: (90522, 1)\ty_score: (90522, 1)\ty_true: (90522, 1)\n",
      "y_pred: (90522, 1)\ty_score: (90522, 1)\ty_true: (90522, 1)\n",
      "y_pred: (90522, 1)\ty_score: (90522, 1)\ty_true: (90522, 1)\n",
      "y_pred: (90522, 1)\ty_score: (90522, 1)\ty_true: (90522, 1)\n",
      "y_pred: (90522, 1)\ty_score: (90522, 1)\ty_true: (90522, 1)\n",
      "y_pred: (90522, 1)\ty_score: (90522, 1)\ty_true: (90522, 1)\n",
      "y_pred: (90522, 1)\ty_score: (90522, 1)\ty_true: (90522, 1)\n",
      "y_pred: (90522, 1)\ty_score: (90522, 1)\ty_true: (90522, 1)\n",
      "y_pred: (90522, 1)\ty_score: (90522, 1)\ty_true: (90522, 1)\n",
      "y_pred: (90522, 1)\ty_score: (90522, 1)\ty_true: (90522, 1)\n",
      "y_pred: (90522, 1)\ty_score: (90522, 1)\ty_true: (90522, 1)\n",
      "y_pred: (90522, 1)\ty_score: (90522, 1)\ty_true: (90522, 1)\n",
      "y_pred: (90522, 1)\ty_score: (90522, 1)\ty_true: (90522, 1)\n",
      "y_pred: (90522, 1)\ty_score: (90522, 1)\ty_true: (90522, 1)\n",
      "y_pred: (90522, 1)\ty_score: (90522, 1)\ty_true: (90522, 1)\n",
      "y_pred: (90522, 1)\ty_score: (90522, 1)\ty_true: (90522, 1)\n",
      "y_pred: (90522, 1)\ty_score: (90522, 1)\ty_true: (90522, 1)\n",
      "y_pred: (90522, 1)\ty_score: (90522, 1)\ty_true: (90522, 1)\n"
     ]
    },
    {
     "name": "stderr",
     "output_type": "stream",
     "text": [
      "\n",
      " 47%|████▋     | 7/15 [01:30<02:08, 16.02s/it]\u001b[A"
     ]
    },
    {
     "name": "stdout",
     "output_type": "stream",
     "text": [
      "KAT2A /p/vast1/jones289/hd_results/5/hdbind-rp-molclr-100k.lit-pcba-KAT2A-random.5.pkl hdbind-rp-molclr-100k\n",
      "y_pred: (87186, 1)\ty_score: (87186, 1)\ty_true: (87186, 1)\n",
      "y_pred: (87186, 1)\ty_score: (87186, 1)\ty_true: (87186, 1)\n",
      "y_pred: (87186, 1)\ty_score: (87186, 1)\ty_true: (87186, 1)\n",
      "y_pred: (87186, 1)\ty_score: (87186, 1)\ty_true: (87186, 1)\n",
      "y_pred: (87186, 1)\ty_score: (87186, 1)\ty_true: (87186, 1)\n",
      "y_pred: (87186, 1)\ty_score: (87186, 1)\ty_true: (87186, 1)\n",
      "y_pred: (87186, 1)\ty_score: (87186, 1)\ty_true: (87186, 1)\n",
      "y_pred: (87186, 1)\ty_score: (87186, 1)\ty_true: (87186, 1)\n",
      "y_pred: (87186, 1)\ty_score: (87186, 1)\ty_true: (87186, 1)\n",
      "y_pred: (87186, 1)\ty_score: (87186, 1)\ty_true: (87186, 1)\n",
      "y_pred: (87186, 1)\ty_score: (87186, 1)\ty_true: (87186, 1)\n",
      "y_pred: (87186, 1)\ty_score: (87186, 1)\ty_true: (87186, 1)\n",
      "y_pred: (87186, 1)\ty_score: (87186, 1)\ty_true: (87186, 1)\n",
      "y_pred: (87186, 1)\ty_score: (87186, 1)\ty_true: (87186, 1)\n",
      "y_pred: (87186, 1)\ty_score: (87186, 1)\ty_true: (87186, 1)\n",
      "y_pred: (87186, 1)\ty_score: (87186, 1)\ty_true: (87186, 1)\n",
      "y_pred: (87186, 1)\ty_score: (87186, 1)\ty_true: (87186, 1)\n",
      "y_pred: (87186, 1)\ty_score: (87186, 1)\ty_true: (87186, 1)\n",
      "y_pred: (87186, 1)\ty_score: (87186, 1)\ty_true: (87186, 1)\n",
      "y_pred: (87186, 1)\ty_score: (87186, 1)\ty_true: (87186, 1)\n"
     ]
    },
    {
     "name": "stderr",
     "output_type": "stream",
     "text": [
      "\n",
      " 53%|█████▎    | 8/15 [01:54<02:08, 18.36s/it]\u001b[A"
     ]
    },
    {
     "name": "stdout",
     "output_type": "stream",
     "text": [
      "MAPK1 /p/vast1/jones289/hd_results/5/hdbind-rp-molclr-100k.lit-pcba-MAPK1-random.5.pkl hdbind-rp-molclr-100k\n",
      "y_pred: (15735, 1)\ty_score: (15735, 1)\ty_true: (15735, 1)\n",
      "y_pred: (15735, 1)\ty_score: (15735, 1)\ty_true: (15735, 1)\n",
      "y_pred: (15735, 1)\ty_score: (15735, 1)\ty_true: (15735, 1)\n",
      "y_pred: (15735, 1)\ty_score: (15735, 1)\ty_true: (15735, 1)\n",
      "y_pred: (15735, 1)\ty_score: (15735, 1)\ty_true: (15735, 1)\n",
      "y_pred: (15735, 1)\ty_score: (15735, 1)\ty_true: (15735, 1)\n",
      "y_pred: (15735, 1)\ty_score: (15735, 1)\ty_true: (15735, 1)\n",
      "y_pred: (15735, 1)\ty_score: (15735, 1)\ty_true: (15735, 1)\n",
      "y_pred: (15735, 1)\ty_score: (15735, 1)\ty_true: (15735, 1)\n",
      "y_pred: (15735, 1)\ty_score: (15735, 1)\ty_true: (15735, 1)\n",
      "y_pred: (15735, 1)\ty_score: (15735, 1)\ty_true: (15735, 1)\n",
      "y_pred: (15735, 1)\ty_score: (15735, 1)\ty_true: (15735, 1)\n",
      "y_pred: (15735, 1)\ty_score: (15735, 1)\ty_true: (15735, 1)\n",
      "y_pred: (15735, 1)\ty_score: (15735, 1)\ty_true: (15735, 1)\n",
      "y_pred: (15735, 1)\ty_score: (15735, 1)\ty_true: (15735, 1)\n",
      "y_pred: (15735, 1)\ty_score: (15735, 1)\ty_true: (15735, 1)\n",
      "y_pred: (15735, 1)\ty_score: (15735, 1)\ty_true: (15735, 1)\n",
      "y_pred: (15735, 1)\ty_score: (15735, 1)\ty_true: (15735, 1)\n",
      "y_pred: (15735, 1)\ty_score: (15735, 1)\ty_true: (15735, 1)\n",
      "y_pred: (15735, 1)\ty_score: (15735, 1)\ty_true: (15735, 1)\n"
     ]
    },
    {
     "name": "stderr",
     "output_type": "stream",
     "text": [
      "\n",
      " 60%|██████    | 9/15 [01:57<01:22, 13.70s/it]\u001b[A"
     ]
    },
    {
     "name": "stdout",
     "output_type": "stream",
     "text": [
      "MTORC1 /p/vast1/jones289/hd_results/5/hdbind-rp-molclr-100k.lit-pcba-MTORC1-random.5.pkl hdbind-rp-molclr-100k\n",
      "y_pred: (8268, 1)\ty_score: (8268, 1)\ty_true: (8268, 1)\n",
      "y_pred: (8268, 1)\ty_score: (8268, 1)\ty_true: (8268, 1)\n",
      "y_pred: (8268, 1)\ty_score: (8268, 1)\ty_true: (8268, 1)\n",
      "y_pred: (8268, 1)\ty_score: (8268, 1)\ty_true: (8268, 1)\n",
      "y_pred: (8268, 1)\ty_score: (8268, 1)\ty_true: (8268, 1)\n",
      "y_pred: (8268, 1)\ty_score: (8268, 1)\ty_true: (8268, 1)\n",
      "y_pred: (8268, 1)\ty_score: (8268, 1)\ty_true: (8268, 1)\n",
      "y_pred: (8268, 1)\ty_score: (8268, 1)\ty_true: (8268, 1)\n",
      "y_pred: (8268, 1)\ty_score: (8268, 1)\ty_true: (8268, 1)\n",
      "y_pred: (8268, 1)\ty_score: (8268, 1)\ty_true: (8268, 1)\n",
      "y_pred: (8268, 1)\ty_score: (8268, 1)\ty_true: (8268, 1)\n",
      "y_pred: (8268, 1)\ty_score: (8268, 1)\ty_true: (8268, 1)\n",
      "y_pred: (8268, 1)\ty_score: (8268, 1)\ty_true: (8268, 1)\n",
      "y_pred: (8268, 1)\ty_score: (8268, 1)\ty_true: (8268, 1)\n",
      "y_pred: (8268, 1)\ty_score: (8268, 1)\ty_true: (8268, 1)\n",
      "y_pred: (8268, 1)\ty_score: (8268, 1)\ty_true: (8268, 1)\n",
      "y_pred: (8268, 1)\ty_score: (8268, 1)\ty_true: (8268, 1)\n",
      "y_pred: (8268, 1)\ty_score: (8268, 1)\ty_true: (8268, 1)\n"
     ]
    },
    {
     "name": "stderr",
     "output_type": "stream",
     "text": [
      "\n",
      " 67%|██████▋   | 10/15 [01:59<00:50, 10.00s/it]\u001b[A"
     ]
    },
    {
     "name": "stdout",
     "output_type": "stream",
     "text": [
      "y_pred: (8268, 1)\ty_score: (8268, 1)\ty_true: (8268, 1)\n",
      "y_pred: (8268, 1)\ty_score: (8268, 1)\ty_true: (8268, 1)\n",
      "OPRK1 /p/vast1/jones289/hd_results/5/hdbind-rp-molclr-100k.lit-pcba-OPRK1-random.5.pkl hdbind-rp-molclr-100k\n",
      "y_pred: (67460, 1)\ty_score: (67460, 1)\ty_true: (67460, 1)\n",
      "y_pred: (67460, 1)\ty_score: (67460, 1)\ty_true: (67460, 1)\n",
      "y_pred: (67460, 1)\ty_score: (67460, 1)\ty_true: (67460, 1)\n",
      "y_pred: (67460, 1)\ty_score: (67460, 1)\ty_true: (67460, 1)\n",
      "y_pred: (67460, 1)\ty_score: (67460, 1)\ty_true: (67460, 1)\n",
      "y_pred: (67460, 1)\ty_score: (67460, 1)\ty_true: (67460, 1)\n",
      "y_pred: (67460, 1)\ty_score: (67460, 1)\ty_true: (67460, 1)\n",
      "y_pred: (67460, 1)\ty_score: (67460, 1)\ty_true: (67460, 1)\n",
      "y_pred: (67460, 1)\ty_score: (67460, 1)\ty_true: (67460, 1)\n",
      "y_pred: (67460, 1)\ty_score: (67460, 1)\ty_true: (67460, 1)\n",
      "y_pred: (67460, 1)\ty_score: (67460, 1)\ty_true: (67460, 1)\n",
      "y_pred: (67460, 1)\ty_score: (67460, 1)\ty_true: (67460, 1)\n",
      "y_pred: (67460, 1)\ty_score: (67460, 1)\ty_true: (67460, 1)\n",
      "y_pred: (67460, 1)\ty_score: (67460, 1)\ty_true: (67460, 1)\n",
      "y_pred: (67460, 1)\ty_score: (67460, 1)\ty_true: (67460, 1)\n",
      "y_pred: (67460, 1)\ty_score: (67460, 1)\ty_true: (67460, 1)\n",
      "y_pred: (67460, 1)\ty_score: (67460, 1)\ty_true: (67460, 1)\n",
      "y_pred: (67460, 1)\ty_score: (67460, 1)\ty_true: (67460, 1)\n",
      "y_pred: (67460, 1)\ty_score: (67460, 1)\ty_true: (67460, 1)\n",
      "y_pred: (67460, 1)\ty_score: (67460, 1)\ty_true: (67460, 1)\n"
     ]
    },
    {
     "name": "stderr",
     "output_type": "stream",
     "text": [
      "\n",
      " 73%|███████▎  | 11/15 [02:17<00:50, 12.54s/it]\u001b[A"
     ]
    },
    {
     "name": "stdout",
     "output_type": "stream",
     "text": [
      "PKM2 /p/vast1/jones289/hd_results/5/hdbind-rp-molclr-100k.lit-pcba-PKM2-random.5.pkl hdbind-rp-molclr-100k\n",
      "y_pred: (61518, 1)\ty_score: (61518, 1)\ty_true: (61518, 1)\n",
      "y_pred: (61518, 1)\ty_score: (61518, 1)\ty_true: (61518, 1)\n",
      "y_pred: (61518, 1)\ty_score: (61518, 1)\ty_true: (61518, 1)\n",
      "y_pred: (61518, 1)\ty_score: (61518, 1)\ty_true: (61518, 1)\n",
      "y_pred: (61518, 1)\ty_score: (61518, 1)\ty_true: (61518, 1)\n",
      "y_pred: (61518, 1)\ty_score: (61518, 1)\ty_true: (61518, 1)\n",
      "y_pred: (61518, 1)\ty_score: (61518, 1)\ty_true: (61518, 1)\n",
      "y_pred: (61518, 1)\ty_score: (61518, 1)\ty_true: (61518, 1)\n",
      "y_pred: (61518, 1)\ty_score: (61518, 1)\ty_true: (61518, 1)\n",
      "y_pred: (61518, 1)\ty_score: (61518, 1)\ty_true: (61518, 1)\n",
      "y_pred: (61518, 1)\ty_score: (61518, 1)\ty_true: (61518, 1)\n",
      "y_pred: (61518, 1)\ty_score: (61518, 1)\ty_true: (61518, 1)\n",
      "y_pred: (61518, 1)\ty_score: (61518, 1)\ty_true: (61518, 1)\n",
      "y_pred: (61518, 1)\ty_score: (61518, 1)\ty_true: (61518, 1)\n",
      "y_pred: (61518, 1)\ty_score: (61518, 1)\ty_true: (61518, 1)\n",
      "y_pred: (61518, 1)\ty_score: (61518, 1)\ty_true: (61518, 1)\n",
      "y_pred: (61518, 1)\ty_score: (61518, 1)\ty_true: (61518, 1)\n",
      "y_pred: (61518, 1)\ty_score: (61518, 1)\ty_true: (61518, 1)\n",
      "y_pred: (61518, 1)\ty_score: (61518, 1)\ty_true: (61518, 1)\n",
      "y_pred: (61518, 1)\ty_score: (61518, 1)\ty_true: (61518, 1)\n"
     ]
    },
    {
     "name": "stderr",
     "output_type": "stream",
     "text": [
      "\n",
      " 80%|████████  | 12/15 [02:34<00:41, 13.85s/it]\u001b[A"
     ]
    },
    {
     "name": "stdout",
     "output_type": "stream",
     "text": [
      "PPARG /p/vast1/jones289/hd_results/5/hdbind-rp-molclr-100k.lit-pcba-PPARG-random.5.pkl hdbind-rp-molclr-100k\n",
      "y_pred: (1310, 1)\ty_score: (1310, 1)\ty_true: (1310, 1)\n",
      "y_pred: (1310, 1)\ty_score: (1310, 1)\ty_true: (1310, 1)\n",
      "y_pred: (1310, 1)\ty_score: (1310, 1)\ty_true: (1310, 1)\n",
      "y_pred: (1310, 1)\ty_score: (1310, 1)\ty_true: (1310, 1)\n",
      "y_pred: (1310, 1)\ty_score: (1310, 1)\ty_true: (1310, 1)\n",
      "y_pred: (1310, 1)\ty_score: (1310, 1)\ty_true: (1310, 1)\n",
      "y_pred: (1310, 1)\ty_score: (1310, 1)\ty_true: (1310, 1)\n",
      "y_pred: (1310, 1)\ty_score: (1310, 1)\ty_true: (1310, 1)\n"
     ]
    },
    {
     "name": "stderr",
     "output_type": "stream",
     "text": [
      "\n",
      " 87%|████████▋ | 13/15 [02:34<00:19,  9.78s/it]\u001b[A"
     ]
    },
    {
     "name": "stdout",
     "output_type": "stream",
     "text": [
      "y_pred: (1310, 1)\ty_score: (1310, 1)\ty_true: (1310, 1)\n",
      "y_pred: (1310, 1)\ty_score: (1310, 1)\ty_true: (1310, 1)\n",
      "y_pred: (1310, 1)\ty_score: (1310, 1)\ty_true: (1310, 1)\n",
      "y_pred: (1310, 1)\ty_score: (1310, 1)\ty_true: (1310, 1)\n",
      "y_pred: (1310, 1)\ty_score: (1310, 1)\ty_true: (1310, 1)\n",
      "y_pred: (1310, 1)\ty_score: (1310, 1)\ty_true: (1310, 1)\n",
      "y_pred: (1310, 1)\ty_score: (1310, 1)\ty_true: (1310, 1)\n",
      "y_pred: (1310, 1)\ty_score: (1310, 1)\ty_true: (1310, 1)\n",
      "y_pred: (1310, 1)\ty_score: (1310, 1)\ty_true: (1310, 1)\n",
      "y_pred: (1310, 1)\ty_score: (1310, 1)\ty_true: (1310, 1)\n",
      "y_pred: (1310, 1)\ty_score: (1310, 1)\ty_true: (1310, 1)\n",
      "y_pred: (1310, 1)\ty_score: (1310, 1)\ty_true: (1310, 1)\n",
      "TP53 /p/vast1/jones289/hd_results/5/hdbind-rp-molclr-100k.lit-pcba-TP53-random.5.pkl hdbind-rp-molclr-100k\n",
      "y_pred: (1062, 1)\ty_score: (1062, 1)\ty_true: (1062, 1)\n",
      "y_pred: (1062, 1)\ty_score: (1062, 1)\ty_true: (1062, 1)\n",
      "y_pred: (1062, 1)\ty_score: (1062, 1)\ty_true: (1062, 1)\n",
      "y_pred: (1062, 1)\ty_score: (1062, 1)\ty_true: (1062, 1)\n",
      "y_pred: (1062, 1)\ty_score: (1062, 1)\ty_true: (1062, 1)\n",
      "y_pred: (1062, 1)\ty_score: (1062, 1)\ty_true: (1062, 1)\n",
      "y_pred: (1062, 1)\ty_score: (1062, 1)\ty_true: (1062, 1)\n",
      "y_pred: (1062, 1)\ty_score: (1062, 1)\ty_true: (1062, 1)\n",
      "y_pred: (1062, 1)\ty_score: (1062, 1)\ty_true: (1062, 1)\n",
      "y_pred: (1062, 1)\ty_score: (1062, 1)\ty_true: (1062, 1)\n",
      "y_pred: (1062, 1)\ty_score: (1062, 1)\ty_true: (1062, 1)\n",
      "y_pred: (1062, 1)\ty_score: (1062, 1)\ty_true: (1062, 1)\n",
      "y_pred: (1062, 1)\ty_score: (1062, 1)\ty_true: (1062, 1)\n",
      "y_pred: (1062, 1)\ty_score: (1062, 1)\ty_true: (1062, 1)\n",
      "y_pred: (1062, 1)\ty_score: (1062, 1)\ty_true: (1062, 1)\n"
     ]
    },
    {
     "name": "stderr",
     "output_type": "stream",
     "text": [
      "\n",
      " 93%|█████████▎| 14/15 [02:35<00:06,  6.94s/it]\u001b[A"
     ]
    },
    {
     "name": "stdout",
     "output_type": "stream",
     "text": [
      "y_pred: (1062, 1)\ty_score: (1062, 1)\ty_true: (1062, 1)\n",
      "y_pred: (1062, 1)\ty_score: (1062, 1)\ty_true: (1062, 1)\n",
      "y_pred: (1062, 1)\ty_score: (1062, 1)\ty_true: (1062, 1)\n",
      "y_pred: (1062, 1)\ty_score: (1062, 1)\ty_true: (1062, 1)\n",
      "y_pred: (1062, 1)\ty_score: (1062, 1)\ty_true: (1062, 1)\n",
      "VDR /p/vast1/jones289/hd_results/5/hdbind-rp-molclr-100k.lit-pcba-VDR-random.5.pkl hdbind-rp-molclr-100k\n",
      "y_pred: (66801, 1)\ty_score: (66801, 1)\ty_true: (66801, 1)\n",
      "y_pred: (66801, 1)\ty_score: (66801, 1)\ty_true: (66801, 1)\n",
      "y_pred: (66801, 1)\ty_score: (66801, 1)\ty_true: (66801, 1)\n",
      "y_pred: (66801, 1)\ty_score: (66801, 1)\ty_true: (66801, 1)\n",
      "y_pred: (66801, 1)\ty_score: (66801, 1)\ty_true: (66801, 1)\n",
      "y_pred: (66801, 1)\ty_score: (66801, 1)\ty_true: (66801, 1)\n",
      "y_pred: (66801, 1)\ty_score: (66801, 1)\ty_true: (66801, 1)\n",
      "y_pred: (66801, 1)\ty_score: (66801, 1)\ty_true: (66801, 1)\n",
      "y_pred: (66801, 1)\ty_score: (66801, 1)\ty_true: (66801, 1)\n",
      "y_pred: (66801, 1)\ty_score: (66801, 1)\ty_true: (66801, 1)\n",
      "y_pred: (66801, 1)\ty_score: (66801, 1)\ty_true: (66801, 1)\n",
      "y_pred: (66801, 1)\ty_score: (66801, 1)\ty_true: (66801, 1)\n",
      "y_pred: (66801, 1)\ty_score: (66801, 1)\ty_true: (66801, 1)\n",
      "y_pred: (66801, 1)\ty_score: (66801, 1)\ty_true: (66801, 1)\n",
      "y_pred: (66801, 1)\ty_score: (66801, 1)\ty_true: (66801, 1)\n",
      "y_pred: (66801, 1)\ty_score: (66801, 1)\ty_true: (66801, 1)\n",
      "y_pred: (66801, 1)\ty_score: (66801, 1)\ty_true: (66801, 1)\n",
      "y_pred: (66801, 1)\ty_score: (66801, 1)\ty_true: (66801, 1)\n",
      "y_pred: (66801, 1)\ty_score: (66801, 1)\ty_true: (66801, 1)\n",
      "y_pred: (66801, 1)\ty_score: (66801, 1)\ty_true: (66801, 1)\n"
     ]
    },
    {
     "name": "stderr",
     "output_type": "stream",
     "text": [
      "\n",
      "100%|██████████| 15/15 [02:53<00:00, 11.57s/it]\u001b[A\n",
      " 56%|█████▌    | 5/9 [14:02<11:15, 168.80s/it]\n",
      "  0%|          | 0/15 [00:00<?, ?it/s]\u001b[A"
     ]
    },
    {
     "name": "stdout",
     "output_type": "stream",
     "text": [
      "ADRB2 /p/vast1/jones289/hd_results/5/hdbind-rp-molformer.lit-pcba-ADRB2-random.5.pkl hdbind-rp-molformer\n",
      "y_pred: (78125, 1)\ty_score: (78125, 1)\ty_true: (78125, 1)\n",
      "y_pred: (78125, 1)\ty_score: (78125, 1)\ty_true: (78125, 1)\n",
      "y_pred: (78125, 1)\ty_score: (78125, 1)\ty_true: (78125, 1)\n",
      "y_pred: (78125, 1)\ty_score: (78125, 1)\ty_true: (78125, 1)\n",
      "y_pred: (78125, 1)\ty_score: (78125, 1)\ty_true: (78125, 1)\n",
      "y_pred: (78125, 1)\ty_score: (78125, 1)\ty_true: (78125, 1)\n",
      "y_pred: (78125, 1)\ty_score: (78125, 1)\ty_true: (78125, 1)\n",
      "y_pred: (78125, 1)\ty_score: (78125, 1)\ty_true: (78125, 1)\n",
      "y_pred: (78125, 1)\ty_score: (78125, 1)\ty_true: (78125, 1)\n",
      "y_pred: (78125, 1)\ty_score: (78125, 1)\ty_true: (78125, 1)\n",
      "y_pred: (78125, 1)\ty_score: (78125, 1)\ty_true: (78125, 1)\n",
      "y_pred: (78125, 1)\ty_score: (78125, 1)\ty_true: (78125, 1)\n",
      "y_pred: (78125, 1)\ty_score: (78125, 1)\ty_true: (78125, 1)\n",
      "y_pred: (78125, 1)\ty_score: (78125, 1)\ty_true: (78125, 1)\n",
      "y_pred: (78125, 1)\ty_score: (78125, 1)\ty_true: (78125, 1)\n",
      "y_pred: (78125, 1)\ty_score: (78125, 1)\ty_true: (78125, 1)\n",
      "y_pred: (78125, 1)\ty_score: (78125, 1)\ty_true: (78125, 1)\n",
      "y_pred: (78125, 1)\ty_score: (78125, 1)\ty_true: (78125, 1)\n",
      "y_pred: (78125, 1)\ty_score: (78125, 1)\ty_true: (78125, 1)\n",
      "y_pred: (78125, 1)\ty_score: (78125, 1)\ty_true: (78125, 1)\n"
     ]
    },
    {
     "name": "stderr",
     "output_type": "stream",
     "text": [
      "\n",
      "  7%|▋         | 1/15 [00:21<05:02, 21.61s/it]\u001b[A"
     ]
    },
    {
     "name": "stdout",
     "output_type": "stream",
     "text": [
      "ALDH1 /p/vast1/jones289/hd_results/5/hdbind-rp-molformer.lit-pcba-ALDH1-random.5.pkl hdbind-rp-molformer\n",
      "y_pred: (27213, 1)\ty_score: (27213, 1)\ty_true: (27213, 1)\n",
      "y_pred: (27213, 1)\ty_score: (27213, 1)\ty_true: (27213, 1)\n",
      "y_pred: (27213, 1)\ty_score: (27213, 1)\ty_true: (27213, 1)\n",
      "y_pred: (27213, 1)\ty_score: (27213, 1)\ty_true: (27213, 1)\n",
      "y_pred: (27213, 1)\ty_score: (27213, 1)\ty_true: (27213, 1)\n",
      "y_pred: (27213, 1)\ty_score: (27213, 1)\ty_true: (27213, 1)\n",
      "y_pred: (27213, 1)\ty_score: (27213, 1)\ty_true: (27213, 1)\n",
      "y_pred: (27213, 1)\ty_score: (27213, 1)\ty_true: (27213, 1)\n",
      "y_pred: (27213, 1)\ty_score: (27213, 1)\ty_true: (27213, 1)\n",
      "y_pred: (27213, 1)\ty_score: (27213, 1)\ty_true: (27213, 1)\n",
      "y_pred: (27213, 1)\ty_score: (27213, 1)\ty_true: (27213, 1)\n",
      "y_pred: (27213, 1)\ty_score: (27213, 1)\ty_true: (27213, 1)\n",
      "y_pred: (27213, 1)\ty_score: (27213, 1)\ty_true: (27213, 1)\n",
      "y_pred: (27213, 1)\ty_score: (27213, 1)\ty_true: (27213, 1)\n",
      "y_pred: (27213, 1)\ty_score: (27213, 1)\ty_true: (27213, 1)\n",
      "y_pred: (27213, 1)\ty_score: (27213, 1)\ty_true: (27213, 1)\n",
      "y_pred: (27213, 1)\ty_score: (27213, 1)\ty_true: (27213, 1)\n",
      "y_pred: (27213, 1)\ty_score: (27213, 1)\ty_true: (27213, 1)\n",
      "y_pred: (27213, 1)\ty_score: (27213, 1)\ty_true: (27213, 1)\n",
      "y_pred: (27213, 1)\ty_score: (27213, 1)\ty_true: (27213, 1)\n"
     ]
    },
    {
     "name": "stderr",
     "output_type": "stream",
     "text": [
      "\n",
      " 13%|█▎        | 2/15 [00:28<02:48, 12.93s/it]\u001b[A"
     ]
    },
    {
     "name": "stdout",
     "output_type": "stream",
     "text": [
      "ESR1_ago /p/vast1/jones289/hd_results/5/hdbind-rp-molformer.lit-pcba-ESR1_ago-random.5.pkl hdbind-rp-molformer\n",
      "y_pred: (1399, 1)\ty_score: (1399, 1)\ty_true: (1399, 1)\n",
      "y_pred: (1399, 1)\ty_score: (1399, 1)\ty_true: (1399, 1)\n",
      "y_pred: (1399, 1)\ty_score: (1399, 1)\ty_true: (1399, 1)\n",
      "y_pred: (1399, 1)\ty_score: (1399, 1)\ty_true: (1399, 1)\n",
      "y_pred: (1399, 1)\ty_score: (1399, 1)\ty_true: (1399, 1)\n",
      "y_pred: (1399, 1)\ty_score: (1399, 1)\ty_true: (1399, 1)\n",
      "y_pred: (1399, 1)\ty_score: (1399, 1)\ty_true: (1399, 1)\n",
      "y_pred: (1399, 1)\ty_score: (1399, 1)\ty_true: (1399, 1)\n",
      "y_pred: (1399, 1)\ty_score: (1399, 1)\ty_true: (1399, 1)\n",
      "y_pred: (1399, 1)\ty_score: (1399, 1)\ty_true: (1399, 1)\n",
      "y_pred: (1399, 1)\ty_score: (1399, 1)\ty_true: (1399, 1)\n"
     ]
    },
    {
     "name": "stderr",
     "output_type": "stream",
     "text": [
      "\n",
      " 20%|██        | 3/15 [00:28<01:26,  7.19s/it]\u001b[A"
     ]
    },
    {
     "name": "stdout",
     "output_type": "stream",
     "text": [
      "y_pred: (1399, 1)\ty_score: (1399, 1)\ty_true: (1399, 1)\n",
      "y_pred: (1399, 1)\ty_score: (1399, 1)\ty_true: (1399, 1)\n",
      "y_pred: (1399, 1)\ty_score: (1399, 1)\ty_true: (1399, 1)\n",
      "y_pred: (1399, 1)\ty_score: (1399, 1)\ty_true: (1399, 1)\n",
      "y_pred: (1399, 1)\ty_score: (1399, 1)\ty_true: (1399, 1)\n",
      "y_pred: (1399, 1)\ty_score: (1399, 1)\ty_true: (1399, 1)\n",
      "y_pred: (1399, 1)\ty_score: (1399, 1)\ty_true: (1399, 1)\n",
      "y_pred: (1399, 1)\ty_score: (1399, 1)\ty_true: (1399, 1)\n",
      "y_pred: (1399, 1)\ty_score: (1399, 1)\ty_true: (1399, 1)\n",
      "ESR1_ant /p/vast1/jones289/hd_results/5/hdbind-rp-molformer.lit-pcba-ESR1_ant-random.5.pkl hdbind-rp-molformer\n",
      "y_pred: (1263, 1)\ty_score: (1263, 1)\ty_true: (1263, 1)\n",
      "y_pred: (1263, 1)\ty_score: (1263, 1)\ty_true: (1263, 1)\n",
      "y_pred: (1263, 1)\ty_score: (1263, 1)\ty_true: (1263, 1)\n",
      "y_pred: (1263, 1)\ty_score: (1263, 1)\ty_true: (1263, 1)\n",
      "y_pred: (1263, 1)\ty_score: (1263, 1)\ty_true: (1263, 1)\n",
      "y_pred: (1263, 1)\ty_score: (1263, 1)\ty_true: (1263, 1)\n",
      "y_pred: (1263, 1)\ty_score: (1263, 1)\ty_true: (1263, 1)\n",
      "y_pred: (1263, 1)\ty_score: (1263, 1)\ty_true: (1263, 1)\n",
      "y_pred: (1263, 1)\ty_score: (1263, 1)\ty_true: (1263, 1)\n",
      "y_pred: (1263, 1)\ty_score: (1263, 1)\ty_true: (1263, 1)\n",
      "y_pred: (1263, 1)\ty_score: (1263, 1)\ty_true: (1263, 1)\n",
      "y_pred: (1263, 1)\ty_score: (1263, 1)\ty_true: (1263, 1)\n",
      "y_pred: (1263, 1)\ty_score: (1263, 1)\ty_true: (1263, 1)\n",
      "y_pred: (1263, 1)\ty_score: (1263, 1)\ty_true: (1263, 1)\n",
      "y_pred: (1263, 1)\ty_score: (1263, 1)\ty_true: (1263, 1)\n",
      "y_pred: (1263, 1)\ty_score: (1263, 1)\ty_true: (1263, 1)\n",
      "y_pred: (1263, 1)\ty_score: (1263, 1)\ty_true: (1263, 1)\n"
     ]
    },
    {
     "name": "stderr",
     "output_type": "stream",
     "text": [
      "\n",
      " 27%|██▋       | 4/15 [00:29<00:49,  4.48s/it]\u001b[A"
     ]
    },
    {
     "name": "stdout",
     "output_type": "stream",
     "text": [
      "y_pred: (1263, 1)\ty_score: (1263, 1)\ty_true: (1263, 1)\n",
      "y_pred: (1263, 1)\ty_score: (1263, 1)\ty_true: (1263, 1)\n",
      "y_pred: (1263, 1)\ty_score: (1263, 1)\ty_true: (1263, 1)\n",
      "FEN1 /p/vast1/jones289/hd_results/5/hdbind-rp-molformer.lit-pcba-FEN1-random.5.pkl hdbind-rp-molformer\n",
      "y_pred: (88943, 1)\ty_score: (88943, 1)\ty_true: (88943, 1)\n",
      "y_pred: (88943, 1)\ty_score: (88943, 1)\ty_true: (88943, 1)\n",
      "y_pred: (88943, 1)\ty_score: (88943, 1)\ty_true: (88943, 1)\n",
      "y_pred: (88943, 1)\ty_score: (88943, 1)\ty_true: (88943, 1)\n",
      "y_pred: (88943, 1)\ty_score: (88943, 1)\ty_true: (88943, 1)\n",
      "y_pred: (88943, 1)\ty_score: (88943, 1)\ty_true: (88943, 1)\n",
      "y_pred: (88943, 1)\ty_score: (88943, 1)\ty_true: (88943, 1)\n",
      "y_pred: (88943, 1)\ty_score: (88943, 1)\ty_true: (88943, 1)\n",
      "y_pred: (88943, 1)\ty_score: (88943, 1)\ty_true: (88943, 1)\n",
      "y_pred: (88943, 1)\ty_score: (88943, 1)\ty_true: (88943, 1)\n",
      "y_pred: (88943, 1)\ty_score: (88943, 1)\ty_true: (88943, 1)\n",
      "y_pred: (88943, 1)\ty_score: (88943, 1)\ty_true: (88943, 1)\n",
      "y_pred: (88943, 1)\ty_score: (88943, 1)\ty_true: (88943, 1)\n",
      "y_pred: (88943, 1)\ty_score: (88943, 1)\ty_true: (88943, 1)\n",
      "y_pred: (88943, 1)\ty_score: (88943, 1)\ty_true: (88943, 1)\n",
      "y_pred: (88943, 1)\ty_score: (88943, 1)\ty_true: (88943, 1)\n",
      "y_pred: (88943, 1)\ty_score: (88943, 1)\ty_true: (88943, 1)\n",
      "y_pred: (88943, 1)\ty_score: (88943, 1)\ty_true: (88943, 1)\n",
      "y_pred: (88943, 1)\ty_score: (88943, 1)\ty_true: (88943, 1)\n",
      "y_pred: (88943, 1)\ty_score: (88943, 1)\ty_true: (88943, 1)\n"
     ]
    },
    {
     "name": "stderr",
     "output_type": "stream",
     "text": [
      "\n",
      " 33%|███▎      | 5/15 [00:53<01:56, 11.64s/it]\u001b[A"
     ]
    },
    {
     "name": "stdout",
     "output_type": "stream",
     "text": [
      "GBA /p/vast1/jones289/hd_results/5/hdbind-rp-molformer.lit-pcba-GBA-random.5.pkl hdbind-rp-molformer\n",
      "y_pred: (74055, 1)\ty_score: (74055, 1)\ty_true: (74055, 1)\n",
      "y_pred: (74055, 1)\ty_score: (74055, 1)\ty_true: (74055, 1)\n",
      "y_pred: (74055, 1)\ty_score: (74055, 1)\ty_true: (74055, 1)\n",
      "y_pred: (74055, 1)\ty_score: (74055, 1)\ty_true: (74055, 1)\n",
      "y_pred: (74055, 1)\ty_score: (74055, 1)\ty_true: (74055, 1)\n",
      "y_pred: (74055, 1)\ty_score: (74055, 1)\ty_true: (74055, 1)\n",
      "y_pred: (74055, 1)\ty_score: (74055, 1)\ty_true: (74055, 1)\n",
      "y_pred: (74055, 1)\ty_score: (74055, 1)\ty_true: (74055, 1)\n",
      "y_pred: (74055, 1)\ty_score: (74055, 1)\ty_true: (74055, 1)\n",
      "y_pred: (74055, 1)\ty_score: (74055, 1)\ty_true: (74055, 1)\n",
      "y_pred: (74055, 1)\ty_score: (74055, 1)\ty_true: (74055, 1)\n",
      "y_pred: (74055, 1)\ty_score: (74055, 1)\ty_true: (74055, 1)\n",
      "y_pred: (74055, 1)\ty_score: (74055, 1)\ty_true: (74055, 1)\n",
      "y_pred: (74055, 1)\ty_score: (74055, 1)\ty_true: (74055, 1)\n",
      "y_pred: (74055, 1)\ty_score: (74055, 1)\ty_true: (74055, 1)\n",
      "y_pred: (74055, 1)\ty_score: (74055, 1)\ty_true: (74055, 1)\n",
      "y_pred: (74055, 1)\ty_score: (74055, 1)\ty_true: (74055, 1)\n",
      "y_pred: (74055, 1)\ty_score: (74055, 1)\ty_true: (74055, 1)\n",
      "y_pred: (74055, 1)\ty_score: (74055, 1)\ty_true: (74055, 1)\n",
      "y_pred: (74055, 1)\ty_score: (74055, 1)\ty_true: (74055, 1)\n"
     ]
    },
    {
     "name": "stderr",
     "output_type": "stream",
     "text": [
      "\n",
      " 40%|████      | 6/15 [01:13<02:09, 14.39s/it]\u001b[A"
     ]
    },
    {
     "name": "stdout",
     "output_type": "stream",
     "text": [
      "IDH1 /p/vast1/jones289/hd_results/5/hdbind-rp-molformer.lit-pcba-IDH1-random.5.pkl hdbind-rp-molformer\n",
      "y_pred: (90522, 1)\ty_score: (90522, 1)\ty_true: (90522, 1)\n",
      "y_pred: (90522, 1)\ty_score: (90522, 1)\ty_true: (90522, 1)\n",
      "y_pred: (90522, 1)\ty_score: (90522, 1)\ty_true: (90522, 1)\n",
      "y_pred: (90522, 1)\ty_score: (90522, 1)\ty_true: (90522, 1)\n",
      "y_pred: (90522, 1)\ty_score: (90522, 1)\ty_true: (90522, 1)\n",
      "y_pred: (90522, 1)\ty_score: (90522, 1)\ty_true: (90522, 1)\n",
      "y_pred: (90522, 1)\ty_score: (90522, 1)\ty_true: (90522, 1)\n",
      "y_pred: (90522, 1)\ty_score: (90522, 1)\ty_true: (90522, 1)\n",
      "y_pred: (90522, 1)\ty_score: (90522, 1)\ty_true: (90522, 1)\n",
      "y_pred: (90522, 1)\ty_score: (90522, 1)\ty_true: (90522, 1)\n",
      "y_pred: (90522, 1)\ty_score: (90522, 1)\ty_true: (90522, 1)\n",
      "y_pred: (90522, 1)\ty_score: (90522, 1)\ty_true: (90522, 1)\n",
      "y_pred: (90522, 1)\ty_score: (90522, 1)\ty_true: (90522, 1)\n",
      "y_pred: (90522, 1)\ty_score: (90522, 1)\ty_true: (90522, 1)\n",
      "y_pred: (90522, 1)\ty_score: (90522, 1)\ty_true: (90522, 1)\n",
      "y_pred: (90522, 1)\ty_score: (90522, 1)\ty_true: (90522, 1)\n",
      "y_pred: (90522, 1)\ty_score: (90522, 1)\ty_true: (90522, 1)\n",
      "y_pred: (90522, 1)\ty_score: (90522, 1)\ty_true: (90522, 1)\n",
      "y_pred: (90522, 1)\ty_score: (90522, 1)\ty_true: (90522, 1)\n",
      "y_pred: (90522, 1)\ty_score: (90522, 1)\ty_true: (90522, 1)\n"
     ]
    },
    {
     "name": "stderr",
     "output_type": "stream",
     "text": [
      "\n",
      " 47%|████▋     | 7/15 [01:37<02:20, 17.58s/it]\u001b[A"
     ]
    },
    {
     "name": "stdout",
     "output_type": "stream",
     "text": [
      "KAT2A /p/vast1/jones289/hd_results/5/hdbind-rp-molformer.lit-pcba-KAT2A-random.5.pkl hdbind-rp-molformer\n",
      "y_pred: (87186, 1)\ty_score: (87186, 1)\ty_true: (87186, 1)\n",
      "y_pred: (87186, 1)\ty_score: (87186, 1)\ty_true: (87186, 1)\n",
      "y_pred: (87186, 1)\ty_score: (87186, 1)\ty_true: (87186, 1)\n",
      "y_pred: (87186, 1)\ty_score: (87186, 1)\ty_true: (87186, 1)\n",
      "y_pred: (87186, 1)\ty_score: (87186, 1)\ty_true: (87186, 1)\n",
      "y_pred: (87186, 1)\ty_score: (87186, 1)\ty_true: (87186, 1)\n",
      "y_pred: (87186, 1)\ty_score: (87186, 1)\ty_true: (87186, 1)\n",
      "y_pred: (87186, 1)\ty_score: (87186, 1)\ty_true: (87186, 1)\n",
      "y_pred: (87186, 1)\ty_score: (87186, 1)\ty_true: (87186, 1)\n",
      "y_pred: (87186, 1)\ty_score: (87186, 1)\ty_true: (87186, 1)\n",
      "y_pred: (87186, 1)\ty_score: (87186, 1)\ty_true: (87186, 1)\n",
      "y_pred: (87186, 1)\ty_score: (87186, 1)\ty_true: (87186, 1)\n",
      "y_pred: (87186, 1)\ty_score: (87186, 1)\ty_true: (87186, 1)\n",
      "y_pred: (87186, 1)\ty_score: (87186, 1)\ty_true: (87186, 1)\n",
      "y_pred: (87186, 1)\ty_score: (87186, 1)\ty_true: (87186, 1)\n",
      "y_pred: (87186, 1)\ty_score: (87186, 1)\ty_true: (87186, 1)\n",
      "y_pred: (87186, 1)\ty_score: (87186, 1)\ty_true: (87186, 1)\n",
      "y_pred: (87186, 1)\ty_score: (87186, 1)\ty_true: (87186, 1)\n",
      "y_pred: (87186, 1)\ty_score: (87186, 1)\ty_true: (87186, 1)\n",
      "y_pred: (87186, 1)\ty_score: (87186, 1)\ty_true: (87186, 1)\n"
     ]
    },
    {
     "name": "stderr",
     "output_type": "stream",
     "text": [
      "\n",
      " 53%|█████▎    | 8/15 [02:00<02:15, 19.35s/it]\u001b[A"
     ]
    },
    {
     "name": "stdout",
     "output_type": "stream",
     "text": [
      "MAPK1 /p/vast1/jones289/hd_results/5/hdbind-rp-molformer.lit-pcba-MAPK1-random.5.pkl hdbind-rp-molformer\n",
      "y_pred: (15735, 1)\ty_score: (15735, 1)\ty_true: (15735, 1)\n",
      "y_pred: (15735, 1)\ty_score: (15735, 1)\ty_true: (15735, 1)\n",
      "y_pred: (15735, 1)\ty_score: (15735, 1)\ty_true: (15735, 1)\n",
      "y_pred: (15735, 1)\ty_score: (15735, 1)\ty_true: (15735, 1)\n",
      "y_pred: (15735, 1)\ty_score: (15735, 1)\ty_true: (15735, 1)\n",
      "y_pred: (15735, 1)\ty_score: (15735, 1)\ty_true: (15735, 1)\n",
      "y_pred: (15735, 1)\ty_score: (15735, 1)\ty_true: (15735, 1)\n",
      "y_pred: (15735, 1)\ty_score: (15735, 1)\ty_true: (15735, 1)\n",
      "y_pred: (15735, 1)\ty_score: (15735, 1)\ty_true: (15735, 1)\n",
      "y_pred: (15735, 1)\ty_score: (15735, 1)\ty_true: (15735, 1)\n",
      "y_pred: (15735, 1)\ty_score: (15735, 1)\ty_true: (15735, 1)\n",
      "y_pred: (15735, 1)\ty_score: (15735, 1)\ty_true: (15735, 1)\n",
      "y_pred: (15735, 1)\ty_score: (15735, 1)\ty_true: (15735, 1)\n",
      "y_pred: (15735, 1)\ty_score: (15735, 1)\ty_true: (15735, 1)\n",
      "y_pred: (15735, 1)\ty_score: (15735, 1)\ty_true: (15735, 1)\n",
      "y_pred: (15735, 1)\ty_score: (15735, 1)\ty_true: (15735, 1)\n",
      "y_pred: (15735, 1)\ty_score: (15735, 1)\ty_true: (15735, 1)\n",
      "y_pred: (15735, 1)\ty_score: (15735, 1)\ty_true: (15735, 1)\n",
      "y_pred: (15735, 1)\ty_score: (15735, 1)\ty_true: (15735, 1)\n"
     ]
    },
    {
     "name": "stderr",
     "output_type": "stream",
     "text": [
      "\n",
      " 60%|██████    | 9/15 [02:04<01:26, 14.41s/it]\u001b[A"
     ]
    },
    {
     "name": "stdout",
     "output_type": "stream",
     "text": [
      "y_pred: (15735, 1)\ty_score: (15735, 1)\ty_true: (15735, 1)\n",
      "MTORC1 /p/vast1/jones289/hd_results/5/hdbind-rp-molformer.lit-pcba-MTORC1-random.5.pkl hdbind-rp-molformer\n",
      "y_pred: (8268, 1)\ty_score: (8268, 1)\ty_true: (8268, 1)\n",
      "y_pred: (8268, 1)\ty_score: (8268, 1)\ty_true: (8268, 1)\n",
      "y_pred: (8268, 1)\ty_score: (8268, 1)\ty_true: (8268, 1)\n",
      "y_pred: (8268, 1)\ty_score: (8268, 1)\ty_true: (8268, 1)\n",
      "y_pred: (8268, 1)\ty_score: (8268, 1)\ty_true: (8268, 1)\n",
      "y_pred: (8268, 1)\ty_score: (8268, 1)\ty_true: (8268, 1)\n",
      "y_pred: (8268, 1)\ty_score: (8268, 1)\ty_true: (8268, 1)\n",
      "y_pred: (8268, 1)\ty_score: (8268, 1)\ty_true: (8268, 1)\n",
      "y_pred: (8268, 1)\ty_score: (8268, 1)\ty_true: (8268, 1)\n",
      "y_pred: (8268, 1)\ty_score: (8268, 1)\ty_true: (8268, 1)\n",
      "y_pred: (8268, 1)\ty_score: (8268, 1)\ty_true: (8268, 1)\n",
      "y_pred: (8268, 1)\ty_score: (8268, 1)\ty_true: (8268, 1)\n",
      "y_pred: (8268, 1)\ty_score: (8268, 1)\ty_true: (8268, 1)\n",
      "y_pred: (8268, 1)\ty_score: (8268, 1)\ty_true: (8268, 1)\n",
      "y_pred: (8268, 1)\ty_score: (8268, 1)\ty_true: (8268, 1)\n",
      "y_pred: (8268, 1)\ty_score: (8268, 1)\ty_true: (8268, 1)\n",
      "y_pred: (8268, 1)\ty_score: (8268, 1)\ty_true: (8268, 1)\n",
      "y_pred: (8268, 1)\ty_score: (8268, 1)\ty_true: (8268, 1)\n",
      "y_pred: (8268, 1)\ty_score: (8268, 1)\ty_true: (8268, 1)\n"
     ]
    },
    {
     "name": "stderr",
     "output_type": "stream",
     "text": [
      "\n",
      " 67%|██████▋   | 10/15 [02:05<00:52, 10.52s/it]\u001b[A"
     ]
    },
    {
     "name": "stdout",
     "output_type": "stream",
     "text": [
      "y_pred: (8268, 1)\ty_score: (8268, 1)\ty_true: (8268, 1)\n",
      "OPRK1 /p/vast1/jones289/hd_results/5/hdbind-rp-molformer.lit-pcba-OPRK1-random.5.pkl hdbind-rp-molformer\n",
      "y_pred: (67460, 1)\ty_score: (67460, 1)\ty_true: (67460, 1)\n",
      "y_pred: (67460, 1)\ty_score: (67460, 1)\ty_true: (67460, 1)\n",
      "y_pred: (67460, 1)\ty_score: (67460, 1)\ty_true: (67460, 1)\n",
      "y_pred: (67460, 1)\ty_score: (67460, 1)\ty_true: (67460, 1)\n",
      "y_pred: (67460, 1)\ty_score: (67460, 1)\ty_true: (67460, 1)\n",
      "y_pred: (67460, 1)\ty_score: (67460, 1)\ty_true: (67460, 1)\n",
      "y_pred: (67460, 1)\ty_score: (67460, 1)\ty_true: (67460, 1)\n",
      "y_pred: (67460, 1)\ty_score: (67460, 1)\ty_true: (67460, 1)\n",
      "y_pred: (67460, 1)\ty_score: (67460, 1)\ty_true: (67460, 1)\n",
      "y_pred: (67460, 1)\ty_score: (67460, 1)\ty_true: (67460, 1)\n",
      "y_pred: (67460, 1)\ty_score: (67460, 1)\ty_true: (67460, 1)\n",
      "y_pred: (67460, 1)\ty_score: (67460, 1)\ty_true: (67460, 1)\n",
      "y_pred: (67460, 1)\ty_score: (67460, 1)\ty_true: (67460, 1)\n",
      "y_pred: (67460, 1)\ty_score: (67460, 1)\ty_true: (67460, 1)\n",
      "y_pred: (67460, 1)\ty_score: (67460, 1)\ty_true: (67460, 1)\n",
      "y_pred: (67460, 1)\ty_score: (67460, 1)\ty_true: (67460, 1)\n",
      "y_pred: (67460, 1)\ty_score: (67460, 1)\ty_true: (67460, 1)\n",
      "y_pred: (67460, 1)\ty_score: (67460, 1)\ty_true: (67460, 1)\n",
      "y_pred: (67460, 1)\ty_score: (67460, 1)\ty_true: (67460, 1)\n",
      "y_pred: (67460, 1)\ty_score: (67460, 1)\ty_true: (67460, 1)\n"
     ]
    },
    {
     "name": "stderr",
     "output_type": "stream",
     "text": [
      "\n",
      " 73%|███████▎  | 11/15 [02:23<00:50, 12.61s/it]\u001b[A"
     ]
    },
    {
     "name": "stdout",
     "output_type": "stream",
     "text": [
      "PKM2 /p/vast1/jones289/hd_results/5/hdbind-rp-molformer.lit-pcba-PKM2-random.5.pkl hdbind-rp-molformer\n",
      "y_pred: (61518, 1)\ty_score: (61518, 1)\ty_true: (61518, 1)\n",
      "y_pred: (61518, 1)\ty_score: (61518, 1)\ty_true: (61518, 1)\n",
      "y_pred: (61518, 1)\ty_score: (61518, 1)\ty_true: (61518, 1)\n",
      "y_pred: (61518, 1)\ty_score: (61518, 1)\ty_true: (61518, 1)\n",
      "y_pred: (61518, 1)\ty_score: (61518, 1)\ty_true: (61518, 1)\n",
      "y_pred: (61518, 1)\ty_score: (61518, 1)\ty_true: (61518, 1)\n",
      "y_pred: (61518, 1)\ty_score: (61518, 1)\ty_true: (61518, 1)\n",
      "y_pred: (61518, 1)\ty_score: (61518, 1)\ty_true: (61518, 1)\n",
      "y_pred: (61518, 1)\ty_score: (61518, 1)\ty_true: (61518, 1)\n",
      "y_pred: (61518, 1)\ty_score: (61518, 1)\ty_true: (61518, 1)\n",
      "y_pred: (61518, 1)\ty_score: (61518, 1)\ty_true: (61518, 1)\n",
      "y_pred: (61518, 1)\ty_score: (61518, 1)\ty_true: (61518, 1)\n",
      "y_pred: (61518, 1)\ty_score: (61518, 1)\ty_true: (61518, 1)\n",
      "y_pred: (61518, 1)\ty_score: (61518, 1)\ty_true: (61518, 1)\n",
      "y_pred: (61518, 1)\ty_score: (61518, 1)\ty_true: (61518, 1)\n",
      "y_pred: (61518, 1)\ty_score: (61518, 1)\ty_true: (61518, 1)\n",
      "y_pred: (61518, 1)\ty_score: (61518, 1)\ty_true: (61518, 1)\n",
      "y_pred: (61518, 1)\ty_score: (61518, 1)\ty_true: (61518, 1)\n",
      "y_pred: (61518, 1)\ty_score: (61518, 1)\ty_true: (61518, 1)\n",
      "y_pred: (61518, 1)\ty_score: (61518, 1)\ty_true: (61518, 1)\n"
     ]
    },
    {
     "name": "stderr",
     "output_type": "stream",
     "text": [
      "\n",
      " 80%|████████  | 12/15 [02:38<00:40, 13.57s/it]\u001b[A"
     ]
    },
    {
     "name": "stdout",
     "output_type": "stream",
     "text": [
      "PPARG /p/vast1/jones289/hd_results/5/hdbind-rp-molformer.lit-pcba-PPARG-random.5.pkl hdbind-rp-molformer\n",
      "y_pred: (1310, 1)\ty_score: (1310, 1)\ty_true: (1310, 1)\n",
      "y_pred: (1310, 1)\ty_score: (1310, 1)\ty_true: (1310, 1)\n",
      "y_pred: (1310, 1)\ty_score: (1310, 1)\ty_true: (1310, 1)\n",
      "y_pred: (1310, 1)\ty_score: (1310, 1)\ty_true: (1310, 1)\n",
      "y_pred: (1310, 1)\ty_score: (1310, 1)\ty_true: (1310, 1)\n",
      "y_pred: (1310, 1)\ty_score: (1310, 1)\ty_true: (1310, 1)\n",
      "y_pred: (1310, 1)\ty_score: (1310, 1)\ty_true: (1310, 1)\n",
      "y_pred: (1310, 1)\ty_score: (1310, 1)\ty_true: (1310, 1)\n",
      "y_pred: (1310, 1)\ty_score: (1310, 1)\ty_true: (1310, 1)\n",
      "y_pred: (1310, 1)\ty_score: (1310, 1)\ty_true: (1310, 1)\n",
      "y_pred: (1310, 1)\ty_score: (1310, 1)\ty_true: (1310, 1)\n",
      "y_pred: (1310, 1)\ty_score: (1310, 1)\ty_true: (1310, 1)\n"
     ]
    },
    {
     "name": "stderr",
     "output_type": "stream",
     "text": [
      "\n",
      " 87%|████████▋ | 13/15 [02:39<00:19,  9.56s/it]\u001b[A"
     ]
    },
    {
     "name": "stdout",
     "output_type": "stream",
     "text": [
      "y_pred: (1310, 1)\ty_score: (1310, 1)\ty_true: (1310, 1)\n",
      "y_pred: (1310, 1)\ty_score: (1310, 1)\ty_true: (1310, 1)\n",
      "y_pred: (1310, 1)\ty_score: (1310, 1)\ty_true: (1310, 1)\n",
      "y_pred: (1310, 1)\ty_score: (1310, 1)\ty_true: (1310, 1)\n",
      "y_pred: (1310, 1)\ty_score: (1310, 1)\ty_true: (1310, 1)\n",
      "y_pred: (1310, 1)\ty_score: (1310, 1)\ty_true: (1310, 1)\n",
      "y_pred: (1310, 1)\ty_score: (1310, 1)\ty_true: (1310, 1)\n",
      "y_pred: (1310, 1)\ty_score: (1310, 1)\ty_true: (1310, 1)\n",
      "TP53 /p/vast1/jones289/hd_results/5/hdbind-rp-molformer.lit-pcba-TP53-random.5.pkl hdbind-rp-molformer\n",
      "y_pred: (1062, 1)\ty_score: (1062, 1)\ty_true: (1062, 1)\n",
      "y_pred: (1062, 1)\ty_score: (1062, 1)\ty_true: (1062, 1)\n",
      "y_pred: (1062, 1)\ty_score: (1062, 1)\ty_true: (1062, 1)\n",
      "y_pred: (1062, 1)\ty_score: (1062, 1)\ty_true: (1062, 1)\n",
      "y_pred: (1062, 1)\ty_score: (1062, 1)\ty_true: (1062, 1)\n",
      "y_pred: (1062, 1)\ty_score: (1062, 1)\ty_true: (1062, 1)\n",
      "y_pred: (1062, 1)\ty_score: (1062, 1)\ty_true: (1062, 1)\n"
     ]
    },
    {
     "name": "stderr",
     "output_type": "stream",
     "text": [
      "\n",
      " 93%|█████████▎| 14/15 [02:39<00:06,  6.75s/it]\u001b[A"
     ]
    },
    {
     "name": "stdout",
     "output_type": "stream",
     "text": [
      "y_pred: (1062, 1)\ty_score: (1062, 1)\ty_true: (1062, 1)\n",
      "y_pred: (1062, 1)\ty_score: (1062, 1)\ty_true: (1062, 1)\n",
      "y_pred: (1062, 1)\ty_score: (1062, 1)\ty_true: (1062, 1)\n",
      "y_pred: (1062, 1)\ty_score: (1062, 1)\ty_true: (1062, 1)\n",
      "y_pred: (1062, 1)\ty_score: (1062, 1)\ty_true: (1062, 1)\n",
      "y_pred: (1062, 1)\ty_score: (1062, 1)\ty_true: (1062, 1)\n",
      "y_pred: (1062, 1)\ty_score: (1062, 1)\ty_true: (1062, 1)\n",
      "y_pred: (1062, 1)\ty_score: (1062, 1)\ty_true: (1062, 1)\n",
      "y_pred: (1062, 1)\ty_score: (1062, 1)\ty_true: (1062, 1)\n",
      "y_pred: (1062, 1)\ty_score: (1062, 1)\ty_true: (1062, 1)\n",
      "y_pred: (1062, 1)\ty_score: (1062, 1)\ty_true: (1062, 1)\n",
      "y_pred: (1062, 1)\ty_score: (1062, 1)\ty_true: (1062, 1)\n",
      "y_pred: (1062, 1)\ty_score: (1062, 1)\ty_true: (1062, 1)\n",
      "VDR /p/vast1/jones289/hd_results/5/hdbind-rp-molformer.lit-pcba-VDR-random.5.pkl hdbind-rp-molformer\n",
      "y_pred: (66801, 1)\ty_score: (66801, 1)\ty_true: (66801, 1)\n",
      "y_pred: (66801, 1)\ty_score: (66801, 1)\ty_true: (66801, 1)\n",
      "y_pred: (66801, 1)\ty_score: (66801, 1)\ty_true: (66801, 1)\n",
      "y_pred: (66801, 1)\ty_score: (66801, 1)\ty_true: (66801, 1)\n",
      "y_pred: (66801, 1)\ty_score: (66801, 1)\ty_true: (66801, 1)\n",
      "y_pred: (66801, 1)\ty_score: (66801, 1)\ty_true: (66801, 1)\n",
      "y_pred: (66801, 1)\ty_score: (66801, 1)\ty_true: (66801, 1)\n",
      "y_pred: (66801, 1)\ty_score: (66801, 1)\ty_true: (66801, 1)\n",
      "y_pred: (66801, 1)\ty_score: (66801, 1)\ty_true: (66801, 1)\n",
      "y_pred: (66801, 1)\ty_score: (66801, 1)\ty_true: (66801, 1)\n",
      "y_pred: (66801, 1)\ty_score: (66801, 1)\ty_true: (66801, 1)\n",
      "y_pred: (66801, 1)\ty_score: (66801, 1)\ty_true: (66801, 1)\n",
      "y_pred: (66801, 1)\ty_score: (66801, 1)\ty_true: (66801, 1)\n",
      "y_pred: (66801, 1)\ty_score: (66801, 1)\ty_true: (66801, 1)\n",
      "y_pred: (66801, 1)\ty_score: (66801, 1)\ty_true: (66801, 1)\n",
      "y_pred: (66801, 1)\ty_score: (66801, 1)\ty_true: (66801, 1)\n",
      "y_pred: (66801, 1)\ty_score: (66801, 1)\ty_true: (66801, 1)\n",
      "y_pred: (66801, 1)\ty_score: (66801, 1)\ty_true: (66801, 1)\n",
      "y_pred: (66801, 1)\ty_score: (66801, 1)\ty_true: (66801, 1)\n",
      "y_pred: (66801, 1)\ty_score: (66801, 1)\ty_true: (66801, 1)\n"
     ]
    },
    {
     "name": "stderr",
     "output_type": "stream",
     "text": [
      "\n",
      "100%|██████████| 15/15 [02:56<00:00, 11.75s/it]\u001b[A\n",
      " 67%|██████▋   | 6/9 [16:58<08:34, 171.36s/it]\n",
      "  0%|          | 0/15 [00:00<?, ?it/s]\u001b[A"
     ]
    },
    {
     "name": "stdout",
     "output_type": "stream",
     "text": [
      "ADRB2 /p/vast1/jones289/hd_results/5/hdbind-rp-molformer-100k.lit-pcba-ADRB2-random.5.pkl hdbind-rp-molformer-100k\n",
      "y_pred: (78125, 1)\ty_score: (78125, 1)\ty_true: (78125, 1)\n",
      "y_pred: (78125, 1)\ty_score: (78125, 1)\ty_true: (78125, 1)\n",
      "y_pred: (78125, 1)\ty_score: (78125, 1)\ty_true: (78125, 1)\n",
      "y_pred: (78125, 1)\ty_score: (78125, 1)\ty_true: (78125, 1)\n",
      "y_pred: (78125, 1)\ty_score: (78125, 1)\ty_true: (78125, 1)\n",
      "y_pred: (78125, 1)\ty_score: (78125, 1)\ty_true: (78125, 1)\n",
      "y_pred: (78125, 1)\ty_score: (78125, 1)\ty_true: (78125, 1)\n",
      "y_pred: (78125, 1)\ty_score: (78125, 1)\ty_true: (78125, 1)\n",
      "y_pred: (78125, 1)\ty_score: (78125, 1)\ty_true: (78125, 1)\n",
      "y_pred: (78125, 1)\ty_score: (78125, 1)\ty_true: (78125, 1)\n",
      "y_pred: (78125, 1)\ty_score: (78125, 1)\ty_true: (78125, 1)\n",
      "y_pred: (78125, 1)\ty_score: (78125, 1)\ty_true: (78125, 1)\n",
      "y_pred: (78125, 1)\ty_score: (78125, 1)\ty_true: (78125, 1)\n",
      "y_pred: (78125, 1)\ty_score: (78125, 1)\ty_true: (78125, 1)\n",
      "y_pred: (78125, 1)\ty_score: (78125, 1)\ty_true: (78125, 1)\n",
      "y_pred: (78125, 1)\ty_score: (78125, 1)\ty_true: (78125, 1)\n",
      "y_pred: (78125, 1)\ty_score: (78125, 1)\ty_true: (78125, 1)\n",
      "y_pred: (78125, 1)\ty_score: (78125, 1)\ty_true: (78125, 1)\n",
      "y_pred: (78125, 1)\ty_score: (78125, 1)\ty_true: (78125, 1)\n",
      "y_pred: (78125, 1)\ty_score: (78125, 1)\ty_true: (78125, 1)\n"
     ]
    },
    {
     "name": "stderr",
     "output_type": "stream",
     "text": [
      "\n",
      "  7%|▋         | 1/15 [00:20<04:43, 20.27s/it]\u001b[A"
     ]
    },
    {
     "name": "stdout",
     "output_type": "stream",
     "text": [
      "ALDH1 /p/vast1/jones289/hd_results/5/hdbind-rp-molformer-100k.lit-pcba-ALDH1-random.5.pkl hdbind-rp-molformer-100k\n",
      "y_pred: (27213, 1)\ty_score: (27213, 1)\ty_true: (27213, 1)\n",
      "y_pred: (27213, 1)\ty_score: (27213, 1)\ty_true: (27213, 1)\n",
      "y_pred: (27213, 1)\ty_score: (27213, 1)\ty_true: (27213, 1)\n",
      "y_pred: (27213, 1)\ty_score: (27213, 1)\ty_true: (27213, 1)\n",
      "y_pred: (27213, 1)\ty_score: (27213, 1)\ty_true: (27213, 1)\n",
      "y_pred: (27213, 1)\ty_score: (27213, 1)\ty_true: (27213, 1)\n",
      "y_pred: (27213, 1)\ty_score: (27213, 1)\ty_true: (27213, 1)\n",
      "y_pred: (27213, 1)\ty_score: (27213, 1)\ty_true: (27213, 1)\n",
      "y_pred: (27213, 1)\ty_score: (27213, 1)\ty_true: (27213, 1)\n",
      "y_pred: (27213, 1)\ty_score: (27213, 1)\ty_true: (27213, 1)\n",
      "y_pred: (27213, 1)\ty_score: (27213, 1)\ty_true: (27213, 1)\n",
      "y_pred: (27213, 1)\ty_score: (27213, 1)\ty_true: (27213, 1)\n",
      "y_pred: (27213, 1)\ty_score: (27213, 1)\ty_true: (27213, 1)\n",
      "y_pred: (27213, 1)\ty_score: (27213, 1)\ty_true: (27213, 1)\n",
      "y_pred: (27213, 1)\ty_score: (27213, 1)\ty_true: (27213, 1)\n",
      "y_pred: (27213, 1)\ty_score: (27213, 1)\ty_true: (27213, 1)\n",
      "y_pred: (27213, 1)\ty_score: (27213, 1)\ty_true: (27213, 1)\n",
      "y_pred: (27213, 1)\ty_score: (27213, 1)\ty_true: (27213, 1)\n",
      "y_pred: (27213, 1)\ty_score: (27213, 1)\ty_true: (27213, 1)\n",
      "y_pred: (27213, 1)\ty_score: (27213, 1)\ty_true: (27213, 1)\n"
     ]
    },
    {
     "name": "stderr",
     "output_type": "stream",
     "text": [
      "\n",
      " 13%|█▎        | 2/15 [00:27<02:40, 12.34s/it]\u001b[A"
     ]
    },
    {
     "name": "stdout",
     "output_type": "stream",
     "text": [
      "ESR1_ago /p/vast1/jones289/hd_results/5/hdbind-rp-molformer-100k.lit-pcba-ESR1_ago-random.5.pkl hdbind-rp-molformer-100k\n",
      "y_pred: (1399, 1)\ty_score: (1399, 1)\ty_true: (1399, 1)\n",
      "y_pred: (1399, 1)\ty_score: (1399, 1)\ty_true: (1399, 1)\n",
      "y_pred: (1399, 1)\ty_score: (1399, 1)\ty_true: (1399, 1)\n",
      "y_pred: (1399, 1)\ty_score: (1399, 1)\ty_true: (1399, 1)\n",
      "y_pred: (1399, 1)\ty_score: (1399, 1)\ty_true: (1399, 1)\n",
      "y_pred: (1399, 1)\ty_score: (1399, 1)\ty_true: (1399, 1)\n",
      "y_pred: (1399, 1)\ty_score: (1399, 1)\ty_true: (1399, 1)\n",
      "y_pred: (1399, 1)\ty_score: (1399, 1)\ty_true: (1399, 1)\n",
      "y_pred: (1399, 1)\ty_score: (1399, 1)\ty_true: (1399, 1)\n",
      "y_pred: (1399, 1)\ty_score: (1399, 1)\ty_true: (1399, 1)\n",
      "y_pred: (1399, 1)\ty_score: (1399, 1)\ty_true: (1399, 1)\n",
      "y_pred: (1399, 1)\ty_score: (1399, 1)\ty_true: (1399, 1)\n",
      "y_pred: (1399, 1)\ty_score: (1399, 1)\ty_true: (1399, 1)\n",
      "y_pred: (1399, 1)\ty_score: (1399, 1)\ty_true: (1399, 1)\n",
      "y_pred: (1399, 1)\ty_score: (1399, 1)\ty_true: (1399, 1)\n",
      "y_pred: (1399, 1)\ty_score: (1399, 1)\ty_true: (1399, 1)\n",
      "y_pred: (1399, 1)\ty_score: (1399, 1)\ty_true: (1399, 1)\n"
     ]
    },
    {
     "name": "stderr",
     "output_type": "stream",
     "text": [
      "\n",
      " 20%|██        | 3/15 [00:27<01:23,  6.92s/it]\u001b[A"
     ]
    },
    {
     "name": "stdout",
     "output_type": "stream",
     "text": [
      "y_pred: (1399, 1)\ty_score: (1399, 1)\ty_true: (1399, 1)\n",
      "y_pred: (1399, 1)\ty_score: (1399, 1)\ty_true: (1399, 1)\n",
      "y_pred: (1399, 1)\ty_score: (1399, 1)\ty_true: (1399, 1)\n",
      "ESR1_ant /p/vast1/jones289/hd_results/5/hdbind-rp-molformer-100k.lit-pcba-ESR1_ant-random.5.pkl hdbind-rp-molformer-100k\n",
      "y_pred: (1263, 1)\ty_score: (1263, 1)\ty_true: (1263, 1)\n",
      "y_pred: (1263, 1)\ty_score: (1263, 1)\ty_true: (1263, 1)\n",
      "y_pred: (1263, 1)\ty_score: (1263, 1)\ty_true: (1263, 1)\n",
      "y_pred: (1263, 1)\ty_score: (1263, 1)\ty_true: (1263, 1)\n",
      "y_pred: (1263, 1)\ty_score: (1263, 1)\ty_true: (1263, 1)\n",
      "y_pred: (1263, 1)\ty_score: (1263, 1)\ty_true: (1263, 1)\n",
      "y_pred: (1263, 1)\ty_score: (1263, 1)\ty_true: (1263, 1)\n",
      "y_pred: (1263, 1)\ty_score: (1263, 1)\ty_true: (1263, 1)\n",
      "y_pred: (1263, 1)\ty_score: (1263, 1)\ty_true: (1263, 1)\n",
      "y_pred: (1263, 1)\ty_score: (1263, 1)\ty_true: (1263, 1)\n",
      "y_pred: (1263, 1)\ty_score: (1263, 1)\ty_true: (1263, 1)\n",
      "y_pred: (1263, 1)\ty_score: (1263, 1)\ty_true: (1263, 1)\n",
      "y_pred: (1263, 1)\ty_score: (1263, 1)\ty_true: (1263, 1)\n",
      "y_pred: (1263, 1)\ty_score: (1263, 1)\ty_true: (1263, 1)\n",
      "y_pred: (1263, 1)\ty_score: (1263, 1)\ty_true: (1263, 1)\n"
     ]
    },
    {
     "name": "stderr",
     "output_type": "stream",
     "text": [
      "\n",
      " 27%|██▋       | 4/15 [00:27<00:47,  4.36s/it]\u001b[A"
     ]
    },
    {
     "name": "stdout",
     "output_type": "stream",
     "text": [
      "y_pred: (1263, 1)\ty_score: (1263, 1)\ty_true: (1263, 1)\n",
      "y_pred: (1263, 1)\ty_score: (1263, 1)\ty_true: (1263, 1)\n",
      "y_pred: (1263, 1)\ty_score: (1263, 1)\ty_true: (1263, 1)\n",
      "y_pred: (1263, 1)\ty_score: (1263, 1)\ty_true: (1263, 1)\n",
      "y_pred: (1263, 1)\ty_score: (1263, 1)\ty_true: (1263, 1)\n",
      "FEN1 /p/vast1/jones289/hd_results/5/hdbind-rp-molformer-100k.lit-pcba-FEN1-random.5.pkl hdbind-rp-molformer-100k\n",
      "y_pred: (88943, 1)\ty_score: (88943, 1)\ty_true: (88943, 1)\n",
      "y_pred: (88943, 1)\ty_score: (88943, 1)\ty_true: (88943, 1)\n",
      "y_pred: (88943, 1)\ty_score: (88943, 1)\ty_true: (88943, 1)\n",
      "y_pred: (88943, 1)\ty_score: (88943, 1)\ty_true: (88943, 1)\n",
      "y_pred: (88943, 1)\ty_score: (88943, 1)\ty_true: (88943, 1)\n",
      "y_pred: (88943, 1)\ty_score: (88943, 1)\ty_true: (88943, 1)\n",
      "y_pred: (88943, 1)\ty_score: (88943, 1)\ty_true: (88943, 1)\n",
      "y_pred: (88943, 1)\ty_score: (88943, 1)\ty_true: (88943, 1)\n",
      "y_pred: (88943, 1)\ty_score: (88943, 1)\ty_true: (88943, 1)\n",
      "y_pred: (88943, 1)\ty_score: (88943, 1)\ty_true: (88943, 1)\n",
      "y_pred: (88943, 1)\ty_score: (88943, 1)\ty_true: (88943, 1)\n",
      "y_pred: (88943, 1)\ty_score: (88943, 1)\ty_true: (88943, 1)\n",
      "y_pred: (88943, 1)\ty_score: (88943, 1)\ty_true: (88943, 1)\n",
      "y_pred: (88943, 1)\ty_score: (88943, 1)\ty_true: (88943, 1)\n",
      "y_pred: (88943, 1)\ty_score: (88943, 1)\ty_true: (88943, 1)\n",
      "y_pred: (88943, 1)\ty_score: (88943, 1)\ty_true: (88943, 1)\n",
      "y_pred: (88943, 1)\ty_score: (88943, 1)\ty_true: (88943, 1)\n",
      "y_pred: (88943, 1)\ty_score: (88943, 1)\ty_true: (88943, 1)\n",
      "y_pred: (88943, 1)\ty_score: (88943, 1)\ty_true: (88943, 1)\n",
      "y_pred: (88943, 1)\ty_score: (88943, 1)\ty_true: (88943, 1)\n"
     ]
    },
    {
     "name": "stderr",
     "output_type": "stream",
     "text": [
      "\n",
      " 33%|███▎      | 5/15 [00:50<01:49, 10.98s/it]\u001b[A"
     ]
    },
    {
     "name": "stdout",
     "output_type": "stream",
     "text": [
      "GBA /p/vast1/jones289/hd_results/5/hdbind-rp-molformer-100k.lit-pcba-GBA-random.5.pkl hdbind-rp-molformer-100k\n",
      "y_pred: (74055, 1)\ty_score: (74055, 1)\ty_true: (74055, 1)\n",
      "y_pred: (74055, 1)\ty_score: (74055, 1)\ty_true: (74055, 1)\n",
      "y_pred: (74055, 1)\ty_score: (74055, 1)\ty_true: (74055, 1)\n",
      "y_pred: (74055, 1)\ty_score: (74055, 1)\ty_true: (74055, 1)\n",
      "y_pred: (74055, 1)\ty_score: (74055, 1)\ty_true: (74055, 1)\n",
      "y_pred: (74055, 1)\ty_score: (74055, 1)\ty_true: (74055, 1)\n",
      "y_pred: (74055, 1)\ty_score: (74055, 1)\ty_true: (74055, 1)\n",
      "y_pred: (74055, 1)\ty_score: (74055, 1)\ty_true: (74055, 1)\n",
      "y_pred: (74055, 1)\ty_score: (74055, 1)\ty_true: (74055, 1)\n",
      "y_pred: (74055, 1)\ty_score: (74055, 1)\ty_true: (74055, 1)\n",
      "y_pred: (74055, 1)\ty_score: (74055, 1)\ty_true: (74055, 1)\n",
      "y_pred: (74055, 1)\ty_score: (74055, 1)\ty_true: (74055, 1)\n",
      "y_pred: (74055, 1)\ty_score: (74055, 1)\ty_true: (74055, 1)\n",
      "y_pred: (74055, 1)\ty_score: (74055, 1)\ty_true: (74055, 1)\n",
      "y_pred: (74055, 1)\ty_score: (74055, 1)\ty_true: (74055, 1)\n",
      "y_pred: (74055, 1)\ty_score: (74055, 1)\ty_true: (74055, 1)\n",
      "y_pred: (74055, 1)\ty_score: (74055, 1)\ty_true: (74055, 1)\n",
      "y_pred: (74055, 1)\ty_score: (74055, 1)\ty_true: (74055, 1)\n",
      "y_pred: (74055, 1)\ty_score: (74055, 1)\ty_true: (74055, 1)\n",
      "y_pred: (74055, 1)\ty_score: (74055, 1)\ty_true: (74055, 1)\n"
     ]
    },
    {
     "name": "stderr",
     "output_type": "stream",
     "text": [
      "\n",
      " 40%|████      | 6/15 [01:09<02:04, 13.81s/it]\u001b[A"
     ]
    },
    {
     "name": "stdout",
     "output_type": "stream",
     "text": [
      "IDH1 /p/vast1/jones289/hd_results/5/hdbind-rp-molformer-100k.lit-pcba-IDH1-random.5.pkl hdbind-rp-molformer-100k\n",
      "y_pred: (90522, 1)\ty_score: (90522, 1)\ty_true: (90522, 1)\n",
      "y_pred: (90522, 1)\ty_score: (90522, 1)\ty_true: (90522, 1)\n",
      "y_pred: (90522, 1)\ty_score: (90522, 1)\ty_true: (90522, 1)\n",
      "y_pred: (90522, 1)\ty_score: (90522, 1)\ty_true: (90522, 1)\n",
      "y_pred: (90522, 1)\ty_score: (90522, 1)\ty_true: (90522, 1)\n",
      "y_pred: (90522, 1)\ty_score: (90522, 1)\ty_true: (90522, 1)\n",
      "y_pred: (90522, 1)\ty_score: (90522, 1)\ty_true: (90522, 1)\n",
      "y_pred: (90522, 1)\ty_score: (90522, 1)\ty_true: (90522, 1)\n",
      "y_pred: (90522, 1)\ty_score: (90522, 1)\ty_true: (90522, 1)\n",
      "y_pred: (90522, 1)\ty_score: (90522, 1)\ty_true: (90522, 1)\n",
      "y_pred: (90522, 1)\ty_score: (90522, 1)\ty_true: (90522, 1)\n",
      "y_pred: (90522, 1)\ty_score: (90522, 1)\ty_true: (90522, 1)\n",
      "y_pred: (90522, 1)\ty_score: (90522, 1)\ty_true: (90522, 1)\n",
      "y_pred: (90522, 1)\ty_score: (90522, 1)\ty_true: (90522, 1)\n",
      "y_pred: (90522, 1)\ty_score: (90522, 1)\ty_true: (90522, 1)\n",
      "y_pred: (90522, 1)\ty_score: (90522, 1)\ty_true: (90522, 1)\n",
      "y_pred: (90522, 1)\ty_score: (90522, 1)\ty_true: (90522, 1)\n",
      "y_pred: (90522, 1)\ty_score: (90522, 1)\ty_true: (90522, 1)\n",
      "y_pred: (90522, 1)\ty_score: (90522, 1)\ty_true: (90522, 1)\n",
      "y_pred: (90522, 1)\ty_score: (90522, 1)\ty_true: (90522, 1)\n"
     ]
    },
    {
     "name": "stderr",
     "output_type": "stream",
     "text": [
      "\n",
      " 47%|████▋     | 7/15 [01:33<02:16, 17.04s/it]\u001b[A"
     ]
    },
    {
     "name": "stdout",
     "output_type": "stream",
     "text": [
      "KAT2A /p/vast1/jones289/hd_results/5/hdbind-rp-molformer-100k.lit-pcba-KAT2A-random.5.pkl hdbind-rp-molformer-100k\n",
      "y_pred: (87186, 1)\ty_score: (87186, 1)\ty_true: (87186, 1)\n",
      "y_pred: (87186, 1)\ty_score: (87186, 1)\ty_true: (87186, 1)\n",
      "y_pred: (87186, 1)\ty_score: (87186, 1)\ty_true: (87186, 1)\n",
      "y_pred: (87186, 1)\ty_score: (87186, 1)\ty_true: (87186, 1)\n",
      "y_pred: (87186, 1)\ty_score: (87186, 1)\ty_true: (87186, 1)\n",
      "y_pred: (87186, 1)\ty_score: (87186, 1)\ty_true: (87186, 1)\n",
      "y_pred: (87186, 1)\ty_score: (87186, 1)\ty_true: (87186, 1)\n",
      "y_pred: (87186, 1)\ty_score: (87186, 1)\ty_true: (87186, 1)\n",
      "y_pred: (87186, 1)\ty_score: (87186, 1)\ty_true: (87186, 1)\n",
      "y_pred: (87186, 1)\ty_score: (87186, 1)\ty_true: (87186, 1)\n",
      "y_pred: (87186, 1)\ty_score: (87186, 1)\ty_true: (87186, 1)\n",
      "y_pred: (87186, 1)\ty_score: (87186, 1)\ty_true: (87186, 1)\n",
      "y_pred: (87186, 1)\ty_score: (87186, 1)\ty_true: (87186, 1)\n",
      "y_pred: (87186, 1)\ty_score: (87186, 1)\ty_true: (87186, 1)\n",
      "y_pred: (87186, 1)\ty_score: (87186, 1)\ty_true: (87186, 1)\n",
      "y_pred: (87186, 1)\ty_score: (87186, 1)\ty_true: (87186, 1)\n",
      "y_pred: (87186, 1)\ty_score: (87186, 1)\ty_true: (87186, 1)\n",
      "y_pred: (87186, 1)\ty_score: (87186, 1)\ty_true: (87186, 1)\n",
      "y_pred: (87186, 1)\ty_score: (87186, 1)\ty_true: (87186, 1)\n",
      "y_pred: (87186, 1)\ty_score: (87186, 1)\ty_true: (87186, 1)\n"
     ]
    },
    {
     "name": "stderr",
     "output_type": "stream",
     "text": [
      "\n",
      " 53%|█████▎    | 8/15 [01:56<02:12, 18.94s/it]\u001b[A"
     ]
    },
    {
     "name": "stdout",
     "output_type": "stream",
     "text": [
      "MAPK1 /p/vast1/jones289/hd_results/5/hdbind-rp-molformer-100k.lit-pcba-MAPK1-random.5.pkl hdbind-rp-molformer-100k\n",
      "y_pred: (15735, 1)\ty_score: (15735, 1)\ty_true: (15735, 1)\n",
      "y_pred: (15735, 1)\ty_score: (15735, 1)\ty_true: (15735, 1)\n",
      "y_pred: (15735, 1)\ty_score: (15735, 1)\ty_true: (15735, 1)\n",
      "y_pred: (15735, 1)\ty_score: (15735, 1)\ty_true: (15735, 1)\n",
      "y_pred: (15735, 1)\ty_score: (15735, 1)\ty_true: (15735, 1)\n",
      "y_pred: (15735, 1)\ty_score: (15735, 1)\ty_true: (15735, 1)\n",
      "y_pred: (15735, 1)\ty_score: (15735, 1)\ty_true: (15735, 1)\n",
      "y_pred: (15735, 1)\ty_score: (15735, 1)\ty_true: (15735, 1)\n",
      "y_pred: (15735, 1)\ty_score: (15735, 1)\ty_true: (15735, 1)\n",
      "y_pred: (15735, 1)\ty_score: (15735, 1)\ty_true: (15735, 1)\n",
      "y_pred: (15735, 1)\ty_score: (15735, 1)\ty_true: (15735, 1)\n",
      "y_pred: (15735, 1)\ty_score: (15735, 1)\ty_true: (15735, 1)\n",
      "y_pred: (15735, 1)\ty_score: (15735, 1)\ty_true: (15735, 1)\n",
      "y_pred: (15735, 1)\ty_score: (15735, 1)\ty_true: (15735, 1)\n",
      "y_pred: (15735, 1)\ty_score: (15735, 1)\ty_true: (15735, 1)\n",
      "y_pred: (15735, 1)\ty_score: (15735, 1)\ty_true: (15735, 1)\n",
      "y_pred: (15735, 1)\ty_score: (15735, 1)\ty_true: (15735, 1)\n",
      "y_pred: (15735, 1)\ty_score: (15735, 1)\ty_true: (15735, 1)\n",
      "y_pred: (15735, 1)\ty_score: (15735, 1)\ty_true: (15735, 1)\n",
      "y_pred: (15735, 1)\ty_score: (15735, 1)\ty_true: (15735, 1)\n"
     ]
    },
    {
     "name": "stderr",
     "output_type": "stream",
     "text": [
      "\n",
      " 60%|██████    | 9/15 [02:00<01:24, 14.15s/it]\u001b[A"
     ]
    },
    {
     "name": "stdout",
     "output_type": "stream",
     "text": [
      "MTORC1 /p/vast1/jones289/hd_results/5/hdbind-rp-molformer-100k.lit-pcba-MTORC1-random.5.pkl hdbind-rp-molformer-100k\n",
      "y_pred: (8268, 1)\ty_score: (8268, 1)\ty_true: (8268, 1)\n",
      "y_pred: (8268, 1)\ty_score: (8268, 1)\ty_true: (8268, 1)\n",
      "y_pred: (8268, 1)\ty_score: (8268, 1)\ty_true: (8268, 1)\n",
      "y_pred: (8268, 1)\ty_score: (8268, 1)\ty_true: (8268, 1)\n",
      "y_pred: (8268, 1)\ty_score: (8268, 1)\ty_true: (8268, 1)\n",
      "y_pred: (8268, 1)\ty_score: (8268, 1)\ty_true: (8268, 1)\n",
      "y_pred: (8268, 1)\ty_score: (8268, 1)\ty_true: (8268, 1)\n",
      "y_pred: (8268, 1)\ty_score: (8268, 1)\ty_true: (8268, 1)\n",
      "y_pred: (8268, 1)\ty_score: (8268, 1)\ty_true: (8268, 1)\n",
      "y_pred: (8268, 1)\ty_score: (8268, 1)\ty_true: (8268, 1)\n",
      "y_pred: (8268, 1)\ty_score: (8268, 1)\ty_true: (8268, 1)\n",
      "y_pred: (8268, 1)\ty_score: (8268, 1)\ty_true: (8268, 1)\n",
      "y_pred: (8268, 1)\ty_score: (8268, 1)\ty_true: (8268, 1)\n",
      "y_pred: (8268, 1)\ty_score: (8268, 1)\ty_true: (8268, 1)\n",
      "y_pred: (8268, 1)\ty_score: (8268, 1)\ty_true: (8268, 1)\n",
      "y_pred: (8268, 1)\ty_score: (8268, 1)\ty_true: (8268, 1)\n",
      "y_pred: (8268, 1)\ty_score: (8268, 1)\ty_true: (8268, 1)\n",
      "y_pred: (8268, 1)\ty_score: (8268, 1)\ty_true: (8268, 1)\n",
      "y_pred: (8268, 1)\ty_score: (8268, 1)\ty_true: (8268, 1)\n",
      "y_pred: (8268, 1)\ty_score: (8268, 1)\ty_true: (8268, 1)\n"
     ]
    },
    {
     "name": "stderr",
     "output_type": "stream",
     "text": [
      "\n",
      " 67%|██████▋   | 10/15 [02:02<00:51, 10.37s/it]\u001b[A"
     ]
    },
    {
     "name": "stdout",
     "output_type": "stream",
     "text": [
      "OPRK1 /p/vast1/jones289/hd_results/5/hdbind-rp-molformer-100k.lit-pcba-OPRK1-random.5.pkl hdbind-rp-molformer-100k\n",
      "y_pred: (67460, 1)\ty_score: (67460, 1)\ty_true: (67460, 1)\n",
      "y_pred: (67460, 1)\ty_score: (67460, 1)\ty_true: (67460, 1)\n",
      "y_pred: (67460, 1)\ty_score: (67460, 1)\ty_true: (67460, 1)\n",
      "y_pred: (67460, 1)\ty_score: (67460, 1)\ty_true: (67460, 1)\n",
      "y_pred: (67460, 1)\ty_score: (67460, 1)\ty_true: (67460, 1)\n",
      "y_pred: (67460, 1)\ty_score: (67460, 1)\ty_true: (67460, 1)\n",
      "y_pred: (67460, 1)\ty_score: (67460, 1)\ty_true: (67460, 1)\n",
      "y_pred: (67460, 1)\ty_score: (67460, 1)\ty_true: (67460, 1)\n",
      "y_pred: (67460, 1)\ty_score: (67460, 1)\ty_true: (67460, 1)\n",
      "y_pred: (67460, 1)\ty_score: (67460, 1)\ty_true: (67460, 1)\n",
      "y_pred: (67460, 1)\ty_score: (67460, 1)\ty_true: (67460, 1)\n",
      "y_pred: (67460, 1)\ty_score: (67460, 1)\ty_true: (67460, 1)\n",
      "y_pred: (67460, 1)\ty_score: (67460, 1)\ty_true: (67460, 1)\n",
      "y_pred: (67460, 1)\ty_score: (67460, 1)\ty_true: (67460, 1)\n",
      "y_pred: (67460, 1)\ty_score: (67460, 1)\ty_true: (67460, 1)\n",
      "y_pred: (67460, 1)\ty_score: (67460, 1)\ty_true: (67460, 1)\n",
      "y_pred: (67460, 1)\ty_score: (67460, 1)\ty_true: (67460, 1)\n",
      "y_pred: (67460, 1)\ty_score: (67460, 1)\ty_true: (67460, 1)\n",
      "y_pred: (67460, 1)\ty_score: (67460, 1)\ty_true: (67460, 1)\n",
      "y_pred: (67460, 1)\ty_score: (67460, 1)\ty_true: (67460, 1)\n"
     ]
    },
    {
     "name": "stderr",
     "output_type": "stream",
     "text": [
      "\n",
      " 73%|███████▎  | 11/15 [02:19<00:49, 12.48s/it]\u001b[A"
     ]
    },
    {
     "name": "stdout",
     "output_type": "stream",
     "text": [
      "PKM2 /p/vast1/jones289/hd_results/5/hdbind-rp-molformer-100k.lit-pcba-PKM2-random.5.pkl hdbind-rp-molformer-100k\n",
      "y_pred: (61518, 1)\ty_score: (61518, 1)\ty_true: (61518, 1)\n",
      "y_pred: (61518, 1)\ty_score: (61518, 1)\ty_true: (61518, 1)\n",
      "y_pred: (61518, 1)\ty_score: (61518, 1)\ty_true: (61518, 1)\n",
      "y_pred: (61518, 1)\ty_score: (61518, 1)\ty_true: (61518, 1)\n",
      "y_pred: (61518, 1)\ty_score: (61518, 1)\ty_true: (61518, 1)\n",
      "y_pred: (61518, 1)\ty_score: (61518, 1)\ty_true: (61518, 1)\n",
      "y_pred: (61518, 1)\ty_score: (61518, 1)\ty_true: (61518, 1)\n",
      "y_pred: (61518, 1)\ty_score: (61518, 1)\ty_true: (61518, 1)\n",
      "y_pred: (61518, 1)\ty_score: (61518, 1)\ty_true: (61518, 1)\n",
      "y_pred: (61518, 1)\ty_score: (61518, 1)\ty_true: (61518, 1)\n",
      "y_pred: (61518, 1)\ty_score: (61518, 1)\ty_true: (61518, 1)\n",
      "y_pred: (61518, 1)\ty_score: (61518, 1)\ty_true: (61518, 1)\n",
      "y_pred: (61518, 1)\ty_score: (61518, 1)\ty_true: (61518, 1)\n",
      "y_pred: (61518, 1)\ty_score: (61518, 1)\ty_true: (61518, 1)\n",
      "y_pred: (61518, 1)\ty_score: (61518, 1)\ty_true: (61518, 1)\n",
      "y_pred: (61518, 1)\ty_score: (61518, 1)\ty_true: (61518, 1)\n",
      "y_pred: (61518, 1)\ty_score: (61518, 1)\ty_true: (61518, 1)\n",
      "y_pred: (61518, 1)\ty_score: (61518, 1)\ty_true: (61518, 1)\n",
      "y_pred: (61518, 1)\ty_score: (61518, 1)\ty_true: (61518, 1)\n",
      "y_pred: (61518, 1)\ty_score: (61518, 1)\ty_true: (61518, 1)\n"
     ]
    },
    {
     "name": "stderr",
     "output_type": "stream",
     "text": [
      "\n",
      " 80%|████████  | 12/15 [02:34<00:40, 13.34s/it]\u001b[A"
     ]
    },
    {
     "name": "stdout",
     "output_type": "stream",
     "text": [
      "PPARG /p/vast1/jones289/hd_results/5/hdbind-rp-molformer-100k.lit-pcba-PPARG-random.5.pkl hdbind-rp-molformer-100k\n",
      "y_pred: (1310, 1)\ty_score: (1310, 1)\ty_true: (1310, 1)\n",
      "y_pred: (1310, 1)\ty_score: (1310, 1)\ty_true: (1310, 1)\n",
      "y_pred: (1310, 1)\ty_score: (1310, 1)\ty_true: (1310, 1)\n",
      "y_pred: (1310, 1)\ty_score: (1310, 1)\ty_true: (1310, 1)\n",
      "y_pred: (1310, 1)\ty_score: (1310, 1)\ty_true: (1310, 1)\n",
      "y_pred: (1310, 1)\ty_score: (1310, 1)\ty_true: (1310, 1)\n",
      "y_pred: (1310, 1)\ty_score: (1310, 1)\ty_true: (1310, 1)\n",
      "y_pred: (1310, 1)\ty_score: (1310, 1)\ty_true: (1310, 1)\n",
      "y_pred: (1310, 1)\ty_score: (1310, 1)\ty_true: (1310, 1)\n",
      "y_pred: (1310, 1)\ty_score: (1310, 1)\ty_true: (1310, 1)\n",
      "y_pred: (1310, 1)\ty_score: (1310, 1)\ty_true: (1310, 1)\n",
      "y_pred: (1310, 1)\ty_score: (1310, 1)\ty_true: (1310, 1)\n",
      "y_pred: (1310, 1)\ty_score: (1310, 1)\ty_true: (1310, 1)\n",
      "y_pred: (1310, 1)\ty_score: (1310, 1)\ty_true: (1310, 1)\n",
      "y_pred: (1310, 1)\ty_score: (1310, 1)\ty_true: (1310, 1)\n",
      "y_pred: (1310, 1)\ty_score: (1310, 1)\ty_true: (1310, 1)\n"
     ]
    },
    {
     "name": "stderr",
     "output_type": "stream",
     "text": [
      "\n",
      " 87%|████████▋ | 13/15 [02:35<00:18,  9.44s/it]\u001b[A"
     ]
    },
    {
     "name": "stdout",
     "output_type": "stream",
     "text": [
      "y_pred: (1310, 1)\ty_score: (1310, 1)\ty_true: (1310, 1)\n",
      "y_pred: (1310, 1)\ty_score: (1310, 1)\ty_true: (1310, 1)\n",
      "y_pred: (1310, 1)\ty_score: (1310, 1)\ty_true: (1310, 1)\n",
      "y_pred: (1310, 1)\ty_score: (1310, 1)\ty_true: (1310, 1)\n",
      "TP53 /p/vast1/jones289/hd_results/5/hdbind-rp-molformer-100k.lit-pcba-TP53-random.5.pkl hdbind-rp-molformer-100k\n",
      "y_pred: (1062, 1)\ty_score: (1062, 1)\ty_true: (1062, 1)\n",
      "y_pred: (1062, 1)\ty_score: (1062, 1)\ty_true: (1062, 1)\n",
      "y_pred: (1062, 1)\ty_score: (1062, 1)\ty_true: (1062, 1)\n",
      "y_pred: (1062, 1)\ty_score: (1062, 1)\ty_true: (1062, 1)\n",
      "y_pred: (1062, 1)\ty_score: (1062, 1)\ty_true: (1062, 1)\n",
      "y_pred: (1062, 1)\ty_score: (1062, 1)\ty_true: (1062, 1)\n",
      "y_pred: (1062, 1)\ty_score: (1062, 1)\ty_true: (1062, 1)\n",
      "y_pred: (1062, 1)\ty_score: (1062, 1)\ty_true: (1062, 1)\n",
      "y_pred: (1062, 1)\ty_score: (1062, 1)\ty_true: (1062, 1)\n",
      "y_pred: (1062, 1)\ty_score: (1062, 1)\ty_true: (1062, 1)\n",
      "y_pred: (1062, 1)\ty_score: (1062, 1)\ty_true: (1062, 1)\n",
      "y_pred: (1062, 1)\ty_score: (1062, 1)\ty_true: (1062, 1)\n",
      "y_pred: (1062, 1)\ty_score: (1062, 1)\ty_true: (1062, 1)\n",
      "y_pred: (1062, 1)\ty_score: (1062, 1)\ty_true: (1062, 1)\n",
      "y_pred: (1062, 1)\ty_score: (1062, 1)\ty_true: (1062, 1)\n",
      "y_pred: (1062, 1)\ty_score: (1062, 1)\ty_true: (1062, 1)\n",
      "y_pred: (1062, 1)\ty_score: (1062, 1)\ty_true: (1062, 1)\n"
     ]
    },
    {
     "name": "stderr",
     "output_type": "stream",
     "text": [
      "\n",
      " 93%|█████████▎| 14/15 [02:35<00:06,  6.73s/it]\u001b[A"
     ]
    },
    {
     "name": "stdout",
     "output_type": "stream",
     "text": [
      "y_pred: (1062, 1)\ty_score: (1062, 1)\ty_true: (1062, 1)\n",
      "y_pred: (1062, 1)\ty_score: (1062, 1)\ty_true: (1062, 1)\n",
      "y_pred: (1062, 1)\ty_score: (1062, 1)\ty_true: (1062, 1)\n",
      "VDR /p/vast1/jones289/hd_results/5/hdbind-rp-molformer-100k.lit-pcba-VDR-random.5.pkl hdbind-rp-molformer-100k\n",
      "y_pred: (66801, 1)\ty_score: (66801, 1)\ty_true: (66801, 1)\n",
      "y_pred: (66801, 1)\ty_score: (66801, 1)\ty_true: (66801, 1)\n",
      "y_pred: (66801, 1)\ty_score: (66801, 1)\ty_true: (66801, 1)\n",
      "y_pred: (66801, 1)\ty_score: (66801, 1)\ty_true: (66801, 1)\n",
      "y_pred: (66801, 1)\ty_score: (66801, 1)\ty_true: (66801, 1)\n",
      "y_pred: (66801, 1)\ty_score: (66801, 1)\ty_true: (66801, 1)\n",
      "y_pred: (66801, 1)\ty_score: (66801, 1)\ty_true: (66801, 1)\n",
      "y_pred: (66801, 1)\ty_score: (66801, 1)\ty_true: (66801, 1)\n",
      "y_pred: (66801, 1)\ty_score: (66801, 1)\ty_true: (66801, 1)\n",
      "y_pred: (66801, 1)\ty_score: (66801, 1)\ty_true: (66801, 1)\n",
      "y_pred: (66801, 1)\ty_score: (66801, 1)\ty_true: (66801, 1)\n",
      "y_pred: (66801, 1)\ty_score: (66801, 1)\ty_true: (66801, 1)\n",
      "y_pred: (66801, 1)\ty_score: (66801, 1)\ty_true: (66801, 1)\n",
      "y_pred: (66801, 1)\ty_score: (66801, 1)\ty_true: (66801, 1)\n",
      "y_pred: (66801, 1)\ty_score: (66801, 1)\ty_true: (66801, 1)\n",
      "y_pred: (66801, 1)\ty_score: (66801, 1)\ty_true: (66801, 1)\n",
      "y_pred: (66801, 1)\ty_score: (66801, 1)\ty_true: (66801, 1)\n",
      "y_pred: (66801, 1)\ty_score: (66801, 1)\ty_true: (66801, 1)\n",
      "y_pred: (66801, 1)\ty_score: (66801, 1)\ty_true: (66801, 1)\n",
      "y_pred: (66801, 1)\ty_score: (66801, 1)\ty_true: (66801, 1)\n"
     ]
    },
    {
     "name": "stderr",
     "output_type": "stream",
     "text": [
      "\n",
      "100%|██████████| 15/15 [02:52<00:00, 11.47s/it]\u001b[A\n",
      " 78%|███████▊  | 7/9 [19:50<05:43, 171.63s/it]\n",
      "  0%|          | 0/15 [00:00<?, ?it/s]\u001b[A"
     ]
    },
    {
     "name": "stdout",
     "output_type": "stream",
     "text": [
      "ADRB2 /p/vast1/jones289/hd_results/5/mlp-1024-1.lit-pcba-ADRB2-random.5.pkl mlp-1024-1\n",
      "y_pred: torch.Size([78125])\ty_score: torch.Size([78125, 2])\ty_true: torch.Size([78125])\n",
      "y_pred: torch.Size([78125])\ty_score: torch.Size([78125, 2])\ty_true: torch.Size([78125])\n",
      "y_pred: torch.Size([78125])\ty_score: torch.Size([78125, 2])\ty_true: torch.Size([78125])\n",
      "y_pred: torch.Size([78125])\ty_score: torch.Size([78125, 2])\ty_true: torch.Size([78125])\n",
      "y_pred: torch.Size([78125])\ty_score: torch.Size([78125, 2])\ty_true: torch.Size([78125])\n",
      "y_pred: torch.Size([78125])\ty_score: torch.Size([78125, 2])\ty_true: torch.Size([78125])\n",
      "y_pred: torch.Size([78125])\ty_score: torch.Size([78125, 2])\ty_true: torch.Size([78125])\n",
      "y_pred: torch.Size([78125])\ty_score: torch.Size([78125, 2])\ty_true: torch.Size([78125])\n",
      "y_pred: torch.Size([78125])\ty_score: torch.Size([78125, 2])\ty_true: torch.Size([78125])\n",
      "y_pred: torch.Size([78125])\ty_score: torch.Size([78125, 2])\ty_true: torch.Size([78125])\n",
      "y_pred: torch.Size([78125])\ty_score: torch.Size([78125, 2])\ty_true: torch.Size([78125])\n",
      "y_pred: torch.Size([78125])\ty_score: torch.Size([78125, 2])\ty_true: torch.Size([78125])\n",
      "y_pred: torch.Size([78125])\ty_score: torch.Size([78125, 2])\ty_true: torch.Size([78125])\n",
      "y_pred: torch.Size([78125])\ty_score: torch.Size([78125, 2])\ty_true: torch.Size([78125])\n",
      "y_pred: torch.Size([78125])\ty_score: torch.Size([78125, 2])\ty_true: torch.Size([78125])\n",
      "y_pred: torch.Size([78125])\ty_score: torch.Size([78125, 2])\ty_true: torch.Size([78125])\n",
      "y_pred: torch.Size([78125])\ty_score: torch.Size([78125, 2])\ty_true: torch.Size([78125])\n",
      "y_pred: torch.Size([78125])\ty_score: torch.Size([78125, 2])\ty_true: torch.Size([78125])\n",
      "y_pred: torch.Size([78125])\ty_score: torch.Size([78125, 2])\ty_true: torch.Size([78125])\n",
      "y_pred: torch.Size([78125])\ty_score: torch.Size([78125, 2])\ty_true: torch.Size([78125])\n"
     ]
    },
    {
     "name": "stderr",
     "output_type": "stream",
     "text": [
      "\n",
      "  7%|▋         | 1/15 [01:31<21:17, 91.26s/it]\u001b[A"
     ]
    },
    {
     "name": "stdout",
     "output_type": "stream",
     "text": [
      "ALDH1 /p/vast1/jones289/hd_results/5/mlp-1024-1.lit-pcba-ALDH1-random.5.pkl mlp-1024-1\n",
      "y_pred: torch.Size([27213])\ty_score: torch.Size([27213, 2])\ty_true: torch.Size([27213])\n",
      "y_pred: torch.Size([27213])\ty_score: torch.Size([27213, 2])\ty_true: torch.Size([27213])\n",
      "y_pred: torch.Size([27213])\ty_score: torch.Size([27213, 2])\ty_true: torch.Size([27213])\n",
      "y_pred: torch.Size([27213])\ty_score: torch.Size([27213, 2])\ty_true: torch.Size([27213])\n",
      "y_pred: torch.Size([27213])\ty_score: torch.Size([27213, 2])\ty_true: torch.Size([27213])\n",
      "y_pred: torch.Size([27213])\ty_score: torch.Size([27213, 2])\ty_true: torch.Size([27213])\n",
      "y_pred: torch.Size([27213])\ty_score: torch.Size([27213, 2])\ty_true: torch.Size([27213])\n",
      "y_pred: torch.Size([27213])\ty_score: torch.Size([27213, 2])\ty_true: torch.Size([27213])\n",
      "y_pred: torch.Size([27213])\ty_score: torch.Size([27213, 2])\ty_true: torch.Size([27213])\n",
      "y_pred: torch.Size([27213])\ty_score: torch.Size([27213, 2])\ty_true: torch.Size([27213])\n",
      "y_pred: torch.Size([27213])\ty_score: torch.Size([27213, 2])\ty_true: torch.Size([27213])\n",
      "y_pred: torch.Size([27213])\ty_score: torch.Size([27213, 2])\ty_true: torch.Size([27213])\n",
      "y_pred: torch.Size([27213])\ty_score: torch.Size([27213, 2])\ty_true: torch.Size([27213])\n",
      "y_pred: torch.Size([27213])\ty_score: torch.Size([27213, 2])\ty_true: torch.Size([27213])\n",
      "y_pred: torch.Size([27213])\ty_score: torch.Size([27213, 2])\ty_true: torch.Size([27213])\n",
      "y_pred: torch.Size([27213])\ty_score: torch.Size([27213, 2])\ty_true: torch.Size([27213])\n",
      "y_pred: torch.Size([27213])\ty_score: torch.Size([27213, 2])\ty_true: torch.Size([27213])\n",
      "y_pred: torch.Size([27213])\ty_score: torch.Size([27213, 2])\ty_true: torch.Size([27213])\n",
      "y_pred: torch.Size([27213])\ty_score: torch.Size([27213, 2])\ty_true: torch.Size([27213])\n",
      "y_pred: torch.Size([27213])\ty_score: torch.Size([27213, 2])\ty_true: torch.Size([27213])\n"
     ]
    },
    {
     "name": "stderr",
     "output_type": "stream",
     "text": [
      "\n",
      " 13%|█▎        | 2/15 [02:00<11:50, 54.68s/it]\u001b[A"
     ]
    },
    {
     "name": "stdout",
     "output_type": "stream",
     "text": [
      "ESR1_ago /p/vast1/jones289/hd_results/5/mlp-1024-1.lit-pcba-ESR1_ago-random.5.pkl mlp-1024-1\n",
      "y_pred: torch.Size([1399])\ty_score: torch.Size([1399, 2])\ty_true: torch.Size([1399])\n",
      "y_pred: torch.Size([1399])\ty_score: torch.Size([1399, 2])\ty_true: torch.Size([1399])\n",
      "y_pred: torch.Size([1399])\ty_score: torch.Size([1399, 2])\ty_true: torch.Size([1399])\n",
      "y_pred: torch.Size([1399])\ty_score: torch.Size([1399, 2])\ty_true: torch.Size([1399])\n",
      "y_pred: torch.Size([1399])\ty_score: torch.Size([1399, 2])\ty_true: torch.Size([1399])\n",
      "y_pred: torch.Size([1399])\ty_score: torch.Size([1399, 2])\ty_true: torch.Size([1399])\n",
      "y_pred: torch.Size([1399])\ty_score: torch.Size([1399, 2])\ty_true: torch.Size([1399])\n",
      "y_pred: torch.Size([1399])\ty_score: torch.Size([1399, 2])\ty_true: torch.Size([1399])\n",
      "y_pred: torch.Size([1399])\ty_score: torch.Size([1399, 2])\ty_true: torch.Size([1399])\n",
      "y_pred: torch.Size([1399])\ty_score: torch.Size([1399, 2])\ty_true: torch.Size([1399])\n",
      "y_pred: torch.Size([1399])\ty_score: torch.Size([1399, 2])\ty_true: torch.Size([1399])\n",
      "y_pred: torch.Size([1399])\ty_score: torch.Size([1399, 2])\ty_true: torch.Size([1399])\n",
      "y_pred: torch.Size([1399])\ty_score: torch.Size([1399, 2])\ty_true: torch.Size([1399])\n",
      "y_pred: torch.Size([1399])\ty_score: torch.Size([1399, 2])\ty_true: torch.Size([1399])\n",
      "y_pred: torch.Size([1399])\ty_score: torch.Size([1399, 2])\ty_true: torch.Size([1399])\n",
      "y_pred: torch.Size([1399])\ty_score: torch.Size([1399, 2])\ty_true: torch.Size([1399])\n",
      "y_pred: torch.Size([1399])\ty_score: torch.Size([1399, 2])\ty_true: torch.Size([1399])\n"
     ]
    },
    {
     "name": "stderr",
     "output_type": "stream",
     "text": [
      "\n",
      " 20%|██        | 3/15 [02:01<06:01, 30.16s/it]\u001b[A"
     ]
    },
    {
     "name": "stdout",
     "output_type": "stream",
     "text": [
      "y_pred: torch.Size([1399])\ty_score: torch.Size([1399, 2])\ty_true: torch.Size([1399])\n",
      "y_pred: torch.Size([1399])\ty_score: torch.Size([1399, 2])\ty_true: torch.Size([1399])\n",
      "y_pred: torch.Size([1399])\ty_score: torch.Size([1399, 2])\ty_true: torch.Size([1399])\n",
      "ESR1_ant /p/vast1/jones289/hd_results/5/mlp-1024-1.lit-pcba-ESR1_ant-random.5.pkl mlp-1024-1\n",
      "y_pred: torch.Size([1263])\ty_score: torch.Size([1263, 2])\ty_true: torch.Size([1263])\n",
      "y_pred: torch.Size([1263])\ty_score: torch.Size([1263, 2])\ty_true: torch.Size([1263])\n",
      "y_pred: torch.Size([1263])\ty_score: torch.Size([1263, 2])\ty_true: torch.Size([1263])\n",
      "y_pred: torch.Size([1263])\ty_score: torch.Size([1263, 2])\ty_true: torch.Size([1263])\n",
      "y_pred: torch.Size([1263])\ty_score: torch.Size([1263, 2])\ty_true: torch.Size([1263])\n",
      "y_pred: torch.Size([1263])\ty_score: torch.Size([1263, 2])\ty_true: torch.Size([1263])\n",
      "y_pred: torch.Size([1263])\ty_score: torch.Size([1263, 2])\ty_true: torch.Size([1263])\n",
      "y_pred: torch.Size([1263])\ty_score: torch.Size([1263, 2])\ty_true: torch.Size([1263])\n",
      "y_pred: torch.Size([1263])\ty_score: torch.Size([1263, 2])\ty_true: torch.Size([1263])\n",
      "y_pred: torch.Size([1263])\ty_score: torch.Size([1263, 2])\ty_true: torch.Size([1263])\n",
      "y_pred: torch.Size([1263])\ty_score: torch.Size([1263, 2])\ty_true: torch.Size([1263])\n",
      "y_pred: torch.Size([1263])\ty_score: torch.Size([1263, 2])\ty_true: torch.Size([1263])\n",
      "y_pred: torch.Size([1263])\ty_score: torch.Size([1263, 2])\ty_true: torch.Size([1263])\n",
      "y_pred: torch.Size([1263])\ty_score: torch.Size([1263, 2])\ty_true: torch.Size([1263])\n",
      "y_pred: torch.Size([1263])\ty_score: torch.Size([1263, 2])\ty_true: torch.Size([1263])\n",
      "y_pred: torch.Size([1263])\ty_score: torch.Size([1263, 2])\ty_true: torch.Size([1263])\n",
      "y_pred: torch.Size([1263])\ty_score: torch.Size([1263, 2])\ty_true: torch.Size([1263])\n",
      "y_pred: torch.Size([1263])\ty_score: torch.Size([1263, 2])\ty_true: torch.Size([1263])\n",
      "y_pred: torch.Size([1263])\ty_score: torch.Size([1263, 2])\ty_true: torch.Size([1263])\n",
      "y_pred: torch.Size([1263])\ty_score: torch.Size([1263, 2])\ty_true: torch.Size([1263])\n"
     ]
    },
    {
     "name": "stderr",
     "output_type": "stream",
     "text": [
      "\n",
      " 27%|██▋       | 4/15 [02:02<03:24, 18.55s/it]\u001b[A"
     ]
    },
    {
     "name": "stdout",
     "output_type": "stream",
     "text": [
      "FEN1 /p/vast1/jones289/hd_results/5/mlp-1024-1.lit-pcba-FEN1-random.5.pkl mlp-1024-1\n",
      "y_pred: torch.Size([88943])\ty_score: torch.Size([88943, 2])\ty_true: torch.Size([88943])\n",
      "y_pred: torch.Size([88943])\ty_score: torch.Size([88943, 2])\ty_true: torch.Size([88943])\n",
      "y_pred: torch.Size([88943])\ty_score: torch.Size([88943, 2])\ty_true: torch.Size([88943])\n",
      "y_pred: torch.Size([88943])\ty_score: torch.Size([88943, 2])\ty_true: torch.Size([88943])\n",
      "y_pred: torch.Size([88943])\ty_score: torch.Size([88943, 2])\ty_true: torch.Size([88943])\n",
      "y_pred: torch.Size([88943])\ty_score: torch.Size([88943, 2])\ty_true: torch.Size([88943])\n",
      "y_pred: torch.Size([88943])\ty_score: torch.Size([88943, 2])\ty_true: torch.Size([88943])\n",
      "y_pred: torch.Size([88943])\ty_score: torch.Size([88943, 2])\ty_true: torch.Size([88943])\n",
      "y_pred: torch.Size([88943])\ty_score: torch.Size([88943, 2])\ty_true: torch.Size([88943])\n",
      "y_pred: torch.Size([88943])\ty_score: torch.Size([88943, 2])\ty_true: torch.Size([88943])\n",
      "y_pred: torch.Size([88943])\ty_score: torch.Size([88943, 2])\ty_true: torch.Size([88943])\n",
      "y_pred: torch.Size([88943])\ty_score: torch.Size([88943, 2])\ty_true: torch.Size([88943])\n",
      "y_pred: torch.Size([88943])\ty_score: torch.Size([88943, 2])\ty_true: torch.Size([88943])\n",
      "y_pred: torch.Size([88943])\ty_score: torch.Size([88943, 2])\ty_true: torch.Size([88943])\n",
      "y_pred: torch.Size([88943])\ty_score: torch.Size([88943, 2])\ty_true: torch.Size([88943])\n",
      "y_pred: torch.Size([88943])\ty_score: torch.Size([88943, 2])\ty_true: torch.Size([88943])\n",
      "y_pred: torch.Size([88943])\ty_score: torch.Size([88943, 2])\ty_true: torch.Size([88943])\n",
      "y_pred: torch.Size([88943])\ty_score: torch.Size([88943, 2])\ty_true: torch.Size([88943])\n",
      "y_pred: torch.Size([88943])\ty_score: torch.Size([88943, 2])\ty_true: torch.Size([88943])\n",
      "y_pred: torch.Size([88943])\ty_score: torch.Size([88943, 2])\ty_true: torch.Size([88943])\n"
     ]
    },
    {
     "name": "stderr",
     "output_type": "stream",
     "text": [
      "\n",
      " 33%|███▎      | 5/15 [03:47<08:19, 49.98s/it]\u001b[A"
     ]
    },
    {
     "name": "stdout",
     "output_type": "stream",
     "text": [
      "GBA /p/vast1/jones289/hd_results/5/mlp-1024-1.lit-pcba-GBA-random.5.pkl mlp-1024-1\n",
      "y_pred: torch.Size([74055])\ty_score: torch.Size([74055, 2])\ty_true: torch.Size([74055])\n",
      "y_pred: torch.Size([74055])\ty_score: torch.Size([74055, 2])\ty_true: torch.Size([74055])\n",
      "y_pred: torch.Size([74055])\ty_score: torch.Size([74055, 2])\ty_true: torch.Size([74055])\n",
      "y_pred: torch.Size([74055])\ty_score: torch.Size([74055, 2])\ty_true: torch.Size([74055])\n",
      "y_pred: torch.Size([74055])\ty_score: torch.Size([74055, 2])\ty_true: torch.Size([74055])\n",
      "y_pred: torch.Size([74055])\ty_score: torch.Size([74055, 2])\ty_true: torch.Size([74055])\n",
      "y_pred: torch.Size([74055])\ty_score: torch.Size([74055, 2])\ty_true: torch.Size([74055])\n",
      "y_pred: torch.Size([74055])\ty_score: torch.Size([74055, 2])\ty_true: torch.Size([74055])\n",
      "y_pred: torch.Size([74055])\ty_score: torch.Size([74055, 2])\ty_true: torch.Size([74055])\n",
      "y_pred: torch.Size([74055])\ty_score: torch.Size([74055, 2])\ty_true: torch.Size([74055])\n",
      "y_pred: torch.Size([74055])\ty_score: torch.Size([74055, 2])\ty_true: torch.Size([74055])\n",
      "y_pred: torch.Size([74055])\ty_score: torch.Size([74055, 2])\ty_true: torch.Size([74055])\n",
      "y_pred: torch.Size([74055])\ty_score: torch.Size([74055, 2])\ty_true: torch.Size([74055])\n",
      "y_pred: torch.Size([74055])\ty_score: torch.Size([74055, 2])\ty_true: torch.Size([74055])\n",
      "y_pred: torch.Size([74055])\ty_score: torch.Size([74055, 2])\ty_true: torch.Size([74055])\n",
      "y_pred: torch.Size([74055])\ty_score: torch.Size([74055, 2])\ty_true: torch.Size([74055])\n",
      "y_pred: torch.Size([74055])\ty_score: torch.Size([74055, 2])\ty_true: torch.Size([74055])\n",
      "y_pred: torch.Size([74055])\ty_score: torch.Size([74055, 2])\ty_true: torch.Size([74055])\n",
      "y_pred: torch.Size([74055])\ty_score: torch.Size([74055, 2])\ty_true: torch.Size([74055])\n",
      "y_pred: torch.Size([74055])\ty_score: torch.Size([74055, 2])\ty_true: torch.Size([74055])\n"
     ]
    },
    {
     "name": "stderr",
     "output_type": "stream",
     "text": [
      "\n",
      " 40%|████      | 6/15 [05:13<09:18, 62.06s/it]\u001b[A"
     ]
    },
    {
     "name": "stdout",
     "output_type": "stream",
     "text": [
      "IDH1 /p/vast1/jones289/hd_results/5/mlp-1024-1.lit-pcba-IDH1-random.5.pkl mlp-1024-1\n",
      "y_pred: torch.Size([90522])\ty_score: torch.Size([90522, 2])\ty_true: torch.Size([90522])\n",
      "y_pred: torch.Size([90522])\ty_score: torch.Size([90522, 2])\ty_true: torch.Size([90522])\n",
      "y_pred: torch.Size([90522])\ty_score: torch.Size([90522, 2])\ty_true: torch.Size([90522])\n",
      "y_pred: torch.Size([90522])\ty_score: torch.Size([90522, 2])\ty_true: torch.Size([90522])\n",
      "y_pred: torch.Size([90522])\ty_score: torch.Size([90522, 2])\ty_true: torch.Size([90522])\n",
      "y_pred: torch.Size([90522])\ty_score: torch.Size([90522, 2])\ty_true: torch.Size([90522])\n",
      "y_pred: torch.Size([90522])\ty_score: torch.Size([90522, 2])\ty_true: torch.Size([90522])\n",
      "y_pred: torch.Size([90522])\ty_score: torch.Size([90522, 2])\ty_true: torch.Size([90522])\n",
      "y_pred: torch.Size([90522])\ty_score: torch.Size([90522, 2])\ty_true: torch.Size([90522])\n",
      "y_pred: torch.Size([90522])\ty_score: torch.Size([90522, 2])\ty_true: torch.Size([90522])\n",
      "y_pred: torch.Size([90522])\ty_score: torch.Size([90522, 2])\ty_true: torch.Size([90522])\n",
      "y_pred: torch.Size([90522])\ty_score: torch.Size([90522, 2])\ty_true: torch.Size([90522])\n",
      "y_pred: torch.Size([90522])\ty_score: torch.Size([90522, 2])\ty_true: torch.Size([90522])\n",
      "y_pred: torch.Size([90522])\ty_score: torch.Size([90522, 2])\ty_true: torch.Size([90522])\n",
      "y_pred: torch.Size([90522])\ty_score: torch.Size([90522, 2])\ty_true: torch.Size([90522])\n",
      "y_pred: torch.Size([90522])\ty_score: torch.Size([90522, 2])\ty_true: torch.Size([90522])\n",
      "y_pred: torch.Size([90522])\ty_score: torch.Size([90522, 2])\ty_true: torch.Size([90522])\n",
      "y_pred: torch.Size([90522])\ty_score: torch.Size([90522, 2])\ty_true: torch.Size([90522])\n",
      "y_pred: torch.Size([90522])\ty_score: torch.Size([90522, 2])\ty_true: torch.Size([90522])\n",
      "y_pred: torch.Size([90522])\ty_score: torch.Size([90522, 2])\ty_true: torch.Size([90522])\n"
     ]
    },
    {
     "name": "stderr",
     "output_type": "stream",
     "text": [
      "\n",
      " 47%|████▋     | 7/15 [07:03<10:23, 77.96s/it]\u001b[A"
     ]
    },
    {
     "name": "stdout",
     "output_type": "stream",
     "text": [
      "KAT2A /p/vast1/jones289/hd_results/5/mlp-1024-1.lit-pcba-KAT2A-random.5.pkl mlp-1024-1\n",
      "y_pred: torch.Size([87186])\ty_score: torch.Size([87186, 2])\ty_true: torch.Size([87186])\n",
      "y_pred: torch.Size([87186])\ty_score: torch.Size([87186, 2])\ty_true: torch.Size([87186])\n",
      "y_pred: torch.Size([87186])\ty_score: torch.Size([87186, 2])\ty_true: torch.Size([87186])\n",
      "y_pred: torch.Size([87186])\ty_score: torch.Size([87186, 2])\ty_true: torch.Size([87186])\n",
      "y_pred: torch.Size([87186])\ty_score: torch.Size([87186, 2])\ty_true: torch.Size([87186])\n",
      "y_pred: torch.Size([87186])\ty_score: torch.Size([87186, 2])\ty_true: torch.Size([87186])\n",
      "y_pred: torch.Size([87186])\ty_score: torch.Size([87186, 2])\ty_true: torch.Size([87186])\n",
      "y_pred: torch.Size([87186])\ty_score: torch.Size([87186, 2])\ty_true: torch.Size([87186])\n",
      "y_pred: torch.Size([87186])\ty_score: torch.Size([87186, 2])\ty_true: torch.Size([87186])\n",
      "y_pred: torch.Size([87186])\ty_score: torch.Size([87186, 2])\ty_true: torch.Size([87186])\n",
      "y_pred: torch.Size([87186])\ty_score: torch.Size([87186, 2])\ty_true: torch.Size([87186])\n",
      "y_pred: torch.Size([87186])\ty_score: torch.Size([87186, 2])\ty_true: torch.Size([87186])\n",
      "y_pred: torch.Size([87186])\ty_score: torch.Size([87186, 2])\ty_true: torch.Size([87186])\n",
      "y_pred: torch.Size([87186])\ty_score: torch.Size([87186, 2])\ty_true: torch.Size([87186])\n",
      "y_pred: torch.Size([87186])\ty_score: torch.Size([87186, 2])\ty_true: torch.Size([87186])\n",
      "y_pred: torch.Size([87186])\ty_score: torch.Size([87186, 2])\ty_true: torch.Size([87186])\n",
      "y_pred: torch.Size([87186])\ty_score: torch.Size([87186, 2])\ty_true: torch.Size([87186])\n",
      "y_pred: torch.Size([87186])\ty_score: torch.Size([87186, 2])\ty_true: torch.Size([87186])\n",
      "y_pred: torch.Size([87186])\ty_score: torch.Size([87186, 2])\ty_true: torch.Size([87186])\n",
      "y_pred: torch.Size([87186])\ty_score: torch.Size([87186, 2])\ty_true: torch.Size([87186])\n"
     ]
    },
    {
     "name": "stderr",
     "output_type": "stream",
     "text": [
      "\n",
      " 53%|█████▎    | 8/15 [08:43<09:52, 84.69s/it]\u001b[A"
     ]
    },
    {
     "name": "stdout",
     "output_type": "stream",
     "text": [
      "MAPK1 /p/vast1/jones289/hd_results/5/mlp-1024-1.lit-pcba-MAPK1-random.5.pkl mlp-1024-1\n",
      "y_pred: torch.Size([15735])\ty_score: torch.Size([15735, 2])\ty_true: torch.Size([15735])\n",
      "y_pred: torch.Size([15735])\ty_score: torch.Size([15735, 2])\ty_true: torch.Size([15735])\n",
      "y_pred: torch.Size([15735])\ty_score: torch.Size([15735, 2])\ty_true: torch.Size([15735])\n",
      "y_pred: torch.Size([15735])\ty_score: torch.Size([15735, 2])\ty_true: torch.Size([15735])\n",
      "y_pred: torch.Size([15735])\ty_score: torch.Size([15735, 2])\ty_true: torch.Size([15735])\n",
      "y_pred: torch.Size([15735])\ty_score: torch.Size([15735, 2])\ty_true: torch.Size([15735])\n",
      "y_pred: torch.Size([15735])\ty_score: torch.Size([15735, 2])\ty_true: torch.Size([15735])\n",
      "y_pred: torch.Size([15735])\ty_score: torch.Size([15735, 2])\ty_true: torch.Size([15735])\n",
      "y_pred: torch.Size([15735])\ty_score: torch.Size([15735, 2])\ty_true: torch.Size([15735])\n",
      "y_pred: torch.Size([15735])\ty_score: torch.Size([15735, 2])\ty_true: torch.Size([15735])\n",
      "y_pred: torch.Size([15735])\ty_score: torch.Size([15735, 2])\ty_true: torch.Size([15735])\n",
      "y_pred: torch.Size([15735])\ty_score: torch.Size([15735, 2])\ty_true: torch.Size([15735])\n",
      "y_pred: torch.Size([15735])\ty_score: torch.Size([15735, 2])\ty_true: torch.Size([15735])\n",
      "y_pred: torch.Size([15735])\ty_score: torch.Size([15735, 2])\ty_true: torch.Size([15735])\n",
      "y_pred: torch.Size([15735])\ty_score: torch.Size([15735, 2])\ty_true: torch.Size([15735])\n",
      "y_pred: torch.Size([15735])\ty_score: torch.Size([15735, 2])\ty_true: torch.Size([15735])\n",
      "y_pred: torch.Size([15735])\ty_score: torch.Size([15735, 2])\ty_true: torch.Size([15735])\n",
      "y_pred: torch.Size([15735])\ty_score: torch.Size([15735, 2])\ty_true: torch.Size([15735])\n",
      "y_pred: torch.Size([15735])\ty_score: torch.Size([15735, 2])\ty_true: torch.Size([15735])\n",
      "y_pred: torch.Size([15735])\ty_score: torch.Size([15735, 2])\ty_true: torch.Size([15735])\n"
     ]
    },
    {
     "name": "stderr",
     "output_type": "stream",
     "text": [
      "\n",
      " 60%|██████    | 9/15 [08:57<06:15, 62.63s/it]\u001b[A"
     ]
    },
    {
     "name": "stdout",
     "output_type": "stream",
     "text": [
      "MTORC1 /p/vast1/jones289/hd_results/5/mlp-1024-1.lit-pcba-MTORC1-random.5.pkl mlp-1024-1\n",
      "y_pred: torch.Size([8268])\ty_score: torch.Size([8268, 2])\ty_true: torch.Size([8268])\n",
      "y_pred: torch.Size([8268])\ty_score: torch.Size([8268, 2])\ty_true: torch.Size([8268])\n",
      "y_pred: torch.Size([8268])\ty_score: torch.Size([8268, 2])\ty_true: torch.Size([8268])\n",
      "y_pred: torch.Size([8268])\ty_score: torch.Size([8268, 2])\ty_true: torch.Size([8268])\n",
      "y_pred: torch.Size([8268])\ty_score: torch.Size([8268, 2])\ty_true: torch.Size([8268])\n",
      "y_pred: torch.Size([8268])\ty_score: torch.Size([8268, 2])\ty_true: torch.Size([8268])\n",
      "y_pred: torch.Size([8268])\ty_score: torch.Size([8268, 2])\ty_true: torch.Size([8268])\n",
      "y_pred: torch.Size([8268])\ty_score: torch.Size([8268, 2])\ty_true: torch.Size([8268])\n",
      "y_pred: torch.Size([8268])\ty_score: torch.Size([8268, 2])\ty_true: torch.Size([8268])\n",
      "y_pred: torch.Size([8268])\ty_score: torch.Size([8268, 2])\ty_true: torch.Size([8268])\n",
      "y_pred: torch.Size([8268])\ty_score: torch.Size([8268, 2])\ty_true: torch.Size([8268])\n",
      "y_pred: torch.Size([8268])\ty_score: torch.Size([8268, 2])\ty_true: torch.Size([8268])\n",
      "y_pred: torch.Size([8268])\ty_score: torch.Size([8268, 2])\ty_true: torch.Size([8268])\n",
      "y_pred: torch.Size([8268])\ty_score: torch.Size([8268, 2])\ty_true: torch.Size([8268])\n",
      "y_pred: torch.Size([8268])\ty_score: torch.Size([8268, 2])\ty_true: torch.Size([8268])\n",
      "y_pred: torch.Size([8268])\ty_score: torch.Size([8268, 2])\ty_true: torch.Size([8268])\n",
      "y_pred: torch.Size([8268])\ty_score: torch.Size([8268, 2])\ty_true: torch.Size([8268])\n",
      "y_pred: torch.Size([8268])\ty_score: torch.Size([8268, 2])\ty_true: torch.Size([8268])\n",
      "y_pred: torch.Size([8268])\ty_score: torch.Size([8268, 2])\ty_true: torch.Size([8268])\n",
      "y_pred: torch.Size([8268])\ty_score: torch.Size([8268, 2])\ty_true: torch.Size([8268])\n"
     ]
    },
    {
     "name": "stderr",
     "output_type": "stream",
     "text": [
      "\n",
      " 67%|██████▋   | 10/15 [09:03<03:46, 45.36s/it]\u001b[A"
     ]
    },
    {
     "name": "stdout",
     "output_type": "stream",
     "text": [
      "OPRK1 /p/vast1/jones289/hd_results/5/mlp-1024-1.lit-pcba-OPRK1-random.5.pkl mlp-1024-1\n",
      "y_pred: torch.Size([67460])\ty_score: torch.Size([67460, 2])\ty_true: torch.Size([67460])\n",
      "y_pred: torch.Size([67460])\ty_score: torch.Size([67460, 2])\ty_true: torch.Size([67460])\n",
      "y_pred: torch.Size([67460])\ty_score: torch.Size([67460, 2])\ty_true: torch.Size([67460])\n",
      "y_pred: torch.Size([67460])\ty_score: torch.Size([67460, 2])\ty_true: torch.Size([67460])\n",
      "y_pred: torch.Size([67460])\ty_score: torch.Size([67460, 2])\ty_true: torch.Size([67460])\n",
      "y_pred: torch.Size([67460])\ty_score: torch.Size([67460, 2])\ty_true: torch.Size([67460])\n",
      "y_pred: torch.Size([67460])\ty_score: torch.Size([67460, 2])\ty_true: torch.Size([67460])\n",
      "y_pred: torch.Size([67460])\ty_score: torch.Size([67460, 2])\ty_true: torch.Size([67460])\n",
      "y_pred: torch.Size([67460])\ty_score: torch.Size([67460, 2])\ty_true: torch.Size([67460])\n",
      "y_pred: torch.Size([67460])\ty_score: torch.Size([67460, 2])\ty_true: torch.Size([67460])\n",
      "y_pred: torch.Size([67460])\ty_score: torch.Size([67460, 2])\ty_true: torch.Size([67460])\n",
      "y_pred: torch.Size([67460])\ty_score: torch.Size([67460, 2])\ty_true: torch.Size([67460])\n",
      "y_pred: torch.Size([67460])\ty_score: torch.Size([67460, 2])\ty_true: torch.Size([67460])\n",
      "y_pred: torch.Size([67460])\ty_score: torch.Size([67460, 2])\ty_true: torch.Size([67460])\n",
      "y_pred: torch.Size([67460])\ty_score: torch.Size([67460, 2])\ty_true: torch.Size([67460])\n",
      "y_pred: torch.Size([67460])\ty_score: torch.Size([67460, 2])\ty_true: torch.Size([67460])\n",
      "y_pred: torch.Size([67460])\ty_score: torch.Size([67460, 2])\ty_true: torch.Size([67460])\n",
      "y_pred: torch.Size([67460])\ty_score: torch.Size([67460, 2])\ty_true: torch.Size([67460])\n",
      "y_pred: torch.Size([67460])\ty_score: torch.Size([67460, 2])\ty_true: torch.Size([67460])\n",
      "y_pred: torch.Size([67460])\ty_score: torch.Size([67460, 2])\ty_true: torch.Size([67460])\n"
     ]
    },
    {
     "name": "stderr",
     "output_type": "stream",
     "text": [
      "\n",
      " 73%|███████▎  | 11/15 [10:17<03:35, 53.98s/it]\u001b[A"
     ]
    },
    {
     "name": "stdout",
     "output_type": "stream",
     "text": [
      "PKM2 /p/vast1/jones289/hd_results/5/mlp-1024-1.lit-pcba-PKM2-random.5.pkl mlp-1024-1\n",
      "y_pred: torch.Size([61518])\ty_score: torch.Size([61518, 2])\ty_true: torch.Size([61518])\n",
      "y_pred: torch.Size([61518])\ty_score: torch.Size([61518, 2])\ty_true: torch.Size([61518])\n",
      "y_pred: torch.Size([61518])\ty_score: torch.Size([61518, 2])\ty_true: torch.Size([61518])\n",
      "y_pred: torch.Size([61518])\ty_score: torch.Size([61518, 2])\ty_true: torch.Size([61518])\n",
      "y_pred: torch.Size([61518])\ty_score: torch.Size([61518, 2])\ty_true: torch.Size([61518])\n",
      "y_pred: torch.Size([61518])\ty_score: torch.Size([61518, 2])\ty_true: torch.Size([61518])\n",
      "y_pred: torch.Size([61518])\ty_score: torch.Size([61518, 2])\ty_true: torch.Size([61518])\n",
      "y_pred: torch.Size([61518])\ty_score: torch.Size([61518, 2])\ty_true: torch.Size([61518])\n",
      "y_pred: torch.Size([61518])\ty_score: torch.Size([61518, 2])\ty_true: torch.Size([61518])\n",
      "y_pred: torch.Size([61518])\ty_score: torch.Size([61518, 2])\ty_true: torch.Size([61518])\n",
      "y_pred: torch.Size([61518])\ty_score: torch.Size([61518, 2])\ty_true: torch.Size([61518])\n",
      "y_pred: torch.Size([61518])\ty_score: torch.Size([61518, 2])\ty_true: torch.Size([61518])\n",
      "y_pred: torch.Size([61518])\ty_score: torch.Size([61518, 2])\ty_true: torch.Size([61518])\n",
      "y_pred: torch.Size([61518])\ty_score: torch.Size([61518, 2])\ty_true: torch.Size([61518])\n",
      "y_pred: torch.Size([61518])\ty_score: torch.Size([61518, 2])\ty_true: torch.Size([61518])\n",
      "y_pred: torch.Size([61518])\ty_score: torch.Size([61518, 2])\ty_true: torch.Size([61518])\n",
      "y_pred: torch.Size([61518])\ty_score: torch.Size([61518, 2])\ty_true: torch.Size([61518])\n",
      "y_pred: torch.Size([61518])\ty_score: torch.Size([61518, 2])\ty_true: torch.Size([61518])\n",
      "y_pred: torch.Size([61518])\ty_score: torch.Size([61518, 2])\ty_true: torch.Size([61518])\n",
      "y_pred: torch.Size([61518])\ty_score: torch.Size([61518, 2])\ty_true: torch.Size([61518])\n"
     ]
    },
    {
     "name": "stderr",
     "output_type": "stream",
     "text": [
      "\n",
      " 80%|████████  | 12/15 [11:25<02:55, 58.36s/it]\u001b[A"
     ]
    },
    {
     "name": "stdout",
     "output_type": "stream",
     "text": [
      "PPARG /p/vast1/jones289/hd_results/5/mlp-1024-1.lit-pcba-PPARG-random.5.pkl mlp-1024-1\n",
      "y_pred: torch.Size([1310])\ty_score: torch.Size([1310, 2])\ty_true: torch.Size([1310])\n",
      "y_pred: torch.Size([1310])\ty_score: torch.Size([1310, 2])\ty_true: torch.Size([1310])\n",
      "y_pred: torch.Size([1310])\ty_score: torch.Size([1310, 2])\ty_true: torch.Size([1310])\n",
      "y_pred: torch.Size([1310])\ty_score: torch.Size([1310, 2])\ty_true: torch.Size([1310])\n",
      "y_pred: torch.Size([1310])\ty_score: torch.Size([1310, 2])\ty_true: torch.Size([1310])\n",
      "y_pred: torch.Size([1310])\ty_score: torch.Size([1310, 2])\ty_true: torch.Size([1310])\n",
      "y_pred: torch.Size([1310])\ty_score: torch.Size([1310, 2])\ty_true: torch.Size([1310])\n",
      "y_pred: torch.Size([1310])\ty_score: torch.Size([1310, 2])\ty_true: torch.Size([1310])\n",
      "y_pred: torch.Size([1310])\ty_score: torch.Size([1310, 2])\ty_true: torch.Size([1310])\n",
      "y_pred: torch.Size([1310])\ty_score: torch.Size([1310, 2])\ty_true: torch.Size([1310])\n",
      "y_pred: torch.Size([1310])\ty_score: torch.Size([1310, 2])\ty_true: torch.Size([1310])\n",
      "y_pred: torch.Size([1310])\ty_score: torch.Size([1310, 2])\ty_true: torch.Size([1310])\n"
     ]
    },
    {
     "name": "stderr",
     "output_type": "stream",
     "text": [
      "\n",
      " 87%|████████▋ | 13/15 [11:26<01:21, 40.80s/it]\u001b[A"
     ]
    },
    {
     "name": "stdout",
     "output_type": "stream",
     "text": [
      "y_pred: torch.Size([1310])\ty_score: torch.Size([1310, 2])\ty_true: torch.Size([1310])\n",
      "y_pred: torch.Size([1310])\ty_score: torch.Size([1310, 2])\ty_true: torch.Size([1310])\n",
      "y_pred: torch.Size([1310])\ty_score: torch.Size([1310, 2])\ty_true: torch.Size([1310])\n",
      "y_pred: torch.Size([1310])\ty_score: torch.Size([1310, 2])\ty_true: torch.Size([1310])\n",
      "y_pred: torch.Size([1310])\ty_score: torch.Size([1310, 2])\ty_true: torch.Size([1310])\n",
      "y_pred: torch.Size([1310])\ty_score: torch.Size([1310, 2])\ty_true: torch.Size([1310])\n",
      "y_pred: torch.Size([1310])\ty_score: torch.Size([1310, 2])\ty_true: torch.Size([1310])\n",
      "y_pred: torch.Size([1310])\ty_score: torch.Size([1310, 2])\ty_true: torch.Size([1310])\n",
      "TP53 /p/vast1/jones289/hd_results/5/mlp-1024-1.lit-pcba-TP53-random.5.pkl mlp-1024-1\n",
      "y_pred: torch.Size([1062])\ty_score: torch.Size([1062, 2])\ty_true: torch.Size([1062])\n",
      "y_pred: torch.Size([1062])\ty_score: torch.Size([1062, 2])\ty_true: torch.Size([1062])\n",
      "y_pred: torch.Size([1062])\ty_score: torch.Size([1062, 2])\ty_true: torch.Size([1062])\n",
      "y_pred: torch.Size([1062])\ty_score: torch.Size([1062, 2])\ty_true: torch.Size([1062])\n",
      "y_pred: torch.Size([1062])\ty_score: torch.Size([1062, 2])\ty_true: torch.Size([1062])\n",
      "y_pred: torch.Size([1062])\ty_score: torch.Size([1062, 2])\ty_true: torch.Size([1062])\n",
      "y_pred: torch.Size([1062])\ty_score: torch.Size([1062, 2])\ty_true: torch.Size([1062])\n",
      "y_pred: torch.Size([1062])\ty_score: torch.Size([1062, 2])\ty_true: torch.Size([1062])\n",
      "y_pred: torch.Size([1062])\ty_score: torch.Size([1062, 2])\ty_true: torch.Size([1062])\n",
      "y_pred: torch.Size([1062])\ty_score: torch.Size([1062, 2])\ty_true: torch.Size([1062])\n",
      "y_pred: torch.Size([1062])\ty_score: torch.Size([1062, 2])\ty_true: torch.Size([1062])\n",
      "y_pred: torch.Size([1062])\ty_score: torch.Size([1062, 2])\ty_true: torch.Size([1062])\n",
      "y_pred: torch.Size([1062])\ty_score: torch.Size([1062, 2])\ty_true: torch.Size([1062])\n",
      "y_pred: torch.Size([1062])\ty_score: torch.Size([1062, 2])\ty_true: torch.Size([1062])\n",
      "y_pred: torch.Size([1062])\ty_score: torch.Size([1062, 2])\ty_true: torch.Size([1062])\n",
      "y_pred: torch.Size([1062])\ty_score: torch.Size([1062, 2])\ty_true: torch.Size([1062])\n",
      "y_pred: torch.Size([1062])\ty_score: torch.Size([1062, 2])\ty_true: torch.Size([1062])\n",
      "y_pred: torch.Size([1062])\ty_score: torch.Size([1062, 2])\ty_true: torch.Size([1062])\n"
     ]
    },
    {
     "name": "stderr",
     "output_type": "stream",
     "text": [
      "\n",
      " 93%|█████████▎| 14/15 [11:26<00:28, 28.72s/it]\u001b[A"
     ]
    },
    {
     "name": "stdout",
     "output_type": "stream",
     "text": [
      "y_pred: torch.Size([1062])\ty_score: torch.Size([1062, 2])\ty_true: torch.Size([1062])\n",
      "y_pred: torch.Size([1062])\ty_score: torch.Size([1062, 2])\ty_true: torch.Size([1062])\n",
      "VDR /p/vast1/jones289/hd_results/5/mlp-1024-1.lit-pcba-VDR-random.5.pkl mlp-1024-1\n",
      "y_pred: torch.Size([66801])\ty_score: torch.Size([66801, 2])\ty_true: torch.Size([66801])\n",
      "y_pred: torch.Size([66801])\ty_score: torch.Size([66801, 2])\ty_true: torch.Size([66801])\n",
      "y_pred: torch.Size([66801])\ty_score: torch.Size([66801, 2])\ty_true: torch.Size([66801])\n",
      "y_pred: torch.Size([66801])\ty_score: torch.Size([66801, 2])\ty_true: torch.Size([66801])\n",
      "y_pred: torch.Size([66801])\ty_score: torch.Size([66801, 2])\ty_true: torch.Size([66801])\n",
      "y_pred: torch.Size([66801])\ty_score: torch.Size([66801, 2])\ty_true: torch.Size([66801])\n",
      "y_pred: torch.Size([66801])\ty_score: torch.Size([66801, 2])\ty_true: torch.Size([66801])\n",
      "y_pred: torch.Size([66801])\ty_score: torch.Size([66801, 2])\ty_true: torch.Size([66801])\n",
      "y_pred: torch.Size([66801])\ty_score: torch.Size([66801, 2])\ty_true: torch.Size([66801])\n",
      "y_pred: torch.Size([66801])\ty_score: torch.Size([66801, 2])\ty_true: torch.Size([66801])\n",
      "y_pred: torch.Size([66801])\ty_score: torch.Size([66801, 2])\ty_true: torch.Size([66801])\n",
      "y_pred: torch.Size([66801])\ty_score: torch.Size([66801, 2])\ty_true: torch.Size([66801])\n",
      "y_pred: torch.Size([66801])\ty_score: torch.Size([66801, 2])\ty_true: torch.Size([66801])\n",
      "y_pred: torch.Size([66801])\ty_score: torch.Size([66801, 2])\ty_true: torch.Size([66801])\n",
      "y_pred: torch.Size([66801])\ty_score: torch.Size([66801, 2])\ty_true: torch.Size([66801])\n",
      "y_pred: torch.Size([66801])\ty_score: torch.Size([66801, 2])\ty_true: torch.Size([66801])\n",
      "y_pred: torch.Size([66801])\ty_score: torch.Size([66801, 2])\ty_true: torch.Size([66801])\n",
      "y_pred: torch.Size([66801])\ty_score: torch.Size([66801, 2])\ty_true: torch.Size([66801])\n",
      "y_pred: torch.Size([66801])\ty_score: torch.Size([66801, 2])\ty_true: torch.Size([66801])\n",
      "y_pred: torch.Size([66801])\ty_score: torch.Size([66801, 2])\ty_true: torch.Size([66801])\n"
     ]
    },
    {
     "name": "stderr",
     "output_type": "stream",
     "text": [
      "\n",
      "100%|██████████| 15/15 [12:45<00:00, 51.06s/it]\u001b[A\n",
      " 89%|████████▉ | 8/9 [32:36<06:00, 360.83s/it]\n",
      "0it [00:00, ?it/s]\u001b[A\n",
      "100%|██████████| 9/9 [32:36<00:00, 217.44s/it]\n"
     ]
    },
    {
     "name": "stdout",
     "output_type": "stream",
     "text": [
      "('Vina', 0.01)\n",
      "           p     enrich\n",
      "count  15.00  15.000000\n",
      "mean    0.01   2.670534\n",
      "std     0.00   6.290931\n",
      "min     0.01   0.000000\n",
      "25%     0.01   0.000000\n",
      "50%     0.01   0.744817\n",
      "75%     0.01   2.120516\n",
      "max     0.01  24.825000\n",
      "('Vina', 0.1)\n",
      "                  p     enrich\n",
      "count  1.500000e+01  15.000000\n",
      "mean   1.000000e-01   1.601221\n",
      "std    2.872975e-17   1.238805\n",
      "min    1.000000e-01   0.000000\n",
      "25%    1.000000e-01   1.110636\n",
      "50%    1.000000e-01   1.362666\n",
      "75%    1.000000e-01   1.885601\n",
      "max    1.000000e-01   4.965000\n",
      "('hdbind-rp-ecfp-1024-1', 0.01)\n",
      "           p     enrich\n",
      "count  15.00  15.000000\n",
      "mean    0.01  25.051066\n",
      "std     0.00  22.014785\n",
      "min     0.01   0.000000\n",
      "25%     0.01  10.412107\n",
      "50%     0.01  21.722869\n",
      "75%     0.01  28.723899\n",
      "max     0.01  83.283951\n",
      "('hdbind-rp-ecfp-1024-1', 0.1)\n",
      "                  p     enrich\n",
      "count  1.500000e+01  15.000000\n",
      "mean   1.000000e-01   5.042508\n",
      "std    2.872975e-17   2.378700\n",
      "min    1.000000e-01   0.000000\n",
      "25%    1.000000e-01   4.234516\n",
      "50%    1.000000e-01   4.999558\n",
      "75%    1.000000e-01   5.679781\n",
      "max    1.000000e-01  10.000000\n",
      "('hdbind-rp-ecfp-1024-1-100k', 0.01)\n",
      "           p     enrich\n",
      "count  15.00  15.000000\n",
      "mean    0.01  24.199985\n",
      "std     0.00  20.077594\n",
      "min     0.01   0.000000\n",
      "25%     0.01  10.518817\n",
      "50%     0.01  18.983642\n",
      "75%     0.01  32.045009\n",
      "max     0.01  81.618272\n",
      "('hdbind-rp-ecfp-1024-1-100k', 0.1)\n",
      "                  p     enrich\n",
      "count  1.500000e+01  15.000000\n",
      "mean   1.000000e-01   4.784513\n",
      "std    2.872975e-17   1.830188\n",
      "min    1.000000e-01   2.499840\n",
      "25%    1.000000e-01   3.415322\n",
      "50%    1.000000e-01   4.490660\n",
      "75%    1.000000e-01   5.973910\n",
      "max    1.000000e-01   8.333333\n",
      "('hdbind-rp-molclr', 0.01)\n",
      "           p     enrich\n",
      "count  15.00  15.000000\n",
      "mean    0.01  22.974930\n",
      "std     0.00  19.510426\n",
      "min     0.01   3.735542\n",
      "25%     0.01   8.293760\n",
      "50%     0.01  17.640719\n",
      "75%     0.01  27.474417\n",
      "max     0.01  68.292842\n",
      "('hdbind-rp-molclr', 0.1)\n",
      "                  p     enrich\n",
      "count  1.500000e+01  15.000000\n",
      "mean   1.000000e-01   4.570286\n",
      "std    2.872975e-17   2.022980\n",
      "min    1.000000e-01   2.040723\n",
      "25%    1.000000e-01   3.102707\n",
      "50%    1.000000e-01   4.262635\n",
      "75%    1.000000e-01   5.608735\n",
      "max    1.000000e-01   8.333333\n",
      "('hdbind-rp-molclr-100k', 0.01)\n",
      "           p     enrich\n",
      "count  15.00  15.000000\n",
      "mean    0.01  26.511887\n",
      "std     0.00  22.576936\n",
      "min     0.01   0.000000\n",
      "25%     0.01  10.687990\n",
      "50%     0.01  22.306033\n",
      "75%     0.01  33.307814\n",
      "max     0.01  83.283951\n",
      "('hdbind-rp-molclr-100k', 0.1)\n",
      "                  p     enrich\n",
      "count  1.500000e+01  15.000000\n",
      "mean   1.000000e-01   5.056339\n",
      "std    2.872975e-17   2.123959\n",
      "min    1.000000e-01   1.665476\n",
      "25%    1.000000e-01   3.582304\n",
      "50%    1.000000e-01   4.999680\n",
      "75%    1.000000e-01   6.382333\n",
      "max    1.000000e-01   8.401513\n",
      "('hdbind-rp-molformer', 0.01)\n",
      "           p     enrich\n",
      "count  15.00  15.000000\n",
      "mean    0.01  27.310586\n",
      "std     0.00  23.564764\n",
      "min     0.01   0.000000\n",
      "25%     0.01  11.221599\n",
      "50%     0.01  23.668461\n",
      "75%     0.01  39.991448\n",
      "max     0.01  83.283951\n",
      "('hdbind-rp-molformer', 0.1)\n",
      "                  p     enrich\n",
      "count  1.500000e+01  15.000000\n",
      "mean   1.000000e-01   5.277706\n",
      "std    2.872975e-17   2.542767\n",
      "min    1.000000e-01   0.000000\n",
      "25%    1.000000e-01   3.614028\n",
      "50%    1.000000e-01   5.359626\n",
      "75%    1.000000e-01   7.319929\n",
      "max    1.000000e-01   9.368828\n",
      "('hdbind-rp-molformer-100k', 0.01)\n",
      "           p     enrich\n",
      "count  15.00  15.000000\n",
      "mean    0.01  33.409227\n",
      "std     0.00  19.995169\n",
      "min     0.01   0.000000\n",
      "25%     0.01  19.241074\n",
      "50%     0.01  29.929091\n",
      "75%     0.01  47.659505\n",
      "max     0.01  68.651656\n",
      "('hdbind-rp-molformer-100k', 0.1)\n",
      "                  p     enrich\n",
      "count  1.500000e+01  15.000000\n",
      "mean   1.000000e-01   6.068401\n",
      "std    2.872975e-17   2.205885\n",
      "min    1.000000e-01   1.332381\n",
      "25%    1.000000e-01   4.999619\n",
      "50%    1.000000e-01   6.306414\n",
      "75%    1.000000e-01   7.802931\n",
      "max    1.000000e-01   9.281878\n",
      "('mlp-1024-1', 0.01)\n",
      "           p     enrich\n",
      "count  15.00  15.000000\n",
      "mean    0.01  34.830487\n",
      "std     0.00  24.163546\n",
      "min     0.01   8.665502\n",
      "25%     0.01  13.781673\n",
      "50%     0.01  34.406841\n",
      "75%     0.01  37.900720\n",
      "max     0.01  83.283951\n",
      "('mlp-1024-1', 0.1)\n",
      "                  p     enrich\n",
      "count  1.500000e+01  15.000000\n",
      "mean   1.000000e-01   5.666792\n",
      "std    2.872975e-17   1.800010\n",
      "min    1.000000e-01   2.040723\n",
      "25%    1.000000e-01   4.685266\n",
      "50%    1.000000e-01   5.278437\n",
      "75%    1.000000e-01   6.490165\n",
      "max    1.000000e-01   8.571428\n",
      "('molehd-bpe', 0.01)\n",
      "           p     enrich\n",
      "count  15.00  15.000000\n",
      "mean    0.01  14.666308\n",
      "std     0.00  17.130071\n",
      "min     0.01   0.000000\n",
      "25%     0.01   4.470798\n",
      "50%     0.01   8.722014\n",
      "75%     0.01  18.236250\n",
      "max     0.01  63.295802\n",
      "('molehd-bpe', 0.1)\n",
      "                  p     enrich\n",
      "count  1.500000e+01  15.000000\n",
      "mean   1.000000e-01   2.930089\n",
      "std    2.872975e-17   2.033348\n",
      "min    1.000000e-01   0.000000\n",
      "25%    1.000000e-01   1.674312\n",
      "50%    1.000000e-01   3.218873\n",
      "75%    1.000000e-01   4.028652\n",
      "max    1.000000e-01   7.833333\n"
     ]
    },
    {
     "data": {
      "image/png": "[encoded data removed]",
      "text/plain": [
       "<Figure size 864x720 with 2 Axes>"
      ]
     },
     "metadata": {
      "needs_background": "light"
     },
     "output_type": "display_data"
    }
   ],
   "source": [
    "random_df = compute_model_metric_df(dataset=\"lit-pcba\", split=\"random\", target_list=\"all\")"
   ]
  },
  {
   "cell_type": "code",
   "execution_count": null,
   "metadata": {},
   "outputs": [],
   "source": []
  },
  {
   "cell_type": "code",
   "execution_count": null,
   "metadata": {},
   "outputs": [],
   "source": []
  }
 ],
 "metadata": {
  "kernelspec": {
   "display_name": "dtra_reactivator",
   "language": "python",
   "name": "dtra_reactivator"
  },
  "language_info": {
   "codemirror_mode": {
    "name": "ipython",
    "version": 3
   },
   "file_extension": ".py",
   "mimetype": "text/x-python",
   "name": "python",
   "nbconvert_exporter": "python",
   "pygments_lexer": "ipython3",
   "version": "3.8.12"
  }
 },
 "nbformat": 4,
 "nbformat_minor": 4
}
