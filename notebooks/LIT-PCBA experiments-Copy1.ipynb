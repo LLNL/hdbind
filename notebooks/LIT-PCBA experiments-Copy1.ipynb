{
 "cells": [
  {
   "cell_type": "markdown",
   "metadata": {},
   "source": [
    "# LIT-PCBA \n",
    "this dataset is a proposed \"more difficult\" test than DUD-E. I used a 75/25 (sklearn default) stratified split. The dataset is heavily imbalanced, like DUD-E.\n",
    "\n",
    "- UPDATE: I'm using the AVE split now"
   ]
  },
  {
   "cell_type": "code",
   "execution_count": 17,
   "metadata": {},
   "outputs": [],
   "source": [
    "import pickle\n",
    "from sklearn.metrics import roc_auc_score\n",
    "import numpy as np\n",
    "import seaborn as sns\n",
    "import torch\n",
    "import seaborn as sns\n",
    "from tqdm import tqdm\n",
    "import pandas as pd\n",
    "from pathlib import Path\n",
    "from sklearn.metrics import f1_score, recall_score\n",
    "import matplotlib.pyplot as plt\n",
    "import sys\n",
    "# sys.path.append('..')\n",
    "sys.path.insert(0, \"/g/g13/jones289/workspace/hd-cuda-master\")\n",
    "# print(sys.path)\n",
    "import hdpy\n",
    "import hdpy.ecfp\n",
    "# from hdpy.analysis import load_pkl\n",
    "from hdpy.metrics import compute_enrichment_factor\n",
    "from pathlib import Path\n",
    "\n",
    "\n",
    "plt.rc('text', usetex=True)\n",
    "plt.rc('font', family='serif')\n",
    "plt.rc('xtick', labelsize=15)\n",
    "plt.rc('ytick', labelsize=15)\n",
    "plt.rc('axes', labelsize=17)\n",
    "plt.rc('figure', titlesize=20)\n",
    "\n",
    "\n",
    "# SEED=125\n",
    "SEED=5\n",
    "# SEED=6\n",
    "# SEED=7\n",
    "# SEED=8\n",
    "# SEED=2\n",
    "\n",
    "#TODO: rename to result_p \n",
    "data_p = Path(f\"/p/vast1/jones289/hd_results/{SEED}\")\n",
    "\n",
    "lit_pcba_full_data_p = Path(f\"/p/vast1/jones289/lit_pcba/lit_pcba_full_data\")\n",
    "\n",
    "\n",
    "# fig_size = (12,10)\n",
    "figsize = (16,18)"
   ]
  },
  {
   "cell_type": "code",
   "execution_count": 18,
   "metadata": {},
   "outputs": [],
   "source": [
    "green_color_pal = sns.color_palette(\"Greens\", 10)\n",
    "blue_color_pal = sns.color_palette(\"Blues\", 10)\n",
    "rocket_color_pal = sns.color_palette(\"rocket\", 10)\n",
    "purple_color_pal = sns.color_palette(\"Purples\", 10)"
   ]
  },
  {
   "cell_type": "code",
   "execution_count": 19,
   "metadata": {},
   "outputs": [],
   "source": [
    "model_dict = {\n",
    "    \"molehd-bpe\": (\"MoleHD-BPE\", rocket_color_pal[4]),\n",
    "    \"hdbind-rp-ecfp-1024-1-100\": (\"HDB-ECFP-100\", green_color_pal[6]),\n",
    "    \"hdbind-rp-ecfp-1024-1-1k\": (\"HDB-ECFP-1k\", green_color_pal[6]),\n",
    "    \"hdbind-rp-ecfp-1024-1\": (\"HDB-ECFP\", green_color_pal[6]),\n",
    "    \"hdbind-rp-ecfp-1024-1-100k\": (\"HDB-ECFP-100k\", green_color_pal[6]),\n",
    "    \"hdbind-rp-ecfp-1024-1-1m\": (\"HDB-ECFP-1m\", green_color_pal[6]),\n",
    "    \"hdbind-rp-ecfp-1024-1-100k\": (\"HDB-ECFP-100k\", green_color_pal[6]),\n",
    "    \"hdbind-rp-molclr-100\":  (\"HDB-MolCLR-100\", green_color_pal[6]),\n",
    "    \"hdbind-rp-molclr-1k\":  (\"HDB-MolCLR-1k\", green_color_pal[6]),\n",
    "    \"hdbind-rp-molclr\":  (\"HDB-MolCLR\", green_color_pal[6]),\n",
    "    \"hdbind-rp-molclr-100k\":  (\"HDB-MolCLR-100k\", green_color_pal[6]),\n",
    "    \"hdbind-rp-molclr-1m\":  (\"HDB-MolCLR-1m\", green_color_pal[6]),\n",
    "    \"hdbind-rp-molclr-100k\":  (\"HDB-MolCLR-100k\", green_color_pal[6]),\n",
    "    \"hdbind-rp-molformer-100\": (\"HDB-MolFormer-100\", green_color_pal[6]),\n",
    "    \"hdbind-rp-molformer-1k\": (\"HDB-MolFormer-1k\", green_color_pal[6]),\n",
    "    \"hdbind-rp-molformer\": (\"HDB-MolFormer\", green_color_pal[6]),\n",
    "    \"hdbind-rp-molformer-100k\": (\"HDB-MolFormer-100k\", green_color_pal[6]),\n",
    "    \"hdbind-rp-molformer-1m\": (\"HDB-MolFormer-1m\", green_color_pal[6]),\n",
    "    \"hdbind-rp-molformer-ecfp-combo\": (\"HDB-Combo\", green_color_pal[6]),\n",
    "    \"hdbind-rp-ecfp-1024-1-100\": (\"HDBind+ECFP-100\", green_color_pal[6]),\n",
    "    \"hdbind-rp-ecfp-1024-1-1k\": (\"HDBind+ECFP-1k\", green_color_pal[6]),\n",
    "    \"hdbind-rp-ecfp-1024-1-1m\": (\"HDBind+ECFP-1m\", green_color_pal[6]), \n",
    "    \"hdbind-directecfp-100-1\": (\"HDB-DECFP-100-1\", green_color_pal[6]),\n",
    "    \"hdbind-directecfp-100-2\": (\"HDB-DECFP-100-2\", green_color_pal[6]),\n",
    "    \"hdbind-directecfp-100-4\": (\"HDB-DECFP-100-4\", green_color_pal[6]),\n",
    "    \"hdbind-directecfp-1k-1\": (\"HDB-DECFP-1k-1\", green_color_pal[6]),\n",
    "    \"hdbind-directecfp-1k-2\": (\"HDB-DECFP-1k-2\", green_color_pal[6]),\n",
    "    \"hdbind-directecfp-1k-4\": (\"HDB-DECFP-1k-4\", green_color_pal[6]),\n",
    "    \"hdbind-directecfp-10k-1\": (\"HDB-DECFP-10k-1\", green_color_pal[6]),\n",
    "    \"hdbind-directecfp-10k-2\": (\"HDB-DECFP-10k-2\", green_color_pal[6]),\n",
    "    \"hdbind-directecfp-10k-4\": (\"HDB-DECFP\", green_color_pal[6]),\n",
    "    \"hdbind-directecfp-100k-1\": (\"HDB-DECFP-100k-1\", green_color_pal[6]),\n",
    "    \"hdbind-directecfp-100k-2\": (\"HDB-DECFP-100k-2\", green_color_pal[6]),\n",
    "    \"hdbind-directecfp-100k-4\": (\"HDB-DECFP-100k-4\", green_color_pal[6]),\n",
    "    \"hdbind-directecfp-1m-1\": (\"HDB-DECFP-1m-1\", green_color_pal[6]),\n",
    "    \"hdbind-directecfp-1m-2\": (\"HDB-DECFP-1m-2\", green_color_pal[6]),\n",
    "    \"hdbind-directecfp-1m-4\": (\"HDB-DECFP-1m-4\", green_color_pal[6]),\n",
    "    \"hdbind-molformer-decfp-combo-1k\": (\"HDB-Combo-1k (new)\", purple_color_pal[6]),\n",
    "    \"hdbind-molformer-decfp-combo\": (\"HDB-Combo-10k (new)\", purple_color_pal[6]),\n",
    "    \"hdbind-molformer-decfp-combo-100k\": (\"HDB-Combo-100k (new)\", purple_color_pal[6]),\n",
    "    \"hdbind-molformer-decfp-combo-1m\": (\"HDB-Combo-1m (new)\", purple_color_pal[6]),\n",
    "    \"mlp-1024-1\": (\"MLP\", blue_color_pal[7]),\n",
    "    \"Vina\": (\"Vina\", \"salmon\"),\n",
    "}\n",
    "\n",
    "model_10k_list = [ \"molehd-bpe\", \"hdbind-rp-ecfp-1024-1\", \"hdbind-rp-molclr\", \"hdbind-rp-molformer\",\"hdbind-directecfp-10k-4\", \"hdbind-molformer-decfp-combo\", \"mlp-1024-1\", \"Vina\"]"
   ]
  },
  {
   "cell_type": "markdown",
   "metadata": {},
   "source": [
    "# LIT-PCBA Results"
   ]
  },
  {
   "cell_type": "code",
   "execution_count": 20,
   "metadata": {},
   "outputs": [],
   "source": [
    "def aggregate_results(model_list:list, dataset:str, split:str, target_list:list):\n",
    "    assert target_list is not None\n",
    "    \n",
    "    model_metric_dict = {\"model\": [], \n",
    "                        \"enrich\": [], \n",
    "                        \"p\":[], \n",
    "                        #  \"train_time\":[], \n",
    "                        # \"test_time\": [], \n",
    "                        \"target\": [],\n",
    "                        \"seed\": [],\n",
    "                        \"roc-auc\": [], \n",
    "                        # \"recall\": [], \"precision\": [], \"f1\": [], \n",
    "                        }\n",
    "\n",
    "    for model_name in tqdm(model_list, total=len(model_list), position=0):\n",
    "                        \n",
    "\n",
    "        data_path_list = list(data_p.glob(f\"{model_name}.{dataset}-*-{split}*.pkl\"))\n",
    "\n",
    "        \n",
    "        for path in tqdm(data_path_list, total=len(data_path_list), position=1):\n",
    "            target = path.name.split(\".\")[1].split(\"-\")[-2]\n",
    "            print(target, path, model_name)\n",
    "\n",
    "            if target in target_list or target_list == \"all\":\n",
    "                pass\n",
    "            else:\n",
    "                continue\n",
    "\n",
    "            try:\n",
    "                model_data_dict = torch.load(path)\n",
    "            except RuntimeError as e:\n",
    "                print(f\"{e}. moving to next file.\")\n",
    "                continue\n",
    "            \n",
    "            for seed in range(len(model_data_dict['trials'])):\n",
    "\n",
    "                # import pdb\n",
    "                # pdb.set_trace()\n",
    "                trial_dict = model_data_dict['trials'][seed]\n",
    "\n",
    "\n",
    "                try:\n",
    "                    enrich_1 = trial_dict['enrich-1'][0]\n",
    "                    enrich_10 = trial_dict['enrich-10'][0]\n",
    "                    roc_auc = trial_dict[\"roc-auc\"]\n",
    "\n",
    "\n",
    "\n",
    "                except IndexError as e:\n",
    "                    print(f\"mismatched index, converting float to numpy array\")\n",
    "                    enrich_1 = trial_dict['enrich-1'].numpy().reshape(1)\n",
    "                    model_data_dict[\"trials\"][seed]['enrich-1'] = enrich_1 \n",
    "                    enrich_10 = trial_dict['enrich-10'].numpy().reshape(1)\n",
    "                    model_data_dict[\"trials\"][seed]['enrich-10'] = enrich_10 \n",
    "\n",
    "                    torch.save(model_data_dict, path)\n",
    "                    model_data_dict = torch.load(path)                   \n",
    "\n",
    "\n",
    "                except KeyError as e:\n",
    "\n",
    "                    print(f\"missing key {e} for seed {seed}. computing these now.\")\n",
    "\n",
    "                    scores = None\n",
    "                    if \"mlp\" in model_name: \n",
    "                        scores = trial_dict[\"eta\"][:, 1]\n",
    "                    else:\n",
    "                    \n",
    "                        scores = trial_dict[\"eta\"]\n",
    "\n",
    "                    enrich_1  = compute_enrichment_factor(scores=scores, \n",
    "                                                            labels=model_data_dict[\"trials\"][seed][\"y_true\"],\n",
    "                                                            n_percent=.01)\n",
    "\n",
    "                    model_data_dict[\"trials\"][seed][\"enrich-1\"] = enrich_1\n",
    "\n",
    "\n",
    "                    enrich_10 = compute_enrichment_factor(scores=scores,\n",
    "                                                            labels=model_data_dict[\"trials\"][seed][\"y_true\"],\n",
    "                                                            n_percent=.1)\n",
    "\n",
    "                    model_data_dict[\"trials\"][seed][\"enrich-10\"] = enrich_10\n",
    "\n",
    "\n",
    "                    torch.save(model_data_dict, path)\n",
    "\n",
    "                    model_data_dict = torch.load(path)\n",
    "\n",
    "                # '''\n",
    "                for p in [.01, .1]:\n",
    "\n",
    "                    if p == .01:\n",
    "                        model_metric_dict[\"enrich\"].append(enrich_1)\n",
    "                    else:\n",
    "                        model_metric_dict[\"enrich\"].append(enrich_10)\n",
    "                       \n",
    "                    model_metric_dict[\"target\"].append(target)\n",
    "                    # model_metric_dict[\"test_time\"].append(trial_dict[\"test_time\"])\n",
    "                    model_metric_dict[\"p\"].append(p)\n",
    "                    model_metric_dict[\"seed\"].append(seed)\n",
    "                    model_metric_dict[\"roc-auc\"].append(roc_auc)\n",
    "                    # model_metric_dict[\"precision\"].append(metrics[\"precision\"])\n",
    "                    # model_metric_dict[\"recall\"].append(metrics[\"recall\"])\n",
    "                    # model_metric_dict[\"f1\"].append(metrics[\"f1\"])\n",
    "                    model_metric_dict[\"model\"].append(model_name)\n",
    "\n",
    "\n",
    "    print([key for key, value in model_metric_dict.items()])\n",
    "    print([len(value) for key, value in model_metric_dict.items()])\n",
    "    model_metric_df = pd.DataFrame({key: value for key, value in model_metric_dict.items() if key not in [\"train_time\", \"test_time\", \"precision\", \"recall\", \"f1\"]})\n",
    "\n",
    "    return model_metric_df\n",
    "        \n"
   ]
  },
  {
   "cell_type": "markdown",
   "metadata": {},
   "source": [
    "# VINA result"
   ]
  },
  {
   "cell_type": "code",
   "execution_count": 21,
   "metadata": {},
   "outputs": [],
   "source": [
    "def process_target(target_name=\"VDR\", target_id=\"AID504847\", split=\"ave\"):\n",
    "\n",
    "\n",
    "\n",
    "    train_actives = pd.read_csv(f\"/p/vast1/jones289/lit_pcba/AVE_unbiased/{target_name}/{target_id}_active_T.smi\", header=None, delim_whitespace=True) \n",
    "    test_actives = pd.read_csv(f\"/p/vast1/jones289/lit_pcba/AVE_unbiased/{target_name}/{target_id}_active_V.smi\", header=None, delim_whitespace=True) \n",
    "    test_actives[\"label\"] = [1] * len(test_actives)\n",
    "    train_actives[\"label\"] = [1] * len(train_actives)\n",
    "\n",
    "    train_inactives = pd.read_csv(f\"/p/vast1/jones289/lit_pcba/AVE_unbiased/{target_name}/{target_id}_inactive_T.smi\", header=None, delim_whitespace=True) \n",
    "    test_inactives = pd.read_csv(f\"/p/vast1/jones289/lit_pcba/AVE_unbiased/{target_name}/{target_id}_inactive_V.smi\", header=None, delim_whitespace=True) \n",
    "    test_inactives[\"label\"] = [0] * len(test_inactives)\n",
    "    train_inactives[\"label\"] = [0] * len(train_inactives)\n",
    "\n",
    "\n",
    "\n",
    "    print(\"train_actives.shape\", train_actives.shape, \n",
    "        \"train_inactives.shape\", train_inactives.shape,\n",
    "        \"test_actives.shape\", test_actives.shape,\n",
    "        \"test_inactives.shape\", test_inactives.shape)\n",
    "\n",
    "    dock_actives = pd.read_csv(f\"/p/vast1/jones289/LIT-PCBA-Data/{target_name}-actives.csv\")\n",
    "    dock_actives[\"id\"] = dock_actives[\" key\"].apply(lambda x: int(x.split(\"/\")[-1]))\n",
    "    dock_inactives = pd.read_csv(f\"/p/vast1/jones289/LIT-PCBA-Data/{target_name}-inactives.csv\")\n",
    "    dock_inactives[\"id\"] = dock_inactives[\" key\"].apply(lambda x: int(x.split(\"/\")[-1]))\n",
    "\n",
    "\n",
    "    print(\"dock_actives.shape\", dock_actives.shape, \"dock_inactives.shape\",dock_inactives.shape)\n",
    "\n",
    "\n",
    "    # these are the smiles and IDs for the train/test compounds for the target\n",
    "    train_df = pd.concat([train_actives, train_inactives])\n",
    "    train_df[\"id\"] = train_df[1]\n",
    "    test_df = pd.concat([test_actives, test_inactives])\n",
    "    test_df[\"id\"] = test_df[1]\n",
    "\n",
    "    # import pdb\n",
    "    # pdb.set_trace()\n",
    "\n",
    "    if split == \"ave\":\n",
    "\n",
    "        print(\"train_df.shape\", train_df.shape, \"test_df.shape\", test_df.shape)\n",
    "    else:\n",
    "        \n",
    "        # load a random split file from an ml result and use those smiles strings instead\n",
    "\n",
    "        full_df = pd.concat([train_df, test_df])\n",
    "\n",
    "        ml_result_file = torch.load(f\"/p/vast1/jones289/hd_results/{SEED}/hdbind-rp-molformer.lit-pcba-{target_name}-random.{SEED}.pkl\")\n",
    "\n",
    "        test_smiles = ml_result_file['smiles_test']\n",
    "\n",
    "\n",
    "        test_df = pd.merge(full_df, pd.DataFrame.from_dict({\"smiles\": test_smiles.tolist()}), left_on=0, right_on=\"smiles\", how=\"inner\")\n",
    "\n",
    "        # import pdb\n",
    "        # pdb.set_trace()\n",
    "\n",
    "    dock_actives[\"dock_id\"] = dock_actives[' key'].apply(lambda x: int(x.split(\"/\")[-1]))\n",
    "    dock_inactives[\"dock_id\"] = dock_inactives[' key'].apply(lambda x: int(x.split(\"/\")[-1]))\n",
    "\n",
    "\n",
    "    print(\"dock_actives.shape\", dock_actives.shape, \"dock_inactives.shape\", dock_inactives.shape)\n",
    "\n",
    "\n",
    "    active_lig_map_df = pd.read_csv(f\"/p/vast1/jones289/LIT-PCBA-Data/lig_rec/lig-{target_name}-actives.csv\")\n",
    "    active_lig_map_df[\"id\"] = active_lig_map_df[\" key\"].apply(lambda x: int(x.split(\"/\")[-1]))\n",
    "\n",
    "\n",
    "    inactive_lig_map_df = pd.read_csv(f\"/p/vast1/jones289/LIT-PCBA-Data/lig_rec/lig-{target_name}-inactives.csv\")\n",
    "    inactive_lig_map_df[\"id\"] = inactive_lig_map_df[\" key\"].apply(lambda x: int(x.split(\"/\")[-1]))\n",
    "\n",
    "    print(\"active_lig_map_df.shape\", active_lig_map_df.shape, \"inactive_lig_map_df.shape\", inactive_lig_map_df.shape)\n",
    "\n",
    "    active_df = pd.merge(dock_actives, active_lig_map_df, left_on=\"dock_id\", right_on=\"id\")\n",
    "    inactive_df = pd.merge(dock_inactives, inactive_lig_map_df, left_on=\"dock_id\", right_on=\"id\")\n",
    "\n",
    "    print(\"active_df.shape\", active_df.shape, \"inactive_df.shape\", inactive_df.shape)\n",
    "\n",
    "    # train_active_df = pd.merge(active_df, train_df, left_on=\" name\", right_on=\"id\")\n",
    "    test_active_df = pd.merge(active_df, test_df, left_on=\" name\", right_on=\"id\")\n",
    "    # train_inactive_df = pd.merge(inactive_df, train_df, left_on=\" name\", right_on=\"id\")\n",
    "    test_inactive_df = pd.merge(inactive_df, test_df, left_on=\" name\", right_on=\"id\")\n",
    "\n",
    "    # print(\"train_active_df.shape\", train_active_df.shape, \"train_inactive_df.shape\", train_inactive_df.shape)\n",
    "    print(\"test_active_df.shape\", test_active_df.shape, \"test_inactive_df.shape\", test_inactive_df.shape)\n",
    "\n",
    "\n",
    "    # train_df = pd.concat([train_active_df, train_inactive_df])\n",
    "    test_df = pd.concat([test_active_df, test_inactive_df])\n",
    "\n",
    "    # print(\"train_data size \", train_df.shape, train_df[\"id\"].unique().shape)\n",
    "    print(\"test_data size\", test_df.shape, test_df[\"id\"].unique().shape)\n",
    "\n",
    "\n",
    "    # print(train_df.head())\n",
    "    # print(test_df.head())\n",
    "\n",
    "\n",
    "    # import pdb \n",
    "    # pdb.set_trace()\n",
    "    test_df[\"min_vina\"] = test_df[test_df.columns[11:21]].min(axis=1)\n",
    "    test_df[\"target\"] = [target_name] * len(test_df)\n",
    "\n",
    "\n",
    "    return test_df\n",
    "\n",
    "def load_lit_pcba_vina(split:str):\n",
    "    assert split is not None\n",
    "\n",
    "    target_tup_list = [\n",
    "        (\"492947\", \"ADRB2\"),\n",
    "        (\"1030\", \"ALDH1\"),\n",
    "        (\"743075\", \"ESR1_ago\"),\n",
    "        (\"743080\", \"ESR1_ant\"),\n",
    "        (\"588795\", \"FEN1\"),\n",
    "        (\"2101\", \"GBA\"),\n",
    "        (\"602179\", \"IDH1\"),\n",
    "        (\"504327\", \"KAT2A\"),\n",
    "        (\"995\", \"MAPK1\"),\n",
    "        (\"493208\", \"MTORC1\"),\n",
    "        (\"1777\", \"OPRK1\"),\n",
    "        (\"1631\", \"PKM2\"),\n",
    "        (\"743094\", \"PPARG\"),\n",
    "        (\"651631\", \"TP53\"),\n",
    "        (\"504847\", \"VDR\"),\n",
    "    ]\n",
    "\n",
    "\n",
    "    df_list = []\n",
    "    for target_id, target_name in target_tup_list:\n",
    "        print(target_id, target_name) \n",
    "        target_df = process_target(target_name, target_id=f\"AID{target_id}\", split=split)\n",
    "        df_list.append(target_df)\n",
    "        print()\n",
    "\n",
    "\n",
    "    df = pd.concat(df_list)\n",
    "\n",
    "    # import pdb\n",
    "    # pdb.set_trace()\n",
    "    return df"
   ]
  },
  {
   "cell_type": "code",
   "execution_count": 23,
   "metadata": {},
   "outputs": [],
   "source": [
    "def make_swarm_plot(model_dict, model_list, enrich_1_df, enrich_10_df, dataset:str, split:str):\n",
    "    \n",
    "    assert model_list is not None\n",
    "    enrich_f, enrich_ax = plt.subplots(2,1, figsize=figsize, sharex=True, sharey=False)\n",
    "    enrich_ax = enrich_ax.flatten()\n",
    "    enrich_1_ax, enrich_10_ax = enrich_ax[0], enrich_ax[1]\n",
    "    \n",
    "    \n",
    "    # enrich_f.suptitle(f\"{dataset.upper()} ({split})\")\n",
    "\n",
    "    if split == \"random\":\n",
    "\n",
    "        enrich_ax[0].set_title(f\"Random\")\n",
    "    elif split == \"ave\":\n",
    "\n",
    "        enrich_ax[0].set_title(f\"AVE\")\n",
    "    \n",
    "    sns.swarmplot(data=enrich_1_df, x=\"model\", y=\"enrich\", \n",
    "                  order=model_list,\n",
    "                  palette={key: model_dict[key][1] for key in model_list},\n",
    "                  ax=enrich_1_ax)\n",
    "    enrich_1_ax.set_title(f\"Enrichment at 1\\%\", fontdict={\"fontsize\": 18})\n",
    "    enrich_1_ax.set_xlabel(\"\")\n",
    "    enrich_1_ax.set_ylabel(\"\")\n",
    "    enrich_1_ax.tick_params(axis=\"x\", labelrotation=22.5)\n",
    "\n",
    "    enrich_1_ax.set_ylabel(\"EF\")\n",
    "\n",
    "    plt.tight_layout()\n",
    "\n",
    "        \n",
    "    sns.swarmplot(data=enrich_10_df, x=\"model\", y=\"enrich\",\n",
    "                  order=model_list,\n",
    "                  palette={key: model_dict[key][1] for key in model_list},\n",
    "                  ax=enrich_10_ax)\n",
    "\n",
    "    enrich_10_ax.set_title(f\"Enrichment at 10\\%\", fontdict={\"fontsize\": 18})\n",
    "    enrich_10_ax.set_xlabel(\"\")\n",
    "    enrich_10_ax.set_ylabel(\"\")\n",
    "    enrich_10_ax.tick_params(axis=\"x\", labelrotation=22.5)\n",
    "    labels = [model_dict[item.get_text()][0] for item in enrich_10_ax.get_xticklabels()]\n",
    "\n",
    "    enrich_10_ax.set_xticklabels(labels)\n",
    "    enrich_ax[0].set_ylabel(\"EF\")\n",
    "    enrich_ax[1].set_ylabel(\"EF\")\n",
    "\n",
    "    plt.tight_layout()\n",
    "\n",
    "    enrich_f.savefig(f\"{dataset}-{split}-enrich.png\", dpi=600, bbox_inches=\"tight\")\n",
    "\n",
    "\n",
    "\n",
    "\n",
    "\n",
    "def compute_model_metric_df(model_dict, model_list, dataset, split, target_list=None):\n",
    "    \n",
    "    assert target_list is not None\n",
    "    if model_list is None:\n",
    "        model_list = list(model_dict.keys()) # use all models if nothing is provided\n",
    "    # docking_df = load_lit_pcba_vina(target_list=target_list, split=split)\n",
    "    docking_df = load_lit_pcba_vina(split=split) # need an argument to load the data for the random splits\n",
    "\n",
    "    \n",
    "    model_metric_df = aggregate_results(model_list=model_list, dataset=dataset,\n",
    "                                        split=split, target_list=target_list)\n",
    "    \n",
    "\n",
    "    docking_dict = {\"enrich\": [], \"p\": [], \"model\": [], \"target\": []}\n",
    "\n",
    "    vina_col='min_vina'\n",
    "    label_col = \"label\"\n",
    "    for target, target_df in docking_df.groupby(\"target\"):\n",
    "\n",
    "        for p in [.1, .01]:\n",
    "            enrich = compute_enrichment_factor(scores=np.abs(target_df[vina_col]), \n",
    "                                      labels=target_df[label_col], \n",
    "                                      n_percent=p)\n",
    "\n",
    "            docking_dict[\"enrich\"].append(float(enrich))\n",
    "            docking_dict[\"p\"].append(p)\n",
    "            docking_dict[\"model\"].append(\"Vina\")\n",
    "            docking_dict[\"target\"].append(target)\n",
    "\n",
    "    # takes the data extracted from the ml/hdbind methods and sticks the docking data on the bottom \n",
    "    model_metric_df = pd.concat([model_metric_df, pd.DataFrame(docking_dict)])\n",
    "    \n",
    "    \n",
    "    # take the average over the random seeds dimension for each combo of MODEL X TARGET X P\n",
    "    grp_df = (model_metric_df).groupby([\"model\", \"target\", \"p\"])[\"enrich\"].mean().reset_index()\n",
    "    grp_df = grp_df.sort_values(by=\"model\")\n",
    "    \n",
    "    \n",
    "    for name, group in grp_df.groupby([\"model\", \"p\"]):\n",
    "        print(name)\n",
    "        print(group.describe())\n",
    "\n",
    "\n",
    "    make_swarm_plot(model_dict=model_dict, model_list=model_list, enrich_1_df=grp_df[grp_df[\"p\"] == .01], \n",
    "          enrich_10_df=grp_df[grp_df[\"p\"] == .1],\n",
    "             dataset=dataset, split=split)\n",
    "\n",
    "    return model_metric_df\n"
   ]
  },
  {
   "cell_type": "markdown",
   "metadata": {},
   "source": []
  },
  {
   "cell_type": "code",
   "execution_count": 24,
   "metadata": {
    "scrolled": true
   },
   "outputs": [
    {
     "name": "stdout",
     "output_type": "stream",
     "text": [
      "492947 ADRB2\n",
      "train_actives.shape (13, 3) train_inactives.shape (234363, 3) test_actives.shape (4, 3) test_inactives.shape (78120, 3)\n",
      "dock_actives.shape (128, 23) dock_inactives.shape (2499856, 23)\n",
      "train_df.shape (234376, 4) test_df.shape (78124, 4)\n",
      "dock_actives.shape (128, 24) dock_inactives.shape (2499856, 24)\n",
      "active_lig_map_df.shape (16, 7) inactive_lig_map_df.shape (312482, 7)\n",
      "active_df.shape (128, 31) inactive_df.shape (2499856, 31)\n",
      "test_active_df.shape (32, 35) test_inactive_df.shape (624960, 35)\n",
      "test_data size (624992, 35) (78124,)\n"
     ]
    },
    {
     "name": "stderr",
     "output_type": "stream",
     "text": [
      "/var/tmp/jones289/ipykernel_1573007/4121728138.py:102: FutureWarning: Dropping of nuisance columns in DataFrame reductions (with 'numeric_only=None') is deprecated; in a future version this will raise TypeError.  Select only valid columns before calling the reduction.\n",
      "  test_df[\"min_vina\"] = test_df[test_df.columns[11:21]].min(axis=1)\n"
     ]
    },
    {
     "name": "stdout",
     "output_type": "stream",
     "text": [
      "\n",
      "1030 ALDH1\n",
      "train_actives.shape (4032, 3) train_inactives.shape (77606, 3) test_actives.shape (1344, 3) test_inactives.shape (25868, 3)\n",
      "dock_actives.shape (57336, 23) dock_inactives.shape (1103712, 23)\n",
      "train_df.shape (81638, 4) test_df.shape (27212, 4)\n",
      "dock_actives.shape (57336, 24) dock_inactives.shape (1103712, 24)\n",
      "active_lig_map_df.shape (7167, 7) inactive_lig_map_df.shape (137964, 7)\n",
      "active_df.shape (57336, 31) inactive_df.shape (1103712, 31)\n",
      "test_active_df.shape (10744, 35) test_inactive_df.shape (206944, 35)\n",
      "test_data size (217688, 35) (27211,)\n"
     ]
    },
    {
     "name": "stderr",
     "output_type": "stream",
     "text": [
      "/var/tmp/jones289/ipykernel_1573007/4121728138.py:102: FutureWarning: Dropping of nuisance columns in DataFrame reductions (with 'numeric_only=None') is deprecated; in a future version this will raise TypeError.  Select only valid columns before calling the reduction.\n",
      "  test_df[\"min_vina\"] = test_df[test_df.columns[11:21]].min(axis=1)\n"
     ]
    },
    {
     "name": "stdout",
     "output_type": "stream",
     "text": [
      "\n",
      "743075 ESR1_ago\n",
      "train_actives.shape (10, 3) train_inactives.shape (4188, 3) test_actives.shape (3, 3) test_inactives.shape (1395, 3)\n",
      "dock_actives.shape (180, 23) dock_inactives.shape (83730, 23)\n",
      "train_df.shape (4198, 4) test_df.shape (1398, 4)\n",
      "dock_actives.shape (180, 24) dock_inactives.shape (83730, 24)\n",
      "active_lig_map_df.shape (12, 7) inactive_lig_map_df.shape (5582, 7)\n",
      "active_df.shape (180, 31) inactive_df.shape (83730, 31)\n",
      "test_active_df.shape (45, 35) test_inactive_df.shape (20925, 35)\n",
      "test_data size (20970, 35) (1398,)\n",
      "\n",
      "743080 ESR1_ant\n",
      "train_actives.shape (77, 3) train_inactives.shape (3711, 3) test_actives.shape (25, 3) test_inactives.shape (1237, 3)\n"
     ]
    },
    {
     "name": "stderr",
     "output_type": "stream",
     "text": [
      "/var/tmp/jones289/ipykernel_1573007/4121728138.py:102: FutureWarning: Dropping of nuisance columns in DataFrame reductions (with 'numeric_only=None') is deprecated; in a future version this will raise TypeError.  Select only valid columns before calling the reduction.\n",
      "  test_df[\"min_vina\"] = test_df[test_df.columns[11:21]].min(axis=1)\n"
     ]
    },
    {
     "name": "stdout",
     "output_type": "stream",
     "text": [
      "dock_actives.shape (1515, 23) dock_inactives.shape (74205, 23)\n",
      "train_df.shape (3788, 4) test_df.shape (1262, 4)\n",
      "dock_actives.shape (1515, 24) dock_inactives.shape (74205, 24)\n",
      "active_lig_map_df.shape (101, 7) inactive_lig_map_df.shape (4947, 7)\n",
      "active_df.shape (1515, 31) inactive_df.shape (74205, 31)\n",
      "test_active_df.shape (375, 35) test_inactive_df.shape (18540, 35)\n",
      "test_data size (18915, 35) (1261,)\n"
     ]
    },
    {
     "name": "stderr",
     "output_type": "stream",
     "text": [
      "/var/tmp/jones289/ipykernel_1573007/4121728138.py:102: FutureWarning: Dropping of nuisance columns in DataFrame reductions (with 'numeric_only=None') is deprecated; in a future version this will raise TypeError.  Select only valid columns before calling the reduction.\n",
      "  test_df[\"min_vina\"] = test_df[test_df.columns[11:21]].min(axis=1)\n"
     ]
    },
    {
     "name": "stdout",
     "output_type": "stream",
     "text": [
      "\n",
      "588795 FEN1\n",
      "train_actives.shape (277, 3) train_inactives.shape (266552, 3) test_actives.shape (92, 3) test_inactives.shape (88850, 3)\n",
      "dock_actives.shape (368, 23) dock_inactives.shape (355401, 23)\n",
      "train_df.shape (266829, 4) test_df.shape (88942, 4)\n",
      "dock_actives.shape (368, 24) dock_inactives.shape (355401, 24)\n",
      "active_lig_map_df.shape (368, 7) inactive_lig_map_df.shape (355401, 7)\n",
      "active_df.shape (368, 31) inactive_df.shape (355401, 31)\n",
      "test_active_df.shape (92, 35) test_inactive_df.shape (88850, 35)\n",
      "test_data size (88942, 35) (88942,)\n"
     ]
    },
    {
     "name": "stderr",
     "output_type": "stream",
     "text": [
      "/var/tmp/jones289/ipykernel_1573007/4121728138.py:102: FutureWarning: Dropping of nuisance columns in DataFrame reductions (with 'numeric_only=None') is deprecated; in a future version this will raise TypeError.  Select only valid columns before calling the reduction.\n",
      "  test_df[\"min_vina\"] = test_df[test_df.columns[11:21]].min(axis=1)\n"
     ]
    },
    {
     "name": "stdout",
     "output_type": "stream",
     "text": [
      "\n",
      "2101 GBA\n",
      "train_actives.shape (125, 3) train_inactives.shape (222039, 3) test_actives.shape (41, 3) test_inactives.shape (74013, 3)\n",
      "dock_actives.shape (990, 23) dock_inactives.shape (1776306, 23)\n",
      "train_df.shape (222164, 4) test_df.shape (74054, 4)\n",
      "dock_actives.shape (990, 24) dock_inactives.shape (1776306, 24)\n",
      "active_lig_map_df.shape (165, 7) inactive_lig_map_df.shape (296051, 7)\n",
      "active_df.shape (990, 31) inactive_df.shape (1776306, 31)\n",
      "test_active_df.shape (246, 35) test_inactive_df.shape (444078, 35)\n",
      "test_data size (444324, 35) (74054,)\n"
     ]
    },
    {
     "name": "stderr",
     "output_type": "stream",
     "text": [
      "/var/tmp/jones289/ipykernel_1573007/4121728138.py:102: FutureWarning: Dropping of nuisance columns in DataFrame reductions (with 'numeric_only=None') is deprecated; in a future version this will raise TypeError.  Select only valid columns before calling the reduction.\n",
      "  test_df[\"min_vina\"] = test_df[test_df.columns[11:21]].min(axis=1)\n"
     ]
    },
    {
     "name": "stdout",
     "output_type": "stream",
     "text": [
      "\n",
      "602179 IDH1\n",
      "train_actives.shape (30, 3) train_inactives.shape (271537, 3) test_actives.shape (9, 3) test_inactives.shape (90512, 3)\n",
      "dock_actives.shape (532, 23) dock_inactives.shape (5068672, 23)\n",
      "train_df.shape (271567, 4) test_df.shape (90521, 4)\n",
      "dock_actives.shape (532, 24) dock_inactives.shape (5068672, 24)\n",
      "active_lig_map_df.shape (38, 7) inactive_lig_map_df.shape (362048, 7)\n",
      "active_df.shape (532, 31) inactive_df.shape (5068672, 31)\n",
      "test_active_df.shape (126, 35) test_inactive_df.shape (1267168, 35)\n",
      "test_data size (1267294, 35) (90521,)\n"
     ]
    },
    {
     "name": "stderr",
     "output_type": "stream",
     "text": [
      "/var/tmp/jones289/ipykernel_1573007/4121728138.py:102: FutureWarning: Dropping of nuisance columns in DataFrame reductions (with 'numeric_only=None') is deprecated; in a future version this will raise TypeError.  Select only valid columns before calling the reduction.\n",
      "  test_df[\"min_vina\"] = test_df[test_df.columns[11:21]].min(axis=1)\n"
     ]
    },
    {
     "name": "stdout",
     "output_type": "stream",
     "text": [
      "\n",
      "504327 KAT2A\n",
      "train_actives.shape (146, 3) train_inactives.shape (261411, 3) test_actives.shape (48, 3) test_inactives.shape (87137, 3)\n",
      "dock_actives.shape (579, 23) dock_inactives.shape (1045641, 23)\n",
      "train_df.shape (261557, 4) test_df.shape (87185, 4)\n",
      "dock_actives.shape (579, 24) dock_inactives.shape (1045641, 24)\n",
      "active_lig_map_df.shape (193, 7) inactive_lig_map_df.shape (348547, 7)\n",
      "active_df.shape (579, 31) inactive_df.shape (1045641, 31)\n",
      "test_active_df.shape (144, 35) test_inactive_df.shape (261411, 35)\n",
      "test_data size (261555, 35) (87185,)\n"
     ]
    },
    {
     "name": "stderr",
     "output_type": "stream",
     "text": [
      "/var/tmp/jones289/ipykernel_1573007/4121728138.py:102: FutureWarning: Dropping of nuisance columns in DataFrame reductions (with 'numeric_only=None') is deprecated; in a future version this will raise TypeError.  Select only valid columns before calling the reduction.\n",
      "  test_df[\"min_vina\"] = test_df[test_df.columns[11:21]].min(axis=1)\n"
     ]
    },
    {
     "name": "stdout",
     "output_type": "stream",
     "text": [
      "\n",
      "995 MAPK1\n",
      "train_actives.shape (231, 3) train_inactives.shape (46972, 3) test_actives.shape (77, 3) test_inactives.shape (15657, 3)\n",
      "dock_actives.shape (4605, 23) dock_inactives.shape (939420, 23)\n",
      "train_df.shape (47203, 4) test_df.shape (15734, 4)\n",
      "dock_actives.shape (4605, 24) dock_inactives.shape (939420, 24)\n",
      "active_lig_map_df.shape (307, 7) inactive_lig_map_df.shape (62628, 7)\n",
      "active_df.shape (4605, 31) inactive_df.shape (939420, 31)\n",
      "test_active_df.shape (1155, 35) test_inactive_df.shape (234855, 35)\n",
      "test_data size (236010, 35) (15734,)\n"
     ]
    },
    {
     "name": "stderr",
     "output_type": "stream",
     "text": [
      "/var/tmp/jones289/ipykernel_1573007/4121728138.py:102: FutureWarning: Dropping of nuisance columns in DataFrame reductions (with 'numeric_only=None') is deprecated; in a future version this will raise TypeError.  Select only valid columns before calling the reduction.\n",
      "  test_df[\"min_vina\"] = test_df[test_df.columns[11:21]].min(axis=1)\n"
     ]
    },
    {
     "name": "stdout",
     "output_type": "stream",
     "text": [
      "\n",
      "493208 MTORC1\n",
      "train_actives.shape (73, 3) train_inactives.shape (24729, 3) test_actives.shape (24, 3) test_inactives.shape (8243, 3)\n"
     ]
    },
    {
     "name": "stderr",
     "output_type": "stream",
     "text": [
      "/var/tmp/jones289/ipykernel_1573007/4121728138.py:24: DtypeWarning: Columns (12,13,14) have mixed types. Specify dtype option on import or set low_memory=False.\n",
      "  dock_inactives = pd.read_csv(f\"/p/vast1/jones289/LIT-PCBA-Data/{target_name}-inactives.csv\")\n"
     ]
    },
    {
     "name": "stdout",
     "output_type": "stream",
     "text": [
      "dock_actives.shape (1056, 23) dock_inactives.shape (362681, 23)\n",
      "train_df.shape (24802, 4) test_df.shape (8267, 4)\n",
      "dock_actives.shape (1056, 24) dock_inactives.shape (362681, 24)\n",
      "active_lig_map_df.shape (96, 7) inactive_lig_map_df.shape (32971, 7)\n",
      "active_df.shape (1056, 31) inactive_df.shape (362681, 31)\n",
      "test_active_df.shape (253, 35) test_inactive_df.shape (90662, 35)\n",
      "test_data size (90915, 35) (8265,)\n",
      "\n",
      "1777 OPRK1\n"
     ]
    },
    {
     "name": "stderr",
     "output_type": "stream",
     "text": [
      "/var/tmp/jones289/ipykernel_1573007/4121728138.py:102: FutureWarning: Dropping of nuisance columns in DataFrame reductions (with 'numeric_only=None') is deprecated; in a future version this will raise TypeError.  Select only valid columns before calling the reduction.\n",
      "  test_df[\"min_vina\"] = test_df[test_df.columns[11:21]].min(axis=1)\n"
     ]
    },
    {
     "name": "stdout",
     "output_type": "stream",
     "text": [
      "train_actives.shape (18, 3) train_inactives.shape (202362, 3) test_actives.shape (6, 3) test_inactives.shape (67454, 3)\n",
      "dock_actives.shape (23, 23) dock_inactives.shape (269815, 23)\n",
      "train_df.shape (202380, 4) test_df.shape (67460, 4)\n",
      "dock_actives.shape (23, 24) dock_inactives.shape (269815, 24)\n",
      "active_lig_map_df.shape (23, 7) inactive_lig_map_df.shape (269815, 7)\n",
      "active_df.shape (23, 31) inactive_df.shape (269815, 31)\n",
      "test_active_df.shape (6, 35) test_inactive_df.shape (67454, 35)\n",
      "test_data size (67460, 35) (67460,)\n",
      "\n",
      "1631 PKM2\n"
     ]
    },
    {
     "name": "stderr",
     "output_type": "stream",
     "text": [
      "/var/tmp/jones289/ipykernel_1573007/4121728138.py:102: FutureWarning: Dropping of nuisance columns in DataFrame reductions (with 'numeric_only=None') is deprecated; in a future version this will raise TypeError.  Select only valid columns before calling the reduction.\n",
      "  test_df[\"min_vina\"] = test_df[test_df.columns[11:21]].min(axis=1)\n"
     ]
    },
    {
     "name": "stdout",
     "output_type": "stream",
     "text": [
      "train_actives.shape (410, 3) train_inactives.shape (184143, 3) test_actives.shape (136, 3) test_inactives.shape (61380, 3)\n",
      "dock_actives.shape (4905, 23) dock_inactives.shape (2209698, 23)\n",
      "train_df.shape (184553, 4) test_df.shape (61516, 4)\n",
      "dock_actives.shape (4905, 24) dock_inactives.shape (2209698, 24)\n",
      "active_lig_map_df.shape (545, 7) inactive_lig_map_df.shape (245522, 7)\n",
      "active_df.shape (4905, 31) inactive_df.shape (2209698, 31)\n",
      "test_active_df.shape (1224, 35) test_inactive_df.shape (552420, 35)\n",
      "test_data size (553644, 35) (61516,)\n"
     ]
    },
    {
     "name": "stderr",
     "output_type": "stream",
     "text": [
      "/var/tmp/jones289/ipykernel_1573007/4121728138.py:102: FutureWarning: Dropping of nuisance columns in DataFrame reductions (with 'numeric_only=None') is deprecated; in a future version this will raise TypeError.  Select only valid columns before calling the reduction.\n",
      "  test_df[\"min_vina\"] = test_df[test_df.columns[11:21]].min(axis=1)\n"
     ]
    },
    {
     "name": "stdout",
     "output_type": "stream",
     "text": [
      "\n",
      "743094 PPARG\n",
      "train_actives.shape (21, 3) train_inactives.shape (3909, 3) test_actives.shape (6, 3) test_inactives.shape (1302, 3)\n",
      "dock_actives.shape (390, 23) dock_inactives.shape (78150, 23)\n",
      "train_df.shape (3930, 4) test_df.shape (1308, 4)\n",
      "dock_actives.shape (390, 24) dock_inactives.shape (78150, 24)\n",
      "active_lig_map_df.shape (26, 7) inactive_lig_map_df.shape (5210, 7)\n",
      "active_df.shape (390, 31) inactive_df.shape (78150, 31)\n",
      "test_active_df.shape (90, 35) test_inactive_df.shape (19530, 35)\n",
      "test_data size (19620, 35) (1308,)\n",
      "\n",
      "651631 TP53\n",
      "train_actives.shape (60, 3) train_inactives.shape (3126, 3) test_actives.shape (19, 3) test_inactives.shape (1042, 3)\n",
      "dock_actives.shape (468, 23) dock_inactives.shape (25002, 23)\n",
      "train_df.shape (3186, 4) test_df.shape (1061, 4)\n",
      "dock_actives.shape (468, 24) dock_inactives.shape (25002, 24)\n"
     ]
    },
    {
     "name": "stderr",
     "output_type": "stream",
     "text": [
      "/var/tmp/jones289/ipykernel_1573007/4121728138.py:102: FutureWarning: Dropping of nuisance columns in DataFrame reductions (with 'numeric_only=None') is deprecated; in a future version this will raise TypeError.  Select only valid columns before calling the reduction.\n",
      "  test_df[\"min_vina\"] = test_df[test_df.columns[11:21]].min(axis=1)\n"
     ]
    },
    {
     "name": "stdout",
     "output_type": "stream",
     "text": [
      "active_lig_map_df.shape (78, 7) inactive_lig_map_df.shape (4167, 7)\n",
      "active_df.shape (468, 31) inactive_df.shape (25002, 31)\n",
      "test_active_df.shape (114, 35) test_inactive_df.shape (6252, 35)\n",
      "test_data size (6366, 35) (1061,)\n",
      "\n",
      "504847 VDR\n"
     ]
    },
    {
     "name": "stderr",
     "output_type": "stream",
     "text": [
      "/var/tmp/jones289/ipykernel_1573007/4121728138.py:102: FutureWarning: Dropping of nuisance columns in DataFrame reductions (with 'numeric_only=None') is deprecated; in a future version this will raise TypeError.  Select only valid columns before calling the reduction.\n",
      "  test_df[\"min_vina\"] = test_df[test_df.columns[11:21]].min(axis=1)\n"
     ]
    },
    {
     "name": "stdout",
     "output_type": "stream",
     "text": [
      "train_actives.shape (498, 3) train_inactives.shape (199906, 3) test_actives.shape (165, 3) test_inactives.shape (66635, 3)\n",
      "dock_actives.shape (1766, 23) dock_inactives.shape (710774, 23)\n",
      "train_df.shape (200404, 4) test_df.shape (66800, 4)\n",
      "dock_actives.shape (1766, 24) dock_inactives.shape (710774, 24)\n",
      "active_lig_map_df.shape (883, 7) inactive_lig_map_df.shape (355387, 7)\n",
      "active_df.shape (1766, 31) inactive_df.shape (710774, 31)\n",
      "test_active_df.shape (330, 35) test_inactive_df.shape (133270, 35)\n",
      "test_data size (133600, 35) (66800,)\n"
     ]
    },
    {
     "name": "stderr",
     "output_type": "stream",
     "text": [
      "/var/tmp/jones289/ipykernel_1573007/4121728138.py:102: FutureWarning: Dropping of nuisance columns in DataFrame reductions (with 'numeric_only=None') is deprecated; in a future version this will raise TypeError.  Select only valid columns before calling the reduction.\n",
      "  test_df[\"min_vina\"] = test_df[test_df.columns[11:21]].min(axis=1)\n"
     ]
    },
    {
     "name": "stdout",
     "output_type": "stream",
     "text": [
      "\n"
     ]
    },
    {
     "name": "stderr",
     "output_type": "stream",
     "text": [
      "  0%|          | 0/8 [00:00<?, ?it/s]"
     ]
    },
    {
     "name": "stdout",
     "output_type": "stream",
     "text": [
      "ADRB2 /p/vast1/jones289/hd_results/5/molehd-bpe.lit-pcba-ADRB2-ave.5.pkl molehd-bpe\n",
      "ALDH1 /p/vast1/jones289/hd_results/5/molehd-bpe.lit-pcba-ALDH1-ave.5.pkl molehd-bpe\n"
     ]
    },
    {
     "name": "stderr",
     "output_type": "stream",
     "text": []
    },
    {
     "name": "stdout",
     "output_type": "stream",
     "text": [
      "ESR1_ago /p/vast1/jones289/hd_results/5/molehd-bpe.lit-pcba-ESR1_ago-ave.5.pkl molehd-bpe\n",
      "ESR1_ant /p/vast1/jones289/hd_results/5/molehd-bpe.lit-pcba-ESR1_ant-ave.5.pkl molehd-bpe\n",
      "FEN1 /p/vast1/jones289/hd_results/5/molehd-bpe.lit-pcba-FEN1-ave.5.pkl molehd-bpe\n"
     ]
    },
    {
     "name": "stderr",
     "output_type": "stream",
     "text": []
    },
    {
     "name": "stdout",
     "output_type": "stream",
     "text": [
      "GBA /p/vast1/jones289/hd_results/5/molehd-bpe.lit-pcba-GBA-ave.5.pkl molehd-bpe\n",
      "IDH1 /p/vast1/jones289/hd_results/5/molehd-bpe.lit-pcba-IDH1-ave.5.pkl molehd-bpe\n",
      "KAT2A /p/vast1/jones289/hd_results/5/molehd-bpe.lit-pcba-KAT2A-ave.5.pkl molehd-bpe\n"
     ]
    },
    {
     "name": "stderr",
     "output_type": "stream",
     "text": []
    },
    {
     "name": "stdout",
     "output_type": "stream",
     "text": [
      "MAPK1 /p/vast1/jones289/hd_results/5/molehd-bpe.lit-pcba-MAPK1-ave.5.pkl molehd-bpe\n",
      "MTORC1 /p/vast1/jones289/hd_results/5/molehd-bpe.lit-pcba-MTORC1-ave.5.pkl molehd-bpe\n",
      "OPRK1 /p/vast1/jones289/hd_results/5/molehd-bpe.lit-pcba-OPRK1-ave.5.pkl molehd-bpe\n"
     ]
    },
    {
     "name": "stderr",
     "output_type": "stream",
     "text": []
    },
    {
     "name": "stdout",
     "output_type": "stream",
     "text": [
      "PKM2 /p/vast1/jones289/hd_results/5/molehd-bpe.lit-pcba-PKM2-ave.5.pkl molehd-bpe\n",
      "PPARG /p/vast1/jones289/hd_results/5/molehd-bpe.lit-pcba-PPARG-ave.5.pkl molehd-bpe\n",
      "TP53 /p/vast1/jones289/hd_results/5/molehd-bpe.lit-pcba-TP53-ave.5.pkl molehd-bpe\n",
      "VDR /p/vast1/jones289/hd_results/5/molehd-bpe.lit-pcba-VDR-ave.5.pkl molehd-bpe\n"
     ]
    },
    {
     "name": "stderr",
     "output_type": "stream",
     "text": [
      "100%|██████████| 15/15 [00:01<00:00,  9.27it/s]\n",
      " 12%|█▎        | 1/8 [00:01<00:11,  1.63s/it]"
     ]
    },
    {
     "name": "stdout",
     "output_type": "stream",
     "text": [
      "ADRB2 /p/vast1/jones289/hd_results/5/hdbind-rp-ecfp-1024-1.lit-pcba-ADRB2-ave.5.pkl hdbind-rp-ecfp-1024-1\n",
      "ALDH1 /p/vast1/jones289/hd_results/5/hdbind-rp-ecfp-1024-1.lit-pcba-ALDH1-ave.5.pkl hdbind-rp-ecfp-1024-1\n"
     ]
    },
    {
     "name": "stderr",
     "output_type": "stream",
     "text": []
    },
    {
     "name": "stdout",
     "output_type": "stream",
     "text": [
      "ESR1_ago /p/vast1/jones289/hd_results/5/hdbind-rp-ecfp-1024-1.lit-pcba-ESR1_ago-ave.5.pkl hdbind-rp-ecfp-1024-1\n",
      "ESR1_ant /p/vast1/jones289/hd_results/5/hdbind-rp-ecfp-1024-1.lit-pcba-ESR1_ant-ave.5.pkl hdbind-rp-ecfp-1024-1\n",
      "FEN1 /p/vast1/jones289/hd_results/5/hdbind-rp-ecfp-1024-1.lit-pcba-FEN1-ave.5.pkl hdbind-rp-ecfp-1024-1\n"
     ]
    },
    {
     "name": "stderr",
     "output_type": "stream",
     "text": []
    },
    {
     "name": "stdout",
     "output_type": "stream",
     "text": [
      "GBA /p/vast1/jones289/hd_results/5/hdbind-rp-ecfp-1024-1.lit-pcba-GBA-ave.5.pkl hdbind-rp-ecfp-1024-1\n",
      "IDH1 /p/vast1/jones289/hd_results/5/hdbind-rp-ecfp-1024-1.lit-pcba-IDH1-ave.5.pkl hdbind-rp-ecfp-1024-1\n",
      "KAT2A /p/vast1/jones289/hd_results/5/hdbind-rp-ecfp-1024-1.lit-pcba-KAT2A-ave.5.pkl hdbind-rp-ecfp-1024-1\n"
     ]
    },
    {
     "name": "stderr",
     "output_type": "stream",
     "text": []
    },
    {
     "name": "stdout",
     "output_type": "stream",
     "text": [
      "MAPK1 /p/vast1/jones289/hd_results/5/hdbind-rp-ecfp-1024-1.lit-pcba-MAPK1-ave.5.pkl hdbind-rp-ecfp-1024-1\n",
      "MTORC1 /p/vast1/jones289/hd_results/5/hdbind-rp-ecfp-1024-1.lit-pcba-MTORC1-ave.5.pkl hdbind-rp-ecfp-1024-1\n",
      "OPRK1 /p/vast1/jones289/hd_results/5/hdbind-rp-ecfp-1024-1.lit-pcba-OPRK1-ave.5.pkl hdbind-rp-ecfp-1024-1\n"
     ]
    },
    {
     "name": "stderr",
     "output_type": "stream",
     "text": []
    },
    {
     "name": "stdout",
     "output_type": "stream",
     "text": [
      "PKM2 /p/vast1/jones289/hd_results/5/hdbind-rp-ecfp-1024-1.lit-pcba-PKM2-ave.5.pkl hdbind-rp-ecfp-1024-1\n",
      "PPARG /p/vast1/jones289/hd_results/5/hdbind-rp-ecfp-1024-1.lit-pcba-PPARG-ave.5.pkl hdbind-rp-ecfp-1024-1\n",
      "TP53 /p/vast1/jones289/hd_results/5/hdbind-rp-ecfp-1024-1.lit-pcba-TP53-ave.5.pkl hdbind-rp-ecfp-1024-1\n",
      "VDR /p/vast1/jones289/hd_results/5/hdbind-rp-ecfp-1024-1.lit-pcba-VDR-ave.5.pkl hdbind-rp-ecfp-1024-1\n"
     ]
    },
    {
     "name": "stderr",
     "output_type": "stream",
     "text": [
      "100%|██████████| 15/15 [00:01<00:00,  9.13it/s]\n",
      " 25%|██▌       | 2/8 [00:03<00:09,  1.64s/it]"
     ]
    },
    {
     "name": "stdout",
     "output_type": "stream",
     "text": [
      "ADRB2 /p/vast1/jones289/hd_results/5/hdbind-rp-molclr.lit-pcba-ADRB2-ave.5.pkl hdbind-rp-molclr\n"
     ]
    },
    {
     "name": "stderr",
     "output_type": "stream",
     "text": []
    },
    {
     "name": "stdout",
     "output_type": "stream",
     "text": [
      "ALDH1 /p/vast1/jones289/hd_results/5/hdbind-rp-molclr.lit-pcba-ALDH1-ave.5.pkl hdbind-rp-molclr\n",
      "ESR1_ago /p/vast1/jones289/hd_results/5/hdbind-rp-molclr.lit-pcba-ESR1_ago-ave.5.pkl hdbind-rp-molclr\n",
      "ESR1_ant /p/vast1/jones289/hd_results/5/hdbind-rp-molclr.lit-pcba-ESR1_ant-ave.5.pkl hdbind-rp-molclr\n",
      "FEN1 /p/vast1/jones289/hd_results/5/hdbind-rp-molclr.lit-pcba-FEN1-ave.5.pkl hdbind-rp-molclr\n"
     ]
    },
    {
     "name": "stderr",
     "output_type": "stream",
     "text": []
    },
    {
     "name": "stdout",
     "output_type": "stream",
     "text": [
      "GBA /p/vast1/jones289/hd_results/5/hdbind-rp-molclr.lit-pcba-GBA-ave.5.pkl hdbind-rp-molclr\n",
      "IDH1 /p/vast1/jones289/hd_results/5/hdbind-rp-molclr.lit-pcba-IDH1-ave.5.pkl hdbind-rp-molclr\n"
     ]
    },
    {
     "name": "stderr",
     "output_type": "stream",
     "text": []
    },
    {
     "name": "stdout",
     "output_type": "stream",
     "text": [
      "KAT2A /p/vast1/jones289/hd_results/5/hdbind-rp-molclr.lit-pcba-KAT2A-ave.5.pkl hdbind-rp-molclr\n"
     ]
    },
    {
     "name": "stderr",
     "output_type": "stream",
     "text": []
    },
    {
     "name": "stdout",
     "output_type": "stream",
     "text": [
      "MAPK1 /p/vast1/jones289/hd_results/5/hdbind-rp-molclr.lit-pcba-MAPK1-ave.5.pkl hdbind-rp-molclr\n",
      "MTORC1 /p/vast1/jones289/hd_results/5/hdbind-rp-molclr.lit-pcba-MTORC1-ave.5.pkl hdbind-rp-molclr\n",
      "OPRK1 /p/vast1/jones289/hd_results/5/hdbind-rp-molclr.lit-pcba-OPRK1-ave.5.pkl hdbind-rp-molclr\n"
     ]
    },
    {
     "name": "stderr",
     "output_type": "stream",
     "text": []
    },
    {
     "name": "stdout",
     "output_type": "stream",
     "text": [
      "PKM2 /p/vast1/jones289/hd_results/5/hdbind-rp-molclr.lit-pcba-PKM2-ave.5.pkl hdbind-rp-molclr\n"
     ]
    },
    {
     "name": "stderr",
     "output_type": "stream",
     "text": []
    },
    {
     "name": "stdout",
     "output_type": "stream",
     "text": [
      "PPARG /p/vast1/jones289/hd_results/5/hdbind-rp-molclr.lit-pcba-PPARG-ave.5.pkl hdbind-rp-molclr\n",
      "TP53 /p/vast1/jones289/hd_results/5/hdbind-rp-molclr.lit-pcba-TP53-ave.5.pkl hdbind-rp-molclr\n",
      "VDR /p/vast1/jones289/hd_results/5/hdbind-rp-molclr.lit-pcba-VDR-ave.5.pkl hdbind-rp-molclr\n"
     ]
    },
    {
     "name": "stderr",
     "output_type": "stream",
     "text": [
      "100%|██████████| 15/15 [00:02<00:00,  6.26it/s]\n",
      " 38%|███▊      | 3/8 [00:05<00:09,  1.99s/it]"
     ]
    },
    {
     "name": "stdout",
     "output_type": "stream",
     "text": [
      "ADRB2 /p/vast1/jones289/hd_results/5/hdbind-rp-molformer.lit-pcba-ADRB2-ave.5.pkl hdbind-rp-molformer\n"
     ]
    },
    {
     "name": "stderr",
     "output_type": "stream",
     "text": []
    },
    {
     "name": "stdout",
     "output_type": "stream",
     "text": [
      "ALDH1 /p/vast1/jones289/hd_results/5/hdbind-rp-molformer.lit-pcba-ALDH1-ave.5.pkl hdbind-rp-molformer\n",
      "ESR1_ago /p/vast1/jones289/hd_results/5/hdbind-rp-molformer.lit-pcba-ESR1_ago-ave.5.pkl hdbind-rp-molformer\n",
      "ESR1_ant /p/vast1/jones289/hd_results/5/hdbind-rp-molformer.lit-pcba-ESR1_ant-ave.5.pkl hdbind-rp-molformer\n",
      "FEN1 /p/vast1/jones289/hd_results/5/hdbind-rp-molformer.lit-pcba-FEN1-ave.5.pkl hdbind-rp-molformer\n"
     ]
    },
    {
     "name": "stderr",
     "output_type": "stream",
     "text": []
    },
    {
     "name": "stdout",
     "output_type": "stream",
     "text": [
      "GBA /p/vast1/jones289/hd_results/5/hdbind-rp-molformer.lit-pcba-GBA-ave.5.pkl hdbind-rp-molformer\n"
     ]
    },
    {
     "name": "stderr",
     "output_type": "stream",
     "text": []
    },
    {
     "name": "stdout",
     "output_type": "stream",
     "text": [
      "IDH1 /p/vast1/jones289/hd_results/5/hdbind-rp-molformer.lit-pcba-IDH1-ave.5.pkl hdbind-rp-molformer\n"
     ]
    },
    {
     "name": "stderr",
     "output_type": "stream",
     "text": []
    },
    {
     "name": "stdout",
     "output_type": "stream",
     "text": [
      "KAT2A /p/vast1/jones289/hd_results/5/hdbind-rp-molformer.lit-pcba-KAT2A-ave.5.pkl hdbind-rp-molformer\n"
     ]
    },
    {
     "name": "stderr",
     "output_type": "stream",
     "text": []
    },
    {
     "name": "stdout",
     "output_type": "stream",
     "text": [
      "MAPK1 /p/vast1/jones289/hd_results/5/hdbind-rp-molformer.lit-pcba-MAPK1-ave.5.pkl hdbind-rp-molformer\n",
      "MTORC1 /p/vast1/jones289/hd_results/5/hdbind-rp-molformer.lit-pcba-MTORC1-ave.5.pkl hdbind-rp-molformer\n",
      "OPRK1 /p/vast1/jones289/hd_results/5/hdbind-rp-molformer.lit-pcba-OPRK1-ave.5.pkl hdbind-rp-molformer\n"
     ]
    },
    {
     "name": "stderr",
     "output_type": "stream",
     "text": []
    },
    {
     "name": "stdout",
     "output_type": "stream",
     "text": [
      "PKM2 /p/vast1/jones289/hd_results/5/hdbind-rp-molformer.lit-pcba-PKM2-ave.5.pkl hdbind-rp-molformer\n"
     ]
    },
    {
     "name": "stderr",
     "output_type": "stream",
     "text": []
    },
    {
     "name": "stdout",
     "output_type": "stream",
     "text": [
      "PPARG /p/vast1/jones289/hd_results/5/hdbind-rp-molformer.lit-pcba-PPARG-ave.5.pkl hdbind-rp-molformer\n",
      "TP53 /p/vast1/jones289/hd_results/5/hdbind-rp-molformer.lit-pcba-TP53-ave.5.pkl hdbind-rp-molformer\n",
      "VDR /p/vast1/jones289/hd_results/5/hdbind-rp-molformer.lit-pcba-VDR-ave.5.pkl hdbind-rp-molformer\n"
     ]
    },
    {
     "name": "stderr",
     "output_type": "stream",
     "text": [
      "100%|██████████| 15/15 [00:03<00:00,  4.86it/s]\n",
      " 50%|█████     | 4/8 [00:08<00:09,  2.43s/it]"
     ]
    },
    {
     "name": "stdout",
     "output_type": "stream",
     "text": [
      "ADRB2 /p/vast1/jones289/hd_results/5/hdbind-directecfp-10k-4.lit-pcba-ADRB2-ave.5.pkl hdbind-directecfp-10k-4\n"
     ]
    },
    {
     "name": "stderr",
     "output_type": "stream",
     "text": []
    },
    {
     "name": "stdout",
     "output_type": "stream",
     "text": [
      "ALDH1 /p/vast1/jones289/hd_results/5/hdbind-directecfp-10k-4.lit-pcba-ALDH1-ave.5.pkl hdbind-directecfp-10k-4\n",
      "ESR1_ago /p/vast1/jones289/hd_results/5/hdbind-directecfp-10k-4.lit-pcba-ESR1_ago-ave.5.pkl hdbind-directecfp-10k-4\n",
      "ESR1_ant /p/vast1/jones289/hd_results/5/hdbind-directecfp-10k-4.lit-pcba-ESR1_ant-ave.5.pkl hdbind-directecfp-10k-4\n",
      "FEN1 /p/vast1/jones289/hd_results/5/hdbind-directecfp-10k-4.lit-pcba-FEN1-ave.5.pkl hdbind-directecfp-10k-4\n"
     ]
    },
    {
     "name": "stderr",
     "output_type": "stream",
     "text": []
    },
    {
     "name": "stdout",
     "output_type": "stream",
     "text": [
      "GBA /p/vast1/jones289/hd_results/5/hdbind-directecfp-10k-4.lit-pcba-GBA-ave.5.pkl hdbind-directecfp-10k-4\n"
     ]
    },
    {
     "name": "stderr",
     "output_type": "stream",
     "text": []
    },
    {
     "name": "stdout",
     "output_type": "stream",
     "text": [
      "IDH1 /p/vast1/jones289/hd_results/5/hdbind-directecfp-10k-4.lit-pcba-IDH1-ave.5.pkl hdbind-directecfp-10k-4\n"
     ]
    },
    {
     "name": "stderr",
     "output_type": "stream",
     "text": []
    },
    {
     "name": "stdout",
     "output_type": "stream",
     "text": [
      "KAT2A /p/vast1/jones289/hd_results/5/hdbind-directecfp-10k-4.lit-pcba-KAT2A-ave.5.pkl hdbind-directecfp-10k-4\n"
     ]
    },
    {
     "name": "stderr",
     "output_type": "stream",
     "text": []
    },
    {
     "name": "stdout",
     "output_type": "stream",
     "text": [
      "MAPK1 /p/vast1/jones289/hd_results/5/hdbind-directecfp-10k-4.lit-pcba-MAPK1-ave.5.pkl hdbind-directecfp-10k-4\n",
      "MTORC1 /p/vast1/jones289/hd_results/5/hdbind-directecfp-10k-4.lit-pcba-MTORC1-ave.5.pkl hdbind-directecfp-10k-4\n",
      "OPRK1 /p/vast1/jones289/hd_results/5/hdbind-directecfp-10k-4.lit-pcba-OPRK1-ave.5.pkl hdbind-directecfp-10k-4\n"
     ]
    },
    {
     "name": "stderr",
     "output_type": "stream",
     "text": []
    },
    {
     "name": "stdout",
     "output_type": "stream",
     "text": [
      "PKM2 /p/vast1/jones289/hd_results/5/hdbind-directecfp-10k-4.lit-pcba-PKM2-ave.5.pkl hdbind-directecfp-10k-4\n",
      "PPARG /p/vast1/jones289/hd_results/5/hdbind-directecfp-10k-4.lit-pcba-PPARG-ave.5.pkl hdbind-directecfp-10k-4\n",
      "TP53 /p/vast1/jones289/hd_results/5/hdbind-directecfp-10k-4.lit-pcba-TP53-ave.5.pkl hdbind-directecfp-10k-4\n",
      "VDR /p/vast1/jones289/hd_results/5/hdbind-directecfp-10k-4.lit-pcba-VDR-ave.5.pkl hdbind-directecfp-10k-4\n"
     ]
    },
    {
     "name": "stderr",
     "output_type": "stream",
     "text": [
      "100%|██████████| 15/15 [00:02<00:00,  6.53it/s]\n",
      " 62%|██████▎   | 5/8 [00:11<00:07,  2.38s/it]"
     ]
    },
    {
     "name": "stdout",
     "output_type": "stream",
     "text": [
      "ADRB2 /p/vast1/jones289/hd_results/5/hdbind-molformer-decfp-combo.lit-pcba-ADRB2-ave.5.pkl hdbind-molformer-decfp-combo\n"
     ]
    },
    {
     "name": "stderr",
     "output_type": "stream",
     "text": []
    },
    {
     "name": "stdout",
     "output_type": "stream",
     "text": [
      "ALDH1 /p/vast1/jones289/hd_results/5/hdbind-molformer-decfp-combo.lit-pcba-ALDH1-ave.5.pkl hdbind-molformer-decfp-combo\n",
      "ESR1_ago /p/vast1/jones289/hd_results/5/hdbind-molformer-decfp-combo.lit-pcba-ESR1_ago-ave.5.pkl hdbind-molformer-decfp-combo\n",
      "ESR1_ant /p/vast1/jones289/hd_results/5/hdbind-molformer-decfp-combo.lit-pcba-ESR1_ant-ave.5.pkl hdbind-molformer-decfp-combo\n",
      "FEN1 /p/vast1/jones289/hd_results/5/hdbind-molformer-decfp-combo.lit-pcba-FEN1-ave.5.pkl hdbind-molformer-decfp-combo\n"
     ]
    },
    {
     "name": "stderr",
     "output_type": "stream",
     "text": []
    },
    {
     "name": "stdout",
     "output_type": "stream",
     "text": [
      "GBA /p/vast1/jones289/hd_results/5/hdbind-molformer-decfp-combo.lit-pcba-GBA-ave.5.pkl hdbind-molformer-decfp-combo\n"
     ]
    },
    {
     "name": "stderr",
     "output_type": "stream",
     "text": []
    },
    {
     "name": "stdout",
     "output_type": "stream",
     "text": [
      "IDH1 /p/vast1/jones289/hd_results/5/hdbind-molformer-decfp-combo.lit-pcba-IDH1-ave.5.pkl hdbind-molformer-decfp-combo\n"
     ]
    },
    {
     "name": "stderr",
     "output_type": "stream",
     "text": []
    },
    {
     "name": "stdout",
     "output_type": "stream",
     "text": [
      "KAT2A /p/vast1/jones289/hd_results/5/hdbind-molformer-decfp-combo.lit-pcba-KAT2A-ave.5.pkl hdbind-molformer-decfp-combo\n"
     ]
    },
    {
     "name": "stderr",
     "output_type": "stream",
     "text": []
    },
    {
     "name": "stdout",
     "output_type": "stream",
     "text": [
      "MAPK1 /p/vast1/jones289/hd_results/5/hdbind-molformer-decfp-combo.lit-pcba-MAPK1-ave.5.pkl hdbind-molformer-decfp-combo\n",
      "MTORC1 /p/vast1/jones289/hd_results/5/hdbind-molformer-decfp-combo.lit-pcba-MTORC1-ave.5.pkl hdbind-molformer-decfp-combo\n",
      "OPRK1 /p/vast1/jones289/hd_results/5/hdbind-molformer-decfp-combo.lit-pcba-OPRK1-ave.5.pkl hdbind-molformer-decfp-combo\n"
     ]
    },
    {
     "name": "stderr",
     "output_type": "stream",
     "text": []
    },
    {
     "name": "stdout",
     "output_type": "stream",
     "text": [
      "PKM2 /p/vast1/jones289/hd_results/5/hdbind-molformer-decfp-combo.lit-pcba-PKM2-ave.5.pkl hdbind-molformer-decfp-combo\n",
      "PPARG /p/vast1/jones289/hd_results/5/hdbind-molformer-decfp-combo.lit-pcba-PPARG-ave.5.pkl hdbind-molformer-decfp-combo\n",
      "TP53 /p/vast1/jones289/hd_results/5/hdbind-molformer-decfp-combo.lit-pcba-TP53-ave.5.pkl hdbind-molformer-decfp-combo\n",
      "VDR /p/vast1/jones289/hd_results/5/hdbind-molformer-decfp-combo.lit-pcba-VDR-ave.5.pkl hdbind-molformer-decfp-combo\n"
     ]
    },
    {
     "name": "stderr",
     "output_type": "stream",
     "text": [
      "100%|██████████| 15/15 [00:02<00:00,  5.99it/s]\n",
      " 75%|███████▌  | 6/8 [00:13<00:04,  2.43s/it]"
     ]
    },
    {
     "name": "stdout",
     "output_type": "stream",
     "text": [
      "ADRB2 /p/vast1/jones289/hd_results/5/mlp-1024-1.lit-pcba-ADRB2-ave.5.pkl mlp-1024-1\n",
      "ALDH1 /p/vast1/jones289/hd_results/5/mlp-1024-1.lit-pcba-ALDH1-ave.5.pkl mlp-1024-1\n",
      "ESR1_ago /p/vast1/jones289/hd_results/5/mlp-1024-1.lit-pcba-ESR1_ago-ave.5.pkl mlp-1024-1\n",
      "ESR1_ant /p/vast1/jones289/hd_results/5/mlp-1024-1.lit-pcba-ESR1_ant-ave.5.pkl mlp-1024-1\n",
      "FEN1 /p/vast1/jones289/hd_results/5/mlp-1024-1.lit-pcba-FEN1-ave.5.pkl mlp-1024-1\n"
     ]
    },
    {
     "name": "stderr",
     "output_type": "stream",
     "text": []
    },
    {
     "name": "stdout",
     "output_type": "stream",
     "text": [
      "GBA /p/vast1/jones289/hd_results/5/mlp-1024-1.lit-pcba-GBA-ave.5.pkl mlp-1024-1\n",
      "IDH1 /p/vast1/jones289/hd_results/5/mlp-1024-1.lit-pcba-IDH1-ave.5.pkl mlp-1024-1\n"
     ]
    },
    {
     "name": "stderr",
     "output_type": "stream",
     "text": [
      "\n"
     ]
    },
    {
     "name": "stdout",
     "output_type": "stream",
     "text": [
      "KAT2A /p/vast1/jones289/hd_results/5/mlp-1024-1.lit-pcba-KAT2A-ave.5.pkl mlp-1024-1\n"
     ]
    },
    {
     "name": "stderr",
     "output_type": "stream",
     "text": [
      " 53%|█████▎    | 8/15 [00:01<00:01,  7.00it/s]\u001b[A"
     ]
    },
    {
     "name": "stdout",
     "output_type": "stream",
     "text": [
      "MAPK1 /p/vast1/jones289/hd_results/5/mlp-1024-1.lit-pcba-MAPK1-ave.5.pkl mlp-1024-1\n",
      "MTORC1 /p/vast1/jones289/hd_results/5/mlp-1024-1.lit-pcba-MTORC1-ave.5.pkl mlp-1024-1\n",
      "OPRK1 /p/vast1/jones289/hd_results/5/mlp-1024-1.lit-pcba-OPRK1-ave.5.pkl mlp-1024-1\n"
     ]
    },
    {
     "name": "stderr",
     "output_type": "stream",
     "text": []
    },
    {
     "name": "stdout",
     "output_type": "stream",
     "text": [
      "PKM2 /p/vast1/jones289/hd_results/5/mlp-1024-1.lit-pcba-PKM2-ave.5.pkl mlp-1024-1\n",
      "PPARG /p/vast1/jones289/hd_results/5/mlp-1024-1.lit-pcba-PPARG-ave.5.pkl mlp-1024-1\n",
      "TP53 /p/vast1/jones289/hd_results/5/mlp-1024-1.lit-pcba-TP53-ave.5.pkl mlp-1024-1\n",
      "VDR /p/vast1/jones289/hd_results/5/mlp-1024-1.lit-pcba-VDR-ave.5.pkl mlp-1024-1\n"
     ]
    },
    {
     "name": "stderr",
     "output_type": "stream",
     "text": [
      "100%|██████████| 15/15 [00:01<00:00,  9.53it/s]\n",
      "0it [00:00, ?it/s]/8 [00:15<00:02,  2.15s/it]\n",
      "100%|██████████| 8/8 [00:15<00:00,  1.90s/it]\n"
     ]
    },
    {
     "name": "stdout",
     "output_type": "stream",
     "text": [
      "['model', 'enrich', 'p', 'target', 'seed', 'roc-auc']\n",
      "[2100, 2100, 2100, 2100, 2100, 2100]\n",
      "('Vina', 0.01)\n",
      "           p     enrich\n",
      "count  15.00  15.000000\n",
      "mean    0.01   2.405046\n",
      "std     0.00   2.295705\n",
      "min     0.01   0.000000\n",
      "25%     0.01   0.951580\n",
      "50%     0.01   1.572884\n",
      "75%     0.01   3.332360\n",
      "max     0.01   7.746193\n",
      "('Vina', 0.1)\n",
      "                  p     enrich\n",
      "count  1.500000e+01  15.000000\n",
      "mean   1.000000e-01   1.446403\n",
      "std    2.872975e-17   0.588916\n",
      "min    1.000000e-01   0.000000\n",
      "25%    1.000000e-01   1.254643\n",
      "50%    1.000000e-01   1.505012\n",
      "75%    1.000000e-01   1.812046\n",
      "max    1.000000e-01   2.173718\n",
      "('hdbind-directecfp-10k-4', 0.01)\n",
      "           p     enrich\n",
      "count  15.00  15.000000\n",
      "mean    0.01   7.638491\n",
      "std     0.00   8.380955\n",
      "min     0.01   0.000000\n",
      "25%     0.01   1.982587\n",
      "50%     0.01   5.076555\n",
      "75%     0.01  10.550711\n",
      "max     0.01  30.849448\n",
      "('hdbind-directecfp-10k-4', 0.1)\n",
      "                  p     enrich\n",
      "count  1.500000e+01  15.000000\n",
      "mean   1.000000e-01   3.028176\n",
      "std    2.872975e-17   1.635693\n",
      "min    1.000000e-01   1.124935\n",
      "25%    1.000000e-01   2.114711\n",
      "50%    1.000000e-01   2.609444\n",
      "75%    1.000000e-01   3.411614\n",
      "max    1.000000e-01   7.608011\n",
      "('hdbind-molformer-decfp-combo', 0.01)\n",
      "           p     enrich\n",
      "count  15.00  15.000000\n",
      "mean    0.01   4.629617\n",
      "std     0.00   3.601082\n",
      "min     0.01   0.000000\n",
      "25%     0.01   1.867545\n",
      "50%     0.01   4.568900\n",
      "75%     0.01   6.444144\n",
      "max     0.01   9.998280\n",
      "('hdbind-molformer-decfp-combo', 0.1)\n",
      "                  p     enrich\n",
      "count  1.500000e+01  15.000000\n",
      "mean   1.000000e-01   3.430287\n",
      "std    2.872975e-17   1.395665\n",
      "min    1.000000e-01   2.035366\n",
      "25%    1.000000e-01   2.714166\n",
      "50%    1.000000e-01   3.270646\n",
      "75%    1.000000e-01   3.405330\n",
      "max    1.000000e-01   7.777005\n",
      "('hdbind-rp-ecfp-1024-1', 0.01)\n",
      "           p     enrich\n",
      "count  15.00  15.000000\n",
      "mean    0.01   5.351097\n",
      "std     0.00   6.582956\n",
      "min     0.01   0.000000\n",
      "25%     0.01   1.692604\n",
      "50%     0.01   3.553589\n",
      "75%     0.01   5.517831\n",
      "max     0.01  25.200957\n",
      "('hdbind-rp-ecfp-1024-1', 0.1)\n",
      "                  p     enrich\n",
      "count  1.500000e+01  15.000000\n",
      "mean   1.000000e-01   2.857164\n",
      "std    2.872975e-17   1.735331\n",
      "min    1.000000e-01   0.166667\n",
      "25%    1.000000e-01   1.801959\n",
      "50%    1.000000e-01   2.749789\n",
      "75%    1.000000e-01   3.493795\n",
      "max    1.000000e-01   6.490076\n",
      "('hdbind-rp-molclr', 0.01)\n",
      "           p     enrich\n",
      "count  15.00  15.000000\n",
      "mean    0.01   7.792125\n",
      "std     0.00   8.646350\n",
      "min     0.01   0.000000\n",
      "25%     0.01   2.773556\n",
      "50%     0.01   4.405749\n",
      "75%     0.01   7.965266\n",
      "max     0.01  30.306323\n",
      "('hdbind-rp-molclr', 0.1)\n",
      "                  p     enrich\n",
      "count  1.500000e+01  15.000000\n",
      "mean   1.000000e-01   2.419563\n",
      "std    2.872975e-17   1.914968\n",
      "min    1.000000e-01   0.000000\n",
      "25%    1.000000e-01   1.603888\n",
      "50%    1.000000e-01   2.163359\n",
      "75%    1.000000e-01   3.048001\n",
      "max    1.000000e-01   7.184137\n",
      "('hdbind-rp-molformer', 0.01)\n",
      "           p     enrich\n",
      "count  15.00  15.000000\n",
      "mean    0.01   5.649929\n",
      "std     0.00   7.463767\n",
      "min     0.01   0.000000\n",
      "25%     0.01   0.778571\n",
      "50%     0.01   3.106462\n",
      "75%     0.01   6.307257\n",
      "max     0.01  27.807953\n",
      "('hdbind-rp-molformer', 0.1)\n",
      "                  p     enrich\n",
      "count  1.500000e+01  15.000000\n",
      "mean   1.000000e-01   2.937962\n",
      "std    2.872975e-17   1.634352\n",
      "min    1.000000e-01   0.000000\n",
      "25%    1.000000e-01   2.096736\n",
      "50%    1.000000e-01   2.348500\n",
      "75%    1.000000e-01   3.330952\n",
      "max    1.000000e-01   6.868947\n",
      "('mlp-1024-1', 0.01)\n",
      "           p     enrich\n",
      "count  15.00  15.000000\n",
      "mean    0.01  13.537262\n",
      "std     0.00  23.318999\n",
      "min     0.01   0.000000\n",
      "25%     0.01   3.420776\n",
      "50%     0.01   7.636364\n",
      "75%     0.01  12.754629\n",
      "max     0.01  93.428574\n",
      "('mlp-1024-1', 0.1)\n",
      "                  p     enrich\n",
      "count  1.500000e+01  15.000000\n",
      "mean   1.000000e-01   3.229729\n",
      "std    2.872975e-17   2.253809\n",
      "min    1.000000e-01   0.665714\n",
      "25%    1.000000e-01   2.270958\n",
      "50%    1.000000e-01   2.661323\n",
      "75%    1.000000e-01   3.308741\n",
      "max    1.000000e-01   9.984733\n",
      "('molehd-bpe', 0.01)\n",
      "           p     enrich\n",
      "count  15.00  15.000000\n",
      "mean    0.01   2.608000\n",
      "std     0.00   3.125275\n",
      "min     0.01   0.000000\n",
      "25%     0.01   0.000000\n",
      "50%     0.01   2.075050\n",
      "75%     0.01   3.114163\n",
      "max     0.01   9.750041\n",
      "('molehd-bpe', 0.1)\n",
      "                  p     enrich\n",
      "count  1.500000e+01  15.000000\n",
      "mean   1.000000e-01   1.696853\n",
      "std    2.872975e-17   0.920285\n",
      "min    1.000000e-01   0.000000\n",
      "25%    1.000000e-01   1.138834\n",
      "50%    1.000000e-01   1.687668\n",
      "75%    1.000000e-01   2.074529\n",
      "max    1.000000e-01   3.456211\n"
     ]
    },
    {
     "data": {
      "image/png": "[encoded data removed]",
      "text/plain": [
       "<Figure size 1152x1296 with 2 Axes>"
      ]
     },
     "metadata": {
      "needs_background": "light"
     },
     "output_type": "display_data"
    }
   ],
   "source": [
    "ave_df = compute_model_metric_df(model_dict=model_dict, model_list=model_10k_list, dataset=\"lit-pcba\", split=\"ave\", target_list=\"all\")\n",
    "ave_df.to_csv(\"lit-pcba-metrics-10k-ave.csv\")"
   ]
  },
  {
   "cell_type": "code",
   "execution_count": 8,
   "metadata": {},
   "outputs": [
    {
     "data": {
      "text/html": [
       "<div>\n",
       "<style scoped>\n",
       "    .dataframe tbody tr th:only-of-type {\n",
       "        vertical-align: middle;\n",
       "    }\n",
       "\n",
       "    .dataframe tbody tr th {\n",
       "        vertical-align: top;\n",
       "    }\n",
       "\n",
       "    .dataframe thead th {\n",
       "        text-align: right;\n",
       "    }\n",
       "</style>\n",
       "<table border=\"1\" class=\"dataframe\">\n",
       "  <thead>\n",
       "    <tr style=\"text-align: right;\">\n",
       "      <th></th>\n",
       "      <th>enrich</th>\n",
       "      <th>p</th>\n",
       "      <th>seed</th>\n",
       "      <th>roc-auc</th>\n",
       "    </tr>\n",
       "  </thead>\n",
       "  <tbody>\n",
       "    <tr>\n",
       "      <th>count</th>\n",
       "      <td>4080.000000</td>\n",
       "      <td>4080.000000</td>\n",
       "      <td>4050.000000</td>\n",
       "      <td>4050.000000</td>\n",
       "    </tr>\n",
       "    <tr>\n",
       "      <th>mean</th>\n",
       "      <td>5.638997</td>\n",
       "      <td>0.055000</td>\n",
       "      <td>4.407407</td>\n",
       "      <td>0.669851</td>\n",
       "    </tr>\n",
       "    <tr>\n",
       "      <th>std</th>\n",
       "      <td>10.590306</td>\n",
       "      <td>0.045006</td>\n",
       "      <td>2.871143</td>\n",
       "      <td>0.124354</td>\n",
       "    </tr>\n",
       "    <tr>\n",
       "      <th>min</th>\n",
       "      <td>0.000000</td>\n",
       "      <td>0.010000</td>\n",
       "      <td>0.000000</td>\n",
       "      <td>0.334528</td>\n",
       "    </tr>\n",
       "    <tr>\n",
       "      <th>25%</th>\n",
       "      <td>1.192441</td>\n",
       "      <td>0.010000</td>\n",
       "      <td>2.000000</td>\n",
       "      <td>0.582508</td>\n",
       "    </tr>\n",
       "    <tr>\n",
       "      <th>50%</th>\n",
       "      <td>2.937166</td>\n",
       "      <td>0.055000</td>\n",
       "      <td>4.000000</td>\n",
       "      <td>0.649786</td>\n",
       "    </tr>\n",
       "    <tr>\n",
       "      <th>75%</th>\n",
       "      <td>5.173105</td>\n",
       "      <td>0.100000</td>\n",
       "      <td>7.000000</td>\n",
       "      <td>0.750903</td>\n",
       "    </tr>\n",
       "    <tr>\n",
       "      <th>max</th>\n",
       "      <td>99.902813</td>\n",
       "      <td>0.100000</td>\n",
       "      <td>9.000000</td>\n",
       "      <td>1.000000</td>\n",
       "    </tr>\n",
       "  </tbody>\n",
       "</table>\n",
       "</div>"
      ],
      "text/plain": [
       "            enrich            p         seed      roc-auc\n",
       "count  4080.000000  4080.000000  4050.000000  4050.000000\n",
       "mean      5.638997     0.055000     4.407407     0.669851\n",
       "std      10.590306     0.045006     2.871143     0.124354\n",
       "min       0.000000     0.010000     0.000000     0.334528\n",
       "25%       1.192441     0.010000     2.000000     0.582508\n",
       "50%       2.937166     0.055000     4.000000     0.649786\n",
       "75%       5.173105     0.100000     7.000000     0.750903\n",
       "max      99.902813     0.100000     9.000000     1.000000"
      ]
     },
     "execution_count": 8,
     "metadata": {},
     "output_type": "execute_result"
    }
   ],
   "source": [
    "ave_df.describe()"
   ]
  },
  {
   "cell_type": "code",
   "execution_count": 9,
   "metadata": {},
   "outputs": [
    {
     "data": {
      "text/html": [
       "<div>\n",
       "<style scoped>\n",
       "    .dataframe tbody tr th:only-of-type {\n",
       "        vertical-align: middle;\n",
       "    }\n",
       "\n",
       "    .dataframe tbody tr th {\n",
       "        vertical-align: top;\n",
       "    }\n",
       "\n",
       "    .dataframe thead th {\n",
       "        text-align: right;\n",
       "    }\n",
       "</style>\n",
       "<table border=\"1\" class=\"dataframe\">\n",
       "  <thead>\n",
       "    <tr style=\"text-align: right;\">\n",
       "      <th></th>\n",
       "      <th></th>\n",
       "      <th>enrich</th>\n",
       "      <th>seed</th>\n",
       "      <th>roc-auc</th>\n",
       "    </tr>\n",
       "    <tr>\n",
       "      <th>model</th>\n",
       "      <th>p</th>\n",
       "      <th></th>\n",
       "      <th></th>\n",
       "      <th></th>\n",
       "    </tr>\n",
       "  </thead>\n",
       "  <tbody>\n",
       "    <tr>\n",
       "      <th rowspan=\"2\" valign=\"top\">Vina</th>\n",
       "      <th>0.01</th>\n",
       "      <td>1.572884</td>\n",
       "      <td>NaN</td>\n",
       "      <td>NaN</td>\n",
       "    </tr>\n",
       "    <tr>\n",
       "      <th>0.10</th>\n",
       "      <td>1.505012</td>\n",
       "      <td>NaN</td>\n",
       "      <td>NaN</td>\n",
       "    </tr>\n",
       "    <tr>\n",
       "      <th rowspan=\"2\" valign=\"top\">hdbind-directecfp-100k-4</th>\n",
       "      <th>0.01</th>\n",
       "      <td>5.076555</td>\n",
       "      <td>4.5</td>\n",
       "      <td>0.703237</td>\n",
       "    </tr>\n",
       "    <tr>\n",
       "      <th>0.10</th>\n",
       "      <td>3.328244</td>\n",
       "      <td>4.5</td>\n",
       "      <td>0.703237</td>\n",
       "    </tr>\n",
       "    <tr>\n",
       "      <th rowspan=\"2\" valign=\"top\">hdbind-directecfp-10k-4</th>\n",
       "      <th>0.01</th>\n",
       "      <td>5.076555</td>\n",
       "      <td>4.5</td>\n",
       "      <td>0.661120</td>\n",
       "    </tr>\n",
       "    <tr>\n",
       "      <th>0.10</th>\n",
       "      <td>2.820921</td>\n",
       "      <td>4.5</td>\n",
       "      <td>0.661120</td>\n",
       "    </tr>\n",
       "    <tr>\n",
       "      <th rowspan=\"2\" valign=\"top\">hdbind-directecfp-1k-4</th>\n",
       "      <th>0.01</th>\n",
       "      <td>2.176829</td>\n",
       "      <td>4.5</td>\n",
       "      <td>0.620945</td>\n",
       "    </tr>\n",
       "    <tr>\n",
       "      <th>0.10</th>\n",
       "      <td>1.874892</td>\n",
       "      <td>4.5</td>\n",
       "      <td>0.620945</td>\n",
       "    </tr>\n",
       "    <tr>\n",
       "      <th rowspan=\"2\" valign=\"top\">hdbind-directecfp-1m-4</th>\n",
       "      <th>0.01</th>\n",
       "      <td>10.547312</td>\n",
       "      <td>4.5</td>\n",
       "      <td>0.734973</td>\n",
       "    </tr>\n",
       "    <tr>\n",
       "      <th>0.10</th>\n",
       "      <td>3.328571</td>\n",
       "      <td>4.5</td>\n",
       "      <td>0.734973</td>\n",
       "    </tr>\n",
       "    <tr>\n",
       "      <th rowspan=\"2\" valign=\"top\">hdbind-molformer-decfp-combo</th>\n",
       "      <th>0.01</th>\n",
       "      <td>4.234912</td>\n",
       "      <td>4.5</td>\n",
       "      <td>0.686784</td>\n",
       "    </tr>\n",
       "    <tr>\n",
       "      <th>0.10</th>\n",
       "      <td>3.328244</td>\n",
       "      <td>4.5</td>\n",
       "      <td>0.686784</td>\n",
       "    </tr>\n",
       "    <tr>\n",
       "      <th rowspan=\"2\" valign=\"top\">hdbind-molformer-decfp-combo-100k</th>\n",
       "      <th>0.01</th>\n",
       "      <td>16.656790</td>\n",
       "      <td>4.5</td>\n",
       "      <td>0.735399</td>\n",
       "    </tr>\n",
       "    <tr>\n",
       "      <th>0.10</th>\n",
       "      <td>5.000000</td>\n",
       "      <td>4.5</td>\n",
       "      <td>0.735399</td>\n",
       "    </tr>\n",
       "    <tr>\n",
       "      <th rowspan=\"2\" valign=\"top\">hdbind-molformer-decfp-combo-1k</th>\n",
       "      <th>0.01</th>\n",
       "      <td>1.468583</td>\n",
       "      <td>4.5</td>\n",
       "      <td>0.615584</td>\n",
       "    </tr>\n",
       "    <tr>\n",
       "      <th>0.10</th>\n",
       "      <td>1.678819</td>\n",
       "      <td>4.5</td>\n",
       "      <td>0.615584</td>\n",
       "    </tr>\n",
       "    <tr>\n",
       "      <th rowspan=\"2\" valign=\"top\">hdbind-molformer-decfp-combo-1m</th>\n",
       "      <th>0.01</th>\n",
       "      <td>16.656790</td>\n",
       "      <td>2.0</td>\n",
       "      <td>0.754859</td>\n",
       "    </tr>\n",
       "    <tr>\n",
       "      <th>0.10</th>\n",
       "      <td>5.167244</td>\n",
       "      <td>2.0</td>\n",
       "      <td>0.754859</td>\n",
       "    </tr>\n",
       "    <tr>\n",
       "      <th rowspan=\"2\" valign=\"top\">hdbind-rp-ecfp-1024-1</th>\n",
       "      <th>0.01</th>\n",
       "      <td>4.150100</td>\n",
       "      <td>4.5</td>\n",
       "      <td>0.663273</td>\n",
       "    </tr>\n",
       "    <tr>\n",
       "      <th>0.10</th>\n",
       "      <td>2.554650</td>\n",
       "      <td>4.5</td>\n",
       "      <td>0.663273</td>\n",
       "    </tr>\n",
       "    <tr>\n",
       "      <th rowspan=\"2\" valign=\"top\">hdbind-rp-molclr</th>\n",
       "      <th>0.01</th>\n",
       "      <td>5.076555</td>\n",
       "      <td>4.5</td>\n",
       "      <td>0.643339</td>\n",
       "    </tr>\n",
       "    <tr>\n",
       "      <th>0.10</th>\n",
       "      <td>2.206951</td>\n",
       "      <td>4.5</td>\n",
       "      <td>0.643339</td>\n",
       "    </tr>\n",
       "    <tr>\n",
       "      <th rowspan=\"2\" valign=\"top\">hdbind-rp-molformer</th>\n",
       "      <th>0.01</th>\n",
       "      <td>3.879829</td>\n",
       "      <td>4.5</td>\n",
       "      <td>0.638319</td>\n",
       "    </tr>\n",
       "    <tr>\n",
       "      <th>0.10</th>\n",
       "      <td>2.499093</td>\n",
       "      <td>4.5</td>\n",
       "      <td>0.638319</td>\n",
       "    </tr>\n",
       "    <tr>\n",
       "      <th rowspan=\"2\" valign=\"top\">hdbind-rp-molformer-ecfp-combo</th>\n",
       "      <th>0.01</th>\n",
       "      <td>2.586553</td>\n",
       "      <td>4.5</td>\n",
       "      <td>0.702102</td>\n",
       "    </tr>\n",
       "    <tr>\n",
       "      <th>0.10</th>\n",
       "      <td>2.230463</td>\n",
       "      <td>4.5</td>\n",
       "      <td>0.702102</td>\n",
       "    </tr>\n",
       "    <tr>\n",
       "      <th rowspan=\"2\" valign=\"top\">mlp-1024-1</th>\n",
       "      <th>0.01</th>\n",
       "      <td>7.272727</td>\n",
       "      <td>4.5</td>\n",
       "      <td>0.621083</td>\n",
       "    </tr>\n",
       "    <tr>\n",
       "      <th>0.10</th>\n",
       "      <td>2.695444</td>\n",
       "      <td>4.5</td>\n",
       "      <td>0.621083</td>\n",
       "    </tr>\n",
       "    <tr>\n",
       "      <th rowspan=\"2\" valign=\"top\">molehd-bpe</th>\n",
       "      <th>0.01</th>\n",
       "      <td>1.515152</td>\n",
       "      <td>4.5</td>\n",
       "      <td>0.580638</td>\n",
       "    </tr>\n",
       "    <tr>\n",
       "      <th>0.10</th>\n",
       "      <td>1.687668</td>\n",
       "      <td>4.5</td>\n",
       "      <td>0.580638</td>\n",
       "    </tr>\n",
       "  </tbody>\n",
       "</table>\n",
       "</div>"
      ],
      "text/plain": [
       "                                           enrich  seed   roc-auc\n",
       "model                             p                              \n",
       "Vina                              0.01   1.572884   NaN       NaN\n",
       "                                  0.10   1.505012   NaN       NaN\n",
       "hdbind-directecfp-100k-4          0.01   5.076555   4.5  0.703237\n",
       "                                  0.10   3.328244   4.5  0.703237\n",
       "hdbind-directecfp-10k-4           0.01   5.076555   4.5  0.661120\n",
       "                                  0.10   2.820921   4.5  0.661120\n",
       "hdbind-directecfp-1k-4            0.01   2.176829   4.5  0.620945\n",
       "                                  0.10   1.874892   4.5  0.620945\n",
       "hdbind-directecfp-1m-4            0.01  10.547312   4.5  0.734973\n",
       "                                  0.10   3.328571   4.5  0.734973\n",
       "hdbind-molformer-decfp-combo      0.01   4.234912   4.5  0.686784\n",
       "                                  0.10   3.328244   4.5  0.686784\n",
       "hdbind-molformer-decfp-combo-100k 0.01  16.656790   4.5  0.735399\n",
       "                                  0.10   5.000000   4.5  0.735399\n",
       "hdbind-molformer-decfp-combo-1k   0.01   1.468583   4.5  0.615584\n",
       "                                  0.10   1.678819   4.5  0.615584\n",
       "hdbind-molformer-decfp-combo-1m   0.01  16.656790   2.0  0.754859\n",
       "                                  0.10   5.167244   2.0  0.754859\n",
       "hdbind-rp-ecfp-1024-1             0.01   4.150100   4.5  0.663273\n",
       "                                  0.10   2.554650   4.5  0.663273\n",
       "hdbind-rp-molclr                  0.01   5.076555   4.5  0.643339\n",
       "                                  0.10   2.206951   4.5  0.643339\n",
       "hdbind-rp-molformer               0.01   3.879829   4.5  0.638319\n",
       "                                  0.10   2.499093   4.5  0.638319\n",
       "hdbind-rp-molformer-ecfp-combo    0.01   2.586553   4.5  0.702102\n",
       "                                  0.10   2.230463   4.5  0.702102\n",
       "mlp-1024-1                        0.01   7.272727   4.5  0.621083\n",
       "                                  0.10   2.695444   4.5  0.621083\n",
       "molehd-bpe                        0.01   1.515152   4.5  0.580638\n",
       "                                  0.10   1.687668   4.5  0.580638"
      ]
     },
     "execution_count": 9,
     "metadata": {},
     "output_type": "execute_result"
    }
   ],
   "source": [
    "ave_df.groupby([\"model\", \"p\"]).median()"
   ]
  },
  {
   "cell_type": "code",
   "execution_count": 25,
   "metadata": {
    "scrolled": true
   },
   "outputs": [
    {
     "name": "stdout",
     "output_type": "stream",
     "text": [
      "492947 ADRB2\n",
      "train_actives.shape (13, 3) train_inactives.shape (234363, 3) test_actives.shape (4, 3) test_inactives.shape (78120, 3)\n",
      "dock_actives.shape (128, 23) dock_inactives.shape (2499856, 23)\n",
      "dock_actives.shape (128, 24) dock_inactives.shape (2499856, 24)\n",
      "active_lig_map_df.shape (16, 7) inactive_lig_map_df.shape (312482, 7)\n",
      "active_df.shape (128, 31) inactive_df.shape (2499856, 31)\n",
      "test_active_df.shape (32, 36) test_inactive_df.shape (628328, 36)\n",
      "test_data size (628360, 36) (78441,)\n"
     ]
    },
    {
     "name": "stderr",
     "output_type": "stream",
     "text": [
      "/var/tmp/jones289/ipykernel_1573007/4121728138.py:102: FutureWarning: Dropping of nuisance columns in DataFrame reductions (with 'numeric_only=None') is deprecated; in a future version this will raise TypeError.  Select only valid columns before calling the reduction.\n",
      "  test_df[\"min_vina\"] = test_df[test_df.columns[11:21]].min(axis=1)\n"
     ]
    },
    {
     "name": "stdout",
     "output_type": "stream",
     "text": [
      "\n",
      "1030 ALDH1\n",
      "train_actives.shape (4032, 3) train_inactives.shape (77606, 3) test_actives.shape (1344, 3) test_inactives.shape (25868, 3)\n",
      "dock_actives.shape (57336, 23) dock_inactives.shape (1103712, 23)\n",
      "dock_actives.shape (57336, 24) dock_inactives.shape (1103712, 24)\n",
      "active_lig_map_df.shape (7167, 7) inactive_lig_map_df.shape (137964, 7)\n",
      "active_df.shape (57336, 31) inactive_df.shape (1103712, 31)\n",
      "test_active_df.shape (10832, 36) test_inactive_df.shape (217136, 36)\n",
      "test_data size (227968, 36) (28021,)\n"
     ]
    },
    {
     "name": "stderr",
     "output_type": "stream",
     "text": [
      "/var/tmp/jones289/ipykernel_1573007/4121728138.py:102: FutureWarning: Dropping of nuisance columns in DataFrame reductions (with 'numeric_only=None') is deprecated; in a future version this will raise TypeError.  Select only valid columns before calling the reduction.\n",
      "  test_df[\"min_vina\"] = test_df[test_df.columns[11:21]].min(axis=1)\n"
     ]
    },
    {
     "name": "stdout",
     "output_type": "stream",
     "text": [
      "\n",
      "743075 ESR1_ago\n",
      "train_actives.shape (10, 3) train_inactives.shape (4188, 3) test_actives.shape (3, 3) test_inactives.shape (1395, 3)\n",
      "dock_actives.shape (180, 23) dock_inactives.shape (83730, 23)\n",
      "dock_actives.shape (180, 24) dock_inactives.shape (83730, 24)\n",
      "active_lig_map_df.shape (12, 7) inactive_lig_map_df.shape (5582, 7)\n",
      "active_df.shape (180, 31) inactive_df.shape (83730, 31)\n",
      "test_active_df.shape (90, 36) test_inactive_df.shape (33240, 36)\n",
      "test_data size (33330, 36) (1954,)\n",
      "\n",
      "743080 ESR1_ant\n"
     ]
    },
    {
     "name": "stderr",
     "output_type": "stream",
     "text": [
      "/var/tmp/jones289/ipykernel_1573007/4121728138.py:102: FutureWarning: Dropping of nuisance columns in DataFrame reductions (with 'numeric_only=None') is deprecated; in a future version this will raise TypeError.  Select only valid columns before calling the reduction.\n",
      "  test_df[\"min_vina\"] = test_df[test_df.columns[11:21]].min(axis=1)\n"
     ]
    },
    {
     "name": "stdout",
     "output_type": "stream",
     "text": [
      "train_actives.shape (77, 3) train_inactives.shape (3711, 3) test_actives.shape (25, 3) test_inactives.shape (1237, 3)\n",
      "dock_actives.shape (1515, 23) dock_inactives.shape (74205, 23)\n",
      "dock_actives.shape (1515, 24) dock_inactives.shape (74205, 24)\n",
      "active_lig_map_df.shape (101, 7) inactive_lig_map_df.shape (4947, 7)\n",
      "active_df.shape (1515, 31) inactive_df.shape (74205, 31)\n",
      "test_active_df.shape (645, 36) test_inactive_df.shape (29760, 36)\n",
      "test_data size (30405, 36) (1762,)\n"
     ]
    },
    {
     "name": "stderr",
     "output_type": "stream",
     "text": [
      "/var/tmp/jones289/ipykernel_1573007/4121728138.py:102: FutureWarning: Dropping of nuisance columns in DataFrame reductions (with 'numeric_only=None') is deprecated; in a future version this will raise TypeError.  Select only valid columns before calling the reduction.\n",
      "  test_df[\"min_vina\"] = test_df[test_df.columns[11:21]].min(axis=1)\n"
     ]
    },
    {
     "name": "stdout",
     "output_type": "stream",
     "text": [
      "\n",
      "588795 FEN1\n",
      "train_actives.shape (277, 3) train_inactives.shape (266552, 3) test_actives.shape (92, 3) test_inactives.shape (88850, 3)\n",
      "dock_actives.shape (368, 23) dock_inactives.shape (355401, 23)\n",
      "dock_actives.shape (368, 24) dock_inactives.shape (355401, 24)\n",
      "active_lig_map_df.shape (368, 7) inactive_lig_map_df.shape (355401, 7)\n",
      "active_df.shape (368, 31) inactive_df.shape (355401, 31)\n",
      "test_active_df.shape (102, 36) test_inactive_df.shape (91307, 36)\n",
      "test_data size (91409, 36) (90764,)\n"
     ]
    },
    {
     "name": "stderr",
     "output_type": "stream",
     "text": [
      "/var/tmp/jones289/ipykernel_1573007/4121728138.py:102: FutureWarning: Dropping of nuisance columns in DataFrame reductions (with 'numeric_only=None') is deprecated; in a future version this will raise TypeError.  Select only valid columns before calling the reduction.\n",
      "  test_df[\"min_vina\"] = test_df[test_df.columns[11:21]].min(axis=1)\n"
     ]
    },
    {
     "name": "stdout",
     "output_type": "stream",
     "text": [
      "\n",
      "2101 GBA\n",
      "train_actives.shape (125, 3) train_inactives.shape (222039, 3) test_actives.shape (41, 3) test_inactives.shape (74013, 3)\n",
      "dock_actives.shape (990, 23) dock_inactives.shape (1776306, 23)\n",
      "dock_actives.shape (990, 24) dock_inactives.shape (1776306, 24)\n",
      "active_lig_map_df.shape (165, 7) inactive_lig_map_df.shape (296051, 7)\n",
      "active_df.shape (990, 31) inactive_df.shape (1776306, 31)\n",
      "test_active_df.shape (294, 36) test_inactive_df.shape (468588, 36)\n",
      "test_data size (468882, 36) (76357,)\n"
     ]
    },
    {
     "name": "stderr",
     "output_type": "stream",
     "text": [
      "/var/tmp/jones289/ipykernel_1573007/4121728138.py:102: FutureWarning: Dropping of nuisance columns in DataFrame reductions (with 'numeric_only=None') is deprecated; in a future version this will raise TypeError.  Select only valid columns before calling the reduction.\n",
      "  test_df[\"min_vina\"] = test_df[test_df.columns[11:21]].min(axis=1)\n"
     ]
    },
    {
     "name": "stdout",
     "output_type": "stream",
     "text": [
      "\n",
      "602179 IDH1\n",
      "train_actives.shape (30, 3) train_inactives.shape (271537, 3) test_actives.shape (9, 3) test_inactives.shape (90512, 3)\n",
      "dock_actives.shape (532, 23) dock_inactives.shape (5068672, 23)\n",
      "dock_actives.shape (532, 24) dock_inactives.shape (5068672, 24)\n",
      "active_lig_map_df.shape (38, 7) inactive_lig_map_df.shape (362048, 7)\n",
      "active_df.shape (532, 31) inactive_df.shape (5068672, 31)\n",
      "test_active_df.shape (140, 36) test_inactive_df.shape (1289946, 36)\n",
      "test_data size (1290086, 36) (91744,)\n"
     ]
    },
    {
     "name": "stderr",
     "output_type": "stream",
     "text": [
      "/var/tmp/jones289/ipykernel_1573007/4121728138.py:102: FutureWarning: Dropping of nuisance columns in DataFrame reductions (with 'numeric_only=None') is deprecated; in a future version this will raise TypeError.  Select only valid columns before calling the reduction.\n",
      "  test_df[\"min_vina\"] = test_df[test_df.columns[11:21]].min(axis=1)\n"
     ]
    },
    {
     "name": "stdout",
     "output_type": "stream",
     "text": [
      "\n",
      "504327 KAT2A\n",
      "train_actives.shape (146, 3) train_inactives.shape (261411, 3) test_actives.shape (48, 3) test_inactives.shape (87137, 3)\n",
      "dock_actives.shape (579, 23) dock_inactives.shape (1045641, 23)\n",
      "dock_actives.shape (579, 24) dock_inactives.shape (1045641, 24)\n",
      "active_lig_map_df.shape (193, 7) inactive_lig_map_df.shape (348547, 7)\n",
      "active_df.shape (579, 31) inactive_df.shape (1045641, 31)\n",
      "test_active_df.shape (162, 36) test_inactive_df.shape (272367, 36)\n",
      "test_data size (272529, 36) (89637,)\n"
     ]
    },
    {
     "name": "stderr",
     "output_type": "stream",
     "text": [
      "/var/tmp/jones289/ipykernel_1573007/4121728138.py:102: FutureWarning: Dropping of nuisance columns in DataFrame reductions (with 'numeric_only=None') is deprecated; in a future version this will raise TypeError.  Select only valid columns before calling the reduction.\n",
      "  test_df[\"min_vina\"] = test_df[test_df.columns[11:21]].min(axis=1)\n"
     ]
    },
    {
     "name": "stdout",
     "output_type": "stream",
     "text": [
      "\n",
      "995 MAPK1\n",
      "train_actives.shape (231, 3) train_inactives.shape (46972, 3) test_actives.shape (77, 3) test_inactives.shape (15657, 3)\n",
      "dock_actives.shape (4605, 23) dock_inactives.shape (939420, 23)\n",
      "dock_actives.shape (4605, 24) dock_inactives.shape (939420, 24)\n",
      "active_lig_map_df.shape (307, 7) inactive_lig_map_df.shape (62628, 7)\n",
      "active_df.shape (4605, 31) inactive_df.shape (939420, 31)\n",
      "test_active_df.shape (1155, 36) test_inactive_df.shape (245190, 36)\n",
      "test_data size (246345, 36) (16193,)\n"
     ]
    },
    {
     "name": "stderr",
     "output_type": "stream",
     "text": [
      "/var/tmp/jones289/ipykernel_1573007/4121728138.py:102: FutureWarning: Dropping of nuisance columns in DataFrame reductions (with 'numeric_only=None') is deprecated; in a future version this will raise TypeError.  Select only valid columns before calling the reduction.\n",
      "  test_df[\"min_vina\"] = test_df[test_df.columns[11:21]].min(axis=1)\n"
     ]
    },
    {
     "name": "stdout",
     "output_type": "stream",
     "text": [
      "\n",
      "493208 MTORC1\n",
      "train_actives.shape (73, 3) train_inactives.shape (24729, 3) test_actives.shape (24, 3) test_inactives.shape (8243, 3)\n"
     ]
    },
    {
     "name": "stderr",
     "output_type": "stream",
     "text": [
      "/var/tmp/jones289/ipykernel_1573007/4121728138.py:24: DtypeWarning: Columns (12,13,14) have mixed types. Specify dtype option on import or set low_memory=False.\n",
      "  dock_inactives = pd.read_csv(f\"/p/vast1/jones289/LIT-PCBA-Data/{target_name}-inactives.csv\")\n"
     ]
    },
    {
     "name": "stdout",
     "output_type": "stream",
     "text": [
      "dock_actives.shape (1056, 23) dock_inactives.shape (362681, 23)\n",
      "dock_actives.shape (1056, 24) dock_inactives.shape (362681, 24)\n",
      "active_lig_map_df.shape (96, 7) inactive_lig_map_df.shape (32971, 7)\n",
      "active_df.shape (1056, 31) inactive_df.shape (362681, 31)\n",
      "test_active_df.shape (264, 36) test_inactive_df.shape (90684, 36)\n",
      "test_data size (90948, 36) (8268,)\n"
     ]
    },
    {
     "name": "stderr",
     "output_type": "stream",
     "text": [
      "/var/tmp/jones289/ipykernel_1573007/4121728138.py:102: FutureWarning: Dropping of nuisance columns in DataFrame reductions (with 'numeric_only=None') is deprecated; in a future version this will raise TypeError.  Select only valid columns before calling the reduction.\n",
      "  test_df[\"min_vina\"] = test_df[test_df.columns[11:21]].min(axis=1)\n"
     ]
    },
    {
     "name": "stdout",
     "output_type": "stream",
     "text": [
      "\n",
      "1777 OPRK1\n",
      "train_actives.shape (18, 3) train_inactives.shape (202362, 3) test_actives.shape (6, 3) test_inactives.shape (67454, 3)\n",
      "dock_actives.shape (23, 23) dock_inactives.shape (269815, 23)\n",
      "dock_actives.shape (23, 24) dock_inactives.shape (269815, 24)\n",
      "active_lig_map_df.shape (23, 7) inactive_lig_map_df.shape (269815, 7)\n",
      "active_df.shape (23, 31) inactive_df.shape (269815, 31)\n",
      "test_active_df.shape (5, 36) test_inactive_df.shape (67626, 36)\n",
      "test_data size (67631, 36) (67595,)\n",
      "\n",
      "1631 PKM2\n"
     ]
    },
    {
     "name": "stderr",
     "output_type": "stream",
     "text": [
      "/var/tmp/jones289/ipykernel_1573007/4121728138.py:102: FutureWarning: Dropping of nuisance columns in DataFrame reductions (with 'numeric_only=None') is deprecated; in a future version this will raise TypeError.  Select only valid columns before calling the reduction.\n",
      "  test_df[\"min_vina\"] = test_df[test_df.columns[11:21]].min(axis=1)\n"
     ]
    },
    {
     "name": "stdout",
     "output_type": "stream",
     "text": [
      "train_actives.shape (410, 3) train_inactives.shape (184143, 3) test_actives.shape (136, 3) test_inactives.shape (61380, 3)\n",
      "dock_actives.shape (4905, 23) dock_inactives.shape (2209698, 23)\n",
      "dock_actives.shape (4905, 24) dock_inactives.shape (2209698, 24)\n",
      "active_lig_map_df.shape (545, 7) inactive_lig_map_df.shape (245522, 7)\n",
      "active_df.shape (4905, 31) inactive_df.shape (2209698, 31)\n",
      "test_active_df.shape (1224, 36) test_inactive_df.shape (556614, 36)\n",
      "test_data size (557838, 36) (61857,)\n"
     ]
    },
    {
     "name": "stderr",
     "output_type": "stream",
     "text": [
      "/var/tmp/jones289/ipykernel_1573007/4121728138.py:102: FutureWarning: Dropping of nuisance columns in DataFrame reductions (with 'numeric_only=None') is deprecated; in a future version this will raise TypeError.  Select only valid columns before calling the reduction.\n",
      "  test_df[\"min_vina\"] = test_df[test_df.columns[11:21]].min(axis=1)\n"
     ]
    },
    {
     "name": "stdout",
     "output_type": "stream",
     "text": [
      "\n",
      "743094 PPARG\n",
      "train_actives.shape (21, 3) train_inactives.shape (3909, 3) test_actives.shape (6, 3) test_inactives.shape (1302, 3)\n",
      "dock_actives.shape (390, 23) dock_inactives.shape (78150, 23)\n",
      "dock_actives.shape (390, 24) dock_inactives.shape (78150, 24)\n",
      "active_lig_map_df.shape (26, 7) inactive_lig_map_df.shape (5210, 7)\n",
      "active_df.shape (390, 31) inactive_df.shape (78150, 31)\n",
      "test_active_df.shape (180, 36) test_inactive_df.shape (32010, 36)\n",
      "test_data size (32190, 36) (1829,)\n",
      "\n",
      "651631 TP53\n",
      "train_actives.shape (60, 3) train_inactives.shape (3126, 3) test_actives.shape (19, 3) test_inactives.shape (1042, 3)\n"
     ]
    },
    {
     "name": "stderr",
     "output_type": "stream",
     "text": [
      "/var/tmp/jones289/ipykernel_1573007/4121728138.py:102: FutureWarning: Dropping of nuisance columns in DataFrame reductions (with 'numeric_only=None') is deprecated; in a future version this will raise TypeError.  Select only valid columns before calling the reduction.\n",
      "  test_df[\"min_vina\"] = test_df[test_df.columns[11:21]].min(axis=1)\n"
     ]
    },
    {
     "name": "stdout",
     "output_type": "stream",
     "text": [
      "dock_actives.shape (468, 23) dock_inactives.shape (25002, 23)\n",
      "dock_actives.shape (468, 24) dock_inactives.shape (25002, 24)\n",
      "active_lig_map_df.shape (78, 7) inactive_lig_map_df.shape (4167, 7)\n",
      "active_df.shape (468, 31) inactive_df.shape (25002, 31)\n",
      "test_active_df.shape (144, 36) test_inactive_df.shape (9816, 36)\n",
      "test_data size (9960, 36) (1436,)\n",
      "\n",
      "504847 VDR\n"
     ]
    },
    {
     "name": "stderr",
     "output_type": "stream",
     "text": [
      "/var/tmp/jones289/ipykernel_1573007/4121728138.py:102: FutureWarning: Dropping of nuisance columns in DataFrame reductions (with 'numeric_only=None') is deprecated; in a future version this will raise TypeError.  Select only valid columns before calling the reduction.\n",
      "  test_df[\"min_vina\"] = test_df[test_df.columns[11:21]].min(axis=1)\n"
     ]
    },
    {
     "name": "stdout",
     "output_type": "stream",
     "text": [
      "train_actives.shape (498, 3) train_inactives.shape (199906, 3) test_actives.shape (165, 3) test_inactives.shape (66635, 3)\n",
      "dock_actives.shape (1766, 23) dock_inactives.shape (710774, 23)\n",
      "dock_actives.shape (1766, 24) dock_inactives.shape (710774, 24)\n",
      "active_lig_map_df.shape (883, 7) inactive_lig_map_df.shape (355387, 7)\n",
      "active_df.shape (1766, 31) inactive_df.shape (710774, 31)\n",
      "test_active_df.shape (344, 36) test_inactive_df.shape (138092, 36)\n",
      "test_data size (138436, 36) (68454,)\n"
     ]
    },
    {
     "name": "stderr",
     "output_type": "stream",
     "text": [
      "/var/tmp/jones289/ipykernel_1573007/4121728138.py:102: FutureWarning: Dropping of nuisance columns in DataFrame reductions (with 'numeric_only=None') is deprecated; in a future version this will raise TypeError.  Select only valid columns before calling the reduction.\n",
      "  test_df[\"min_vina\"] = test_df[test_df.columns[11:21]].min(axis=1)\n"
     ]
    },
    {
     "name": "stdout",
     "output_type": "stream",
     "text": [
      "\n"
     ]
    },
    {
     "name": "stderr",
     "output_type": "stream",
     "text": [
      "  0%|          | 0/8 [00:00<?, ?it/s]"
     ]
    },
    {
     "name": "stdout",
     "output_type": "stream",
     "text": [
      "ADRB2 /p/vast1/jones289/hd_results/5/molehd-bpe.lit-pcba-ADRB2-random.5.pkl molehd-bpe\n"
     ]
    },
    {
     "name": "stderr",
     "output_type": "stream",
     "text": []
    },
    {
     "name": "stdout",
     "output_type": "stream",
     "text": [
      "ALDH1 /p/vast1/jones289/hd_results/5/molehd-bpe.lit-pcba-ALDH1-random.5.pkl molehd-bpe\n",
      "ESR1_ago /p/vast1/jones289/hd_results/5/molehd-bpe.lit-pcba-ESR1_ago-random.5.pkl molehd-bpe\n",
      "ESR1_ant /p/vast1/jones289/hd_results/5/molehd-bpe.lit-pcba-ESR1_ant-random.5.pkl molehd-bpe\n",
      "FEN1 /p/vast1/jones289/hd_results/5/molehd-bpe.lit-pcba-FEN1-random.5.pkl molehd-bpe\n"
     ]
    },
    {
     "name": "stderr",
     "output_type": "stream",
     "text": []
    },
    {
     "name": "stdout",
     "output_type": "stream",
     "text": [
      "GBA /p/vast1/jones289/hd_results/5/molehd-bpe.lit-pcba-GBA-random.5.pkl molehd-bpe\n"
     ]
    },
    {
     "name": "stderr",
     "output_type": "stream",
     "text": []
    },
    {
     "name": "stdout",
     "output_type": "stream",
     "text": [
      "IDH1 /p/vast1/jones289/hd_results/5/molehd-bpe.lit-pcba-IDH1-random.5.pkl molehd-bpe\n"
     ]
    },
    {
     "name": "stderr",
     "output_type": "stream",
     "text": []
    },
    {
     "name": "stdout",
     "output_type": "stream",
     "text": [
      "KAT2A /p/vast1/jones289/hd_results/5/molehd-bpe.lit-pcba-KAT2A-random.5.pkl molehd-bpe\n"
     ]
    },
    {
     "name": "stderr",
     "output_type": "stream",
     "text": []
    },
    {
     "name": "stdout",
     "output_type": "stream",
     "text": [
      "MAPK1 /p/vast1/jones289/hd_results/5/molehd-bpe.lit-pcba-MAPK1-random.5.pkl molehd-bpe\n",
      "MTORC1 /p/vast1/jones289/hd_results/5/molehd-bpe.lit-pcba-MTORC1-random.5.pkl molehd-bpe\n",
      "OPRK1 /p/vast1/jones289/hd_results/5/molehd-bpe.lit-pcba-OPRK1-random.5.pkl molehd-bpe\n"
     ]
    },
    {
     "name": "stderr",
     "output_type": "stream",
     "text": []
    },
    {
     "name": "stdout",
     "output_type": "stream",
     "text": [
      "PKM2 /p/vast1/jones289/hd_results/5/molehd-bpe.lit-pcba-PKM2-random.5.pkl molehd-bpe\n"
     ]
    },
    {
     "name": "stderr",
     "output_type": "stream",
     "text": []
    },
    {
     "name": "stdout",
     "output_type": "stream",
     "text": [
      "PPARG /p/vast1/jones289/hd_results/5/molehd-bpe.lit-pcba-PPARG-random.5.pkl molehd-bpe\n",
      "TP53 /p/vast1/jones289/hd_results/5/molehd-bpe.lit-pcba-TP53-random.5.pkl molehd-bpe\n",
      "VDR /p/vast1/jones289/hd_results/5/molehd-bpe.lit-pcba-VDR-random.5.pkl molehd-bpe\n"
     ]
    },
    {
     "name": "stderr",
     "output_type": "stream",
     "text": [
      "100%|██████████| 15/15 [00:03<00:00,  4.88it/s]\n",
      " 12%|█▎        | 1/8 [00:03<00:21,  3.08s/it]"
     ]
    },
    {
     "name": "stdout",
     "output_type": "stream",
     "text": [
      "ADRB2 /p/vast1/jones289/hd_results/5/hdbind-rp-ecfp-1024-1.lit-pcba-ADRB2-random.5.pkl hdbind-rp-ecfp-1024-1\n"
     ]
    },
    {
     "name": "stderr",
     "output_type": "stream",
     "text": []
    },
    {
     "name": "stdout",
     "output_type": "stream",
     "text": [
      "ALDH1 /p/vast1/jones289/hd_results/5/hdbind-rp-ecfp-1024-1.lit-pcba-ALDH1-random.5.pkl hdbind-rp-ecfp-1024-1\n",
      "ESR1_ago /p/vast1/jones289/hd_results/5/hdbind-rp-ecfp-1024-1.lit-pcba-ESR1_ago-random.5.pkl hdbind-rp-ecfp-1024-1\n",
      "ESR1_ant /p/vast1/jones289/hd_results/5/hdbind-rp-ecfp-1024-1.lit-pcba-ESR1_ant-random.5.pkl hdbind-rp-ecfp-1024-1\n",
      "FEN1 /p/vast1/jones289/hd_results/5/hdbind-rp-ecfp-1024-1.lit-pcba-FEN1-random.5.pkl hdbind-rp-ecfp-1024-1\n"
     ]
    },
    {
     "name": "stderr",
     "output_type": "stream",
     "text": []
    },
    {
     "name": "stdout",
     "output_type": "stream",
     "text": [
      "GBA /p/vast1/jones289/hd_results/5/hdbind-rp-ecfp-1024-1.lit-pcba-GBA-random.5.pkl hdbind-rp-ecfp-1024-1\n"
     ]
    },
    {
     "name": "stderr",
     "output_type": "stream",
     "text": []
    },
    {
     "name": "stdout",
     "output_type": "stream",
     "text": [
      "IDH1 /p/vast1/jones289/hd_results/5/hdbind-rp-ecfp-1024-1.lit-pcba-IDH1-random.5.pkl hdbind-rp-ecfp-1024-1\n"
     ]
    },
    {
     "name": "stderr",
     "output_type": "stream",
     "text": []
    },
    {
     "name": "stdout",
     "output_type": "stream",
     "text": [
      "KAT2A /p/vast1/jones289/hd_results/5/hdbind-rp-ecfp-1024-1.lit-pcba-KAT2A-random.5.pkl hdbind-rp-ecfp-1024-1\n"
     ]
    },
    {
     "name": "stderr",
     "output_type": "stream",
     "text": []
    },
    {
     "name": "stdout",
     "output_type": "stream",
     "text": [
      "MAPK1 /p/vast1/jones289/hd_results/5/hdbind-rp-ecfp-1024-1.lit-pcba-MAPK1-random.5.pkl hdbind-rp-ecfp-1024-1\n",
      "MTORC1 /p/vast1/jones289/hd_results/5/hdbind-rp-ecfp-1024-1.lit-pcba-MTORC1-random.5.pkl hdbind-rp-ecfp-1024-1\n",
      "OPRK1 /p/vast1/jones289/hd_results/5/hdbind-rp-ecfp-1024-1.lit-pcba-OPRK1-random.5.pkl hdbind-rp-ecfp-1024-1\n"
     ]
    },
    {
     "name": "stderr",
     "output_type": "stream",
     "text": []
    },
    {
     "name": "stdout",
     "output_type": "stream",
     "text": [
      "PKM2 /p/vast1/jones289/hd_results/5/hdbind-rp-ecfp-1024-1.lit-pcba-PKM2-random.5.pkl hdbind-rp-ecfp-1024-1\n"
     ]
    },
    {
     "name": "stderr",
     "output_type": "stream",
     "text": []
    },
    {
     "name": "stdout",
     "output_type": "stream",
     "text": [
      "PPARG /p/vast1/jones289/hd_results/5/hdbind-rp-ecfp-1024-1.lit-pcba-PPARG-random.5.pkl hdbind-rp-ecfp-1024-1\n",
      "TP53 /p/vast1/jones289/hd_results/5/hdbind-rp-ecfp-1024-1.lit-pcba-TP53-random.5.pkl hdbind-rp-ecfp-1024-1\n",
      "VDR /p/vast1/jones289/hd_results/5/hdbind-rp-ecfp-1024-1.lit-pcba-VDR-random.5.pkl hdbind-rp-ecfp-1024-1\n"
     ]
    },
    {
     "name": "stderr",
     "output_type": "stream",
     "text": [
      "100%|██████████| 15/15 [00:03<00:00,  4.44it/s]\n",
      " 25%|██▌       | 2/8 [00:06<00:19,  3.26s/it]"
     ]
    },
    {
     "name": "stdout",
     "output_type": "stream",
     "text": [
      "ADRB2 /p/vast1/jones289/hd_results/5/hdbind-rp-molclr.lit-pcba-ADRB2-random.5.pkl hdbind-rp-molclr\n"
     ]
    },
    {
     "name": "stderr",
     "output_type": "stream",
     "text": []
    },
    {
     "name": "stdout",
     "output_type": "stream",
     "text": [
      "ALDH1 /p/vast1/jones289/hd_results/5/hdbind-rp-molclr.lit-pcba-ALDH1-random.5.pkl hdbind-rp-molclr\n",
      "ESR1_ago /p/vast1/jones289/hd_results/5/hdbind-rp-molclr.lit-pcba-ESR1_ago-random.5.pkl hdbind-rp-molclr\n",
      "ESR1_ant /p/vast1/jones289/hd_results/5/hdbind-rp-molclr.lit-pcba-ESR1_ant-random.5.pkl hdbind-rp-molclr\n",
      "FEN1 /p/vast1/jones289/hd_results/5/hdbind-rp-molclr.lit-pcba-FEN1-random.5.pkl hdbind-rp-molclr\n"
     ]
    },
    {
     "name": "stderr",
     "output_type": "stream",
     "text": []
    },
    {
     "name": "stdout",
     "output_type": "stream",
     "text": [
      "GBA /p/vast1/jones289/hd_results/5/hdbind-rp-molclr.lit-pcba-GBA-random.5.pkl hdbind-rp-molclr\n"
     ]
    },
    {
     "name": "stderr",
     "output_type": "stream",
     "text": []
    },
    {
     "name": "stdout",
     "output_type": "stream",
     "text": [
      "IDH1 /p/vast1/jones289/hd_results/5/hdbind-rp-molclr.lit-pcba-IDH1-random.5.pkl hdbind-rp-molclr\n"
     ]
    },
    {
     "name": "stderr",
     "output_type": "stream",
     "text": []
    },
    {
     "name": "stdout",
     "output_type": "stream",
     "text": [
      "KAT2A /p/vast1/jones289/hd_results/5/hdbind-rp-molclr.lit-pcba-KAT2A-random.5.pkl hdbind-rp-molclr\n"
     ]
    },
    {
     "name": "stderr",
     "output_type": "stream",
     "text": []
    },
    {
     "name": "stdout",
     "output_type": "stream",
     "text": [
      "MAPK1 /p/vast1/jones289/hd_results/5/hdbind-rp-molclr.lit-pcba-MAPK1-random.5.pkl hdbind-rp-molclr\n",
      "MTORC1 /p/vast1/jones289/hd_results/5/hdbind-rp-molclr.lit-pcba-MTORC1-random.5.pkl hdbind-rp-molclr\n",
      "OPRK1 /p/vast1/jones289/hd_results/5/hdbind-rp-molclr.lit-pcba-OPRK1-random.5.pkl hdbind-rp-molclr\n"
     ]
    },
    {
     "name": "stderr",
     "output_type": "stream",
     "text": []
    },
    {
     "name": "stdout",
     "output_type": "stream",
     "text": [
      "PKM2 /p/vast1/jones289/hd_results/5/hdbind-rp-molclr.lit-pcba-PKM2-random.5.pkl hdbind-rp-molclr\n"
     ]
    },
    {
     "name": "stderr",
     "output_type": "stream",
     "text": []
    },
    {
     "name": "stdout",
     "output_type": "stream",
     "text": [
      "PPARG /p/vast1/jones289/hd_results/5/hdbind-rp-molclr.lit-pcba-PPARG-random.5.pkl hdbind-rp-molclr\n",
      "TP53 /p/vast1/jones289/hd_results/5/hdbind-rp-molclr.lit-pcba-TP53-random.5.pkl hdbind-rp-molclr\n",
      "VDR /p/vast1/jones289/hd_results/5/hdbind-rp-molclr.lit-pcba-VDR-random.5.pkl hdbind-rp-molclr\n"
     ]
    },
    {
     "name": "stderr",
     "output_type": "stream",
     "text": [
      "100%|██████████| 15/15 [00:03<00:00,  4.58it/s]\n",
      " 38%|███▊      | 3/8 [00:09<00:16,  3.27s/it]"
     ]
    },
    {
     "name": "stdout",
     "output_type": "stream",
     "text": [
      "ADRB2 /p/vast1/jones289/hd_results/5/hdbind-rp-molformer.lit-pcba-ADRB2-random.5.pkl hdbind-rp-molformer\n"
     ]
    },
    {
     "name": "stderr",
     "output_type": "stream",
     "text": []
    },
    {
     "name": "stdout",
     "output_type": "stream",
     "text": [
      "ALDH1 /p/vast1/jones289/hd_results/5/hdbind-rp-molformer.lit-pcba-ALDH1-random.5.pkl hdbind-rp-molformer\n",
      "ESR1_ago /p/vast1/jones289/hd_results/5/hdbind-rp-molformer.lit-pcba-ESR1_ago-random.5.pkl hdbind-rp-molformer\n",
      "ESR1_ant /p/vast1/jones289/hd_results/5/hdbind-rp-molformer.lit-pcba-ESR1_ant-random.5.pkl hdbind-rp-molformer\n",
      "FEN1 /p/vast1/jones289/hd_results/5/hdbind-rp-molformer.lit-pcba-FEN1-random.5.pkl hdbind-rp-molformer\n"
     ]
    },
    {
     "name": "stderr",
     "output_type": "stream",
     "text": []
    },
    {
     "name": "stdout",
     "output_type": "stream",
     "text": [
      "GBA /p/vast1/jones289/hd_results/5/hdbind-rp-molformer.lit-pcba-GBA-random.5.pkl hdbind-rp-molformer\n",
      "IDH1 /p/vast1/jones289/hd_results/5/hdbind-rp-molformer.lit-pcba-IDH1-random.5.pkl hdbind-rp-molformer\n"
     ]
    },
    {
     "name": "stderr",
     "output_type": "stream",
     "text": []
    },
    {
     "name": "stdout",
     "output_type": "stream",
     "text": [
      "KAT2A /p/vast1/jones289/hd_results/5/hdbind-rp-molformer.lit-pcba-KAT2A-random.5.pkl hdbind-rp-molformer\n"
     ]
    },
    {
     "name": "stderr",
     "output_type": "stream",
     "text": []
    },
    {
     "name": "stdout",
     "output_type": "stream",
     "text": [
      "MAPK1 /p/vast1/jones289/hd_results/5/hdbind-rp-molformer.lit-pcba-MAPK1-random.5.pkl hdbind-rp-molformer\n",
      "MTORC1 /p/vast1/jones289/hd_results/5/hdbind-rp-molformer.lit-pcba-MTORC1-random.5.pkl hdbind-rp-molformer\n",
      "OPRK1 /p/vast1/jones289/hd_results/5/hdbind-rp-molformer.lit-pcba-OPRK1-random.5.pkl hdbind-rp-molformer\n"
     ]
    },
    {
     "name": "stderr",
     "output_type": "stream",
     "text": []
    },
    {
     "name": "stdout",
     "output_type": "stream",
     "text": [
      "PKM2 /p/vast1/jones289/hd_results/5/hdbind-rp-molformer.lit-pcba-PKM2-random.5.pkl hdbind-rp-molformer\n",
      "PPARG /p/vast1/jones289/hd_results/5/hdbind-rp-molformer.lit-pcba-PPARG-random.5.pkl hdbind-rp-molformer\n",
      "TP53 /p/vast1/jones289/hd_results/5/hdbind-rp-molformer.lit-pcba-TP53-random.5.pkl hdbind-rp-molformer\n"
     ]
    },
    {
     "name": "stderr",
     "output_type": "stream",
     "text": [
      "100%|██████████| 15/15 [00:01<00:00,  7.80it/s]\n",
      " 50%|█████     | 4/8 [00:11<00:10,  2.74s/it]"
     ]
    },
    {
     "name": "stdout",
     "output_type": "stream",
     "text": [
      "VDR /p/vast1/jones289/hd_results/5/hdbind-rp-molformer.lit-pcba-VDR-random.5.pkl hdbind-rp-molformer\n"
     ]
    },
    {
     "name": "stderr",
     "output_type": "stream",
     "text": []
    },
    {
     "name": "stdout",
     "output_type": "stream",
     "text": [
      "ADRB2 /p/vast1/jones289/hd_results/5/hdbind-directecfp-10k-4.lit-pcba-ADRB2-random.5.pkl hdbind-directecfp-10k-4\n"
     ]
    },
    {
     "name": "stderr",
     "output_type": "stream",
     "text": []
    },
    {
     "name": "stdout",
     "output_type": "stream",
     "text": [
      "ALDH1 /p/vast1/jones289/hd_results/5/hdbind-directecfp-10k-4.lit-pcba-ALDH1-random.5.pkl hdbind-directecfp-10k-4\n",
      "ESR1_ago /p/vast1/jones289/hd_results/5/hdbind-directecfp-10k-4.lit-pcba-ESR1_ago-random.5.pkl hdbind-directecfp-10k-4\n",
      "ESR1_ant /p/vast1/jones289/hd_results/5/hdbind-directecfp-10k-4.lit-pcba-ESR1_ant-random.5.pkl hdbind-directecfp-10k-4\n",
      "FEN1 /p/vast1/jones289/hd_results/5/hdbind-directecfp-10k-4.lit-pcba-FEN1-random.5.pkl hdbind-directecfp-10k-4\n"
     ]
    },
    {
     "name": "stderr",
     "output_type": "stream",
     "text": []
    },
    {
     "name": "stdout",
     "output_type": "stream",
     "text": [
      "GBA /p/vast1/jones289/hd_results/5/hdbind-directecfp-10k-4.lit-pcba-GBA-random.5.pkl hdbind-directecfp-10k-4\n"
     ]
    },
    {
     "name": "stderr",
     "output_type": "stream",
     "text": []
    },
    {
     "name": "stdout",
     "output_type": "stream",
     "text": [
      "IDH1 /p/vast1/jones289/hd_results/5/hdbind-directecfp-10k-4.lit-pcba-IDH1-random.5.pkl hdbind-directecfp-10k-4\n"
     ]
    },
    {
     "name": "stderr",
     "output_type": "stream",
     "text": []
    },
    {
     "name": "stdout",
     "output_type": "stream",
     "text": [
      "KAT2A /p/vast1/jones289/hd_results/5/hdbind-directecfp-10k-4.lit-pcba-KAT2A-random.5.pkl hdbind-directecfp-10k-4\n"
     ]
    },
    {
     "name": "stderr",
     "output_type": "stream",
     "text": []
    },
    {
     "name": "stdout",
     "output_type": "stream",
     "text": [
      "MAPK1 /p/vast1/jones289/hd_results/5/hdbind-directecfp-10k-4.lit-pcba-MAPK1-random.5.pkl hdbind-directecfp-10k-4\n",
      "MTORC1 /p/vast1/jones289/hd_results/5/hdbind-directecfp-10k-4.lit-pcba-MTORC1-random.5.pkl hdbind-directecfp-10k-4\n",
      "OPRK1 /p/vast1/jones289/hd_results/5/hdbind-directecfp-10k-4.lit-pcba-OPRK1-random.5.pkl hdbind-directecfp-10k-4\n"
     ]
    },
    {
     "name": "stderr",
     "output_type": "stream",
     "text": []
    },
    {
     "name": "stdout",
     "output_type": "stream",
     "text": [
      "PKM2 /p/vast1/jones289/hd_results/5/hdbind-directecfp-10k-4.lit-pcba-PKM2-random.5.pkl hdbind-directecfp-10k-4\n"
     ]
    },
    {
     "name": "stderr",
     "output_type": "stream",
     "text": []
    },
    {
     "name": "stdout",
     "output_type": "stream",
     "text": [
      "PPARG /p/vast1/jones289/hd_results/5/hdbind-directecfp-10k-4.lit-pcba-PPARG-random.5.pkl hdbind-directecfp-10k-4\n",
      "TP53 /p/vast1/jones289/hd_results/5/hdbind-directecfp-10k-4.lit-pcba-TP53-random.5.pkl hdbind-directecfp-10k-4\n",
      "VDR /p/vast1/jones289/hd_results/5/hdbind-directecfp-10k-4.lit-pcba-VDR-random.5.pkl hdbind-directecfp-10k-4\n"
     ]
    },
    {
     "name": "stderr",
     "output_type": "stream",
     "text": [
      "100%|██████████| 15/15 [00:03<00:00,  4.44it/s]\n",
      " 62%|██████▎   | 5/8 [00:15<00:08,  2.97s/it]"
     ]
    },
    {
     "name": "stdout",
     "output_type": "stream",
     "text": [
      "ADRB2 /p/vast1/jones289/hd_results/5/hdbind-molformer-decfp-combo.lit-pcba-ADRB2-random.5.pkl hdbind-molformer-decfp-combo\n"
     ]
    },
    {
     "name": "stderr",
     "output_type": "stream",
     "text": []
    },
    {
     "name": "stdout",
     "output_type": "stream",
     "text": [
      "ALDH1 /p/vast1/jones289/hd_results/5/hdbind-molformer-decfp-combo.lit-pcba-ALDH1-random.5.pkl hdbind-molformer-decfp-combo\n"
     ]
    },
    {
     "name": "stderr",
     "output_type": "stream",
     "text": []
    },
    {
     "name": "stdout",
     "output_type": "stream",
     "text": [
      "ESR1_ago /p/vast1/jones289/hd_results/5/hdbind-molformer-decfp-combo.lit-pcba-ESR1_ago-random.5.pkl hdbind-molformer-decfp-combo\n",
      "ESR1_ant /p/vast1/jones289/hd_results/5/hdbind-molformer-decfp-combo.lit-pcba-ESR1_ant-random.5.pkl hdbind-molformer-decfp-combo\n",
      "FEN1 /p/vast1/jones289/hd_results/5/hdbind-molformer-decfp-combo.lit-pcba-FEN1-random.5.pkl hdbind-molformer-decfp-combo\n"
     ]
    },
    {
     "name": "stderr",
     "output_type": "stream",
     "text": []
    },
    {
     "name": "stdout",
     "output_type": "stream",
     "text": [
      "GBA /p/vast1/jones289/hd_results/5/hdbind-molformer-decfp-combo.lit-pcba-GBA-random.5.pkl hdbind-molformer-decfp-combo\n"
     ]
    },
    {
     "name": "stderr",
     "output_type": "stream",
     "text": []
    },
    {
     "name": "stdout",
     "output_type": "stream",
     "text": [
      "IDH1 /p/vast1/jones289/hd_results/5/hdbind-molformer-decfp-combo.lit-pcba-IDH1-random.5.pkl hdbind-molformer-decfp-combo\n"
     ]
    },
    {
     "name": "stderr",
     "output_type": "stream",
     "text": []
    },
    {
     "name": "stdout",
     "output_type": "stream",
     "text": [
      "KAT2A /p/vast1/jones289/hd_results/5/hdbind-molformer-decfp-combo.lit-pcba-KAT2A-random.5.pkl hdbind-molformer-decfp-combo\n"
     ]
    },
    {
     "name": "stderr",
     "output_type": "stream",
     "text": []
    },
    {
     "name": "stdout",
     "output_type": "stream",
     "text": [
      "MAPK1 /p/vast1/jones289/hd_results/5/hdbind-molformer-decfp-combo.lit-pcba-MAPK1-random.5.pkl hdbind-molformer-decfp-combo\n",
      "MTORC1 /p/vast1/jones289/hd_results/5/hdbind-molformer-decfp-combo.lit-pcba-MTORC1-random.5.pkl hdbind-molformer-decfp-combo\n",
      "OPRK1 /p/vast1/jones289/hd_results/5/hdbind-molformer-decfp-combo.lit-pcba-OPRK1-random.5.pkl hdbind-molformer-decfp-combo\n"
     ]
    },
    {
     "name": "stderr",
     "output_type": "stream",
     "text": []
    },
    {
     "name": "stdout",
     "output_type": "stream",
     "text": [
      "PKM2 /p/vast1/jones289/hd_results/5/hdbind-molformer-decfp-combo.lit-pcba-PKM2-random.5.pkl hdbind-molformer-decfp-combo\n"
     ]
    },
    {
     "name": "stderr",
     "output_type": "stream",
     "text": []
    },
    {
     "name": "stdout",
     "output_type": "stream",
     "text": [
      "PPARG /p/vast1/jones289/hd_results/5/hdbind-molformer-decfp-combo.lit-pcba-PPARG-random.5.pkl hdbind-molformer-decfp-combo\n",
      "TP53 /p/vast1/jones289/hd_results/5/hdbind-molformer-decfp-combo.lit-pcba-TP53-random.5.pkl hdbind-molformer-decfp-combo\n",
      "VDR /p/vast1/jones289/hd_results/5/hdbind-molformer-decfp-combo.lit-pcba-VDR-random.5.pkl hdbind-molformer-decfp-combo\n"
     ]
    },
    {
     "name": "stderr",
     "output_type": "stream",
     "text": [
      "100%|██████████| 15/15 [00:03<00:00,  3.81it/s]\n",
      " 75%|███████▌  | 6/8 [00:19<00:06,  3.30s/it]"
     ]
    },
    {
     "name": "stdout",
     "output_type": "stream",
     "text": [
      "ADRB2 /p/vast1/jones289/hd_results/5/mlp-1024-1.lit-pcba-ADRB2-random.5.pkl mlp-1024-1\n"
     ]
    },
    {
     "name": "stderr",
     "output_type": "stream",
     "text": []
    },
    {
     "name": "stdout",
     "output_type": "stream",
     "text": [
      "ALDH1 /p/vast1/jones289/hd_results/5/mlp-1024-1.lit-pcba-ALDH1-random.5.pkl mlp-1024-1\n",
      "ESR1_ago /p/vast1/jones289/hd_results/5/mlp-1024-1.lit-pcba-ESR1_ago-random.5.pkl mlp-1024-1\n",
      "ESR1_ant /p/vast1/jones289/hd_results/5/mlp-1024-1.lit-pcba-ESR1_ant-random.5.pkl mlp-1024-1\n",
      "FEN1 /p/vast1/jones289/hd_results/5/mlp-1024-1.lit-pcba-FEN1-random.5.pkl mlp-1024-1\n"
     ]
    },
    {
     "name": "stderr",
     "output_type": "stream",
     "text": []
    },
    {
     "name": "stdout",
     "output_type": "stream",
     "text": [
      "GBA /p/vast1/jones289/hd_results/5/mlp-1024-1.lit-pcba-GBA-random.5.pkl mlp-1024-1\n"
     ]
    },
    {
     "name": "stderr",
     "output_type": "stream",
     "text": []
    },
    {
     "name": "stdout",
     "output_type": "stream",
     "text": [
      "IDH1 /p/vast1/jones289/hd_results/5/mlp-1024-1.lit-pcba-IDH1-random.5.pkl mlp-1024-1\n"
     ]
    },
    {
     "name": "stderr",
     "output_type": "stream",
     "text": []
    },
    {
     "name": "stdout",
     "output_type": "stream",
     "text": [
      "KAT2A /p/vast1/jones289/hd_results/5/mlp-1024-1.lit-pcba-KAT2A-random.5.pkl mlp-1024-1\n"
     ]
    },
    {
     "name": "stderr",
     "output_type": "stream",
     "text": []
    },
    {
     "name": "stdout",
     "output_type": "stream",
     "text": [
      "MAPK1 /p/vast1/jones289/hd_results/5/mlp-1024-1.lit-pcba-MAPK1-random.5.pkl mlp-1024-1\n",
      "MTORC1 /p/vast1/jones289/hd_results/5/mlp-1024-1.lit-pcba-MTORC1-random.5.pkl mlp-1024-1\n",
      "OPRK1 /p/vast1/jones289/hd_results/5/mlp-1024-1.lit-pcba-OPRK1-random.5.pkl mlp-1024-1\n"
     ]
    },
    {
     "name": "stderr",
     "output_type": "stream",
     "text": []
    },
    {
     "name": "stdout",
     "output_type": "stream",
     "text": [
      "PKM2 /p/vast1/jones289/hd_results/5/mlp-1024-1.lit-pcba-PKM2-random.5.pkl mlp-1024-1\n",
      "PPARG /p/vast1/jones289/hd_results/5/mlp-1024-1.lit-pcba-PPARG-random.5.pkl mlp-1024-1\n",
      "TP53 /p/vast1/jones289/hd_results/5/mlp-1024-1.lit-pcba-TP53-random.5.pkl mlp-1024-1\n",
      "VDR /p/vast1/jones289/hd_results/5/mlp-1024-1.lit-pcba-VDR-random.5.pkl mlp-1024-1\n"
     ]
    },
    {
     "name": "stderr",
     "output_type": "stream",
     "text": [
      "100%|██████████| 15/15 [00:02<00:00,  6.79it/s]\n",
      "0it [00:00, ?it/s]/8 [00:21<00:02,  2.95s/it]\n",
      "100%|██████████| 8/8 [00:21<00:00,  2.65s/it]\n"
     ]
    },
    {
     "name": "stdout",
     "output_type": "stream",
     "text": [
      "['model', 'enrich', 'p', 'target', 'seed', 'roc-auc']\n",
      "[2100, 2100, 2100, 2100, 2100, 2100]\n",
      "('Vina', 0.01)\n",
      "           p     enrich\n",
      "count  15.00  15.000000\n",
      "mean    0.01   2.342352\n",
      "std     0.00   4.513678\n",
      "min     0.01   0.000000\n",
      "25%     0.01   0.568255\n",
      "50%     0.01   1.081891\n",
      "75%     0.01   1.556449\n",
      "max     0.01  17.740519\n",
      "('Vina', 0.1)\n",
      "                  p     enrich\n",
      "count  1.500000e+01  15.000000\n",
      "mean   1.000000e-01   1.773536\n",
      "std    2.872975e-17   1.069648\n",
      "min    1.000000e-01   0.000000\n",
      "25%    1.000000e-01   1.175023\n",
      "50%    1.000000e-01   1.601699\n",
      "75%    1.000000e-01   2.061838\n",
      "max    1.000000e-01   4.000000\n",
      "('hdbind-directecfp-10k-4', 0.01)\n",
      "           p     enrich\n",
      "count  15.00  15.000000\n",
      "mean    0.01  30.933643\n",
      "std     0.00  21.703926\n",
      "min     0.01   0.000000\n",
      "25%     0.01  16.177353\n",
      "50%     0.01  29.974172\n",
      "75%     0.01  39.319107\n",
      "max     0.01  83.283951\n",
      "('hdbind-directecfp-10k-4', 0.1)\n",
      "                  p     enrich\n",
      "count  1.500000e+01  15.000000\n",
      "mean   1.000000e-01   5.143580\n",
      "std    2.872975e-17   1.831802\n",
      "min    1.000000e-01   2.499840\n",
      "25%    1.000000e-01   3.785136\n",
      "50%    1.000000e-01   4.330238\n",
      "75%    1.000000e-01   6.546294\n",
      "max    1.000000e-01   8.333333\n",
      "('hdbind-molformer-decfp-combo', 0.01)\n",
      "           p     enrich\n",
      "count  15.00  15.000000\n",
      "mean    0.01  34.223573\n",
      "std     0.00  18.863851\n",
      "min     0.01   9.992857\n",
      "25%     0.01  19.879728\n",
      "50%     0.01  29.974172\n",
      "75%     0.01  46.877527\n",
      "max     0.01  73.289877\n",
      "('hdbind-molformer-decfp-combo', 0.1)\n",
      "                  p     enrich\n",
      "count  1.500000e+01  15.000000\n",
      "mean   1.000000e-01   5.996920\n",
      "std    2.872975e-17   1.655133\n",
      "min    1.000000e-01   2.754976\n",
      "25%    1.000000e-01   5.005185\n",
      "50%    1.000000e-01   5.359626\n",
      "75%    1.000000e-01   7.505025\n",
      "max    1.000000e-01   8.216745\n",
      "('hdbind-rp-ecfp-1024-1', 0.01)\n",
      "           p     enrich\n",
      "count  15.00  15.000000\n",
      "mean    0.01  25.051066\n",
      "std     0.00  22.014785\n",
      "min     0.01   0.000000\n",
      "25%     0.01  10.412107\n",
      "50%     0.01  21.722869\n",
      "75%     0.01  28.723899\n",
      "max     0.01  83.283951\n",
      "('hdbind-rp-ecfp-1024-1', 0.1)\n",
      "                  p     enrich\n",
      "count  1.500000e+01  15.000000\n",
      "mean   1.000000e-01   5.042508\n",
      "std    2.872975e-17   2.378700\n",
      "min    1.000000e-01   0.000000\n",
      "25%    1.000000e-01   4.234516\n",
      "50%    1.000000e-01   4.999558\n",
      "75%    1.000000e-01   5.679781\n",
      "max    1.000000e-01  10.000000\n",
      "('hdbind-rp-molclr', 0.01)\n",
      "           p     enrich\n",
      "count  15.00  15.000000\n",
      "mean    0.01  22.974930\n",
      "std     0.00  19.510426\n",
      "min     0.01   3.735542\n",
      "25%     0.01   8.293760\n",
      "50%     0.01  17.640719\n",
      "75%     0.01  27.474417\n",
      "max     0.01  68.292842\n",
      "('hdbind-rp-molclr', 0.1)\n",
      "                  p     enrich\n",
      "count  1.500000e+01  15.000000\n",
      "mean   1.000000e-01   4.570286\n",
      "std    2.872975e-17   2.022980\n",
      "min    1.000000e-01   2.040723\n",
      "25%    1.000000e-01   3.102707\n",
      "50%    1.000000e-01   4.262635\n",
      "75%    1.000000e-01   5.608735\n",
      "max    1.000000e-01   8.333333\n",
      "('hdbind-rp-molformer', 0.01)\n",
      "           p     enrich\n",
      "count  15.00  15.000000\n",
      "mean    0.01  27.310586\n",
      "std     0.00  23.564764\n",
      "min     0.01   0.000000\n",
      "25%     0.01  11.221599\n",
      "50%     0.01  23.668461\n",
      "75%     0.01  39.991448\n",
      "max     0.01  83.283951\n",
      "('hdbind-rp-molformer', 0.1)\n",
      "                  p     enrich\n",
      "count  1.500000e+01  15.000000\n",
      "mean   1.000000e-01   5.277706\n",
      "std    2.872975e-17   2.542767\n",
      "min    1.000000e-01   0.000000\n",
      "25%    1.000000e-01   3.614028\n",
      "50%    1.000000e-01   5.359626\n",
      "75%    1.000000e-01   7.319929\n",
      "max    1.000000e-01   9.368828\n",
      "('mlp-1024-1', 0.01)\n",
      "           p     enrich\n",
      "count  15.00  15.000000\n",
      "mean    0.01  34.830487\n",
      "std     0.00  24.163546\n",
      "min     0.01   8.665502\n",
      "25%     0.01  13.781673\n",
      "50%     0.01  34.406841\n",
      "75%     0.01  37.900720\n",
      "max     0.01  83.283951\n",
      "('mlp-1024-1', 0.1)\n",
      "                  p     enrich\n",
      "count  1.500000e+01  15.000000\n",
      "mean   1.000000e-01   5.666792\n",
      "std    2.872975e-17   1.800010\n",
      "min    1.000000e-01   2.040723\n",
      "25%    1.000000e-01   4.685266\n",
      "50%    1.000000e-01   5.278437\n",
      "75%    1.000000e-01   6.490165\n",
      "max    1.000000e-01   8.571428\n",
      "('molehd-bpe', 0.01)\n",
      "           p     enrich\n",
      "count  15.00  15.000000\n",
      "mean    0.01  14.666308\n",
      "std     0.00  17.130071\n",
      "min     0.01   0.000000\n",
      "25%     0.01   4.470798\n",
      "50%     0.01   8.722014\n",
      "75%     0.01  18.236250\n",
      "max     0.01  63.295802\n",
      "('molehd-bpe', 0.1)\n",
      "                  p     enrich\n",
      "count  1.500000e+01  15.000000\n",
      "mean   1.000000e-01   2.930089\n",
      "std    2.872975e-17   2.033348\n",
      "min    1.000000e-01   0.000000\n",
      "25%    1.000000e-01   1.674312\n",
      "50%    1.000000e-01   3.218873\n",
      "75%    1.000000e-01   4.028652\n",
      "max    1.000000e-01   7.833333\n"
     ]
    },
    {
     "data": {
      "image/png": "[encoded data removed]",
      "text/plain": [
       "<Figure size 1152x1296 with 2 Axes>"
      ]
     },
     "metadata": {
      "needs_background": "light"
     },
     "output_type": "display_data"
    }
   ],
   "source": [
    "random_df = compute_model_metric_df(model_dict=model_dict, model_list=model_10k_list, dataset=\"lit-pcba\", split=\"random\", target_list=\"all\")\n",
    "random_df.to_csv(\"lit-pcba-metrics-10k-random.csv\")"
   ]
  },
  {
   "cell_type": "code",
   "execution_count": null,
   "metadata": {},
   "outputs": [],
   "source": [
    "random_df.describe()"
   ]
  },
  {
   "cell_type": "code",
   "execution_count": null,
   "metadata": {},
   "outputs": [],
   "source": [
    "random_df.groupby([\"model\", \"p\"]).median()"
   ]
  },
  {
   "cell_type": "code",
   "execution_count": null,
   "metadata": {},
   "outputs": [],
   "source": []
  }
 ],
 "metadata": {
  "kernelspec": {
   "display_name": "HD_env",
   "language": "python",
   "name": "python3"
  },
  "language_info": {
   "codemirror_mode": {
    "name": "ipython",
    "version": 3
   },
   "file_extension": ".py",
   "mimetype": "text/x-python",
   "name": "python",
   "nbconvert_exporter": "python",
   "pygments_lexer": "ipython3",
   "version": "3.8.-1"
  }
 },
 "nbformat": 4,
 "nbformat_minor": 4
}
