{
 "cells": [
  {
   "cell_type": "markdown",
   "metadata": {},
   "source": [
    "# LIT-PCBA \n",
    "this dataset is a proposed \"more difficult\" test than DUD-E. I used a 75/25 (sklearn default) stratified split. The dataset is heavily imbalanced, like DUD-E.\n",
    "\n",
    "- UPDATE: I'm using the AVE split now"
   ]
  },
  {
   "cell_type": "code",
   "execution_count": 1,
   "metadata": {},
   "outputs": [],
   "source": [
    "import pickle\n",
    "from sklearn.metrics import roc_auc_score\n",
    "import numpy as np\n",
    "import seaborn as sns\n",
    "import torch\n",
    "import seaborn as sns\n",
    "from tqdm import tqdm\n",
    "import pandas as pd\n",
    "from pathlib import Path\n",
    "from sklearn.metrics import f1_score, recall_score\n",
    "import matplotlib.pyplot as plt\n",
    "import sys\n",
    "# sys.path.append('..')\n",
    "sys.path.insert(0, \"/g/g13/jones289/workspace/hd-cuda-master\")\n",
    "# print(sys.path)\n",
    "import hdpy\n",
    "import hdpy.ecfp\n",
    "# from hdpy.analysis import load_pkl\n",
    "from hdpy.metrics import compute_enrichment_factor\n",
    "from pathlib import Path\n",
    "\n",
    "\n",
    "plt.rc('text', usetex=True)\n",
    "plt.rc('font', family='serif')\n",
    "plt.rc('xtick', labelsize=15)\n",
    "plt.rc('ytick', labelsize=15)\n",
    "plt.rc('axes', labelsize=17)\n",
    "plt.rc('figure', titlesize=20)\n",
    "\n",
    "\n",
    "# SEED=125\n",
    "SEED=5\n",
    "# SEED=2\n",
    "\n",
    "data_p = Path(f\"/p/vast1/jones289/hd_results/{SEED}\")"
   ]
  },
  {
   "cell_type": "code",
   "execution_count": 2,
   "metadata": {},
   "outputs": [],
   "source": [
    "green_color_pal = sns.color_palette(\"Greens\", 10)\n",
    "blue_color_pal = sns.color_palette(\"Blues\", 10)\n",
    "rocket_color_pal = sns.color_palette(\"rocket\", 10)"
   ]
  },
  {
   "cell_type": "code",
   "execution_count": 3,
   "metadata": {},
   "outputs": [],
   "source": [
    "model_dict = {\n",
    "    \"molehd-bpe\": (\"MoleHD-BPE\", rocket_color_pal[4]),\n",
    "#     \"hdbind-rp-molformer\": (\"HDBind+MolFormer\", green_color_pal[4]),\n",
    "    \"hdbind-rp-ecfp-1024-1-100\": (\"HDBind+ECFP-100\", green_color_pal[6]),\n",
    "    \"hdbind-rp-ecfp-1024-1-1k\": (\"HDBind+ECFP-1k\", green_color_pal[6]),\n",
    "    \"hdbind-rp-ecfp-1024-1\": (\"HDBind+ECFP-10k\", green_color_pal[6]),\n",
    "    \"hdbind-rp-ecfp-1024-1-100k\": (\"HDBind+ECFP-100k\", green_color_pal[6]),\n",
    "    \"hdbind-rp-ecfp-1024-1-1m\": (\"HDBind+ECFP-1m\", green_color_pal[6]),    \n",
    "    \"mlp-1024-1\": (\"MLP\", blue_color_pal[7]),\n",
    "    \"Vina\": (\"Vina\", \"salmon\"),\n",
    "}"
   ]
  },
  {
   "cell_type": "markdown",
   "metadata": {},
   "source": [
    "# LIT-PCBA Results"
   ]
  },
  {
   "cell_type": "markdown",
   "metadata": {},
   "source": [
    "export CONDA_ROOT=/usr/workspace/jones289/anaconda3-power #installed using the LC installer script\n",
    "export PATH=$CONDA_ROOT/bin:$PATH\n",
    "export CONDA_EXE=$CONDA_ROOT/bin/conda\n",
    "ml load gcc/11\n",
    "export PYTHONPATH=$PWD:$PYTHONPATH\n",
    "source activate /usr/workspace/jones289/anaconda3-power/envs/opence-1.8.0"
   ]
  },
  {
   "cell_type": "code",
   "execution_count": 4,
   "metadata": {},
   "outputs": [],
   "source": [
    "from sklearn.metrics import recall_score, precision_score, f1_score, roc_auc_score\n",
    "\n",
    "\n",
    "def compute_metrics(y_pred, y_score, y_true, p):\n",
    "#     import pdb\n",
    "#     pdb.set_trace()\n",
    "\n",
    "\n",
    "    if y_score.squeeze().ndim == 2:\n",
    "        enrich = float(compute_enrichment_factor(scores=y_score[:, 1], labels=y_true, n_percent=p))\n",
    "        roc = roc_auc_score(y_score=y_score[:, 1], y_true=y_true)\n",
    "    else:\n",
    "        enrich = float(compute_enrichment_factor(scores=y_score, labels=y_true, n_percent=p))\n",
    "        roc = roc_auc_score(y_score=y_score, y_true=y_true)\n",
    "\n",
    "    \n",
    "    \n",
    "    return {\"precision\": precision_score(y_pred=y_pred, y_true=y_true, zero_division=0),\n",
    "            \"recall\": recall_score(y_pred=y_pred, y_true=y_true),\n",
    "           \"f1\": f1_score(y_pred=y_pred, y_true=y_true, zero_division=0),\n",
    "            \"enrich\": enrich,            \n",
    "           \"roc\": roc\n",
    "           }\n",
    "\n",
    "\n",
    "def aggregate_results(dataset, split):\n",
    "    \n",
    "    \n",
    "    \n",
    "    if split == \"random\":\n",
    "        raise NotImplementedError # rename the files with \"-random\" to be consistent\n",
    "        \n",
    "    \n",
    "    model_metric_dict = {\"model\": [], \"enrich\": [], \"p\":[], \"train_time\":[], \"test_time\": [], \"target\": [],\n",
    "                        \"seed\": [], \"recall\": [], \"precision\": [], \"f1\": [], \n",
    "                        }\n",
    "\n",
    "    \n",
    "    \n",
    "    df_list = []\n",
    "    for model_name, model_tup in tqdm(model_dict.items(), total=len(model_dict), position=0):\n",
    "                        \n",
    "\n",
    "        data_path_list = list(data_p.glob(f\"{model_name}.{dataset}-*-{split}*.pkl\"))\n",
    "        print(f\"{model_name}\\t{dataset}\\t{len(model_tup)}\\t {len(data_path_list)}\")\n",
    "\n",
    "        \n",
    "\n",
    "        for path in tqdm(data_path_list, total=len(data_path_list), position=1):\n",
    "            target = path.name.split(\".\")[1]\n",
    "\n",
    "            print(target, path, model_name)\n",
    "\n",
    "            \n",
    "#             model_data_dict = pd.read_pickle(path)\n",
    "\n",
    "            try:\n",
    "                model_data_dict = torch.load(path)\n",
    "#                 model_data_dict = np.load(path)\n",
    "            except RuntimeError as e:\n",
    "                print(e)\n",
    "                print(\"fixing pickle and saving as pytorch object\")\n",
    "                with open(path, \"rb\") as handle:\n",
    "                    model_data_dict = pickle.load(handle)\n",
    "                    torch.save(model_data_dict, path)\n",
    "            \n",
    "\n",
    "            \n",
    "            \n",
    "            for seed in range(len(model_data_dict['trials'])):\n",
    "                scores_smiles_dict = {\"smiles\": None,\n",
    "                                      \"model\": None,\n",
    "                                      \"target\": None, \n",
    "                                      \"score\": None,\n",
    "                                      \"seed\": None, \n",
    "                                      \"label\": None}\n",
    "    \n",
    "                \n",
    "                trial_dict = model_data_dict['trials'][seed]\n",
    "\n",
    "                y_test = model_data_dict[\"y_test\"]\n",
    "\n",
    "#                 import pdb\n",
    "#                 pdb.set_trace()\n",
    "                if \"mlp\" in model_name:\n",
    "                    scores_smiles_dict[\"score\"] = model_data_dict['trials'][seed][\"eta\"].reshape(-1,2)[:,1].flatten()\n",
    "                    \n",
    "                else:\n",
    "                    scores_smiles_dict[\"score\"] = model_data_dict['trials'][seed][\"eta\"].flatten()\n",
    "\n",
    "\n",
    "\n",
    "                scores_smiles_dict[\"smiles\"] = model_data_dict[\"smiles_test\"]\n",
    "                scores_smiles_dict[\"target\"] = np.array([target]*len(y_test)).flatten()\n",
    "                scores_smiles_dict[\"label\"] = model_data_dict['trials'][seed][\"y_true\"].flatten()\n",
    "                scores_smiles_dict[\"model\"] = np.array([model_name]*len(y_test)).flatten()\n",
    "                scores_smiles_dict[\"seed\"] = np.array([seed]*len(y_test)).flatten()\n",
    "                \n",
    "#                 for key, value in scores_smiles_dict.items():\n",
    "#                     print(key, value.shape)\n",
    "            \n",
    "                df_list.append(pd.DataFrame(scores_smiles_dict))\n",
    "#                 import pdb\n",
    "#                 pdb.set_trace()\n",
    "                actives_database = sum(y_test)\n",
    "                database_size = y_test.shape[0]\n",
    "\n",
    "\n",
    "\n",
    "                hdc_conf_scores = trial_dict[\"eta\"]\n",
    "                for p in [.01, .1]:\n",
    "\n",
    "                    try:\n",
    "\n",
    "                        metrics = compute_metrics(y_pred=trial_dict[\"y_pred\"], \n",
    "                                                  y_score=hdc_conf_scores, \n",
    "                                                  y_true=model_data_dict[\"y_test\"],\n",
    "                                                 p=p)\n",
    "\n",
    "                        model_metric_dict[\"target\"].append(target)\n",
    "                        model_metric_dict[\"test_time\"].append(trial_dict[\"test_time\"])\n",
    "                        model_metric_dict[\"enrich\"].append(metrics[\"enrich\"])\n",
    "                        model_metric_dict[\"p\"].append(p)\n",
    "                        model_metric_dict[\"seed\"].append(seed)\n",
    "                        model_metric_dict[\"precision\"].append(metrics[\"precision\"])\n",
    "                        model_metric_dict[\"recall\"].append(metrics[\"recall\"])\n",
    "                        model_metric_dict[\"f1\"].append(metrics[\"f1\"])\n",
    "                        model_metric_dict[\"model\"].append(model_name)\n",
    "                    except Exception as e:\n",
    "                        print(e)\n",
    "\n",
    "\n",
    "    model_metric_df = pd.DataFrame({key: value for key, value in model_metric_dict.items() if key not in [\"train_time\", \"test_time\", \"precision\", \"recall\", \"f1\"]})\n",
    "#     return model_metric_df, pd.DataFrame(scores_smiles_dict)\n",
    "#     return model_metric_df, None\n",
    "    return model_metric_df, df_list\n",
    "        \n"
   ]
  },
  {
   "cell_type": "code",
   "execution_count": 5,
   "metadata": {},
   "outputs": [],
   "source": [
    "# litpcba_df, smiles_scores_df = aggregate_results(dataset=\"lit-pcba\", split=\"ave\")"
   ]
  },
  {
   "cell_type": "code",
   "execution_count": 6,
   "metadata": {},
   "outputs": [],
   "source": [
    "# lit_pcba_scores_df = pd.concat(smiles_scores_df)"
   ]
  },
  {
   "cell_type": "code",
   "execution_count": 7,
   "metadata": {},
   "outputs": [],
   "source": [
    "# lit_pcba_scores_df.groupby([\"model\", \"target\", \"smiles\"])[\"score\"].mean()"
   ]
  },
  {
   "cell_type": "markdown",
   "metadata": {},
   "source": [
    "# VINA result"
   ]
  },
  {
   "cell_type": "code",
   "execution_count": 8,
   "metadata": {},
   "outputs": [],
   "source": [
    "from pathlib import Path\n",
    "\n",
    "def load_lit_pcba_vina(nrows=None):\n",
    "    root_p = Path(\"/p/lustre2/ahashare/zhang30/LIT-PCBA-Data/\")\n",
    "    lig_map_p = Path(\"/p/lustre2/ahashare/zhang30/LIT-PCBA-Data/lig_rec/\")\n",
    "#     /p/lustre2/ahashare/zhang30/LIT-PCBA-Data/lig_rec/ # this path stores the map between conveyor and the original files\n",
    "    \n",
    "    \n",
    "    \n",
    "    \n",
    "    path_list = [path for path in root_p.glob(\"*-actives.csv\")]\n",
    "#     import pdb\n",
    "#     pdb.set_trace()\n",
    "#     path_list = [path_list[0]]\n",
    "\n",
    "    df_list = []\n",
    "\n",
    "    for idx, path in tqdm(enumerate(path_list), total=len(path_list)):\n",
    "        print(idx, path)\n",
    "        \n",
    "        target = path.name.split(\".\")[0].split(\"-\")[0]\n",
    "#         print(target, idx+1, path)\n",
    "\n",
    "        \n",
    "        active_lig_map = pd.read_csv(lig_map_p / f\"lig-{target}-actives.csv\")\n",
    "        inactive_lig_map = pd.read_csv(lig_map_p / f\"lig-{target}-inactives.csv\")\n",
    "        \n",
    "        lig_map = pd.concat([active_lig_map, inactive_lig_map])\n",
    "        \n",
    "        active_smiles_df = pd.read_csv(f\"/p/vast1/jones289/lit_pcba/{target}/actives.smi\", delim_whitespace=True, header=None)\n",
    "        inactive_smiles_df = pd.read_csv(f\"/p/vast1/jones289/lit_pcba/{target}/inactives.smi\", delim_whitespace=True, header=None)\n",
    "        smiles_df = pd.concat([active_smiles_df, inactive_smiles_df])\n",
    "\n",
    "        \n",
    "        target_df = pd.merge(lig_map, smiles_df, left_on=\" name\", right_on=1)\n",
    "        \n",
    "        dock_score_cols = {idx: value for idx,value in enumerate([\"file\", \"key\", \"Mesg\", \"Box/cx\", \"Box/cy\", \"Box/cz\", \"Box/dx\", \"Box/dy\", \"Box/dz\", \n",
    "                       \"ligName\", \n",
    "                       \"numPose\", \n",
    "                       \"scores/1\", \n",
    "                       \"scores/2\", \n",
    "                       \"scores/3\", \n",
    "                       \"scores/4\", \n",
    "                       \"scores/5\", \n",
    "                       \"scores/6\", \n",
    "                       \"scores/7\", \n",
    "                       \"scores/8\", \n",
    "                       \"scores/9\", \n",
    "                       \"scores/10\", \n",
    "                       \"Box/default\"])}\n",
    "        lig_id_col = 9\n",
    "        active_dock_scores = pd.read_csv(root_p / Path(f\"{target}-actives.csv.clean\"), header=None)\n",
    "        active_dock_scores[\"label\"] = [1] * len(active_dock_scores)\n",
    "        \n",
    "        inactive_dock_scores = pd.read_csv(root_p / Path(f\"{target}-inactives.csv.clean\"), header=None)\n",
    "        inactive_dock_scores[\"label\"] = [0] * len(inactive_dock_scores)\n",
    "#         import pdb\n",
    "#         pdb.set_trace()\n",
    "        dock_scores = pd.concat([active_dock_scores, inactive_dock_scores])\n",
    "#         dock_scores = dock_scores.rename(dock_score_cols)\n",
    "        \n",
    "        \n",
    "        dock_scores['min_vina'] = dock_scores[dock_scores.columns[11:21]].min(axis=1)\n",
    "        \n",
    "        \n",
    "        dock_scores = dock_scores.groupby(lig_id_col)[[lig_id_col, 'min_vina', 'label']].min().reset_index(drop=True)\n",
    "        \n",
    "        \n",
    "        target_df = pd.merge(dock_scores, target_df, left_on=9, right_on=\" name\")\n",
    "        \n",
    "        target_df[\"target\"] = [target] * len(target_df)\n",
    "        \n",
    "        \n",
    "#         import pdb\n",
    "#         pdb.set_trace()\n",
    "        \n",
    "        \n",
    "        # compute enrichment at 1% and 10%\n",
    "        \n",
    "        \n",
    "        df_list.append(target_df)\n",
    "        \n",
    "        \n",
    "        \n",
    "#         import pdb\n",
    "#         pdb.set_trace()\n",
    "        \n",
    "    '''\n",
    "\n",
    "        merged_df = None\n",
    "        merged_df_path = Path(f\"./lit_pcba_docking_analysis/{target}.csv\") # todo: delete this directory\n",
    "        \n",
    "#         if not merged_df_path.exists():\n",
    "        if True:\n",
    "            # can use the set of smiles in each result file\n",
    "            \n",
    "            # todo (10/18/23): is this valid?\n",
    "            # (12/12/23): ????\n",
    "#             result_pkl = Path(f\"/g/g13/jones289/workspace/hd-cuda-master/hdpy/hdpy/results/124/lit_pcba.{target}.ecfp.atomwise.0.pkl\")        \n",
    "\n",
    "\n",
    "#             target_train_smiles_list = []\n",
    "#             target_test_smiles_list = []\n",
    "\n",
    "#             with open(result_pkl, \"rb\") as handle:\n",
    "\n",
    "#                 data = pickle.load(handle)\n",
    "\n",
    "#                 target_train_smiles_list = data[\"smiles_train\"]\n",
    "#                 target_test_smiles_list = data[\"smiles_test\"]\n",
    "\n",
    "#                 print(f\"total of {len(target_train_smiles_list)} in training set, total of {len(target_test_smiles_list)} in testing set.\")\n",
    "\n",
    "#             df_cols = ['file', ' scores/1', ' ligName']\n",
    "    \n",
    "            df_cols = {idx: value for idx,value in enumerate([\"file\", \"key\", \"Mesg\", \"Box/cx\", \"Box/cy\", \"Box/cz\", \"Box/dx\", \"Box/dy\", \"Box/dz\", \n",
    "                       \"ligName\", \n",
    "                       \"numPose\", \n",
    "                       \"scores/1\", \n",
    "                       \"scores/2\", \n",
    "                       \"scores/3\", \n",
    "                       \"scores/4\", \n",
    "                       \"scores/5\", \n",
    "                       \"scores/6\", \n",
    "                       \"scores/7\", \n",
    "                       \"scores/8\", \n",
    "                       \"scores/9\", \n",
    "                       \"scores/10\", \n",
    "                       \"Box/default\"])}\n",
    "            \n",
    "            \n",
    "            \n",
    "#             active_df = pd.read_csv(root_p / Path(f\"{target}-actives.csv.clean\"), sep=\",\", usecols=df_cols, nrows=nrows)\n",
    "            active_df = pd.read_csv(root_p / Path(f\"{target}-actives.csv.clean\"), sep=\",\", nrows=nrows, header=None)\n",
    "    \n",
    "            active_df['y_true'] = [1] * len(active_df)\n",
    "\n",
    "#             inactive_df = pd.read_csv(root_p / Path(f\"{target}-inactives.csv.clean\"), sep=\",\", usecols=df_cols, nrows=nrows)\n",
    "            inactive_df = pd.read_csv(root_p / Path(f\"{target}-inactives.csv.clean\"), sep=\",\", nrows=nrows, header=None)\n",
    "            inactive_df['y_true'] = [0] * len(inactive_df)\n",
    "\n",
    "            target_df = pd.concat([active_df, inactive_df])\n",
    "            target_df = target_df.rename(df_cols)\n",
    "            import pdb\n",
    "            pdb.set_trace()\n",
    "            # this will search over all of the docking results for each target, across each of the multiple protein models\n",
    "\n",
    "            active_smiles_df = pd.read_csv(f\"/p/vast1/jones289/lit_pcba/{target}/actives.smi\", delim_whitespace=True, header=None)\n",
    "            inactive_smiles_df = pd.read_csv(f\"/p/vast1/jones289/lit_pcba/{target}/inactives.smi\", delim_whitespace=True, header=None)\n",
    "            target_smiles_df = pd.concat([active_smiles_df, inactive_smiles_df])\n",
    "\n",
    "\n",
    "\n",
    "            top_pose_target_df = target_df.groupby([' ligName'], as_index=False)[[' ligName', ' scores/1', 'y_true']].min()\n",
    "\n",
    "\n",
    "        \n",
    "            merged_df_path.parent.mkdir(exist_ok=True, parents=True)\n",
    "            merged_df = pd.merge(top_pose_target_df, target_smiles_df, left_on=\" ligName\", right_on=1)\n",
    "            merged_df = merged_df[merged_df.apply(lambda x: x[0] in target_test_smiles_list, axis=1)]\n",
    "            merged_df['target'] = [target] * len(merged_df)\n",
    "            merged_df.to_csv(merged_df_path, index=False)\n",
    "#         else:\n",
    "#             merged_df = pd.read_csv(merged_df_path)\n",
    "            \n",
    "#             if 'target' not in merged_df.columns:\n",
    "#                 merged_df['target'] = [target] * len(merged_df)\n",
    "#                 merged_df.to_csv(merged_df_path, index=False)\n",
    "\n",
    "\n",
    "\n",
    "        df_list.append(merged_df)\n",
    "\n",
    "    df = pd.concat(df_list)\n",
    "#     import pdb\n",
    "#     pdb.set_trace()\n",
    "    df['vina'] = df[' scores/1']\n",
    "    return df\n",
    "\n",
    "\n",
    "\n",
    "    '''\n",
    "    df = pd.concat(df_list)\n",
    "    return df\n",
    "#     for group in df.groupby(\"target\")"
   ]
  },
  {
   "cell_type": "code",
   "execution_count": 9,
   "metadata": {},
   "outputs": [],
   "source": [
    "# lit_pcba_vina_df = load_lit_pcba_vina()\n",
    "# lit_pcba_vina_df"
   ]
  },
  {
   "cell_type": "code",
   "execution_count": 10,
   "metadata": {},
   "outputs": [],
   "source": [
    "# lit_pcba_vina_df[' name']"
   ]
  },
  {
   "cell_type": "code",
   "execution_count": 11,
   "metadata": {},
   "outputs": [],
   "source": [
    "# merged_df = pd.merge(lit_pcba_scores_df, lit_pcba_vina_df, left_on=\"smiles\", right_on=0)\n",
    "# merged_df"
   ]
  },
  {
   "cell_type": "code",
   "execution_count": 12,
   "metadata": {},
   "outputs": [],
   "source": [
    "# for grp_name, grp_df in merged_df.groupby([\"model\", \"target\"]):\n",
    "# for grp_name, grp_df in merged_df.groupby([\"target\"]):\n",
    "#     import pdb\n",
    "#     pdb.set_trace()\n",
    "#     print(grp_name, grp_df.shape)"
   ]
  },
  {
   "cell_type": "code",
   "execution_count": 13,
   "metadata": {},
   "outputs": [],
   "source": [
    "# len(list(merged_df.groupby(\"smiles\")))"
   ]
  },
  {
   "cell_type": "code",
   "execution_count": 14,
   "metadata": {},
   "outputs": [],
   "source": [
    "def compute_model_metric_df(dataset, split):\n",
    "    \n",
    "    model_metric_df, smiles_scores_df = aggregate_results(dataset=dataset,\n",
    "                                        split=split)\n",
    "\n",
    "    docking_df = load_lit_pcba_vina()\n",
    "    \n",
    " \n",
    "    docking_dict = {\"enrich\": [], \"p\": [], \"model\": [], \"target\": []}\n",
    "\n",
    "    vina_enrich_list = []\n",
    "    target_list = []\n",
    "#     vina_col='vina'\n",
    "    vina_col='min_vina'\n",
    "#     label_col = \"y_true\"\n",
    "    label_col = \"label\"\n",
    "    for target, target_df in docking_df.groupby(\"target\"):\n",
    "#         import pdb\n",
    "#         pdb.set_trace()\n",
    "        for p in [.1, .01]:\n",
    "            enrich = compute_enrichment_factor(scores=np.abs(target_df[vina_col]), \n",
    "                                      labels=target_df[label_col], \n",
    "                                      n_percent=p)\n",
    "\n",
    "            docking_dict[\"enrich\"].append(float(enrich))\n",
    "            docking_dict[\"p\"].append(p)\n",
    "            docking_dict[\"model\"].append(\"Vina\")\n",
    "            docking_dict[\"target\"].append(target)\n",
    "            \n",
    "#     import pdb\n",
    "#     pdb.set_trace()\n",
    "    \n",
    "    \n",
    "    \n",
    "    ##################\n",
    "#     import pdb\n",
    "#     pdb.set_trace()\n",
    "    model_metric_df = pd.concat([model_metric_df, pd.DataFrame(docking_dict)])\n",
    "    \n",
    "    # Backup the calculation\n",
    "#     model_metric_df.to_csv(\"fixed_litpcba_model_metric_df.csv\")\n",
    "    \n",
    "#     import pdb\n",
    "#     pdb.set_trace()\n",
    "    return model_metric_df, smiles_scores_df\n"
   ]
  },
  {
   "cell_type": "markdown",
   "metadata": {},
   "source": []
  },
  {
   "cell_type": "code",
   "execution_count": 15,
   "metadata": {},
   "outputs": [
    {
     "name": "stderr",
     "output_type": "stream",
     "text": [
      "  0%|          | 0/8 [00:00<?, ?it/s]"
     ]
    },
    {
     "name": "stdout",
     "output_type": "stream",
     "text": [
      "molehd-bpe\tlit-pcba\t2\t 15\n"
     ]
    },
    {
     "name": "stderr",
     "output_type": "stream",
     "text": []
    },
    {
     "name": "stdout",
     "output_type": "stream",
     "text": [
      "lit-pcba-ADRB2-ave /p/vast1/jones289/hd_results/5/molehd-bpe.lit-pcba-ADRB2-ave.5.pkl molehd-bpe\n"
     ]
    },
    {
     "name": "stderr",
     "output_type": "stream",
     "text": []
    },
    {
     "name": "stdout",
     "output_type": "stream",
     "text": [
      "lit-pcba-ALDH1-ave /p/vast1/jones289/hd_results/5/molehd-bpe.lit-pcba-ALDH1-ave.5.pkl molehd-bpe\n"
     ]
    },
    {
     "name": "stderr",
     "output_type": "stream",
     "text": []
    },
    {
     "name": "stdout",
     "output_type": "stream",
     "text": [
      "lit-pcba-ESR1_ago-ave /p/vast1/jones289/hd_results/5/molehd-bpe.lit-pcba-ESR1_ago-ave.5.pkl molehd-bpe\n"
     ]
    },
    {
     "name": "stderr",
     "output_type": "stream",
     "text": []
    },
    {
     "name": "stdout",
     "output_type": "stream",
     "text": [
      "lit-pcba-ESR1_ant-ave /p/vast1/jones289/hd_results/5/molehd-bpe.lit-pcba-ESR1_ant-ave.5.pkl molehd-bpe\n"
     ]
    },
    {
     "name": "stderr",
     "output_type": "stream",
     "text": []
    },
    {
     "name": "stdout",
     "output_type": "stream",
     "text": [
      "lit-pcba-FEN1-ave /p/vast1/jones289/hd_results/5/molehd-bpe.lit-pcba-FEN1-ave.5.pkl molehd-bpe\n"
     ]
    },
    {
     "name": "stderr",
     "output_type": "stream",
     "text": []
    },
    {
     "name": "stdout",
     "output_type": "stream",
     "text": [
      "lit-pcba-GBA-ave /p/vast1/jones289/hd_results/5/molehd-bpe.lit-pcba-GBA-ave.5.pkl molehd-bpe\n"
     ]
    },
    {
     "name": "stderr",
     "output_type": "stream",
     "text": []
    },
    {
     "name": "stdout",
     "output_type": "stream",
     "text": [
      "lit-pcba-IDH1-ave /p/vast1/jones289/hd_results/5/molehd-bpe.lit-pcba-IDH1-ave.5.pkl molehd-bpe\n"
     ]
    },
    {
     "name": "stderr",
     "output_type": "stream",
     "text": []
    },
    {
     "name": "stdout",
     "output_type": "stream",
     "text": [
      "lit-pcba-KAT2A-ave /p/vast1/jones289/hd_results/5/molehd-bpe.lit-pcba-KAT2A-ave.5.pkl molehd-bpe\n"
     ]
    },
    {
     "name": "stderr",
     "output_type": "stream",
     "text": []
    },
    {
     "name": "stdout",
     "output_type": "stream",
     "text": [
      "lit-pcba-MAPK1-ave /p/vast1/jones289/hd_results/5/molehd-bpe.lit-pcba-MAPK1-ave.5.pkl molehd-bpe\n"
     ]
    },
    {
     "name": "stderr",
     "output_type": "stream",
     "text": []
    },
    {
     "name": "stdout",
     "output_type": "stream",
     "text": [
      "lit-pcba-MTORC1-ave /p/vast1/jones289/hd_results/5/molehd-bpe.lit-pcba-MTORC1-ave.5.pkl molehd-bpe\n"
     ]
    },
    {
     "name": "stderr",
     "output_type": "stream",
     "text": []
    },
    {
     "name": "stdout",
     "output_type": "stream",
     "text": [
      "lit-pcba-OPRK1-ave /p/vast1/jones289/hd_results/5/molehd-bpe.lit-pcba-OPRK1-ave.5.pkl molehd-bpe\n"
     ]
    },
    {
     "name": "stderr",
     "output_type": "stream",
     "text": []
    },
    {
     "name": "stdout",
     "output_type": "stream",
     "text": [
      "lit-pcba-PKM2-ave /p/vast1/jones289/hd_results/5/molehd-bpe.lit-pcba-PKM2-ave.5.pkl molehd-bpe\n"
     ]
    },
    {
     "name": "stderr",
     "output_type": "stream",
     "text": []
    },
    {
     "name": "stdout",
     "output_type": "stream",
     "text": [
      "lit-pcba-PPARG-ave /p/vast1/jones289/hd_results/5/molehd-bpe.lit-pcba-PPARG-ave.5.pkl molehd-bpe\n"
     ]
    },
    {
     "name": "stderr",
     "output_type": "stream",
     "text": []
    },
    {
     "name": "stdout",
     "output_type": "stream",
     "text": [
      "lit-pcba-TP53-ave /p/vast1/jones289/hd_results/5/molehd-bpe.lit-pcba-TP53-ave.5.pkl molehd-bpe\n"
     ]
    },
    {
     "name": "stderr",
     "output_type": "stream",
     "text": []
    },
    {
     "name": "stdout",
     "output_type": "stream",
     "text": [
      "lit-pcba-VDR-ave /p/vast1/jones289/hd_results/5/molehd-bpe.lit-pcba-VDR-ave.5.pkl molehd-bpe\n"
     ]
    },
    {
     "name": "stderr",
     "output_type": "stream",
     "text": [
      "100%|██████████| 15/15 [02:28<00:00,  9.91s/it]\n",
      " 12%|█▎        | 1/8 [02:28<17:20, 148.63s/it]"
     ]
    },
    {
     "name": "stdout",
     "output_type": "stream",
     "text": [
      "hdbind-rp-ecfp-1024-1-100\tlit-pcba\t2\t 15\n"
     ]
    },
    {
     "name": "stderr",
     "output_type": "stream",
     "text": []
    },
    {
     "name": "stdout",
     "output_type": "stream",
     "text": [
      "lit-pcba-ADRB2-ave /p/vast1/jones289/hd_results/5/hdbind-rp-ecfp-1024-1-100.lit-pcba-ADRB2-ave.5.pkl hdbind-rp-ecfp-1024-1-100\n"
     ]
    },
    {
     "name": "stderr",
     "output_type": "stream",
     "text": []
    },
    {
     "name": "stdout",
     "output_type": "stream",
     "text": [
      "lit-pcba-ALDH1-ave /p/vast1/jones289/hd_results/5/hdbind-rp-ecfp-1024-1-100.lit-pcba-ALDH1-ave.5.pkl hdbind-rp-ecfp-1024-1-100\n"
     ]
    },
    {
     "name": "stderr",
     "output_type": "stream",
     "text": []
    },
    {
     "name": "stdout",
     "output_type": "stream",
     "text": [
      "lit-pcba-ESR1_ago-ave /p/vast1/jones289/hd_results/5/hdbind-rp-ecfp-1024-1-100.lit-pcba-ESR1_ago-ave.5.pkl hdbind-rp-ecfp-1024-1-100\n"
     ]
    },
    {
     "name": "stderr",
     "output_type": "stream",
     "text": []
    },
    {
     "name": "stdout",
     "output_type": "stream",
     "text": [
      "lit-pcba-ESR1_ant-ave /p/vast1/jones289/hd_results/5/hdbind-rp-ecfp-1024-1-100.lit-pcba-ESR1_ant-ave.5.pkl hdbind-rp-ecfp-1024-1-100\n"
     ]
    },
    {
     "name": "stderr",
     "output_type": "stream",
     "text": []
    },
    {
     "name": "stdout",
     "output_type": "stream",
     "text": [
      "lit-pcba-FEN1-ave /p/vast1/jones289/hd_results/5/hdbind-rp-ecfp-1024-1-100.lit-pcba-FEN1-ave.5.pkl hdbind-rp-ecfp-1024-1-100\n"
     ]
    },
    {
     "name": "stderr",
     "output_type": "stream",
     "text": []
    },
    {
     "name": "stdout",
     "output_type": "stream",
     "text": [
      "lit-pcba-GBA-ave /p/vast1/jones289/hd_results/5/hdbind-rp-ecfp-1024-1-100.lit-pcba-GBA-ave.5.pkl hdbind-rp-ecfp-1024-1-100\n"
     ]
    },
    {
     "name": "stderr",
     "output_type": "stream",
     "text": []
    },
    {
     "name": "stdout",
     "output_type": "stream",
     "text": [
      "lit-pcba-IDH1-ave /p/vast1/jones289/hd_results/5/hdbind-rp-ecfp-1024-1-100.lit-pcba-IDH1-ave.5.pkl hdbind-rp-ecfp-1024-1-100\n"
     ]
    },
    {
     "name": "stderr",
     "output_type": "stream",
     "text": []
    },
    {
     "name": "stdout",
     "output_type": "stream",
     "text": [
      "lit-pcba-KAT2A-ave /p/vast1/jones289/hd_results/5/hdbind-rp-ecfp-1024-1-100.lit-pcba-KAT2A-ave.5.pkl hdbind-rp-ecfp-1024-1-100\n"
     ]
    },
    {
     "name": "stderr",
     "output_type": "stream",
     "text": []
    },
    {
     "name": "stdout",
     "output_type": "stream",
     "text": [
      "lit-pcba-MAPK1-ave /p/vast1/jones289/hd_results/5/hdbind-rp-ecfp-1024-1-100.lit-pcba-MAPK1-ave.5.pkl hdbind-rp-ecfp-1024-1-100\n"
     ]
    },
    {
     "name": "stderr",
     "output_type": "stream",
     "text": []
    },
    {
     "name": "stdout",
     "output_type": "stream",
     "text": [
      "lit-pcba-MTORC1-ave /p/vast1/jones289/hd_results/5/hdbind-rp-ecfp-1024-1-100.lit-pcba-MTORC1-ave.5.pkl hdbind-rp-ecfp-1024-1-100\n"
     ]
    },
    {
     "name": "stderr",
     "output_type": "stream",
     "text": []
    },
    {
     "name": "stdout",
     "output_type": "stream",
     "text": [
      "lit-pcba-OPRK1-ave /p/vast1/jones289/hd_results/5/hdbind-rp-ecfp-1024-1-100.lit-pcba-OPRK1-ave.5.pkl hdbind-rp-ecfp-1024-1-100\n"
     ]
    },
    {
     "name": "stderr",
     "output_type": "stream",
     "text": []
    },
    {
     "name": "stdout",
     "output_type": "stream",
     "text": [
      "lit-pcba-PKM2-ave /p/vast1/jones289/hd_results/5/hdbind-rp-ecfp-1024-1-100.lit-pcba-PKM2-ave.5.pkl hdbind-rp-ecfp-1024-1-100\n"
     ]
    },
    {
     "name": "stderr",
     "output_type": "stream",
     "text": []
    },
    {
     "name": "stdout",
     "output_type": "stream",
     "text": [
      "lit-pcba-PPARG-ave /p/vast1/jones289/hd_results/5/hdbind-rp-ecfp-1024-1-100.lit-pcba-PPARG-ave.5.pkl hdbind-rp-ecfp-1024-1-100\n"
     ]
    },
    {
     "name": "stderr",
     "output_type": "stream",
     "text": []
    },
    {
     "name": "stdout",
     "output_type": "stream",
     "text": [
      "lit-pcba-TP53-ave /p/vast1/jones289/hd_results/5/hdbind-rp-ecfp-1024-1-100.lit-pcba-TP53-ave.5.pkl hdbind-rp-ecfp-1024-1-100\n"
     ]
    },
    {
     "name": "stderr",
     "output_type": "stream",
     "text": []
    },
    {
     "name": "stdout",
     "output_type": "stream",
     "text": [
      "lit-pcba-VDR-ave /p/vast1/jones289/hd_results/5/hdbind-rp-ecfp-1024-1-100.lit-pcba-VDR-ave.5.pkl hdbind-rp-ecfp-1024-1-100\n"
     ]
    },
    {
     "name": "stderr",
     "output_type": "stream",
     "text": [
      "100%|██████████| 15/15 [02:28<00:00,  9.89s/it]\n",
      " 25%|██▌       | 2/8 [04:57<14:51, 148.52s/it]"
     ]
    },
    {
     "name": "stdout",
     "output_type": "stream",
     "text": [
      "hdbind-rp-ecfp-1024-1-1k\tlit-pcba\t2\t 15\n"
     ]
    },
    {
     "name": "stderr",
     "output_type": "stream",
     "text": []
    },
    {
     "name": "stdout",
     "output_type": "stream",
     "text": [
      "lit-pcba-ADRB2-ave /p/vast1/jones289/hd_results/5/hdbind-rp-ecfp-1024-1-1k.lit-pcba-ADRB2-ave.5.pkl hdbind-rp-ecfp-1024-1-1k\n"
     ]
    },
    {
     "name": "stderr",
     "output_type": "stream",
     "text": []
    },
    {
     "name": "stdout",
     "output_type": "stream",
     "text": [
      "lit-pcba-ALDH1-ave /p/vast1/jones289/hd_results/5/hdbind-rp-ecfp-1024-1-1k.lit-pcba-ALDH1-ave.5.pkl hdbind-rp-ecfp-1024-1-1k\n"
     ]
    },
    {
     "name": "stderr",
     "output_type": "stream",
     "text": []
    },
    {
     "name": "stdout",
     "output_type": "stream",
     "text": [
      "lit-pcba-ESR1_ago-ave /p/vast1/jones289/hd_results/5/hdbind-rp-ecfp-1024-1-1k.lit-pcba-ESR1_ago-ave.5.pkl hdbind-rp-ecfp-1024-1-1k\n"
     ]
    },
    {
     "name": "stderr",
     "output_type": "stream",
     "text": []
    },
    {
     "name": "stdout",
     "output_type": "stream",
     "text": [
      "lit-pcba-ESR1_ant-ave /p/vast1/jones289/hd_results/5/hdbind-rp-ecfp-1024-1-1k.lit-pcba-ESR1_ant-ave.5.pkl hdbind-rp-ecfp-1024-1-1k\n"
     ]
    },
    {
     "name": "stderr",
     "output_type": "stream",
     "text": []
    },
    {
     "name": "stdout",
     "output_type": "stream",
     "text": [
      "lit-pcba-FEN1-ave /p/vast1/jones289/hd_results/5/hdbind-rp-ecfp-1024-1-1k.lit-pcba-FEN1-ave.5.pkl hdbind-rp-ecfp-1024-1-1k\n"
     ]
    },
    {
     "name": "stderr",
     "output_type": "stream",
     "text": []
    },
    {
     "name": "stdout",
     "output_type": "stream",
     "text": [
      "lit-pcba-GBA-ave /p/vast1/jones289/hd_results/5/hdbind-rp-ecfp-1024-1-1k.lit-pcba-GBA-ave.5.pkl hdbind-rp-ecfp-1024-1-1k\n"
     ]
    },
    {
     "name": "stderr",
     "output_type": "stream",
     "text": []
    },
    {
     "name": "stdout",
     "output_type": "stream",
     "text": [
      "lit-pcba-IDH1-ave /p/vast1/jones289/hd_results/5/hdbind-rp-ecfp-1024-1-1k.lit-pcba-IDH1-ave.5.pkl hdbind-rp-ecfp-1024-1-1k\n"
     ]
    },
    {
     "name": "stderr",
     "output_type": "stream",
     "text": []
    },
    {
     "name": "stdout",
     "output_type": "stream",
     "text": [
      "lit-pcba-KAT2A-ave /p/vast1/jones289/hd_results/5/hdbind-rp-ecfp-1024-1-1k.lit-pcba-KAT2A-ave.5.pkl hdbind-rp-ecfp-1024-1-1k\n"
     ]
    },
    {
     "name": "stderr",
     "output_type": "stream",
     "text": []
    },
    {
     "name": "stdout",
     "output_type": "stream",
     "text": [
      "lit-pcba-MAPK1-ave /p/vast1/jones289/hd_results/5/hdbind-rp-ecfp-1024-1-1k.lit-pcba-MAPK1-ave.5.pkl hdbind-rp-ecfp-1024-1-1k\n"
     ]
    },
    {
     "name": "stderr",
     "output_type": "stream",
     "text": []
    },
    {
     "name": "stdout",
     "output_type": "stream",
     "text": [
      "lit-pcba-MTORC1-ave /p/vast1/jones289/hd_results/5/hdbind-rp-ecfp-1024-1-1k.lit-pcba-MTORC1-ave.5.pkl hdbind-rp-ecfp-1024-1-1k\n"
     ]
    },
    {
     "name": "stderr",
     "output_type": "stream",
     "text": []
    },
    {
     "name": "stdout",
     "output_type": "stream",
     "text": [
      "lit-pcba-OPRK1-ave /p/vast1/jones289/hd_results/5/hdbind-rp-ecfp-1024-1-1k.lit-pcba-OPRK1-ave.5.pkl hdbind-rp-ecfp-1024-1-1k\n"
     ]
    },
    {
     "name": "stderr",
     "output_type": "stream",
     "text": []
    },
    {
     "name": "stdout",
     "output_type": "stream",
     "text": [
      "lit-pcba-PKM2-ave /p/vast1/jones289/hd_results/5/hdbind-rp-ecfp-1024-1-1k.lit-pcba-PKM2-ave.5.pkl hdbind-rp-ecfp-1024-1-1k\n"
     ]
    },
    {
     "name": "stderr",
     "output_type": "stream",
     "text": []
    },
    {
     "name": "stdout",
     "output_type": "stream",
     "text": [
      "lit-pcba-PPARG-ave /p/vast1/jones289/hd_results/5/hdbind-rp-ecfp-1024-1-1k.lit-pcba-PPARG-ave.5.pkl hdbind-rp-ecfp-1024-1-1k\n"
     ]
    },
    {
     "name": "stderr",
     "output_type": "stream",
     "text": []
    },
    {
     "name": "stdout",
     "output_type": "stream",
     "text": [
      "lit-pcba-TP53-ave /p/vast1/jones289/hd_results/5/hdbind-rp-ecfp-1024-1-1k.lit-pcba-TP53-ave.5.pkl hdbind-rp-ecfp-1024-1-1k\n"
     ]
    },
    {
     "name": "stderr",
     "output_type": "stream",
     "text": []
    },
    {
     "name": "stdout",
     "output_type": "stream",
     "text": [
      "lit-pcba-VDR-ave /p/vast1/jones289/hd_results/5/hdbind-rp-ecfp-1024-1-1k.lit-pcba-VDR-ave.5.pkl hdbind-rp-ecfp-1024-1-1k\n"
     ]
    },
    {
     "name": "stderr",
     "output_type": "stream",
     "text": [
      "100%|██████████| 15/15 [02:27<00:00,  9.82s/it]\n",
      " 38%|███▊      | 3/8 [07:24<12:19, 147.99s/it]"
     ]
    },
    {
     "name": "stdout",
     "output_type": "stream",
     "text": [
      "hdbind-rp-ecfp-1024-1\tlit-pcba\t2\t 15\n"
     ]
    },
    {
     "name": "stderr",
     "output_type": "stream",
     "text": []
    },
    {
     "name": "stdout",
     "output_type": "stream",
     "text": [
      "lit-pcba-ADRB2-ave /p/vast1/jones289/hd_results/5/hdbind-rp-ecfp-1024-1.lit-pcba-ADRB2-ave.5.pkl hdbind-rp-ecfp-1024-1\n"
     ]
    },
    {
     "name": "stderr",
     "output_type": "stream",
     "text": []
    },
    {
     "name": "stdout",
     "output_type": "stream",
     "text": [
      "lit-pcba-ALDH1-ave /p/vast1/jones289/hd_results/5/hdbind-rp-ecfp-1024-1.lit-pcba-ALDH1-ave.5.pkl hdbind-rp-ecfp-1024-1\n"
     ]
    },
    {
     "name": "stderr",
     "output_type": "stream",
     "text": []
    },
    {
     "name": "stdout",
     "output_type": "stream",
     "text": [
      "lit-pcba-ESR1_ago-ave /p/vast1/jones289/hd_results/5/hdbind-rp-ecfp-1024-1.lit-pcba-ESR1_ago-ave.5.pkl hdbind-rp-ecfp-1024-1\n"
     ]
    },
    {
     "name": "stderr",
     "output_type": "stream",
     "text": []
    },
    {
     "name": "stdout",
     "output_type": "stream",
     "text": [
      "lit-pcba-ESR1_ant-ave /p/vast1/jones289/hd_results/5/hdbind-rp-ecfp-1024-1.lit-pcba-ESR1_ant-ave.5.pkl hdbind-rp-ecfp-1024-1\n"
     ]
    },
    {
     "name": "stderr",
     "output_type": "stream",
     "text": []
    },
    {
     "name": "stdout",
     "output_type": "stream",
     "text": [
      "lit-pcba-FEN1-ave /p/vast1/jones289/hd_results/5/hdbind-rp-ecfp-1024-1.lit-pcba-FEN1-ave.5.pkl hdbind-rp-ecfp-1024-1\n"
     ]
    },
    {
     "name": "stderr",
     "output_type": "stream",
     "text": []
    },
    {
     "name": "stdout",
     "output_type": "stream",
     "text": [
      "lit-pcba-GBA-ave /p/vast1/jones289/hd_results/5/hdbind-rp-ecfp-1024-1.lit-pcba-GBA-ave.5.pkl hdbind-rp-ecfp-1024-1\n"
     ]
    },
    {
     "name": "stderr",
     "output_type": "stream",
     "text": []
    },
    {
     "name": "stdout",
     "output_type": "stream",
     "text": [
      "lit-pcba-IDH1-ave /p/vast1/jones289/hd_results/5/hdbind-rp-ecfp-1024-1.lit-pcba-IDH1-ave.5.pkl hdbind-rp-ecfp-1024-1\n"
     ]
    },
    {
     "name": "stderr",
     "output_type": "stream",
     "text": []
    },
    {
     "name": "stdout",
     "output_type": "stream",
     "text": [
      "lit-pcba-KAT2A-ave /p/vast1/jones289/hd_results/5/hdbind-rp-ecfp-1024-1.lit-pcba-KAT2A-ave.5.pkl hdbind-rp-ecfp-1024-1\n"
     ]
    },
    {
     "name": "stderr",
     "output_type": "stream",
     "text": []
    },
    {
     "name": "stdout",
     "output_type": "stream",
     "text": [
      "lit-pcba-MAPK1-ave /p/vast1/jones289/hd_results/5/hdbind-rp-ecfp-1024-1.lit-pcba-MAPK1-ave.5.pkl hdbind-rp-ecfp-1024-1\n"
     ]
    },
    {
     "name": "stderr",
     "output_type": "stream",
     "text": []
    },
    {
     "name": "stdout",
     "output_type": "stream",
     "text": [
      "lit-pcba-MTORC1-ave /p/vast1/jones289/hd_results/5/hdbind-rp-ecfp-1024-1.lit-pcba-MTORC1-ave.5.pkl hdbind-rp-ecfp-1024-1\n"
     ]
    },
    {
     "name": "stderr",
     "output_type": "stream",
     "text": []
    },
    {
     "name": "stdout",
     "output_type": "stream",
     "text": [
      "lit-pcba-OPRK1-ave /p/vast1/jones289/hd_results/5/hdbind-rp-ecfp-1024-1.lit-pcba-OPRK1-ave.5.pkl hdbind-rp-ecfp-1024-1\n"
     ]
    },
    {
     "name": "stderr",
     "output_type": "stream",
     "text": []
    },
    {
     "name": "stdout",
     "output_type": "stream",
     "text": [
      "lit-pcba-PKM2-ave /p/vast1/jones289/hd_results/5/hdbind-rp-ecfp-1024-1.lit-pcba-PKM2-ave.5.pkl hdbind-rp-ecfp-1024-1\n"
     ]
    },
    {
     "name": "stderr",
     "output_type": "stream",
     "text": []
    },
    {
     "name": "stdout",
     "output_type": "stream",
     "text": [
      "lit-pcba-PPARG-ave /p/vast1/jones289/hd_results/5/hdbind-rp-ecfp-1024-1.lit-pcba-PPARG-ave.5.pkl hdbind-rp-ecfp-1024-1\n"
     ]
    },
    {
     "name": "stderr",
     "output_type": "stream",
     "text": []
    },
    {
     "name": "stdout",
     "output_type": "stream",
     "text": [
      "lit-pcba-TP53-ave /p/vast1/jones289/hd_results/5/hdbind-rp-ecfp-1024-1.lit-pcba-TP53-ave.5.pkl hdbind-rp-ecfp-1024-1\n"
     ]
    },
    {
     "name": "stderr",
     "output_type": "stream",
     "text": []
    },
    {
     "name": "stdout",
     "output_type": "stream",
     "text": [
      "lit-pcba-VDR-ave /p/vast1/jones289/hd_results/5/hdbind-rp-ecfp-1024-1.lit-pcba-VDR-ave.5.pkl hdbind-rp-ecfp-1024-1\n"
     ]
    },
    {
     "name": "stderr",
     "output_type": "stream",
     "text": [
      "100%|██████████| 15/15 [02:31<00:00, 10.12s/it]\n",
      " 50%|█████     | 4/8 [09:56<09:57, 149.47s/it]"
     ]
    },
    {
     "name": "stdout",
     "output_type": "stream",
     "text": [
      "hdbind-rp-ecfp-1024-1-100k\tlit-pcba\t2\t 15\n"
     ]
    },
    {
     "name": "stderr",
     "output_type": "stream",
     "text": []
    },
    {
     "name": "stdout",
     "output_type": "stream",
     "text": [
      "lit-pcba-ADRB2-ave /p/vast1/jones289/hd_results/5/hdbind-rp-ecfp-1024-1-100k.lit-pcba-ADRB2-ave.5.pkl hdbind-rp-ecfp-1024-1-100k\n"
     ]
    },
    {
     "name": "stderr",
     "output_type": "stream",
     "text": []
    },
    {
     "name": "stdout",
     "output_type": "stream",
     "text": [
      "lit-pcba-ALDH1-ave /p/vast1/jones289/hd_results/5/hdbind-rp-ecfp-1024-1-100k.lit-pcba-ALDH1-ave.5.pkl hdbind-rp-ecfp-1024-1-100k\n"
     ]
    },
    {
     "name": "stderr",
     "output_type": "stream",
     "text": []
    },
    {
     "name": "stdout",
     "output_type": "stream",
     "text": [
      "lit-pcba-ESR1_ago-ave /p/vast1/jones289/hd_results/5/hdbind-rp-ecfp-1024-1-100k.lit-pcba-ESR1_ago-ave.5.pkl hdbind-rp-ecfp-1024-1-100k\n"
     ]
    },
    {
     "name": "stderr",
     "output_type": "stream",
     "text": []
    },
    {
     "name": "stdout",
     "output_type": "stream",
     "text": [
      "lit-pcba-ESR1_ant-ave /p/vast1/jones289/hd_results/5/hdbind-rp-ecfp-1024-1-100k.lit-pcba-ESR1_ant-ave.5.pkl hdbind-rp-ecfp-1024-1-100k\n"
     ]
    },
    {
     "name": "stderr",
     "output_type": "stream",
     "text": []
    },
    {
     "name": "stdout",
     "output_type": "stream",
     "text": [
      "lit-pcba-FEN1-ave /p/vast1/jones289/hd_results/5/hdbind-rp-ecfp-1024-1-100k.lit-pcba-FEN1-ave.5.pkl hdbind-rp-ecfp-1024-1-100k\n"
     ]
    },
    {
     "name": "stderr",
     "output_type": "stream",
     "text": []
    },
    {
     "name": "stdout",
     "output_type": "stream",
     "text": [
      "lit-pcba-GBA-ave /p/vast1/jones289/hd_results/5/hdbind-rp-ecfp-1024-1-100k.lit-pcba-GBA-ave.5.pkl hdbind-rp-ecfp-1024-1-100k\n"
     ]
    },
    {
     "name": "stderr",
     "output_type": "stream",
     "text": []
    },
    {
     "name": "stdout",
     "output_type": "stream",
     "text": [
      "lit-pcba-IDH1-ave /p/vast1/jones289/hd_results/5/hdbind-rp-ecfp-1024-1-100k.lit-pcba-IDH1-ave.5.pkl hdbind-rp-ecfp-1024-1-100k\n"
     ]
    },
    {
     "name": "stderr",
     "output_type": "stream",
     "text": []
    },
    {
     "name": "stdout",
     "output_type": "stream",
     "text": [
      "lit-pcba-KAT2A-ave /p/vast1/jones289/hd_results/5/hdbind-rp-ecfp-1024-1-100k.lit-pcba-KAT2A-ave.5.pkl hdbind-rp-ecfp-1024-1-100k\n"
     ]
    },
    {
     "name": "stderr",
     "output_type": "stream",
     "text": []
    },
    {
     "name": "stdout",
     "output_type": "stream",
     "text": [
      "lit-pcba-MAPK1-ave /p/vast1/jones289/hd_results/5/hdbind-rp-ecfp-1024-1-100k.lit-pcba-MAPK1-ave.5.pkl hdbind-rp-ecfp-1024-1-100k\n"
     ]
    },
    {
     "name": "stderr",
     "output_type": "stream",
     "text": []
    },
    {
     "name": "stdout",
     "output_type": "stream",
     "text": [
      "lit-pcba-MTORC1-ave /p/vast1/jones289/hd_results/5/hdbind-rp-ecfp-1024-1-100k.lit-pcba-MTORC1-ave.5.pkl hdbind-rp-ecfp-1024-1-100k\n"
     ]
    },
    {
     "name": "stderr",
     "output_type": "stream",
     "text": []
    },
    {
     "name": "stdout",
     "output_type": "stream",
     "text": [
      "lit-pcba-OPRK1-ave /p/vast1/jones289/hd_results/5/hdbind-rp-ecfp-1024-1-100k.lit-pcba-OPRK1-ave.5.pkl hdbind-rp-ecfp-1024-1-100k\n"
     ]
    },
    {
     "name": "stderr",
     "output_type": "stream",
     "text": []
    },
    {
     "name": "stdout",
     "output_type": "stream",
     "text": [
      "lit-pcba-PKM2-ave /p/vast1/jones289/hd_results/5/hdbind-rp-ecfp-1024-1-100k.lit-pcba-PKM2-ave.5.pkl hdbind-rp-ecfp-1024-1-100k\n"
     ]
    },
    {
     "name": "stderr",
     "output_type": "stream",
     "text": []
    },
    {
     "name": "stdout",
     "output_type": "stream",
     "text": [
      "lit-pcba-PPARG-ave /p/vast1/jones289/hd_results/5/hdbind-rp-ecfp-1024-1-100k.lit-pcba-PPARG-ave.5.pkl hdbind-rp-ecfp-1024-1-100k\n"
     ]
    },
    {
     "name": "stderr",
     "output_type": "stream",
     "text": []
    },
    {
     "name": "stdout",
     "output_type": "stream",
     "text": [
      "lit-pcba-TP53-ave /p/vast1/jones289/hd_results/5/hdbind-rp-ecfp-1024-1-100k.lit-pcba-TP53-ave.5.pkl hdbind-rp-ecfp-1024-1-100k\n"
     ]
    },
    {
     "name": "stderr",
     "output_type": "stream",
     "text": []
    },
    {
     "name": "stdout",
     "output_type": "stream",
     "text": [
      "lit-pcba-VDR-ave /p/vast1/jones289/hd_results/5/hdbind-rp-ecfp-1024-1-100k.lit-pcba-VDR-ave.5.pkl hdbind-rp-ecfp-1024-1-100k\n"
     ]
    },
    {
     "name": "stderr",
     "output_type": "stream",
     "text": [
      "100%|██████████| 15/15 [02:28<00:00,  9.91s/it]\n",
      " 62%|██████▎   | 5/8 [12:24<07:27, 149.19s/it]"
     ]
    },
    {
     "name": "stdout",
     "output_type": "stream",
     "text": [
      "hdbind-rp-ecfp-1024-1-1m\tlit-pcba\t2\t 15\n"
     ]
    },
    {
     "name": "stderr",
     "output_type": "stream",
     "text": []
    },
    {
     "name": "stdout",
     "output_type": "stream",
     "text": [
      "lit-pcba-ADRB2-ave /p/vast1/jones289/hd_results/5/hdbind-rp-ecfp-1024-1-1m.lit-pcba-ADRB2-ave.5.pkl hdbind-rp-ecfp-1024-1-1m\n"
     ]
    },
    {
     "name": "stderr",
     "output_type": "stream",
     "text": []
    },
    {
     "name": "stdout",
     "output_type": "stream",
     "text": [
      "lit-pcba-ALDH1-ave /p/vast1/jones289/hd_results/5/hdbind-rp-ecfp-1024-1-1m.lit-pcba-ALDH1-ave.5.pkl hdbind-rp-ecfp-1024-1-1m\n"
     ]
    },
    {
     "name": "stderr",
     "output_type": "stream",
     "text": []
    },
    {
     "name": "stdout",
     "output_type": "stream",
     "text": [
      "lit-pcba-ESR1_ago-ave /p/vast1/jones289/hd_results/5/hdbind-rp-ecfp-1024-1-1m.lit-pcba-ESR1_ago-ave.5.pkl hdbind-rp-ecfp-1024-1-1m\n"
     ]
    },
    {
     "name": "stderr",
     "output_type": "stream",
     "text": []
    },
    {
     "name": "stdout",
     "output_type": "stream",
     "text": [
      "lit-pcba-ESR1_ant-ave /p/vast1/jones289/hd_results/5/hdbind-rp-ecfp-1024-1-1m.lit-pcba-ESR1_ant-ave.5.pkl hdbind-rp-ecfp-1024-1-1m\n"
     ]
    },
    {
     "name": "stderr",
     "output_type": "stream",
     "text": []
    },
    {
     "name": "stdout",
     "output_type": "stream",
     "text": [
      "lit-pcba-FEN1-ave /p/vast1/jones289/hd_results/5/hdbind-rp-ecfp-1024-1-1m.lit-pcba-FEN1-ave.5.pkl hdbind-rp-ecfp-1024-1-1m\n"
     ]
    },
    {
     "name": "stderr",
     "output_type": "stream",
     "text": []
    },
    {
     "name": "stdout",
     "output_type": "stream",
     "text": [
      "lit-pcba-GBA-ave /p/vast1/jones289/hd_results/5/hdbind-rp-ecfp-1024-1-1m.lit-pcba-GBA-ave.5.pkl hdbind-rp-ecfp-1024-1-1m\n"
     ]
    },
    {
     "name": "stderr",
     "output_type": "stream",
     "text": []
    },
    {
     "name": "stdout",
     "output_type": "stream",
     "text": [
      "lit-pcba-IDH1-ave /p/vast1/jones289/hd_results/5/hdbind-rp-ecfp-1024-1-1m.lit-pcba-IDH1-ave.5.pkl hdbind-rp-ecfp-1024-1-1m\n"
     ]
    },
    {
     "name": "stderr",
     "output_type": "stream",
     "text": []
    },
    {
     "name": "stdout",
     "output_type": "stream",
     "text": [
      "lit-pcba-KAT2A-ave /p/vast1/jones289/hd_results/5/hdbind-rp-ecfp-1024-1-1m.lit-pcba-KAT2A-ave.5.pkl hdbind-rp-ecfp-1024-1-1m\n"
     ]
    },
    {
     "name": "stderr",
     "output_type": "stream",
     "text": []
    },
    {
     "name": "stdout",
     "output_type": "stream",
     "text": [
      "lit-pcba-MAPK1-ave /p/vast1/jones289/hd_results/5/hdbind-rp-ecfp-1024-1-1m.lit-pcba-MAPK1-ave.5.pkl hdbind-rp-ecfp-1024-1-1m\n"
     ]
    },
    {
     "name": "stderr",
     "output_type": "stream",
     "text": []
    },
    {
     "name": "stdout",
     "output_type": "stream",
     "text": [
      "lit-pcba-MTORC1-ave /p/vast1/jones289/hd_results/5/hdbind-rp-ecfp-1024-1-1m.lit-pcba-MTORC1-ave.5.pkl hdbind-rp-ecfp-1024-1-1m\n"
     ]
    },
    {
     "name": "stderr",
     "output_type": "stream",
     "text": []
    },
    {
     "name": "stdout",
     "output_type": "stream",
     "text": [
      "lit-pcba-OPRK1-ave /p/vast1/jones289/hd_results/5/hdbind-rp-ecfp-1024-1-1m.lit-pcba-OPRK1-ave.5.pkl hdbind-rp-ecfp-1024-1-1m\n"
     ]
    },
    {
     "name": "stderr",
     "output_type": "stream",
     "text": []
    },
    {
     "name": "stdout",
     "output_type": "stream",
     "text": [
      "lit-pcba-PKM2-ave /p/vast1/jones289/hd_results/5/hdbind-rp-ecfp-1024-1-1m.lit-pcba-PKM2-ave.5.pkl hdbind-rp-ecfp-1024-1-1m\n"
     ]
    },
    {
     "name": "stderr",
     "output_type": "stream",
     "text": []
    },
    {
     "name": "stdout",
     "output_type": "stream",
     "text": [
      "lit-pcba-PPARG-ave /p/vast1/jones289/hd_results/5/hdbind-rp-ecfp-1024-1-1m.lit-pcba-PPARG-ave.5.pkl hdbind-rp-ecfp-1024-1-1m\n"
     ]
    },
    {
     "name": "stderr",
     "output_type": "stream",
     "text": []
    },
    {
     "name": "stdout",
     "output_type": "stream",
     "text": [
      "lit-pcba-TP53-ave /p/vast1/jones289/hd_results/5/hdbind-rp-ecfp-1024-1-1m.lit-pcba-TP53-ave.5.pkl hdbind-rp-ecfp-1024-1-1m\n"
     ]
    },
    {
     "name": "stderr",
     "output_type": "stream",
     "text": []
    },
    {
     "name": "stdout",
     "output_type": "stream",
     "text": [
      "lit-pcba-VDR-ave /p/vast1/jones289/hd_results/5/hdbind-rp-ecfp-1024-1-1m.lit-pcba-VDR-ave.5.pkl hdbind-rp-ecfp-1024-1-1m\n"
     ]
    },
    {
     "name": "stderr",
     "output_type": "stream",
     "text": [
      "100%|██████████| 15/15 [02:40<00:00, 10.71s/it]\n",
      " 75%|███████▌  | 6/8 [15:05<05:06, 153.10s/it]"
     ]
    },
    {
     "name": "stdout",
     "output_type": "stream",
     "text": [
      "mlp-1024-1\tlit-pcba\t2\t 15\n"
     ]
    },
    {
     "name": "stderr",
     "output_type": "stream",
     "text": []
    },
    {
     "name": "stdout",
     "output_type": "stream",
     "text": [
      "lit-pcba-ADRB2-ave /p/vast1/jones289/hd_results/5/mlp-1024-1.lit-pcba-ADRB2-ave.5.pkl mlp-1024-1\n"
     ]
    },
    {
     "name": "stderr",
     "output_type": "stream",
     "text": []
    },
    {
     "name": "stdout",
     "output_type": "stream",
     "text": [
      "lit-pcba-ALDH1-ave /p/vast1/jones289/hd_results/5/mlp-1024-1.lit-pcba-ALDH1-ave.5.pkl mlp-1024-1\n"
     ]
    },
    {
     "name": "stderr",
     "output_type": "stream",
     "text": []
    },
    {
     "name": "stdout",
     "output_type": "stream",
     "text": [
      "lit-pcba-ESR1_ago-ave /p/vast1/jones289/hd_results/5/mlp-1024-1.lit-pcba-ESR1_ago-ave.5.pkl mlp-1024-1\n"
     ]
    },
    {
     "name": "stderr",
     "output_type": "stream",
     "text": []
    },
    {
     "name": "stdout",
     "output_type": "stream",
     "text": [
      "lit-pcba-ESR1_ant-ave /p/vast1/jones289/hd_results/5/mlp-1024-1.lit-pcba-ESR1_ant-ave.5.pkl mlp-1024-1\n"
     ]
    },
    {
     "name": "stderr",
     "output_type": "stream",
     "text": []
    },
    {
     "name": "stdout",
     "output_type": "stream",
     "text": [
      "lit-pcba-FEN1-ave /p/vast1/jones289/hd_results/5/mlp-1024-1.lit-pcba-FEN1-ave.5.pkl mlp-1024-1\n"
     ]
    },
    {
     "name": "stderr",
     "output_type": "stream",
     "text": []
    },
    {
     "name": "stdout",
     "output_type": "stream",
     "text": [
      "lit-pcba-GBA-ave /p/vast1/jones289/hd_results/5/mlp-1024-1.lit-pcba-GBA-ave.5.pkl mlp-1024-1\n"
     ]
    },
    {
     "name": "stderr",
     "output_type": "stream",
     "text": []
    },
    {
     "name": "stdout",
     "output_type": "stream",
     "text": [
      "lit-pcba-IDH1-ave /p/vast1/jones289/hd_results/5/mlp-1024-1.lit-pcba-IDH1-ave.5.pkl mlp-1024-1\n"
     ]
    },
    {
     "name": "stderr",
     "output_type": "stream",
     "text": []
    },
    {
     "name": "stdout",
     "output_type": "stream",
     "text": [
      "lit-pcba-KAT2A-ave /p/vast1/jones289/hd_results/5/mlp-1024-1.lit-pcba-KAT2A-ave.5.pkl mlp-1024-1\n"
     ]
    },
    {
     "name": "stderr",
     "output_type": "stream",
     "text": []
    },
    {
     "name": "stdout",
     "output_type": "stream",
     "text": [
      "lit-pcba-MAPK1-ave /p/vast1/jones289/hd_results/5/mlp-1024-1.lit-pcba-MAPK1-ave.5.pkl mlp-1024-1\n"
     ]
    },
    {
     "name": "stderr",
     "output_type": "stream",
     "text": []
    },
    {
     "name": "stdout",
     "output_type": "stream",
     "text": [
      "lit-pcba-MTORC1-ave /p/vast1/jones289/hd_results/5/mlp-1024-1.lit-pcba-MTORC1-ave.5.pkl mlp-1024-1\n"
     ]
    },
    {
     "name": "stderr",
     "output_type": "stream",
     "text": []
    },
    {
     "name": "stdout",
     "output_type": "stream",
     "text": [
      "lit-pcba-OPRK1-ave /p/vast1/jones289/hd_results/5/mlp-1024-1.lit-pcba-OPRK1-ave.5.pkl mlp-1024-1\n"
     ]
    },
    {
     "name": "stderr",
     "output_type": "stream",
     "text": []
    },
    {
     "name": "stdout",
     "output_type": "stream",
     "text": [
      "lit-pcba-PKM2-ave /p/vast1/jones289/hd_results/5/mlp-1024-1.lit-pcba-PKM2-ave.5.pkl mlp-1024-1\n"
     ]
    },
    {
     "name": "stderr",
     "output_type": "stream",
     "text": []
    },
    {
     "name": "stdout",
     "output_type": "stream",
     "text": [
      "lit-pcba-PPARG-ave /p/vast1/jones289/hd_results/5/mlp-1024-1.lit-pcba-PPARG-ave.5.pkl mlp-1024-1\n"
     ]
    },
    {
     "name": "stderr",
     "output_type": "stream",
     "text": []
    },
    {
     "name": "stdout",
     "output_type": "stream",
     "text": [
      "lit-pcba-TP53-ave /p/vast1/jones289/hd_results/5/mlp-1024-1.lit-pcba-TP53-ave.5.pkl mlp-1024-1\n"
     ]
    },
    {
     "name": "stderr",
     "output_type": "stream",
     "text": []
    },
    {
     "name": "stdout",
     "output_type": "stream",
     "text": [
      "lit-pcba-VDR-ave /p/vast1/jones289/hd_results/5/mlp-1024-1.lit-pcba-VDR-ave.5.pkl mlp-1024-1\n"
     ]
    },
    {
     "name": "stderr",
     "output_type": "stream",
     "text": [
      "100%|██████████| 15/15 [14:21<00:00, 57.46s/it]\n",
      " 88%|████████▊ | 7/8 [29:27<06:24, 384.81s/it]"
     ]
    },
    {
     "name": "stdout",
     "output_type": "stream",
     "text": [
      "Vina\tlit-pcba\t2\t 0\n"
     ]
    },
    {
     "name": "stderr",
     "output_type": "stream",
     "text": [
      "0it [00:00, ?it/s]\n",
      "100%|██████████| 8/8 [29:27<00:00, 220.93s/it]\n",
      "  0%|          | 0/15 [00:00<?, ?it/s]"
     ]
    },
    {
     "name": "stdout",
     "output_type": "stream",
     "text": [
      "0 /p/lustre2/ahashare/zhang30/LIT-PCBA-Data/PKM2-actives.csv\n"
     ]
    },
    {
     "name": "stderr",
     "output_type": "stream",
     "text": [
      "/var/tmp/jones289/ipykernel_3048980/4251834037.py:63: FutureWarning: Dropping of nuisance columns in DataFrame reductions (with 'numeric_only=None') is deprecated; in a future version this will raise TypeError.  Select only valid columns before calling the reduction.\n",
      "  dock_scores['min_vina'] = dock_scores[dock_scores.columns[11:21]].min(axis=1)\n",
      "  7%|▋         | 1/15 [00:29<06:52, 29.49s/it]"
     ]
    },
    {
     "name": "stdout",
     "output_type": "stream",
     "text": [
      "1 /p/lustre2/ahashare/zhang30/LIT-PCBA-Data/GBA-actives.csv\n"
     ]
    },
    {
     "name": "stderr",
     "output_type": "stream",
     "text": [
      "/var/tmp/jones289/ipykernel_3048980/4251834037.py:63: FutureWarning: Dropping of nuisance columns in DataFrame reductions (with 'numeric_only=None') is deprecated; in a future version this will raise TypeError.  Select only valid columns before calling the reduction.\n",
      "  dock_scores['min_vina'] = dock_scores[dock_scores.columns[11:21]].min(axis=1)\n",
      " 13%|█▎        | 2/15 [00:52<05:35, 25.82s/it]"
     ]
    },
    {
     "name": "stdout",
     "output_type": "stream",
     "text": [
      "2 /p/lustre2/ahashare/zhang30/LIT-PCBA-Data/ESR1_ago-actives.csv\n"
     ]
    },
    {
     "name": "stderr",
     "output_type": "stream",
     "text": [
      "/var/tmp/jones289/ipykernel_3048980/4251834037.py:63: FutureWarning: Dropping of nuisance columns in DataFrame reductions (with 'numeric_only=None') is deprecated; in a future version this will raise TypeError.  Select only valid columns before calling the reduction.\n",
      "  dock_scores['min_vina'] = dock_scores[dock_scores.columns[11:21]].min(axis=1)\n",
      " 20%|██        | 3/15 [00:54<02:57, 14.83s/it]"
     ]
    },
    {
     "name": "stdout",
     "output_type": "stream",
     "text": [
      "3 /p/lustre2/ahashare/zhang30/LIT-PCBA-Data/MAPK1-actives.csv\n"
     ]
    },
    {
     "name": "stderr",
     "output_type": "stream",
     "text": [
      "/var/tmp/jones289/ipykernel_3048980/4251834037.py:63: FutureWarning: Dropping of nuisance columns in DataFrame reductions (with 'numeric_only=None') is deprecated; in a future version this will raise TypeError.  Select only valid columns before calling the reduction.\n",
      "  dock_scores['min_vina'] = dock_scores[dock_scores.columns[11:21]].min(axis=1)\n",
      " 27%|██▋       | 4/15 [01:06<02:31, 13.81s/it]"
     ]
    },
    {
     "name": "stdout",
     "output_type": "stream",
     "text": [
      "4 /p/lustre2/ahashare/zhang30/LIT-PCBA-Data/VDR-actives.csv\n"
     ]
    },
    {
     "name": "stderr",
     "output_type": "stream",
     "text": [
      "/var/tmp/jones289/ipykernel_3048980/4251834037.py:63: FutureWarning: Dropping of nuisance columns in DataFrame reductions (with 'numeric_only=None') is deprecated; in a future version this will raise TypeError.  Select only valid columns before calling the reduction.\n",
      "  dock_scores['min_vina'] = dock_scores[dock_scores.columns[11:21]].min(axis=1)\n",
      " 33%|███▎      | 5/15 [01:18<02:10, 13.03s/it]"
     ]
    },
    {
     "name": "stdout",
     "output_type": "stream",
     "text": [
      "5 /p/lustre2/ahashare/zhang30/LIT-PCBA-Data/KAT2A-actives.csv\n"
     ]
    },
    {
     "name": "stderr",
     "output_type": "stream",
     "text": [
      "/var/tmp/jones289/ipykernel_3048980/4251834037.py:63: FutureWarning: Dropping of nuisance columns in DataFrame reductions (with 'numeric_only=None') is deprecated; in a future version this will raise TypeError.  Select only valid columns before calling the reduction.\n",
      "  dock_scores['min_vina'] = dock_scores[dock_scores.columns[11:21]].min(axis=1)\n",
      " 40%|████      | 6/15 [01:31<01:58, 13.15s/it]"
     ]
    },
    {
     "name": "stdout",
     "output_type": "stream",
     "text": [
      "6 /p/lustre2/ahashare/zhang30/LIT-PCBA-Data/ALDH1-actives.csv\n"
     ]
    },
    {
     "name": "stderr",
     "output_type": "stream",
     "text": [
      "/var/tmp/jones289/ipykernel_3048980/4251834037.py:63: FutureWarning: Dropping of nuisance columns in DataFrame reductions (with 'numeric_only=None') is deprecated; in a future version this will raise TypeError.  Select only valid columns before calling the reduction.\n",
      "  dock_scores['min_vina'] = dock_scores[dock_scores.columns[11:21]].min(axis=1)\n",
      " 47%|████▋     | 7/15 [01:49<01:58, 14.81s/it]"
     ]
    },
    {
     "name": "stdout",
     "output_type": "stream",
     "text": [
      "7 /p/lustre2/ahashare/zhang30/LIT-PCBA-Data/TP53-actives.csv\n"
     ]
    },
    {
     "name": "stderr",
     "output_type": "stream",
     "text": [
      "/var/tmp/jones289/ipykernel_3048980/4251834037.py:63: FutureWarning: Dropping of nuisance columns in DataFrame reductions (with 'numeric_only=None') is deprecated; in a future version this will raise TypeError.  Select only valid columns before calling the reduction.\n",
      "  dock_scores['min_vina'] = dock_scores[dock_scores.columns[11:21]].min(axis=1)\n",
      " 53%|█████▎    | 8/15 [01:50<01:11, 10.26s/it]"
     ]
    },
    {
     "name": "stdout",
     "output_type": "stream",
     "text": [
      "8 /p/lustre2/ahashare/zhang30/LIT-PCBA-Data/PPARG-actives.csv\n"
     ]
    },
    {
     "name": "stderr",
     "output_type": "stream",
     "text": [
      "/var/tmp/jones289/ipykernel_3048980/4251834037.py:63: FutureWarning: Dropping of nuisance columns in DataFrame reductions (with 'numeric_only=None') is deprecated; in a future version this will raise TypeError.  Select only valid columns before calling the reduction.\n",
      "  dock_scores['min_vina'] = dock_scores[dock_scores.columns[11:21]].min(axis=1)\n",
      " 60%|██████    | 9/15 [01:51<00:43,  7.27s/it]"
     ]
    },
    {
     "name": "stdout",
     "output_type": "stream",
     "text": [
      "9 /p/lustre2/ahashare/zhang30/LIT-PCBA-Data/ADRB2-actives.csv\n"
     ]
    },
    {
     "name": "stderr",
     "output_type": "stream",
     "text": [
      "/var/tmp/jones289/ipykernel_3048980/4251834037.py:63: FutureWarning: Dropping of nuisance columns in DataFrame reductions (with 'numeric_only=None') is deprecated; in a future version this will raise TypeError.  Select only valid columns before calling the reduction.\n",
      "  dock_scores['min_vina'] = dock_scores[dock_scores.columns[11:21]].min(axis=1)\n",
      " 67%|██████▋   | 10/15 [02:21<01:12, 14.51s/it]"
     ]
    },
    {
     "name": "stdout",
     "output_type": "stream",
     "text": [
      "10 /p/lustre2/ahashare/zhang30/LIT-PCBA-Data/MTORC1-actives.csv\n"
     ]
    },
    {
     "name": "stderr",
     "output_type": "stream",
     "text": [
      "/var/tmp/jones289/ipykernel_3048980/4251834037.py:55: DtypeWarning: Columns (12,13,14) have mixed types. Specify dtype option on import or set low_memory=False.\n",
      "  inactive_dock_scores = pd.read_csv(root_p / Path(f\"{target}-inactives.csv.clean\"), header=None)\n",
      "/var/tmp/jones289/ipykernel_3048980/4251834037.py:63: FutureWarning: Dropping of nuisance columns in DataFrame reductions (with 'numeric_only=None') is deprecated; in a future version this will raise TypeError.  Select only valid columns before calling the reduction.\n",
      "  dock_scores['min_vina'] = dock_scores[dock_scores.columns[11:21]].min(axis=1)\n",
      " 73%|███████▎  | 11/15 [02:26<00:45, 11.48s/it]"
     ]
    },
    {
     "name": "stdout",
     "output_type": "stream",
     "text": [
      "11 /p/lustre2/ahashare/zhang30/LIT-PCBA-Data/OPRK1-actives.csv\n"
     ]
    },
    {
     "name": "stderr",
     "output_type": "stream",
     "text": [
      "/var/tmp/jones289/ipykernel_3048980/4251834037.py:63: FutureWarning: Dropping of nuisance columns in DataFrame reductions (with 'numeric_only=None') is deprecated; in a future version this will raise TypeError.  Select only valid columns before calling the reduction.\n",
      "  dock_scores['min_vina'] = dock_scores[dock_scores.columns[11:21]].min(axis=1)\n",
      " 80%|████████  | 12/15 [02:32<00:29,  9.78s/it]"
     ]
    },
    {
     "name": "stdout",
     "output_type": "stream",
     "text": [
      "12 /p/lustre2/ahashare/zhang30/LIT-PCBA-Data/IDH1-actives.csv\n"
     ]
    },
    {
     "name": "stderr",
     "output_type": "stream",
     "text": [
      "/var/tmp/jones289/ipykernel_3048980/4251834037.py:63: FutureWarning: Dropping of nuisance columns in DataFrame reductions (with 'numeric_only=None') is deprecated; in a future version this will raise TypeError.  Select only valid columns before calling the reduction.\n",
      "  dock_scores['min_vina'] = dock_scores[dock_scores.columns[11:21]].min(axis=1)\n",
      " 87%|████████▋ | 13/15 [03:13<00:38, 19.15s/it]"
     ]
    },
    {
     "name": "stdout",
     "output_type": "stream",
     "text": [
      "13 /p/lustre2/ahashare/zhang30/LIT-PCBA-Data/ESR1_ant-actives.csv\n"
     ]
    },
    {
     "name": "stderr",
     "output_type": "stream",
     "text": [
      "/var/tmp/jones289/ipykernel_3048980/4251834037.py:63: FutureWarning: Dropping of nuisance columns in DataFrame reductions (with 'numeric_only=None') is deprecated; in a future version this will raise TypeError.  Select only valid columns before calling the reduction.\n",
      "  dock_scores['min_vina'] = dock_scores[dock_scores.columns[11:21]].min(axis=1)\n",
      " 93%|█████████▎| 14/15 [03:14<00:13, 13.71s/it]"
     ]
    },
    {
     "name": "stdout",
     "output_type": "stream",
     "text": [
      "14 /p/lustre2/ahashare/zhang30/LIT-PCBA-Data/FEN1-actives.csv\n"
     ]
    },
    {
     "name": "stderr",
     "output_type": "stream",
     "text": [
      "/var/tmp/jones289/ipykernel_3048980/4251834037.py:63: FutureWarning: Dropping of nuisance columns in DataFrame reductions (with 'numeric_only=None') is deprecated; in a future version this will raise TypeError.  Select only valid columns before calling the reduction.\n",
      "  dock_scores['min_vina'] = dock_scores[dock_scores.columns[11:21]].min(axis=1)\n",
      "100%|██████████| 15/15 [03:18<00:00, 13.20s/it]\n"
     ]
    }
   ],
   "source": [
    "litpcba_df, lit_pcba_smiles_scores_df = compute_model_metric_df(dataset=\"lit-pcba\", split=\"ave\")"
   ]
  },
  {
   "cell_type": "code",
   "execution_count": 16,
   "metadata": {},
   "outputs": [
    {
     "data": {
      "text/html": [
       "<div>\n",
       "<style scoped>\n",
       "    .dataframe tbody tr th:only-of-type {\n",
       "        vertical-align: middle;\n",
       "    }\n",
       "\n",
       "    .dataframe tbody tr th {\n",
       "        vertical-align: top;\n",
       "    }\n",
       "\n",
       "    .dataframe thead th {\n",
       "        text-align: right;\n",
       "    }\n",
       "</style>\n",
       "<table border=\"1\" class=\"dataframe\">\n",
       "  <thead>\n",
       "    <tr style=\"text-align: right;\">\n",
       "      <th></th>\n",
       "      <th>model</th>\n",
       "      <th>enrich</th>\n",
       "      <th>p</th>\n",
       "      <th>target</th>\n",
       "      <th>seed</th>\n",
       "    </tr>\n",
       "  </thead>\n",
       "  <tbody>\n",
       "    <tr>\n",
       "      <th>0</th>\n",
       "      <td>molehd-bpe</td>\n",
       "      <td>0.000000</td>\n",
       "      <td>0.01</td>\n",
       "      <td>lit-pcba-ADRB2-ave</td>\n",
       "      <td>0.0</td>\n",
       "    </tr>\n",
       "    <tr>\n",
       "      <th>1</th>\n",
       "      <td>molehd-bpe</td>\n",
       "      <td>0.000000</td>\n",
       "      <td>0.10</td>\n",
       "      <td>lit-pcba-ADRB2-ave</td>\n",
       "      <td>0.0</td>\n",
       "    </tr>\n",
       "    <tr>\n",
       "      <th>2</th>\n",
       "      <td>molehd-bpe</td>\n",
       "      <td>0.000000</td>\n",
       "      <td>0.01</td>\n",
       "      <td>lit-pcba-ADRB2-ave</td>\n",
       "      <td>1.0</td>\n",
       "    </tr>\n",
       "    <tr>\n",
       "      <th>3</th>\n",
       "      <td>molehd-bpe</td>\n",
       "      <td>2.499808</td>\n",
       "      <td>0.10</td>\n",
       "      <td>lit-pcba-ADRB2-ave</td>\n",
       "      <td>1.0</td>\n",
       "    </tr>\n",
       "    <tr>\n",
       "      <th>4</th>\n",
       "      <td>molehd-bpe</td>\n",
       "      <td>0.000000</td>\n",
       "      <td>0.01</td>\n",
       "      <td>lit-pcba-ADRB2-ave</td>\n",
       "      <td>2.0</td>\n",
       "    </tr>\n",
       "    <tr>\n",
       "      <th>...</th>\n",
       "      <td>...</td>\n",
       "      <td>...</td>\n",
       "      <td>...</td>\n",
       "      <td>...</td>\n",
       "      <td>...</td>\n",
       "    </tr>\n",
       "    <tr>\n",
       "      <th>25</th>\n",
       "      <td>Vina</td>\n",
       "      <td>0.000000</td>\n",
       "      <td>0.01</td>\n",
       "      <td>PPARG</td>\n",
       "      <td>NaN</td>\n",
       "    </tr>\n",
       "    <tr>\n",
       "      <th>26</th>\n",
       "      <td>Vina</td>\n",
       "      <td>1.920814</td>\n",
       "      <td>0.10</td>\n",
       "      <td>TP53</td>\n",
       "      <td>NaN</td>\n",
       "    </tr>\n",
       "    <tr>\n",
       "      <th>27</th>\n",
       "      <td>Vina</td>\n",
       "      <td>0.000000</td>\n",
       "      <td>0.01</td>\n",
       "      <td>TP53</td>\n",
       "      <td>NaN</td>\n",
       "    </tr>\n",
       "    <tr>\n",
       "      <th>28</th>\n",
       "      <td>Vina</td>\n",
       "      <td>0.713475</td>\n",
       "      <td>0.10</td>\n",
       "      <td>VDR</td>\n",
       "      <td>NaN</td>\n",
       "    </tr>\n",
       "    <tr>\n",
       "      <th>29</th>\n",
       "      <td>Vina</td>\n",
       "      <td>0.792683</td>\n",
       "      <td>0.01</td>\n",
       "      <td>VDR</td>\n",
       "      <td>NaN</td>\n",
       "    </tr>\n",
       "  </tbody>\n",
       "</table>\n",
       "<p>2130 rows × 5 columns</p>\n",
       "</div>"
      ],
      "text/plain": [
       "         model    enrich     p              target  seed\n",
       "0   molehd-bpe  0.000000  0.01  lit-pcba-ADRB2-ave   0.0\n",
       "1   molehd-bpe  0.000000  0.10  lit-pcba-ADRB2-ave   0.0\n",
       "2   molehd-bpe  0.000000  0.01  lit-pcba-ADRB2-ave   1.0\n",
       "3   molehd-bpe  2.499808  0.10  lit-pcba-ADRB2-ave   1.0\n",
       "4   molehd-bpe  0.000000  0.01  lit-pcba-ADRB2-ave   2.0\n",
       "..         ...       ...   ...                 ...   ...\n",
       "25        Vina  0.000000  0.01               PPARG   NaN\n",
       "26        Vina  1.920814  0.10                TP53   NaN\n",
       "27        Vina  0.000000  0.01                TP53   NaN\n",
       "28        Vina  0.713475  0.10                 VDR   NaN\n",
       "29        Vina  0.792683  0.01                 VDR   NaN\n",
       "\n",
       "[2130 rows x 5 columns]"
      ]
     },
     "execution_count": 16,
     "metadata": {},
     "output_type": "execute_result"
    }
   ],
   "source": [
    "litpcba_df"
   ]
  },
  {
   "cell_type": "code",
   "execution_count": 17,
   "metadata": {},
   "outputs": [],
   "source": [
    "# litpcba_df, litpcba_smiles_scores_df = litpcba_df"
   ]
  },
  {
   "cell_type": "code",
   "execution_count": 18,
   "metadata": {},
   "outputs": [],
   "source": [
    "# litpcba_df[\"model\"]"
   ]
  },
  {
   "cell_type": "code",
   "execution_count": 19,
   "metadata": {},
   "outputs": [],
   "source": [
    "# litpcba_smiles_scores_df"
   ]
  },
  {
   "cell_type": "code",
   "execution_count": 20,
   "metadata": {},
   "outputs": [],
   "source": [
    "# (12/13/23) this is old, need to update. used for numbers in table\n",
    "# (model_metric_df).groupby([\"model\", \"target\", \"p\"])[\"enrich\"].describe().to_csv(\"summary_ef_stats.csv\")"
   ]
  },
  {
   "cell_type": "code",
   "execution_count": 21,
   "metadata": {},
   "outputs": [],
   "source": [
    "def make_box_plot(enrich_1_df, enrich_10_df, dataset:str):\n",
    "    \n",
    "    enrich_f, enrich_ax = plt.subplots(2,1, figsize=(12,10), sharex=True, sharey=False)\n",
    "    enrich_ax = enrich_ax.flatten()\n",
    "    enrich_1_ax, enrich_10_ax = enrich_ax[0], enrich_ax[1]\n",
    "    \n",
    "    sns.swarmplot(data=enrich_1_df, x=\"model\", y=\"enrich\", \n",
    "                  order=list(model_dict.keys()),\n",
    "                  palette={key: value[1] for key, value in model_dict.items()},\n",
    "                  ax=enrich_1_ax)\n",
    "    enrich_1_ax.set_title(f\"(a) {dataset} Enrichment at 1\\%\", fontdict={\"fontsize\": 18})\n",
    "    enrich_1_ax.set_xlabel(\"\")\n",
    "    enrich_1_ax.set_ylabel(\"\")\n",
    "    enrich_1_ax.tick_params(axis=\"x\", labelrotation=22.5)\n",
    "\n",
    "    enrich_1_ax.set_ylabel(\"EF\")\n",
    "\n",
    "    plt.tight_layout()\n",
    "\n",
    "        \n",
    "    sns.swarmplot(data=enrich_10_df, x=\"model\", y=\"enrich\",\n",
    "                  order=list(model_dict.keys()),\n",
    "                  palette={key: value[1] for key, value in model_dict.items()},\n",
    "                  ax=enrich_10_ax)\n",
    "\n",
    "    enrich_10_ax.set_title(f\"(b) {dataset} Enrichment at 10\\%\", fontdict={\"fontsize\": 18})\n",
    "    enrich_10_ax.set_xlabel(\"\")\n",
    "    enrich_10_ax.set_ylabel(\"\")\n",
    "    enrich_10_ax.tick_params(axis=\"x\", labelrotation=22.5)\n",
    "    labels = [model_dict[item.get_text()][0] for item in enrich_10_ax.get_xticklabels()]\n",
    "\n",
    "    enrich_10_ax.set_xticklabels(labels)\n",
    "    enrich_ax[0].set_ylabel(\"EF\")\n",
    "    enrich_ax[1].set_ylabel(\"EF\")\n",
    "\n",
    "    plt.tight_layout()\n",
    "\n",
    "    enrich_f.savefig(f\"{dataset}-enrich.png\", dpi=600, bbox_inches=\"tight\")\n",
    "\n"
   ]
  },
  {
   "cell_type": "code",
   "execution_count": 22,
   "metadata": {},
   "outputs": [],
   "source": [
    "# take the average over the random seeds dimension for each combo of MODEL X TARGET X P\n",
    "grp_df = (litpcba_df).groupby([\"model\", \"target\", \"p\"])[\"enrich\"].mean().reset_index()\n",
    "grp_df = grp_df.sort_values(by=\"model\")\n"
   ]
  },
  {
   "cell_type": "code",
   "execution_count": 86,
   "metadata": {},
   "outputs": [
    {
     "data": {
      "text/html": [
       "<div>\n",
       "<style scoped>\n",
       "    .dataframe tbody tr th:only-of-type {\n",
       "        vertical-align: middle;\n",
       "    }\n",
       "\n",
       "    .dataframe tbody tr th {\n",
       "        vertical-align: top;\n",
       "    }\n",
       "\n",
       "    .dataframe thead th {\n",
       "        text-align: right;\n",
       "    }\n",
       "</style>\n",
       "<table border=\"1\" class=\"dataframe\">\n",
       "  <thead>\n",
       "    <tr style=\"text-align: right;\">\n",
       "      <th></th>\n",
       "      <th>model</th>\n",
       "      <th>target</th>\n",
       "      <th>p</th>\n",
       "      <th>enrich</th>\n",
       "    </tr>\n",
       "  </thead>\n",
       "  <tbody>\n",
       "    <tr>\n",
       "      <th>29</th>\n",
       "      <td>Vina</td>\n",
       "      <td>VDR</td>\n",
       "      <td>0.1</td>\n",
       "      <td>0.713475</td>\n",
       "    </tr>\n",
       "    <tr>\n",
       "      <th>27</th>\n",
       "      <td>Vina</td>\n",
       "      <td>TP53</td>\n",
       "      <td>0.1</td>\n",
       "      <td>1.920814</td>\n",
       "    </tr>\n",
       "    <tr>\n",
       "      <th>25</th>\n",
       "      <td>Vina</td>\n",
       "      <td>PPARG</td>\n",
       "      <td>0.1</td>\n",
       "      <td>1.921609</td>\n",
       "    </tr>\n",
       "    <tr>\n",
       "      <th>23</th>\n",
       "      <td>Vina</td>\n",
       "      <td>PKM2</td>\n",
       "      <td>0.1</td>\n",
       "      <td>1.706401</td>\n",
       "    </tr>\n",
       "    <tr>\n",
       "      <th>19</th>\n",
       "      <td>Vina</td>\n",
       "      <td>MTORC1</td>\n",
       "      <td>0.1</td>\n",
       "      <td>0.520786</td>\n",
       "    </tr>\n",
       "    <tr>\n",
       "      <th>...</th>\n",
       "      <td>...</td>\n",
       "      <td>...</td>\n",
       "      <td>...</td>\n",
       "      <td>...</td>\n",
       "    </tr>\n",
       "    <tr>\n",
       "      <th>215</th>\n",
       "      <td>molehd-bpe</td>\n",
       "      <td>lit-pcba-ESR1_ago-ave</td>\n",
       "      <td>0.1</td>\n",
       "      <td>3.328571</td>\n",
       "    </tr>\n",
       "    <tr>\n",
       "      <th>213</th>\n",
       "      <td>molehd-bpe</td>\n",
       "      <td>lit-pcba-ALDH1-ave</td>\n",
       "      <td>0.1</td>\n",
       "      <td>1.704112</td>\n",
       "    </tr>\n",
       "    <tr>\n",
       "      <th>211</th>\n",
       "      <td>molehd-bpe</td>\n",
       "      <td>lit-pcba-ADRB2-ave</td>\n",
       "      <td>0.1</td>\n",
       "      <td>0.249981</td>\n",
       "    </tr>\n",
       "    <tr>\n",
       "      <th>223</th>\n",
       "      <td>molehd-bpe</td>\n",
       "      <td>lit-pcba-IDH1-ave</td>\n",
       "      <td>0.1</td>\n",
       "      <td>0.444400</td>\n",
       "    </tr>\n",
       "    <tr>\n",
       "      <th>239</th>\n",
       "      <td>molehd-bpe</td>\n",
       "      <td>lit-pcba-VDR-ave</td>\n",
       "      <td>0.1</td>\n",
       "      <td>2.424242</td>\n",
       "    </tr>\n",
       "  </tbody>\n",
       "</table>\n",
       "<p>120 rows × 4 columns</p>\n",
       "</div>"
      ],
      "text/plain": [
       "          model                 target    p    enrich\n",
       "29         Vina                    VDR  0.1  0.713475\n",
       "27         Vina                   TP53  0.1  1.920814\n",
       "25         Vina                  PPARG  0.1  1.921609\n",
       "23         Vina                   PKM2  0.1  1.706401\n",
       "19         Vina                 MTORC1  0.1  0.520786\n",
       "..          ...                    ...  ...       ...\n",
       "215  molehd-bpe  lit-pcba-ESR1_ago-ave  0.1  3.328571\n",
       "213  molehd-bpe     lit-pcba-ALDH1-ave  0.1  1.704112\n",
       "211  molehd-bpe     lit-pcba-ADRB2-ave  0.1  0.249981\n",
       "223  molehd-bpe      lit-pcba-IDH1-ave  0.1  0.444400\n",
       "239  molehd-bpe       lit-pcba-VDR-ave  0.1  2.424242\n",
       "\n",
       "[120 rows x 4 columns]"
      ]
     },
     "execution_count": 86,
     "metadata": {},
     "output_type": "execute_result"
    }
   ],
   "source": [
    "grp_df[grp_df[\"p\"] == .1]"
   ]
  },
  {
   "cell_type": "code",
   "execution_count": 87,
   "metadata": {},
   "outputs": [
    {
     "data": {
      "text/html": [
       "<div>\n",
       "<style scoped>\n",
       "    .dataframe tbody tr th:only-of-type {\n",
       "        vertical-align: middle;\n",
       "    }\n",
       "\n",
       "    .dataframe tbody tr th {\n",
       "        vertical-align: top;\n",
       "    }\n",
       "\n",
       "    .dataframe thead th {\n",
       "        text-align: right;\n",
       "    }\n",
       "</style>\n",
       "<table border=\"1\" class=\"dataframe\">\n",
       "  <thead>\n",
       "    <tr style=\"text-align: right;\">\n",
       "      <th></th>\n",
       "      <th>model</th>\n",
       "      <th>target</th>\n",
       "      <th>p</th>\n",
       "      <th>enrich</th>\n",
       "    </tr>\n",
       "  </thead>\n",
       "  <tbody>\n",
       "    <tr>\n",
       "      <th>0</th>\n",
       "      <td>Vina</td>\n",
       "      <td>ADRB2</td>\n",
       "      <td>0.01</td>\n",
       "      <td>0.000000</td>\n",
       "    </tr>\n",
       "    <tr>\n",
       "      <th>28</th>\n",
       "      <td>Vina</td>\n",
       "      <td>VDR</td>\n",
       "      <td>0.01</td>\n",
       "      <td>0.792683</td>\n",
       "    </tr>\n",
       "    <tr>\n",
       "      <th>26</th>\n",
       "      <td>Vina</td>\n",
       "      <td>TP53</td>\n",
       "      <td>0.01</td>\n",
       "      <td>0.000000</td>\n",
       "    </tr>\n",
       "    <tr>\n",
       "      <th>24</th>\n",
       "      <td>Vina</td>\n",
       "      <td>PPARG</td>\n",
       "      <td>0.01</td>\n",
       "      <td>0.000000</td>\n",
       "    </tr>\n",
       "    <tr>\n",
       "      <th>22</th>\n",
       "      <td>Vina</td>\n",
       "      <td>PKM2</td>\n",
       "      <td>0.01</td>\n",
       "      <td>1.834616</td>\n",
       "    </tr>\n",
       "    <tr>\n",
       "      <th>...</th>\n",
       "      <td>...</td>\n",
       "      <td>...</td>\n",
       "      <td>...</td>\n",
       "      <td>...</td>\n",
       "    </tr>\n",
       "    <tr>\n",
       "      <th>216</th>\n",
       "      <td>molehd-bpe</td>\n",
       "      <td>lit-pcba-ESR1_ant-ave</td>\n",
       "      <td>0.01</td>\n",
       "      <td>0.000000</td>\n",
       "    </tr>\n",
       "    <tr>\n",
       "      <th>214</th>\n",
       "      <td>molehd-bpe</td>\n",
       "      <td>lit-pcba-ESR1_ago-ave</td>\n",
       "      <td>0.01</td>\n",
       "      <td>0.000000</td>\n",
       "    </tr>\n",
       "    <tr>\n",
       "      <th>212</th>\n",
       "      <td>molehd-bpe</td>\n",
       "      <td>lit-pcba-ALDH1-ave</td>\n",
       "      <td>0.01</td>\n",
       "      <td>2.373278</td>\n",
       "    </tr>\n",
       "    <tr>\n",
       "      <th>210</th>\n",
       "      <td>molehd-bpe</td>\n",
       "      <td>lit-pcba-ADRB2-ave</td>\n",
       "      <td>0.01</td>\n",
       "      <td>0.000000</td>\n",
       "    </tr>\n",
       "    <tr>\n",
       "      <th>238</th>\n",
       "      <td>molehd-bpe</td>\n",
       "      <td>lit-pcba-VDR-ave</td>\n",
       "      <td>0.01</td>\n",
       "      <td>1.696970</td>\n",
       "    </tr>\n",
       "  </tbody>\n",
       "</table>\n",
       "<p>120 rows × 4 columns</p>\n",
       "</div>"
      ],
      "text/plain": [
       "          model                 target     p    enrich\n",
       "0          Vina                  ADRB2  0.01  0.000000\n",
       "28         Vina                    VDR  0.01  0.792683\n",
       "26         Vina                   TP53  0.01  0.000000\n",
       "24         Vina                  PPARG  0.01  0.000000\n",
       "22         Vina                   PKM2  0.01  1.834616\n",
       "..          ...                    ...   ...       ...\n",
       "216  molehd-bpe  lit-pcba-ESR1_ant-ave  0.01  0.000000\n",
       "214  molehd-bpe  lit-pcba-ESR1_ago-ave  0.01  0.000000\n",
       "212  molehd-bpe     lit-pcba-ALDH1-ave  0.01  2.373278\n",
       "210  molehd-bpe     lit-pcba-ADRB2-ave  0.01  0.000000\n",
       "238  molehd-bpe       lit-pcba-VDR-ave  0.01  1.696970\n",
       "\n",
       "[120 rows x 4 columns]"
      ]
     },
     "execution_count": 87,
     "metadata": {},
     "output_type": "execute_result"
    }
   ],
   "source": [
    "grp_df[grp_df[\"p\"] == .01]"
   ]
  },
  {
   "cell_type": "code",
   "execution_count": 88,
   "metadata": {
    "scrolled": false
   },
   "outputs": [
    {
     "name": "stdout",
     "output_type": "stream",
     "text": [
      "('Vina', 0.01)\n",
      "           p     enrich\n",
      "count  15.00  15.000000\n",
      "mean    0.01   1.863541\n",
      "std     0.00   2.555962\n",
      "min     0.01   0.000000\n",
      "25%     0.01   0.000000\n",
      "50%     0.01   1.362210\n",
      "75%     0.01   1.893499\n",
      "max     0.01   8.324405\n",
      "('Vina', 0.1)\n",
      "                  p     enrich\n",
      "count  1.500000e+01  15.000000\n",
      "mean   1.000000e-01   1.573757\n",
      "std    2.872975e-17   0.793035\n",
      "min    1.000000e-01   0.434778\n",
      "25%    1.000000e-01   1.117224\n",
      "50%    1.000000e-01   1.578930\n",
      "75%    1.000000e-01   1.921212\n",
      "max    1.000000e-01   3.329762\n",
      "('hdbind-rp-ecfp-1024-1', 0.01)\n",
      "           p     enrich\n",
      "count  15.00  15.000000\n",
      "mean    0.01   7.250785\n",
      "std     0.00   7.308008\n",
      "min     0.01   0.000000\n",
      "25%     0.01   0.415010\n",
      "50%     0.01   5.819744\n",
      "75%     0.01  10.469199\n",
      "max     0.01  25.533272\n",
      "('hdbind-rp-ecfp-1024-1', 0.1)\n",
      "                  p     enrich\n",
      "count  1.500000e+01  15.000000\n",
      "mean   1.000000e-01   2.660019\n",
      "std    2.872975e-17   1.363428\n",
      "min    1.000000e-01   0.000000\n",
      "25%    1.000000e-01   2.216660\n",
      "50%    1.000000e-01   2.812339\n",
      "75%    1.000000e-01   3.235397\n",
      "max    1.000000e-01   4.992366\n",
      "('hdbind-rp-ecfp-1024-1-100', 0.01)\n",
      "           p     enrich\n",
      "count  15.00  15.000000\n",
      "mean    0.01   3.337797\n",
      "std     0.00   3.320402\n",
      "min     0.01   0.000000\n",
      "25%     0.01   1.218212\n",
      "50%     0.01   1.660040\n",
      "75%     0.01   5.327054\n",
      "max     0.01  11.659753\n",
      "('hdbind-rp-ecfp-1024-1-100', 0.1)\n",
      "                  p     enrich\n",
      "count  1.500000e+01  15.000000\n",
      "mean   1.000000e-01   1.883676\n",
      "std    2.872975e-17   0.605979\n",
      "min    1.000000e-01   0.914205\n",
      "25%    1.000000e-01   1.364500\n",
      "50%    1.000000e-01   1.915971\n",
      "75%    1.000000e-01   2.258968\n",
      "max    1.000000e-01   3.026955\n",
      "('hdbind-rp-ecfp-1024-1-100k', 0.01)\n",
      "           p     enrich\n",
      "count  15.00  15.000000\n",
      "mean    0.01   9.975773\n",
      "std     0.00  10.206427\n",
      "min     0.01   0.000000\n",
      "25%     0.01   2.745783\n",
      "50%     0.01   7.913397\n",
      "75%     0.01  11.795385\n",
      "max     0.01  33.304268\n",
      "('hdbind-rp-ecfp-1024-1-100k', 0.1)\n",
      "                  p     enrich\n",
      "count  1.500000e+01  15.000000\n",
      "mean   1.000000e-01   3.153060\n",
      "std    2.872975e-17   1.618811\n",
      "min    1.000000e-01   0.000000\n",
      "25%    1.000000e-01   1.933280\n",
      "50%    1.000000e-01   3.424242\n",
      "75%    1.000000e-01   3.895549\n",
      "max    1.000000e-01   6.323664\n",
      "('hdbind-rp-ecfp-1024-1-1k', 0.01)\n",
      "           p     enrich\n",
      "count  15.00  15.000000\n",
      "mean    0.01   3.974754\n",
      "std     0.00   3.617682\n",
      "min     0.01   0.000000\n",
      "25%     0.01   1.093933\n",
      "50%     0.01   4.138484\n",
      "75%     0.01   5.083732\n",
      "max     0.01  12.457143\n",
      "('hdbind-rp-ecfp-1024-1-1k', 0.1)\n",
      "                  p     enrich\n",
      "count  1.500000e+01  15.000000\n",
      "mean   1.000000e-01   1.945066\n",
      "std    2.872975e-17   1.251450\n",
      "min    1.000000e-01   0.000000\n",
      "25%    1.000000e-01   1.079156\n",
      "50%    1.000000e-01   2.038184\n",
      "75%    1.000000e-01   2.694328\n",
      "max    1.000000e-01   4.173538\n",
      "('hdbind-rp-ecfp-1024-1-1m', 0.01)\n",
      "           p     enrich\n",
      "count  15.00  15.000000\n",
      "mean    0.01   8.790525\n",
      "std     0.00  10.113944\n",
      "min     0.01   0.000000\n",
      "25%     0.01   0.388308\n",
      "50%     0.01   8.158141\n",
      "75%     0.01  11.629625\n",
      "max     0.01  34.414410\n",
      "('hdbind-rp-ecfp-1024-1-1m', 0.1)\n",
      "                  p     enrich\n",
      "count  1.500000e+01  15.000000\n",
      "mean   1.000000e-01   2.806302\n",
      "std    2.872975e-17   1.593003\n",
      "min    1.000000e-01   0.000000\n",
      "25%    1.000000e-01   1.707790\n",
      "50%    1.000000e-01   2.562353\n",
      "75%    1.000000e-01   3.647653\n",
      "max    1.000000e-01   6.597233\n",
      "('mlp-1024-1', 0.01)\n",
      "           p     enrich\n",
      "count  15.00  15.000000\n",
      "mean    0.01   6.709953\n",
      "std     0.00   6.384858\n",
      "min     0.01   0.000000\n",
      "25%     0.01   0.000000\n",
      "50%     0.01   5.561088\n",
      "75%     0.01  10.786253\n",
      "max     0.01  18.872418\n",
      "('mlp-1024-1', 0.1)\n",
      "                  p     enrich\n",
      "count  1.500000e+01  15.000000\n",
      "mean   1.000000e-01   2.599364\n",
      "std    2.872975e-17   1.145174\n",
      "min    1.000000e-01   0.665714\n",
      "25%    1.000000e-01   1.706994\n",
      "50%    1.000000e-01   2.414664\n",
      "75%    1.000000e-01   3.424344\n",
      "max    1.000000e-01   5.110603\n",
      "('molehd-bpe', 0.01)\n",
      "           p     enrich\n",
      "count  15.00  15.000000\n",
      "mean    0.01   3.360217\n",
      "std     0.00   4.671599\n",
      "min     0.01   0.000000\n",
      "25%     0.01   0.000000\n",
      "50%     0.01   1.395154\n",
      "75%     0.01   5.435679\n",
      "max     0.01  15.571429\n",
      "('molehd-bpe', 0.1)\n",
      "                  p     enrich\n",
      "count  1.500000e+01  15.000000\n",
      "mean   1.000000e-01   1.859264\n",
      "std    2.872975e-17   0.941937\n",
      "min    1.000000e-01   0.249981\n",
      "25%    1.000000e-01   1.320807\n",
      "50%    1.000000e-01   1.704112\n",
      "75%    1.000000e-01   2.305192\n",
      "max    1.000000e-01   3.328571\n"
     ]
    }
   ],
   "source": [
    "for name, group in grp_df.groupby([\"model\", \"p\"]):\n",
    "    print(name)\n",
    "    print(group.describe())"
   ]
  },
  {
   "cell_type": "code",
   "execution_count": 89,
   "metadata": {},
   "outputs": [
    {
     "data": {
      "image/png": "[encoded data removed]",
      "text/plain": [
       "<Figure size 864x720 with 2 Axes>"
      ]
     },
     "metadata": {
      "needs_background": "light"
     },
     "output_type": "display_data"
    }
   ],
   "source": [
    "make_box_plot(enrich_1_df=grp_df[grp_df[\"p\"] == .01], \n",
    "          enrich_10_df=grp_df[grp_df[\"p\"] == .1],\n",
    "             dataset=\"LIT-PCBA\")"
   ]
  },
  {
   "cell_type": "markdown",
   "metadata": {},
   "source": [
    "- should add the average EF (median?) to the labels on the horizontal axis\n",
    "- scale the point size by standard deviation?\n",
    "- standard scale the molformer embeddings?"
   ]
  },
  {
   "cell_type": "code",
   "execution_count": 26,
   "metadata": {},
   "outputs": [],
   "source": [
    "def timing_plot(input_tup_list:list, dataset:str):\n",
    "    \n",
    "    \n",
    "    f, ax = plt.subplots(1, 1, figsize=(12,10))\n",
    "    \n",
    "    df_dict = {\"target\": [], \"model\": [], \"time\": [], \"format_name\": []}\n",
    "    for model_name, format_name in input_tup_list:\n",
    "        \n",
    "        data_path_list = list(data_p.glob(f\"{model_name}.{dataset}*.pkl\"))\n",
    "        \n",
    "        for path in data_path_list:\n",
    "            with open(path, \"rb\") as handle:\n",
    "                data = pickle.load(handle)\n",
    "                \n",
    "                test_time_list = []\n",
    "                for i in range(10):\n",
    "                    df_dict[\"time\"].append(data[\"trials\"][i][\"test_time\"]/data[\"y_test\"].shape[0])\n",
    "                    df_dict[\"target\"].append(path.name)\n",
    "                    df_dict[\"model\"].append(model_name)\n",
    "                    df_dict[\"format_name\"].append(format_name)\n",
    "                    \n",
    "\n",
    "    df = pd.DataFrame(df_dict)\n",
    "    xlabels = (df.groupby([\"model\", \"format_name\"]).median().reset_index()[\"format_name\"]).values.tolist()\n",
    "#     import pdb\n",
    "#     pdb.set_trace()\n",
    "    sns.swarmplot(data=df.groupby([\"target\", \"model\", \"format_name\"]).median().reset_index(),\n",
    "                  order=[x for x in model_dict.keys()],\n",
    "                  x=\"model\", y=\"time\", ax=ax)\n",
    "\n",
    "    ax.tick_params(axis=\"x\", labelrotation=22.5)\n",
    "    ax.set_yscale(\"log\")\n",
    "#     labels = [item.get_text() for item in ax.get_xticklabels()]\n",
    "#     labels = [x[1] for x in input_tup_list]\n",
    "    ax.set_xticklabels(xlabels)\n",
    "    \n",
    "    f.savefig(\"lit-pcba-timing.png\", dpi=600, bbox_inches=\"tight\")\n",
    "    \n",
    "    return df\n",
    "    "
   ]
  },
  {
   "cell_type": "code",
   "execution_count": null,
   "metadata": {
    "scrolled": false
   },
   "outputs": [],
   "source": [
    "time_df = timing_plot([(\"mlp-1024-1\", \"MLP (GPU)\"),\n",
    "            (\"hdbind-rp-molformer\", \"RP-MolFormer (GPU)\"),\n",
    "            (\"molehd-bpe\", \"MoleHD-BPE (CPU)\"),\n",
    "            (\"hdbind-ecfp-1024-1-100\", \"RP-ECFP-100 (GPU)\"),\n",
    "                      (\"hdbind-ecfp-1024-1-1k\", \"RP-ECFP-1k (GPU)\"),\n",
    "                      (\"hdbind-ecfp-1024-1-100k\", \"RP-ECFP-100k (GPU)\")], \n",
    "                      dataset=\"lit-pcba\")"
   ]
  },
  {
   "cell_type": "code",
   "execution_count": null,
   "metadata": {},
   "outputs": [],
   "source": [
    "avg_times = time_df.groupby([\"model\"]).mean()[\"time\"].reset_index()\n",
    "# avg_times.reset_index()"
   ]
  },
  {
   "cell_type": "code",
   "execution_count": null,
   "metadata": {},
   "outputs": [],
   "source": [
    "avg_times[\"time\"][0], avg_times[\"model\"][0]"
   ]
  },
  {
   "cell_type": "code",
   "execution_count": null,
   "metadata": {},
   "outputs": [],
   "source": [
    "avg_times[\"time\"][1], avg_times[\"model\"][1]"
   ]
  },
  {
   "cell_type": "code",
   "execution_count": null,
   "metadata": {},
   "outputs": [],
   "source": [
    "avg_times[\"time\"][2], avg_times[\"model\"][2]"
   ]
  },
  {
   "cell_type": "code",
   "execution_count": null,
   "metadata": {},
   "outputs": [],
   "source": [
    "avg_times[\"time\"][3], avg_times[\"model\"][3]"
   ]
  },
  {
   "cell_type": "code",
   "execution_count": null,
   "metadata": {},
   "outputs": [],
   "source": [
    "avg_times[\"time\"][4], avg_times[\"model\"][4]"
   ]
  },
  {
   "cell_type": "code",
   "execution_count": null,
   "metadata": {},
   "outputs": [],
   "source": [
    "avg_times[\"time\"][5], avg_times[\"model\"][5]"
   ]
  },
  {
   "cell_type": "markdown",
   "metadata": {},
   "source": [
    "---"
   ]
  },
  {
   "cell_type": "code",
   "execution_count": null,
   "metadata": {},
   "outputs": [],
   "source": [
    "100 * abs( avg_times[\"time\"][0] - avg_times[\"time\"][4])/(avg_times[\"time\"][4])"
   ]
  },
  {
   "cell_type": "code",
   "execution_count": null,
   "metadata": {},
   "outputs": [],
   "source": [
    "avg_times[\"time\"][4] / avg_times[\"time\"][0]"
   ]
  },
  {
   "cell_type": "code",
   "execution_count": null,
   "metadata": {},
   "outputs": [],
   "source": [
    "avg_times[\"time\"][5] / avg_times[\"time\"][0]"
   ]
  },
  {
   "cell_type": "code",
   "execution_count": null,
   "metadata": {},
   "outputs": [],
   "source": [
    "avg_times[\"time\"][0] / avg_times[\"time\"][1]"
   ]
  },
  {
   "cell_type": "markdown",
   "metadata": {},
   "source": [
    "- theres way more parameters in the hdbind-rp-molformer as compared to the mlp\n",
    "- (1024 * 10000 = 10.24M parameters)\n",
    "- (\n",
    "- can D go higher? a .85x slow down from 100 to 10000 seems pretty small, there also seems to be a considerable increase in accuracy when pushing D higher..."
   ]
  },
  {
   "cell_type": "code",
   "execution_count": null,
   "metadata": {},
   "outputs": [],
   "source": []
  }
 ],
 "metadata": {
  "kernelspec": {
   "display_name": "dtra_reactivator",
   "language": "python",
   "name": "dtra_reactivator"
  },
  "language_info": {
   "codemirror_mode": {
    "name": "ipython",
    "version": 3
   },
   "file_extension": ".py",
   "mimetype": "text/x-python",
   "name": "python",
   "nbconvert_exporter": "python",
   "pygments_lexer": "ipython3",
   "version": "3.8.12"
  }
 },
 "nbformat": 4,
 "nbformat_minor": 4
}
