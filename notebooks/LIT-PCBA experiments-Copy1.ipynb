{
 "cells": [
  {
   "cell_type": "markdown",
   "metadata": {},
   "source": [
    "# LIT-PCBA \n",
    "this dataset is a proposed \"more difficult\" test than DUD-E. I used a 75/25 (sklearn default) stratified split. The dataset is heavily imbalanced, like DUD-E."
   ]
  },
  {
   "cell_type": "code",
   "execution_count": 1,
   "metadata": {},
   "outputs": [],
   "source": [
    "import pickle\n",
    "from sklearn.metrics import roc_auc_score\n",
    "import numpy as np\n",
    "import seaborn as sns\n",
    "import torch\n",
    "import seaborn as sns\n",
    "from tqdm import tqdm\n",
    "import pandas as pd\n",
    "from pathlib import Path\n",
    "from sklearn.metrics import f1_score, recall_score\n",
    "import matplotlib.pyplot as plt\n",
    "import sys\n",
    "# sys.path.append('..')\n",
    "sys.path.insert(0, \"/g/g13/jones289/workspace/hd-cuda-master\")\n",
    "# print(sys.path)\n",
    "import hdpy\n",
    "import hdpy.ecfp\n",
    "# from hdpy.analysis import load_pkl\n",
    "from hdpy.metrics import compute_enrichment_factor\n",
    "from pathlib import Path\n",
    "\n",
    "\n",
    "plt.rc('text', usetex=True)\n",
    "plt.rc('font', family='serif')\n",
    "plt.rc('xtick', labelsize=15)\n",
    "plt.rc('ytick', labelsize=15)\n",
    "plt.rc('axes', labelsize=17)\n",
    "plt.rc('figure', titlesize=20)\n",
    "\n",
    "\n",
    "# SEED=125\n",
    "SEED=5\n",
    "# SEED=2\n",
    "\n",
    "data_p = Path(f\"/p/vast1/jones289/hd_results/{SEED}\")"
   ]
  },
  {
   "cell_type": "code",
   "execution_count": 2,
   "metadata": {},
   "outputs": [],
   "source": [
    "green_color_pal = sns.color_palette(\"Greens\", 10)\n",
    "blue_color_pal = sns.color_palette(\"Blues\", 10)\n",
    "rocket_color_pal = sns.color_palette(\"rocket\", 10)"
   ]
  },
  {
   "cell_type": "code",
   "execution_count": 3,
   "metadata": {},
   "outputs": [],
   "source": [
    "model_dict = {\n",
    "    \"molehd-bpe\": (\"MoleHD-BPE\", rocket_color_pal[4]),\n",
    "    \"hdbind-rp-molformer\": (\"HDBind+MolFormer\", green_color_pal[4]),\n",
    "    \"hdbind-ecfp-1024-1-100\": (\"HDBind+ECFP-100\", green_color_pal[6]),\n",
    "    \"hdbind-ecfp-1024-1-1k\": (\"HDBind+ECFP-1k\", green_color_pal[6]),\n",
    "    \"hdbind-rp-ecfp-1024-1\": (\"HDBind+ECFP-10k\", green_color_pal[6]),\n",
    "    \"hdbind-ecfp-1024-1-100k\": (\"HDBind+ECFP-100k\", green_color_pal[9]),\n",
    "    \"mlp-1024-1\": (\"MLP\", blue_color_pal[7]),\n",
    "    \"Vina\": (\"Vina\", \"salmon\"),\n",
    "}"
   ]
  },
  {
   "cell_type": "markdown",
   "metadata": {},
   "source": [
    "# LIT-PCBA Results"
   ]
  },
  {
   "cell_type": "markdown",
   "metadata": {},
   "source": [
    "export CONDA_ROOT=/usr/workspace/jones289/anaconda3-power #installed using the LC installer script\n",
    "export PATH=$CONDA_ROOT/bin:$PATH\n",
    "export CONDA_EXE=$CONDA_ROOT/bin/conda\n",
    "ml load gcc/11\n",
    "export PYTHONPATH=$PWD:$PYTHONPATH\n",
    "source activate /usr/workspace/jones289/anaconda3-power/envs/opence-1.8.0"
   ]
  },
  {
   "cell_type": "code",
   "execution_count": 4,
   "metadata": {},
   "outputs": [],
   "source": [
    "from sklearn.metrics import recall_score, precision_score, f1_score, roc_auc_score\n",
    "\n",
    "\n",
    "def compute_metrics(y_pred, y_score, y_true, p):\n",
    "#     import pdb\n",
    "#     pdb.set_trace()\n",
    "\n",
    "\n",
    "    if y_score.squeeze().ndim == 2:\n",
    "        enrich = float(compute_enrichment_factor(scores=y_score[:, 1], labels=y_true, n_percent=p))\n",
    "        roc = roc_auc_score(y_score=y_score[:, 1], y_true=y_true)\n",
    "    else:\n",
    "        enrich = float(compute_enrichment_factor(scores=y_score, labels=y_true, n_percent=p))\n",
    "        roc = roc_auc_score(y_score=y_score, y_true=y_true)\n",
    "\n",
    "    \n",
    "    \n",
    "    return {\"precision\": precision_score(y_pred=y_pred, y_true=y_true, zero_division=0),\n",
    "            \"recall\": recall_score(y_pred=y_pred, y_true=y_true),\n",
    "           \"f1\": f1_score(y_pred=y_pred, y_true=y_true, zero_division=0),\n",
    "            \"enrich\": enrich,            \n",
    "           \"roc\": roc\n",
    "           }\n",
    "\n",
    "\n",
    "def aggregate_results(dataset, range_limit=10, multistep_initial_p=None, \n",
    "                      multistep_p_list=None, \n",
    "                      multistep_sklearn_model=None):\n",
    "    \n",
    "    model_metric_dict = {\"model\": [], \"enrich\": [], \"p\":[], \"train_time\":[], \"test_time\": [], \"target\": [],\n",
    "                        \"seed\": [], \"recall\": [], \"precision\": [], \"f1\": [], \n",
    "                        }\n",
    "\n",
    "    for model_name, model_tup in tqdm(model_dict.items(), total=len(model_dict), position=0):\n",
    "                        \n",
    "\n",
    "        data_path_list = list(data_p.glob(f\"{model_name}.{dataset}*.pkl\"))\n",
    "        print(f\"{model_name}-{dataset}: {len(model_tup)}\\t {len(data_path_list)}\")\n",
    "\n",
    "        \n",
    "\n",
    "        for path in tqdm(data_path_list, total=len(data_path_list), position=1):\n",
    "\n",
    "            \n",
    "#             model_data_dict = pd.read_pickle(path)\n",
    "            model_data_dict = torch.load(path)\n",
    "            target = path.name.split(\".\")[1]\n",
    "            \n",
    "            print(target, path, model_name)\n",
    "\n",
    "            for seed in range(len(model_data_dict['trials'])):\n",
    "                trial_dict = model_data_dict['trials'][seed]\n",
    "\n",
    "                y_test = model_data_dict[\"y_test\"]\n",
    "                actives_database = sum(y_test)\n",
    "                database_size = y_test.shape[0]\n",
    "\n",
    "\n",
    "\n",
    "                hdc_conf_scores = trial_dict[\"eta\"]\n",
    "                for p in [.01, .1]:\n",
    "\n",
    "                    try:\n",
    "\n",
    "                        metrics = compute_metrics(y_pred=trial_dict[\"y_pred\"], \n",
    "                                                  y_score=hdc_conf_scores, \n",
    "                                                  y_true=model_data_dict[\"y_test\"],\n",
    "                                                 p=p)\n",
    "\n",
    "                        model_metric_dict[\"target\"].append(target)\n",
    "                        model_metric_dict[\"test_time\"].append(trial_dict[\"test_time\"])\n",
    "                        model_metric_dict[\"enrich\"].append(metrics[\"enrich\"])\n",
    "                        model_metric_dict[\"p\"].append(p)\n",
    "                        model_metric_dict[\"seed\"].append(seed)\n",
    "                        model_metric_dict[\"precision\"].append(metrics[\"precision\"])\n",
    "                        model_metric_dict[\"recall\"].append(metrics[\"recall\"])\n",
    "                        model_metric_dict[\"f1\"].append(metrics[\"f1\"])\n",
    "                        model_metric_dict[\"model\"].append(model_name)\n",
    "                    except Exception as e:\n",
    "                        print(e)\n",
    "\n",
    "\n",
    "    model_metric_df = pd.DataFrame({key: value for key, value in model_metric_dict.items() if key not in [\"train_time\", \"test_time\", \"precision\", \"recall\", \"f1\"]})\n",
    "    return model_metric_df\n",
    "        \n"
   ]
  },
  {
   "cell_type": "markdown",
   "metadata": {},
   "source": [
    "# VINA result"
   ]
  },
  {
   "cell_type": "code",
   "execution_count": 5,
   "metadata": {},
   "outputs": [],
   "source": [
    "from pathlib import Path\n",
    "\n",
    "def load_lit_pcba_vina(nrows=None):\n",
    "    root_p = Path(\"/p/lustre2/ahashare/zhang30/LIT-PCBA-Data/\")\n",
    "\n",
    "    path_list = [path for path in root_p.glob(\"*-actives.csv\")]\n",
    "\n",
    "\n",
    "    df_list = []\n",
    "\n",
    "    for idx, path in tqdm(enumerate(path_list), total=len(path_list)):\n",
    "        print(idx, path)\n",
    "        \n",
    "#         '''\n",
    "        target = path.name.split(\".\")[0].split(\"-\")[0]\n",
    "        print(target, idx+1, path)\n",
    "        \n",
    "        \n",
    "\n",
    "        merged_df = None\n",
    "        merged_df_path = Path(f\"./lit_pcba_docking_analysis/{target}.csv\")\n",
    "        \n",
    "        if not merged_df_path.exists():\n",
    "            # can use the set of smiles in each result file\n",
    "            \n",
    "            # todo (10/18/23): is this valid?\n",
    "            result_pkl = Path(f\"/g/g13/jones289/workspace/hd-cuda-master/hdpy/hdpy/results/124/lit_pcba.{target}.ecfp.atomwise.0.pkl\")        \n",
    "\n",
    "\n",
    "            target_train_smiles_list = []\n",
    "            target_test_smiles_list = []\n",
    "\n",
    "            with open(result_pkl, \"rb\") as handle:\n",
    "\n",
    "                data = pickle.load(handle)\n",
    "\n",
    "                target_train_smiles_list = data[\"smiles_train\"]\n",
    "                target_test_smiles_list = data[\"smiles_test\"]\n",
    "\n",
    "                print(f\"total of {len(target_train_smiles_list)} in training set, total of {len(target_test_smiles_list)} in testing set.\")\n",
    "\n",
    "            df_cols = ['file', ' scores/1', ' ligName']\n",
    "            active_df = pd.read_csv(root_p / Path(f\"{target}-actives.csv.clean\"), sep=\",\", usecols=df_cols, nrows=nrows)\n",
    "            active_df['y_true'] = [1] * len(active_df)\n",
    "\n",
    "\n",
    "\n",
    "            inactive_df = pd.read_csv(root_p / Path(f\"{target}-inactives.csv.clean\"), sep=\",\", usecols=df_cols, nrows=nrows)\n",
    "            inactive_df['y_true'] = [0] * len(inactive_df)\n",
    "\n",
    "            target_df = pd.concat([active_df, inactive_df])\n",
    "            # this will search over all of the docking results for each target, across each of the multiple protein models\n",
    "\n",
    "            active_smiles_df = pd.read_csv(f\"/p/vast1/jones289/lit_pcba/{target}/actives.smi\", delim_whitespace=True, header=None)\n",
    "            inactive_smiles_df = pd.read_csv(f\"/p/vast1/jones289/lit_pcba/{target}/inactives.smi\", delim_whitespace=True, header=None)\n",
    "            target_smiles_df = pd.concat([active_smiles_df, inactive_smiles_df])\n",
    "\n",
    "\n",
    "\n",
    "            top_pose_target_df = target_df.groupby([' ligName'], as_index=False)[[' ligName', ' scores/1', 'y_true']].min()\n",
    "\n",
    "\n",
    "        \n",
    "            merged_df_path.parent.mkdir(exist_ok=True, parents=True)\n",
    "            merged_df = pd.merge(top_pose_target_df, target_smiles_df, left_on=\" ligName\", right_on=1)\n",
    "            merged_df = merged_df[merged_df.apply(lambda x: x[0] in target_test_smiles_list, axis=1)]\n",
    "            merged_df['target'] = [target] * len(merged_df)\n",
    "            merged_df.to_csv(merged_df_path, index=False)\n",
    "        else:\n",
    "            merged_df = pd.read_csv(merged_df_path)\n",
    "            \n",
    "            if 'target' not in merged_df.columns:\n",
    "                merged_df['target'] = [target] * len(merged_df)\n",
    "                merged_df.to_csv(merged_df_path, index=False)\n",
    "\n",
    "\n",
    "\n",
    "        df_list.append(merged_df)\n",
    "\n",
    "    df = pd.concat(df_list)\n",
    "    return df"
   ]
  },
  {
   "cell_type": "code",
   "execution_count": 6,
   "metadata": {},
   "outputs": [
    {
     "name": "stderr",
     "output_type": "stream",
     "text": [
      "  7%|▋         | 1/15 [00:00<00:02,  5.00it/s]"
     ]
    },
    {
     "name": "stdout",
     "output_type": "stream",
     "text": [
      "0 /p/lustre2/ahashare/zhang30/LIT-PCBA-Data/PKM2-actives.csv\n",
      "PKM2 1 /p/lustre2/ahashare/zhang30/LIT-PCBA-Data/PKM2-actives.csv\n",
      "1 /p/lustre2/ahashare/zhang30/LIT-PCBA-Data/GBA-actives.csv\n",
      "GBA 2 /p/lustre2/ahashare/zhang30/LIT-PCBA-Data/GBA-actives.csv\n"
     ]
    },
    {
     "name": "stderr",
     "output_type": "stream",
     "text": [
      "\r",
      " 13%|█▎        | 2/15 [00:00<00:02,  4.94it/s]"
     ]
    },
    {
     "name": "stdout",
     "output_type": "stream",
     "text": [
      "2 /p/lustre2/ahashare/zhang30/LIT-PCBA-Data/ESR1_ago-actives.csv\n",
      "ESR1_ago 3 /p/lustre2/ahashare/zhang30/LIT-PCBA-Data/ESR1_ago-actives.csv\n",
      "3 /p/lustre2/ahashare/zhang30/LIT-PCBA-Data/MAPK1-actives.csv\n",
      "MAPK1 4 /p/lustre2/ahashare/zhang30/LIT-PCBA-Data/MAPK1-actives.csv\n",
      "4 /p/lustre2/ahashare/zhang30/LIT-PCBA-Data/VDR-actives.csv\n",
      "VDR 5 /p/lustre2/ahashare/zhang30/LIT-PCBA-Data/VDR-actives.csv\n"
     ]
    },
    {
     "name": "stderr",
     "output_type": "stream",
     "text": [
      "\r",
      " 33%|███▎      | 5/15 [00:00<00:01,  8.23it/s]"
     ]
    },
    {
     "name": "stdout",
     "output_type": "stream",
     "text": [
      "5 /p/lustre2/ahashare/zhang30/LIT-PCBA-Data/KAT2A-actives.csv\n",
      "KAT2A 6 /p/lustre2/ahashare/zhang30/LIT-PCBA-Data/KAT2A-actives.csv\n"
     ]
    },
    {
     "name": "stderr",
     "output_type": "stream",
     "text": [
      " 53%|█████▎    | 8/15 [00:00<00:00,  9.55it/s]"
     ]
    },
    {
     "name": "stdout",
     "output_type": "stream",
     "text": [
      "6 /p/lustre2/ahashare/zhang30/LIT-PCBA-Data/ALDH1-actives.csv\n",
      "ALDH1 7 /p/lustre2/ahashare/zhang30/LIT-PCBA-Data/ALDH1-actives.csv\n",
      "7 /p/lustre2/ahashare/zhang30/LIT-PCBA-Data/TP53-actives.csv\n",
      "TP53 8 /p/lustre2/ahashare/zhang30/LIT-PCBA-Data/TP53-actives.csv\n",
      "8 /p/lustre2/ahashare/zhang30/LIT-PCBA-Data/PPARG-actives.csv\n",
      "PPARG 9 /p/lustre2/ahashare/zhang30/LIT-PCBA-Data/PPARG-actives.csv\n",
      "9 /p/lustre2/ahashare/zhang30/LIT-PCBA-Data/ADRB2-actives.csv\n",
      "ADRB2 10 /p/lustre2/ahashare/zhang30/LIT-PCBA-Data/ADRB2-actives.csv\n"
     ]
    },
    {
     "name": "stderr",
     "output_type": "stream",
     "text": [
      " 80%|████████  | 12/15 [00:01<00:00, 10.93it/s]"
     ]
    },
    {
     "name": "stdout",
     "output_type": "stream",
     "text": [
      "10 /p/lustre2/ahashare/zhang30/LIT-PCBA-Data/MTORC1-actives.csv\n",
      "MTORC1 11 /p/lustre2/ahashare/zhang30/LIT-PCBA-Data/MTORC1-actives.csv\n",
      "11 /p/lustre2/ahashare/zhang30/LIT-PCBA-Data/OPRK1-actives.csv\n",
      "OPRK1 12 /p/lustre2/ahashare/zhang30/LIT-PCBA-Data/OPRK1-actives.csv\n",
      "12 /p/lustre2/ahashare/zhang30/LIT-PCBA-Data/IDH1-actives.csv\n",
      "IDH1 13 /p/lustre2/ahashare/zhang30/LIT-PCBA-Data/IDH1-actives.csv\n"
     ]
    },
    {
     "name": "stderr",
     "output_type": "stream",
     "text": [
      "100%|██████████| 15/15 [00:01<00:00,  8.85it/s]"
     ]
    },
    {
     "name": "stdout",
     "output_type": "stream",
     "text": [
      "13 /p/lustre2/ahashare/zhang30/LIT-PCBA-Data/ESR1_ant-actives.csv\n",
      "ESR1_ant 14 /p/lustre2/ahashare/zhang30/LIT-PCBA-Data/ESR1_ant-actives.csv\n",
      "14 /p/lustre2/ahashare/zhang30/LIT-PCBA-Data/FEN1-actives.csv\n",
      "FEN1 15 /p/lustre2/ahashare/zhang30/LIT-PCBA-Data/FEN1-actives.csv\n"
     ]
    },
    {
     "name": "stderr",
     "output_type": "stream",
     "text": [
      "\n"
     ]
    },
    {
     "data": {
      "text/html": [
       "<div>\n",
       "<style scoped>\n",
       "    .dataframe tbody tr th:only-of-type {\n",
       "        vertical-align: middle;\n",
       "    }\n",
       "\n",
       "    .dataframe tbody tr th {\n",
       "        vertical-align: top;\n",
       "    }\n",
       "\n",
       "    .dataframe thead th {\n",
       "        text-align: right;\n",
       "    }\n",
       "</style>\n",
       "<table border=\"1\" class=\"dataframe\">\n",
       "  <thead>\n",
       "    <tr style=\"text-align: right;\">\n",
       "      <th></th>\n",
       "      <th>ligName</th>\n",
       "      <th>scores/1</th>\n",
       "      <th>y_true</th>\n",
       "      <th>0</th>\n",
       "      <th>1</th>\n",
       "      <th>target</th>\n",
       "    </tr>\n",
       "  </thead>\n",
       "  <tbody>\n",
       "    <tr>\n",
       "      <th>0</th>\n",
       "      <td>842131</td>\n",
       "      <td>-10.9</td>\n",
       "      <td>0</td>\n",
       "      <td>C(Nc1nc(nc2ccccc12)N3CCCCC3)c4occc4</td>\n",
       "      <td>842131</td>\n",
       "      <td>PKM2</td>\n",
       "    </tr>\n",
       "    <tr>\n",
       "      <th>1</th>\n",
       "      <td>842137</td>\n",
       "      <td>-13.6</td>\n",
       "      <td>0</td>\n",
       "      <td>Cc1ccc2nc(N3CC[NH+](Cc4nnnn4Cc5ccccc5)CC3)c(cc...</td>\n",
       "      <td>842137</td>\n",
       "      <td>PKM2</td>\n",
       "    </tr>\n",
       "    <tr>\n",
       "      <th>2</th>\n",
       "      <td>842144</td>\n",
       "      <td>-11.0</td>\n",
       "      <td>0</td>\n",
       "      <td>Cc1ccc(C)c(NC(=O)CSc2nnc(CSc3nc(C)cc(C)n3)n2Cc...</td>\n",
       "      <td>842144</td>\n",
       "      <td>PKM2</td>\n",
       "    </tr>\n",
       "    <tr>\n",
       "      <th>3</th>\n",
       "      <td>842162</td>\n",
       "      <td>-11.3</td>\n",
       "      <td>0</td>\n",
       "      <td>COc1cccc(c1)C(=O)Nc2ccc(cc2)S(=O)(=O)NCc3occc3</td>\n",
       "      <td>842162</td>\n",
       "      <td>PKM2</td>\n",
       "    </tr>\n",
       "    <tr>\n",
       "      <th>4</th>\n",
       "      <td>842164</td>\n",
       "      <td>-8.8</td>\n",
       "      <td>0</td>\n",
       "      <td>O=C(Cn1nnc(n1)c2cccs2)OC3CCCCC3</td>\n",
       "      <td>842164</td>\n",
       "      <td>PKM2</td>\n",
       "    </tr>\n",
       "    <tr>\n",
       "      <th>...</th>\n",
       "      <td>...</td>\n",
       "      <td>...</td>\n",
       "      <td>...</td>\n",
       "      <td>...</td>\n",
       "      <td>...</td>\n",
       "      <td>...</td>\n",
       "    </tr>\n",
       "    <tr>\n",
       "      <th>90550</th>\n",
       "      <td>124899201</td>\n",
       "      <td>-5.2</td>\n",
       "      <td>0</td>\n",
       "      <td>[O-][N+](=O)c1cccc(\\C=C\\c2ccccc2)c1</td>\n",
       "      <td>124899201</td>\n",
       "      <td>FEN1</td>\n",
       "    </tr>\n",
       "    <tr>\n",
       "      <th>90551</th>\n",
       "      <td>124899232</td>\n",
       "      <td>-5.1</td>\n",
       "      <td>0</td>\n",
       "      <td>CN(CCCCCC[NH3+])c1nccc(n1)N2CC[NH+](C)CC2</td>\n",
       "      <td>124899232</td>\n",
       "      <td>FEN1</td>\n",
       "    </tr>\n",
       "    <tr>\n",
       "      <th>90552</th>\n",
       "      <td>124899250</td>\n",
       "      <td>-5.3</td>\n",
       "      <td>0</td>\n",
       "      <td>ONC(=O)Cc1ccc(OCC2CCCCC2)cc1</td>\n",
       "      <td>124899250</td>\n",
       "      <td>FEN1</td>\n",
       "    </tr>\n",
       "    <tr>\n",
       "      <th>90553</th>\n",
       "      <td>124899255</td>\n",
       "      <td>-4.9</td>\n",
       "      <td>0</td>\n",
       "      <td>CC(C)CCOc1ccc(CC(=O)NO)cc1</td>\n",
       "      <td>124899255</td>\n",
       "      <td>FEN1</td>\n",
       "    </tr>\n",
       "    <tr>\n",
       "      <th>90554</th>\n",
       "      <td>124899256</td>\n",
       "      <td>-4.5</td>\n",
       "      <td>0</td>\n",
       "      <td>CCCCCCCOc1ccc(CC(=O)NO)cc1</td>\n",
       "      <td>124899256</td>\n",
       "      <td>FEN1</td>\n",
       "    </tr>\n",
       "  </tbody>\n",
       "</table>\n",
       "<p>715656 rows × 6 columns</p>\n",
       "</div>"
      ],
      "text/plain": [
       "         ligName   scores/1  y_true  \\\n",
       "0         842131      -10.9       0   \n",
       "1         842137      -13.6       0   \n",
       "2         842144      -11.0       0   \n",
       "3         842162      -11.3       0   \n",
       "4         842164       -8.8       0   \n",
       "...          ...        ...     ...   \n",
       "90550  124899201       -5.2       0   \n",
       "90551  124899232       -5.1       0   \n",
       "90552  124899250       -5.3       0   \n",
       "90553  124899255       -4.9       0   \n",
       "90554  124899256       -4.5       0   \n",
       "\n",
       "                                                       0          1 target  \n",
       "0                    C(Nc1nc(nc2ccccc12)N3CCCCC3)c4occc4     842131   PKM2  \n",
       "1      Cc1ccc2nc(N3CC[NH+](Cc4nnnn4Cc5ccccc5)CC3)c(cc...     842137   PKM2  \n",
       "2      Cc1ccc(C)c(NC(=O)CSc2nnc(CSc3nc(C)cc(C)n3)n2Cc...     842144   PKM2  \n",
       "3         COc1cccc(c1)C(=O)Nc2ccc(cc2)S(=O)(=O)NCc3occc3     842162   PKM2  \n",
       "4                        O=C(Cn1nnc(n1)c2cccs2)OC3CCCCC3     842164   PKM2  \n",
       "...                                                  ...        ...    ...  \n",
       "90550                [O-][N+](=O)c1cccc(\\C=C\\c2ccccc2)c1  124899201   FEN1  \n",
       "90551          CN(CCCCCC[NH3+])c1nccc(n1)N2CC[NH+](C)CC2  124899232   FEN1  \n",
       "90552                       ONC(=O)Cc1ccc(OCC2CCCCC2)cc1  124899250   FEN1  \n",
       "90553                         CC(C)CCOc1ccc(CC(=O)NO)cc1  124899255   FEN1  \n",
       "90554                         CCCCCCCOc1ccc(CC(=O)NO)cc1  124899256   FEN1  \n",
       "\n",
       "[715656 rows x 6 columns]"
      ]
     },
     "execution_count": 6,
     "metadata": {},
     "output_type": "execute_result"
    }
   ],
   "source": [
    "lit_pcba_vina_df = load_lit_pcba_vina()\n",
    "lit_pcba_vina_df"
   ]
  },
  {
   "cell_type": "code",
   "execution_count": 7,
   "metadata": {},
   "outputs": [],
   "source": [
    "def load_dude_vina(nrows=None):\n",
    "    vina_root_p = Path(\"/p/lustre1/jones289/DUDE-38/\")\n",
    "    vina_path_list = [path for path in vina_root_p.glob(\"*-active-summary.txt\")]\n",
    "\n",
    "    df_list = []\n",
    "\n",
    "\n",
    "    # root_dude_dir = Path(\"/g/g13/jones289/workspace/hd-cuda-master/datasets/dude/dude_smiles/\")\n",
    "    root_dude_dir = Path(\"/g/g13/jones289/workspace/hd-cuda-master/datasets/dude_smiles\")\n",
    "    for idx, path in enumerate(tqdm(vina_path_list)):\n",
    "    #     print(idx, path)\n",
    "        target = path.name.split(\".\")[0].split(\"-\")[0]\n",
    "#         print(target, idx+1, path)\n",
    "\n",
    "        # for some reason don't have inactive data for abl1\n",
    "        if target in [\"abl1\", \"fgfr1\"]:\n",
    "            tqdm.write(f\"{target} not found. skipping.\")\n",
    "            continue\n",
    "\n",
    "#         if target in dude_target_names:\n",
    "        else:\n",
    "\n",
    "            active_df = pd.read_csv(f\"/p/lustre1/jones289/DUDE-38/{target}-active-summary.txt\", header=None, delim_whitespace=True)\n",
    "            active_df['y_true'] = [1] * len(active_df)\n",
    "\n",
    "            decoy_df = pd.read_csv(f\"/p/lustre1/jones289/DUDE-38/{target}-decoy-summary.txt\", header=None, delim_whitespace=True)\n",
    "            decoy_df['y_true'] = [0] * len(decoy_df)\n",
    "\n",
    "\n",
    "            target_df = pd.concat([active_df, decoy_df])\n",
    "\n",
    "            target_df[\"target\"] = [target] * len(target_df)\n",
    "\n",
    "            target_df[\"vina\"] = target_df[2]\n",
    "            target_df[\"gbsa\"] = target_df[3]\n",
    "\n",
    "            target_df[\"cmpd_id\"] = target_df[1]\n",
    "\n",
    "            target_df[\"target_size\"] = target_df.shape[0]\n",
    "\n",
    "    #         import pdb\n",
    "    #         pdb.set_trace()\n",
    "            random_split_df = pd.read_csv(root_dude_dir/ Path(f\"{target}_gbsa_smiles_with_base_rdkit_smiles_train_valid_test_random_random.csv\"))\n",
    "\n",
    "\n",
    "    #         import pdb\n",
    "    #         pdb.set_trace()\n",
    "\n",
    "            # we only use the scores from the test set to attempt an even comparison\n",
    "\n",
    "            merged_df = pd.merge(target_df, random_split_df, on=\"cmpd_id\")\n",
    "            merged_df = merged_df.loc[merged_df['subset'] == \"test\"]\n",
    "\n",
    "#             print(merged_df.shape)\n",
    "\n",
    "            df_list.append(merged_df)\n",
    "#         else:\n",
    "#             pass\n",
    "\n",
    "    df = pd.concat(df_list)\n",
    "\n",
    "    return df\n",
    "    "
   ]
  },
  {
   "cell_type": "code",
   "execution_count": 8,
   "metadata": {},
   "outputs": [
    {
     "name": "stderr",
     "output_type": "stream",
     "text": [
      " 32%|███▎      | 13/40 [00:02<00:03,  7.38it/s]"
     ]
    },
    {
     "name": "stdout",
     "output_type": "stream",
     "text": [
      "fgfr1 not found. skipping.\n"
     ]
    },
    {
     "name": "stderr",
     "output_type": "stream",
     "text": [
      " 38%|███▊      | 15/40 [00:02<00:04,  5.93it/s]"
     ]
    },
    {
     "name": "stdout",
     "output_type": "stream",
     "text": [
      "abl1 not found. skipping.\n"
     ]
    },
    {
     "name": "stderr",
     "output_type": "stream",
     "text": [
      "100%|██████████| 40/40 [00:05<00:00,  6.70it/s]\n"
     ]
    },
    {
     "data": {
      "text/html": [
       "<div>\n",
       "<style scoped>\n",
       "    .dataframe tbody tr th:only-of-type {\n",
       "        vertical-align: middle;\n",
       "    }\n",
       "\n",
       "    .dataframe tbody tr th {\n",
       "        vertical-align: top;\n",
       "    }\n",
       "\n",
       "    .dataframe thead th {\n",
       "        text-align: right;\n",
       "    }\n",
       "</style>\n",
       "<table border=\"1\" class=\"dataframe\">\n",
       "  <thead>\n",
       "    <tr style=\"text-align: right;\">\n",
       "      <th></th>\n",
       "      <th>0</th>\n",
       "      <th>1</th>\n",
       "      <th>2</th>\n",
       "      <th>3</th>\n",
       "      <th>y_true</th>\n",
       "      <th>target</th>\n",
       "      <th>vina</th>\n",
       "      <th>gbsa</th>\n",
       "      <th>cmpd_id</th>\n",
       "      <th>target_size</th>\n",
       "      <th>subset</th>\n",
       "    </tr>\n",
       "  </thead>\n",
       "  <tbody>\n",
       "    <tr>\n",
       "      <th>65</th>\n",
       "      <td>158</td>\n",
       "      <td>CHEMBL178355</td>\n",
       "      <td>-7.3</td>\n",
       "      <td>-23.4889</td>\n",
       "      <td>1</td>\n",
       "      <td>pgh1</td>\n",
       "      <td>-7.3</td>\n",
       "      <td>-23.4889</td>\n",
       "      <td>CHEMBL178355</td>\n",
       "      <td>9475</td>\n",
       "      <td>test</td>\n",
       "    </tr>\n",
       "    <tr>\n",
       "      <th>68</th>\n",
       "      <td>161</td>\n",
       "      <td>CHEMBL283267</td>\n",
       "      <td>-7.7</td>\n",
       "      <td>-26.2514</td>\n",
       "      <td>1</td>\n",
       "      <td>pgh1</td>\n",
       "      <td>-7.7</td>\n",
       "      <td>-26.2514</td>\n",
       "      <td>CHEMBL283267</td>\n",
       "      <td>9475</td>\n",
       "      <td>test</td>\n",
       "    </tr>\n",
       "    <tr>\n",
       "      <th>69</th>\n",
       "      <td>162</td>\n",
       "      <td>CHEMBL184374</td>\n",
       "      <td>-7.1</td>\n",
       "      <td>-22.7434</td>\n",
       "      <td>1</td>\n",
       "      <td>pgh1</td>\n",
       "      <td>-7.1</td>\n",
       "      <td>-22.7434</td>\n",
       "      <td>CHEMBL184374</td>\n",
       "      <td>9475</td>\n",
       "      <td>test</td>\n",
       "    </tr>\n",
       "    <tr>\n",
       "      <th>79</th>\n",
       "      <td>171</td>\n",
       "      <td>CHEMBL433892</td>\n",
       "      <td>-7.3</td>\n",
       "      <td>-29.1098</td>\n",
       "      <td>1</td>\n",
       "      <td>pgh1</td>\n",
       "      <td>-7.3</td>\n",
       "      <td>-29.1098</td>\n",
       "      <td>CHEMBL433892</td>\n",
       "      <td>9475</td>\n",
       "      <td>test</td>\n",
       "    </tr>\n",
       "    <tr>\n",
       "      <th>90</th>\n",
       "      <td>180</td>\n",
       "      <td>CHEMBL404928</td>\n",
       "      <td>-6.6</td>\n",
       "      <td>-22.1502</td>\n",
       "      <td>1</td>\n",
       "      <td>pgh1</td>\n",
       "      <td>-6.6</td>\n",
       "      <td>-22.1502</td>\n",
       "      <td>CHEMBL404928</td>\n",
       "      <td>9475</td>\n",
       "      <td>test</td>\n",
       "    </tr>\n",
       "    <tr>\n",
       "      <th>...</th>\n",
       "      <td>...</td>\n",
       "      <td>...</td>\n",
       "      <td>...</td>\n",
       "      <td>...</td>\n",
       "      <td>...</td>\n",
       "      <td>...</td>\n",
       "      <td>...</td>\n",
       "      <td>...</td>\n",
       "      <td>...</td>\n",
       "      <td>...</td>\n",
       "      <td>...</td>\n",
       "    </tr>\n",
       "    <tr>\n",
       "      <th>8660</th>\n",
       "      <td>994</td>\n",
       "      <td>ZINC35141443</td>\n",
       "      <td>-7.8</td>\n",
       "      <td>-28.5967</td>\n",
       "      <td>0</td>\n",
       "      <td>gcr</td>\n",
       "      <td>-7.8</td>\n",
       "      <td>-28.5967</td>\n",
       "      <td>ZINC35141443</td>\n",
       "      <td>11247</td>\n",
       "      <td>test</td>\n",
       "    </tr>\n",
       "    <tr>\n",
       "      <th>8661</th>\n",
       "      <td>9941</td>\n",
       "      <td>ZINC08387402</td>\n",
       "      <td>-7.3</td>\n",
       "      <td>-5.9566</td>\n",
       "      <td>0</td>\n",
       "      <td>gcr</td>\n",
       "      <td>-7.3</td>\n",
       "      <td>-5.9566</td>\n",
       "      <td>ZINC08387402</td>\n",
       "      <td>11247</td>\n",
       "      <td>test</td>\n",
       "    </tr>\n",
       "    <tr>\n",
       "      <th>8678</th>\n",
       "      <td>9969</td>\n",
       "      <td>ZINC64795840</td>\n",
       "      <td>-7.4</td>\n",
       "      <td>-20.0953</td>\n",
       "      <td>0</td>\n",
       "      <td>gcr</td>\n",
       "      <td>-7.4</td>\n",
       "      <td>-20.0953</td>\n",
       "      <td>ZINC64795840</td>\n",
       "      <td>11247</td>\n",
       "      <td>test</td>\n",
       "    </tr>\n",
       "    <tr>\n",
       "      <th>8698</th>\n",
       "      <td>9992</td>\n",
       "      <td>ZINC02647100</td>\n",
       "      <td>-5.5</td>\n",
       "      <td>-11.0534</td>\n",
       "      <td>0</td>\n",
       "      <td>gcr</td>\n",
       "      <td>-5.5</td>\n",
       "      <td>-11.0534</td>\n",
       "      <td>ZINC02647100</td>\n",
       "      <td>11247</td>\n",
       "      <td>test</td>\n",
       "    </tr>\n",
       "    <tr>\n",
       "      <th>8699</th>\n",
       "      <td>9993</td>\n",
       "      <td>ZINC06160061</td>\n",
       "      <td>-6.2</td>\n",
       "      <td>-25.7973</td>\n",
       "      <td>0</td>\n",
       "      <td>gcr</td>\n",
       "      <td>-6.2</td>\n",
       "      <td>-25.7973</td>\n",
       "      <td>ZINC06160061</td>\n",
       "      <td>11247</td>\n",
       "      <td>test</td>\n",
       "    </tr>\n",
       "  </tbody>\n",
       "</table>\n",
       "<p>47708 rows × 11 columns</p>\n",
       "</div>"
      ],
      "text/plain": [
       "         0             1    2        3  y_true target  vina     gbsa  \\\n",
       "65     158  CHEMBL178355 -7.3 -23.4889       1   pgh1  -7.3 -23.4889   \n",
       "68     161  CHEMBL283267 -7.7 -26.2514       1   pgh1  -7.7 -26.2514   \n",
       "69     162  CHEMBL184374 -7.1 -22.7434       1   pgh1  -7.1 -22.7434   \n",
       "79     171  CHEMBL433892 -7.3 -29.1098       1   pgh1  -7.3 -29.1098   \n",
       "90     180  CHEMBL404928 -6.6 -22.1502       1   pgh1  -6.6 -22.1502   \n",
       "...    ...           ...  ...      ...     ...    ...   ...      ...   \n",
       "8660   994  ZINC35141443 -7.8 -28.5967       0    gcr  -7.8 -28.5967   \n",
       "8661  9941  ZINC08387402 -7.3  -5.9566       0    gcr  -7.3  -5.9566   \n",
       "8678  9969  ZINC64795840 -7.4 -20.0953       0    gcr  -7.4 -20.0953   \n",
       "8698  9992  ZINC02647100 -5.5 -11.0534       0    gcr  -5.5 -11.0534   \n",
       "8699  9993  ZINC06160061 -6.2 -25.7973       0    gcr  -6.2 -25.7973   \n",
       "\n",
       "           cmpd_id  target_size subset  \n",
       "65    CHEMBL178355         9475   test  \n",
       "68    CHEMBL283267         9475   test  \n",
       "69    CHEMBL184374         9475   test  \n",
       "79    CHEMBL433892         9475   test  \n",
       "90    CHEMBL404928         9475   test  \n",
       "...            ...          ...    ...  \n",
       "8660  ZINC35141443        11247   test  \n",
       "8661  ZINC08387402        11247   test  \n",
       "8678  ZINC64795840        11247   test  \n",
       "8698  ZINC02647100        11247   test  \n",
       "8699  ZINC06160061        11247   test  \n",
       "\n",
       "[47708 rows x 11 columns]"
      ]
     },
     "execution_count": 8,
     "metadata": {},
     "output_type": "execute_result"
    }
   ],
   "source": [
    "dude_vina_df = load_dude_vina()\n",
    "dude_vina_df"
   ]
  },
  {
   "cell_type": "code",
   "execution_count": 9,
   "metadata": {},
   "outputs": [],
   "source": [
    "def compute_model_metric_df(dataset):\n",
    "    \n",
    "    model_metric_df = aggregate_results(dataset=dataset,multistep_p_list=[.05, .5],  \n",
    "                                          multistep_sklearn_model=\"rf\", \n",
    "                                         multistep_initial_p=.2)\n",
    "\n",
    "\n",
    "    # model_metric_df\n",
    "\n",
    "    #######\n",
    "    if dataset == \"lit-pcba\":\n",
    "        docking_df = load_lit_pcba_vina()\n",
    "    elif dataset == \"dude\":\n",
    "        docking_df = load_dude_vina()\n",
    "\n",
    "    ###########\n",
    "    \n",
    "    docking_dict = {\"enrich\": [], \"p\": [], \"model\": [], \"target\": []}\n",
    "\n",
    "    vina_enrich_list = []\n",
    "    target_list = []\n",
    "    vina_col='vina'\n",
    "    for target, target_df in docking_df.groupby(\"target\"):\n",
    "\n",
    "        for p in [.1, .01]:\n",
    "            enrich = compute_enrichment_factor(scores=np.abs(target_df[vina_col]), \n",
    "                                      labels=target_df[\"y_true\"], \n",
    "                                      n_percent=p)\n",
    "\n",
    "            docking_dict[\"enrich\"].append(float(enrich))\n",
    "            docking_dict[\"p\"].append(p)\n",
    "            docking_dict[\"model\"].append(\"Vina\")\n",
    "            docking_dict[\"target\"].append(target)\n",
    "            \n",
    "#     import pdb\n",
    "#     pdb.set_trace()\n",
    "    \n",
    "    \n",
    "    \n",
    "    ##################\n",
    "    model_metric_df = pd.concat([model_metric_df, pd.DataFrame(docking_dict)])\n",
    "    \n",
    "    # Backup the calculation\n",
    "#     model_metric_df.to_csv(\"fixed_litpcba_model_metric_df.csv\")\n",
    "    \n",
    "#     import pdb\n",
    "#     pdb.set_trace()\n",
    "    return model_metric_df    \n"
   ]
  },
  {
   "cell_type": "markdown",
   "metadata": {},
   "source": []
  },
  {
   "cell_type": "code",
   "execution_count": 10,
   "metadata": {},
   "outputs": [
    {
     "name": "stderr",
     "output_type": "stream",
     "text": [
      "\r",
      "  0%|          | 0/8 [00:00<?, ?it/s]"
     ]
    },
    {
     "name": "stdout",
     "output_type": "stream",
     "text": [
      "molehd-bpe-dude: 2\t 38\n"
     ]
    },
    {
     "name": "stderr",
     "output_type": "stream",
     "text": [
      "\n",
      "  0%|          | 0/38 [00:00<?, ?it/s]\u001b[A"
     ]
    },
    {
     "name": "stdout",
     "output_type": "stream",
     "text": [
      "dude-ace /p/vast1/jones289/hd_results/5/molehd-bpe.dude-ace.5.pkl molehd-bpe\n"
     ]
    },
    {
     "name": "stderr",
     "output_type": "stream",
     "text": [
      "\n",
      "  3%|▎         | 1/38 [00:00<00:23,  1.57it/s]\u001b[A"
     ]
    },
    {
     "name": "stdout",
     "output_type": "stream",
     "text": [
      "dude-aces /p/vast1/jones289/hd_results/5/molehd-bpe.dude-aces.5.pkl molehd-bpe\n"
     ]
    },
    {
     "name": "stderr",
     "output_type": "stream",
     "text": [
      "\n",
      "  5%|▌         | 2/38 [00:01<00:24,  1.49it/s]\u001b[A"
     ]
    },
    {
     "name": "stdout",
     "output_type": "stream",
     "text": [
      "dude-ada /p/vast1/jones289/hd_results/5/molehd-bpe.dude-ada.5.pkl molehd-bpe\n"
     ]
    },
    {
     "name": "stderr",
     "output_type": "stream",
     "text": [
      "\n",
      "  8%|▊         | 3/38 [00:01<00:16,  2.10it/s]\u001b[A"
     ]
    },
    {
     "name": "stdout",
     "output_type": "stream",
     "text": [
      "dude-aldr /p/vast1/jones289/hd_results/5/molehd-bpe.dude-aldr.5.pkl molehd-bpe\n"
     ]
    },
    {
     "name": "stderr",
     "output_type": "stream",
     "text": [
      "\n",
      " 11%|█         | 4/38 [00:02<00:15,  2.18it/s]\u001b[A\n",
      " 13%|█▎        | 5/38 [00:02<00:11,  2.79it/s]\u001b[A"
     ]
    },
    {
     "name": "stdout",
     "output_type": "stream",
     "text": [
      "dude-ampc /p/vast1/jones289/hd_results/5/molehd-bpe.dude-ampc.5.pkl molehd-bpe\n",
      "dude-andr /p/vast1/jones289/hd_results/5/molehd-bpe.dude-andr.5.pkl molehd-bpe\n"
     ]
    },
    {
     "name": "stderr",
     "output_type": "stream",
     "text": [
      "\n",
      " 16%|█▌        | 6/38 [00:02<00:10,  3.00it/s]\u001b[A"
     ]
    },
    {
     "name": "stdout",
     "output_type": "stream",
     "text": [
      "dude-bace1 /p/vast1/jones289/hd_results/5/molehd-bpe.dude-bace1.5.pkl molehd-bpe\n"
     ]
    },
    {
     "name": "stderr",
     "output_type": "stream",
     "text": [
      "\n",
      " 18%|█▊        | 7/38 [00:03<00:12,  2.52it/s]\u001b[A"
     ]
    },
    {
     "name": "stdout",
     "output_type": "stream",
     "text": [
      "dude-cdk2 /p/vast1/jones289/hd_results/5/molehd-bpe.dude-cdk2.5.pkl molehd-bpe\n"
     ]
    },
    {
     "name": "stderr",
     "output_type": "stream",
     "text": [
      "\n",
      " 21%|██        | 8/38 [00:03<00:16,  1.78it/s]\u001b[A\n",
      " 24%|██▎       | 9/38 [00:04<00:13,  2.22it/s]\u001b[A"
     ]
    },
    {
     "name": "stdout",
     "output_type": "stream",
     "text": [
      "dude-comt /p/vast1/jones289/hd_results/5/molehd-bpe.dude-comt.5.pkl molehd-bpe\n",
      "dude-dyr /p/vast1/jones289/hd_results/5/molehd-bpe.dude-dyr.5.pkl molehd-bpe\n"
     ]
    },
    {
     "name": "stderr",
     "output_type": "stream",
     "text": [
      "\n",
      " 26%|██▋       | 10/38 [00:04<00:13,  2.01it/s]\u001b[A"
     ]
    },
    {
     "name": "stdout",
     "output_type": "stream",
     "text": [
      "dude-egfr /p/vast1/jones289/hd_results/5/molehd-bpe.dude-egfr.5.pkl molehd-bpe\n"
     ]
    },
    {
     "name": "stderr",
     "output_type": "stream",
     "text": [
      "\n",
      " 29%|██▉       | 11/38 [00:05<00:18,  1.46it/s]\u001b[A"
     ]
    },
    {
     "name": "stdout",
     "output_type": "stream",
     "text": [
      "dude-esr1 /p/vast1/jones289/hd_results/5/molehd-bpe.dude-esr1.5.pkl molehd-bpe\n"
     ]
    },
    {
     "name": "stderr",
     "output_type": "stream",
     "text": [
      "\n",
      " 32%|███▏      | 12/38 [00:06<00:16,  1.56it/s]\u001b[A"
     ]
    },
    {
     "name": "stdout",
     "output_type": "stream",
     "text": [
      "dude-fa10 /p/vast1/jones289/hd_results/5/molehd-bpe.dude-fa10.5.pkl molehd-bpe\n"
     ]
    },
    {
     "name": "stderr",
     "output_type": "stream",
     "text": [
      "\n",
      " 34%|███▍      | 13/38 [00:07<00:16,  1.55it/s]\u001b[A"
     ]
    },
    {
     "name": "stdout",
     "output_type": "stream",
     "text": [
      "dude-gcr /p/vast1/jones289/hd_results/5/molehd-bpe.dude-gcr.5.pkl molehd-bpe\n"
     ]
    },
    {
     "name": "stderr",
     "output_type": "stream",
     "text": [
      "\n",
      " 37%|███▋      | 14/38 [00:07<00:13,  1.82it/s]\u001b[A"
     ]
    },
    {
     "name": "stdout",
     "output_type": "stream",
     "text": [
      "dude-hivpr /p/vast1/jones289/hd_results/5/molehd-bpe.dude-hivpr.5.pkl molehd-bpe\n"
     ]
    },
    {
     "name": "stderr",
     "output_type": "stream",
     "text": [
      "\n",
      " 39%|███▉      | 15/38 [00:08<00:16,  1.42it/s]\u001b[A\n",
      " 42%|████▏     | 16/38 [00:08<00:11,  1.87it/s]\u001b[A"
     ]
    },
    {
     "name": "stdout",
     "output_type": "stream",
     "text": [
      "dude-hivrt /p/vast1/jones289/hd_results/5/molehd-bpe.dude-hivrt.5.pkl molehd-bpe\n",
      "dude-hmdh /p/vast1/jones289/hd_results/5/molehd-bpe.dude-hmdh.5.pkl molehd-bpe\n"
     ]
    },
    {
     "name": "stderr",
     "output_type": "stream",
     "text": [
      "\n",
      " 45%|████▍     | 17/38 [00:08<00:09,  2.15it/s]\u001b[A"
     ]
    },
    {
     "name": "stdout",
     "output_type": "stream",
     "text": [
      "dude-hs90a /p/vast1/jones289/hd_results/5/molehd-bpe.dude-hs90a.5.pkl molehd-bpe\n"
     ]
    },
    {
     "name": "stderr",
     "output_type": "stream",
     "text": [
      "\n",
      " 47%|████▋     | 18/38 [00:09<00:07,  2.55it/s]\u001b[A\n",
      " 50%|█████     | 19/38 [00:09<00:06,  3.11it/s]\u001b[A"
     ]
    },
    {
     "name": "stdout",
     "output_type": "stream",
     "text": [
      "dude-inha /p/vast1/jones289/hd_results/5/molehd-bpe.dude-inha.5.pkl molehd-bpe\n",
      "dude-kith /p/vast1/jones289/hd_results/5/molehd-bpe.dude-kith.5.pkl molehd-bpe\n"
     ]
    },
    {
     "name": "stderr",
     "output_type": "stream",
     "text": [
      "\n",
      " 53%|█████▎    | 20/38 [00:09<00:04,  3.62it/s]\u001b[A\n",
      " 55%|█████▌    | 21/38 [00:09<00:03,  4.27it/s]\u001b[A"
     ]
    },
    {
     "name": "stdout",
     "output_type": "stream",
     "text": [
      "dude-mcr /p/vast1/jones289/hd_results/5/molehd-bpe.dude-mcr.5.pkl molehd-bpe\n",
      "dude-mk14 /p/vast1/jones289/hd_results/5/molehd-bpe.dude-mk14.5.pkl molehd-bpe\n"
     ]
    },
    {
     "name": "stderr",
     "output_type": "stream",
     "text": [
      "\n",
      " 58%|█████▊    | 22/38 [00:10<00:08,  1.95it/s]\u001b[A"
     ]
    },
    {
     "name": "stdout",
     "output_type": "stream",
     "text": [
      "dude-nram /p/vast1/jones289/hd_results/5/molehd-bpe.dude-nram.5.pkl molehd-bpe\n"
     ]
    },
    {
     "name": "stderr",
     "output_type": "stream",
     "text": [
      "\n",
      " 61%|██████    | 23/38 [00:10<00:06,  2.30it/s]\u001b[A"
     ]
    },
    {
     "name": "stdout",
     "output_type": "stream",
     "text": [
      "dude-parp1 /p/vast1/jones289/hd_results/5/molehd-bpe.dude-parp1.5.pkl molehd-bpe\n"
     ]
    },
    {
     "name": "stderr",
     "output_type": "stream",
     "text": [
      "\n",
      " 63%|██████▎   | 24/38 [00:11<00:08,  1.69it/s]\u001b[A"
     ]
    },
    {
     "name": "stdout",
     "output_type": "stream",
     "text": [
      "dude-pde5a /p/vast1/jones289/hd_results/5/molehd-bpe.dude-pde5a.5.pkl molehd-bpe\n"
     ]
    },
    {
     "name": "stderr",
     "output_type": "stream",
     "text": [
      "\n",
      " 66%|██████▌   | 25/38 [00:12<00:08,  1.53it/s]\u001b[A"
     ]
    },
    {
     "name": "stdout",
     "output_type": "stream",
     "text": [
      "dude-pgh1 /p/vast1/jones289/hd_results/5/molehd-bpe.dude-pgh1.5.pkl molehd-bpe\n"
     ]
    },
    {
     "name": "stderr",
     "output_type": "stream",
     "text": [
      "\n",
      " 68%|██████▊   | 26/38 [00:13<00:06,  1.78it/s]\u001b[A"
     ]
    },
    {
     "name": "stdout",
     "output_type": "stream",
     "text": [
      "dude-pgh2 /p/vast1/jones289/hd_results/5/molehd-bpe.dude-pgh2.5.pkl molehd-bpe\n"
     ]
    },
    {
     "name": "stderr",
     "output_type": "stream",
     "text": [
      "\n",
      " 71%|███████   | 27/38 [00:13<00:06,  1.76it/s]\u001b[A"
     ]
    },
    {
     "name": "stdout",
     "output_type": "stream",
     "text": [
      "dude-pnph /p/vast1/jones289/hd_results/5/molehd-bpe.dude-pnph.5.pkl molehd-bpe\n"
     ]
    },
    {
     "name": "stderr",
     "output_type": "stream",
     "text": [
      "\n",
      " 74%|███████▎  | 28/38 [00:13<00:04,  2.10it/s]\u001b[A"
     ]
    },
    {
     "name": "stdout",
     "output_type": "stream",
     "text": [
      "dude-pparg /p/vast1/jones289/hd_results/5/molehd-bpe.dude-pparg.5.pkl molehd-bpe\n"
     ]
    },
    {
     "name": "stderr",
     "output_type": "stream",
     "text": [
      "\n",
      " 76%|███████▋  | 29/38 [00:14<00:05,  1.72it/s]\u001b[A"
     ]
    },
    {
     "name": "stdout",
     "output_type": "stream",
     "text": [
      "dude-prgr /p/vast1/jones289/hd_results/5/molehd-bpe.dude-prgr.5.pkl molehd-bpe\n"
     ]
    },
    {
     "name": "stderr",
     "output_type": "stream",
     "text": [
      "\n",
      " 79%|███████▉  | 30/38 [00:15<00:04,  1.95it/s]\u001b[A\n",
      " 82%|████████▏ | 31/38 [00:15<00:02,  2.45it/s]\u001b[A"
     ]
    },
    {
     "name": "stdout",
     "output_type": "stream",
     "text": [
      "dude-pur2 /p/vast1/jones289/hd_results/5/molehd-bpe.dude-pur2.5.pkl molehd-bpe\n",
      "dude-pygm /p/vast1/jones289/hd_results/5/molehd-bpe.dude-pygm.5.pkl molehd-bpe\n"
     ]
    },
    {
     "name": "stderr",
     "output_type": "stream",
     "text": [
      "\n",
      " 84%|████████▍ | 32/38 [00:15<00:02,  2.91it/s]\u001b[A"
     ]
    },
    {
     "name": "stdout",
     "output_type": "stream",
     "text": [
      "dude-rxra /p/vast1/jones289/hd_results/5/molehd-bpe.dude-rxra.5.pkl molehd-bpe\n"
     ]
    },
    {
     "name": "stderr",
     "output_type": "stream",
     "text": [
      "\n",
      " 87%|████████▋ | 33/38 [00:15<00:01,  3.17it/s]\u001b[A\n",
      " 89%|████████▉ | 34/38 [00:15<00:01,  3.62it/s]\u001b[A"
     ]
    },
    {
     "name": "stdout",
     "output_type": "stream",
     "text": [
      "dude-sahh /p/vast1/jones289/hd_results/5/molehd-bpe.dude-sahh.5.pkl molehd-bpe\n",
      "dude-src /p/vast1/jones289/hd_results/5/molehd-bpe.dude-src.5.pkl molehd-bpe\n"
     ]
    },
    {
     "name": "stderr",
     "output_type": "stream",
     "text": [
      "\n",
      " 92%|█████████▏| 35/38 [00:16<00:01,  1.95it/s]\u001b[A"
     ]
    },
    {
     "name": "stdout",
     "output_type": "stream",
     "text": [
      "dude-thrb /p/vast1/jones289/hd_results/5/molehd-bpe.dude-thrb.5.pkl molehd-bpe\n"
     ]
    },
    {
     "name": "stderr",
     "output_type": "stream",
     "text": [
      "\n",
      " 95%|█████████▍| 36/38 [00:17<00:00,  2.19it/s]\u001b[A"
     ]
    },
    {
     "name": "stdout",
     "output_type": "stream",
     "text": [
      "dude-try1 /p/vast1/jones289/hd_results/5/molehd-bpe.dude-try1.5.pkl molehd-bpe\n"
     ]
    },
    {
     "name": "stderr",
     "output_type": "stream",
     "text": [
      "\n",
      " 97%|█████████▋| 37/38 [00:17<00:00,  2.44it/s]\u001b[A"
     ]
    },
    {
     "name": "stdout",
     "output_type": "stream",
     "text": [
      "dude-vgfr2 /p/vast1/jones289/hd_results/5/molehd-bpe.dude-vgfr2.5.pkl molehd-bpe\n"
     ]
    },
    {
     "name": "stderr",
     "output_type": "stream",
     "text": [
      "\n",
      "100%|██████████| 38/38 [00:18<00:00,  2.09it/s]\u001b[A\n",
      " 12%|█▎        | 1/8 [00:18<02:07, 18.20s/it]"
     ]
    },
    {
     "name": "stdout",
     "output_type": "stream",
     "text": [
      "hdbind-rp-molformer-dude: 2\t 38\n"
     ]
    },
    {
     "name": "stderr",
     "output_type": "stream",
     "text": [
      "\n",
      "  0%|          | 0/38 [00:00<?, ?it/s]\u001b[A"
     ]
    },
    {
     "name": "stdout",
     "output_type": "stream",
     "text": [
      "dude-ace /p/vast1/jones289/hd_results/5/hdbind-rp-molformer.dude-ace.5.pkl hdbind-rp-molformer\n"
     ]
    },
    {
     "name": "stderr",
     "output_type": "stream",
     "text": [
      "\n",
      "  3%|▎         | 1/38 [00:00<00:13,  2.76it/s]\u001b[A"
     ]
    },
    {
     "name": "stdout",
     "output_type": "stream",
     "text": [
      "dude-aces /p/vast1/jones289/hd_results/5/hdbind-rp-molformer.dude-aces.5.pkl hdbind-rp-molformer\n"
     ]
    },
    {
     "name": "stderr",
     "output_type": "stream",
     "text": [
      "\n",
      "  5%|▌         | 2/38 [00:00<00:15,  2.32it/s]\u001b[A\n",
      "  8%|▊         | 3/38 [00:01<00:11,  3.16it/s]\u001b[A"
     ]
    },
    {
     "name": "stdout",
     "output_type": "stream",
     "text": [
      "dude-ada /p/vast1/jones289/hd_results/5/hdbind-rp-molformer.dude-ada.5.pkl hdbind-rp-molformer\n",
      "dude-aldr /p/vast1/jones289/hd_results/5/hdbind-rp-molformer.dude-aldr.5.pkl hdbind-rp-molformer\n"
     ]
    },
    {
     "name": "stderr",
     "output_type": "stream",
     "text": [
      "\n",
      " 11%|█         | 4/38 [00:01<00:09,  3.51it/s]\u001b[A\n",
      " 13%|█▎        | 5/38 [00:01<00:07,  4.29it/s]\u001b[A"
     ]
    },
    {
     "name": "stdout",
     "output_type": "stream",
     "text": [
      "dude-ampc /p/vast1/jones289/hd_results/5/hdbind-rp-molformer.dude-ampc.5.pkl hdbind-rp-molformer\n",
      "dude-andr /p/vast1/jones289/hd_results/5/hdbind-rp-molformer.dude-andr.5.pkl hdbind-rp-molformer\n"
     ]
    },
    {
     "name": "stderr",
     "output_type": "stream",
     "text": [
      "\n",
      " 16%|█▌        | 6/38 [00:01<00:07,  4.51it/s]\u001b[A"
     ]
    },
    {
     "name": "stdout",
     "output_type": "stream",
     "text": [
      "dude-bace1 /p/vast1/jones289/hd_results/5/hdbind-rp-molformer.dude-bace1.5.pkl hdbind-rp-molformer\n"
     ]
    },
    {
     "name": "stderr",
     "output_type": "stream",
     "text": [
      "\n",
      " 18%|█▊        | 7/38 [00:01<00:08,  3.79it/s]\u001b[A"
     ]
    },
    {
     "name": "stdout",
     "output_type": "stream",
     "text": [
      "dude-cdk2 /p/vast1/jones289/hd_results/5/hdbind-rp-molformer.dude-cdk2.5.pkl hdbind-rp-molformer\n"
     ]
    },
    {
     "name": "stderr",
     "output_type": "stream",
     "text": [
      "\n",
      " 21%|██        | 8/38 [00:02<00:10,  2.76it/s]\u001b[A\n",
      " 24%|██▎       | 9/38 [00:02<00:08,  3.35it/s]\u001b[A"
     ]
    },
    {
     "name": "stdout",
     "output_type": "stream",
     "text": [
      "dude-comt /p/vast1/jones289/hd_results/5/hdbind-rp-molformer.dude-comt.5.pkl hdbind-rp-molformer\n",
      "dude-dyr /p/vast1/jones289/hd_results/5/hdbind-rp-molformer.dude-dyr.5.pkl hdbind-rp-molformer\n"
     ]
    },
    {
     "name": "stderr",
     "output_type": "stream",
     "text": [
      "\n",
      " 26%|██▋       | 10/38 [00:03<00:08,  3.22it/s]\u001b[A"
     ]
    },
    {
     "name": "stdout",
     "output_type": "stream",
     "text": [
      "dude-egfr /p/vast1/jones289/hd_results/5/hdbind-rp-molformer.dude-egfr.5.pkl hdbind-rp-molformer\n"
     ]
    },
    {
     "name": "stderr",
     "output_type": "stream",
     "text": [
      "\n",
      " 29%|██▉       | 11/38 [00:03<00:11,  2.36it/s]\u001b[A"
     ]
    },
    {
     "name": "stdout",
     "output_type": "stream",
     "text": [
      "dude-esr1 /p/vast1/jones289/hd_results/5/hdbind-rp-molformer.dude-esr1.5.pkl hdbind-rp-molformer\n"
     ]
    },
    {
     "name": "stderr",
     "output_type": "stream",
     "text": [
      "\n",
      " 32%|███▏      | 12/38 [00:04<00:10,  2.46it/s]\u001b[A"
     ]
    },
    {
     "name": "stdout",
     "output_type": "stream",
     "text": [
      "dude-fa10 /p/vast1/jones289/hd_results/5/hdbind-rp-molformer.dude-fa10.5.pkl hdbind-rp-molformer\n"
     ]
    },
    {
     "name": "stderr",
     "output_type": "stream",
     "text": [
      "\n",
      " 34%|███▍      | 13/38 [00:04<00:09,  2.53it/s]\u001b[A"
     ]
    },
    {
     "name": "stdout",
     "output_type": "stream",
     "text": [
      "dude-gcr /p/vast1/jones289/hd_results/5/hdbind-rp-molformer.dude-gcr.5.pkl hdbind-rp-molformer\n"
     ]
    },
    {
     "name": "stderr",
     "output_type": "stream",
     "text": [
      "\n",
      " 37%|███▋      | 14/38 [00:04<00:08,  2.89it/s]\u001b[A"
     ]
    },
    {
     "name": "stdout",
     "output_type": "stream",
     "text": [
      "dude-hivpr /p/vast1/jones289/hd_results/5/hdbind-rp-molformer.dude-hivpr.5.pkl hdbind-rp-molformer\n"
     ]
    },
    {
     "name": "stderr",
     "output_type": "stream",
     "text": [
      "\n",
      " 39%|███▉      | 15/38 [00:05<00:09,  2.32it/s]\u001b[A\n",
      " 42%|████▏     | 16/38 [00:05<00:07,  2.98it/s]\u001b[A"
     ]
    },
    {
     "name": "stdout",
     "output_type": "stream",
     "text": [
      "dude-hivrt /p/vast1/jones289/hd_results/5/hdbind-rp-molformer.dude-hivrt.5.pkl hdbind-rp-molformer\n",
      "dude-hmdh /p/vast1/jones289/hd_results/5/hdbind-rp-molformer.dude-hmdh.5.pkl hdbind-rp-molformer\n"
     ]
    },
    {
     "name": "stderr",
     "output_type": "stream",
     "text": [
      "\n",
      " 45%|████▍     | 17/38 [00:05<00:06,  3.35it/s]\u001b[A\n",
      " 47%|████▋     | 18/38 [00:05<00:05,  3.88it/s]\u001b[A"
     ]
    },
    {
     "name": "stdout",
     "output_type": "stream",
     "text": [
      "dude-hs90a /p/vast1/jones289/hd_results/5/hdbind-rp-molformer.dude-hs90a.5.pkl hdbind-rp-molformer\n",
      "dude-inha /p/vast1/jones289/hd_results/5/hdbind-rp-molformer.dude-inha.5.pkl hdbind-rp-molformer\n"
     ]
    },
    {
     "name": "stderr",
     "output_type": "stream",
     "text": [
      "\n",
      " 50%|█████     | 19/38 [00:05<00:04,  4.58it/s]\u001b[A\n",
      " 53%|█████▎    | 20/38 [00:06<00:03,  5.14it/s]\u001b[A"
     ]
    },
    {
     "name": "stdout",
     "output_type": "stream",
     "text": [
      "dude-kith /p/vast1/jones289/hd_results/5/hdbind-rp-molformer.dude-kith.5.pkl hdbind-rp-molformer\n",
      "dude-mcr /p/vast1/jones289/hd_results/5/hdbind-rp-molformer.dude-mcr.5.pkl hdbind-rp-molformer\n"
     ]
    },
    {
     "name": "stderr",
     "output_type": "stream",
     "text": [
      "\n",
      " 55%|█████▌    | 21/38 [00:06<00:02,  5.86it/s]\u001b[A"
     ]
    },
    {
     "name": "stdout",
     "output_type": "stream",
     "text": [
      "dude-mk14 /p/vast1/jones289/hd_results/5/hdbind-rp-molformer.dude-mk14.5.pkl hdbind-rp-molformer\n"
     ]
    },
    {
     "name": "stderr",
     "output_type": "stream",
     "text": [
      "\n",
      " 58%|█████▊    | 22/38 [00:06<00:05,  3.15it/s]\u001b[A\n",
      " 61%|██████    | 23/38 [00:07<00:04,  3.59it/s]\u001b[A"
     ]
    },
    {
     "name": "stdout",
     "output_type": "stream",
     "text": [
      "dude-nram /p/vast1/jones289/hd_results/5/hdbind-rp-molformer.dude-nram.5.pkl hdbind-rp-molformer\n",
      "dude-parp1 /p/vast1/jones289/hd_results/5/hdbind-rp-molformer.dude-parp1.5.pkl hdbind-rp-molformer\n"
     ]
    },
    {
     "name": "stderr",
     "output_type": "stream",
     "text": [
      "\n",
      " 63%|██████▎   | 24/38 [00:07<00:05,  2.61it/s]\u001b[A"
     ]
    },
    {
     "name": "stdout",
     "output_type": "stream",
     "text": [
      "dude-pde5a /p/vast1/jones289/hd_results/5/hdbind-rp-molformer.dude-pde5a.5.pkl hdbind-rp-molformer\n"
     ]
    },
    {
     "name": "stderr",
     "output_type": "stream",
     "text": [
      "\n",
      " 66%|██████▌   | 25/38 [00:08<00:05,  2.36it/s]\u001b[A"
     ]
    },
    {
     "name": "stdout",
     "output_type": "stream",
     "text": [
      "dude-pgh1 /p/vast1/jones289/hd_results/5/hdbind-rp-molformer.dude-pgh1.5.pkl hdbind-rp-molformer\n"
     ]
    },
    {
     "name": "stderr",
     "output_type": "stream",
     "text": [
      "\n",
      " 68%|██████▊   | 26/38 [00:08<00:04,  2.63it/s]\u001b[A"
     ]
    },
    {
     "name": "stdout",
     "output_type": "stream",
     "text": [
      "dude-pgh2 /p/vast1/jones289/hd_results/5/hdbind-rp-molformer.dude-pgh2.5.pkl hdbind-rp-molformer\n"
     ]
    },
    {
     "name": "stderr",
     "output_type": "stream",
     "text": [
      "\n",
      " 71%|███████   | 27/38 [00:08<00:04,  2.51it/s]\u001b[A\n",
      " 74%|███████▎  | 28/38 [00:09<00:03,  2.91it/s]\u001b[A"
     ]
    },
    {
     "name": "stdout",
     "output_type": "stream",
     "text": [
      "dude-pnph /p/vast1/jones289/hd_results/5/hdbind-rp-molformer.dude-pnph.5.pkl hdbind-rp-molformer\n",
      "dude-pparg /p/vast1/jones289/hd_results/5/hdbind-rp-molformer.dude-pparg.5.pkl hdbind-rp-molformer\n"
     ]
    },
    {
     "name": "stderr",
     "output_type": "stream",
     "text": [
      "\n",
      " 76%|███████▋  | 29/38 [00:09<00:03,  2.50it/s]\u001b[A"
     ]
    },
    {
     "name": "stdout",
     "output_type": "stream",
     "text": [
      "dude-prgr /p/vast1/jones289/hd_results/5/hdbind-rp-molformer.dude-prgr.5.pkl hdbind-rp-molformer\n"
     ]
    },
    {
     "name": "stderr",
     "output_type": "stream",
     "text": [
      "\n",
      " 79%|███████▉  | 30/38 [00:09<00:02,  2.74it/s]\u001b[A\n",
      " 82%|████████▏ | 31/38 [00:10<00:02,  3.37it/s]\u001b[A"
     ]
    },
    {
     "name": "stdout",
     "output_type": "stream",
     "text": [
      "dude-pur2 /p/vast1/jones289/hd_results/5/hdbind-rp-molformer.dude-pur2.5.pkl hdbind-rp-molformer\n",
      "dude-pygm /p/vast1/jones289/hd_results/5/hdbind-rp-molformer.dude-pygm.5.pkl hdbind-rp-molformer\n"
     ]
    },
    {
     "name": "stderr",
     "output_type": "stream",
     "text": [
      "\n",
      " 84%|████████▍ | 32/38 [00:10<00:01,  3.89it/s]\u001b[A\n",
      " 87%|████████▋ | 33/38 [00:10<00:01,  4.16it/s]\u001b[A"
     ]
    },
    {
     "name": "stdout",
     "output_type": "stream",
     "text": [
      "dude-rxra /p/vast1/jones289/hd_results/5/hdbind-rp-molformer.dude-rxra.5.pkl hdbind-rp-molformer\n",
      "dude-sahh /p/vast1/jones289/hd_results/5/hdbind-rp-molformer.dude-sahh.5.pkl hdbind-rp-molformer\n"
     ]
    },
    {
     "name": "stderr",
     "output_type": "stream",
     "text": [
      "\n",
      " 89%|████████▉ | 34/38 [00:10<00:00,  4.64it/s]\u001b[A"
     ]
    },
    {
     "name": "stdout",
     "output_type": "stream",
     "text": [
      "dude-src /p/vast1/jones289/hd_results/5/hdbind-rp-molformer.dude-src.5.pkl hdbind-rp-molformer\n"
     ]
    },
    {
     "name": "stderr",
     "output_type": "stream",
     "text": [
      "\n",
      " 92%|█████████▏| 35/38 [00:11<00:01,  2.82it/s]\u001b[A"
     ]
    },
    {
     "name": "stdout",
     "output_type": "stream",
     "text": [
      "dude-thrb /p/vast1/jones289/hd_results/5/hdbind-rp-molformer.dude-thrb.5.pkl hdbind-rp-molformer\n"
     ]
    },
    {
     "name": "stderr",
     "output_type": "stream",
     "text": [
      "\n",
      " 95%|█████████▍| 36/38 [00:11<00:00,  3.09it/s]\u001b[A"
     ]
    },
    {
     "name": "stdout",
     "output_type": "stream",
     "text": [
      "dude-try1 /p/vast1/jones289/hd_results/5/hdbind-rp-molformer.dude-try1.5.pkl hdbind-rp-molformer\n"
     ]
    },
    {
     "name": "stderr",
     "output_type": "stream",
     "text": [
      "\n",
      " 97%|█████████▋| 37/38 [00:11<00:00,  3.38it/s]\u001b[A"
     ]
    },
    {
     "name": "stdout",
     "output_type": "stream",
     "text": [
      "dude-vgfr2 /p/vast1/jones289/hd_results/5/hdbind-rp-molformer.dude-vgfr2.5.pkl hdbind-rp-molformer\n"
     ]
    },
    {
     "name": "stderr",
     "output_type": "stream",
     "text": [
      "\n",
      "100%|██████████| 38/38 [00:12<00:00,  3.12it/s]\u001b[A\n",
      " 25%|██▌       | 2/8 [00:30<01:28, 14.67s/it]"
     ]
    },
    {
     "name": "stdout",
     "output_type": "stream",
     "text": [
      "hdbind-ecfp-1024-1-100-dude: 2\t 38\n"
     ]
    },
    {
     "name": "stderr",
     "output_type": "stream",
     "text": [
      "\n",
      "  0%|          | 0/38 [00:00<?, ?it/s]\u001b[A"
     ]
    },
    {
     "name": "stdout",
     "output_type": "stream",
     "text": [
      "dude-ace /p/vast1/jones289/hd_results/5/hdbind-ecfp-1024-1-100.dude-ace.5.pkl hdbind-ecfp-1024-1-100\n"
     ]
    },
    {
     "name": "stderr",
     "output_type": "stream",
     "text": [
      "\n",
      "  3%|▎         | 1/38 [00:00<00:24,  1.48it/s]\u001b[A"
     ]
    },
    {
     "name": "stdout",
     "output_type": "stream",
     "text": [
      "dude-aces /p/vast1/jones289/hd_results/5/hdbind-ecfp-1024-1-100.dude-aces.5.pkl hdbind-ecfp-1024-1-100\n"
     ]
    },
    {
     "name": "stderr",
     "output_type": "stream",
     "text": [
      "\n",
      "  5%|▌         | 2/38 [00:01<00:25,  1.40it/s]\u001b[A"
     ]
    },
    {
     "name": "stdout",
     "output_type": "stream",
     "text": [
      "dude-ada /p/vast1/jones289/hd_results/5/hdbind-ecfp-1024-1-100.dude-ada.5.pkl hdbind-ecfp-1024-1-100\n"
     ]
    },
    {
     "name": "stderr",
     "output_type": "stream",
     "text": [
      "\n",
      "  8%|▊         | 3/38 [00:01<00:17,  2.00it/s]\u001b[A"
     ]
    },
    {
     "name": "stdout",
     "output_type": "stream",
     "text": [
      "dude-aldr /p/vast1/jones289/hd_results/5/hdbind-ecfp-1024-1-100.dude-aldr.5.pkl hdbind-ecfp-1024-1-100\n"
     ]
    },
    {
     "name": "stderr",
     "output_type": "stream",
     "text": [
      "\n",
      " 11%|█         | 4/38 [00:02<00:14,  2.29it/s]\u001b[A\n",
      " 13%|█▎        | 5/38 [00:02<00:11,  2.92it/s]\u001b[A"
     ]
    },
    {
     "name": "stdout",
     "output_type": "stream",
     "text": [
      "dude-ampc /p/vast1/jones289/hd_results/5/hdbind-ecfp-1024-1-100.dude-ampc.5.pkl hdbind-ecfp-1024-1-100\n",
      "dude-andr /p/vast1/jones289/hd_results/5/hdbind-ecfp-1024-1-100.dude-andr.5.pkl hdbind-ecfp-1024-1-100\n"
     ]
    },
    {
     "name": "stderr",
     "output_type": "stream",
     "text": [
      "\n",
      " 16%|█▌        | 6/38 [00:02<00:10,  3.11it/s]\u001b[A"
     ]
    },
    {
     "name": "stdout",
     "output_type": "stream",
     "text": [
      "dude-bace1 /p/vast1/jones289/hd_results/5/hdbind-ecfp-1024-1-100.dude-bace1.5.pkl hdbind-ecfp-1024-1-100\n"
     ]
    },
    {
     "name": "stderr",
     "output_type": "stream",
     "text": [
      "\n",
      " 18%|█▊        | 7/38 [00:03<00:13,  2.24it/s]\u001b[A"
     ]
    },
    {
     "name": "stdout",
     "output_type": "stream",
     "text": [
      "dude-cdk2 /p/vast1/jones289/hd_results/5/hdbind-ecfp-1024-1-100.dude-cdk2.5.pkl hdbind-ecfp-1024-1-100\n"
     ]
    },
    {
     "name": "stderr",
     "output_type": "stream",
     "text": [
      "\n",
      " 21%|██        | 8/38 [00:04<00:19,  1.55it/s]\u001b[A"
     ]
    },
    {
     "name": "stdout",
     "output_type": "stream",
     "text": [
      "dude-comt /p/vast1/jones289/hd_results/5/hdbind-ecfp-1024-1-100.dude-comt.5.pkl hdbind-ecfp-1024-1-100\n"
     ]
    },
    {
     "name": "stderr",
     "output_type": "stream",
     "text": [
      "\n",
      " 24%|██▎       | 9/38 [00:04<00:14,  1.97it/s]\u001b[A"
     ]
    },
    {
     "name": "stdout",
     "output_type": "stream",
     "text": [
      "dude-dyr /p/vast1/jones289/hd_results/5/hdbind-ecfp-1024-1-100.dude-dyr.5.pkl hdbind-ecfp-1024-1-100\n"
     ]
    },
    {
     "name": "stderr",
     "output_type": "stream",
     "text": [
      "\n",
      " 26%|██▋       | 10/38 [00:04<00:14,  1.96it/s]\u001b[A"
     ]
    },
    {
     "name": "stdout",
     "output_type": "stream",
     "text": [
      "dude-egfr /p/vast1/jones289/hd_results/5/hdbind-ecfp-1024-1-100.dude-egfr.5.pkl hdbind-ecfp-1024-1-100\n"
     ]
    },
    {
     "name": "stderr",
     "output_type": "stream",
     "text": [
      "\n",
      " 29%|██▉       | 11/38 [00:06<00:20,  1.29it/s]\u001b[A"
     ]
    },
    {
     "name": "stdout",
     "output_type": "stream",
     "text": [
      "dude-esr1 /p/vast1/jones289/hd_results/5/hdbind-ecfp-1024-1-100.dude-esr1.5.pkl hdbind-ecfp-1024-1-100\n"
     ]
    },
    {
     "name": "stderr",
     "output_type": "stream",
     "text": [
      "\n",
      " 32%|███▏      | 12/38 [00:07<00:19,  1.33it/s]\u001b[A"
     ]
    },
    {
     "name": "stdout",
     "output_type": "stream",
     "text": [
      "dude-fa10 /p/vast1/jones289/hd_results/5/hdbind-ecfp-1024-1-100.dude-fa10.5.pkl hdbind-ecfp-1024-1-100\n"
     ]
    },
    {
     "name": "stderr",
     "output_type": "stream",
     "text": [
      "\n",
      " 34%|███▍      | 13/38 [00:07<00:17,  1.42it/s]\u001b[A"
     ]
    },
    {
     "name": "stdout",
     "output_type": "stream",
     "text": [
      "dude-gcr /p/vast1/jones289/hd_results/5/hdbind-ecfp-1024-1-100.dude-gcr.5.pkl hdbind-ecfp-1024-1-100\n"
     ]
    },
    {
     "name": "stderr",
     "output_type": "stream",
     "text": [
      "\n",
      " 37%|███▋      | 14/38 [00:07<00:14,  1.68it/s]\u001b[A"
     ]
    },
    {
     "name": "stdout",
     "output_type": "stream",
     "text": [
      "dude-hivpr /p/vast1/jones289/hd_results/5/hdbind-ecfp-1024-1-100.dude-hivpr.5.pkl hdbind-ecfp-1024-1-100\n"
     ]
    },
    {
     "name": "stderr",
     "output_type": "stream",
     "text": [
      "\n",
      " 39%|███▉      | 15/38 [00:09<00:17,  1.28it/s]\u001b[A\n",
      " 42%|████▏     | 16/38 [00:09<00:12,  1.71it/s]\u001b[A"
     ]
    },
    {
     "name": "stdout",
     "output_type": "stream",
     "text": [
      "dude-hivrt /p/vast1/jones289/hd_results/5/hdbind-ecfp-1024-1-100.dude-hivrt.5.pkl hdbind-ecfp-1024-1-100\n",
      "dude-hmdh /p/vast1/jones289/hd_results/5/hdbind-ecfp-1024-1-100.dude-hmdh.5.pkl hdbind-ecfp-1024-1-100\n"
     ]
    },
    {
     "name": "stderr",
     "output_type": "stream",
     "text": [
      "\n",
      " 45%|████▍     | 17/38 [00:09<00:10,  1.98it/s]\u001b[A"
     ]
    },
    {
     "name": "stdout",
     "output_type": "stream",
     "text": [
      "dude-hs90a /p/vast1/jones289/hd_results/5/hdbind-ecfp-1024-1-100.dude-hs90a.5.pkl hdbind-ecfp-1024-1-100\n"
     ]
    },
    {
     "name": "stderr",
     "output_type": "stream",
     "text": [
      "\n",
      " 47%|████▋     | 18/38 [00:09<00:08,  2.37it/s]\u001b[A\n",
      " 50%|█████     | 19/38 [00:10<00:06,  2.93it/s]\u001b[A"
     ]
    },
    {
     "name": "stdout",
     "output_type": "stream",
     "text": [
      "dude-inha /p/vast1/jones289/hd_results/5/hdbind-ecfp-1024-1-100.dude-inha.5.pkl hdbind-ecfp-1024-1-100\n",
      "dude-kith /p/vast1/jones289/hd_results/5/hdbind-ecfp-1024-1-100.dude-kith.5.pkl hdbind-ecfp-1024-1-100\n"
     ]
    },
    {
     "name": "stderr",
     "output_type": "stream",
     "text": [
      "\n",
      " 53%|█████▎    | 20/38 [00:10<00:05,  3.44it/s]\u001b[A\n",
      " 55%|█████▌    | 21/38 [00:10<00:04,  4.10it/s]\u001b[A"
     ]
    },
    {
     "name": "stdout",
     "output_type": "stream",
     "text": [
      "dude-mcr /p/vast1/jones289/hd_results/5/hdbind-ecfp-1024-1-100.dude-mcr.5.pkl hdbind-ecfp-1024-1-100\n",
      "dude-mk14 /p/vast1/jones289/hd_results/5/hdbind-ecfp-1024-1-100.dude-mk14.5.pkl hdbind-ecfp-1024-1-100\n"
     ]
    },
    {
     "name": "stderr",
     "output_type": "stream",
     "text": [
      "\n",
      " 58%|█████▊    | 22/38 [00:11<00:09,  1.74it/s]\u001b[A"
     ]
    },
    {
     "name": "stdout",
     "output_type": "stream",
     "text": [
      "dude-nram /p/vast1/jones289/hd_results/5/hdbind-ecfp-1024-1-100.dude-nram.5.pkl hdbind-ecfp-1024-1-100\n"
     ]
    },
    {
     "name": "stderr",
     "output_type": "stream",
     "text": [
      "\n",
      " 61%|██████    | 23/38 [00:11<00:07,  2.07it/s]\u001b[A"
     ]
    },
    {
     "name": "stdout",
     "output_type": "stream",
     "text": [
      "dude-parp1 /p/vast1/jones289/hd_results/5/hdbind-ecfp-1024-1-100.dude-parp1.5.pkl hdbind-ecfp-1024-1-100\n"
     ]
    },
    {
     "name": "stderr",
     "output_type": "stream",
     "text": [
      "\n",
      " 63%|██████▎   | 24/38 [00:13<00:09,  1.50it/s]\u001b[A"
     ]
    },
    {
     "name": "stdout",
     "output_type": "stream",
     "text": [
      "dude-pde5a /p/vast1/jones289/hd_results/5/hdbind-ecfp-1024-1-100.dude-pde5a.5.pkl hdbind-ecfp-1024-1-100\n"
     ]
    },
    {
     "name": "stderr",
     "output_type": "stream",
     "text": [
      "\n",
      " 66%|██████▌   | 25/38 [00:13<00:09,  1.36it/s]\u001b[A"
     ]
    },
    {
     "name": "stdout",
     "output_type": "stream",
     "text": [
      "dude-pgh1 /p/vast1/jones289/hd_results/5/hdbind-ecfp-1024-1-100.dude-pgh1.5.pkl hdbind-ecfp-1024-1-100\n"
     ]
    },
    {
     "name": "stderr",
     "output_type": "stream",
     "text": [
      "\n",
      " 68%|██████▊   | 26/38 [00:14<00:07,  1.60it/s]\u001b[A"
     ]
    },
    {
     "name": "stdout",
     "output_type": "stream",
     "text": [
      "dude-pgh2 /p/vast1/jones289/hd_results/5/hdbind-ecfp-1024-1-100.dude-pgh2.5.pkl hdbind-ecfp-1024-1-100\n"
     ]
    },
    {
     "name": "stderr",
     "output_type": "stream",
     "text": [
      "\n",
      " 71%|███████   | 27/38 [00:14<00:06,  1.61it/s]\u001b[A"
     ]
    },
    {
     "name": "stdout",
     "output_type": "stream",
     "text": [
      "dude-pnph /p/vast1/jones289/hd_results/5/hdbind-ecfp-1024-1-100.dude-pnph.5.pkl hdbind-ecfp-1024-1-100\n"
     ]
    },
    {
     "name": "stderr",
     "output_type": "stream",
     "text": [
      "\n",
      " 74%|███████▎  | 28/38 [00:15<00:05,  1.92it/s]\u001b[A"
     ]
    },
    {
     "name": "stdout",
     "output_type": "stream",
     "text": [
      "dude-pparg /p/vast1/jones289/hd_results/5/hdbind-ecfp-1024-1-100.dude-pparg.5.pkl hdbind-ecfp-1024-1-100\n"
     ]
    },
    {
     "name": "stderr",
     "output_type": "stream",
     "text": [
      "\n",
      " 76%|███████▋  | 29/38 [00:16<00:05,  1.56it/s]\u001b[A"
     ]
    },
    {
     "name": "stdout",
     "output_type": "stream",
     "text": [
      "dude-prgr /p/vast1/jones289/hd_results/5/hdbind-ecfp-1024-1-100.dude-prgr.5.pkl hdbind-ecfp-1024-1-100\n"
     ]
    },
    {
     "name": "stderr",
     "output_type": "stream",
     "text": [
      "\n",
      " 79%|███████▉  | 30/38 [00:16<00:04,  1.78it/s]\u001b[A\n",
      " 82%|████████▏ | 31/38 [00:16<00:03,  2.27it/s]\u001b[A"
     ]
    },
    {
     "name": "stdout",
     "output_type": "stream",
     "text": [
      "dude-pur2 /p/vast1/jones289/hd_results/5/hdbind-ecfp-1024-1-100.dude-pur2.5.pkl hdbind-ecfp-1024-1-100\n",
      "dude-pygm /p/vast1/jones289/hd_results/5/hdbind-ecfp-1024-1-100.dude-pygm.5.pkl hdbind-ecfp-1024-1-100\n"
     ]
    },
    {
     "name": "stderr",
     "output_type": "stream",
     "text": [
      "\n",
      " 84%|████████▍ | 32/38 [00:16<00:02,  2.71it/s]\u001b[A"
     ]
    },
    {
     "name": "stdout",
     "output_type": "stream",
     "text": [
      "dude-rxra /p/vast1/jones289/hd_results/5/hdbind-ecfp-1024-1-100.dude-rxra.5.pkl hdbind-ecfp-1024-1-100\n"
     ]
    },
    {
     "name": "stderr",
     "output_type": "stream",
     "text": [
      "\n",
      " 87%|████████▋ | 33/38 [00:17<00:01,  2.98it/s]\u001b[A\n",
      " 89%|████████▉ | 34/38 [00:17<00:01,  3.41it/s]\u001b[A"
     ]
    },
    {
     "name": "stdout",
     "output_type": "stream",
     "text": [
      "dude-sahh /p/vast1/jones289/hd_results/5/hdbind-ecfp-1024-1-100.dude-sahh.5.pkl hdbind-ecfp-1024-1-100\n",
      "dude-src /p/vast1/jones289/hd_results/5/hdbind-ecfp-1024-1-100.dude-src.5.pkl hdbind-ecfp-1024-1-100\n"
     ]
    },
    {
     "name": "stderr",
     "output_type": "stream",
     "text": [
      "\n",
      " 92%|█████████▏| 35/38 [00:18<00:01,  1.81it/s]\u001b[A"
     ]
    },
    {
     "name": "stdout",
     "output_type": "stream",
     "text": [
      "dude-thrb /p/vast1/jones289/hd_results/5/hdbind-ecfp-1024-1-100.dude-thrb.5.pkl hdbind-ecfp-1024-1-100\n"
     ]
    },
    {
     "name": "stderr",
     "output_type": "stream",
     "text": [
      "\n",
      " 95%|█████████▍| 36/38 [00:18<00:01,  1.89it/s]\u001b[A"
     ]
    },
    {
     "name": "stdout",
     "output_type": "stream",
     "text": [
      "dude-try1 /p/vast1/jones289/hd_results/5/hdbind-ecfp-1024-1-100.dude-try1.5.pkl hdbind-ecfp-1024-1-100\n"
     ]
    },
    {
     "name": "stderr",
     "output_type": "stream",
     "text": [
      "\n",
      " 97%|█████████▋| 37/38 [00:19<00:00,  2.15it/s]\u001b[A"
     ]
    },
    {
     "name": "stdout",
     "output_type": "stream",
     "text": [
      "dude-vgfr2 /p/vast1/jones289/hd_results/5/hdbind-ecfp-1024-1-100.dude-vgfr2.5.pkl hdbind-ecfp-1024-1-100\n"
     ]
    },
    {
     "name": "stderr",
     "output_type": "stream",
     "text": [
      "\n",
      "100%|██████████| 38/38 [00:19<00:00,  1.91it/s]\u001b[A\n",
      " 38%|███▊      | 3/8 [00:50<01:25, 17.07s/it]"
     ]
    },
    {
     "name": "stdout",
     "output_type": "stream",
     "text": [
      "hdbind-ecfp-1024-1-1k-dude: 2\t 38\n"
     ]
    },
    {
     "name": "stderr",
     "output_type": "stream",
     "text": [
      "\n",
      "  0%|          | 0/38 [00:00<?, ?it/s]\u001b[A"
     ]
    },
    {
     "name": "stdout",
     "output_type": "stream",
     "text": [
      "dude-ace /p/vast1/jones289/hd_results/5/hdbind-ecfp-1024-1-1k.dude-ace.5.pkl hdbind-ecfp-1024-1-1k\n"
     ]
    },
    {
     "name": "stderr",
     "output_type": "stream",
     "text": [
      "\n",
      "  3%|▎         | 1/38 [00:00<00:21,  1.76it/s]\u001b[A"
     ]
    },
    {
     "name": "stdout",
     "output_type": "stream",
     "text": [
      "dude-aces /p/vast1/jones289/hd_results/5/hdbind-ecfp-1024-1-1k.dude-aces.5.pkl hdbind-ecfp-1024-1-1k\n"
     ]
    },
    {
     "name": "stderr",
     "output_type": "stream",
     "text": [
      "\n",
      "  5%|▌         | 2/38 [00:01<00:27,  1.29it/s]\u001b[A"
     ]
    },
    {
     "name": "stdout",
     "output_type": "stream",
     "text": [
      "dude-ada /p/vast1/jones289/hd_results/5/hdbind-ecfp-1024-1-1k.dude-ada.5.pkl hdbind-ecfp-1024-1-1k\n"
     ]
    },
    {
     "name": "stderr",
     "output_type": "stream",
     "text": [
      "\n",
      "  8%|▊         | 3/38 [00:01<00:18,  1.86it/s]\u001b[A"
     ]
    },
    {
     "name": "stdout",
     "output_type": "stream",
     "text": [
      "dude-aldr /p/vast1/jones289/hd_results/5/hdbind-ecfp-1024-1-1k.dude-aldr.5.pkl hdbind-ecfp-1024-1-1k\n"
     ]
    },
    {
     "name": "stderr",
     "output_type": "stream",
     "text": [
      "\n",
      " 11%|█         | 4/38 [00:02<00:15,  2.17it/s]\u001b[A\n",
      " 13%|█▎        | 5/38 [00:02<00:11,  2.78it/s]\u001b[A"
     ]
    },
    {
     "name": "stdout",
     "output_type": "stream",
     "text": [
      "dude-ampc /p/vast1/jones289/hd_results/5/hdbind-ecfp-1024-1-1k.dude-ampc.5.pkl hdbind-ecfp-1024-1-1k\n",
      "dude-andr /p/vast1/jones289/hd_results/5/hdbind-ecfp-1024-1-1k.dude-andr.5.pkl hdbind-ecfp-1024-1-1k\n"
     ]
    },
    {
     "name": "stderr",
     "output_type": "stream",
     "text": [
      "\n",
      " 16%|█▌        | 6/38 [00:02<00:10,  3.00it/s]\u001b[A"
     ]
    },
    {
     "name": "stdout",
     "output_type": "stream",
     "text": [
      "dude-bace1 /p/vast1/jones289/hd_results/5/hdbind-ecfp-1024-1-1k.dude-bace1.5.pkl hdbind-ecfp-1024-1-1k\n"
     ]
    },
    {
     "name": "stderr",
     "output_type": "stream",
     "text": [
      "\n",
      " 18%|█▊        | 7/38 [00:03<00:12,  2.47it/s]\u001b[A"
     ]
    },
    {
     "name": "stdout",
     "output_type": "stream",
     "text": [
      "dude-cdk2 /p/vast1/jones289/hd_results/5/hdbind-ecfp-1024-1-1k.dude-cdk2.5.pkl hdbind-ecfp-1024-1-1k\n"
     ]
    },
    {
     "name": "stderr",
     "output_type": "stream",
     "text": [
      "\n",
      " 21%|██        | 8/38 [00:04<00:18,  1.65it/s]\u001b[A"
     ]
    },
    {
     "name": "stdout",
     "output_type": "stream",
     "text": [
      "dude-comt /p/vast1/jones289/hd_results/5/hdbind-ecfp-1024-1-1k.dude-comt.5.pkl hdbind-ecfp-1024-1-1k\n"
     ]
    },
    {
     "name": "stderr",
     "output_type": "stream",
     "text": [
      "\n",
      " 24%|██▎       | 9/38 [00:04<00:14,  2.07it/s]\u001b[A"
     ]
    },
    {
     "name": "stdout",
     "output_type": "stream",
     "text": [
      "dude-dyr /p/vast1/jones289/hd_results/5/hdbind-ecfp-1024-1-1k.dude-dyr.5.pkl hdbind-ecfp-1024-1-1k\n"
     ]
    },
    {
     "name": "stderr",
     "output_type": "stream",
     "text": [
      "\n",
      " 26%|██▋       | 10/38 [00:05<00:15,  1.86it/s]\u001b[A"
     ]
    },
    {
     "name": "stdout",
     "output_type": "stream",
     "text": [
      "dude-egfr /p/vast1/jones289/hd_results/5/hdbind-ecfp-1024-1-1k.dude-egfr.5.pkl hdbind-ecfp-1024-1-1k\n"
     ]
    },
    {
     "name": "stderr",
     "output_type": "stream",
     "text": [
      "\n",
      " 29%|██▉       | 11/38 [00:06<00:20,  1.33it/s]\u001b[A"
     ]
    },
    {
     "name": "stdout",
     "output_type": "stream",
     "text": [
      "dude-esr1 /p/vast1/jones289/hd_results/5/hdbind-ecfp-1024-1-1k.dude-esr1.5.pkl hdbind-ecfp-1024-1-1k\n"
     ]
    },
    {
     "name": "stderr",
     "output_type": "stream",
     "text": [
      "\n",
      " 32%|███▏      | 12/38 [00:06<00:19,  1.35it/s]\u001b[A"
     ]
    },
    {
     "name": "stdout",
     "output_type": "stream",
     "text": [
      "dude-fa10 /p/vast1/jones289/hd_results/5/hdbind-ecfp-1024-1-1k.dude-fa10.5.pkl hdbind-ecfp-1024-1-1k\n"
     ]
    },
    {
     "name": "stderr",
     "output_type": "stream",
     "text": [
      "\n",
      " 34%|███▍      | 13/38 [00:07<00:17,  1.44it/s]\u001b[A"
     ]
    },
    {
     "name": "stdout",
     "output_type": "stream",
     "text": [
      "dude-gcr /p/vast1/jones289/hd_results/5/hdbind-ecfp-1024-1-1k.dude-gcr.5.pkl hdbind-ecfp-1024-1-1k\n"
     ]
    },
    {
     "name": "stderr",
     "output_type": "stream",
     "text": [
      "\n",
      " 37%|███▋      | 14/38 [00:07<00:14,  1.70it/s]\u001b[A"
     ]
    },
    {
     "name": "stdout",
     "output_type": "stream",
     "text": [
      "dude-hivpr /p/vast1/jones289/hd_results/5/hdbind-ecfp-1024-1-1k.dude-hivpr.5.pkl hdbind-ecfp-1024-1-1k\n"
     ]
    },
    {
     "name": "stderr",
     "output_type": "stream",
     "text": [
      "\n",
      " 39%|███▉      | 15/38 [00:09<00:17,  1.31it/s]\u001b[A\n",
      " 42%|████▏     | 16/38 [00:09<00:12,  1.74it/s]\u001b[A"
     ]
    },
    {
     "name": "stdout",
     "output_type": "stream",
     "text": [
      "dude-hivrt /p/vast1/jones289/hd_results/5/hdbind-ecfp-1024-1-1k.dude-hivrt.5.pkl hdbind-ecfp-1024-1-1k\n",
      "dude-hmdh /p/vast1/jones289/hd_results/5/hdbind-ecfp-1024-1-1k.dude-hmdh.5.pkl hdbind-ecfp-1024-1-1k\n"
     ]
    },
    {
     "name": "stderr",
     "output_type": "stream",
     "text": [
      "\n",
      " 45%|████▍     | 17/38 [00:09<00:11,  1.86it/s]\u001b[A"
     ]
    },
    {
     "name": "stdout",
     "output_type": "stream",
     "text": [
      "dude-hs90a /p/vast1/jones289/hd_results/5/hdbind-ecfp-1024-1-1k.dude-hs90a.5.pkl hdbind-ecfp-1024-1-1k\n"
     ]
    },
    {
     "name": "stderr",
     "output_type": "stream",
     "text": [
      "\n",
      " 47%|████▋     | 18/38 [00:09<00:08,  2.24it/s]\u001b[A\n",
      " 50%|█████     | 19/38 [00:10<00:06,  2.79it/s]\u001b[A"
     ]
    },
    {
     "name": "stdout",
     "output_type": "stream",
     "text": [
      "dude-inha /p/vast1/jones289/hd_results/5/hdbind-ecfp-1024-1-1k.dude-inha.5.pkl hdbind-ecfp-1024-1-1k\n",
      "dude-kith /p/vast1/jones289/hd_results/5/hdbind-ecfp-1024-1-1k.dude-kith.5.pkl hdbind-ecfp-1024-1-1k\n"
     ]
    },
    {
     "name": "stderr",
     "output_type": "stream",
     "text": [
      "\n",
      " 53%|█████▎    | 20/38 [00:10<00:05,  3.32it/s]\u001b[A\n",
      " 55%|█████▌    | 21/38 [00:10<00:04,  3.97it/s]\u001b[A"
     ]
    },
    {
     "name": "stdout",
     "output_type": "stream",
     "text": [
      "dude-mcr /p/vast1/jones289/hd_results/5/hdbind-ecfp-1024-1-1k.dude-mcr.5.pkl hdbind-ecfp-1024-1-1k\n",
      "dude-mk14 /p/vast1/jones289/hd_results/5/hdbind-ecfp-1024-1-1k.dude-mk14.5.pkl hdbind-ecfp-1024-1-1k\n"
     ]
    },
    {
     "name": "stderr",
     "output_type": "stream",
     "text": [
      "\n",
      " 58%|█████▊    | 22/38 [00:11<00:08,  1.99it/s]\u001b[A"
     ]
    },
    {
     "name": "stdout",
     "output_type": "stream",
     "text": [
      "dude-nram /p/vast1/jones289/hd_results/5/hdbind-ecfp-1024-1-1k.dude-nram.5.pkl hdbind-ecfp-1024-1-1k\n"
     ]
    },
    {
     "name": "stderr",
     "output_type": "stream",
     "text": [
      "\n",
      " 61%|██████    | 23/38 [00:11<00:06,  2.31it/s]\u001b[A"
     ]
    },
    {
     "name": "stdout",
     "output_type": "stream",
     "text": [
      "dude-parp1 /p/vast1/jones289/hd_results/5/hdbind-ecfp-1024-1-1k.dude-parp1.5.pkl hdbind-ecfp-1024-1-1k\n"
     ]
    },
    {
     "name": "stderr",
     "output_type": "stream",
     "text": [
      "\n",
      " 63%|██████▎   | 24/38 [00:12<00:08,  1.57it/s]\u001b[A"
     ]
    },
    {
     "name": "stdout",
     "output_type": "stream",
     "text": [
      "dude-pde5a /p/vast1/jones289/hd_results/5/hdbind-ecfp-1024-1-1k.dude-pde5a.5.pkl hdbind-ecfp-1024-1-1k\n"
     ]
    },
    {
     "name": "stderr",
     "output_type": "stream",
     "text": [
      "\n",
      " 66%|██████▌   | 25/38 [00:13<00:09,  1.37it/s]\u001b[A"
     ]
    },
    {
     "name": "stdout",
     "output_type": "stream",
     "text": [
      "dude-pgh1 /p/vast1/jones289/hd_results/5/hdbind-ecfp-1024-1-1k.dude-pgh1.5.pkl hdbind-ecfp-1024-1-1k\n"
     ]
    },
    {
     "name": "stderr",
     "output_type": "stream",
     "text": [
      "\n",
      " 68%|██████▊   | 26/38 [00:14<00:07,  1.60it/s]\u001b[A"
     ]
    },
    {
     "name": "stdout",
     "output_type": "stream",
     "text": [
      "dude-pgh2 /p/vast1/jones289/hd_results/5/hdbind-ecfp-1024-1-1k.dude-pgh2.5.pkl hdbind-ecfp-1024-1-1k\n"
     ]
    },
    {
     "name": "stderr",
     "output_type": "stream",
     "text": [
      "\n",
      " 71%|███████   | 27/38 [00:14<00:06,  1.60it/s]\u001b[A"
     ]
    },
    {
     "name": "stdout",
     "output_type": "stream",
     "text": [
      "dude-pnph /p/vast1/jones289/hd_results/5/hdbind-ecfp-1024-1-1k.dude-pnph.5.pkl hdbind-ecfp-1024-1-1k\n"
     ]
    },
    {
     "name": "stderr",
     "output_type": "stream",
     "text": [
      "\n",
      " 74%|███████▎  | 28/38 [00:15<00:05,  1.89it/s]\u001b[A"
     ]
    },
    {
     "name": "stdout",
     "output_type": "stream",
     "text": [
      "dude-pparg /p/vast1/jones289/hd_results/5/hdbind-ecfp-1024-1-1k.dude-pparg.5.pkl hdbind-ecfp-1024-1-1k\n"
     ]
    },
    {
     "name": "stderr",
     "output_type": "stream",
     "text": [
      "\n",
      " 76%|███████▋  | 29/38 [00:16<00:05,  1.54it/s]\u001b[A"
     ]
    },
    {
     "name": "stdout",
     "output_type": "stream",
     "text": [
      "dude-prgr /p/vast1/jones289/hd_results/5/hdbind-ecfp-1024-1-1k.dude-prgr.5.pkl hdbind-ecfp-1024-1-1k\n"
     ]
    },
    {
     "name": "stderr",
     "output_type": "stream",
     "text": [
      "\n",
      " 79%|███████▉  | 30/38 [00:16<00:04,  1.76it/s]\u001b[A\n",
      " 82%|████████▏ | 31/38 [00:16<00:03,  2.24it/s]\u001b[A"
     ]
    },
    {
     "name": "stdout",
     "output_type": "stream",
     "text": [
      "dude-pur2 /p/vast1/jones289/hd_results/5/hdbind-ecfp-1024-1-1k.dude-pur2.5.pkl hdbind-ecfp-1024-1-1k\n",
      "dude-pygm /p/vast1/jones289/hd_results/5/hdbind-ecfp-1024-1-1k.dude-pygm.5.pkl hdbind-ecfp-1024-1-1k\n"
     ]
    },
    {
     "name": "stderr",
     "output_type": "stream",
     "text": [
      "\n",
      " 84%|████████▍ | 32/38 [00:16<00:02,  2.68it/s]\u001b[A"
     ]
    },
    {
     "name": "stdout",
     "output_type": "stream",
     "text": [
      "dude-rxra /p/vast1/jones289/hd_results/5/hdbind-ecfp-1024-1-1k.dude-rxra.5.pkl hdbind-ecfp-1024-1-1k\n"
     ]
    },
    {
     "name": "stderr",
     "output_type": "stream",
     "text": [
      "\n",
      " 87%|████████▋ | 33/38 [00:17<00:01,  2.94it/s]\u001b[A\n",
      " 89%|████████▉ | 34/38 [00:17<00:01,  3.40it/s]\u001b[A"
     ]
    },
    {
     "name": "stdout",
     "output_type": "stream",
     "text": [
      "dude-sahh /p/vast1/jones289/hd_results/5/hdbind-ecfp-1024-1-1k.dude-sahh.5.pkl hdbind-ecfp-1024-1-1k\n",
      "dude-src /p/vast1/jones289/hd_results/5/hdbind-ecfp-1024-1-1k.dude-src.5.pkl hdbind-ecfp-1024-1-1k\n"
     ]
    },
    {
     "name": "stderr",
     "output_type": "stream",
     "text": [
      "\n",
      " 92%|█████████▏| 35/38 [00:18<00:01,  1.67it/s]\u001b[A"
     ]
    },
    {
     "name": "stdout",
     "output_type": "stream",
     "text": [
      "dude-thrb /p/vast1/jones289/hd_results/5/hdbind-ecfp-1024-1-1k.dude-thrb.5.pkl hdbind-ecfp-1024-1-1k\n"
     ]
    },
    {
     "name": "stderr",
     "output_type": "stream",
     "text": [
      "\n",
      " 95%|█████████▍| 36/38 [00:18<00:01,  1.91it/s]\u001b[A"
     ]
    },
    {
     "name": "stdout",
     "output_type": "stream",
     "text": [
      "dude-try1 /p/vast1/jones289/hd_results/5/hdbind-ecfp-1024-1-1k.dude-try1.5.pkl hdbind-ecfp-1024-1-1k\n"
     ]
    },
    {
     "name": "stderr",
     "output_type": "stream",
     "text": [
      "\n",
      " 97%|█████████▋| 37/38 [00:19<00:00,  2.16it/s]\u001b[A"
     ]
    },
    {
     "name": "stdout",
     "output_type": "stream",
     "text": [
      "dude-vgfr2 /p/vast1/jones289/hd_results/5/hdbind-ecfp-1024-1-1k.dude-vgfr2.5.pkl hdbind-ecfp-1024-1-1k\n"
     ]
    },
    {
     "name": "stderr",
     "output_type": "stream",
     "text": [
      "\n",
      "100%|██████████| 38/38 [00:20<00:00,  1.90it/s]\u001b[A\n",
      " 50%|█████     | 4/8 [01:10<01:12, 18.23s/it]"
     ]
    },
    {
     "name": "stdout",
     "output_type": "stream",
     "text": [
      "hdbind-rp-ecfp-1024-1-dude: 2\t 38\n"
     ]
    },
    {
     "name": "stderr",
     "output_type": "stream",
     "text": [
      "\n",
      "  0%|          | 0/38 [00:00<?, ?it/s]\u001b[A"
     ]
    },
    {
     "name": "stdout",
     "output_type": "stream",
     "text": [
      "dude-ace /p/vast1/jones289/hd_results/5/hdbind-rp-ecfp-1024-1.dude-ace.5.pkl hdbind-rp-ecfp-1024-1\n"
     ]
    },
    {
     "name": "stderr",
     "output_type": "stream",
     "text": [
      "\n",
      "  3%|▎         | 1/38 [00:00<00:21,  1.72it/s]\u001b[A"
     ]
    },
    {
     "name": "stdout",
     "output_type": "stream",
     "text": [
      "dude-aces /p/vast1/jones289/hd_results/5/hdbind-rp-ecfp-1024-1.dude-aces.5.pkl hdbind-rp-ecfp-1024-1\n"
     ]
    },
    {
     "name": "stderr",
     "output_type": "stream",
     "text": [
      "\n",
      "  5%|▌         | 2/38 [00:01<00:27,  1.29it/s]\u001b[A"
     ]
    },
    {
     "name": "stdout",
     "output_type": "stream",
     "text": [
      "dude-ada /p/vast1/jones289/hd_results/5/hdbind-rp-ecfp-1024-1.dude-ada.5.pkl hdbind-rp-ecfp-1024-1\n"
     ]
    },
    {
     "name": "stderr",
     "output_type": "stream",
     "text": [
      "\n",
      "  8%|▊         | 3/38 [00:01<00:19,  1.84it/s]\u001b[A"
     ]
    },
    {
     "name": "stdout",
     "output_type": "stream",
     "text": [
      "dude-aldr /p/vast1/jones289/hd_results/5/hdbind-rp-ecfp-1024-1.dude-aldr.5.pkl hdbind-rp-ecfp-1024-1\n"
     ]
    },
    {
     "name": "stderr",
     "output_type": "stream",
     "text": [
      "\n",
      " 11%|█         | 4/38 [00:02<00:16,  2.10it/s]\u001b[A\n",
      " 13%|█▎        | 5/38 [00:02<00:12,  2.65it/s]\u001b[A"
     ]
    },
    {
     "name": "stdout",
     "output_type": "stream",
     "text": [
      "dude-ampc /p/vast1/jones289/hd_results/5/hdbind-rp-ecfp-1024-1.dude-ampc.5.pkl hdbind-rp-ecfp-1024-1\n",
      "dude-andr /p/vast1/jones289/hd_results/5/hdbind-rp-ecfp-1024-1.dude-andr.5.pkl hdbind-rp-ecfp-1024-1\n"
     ]
    },
    {
     "name": "stderr",
     "output_type": "stream",
     "text": [
      "\n",
      " 16%|█▌        | 6/38 [00:02<00:11,  2.86it/s]\u001b[A"
     ]
    },
    {
     "name": "stdout",
     "output_type": "stream",
     "text": [
      "dude-bace1 /p/vast1/jones289/hd_results/5/hdbind-rp-ecfp-1024-1.dude-bace1.5.pkl hdbind-rp-ecfp-1024-1\n"
     ]
    },
    {
     "name": "stderr",
     "output_type": "stream",
     "text": [
      "\n",
      " 18%|█▊        | 7/38 [00:03<00:13,  2.37it/s]\u001b[A"
     ]
    },
    {
     "name": "stdout",
     "output_type": "stream",
     "text": [
      "dude-cdk2 /p/vast1/jones289/hd_results/5/hdbind-rp-ecfp-1024-1.dude-cdk2.5.pkl hdbind-rp-ecfp-1024-1\n"
     ]
    },
    {
     "name": "stderr",
     "output_type": "stream",
     "text": [
      "\n",
      " 21%|██        | 8/38 [00:04<00:18,  1.62it/s]\u001b[A"
     ]
    },
    {
     "name": "stdout",
     "output_type": "stream",
     "text": [
      "dude-comt /p/vast1/jones289/hd_results/5/hdbind-rp-ecfp-1024-1.dude-comt.5.pkl hdbind-rp-ecfp-1024-1\n"
     ]
    },
    {
     "name": "stderr",
     "output_type": "stream",
     "text": [
      "\n",
      " 24%|██▎       | 9/38 [00:04<00:15,  1.86it/s]\u001b[A"
     ]
    },
    {
     "name": "stdout",
     "output_type": "stream",
     "text": [
      "dude-dyr /p/vast1/jones289/hd_results/5/hdbind-rp-ecfp-1024-1.dude-dyr.5.pkl hdbind-rp-ecfp-1024-1\n"
     ]
    },
    {
     "name": "stderr",
     "output_type": "stream",
     "text": [
      "\n",
      " 26%|██▋       | 10/38 [00:05<00:15,  1.87it/s]\u001b[A"
     ]
    },
    {
     "name": "stdout",
     "output_type": "stream",
     "text": [
      "dude-egfr /p/vast1/jones289/hd_results/5/hdbind-rp-ecfp-1024-1.dude-egfr.5.pkl hdbind-rp-ecfp-1024-1\n"
     ]
    },
    {
     "name": "stderr",
     "output_type": "stream",
     "text": [
      "\n",
      " 29%|██▉       | 11/38 [00:06<00:22,  1.21it/s]\u001b[A"
     ]
    },
    {
     "name": "stdout",
     "output_type": "stream",
     "text": [
      "dude-esr1 /p/vast1/jones289/hd_results/5/hdbind-rp-ecfp-1024-1.dude-esr1.5.pkl hdbind-rp-ecfp-1024-1\n"
     ]
    },
    {
     "name": "stderr",
     "output_type": "stream",
     "text": [
      "\n",
      " 32%|███▏      | 12/38 [00:07<00:19,  1.32it/s]\u001b[A"
     ]
    },
    {
     "name": "stdout",
     "output_type": "stream",
     "text": [
      "dude-fa10 /p/vast1/jones289/hd_results/5/hdbind-rp-ecfp-1024-1.dude-fa10.5.pkl hdbind-rp-ecfp-1024-1\n"
     ]
    },
    {
     "name": "stderr",
     "output_type": "stream",
     "text": [
      "\n",
      " 34%|███▍      | 13/38 [00:07<00:19,  1.31it/s]\u001b[A"
     ]
    },
    {
     "name": "stdout",
     "output_type": "stream",
     "text": [
      "dude-gcr /p/vast1/jones289/hd_results/5/hdbind-rp-ecfp-1024-1.dude-gcr.5.pkl hdbind-rp-ecfp-1024-1\n"
     ]
    },
    {
     "name": "stderr",
     "output_type": "stream",
     "text": [
      "\n",
      " 37%|███▋      | 14/38 [00:08<00:15,  1.56it/s]\u001b[A"
     ]
    },
    {
     "name": "stdout",
     "output_type": "stream",
     "text": [
      "dude-hivpr /p/vast1/jones289/hd_results/5/hdbind-rp-ecfp-1024-1.dude-hivpr.5.pkl hdbind-rp-ecfp-1024-1\n"
     ]
    },
    {
     "name": "stderr",
     "output_type": "stream",
     "text": [
      "\n",
      " 39%|███▉      | 15/38 [00:09<00:18,  1.22it/s]\u001b[A\n",
      " 42%|████▏     | 16/38 [00:09<00:13,  1.61it/s]\u001b[A"
     ]
    },
    {
     "name": "stdout",
     "output_type": "stream",
     "text": [
      "dude-hivrt /p/vast1/jones289/hd_results/5/hdbind-rp-ecfp-1024-1.dude-hivrt.5.pkl hdbind-rp-ecfp-1024-1\n",
      "dude-hmdh /p/vast1/jones289/hd_results/5/hdbind-rp-ecfp-1024-1.dude-hmdh.5.pkl hdbind-rp-ecfp-1024-1\n"
     ]
    },
    {
     "name": "stderr",
     "output_type": "stream",
     "text": [
      "\n",
      " 45%|████▍     | 17/38 [00:10<00:11,  1.87it/s]\u001b[A"
     ]
    },
    {
     "name": "stdout",
     "output_type": "stream",
     "text": [
      "dude-hs90a /p/vast1/jones289/hd_results/5/hdbind-rp-ecfp-1024-1.dude-hs90a.5.pkl hdbind-rp-ecfp-1024-1\n"
     ]
    },
    {
     "name": "stderr",
     "output_type": "stream",
     "text": [
      "\n",
      " 47%|████▋     | 18/38 [00:10<00:08,  2.23it/s]\u001b[A\n",
      " 50%|█████     | 19/38 [00:10<00:06,  2.74it/s]\u001b[A"
     ]
    },
    {
     "name": "stdout",
     "output_type": "stream",
     "text": [
      "dude-inha /p/vast1/jones289/hd_results/5/hdbind-rp-ecfp-1024-1.dude-inha.5.pkl hdbind-rp-ecfp-1024-1\n",
      "dude-kith /p/vast1/jones289/hd_results/5/hdbind-rp-ecfp-1024-1.dude-kith.5.pkl hdbind-rp-ecfp-1024-1\n"
     ]
    },
    {
     "name": "stderr",
     "output_type": "stream",
     "text": [
      "\n",
      " 53%|█████▎    | 20/38 [00:10<00:05,  3.21it/s]\u001b[A\n",
      " 55%|█████▌    | 21/38 [00:10<00:04,  3.79it/s]\u001b[A"
     ]
    },
    {
     "name": "stdout",
     "output_type": "stream",
     "text": [
      "dude-mcr /p/vast1/jones289/hd_results/5/hdbind-rp-ecfp-1024-1.dude-mcr.5.pkl hdbind-rp-ecfp-1024-1\n",
      "dude-mk14 /p/vast1/jones289/hd_results/5/hdbind-rp-ecfp-1024-1.dude-mk14.5.pkl hdbind-rp-ecfp-1024-1\n"
     ]
    },
    {
     "name": "stderr",
     "output_type": "stream",
     "text": [
      "\n",
      " 58%|█████▊    | 22/38 [00:12<00:08,  1.84it/s]\u001b[A"
     ]
    },
    {
     "name": "stdout",
     "output_type": "stream",
     "text": [
      "dude-nram /p/vast1/jones289/hd_results/5/hdbind-rp-ecfp-1024-1.dude-nram.5.pkl hdbind-rp-ecfp-1024-1\n"
     ]
    },
    {
     "name": "stderr",
     "output_type": "stream",
     "text": [
      "\n",
      " 61%|██████    | 23/38 [00:12<00:06,  2.15it/s]\u001b[A"
     ]
    },
    {
     "name": "stdout",
     "output_type": "stream",
     "text": [
      "dude-parp1 /p/vast1/jones289/hd_results/5/hdbind-rp-ecfp-1024-1.dude-parp1.5.pkl hdbind-rp-ecfp-1024-1\n"
     ]
    },
    {
     "name": "stderr",
     "output_type": "stream",
     "text": [
      "\n",
      " 63%|██████▎   | 24/38 [00:13<00:09,  1.51it/s]\u001b[A"
     ]
    },
    {
     "name": "stdout",
     "output_type": "stream",
     "text": [
      "dude-pde5a /p/vast1/jones289/hd_results/5/hdbind-rp-ecfp-1024-1.dude-pde5a.5.pkl hdbind-rp-ecfp-1024-1\n"
     ]
    },
    {
     "name": "stderr",
     "output_type": "stream",
     "text": [
      "\n",
      " 66%|██████▌   | 25/38 [00:14<00:09,  1.36it/s]\u001b[A"
     ]
    },
    {
     "name": "stdout",
     "output_type": "stream",
     "text": [
      "dude-pgh1 /p/vast1/jones289/hd_results/5/hdbind-rp-ecfp-1024-1.dude-pgh1.5.pkl hdbind-rp-ecfp-1024-1\n"
     ]
    },
    {
     "name": "stderr",
     "output_type": "stream",
     "text": [
      "\n",
      " 68%|██████▊   | 26/38 [00:14<00:07,  1.59it/s]\u001b[A"
     ]
    },
    {
     "name": "stdout",
     "output_type": "stream",
     "text": [
      "dude-pgh2 /p/vast1/jones289/hd_results/5/hdbind-rp-ecfp-1024-1.dude-pgh2.5.pkl hdbind-rp-ecfp-1024-1\n"
     ]
    },
    {
     "name": "stderr",
     "output_type": "stream",
     "text": [
      "\n",
      " 71%|███████   | 27/38 [00:15<00:06,  1.59it/s]\u001b[A"
     ]
    },
    {
     "name": "stdout",
     "output_type": "stream",
     "text": [
      "dude-pnph /p/vast1/jones289/hd_results/5/hdbind-rp-ecfp-1024-1.dude-pnph.5.pkl hdbind-rp-ecfp-1024-1\n"
     ]
    },
    {
     "name": "stderr",
     "output_type": "stream",
     "text": [
      "\n",
      " 74%|███████▎  | 28/38 [00:15<00:05,  1.89it/s]\u001b[A"
     ]
    },
    {
     "name": "stdout",
     "output_type": "stream",
     "text": [
      "dude-pparg /p/vast1/jones289/hd_results/5/hdbind-rp-ecfp-1024-1.dude-pparg.5.pkl hdbind-rp-ecfp-1024-1\n"
     ]
    },
    {
     "name": "stderr",
     "output_type": "stream",
     "text": [
      "\n",
      " 76%|███████▋  | 29/38 [00:16<00:05,  1.53it/s]\u001b[A"
     ]
    },
    {
     "name": "stdout",
     "output_type": "stream",
     "text": [
      "dude-prgr /p/vast1/jones289/hd_results/5/hdbind-rp-ecfp-1024-1.dude-prgr.5.pkl hdbind-rp-ecfp-1024-1\n"
     ]
    },
    {
     "name": "stderr",
     "output_type": "stream",
     "text": [
      "\n",
      " 79%|███████▉  | 30/38 [00:16<00:04,  1.75it/s]\u001b[A\n",
      " 82%|████████▏ | 31/38 [00:17<00:03,  2.20it/s]\u001b[A"
     ]
    },
    {
     "name": "stdout",
     "output_type": "stream",
     "text": [
      "dude-pur2 /p/vast1/jones289/hd_results/5/hdbind-rp-ecfp-1024-1.dude-pur2.5.pkl hdbind-rp-ecfp-1024-1\n",
      "dude-pygm /p/vast1/jones289/hd_results/5/hdbind-rp-ecfp-1024-1.dude-pygm.5.pkl hdbind-rp-ecfp-1024-1\n"
     ]
    },
    {
     "name": "stderr",
     "output_type": "stream",
     "text": [
      "\n",
      " 84%|████████▍ | 32/38 [00:17<00:02,  2.62it/s]\u001b[A"
     ]
    },
    {
     "name": "stdout",
     "output_type": "stream",
     "text": [
      "dude-rxra /p/vast1/jones289/hd_results/5/hdbind-rp-ecfp-1024-1.dude-rxra.5.pkl hdbind-rp-ecfp-1024-1\n"
     ]
    },
    {
     "name": "stderr",
     "output_type": "stream",
     "text": [
      "\n",
      " 87%|████████▋ | 33/38 [00:17<00:01,  2.86it/s]\u001b[A\n",
      " 89%|████████▉ | 34/38 [00:17<00:01,  3.26it/s]\u001b[A"
     ]
    },
    {
     "name": "stdout",
     "output_type": "stream",
     "text": [
      "dude-sahh /p/vast1/jones289/hd_results/5/hdbind-rp-ecfp-1024-1.dude-sahh.5.pkl hdbind-rp-ecfp-1024-1\n",
      "dude-src /p/vast1/jones289/hd_results/5/hdbind-rp-ecfp-1024-1.dude-src.5.pkl hdbind-rp-ecfp-1024-1\n"
     ]
    },
    {
     "name": "stderr",
     "output_type": "stream",
     "text": [
      "\n",
      " 92%|█████████▏| 35/38 [00:19<00:01,  1.64it/s]\u001b[A"
     ]
    },
    {
     "name": "stdout",
     "output_type": "stream",
     "text": [
      "dude-thrb /p/vast1/jones289/hd_results/5/hdbind-rp-ecfp-1024-1.dude-thrb.5.pkl hdbind-rp-ecfp-1024-1\n"
     ]
    },
    {
     "name": "stderr",
     "output_type": "stream",
     "text": [
      "\n",
      " 95%|█████████▍| 36/38 [00:19<00:01,  1.87it/s]\u001b[A"
     ]
    },
    {
     "name": "stdout",
     "output_type": "stream",
     "text": [
      "dude-try1 /p/vast1/jones289/hd_results/5/hdbind-rp-ecfp-1024-1.dude-try1.5.pkl hdbind-rp-ecfp-1024-1\n"
     ]
    },
    {
     "name": "stderr",
     "output_type": "stream",
     "text": [
      "\n",
      " 97%|█████████▋| 37/38 [00:19<00:00,  2.11it/s]\u001b[A"
     ]
    },
    {
     "name": "stdout",
     "output_type": "stream",
     "text": [
      "dude-vgfr2 /p/vast1/jones289/hd_results/5/hdbind-rp-ecfp-1024-1.dude-vgfr2.5.pkl hdbind-rp-ecfp-1024-1\n"
     ]
    },
    {
     "name": "stderr",
     "output_type": "stream",
     "text": [
      "\n",
      "100%|██████████| 38/38 [00:20<00:00,  1.84it/s]\u001b[A\n",
      " 62%|██████▎   | 5/8 [01:31<00:57, 19.12s/it]"
     ]
    },
    {
     "name": "stdout",
     "output_type": "stream",
     "text": [
      "hdbind-ecfp-1024-1-100k-dude: 2\t 38\n"
     ]
    },
    {
     "name": "stderr",
     "output_type": "stream",
     "text": [
      "\n",
      "  0%|          | 0/38 [00:00<?, ?it/s]\u001b[A"
     ]
    },
    {
     "name": "stdout",
     "output_type": "stream",
     "text": [
      "dude-ace /p/vast1/jones289/hd_results/5/hdbind-ecfp-1024-1-100k.dude-ace.5.pkl hdbind-ecfp-1024-1-100k\n"
     ]
    },
    {
     "name": "stderr",
     "output_type": "stream",
     "text": [
      "\n",
      "  3%|▎         | 1/38 [00:00<00:28,  1.31it/s]\u001b[A"
     ]
    },
    {
     "name": "stdout",
     "output_type": "stream",
     "text": [
      "dude-aces /p/vast1/jones289/hd_results/5/hdbind-ecfp-1024-1-100k.dude-aces.5.pkl hdbind-ecfp-1024-1-100k\n"
     ]
    },
    {
     "name": "stderr",
     "output_type": "stream",
     "text": [
      "\n",
      "  5%|▌         | 2/38 [00:01<00:34,  1.05it/s]\u001b[A"
     ]
    },
    {
     "name": "stdout",
     "output_type": "stream",
     "text": [
      "dude-ada /p/vast1/jones289/hd_results/5/hdbind-ecfp-1024-1-100k.dude-ada.5.pkl hdbind-ecfp-1024-1-100k\n"
     ]
    },
    {
     "name": "stderr",
     "output_type": "stream",
     "text": [
      "\n",
      "  8%|▊         | 3/38 [00:02<00:24,  1.42it/s]\u001b[A"
     ]
    },
    {
     "name": "stdout",
     "output_type": "stream",
     "text": [
      "dude-aldr /p/vast1/jones289/hd_results/5/hdbind-ecfp-1024-1-100k.dude-aldr.5.pkl hdbind-ecfp-1024-1-100k\n"
     ]
    },
    {
     "name": "stderr",
     "output_type": "stream",
     "text": [
      "\n",
      " 11%|█         | 4/38 [00:02<00:21,  1.58it/s]\u001b[A\n",
      " 13%|█▎        | 5/38 [00:03<00:17,  1.92it/s]\u001b[A"
     ]
    },
    {
     "name": "stdout",
     "output_type": "stream",
     "text": [
      "dude-ampc /p/vast1/jones289/hd_results/5/hdbind-ecfp-1024-1-100k.dude-ampc.5.pkl hdbind-ecfp-1024-1-100k\n",
      "dude-andr /p/vast1/jones289/hd_results/5/hdbind-ecfp-1024-1-100k.dude-andr.5.pkl hdbind-ecfp-1024-1-100k\n"
     ]
    },
    {
     "name": "stderr",
     "output_type": "stream",
     "text": [
      "\n",
      " 16%|█▌        | 6/38 [00:03<00:15,  2.04it/s]\u001b[A"
     ]
    },
    {
     "name": "stdout",
     "output_type": "stream",
     "text": [
      "dude-bace1 /p/vast1/jones289/hd_results/5/hdbind-ecfp-1024-1-100k.dude-bace1.5.pkl hdbind-ecfp-1024-1-100k\n"
     ]
    },
    {
     "name": "stderr",
     "output_type": "stream",
     "text": [
      "\n",
      " 18%|█▊        | 7/38 [00:04<00:16,  1.85it/s]\u001b[A"
     ]
    },
    {
     "name": "stdout",
     "output_type": "stream",
     "text": [
      "dude-cdk2 /p/vast1/jones289/hd_results/5/hdbind-ecfp-1024-1-100k.dude-cdk2.5.pkl hdbind-ecfp-1024-1-100k\n"
     ]
    },
    {
     "name": "stderr",
     "output_type": "stream",
     "text": [
      "\n",
      " 21%|██        | 8/38 [00:05<00:21,  1.43it/s]\u001b[A"
     ]
    },
    {
     "name": "stdout",
     "output_type": "stream",
     "text": [
      "dude-comt /p/vast1/jones289/hd_results/5/hdbind-ecfp-1024-1-100k.dude-comt.5.pkl hdbind-ecfp-1024-1-100k\n"
     ]
    },
    {
     "name": "stderr",
     "output_type": "stream",
     "text": [
      "\n",
      " 24%|██▎       | 9/38 [00:05<00:17,  1.62it/s]\u001b[A"
     ]
    },
    {
     "name": "stdout",
     "output_type": "stream",
     "text": [
      "dude-dyr /p/vast1/jones289/hd_results/5/hdbind-ecfp-1024-1-100k.dude-dyr.5.pkl hdbind-ecfp-1024-1-100k\n"
     ]
    },
    {
     "name": "stderr",
     "output_type": "stream",
     "text": [
      "\n",
      " 26%|██▋       | 10/38 [00:06<00:17,  1.59it/s]\u001b[A"
     ]
    },
    {
     "name": "stdout",
     "output_type": "stream",
     "text": [
      "dude-egfr /p/vast1/jones289/hd_results/5/hdbind-ecfp-1024-1-100k.dude-egfr.5.pkl hdbind-ecfp-1024-1-100k\n"
     ]
    },
    {
     "name": "stderr",
     "output_type": "stream",
     "text": [
      "\n",
      " 29%|██▉       | 11/38 [00:07<00:24,  1.10it/s]\u001b[A"
     ]
    },
    {
     "name": "stdout",
     "output_type": "stream",
     "text": [
      "dude-esr1 /p/vast1/jones289/hd_results/5/hdbind-ecfp-1024-1-100k.dude-esr1.5.pkl hdbind-ecfp-1024-1-100k\n"
     ]
    },
    {
     "name": "stderr",
     "output_type": "stream",
     "text": [
      "\n",
      " 32%|███▏      | 12/38 [00:08<00:21,  1.18it/s]\u001b[A"
     ]
    },
    {
     "name": "stdout",
     "output_type": "stream",
     "text": [
      "dude-fa10 /p/vast1/jones289/hd_results/5/hdbind-ecfp-1024-1-100k.dude-fa10.5.pkl hdbind-ecfp-1024-1-100k\n"
     ]
    },
    {
     "name": "stderr",
     "output_type": "stream",
     "text": [
      "\n",
      " 34%|███▍      | 13/38 [00:09<00:21,  1.17it/s]\u001b[A"
     ]
    },
    {
     "name": "stdout",
     "output_type": "stream",
     "text": [
      "dude-gcr /p/vast1/jones289/hd_results/5/hdbind-ecfp-1024-1-100k.dude-gcr.5.pkl hdbind-ecfp-1024-1-100k\n"
     ]
    },
    {
     "name": "stderr",
     "output_type": "stream",
     "text": [
      "\n",
      " 37%|███▋      | 14/38 [00:09<00:17,  1.34it/s]\u001b[A"
     ]
    },
    {
     "name": "stdout",
     "output_type": "stream",
     "text": [
      "dude-hivpr /p/vast1/jones289/hd_results/5/hdbind-ecfp-1024-1-100k.dude-hivpr.5.pkl hdbind-ecfp-1024-1-100k\n"
     ]
    },
    {
     "name": "stderr",
     "output_type": "stream",
     "text": [
      "\n",
      " 39%|███▉      | 15/38 [00:11<00:21,  1.07it/s]\u001b[A\n",
      " 42%|████▏     | 16/38 [00:11<00:16,  1.36it/s]\u001b[A"
     ]
    },
    {
     "name": "stdout",
     "output_type": "stream",
     "text": [
      "dude-hivrt /p/vast1/jones289/hd_results/5/hdbind-ecfp-1024-1-100k.dude-hivrt.5.pkl hdbind-ecfp-1024-1-100k\n",
      "dude-hmdh /p/vast1/jones289/hd_results/5/hdbind-ecfp-1024-1-100k.dude-hmdh.5.pkl hdbind-ecfp-1024-1-100k\n"
     ]
    },
    {
     "name": "stderr",
     "output_type": "stream",
     "text": [
      "\n",
      " 45%|████▍     | 17/38 [00:12<00:13,  1.53it/s]\u001b[A"
     ]
    },
    {
     "name": "stdout",
     "output_type": "stream",
     "text": [
      "dude-hs90a /p/vast1/jones289/hd_results/5/hdbind-ecfp-1024-1-100k.dude-hs90a.5.pkl hdbind-ecfp-1024-1-100k\n"
     ]
    },
    {
     "name": "stderr",
     "output_type": "stream",
     "text": [
      "\n",
      " 47%|████▋     | 18/38 [00:12<00:11,  1.77it/s]\u001b[A\n",
      " 50%|█████     | 19/38 [00:12<00:09,  2.03it/s]\u001b[A"
     ]
    },
    {
     "name": "stdout",
     "output_type": "stream",
     "text": [
      "dude-inha /p/vast1/jones289/hd_results/5/hdbind-ecfp-1024-1-100k.dude-inha.5.pkl hdbind-ecfp-1024-1-100k\n"
     ]
    },
    {
     "name": "stderr",
     "output_type": "stream",
     "text": [
      "\n",
      " 53%|█████▎    | 20/38 [00:13<00:07,  2.28it/s]\u001b[A"
     ]
    },
    {
     "name": "stdout",
     "output_type": "stream",
     "text": [
      "dude-kith /p/vast1/jones289/hd_results/5/hdbind-ecfp-1024-1-100k.dude-kith.5.pkl hdbind-ecfp-1024-1-100k\n"
     ]
    },
    {
     "name": "stderr",
     "output_type": "stream",
     "text": [
      "\n",
      " 55%|█████▌    | 21/38 [00:13<00:06,  2.54it/s]\u001b[A"
     ]
    },
    {
     "name": "stdout",
     "output_type": "stream",
     "text": [
      "dude-mcr /p/vast1/jones289/hd_results/5/hdbind-ecfp-1024-1-100k.dude-mcr.5.pkl hdbind-ecfp-1024-1-100k\n",
      "dude-mk14 /p/vast1/jones289/hd_results/5/hdbind-ecfp-1024-1-100k.dude-mk14.5.pkl hdbind-ecfp-1024-1-100k\n"
     ]
    },
    {
     "name": "stderr",
     "output_type": "stream",
     "text": [
      "\n",
      " 58%|█████▊    | 22/38 [00:14<00:11,  1.45it/s]\u001b[A"
     ]
    },
    {
     "name": "stdout",
     "output_type": "stream",
     "text": [
      "dude-nram /p/vast1/jones289/hd_results/5/hdbind-ecfp-1024-1-100k.dude-nram.5.pkl hdbind-ecfp-1024-1-100k\n"
     ]
    },
    {
     "name": "stderr",
     "output_type": "stream",
     "text": [
      "\n",
      " 61%|██████    | 23/38 [00:15<00:09,  1.67it/s]\u001b[A"
     ]
    },
    {
     "name": "stdout",
     "output_type": "stream",
     "text": [
      "dude-parp1 /p/vast1/jones289/hd_results/5/hdbind-ecfp-1024-1-100k.dude-parp1.5.pkl hdbind-ecfp-1024-1-100k\n"
     ]
    },
    {
     "name": "stderr",
     "output_type": "stream",
     "text": [
      "\n",
      " 63%|██████▎   | 24/38 [00:16<00:11,  1.25it/s]\u001b[A"
     ]
    },
    {
     "name": "stdout",
     "output_type": "stream",
     "text": [
      "dude-pde5a /p/vast1/jones289/hd_results/5/hdbind-ecfp-1024-1-100k.dude-pde5a.5.pkl hdbind-ecfp-1024-1-100k\n"
     ]
    },
    {
     "name": "stderr",
     "output_type": "stream",
     "text": [
      "\n",
      " 66%|██████▌   | 25/38 [00:17<00:11,  1.16it/s]\u001b[A"
     ]
    },
    {
     "name": "stdout",
     "output_type": "stream",
     "text": [
      "dude-pgh1 /p/vast1/jones289/hd_results/5/hdbind-ecfp-1024-1-100k.dude-pgh1.5.pkl hdbind-ecfp-1024-1-100k\n"
     ]
    },
    {
     "name": "stderr",
     "output_type": "stream",
     "text": [
      "\n",
      " 68%|██████▊   | 26/38 [00:17<00:09,  1.32it/s]\u001b[A"
     ]
    },
    {
     "name": "stdout",
     "output_type": "stream",
     "text": [
      "dude-pgh2 /p/vast1/jones289/hd_results/5/hdbind-ecfp-1024-1-100k.dude-pgh2.5.pkl hdbind-ecfp-1024-1-100k\n"
     ]
    },
    {
     "name": "stderr",
     "output_type": "stream",
     "text": [
      "\n",
      " 71%|███████   | 27/38 [00:18<00:08,  1.31it/s]\u001b[A"
     ]
    },
    {
     "name": "stdout",
     "output_type": "stream",
     "text": [
      "dude-pnph /p/vast1/jones289/hd_results/5/hdbind-ecfp-1024-1-100k.dude-pnph.5.pkl hdbind-ecfp-1024-1-100k\n"
     ]
    },
    {
     "name": "stderr",
     "output_type": "stream",
     "text": [
      "\n",
      " 74%|███████▎  | 28/38 [00:19<00:06,  1.52it/s]\u001b[A"
     ]
    },
    {
     "name": "stdout",
     "output_type": "stream",
     "text": [
      "dude-pparg /p/vast1/jones289/hd_results/5/hdbind-ecfp-1024-1-100k.dude-pparg.5.pkl hdbind-ecfp-1024-1-100k\n"
     ]
    },
    {
     "name": "stderr",
     "output_type": "stream",
     "text": [
      "\n",
      " 76%|███████▋  | 29/38 [00:20<00:07,  1.26it/s]\u001b[A"
     ]
    },
    {
     "name": "stdout",
     "output_type": "stream",
     "text": [
      "dude-prgr /p/vast1/jones289/hd_results/5/hdbind-ecfp-1024-1-100k.dude-prgr.5.pkl hdbind-ecfp-1024-1-100k\n"
     ]
    },
    {
     "name": "stderr",
     "output_type": "stream",
     "text": [
      "\n",
      " 79%|███████▉  | 30/38 [00:20<00:05,  1.42it/s]\u001b[A\n",
      " 82%|████████▏ | 31/38 [00:20<00:04,  1.70it/s]\u001b[A"
     ]
    },
    {
     "name": "stdout",
     "output_type": "stream",
     "text": [
      "dude-pur2 /p/vast1/jones289/hd_results/5/hdbind-ecfp-1024-1-100k.dude-pur2.5.pkl hdbind-ecfp-1024-1-100k\n"
     ]
    },
    {
     "name": "stderr",
     "output_type": "stream",
     "text": [
      "\n",
      " 84%|████████▍ | 32/38 [00:21<00:03,  1.93it/s]\u001b[A"
     ]
    },
    {
     "name": "stdout",
     "output_type": "stream",
     "text": [
      "dude-pygm /p/vast1/jones289/hd_results/5/hdbind-ecfp-1024-1-100k.dude-pygm.5.pkl hdbind-ecfp-1024-1-100k\n",
      "dude-rxra /p/vast1/jones289/hd_results/5/hdbind-ecfp-1024-1-100k.dude-rxra.5.pkl hdbind-ecfp-1024-1-100k\n"
     ]
    },
    {
     "name": "stderr",
     "output_type": "stream",
     "text": [
      "\n",
      " 87%|████████▋ | 33/38 [00:21<00:02,  2.07it/s]\u001b[A\n",
      " 89%|████████▉ | 34/38 [00:22<00:01,  2.28it/s]\u001b[A"
     ]
    },
    {
     "name": "stdout",
     "output_type": "stream",
     "text": [
      "dude-sahh /p/vast1/jones289/hd_results/5/hdbind-ecfp-1024-1-100k.dude-sahh.5.pkl hdbind-ecfp-1024-1-100k\n",
      "dude-src /p/vast1/jones289/hd_results/5/hdbind-ecfp-1024-1-100k.dude-src.5.pkl hdbind-ecfp-1024-1-100k\n"
     ]
    },
    {
     "name": "stderr",
     "output_type": "stream",
     "text": [
      "\n",
      " 92%|█████████▏| 35/38 [00:23<00:02,  1.31it/s]\u001b[A"
     ]
    },
    {
     "name": "stdout",
     "output_type": "stream",
     "text": [
      "dude-thrb /p/vast1/jones289/hd_results/5/hdbind-ecfp-1024-1-100k.dude-thrb.5.pkl hdbind-ecfp-1024-1-100k\n"
     ]
    },
    {
     "name": "stderr",
     "output_type": "stream",
     "text": [
      "\n",
      " 95%|█████████▍| 36/38 [00:24<00:01,  1.48it/s]\u001b[A"
     ]
    },
    {
     "name": "stdout",
     "output_type": "stream",
     "text": [
      "dude-try1 /p/vast1/jones289/hd_results/5/hdbind-ecfp-1024-1-100k.dude-try1.5.pkl hdbind-ecfp-1024-1-100k\n"
     ]
    },
    {
     "name": "stderr",
     "output_type": "stream",
     "text": [
      "\n",
      " 97%|█████████▋| 37/38 [00:24<00:00,  1.64it/s]\u001b[A"
     ]
    },
    {
     "name": "stdout",
     "output_type": "stream",
     "text": [
      "dude-vgfr2 /p/vast1/jones289/hd_results/5/hdbind-ecfp-1024-1-100k.dude-vgfr2.5.pkl hdbind-ecfp-1024-1-100k\n"
     ]
    },
    {
     "name": "stderr",
     "output_type": "stream",
     "text": [
      "\n",
      "100%|██████████| 38/38 [00:25<00:00,  1.49it/s]\u001b[A\n",
      " 75%|███████▌  | 6/8 [01:56<00:42, 21.27s/it]"
     ]
    },
    {
     "name": "stdout",
     "output_type": "stream",
     "text": [
      "mlp-1024-1-dude: 2\t 38\n"
     ]
    },
    {
     "name": "stderr",
     "output_type": "stream",
     "text": [
      "\n",
      "  0%|          | 0/38 [00:00<?, ?it/s]\u001b[A"
     ]
    },
    {
     "name": "stdout",
     "output_type": "stream",
     "text": [
      "dude-ace /p/vast1/jones289/hd_results/5/mlp-1024-1.dude-ace.5.pkl mlp-1024-1\n"
     ]
    },
    {
     "name": "stderr",
     "output_type": "stream",
     "text": [
      "\n",
      "  3%|▎         | 1/38 [00:01<00:44,  1.21s/it]\u001b[A"
     ]
    },
    {
     "name": "stdout",
     "output_type": "stream",
     "text": [
      "dude-aces /p/vast1/jones289/hd_results/5/mlp-1024-1.dude-aces.5.pkl mlp-1024-1\n"
     ]
    },
    {
     "name": "stderr",
     "output_type": "stream",
     "text": [
      "\n",
      "  5%|▌         | 2/38 [00:03<00:57,  1.60s/it]\u001b[A"
     ]
    },
    {
     "name": "stdout",
     "output_type": "stream",
     "text": [
      "dude-ada /p/vast1/jones289/hd_results/5/mlp-1024-1.dude-ada.5.pkl mlp-1024-1\n"
     ]
    },
    {
     "name": "stderr",
     "output_type": "stream",
     "text": [
      "\n",
      "  8%|▊         | 3/38 [00:03<00:37,  1.07s/it]\u001b[A"
     ]
    },
    {
     "name": "stdout",
     "output_type": "stream",
     "text": [
      "dude-aldr /p/vast1/jones289/hd_results/5/mlp-1024-1.dude-aldr.5.pkl mlp-1024-1\n"
     ]
    },
    {
     "name": "stderr",
     "output_type": "stream",
     "text": [
      "\n",
      " 11%|█         | 4/38 [00:04<00:30,  1.10it/s]\u001b[A"
     ]
    },
    {
     "name": "stdout",
     "output_type": "stream",
     "text": [
      "dude-ampc /p/vast1/jones289/hd_results/5/mlp-1024-1.dude-ampc.5.pkl mlp-1024-1\n"
     ]
    },
    {
     "name": "stderr",
     "output_type": "stream",
     "text": [
      "\n",
      " 13%|█▎        | 5/38 [00:04<00:24,  1.35it/s]\u001b[A"
     ]
    },
    {
     "name": "stdout",
     "output_type": "stream",
     "text": [
      "dude-andr /p/vast1/jones289/hd_results/5/mlp-1024-1.dude-andr.5.pkl mlp-1024-1\n"
     ]
    },
    {
     "name": "stderr",
     "output_type": "stream",
     "text": [
      "\n",
      " 16%|█▌        | 6/38 [00:05<00:21,  1.50it/s]\u001b[A"
     ]
    },
    {
     "name": "stdout",
     "output_type": "stream",
     "text": [
      "dude-bace1 /p/vast1/jones289/hd_results/5/mlp-1024-1.dude-bace1.5.pkl mlp-1024-1\n"
     ]
    },
    {
     "name": "stderr",
     "output_type": "stream",
     "text": [
      "\n",
      " 18%|█▊        | 7/38 [00:06<00:26,  1.19it/s]\u001b[A"
     ]
    },
    {
     "name": "stdout",
     "output_type": "stream",
     "text": [
      "dude-cdk2 /p/vast1/jones289/hd_results/5/mlp-1024-1.dude-cdk2.5.pkl mlp-1024-1\n"
     ]
    },
    {
     "name": "stderr",
     "output_type": "stream",
     "text": [
      "\n",
      " 21%|██        | 8/38 [00:08<00:39,  1.32s/it]\u001b[A"
     ]
    },
    {
     "name": "stdout",
     "output_type": "stream",
     "text": [
      "dude-comt /p/vast1/jones289/hd_results/5/mlp-1024-1.dude-comt.5.pkl mlp-1024-1\n"
     ]
    },
    {
     "name": "stderr",
     "output_type": "stream",
     "text": [
      "\n",
      " 24%|██▎       | 9/38 [00:09<00:29,  1.02s/it]\u001b[A"
     ]
    },
    {
     "name": "stdout",
     "output_type": "stream",
     "text": [
      "dude-dyr /p/vast1/jones289/hd_results/5/mlp-1024-1.dude-dyr.5.pkl mlp-1024-1\n"
     ]
    },
    {
     "name": "stderr",
     "output_type": "stream",
     "text": [
      "\n",
      " 26%|██▋       | 10/38 [00:10<00:30,  1.10s/it]\u001b[A"
     ]
    },
    {
     "name": "stdout",
     "output_type": "stream",
     "text": [
      "dude-egfr /p/vast1/jones289/hd_results/5/mlp-1024-1.dude-egfr.5.pkl mlp-1024-1\n"
     ]
    },
    {
     "name": "stderr",
     "output_type": "stream",
     "text": [
      "\n",
      " 29%|██▉       | 11/38 [00:13<00:45,  1.69s/it]\u001b[A"
     ]
    },
    {
     "name": "stdout",
     "output_type": "stream",
     "text": [
      "dude-esr1 /p/vast1/jones289/hd_results/5/mlp-1024-1.dude-esr1.5.pkl mlp-1024-1\n"
     ]
    },
    {
     "name": "stderr",
     "output_type": "stream",
     "text": [
      "\n",
      " 32%|███▏      | 12/38 [00:14<00:41,  1.61s/it]\u001b[A"
     ]
    },
    {
     "name": "stdout",
     "output_type": "stream",
     "text": [
      "dude-fa10 /p/vast1/jones289/hd_results/5/mlp-1024-1.dude-fa10.5.pkl mlp-1024-1\n"
     ]
    },
    {
     "name": "stderr",
     "output_type": "stream",
     "text": [
      "\n",
      " 34%|███▍      | 13/38 [00:16<00:37,  1.52s/it]\u001b[A"
     ]
    },
    {
     "name": "stdout",
     "output_type": "stream",
     "text": [
      "dude-gcr /p/vast1/jones289/hd_results/5/mlp-1024-1.dude-gcr.5.pkl mlp-1024-1\n"
     ]
    },
    {
     "name": "stderr",
     "output_type": "stream",
     "text": [
      "\n",
      " 37%|███▋      | 14/38 [00:16<00:31,  1.30s/it]\u001b[A"
     ]
    },
    {
     "name": "stdout",
     "output_type": "stream",
     "text": [
      "dude-hivpr /p/vast1/jones289/hd_results/5/mlp-1024-1.dude-hivpr.5.pkl mlp-1024-1\n"
     ]
    },
    {
     "name": "stderr",
     "output_type": "stream",
     "text": [
      "\n",
      " 39%|███▉      | 15/38 [00:19<00:40,  1.76s/it]\u001b[A\n",
      " 42%|████▏     | 16/38 [00:19<00:28,  1.29s/it]\u001b[A"
     ]
    },
    {
     "name": "stdout",
     "output_type": "stream",
     "text": [
      "dude-hivrt /p/vast1/jones289/hd_results/5/mlp-1024-1.dude-hivrt.5.pkl mlp-1024-1\n",
      "dude-hmdh /p/vast1/jones289/hd_results/5/mlp-1024-1.dude-hmdh.5.pkl mlp-1024-1\n"
     ]
    },
    {
     "name": "stderr",
     "output_type": "stream",
     "text": [
      "\n",
      " 45%|████▍     | 17/38 [00:20<00:22,  1.08s/it]\u001b[A"
     ]
    },
    {
     "name": "stdout",
     "output_type": "stream",
     "text": [
      "dude-hs90a /p/vast1/jones289/hd_results/5/mlp-1024-1.dude-hs90a.5.pkl mlp-1024-1\n"
     ]
    },
    {
     "name": "stderr",
     "output_type": "stream",
     "text": [
      "\n",
      " 47%|████▋     | 18/38 [00:20<00:17,  1.14it/s]\u001b[A"
     ]
    },
    {
     "name": "stdout",
     "output_type": "stream",
     "text": [
      "dude-inha /p/vast1/jones289/hd_results/5/mlp-1024-1.dude-inha.5.pkl mlp-1024-1\n"
     ]
    },
    {
     "name": "stderr",
     "output_type": "stream",
     "text": [
      "\n",
      " 50%|█████     | 19/38 [00:21<00:12,  1.47it/s]\u001b[A"
     ]
    },
    {
     "name": "stdout",
     "output_type": "stream",
     "text": [
      "dude-kith /p/vast1/jones289/hd_results/5/mlp-1024-1.dude-kith.5.pkl mlp-1024-1\n"
     ]
    },
    {
     "name": "stderr",
     "output_type": "stream",
     "text": [
      "\n",
      " 53%|█████▎    | 20/38 [00:21<00:10,  1.80it/s]\u001b[A\n",
      " 55%|█████▌    | 21/38 [00:21<00:07,  2.27it/s]\u001b[A"
     ]
    },
    {
     "name": "stdout",
     "output_type": "stream",
     "text": [
      "dude-mcr /p/vast1/jones289/hd_results/5/mlp-1024-1.dude-mcr.5.pkl mlp-1024-1\n",
      "dude-mk14 /p/vast1/jones289/hd_results/5/mlp-1024-1.dude-mk14.5.pkl mlp-1024-1\n"
     ]
    },
    {
     "name": "stderr",
     "output_type": "stream",
     "text": [
      "\n",
      " 58%|█████▊    | 22/38 [00:24<00:18,  1.19s/it]\u001b[A"
     ]
    },
    {
     "name": "stdout",
     "output_type": "stream",
     "text": [
      "dude-nram /p/vast1/jones289/hd_results/5/mlp-1024-1.dude-nram.5.pkl mlp-1024-1\n"
     ]
    },
    {
     "name": "stderr",
     "output_type": "stream",
     "text": [
      "\n",
      " 61%|██████    | 23/38 [00:24<00:14,  1.03it/s]\u001b[A"
     ]
    },
    {
     "name": "stdout",
     "output_type": "stream",
     "text": [
      "dude-parp1 /p/vast1/jones289/hd_results/5/mlp-1024-1.dude-parp1.5.pkl mlp-1024-1\n"
     ]
    },
    {
     "name": "stderr",
     "output_type": "stream",
     "text": [
      "\n",
      " 63%|██████▎   | 24/38 [00:27<00:20,  1.44s/it]\u001b[A"
     ]
    },
    {
     "name": "stdout",
     "output_type": "stream",
     "text": [
      "dude-pde5a /p/vast1/jones289/hd_results/5/mlp-1024-1.dude-pde5a.5.pkl mlp-1024-1\n"
     ]
    },
    {
     "name": "stderr",
     "output_type": "stream",
     "text": [
      "\n",
      " 66%|██████▌   | 25/38 [00:29<00:20,  1.58s/it]\u001b[A"
     ]
    },
    {
     "name": "stdout",
     "output_type": "stream",
     "text": [
      "dude-pgh1 /p/vast1/jones289/hd_results/5/mlp-1024-1.dude-pgh1.5.pkl mlp-1024-1\n"
     ]
    },
    {
     "name": "stderr",
     "output_type": "stream",
     "text": [
      "\n",
      " 68%|██████▊   | 26/38 [00:30<00:15,  1.33s/it]\u001b[A"
     ]
    },
    {
     "name": "stdout",
     "output_type": "stream",
     "text": [
      "dude-pgh2 /p/vast1/jones289/hd_results/5/mlp-1024-1.dude-pgh2.5.pkl mlp-1024-1\n"
     ]
    },
    {
     "name": "stderr",
     "output_type": "stream",
     "text": [
      "\n",
      " 71%|███████   | 27/38 [00:31<00:15,  1.38s/it]\u001b[A"
     ]
    },
    {
     "name": "stdout",
     "output_type": "stream",
     "text": [
      "dude-pnph /p/vast1/jones289/hd_results/5/mlp-1024-1.dude-pnph.5.pkl mlp-1024-1\n"
     ]
    },
    {
     "name": "stderr",
     "output_type": "stream",
     "text": [
      "\n",
      " 74%|███████▎  | 28/38 [00:32<00:11,  1.12s/it]\u001b[A"
     ]
    },
    {
     "name": "stdout",
     "output_type": "stream",
     "text": [
      "dude-pparg /p/vast1/jones289/hd_results/5/mlp-1024-1.dude-pparg.5.pkl mlp-1024-1\n"
     ]
    },
    {
     "name": "stderr",
     "output_type": "stream",
     "text": [
      "\n",
      " 76%|███████▋  | 29/38 [00:34<00:12,  1.38s/it]\u001b[A"
     ]
    },
    {
     "name": "stdout",
     "output_type": "stream",
     "text": [
      "dude-prgr /p/vast1/jones289/hd_results/5/mlp-1024-1.dude-prgr.5.pkl mlp-1024-1\n"
     ]
    },
    {
     "name": "stderr",
     "output_type": "stream",
     "text": [
      "\n",
      " 79%|███████▉  | 30/38 [00:35<00:09,  1.23s/it]\u001b[A"
     ]
    },
    {
     "name": "stdout",
     "output_type": "stream",
     "text": [
      "dude-pur2 /p/vast1/jones289/hd_results/5/mlp-1024-1.dude-pur2.5.pkl mlp-1024-1\n"
     ]
    },
    {
     "name": "stderr",
     "output_type": "stream",
     "text": [
      "\n",
      " 82%|████████▏ | 31/38 [00:35<00:06,  1.07it/s]\u001b[A"
     ]
    },
    {
     "name": "stdout",
     "output_type": "stream",
     "text": [
      "dude-pygm /p/vast1/jones289/hd_results/5/mlp-1024-1.dude-pygm.5.pkl mlp-1024-1\n"
     ]
    },
    {
     "name": "stderr",
     "output_type": "stream",
     "text": [
      "\n",
      " 84%|████████▍ | 32/38 [00:35<00:04,  1.33it/s]\u001b[A"
     ]
    },
    {
     "name": "stdout",
     "output_type": "stream",
     "text": [
      "dude-rxra /p/vast1/jones289/hd_results/5/mlp-1024-1.dude-rxra.5.pkl mlp-1024-1\n"
     ]
    },
    {
     "name": "stderr",
     "output_type": "stream",
     "text": [
      "\n",
      " 87%|████████▋ | 33/38 [00:36<00:03,  1.52it/s]\u001b[A"
     ]
    },
    {
     "name": "stdout",
     "output_type": "stream",
     "text": [
      "dude-sahh /p/vast1/jones289/hd_results/5/mlp-1024-1.dude-sahh.5.pkl mlp-1024-1\n"
     ]
    },
    {
     "name": "stderr",
     "output_type": "stream",
     "text": [
      "\n",
      " 89%|████████▉ | 34/38 [00:36<00:02,  1.81it/s]\u001b[A"
     ]
    },
    {
     "name": "stdout",
     "output_type": "stream",
     "text": [
      "dude-src /p/vast1/jones289/hd_results/5/mlp-1024-1.dude-src.5.pkl mlp-1024-1\n"
     ]
    },
    {
     "name": "stderr",
     "output_type": "stream",
     "text": [
      "\n",
      " 92%|█████████▏| 35/38 [00:39<00:03,  1.23s/it]\u001b[A"
     ]
    },
    {
     "name": "stdout",
     "output_type": "stream",
     "text": [
      "dude-thrb /p/vast1/jones289/hd_results/5/mlp-1024-1.dude-thrb.5.pkl mlp-1024-1\n"
     ]
    },
    {
     "name": "stderr",
     "output_type": "stream",
     "text": [
      "\n",
      " 95%|█████████▍| 36/38 [00:39<00:02,  1.06s/it]\u001b[A"
     ]
    },
    {
     "name": "stdout",
     "output_type": "stream",
     "text": [
      "dude-try1 /p/vast1/jones289/hd_results/5/mlp-1024-1.dude-try1.5.pkl mlp-1024-1\n"
     ]
    },
    {
     "name": "stderr",
     "output_type": "stream",
     "text": [
      "\n",
      " 97%|█████████▋| 37/38 [00:40<00:00,  1.09it/s]\u001b[A"
     ]
    },
    {
     "name": "stdout",
     "output_type": "stream",
     "text": [
      "dude-vgfr2 /p/vast1/jones289/hd_results/5/mlp-1024-1.dude-vgfr2.5.pkl mlp-1024-1\n"
     ]
    },
    {
     "name": "stderr",
     "output_type": "stream",
     "text": [
      "\n",
      "100%|██████████| 38/38 [00:42<00:00,  1.11s/it]\u001b[A\n",
      " 88%|████████▊ | 7/8 [02:38<00:28, 28.05s/it]"
     ]
    },
    {
     "name": "stdout",
     "output_type": "stream",
     "text": [
      "Vina-dude: 2\t 0\n"
     ]
    },
    {
     "name": "stderr",
     "output_type": "stream",
     "text": [
      "\n",
      "0it [00:00, ?it/s]\u001b[A\n",
      "100%|██████████| 8/8 [02:38<00:00, 19.81s/it]\n",
      " 30%|███       | 12/40 [00:00<00:01, 17.24it/s]"
     ]
    },
    {
     "name": "stdout",
     "output_type": "stream",
     "text": [
      "fgfr1 not found. skipping.\n"
     ]
    },
    {
     "name": "stderr",
     "output_type": "stream",
     "text": [
      " 45%|████▌     | 18/40 [00:01<00:01, 16.74it/s]"
     ]
    },
    {
     "name": "stdout",
     "output_type": "stream",
     "text": [
      "abl1 not found. skipping.\n"
     ]
    },
    {
     "name": "stderr",
     "output_type": "stream",
     "text": [
      "100%|██████████| 40/40 [00:02<00:00, 15.05it/s]\n"
     ]
    }
   ],
   "source": [
    "model_metric_df = compute_model_metric_df(dataset=\"dude\")"
   ]
  },
  {
   "cell_type": "code",
   "execution_count": 11,
   "metadata": {},
   "outputs": [
    {
     "data": {
      "text/plain": [
       "0     molehd-bpe\n",
       "1     molehd-bpe\n",
       "2     molehd-bpe\n",
       "3     molehd-bpe\n",
       "4     molehd-bpe\n",
       "         ...    \n",
       "71          Vina\n",
       "72          Vina\n",
       "73          Vina\n",
       "74          Vina\n",
       "75          Vina\n",
       "Name: model, Length: 5396, dtype: object"
      ]
     },
     "execution_count": 11,
     "metadata": {},
     "output_type": "execute_result"
    }
   ],
   "source": [
    "model_metric_df[\"model\"]"
   ]
  },
  {
   "cell_type": "code",
   "execution_count": 12,
   "metadata": {},
   "outputs": [],
   "source": [
    "(model_metric_df).groupby([\"model\", \"target\", \"p\"])[\"enrich\"].describe().to_csv(\"summary_ef_stats.csv\")"
   ]
  },
  {
   "cell_type": "code",
   "execution_count": 13,
   "metadata": {},
   "outputs": [],
   "source": [
    "def make_box_plot(enrich_1_df, enrich_10_df, dataset:str):\n",
    "    \n",
    "    enrich_f, enrich_ax = plt.subplots(2,1, figsize=(12,10), sharex=True, sharey=False)\n",
    "    enrich_ax = enrich_ax.flatten()\n",
    "    enrich_1_ax, enrich_10_ax = enrich_ax[0], enrich_ax[1]\n",
    "    \n",
    "    sns.swarmplot(data=enrich_1_df, x=\"model\", y=\"enrich\", \n",
    "                  order=list(model_dict.keys()),\n",
    "                  palette={key: value[1] for key, value in model_dict.items()},\n",
    "                  ax=enrich_1_ax)\n",
    "    enrich_1_ax.set_title(f\"(a) {dataset} Enrichment at 1\\%\", fontdict={\"fontsize\": 18})\n",
    "    enrich_1_ax.set_xlabel(\"\")\n",
    "    enrich_1_ax.set_ylabel(\"\")\n",
    "    enrich_1_ax.tick_params(axis=\"x\", labelrotation=22.5)\n",
    "\n",
    "    enrich_1_ax.set_ylabel(\"EF\")\n",
    "\n",
    "    plt.tight_layout()\n",
    "\n",
    "        \n",
    "    sns.swarmplot(data=enrich_10_df, x=\"model\", y=\"enrich\",\n",
    "                  order=list(model_dict.keys()),\n",
    "                  palette={key: value[1] for key, value in model_dict.items()},\n",
    "                  ax=enrich_10_ax)\n",
    "\n",
    "    enrich_10_ax.set_title(f\"(b) {dataset} Enrichment at 10\\%\", fontdict={\"fontsize\": 18})\n",
    "    enrich_10_ax.set_xlabel(\"\")\n",
    "    enrich_10_ax.set_ylabel(\"\")\n",
    "    enrich_10_ax.tick_params(axis=\"x\", labelrotation=22.5)\n",
    "    labels = [model_dict[item.get_text()][0] for item in enrich_10_ax.get_xticklabels()]\n",
    "\n",
    "    enrich_10_ax.set_xticklabels(labels)\n",
    "    enrich_ax[0].set_ylabel(\"EF\")\n",
    "    enrich_ax[1].set_ylabel(\"EF\")\n",
    "\n",
    "    plt.tight_layout()\n",
    "\n",
    "    enrich_f.savefig(f\"{dataset}-enrich.png\", dpi=600, bbox_inches=\"tight\")\n",
    "\n"
   ]
  },
  {
   "cell_type": "code",
   "execution_count": 14,
   "metadata": {},
   "outputs": [],
   "source": [
    "# take the average over the random seeds dimension for each combo of MODEL X TARGET X P\n",
    "grp_df = (model_metric_df).groupby([\"model\", \"target\", \"p\"])[\"enrich\"].mean().reset_index()\n",
    "grp_df = grp_df.sort_values(by=\"model\")\n"
   ]
  },
  {
   "cell_type": "code",
   "execution_count": 15,
   "metadata": {},
   "outputs": [
    {
     "data": {
      "text/html": [
       "<div>\n",
       "<style scoped>\n",
       "    .dataframe tbody tr th:only-of-type {\n",
       "        vertical-align: middle;\n",
       "    }\n",
       "\n",
       "    .dataframe tbody tr th {\n",
       "        vertical-align: top;\n",
       "    }\n",
       "\n",
       "    .dataframe thead th {\n",
       "        text-align: right;\n",
       "    }\n",
       "</style>\n",
       "<table border=\"1\" class=\"dataframe\">\n",
       "  <thead>\n",
       "    <tr style=\"text-align: right;\">\n",
       "      <th></th>\n",
       "      <th>model</th>\n",
       "      <th>target</th>\n",
       "      <th>p</th>\n",
       "      <th>enrich</th>\n",
       "    </tr>\n",
       "  </thead>\n",
       "  <tbody>\n",
       "    <tr>\n",
       "      <th>53</th>\n",
       "      <td>Vina</td>\n",
       "      <td>pgh2</td>\n",
       "      <td>0.1</td>\n",
       "      <td>3.182265</td>\n",
       "    </tr>\n",
       "    <tr>\n",
       "      <th>51</th>\n",
       "      <td>Vina</td>\n",
       "      <td>pgh1</td>\n",
       "      <td>0.1</td>\n",
       "      <td>1.100585</td>\n",
       "    </tr>\n",
       "    <tr>\n",
       "      <th>49</th>\n",
       "      <td>Vina</td>\n",
       "      <td>pde5a</td>\n",
       "      <td>0.1</td>\n",
       "      <td>2.492152</td>\n",
       "    </tr>\n",
       "    <tr>\n",
       "      <th>47</th>\n",
       "      <td>Vina</td>\n",
       "      <td>parp1</td>\n",
       "      <td>0.1</td>\n",
       "      <td>3.937058</td>\n",
       "    </tr>\n",
       "    <tr>\n",
       "      <th>45</th>\n",
       "      <td>Vina</td>\n",
       "      <td>nram</td>\n",
       "      <td>0.1</td>\n",
       "      <td>0.000000</td>\n",
       "    </tr>\n",
       "    <tr>\n",
       "      <th>...</th>\n",
       "      <td>...</td>\n",
       "      <td>...</td>\n",
       "      <td>...</td>\n",
       "      <td>...</td>\n",
       "    </tr>\n",
       "    <tr>\n",
       "      <th>557</th>\n",
       "      <td>molehd-bpe</td>\n",
       "      <td>dude-fa10</td>\n",
       "      <td>0.1</td>\n",
       "      <td>9.016073</td>\n",
       "    </tr>\n",
       "    <tr>\n",
       "      <th>555</th>\n",
       "      <td>molehd-bpe</td>\n",
       "      <td>dude-esr1</td>\n",
       "      <td>0.1</td>\n",
       "      <td>8.256411</td>\n",
       "    </tr>\n",
       "    <tr>\n",
       "      <th>553</th>\n",
       "      <td>molehd-bpe</td>\n",
       "      <td>dude-egfr</td>\n",
       "      <td>0.1</td>\n",
       "      <td>8.878133</td>\n",
       "    </tr>\n",
       "    <tr>\n",
       "      <th>551</th>\n",
       "      <td>molehd-bpe</td>\n",
       "      <td>dude-dyr</td>\n",
       "      <td>0.1</td>\n",
       "      <td>8.414499</td>\n",
       "    </tr>\n",
       "    <tr>\n",
       "      <th>607</th>\n",
       "      <td>molehd-bpe</td>\n",
       "      <td>dude-vgfr2</td>\n",
       "      <td>0.1</td>\n",
       "      <td>9.064812</td>\n",
       "    </tr>\n",
       "  </tbody>\n",
       "</table>\n",
       "<p>304 rows × 4 columns</p>\n",
       "</div>"
      ],
      "text/plain": [
       "          model      target    p    enrich\n",
       "53         Vina        pgh2  0.1  3.182265\n",
       "51         Vina        pgh1  0.1  1.100585\n",
       "49         Vina       pde5a  0.1  2.492152\n",
       "47         Vina       parp1  0.1  3.937058\n",
       "45         Vina        nram  0.1  0.000000\n",
       "..          ...         ...  ...       ...\n",
       "557  molehd-bpe   dude-fa10  0.1  9.016073\n",
       "555  molehd-bpe   dude-esr1  0.1  8.256411\n",
       "553  molehd-bpe   dude-egfr  0.1  8.878133\n",
       "551  molehd-bpe    dude-dyr  0.1  8.414499\n",
       "607  molehd-bpe  dude-vgfr2  0.1  9.064812\n",
       "\n",
       "[304 rows x 4 columns]"
      ]
     },
     "execution_count": 15,
     "metadata": {},
     "output_type": "execute_result"
    }
   ],
   "source": [
    "grp_df[grp_df[\"p\"] == .1]"
   ]
  },
  {
   "cell_type": "code",
   "execution_count": 16,
   "metadata": {},
   "outputs": [
    {
     "data": {
      "text/html": [
       "<div>\n",
       "<style scoped>\n",
       "    .dataframe tbody tr th:only-of-type {\n",
       "        vertical-align: middle;\n",
       "    }\n",
       "\n",
       "    .dataframe tbody tr th {\n",
       "        vertical-align: top;\n",
       "    }\n",
       "\n",
       "    .dataframe thead th {\n",
       "        text-align: right;\n",
       "    }\n",
       "</style>\n",
       "<table border=\"1\" class=\"dataframe\">\n",
       "  <thead>\n",
       "    <tr style=\"text-align: right;\">\n",
       "      <th></th>\n",
       "      <th>model</th>\n",
       "      <th>target</th>\n",
       "      <th>p</th>\n",
       "      <th>enrich</th>\n",
       "    </tr>\n",
       "  </thead>\n",
       "  <tbody>\n",
       "    <tr>\n",
       "      <th>0</th>\n",
       "      <td>Vina</td>\n",
       "      <td>ace</td>\n",
       "      <td>0.01</td>\n",
       "      <td>1.681144</td>\n",
       "    </tr>\n",
       "    <tr>\n",
       "      <th>54</th>\n",
       "      <td>Vina</td>\n",
       "      <td>pnph</td>\n",
       "      <td>0.01</td>\n",
       "      <td>5.198413</td>\n",
       "    </tr>\n",
       "    <tr>\n",
       "      <th>52</th>\n",
       "      <td>Vina</td>\n",
       "      <td>pgh2</td>\n",
       "      <td>0.01</td>\n",
       "      <td>4.078014</td>\n",
       "    </tr>\n",
       "    <tr>\n",
       "      <th>50</th>\n",
       "      <td>Vina</td>\n",
       "      <td>pgh1</td>\n",
       "      <td>0.01</td>\n",
       "      <td>0.000000</td>\n",
       "    </tr>\n",
       "    <tr>\n",
       "      <th>48</th>\n",
       "      <td>Vina</td>\n",
       "      <td>pde5a</td>\n",
       "      <td>0.01</td>\n",
       "      <td>8.629658</td>\n",
       "    </tr>\n",
       "    <tr>\n",
       "      <th>...</th>\n",
       "      <td>...</td>\n",
       "      <td>...</td>\n",
       "      <td>...</td>\n",
       "      <td>...</td>\n",
       "    </tr>\n",
       "    <tr>\n",
       "      <th>568</th>\n",
       "      <td>molehd-bpe</td>\n",
       "      <td>dude-inha</td>\n",
       "      <td>0.01</td>\n",
       "      <td>26.000000</td>\n",
       "    </tr>\n",
       "    <tr>\n",
       "      <th>556</th>\n",
       "      <td>molehd-bpe</td>\n",
       "      <td>dude-fa10</td>\n",
       "      <td>0.01</td>\n",
       "      <td>32.840000</td>\n",
       "    </tr>\n",
       "    <tr>\n",
       "      <th>554</th>\n",
       "      <td>molehd-bpe</td>\n",
       "      <td>dude-esr1</td>\n",
       "      <td>0.01</td>\n",
       "      <td>40.512821</td>\n",
       "    </tr>\n",
       "    <tr>\n",
       "      <th>552</th>\n",
       "      <td>molehd-bpe</td>\n",
       "      <td>dude-egfr</td>\n",
       "      <td>0.01</td>\n",
       "      <td>69.518748</td>\n",
       "    </tr>\n",
       "    <tr>\n",
       "      <th>558</th>\n",
       "      <td>molehd-bpe</td>\n",
       "      <td>dude-gcr</td>\n",
       "      <td>0.01</td>\n",
       "      <td>37.982321</td>\n",
       "    </tr>\n",
       "  </tbody>\n",
       "</table>\n",
       "<p>304 rows × 4 columns</p>\n",
       "</div>"
      ],
      "text/plain": [
       "          model     target     p     enrich\n",
       "0          Vina        ace  0.01   1.681144\n",
       "54         Vina       pnph  0.01   5.198413\n",
       "52         Vina       pgh2  0.01   4.078014\n",
       "50         Vina       pgh1  0.01   0.000000\n",
       "48         Vina      pde5a  0.01   8.629658\n",
       "..          ...        ...   ...        ...\n",
       "568  molehd-bpe  dude-inha  0.01  26.000000\n",
       "556  molehd-bpe  dude-fa10  0.01  32.840000\n",
       "554  molehd-bpe  dude-esr1  0.01  40.512821\n",
       "552  molehd-bpe  dude-egfr  0.01  69.518748\n",
       "558  molehd-bpe   dude-gcr  0.01  37.982321\n",
       "\n",
       "[304 rows x 4 columns]"
      ]
     },
     "execution_count": 16,
     "metadata": {},
     "output_type": "execute_result"
    }
   ],
   "source": [
    "grp_df[grp_df[\"p\"] == .01]"
   ]
  },
  {
   "cell_type": "code",
   "execution_count": 17,
   "metadata": {
    "scrolled": false
   },
   "outputs": [
    {
     "name": "stderr",
     "output_type": "stream",
     "text": [
      "/usr/workspace/wsa/jones289/miniconda3/envs/dtra_reactivator/lib/python3.8/site-packages/seaborn/categorical.py:1296: UserWarning: 65.8% of the points cannot be placed; you may want to decrease the size of the markers or use stripplot.\n",
      "  warnings.warn(msg, UserWarning)\n",
      "/usr/workspace/wsa/jones289/miniconda3/envs/dtra_reactivator/lib/python3.8/site-packages/seaborn/categorical.py:1296: UserWarning: 10.5% of the points cannot be placed; you may want to decrease the size of the markers or use stripplot.\n",
      "  warnings.warn(msg, UserWarning)\n",
      "/usr/workspace/wsa/jones289/miniconda3/envs/dtra_reactivator/lib/python3.8/site-packages/seaborn/categorical.py:1296: UserWarning: 57.9% of the points cannot be placed; you may want to decrease the size of the markers or use stripplot.\n",
      "  warnings.warn(msg, UserWarning)\n",
      "/usr/workspace/wsa/jones289/miniconda3/envs/dtra_reactivator/lib/python3.8/site-packages/seaborn/categorical.py:1296: UserWarning: 5.3% of the points cannot be placed; you may want to decrease the size of the markers or use stripplot.\n",
      "  warnings.warn(msg, UserWarning)\n",
      "/usr/workspace/wsa/jones289/miniconda3/envs/dtra_reactivator/lib/python3.8/site-packages/seaborn/categorical.py:1296: UserWarning: 7.9% of the points cannot be placed; you may want to decrease the size of the markers or use stripplot.\n",
      "  warnings.warn(msg, UserWarning)\n",
      "/usr/workspace/wsa/jones289/miniconda3/envs/dtra_reactivator/lib/python3.8/site-packages/seaborn/categorical.py:1296: UserWarning: 18.4% of the points cannot be placed; you may want to decrease the size of the markers or use stripplot.\n",
      "  warnings.warn(msg, UserWarning)\n"
     ]
    },
    {
     "data": {
      "image/png": "[encoded data removed]",
      "text/plain": [
       "<Figure size 864x720 with 2 Axes>"
      ]
     },
     "metadata": {
      "needs_background": "light"
     },
     "output_type": "display_data"
    }
   ],
   "source": [
    "make_box_plot(enrich_1_df=grp_df[grp_df[\"p\"] == .01], \n",
    "          enrich_10_df=grp_df[grp_df[\"p\"] == .1],\n",
    "             dataset=\"DUDE\")"
   ]
  },
  {
   "cell_type": "markdown",
   "metadata": {},
   "source": [
    "- should add the average EF (median?) to the labels on the horizontal axis\n",
    "- scale the point size by standard deviation?\n",
    "- standard scale the molformer embeddings?"
   ]
  },
  {
   "cell_type": "code",
   "execution_count": 18,
   "metadata": {},
   "outputs": [],
   "source": [
    "def timing_plot(input_tup_list:list, dataset:str):\n",
    "    \n",
    "    \n",
    "    f, ax = plt.subplots(1, 1, figsize=(12,10))\n",
    "    \n",
    "    df_dict = {\"target\": [], \"model\": [], \"time\": [], \"format_name\": []}\n",
    "    for model_name, format_name in input_tup_list:\n",
    "        \n",
    "        data_path_list = list(data_p.glob(f\"{model_name}.{dataset}*.pkl\"))\n",
    "        \n",
    "        for path in data_path_list:\n",
    "            with open(path, \"rb\") as handle:\n",
    "                data = pickle.load(handle)\n",
    "                \n",
    "                test_time_list = []\n",
    "                for i in range(10):\n",
    "                    df_dict[\"time\"].append(data[\"trials\"][i][\"test_time\"]/data[\"y_test\"].shape[0])\n",
    "                    df_dict[\"target\"].append(path.name)\n",
    "                    df_dict[\"model\"].append(model_name)\n",
    "                    df_dict[\"format_name\"].append(format_name)\n",
    "                    \n",
    "\n",
    "    df = pd.DataFrame(df_dict)\n",
    "    xlabels = (df.groupby([\"model\", \"format_name\"]).median().reset_index()[\"format_name\"]).values.tolist()\n",
    "#     import pdb\n",
    "#     pdb.set_trace()\n",
    "    sns.swarmplot(data=df.groupby([\"target\", \"model\", \"format_name\"]).median().reset_index(),\n",
    "                  order=[x for x in model_dict.keys()],\n",
    "                  x=\"model\", y=\"time\", ax=ax)\n",
    "\n",
    "    ax.tick_params(axis=\"x\", labelrotation=22.5)\n",
    "    ax.set_yscale(\"log\")\n",
    "#     labels = [item.get_text() for item in ax.get_xticklabels()]\n",
    "#     labels = [x[1] for x in input_tup_list]\n",
    "    ax.set_xticklabels(xlabels)\n",
    "    \n",
    "    f.savefig(\"lit-pcba-timing.png\", dpi=600, bbox_inches=\"tight\")\n",
    "    \n",
    "    return df\n",
    "    "
   ]
  },
  {
   "cell_type": "code",
   "execution_count": 19,
   "metadata": {
    "scrolled": false
   },
   "outputs": [
    {
     "ename": "ValueError",
     "evalue": "The number of FixedLocator locations (8), usually from a call to set_ticks, does not match the number of ticklabels (6).",
     "output_type": "error",
     "traceback": [
      "\u001b[0;31m---------------------------------------------------------------------------\u001b[0m",
      "\u001b[0;31mValueError\u001b[0m                                Traceback (most recent call last)",
      "Input \u001b[0;32mIn [19]\u001b[0m, in \u001b[0;36m<module>\u001b[0;34m\u001b[0m\n\u001b[0;32m----> 1\u001b[0m time_df \u001b[38;5;241m=\u001b[39m \u001b[43mtiming_plot\u001b[49m\u001b[43m(\u001b[49m\u001b[43m[\u001b[49m\u001b[43m(\u001b[49m\u001b[38;5;124;43m\"\u001b[39;49m\u001b[38;5;124;43mmlp-1024-1\u001b[39;49m\u001b[38;5;124;43m\"\u001b[39;49m\u001b[43m,\u001b[49m\u001b[43m \u001b[49m\u001b[38;5;124;43m\"\u001b[39;49m\u001b[38;5;124;43mMLP (GPU)\u001b[39;49m\u001b[38;5;124;43m\"\u001b[39;49m\u001b[43m)\u001b[49m\u001b[43m,\u001b[49m\n\u001b[1;32m      2\u001b[0m \u001b[43m            \u001b[49m\u001b[43m(\u001b[49m\u001b[38;5;124;43m\"\u001b[39;49m\u001b[38;5;124;43mhdbind-rp-molformer\u001b[39;49m\u001b[38;5;124;43m\"\u001b[39;49m\u001b[43m,\u001b[49m\u001b[43m \u001b[49m\u001b[38;5;124;43m\"\u001b[39;49m\u001b[38;5;124;43mRP-MolFormer (GPU)\u001b[39;49m\u001b[38;5;124;43m\"\u001b[39;49m\u001b[43m)\u001b[49m\u001b[43m,\u001b[49m\n\u001b[1;32m      3\u001b[0m \u001b[43m            \u001b[49m\u001b[43m(\u001b[49m\u001b[38;5;124;43m\"\u001b[39;49m\u001b[38;5;124;43mmolehd-bpe\u001b[39;49m\u001b[38;5;124;43m\"\u001b[39;49m\u001b[43m,\u001b[49m\u001b[43m \u001b[49m\u001b[38;5;124;43m\"\u001b[39;49m\u001b[38;5;124;43mMoleHD-BPE (CPU)\u001b[39;49m\u001b[38;5;124;43m\"\u001b[39;49m\u001b[43m)\u001b[49m\u001b[43m,\u001b[49m\n\u001b[1;32m      4\u001b[0m \u001b[43m            \u001b[49m\u001b[43m(\u001b[49m\u001b[38;5;124;43m\"\u001b[39;49m\u001b[38;5;124;43mhdbind-ecfp-1024-1-100\u001b[39;49m\u001b[38;5;124;43m\"\u001b[39;49m\u001b[43m,\u001b[49m\u001b[43m \u001b[49m\u001b[38;5;124;43m\"\u001b[39;49m\u001b[38;5;124;43mRP-ECFP-100 (GPU)\u001b[39;49m\u001b[38;5;124;43m\"\u001b[39;49m\u001b[43m)\u001b[49m\u001b[43m,\u001b[49m\n\u001b[1;32m      5\u001b[0m \u001b[43m                      \u001b[49m\u001b[43m(\u001b[49m\u001b[38;5;124;43m\"\u001b[39;49m\u001b[38;5;124;43mhdbind-ecfp-1024-1-1k\u001b[39;49m\u001b[38;5;124;43m\"\u001b[39;49m\u001b[43m,\u001b[49m\u001b[43m \u001b[49m\u001b[38;5;124;43m\"\u001b[39;49m\u001b[38;5;124;43mRP-ECFP-1k (GPU)\u001b[39;49m\u001b[38;5;124;43m\"\u001b[39;49m\u001b[43m)\u001b[49m\u001b[43m,\u001b[49m\n\u001b[1;32m      6\u001b[0m \u001b[43m                      \u001b[49m\u001b[43m(\u001b[49m\u001b[38;5;124;43m\"\u001b[39;49m\u001b[38;5;124;43mhdbind-ecfp-1024-1-100k\u001b[39;49m\u001b[38;5;124;43m\"\u001b[39;49m\u001b[43m,\u001b[49m\u001b[43m \u001b[49m\u001b[38;5;124;43m\"\u001b[39;49m\u001b[38;5;124;43mRP-ECFP-100k (GPU)\u001b[39;49m\u001b[38;5;124;43m\"\u001b[39;49m\u001b[43m)\u001b[49m\u001b[43m]\u001b[49m\u001b[43m,\u001b[49m\u001b[43m \u001b[49m\n\u001b[1;32m      7\u001b[0m \u001b[43m                      \u001b[49m\u001b[43mdataset\u001b[49m\u001b[38;5;241;43m=\u001b[39;49m\u001b[38;5;124;43m\"\u001b[39;49m\u001b[38;5;124;43mlit-pcba\u001b[39;49m\u001b[38;5;124;43m\"\u001b[39;49m\u001b[43m)\u001b[49m\n",
      "Input \u001b[0;32mIn [18]\u001b[0m, in \u001b[0;36mtiming_plot\u001b[0;34m(input_tup_list, dataset)\u001b[0m\n\u001b[1;32m     32\u001b[0m     ax\u001b[38;5;241m.\u001b[39mset_yscale(\u001b[38;5;124m\"\u001b[39m\u001b[38;5;124mlog\u001b[39m\u001b[38;5;124m\"\u001b[39m)\n\u001b[1;32m     33\u001b[0m \u001b[38;5;66;03m#     labels = [item.get_text() for item in ax.get_xticklabels()]\u001b[39;00m\n\u001b[1;32m     34\u001b[0m \u001b[38;5;66;03m#     labels = [x[1] for x in input_tup_list]\u001b[39;00m\n\u001b[0;32m---> 35\u001b[0m     \u001b[43max\u001b[49m\u001b[38;5;241;43m.\u001b[39;49m\u001b[43mset_xticklabels\u001b[49m\u001b[43m(\u001b[49m\u001b[43mxlabels\u001b[49m\u001b[43m)\u001b[49m\n\u001b[1;32m     37\u001b[0m     f\u001b[38;5;241m.\u001b[39msavefig(\u001b[38;5;124m\"\u001b[39m\u001b[38;5;124mlit-pcba-timing.png\u001b[39m\u001b[38;5;124m\"\u001b[39m, dpi\u001b[38;5;241m=\u001b[39m\u001b[38;5;241m600\u001b[39m, bbox_inches\u001b[38;5;241m=\u001b[39m\u001b[38;5;124m\"\u001b[39m\u001b[38;5;124mtight\u001b[39m\u001b[38;5;124m\"\u001b[39m)\n\u001b[1;32m     39\u001b[0m     \u001b[38;5;28;01mreturn\u001b[39;00m df\n",
      "File \u001b[0;32m/usr/workspace/wsa/jones289/miniconda3/envs/dtra_reactivator/lib/python3.8/site-packages/matplotlib/axes/_base.py:75\u001b[0m, in \u001b[0;36m_axis_method_wrapper.__set_name__.<locals>.wrapper\u001b[0;34m(self, *args, **kwargs)\u001b[0m\n\u001b[1;32m     74\u001b[0m \u001b[38;5;28;01mdef\u001b[39;00m \u001b[38;5;21mwrapper\u001b[39m(\u001b[38;5;28mself\u001b[39m, \u001b[38;5;241m*\u001b[39margs, \u001b[38;5;241m*\u001b[39m\u001b[38;5;241m*\u001b[39mkwargs):\n\u001b[0;32m---> 75\u001b[0m     \u001b[38;5;28;01mreturn\u001b[39;00m \u001b[43mget_method\u001b[49m\u001b[43m(\u001b[49m\u001b[38;5;28;43mself\u001b[39;49m\u001b[43m)\u001b[49m\u001b[43m(\u001b[49m\u001b[38;5;241;43m*\u001b[39;49m\u001b[43margs\u001b[49m\u001b[43m,\u001b[49m\u001b[43m \u001b[49m\u001b[38;5;241;43m*\u001b[39;49m\u001b[38;5;241;43m*\u001b[39;49m\u001b[43mkwargs\u001b[49m\u001b[43m)\u001b[49m\n",
      "File \u001b[0;32m/usr/workspace/wsa/jones289/miniconda3/envs/dtra_reactivator/lib/python3.8/site-packages/matplotlib/axis.py:1798\u001b[0m, in \u001b[0;36mAxis._set_ticklabels\u001b[0;34m(self, labels, fontdict, minor, **kwargs)\u001b[0m\n\u001b[1;32m   1796\u001b[0m \u001b[38;5;28;01mif\u001b[39;00m fontdict \u001b[38;5;129;01mis\u001b[39;00m \u001b[38;5;129;01mnot\u001b[39;00m \u001b[38;5;28;01mNone\u001b[39;00m:\n\u001b[1;32m   1797\u001b[0m     kwargs\u001b[38;5;241m.\u001b[39mupdate(fontdict)\n\u001b[0;32m-> 1798\u001b[0m \u001b[38;5;28;01mreturn\u001b[39;00m \u001b[38;5;28;43mself\u001b[39;49m\u001b[38;5;241;43m.\u001b[39;49m\u001b[43mset_ticklabels\u001b[49m\u001b[43m(\u001b[49m\u001b[43mlabels\u001b[49m\u001b[43m,\u001b[49m\u001b[43m \u001b[49m\u001b[43mminor\u001b[49m\u001b[38;5;241;43m=\u001b[39;49m\u001b[43mminor\u001b[49m\u001b[43m,\u001b[49m\u001b[43m \u001b[49m\u001b[38;5;241;43m*\u001b[39;49m\u001b[38;5;241;43m*\u001b[39;49m\u001b[43mkwargs\u001b[49m\u001b[43m)\u001b[49m\n",
      "File \u001b[0;32m/usr/workspace/wsa/jones289/miniconda3/envs/dtra_reactivator/lib/python3.8/site-packages/matplotlib/axis.py:1720\u001b[0m, in \u001b[0;36mAxis.set_ticklabels\u001b[0;34m(self, ticklabels, minor, **kwargs)\u001b[0m\n\u001b[1;32m   1716\u001b[0m \u001b[38;5;28;01mif\u001b[39;00m \u001b[38;5;28misinstance\u001b[39m(locator, mticker\u001b[38;5;241m.\u001b[39mFixedLocator):\n\u001b[1;32m   1717\u001b[0m     \u001b[38;5;66;03m# Passing [] as a list of ticklabels is often used as a way to\u001b[39;00m\n\u001b[1;32m   1718\u001b[0m     \u001b[38;5;66;03m# remove all tick labels, so only error for > 0 ticklabels\u001b[39;00m\n\u001b[1;32m   1719\u001b[0m     \u001b[38;5;28;01mif\u001b[39;00m \u001b[38;5;28mlen\u001b[39m(locator\u001b[38;5;241m.\u001b[39mlocs) \u001b[38;5;241m!=\u001b[39m \u001b[38;5;28mlen\u001b[39m(ticklabels) \u001b[38;5;129;01mand\u001b[39;00m \u001b[38;5;28mlen\u001b[39m(ticklabels) \u001b[38;5;241m!=\u001b[39m \u001b[38;5;241m0\u001b[39m:\n\u001b[0;32m-> 1720\u001b[0m         \u001b[38;5;28;01mraise\u001b[39;00m \u001b[38;5;167;01mValueError\u001b[39;00m(\n\u001b[1;32m   1721\u001b[0m             \u001b[38;5;124m\"\u001b[39m\u001b[38;5;124mThe number of FixedLocator locations\u001b[39m\u001b[38;5;124m\"\u001b[39m\n\u001b[1;32m   1722\u001b[0m             \u001b[38;5;124mf\u001b[39m\u001b[38;5;124m\"\u001b[39m\u001b[38;5;124m (\u001b[39m\u001b[38;5;132;01m{\u001b[39;00m\u001b[38;5;28mlen\u001b[39m(locator\u001b[38;5;241m.\u001b[39mlocs)\u001b[38;5;132;01m}\u001b[39;00m\u001b[38;5;124m), usually from a call to\u001b[39m\u001b[38;5;124m\"\u001b[39m\n\u001b[1;32m   1723\u001b[0m             \u001b[38;5;124m\"\u001b[39m\u001b[38;5;124m set_ticks, does not match\u001b[39m\u001b[38;5;124m\"\u001b[39m\n\u001b[1;32m   1724\u001b[0m             \u001b[38;5;124mf\u001b[39m\u001b[38;5;124m\"\u001b[39m\u001b[38;5;124m the number of ticklabels (\u001b[39m\u001b[38;5;132;01m{\u001b[39;00m\u001b[38;5;28mlen\u001b[39m(ticklabels)\u001b[38;5;132;01m}\u001b[39;00m\u001b[38;5;124m).\u001b[39m\u001b[38;5;124m\"\u001b[39m)\n\u001b[1;32m   1725\u001b[0m     tickd \u001b[38;5;241m=\u001b[39m {loc: lab \u001b[38;5;28;01mfor\u001b[39;00m loc, lab \u001b[38;5;129;01min\u001b[39;00m \u001b[38;5;28mzip\u001b[39m(locator\u001b[38;5;241m.\u001b[39mlocs, ticklabels)}\n\u001b[1;32m   1726\u001b[0m     func \u001b[38;5;241m=\u001b[39m functools\u001b[38;5;241m.\u001b[39mpartial(\u001b[38;5;28mself\u001b[39m\u001b[38;5;241m.\u001b[39m_format_with_dict, tickd)\n",
      "\u001b[0;31mValueError\u001b[0m: The number of FixedLocator locations (8), usually from a call to set_ticks, does not match the number of ticklabels (6)."
     ]
    },
    {
     "data": {
      "image/png": "[encoded data removed]",
      "text/plain": [
       "<Figure size 864x720 with 1 Axes>"
      ]
     },
     "metadata": {
      "needs_background": "light"
     },
     "output_type": "display_data"
    }
   ],
   "source": [
    "time_df = timing_plot([(\"mlp-1024-1\", \"MLP (GPU)\"),\n",
    "            (\"hdbind-rp-molformer\", \"RP-MolFormer (GPU)\"),\n",
    "            (\"molehd-bpe\", \"MoleHD-BPE (CPU)\"),\n",
    "            (\"hdbind-ecfp-1024-1-100\", \"RP-ECFP-100 (GPU)\"),\n",
    "                      (\"hdbind-ecfp-1024-1-1k\", \"RP-ECFP-1k (GPU)\"),\n",
    "                      (\"hdbind-ecfp-1024-1-100k\", \"RP-ECFP-100k (GPU)\")], \n",
    "                      dataset=\"lit-pcba\")"
   ]
  },
  {
   "cell_type": "code",
   "execution_count": null,
   "metadata": {},
   "outputs": [],
   "source": [
    "avg_times = time_df.groupby([\"model\"]).mean()[\"time\"].reset_index()\n",
    "# avg_times.reset_index()"
   ]
  },
  {
   "cell_type": "code",
   "execution_count": null,
   "metadata": {},
   "outputs": [],
   "source": [
    "avg_times[\"time\"][0], avg_times[\"model\"][0]"
   ]
  },
  {
   "cell_type": "code",
   "execution_count": null,
   "metadata": {},
   "outputs": [],
   "source": [
    "avg_times[\"time\"][1], avg_times[\"model\"][1]"
   ]
  },
  {
   "cell_type": "code",
   "execution_count": null,
   "metadata": {},
   "outputs": [],
   "source": [
    "avg_times[\"time\"][2], avg_times[\"model\"][2]"
   ]
  },
  {
   "cell_type": "code",
   "execution_count": null,
   "metadata": {},
   "outputs": [],
   "source": [
    "avg_times[\"time\"][3], avg_times[\"model\"][3]"
   ]
  },
  {
   "cell_type": "code",
   "execution_count": null,
   "metadata": {},
   "outputs": [],
   "source": [
    "avg_times[\"time\"][4], avg_times[\"model\"][4]"
   ]
  },
  {
   "cell_type": "code",
   "execution_count": null,
   "metadata": {},
   "outputs": [],
   "source": [
    "avg_times[\"time\"][5], avg_times[\"model\"][5]"
   ]
  },
  {
   "cell_type": "markdown",
   "metadata": {},
   "source": [
    "---"
   ]
  },
  {
   "cell_type": "code",
   "execution_count": null,
   "metadata": {},
   "outputs": [],
   "source": [
    "100 * abs( avg_times[\"time\"][0] - avg_times[\"time\"][4])/(avg_times[\"time\"][4])"
   ]
  },
  {
   "cell_type": "code",
   "execution_count": null,
   "metadata": {},
   "outputs": [],
   "source": [
    "avg_times[\"time\"][4] / avg_times[\"time\"][0]"
   ]
  },
  {
   "cell_type": "code",
   "execution_count": null,
   "metadata": {},
   "outputs": [],
   "source": [
    "avg_times[\"time\"][5] / avg_times[\"time\"][0]"
   ]
  },
  {
   "cell_type": "code",
   "execution_count": null,
   "metadata": {},
   "outputs": [],
   "source": [
    "avg_times[\"time\"][0] / avg_times[\"time\"][1]"
   ]
  },
  {
   "cell_type": "markdown",
   "metadata": {},
   "source": [
    "- theres way more parameters in the hdbind-rp-molformer as compared to the mlp\n",
    "- (1024 * 10000 = 10.24M parameters)\n",
    "- (\n",
    "- can D go higher? a .85x slow down from 100 to 10000 seems pretty small, there also seems to be a considerable increase in accuracy when pushing D higher..."
   ]
  },
  {
   "cell_type": "code",
   "execution_count": null,
   "metadata": {},
   "outputs": [],
   "source": []
  }
 ],
 "metadata": {
  "kernelspec": {
   "display_name": "dtra_reactivator",
   "language": "python",
   "name": "dtra_reactivator"
  },
  "language_info": {
   "codemirror_mode": {
    "name": "ipython",
    "version": 3
   },
   "file_extension": ".py",
   "mimetype": "text/x-python",
   "name": "python",
   "nbconvert_exporter": "python",
   "pygments_lexer": "ipython3",
   "version": "3.8.12"
  }
 },
 "nbformat": 4,
 "nbformat_minor": 4
}
