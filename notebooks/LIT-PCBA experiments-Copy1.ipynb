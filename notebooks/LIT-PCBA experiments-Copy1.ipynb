{
 "cells": [
  {
   "cell_type": "markdown",
   "metadata": {},
   "source": [
    "# LIT-PCBA \n",
    "this dataset is a proposed \"more difficult\" test than DUD-E. I used a 75/25 (sklearn default) stratified split. The dataset is heavily imbalanced, like DUD-E."
   ]
  },
  {
   "cell_type": "code",
   "execution_count": 93,
   "metadata": {},
   "outputs": [],
   "source": [
    "import pickle\n",
    "from sklearn.metrics import roc_auc_score\n",
    "import numpy as np\n",
    "import seaborn as sns\n",
    "import torch\n",
    "import seaborn as sns\n",
    "from tqdm import tqdm\n",
    "import pandas as pd\n",
    "from pathlib import Path\n",
    "from sklearn.metrics import f1_score, recall_score\n",
    "import matplotlib.pyplot as plt\n",
    "import sys\n",
    "# sys.path.append('..')\n",
    "sys.path.insert(0, \"/g/g13/jones289/workspace/hd-cuda-master\")\n",
    "# print(sys.path)\n",
    "import hdpy\n",
    "import hdpy.ecfp\n",
    "# from hdpy.analysis import load_pkl\n",
    "from hdpy.metrics import compute_enrichment_factor\n",
    "from pathlib import Path\n",
    "\n",
    "\n",
    "plt.rc('text', usetex=True)\n",
    "plt.rc('font', family='serif')\n",
    "plt.rc('xtick', labelsize=15)\n",
    "plt.rc('ytick', labelsize=15)\n",
    "plt.rc('axes', labelsize=17)\n",
    "plt.rc('figure', titlesize=20)\n",
    "\n",
    "\n",
    "# SEED=125\n",
    "SEED=5\n",
    "# SEED=2\n",
    "\n",
    "data_p = Path(f\"/p/vast1/jones289/hd_results/{SEED}\")"
   ]
  },
  {
   "cell_type": "code",
   "execution_count": 94,
   "metadata": {},
   "outputs": [],
   "source": [
    "green_color_pal = sns.color_palette(\"Greens\", 10)\n",
    "blue_color_pal = sns.color_palette(\"Blues\", 10)\n",
    "rocket_color_pal = sns.color_palette(\"rocket\", 10)"
   ]
  },
  {
   "cell_type": "code",
   "execution_count": 95,
   "metadata": {},
   "outputs": [],
   "source": [
    "model_dict = {\n",
    "    \"molehd-bpe\": (\"MoleHD-BPE\", rocket_color_pal[4]),\n",
    "    \"hdbind-rp-molformer\": (\"HDBind+MolFormer\", green_color_pal[4]),\n",
    "    \"hdbind-ecfp-1024-1-100\": (\"HDBind+ECFP-100\", green_color_pal[6]),\n",
    "    \"hdbind-ecfp-1024-1-1k\": (\"HDBind+ECFP-1k\", green_color_pal[6]),\n",
    "    \"hdbind-rp-ecfp-1024-1\": (\"HDBind+ECFP-10k\", green_color_pal[6]),\n",
    "    \"hdbind-ecfp-1024-1-100k\": (\"HDBind+ECFP-100k\", green_color_pal[9]),\n",
    "#     \"mlp-1024-1\": (\"MLP\", blue_color_pal[7]),\n",
    "    \"Vina\": (\"Vina\", \"salmon\"),\n",
    "}"
   ]
  },
  {
   "cell_type": "markdown",
   "metadata": {},
   "source": [
    "# LIT-PCBA Results"
   ]
  },
  {
   "cell_type": "markdown",
   "metadata": {},
   "source": [
    "export CONDA_ROOT=/usr/workspace/jones289/anaconda3-power #installed using the LC installer script\n",
    "export PATH=$CONDA_ROOT/bin:$PATH\n",
    "export CONDA_EXE=$CONDA_ROOT/bin/conda\n",
    "ml load gcc/11\n",
    "export PYTHONPATH=$PWD:$PYTHONPATH\n",
    "source activate /usr/workspace/jones289/anaconda3-power/envs/opence-1.8.0"
   ]
  },
  {
   "cell_type": "code",
   "execution_count": 112,
   "metadata": {},
   "outputs": [],
   "source": [
    "from sklearn.metrics import recall_score, precision_score, f1_score, roc_auc_score\n",
    "\n",
    "\n",
    "def compute_metrics(y_pred, y_score, y_true, p):\n",
    "#     import pdb\n",
    "#     pdb.set_trace()\n",
    "\n",
    "\n",
    "    if y_score.squeeze().ndim == 2:\n",
    "        enrich = float(compute_enrichment_factor(scores=y_score[:, 1], labels=y_true, n_percent=p))\n",
    "        roc = roc_auc_score(y_score=y_score[:, 1], y_true=y_true)\n",
    "    else:\n",
    "        enrich = float(compute_enrichment_factor(scores=y_score, labels=y_true, n_percent=p))\n",
    "        roc = roc_auc_score(y_score=y_score, y_true=y_true)\n",
    "\n",
    "    \n",
    "    \n",
    "    return {\"precision\": precision_score(y_pred=y_pred, y_true=y_true, zero_division=0),\n",
    "            \"recall\": recall_score(y_pred=y_pred, y_true=y_true),\n",
    "           \"f1\": f1_score(y_pred=y_pred, y_true=y_true, zero_division=0),\n",
    "            \"enrich\": enrich,            \n",
    "           \"roc\": roc\n",
    "           }\n",
    "\n",
    "\n",
    "def aggregate_results(dataset, split):\n",
    "    \n",
    "    \n",
    "    \n",
    "    if split == \"random\":\n",
    "        raise NotImplementedError # rename the files with \"-random\" to be consistent\n",
    "        \n",
    "    \n",
    "    model_metric_dict = {\"model\": [], \"enrich\": [], \"p\":[], \"train_time\":[], \"test_time\": [], \"target\": [],\n",
    "                        \"seed\": [], \"recall\": [], \"precision\": [], \"f1\": [], \n",
    "                        }\n",
    "\n",
    "    \n",
    "    \n",
    "    df_list = []\n",
    "    for model_name, model_tup in tqdm(model_dict.items(), total=len(model_dict), position=0):\n",
    "                        \n",
    "\n",
    "        data_path_list = list(data_p.glob(f\"{model_name}.{dataset}-*-{split}*.pkl\"))\n",
    "        print(f\"{model_name}-{dataset}: {len(model_tup)}\\t {len(data_path_list)}\")\n",
    "\n",
    "        \n",
    "\n",
    "        for path in tqdm(data_path_list, total=len(data_path_list), position=1):\n",
    "            target = path.name.split(\".\")[1]\n",
    "\n",
    "            print(target, path, model_name)\n",
    "\n",
    "            \n",
    "#             model_data_dict = pd.read_pickle(path)\n",
    "\n",
    "            try:\n",
    "                model_data_dict = torch.load(path)\n",
    "            except RuntimeError as e:\n",
    "                print(e)\n",
    "                print(\"fixing pickle and saving as pytorch object\")\n",
    "                with open(path, \"rb\") as handle:\n",
    "                    model_data_dict = pickle.load(handle)\n",
    "                    torch.save(model_data_dict, path)\n",
    "            \n",
    "\n",
    "            \n",
    "            \n",
    "            for seed in range(len(model_data_dict['trials'])):\n",
    "                scores_smiles_dict = {\"smiles\": None,\n",
    "                                      \"model\": None,\n",
    "                                      \"target\": None, \n",
    "                                      \"score\": None,\n",
    "                                      \"seed\": None, \n",
    "                                      \"label\": None}\n",
    "    \n",
    "                \n",
    "                trial_dict = model_data_dict['trials'][seed]\n",
    "\n",
    "                y_test = model_data_dict[\"y_test\"]\n",
    "\n",
    "\n",
    "\n",
    "                scores_smiles_dict[\"smiles\"] = model_data_dict[\"smiles_test\"]\n",
    "                scores_smiles_dict[\"target\"] = np.array([target]*len(y_test)).flatten()\n",
    "                scores_smiles_dict[\"score\"] = model_data_dict['trials'][seed][\"eta\"].flatten()\n",
    "                scores_smiles_dict[\"label\"] = model_data_dict['trials'][seed][\"y_true\"].flatten()\n",
    "                scores_smiles_dict[\"model\"] = np.array([model_name]*len(y_test)).flatten()\n",
    "                scores_smiles_dict[\"seed\"] = np.array([seed]*len(y_test)).flatten()\n",
    "                \n",
    "                df_list.append(pd.DataFrame(scores_smiles_dict))\n",
    "#                 import pdb\n",
    "#                 pdb.set_trace()\n",
    "                actives_database = sum(y_test)\n",
    "                database_size = y_test.shape[0]\n",
    "\n",
    "\n",
    "\n",
    "                hdc_conf_scores = trial_dict[\"eta\"]\n",
    "                for p in [.01, .1]:\n",
    "\n",
    "                    try:\n",
    "\n",
    "                        metrics = compute_metrics(y_pred=trial_dict[\"y_pred\"], \n",
    "                                                  y_score=hdc_conf_scores, \n",
    "                                                  y_true=model_data_dict[\"y_test\"],\n",
    "                                                 p=p)\n",
    "\n",
    "                        model_metric_dict[\"target\"].append(target)\n",
    "                        model_metric_dict[\"test_time\"].append(trial_dict[\"test_time\"])\n",
    "                        model_metric_dict[\"enrich\"].append(metrics[\"enrich\"])\n",
    "                        model_metric_dict[\"p\"].append(p)\n",
    "                        model_metric_dict[\"seed\"].append(seed)\n",
    "                        model_metric_dict[\"precision\"].append(metrics[\"precision\"])\n",
    "                        model_metric_dict[\"recall\"].append(metrics[\"recall\"])\n",
    "                        model_metric_dict[\"f1\"].append(metrics[\"f1\"])\n",
    "                        model_metric_dict[\"model\"].append(model_name)\n",
    "                    except Exception as e:\n",
    "                        print(e)\n",
    "\n",
    "\n",
    "    model_metric_df = pd.DataFrame({key: value for key, value in model_metric_dict.items() if key not in [\"train_time\", \"test_time\", \"precision\", \"recall\", \"f1\"]})\n",
    "#     return model_metric_df, pd.DataFrame(scores_smiles_dict)\n",
    "#     return model_metric_df, None\n",
    "    return model_metric_df, df_list\n",
    "        \n"
   ]
  },
  {
   "cell_type": "code",
   "execution_count": 113,
   "metadata": {},
   "outputs": [
    {
     "name": "stderr",
     "output_type": "stream",
     "text": [
      "\r",
      "  0%|          | 0/7 [00:00<?, ?it/s]"
     ]
    },
    {
     "name": "stdout",
     "output_type": "stream",
     "text": [
      "molehd-bpe-lit-pcba: 2\t 7\n"
     ]
    },
    {
     "name": "stderr",
     "output_type": "stream",
     "text": [
      "\n",
      "  0%|          | 0/7 [00:00<?, ?it/s]\u001b[A"
     ]
    },
    {
     "name": "stdout",
     "output_type": "stream",
     "text": [
      "lit-pcba-ESR1_ago-ave /p/vast1/jones289/hd_results/5/molehd-bpe.lit-pcba-ESR1_ago-ave.5.pkl molehd-bpe\n"
     ]
    },
    {
     "name": "stderr",
     "output_type": "stream",
     "text": [
      "\n",
      " 14%|█▍        | 1/7 [00:00<00:01,  3.32it/s]\u001b[A"
     ]
    },
    {
     "name": "stdout",
     "output_type": "stream",
     "text": [
      "lit-pcba-ESR1_ant-ave /p/vast1/jones289/hd_results/5/molehd-bpe.lit-pcba-ESR1_ant-ave.5.pkl molehd-bpe\n"
     ]
    },
    {
     "name": "stderr",
     "output_type": "stream",
     "text": [
      "\n",
      " 29%|██▊       | 2/7 [00:00<00:01,  3.42it/s]\u001b[A"
     ]
    },
    {
     "name": "stdout",
     "output_type": "stream",
     "text": [
      "lit-pcba-MAPK1-ave /p/vast1/jones289/hd_results/5/molehd-bpe.lit-pcba-MAPK1-ave.5.pkl molehd-bpe\n"
     ]
    },
    {
     "name": "stderr",
     "output_type": "stream",
     "text": [
      "\n",
      " 43%|████▎     | 3/7 [00:03<00:06,  1.61s/it]\u001b[A"
     ]
    },
    {
     "name": "stdout",
     "output_type": "stream",
     "text": [
      "lit-pcba-MTORC1-ave /p/vast1/jones289/hd_results/5/molehd-bpe.lit-pcba-MTORC1-ave.5.pkl molehd-bpe\n"
     ]
    },
    {
     "name": "stderr",
     "output_type": "stream",
     "text": [
      "\n",
      " 57%|█████▋    | 4/7 [00:05<00:04,  1.61s/it]\u001b[A"
     ]
    },
    {
     "name": "stdout",
     "output_type": "stream",
     "text": [
      "lit-pcba-PKM2-ave /p/vast1/jones289/hd_results/5/molehd-bpe.lit-pcba-PKM2-ave.5.pkl molehd-bpe\n"
     ]
    },
    {
     "name": "stderr",
     "output_type": "stream",
     "text": [
      "\n",
      " 71%|███████▏  | 5/7 [00:19<00:12,  6.07s/it]\u001b[A"
     ]
    },
    {
     "name": "stdout",
     "output_type": "stream",
     "text": [
      "lit-pcba-PPARG-ave /p/vast1/jones289/hd_results/5/molehd-bpe.lit-pcba-PPARG-ave.5.pkl molehd-bpe\n"
     ]
    },
    {
     "name": "stderr",
     "output_type": "stream",
     "text": [
      "\n",
      " 86%|████████▌ | 6/7 [00:19<00:04,  4.11s/it]\u001b[A"
     ]
    },
    {
     "name": "stdout",
     "output_type": "stream",
     "text": [
      "lit-pcba-TP53-ave /p/vast1/jones289/hd_results/5/molehd-bpe.lit-pcba-TP53-ave.5.pkl molehd-bpe\n"
     ]
    },
    {
     "name": "stderr",
     "output_type": "stream",
     "text": [
      "\n",
      "100%|██████████| 7/7 [00:19<00:00,  2.85s/it]\u001b[A\n",
      " 14%|█▍        | 1/7 [00:19<01:59, 19.93s/it]"
     ]
    },
    {
     "name": "stdout",
     "output_type": "stream",
     "text": [
      "hdbind-rp-molformer-lit-pcba: 2\t 0\n"
     ]
    },
    {
     "name": "stderr",
     "output_type": "stream",
     "text": [
      "\n",
      "0it [00:00, ?it/s]\u001b[A\n"
     ]
    },
    {
     "name": "stdout",
     "output_type": "stream",
     "text": [
      "hdbind-ecfp-1024-1-100-lit-pcba: 2\t 0\n"
     ]
    },
    {
     "name": "stderr",
     "output_type": "stream",
     "text": [
      "\n",
      "0it [00:00, ?it/s]\u001b[A\n"
     ]
    },
    {
     "name": "stdout",
     "output_type": "stream",
     "text": [
      "hdbind-ecfp-1024-1-1k-lit-pcba: 2\t 0\n"
     ]
    },
    {
     "name": "stderr",
     "output_type": "stream",
     "text": [
      "\n",
      "0it [00:00, ?it/s]\u001b[A\n"
     ]
    },
    {
     "name": "stdout",
     "output_type": "stream",
     "text": [
      "hdbind-rp-ecfp-1024-1-lit-pcba: 2\t 15\n"
     ]
    },
    {
     "name": "stderr",
     "output_type": "stream",
     "text": [
      "\n",
      "  0%|          | 0/15 [00:00<?, ?it/s]\u001b[A"
     ]
    },
    {
     "name": "stdout",
     "output_type": "stream",
     "text": [
      "lit-pcba-ADRB2-ave /p/vast1/jones289/hd_results/5/hdbind-rp-ecfp-1024-1.lit-pcba-ADRB2-ave.5.pkl hdbind-rp-ecfp-1024-1\n"
     ]
    },
    {
     "name": "stderr",
     "output_type": "stream",
     "text": [
      "\n",
      "  7%|▋         | 1/15 [00:18<04:22, 18.75s/it]\u001b[A"
     ]
    },
    {
     "name": "stdout",
     "output_type": "stream",
     "text": [
      "lit-pcba-ALDH1-ave /p/vast1/jones289/hd_results/5/hdbind-rp-ecfp-1024-1.lit-pcba-ALDH1-ave.5.pkl hdbind-rp-ecfp-1024-1\n"
     ]
    },
    {
     "name": "stderr",
     "output_type": "stream",
     "text": [
      "\n",
      " 13%|█▎        | 2/15 [00:24<02:25, 11.17s/it]\u001b[A"
     ]
    },
    {
     "name": "stdout",
     "output_type": "stream",
     "text": [
      "lit-pcba-ESR1_ago-ave /p/vast1/jones289/hd_results/5/hdbind-rp-ecfp-1024-1.lit-pcba-ESR1_ago-ave.5.pkl hdbind-rp-ecfp-1024-1\n"
     ]
    },
    {
     "name": "stderr",
     "output_type": "stream",
     "text": [
      "\n",
      " 20%|██        | 3/15 [00:24<01:14,  6.21s/it]\u001b[A"
     ]
    },
    {
     "name": "stdout",
     "output_type": "stream",
     "text": [
      "lit-pcba-ESR1_ant-ave /p/vast1/jones289/hd_results/5/hdbind-rp-ecfp-1024-1.lit-pcba-ESR1_ant-ave.5.pkl hdbind-rp-ecfp-1024-1\n"
     ]
    },
    {
     "name": "stderr",
     "output_type": "stream",
     "text": [
      "\n",
      " 27%|██▋       | 4/15 [00:25<00:42,  3.87s/it]\u001b[A"
     ]
    },
    {
     "name": "stdout",
     "output_type": "stream",
     "text": [
      "lit-pcba-FEN1-ave /p/vast1/jones289/hd_results/5/hdbind-rp-ecfp-1024-1.lit-pcba-FEN1-ave.5.pkl hdbind-rp-ecfp-1024-1\n"
     ]
    },
    {
     "name": "stderr",
     "output_type": "stream",
     "text": [
      "\n",
      " 33%|███▎      | 5/15 [00:46<01:41, 10.12s/it]\u001b[A"
     ]
    },
    {
     "name": "stdout",
     "output_type": "stream",
     "text": [
      "lit-pcba-GBA-ave /p/vast1/jones289/hd_results/5/hdbind-rp-ecfp-1024-1.lit-pcba-GBA-ave.5.pkl hdbind-rp-ecfp-1024-1\n"
     ]
    },
    {
     "name": "stderr",
     "output_type": "stream",
     "text": [
      "\n",
      " 40%|████      | 6/15 [01:03<01:52, 12.55s/it]\u001b[A"
     ]
    },
    {
     "name": "stdout",
     "output_type": "stream",
     "text": [
      "lit-pcba-IDH1-ave /p/vast1/jones289/hd_results/5/hdbind-rp-ecfp-1024-1.lit-pcba-IDH1-ave.5.pkl hdbind-rp-ecfp-1024-1\n"
     ]
    },
    {
     "name": "stderr",
     "output_type": "stream",
     "text": [
      "\n",
      " 47%|████▋     | 7/15 [01:25<02:04, 15.52s/it]\u001b[A"
     ]
    },
    {
     "name": "stdout",
     "output_type": "stream",
     "text": [
      "lit-pcba-KAT2A-ave /p/vast1/jones289/hd_results/5/hdbind-rp-ecfp-1024-1.lit-pcba-KAT2A-ave.5.pkl hdbind-rp-ecfp-1024-1\n"
     ]
    },
    {
     "name": "stderr",
     "output_type": "stream",
     "text": [
      "\n",
      " 53%|█████▎    | 8/15 [01:46<02:00, 17.19s/it]\u001b[A"
     ]
    },
    {
     "name": "stdout",
     "output_type": "stream",
     "text": [
      "lit-pcba-MAPK1-ave /p/vast1/jones289/hd_results/5/hdbind-rp-ecfp-1024-1.lit-pcba-MAPK1-ave.5.pkl hdbind-rp-ecfp-1024-1\n"
     ]
    },
    {
     "name": "stderr",
     "output_type": "stream",
     "text": [
      "\n",
      " 60%|██████    | 9/15 [01:49<01:16, 12.79s/it]\u001b[A"
     ]
    },
    {
     "name": "stdout",
     "output_type": "stream",
     "text": [
      "lit-pcba-MTORC1-ave /p/vast1/jones289/hd_results/5/hdbind-rp-ecfp-1024-1.lit-pcba-MTORC1-ave.5.pkl hdbind-rp-ecfp-1024-1\n"
     ]
    },
    {
     "name": "stderr",
     "output_type": "stream",
     "text": [
      "\n",
      " 67%|██████▋   | 10/15 [01:50<00:46,  9.33s/it]\u001b[A"
     ]
    },
    {
     "name": "stdout",
     "output_type": "stream",
     "text": [
      "lit-pcba-OPRK1-ave /p/vast1/jones289/hd_results/5/hdbind-rp-ecfp-1024-1.lit-pcba-OPRK1-ave.5.pkl hdbind-rp-ecfp-1024-1\n"
     ]
    },
    {
     "name": "stderr",
     "output_type": "stream",
     "text": [
      "\n",
      " 73%|███████▎  | 11/15 [02:06<00:45, 11.29s/it]\u001b[A"
     ]
    },
    {
     "name": "stdout",
     "output_type": "stream",
     "text": [
      "lit-pcba-PKM2-ave /p/vast1/jones289/hd_results/5/hdbind-rp-ecfp-1024-1.lit-pcba-PKM2-ave.5.pkl hdbind-rp-ecfp-1024-1\n"
     ]
    },
    {
     "name": "stderr",
     "output_type": "stream",
     "text": [
      "\n",
      " 80%|████████  | 12/15 [02:20<00:36, 12.09s/it]\u001b[A"
     ]
    },
    {
     "name": "stdout",
     "output_type": "stream",
     "text": [
      "lit-pcba-PPARG-ave /p/vast1/jones289/hd_results/5/hdbind-rp-ecfp-1024-1.lit-pcba-PPARG-ave.5.pkl hdbind-rp-ecfp-1024-1\n"
     ]
    },
    {
     "name": "stderr",
     "output_type": "stream",
     "text": [
      "\n",
      " 87%|████████▋ | 13/15 [02:20<00:17,  8.52s/it]\u001b[A"
     ]
    },
    {
     "name": "stdout",
     "output_type": "stream",
     "text": [
      "lit-pcba-TP53-ave /p/vast1/jones289/hd_results/5/hdbind-rp-ecfp-1024-1.lit-pcba-TP53-ave.5.pkl hdbind-rp-ecfp-1024-1\n"
     ]
    },
    {
     "name": "stderr",
     "output_type": "stream",
     "text": [
      "\n",
      " 93%|█████████▎| 14/15 [02:20<00:06,  6.02s/it]\u001b[A"
     ]
    },
    {
     "name": "stdout",
     "output_type": "stream",
     "text": [
      "lit-pcba-VDR-ave /p/vast1/jones289/hd_results/5/hdbind-rp-ecfp-1024-1.lit-pcba-VDR-ave.5.pkl hdbind-rp-ecfp-1024-1\n"
     ]
    },
    {
     "name": "stderr",
     "output_type": "stream",
     "text": [
      "\n",
      "100%|██████████| 15/15 [02:35<00:00, 10.40s/it]\u001b[A\n",
      " 71%|███████▏  | 5/7 [02:55<01:12, 36.16s/it]"
     ]
    },
    {
     "name": "stdout",
     "output_type": "stream",
     "text": [
      "hdbind-ecfp-1024-1-100k-lit-pcba: 2\t 0\n"
     ]
    },
    {
     "name": "stderr",
     "output_type": "stream",
     "text": [
      "\n",
      "0it [00:00, ?it/s]\u001b[A\n"
     ]
    },
    {
     "name": "stdout",
     "output_type": "stream",
     "text": [
      "Vina-lit-pcba: 2\t 0\n"
     ]
    },
    {
     "name": "stderr",
     "output_type": "stream",
     "text": [
      "\n",
      "0it [00:00, ?it/s]\u001b[A\n",
      "100%|██████████| 7/7 [02:55<00:00, 25.13s/it]\n"
     ]
    }
   ],
   "source": [
    "litpcba_df, smiles_scores_df = aggregate_results(dataset=\"lit-pcba\", split=\"ave\")"
   ]
  },
  {
   "cell_type": "code",
   "execution_count": 116,
   "metadata": {},
   "outputs": [],
   "source": [
    "lit_pcba_scores_df = pd.concat(smiles_scores_df)"
   ]
  },
  {
   "cell_type": "markdown",
   "metadata": {},
   "source": [
    "# VINA result"
   ]
  },
  {
   "cell_type": "code",
   "execution_count": 117,
   "metadata": {},
   "outputs": [],
   "source": [
    "from pathlib import Path\n",
    "\n",
    "def load_lit_pcba_vina(nrows=None):\n",
    "    root_p = Path(\"/p/lustre2/ahashare/zhang30/LIT-PCBA-Data/\")\n",
    "\n",
    "    path_list = [path for path in root_p.glob(\"*-actives.csv\")]\n",
    "#     import pdb\n",
    "#     pdb.set_trace()\n",
    "#     path_list = [path_list[0]]\n",
    "\n",
    "    df_list = []\n",
    "\n",
    "    for idx, path in tqdm(enumerate(path_list), total=len(path_list)):\n",
    "        print(idx, path)\n",
    "        \n",
    "#         '''\n",
    "        target = path.name.split(\".\")[0].split(\"-\")[0]\n",
    "        print(target, idx+1, path)\n",
    "        \n",
    "        \n",
    "\n",
    "        merged_df = None\n",
    "        merged_df_path = Path(f\"./lit_pcba_docking_analysis/{target}.csv\")\n",
    "        \n",
    "        if not merged_df_path.exists():\n",
    "            # can use the set of smiles in each result file\n",
    "            \n",
    "            # todo (10/18/23): is this valid?\n",
    "            # (12/12/23): ????\n",
    "            result_pkl = Path(f\"/g/g13/jones289/workspace/hd-cuda-master/hdpy/hdpy/results/124/lit_pcba.{target}.ecfp.atomwise.0.pkl\")        \n",
    "\n",
    "\n",
    "            target_train_smiles_list = []\n",
    "            target_test_smiles_list = []\n",
    "\n",
    "            with open(result_pkl, \"rb\") as handle:\n",
    "\n",
    "                data = pickle.load(handle)\n",
    "\n",
    "                target_train_smiles_list = data[\"smiles_train\"]\n",
    "                target_test_smiles_list = data[\"smiles_test\"]\n",
    "\n",
    "                print(f\"total of {len(target_train_smiles_list)} in training set, total of {len(target_test_smiles_list)} in testing set.\")\n",
    "\n",
    "            df_cols = ['file', ' scores/1', ' ligName']\n",
    "            active_df = pd.read_csv(root_p / Path(f\"{target}-actives.csv.clean\"), sep=\",\", usecols=df_cols, nrows=nrows)\n",
    "            active_df['y_true'] = [1] * len(active_df)\n",
    "\n",
    "\n",
    "\n",
    "            inactive_df = pd.read_csv(root_p / Path(f\"{target}-inactives.csv.clean\"), sep=\",\", usecols=df_cols, nrows=nrows)\n",
    "            inactive_df['y_true'] = [0] * len(inactive_df)\n",
    "\n",
    "            target_df = pd.concat([active_df, inactive_df])\n",
    "            # this will search over all of the docking results for each target, across each of the multiple protein models\n",
    "\n",
    "            active_smiles_df = pd.read_csv(f\"/p/vast1/jones289/lit_pcba/{target}/actives.smi\", delim_whitespace=True, header=None)\n",
    "            inactive_smiles_df = pd.read_csv(f\"/p/vast1/jones289/lit_pcba/{target}/inactives.smi\", delim_whitespace=True, header=None)\n",
    "            target_smiles_df = pd.concat([active_smiles_df, inactive_smiles_df])\n",
    "\n",
    "\n",
    "\n",
    "            top_pose_target_df = target_df.groupby([' ligName'], as_index=False)[[' ligName', ' scores/1', 'y_true']].min()\n",
    "\n",
    "\n",
    "        \n",
    "            merged_df_path.parent.mkdir(exist_ok=True, parents=True)\n",
    "            merged_df = pd.merge(top_pose_target_df, target_smiles_df, left_on=\" ligName\", right_on=1)\n",
    "            merged_df = merged_df[merged_df.apply(lambda x: x[0] in target_test_smiles_list, axis=1)]\n",
    "            merged_df['target'] = [target] * len(merged_df)\n",
    "            merged_df.to_csv(merged_df_path, index=False)\n",
    "        else:\n",
    "            merged_df = pd.read_csv(merged_df_path)\n",
    "            \n",
    "            if 'target' not in merged_df.columns:\n",
    "                merged_df['target'] = [target] * len(merged_df)\n",
    "                merged_df.to_csv(merged_df_path, index=False)\n",
    "\n",
    "\n",
    "\n",
    "        df_list.append(merged_df)\n",
    "\n",
    "    df = pd.concat(df_list)\n",
    "#     import pdb\n",
    "#     pdb.set_trace()\n",
    "    df['vina'] = df[' scores/1']\n",
    "    return df"
   ]
  },
  {
   "cell_type": "code",
   "execution_count": 118,
   "metadata": {},
   "outputs": [
    {
     "name": "stderr",
     "output_type": "stream",
     "text": [
      "\r",
      "  0%|          | 0/15 [00:00<?, ?it/s]"
     ]
    },
    {
     "name": "stdout",
     "output_type": "stream",
     "text": [
      "0 /p/lustre2/ahashare/zhang30/LIT-PCBA-Data/PKM2-actives.csv\n",
      "PKM2 1 /p/lustre2/ahashare/zhang30/LIT-PCBA-Data/PKM2-actives.csv\n"
     ]
    },
    {
     "name": "stderr",
     "output_type": "stream",
     "text": [
      "\r",
      "  7%|▋         | 1/15 [00:00<00:03,  4.53it/s]"
     ]
    },
    {
     "name": "stdout",
     "output_type": "stream",
     "text": [
      "1 /p/lustre2/ahashare/zhang30/LIT-PCBA-Data/GBA-actives.csv\n",
      "GBA 2 /p/lustre2/ahashare/zhang30/LIT-PCBA-Data/GBA-actives.csv\n"
     ]
    },
    {
     "name": "stderr",
     "output_type": "stream",
     "text": [
      "\r",
      " 13%|█▎        | 2/15 [00:00<00:02,  4.53it/s]"
     ]
    },
    {
     "name": "stdout",
     "output_type": "stream",
     "text": [
      "2 /p/lustre2/ahashare/zhang30/LIT-PCBA-Data/ESR1_ago-actives.csv\n",
      "ESR1_ago 3 /p/lustre2/ahashare/zhang30/LIT-PCBA-Data/ESR1_ago-actives.csv\n",
      "3 /p/lustre2/ahashare/zhang30/LIT-PCBA-Data/MAPK1-actives.csv\n",
      "MAPK1 4 /p/lustre2/ahashare/zhang30/LIT-PCBA-Data/MAPK1-actives.csv\n",
      "4 /p/lustre2/ahashare/zhang30/LIT-PCBA-Data/VDR-actives.csv\n",
      "VDR 5 /p/lustre2/ahashare/zhang30/LIT-PCBA-Data/VDR-actives.csv\n"
     ]
    },
    {
     "name": "stderr",
     "output_type": "stream",
     "text": [
      "\r",
      " 33%|███▎      | 5/15 [00:00<00:01,  6.61it/s]"
     ]
    },
    {
     "name": "stdout",
     "output_type": "stream",
     "text": [
      "5 /p/lustre2/ahashare/zhang30/LIT-PCBA-Data/KAT2A-actives.csv\n",
      "KAT2A 6 /p/lustre2/ahashare/zhang30/LIT-PCBA-Data/KAT2A-actives.csv\n"
     ]
    },
    {
     "name": "stderr",
     "output_type": "stream",
     "text": [
      " 53%|█████▎    | 8/15 [00:01<00:00,  8.20it/s]"
     ]
    },
    {
     "name": "stdout",
     "output_type": "stream",
     "text": [
      "6 /p/lustre2/ahashare/zhang30/LIT-PCBA-Data/ALDH1-actives.csv\n",
      "ALDH1 7 /p/lustre2/ahashare/zhang30/LIT-PCBA-Data/ALDH1-actives.csv\n",
      "7 /p/lustre2/ahashare/zhang30/LIT-PCBA-Data/TP53-actives.csv\n",
      "TP53 8 /p/lustre2/ahashare/zhang30/LIT-PCBA-Data/TP53-actives.csv\n",
      "8 /p/lustre2/ahashare/zhang30/LIT-PCBA-Data/PPARG-actives.csv\n",
      "PPARG 9 /p/lustre2/ahashare/zhang30/LIT-PCBA-Data/PPARG-actives.csv\n",
      "9 /p/lustre2/ahashare/zhang30/LIT-PCBA-Data/ADRB2-actives.csv\n",
      "ADRB2 10 /p/lustre2/ahashare/zhang30/LIT-PCBA-Data/ADRB2-actives.csv\n"
     ]
    },
    {
     "name": "stderr",
     "output_type": "stream",
     "text": [
      " 80%|████████  | 12/15 [00:01<00:00, 10.24it/s]"
     ]
    },
    {
     "name": "stdout",
     "output_type": "stream",
     "text": [
      "10 /p/lustre2/ahashare/zhang30/LIT-PCBA-Data/MTORC1-actives.csv\n",
      "MTORC1 11 /p/lustre2/ahashare/zhang30/LIT-PCBA-Data/MTORC1-actives.csv\n",
      "11 /p/lustre2/ahashare/zhang30/LIT-PCBA-Data/OPRK1-actives.csv\n",
      "OPRK1 12 /p/lustre2/ahashare/zhang30/LIT-PCBA-Data/OPRK1-actives.csv\n",
      "12 /p/lustre2/ahashare/zhang30/LIT-PCBA-Data/IDH1-actives.csv\n",
      "IDH1 13 /p/lustre2/ahashare/zhang30/LIT-PCBA-Data/IDH1-actives.csv\n"
     ]
    },
    {
     "name": "stderr",
     "output_type": "stream",
     "text": [
      "100%|██████████| 15/15 [00:01<00:00,  8.03it/s]"
     ]
    },
    {
     "name": "stdout",
     "output_type": "stream",
     "text": [
      "13 /p/lustre2/ahashare/zhang30/LIT-PCBA-Data/ESR1_ant-actives.csv\n",
      "ESR1_ant 14 /p/lustre2/ahashare/zhang30/LIT-PCBA-Data/ESR1_ant-actives.csv\n",
      "14 /p/lustre2/ahashare/zhang30/LIT-PCBA-Data/FEN1-actives.csv\n",
      "FEN1 15 /p/lustre2/ahashare/zhang30/LIT-PCBA-Data/FEN1-actives.csv\n"
     ]
    },
    {
     "name": "stderr",
     "output_type": "stream",
     "text": [
      "\n"
     ]
    },
    {
     "data": {
      "text/html": [
       "<div>\n",
       "<style scoped>\n",
       "    .dataframe tbody tr th:only-of-type {\n",
       "        vertical-align: middle;\n",
       "    }\n",
       "\n",
       "    .dataframe tbody tr th {\n",
       "        vertical-align: top;\n",
       "    }\n",
       "\n",
       "    .dataframe thead th {\n",
       "        text-align: right;\n",
       "    }\n",
       "</style>\n",
       "<table border=\"1\" class=\"dataframe\">\n",
       "  <thead>\n",
       "    <tr style=\"text-align: right;\">\n",
       "      <th></th>\n",
       "      <th>ligName</th>\n",
       "      <th>scores/1</th>\n",
       "      <th>y_true</th>\n",
       "      <th>0</th>\n",
       "      <th>1</th>\n",
       "      <th>target</th>\n",
       "      <th>vina</th>\n",
       "    </tr>\n",
       "  </thead>\n",
       "  <tbody>\n",
       "    <tr>\n",
       "      <th>0</th>\n",
       "      <td>842131</td>\n",
       "      <td>-10.9</td>\n",
       "      <td>0</td>\n",
       "      <td>C(Nc1nc(nc2ccccc12)N3CCCCC3)c4occc4</td>\n",
       "      <td>842131</td>\n",
       "      <td>PKM2</td>\n",
       "      <td>-10.9</td>\n",
       "    </tr>\n",
       "    <tr>\n",
       "      <th>1</th>\n",
       "      <td>842137</td>\n",
       "      <td>-13.6</td>\n",
       "      <td>0</td>\n",
       "      <td>Cc1ccc2nc(N3CC[NH+](Cc4nnnn4Cc5ccccc5)CC3)c(cc...</td>\n",
       "      <td>842137</td>\n",
       "      <td>PKM2</td>\n",
       "      <td>-13.6</td>\n",
       "    </tr>\n",
       "    <tr>\n",
       "      <th>2</th>\n",
       "      <td>842144</td>\n",
       "      <td>-11.0</td>\n",
       "      <td>0</td>\n",
       "      <td>Cc1ccc(C)c(NC(=O)CSc2nnc(CSc3nc(C)cc(C)n3)n2Cc...</td>\n",
       "      <td>842144</td>\n",
       "      <td>PKM2</td>\n",
       "      <td>-11.0</td>\n",
       "    </tr>\n",
       "    <tr>\n",
       "      <th>3</th>\n",
       "      <td>842162</td>\n",
       "      <td>-11.3</td>\n",
       "      <td>0</td>\n",
       "      <td>COc1cccc(c1)C(=O)Nc2ccc(cc2)S(=O)(=O)NCc3occc3</td>\n",
       "      <td>842162</td>\n",
       "      <td>PKM2</td>\n",
       "      <td>-11.3</td>\n",
       "    </tr>\n",
       "    <tr>\n",
       "      <th>4</th>\n",
       "      <td>842164</td>\n",
       "      <td>-8.8</td>\n",
       "      <td>0</td>\n",
       "      <td>O=C(Cn1nnc(n1)c2cccs2)OC3CCCCC3</td>\n",
       "      <td>842164</td>\n",
       "      <td>PKM2</td>\n",
       "      <td>-8.8</td>\n",
       "    </tr>\n",
       "    <tr>\n",
       "      <th>...</th>\n",
       "      <td>...</td>\n",
       "      <td>...</td>\n",
       "      <td>...</td>\n",
       "      <td>...</td>\n",
       "      <td>...</td>\n",
       "      <td>...</td>\n",
       "      <td>...</td>\n",
       "    </tr>\n",
       "    <tr>\n",
       "      <th>90550</th>\n",
       "      <td>124899201</td>\n",
       "      <td>-5.2</td>\n",
       "      <td>0</td>\n",
       "      <td>[O-][N+](=O)c1cccc(\\C=C\\c2ccccc2)c1</td>\n",
       "      <td>124899201</td>\n",
       "      <td>FEN1</td>\n",
       "      <td>-5.2</td>\n",
       "    </tr>\n",
       "    <tr>\n",
       "      <th>90551</th>\n",
       "      <td>124899232</td>\n",
       "      <td>-5.1</td>\n",
       "      <td>0</td>\n",
       "      <td>CN(CCCCCC[NH3+])c1nccc(n1)N2CC[NH+](C)CC2</td>\n",
       "      <td>124899232</td>\n",
       "      <td>FEN1</td>\n",
       "      <td>-5.1</td>\n",
       "    </tr>\n",
       "    <tr>\n",
       "      <th>90552</th>\n",
       "      <td>124899250</td>\n",
       "      <td>-5.3</td>\n",
       "      <td>0</td>\n",
       "      <td>ONC(=O)Cc1ccc(OCC2CCCCC2)cc1</td>\n",
       "      <td>124899250</td>\n",
       "      <td>FEN1</td>\n",
       "      <td>-5.3</td>\n",
       "    </tr>\n",
       "    <tr>\n",
       "      <th>90553</th>\n",
       "      <td>124899255</td>\n",
       "      <td>-4.9</td>\n",
       "      <td>0</td>\n",
       "      <td>CC(C)CCOc1ccc(CC(=O)NO)cc1</td>\n",
       "      <td>124899255</td>\n",
       "      <td>FEN1</td>\n",
       "      <td>-4.9</td>\n",
       "    </tr>\n",
       "    <tr>\n",
       "      <th>90554</th>\n",
       "      <td>124899256</td>\n",
       "      <td>-4.5</td>\n",
       "      <td>0</td>\n",
       "      <td>CCCCCCCOc1ccc(CC(=O)NO)cc1</td>\n",
       "      <td>124899256</td>\n",
       "      <td>FEN1</td>\n",
       "      <td>-4.5</td>\n",
       "    </tr>\n",
       "  </tbody>\n",
       "</table>\n",
       "<p>715656 rows × 7 columns</p>\n",
       "</div>"
      ],
      "text/plain": [
       "         ligName   scores/1  y_true  \\\n",
       "0         842131      -10.9       0   \n",
       "1         842137      -13.6       0   \n",
       "2         842144      -11.0       0   \n",
       "3         842162      -11.3       0   \n",
       "4         842164       -8.8       0   \n",
       "...          ...        ...     ...   \n",
       "90550  124899201       -5.2       0   \n",
       "90551  124899232       -5.1       0   \n",
       "90552  124899250       -5.3       0   \n",
       "90553  124899255       -4.9       0   \n",
       "90554  124899256       -4.5       0   \n",
       "\n",
       "                                                       0          1 target  \\\n",
       "0                    C(Nc1nc(nc2ccccc12)N3CCCCC3)c4occc4     842131   PKM2   \n",
       "1      Cc1ccc2nc(N3CC[NH+](Cc4nnnn4Cc5ccccc5)CC3)c(cc...     842137   PKM2   \n",
       "2      Cc1ccc(C)c(NC(=O)CSc2nnc(CSc3nc(C)cc(C)n3)n2Cc...     842144   PKM2   \n",
       "3         COc1cccc(c1)C(=O)Nc2ccc(cc2)S(=O)(=O)NCc3occc3     842162   PKM2   \n",
       "4                        O=C(Cn1nnc(n1)c2cccs2)OC3CCCCC3     842164   PKM2   \n",
       "...                                                  ...        ...    ...   \n",
       "90550                [O-][N+](=O)c1cccc(\\C=C\\c2ccccc2)c1  124899201   FEN1   \n",
       "90551          CN(CCCCCC[NH3+])c1nccc(n1)N2CC[NH+](C)CC2  124899232   FEN1   \n",
       "90552                       ONC(=O)Cc1ccc(OCC2CCCCC2)cc1  124899250   FEN1   \n",
       "90553                         CC(C)CCOc1ccc(CC(=O)NO)cc1  124899255   FEN1   \n",
       "90554                         CCCCCCCOc1ccc(CC(=O)NO)cc1  124899256   FEN1   \n",
       "\n",
       "       vina  \n",
       "0     -10.9  \n",
       "1     -13.6  \n",
       "2     -11.0  \n",
       "3     -11.3  \n",
       "4      -8.8  \n",
       "...     ...  \n",
       "90550  -5.2  \n",
       "90551  -5.1  \n",
       "90552  -5.3  \n",
       "90553  -4.9  \n",
       "90554  -4.5  \n",
       "\n",
       "[715656 rows x 7 columns]"
      ]
     },
     "execution_count": 118,
     "metadata": {},
     "output_type": "execute_result"
    }
   ],
   "source": [
    "lit_pcba_vina_df = load_lit_pcba_vina()\n",
    "lit_pcba_vina_df"
   ]
  },
  {
   "cell_type": "code",
   "execution_count": 121,
   "metadata": {},
   "outputs": [],
   "source": [
    "merged_df = pd.merge(lit_pcba_scores_df, lit_pcba_vina_df, left_on=\"smiles\", right_on=\"0\")"
   ]
  },
  {
   "cell_type": "code",
   "execution_count": 122,
   "metadata": {},
   "outputs": [
    {
     "data": {
      "text/html": [
       "<div>\n",
       "<style scoped>\n",
       "    .dataframe tbody tr th:only-of-type {\n",
       "        vertical-align: middle;\n",
       "    }\n",
       "\n",
       "    .dataframe tbody tr th {\n",
       "        vertical-align: top;\n",
       "    }\n",
       "\n",
       "    .dataframe thead th {\n",
       "        text-align: right;\n",
       "    }\n",
       "</style>\n",
       "<table border=\"1\" class=\"dataframe\">\n",
       "  <thead>\n",
       "    <tr style=\"text-align: right;\">\n",
       "      <th></th>\n",
       "      <th>smiles</th>\n",
       "      <th>model</th>\n",
       "      <th>target_x</th>\n",
       "      <th>score</th>\n",
       "      <th>seed</th>\n",
       "      <th>label</th>\n",
       "      <th>ligName</th>\n",
       "      <th>scores/1</th>\n",
       "      <th>y_true</th>\n",
       "      <th>0</th>\n",
       "      <th>1</th>\n",
       "      <th>target_y</th>\n",
       "      <th>vina</th>\n",
       "    </tr>\n",
       "  </thead>\n",
       "  <tbody>\n",
       "    <tr>\n",
       "      <th>0</th>\n",
       "      <td>CCCCCCCCC(=O)NCc1ccc(O)c(OC)c1</td>\n",
       "      <td>molehd-bpe</td>\n",
       "      <td>lit-pcba-ESR1_ago-ave</td>\n",
       "      <td>0</td>\n",
       "      <td>0</td>\n",
       "      <td>0</td>\n",
       "      <td>11111961</td>\n",
       "      <td>-7.8</td>\n",
       "      <td>0</td>\n",
       "      <td>CCCCCCCCC(=O)NCc1ccc(O)c(OC)c1</td>\n",
       "      <td>11111961</td>\n",
       "      <td>MAPK1</td>\n",
       "      <td>-7.8</td>\n",
       "    </tr>\n",
       "    <tr>\n",
       "      <th>1</th>\n",
       "      <td>CCCCCCCCC(=O)NCc1ccc(O)c(OC)c1</td>\n",
       "      <td>molehd-bpe</td>\n",
       "      <td>lit-pcba-ESR1_ago-ave</td>\n",
       "      <td>0</td>\n",
       "      <td>0</td>\n",
       "      <td>0</td>\n",
       "      <td>26747691</td>\n",
       "      <td>-7.7</td>\n",
       "      <td>0</td>\n",
       "      <td>CCCCCCCCC(=O)NCc1ccc(O)c(OC)c1</td>\n",
       "      <td>26747691</td>\n",
       "      <td>MAPK1</td>\n",
       "      <td>-7.7</td>\n",
       "    </tr>\n",
       "    <tr>\n",
       "      <th>2</th>\n",
       "      <td>CCCCCCCCC(=O)NCc1ccc(O)c(OC)c1</td>\n",
       "      <td>molehd-bpe</td>\n",
       "      <td>lit-pcba-ESR1_ago-ave</td>\n",
       "      <td>0</td>\n",
       "      <td>0</td>\n",
       "      <td>0</td>\n",
       "      <td>56463512</td>\n",
       "      <td>-8.1</td>\n",
       "      <td>0</td>\n",
       "      <td>CCCCCCCCC(=O)NCc1ccc(O)c(OC)c1</td>\n",
       "      <td>56463512</td>\n",
       "      <td>VDR</td>\n",
       "      <td>-8.1</td>\n",
       "    </tr>\n",
       "    <tr>\n",
       "      <th>3</th>\n",
       "      <td>CCCCCCCCC(=O)NCc1ccc(O)c(OC)c1</td>\n",
       "      <td>molehd-bpe</td>\n",
       "      <td>lit-pcba-ESR1_ago-ave</td>\n",
       "      <td>0</td>\n",
       "      <td>0</td>\n",
       "      <td>0</td>\n",
       "      <td>104171264</td>\n",
       "      <td>-8.0</td>\n",
       "      <td>0</td>\n",
       "      <td>CCCCCCCCC(=O)NCc1ccc(O)c(OC)c1</td>\n",
       "      <td>104171264</td>\n",
       "      <td>VDR</td>\n",
       "      <td>-8.0</td>\n",
       "    </tr>\n",
       "    <tr>\n",
       "      <th>4</th>\n",
       "      <td>CCCCCCCCC(=O)NCc1ccc(O)c(OC)c1</td>\n",
       "      <td>molehd-bpe</td>\n",
       "      <td>lit-pcba-ESR1_ago-ave</td>\n",
       "      <td>0</td>\n",
       "      <td>0</td>\n",
       "      <td>0</td>\n",
       "      <td>56463512</td>\n",
       "      <td>-7.1</td>\n",
       "      <td>0</td>\n",
       "      <td>CCCCCCCCC(=O)NCc1ccc(O)c(OC)c1</td>\n",
       "      <td>56463512</td>\n",
       "      <td>KAT2A</td>\n",
       "      <td>-7.1</td>\n",
       "    </tr>\n",
       "    <tr>\n",
       "      <th>...</th>\n",
       "      <td>...</td>\n",
       "      <td>...</td>\n",
       "      <td>...</td>\n",
       "      <td>...</td>\n",
       "      <td>...</td>\n",
       "      <td>...</td>\n",
       "      <td>...</td>\n",
       "      <td>...</td>\n",
       "      <td>...</td>\n",
       "      <td>...</td>\n",
       "      <td>...</td>\n",
       "      <td>...</td>\n",
       "      <td>...</td>\n",
       "    </tr>\n",
       "    <tr>\n",
       "      <th>11571745</th>\n",
       "      <td>Cc1ccc(cc1)N2C3=C(C(C4=C2CC(C)(C)CC4=O)c5cn(C)...</td>\n",
       "      <td>hdbind-rp-ecfp-1024-1</td>\n",
       "      <td>lit-pcba-VDR-ave</td>\n",
       "      <td>0</td>\n",
       "      <td>5</td>\n",
       "      <td>1</td>\n",
       "      <td>17411552</td>\n",
       "      <td>-8.3</td>\n",
       "      <td>0</td>\n",
       "      <td>Cc1ccc(cc1)N2C3=C(C(C4=C2CC(C)(C)CC4=O)c5cn(C)...</td>\n",
       "      <td>17411552</td>\n",
       "      <td>IDH1</td>\n",
       "      <td>-8.3</td>\n",
       "    </tr>\n",
       "    <tr>\n",
       "      <th>11571746</th>\n",
       "      <td>Cc1ccc(cc1)N2C3=C(C(C4=C2CC(C)(C)CC4=O)c5cn(C)...</td>\n",
       "      <td>hdbind-rp-ecfp-1024-1</td>\n",
       "      <td>lit-pcba-VDR-ave</td>\n",
       "      <td>0</td>\n",
       "      <td>6</td>\n",
       "      <td>1</td>\n",
       "      <td>17411552</td>\n",
       "      <td>-8.3</td>\n",
       "      <td>0</td>\n",
       "      <td>Cc1ccc(cc1)N2C3=C(C(C4=C2CC(C)(C)CC4=O)c5cn(C)...</td>\n",
       "      <td>17411552</td>\n",
       "      <td>IDH1</td>\n",
       "      <td>-8.3</td>\n",
       "    </tr>\n",
       "    <tr>\n",
       "      <th>11571747</th>\n",
       "      <td>Cc1ccc(cc1)N2C3=C(C(C4=C2CC(C)(C)CC4=O)c5cn(C)...</td>\n",
       "      <td>hdbind-rp-ecfp-1024-1</td>\n",
       "      <td>lit-pcba-VDR-ave</td>\n",
       "      <td>0</td>\n",
       "      <td>7</td>\n",
       "      <td>1</td>\n",
       "      <td>17411552</td>\n",
       "      <td>-8.3</td>\n",
       "      <td>0</td>\n",
       "      <td>Cc1ccc(cc1)N2C3=C(C(C4=C2CC(C)(C)CC4=O)c5cn(C)...</td>\n",
       "      <td>17411552</td>\n",
       "      <td>IDH1</td>\n",
       "      <td>-8.3</td>\n",
       "    </tr>\n",
       "    <tr>\n",
       "      <th>11571748</th>\n",
       "      <td>Cc1ccc(cc1)N2C3=C(C(C4=C2CC(C)(C)CC4=O)c5cn(C)...</td>\n",
       "      <td>hdbind-rp-ecfp-1024-1</td>\n",
       "      <td>lit-pcba-VDR-ave</td>\n",
       "      <td>0</td>\n",
       "      <td>8</td>\n",
       "      <td>1</td>\n",
       "      <td>17411552</td>\n",
       "      <td>-8.3</td>\n",
       "      <td>0</td>\n",
       "      <td>Cc1ccc(cc1)N2C3=C(C(C4=C2CC(C)(C)CC4=O)c5cn(C)...</td>\n",
       "      <td>17411552</td>\n",
       "      <td>IDH1</td>\n",
       "      <td>-8.3</td>\n",
       "    </tr>\n",
       "    <tr>\n",
       "      <th>11571749</th>\n",
       "      <td>Cc1ccc(cc1)N2C3=C(C(C4=C2CC(C)(C)CC4=O)c5cn(C)...</td>\n",
       "      <td>hdbind-rp-ecfp-1024-1</td>\n",
       "      <td>lit-pcba-VDR-ave</td>\n",
       "      <td>0</td>\n",
       "      <td>9</td>\n",
       "      <td>1</td>\n",
       "      <td>17411552</td>\n",
       "      <td>-8.3</td>\n",
       "      <td>0</td>\n",
       "      <td>Cc1ccc(cc1)N2C3=C(C(C4=C2CC(C)(C)CC4=O)c5cn(C)...</td>\n",
       "      <td>17411552</td>\n",
       "      <td>IDH1</td>\n",
       "      <td>-8.3</td>\n",
       "    </tr>\n",
       "  </tbody>\n",
       "</table>\n",
       "<p>11571750 rows × 13 columns</p>\n",
       "</div>"
      ],
      "text/plain": [
       "                                                     smiles  \\\n",
       "0                            CCCCCCCCC(=O)NCc1ccc(O)c(OC)c1   \n",
       "1                            CCCCCCCCC(=O)NCc1ccc(O)c(OC)c1   \n",
       "2                            CCCCCCCCC(=O)NCc1ccc(O)c(OC)c1   \n",
       "3                            CCCCCCCCC(=O)NCc1ccc(O)c(OC)c1   \n",
       "4                            CCCCCCCCC(=O)NCc1ccc(O)c(OC)c1   \n",
       "...                                                     ...   \n",
       "11571745  Cc1ccc(cc1)N2C3=C(C(C4=C2CC(C)(C)CC4=O)c5cn(C)...   \n",
       "11571746  Cc1ccc(cc1)N2C3=C(C(C4=C2CC(C)(C)CC4=O)c5cn(C)...   \n",
       "11571747  Cc1ccc(cc1)N2C3=C(C(C4=C2CC(C)(C)CC4=O)c5cn(C)...   \n",
       "11571748  Cc1ccc(cc1)N2C3=C(C(C4=C2CC(C)(C)CC4=O)c5cn(C)...   \n",
       "11571749  Cc1ccc(cc1)N2C3=C(C(C4=C2CC(C)(C)CC4=O)c5cn(C)...   \n",
       "\n",
       "                          model               target_x  score  seed  label  \\\n",
       "0                    molehd-bpe  lit-pcba-ESR1_ago-ave      0     0      0   \n",
       "1                    molehd-bpe  lit-pcba-ESR1_ago-ave      0     0      0   \n",
       "2                    molehd-bpe  lit-pcba-ESR1_ago-ave      0     0      0   \n",
       "3                    molehd-bpe  lit-pcba-ESR1_ago-ave      0     0      0   \n",
       "4                    molehd-bpe  lit-pcba-ESR1_ago-ave      0     0      0   \n",
       "...                         ...                    ...    ...   ...    ...   \n",
       "11571745  hdbind-rp-ecfp-1024-1       lit-pcba-VDR-ave      0     5      1   \n",
       "11571746  hdbind-rp-ecfp-1024-1       lit-pcba-VDR-ave      0     6      1   \n",
       "11571747  hdbind-rp-ecfp-1024-1       lit-pcba-VDR-ave      0     7      1   \n",
       "11571748  hdbind-rp-ecfp-1024-1       lit-pcba-VDR-ave      0     8      1   \n",
       "11571749  hdbind-rp-ecfp-1024-1       lit-pcba-VDR-ave      0     9      1   \n",
       "\n",
       "            ligName   scores/1  y_true  \\\n",
       "0          11111961       -7.8       0   \n",
       "1          26747691       -7.7       0   \n",
       "2          56463512       -8.1       0   \n",
       "3         104171264       -8.0       0   \n",
       "4          56463512       -7.1       0   \n",
       "...             ...        ...     ...   \n",
       "11571745   17411552       -8.3       0   \n",
       "11571746   17411552       -8.3       0   \n",
       "11571747   17411552       -8.3       0   \n",
       "11571748   17411552       -8.3       0   \n",
       "11571749   17411552       -8.3       0   \n",
       "\n",
       "                                                          0          1  \\\n",
       "0                            CCCCCCCCC(=O)NCc1ccc(O)c(OC)c1   11111961   \n",
       "1                            CCCCCCCCC(=O)NCc1ccc(O)c(OC)c1   26747691   \n",
       "2                            CCCCCCCCC(=O)NCc1ccc(O)c(OC)c1   56463512   \n",
       "3                            CCCCCCCCC(=O)NCc1ccc(O)c(OC)c1  104171264   \n",
       "4                            CCCCCCCCC(=O)NCc1ccc(O)c(OC)c1   56463512   \n",
       "...                                                     ...        ...   \n",
       "11571745  Cc1ccc(cc1)N2C3=C(C(C4=C2CC(C)(C)CC4=O)c5cn(C)...   17411552   \n",
       "11571746  Cc1ccc(cc1)N2C3=C(C(C4=C2CC(C)(C)CC4=O)c5cn(C)...   17411552   \n",
       "11571747  Cc1ccc(cc1)N2C3=C(C(C4=C2CC(C)(C)CC4=O)c5cn(C)...   17411552   \n",
       "11571748  Cc1ccc(cc1)N2C3=C(C(C4=C2CC(C)(C)CC4=O)c5cn(C)...   17411552   \n",
       "11571749  Cc1ccc(cc1)N2C3=C(C(C4=C2CC(C)(C)CC4=O)c5cn(C)...   17411552   \n",
       "\n",
       "         target_y  vina  \n",
       "0           MAPK1  -7.8  \n",
       "1           MAPK1  -7.7  \n",
       "2             VDR  -8.1  \n",
       "3             VDR  -8.0  \n",
       "4           KAT2A  -7.1  \n",
       "...           ...   ...  \n",
       "11571745     IDH1  -8.3  \n",
       "11571746     IDH1  -8.3  \n",
       "11571747     IDH1  -8.3  \n",
       "11571748     IDH1  -8.3  \n",
       "11571749     IDH1  -8.3  \n",
       "\n",
       "[11571750 rows x 13 columns]"
      ]
     },
     "execution_count": 122,
     "metadata": {},
     "output_type": "execute_result"
    }
   ],
   "source": [
    "merged_df"
   ]
  },
  {
   "cell_type": "code",
   "execution_count": 70,
   "metadata": {},
   "outputs": [],
   "source": [
    "# def load_dude_vina(nrows=None):\n",
    "#     vina_root_p = Path(\"/p/lustre1/jones289/DUDE-38/\")\n",
    "#     vina_path_list = [path for path in vina_root_p.glob(\"*-active-summary.txt\")]\n",
    "\n",
    "#     df_list = []\n",
    "\n",
    "\n",
    "#     # root_dude_dir = Path(\"/g/g13/jones289/workspace/hd-cuda-master/datasets/dude/dude_smiles/\")\n",
    "#     root_dude_dir = Path(\"/g/g13/jones289/workspace/hd-cuda-master/datasets/dude_smiles\")\n",
    "#     for idx, path in enumerate(tqdm(vina_path_list)):\n",
    "#     #     print(idx, path)\n",
    "#         target = path.name.split(\".\")[0].split(\"-\")[0]\n",
    "# #         print(target, idx+1, path)\n",
    "\n",
    "#         # for some reason don't have inactive data for abl1\n",
    "#         if target in [\"abl1\", \"fgfr1\"]:\n",
    "#             tqdm.write(f\"{target} not found. skipping.\")\n",
    "#             continue\n",
    "\n",
    "# #         if target in dude_target_names:\n",
    "#         else:\n",
    "\n",
    "#             active_df = pd.read_csv(f\"/p/lustre1/jones289/DUDE-38/{target}-active-summary.txt\", header=None, delim_whitespace=True)\n",
    "#             active_df['y_true'] = [1] * len(active_df)\n",
    "\n",
    "#             decoy_df = pd.read_csv(f\"/p/lustre1/jones289/DUDE-38/{target}-decoy-summary.txt\", header=None, delim_whitespace=True)\n",
    "#             decoy_df['y_true'] = [0] * len(decoy_df)\n",
    "\n",
    "\n",
    "#             target_df = pd.concat([active_df, decoy_df])\n",
    "\n",
    "#             target_df[\"target\"] = [target] * len(target_df)\n",
    "\n",
    "#             target_df[\"vina\"] = target_df[2]\n",
    "#             target_df[\"gbsa\"] = target_df[3]\n",
    "\n",
    "#             target_df[\"cmpd_id\"] = target_df[1]\n",
    "\n",
    "#             target_df[\"target_size\"] = target_df.shape[0]\n",
    "\n",
    "#     #         import pdb\n",
    "#     #         pdb.set_trace()\n",
    "#             random_split_df = pd.read_csv(root_dude_dir/ Path(f\"{target}_gbsa_smiles_with_base_rdkit_smiles_train_valid_test_random_random.csv\"))\n",
    "\n",
    "\n",
    "#     #         import pdb\n",
    "#     #         pdb.set_trace()\n",
    "\n",
    "#             # we only use the scores from the test set to attempt an even comparison\n",
    "\n",
    "#             merged_df = pd.merge(target_df, random_split_df, on=\"cmpd_id\")\n",
    "#             merged_df = merged_df.loc[merged_df['subset'] == \"test\"]\n",
    "\n",
    "# #             print(merged_df.shape)\n",
    "\n",
    "#             df_list.append(merged_df)\n",
    "# #         else:\n",
    "# #             pass\n",
    "\n",
    "#     df = pd.concat(df_list)\n",
    "\n",
    "#     return df\n",
    "    "
   ]
  },
  {
   "cell_type": "code",
   "execution_count": 85,
   "metadata": {},
   "outputs": [],
   "source": [
    "# dude_vina_df = load_dude_vina()\n",
    "# dude_vina_df"
   ]
  },
  {
   "cell_type": "code",
   "execution_count": 72,
   "metadata": {},
   "outputs": [],
   "source": [
    "def compute_model_metric_df(dataset, split):\n",
    "    \n",
    "    model_metric_df, smiles_scores_df = aggregate_results(dataset=dataset,\n",
    "                                        split=split,\n",
    "                                        multistep_p_list=[.05, .5],  \n",
    "                                        multistep_sklearn_model=\"rf\", \n",
    "                                        multistep_initial_p=.2)\n",
    "\n",
    "    # model_metric_df\n",
    "\n",
    "    #######\n",
    "    if dataset == \"lit-pcba\":\n",
    "        docking_df = load_lit_pcba_vina()\n",
    "    elif dataset == \"dude\":\n",
    "        docking_df = load_dude_vina()\n",
    "\n",
    "    ###########\n",
    "    \n",
    "    docking_dict = {\"enrich\": [], \"p\": [], \"model\": [], \"target\": []}\n",
    "\n",
    "    vina_enrich_list = []\n",
    "    target_list = []\n",
    "    vina_col='vina'\n",
    "    for target, target_df in docking_df.groupby(\"target\"):\n",
    "#         import pdb\n",
    "#         pdb.set_trace()\n",
    "        for p in [.1, .01]:\n",
    "            enrich = compute_enrichment_factor(scores=np.abs(target_df[vina_col]), \n",
    "                                      labels=target_df[\"y_true\"], \n",
    "                                      n_percent=p)\n",
    "\n",
    "            docking_dict[\"enrich\"].append(float(enrich))\n",
    "            docking_dict[\"p\"].append(p)\n",
    "            docking_dict[\"model\"].append(\"Vina\")\n",
    "            docking_dict[\"target\"].append(target)\n",
    "            \n",
    "#     import pdb\n",
    "#     pdb.set_trace()\n",
    "    \n",
    "    \n",
    "    \n",
    "    ##################\n",
    "#     import pdb\n",
    "#     pdb.set_trace()\n",
    "    model_metric_df = pd.concat([model_metric_df, pd.DataFrame(docking_dict)])\n",
    "    \n",
    "    # Backup the calculation\n",
    "#     model_metric_df.to_csv(\"fixed_litpcba_model_metric_df.csv\")\n",
    "    \n",
    "#     import pdb\n",
    "#     pdb.set_trace()\n",
    "    return model_metric_df, smiles_scores_df\n"
   ]
  },
  {
   "cell_type": "markdown",
   "metadata": {},
   "source": []
  },
  {
   "cell_type": "code",
   "execution_count": 73,
   "metadata": {},
   "outputs": [],
   "source": [
    "# dude_df = compute_model_metric_df(dataset=\"dude\")"
   ]
  },
  {
   "cell_type": "code",
   "execution_count": 74,
   "metadata": {},
   "outputs": [
    {
     "name": "stderr",
     "output_type": "stream",
     "text": [
      "\r",
      "  0%|          | 0/7 [00:00<?, ?it/s]"
     ]
    },
    {
     "name": "stdout",
     "output_type": "stream",
     "text": [
      "molehd-bpe-lit-pcba: 2\t 7\n"
     ]
    },
    {
     "name": "stderr",
     "output_type": "stream",
     "text": [
      "\n",
      "  0%|          | 0/7 [00:00<?, ?it/s]\u001b[A"
     ]
    },
    {
     "name": "stdout",
     "output_type": "stream",
     "text": [
      "lit-pcba-ESR1_ago-ave /p/vast1/jones289/hd_results/5/molehd-bpe.lit-pcba-ESR1_ago-ave.5.pkl molehd-bpe\n"
     ]
    },
    {
     "name": "stderr",
     "output_type": "stream",
     "text": [
      "\n",
      " 14%|█▍        | 1/7 [00:00<00:01,  3.15it/s]\u001b[A"
     ]
    },
    {
     "name": "stdout",
     "output_type": "stream",
     "text": [
      "lit-pcba-ESR1_ant-ave /p/vast1/jones289/hd_results/5/molehd-bpe.lit-pcba-ESR1_ant-ave.5.pkl molehd-bpe\n"
     ]
    },
    {
     "name": "stderr",
     "output_type": "stream",
     "text": [
      "\n",
      " 29%|██▊       | 2/7 [00:00<00:01,  3.50it/s]\u001b[A"
     ]
    },
    {
     "name": "stdout",
     "output_type": "stream",
     "text": [
      "lit-pcba-MAPK1-ave /p/vast1/jones289/hd_results/5/molehd-bpe.lit-pcba-MAPK1-ave.5.pkl molehd-bpe\n"
     ]
    },
    {
     "name": "stderr",
     "output_type": "stream",
     "text": [
      "\n",
      " 43%|████▎     | 3/7 [00:03<00:06,  1.53s/it]\u001b[A"
     ]
    },
    {
     "name": "stdout",
     "output_type": "stream",
     "text": [
      "lit-pcba-MTORC1-ave /p/vast1/jones289/hd_results/5/molehd-bpe.lit-pcba-MTORC1-ave.5.pkl molehd-bpe\n"
     ]
    },
    {
     "name": "stderr",
     "output_type": "stream",
     "text": [
      "\n",
      " 57%|█████▋    | 4/7 [00:05<00:04,  1.52s/it]\u001b[A"
     ]
    },
    {
     "name": "stdout",
     "output_type": "stream",
     "text": [
      "lit-pcba-PKM2-ave /p/vast1/jones289/hd_results/5/molehd-bpe.lit-pcba-PKM2-ave.5.pkl molehd-bpe\n"
     ]
    },
    {
     "name": "stderr",
     "output_type": "stream",
     "text": [
      "\n",
      " 71%|███████▏  | 5/7 [00:18<00:11,  5.78s/it]\u001b[A"
     ]
    },
    {
     "name": "stdout",
     "output_type": "stream",
     "text": [
      "lit-pcba-PPARG-ave /p/vast1/jones289/hd_results/5/molehd-bpe.lit-pcba-PPARG-ave.5.pkl molehd-bpe\n"
     ]
    },
    {
     "name": "stderr",
     "output_type": "stream",
     "text": [
      "\n",
      " 86%|████████▌ | 6/7 [00:18<00:03,  3.90s/it]\u001b[A"
     ]
    },
    {
     "name": "stdout",
     "output_type": "stream",
     "text": [
      "lit-pcba-TP53-ave /p/vast1/jones289/hd_results/5/molehd-bpe.lit-pcba-TP53-ave.5.pkl molehd-bpe\n"
     ]
    },
    {
     "name": "stderr",
     "output_type": "stream",
     "text": [
      "\n",
      "100%|██████████| 7/7 [00:18<00:00,  2.70s/it]\u001b[A\n",
      " 14%|█▍        | 1/7 [00:18<01:53, 18.93s/it]"
     ]
    },
    {
     "name": "stdout",
     "output_type": "stream",
     "text": [
      "hdbind-rp-molformer-lit-pcba: 2\t 0\n"
     ]
    },
    {
     "name": "stderr",
     "output_type": "stream",
     "text": [
      "\n",
      "0it [00:00, ?it/s]\u001b[A\n"
     ]
    },
    {
     "name": "stdout",
     "output_type": "stream",
     "text": [
      "hdbind-ecfp-1024-1-100-lit-pcba: 2\t 0\n"
     ]
    },
    {
     "name": "stderr",
     "output_type": "stream",
     "text": [
      "\n",
      "0it [00:00, ?it/s]\u001b[A\n"
     ]
    },
    {
     "name": "stdout",
     "output_type": "stream",
     "text": [
      "hdbind-ecfp-1024-1-1k-lit-pcba: 2\t 0\n"
     ]
    },
    {
     "name": "stderr",
     "output_type": "stream",
     "text": [
      "\n",
      "0it [00:00, ?it/s]\u001b[A\n"
     ]
    },
    {
     "name": "stdout",
     "output_type": "stream",
     "text": [
      "hdbind-rp-ecfp-1024-1-lit-pcba: 2\t 15\n"
     ]
    },
    {
     "name": "stderr",
     "output_type": "stream",
     "text": [
      "\n",
      "  0%|          | 0/15 [00:00<?, ?it/s]\u001b[A"
     ]
    },
    {
     "name": "stdout",
     "output_type": "stream",
     "text": [
      "lit-pcba-ADRB2-ave /p/vast1/jones289/hd_results/5/hdbind-rp-ecfp-1024-1.lit-pcba-ADRB2-ave.5.pkl hdbind-rp-ecfp-1024-1\n"
     ]
    },
    {
     "name": "stderr",
     "output_type": "stream",
     "text": [
      "\n",
      "  7%|▋         | 1/15 [00:17<03:58, 17.01s/it]\u001b[A"
     ]
    },
    {
     "name": "stdout",
     "output_type": "stream",
     "text": [
      "lit-pcba-ALDH1-ave /p/vast1/jones289/hd_results/5/hdbind-rp-ecfp-1024-1.lit-pcba-ALDH1-ave.5.pkl hdbind-rp-ecfp-1024-1\n"
     ]
    },
    {
     "name": "stderr",
     "output_type": "stream",
     "text": [
      "\n",
      " 13%|█▎        | 2/15 [00:22<02:12, 10.21s/it]\u001b[A"
     ]
    },
    {
     "name": "stdout",
     "output_type": "stream",
     "text": [
      "lit-pcba-ESR1_ago-ave /p/vast1/jones289/hd_results/5/hdbind-rp-ecfp-1024-1.lit-pcba-ESR1_ago-ave.5.pkl hdbind-rp-ecfp-1024-1\n"
     ]
    },
    {
     "name": "stderr",
     "output_type": "stream",
     "text": [
      "\n",
      " 20%|██        | 3/15 [00:22<01:08,  5.67s/it]\u001b[A"
     ]
    },
    {
     "name": "stdout",
     "output_type": "stream",
     "text": [
      "lit-pcba-ESR1_ant-ave /p/vast1/jones289/hd_results/5/hdbind-rp-ecfp-1024-1.lit-pcba-ESR1_ant-ave.5.pkl hdbind-rp-ecfp-1024-1\n"
     ]
    },
    {
     "name": "stderr",
     "output_type": "stream",
     "text": [
      "\n",
      " 27%|██▋       | 4/15 [00:22<00:38,  3.53s/it]\u001b[A"
     ]
    },
    {
     "name": "stdout",
     "output_type": "stream",
     "text": [
      "lit-pcba-FEN1-ave /p/vast1/jones289/hd_results/5/hdbind-rp-ecfp-1024-1.lit-pcba-FEN1-ave.5.pkl hdbind-rp-ecfp-1024-1\n"
     ]
    },
    {
     "name": "stderr",
     "output_type": "stream",
     "text": [
      "\n",
      " 33%|███▎      | 5/15 [00:41<01:28,  8.81s/it]\u001b[A"
     ]
    },
    {
     "name": "stdout",
     "output_type": "stream",
     "text": [
      "lit-pcba-GBA-ave /p/vast1/jones289/hd_results/5/hdbind-rp-ecfp-1024-1.lit-pcba-GBA-ave.5.pkl hdbind-rp-ecfp-1024-1\n"
     ]
    },
    {
     "name": "stderr",
     "output_type": "stream",
     "text": [
      "\n",
      " 40%|████      | 6/15 [00:56<01:39, 11.05s/it]\u001b[A"
     ]
    },
    {
     "name": "stdout",
     "output_type": "stream",
     "text": [
      "lit-pcba-IDH1-ave /p/vast1/jones289/hd_results/5/hdbind-rp-ecfp-1024-1.lit-pcba-IDH1-ave.5.pkl hdbind-rp-ecfp-1024-1\n"
     ]
    },
    {
     "name": "stderr",
     "output_type": "stream",
     "text": [
      "\n",
      " 47%|████▋     | 7/15 [01:15<01:49, 13.73s/it]\u001b[A"
     ]
    },
    {
     "name": "stdout",
     "output_type": "stream",
     "text": [
      "lit-pcba-KAT2A-ave /p/vast1/jones289/hd_results/5/hdbind-rp-ecfp-1024-1.lit-pcba-KAT2A-ave.5.pkl hdbind-rp-ecfp-1024-1\n"
     ]
    },
    {
     "name": "stderr",
     "output_type": "stream",
     "text": [
      "\n",
      " 53%|█████▎    | 8/15 [01:34<01:47, 15.36s/it]\u001b[A"
     ]
    },
    {
     "name": "stdout",
     "output_type": "stream",
     "text": [
      "lit-pcba-MAPK1-ave /p/vast1/jones289/hd_results/5/hdbind-rp-ecfp-1024-1.lit-pcba-MAPK1-ave.5.pkl hdbind-rp-ecfp-1024-1\n"
     ]
    },
    {
     "name": "stderr",
     "output_type": "stream",
     "text": [
      "\n",
      " 60%|██████    | 9/15 [01:37<01:08, 11.49s/it]\u001b[A"
     ]
    },
    {
     "name": "stdout",
     "output_type": "stream",
     "text": [
      "lit-pcba-MTORC1-ave /p/vast1/jones289/hd_results/5/hdbind-rp-ecfp-1024-1.lit-pcba-MTORC1-ave.5.pkl hdbind-rp-ecfp-1024-1\n"
     ]
    },
    {
     "name": "stderr",
     "output_type": "stream",
     "text": [
      "\n",
      " 67%|██████▋   | 10/15 [01:39<00:41,  8.39s/it]\u001b[A"
     ]
    },
    {
     "name": "stdout",
     "output_type": "stream",
     "text": [
      "lit-pcba-OPRK1-ave /p/vast1/jones289/hd_results/5/hdbind-rp-ecfp-1024-1.lit-pcba-OPRK1-ave.5.pkl hdbind-rp-ecfp-1024-1\n"
     ]
    },
    {
     "name": "stderr",
     "output_type": "stream",
     "text": [
      "\n",
      " 73%|███████▎  | 11/15 [01:54<00:41, 10.47s/it]\u001b[A"
     ]
    },
    {
     "name": "stdout",
     "output_type": "stream",
     "text": [
      "lit-pcba-PKM2-ave /p/vast1/jones289/hd_results/5/hdbind-rp-ecfp-1024-1.lit-pcba-PKM2-ave.5.pkl hdbind-rp-ecfp-1024-1\n"
     ]
    },
    {
     "name": "stderr",
     "output_type": "stream",
     "text": [
      "\n",
      " 80%|████████  | 12/15 [02:09<00:35, 11.83s/it]\u001b[A"
     ]
    },
    {
     "name": "stdout",
     "output_type": "stream",
     "text": [
      "lit-pcba-PPARG-ave /p/vast1/jones289/hd_results/5/hdbind-rp-ecfp-1024-1.lit-pcba-PPARG-ave.5.pkl hdbind-rp-ecfp-1024-1\n"
     ]
    },
    {
     "name": "stderr",
     "output_type": "stream",
     "text": [
      "\n",
      " 87%|████████▋ | 13/15 [02:09<00:16,  8.34s/it]\u001b[A"
     ]
    },
    {
     "name": "stdout",
     "output_type": "stream",
     "text": [
      "lit-pcba-TP53-ave /p/vast1/jones289/hd_results/5/hdbind-rp-ecfp-1024-1.lit-pcba-TP53-ave.5.pkl hdbind-rp-ecfp-1024-1\n"
     ]
    },
    {
     "name": "stderr",
     "output_type": "stream",
     "text": [
      "\n",
      " 93%|█████████▎| 14/15 [02:09<00:05,  5.90s/it]\u001b[A"
     ]
    },
    {
     "name": "stdout",
     "output_type": "stream",
     "text": [
      "lit-pcba-VDR-ave /p/vast1/jones289/hd_results/5/hdbind-rp-ecfp-1024-1.lit-pcba-VDR-ave.5.pkl hdbind-rp-ecfp-1024-1\n"
     ]
    },
    {
     "name": "stderr",
     "output_type": "stream",
     "text": [
      "\n",
      "100%|██████████| 15/15 [02:25<00:00,  9.67s/it]\u001b[A\n",
      " 71%|███████▏  | 5/7 [02:44<01:07, 33.69s/it]"
     ]
    },
    {
     "name": "stdout",
     "output_type": "stream",
     "text": [
      "hdbind-ecfp-1024-1-100k-lit-pcba: 2\t 0\n"
     ]
    },
    {
     "name": "stderr",
     "output_type": "stream",
     "text": [
      "\n",
      "0it [00:00, ?it/s]\u001b[A\n"
     ]
    },
    {
     "name": "stdout",
     "output_type": "stream",
     "text": [
      "Vina-lit-pcba: 2\t 0\n"
     ]
    },
    {
     "name": "stderr",
     "output_type": "stream",
     "text": [
      "\n",
      "0it [00:00, ?it/s]\u001b[A\n",
      "100%|██████████| 7/7 [02:44<00:00, 23.44s/it]\n",
      "  0%|          | 0/15 [00:00<?, ?it/s]"
     ]
    },
    {
     "name": "stdout",
     "output_type": "stream",
     "text": [
      "0 /p/lustre2/ahashare/zhang30/LIT-PCBA-Data/PKM2-actives.csv\n",
      "PKM2 1 /p/lustre2/ahashare/zhang30/LIT-PCBA-Data/PKM2-actives.csv\n"
     ]
    },
    {
     "name": "stderr",
     "output_type": "stream",
     "text": [
      "\r",
      "  7%|▋         | 1/15 [00:00<00:02,  5.16it/s]"
     ]
    },
    {
     "name": "stdout",
     "output_type": "stream",
     "text": [
      "1 /p/lustre2/ahashare/zhang30/LIT-PCBA-Data/GBA-actives.csv\n",
      "GBA 2 /p/lustre2/ahashare/zhang30/LIT-PCBA-Data/GBA-actives.csv\n"
     ]
    },
    {
     "name": "stderr",
     "output_type": "stream",
     "text": [
      "\r",
      " 13%|█▎        | 2/15 [00:00<00:02,  4.75it/s]"
     ]
    },
    {
     "name": "stdout",
     "output_type": "stream",
     "text": [
      "2 /p/lustre2/ahashare/zhang30/LIT-PCBA-Data/ESR1_ago-actives.csv\n",
      "ESR1_ago 3 /p/lustre2/ahashare/zhang30/LIT-PCBA-Data/ESR1_ago-actives.csv\n",
      "3 /p/lustre2/ahashare/zhang30/LIT-PCBA-Data/MAPK1-actives.csv\n",
      "MAPK1 4 /p/lustre2/ahashare/zhang30/LIT-PCBA-Data/MAPK1-actives.csv\n",
      "4 /p/lustre2/ahashare/zhang30/LIT-PCBA-Data/VDR-actives.csv\n",
      "VDR 5 /p/lustre2/ahashare/zhang30/LIT-PCBA-Data/VDR-actives.csv\n"
     ]
    },
    {
     "name": "stderr",
     "output_type": "stream",
     "text": [
      "\r",
      " 33%|███▎      | 5/15 [00:00<00:01,  7.50it/s]"
     ]
    },
    {
     "name": "stdout",
     "output_type": "stream",
     "text": [
      "5 /p/lustre2/ahashare/zhang30/LIT-PCBA-Data/KAT2A-actives.csv\n",
      "KAT2A 6 /p/lustre2/ahashare/zhang30/LIT-PCBA-Data/KAT2A-actives.csv\n"
     ]
    },
    {
     "name": "stderr",
     "output_type": "stream",
     "text": [
      " 53%|█████▎    | 8/15 [00:01<00:00,  8.48it/s]"
     ]
    },
    {
     "name": "stdout",
     "output_type": "stream",
     "text": [
      "6 /p/lustre2/ahashare/zhang30/LIT-PCBA-Data/ALDH1-actives.csv\n",
      "ALDH1 7 /p/lustre2/ahashare/zhang30/LIT-PCBA-Data/ALDH1-actives.csv\n",
      "7 /p/lustre2/ahashare/zhang30/LIT-PCBA-Data/TP53-actives.csv\n",
      "TP53 8 /p/lustre2/ahashare/zhang30/LIT-PCBA-Data/TP53-actives.csv\n",
      "8 /p/lustre2/ahashare/zhang30/LIT-PCBA-Data/PPARG-actives.csv\n",
      "PPARG 9 /p/lustre2/ahashare/zhang30/LIT-PCBA-Data/PPARG-actives.csv\n",
      "9 /p/lustre2/ahashare/zhang30/LIT-PCBA-Data/ADRB2-actives.csv\n",
      "ADRB2 10 /p/lustre2/ahashare/zhang30/LIT-PCBA-Data/ADRB2-actives.csv\n"
     ]
    },
    {
     "name": "stderr",
     "output_type": "stream",
     "text": [
      " 80%|████████  | 12/15 [00:01<00:00, 10.06it/s]"
     ]
    },
    {
     "name": "stdout",
     "output_type": "stream",
     "text": [
      "10 /p/lustre2/ahashare/zhang30/LIT-PCBA-Data/MTORC1-actives.csv\n",
      "MTORC1 11 /p/lustre2/ahashare/zhang30/LIT-PCBA-Data/MTORC1-actives.csv\n",
      "11 /p/lustre2/ahashare/zhang30/LIT-PCBA-Data/OPRK1-actives.csv\n",
      "OPRK1 12 /p/lustre2/ahashare/zhang30/LIT-PCBA-Data/OPRK1-actives.csv\n",
      "12 /p/lustre2/ahashare/zhang30/LIT-PCBA-Data/IDH1-actives.csv\n",
      "IDH1 13 /p/lustre2/ahashare/zhang30/LIT-PCBA-Data/IDH1-actives.csv\n"
     ]
    },
    {
     "name": "stderr",
     "output_type": "stream",
     "text": [
      "100%|██████████| 15/15 [00:01<00:00,  8.88it/s]"
     ]
    },
    {
     "name": "stdout",
     "output_type": "stream",
     "text": [
      "13 /p/lustre2/ahashare/zhang30/LIT-PCBA-Data/ESR1_ant-actives.csv\n",
      "ESR1_ant 14 /p/lustre2/ahashare/zhang30/LIT-PCBA-Data/ESR1_ant-actives.csv\n",
      "14 /p/lustre2/ahashare/zhang30/LIT-PCBA-Data/FEN1-actives.csv\n",
      "FEN1 15 /p/lustre2/ahashare/zhang30/LIT-PCBA-Data/FEN1-actives.csv\n"
     ]
    },
    {
     "name": "stderr",
     "output_type": "stream",
     "text": [
      "\n"
     ]
    }
   ],
   "source": [
    "litpcba_df = compute_model_metric_df(dataset=\"lit-pcba\", split=\"ave\")"
   ]
  },
  {
   "cell_type": "code",
   "execution_count": 75,
   "metadata": {},
   "outputs": [],
   "source": [
    "litpcba_df, litpcba_smiles_scores_df = litpcba_df"
   ]
  },
  {
   "cell_type": "code",
   "execution_count": 76,
   "metadata": {},
   "outputs": [
    {
     "data": {
      "text/plain": [
       "0     molehd-bpe\n",
       "1     molehd-bpe\n",
       "2     molehd-bpe\n",
       "3     molehd-bpe\n",
       "4     molehd-bpe\n",
       "         ...    \n",
       "25          Vina\n",
       "26          Vina\n",
       "27          Vina\n",
       "28          Vina\n",
       "29          Vina\n",
       "Name: model, Length: 470, dtype: object"
      ]
     },
     "execution_count": 76,
     "metadata": {},
     "output_type": "execute_result"
    }
   ],
   "source": [
    "litpcba_df[\"model\"]"
   ]
  },
  {
   "cell_type": "code",
   "execution_count": 77,
   "metadata": {},
   "outputs": [],
   "source": [
    "litpcba_smiles_scores_df"
   ]
  },
  {
   "cell_type": "code",
   "execution_count": 78,
   "metadata": {},
   "outputs": [],
   "source": [
    "# (12/13/23) this is old, need to update. used for numbers in table\n",
    "# (model_metric_df).groupby([\"model\", \"target\", \"p\"])[\"enrich\"].describe().to_csv(\"summary_ef_stats.csv\")"
   ]
  },
  {
   "cell_type": "code",
   "execution_count": 79,
   "metadata": {},
   "outputs": [],
   "source": [
    "def make_box_plot(enrich_1_df, enrich_10_df, dataset:str):\n",
    "    \n",
    "    enrich_f, enrich_ax = plt.subplots(2,1, figsize=(12,10), sharex=True, sharey=False)\n",
    "    enrich_ax = enrich_ax.flatten()\n",
    "    enrich_1_ax, enrich_10_ax = enrich_ax[0], enrich_ax[1]\n",
    "    \n",
    "    sns.swarmplot(data=enrich_1_df, x=\"model\", y=\"enrich\", \n",
    "                  order=list(model_dict.keys()),\n",
    "                  palette={key: value[1] for key, value in model_dict.items()},\n",
    "                  ax=enrich_1_ax)\n",
    "    enrich_1_ax.set_title(f\"(a) {dataset} Enrichment at 1\\%\", fontdict={\"fontsize\": 18})\n",
    "    enrich_1_ax.set_xlabel(\"\")\n",
    "    enrich_1_ax.set_ylabel(\"\")\n",
    "    enrich_1_ax.tick_params(axis=\"x\", labelrotation=22.5)\n",
    "\n",
    "    enrich_1_ax.set_ylabel(\"EF\")\n",
    "\n",
    "    plt.tight_layout()\n",
    "\n",
    "        \n",
    "    sns.swarmplot(data=enrich_10_df, x=\"model\", y=\"enrich\",\n",
    "                  order=list(model_dict.keys()),\n",
    "                  palette={key: value[1] for key, value in model_dict.items()},\n",
    "                  ax=enrich_10_ax)\n",
    "\n",
    "    enrich_10_ax.set_title(f\"(b) {dataset} Enrichment at 10\\%\", fontdict={\"fontsize\": 18})\n",
    "    enrich_10_ax.set_xlabel(\"\")\n",
    "    enrich_10_ax.set_ylabel(\"\")\n",
    "    enrich_10_ax.tick_params(axis=\"x\", labelrotation=22.5)\n",
    "    labels = [model_dict[item.get_text()][0] for item in enrich_10_ax.get_xticklabels()]\n",
    "\n",
    "    enrich_10_ax.set_xticklabels(labels)\n",
    "    enrich_ax[0].set_ylabel(\"EF\")\n",
    "    enrich_ax[1].set_ylabel(\"EF\")\n",
    "\n",
    "    plt.tight_layout()\n",
    "\n",
    "    enrich_f.savefig(f\"{dataset}-enrich.png\", dpi=600, bbox_inches=\"tight\")\n",
    "\n"
   ]
  },
  {
   "cell_type": "code",
   "execution_count": 80,
   "metadata": {},
   "outputs": [],
   "source": [
    "# take the average over the random seeds dimension for each combo of MODEL X TARGET X P\n",
    "grp_df = (litpcba_df).groupby([\"model\", \"target\", \"p\"])[\"enrich\"].mean().reset_index()\n",
    "grp_df = grp_df.sort_values(by=\"model\")\n"
   ]
  },
  {
   "cell_type": "code",
   "execution_count": 81,
   "metadata": {},
   "outputs": [
    {
     "data": {
      "text/html": [
       "<div>\n",
       "<style scoped>\n",
       "    .dataframe tbody tr th:only-of-type {\n",
       "        vertical-align: middle;\n",
       "    }\n",
       "\n",
       "    .dataframe tbody tr th {\n",
       "        vertical-align: top;\n",
       "    }\n",
       "\n",
       "    .dataframe thead th {\n",
       "        text-align: right;\n",
       "    }\n",
       "</style>\n",
       "<table border=\"1\" class=\"dataframe\">\n",
       "  <thead>\n",
       "    <tr style=\"text-align: right;\">\n",
       "      <th></th>\n",
       "      <th>model</th>\n",
       "      <th>target</th>\n",
       "      <th>p</th>\n",
       "      <th>enrich</th>\n",
       "    </tr>\n",
       "  </thead>\n",
       "  <tbody>\n",
       "    <tr>\n",
       "      <th>29</th>\n",
       "      <td>Vina</td>\n",
       "      <td>VDR</td>\n",
       "      <td>0.1</td>\n",
       "      <td>1.052632</td>\n",
       "    </tr>\n",
       "    <tr>\n",
       "      <th>27</th>\n",
       "      <td>Vina</td>\n",
       "      <td>TP53</td>\n",
       "      <td>0.1</td>\n",
       "      <td>1.593379</td>\n",
       "    </tr>\n",
       "    <tr>\n",
       "      <th>25</th>\n",
       "      <td>Vina</td>\n",
       "      <td>PPARG</td>\n",
       "      <td>0.1</td>\n",
       "      <td>1.110483</td>\n",
       "    </tr>\n",
       "    <tr>\n",
       "      <th>23</th>\n",
       "      <td>Vina</td>\n",
       "      <td>PKM2</td>\n",
       "      <td>0.1</td>\n",
       "      <td>1.824729</td>\n",
       "    </tr>\n",
       "    <tr>\n",
       "      <th>21</th>\n",
       "      <td>Vina</td>\n",
       "      <td>OPRK1</td>\n",
       "      <td>0.1</td>\n",
       "      <td>1.999941</td>\n",
       "    </tr>\n",
       "    <tr>\n",
       "      <th>19</th>\n",
       "      <td>Vina</td>\n",
       "      <td>MTORC1</td>\n",
       "      <td>0.1</td>\n",
       "      <td>0.833031</td>\n",
       "    </tr>\n",
       "    <tr>\n",
       "      <th>17</th>\n",
       "      <td>Vina</td>\n",
       "      <td>MAPK1</td>\n",
       "      <td>0.1</td>\n",
       "      <td>2.375000</td>\n",
       "    </tr>\n",
       "    <tr>\n",
       "      <th>15</th>\n",
       "      <td>Vina</td>\n",
       "      <td>KAT2A</td>\n",
       "      <td>0.1</td>\n",
       "      <td>0.784314</td>\n",
       "    </tr>\n",
       "    <tr>\n",
       "      <th>13</th>\n",
       "      <td>Vina</td>\n",
       "      <td>IDH1</td>\n",
       "      <td>0.1</td>\n",
       "      <td>1.999913</td>\n",
       "    </tr>\n",
       "    <tr>\n",
       "      <th>1</th>\n",
       "      <td>Vina</td>\n",
       "      <td>ADRB2</td>\n",
       "      <td>0.1</td>\n",
       "      <td>0.000000</td>\n",
       "    </tr>\n",
       "    <tr>\n",
       "      <th>3</th>\n",
       "      <td>Vina</td>\n",
       "      <td>ALDH1</td>\n",
       "      <td>0.1</td>\n",
       "      <td>1.593674</td>\n",
       "    </tr>\n",
       "    <tr>\n",
       "      <th>5</th>\n",
       "      <td>Vina</td>\n",
       "      <td>ESR1_ago</td>\n",
       "      <td>0.1</td>\n",
       "      <td>2.492105</td>\n",
       "    </tr>\n",
       "    <tr>\n",
       "      <th>9</th>\n",
       "      <td>Vina</td>\n",
       "      <td>FEN1</td>\n",
       "      <td>0.1</td>\n",
       "      <td>2.079093</td>\n",
       "    </tr>\n",
       "    <tr>\n",
       "      <th>11</th>\n",
       "      <td>Vina</td>\n",
       "      <td>GBA</td>\n",
       "      <td>0.1</td>\n",
       "      <td>2.825939</td>\n",
       "    </tr>\n",
       "    <tr>\n",
       "      <th>7</th>\n",
       "      <td>Vina</td>\n",
       "      <td>ESR1_ant</td>\n",
       "      <td>0.1</td>\n",
       "      <td>1.312765</td>\n",
       "    </tr>\n",
       "    <tr>\n",
       "      <th>47</th>\n",
       "      <td>hdbind-rp-ecfp-1024-1</td>\n",
       "      <td>lit-pcba-MAPK1-ave</td>\n",
       "      <td>0.1</td>\n",
       "      <td>2.557466</td>\n",
       "    </tr>\n",
       "    <tr>\n",
       "      <th>51</th>\n",
       "      <td>hdbind-rp-ecfp-1024-1</td>\n",
       "      <td>lit-pcba-OPRK1-ave</td>\n",
       "      <td>0.1</td>\n",
       "      <td>0.000000</td>\n",
       "    </tr>\n",
       "    <tr>\n",
       "      <th>49</th>\n",
       "      <td>hdbind-rp-ecfp-1024-1</td>\n",
       "      <td>lit-pcba-MTORC1-ave</td>\n",
       "      <td>0.1</td>\n",
       "      <td>2.124229</td>\n",
       "    </tr>\n",
       "    <tr>\n",
       "      <th>59</th>\n",
       "      <td>hdbind-rp-ecfp-1024-1</td>\n",
       "      <td>lit-pcba-VDR-ave</td>\n",
       "      <td>0.1</td>\n",
       "      <td>2.309091</td>\n",
       "    </tr>\n",
       "    <tr>\n",
       "      <th>55</th>\n",
       "      <td>hdbind-rp-ecfp-1024-1</td>\n",
       "      <td>lit-pcba-PPARG-ave</td>\n",
       "      <td>0.1</td>\n",
       "      <td>4.992366</td>\n",
       "    </tr>\n",
       "    <tr>\n",
       "      <th>57</th>\n",
       "      <td>hdbind-rp-ecfp-1024-1</td>\n",
       "      <td>lit-pcba-TP53-ave</td>\n",
       "      <td>0.1</td>\n",
       "      <td>3.235711</td>\n",
       "    </tr>\n",
       "    <tr>\n",
       "      <th>53</th>\n",
       "      <td>hdbind-rp-ecfp-1024-1</td>\n",
       "      <td>lit-pcba-PKM2-ave</td>\n",
       "      <td>0.1</td>\n",
       "      <td>3.235084</td>\n",
       "    </tr>\n",
       "    <tr>\n",
       "      <th>45</th>\n",
       "      <td>hdbind-rp-ecfp-1024-1</td>\n",
       "      <td>lit-pcba-KAT2A-ave</td>\n",
       "      <td>0.1</td>\n",
       "      <td>2.812339</td>\n",
       "    </tr>\n",
       "    <tr>\n",
       "      <th>43</th>\n",
       "      <td>hdbind-rp-ecfp-1024-1</td>\n",
       "      <td>lit-pcba-IDH1-ave</td>\n",
       "      <td>0.1</td>\n",
       "      <td>4.444003</td>\n",
       "    </tr>\n",
       "    <tr>\n",
       "      <th>31</th>\n",
       "      <td>hdbind-rp-ecfp-1024-1</td>\n",
       "      <td>lit-pcba-ADRB2-ave</td>\n",
       "      <td>0.1</td>\n",
       "      <td>0.000000</td>\n",
       "    </tr>\n",
       "    <tr>\n",
       "      <th>33</th>\n",
       "      <td>hdbind-rp-ecfp-1024-1</td>\n",
       "      <td>lit-pcba-ALDH1-ave</td>\n",
       "      <td>0.1</td>\n",
       "      <td>2.398848</td>\n",
       "    </tr>\n",
       "    <tr>\n",
       "      <th>35</th>\n",
       "      <td>hdbind-rp-ecfp-1024-1</td>\n",
       "      <td>lit-pcba-ESR1_ago-ave</td>\n",
       "      <td>0.1</td>\n",
       "      <td>2.995714</td>\n",
       "    </tr>\n",
       "    <tr>\n",
       "      <th>37</th>\n",
       "      <td>hdbind-rp-ecfp-1024-1</td>\n",
       "      <td>lit-pcba-ESR1_ant-ave</td>\n",
       "      <td>0.1</td>\n",
       "      <td>1.947654</td>\n",
       "    </tr>\n",
       "    <tr>\n",
       "      <th>39</th>\n",
       "      <td>hdbind-rp-ecfp-1024-1</td>\n",
       "      <td>lit-pcba-FEN1-ave</td>\n",
       "      <td>0.1</td>\n",
       "      <td>3.043205</td>\n",
       "    </tr>\n",
       "    <tr>\n",
       "      <th>41</th>\n",
       "      <td>hdbind-rp-ecfp-1024-1</td>\n",
       "      <td>lit-pcba-GBA-ave</td>\n",
       "      <td>0.1</td>\n",
       "      <td>3.804570</td>\n",
       "    </tr>\n",
       "    <tr>\n",
       "      <th>71</th>\n",
       "      <td>molehd-bpe</td>\n",
       "      <td>lit-pcba-PPARG-ave</td>\n",
       "      <td>0.1</td>\n",
       "      <td>1.664122</td>\n",
       "    </tr>\n",
       "    <tr>\n",
       "      <th>69</th>\n",
       "      <td>molehd-bpe</td>\n",
       "      <td>lit-pcba-PKM2-ave</td>\n",
       "      <td>0.1</td>\n",
       "      <td>1.610189</td>\n",
       "    </tr>\n",
       "    <tr>\n",
       "      <th>67</th>\n",
       "      <td>molehd-bpe</td>\n",
       "      <td>lit-pcba-MTORC1-ave</td>\n",
       "      <td>0.1</td>\n",
       "      <td>2.082578</td>\n",
       "    </tr>\n",
       "    <tr>\n",
       "      <th>63</th>\n",
       "      <td>molehd-bpe</td>\n",
       "      <td>lit-pcba-ESR1_ant-ave</td>\n",
       "      <td>0.1</td>\n",
       "      <td>2.186142</td>\n",
       "    </tr>\n",
       "    <tr>\n",
       "      <th>61</th>\n",
       "      <td>molehd-bpe</td>\n",
       "      <td>lit-pcba-ESR1_ago-ave</td>\n",
       "      <td>0.1</td>\n",
       "      <td>3.328571</td>\n",
       "    </tr>\n",
       "    <tr>\n",
       "      <th>65</th>\n",
       "      <td>molehd-bpe</td>\n",
       "      <td>lit-pcba-MAPK1-ave</td>\n",
       "      <td>0.1</td>\n",
       "      <td>1.389081</td>\n",
       "    </tr>\n",
       "    <tr>\n",
       "      <th>73</th>\n",
       "      <td>molehd-bpe</td>\n",
       "      <td>lit-pcba-TP53-ave</td>\n",
       "      <td>0.1</td>\n",
       "      <td>1.252533</td>\n",
       "    </tr>\n",
       "  </tbody>\n",
       "</table>\n",
       "</div>"
      ],
      "text/plain": [
       "                    model                 target    p    enrich\n",
       "29                   Vina                    VDR  0.1  1.052632\n",
       "27                   Vina                   TP53  0.1  1.593379\n",
       "25                   Vina                  PPARG  0.1  1.110483\n",
       "23                   Vina                   PKM2  0.1  1.824729\n",
       "21                   Vina                  OPRK1  0.1  1.999941\n",
       "19                   Vina                 MTORC1  0.1  0.833031\n",
       "17                   Vina                  MAPK1  0.1  2.375000\n",
       "15                   Vina                  KAT2A  0.1  0.784314\n",
       "13                   Vina                   IDH1  0.1  1.999913\n",
       "1                    Vina                  ADRB2  0.1  0.000000\n",
       "3                    Vina                  ALDH1  0.1  1.593674\n",
       "5                    Vina               ESR1_ago  0.1  2.492105\n",
       "9                    Vina                   FEN1  0.1  2.079093\n",
       "11                   Vina                    GBA  0.1  2.825939\n",
       "7                    Vina               ESR1_ant  0.1  1.312765\n",
       "47  hdbind-rp-ecfp-1024-1     lit-pcba-MAPK1-ave  0.1  2.557466\n",
       "51  hdbind-rp-ecfp-1024-1     lit-pcba-OPRK1-ave  0.1  0.000000\n",
       "49  hdbind-rp-ecfp-1024-1    lit-pcba-MTORC1-ave  0.1  2.124229\n",
       "59  hdbind-rp-ecfp-1024-1       lit-pcba-VDR-ave  0.1  2.309091\n",
       "55  hdbind-rp-ecfp-1024-1     lit-pcba-PPARG-ave  0.1  4.992366\n",
       "57  hdbind-rp-ecfp-1024-1      lit-pcba-TP53-ave  0.1  3.235711\n",
       "53  hdbind-rp-ecfp-1024-1      lit-pcba-PKM2-ave  0.1  3.235084\n",
       "45  hdbind-rp-ecfp-1024-1     lit-pcba-KAT2A-ave  0.1  2.812339\n",
       "43  hdbind-rp-ecfp-1024-1      lit-pcba-IDH1-ave  0.1  4.444003\n",
       "31  hdbind-rp-ecfp-1024-1     lit-pcba-ADRB2-ave  0.1  0.000000\n",
       "33  hdbind-rp-ecfp-1024-1     lit-pcba-ALDH1-ave  0.1  2.398848\n",
       "35  hdbind-rp-ecfp-1024-1  lit-pcba-ESR1_ago-ave  0.1  2.995714\n",
       "37  hdbind-rp-ecfp-1024-1  lit-pcba-ESR1_ant-ave  0.1  1.947654\n",
       "39  hdbind-rp-ecfp-1024-1      lit-pcba-FEN1-ave  0.1  3.043205\n",
       "41  hdbind-rp-ecfp-1024-1       lit-pcba-GBA-ave  0.1  3.804570\n",
       "71             molehd-bpe     lit-pcba-PPARG-ave  0.1  1.664122\n",
       "69             molehd-bpe      lit-pcba-PKM2-ave  0.1  1.610189\n",
       "67             molehd-bpe    lit-pcba-MTORC1-ave  0.1  2.082578\n",
       "63             molehd-bpe  lit-pcba-ESR1_ant-ave  0.1  2.186142\n",
       "61             molehd-bpe  lit-pcba-ESR1_ago-ave  0.1  3.328571\n",
       "65             molehd-bpe     lit-pcba-MAPK1-ave  0.1  1.389081\n",
       "73             molehd-bpe      lit-pcba-TP53-ave  0.1  1.252533"
      ]
     },
     "execution_count": 81,
     "metadata": {},
     "output_type": "execute_result"
    }
   ],
   "source": [
    "grp_df[grp_df[\"p\"] == .1]"
   ]
  },
  {
   "cell_type": "code",
   "execution_count": 82,
   "metadata": {},
   "outputs": [
    {
     "data": {
      "text/html": [
       "<div>\n",
       "<style scoped>\n",
       "    .dataframe tbody tr th:only-of-type {\n",
       "        vertical-align: middle;\n",
       "    }\n",
       "\n",
       "    .dataframe tbody tr th {\n",
       "        vertical-align: top;\n",
       "    }\n",
       "\n",
       "    .dataframe thead th {\n",
       "        text-align: right;\n",
       "    }\n",
       "</style>\n",
       "<table border=\"1\" class=\"dataframe\">\n",
       "  <thead>\n",
       "    <tr style=\"text-align: right;\">\n",
       "      <th></th>\n",
       "      <th>model</th>\n",
       "      <th>target</th>\n",
       "      <th>p</th>\n",
       "      <th>enrich</th>\n",
       "    </tr>\n",
       "  </thead>\n",
       "  <tbody>\n",
       "    <tr>\n",
       "      <th>0</th>\n",
       "      <td>Vina</td>\n",
       "      <td>ADRB2</td>\n",
       "      <td>0.01</td>\n",
       "      <td>0.000000</td>\n",
       "    </tr>\n",
       "    <tr>\n",
       "      <th>28</th>\n",
       "      <td>Vina</td>\n",
       "      <td>VDR</td>\n",
       "      <td>0.01</td>\n",
       "      <td>1.315071</td>\n",
       "    </tr>\n",
       "    <tr>\n",
       "      <th>26</th>\n",
       "      <td>Vina</td>\n",
       "      <td>TP53</td>\n",
       "      <td>0.01</td>\n",
       "      <td>0.000000</td>\n",
       "    </tr>\n",
       "    <tr>\n",
       "      <th>24</th>\n",
       "      <td>Vina</td>\n",
       "      <td>PPARG</td>\n",
       "      <td>0.01</td>\n",
       "      <td>0.000000</td>\n",
       "    </tr>\n",
       "    <tr>\n",
       "      <th>20</th>\n",
       "      <td>Vina</td>\n",
       "      <td>OPRK1</td>\n",
       "      <td>0.01</td>\n",
       "      <td>0.000000</td>\n",
       "    </tr>\n",
       "    <tr>\n",
       "      <th>18</th>\n",
       "      <td>Vina</td>\n",
       "      <td>MTORC1</td>\n",
       "      <td>0.01</td>\n",
       "      <td>0.000000</td>\n",
       "    </tr>\n",
       "    <tr>\n",
       "      <th>16</th>\n",
       "      <td>Vina</td>\n",
       "      <td>MAPK1</td>\n",
       "      <td>0.01</td>\n",
       "      <td>1.246142</td>\n",
       "    </tr>\n",
       "    <tr>\n",
       "      <th>22</th>\n",
       "      <td>Vina</td>\n",
       "      <td>PKM2</td>\n",
       "      <td>0.01</td>\n",
       "      <td>2.188966</td>\n",
       "    </tr>\n",
       "    <tr>\n",
       "      <th>14</th>\n",
       "      <td>Vina</td>\n",
       "      <td>KAT2A</td>\n",
       "      <td>0.01</td>\n",
       "      <td>0.000000</td>\n",
       "    </tr>\n",
       "    <tr>\n",
       "      <th>2</th>\n",
       "      <td>Vina</td>\n",
       "      <td>ALDH1</td>\n",
       "      <td>0.01</td>\n",
       "      <td>1.269671</td>\n",
       "    </tr>\n",
       "    <tr>\n",
       "      <th>4</th>\n",
       "      <td>Vina</td>\n",
       "      <td>ESR1_ago</td>\n",
       "      <td>0.01</td>\n",
       "      <td>0.000000</td>\n",
       "    </tr>\n",
       "    <tr>\n",
       "      <th>6</th>\n",
       "      <td>Vina</td>\n",
       "      <td>ESR1_ant</td>\n",
       "      <td>0.01</td>\n",
       "      <td>7.614035</td>\n",
       "    </tr>\n",
       "    <tr>\n",
       "      <th>8</th>\n",
       "      <td>Vina</td>\n",
       "      <td>FEN1</td>\n",
       "      <td>0.01</td>\n",
       "      <td>0.989607</td>\n",
       "    </tr>\n",
       "    <tr>\n",
       "      <th>10</th>\n",
       "      <td>Vina</td>\n",
       "      <td>GBA</td>\n",
       "      <td>0.01</td>\n",
       "      <td>4.346457</td>\n",
       "    </tr>\n",
       "    <tr>\n",
       "      <th>12</th>\n",
       "      <td>Vina</td>\n",
       "      <td>IDH1</td>\n",
       "      <td>0.01</td>\n",
       "      <td>0.000000</td>\n",
       "    </tr>\n",
       "    <tr>\n",
       "      <th>48</th>\n",
       "      <td>hdbind-rp-ecfp-1024-1</td>\n",
       "      <td>lit-pcba-MTORC1-ave</td>\n",
       "      <td>0.01</td>\n",
       "      <td>0.830020</td>\n",
       "    </tr>\n",
       "    <tr>\n",
       "      <th>50</th>\n",
       "      <td>hdbind-rp-ecfp-1024-1</td>\n",
       "      <td>lit-pcba-OPRK1-ave</td>\n",
       "      <td>0.01</td>\n",
       "      <td>0.000000</td>\n",
       "    </tr>\n",
       "    <tr>\n",
       "      <th>52</th>\n",
       "      <td>hdbind-rp-ecfp-1024-1</td>\n",
       "      <td>lit-pcba-PKM2-ave</td>\n",
       "      <td>0.01</td>\n",
       "      <td>5.727473</td>\n",
       "    </tr>\n",
       "    <tr>\n",
       "      <th>54</th>\n",
       "      <td>hdbind-rp-ecfp-1024-1</td>\n",
       "      <td>lit-pcba-PPARG-ave</td>\n",
       "      <td>0.01</td>\n",
       "      <td>17.128571</td>\n",
       "    </tr>\n",
       "    <tr>\n",
       "      <th>56</th>\n",
       "      <td>hdbind-rp-ecfp-1024-1</td>\n",
       "      <td>lit-pcba-TP53-ave</td>\n",
       "      <td>0.01</td>\n",
       "      <td>12.183732</td>\n",
       "    </tr>\n",
       "    <tr>\n",
       "      <th>58</th>\n",
       "      <td>hdbind-rp-ecfp-1024-1</td>\n",
       "      <td>lit-pcba-VDR-ave</td>\n",
       "      <td>0.01</td>\n",
       "      <td>6.606061</td>\n",
       "    </tr>\n",
       "    <tr>\n",
       "      <th>46</th>\n",
       "      <td>hdbind-rp-ecfp-1024-1</td>\n",
       "      <td>lit-pcba-MAPK1-ave</td>\n",
       "      <td>0.01</td>\n",
       "      <td>5.819744</td>\n",
       "    </tr>\n",
       "    <tr>\n",
       "      <th>36</th>\n",
       "      <td>hdbind-rp-ecfp-1024-1</td>\n",
       "      <td>lit-pcba-ESR1_ant-ave</td>\n",
       "      <td>0.01</td>\n",
       "      <td>0.000000</td>\n",
       "    </tr>\n",
       "    <tr>\n",
       "      <th>44</th>\n",
       "      <td>hdbind-rp-ecfp-1024-1</td>\n",
       "      <td>lit-pcba-KAT2A-ave</td>\n",
       "      <td>0.01</td>\n",
       "      <td>9.581685</td>\n",
       "    </tr>\n",
       "    <tr>\n",
       "      <th>32</th>\n",
       "      <td>hdbind-rp-ecfp-1024-1</td>\n",
       "      <td>lit-pcba-ALDH1-ave</td>\n",
       "      <td>0.01</td>\n",
       "      <td>4.412813</td>\n",
       "    </tr>\n",
       "    <tr>\n",
       "      <th>34</th>\n",
       "      <td>hdbind-rp-ecfp-1024-1</td>\n",
       "      <td>lit-pcba-ESR1_ago-ave</td>\n",
       "      <td>0.01</td>\n",
       "      <td>0.000000</td>\n",
       "    </tr>\n",
       "    <tr>\n",
       "      <th>30</th>\n",
       "      <td>hdbind-rp-ecfp-1024-1</td>\n",
       "      <td>lit-pcba-ADRB2-ave</td>\n",
       "      <td>0.01</td>\n",
       "      <td>0.000000</td>\n",
       "    </tr>\n",
       "    <tr>\n",
       "      <th>38</th>\n",
       "      <td>hdbind-rp-ecfp-1024-1</td>\n",
       "      <td>lit-pcba-FEN1-ave</td>\n",
       "      <td>0.01</td>\n",
       "      <td>11.188356</td>\n",
       "    </tr>\n",
       "    <tr>\n",
       "      <th>40</th>\n",
       "      <td>hdbind-rp-ecfp-1024-1</td>\n",
       "      <td>lit-pcba-GBA-ave</td>\n",
       "      <td>0.01</td>\n",
       "      <td>9.750041</td>\n",
       "    </tr>\n",
       "    <tr>\n",
       "      <th>42</th>\n",
       "      <td>hdbind-rp-ecfp-1024-1</td>\n",
       "      <td>lit-pcba-IDH1-ave</td>\n",
       "      <td>0.01</td>\n",
       "      <td>25.533272</td>\n",
       "    </tr>\n",
       "    <tr>\n",
       "      <th>70</th>\n",
       "      <td>molehd-bpe</td>\n",
       "      <td>lit-pcba-PPARG-ave</td>\n",
       "      <td>0.01</td>\n",
       "      <td>15.571429</td>\n",
       "    </tr>\n",
       "    <tr>\n",
       "      <th>68</th>\n",
       "      <td>molehd-bpe</td>\n",
       "      <td>lit-pcba-PKM2-ave</td>\n",
       "      <td>0.01</td>\n",
       "      <td>1.395154</td>\n",
       "    </tr>\n",
       "    <tr>\n",
       "      <th>66</th>\n",
       "      <td>molehd-bpe</td>\n",
       "      <td>lit-pcba-MTORC1-ave</td>\n",
       "      <td>0.01</td>\n",
       "      <td>8.715211</td>\n",
       "    </tr>\n",
       "    <tr>\n",
       "      <th>64</th>\n",
       "      <td>molehd-bpe</td>\n",
       "      <td>lit-pcba-MAPK1-ave</td>\n",
       "      <td>0.01</td>\n",
       "      <td>0.517311</td>\n",
       "    </tr>\n",
       "    <tr>\n",
       "      <th>72</th>\n",
       "      <td>molehd-bpe</td>\n",
       "      <td>lit-pcba-TP53-ave</td>\n",
       "      <td>0.01</td>\n",
       "      <td>6.091866</td>\n",
       "    </tr>\n",
       "    <tr>\n",
       "      <th>62</th>\n",
       "      <td>molehd-bpe</td>\n",
       "      <td>lit-pcba-ESR1_ant-ave</td>\n",
       "      <td>0.01</td>\n",
       "      <td>0.000000</td>\n",
       "    </tr>\n",
       "    <tr>\n",
       "      <th>60</th>\n",
       "      <td>molehd-bpe</td>\n",
       "      <td>lit-pcba-ESR1_ago-ave</td>\n",
       "      <td>0.01</td>\n",
       "      <td>0.000000</td>\n",
       "    </tr>\n",
       "  </tbody>\n",
       "</table>\n",
       "</div>"
      ],
      "text/plain": [
       "                    model                 target     p     enrich\n",
       "0                    Vina                  ADRB2  0.01   0.000000\n",
       "28                   Vina                    VDR  0.01   1.315071\n",
       "26                   Vina                   TP53  0.01   0.000000\n",
       "24                   Vina                  PPARG  0.01   0.000000\n",
       "20                   Vina                  OPRK1  0.01   0.000000\n",
       "18                   Vina                 MTORC1  0.01   0.000000\n",
       "16                   Vina                  MAPK1  0.01   1.246142\n",
       "22                   Vina                   PKM2  0.01   2.188966\n",
       "14                   Vina                  KAT2A  0.01   0.000000\n",
       "2                    Vina                  ALDH1  0.01   1.269671\n",
       "4                    Vina               ESR1_ago  0.01   0.000000\n",
       "6                    Vina               ESR1_ant  0.01   7.614035\n",
       "8                    Vina                   FEN1  0.01   0.989607\n",
       "10                   Vina                    GBA  0.01   4.346457\n",
       "12                   Vina                   IDH1  0.01   0.000000\n",
       "48  hdbind-rp-ecfp-1024-1    lit-pcba-MTORC1-ave  0.01   0.830020\n",
       "50  hdbind-rp-ecfp-1024-1     lit-pcba-OPRK1-ave  0.01   0.000000\n",
       "52  hdbind-rp-ecfp-1024-1      lit-pcba-PKM2-ave  0.01   5.727473\n",
       "54  hdbind-rp-ecfp-1024-1     lit-pcba-PPARG-ave  0.01  17.128571\n",
       "56  hdbind-rp-ecfp-1024-1      lit-pcba-TP53-ave  0.01  12.183732\n",
       "58  hdbind-rp-ecfp-1024-1       lit-pcba-VDR-ave  0.01   6.606061\n",
       "46  hdbind-rp-ecfp-1024-1     lit-pcba-MAPK1-ave  0.01   5.819744\n",
       "36  hdbind-rp-ecfp-1024-1  lit-pcba-ESR1_ant-ave  0.01   0.000000\n",
       "44  hdbind-rp-ecfp-1024-1     lit-pcba-KAT2A-ave  0.01   9.581685\n",
       "32  hdbind-rp-ecfp-1024-1     lit-pcba-ALDH1-ave  0.01   4.412813\n",
       "34  hdbind-rp-ecfp-1024-1  lit-pcba-ESR1_ago-ave  0.01   0.000000\n",
       "30  hdbind-rp-ecfp-1024-1     lit-pcba-ADRB2-ave  0.01   0.000000\n",
       "38  hdbind-rp-ecfp-1024-1      lit-pcba-FEN1-ave  0.01  11.188356\n",
       "40  hdbind-rp-ecfp-1024-1       lit-pcba-GBA-ave  0.01   9.750041\n",
       "42  hdbind-rp-ecfp-1024-1      lit-pcba-IDH1-ave  0.01  25.533272\n",
       "70             molehd-bpe     lit-pcba-PPARG-ave  0.01  15.571429\n",
       "68             molehd-bpe      lit-pcba-PKM2-ave  0.01   1.395154\n",
       "66             molehd-bpe    lit-pcba-MTORC1-ave  0.01   8.715211\n",
       "64             molehd-bpe     lit-pcba-MAPK1-ave  0.01   0.517311\n",
       "72             molehd-bpe      lit-pcba-TP53-ave  0.01   6.091866\n",
       "62             molehd-bpe  lit-pcba-ESR1_ant-ave  0.01   0.000000\n",
       "60             molehd-bpe  lit-pcba-ESR1_ago-ave  0.01   0.000000"
      ]
     },
     "execution_count": 82,
     "metadata": {},
     "output_type": "execute_result"
    }
   ],
   "source": [
    "grp_df[grp_df[\"p\"] == .01]"
   ]
  },
  {
   "cell_type": "code",
   "execution_count": 83,
   "metadata": {
    "scrolled": false
   },
   "outputs": [
    {
     "data": {
      "image/png": "[encoded data removed]",
      "text/plain": [
       "<Figure size 864x720 with 2 Axes>"
      ]
     },
     "metadata": {
      "needs_background": "light"
     },
     "output_type": "display_data"
    }
   ],
   "source": [
    "make_box_plot(enrich_1_df=grp_df[grp_df[\"p\"] == .01], \n",
    "          enrich_10_df=grp_df[grp_df[\"p\"] == .1],\n",
    "             dataset=\"DUDE\")"
   ]
  },
  {
   "cell_type": "code",
   "execution_count": 84,
   "metadata": {},
   "outputs": [
    {
     "data": {
      "image/png": "[encoded data removed]",
      "text/plain": [
       "<Figure size 864x720 with 2 Axes>"
      ]
     },
     "metadata": {
      "needs_background": "light"
     },
     "output_type": "display_data"
    }
   ],
   "source": [
    "make_box_plot(enrich_1_df=grp_df[grp_df[\"p\"] == .01], \n",
    "          enrich_10_df=grp_df[grp_df[\"p\"] == .1],\n",
    "             dataset=\"lit-pcba\")"
   ]
  },
  {
   "cell_type": "markdown",
   "metadata": {},
   "source": [
    "- should add the average EF (median?) to the labels on the horizontal axis\n",
    "- scale the point size by standard deviation?\n",
    "- standard scale the molformer embeddings?"
   ]
  },
  {
   "cell_type": "code",
   "execution_count": 18,
   "metadata": {},
   "outputs": [],
   "source": [
    "def timing_plot(input_tup_list:list, dataset:str):\n",
    "    \n",
    "    \n",
    "    f, ax = plt.subplots(1, 1, figsize=(12,10))\n",
    "    \n",
    "    df_dict = {\"target\": [], \"model\": [], \"time\": [], \"format_name\": []}\n",
    "    for model_name, format_name in input_tup_list:\n",
    "        \n",
    "        data_path_list = list(data_p.glob(f\"{model_name}.{dataset}*.pkl\"))\n",
    "        \n",
    "        for path in data_path_list:\n",
    "            with open(path, \"rb\") as handle:\n",
    "                data = pickle.load(handle)\n",
    "                \n",
    "                test_time_list = []\n",
    "                for i in range(10):\n",
    "                    df_dict[\"time\"].append(data[\"trials\"][i][\"test_time\"]/data[\"y_test\"].shape[0])\n",
    "                    df_dict[\"target\"].append(path.name)\n",
    "                    df_dict[\"model\"].append(model_name)\n",
    "                    df_dict[\"format_name\"].append(format_name)\n",
    "                    \n",
    "\n",
    "    df = pd.DataFrame(df_dict)\n",
    "    xlabels = (df.groupby([\"model\", \"format_name\"]).median().reset_index()[\"format_name\"]).values.tolist()\n",
    "#     import pdb\n",
    "#     pdb.set_trace()\n",
    "    sns.swarmplot(data=df.groupby([\"target\", \"model\", \"format_name\"]).median().reset_index(),\n",
    "                  order=[x for x in model_dict.keys()],\n",
    "                  x=\"model\", y=\"time\", ax=ax)\n",
    "\n",
    "    ax.tick_params(axis=\"x\", labelrotation=22.5)\n",
    "    ax.set_yscale(\"log\")\n",
    "#     labels = [item.get_text() for item in ax.get_xticklabels()]\n",
    "#     labels = [x[1] for x in input_tup_list]\n",
    "    ax.set_xticklabels(xlabels)\n",
    "    \n",
    "    f.savefig(\"lit-pcba-timing.png\", dpi=600, bbox_inches=\"tight\")\n",
    "    \n",
    "    return df\n",
    "    "
   ]
  },
  {
   "cell_type": "code",
   "execution_count": 19,
   "metadata": {
    "scrolled": false
   },
   "outputs": [
    {
     "ename": "UnpicklingError",
     "evalue": "A load persistent id instruction was encountered,\nbut no persistent_load function was specified.",
     "output_type": "error",
     "traceback": [
      "\u001b[0;31m---------------------------------------------------------------------------\u001b[0m",
      "\u001b[0;31mUnpicklingError\u001b[0m                           Traceback (most recent call last)",
      "Input \u001b[0;32mIn [19]\u001b[0m, in \u001b[0;36m<module>\u001b[0;34m\u001b[0m\n\u001b[0;32m----> 1\u001b[0m time_df \u001b[38;5;241m=\u001b[39m \u001b[43mtiming_plot\u001b[49m\u001b[43m(\u001b[49m\u001b[43m[\u001b[49m\u001b[43m(\u001b[49m\u001b[38;5;124;43m\"\u001b[39;49m\u001b[38;5;124;43mmlp-1024-1\u001b[39;49m\u001b[38;5;124;43m\"\u001b[39;49m\u001b[43m,\u001b[49m\u001b[43m \u001b[49m\u001b[38;5;124;43m\"\u001b[39;49m\u001b[38;5;124;43mMLP (GPU)\u001b[39;49m\u001b[38;5;124;43m\"\u001b[39;49m\u001b[43m)\u001b[49m\u001b[43m,\u001b[49m\n\u001b[1;32m      2\u001b[0m \u001b[43m            \u001b[49m\u001b[43m(\u001b[49m\u001b[38;5;124;43m\"\u001b[39;49m\u001b[38;5;124;43mhdbind-rp-molformer\u001b[39;49m\u001b[38;5;124;43m\"\u001b[39;49m\u001b[43m,\u001b[49m\u001b[43m \u001b[49m\u001b[38;5;124;43m\"\u001b[39;49m\u001b[38;5;124;43mRP-MolFormer (GPU)\u001b[39;49m\u001b[38;5;124;43m\"\u001b[39;49m\u001b[43m)\u001b[49m\u001b[43m,\u001b[49m\n\u001b[1;32m      3\u001b[0m \u001b[43m            \u001b[49m\u001b[43m(\u001b[49m\u001b[38;5;124;43m\"\u001b[39;49m\u001b[38;5;124;43mmolehd-bpe\u001b[39;49m\u001b[38;5;124;43m\"\u001b[39;49m\u001b[43m,\u001b[49m\u001b[43m \u001b[49m\u001b[38;5;124;43m\"\u001b[39;49m\u001b[38;5;124;43mMoleHD-BPE (CPU)\u001b[39;49m\u001b[38;5;124;43m\"\u001b[39;49m\u001b[43m)\u001b[49m\u001b[43m,\u001b[49m\n\u001b[1;32m      4\u001b[0m \u001b[43m            \u001b[49m\u001b[43m(\u001b[49m\u001b[38;5;124;43m\"\u001b[39;49m\u001b[38;5;124;43mhdbind-ecfp-1024-1-100\u001b[39;49m\u001b[38;5;124;43m\"\u001b[39;49m\u001b[43m,\u001b[49m\u001b[43m \u001b[49m\u001b[38;5;124;43m\"\u001b[39;49m\u001b[38;5;124;43mRP-ECFP-100 (GPU)\u001b[39;49m\u001b[38;5;124;43m\"\u001b[39;49m\u001b[43m)\u001b[49m\u001b[43m,\u001b[49m\n\u001b[1;32m      5\u001b[0m \u001b[43m                      \u001b[49m\u001b[43m(\u001b[49m\u001b[38;5;124;43m\"\u001b[39;49m\u001b[38;5;124;43mhdbind-ecfp-1024-1-1k\u001b[39;49m\u001b[38;5;124;43m\"\u001b[39;49m\u001b[43m,\u001b[49m\u001b[43m \u001b[49m\u001b[38;5;124;43m\"\u001b[39;49m\u001b[38;5;124;43mRP-ECFP-1k (GPU)\u001b[39;49m\u001b[38;5;124;43m\"\u001b[39;49m\u001b[43m)\u001b[49m\u001b[43m,\u001b[49m\n\u001b[1;32m      6\u001b[0m \u001b[43m                      \u001b[49m\u001b[43m(\u001b[49m\u001b[38;5;124;43m\"\u001b[39;49m\u001b[38;5;124;43mhdbind-ecfp-1024-1-100k\u001b[39;49m\u001b[38;5;124;43m\"\u001b[39;49m\u001b[43m,\u001b[49m\u001b[43m \u001b[49m\u001b[38;5;124;43m\"\u001b[39;49m\u001b[38;5;124;43mRP-ECFP-100k (GPU)\u001b[39;49m\u001b[38;5;124;43m\"\u001b[39;49m\u001b[43m)\u001b[49m\u001b[43m]\u001b[49m\u001b[43m,\u001b[49m\u001b[43m \u001b[49m\n\u001b[1;32m      7\u001b[0m \u001b[43m                      \u001b[49m\u001b[43mdataset\u001b[49m\u001b[38;5;241;43m=\u001b[39;49m\u001b[38;5;124;43m\"\u001b[39;49m\u001b[38;5;124;43mlit-pcba\u001b[39;49m\u001b[38;5;124;43m\"\u001b[39;49m\u001b[43m)\u001b[49m\n",
      "Input \u001b[0;32mIn [18]\u001b[0m, in \u001b[0;36mtiming_plot\u001b[0;34m(input_tup_list, dataset)\u001b[0m\n\u001b[1;32m     11\u001b[0m \u001b[38;5;28;01mfor\u001b[39;00m path \u001b[38;5;129;01min\u001b[39;00m data_path_list:\n\u001b[1;32m     12\u001b[0m     \u001b[38;5;28;01mwith\u001b[39;00m \u001b[38;5;28mopen\u001b[39m(path, \u001b[38;5;124m\"\u001b[39m\u001b[38;5;124mrb\u001b[39m\u001b[38;5;124m\"\u001b[39m) \u001b[38;5;28;01mas\u001b[39;00m handle:\n\u001b[0;32m---> 13\u001b[0m         data \u001b[38;5;241m=\u001b[39m \u001b[43mpickle\u001b[49m\u001b[38;5;241;43m.\u001b[39;49m\u001b[43mload\u001b[49m\u001b[43m(\u001b[49m\u001b[43mhandle\u001b[49m\u001b[43m)\u001b[49m\n\u001b[1;32m     15\u001b[0m         test_time_list \u001b[38;5;241m=\u001b[39m []\n\u001b[1;32m     16\u001b[0m         \u001b[38;5;28;01mfor\u001b[39;00m i \u001b[38;5;129;01min\u001b[39;00m \u001b[38;5;28mrange\u001b[39m(\u001b[38;5;241m10\u001b[39m):\n",
      "\u001b[0;31mUnpicklingError\u001b[0m: A load persistent id instruction was encountered,\nbut no persistent_load function was specified."
     ]
    },
    {
     "data": {
      "image/png": "[encoded data removed]",
      "text/plain": [
       "<Figure size 864x720 with 1 Axes>"
      ]
     },
     "metadata": {
      "needs_background": "light"
     },
     "output_type": "display_data"
    }
   ],
   "source": [
    "time_df = timing_plot([(\"mlp-1024-1\", \"MLP (GPU)\"),\n",
    "            (\"hdbind-rp-molformer\", \"RP-MolFormer (GPU)\"),\n",
    "            (\"molehd-bpe\", \"MoleHD-BPE (CPU)\"),\n",
    "            (\"hdbind-ecfp-1024-1-100\", \"RP-ECFP-100 (GPU)\"),\n",
    "                      (\"hdbind-ecfp-1024-1-1k\", \"RP-ECFP-1k (GPU)\"),\n",
    "                      (\"hdbind-ecfp-1024-1-100k\", \"RP-ECFP-100k (GPU)\")], \n",
    "                      dataset=\"lit-pcba\")"
   ]
  },
  {
   "cell_type": "code",
   "execution_count": null,
   "metadata": {},
   "outputs": [],
   "source": [
    "avg_times = time_df.groupby([\"model\"]).mean()[\"time\"].reset_index()\n",
    "# avg_times.reset_index()"
   ]
  },
  {
   "cell_type": "code",
   "execution_count": null,
   "metadata": {},
   "outputs": [],
   "source": [
    "avg_times[\"time\"][0], avg_times[\"model\"][0]"
   ]
  },
  {
   "cell_type": "code",
   "execution_count": null,
   "metadata": {},
   "outputs": [],
   "source": [
    "avg_times[\"time\"][1], avg_times[\"model\"][1]"
   ]
  },
  {
   "cell_type": "code",
   "execution_count": null,
   "metadata": {},
   "outputs": [],
   "source": [
    "avg_times[\"time\"][2], avg_times[\"model\"][2]"
   ]
  },
  {
   "cell_type": "code",
   "execution_count": null,
   "metadata": {},
   "outputs": [],
   "source": [
    "avg_times[\"time\"][3], avg_times[\"model\"][3]"
   ]
  },
  {
   "cell_type": "code",
   "execution_count": null,
   "metadata": {},
   "outputs": [],
   "source": [
    "avg_times[\"time\"][4], avg_times[\"model\"][4]"
   ]
  },
  {
   "cell_type": "code",
   "execution_count": null,
   "metadata": {},
   "outputs": [],
   "source": [
    "avg_times[\"time\"][5], avg_times[\"model\"][5]"
   ]
  },
  {
   "cell_type": "markdown",
   "metadata": {},
   "source": [
    "---"
   ]
  },
  {
   "cell_type": "code",
   "execution_count": null,
   "metadata": {},
   "outputs": [],
   "source": [
    "100 * abs( avg_times[\"time\"][0] - avg_times[\"time\"][4])/(avg_times[\"time\"][4])"
   ]
  },
  {
   "cell_type": "code",
   "execution_count": null,
   "metadata": {},
   "outputs": [],
   "source": [
    "avg_times[\"time\"][4] / avg_times[\"time\"][0]"
   ]
  },
  {
   "cell_type": "code",
   "execution_count": null,
   "metadata": {},
   "outputs": [],
   "source": [
    "avg_times[\"time\"][5] / avg_times[\"time\"][0]"
   ]
  },
  {
   "cell_type": "code",
   "execution_count": null,
   "metadata": {},
   "outputs": [],
   "source": [
    "avg_times[\"time\"][0] / avg_times[\"time\"][1]"
   ]
  },
  {
   "cell_type": "markdown",
   "metadata": {},
   "source": [
    "- theres way more parameters in the hdbind-rp-molformer as compared to the mlp\n",
    "- (1024 * 10000 = 10.24M parameters)\n",
    "- (\n",
    "- can D go higher? a .85x slow down from 100 to 10000 seems pretty small, there also seems to be a considerable increase in accuracy when pushing D higher..."
   ]
  },
  {
   "cell_type": "code",
   "execution_count": null,
   "metadata": {},
   "outputs": [],
   "source": []
  }
 ],
 "metadata": {
  "kernelspec": {
   "display_name": "dtra_reactivator",
   "language": "python",
   "name": "dtra_reactivator"
  },
  "language_info": {
   "codemirror_mode": {
    "name": "ipython",
    "version": 3
   },
   "file_extension": ".py",
   "mimetype": "text/x-python",
   "name": "python",
   "nbconvert_exporter": "python",
   "pygments_lexer": "ipython3",
   "version": "3.8.12"
  }
 },
 "nbformat": 4,
 "nbformat_minor": 4
}
