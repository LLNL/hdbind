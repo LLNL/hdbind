{
 "cells": [
  {
   "cell_type": "markdown",
   "metadata": {},
   "source": [
    "# LIT-PCBA \n",
    "this dataset is a proposed \"more difficult\" test than DUD-E. I used a 75/25 (sklearn default) stratified split. The dataset is heavily imbalanced, like DUD-E."
   ]
  },
  {
   "cell_type": "code",
   "execution_count": 1,
   "metadata": {},
   "outputs": [],
   "source": [
    "import pickle\n",
    "from sklearn.metrics import roc_auc_score\n",
    "import numpy as np\n",
    "import seaborn as sns\n",
    "import torch\n",
    "import seaborn as sns\n",
    "from tqdm import tqdm\n",
    "import pandas as pd\n",
    "from pathlib import Path\n",
    "from sklearn.metrics import f1_score, recall_score\n",
    "import matplotlib.pyplot as plt\n",
    "import sys\n",
    "# sys.path.append('..')\n",
    "sys.path.insert(0, \"/g/g13/jones289/workspace/hd-cuda-master\")\n",
    "# print(sys.path)\n",
    "import hdpy\n",
    "import hdpy.ecfp\n",
    "# from hdpy.analysis import load_pkl\n",
    "from hdpy.metrics import compute_enrichment_factor\n",
    "from pathlib import Path\n",
    "\n",
    "\n",
    "plt.rc('text', usetex=True)\n",
    "plt.rc('font', family='serif')\n",
    "plt.rc('xtick', labelsize=15)\n",
    "plt.rc('ytick', labelsize=15)\n",
    "plt.rc('axes', labelsize=17)\n",
    "plt.rc('figure', titlesize=20)\n",
    "\n",
    "\n",
    "# SEED=125\n",
    "SEED=5\n",
    "# SEED=2\n",
    "\n",
    "data_p = Path(f\"/p/vast1/jones289/hd_results/{SEED}\")"
   ]
  },
  {
   "cell_type": "code",
   "execution_count": 2,
   "metadata": {},
   "outputs": [],
   "source": [
    "green_color_pal = sns.color_palette(\"Greens\", 10)\n",
    "blue_color_pal = sns.color_palette(\"Blues\", 10)\n",
    "rocket_color_pal = sns.color_palette(\"rocket\", 10)"
   ]
  },
  {
   "cell_type": "code",
   "execution_count": 126,
   "metadata": {},
   "outputs": [],
   "source": [
    "model_dict = {\n",
    "    \"molehd-bpe\": (\"MoleHD-BPE\", rocket_color_pal[4]),\n",
    "    \"hdbind-rp-molformer\": (\"HDBind+MolFormer\", green_color_pal[4]),\n",
    "    \"hdbind-ecfp-1024-1-100\": (\"HDBind+ECFP-100\", green_color_pal[6]),\n",
    "    \"hdbind-ecfp-1024-1-1k\": (\"HDBind+ECFP-1k\", green_color_pal[6]),\n",
    "    \"hdbind-rp-ecfp-1024-1\": (\"HDBind+ECFP-10k\", green_color_pal[6]),\n",
    "    \"hdbind-ecfp-1024-1-100k\": (\"HDBind+ECFP-100k\", green_color_pal[9]),\n",
    "#     \"hdbind-rp-ecfp-1024-2\": (\"HDBind+ECFP-1024-1\", rocket_color_pal[2]),\n",
    "#     \"hdbind-rp-ecfp-1024-4\": (\"HDBind+ECFP-1024-1\", rocket_color_pal[2]),\n",
    "#     \"hdbind-rp-ecfp-2048-1\": (\"HDBind+ECFP-1024-1\", rocket_color_pal[2]),\n",
    "#     \"hdbind-rp-ecfp-2048-2\": (\"HDBind+ECFP-1024-1\", rocket_color_pal[2]),\n",
    "#     \"hdbind-rp-ecfp-2048-4\": (\"HDBind+ECFP-1024-1\", rocket_color_pal[2]),\n",
    "    \"mlp-1024-1\": (\"MLP\", blue_color_pal[7]),\n",
    "# \"selfies.atomwise\": green_color_pal[4],\n",
    "#     \"ecfp\": green_color_pal[6],\n",
    "#     \"rp\": green_color_pal[8],\n",
    "#     \"rf\": blue_color_pal[4],\n",
    "#     \"mlp\": blue_color_pal[7],\n",
    "#     \"HDC-MLP\": green_color_pal[9],\n",
    "#     \"HDC-RF\": green_color_pal[9],\n",
    "    \"Vina\": (\"Vina\", \"salmon\"),\n",
    "}\n",
    "\n",
    "\n",
    "# model_order_list = [\n",
    "#     (\"hdbind-rp-molformer\", )\n",
    "#     (\"smiles-pe.atomwise.0\", \"MoleHD-Atomw.\"),\n",
    "#     (\"smiles-pe.bpe.0\", \"MoleHD-BPE\"),\n",
    "#     (\"smiles-pe.ngram.1\", \"SMILES uni-gram\"),\n",
    "#     (\"selfies.atomwise\", \"HDBind-SELFIES\"),\n",
    "#     (\"selfies.selfies-charwise\", \"SELFIES uni-gram\"),\n",
    "#     (\"ecfp\", \"HDBind-ECFP\"),\n",
    "#     (\"rp\", \"HDBind-ECFP+RP\"),\n",
    "#     (\"rf\", \"RF\"),\n",
    "#     (\"mlp\", \"MLP\"),\n",
    "#     (\"Vina\", \"Vina\")\n",
    "# ]\n",
    "\n",
    "\n",
    "# model_name_dict = {\n",
    "#     \"hdbind-rp-molformer\": \"HDBind+MolFormer\"\n",
    "#     \"smiles-pe.atomwise.0\": \"MoleHD-Atomw.\", \n",
    "#     \"smiles-pe.bpe.0\": \"MoleHD-BPE\",\n",
    "#     \"smiles-pe.ngram.1\": \"SMILES uni-gram\",\n",
    "#     \"selfies.atomwise\": \"HDBind-SELFIES\",\n",
    "#     \"selfies.selfies-charwise\": \"SELFIES uni-gram\",\n",
    "#     \"ecfp\": \"HDBind-ECFP\",\n",
    "#     \"rp\": \"HDBind-RPFP\",\n",
    "#     \"rf\": \"RF\",\n",
    "#     \"mlp\": \"MLP\",\n",
    "#     \"Vina\": \"Vina\",\n",
    "#     \"HDC-MLP\": \"HDC-MLP\",\n",
    "#     \"HDC-RF\": \"HDC-RF\"\n",
    "# }"
   ]
  },
  {
   "cell_type": "markdown",
   "metadata": {},
   "source": [
    "# LIT-PCBA Results"
   ]
  },
  {
   "cell_type": "markdown",
   "metadata": {},
   "source": [
    "export CONDA_ROOT=/usr/workspace/jones289/anaconda3-power #installed using the LC installer script\n",
    "export PATH=$CONDA_ROOT/bin:$PATH\n",
    "export CONDA_EXE=$CONDA_ROOT/bin/conda\n",
    "ml load gcc/11\n",
    "export PYTHONPATH=$PWD:$PYTHONPATH\n",
    "source activate /usr/workspace/jones289/anaconda3-power/envs/opence-1.8.0"
   ]
  },
  {
   "cell_type": "code",
   "execution_count": 60,
   "metadata": {},
   "outputs": [],
   "source": [
    "from sklearn.metrics import recall_score, precision_score, f1_score, roc_auc_score\n",
    "\n",
    "\n",
    "def compute_metrics(y_pred, y_score, y_true, p):\n",
    "#     import pdb\n",
    "#     pdb.set_trace()\n",
    "\n",
    "\n",
    "    if y_score.squeeze().ndim == 2:\n",
    "        enrich = float(compute_enrichment_factor(scores=y_score[:, 1], labels=y_true, n_percent=p))\n",
    "        roc = roc_auc_score(y_score=y_score[:, 1], y_true=y_true)\n",
    "    else:\n",
    "        enrich = float(compute_enrichment_factor(scores=y_score, labels=y_true, n_percent=p))\n",
    "        roc = roc_auc_score(y_score=y_score, y_true=y_true)\n",
    "\n",
    "    \n",
    "    \n",
    "    return {\"precision\": precision_score(y_pred=y_pred, y_true=y_true, zero_division=0),\n",
    "            \"recall\": recall_score(y_pred=y_pred, y_true=y_true),\n",
    "           \"f1\": f1_score(y_pred=y_pred, y_true=y_true, zero_division=0),\n",
    "            \"enrich\": enrich,            \n",
    "           \"roc\": roc\n",
    "           }\n",
    "\n",
    "\n",
    "def aggregate_results(dataset, range_limit=10, multistep_initial_p=None, \n",
    "                      multistep_p_list=None, \n",
    "                      multistep_sklearn_model=None):\n",
    "    \n",
    "#     import pdb\n",
    "#     pdb.set_trace()\n",
    "    model_metric_dict = {\"model\": [], \"enrich\": [], \"p\":[], \"train_time\":[], \"test_time\": [], \"target\": [],\n",
    "                        \"seed\": [], \"recall\": [], \"precision\": [], \"f1\": [], \n",
    "                        }\n",
    "\n",
    "    for model_name, model_tup in tqdm(model_dict.items(), total=len(model_dict), position=0):\n",
    "                        \n",
    "\n",
    "        data_path_list = list(data_p.glob(f\"{model_name}.{dataset}*.pkl\"))\n",
    "        print(f\"{model_name}-{dataset}: {len(model_tup)}\\t {len(data_path_list)}\")\n",
    "\n",
    "        \n",
    "\n",
    "        for path in tqdm(data_path_list, total=len(data_path_list), position=1):\n",
    "\n",
    "            \n",
    "#             with open(path, \"rb\") as handle:\n",
    "#                 model_data_dict = pickle.load(handle)\n",
    "            model_data_dict = pd.read_pickle(path)\n",
    "            target = path.name.split(\".\")[1]\n",
    "            \n",
    "            print(target, path, model_name)\n",
    "\n",
    "\n",
    "#             import ipdb\n",
    "#             ipdb.set_trace()\n",
    "            for seed in range(len(model_data_dict['trials'])):\n",
    "                trial_dict = model_data_dict['trials'][seed]\n",
    "\n",
    "                    \n",
    "#                 with open(path, \"wb\") as handle:\n",
    "#                     pickle.dump(model_data_dict, handle)\n",
    "                \n",
    "#                 with open(path, \"rb\") as handle:\n",
    "#                     model_data_dict = pickle.load(handle)\n",
    "#                 model_data_dict = pd.read_pkl(handle)\n",
    "                    \n",
    "                y_test = model_data_dict[\"y_test\"]\n",
    "#                 x_test = model_data_dict[\"x_test\"]\n",
    "                actives_database = sum(y_test)\n",
    "                database_size = y_test.shape[0]\n",
    "                \n",
    "#                 eta = None \n",
    "                \n",
    "\n",
    "#                 if model in [\"rf\", \"mlp\"]:\n",
    "\n",
    "\n",
    "#                     for p in [.01, .1]:\n",
    "\n",
    "#                         sklearn_model = model_data_dict[seed][\"model\"]\n",
    "\n",
    "#                         y_score = sklearn_model.predict_proba(x_test)[:, 1]            \n",
    "#                         y_pred = sklearn_model.predict(x_test)\n",
    "#                         enrich = compute_enrichment_factor(sample_scores=y_score, \n",
    "#                                                 sample_labels=y_test,\n",
    "#                                                 n_percent=p, \n",
    "#                                                 actives_database=actives_database, \n",
    "#                                                 database_size=database_size)\n",
    "\n",
    "                \n",
    "#                         metrics = compute_metrics(y_pred=y_pred, y_score=y_score, y_true=y_test)\n",
    "                \n",
    "#                         model_metric_dict[\"model\"].append(model)\n",
    "#                         model_metric_dict[\"target\"].append(target)\n",
    "#                         model_metric_dict[\"enrich\"].append(enrich)\n",
    "#                         model_metric_dict[\"p\"].append(p)\n",
    "#                         model_metric_dict[\"seed\"].append(seed)\n",
    "#                         model_metric_dict[\"precision\"].append(metrics[\"precision\"])\n",
    "#                         model_metric_dict[\"recall\"].append(metrics[\"recall\"])\n",
    "#                         model_metric_dict[\"f1\"].append(metrics[\"f1\"])\n",
    "# #                         model_metric_dict[\"roc\"].append(metrics[\"roc\"])\n",
    "\n",
    "                        \n",
    "#                 elif model.lower() in [\"hdc-rf\", \"hdc-mlp\"]:\n",
    "\n",
    "#                     sklearn_result_file = Path(f\"{data_p}/{dataset.replace('-', '_')}.{target}.{multistep_sklearn_model}.None.{ngram_order}.pkl\")\n",
    "\n",
    "#                     with open(sklearn_result_file, \"rb\") as handle:\n",
    "#                         sklearn_result_dict = pickle.load(handle)\n",
    "\n",
    "#                     target_test_hv_path = f\"{hd_cache_dir}/{target}/test_dataset_hv.pth\"\n",
    "\n",
    "#                     hv_test = torch.load(target_test_hv_path, map_location=\"cpu\")\n",
    "#                     hdc_conf_scores = model_data_dict[seed][\"model\"].compute_confidence(hv_test)\n",
    "\n",
    "# #                     # filter the data\n",
    "#                     idxs = np.flip(np.argsort(hdc_conf_scores.squeeze().cpu().numpy(), kind=\"stable\"))\n",
    "\n",
    "                    \n",
    "#                     sample_n = int(multistep_initial_p * y_test.shape[0])\n",
    "#                     samp_idxs = idxs[:sample_n]\n",
    "                    \n",
    "\n",
    "#                     x_test_samp = x_test[samp_idxs]\n",
    "#                     y_test_samp = y_test[samp_idxs]\n",
    "                                            \n",
    "    \n",
    "#                     for p in multistep_p_list:\n",
    "\n",
    "#                         sklearn_model = sklearn_result_dict[seed][\"model\"]\n",
    "            \n",
    "#                         sklearn_scores_samp = sklearn_model.predict_proba(x_test_samp)[:, 1]                        \n",
    "            \n",
    "#                         y_pred = sklearn_model.predict(x_test_samp)\n",
    "#                         enrich = compute_enrichment_factor(sample_scores=sklearn_scores_samp, \n",
    "#                                                 sample_labels=y_test_samp,\n",
    "#                                                 n_percent=p, \n",
    "#                                                 actives_database=actives_database, \n",
    "#                                                 database_size=database_size)\n",
    "\n",
    "\n",
    "#                         metrics = compute_metrics(y_pred=y_pred, y_score=sklearn_scores_samp, y_true=y_test_samp)\n",
    "                \n",
    "#                         model_metric_dict[\"model\"].append(model)\n",
    "#                         model_metric_dict[\"target\"].append(target)\n",
    "#                         model_metric_dict[\"enrich\"].append(enrich)\n",
    "#                         model_metric_dict[\"p\"].append(round(multistep_initial_p * p, 2))\n",
    "#                         model_metric_dict[\"seed\"].append(seed)\n",
    "#                         model_metric_dict[\"precision\"].append(metrics[\"precision\"])\n",
    "#                         model_metric_dict[\"recall\"].append(metrics[\"recall\"])\n",
    "#                         model_metric_dict[\"f1\"].append(metrics[\"f1\"])\n",
    "# #                         model_metric_dict[\"roc\"].append(metrics[\"roc\"])\n",
    "                    \n",
    "\n",
    "#                 else:                  \n",
    "                    \n",
    "#                 target_test_hv_path = f\"{hd_cache_dir}/{target}/test_dataset_hv.pth\"\n",
    "                \n",
    "#                 hv_test = torch.load(target_test_hv_path, map_location=\"cpu\")\n",
    "#                 hdc_conf_scores = model_data_dict[seed][\"model\"].compute_confidence(hv_test)\n",
    "                hdc_conf_scores = trial_dict[\"eta\"]\n",
    "                for p in [.01, .1]:\n",
    "\n",
    "                    try:\n",
    "#                         import pdb\n",
    "#                         pdb.set_trace()\n",
    "                        metrics = compute_metrics(y_pred=trial_dict[\"y_pred\"], \n",
    "                                                  y_score=hdc_conf_scores, \n",
    "                                                  y_true=model_data_dict[\"y_test\"],\n",
    "                                                 p=p)\n",
    "\n",
    "    #                     model_metric_dict[\"model\"].append(model)\n",
    "                        model_metric_dict[\"target\"].append(target)\n",
    "    #                     model_metric_dict[\"enrich-1\"].append(metrics[\"enrich-1\"])\n",
    "    #                     model_metric_dict[\"enrich-10\"].append(metrics[\"enrich-10\"])\n",
    "#                         import pdb\n",
    "#                         pdb.set_trace()\n",
    "                        model_metric_dict[\"test_time\"].append(trial_dict[\"test_time\"])\n",
    "                        model_metric_dict[\"enrich\"].append(metrics[\"enrich\"])\n",
    "                        model_metric_dict[\"p\"].append(p)\n",
    "                        model_metric_dict[\"seed\"].append(seed)\n",
    "                        model_metric_dict[\"precision\"].append(metrics[\"precision\"])\n",
    "                        model_metric_dict[\"recall\"].append(metrics[\"recall\"])\n",
    "                        model_metric_dict[\"f1\"].append(metrics[\"f1\"])\n",
    "    #                     model_metric_dict[\"roc\"].append(metrics[\"roc\"])\n",
    "                        model_metric_dict[\"model\"].append(model_name)\n",
    "                    except Exception as e:\n",
    "                        print(e)\n",
    "\n",
    "#                 #TODO: implement this \n",
    "#                 model_metric_dict[\"train_time\"].append(train_time)\n",
    "\n",
    "    return model_metric_dict\n",
    "        \n"
   ]
  },
  {
   "cell_type": "markdown",
   "metadata": {},
   "source": [
    "# VINA result"
   ]
  },
  {
   "cell_type": "code",
   "execution_count": 61,
   "metadata": {},
   "outputs": [],
   "source": [
    "from pathlib import Path\n",
    "def docking_main(nrows=None):\n",
    "    root_p = Path(\"/p/lustre2/ahashare/zhang30/LIT-PCBA-Data/\")\n",
    "\n",
    "    path_list = [path for path in root_p.glob(\"*-actives.csv\")]\n",
    "\n",
    "\n",
    "    df_list = []\n",
    "\n",
    "    for idx, path in tqdm(enumerate(path_list), total=len(path_list)):\n",
    "        print(idx, path)\n",
    "        \n",
    "#         '''\n",
    "        target = path.name.split(\".\")[0].split(\"-\")[0]\n",
    "        print(target, idx+1, path)\n",
    "        \n",
    "        \n",
    "\n",
    "        merged_df = None\n",
    "        merged_df_path = Path(f\"./lit_pcba_docking_analysis/{target}.csv\")\n",
    "        \n",
    "        if not merged_df_path.exists():\n",
    "            # can use the set of smiles in each result file\n",
    "            \n",
    "            # todo (10/18/23): is this valid?\n",
    "            result_pkl = Path(f\"/g/g13/jones289/workspace/hd-cuda-master/hdpy/hdpy/results/124/lit_pcba.{target}.ecfp.atomwise.0.pkl\")        \n",
    "\n",
    "\n",
    "            target_train_smiles_list = []\n",
    "            target_test_smiles_list = []\n",
    "\n",
    "            with open(result_pkl, \"rb\") as handle:\n",
    "\n",
    "                data = pickle.load(handle)\n",
    "\n",
    "                target_train_smiles_list = data[\"smiles_train\"]\n",
    "                target_test_smiles_list = data[\"smiles_test\"]\n",
    "\n",
    "                print(f\"total of {len(target_train_smiles_list)} in training set, total of {len(target_test_smiles_list)} in testing set.\")\n",
    "\n",
    "            df_cols = ['file', ' scores/1', ' ligName']\n",
    "            active_df = pd.read_csv(root_p / Path(f\"{target}-actives.csv.clean\"), sep=\",\", usecols=df_cols, nrows=nrows)\n",
    "            active_df['y_true'] = [1] * len(active_df)\n",
    "\n",
    "\n",
    "\n",
    "            inactive_df = pd.read_csv(root_p / Path(f\"{target}-inactives.csv.clean\"), sep=\",\", usecols=df_cols, nrows=nrows)\n",
    "            inactive_df['y_true'] = [0] * len(inactive_df)\n",
    "\n",
    "            target_df = pd.concat([active_df, inactive_df])\n",
    "            # this will search over all of the docking results for each target, across each of the multiple protein models\n",
    "\n",
    "            active_smiles_df = pd.read_csv(f\"/p/vast1/jones289/lit_pcba/{target}/actives.smi\", delim_whitespace=True, header=None)\n",
    "            inactive_smiles_df = pd.read_csv(f\"/p/vast1/jones289/lit_pcba/{target}/inactives.smi\", delim_whitespace=True, header=None)\n",
    "            target_smiles_df = pd.concat([active_smiles_df, inactive_smiles_df])\n",
    "\n",
    "\n",
    "\n",
    "            top_pose_target_df = target_df.groupby([' ligName'], as_index=False)[[' ligName', ' scores/1', 'y_true']].min()\n",
    "\n",
    "\n",
    "        \n",
    "            merged_df_path.parent.mkdir(exist_ok=True, parents=True)\n",
    "            merged_df = pd.merge(top_pose_target_df, target_smiles_df, left_on=\" ligName\", right_on=1)\n",
    "            merged_df = merged_df[merged_df.apply(lambda x: x[0] in target_test_smiles_list, axis=1)]\n",
    "            merged_df['target'] = [target] * len(merged_df)\n",
    "            merged_df.to_csv(merged_df_path, index=False)\n",
    "        else:\n",
    "            merged_df = pd.read_csv(merged_df_path)\n",
    "            \n",
    "            if 'target' not in merged_df.columns:\n",
    "                merged_df['target'] = [target] * len(merged_df)\n",
    "                merged_df.to_csv(merged_df_path, index=False)\n",
    "\n",
    "\n",
    "\n",
    "        df_list.append(merged_df)\n",
    "\n",
    "    df = pd.concat(df_list)\n",
    "    return df"
   ]
  },
  {
   "cell_type": "code",
   "execution_count": 62,
   "metadata": {},
   "outputs": [],
   "source": [
    "def compute_model_metric_df():\n",
    "    \n",
    "    model_metric_dict = aggregate_results(dataset=\"lit-pcba\",multistep_p_list=[.05, .5],  \n",
    "                                          multistep_sklearn_model=\"rf\", \n",
    "                                         multistep_initial_p=.2)\n",
    "\n",
    "    model_metric_df = pd.DataFrame({key: value for key, value in model_metric_dict.items() if key not in [\"train_time\", \"test_time\", \"precision\", \"recall\", \"f1\"]})\n",
    "\n",
    "    # model_metric_df\n",
    "\n",
    "    #######\n",
    "    vina_result = docking_main(nrows=None)\n",
    "    vina_result\n",
    "    ###########\n",
    "\n",
    "    docking_dict = {\"enrich\": [], \"p\": [], \"model\": [], \"target\": []}\n",
    "\n",
    "    vina_enrich_list = []\n",
    "    target_list = []\n",
    "    vina_col=' scores/1'\n",
    "    for target, target_df in vina_result.groupby(\"target\"):\n",
    "\n",
    "        for p in [.1, .01]:\n",
    "            enrich = compute_enrichment_factor(scores=np.abs(target_df[vina_col]), \n",
    "                                      labels=target_df[\"y_true\"], \n",
    "                                      n_percent=p)\n",
    "\n",
    "            docking_dict[\"enrich\"].append(float(enrich))\n",
    "            docking_dict[\"p\"].append(p)\n",
    "            docking_dict[\"model\"].append(\"Vina\")\n",
    "            docking_dict[\"target\"].append(target)\n",
    "\n",
    "\n",
    "    ##################\n",
    "    model_metric_df = pd.concat([model_metric_df, pd.DataFrame(docking_dict)])\n",
    "    \n",
    "    # Backup the calculation\n",
    "    model_metric_df.to_csv(\"fixed_litpcba_model_metric_df.csv\")\n",
    "    \n",
    "    return model_metric_df    \n"
   ]
  },
  {
   "cell_type": "markdown",
   "metadata": {},
   "source": []
  },
  {
   "cell_type": "code",
   "execution_count": 7,
   "metadata": {},
   "outputs": [
    {
     "name": "stderr",
     "output_type": "stream",
     "text": [
      "\r",
      "  0%|          | 0/7 [00:00<?, ?it/s]"
     ]
    },
    {
     "name": "stdout",
     "output_type": "stream",
     "text": [
      "hdbind-rp-molformer-lit-pcba: 2\t 15\n"
     ]
    },
    {
     "name": "stderr",
     "output_type": "stream",
     "text": [
      "\n",
      "  0%|          | 0/15 [00:00<?, ?it/s]\u001b[A"
     ]
    },
    {
     "name": "stdout",
     "output_type": "stream",
     "text": [
      "lit-pcba-ADRB2 /p/vast1/jones289/hd_results/5/hdbind-rp-molformer.lit-pcba-ADRB2.5.pkl hdbind-rp-molformer\n"
     ]
    },
    {
     "name": "stderr",
     "output_type": "stream",
     "text": [
      "\n",
      "  7%|▋         | 1/15 [00:17<04:06, 17.63s/it]\u001b[A"
     ]
    },
    {
     "name": "stdout",
     "output_type": "stream",
     "text": [
      "lit-pcba-ALDH1 /p/vast1/jones289/hd_results/5/hdbind-rp-molformer.lit-pcba-ALDH1.5.pkl hdbind-rp-molformer\n"
     ]
    },
    {
     "name": "stderr",
     "output_type": "stream",
     "text": [
      "\n",
      " 13%|█▎        | 2/15 [00:25<02:33, 11.80s/it]\u001b[A"
     ]
    },
    {
     "name": "stdout",
     "output_type": "stream",
     "text": [
      "lit-pcba-ESR1_ago /p/vast1/jones289/hd_results/5/hdbind-rp-molformer.lit-pcba-ESR1_ago.5.pkl hdbind-rp-molformer\n"
     ]
    },
    {
     "name": "stderr",
     "output_type": "stream",
     "text": [
      "\n",
      " 20%|██        | 3/15 [00:25<01:18,  6.54s/it]\u001b[A"
     ]
    },
    {
     "name": "stdout",
     "output_type": "stream",
     "text": [
      "lit-pcba-ESR1_ant /p/vast1/jones289/hd_results/5/hdbind-rp-molformer.lit-pcba-ESR1_ant.5.pkl hdbind-rp-molformer\n"
     ]
    },
    {
     "name": "stderr",
     "output_type": "stream",
     "text": [
      "\n",
      " 27%|██▋       | 4/15 [00:25<00:44,  4.07s/it]\u001b[A"
     ]
    },
    {
     "name": "stdout",
     "output_type": "stream",
     "text": [
      "lit-pcba-FEN1 /p/vast1/jones289/hd_results/5/hdbind-rp-molformer.lit-pcba-FEN1.5.pkl hdbind-rp-molformer\n"
     ]
    },
    {
     "name": "stderr",
     "output_type": "stream",
     "text": [
      "\n",
      " 33%|███▎      | 5/15 [00:47<01:43, 10.30s/it]\u001b[A"
     ]
    },
    {
     "name": "stdout",
     "output_type": "stream",
     "text": [
      "lit-pcba-GBA /p/vast1/jones289/hd_results/5/hdbind-rp-molformer.lit-pcba-GBA.5.pkl hdbind-rp-molformer\n"
     ]
    },
    {
     "name": "stderr",
     "output_type": "stream",
     "text": [
      "\n",
      " 40%|████      | 6/15 [01:02<01:48, 12.04s/it]\u001b[A"
     ]
    },
    {
     "name": "stdout",
     "output_type": "stream",
     "text": [
      "lit-pcba-IDH1 /p/vast1/jones289/hd_results/5/hdbind-rp-molformer.lit-pcba-IDH1.5.pkl hdbind-rp-molformer\n"
     ]
    },
    {
     "name": "stderr",
     "output_type": "stream",
     "text": [
      "\n",
      " 47%|████▋     | 7/15 [01:23<01:58, 14.75s/it]\u001b[A"
     ]
    },
    {
     "name": "stdout",
     "output_type": "stream",
     "text": [
      "lit-pcba-KAT2A /p/vast1/jones289/hd_results/5/hdbind-rp-molformer.lit-pcba-KAT2A.5.pkl hdbind-rp-molformer\n"
     ]
    },
    {
     "name": "stderr",
     "output_type": "stream",
     "text": [
      "\n",
      " 53%|█████▎    | 8/15 [01:42<01:53, 16.26s/it]\u001b[A"
     ]
    },
    {
     "name": "stdout",
     "output_type": "stream",
     "text": [
      "lit-pcba-MAPK1 /p/vast1/jones289/hd_results/5/hdbind-rp-molformer.lit-pcba-MAPK1.5.pkl hdbind-rp-molformer\n"
     ]
    },
    {
     "name": "stderr",
     "output_type": "stream",
     "text": [
      "\n",
      " 60%|██████    | 9/15 [01:45<01:12, 12.06s/it]\u001b[A"
     ]
    },
    {
     "name": "stdout",
     "output_type": "stream",
     "text": [
      "lit-pcba-MTORC1 /p/vast1/jones289/hd_results/5/hdbind-rp-molformer.lit-pcba-MTORC1.5.pkl hdbind-rp-molformer\n"
     ]
    },
    {
     "name": "stderr",
     "output_type": "stream",
     "text": [
      "\n",
      " 67%|██████▋   | 10/15 [01:46<00:43,  8.76s/it]\u001b[A"
     ]
    },
    {
     "name": "stdout",
     "output_type": "stream",
     "text": [
      "lit-pcba-OPRK1 /p/vast1/jones289/hd_results/5/hdbind-rp-molformer.lit-pcba-OPRK1.5.pkl hdbind-rp-molformer\n"
     ]
    },
    {
     "name": "stderr",
     "output_type": "stream",
     "text": [
      "\n",
      " 73%|███████▎  | 11/15 [02:02<00:43, 10.77s/it]\u001b[A"
     ]
    },
    {
     "name": "stdout",
     "output_type": "stream",
     "text": [
      "lit-pcba-PKM2 /p/vast1/jones289/hd_results/5/hdbind-rp-molformer.lit-pcba-PKM2.5.pkl hdbind-rp-molformer\n"
     ]
    },
    {
     "name": "stderr",
     "output_type": "stream",
     "text": [
      "\n",
      " 80%|████████  | 12/15 [02:15<00:34, 11.60s/it]\u001b[A"
     ]
    },
    {
     "name": "stdout",
     "output_type": "stream",
     "text": [
      "lit-pcba-PPARG /p/vast1/jones289/hd_results/5/hdbind-rp-molformer.lit-pcba-PPARG.5.pkl hdbind-rp-molformer\n"
     ]
    },
    {
     "name": "stderr",
     "output_type": "stream",
     "text": [
      "\n",
      " 87%|████████▋ | 13/15 [02:15<00:16,  8.17s/it]\u001b[A"
     ]
    },
    {
     "name": "stdout",
     "output_type": "stream",
     "text": [
      "lit-pcba-TP53 /p/vast1/jones289/hd_results/5/hdbind-rp-molformer.lit-pcba-TP53.5.pkl hdbind-rp-molformer\n"
     ]
    },
    {
     "name": "stderr",
     "output_type": "stream",
     "text": [
      "\n",
      " 93%|█████████▎| 14/15 [02:16<00:05,  5.77s/it]\u001b[A"
     ]
    },
    {
     "name": "stdout",
     "output_type": "stream",
     "text": [
      "lit-pcba-VDR /p/vast1/jones289/hd_results/5/hdbind-rp-molformer.lit-pcba-VDR.5.pkl hdbind-rp-molformer\n"
     ]
    },
    {
     "name": "stderr",
     "output_type": "stream",
     "text": [
      "\n",
      "100%|██████████| 15/15 [02:36<00:00, 10.41s/it]\u001b[A\n",
      " 14%|█▍        | 1/7 [02:36<15:36, 156.13s/it]"
     ]
    },
    {
     "name": "stdout",
     "output_type": "stream",
     "text": [
      "hdbind-ecfp-1024-1-100-lit-pcba: 2\t 15\n"
     ]
    },
    {
     "name": "stderr",
     "output_type": "stream",
     "text": [
      "\n",
      "  0%|          | 0/15 [00:00<?, ?it/s]\u001b[A"
     ]
    },
    {
     "name": "stdout",
     "output_type": "stream",
     "text": [
      "lit-pcba-ADRB2 /p/vast1/jones289/hd_results/5/hdbind-ecfp-1024-1-100.lit-pcba-ADRB2.5.pkl hdbind-ecfp-1024-1-100\n"
     ]
    },
    {
     "name": "stderr",
     "output_type": "stream",
     "text": [
      "\n",
      "  7%|▋         | 1/15 [00:15<03:40, 15.76s/it]\u001b[A"
     ]
    },
    {
     "name": "stdout",
     "output_type": "stream",
     "text": [
      "lit-pcba-ALDH1 /p/vast1/jones289/hd_results/5/hdbind-ecfp-1024-1-100.lit-pcba-ALDH1.5.pkl hdbind-ecfp-1024-1-100\n"
     ]
    },
    {
     "name": "stderr",
     "output_type": "stream",
     "text": [
      "\n",
      " 13%|█▎        | 2/15 [00:22<02:15, 10.45s/it]\u001b[A"
     ]
    },
    {
     "name": "stdout",
     "output_type": "stream",
     "text": [
      "lit-pcba-ESR1_ago /p/vast1/jones289/hd_results/5/hdbind-ecfp-1024-1-100.lit-pcba-ESR1_ago.5.pkl hdbind-ecfp-1024-1-100\n"
     ]
    },
    {
     "name": "stderr",
     "output_type": "stream",
     "text": [
      "\n",
      " 20%|██        | 3/15 [00:22<01:09,  5.79s/it]\u001b[A"
     ]
    },
    {
     "name": "stdout",
     "output_type": "stream",
     "text": [
      "lit-pcba-ESR1_ant /p/vast1/jones289/hd_results/5/hdbind-ecfp-1024-1-100.lit-pcba-ESR1_ant.5.pkl hdbind-ecfp-1024-1-100\n"
     ]
    },
    {
     "name": "stderr",
     "output_type": "stream",
     "text": [
      "\n",
      " 27%|██▋       | 4/15 [00:22<00:39,  3.60s/it]\u001b[A"
     ]
    },
    {
     "name": "stdout",
     "output_type": "stream",
     "text": [
      "lit-pcba-FEN1 /p/vast1/jones289/hd_results/5/hdbind-ecfp-1024-1-100.lit-pcba-FEN1.5.pkl hdbind-ecfp-1024-1-100\n"
     ]
    },
    {
     "name": "stderr",
     "output_type": "stream",
     "text": [
      "\n",
      " 33%|███▎      | 5/15 [00:41<01:28,  8.81s/it]\u001b[A"
     ]
    },
    {
     "name": "stdout",
     "output_type": "stream",
     "text": [
      "lit-pcba-GBA /p/vast1/jones289/hd_results/5/hdbind-ecfp-1024-1-100.lit-pcba-GBA.5.pkl hdbind-ecfp-1024-1-100\n"
     ]
    },
    {
     "name": "stderr",
     "output_type": "stream",
     "text": [
      "\n",
      " 40%|████      | 6/15 [00:55<01:36, 10.77s/it]\u001b[A"
     ]
    },
    {
     "name": "stdout",
     "output_type": "stream",
     "text": [
      "lit-pcba-IDH1 /p/vast1/jones289/hd_results/5/hdbind-ecfp-1024-1-100.lit-pcba-IDH1.5.pkl hdbind-ecfp-1024-1-100\n"
     ]
    },
    {
     "name": "stderr",
     "output_type": "stream",
     "text": [
      "\n",
      " 47%|████▋     | 7/15 [01:13<01:45, 13.23s/it]\u001b[A"
     ]
    },
    {
     "name": "stdout",
     "output_type": "stream",
     "text": [
      "lit-pcba-KAT2A /p/vast1/jones289/hd_results/5/hdbind-ecfp-1024-1-100.lit-pcba-KAT2A.5.pkl hdbind-ecfp-1024-1-100\n"
     ]
    },
    {
     "name": "stderr",
     "output_type": "stream",
     "text": [
      "\n",
      " 53%|█████▎    | 8/15 [01:31<01:42, 14.64s/it]\u001b[A"
     ]
    },
    {
     "name": "stdout",
     "output_type": "stream",
     "text": [
      "lit-pcba-MAPK1 /p/vast1/jones289/hd_results/5/hdbind-ecfp-1024-1-100.lit-pcba-MAPK1.5.pkl hdbind-ecfp-1024-1-100\n"
     ]
    },
    {
     "name": "stderr",
     "output_type": "stream",
     "text": [
      "\n",
      " 60%|██████    | 9/15 [01:34<01:05, 10.90s/it]\u001b[A"
     ]
    },
    {
     "name": "stdout",
     "output_type": "stream",
     "text": [
      "lit-pcba-MTORC1 /p/vast1/jones289/hd_results/5/hdbind-ecfp-1024-1-100.lit-pcba-MTORC1.5.pkl hdbind-ecfp-1024-1-100\n"
     ]
    },
    {
     "name": "stderr",
     "output_type": "stream",
     "text": [
      "\n",
      " 67%|██████▋   | 10/15 [01:35<00:39,  7.94s/it]\u001b[A"
     ]
    },
    {
     "name": "stdout",
     "output_type": "stream",
     "text": [
      "lit-pcba-OPRK1 /p/vast1/jones289/hd_results/5/hdbind-ecfp-1024-1-100.lit-pcba-OPRK1.5.pkl hdbind-ecfp-1024-1-100\n"
     ]
    },
    {
     "name": "stderr",
     "output_type": "stream",
     "text": [
      "\n",
      " 73%|███████▎  | 11/15 [01:48<00:37,  9.49s/it]\u001b[A"
     ]
    },
    {
     "name": "stdout",
     "output_type": "stream",
     "text": [
      "lit-pcba-PKM2 /p/vast1/jones289/hd_results/5/hdbind-ecfp-1024-1-100.lit-pcba-PKM2.5.pkl hdbind-ecfp-1024-1-100\n"
     ]
    },
    {
     "name": "stderr",
     "output_type": "stream",
     "text": [
      "\n",
      " 80%|████████  | 12/15 [02:00<00:30, 10.16s/it]\u001b[A"
     ]
    },
    {
     "name": "stdout",
     "output_type": "stream",
     "text": [
      "lit-pcba-PPARG /p/vast1/jones289/hd_results/5/hdbind-ecfp-1024-1-100.lit-pcba-PPARG.5.pkl hdbind-ecfp-1024-1-100\n"
     ]
    },
    {
     "name": "stderr",
     "output_type": "stream",
     "text": [
      "\n",
      " 87%|████████▋ | 13/15 [02:00<00:14,  7.16s/it]\u001b[A\n",
      " 93%|█████████▎| 14/15 [02:00<00:05,  5.06s/it]\u001b[A"
     ]
    },
    {
     "name": "stdout",
     "output_type": "stream",
     "text": [
      "lit-pcba-TP53 /p/vast1/jones289/hd_results/5/hdbind-ecfp-1024-1-100.lit-pcba-TP53.5.pkl hdbind-ecfp-1024-1-100\n",
      "lit-pcba-VDR /p/vast1/jones289/hd_results/5/hdbind-ecfp-1024-1-100.lit-pcba-VDR.5.pkl hdbind-ecfp-1024-1-100\n"
     ]
    },
    {
     "name": "stderr",
     "output_type": "stream",
     "text": [
      "\n",
      "100%|██████████| 15/15 [02:18<00:00,  9.25s/it]\u001b[A\n",
      " 29%|██▊       | 2/7 [04:54<12:09, 145.87s/it]"
     ]
    },
    {
     "name": "stdout",
     "output_type": "stream",
     "text": [
      "hdbind-ecfp-1024-1-1k-lit-pcba: 2\t 15\n"
     ]
    },
    {
     "name": "stderr",
     "output_type": "stream",
     "text": [
      "\n",
      "  0%|          | 0/15 [00:00<?, ?it/s]\u001b[A"
     ]
    },
    {
     "name": "stdout",
     "output_type": "stream",
     "text": [
      "lit-pcba-ADRB2 /p/vast1/jones289/hd_results/5/hdbind-ecfp-1024-1-1k.lit-pcba-ADRB2.5.pkl hdbind-ecfp-1024-1-1k\n"
     ]
    },
    {
     "name": "stderr",
     "output_type": "stream",
     "text": [
      "\n",
      "  7%|▋         | 1/15 [00:18<04:15, 18.22s/it]\u001b[A"
     ]
    },
    {
     "name": "stdout",
     "output_type": "stream",
     "text": [
      "lit-pcba-ALDH1 /p/vast1/jones289/hd_results/5/hdbind-ecfp-1024-1-1k.lit-pcba-ALDH1.5.pkl hdbind-ecfp-1024-1-1k\n"
     ]
    },
    {
     "name": "stderr",
     "output_type": "stream",
     "text": [
      "\n",
      " 13%|█▎        | 2/15 [00:25<02:36, 12.04s/it]\u001b[A"
     ]
    },
    {
     "name": "stdout",
     "output_type": "stream",
     "text": [
      "lit-pcba-ESR1_ago /p/vast1/jones289/hd_results/5/hdbind-ecfp-1024-1-1k.lit-pcba-ESR1_ago.5.pkl hdbind-ecfp-1024-1-1k\n"
     ]
    },
    {
     "name": "stderr",
     "output_type": "stream",
     "text": [
      "\n",
      " 20%|██        | 3/15 [00:26<01:20,  6.67s/it]\u001b[A"
     ]
    },
    {
     "name": "stdout",
     "output_type": "stream",
     "text": [
      "lit-pcba-ESR1_ant /p/vast1/jones289/hd_results/5/hdbind-ecfp-1024-1-1k.lit-pcba-ESR1_ant.5.pkl hdbind-ecfp-1024-1-1k\n"
     ]
    },
    {
     "name": "stderr",
     "output_type": "stream",
     "text": [
      "\n",
      " 27%|██▋       | 4/15 [00:26<00:45,  4.14s/it]\u001b[A"
     ]
    },
    {
     "name": "stdout",
     "output_type": "stream",
     "text": [
      "lit-pcba-FEN1 /p/vast1/jones289/hd_results/5/hdbind-ecfp-1024-1-1k.lit-pcba-FEN1.5.pkl hdbind-ecfp-1024-1-1k\n"
     ]
    },
    {
     "name": "stderr",
     "output_type": "stream",
     "text": [
      "\n",
      " 33%|███▎      | 5/15 [00:45<01:34,  9.42s/it]\u001b[A"
     ]
    },
    {
     "name": "stdout",
     "output_type": "stream",
     "text": [
      "lit-pcba-GBA /p/vast1/jones289/hd_results/5/hdbind-ecfp-1024-1-1k.lit-pcba-GBA.5.pkl hdbind-ecfp-1024-1-1k\n"
     ]
    },
    {
     "name": "stderr",
     "output_type": "stream",
     "text": [
      "\n",
      " 40%|████      | 6/15 [01:00<01:41, 11.25s/it]\u001b[A"
     ]
    },
    {
     "name": "stdout",
     "output_type": "stream",
     "text": [
      "lit-pcba-IDH1 /p/vast1/jones289/hd_results/5/hdbind-ecfp-1024-1-1k.lit-pcba-IDH1.5.pkl hdbind-ecfp-1024-1-1k\n"
     ]
    },
    {
     "name": "stderr",
     "output_type": "stream",
     "text": [
      "\n",
      " 47%|████▋     | 7/15 [01:18<01:49, 13.64s/it]\u001b[A"
     ]
    },
    {
     "name": "stdout",
     "output_type": "stream",
     "text": [
      "lit-pcba-KAT2A /p/vast1/jones289/hd_results/5/hdbind-ecfp-1024-1-1k.lit-pcba-KAT2A.5.pkl hdbind-ecfp-1024-1-1k\n"
     ]
    },
    {
     "name": "stderr",
     "output_type": "stream",
     "text": [
      "\n",
      " 53%|█████▎    | 8/15 [01:36<01:44, 14.86s/it]\u001b[A"
     ]
    },
    {
     "name": "stdout",
     "output_type": "stream",
     "text": [
      "lit-pcba-MAPK1 /p/vast1/jones289/hd_results/5/hdbind-ecfp-1024-1-1k.lit-pcba-MAPK1.5.pkl hdbind-ecfp-1024-1-1k\n"
     ]
    },
    {
     "name": "stderr",
     "output_type": "stream",
     "text": [
      "\n",
      " 60%|██████    | 9/15 [01:38<01:06, 11.04s/it]\u001b[A"
     ]
    },
    {
     "name": "stdout",
     "output_type": "stream",
     "text": [
      "lit-pcba-MTORC1 /p/vast1/jones289/hd_results/5/hdbind-ecfp-1024-1-1k.lit-pcba-MTORC1.5.pkl hdbind-ecfp-1024-1-1k\n"
     ]
    },
    {
     "name": "stderr",
     "output_type": "stream",
     "text": [
      "\n",
      " 67%|██████▋   | 10/15 [01:40<00:40,  8.04s/it]\u001b[A"
     ]
    },
    {
     "name": "stdout",
     "output_type": "stream",
     "text": [
      "lit-pcba-OPRK1 /p/vast1/jones289/hd_results/5/hdbind-ecfp-1024-1-1k.lit-pcba-OPRK1.5.pkl hdbind-ecfp-1024-1-1k\n"
     ]
    },
    {
     "name": "stderr",
     "output_type": "stream",
     "text": [
      "\n",
      " 73%|███████▎  | 11/15 [01:53<00:38,  9.60s/it]\u001b[A"
     ]
    },
    {
     "name": "stdout",
     "output_type": "stream",
     "text": [
      "lit-pcba-PKM2 /p/vast1/jones289/hd_results/5/hdbind-ecfp-1024-1-1k.lit-pcba-PKM2.5.pkl hdbind-ecfp-1024-1-1k\n"
     ]
    },
    {
     "name": "stderr",
     "output_type": "stream",
     "text": [
      "\n",
      " 80%|████████  | 12/15 [02:05<00:31, 10.35s/it]\u001b[A"
     ]
    },
    {
     "name": "stdout",
     "output_type": "stream",
     "text": [
      "lit-pcba-PPARG /p/vast1/jones289/hd_results/5/hdbind-ecfp-1024-1-1k.lit-pcba-PPARG.5.pkl hdbind-ecfp-1024-1-1k\n"
     ]
    },
    {
     "name": "stderr",
     "output_type": "stream",
     "text": [
      "\n",
      " 87%|████████▋ | 13/15 [02:05<00:14,  7.29s/it]\u001b[A\n",
      " 93%|█████████▎| 14/15 [02:05<00:05,  5.15s/it]\u001b[A"
     ]
    },
    {
     "name": "stdout",
     "output_type": "stream",
     "text": [
      "lit-pcba-TP53 /p/vast1/jones289/hd_results/5/hdbind-ecfp-1024-1-1k.lit-pcba-TP53.5.pkl hdbind-ecfp-1024-1-1k\n",
      "lit-pcba-VDR /p/vast1/jones289/hd_results/5/hdbind-ecfp-1024-1-1k.lit-pcba-VDR.5.pkl hdbind-ecfp-1024-1-1k\n"
     ]
    },
    {
     "name": "stderr",
     "output_type": "stream",
     "text": [
      "\n",
      "100%|██████████| 15/15 [02:23<00:00,  9.57s/it]\u001b[A\n",
      " 43%|████▎     | 3/7 [07:18<09:39, 144.84s/it]"
     ]
    },
    {
     "name": "stdout",
     "output_type": "stream",
     "text": [
      "hdbind-rp-ecfp-1024-1-lit-pcba: 2\t 15\n"
     ]
    },
    {
     "name": "stderr",
     "output_type": "stream",
     "text": [
      "\n",
      "  0%|          | 0/15 [00:00<?, ?it/s]\u001b[A"
     ]
    },
    {
     "name": "stdout",
     "output_type": "stream",
     "text": [
      "lit-pcba-ADRB2 /p/vast1/jones289/hd_results/5/hdbind-rp-ecfp-1024-1.lit-pcba-ADRB2.5.pkl hdbind-rp-ecfp-1024-1\n"
     ]
    },
    {
     "name": "stderr",
     "output_type": "stream",
     "text": [
      "\n",
      "  7%|▋         | 1/15 [00:15<03:32, 15.15s/it]\u001b[A"
     ]
    },
    {
     "name": "stdout",
     "output_type": "stream",
     "text": [
      "lit-pcba-ALDH1 /p/vast1/jones289/hd_results/5/hdbind-rp-ecfp-1024-1.lit-pcba-ALDH1.5.pkl hdbind-rp-ecfp-1024-1\n"
     ]
    },
    {
     "name": "stderr",
     "output_type": "stream",
     "text": [
      "\n",
      " 13%|█▎        | 2/15 [00:19<01:50,  8.52s/it]\u001b[A"
     ]
    },
    {
     "name": "stdout",
     "output_type": "stream",
     "text": [
      "lit-pcba-ESR1_ago /p/vast1/jones289/hd_results/5/hdbind-rp-ecfp-1024-1.lit-pcba-ESR1_ago.5.pkl hdbind-rp-ecfp-1024-1\n"
     ]
    },
    {
     "name": "stderr",
     "output_type": "stream",
     "text": [
      "\n",
      " 20%|██        | 3/15 [00:19<00:56,  4.75s/it]\u001b[A"
     ]
    },
    {
     "name": "stdout",
     "output_type": "stream",
     "text": [
      "lit-pcba-ESR1_ant /p/vast1/jones289/hd_results/5/hdbind-rp-ecfp-1024-1.lit-pcba-ESR1_ant.5.pkl hdbind-rp-ecfp-1024-1\n"
     ]
    },
    {
     "name": "stderr",
     "output_type": "stream",
     "text": [
      "\n",
      " 27%|██▋       | 4/15 [00:19<00:32,  2.96s/it]\u001b[A"
     ]
    },
    {
     "name": "stdout",
     "output_type": "stream",
     "text": [
      "lit-pcba-FEN1 /p/vast1/jones289/hd_results/5/hdbind-rp-ecfp-1024-1.lit-pcba-FEN1.5.pkl hdbind-rp-ecfp-1024-1\n"
     ]
    },
    {
     "name": "stderr",
     "output_type": "stream",
     "text": [
      "\n",
      " 33%|███▎      | 5/15 [00:31<01:02,  6.29s/it]\u001b[A"
     ]
    },
    {
     "name": "stdout",
     "output_type": "stream",
     "text": [
      "lit-pcba-GBA /p/vast1/jones289/hd_results/5/hdbind-rp-ecfp-1024-1.lit-pcba-GBA.5.pkl hdbind-rp-ecfp-1024-1\n"
     ]
    },
    {
     "name": "stderr",
     "output_type": "stream",
     "text": [
      "\n",
      " 40%|████      | 6/15 [00:42<01:11,  7.89s/it]\u001b[A"
     ]
    },
    {
     "name": "stdout",
     "output_type": "stream",
     "text": [
      "lit-pcba-IDH1 /p/vast1/jones289/hd_results/5/hdbind-rp-ecfp-1024-1.lit-pcba-IDH1.5.pkl hdbind-rp-ecfp-1024-1\n"
     ]
    },
    {
     "name": "stderr",
     "output_type": "stream",
     "text": [
      "\n",
      " 47%|████▋     | 7/15 [00:59<01:25, 10.72s/it]\u001b[A"
     ]
    },
    {
     "name": "stdout",
     "output_type": "stream",
     "text": [
      "lit-pcba-KAT2A /p/vast1/jones289/hd_results/5/hdbind-rp-ecfp-1024-1.lit-pcba-KAT2A.5.pkl hdbind-rp-ecfp-1024-1\n"
     ]
    },
    {
     "name": "stderr",
     "output_type": "stream",
     "text": [
      "\n",
      " 53%|█████▎    | 8/15 [01:11<01:18, 11.23s/it]\u001b[A"
     ]
    },
    {
     "name": "stdout",
     "output_type": "stream",
     "text": [
      "lit-pcba-MAPK1 /p/vast1/jones289/hd_results/5/hdbind-rp-ecfp-1024-1.lit-pcba-MAPK1.5.pkl hdbind-rp-ecfp-1024-1\n"
     ]
    },
    {
     "name": "stderr",
     "output_type": "stream",
     "text": [
      "\n",
      " 60%|██████    | 9/15 [01:13<00:50,  8.39s/it]\u001b[A"
     ]
    },
    {
     "name": "stdout",
     "output_type": "stream",
     "text": [
      "lit-pcba-MTORC1 /p/vast1/jones289/hd_results/5/hdbind-rp-ecfp-1024-1.lit-pcba-MTORC1.5.pkl hdbind-rp-ecfp-1024-1\n"
     ]
    },
    {
     "name": "stderr",
     "output_type": "stream",
     "text": [
      "\n",
      " 67%|██████▋   | 10/15 [01:14<00:30,  6.18s/it]\u001b[A"
     ]
    },
    {
     "name": "stdout",
     "output_type": "stream",
     "text": [
      "lit-pcba-OPRK1 /p/vast1/jones289/hd_results/5/hdbind-rp-ecfp-1024-1.lit-pcba-OPRK1.5.pkl hdbind-rp-ecfp-1024-1\n"
     ]
    },
    {
     "name": "stderr",
     "output_type": "stream",
     "text": [
      "\n",
      " 73%|███████▎  | 11/15 [01:27<00:32,  8.21s/it]\u001b[A"
     ]
    },
    {
     "name": "stdout",
     "output_type": "stream",
     "text": [
      "lit-pcba-PKM2 /p/vast1/jones289/hd_results/5/hdbind-rp-ecfp-1024-1.lit-pcba-PKM2.5.pkl hdbind-rp-ecfp-1024-1\n"
     ]
    },
    {
     "name": "stderr",
     "output_type": "stream",
     "text": [
      "\n",
      " 80%|████████  | 12/15 [01:36<00:24,  8.23s/it]\u001b[A"
     ]
    },
    {
     "name": "stdout",
     "output_type": "stream",
     "text": [
      "lit-pcba-PPARG /p/vast1/jones289/hd_results/5/hdbind-rp-ecfp-1024-1.lit-pcba-PPARG.5.pkl hdbind-rp-ecfp-1024-1\n"
     ]
    },
    {
     "name": "stderr",
     "output_type": "stream",
     "text": [
      "\n",
      " 87%|████████▋ | 13/15 [01:36<00:11,  5.81s/it]\u001b[A\n",
      " 93%|█████████▎| 14/15 [01:36<00:04,  4.11s/it]\u001b[A"
     ]
    },
    {
     "name": "stdout",
     "output_type": "stream",
     "text": [
      "lit-pcba-TP53 /p/vast1/jones289/hd_results/5/hdbind-rp-ecfp-1024-1.lit-pcba-TP53.5.pkl hdbind-rp-ecfp-1024-1\n",
      "lit-pcba-VDR /p/vast1/jones289/hd_results/5/hdbind-rp-ecfp-1024-1.lit-pcba-VDR.5.pkl hdbind-rp-ecfp-1024-1\n"
     ]
    },
    {
     "name": "stderr",
     "output_type": "stream",
     "text": [
      "\n",
      "100%|██████████| 15/15 [01:48<00:00,  7.21s/it]\u001b[A\n",
      " 57%|█████▋    | 4/7 [09:06<06:31, 130.36s/it]"
     ]
    },
    {
     "name": "stdout",
     "output_type": "stream",
     "text": [
      "hdbind-ecfp-1024-1-100k-lit-pcba: 2\t 15\n"
     ]
    },
    {
     "name": "stderr",
     "output_type": "stream",
     "text": [
      "\n",
      "  0%|          | 0/15 [00:00<?, ?it/s]\u001b[A"
     ]
    },
    {
     "name": "stdout",
     "output_type": "stream",
     "text": [
      "lit-pcba-ADRB2 /p/vast1/jones289/hd_results/5/hdbind-ecfp-1024-1-100k.lit-pcba-ADRB2.5.pkl hdbind-ecfp-1024-1-100k\n"
     ]
    },
    {
     "name": "stderr",
     "output_type": "stream",
     "text": [
      "\n",
      "  7%|▋         | 1/15 [00:16<03:45, 16.10s/it]\u001b[A"
     ]
    },
    {
     "name": "stdout",
     "output_type": "stream",
     "text": [
      "lit-pcba-ALDH1 /p/vast1/jones289/hd_results/5/hdbind-ecfp-1024-1-100k.lit-pcba-ALDH1.5.pkl hdbind-ecfp-1024-1-100k\n"
     ]
    },
    {
     "name": "stderr",
     "output_type": "stream",
     "text": [
      "\n",
      " 13%|█▎        | 2/15 [00:22<02:17, 10.58s/it]\u001b[A"
     ]
    },
    {
     "name": "stdout",
     "output_type": "stream",
     "text": [
      "lit-pcba-ESR1_ago /p/vast1/jones289/hd_results/5/hdbind-ecfp-1024-1-100k.lit-pcba-ESR1_ago.5.pkl hdbind-ecfp-1024-1-100k\n"
     ]
    },
    {
     "name": "stderr",
     "output_type": "stream",
     "text": [
      "\n",
      " 20%|██        | 3/15 [00:23<01:10,  5.90s/it]\u001b[A"
     ]
    },
    {
     "name": "stdout",
     "output_type": "stream",
     "text": [
      "lit-pcba-ESR1_ant /p/vast1/jones289/hd_results/5/hdbind-ecfp-1024-1-100k.lit-pcba-ESR1_ant.5.pkl hdbind-ecfp-1024-1-100k\n"
     ]
    },
    {
     "name": "stderr",
     "output_type": "stream",
     "text": [
      "\n",
      " 27%|██▋       | 4/15 [00:23<00:40,  3.70s/it]\u001b[A"
     ]
    },
    {
     "name": "stdout",
     "output_type": "stream",
     "text": [
      "lit-pcba-FEN1 /p/vast1/jones289/hd_results/5/hdbind-ecfp-1024-1-100k.lit-pcba-FEN1.5.pkl hdbind-ecfp-1024-1-100k\n"
     ]
    },
    {
     "name": "stderr",
     "output_type": "stream",
     "text": [
      "\n",
      " 33%|███▎      | 5/15 [00:41<01:29,  8.99s/it]\u001b[A"
     ]
    },
    {
     "name": "stdout",
     "output_type": "stream",
     "text": [
      "lit-pcba-GBA /p/vast1/jones289/hd_results/5/hdbind-ecfp-1024-1-100k.lit-pcba-GBA.5.pkl hdbind-ecfp-1024-1-100k\n"
     ]
    },
    {
     "name": "stderr",
     "output_type": "stream",
     "text": [
      "\n",
      " 40%|████      | 6/15 [00:56<01:38, 10.94s/it]\u001b[A"
     ]
    },
    {
     "name": "stdout",
     "output_type": "stream",
     "text": [
      "lit-pcba-IDH1 /p/vast1/jones289/hd_results/5/hdbind-ecfp-1024-1-100k.lit-pcba-IDH1.5.pkl hdbind-ecfp-1024-1-100k\n"
     ]
    },
    {
     "name": "stderr",
     "output_type": "stream",
     "text": [
      "\n",
      " 47%|████▋     | 7/15 [01:15<01:48, 13.54s/it]\u001b[A"
     ]
    },
    {
     "name": "stdout",
     "output_type": "stream",
     "text": [
      "lit-pcba-KAT2A /p/vast1/jones289/hd_results/5/hdbind-ecfp-1024-1-100k.lit-pcba-KAT2A.5.pkl hdbind-ecfp-1024-1-100k\n"
     ]
    },
    {
     "name": "stderr",
     "output_type": "stream",
     "text": [
      "\n",
      " 53%|█████▎    | 8/15 [01:33<01:44, 14.88s/it]\u001b[A"
     ]
    },
    {
     "name": "stdout",
     "output_type": "stream",
     "text": [
      "lit-pcba-MAPK1 /p/vast1/jones289/hd_results/5/hdbind-ecfp-1024-1-100k.lit-pcba-MAPK1.5.pkl hdbind-ecfp-1024-1-100k\n"
     ]
    },
    {
     "name": "stderr",
     "output_type": "stream",
     "text": [
      "\n",
      " 60%|██████    | 9/15 [01:36<01:07, 11.18s/it]\u001b[A"
     ]
    },
    {
     "name": "stdout",
     "output_type": "stream",
     "text": [
      "lit-pcba-MTORC1 /p/vast1/jones289/hd_results/5/hdbind-ecfp-1024-1-100k.lit-pcba-MTORC1.5.pkl hdbind-ecfp-1024-1-100k\n"
     ]
    },
    {
     "name": "stderr",
     "output_type": "stream",
     "text": [
      "\n",
      " 67%|██████▋   | 10/15 [01:37<00:40,  8.18s/it]\u001b[A"
     ]
    },
    {
     "name": "stdout",
     "output_type": "stream",
     "text": [
      "lit-pcba-OPRK1 /p/vast1/jones289/hd_results/5/hdbind-ecfp-1024-1-100k.lit-pcba-OPRK1.5.pkl hdbind-ecfp-1024-1-100k\n"
     ]
    },
    {
     "name": "stderr",
     "output_type": "stream",
     "text": [
      "\n",
      " 73%|███████▎  | 11/15 [01:51<00:39,  9.79s/it]\u001b[A"
     ]
    },
    {
     "name": "stdout",
     "output_type": "stream",
     "text": [
      "lit-pcba-PKM2 /p/vast1/jones289/hd_results/5/hdbind-ecfp-1024-1-100k.lit-pcba-PKM2.5.pkl hdbind-ecfp-1024-1-100k\n"
     ]
    },
    {
     "name": "stderr",
     "output_type": "stream",
     "text": [
      "\n",
      " 80%|████████  | 12/15 [02:03<00:31, 10.44s/it]\u001b[A"
     ]
    },
    {
     "name": "stdout",
     "output_type": "stream",
     "text": [
      "lit-pcba-PPARG /p/vast1/jones289/hd_results/5/hdbind-ecfp-1024-1-100k.lit-pcba-PPARG.5.pkl hdbind-ecfp-1024-1-100k\n"
     ]
    },
    {
     "name": "stderr",
     "output_type": "stream",
     "text": [
      "\n",
      " 87%|████████▋ | 13/15 [02:03<00:14,  7.38s/it]\u001b[A\n",
      " 93%|█████████▎| 14/15 [02:03<00:05,  5.23s/it]\u001b[A"
     ]
    },
    {
     "name": "stdout",
     "output_type": "stream",
     "text": [
      "lit-pcba-TP53 /p/vast1/jones289/hd_results/5/hdbind-ecfp-1024-1-100k.lit-pcba-TP53.5.pkl hdbind-ecfp-1024-1-100k\n",
      "lit-pcba-VDR /p/vast1/jones289/hd_results/5/hdbind-ecfp-1024-1-100k.lit-pcba-VDR.5.pkl hdbind-ecfp-1024-1-100k\n"
     ]
    },
    {
     "name": "stderr",
     "output_type": "stream",
     "text": [
      "\n",
      "100%|██████████| 15/15 [02:21<00:00,  9.46s/it]\u001b[A\n",
      " 71%|███████▏  | 5/7 [11:28<04:29, 134.50s/it]"
     ]
    },
    {
     "name": "stdout",
     "output_type": "stream",
     "text": [
      "molehd-bpe-lit-pcba: 2\t 15\n"
     ]
    },
    {
     "name": "stderr",
     "output_type": "stream",
     "text": [
      "\n",
      "  0%|          | 0/15 [00:00<?, ?it/s]\u001b[A"
     ]
    },
    {
     "name": "stdout",
     "output_type": "stream",
     "text": [
      "lit-pcba-ADRB2 /p/vast1/jones289/hd_results/5/molehd-bpe.lit-pcba-ADRB2.5.pkl molehd-bpe\n"
     ]
    },
    {
     "name": "stderr",
     "output_type": "stream",
     "text": [
      "\n",
      "  7%|▋         | 1/15 [00:15<03:32, 15.18s/it]\u001b[A"
     ]
    },
    {
     "name": "stdout",
     "output_type": "stream",
     "text": [
      "lit-pcba-ALDH1 /p/vast1/jones289/hd_results/5/molehd-bpe.lit-pcba-ALDH1.5.pkl molehd-bpe\n"
     ]
    },
    {
     "name": "stderr",
     "output_type": "stream",
     "text": [
      "\n",
      " 13%|█▎        | 2/15 [00:21<02:11, 10.09s/it]\u001b[A"
     ]
    },
    {
     "name": "stdout",
     "output_type": "stream",
     "text": [
      "lit-pcba-ESR1_ago /p/vast1/jones289/hd_results/5/molehd-bpe.lit-pcba-ESR1_ago.5.pkl molehd-bpe\n"
     ]
    },
    {
     "name": "stderr",
     "output_type": "stream",
     "text": [
      "\n",
      " 20%|██        | 3/15 [00:21<01:07,  5.60s/it]\u001b[A"
     ]
    },
    {
     "name": "stdout",
     "output_type": "stream",
     "text": [
      "lit-pcba-ESR1_ant /p/vast1/jones289/hd_results/5/molehd-bpe.lit-pcba-ESR1_ant.5.pkl molehd-bpe\n"
     ]
    },
    {
     "name": "stderr",
     "output_type": "stream",
     "text": [
      "\n",
      " 27%|██▋       | 4/15 [00:22<00:38,  3.48s/it]\u001b[A"
     ]
    },
    {
     "name": "stdout",
     "output_type": "stream",
     "text": [
      "lit-pcba-FEN1 /p/vast1/jones289/hd_results/5/molehd-bpe.lit-pcba-FEN1.5.pkl molehd-bpe\n"
     ]
    },
    {
     "name": "stderr",
     "output_type": "stream",
     "text": [
      "\n",
      " 33%|███▎      | 5/15 [00:40<01:26,  8.68s/it]\u001b[A"
     ]
    },
    {
     "name": "stdout",
     "output_type": "stream",
     "text": [
      "lit-pcba-GBA /p/vast1/jones289/hd_results/5/molehd-bpe.lit-pcba-GBA.5.pkl molehd-bpe\n"
     ]
    },
    {
     "name": "stderr",
     "output_type": "stream",
     "text": [
      "\n",
      " 40%|████      | 6/15 [00:55<01:37, 10.83s/it]\u001b[A"
     ]
    },
    {
     "name": "stdout",
     "output_type": "stream",
     "text": [
      "lit-pcba-IDH1 /p/vast1/jones289/hd_results/5/molehd-bpe.lit-pcba-IDH1.5.pkl molehd-bpe\n"
     ]
    },
    {
     "name": "stderr",
     "output_type": "stream",
     "text": [
      "\n",
      " 47%|████▋     | 7/15 [01:15<01:52, 14.08s/it]\u001b[A"
     ]
    },
    {
     "name": "stdout",
     "output_type": "stream",
     "text": [
      "lit-pcba-KAT2A /p/vast1/jones289/hd_results/5/molehd-bpe.lit-pcba-KAT2A.5.pkl molehd-bpe\n"
     ]
    },
    {
     "name": "stderr",
     "output_type": "stream",
     "text": [
      "\n",
      " 53%|█████▎    | 8/15 [01:33<01:46, 15.27s/it]\u001b[A"
     ]
    },
    {
     "name": "stdout",
     "output_type": "stream",
     "text": [
      "lit-pcba-MAPK1 /p/vast1/jones289/hd_results/5/molehd-bpe.lit-pcba-MAPK1.5.pkl molehd-bpe\n"
     ]
    },
    {
     "name": "stderr",
     "output_type": "stream",
     "text": [
      "\n",
      " 60%|██████    | 9/15 [01:36<01:07, 11.30s/it]\u001b[A"
     ]
    },
    {
     "name": "stdout",
     "output_type": "stream",
     "text": [
      "lit-pcba-MTORC1 /p/vast1/jones289/hd_results/5/molehd-bpe.lit-pcba-MTORC1.5.pkl molehd-bpe\n"
     ]
    },
    {
     "name": "stderr",
     "output_type": "stream",
     "text": [
      "\n",
      " 67%|██████▋   | 10/15 [01:37<00:41,  8.22s/it]\u001b[A"
     ]
    },
    {
     "name": "stdout",
     "output_type": "stream",
     "text": [
      "lit-pcba-OPRK1 /p/vast1/jones289/hd_results/5/molehd-bpe.lit-pcba-OPRK1.5.pkl molehd-bpe\n"
     ]
    },
    {
     "name": "stderr",
     "output_type": "stream",
     "text": [
      "\n",
      " 73%|███████▎  | 11/15 [01:50<00:38,  9.69s/it]\u001b[A"
     ]
    },
    {
     "name": "stdout",
     "output_type": "stream",
     "text": [
      "lit-pcba-PKM2 /p/vast1/jones289/hd_results/5/molehd-bpe.lit-pcba-PKM2.5.pkl molehd-bpe\n"
     ]
    },
    {
     "name": "stderr",
     "output_type": "stream",
     "text": [
      "\n",
      " 80%|████████  | 12/15 [02:02<00:30, 10.33s/it]\u001b[A"
     ]
    },
    {
     "name": "stdout",
     "output_type": "stream",
     "text": [
      "lit-pcba-PPARG /p/vast1/jones289/hd_results/5/molehd-bpe.lit-pcba-PPARG.5.pkl molehd-bpe\n"
     ]
    },
    {
     "name": "stderr",
     "output_type": "stream",
     "text": [
      "\n",
      " 87%|████████▋ | 13/15 [02:02<00:14,  7.27s/it]\u001b[A\n",
      " 93%|█████████▎| 14/15 [02:02<00:05,  5.14s/it]\u001b[A"
     ]
    },
    {
     "name": "stdout",
     "output_type": "stream",
     "text": [
      "lit-pcba-TP53 /p/vast1/jones289/hd_results/5/molehd-bpe.lit-pcba-TP53.5.pkl molehd-bpe\n",
      "lit-pcba-VDR /p/vast1/jones289/hd_results/5/molehd-bpe.lit-pcba-VDR.5.pkl molehd-bpe\n"
     ]
    },
    {
     "name": "stderr",
     "output_type": "stream",
     "text": [
      "\n",
      "100%|██████████| 15/15 [02:20<00:00,  9.37s/it]\u001b[A\n",
      " 86%|████████▌ | 6/7 [13:49<02:16, 136.57s/it]"
     ]
    },
    {
     "name": "stdout",
     "output_type": "stream",
     "text": [
      "mlp-1024-1-lit-pcba: 2\t 15\n"
     ]
    },
    {
     "name": "stderr",
     "output_type": "stream",
     "text": [
      "\n",
      "  0%|          | 0/15 [00:00<?, ?it/s]\u001b[A"
     ]
    },
    {
     "name": "stdout",
     "output_type": "stream",
     "text": [
      "lit-pcba-ADRB2 /p/vast1/jones289/hd_results/5/mlp-1024-1.lit-pcba-ADRB2.5.pkl mlp-1024-1\n"
     ]
    },
    {
     "name": "stderr",
     "output_type": "stream",
     "text": [
      "\n",
      "  7%|▋         | 1/15 [00:47<11:03, 47.37s/it]\u001b[A"
     ]
    },
    {
     "name": "stdout",
     "output_type": "stream",
     "text": [
      "lit-pcba-ALDH1 /p/vast1/jones289/hd_results/5/mlp-1024-1.lit-pcba-ALDH1.5.pkl mlp-1024-1\n"
     ]
    },
    {
     "name": "stderr",
     "output_type": "stream",
     "text": [
      "\n",
      " 13%|█▎        | 2/15 [01:14<07:42, 35.59s/it]\u001b[A"
     ]
    },
    {
     "name": "stdout",
     "output_type": "stream",
     "text": [
      "lit-pcba-ESR1_ago /p/vast1/jones289/hd_results/5/mlp-1024-1.lit-pcba-ESR1_ago.5.pkl mlp-1024-1\n"
     ]
    },
    {
     "name": "stderr",
     "output_type": "stream",
     "text": [
      "\n",
      " 20%|██        | 3/15 [01:15<03:56, 19.68s/it]\u001b[A"
     ]
    },
    {
     "name": "stdout",
     "output_type": "stream",
     "text": [
      "lit-pcba-ESR1_ant /p/vast1/jones289/hd_results/5/mlp-1024-1.lit-pcba-ESR1_ant.5.pkl mlp-1024-1\n"
     ]
    },
    {
     "name": "stderr",
     "output_type": "stream",
     "text": [
      "\n",
      " 27%|██▋       | 4/15 [01:16<02:13, 12.16s/it]\u001b[A"
     ]
    },
    {
     "name": "stdout",
     "output_type": "stream",
     "text": [
      "lit-pcba-FEN1 /p/vast1/jones289/hd_results/5/mlp-1024-1.lit-pcba-FEN1.5.pkl mlp-1024-1\n"
     ]
    },
    {
     "name": "stderr",
     "output_type": "stream",
     "text": [
      "\n",
      " 33%|███▎      | 5/15 [02:26<05:31, 33.13s/it]\u001b[A"
     ]
    },
    {
     "name": "stdout",
     "output_type": "stream",
     "text": [
      "lit-pcba-GBA /p/vast1/jones289/hd_results/5/mlp-1024-1.lit-pcba-GBA.5.pkl mlp-1024-1\n"
     ]
    },
    {
     "name": "stderr",
     "output_type": "stream",
     "text": [
      "\n",
      " 40%|████      | 6/15 [03:24<06:14, 41.61s/it]\u001b[A"
     ]
    },
    {
     "name": "stdout",
     "output_type": "stream",
     "text": [
      "lit-pcba-IDH1 /p/vast1/jones289/hd_results/5/mlp-1024-1.lit-pcba-IDH1.5.pkl mlp-1024-1\n"
     ]
    },
    {
     "name": "stderr",
     "output_type": "stream",
     "text": [
      "\n",
      " 47%|████▋     | 7/15 [04:22<06:16, 47.03s/it]\u001b[A"
     ]
    },
    {
     "name": "stdout",
     "output_type": "stream",
     "text": [
      "lit-pcba-KAT2A /p/vast1/jones289/hd_results/5/mlp-1024-1.lit-pcba-KAT2A.5.pkl mlp-1024-1\n"
     ]
    },
    {
     "name": "stderr",
     "output_type": "stream",
     "text": [
      "\n",
      " 53%|█████▎    | 8/15 [04:33<04:09, 35.58s/it]\u001b[A"
     ]
    },
    {
     "name": "stdout",
     "output_type": "stream",
     "text": [
      "lit-pcba-MAPK1 /p/vast1/jones289/hd_results/5/mlp-1024-1.lit-pcba-MAPK1.5.pkl mlp-1024-1\n"
     ]
    },
    {
     "name": "stderr",
     "output_type": "stream",
     "text": [
      "\n",
      " 60%|██████    | 9/15 [04:44<02:46, 27.83s/it]\u001b[A"
     ]
    },
    {
     "name": "stdout",
     "output_type": "stream",
     "text": [
      "lit-pcba-MTORC1 /p/vast1/jones289/hd_results/5/mlp-1024-1.lit-pcba-MTORC1.5.pkl mlp-1024-1\n"
     ]
    },
    {
     "name": "stderr",
     "output_type": "stream",
     "text": [
      "\n",
      " 67%|██████▋   | 10/15 [04:49<01:44, 20.90s/it]\u001b[A"
     ]
    },
    {
     "name": "stdout",
     "output_type": "stream",
     "text": [
      "lit-pcba-OPRK1 /p/vast1/jones289/hd_results/5/mlp-1024-1.lit-pcba-OPRK1.5.pkl mlp-1024-1\n"
     ]
    },
    {
     "name": "stderr",
     "output_type": "stream",
     "text": [
      "\n",
      " 73%|███████▎  | 11/15 [05:25<01:42, 25.51s/it]\u001b[A"
     ]
    },
    {
     "name": "stdout",
     "output_type": "stream",
     "text": [
      "lit-pcba-PKM2 /p/vast1/jones289/hd_results/5/mlp-1024-1.lit-pcba-PKM2.5.pkl mlp-1024-1\n"
     ]
    },
    {
     "name": "stderr",
     "output_type": "stream",
     "text": [
      "\n",
      " 80%|████████  | 12/15 [06:14<01:37, 32.46s/it]\u001b[A"
     ]
    },
    {
     "name": "stdout",
     "output_type": "stream",
     "text": [
      "lit-pcba-PPARG /p/vast1/jones289/hd_results/5/mlp-1024-1.lit-pcba-PPARG.5.pkl mlp-1024-1\n"
     ]
    },
    {
     "name": "stderr",
     "output_type": "stream",
     "text": [
      "\n",
      " 87%|████████▋ | 13/15 [06:14<00:45, 22.84s/it]\u001b[A"
     ]
    },
    {
     "name": "stdout",
     "output_type": "stream",
     "text": [
      "lit-pcba-TP53 /p/vast1/jones289/hd_results/5/mlp-1024-1.lit-pcba-TP53.5.pkl mlp-1024-1\n"
     ]
    },
    {
     "name": "stderr",
     "output_type": "stream",
     "text": [
      "\n",
      " 93%|█████████▎| 14/15 [06:15<00:16, 16.13s/it]\u001b[A"
     ]
    },
    {
     "name": "stdout",
     "output_type": "stream",
     "text": [
      "lit-pcba-VDR /p/vast1/jones289/hd_results/5/mlp-1024-1.lit-pcba-VDR.5.pkl mlp-1024-1\n"
     ]
    },
    {
     "name": "stderr",
     "output_type": "stream",
     "text": [
      "\n",
      "100%|██████████| 15/15 [07:28<00:00, 29.91s/it]\u001b[A\n",
      "100%|██████████| 7/7 [21:17<00:00, 182.52s/it]\n",
      "  0%|          | 0/15 [00:00<?, ?it/s]"
     ]
    },
    {
     "name": "stdout",
     "output_type": "stream",
     "text": [
      "0 /p/lustre2/ahashare/zhang30/LIT-PCBA-Data/PKM2-actives.csv\n",
      "PKM2 1 /p/lustre2/ahashare/zhang30/LIT-PCBA-Data/PKM2-actives.csv\n"
     ]
    },
    {
     "name": "stderr",
     "output_type": "stream",
     "text": [
      "\r",
      "  7%|▋         | 1/15 [00:00<00:04,  3.18it/s]"
     ]
    },
    {
     "name": "stdout",
     "output_type": "stream",
     "text": [
      "1 /p/lustre2/ahashare/zhang30/LIT-PCBA-Data/GBA-actives.csv\n",
      "GBA 2 /p/lustre2/ahashare/zhang30/LIT-PCBA-Data/GBA-actives.csv\n"
     ]
    },
    {
     "name": "stderr",
     "output_type": "stream",
     "text": [
      "\r",
      " 13%|█▎        | 2/15 [00:00<00:03,  3.75it/s]"
     ]
    },
    {
     "name": "stdout",
     "output_type": "stream",
     "text": [
      "2 /p/lustre2/ahashare/zhang30/LIT-PCBA-Data/ESR1_ago-actives.csv\n",
      "ESR1_ago 3 /p/lustre2/ahashare/zhang30/LIT-PCBA-Data/ESR1_ago-actives.csv\n",
      "3 /p/lustre2/ahashare/zhang30/LIT-PCBA-Data/MAPK1-actives.csv\n",
      "MAPK1 4 /p/lustre2/ahashare/zhang30/LIT-PCBA-Data/MAPK1-actives.csv\n",
      "4 /p/lustre2/ahashare/zhang30/LIT-PCBA-Data/VDR-actives.csv\n",
      "VDR 5 /p/lustre2/ahashare/zhang30/LIT-PCBA-Data/VDR-actives.csv\n"
     ]
    },
    {
     "name": "stderr",
     "output_type": "stream",
     "text": [
      "\r",
      " 33%|███▎      | 5/15 [00:00<00:01,  5.65it/s]"
     ]
    },
    {
     "name": "stdout",
     "output_type": "stream",
     "text": [
      "5 /p/lustre2/ahashare/zhang30/LIT-PCBA-Data/KAT2A-actives.csv\n",
      "KAT2A 6 /p/lustre2/ahashare/zhang30/LIT-PCBA-Data/KAT2A-actives.csv\n"
     ]
    },
    {
     "name": "stderr",
     "output_type": "stream",
     "text": [
      " 47%|████▋     | 7/15 [00:01<00:01,  5.47it/s]"
     ]
    },
    {
     "name": "stdout",
     "output_type": "stream",
     "text": [
      "6 /p/lustre2/ahashare/zhang30/LIT-PCBA-Data/ALDH1-actives.csv\n",
      "ALDH1 7 /p/lustre2/ahashare/zhang30/LIT-PCBA-Data/ALDH1-actives.csv\n",
      "7 /p/lustre2/ahashare/zhang30/LIT-PCBA-Data/TP53-actives.csv\n",
      "TP53 8 /p/lustre2/ahashare/zhang30/LIT-PCBA-Data/TP53-actives.csv\n",
      "8 /p/lustre2/ahashare/zhang30/LIT-PCBA-Data/PPARG-actives.csv\n",
      "PPARG 9 /p/lustre2/ahashare/zhang30/LIT-PCBA-Data/PPARG-actives.csv\n",
      "9 /p/lustre2/ahashare/zhang30/LIT-PCBA-Data/ADRB2-actives.csv\n",
      "ADRB2 10 /p/lustre2/ahashare/zhang30/LIT-PCBA-Data/ADRB2-actives.csv\n"
     ]
    },
    {
     "name": "stderr",
     "output_type": "stream",
     "text": [
      "\r",
      " 67%|██████▋   | 10/15 [00:01<00:00,  7.71it/s]"
     ]
    },
    {
     "name": "stdout",
     "output_type": "stream",
     "text": [
      "10 /p/lustre2/ahashare/zhang30/LIT-PCBA-Data/MTORC1-actives.csv\n",
      "MTORC1 11 /p/lustre2/ahashare/zhang30/LIT-PCBA-Data/MTORC1-actives.csv\n",
      "11 /p/lustre2/ahashare/zhang30/LIT-PCBA-Data/OPRK1-actives.csv\n",
      "OPRK1 12 /p/lustre2/ahashare/zhang30/LIT-PCBA-Data/OPRK1-actives.csv\n"
     ]
    },
    {
     "name": "stderr",
     "output_type": "stream",
     "text": [
      "\r",
      " 80%|████████  | 12/15 [00:01<00:00,  8.12it/s]"
     ]
    },
    {
     "name": "stdout",
     "output_type": "stream",
     "text": [
      "12 /p/lustre2/ahashare/zhang30/LIT-PCBA-Data/IDH1-actives.csv\n",
      "IDH1 13 /p/lustre2/ahashare/zhang30/LIT-PCBA-Data/IDH1-actives.csv\n"
     ]
    },
    {
     "name": "stderr",
     "output_type": "stream",
     "text": [
      "\r",
      " 87%|████████▋ | 13/15 [00:02<00:00,  7.12it/s]"
     ]
    },
    {
     "name": "stdout",
     "output_type": "stream",
     "text": [
      "13 /p/lustre2/ahashare/zhang30/LIT-PCBA-Data/ESR1_ant-actives.csv\n",
      "ESR1_ant 14 /p/lustre2/ahashare/zhang30/LIT-PCBA-Data/ESR1_ant-actives.csv\n",
      "14 /p/lustre2/ahashare/zhang30/LIT-PCBA-Data/FEN1-actives.csv\n",
      "FEN1 15 /p/lustre2/ahashare/zhang30/LIT-PCBA-Data/FEN1-actives.csv\n"
     ]
    },
    {
     "name": "stderr",
     "output_type": "stream",
     "text": [
      "100%|██████████| 15/15 [00:02<00:00,  6.59it/s]\n"
     ]
    }
   ],
   "source": [
    "\n",
    "model_metric_df = compute_model_metric_df()\n"
   ]
  },
  {
   "cell_type": "code",
   "execution_count": 8,
   "metadata": {},
   "outputs": [
    {
     "data": {
      "text/plain": [
       "0     hdbind-rp-molformer\n",
       "1     hdbind-rp-molformer\n",
       "2     hdbind-rp-molformer\n",
       "3     hdbind-rp-molformer\n",
       "4     hdbind-rp-molformer\n",
       "             ...         \n",
       "25                   Vina\n",
       "26                   Vina\n",
       "27                   Vina\n",
       "28                   Vina\n",
       "29                   Vina\n",
       "Name: model, Length: 2130, dtype: object"
      ]
     },
     "execution_count": 8,
     "metadata": {},
     "output_type": "execute_result"
    }
   ],
   "source": [
    "model_metric_df[\"model\"]"
   ]
  },
  {
   "cell_type": "code",
   "execution_count": 9,
   "metadata": {},
   "outputs": [],
   "source": [
    "(model_metric_df).groupby([\"model\", \"target\", \"p\"])[\"enrich\"].describe().to_csv(\"summary_ef_stats.csv\")"
   ]
  },
  {
   "cell_type": "code",
   "execution_count": 127,
   "metadata": {},
   "outputs": [],
   "source": [
    "def make_box_plot(enrich_1_df, enrich_10_df):\n",
    "    \n",
    "    enrich_f, enrich_ax = plt.subplots(2,1, figsize=(12,10), sharex=True, sharey=False)\n",
    "    enrich_ax = enrich_ax.flatten()\n",
    "    enrich_1_ax, enrich_10_ax = enrich_ax[0], enrich_ax[1]\n",
    "    \n",
    "#     sns.boxplot(data=enrich_1_df, x=\"model\", y=\"enrich\", ax=enrich_1_ax, palette=color_dict)\n",
    "    sns.swarmplot(data=enrich_1_df, x=\"model\", y=\"enrich\", \n",
    "                  order=list(model_dict.keys()),\n",
    "                  palette={key: value[1] for key, value in model_dict.items()},\n",
    "                  ax=enrich_1_ax)\n",
    "    enrich_1_ax.set_title(\"(a) LIT-PCBA Enrichment at 1\\%\", fontdict={\"fontsize\": 18})\n",
    "    enrich_1_ax.set_xlabel(\"\")\n",
    "    enrich_1_ax.set_ylabel(\"\")\n",
    "    enrich_1_ax.tick_params(axis=\"x\", labelrotation=22.5)\n",
    "\n",
    "    enrich_1_ax.set_ylabel(\"EF\")\n",
    "\n",
    "    plt.tight_layout()\n",
    "\n",
    "    \n",
    "#     sns.boxplot(data=enrich_10_df, x=\"model\", y=\"enrich\", ax=enrich_10_ax, palette=color_dict)\n",
    "    \n",
    "    sns.swarmplot(data=enrich_10_df, x=\"model\", y=\"enrich\",\n",
    "                  order=list(model_dict.keys()),\n",
    "                  palette={key: value[1] for key, value in model_dict.items()},\n",
    "                  ax=enrich_10_ax)\n",
    "\n",
    "    enrich_10_ax.set_title(\"(b) LIT-PCBA Enrichment at 10\\%\", fontdict={\"fontsize\": 18})\n",
    "    enrich_10_ax.set_xlabel(\"\")\n",
    "    enrich_10_ax.set_ylabel(\"\")\n",
    "    enrich_10_ax.tick_params(axis=\"x\", labelrotation=22.5)\n",
    "    labels = [model_dict[item.get_text()][0] for item in enrich_10_ax.get_xticklabels()]\n",
    "#     labels = [model_name_dict[x.get_text()] for x in enrich_10_ax.get_xticklabels()]\n",
    "#     labels[-1] = combo_model_name\n",
    "    enrich_10_ax.set_xticklabels(labels)\n",
    "    enrich_ax[0].set_ylabel(\"EF\")\n",
    "    enrich_ax[1].set_ylabel(\"EF\")\n",
    "\n",
    "    plt.tight_layout()\n",
    "    # enrich_10_f.savefig(\"enrich_10.png\", dpi=600, bbox_inches=\"tight\")\n",
    "    # enrich_10_f\n",
    "    \n",
    "    enrich_f.savefig(\"lit-pcba-enrich.png\", dpi=600, bbox_inches=\"tight\")\n",
    "\n",
    "#     return enrich_f"
   ]
  },
  {
   "cell_type": "code",
   "execution_count": 128,
   "metadata": {},
   "outputs": [],
   "source": [
    "# take the average over the random seeds dimension for each combo of MODEL X TARGET X P\n",
    "grp_df = (model_metric_df).groupby([\"model\", \"target\", \"p\"])[\"enrich\"].mean().reset_index()\n",
    "grp_df = grp_df.sort_values(by=\"model\")\n"
   ]
  },
  {
   "cell_type": "code",
   "execution_count": 129,
   "metadata": {},
   "outputs": [
    {
     "data": {
      "text/html": [
       "<div>\n",
       "<style scoped>\n",
       "    .dataframe tbody tr th:only-of-type {\n",
       "        vertical-align: middle;\n",
       "    }\n",
       "\n",
       "    .dataframe tbody tr th {\n",
       "        vertical-align: top;\n",
       "    }\n",
       "\n",
       "    .dataframe thead th {\n",
       "        text-align: right;\n",
       "    }\n",
       "</style>\n",
       "<table border=\"1\" class=\"dataframe\">\n",
       "  <thead>\n",
       "    <tr style=\"text-align: right;\">\n",
       "      <th></th>\n",
       "      <th>model</th>\n",
       "      <th>target</th>\n",
       "      <th>p</th>\n",
       "      <th>enrich</th>\n",
       "    </tr>\n",
       "  </thead>\n",
       "  <tbody>\n",
       "    <tr>\n",
       "      <th>29</th>\n",
       "      <td>Vina</td>\n",
       "      <td>VDR</td>\n",
       "      <td>0.1</td>\n",
       "      <td>1.052632</td>\n",
       "    </tr>\n",
       "    <tr>\n",
       "      <th>27</th>\n",
       "      <td>Vina</td>\n",
       "      <td>TP53</td>\n",
       "      <td>0.1</td>\n",
       "      <td>1.593379</td>\n",
       "    </tr>\n",
       "    <tr>\n",
       "      <th>25</th>\n",
       "      <td>Vina</td>\n",
       "      <td>PPARG</td>\n",
       "      <td>0.1</td>\n",
       "      <td>1.110483</td>\n",
       "    </tr>\n",
       "    <tr>\n",
       "      <th>23</th>\n",
       "      <td>Vina</td>\n",
       "      <td>PKM2</td>\n",
       "      <td>0.1</td>\n",
       "      <td>1.824729</td>\n",
       "    </tr>\n",
       "    <tr>\n",
       "      <th>19</th>\n",
       "      <td>Vina</td>\n",
       "      <td>MTORC1</td>\n",
       "      <td>0.1</td>\n",
       "      <td>0.833031</td>\n",
       "    </tr>\n",
       "    <tr>\n",
       "      <th>...</th>\n",
       "      <td>...</td>\n",
       "      <td>...</td>\n",
       "      <td>...</td>\n",
       "      <td>...</td>\n",
       "    </tr>\n",
       "    <tr>\n",
       "      <th>215</th>\n",
       "      <td>molehd-bpe</td>\n",
       "      <td>lit-pcba-ESR1_ago</td>\n",
       "      <td>0.1</td>\n",
       "      <td>0.000000</td>\n",
       "    </tr>\n",
       "    <tr>\n",
       "      <th>213</th>\n",
       "      <td>molehd-bpe</td>\n",
       "      <td>lit-pcba-ALDH1</td>\n",
       "      <td>0.1</td>\n",
       "      <td>2.009154</td>\n",
       "    </tr>\n",
       "    <tr>\n",
       "      <th>211</th>\n",
       "      <td>molehd-bpe</td>\n",
       "      <td>lit-pcba-ADRB2</td>\n",
       "      <td>0.1</td>\n",
       "      <td>0.000000</td>\n",
       "    </tr>\n",
       "    <tr>\n",
       "      <th>223</th>\n",
       "      <td>molehd-bpe</td>\n",
       "      <td>lit-pcba-IDH1</td>\n",
       "      <td>0.1</td>\n",
       "      <td>3.499691</td>\n",
       "    </tr>\n",
       "    <tr>\n",
       "      <th>239</th>\n",
       "      <td>molehd-bpe</td>\n",
       "      <td>lit-pcba-VDR</td>\n",
       "      <td>0.1</td>\n",
       "      <td>3.542907</td>\n",
       "    </tr>\n",
       "  </tbody>\n",
       "</table>\n",
       "<p>120 rows × 4 columns</p>\n",
       "</div>"
      ],
      "text/plain": [
       "          model             target    p    enrich\n",
       "29         Vina                VDR  0.1  1.052632\n",
       "27         Vina               TP53  0.1  1.593379\n",
       "25         Vina              PPARG  0.1  1.110483\n",
       "23         Vina               PKM2  0.1  1.824729\n",
       "19         Vina             MTORC1  0.1  0.833031\n",
       "..          ...                ...  ...       ...\n",
       "215  molehd-bpe  lit-pcba-ESR1_ago  0.1  0.000000\n",
       "213  molehd-bpe     lit-pcba-ALDH1  0.1  2.009154\n",
       "211  molehd-bpe     lit-pcba-ADRB2  0.1  0.000000\n",
       "223  molehd-bpe      lit-pcba-IDH1  0.1  3.499691\n",
       "239  molehd-bpe       lit-pcba-VDR  0.1  3.542907\n",
       "\n",
       "[120 rows x 4 columns]"
      ]
     },
     "execution_count": 129,
     "metadata": {},
     "output_type": "execute_result"
    }
   ],
   "source": [
    "grp_df[grp_df[\"p\"] == .1]"
   ]
  },
  {
   "cell_type": "code",
   "execution_count": 130,
   "metadata": {},
   "outputs": [
    {
     "data": {
      "text/html": [
       "<div>\n",
       "<style scoped>\n",
       "    .dataframe tbody tr th:only-of-type {\n",
       "        vertical-align: middle;\n",
       "    }\n",
       "\n",
       "    .dataframe tbody tr th {\n",
       "        vertical-align: top;\n",
       "    }\n",
       "\n",
       "    .dataframe thead th {\n",
       "        text-align: right;\n",
       "    }\n",
       "</style>\n",
       "<table border=\"1\" class=\"dataframe\">\n",
       "  <thead>\n",
       "    <tr style=\"text-align: right;\">\n",
       "      <th></th>\n",
       "      <th>model</th>\n",
       "      <th>target</th>\n",
       "      <th>p</th>\n",
       "      <th>enrich</th>\n",
       "    </tr>\n",
       "  </thead>\n",
       "  <tbody>\n",
       "    <tr>\n",
       "      <th>0</th>\n",
       "      <td>Vina</td>\n",
       "      <td>ADRB2</td>\n",
       "      <td>0.01</td>\n",
       "      <td>0.000000</td>\n",
       "    </tr>\n",
       "    <tr>\n",
       "      <th>28</th>\n",
       "      <td>Vina</td>\n",
       "      <td>VDR</td>\n",
       "      <td>0.01</td>\n",
       "      <td>1.315071</td>\n",
       "    </tr>\n",
       "    <tr>\n",
       "      <th>26</th>\n",
       "      <td>Vina</td>\n",
       "      <td>TP53</td>\n",
       "      <td>0.01</td>\n",
       "      <td>0.000000</td>\n",
       "    </tr>\n",
       "    <tr>\n",
       "      <th>24</th>\n",
       "      <td>Vina</td>\n",
       "      <td>PPARG</td>\n",
       "      <td>0.01</td>\n",
       "      <td>0.000000</td>\n",
       "    </tr>\n",
       "    <tr>\n",
       "      <th>22</th>\n",
       "      <td>Vina</td>\n",
       "      <td>PKM2</td>\n",
       "      <td>0.01</td>\n",
       "      <td>2.188966</td>\n",
       "    </tr>\n",
       "    <tr>\n",
       "      <th>...</th>\n",
       "      <td>...</td>\n",
       "      <td>...</td>\n",
       "      <td>...</td>\n",
       "      <td>...</td>\n",
       "    </tr>\n",
       "    <tr>\n",
       "      <th>216</th>\n",
       "      <td>molehd-bpe</td>\n",
       "      <td>lit-pcba-ESR1_ant</td>\n",
       "      <td>0.01</td>\n",
       "      <td>22.793787</td>\n",
       "    </tr>\n",
       "    <tr>\n",
       "      <th>214</th>\n",
       "      <td>molehd-bpe</td>\n",
       "      <td>lit-pcba-ESR1_ago</td>\n",
       "      <td>0.01</td>\n",
       "      <td>0.000000</td>\n",
       "    </tr>\n",
       "    <tr>\n",
       "      <th>212</th>\n",
       "      <td>molehd-bpe</td>\n",
       "      <td>lit-pcba-ALDH1</td>\n",
       "      <td>0.01</td>\n",
       "      <td>3.318849</td>\n",
       "    </tr>\n",
       "    <tr>\n",
       "      <th>210</th>\n",
       "      <td>molehd-bpe</td>\n",
       "      <td>lit-pcba-ADRB2</td>\n",
       "      <td>0.01</td>\n",
       "      <td>0.000000</td>\n",
       "    </tr>\n",
       "    <tr>\n",
       "      <th>238</th>\n",
       "      <td>molehd-bpe</td>\n",
       "      <td>lit-pcba-VDR</td>\n",
       "      <td>0.01</td>\n",
       "      <td>10.267804</td>\n",
       "    </tr>\n",
       "  </tbody>\n",
       "</table>\n",
       "<p>120 rows × 4 columns</p>\n",
       "</div>"
      ],
      "text/plain": [
       "          model             target     p     enrich\n",
       "0          Vina              ADRB2  0.01   0.000000\n",
       "28         Vina                VDR  0.01   1.315071\n",
       "26         Vina               TP53  0.01   0.000000\n",
       "24         Vina              PPARG  0.01   0.000000\n",
       "22         Vina               PKM2  0.01   2.188966\n",
       "..          ...                ...   ...        ...\n",
       "216  molehd-bpe  lit-pcba-ESR1_ant  0.01  22.793787\n",
       "214  molehd-bpe  lit-pcba-ESR1_ago  0.01   0.000000\n",
       "212  molehd-bpe     lit-pcba-ALDH1  0.01   3.318849\n",
       "210  molehd-bpe     lit-pcba-ADRB2  0.01   0.000000\n",
       "238  molehd-bpe       lit-pcba-VDR  0.01  10.267804\n",
       "\n",
       "[120 rows x 4 columns]"
      ]
     },
     "execution_count": 130,
     "metadata": {},
     "output_type": "execute_result"
    }
   ],
   "source": [
    "grp_df[grp_df[\"p\"] == .01]"
   ]
  },
  {
   "cell_type": "code",
   "execution_count": 131,
   "metadata": {
    "scrolled": false
   },
   "outputs": [
    {
     "data": {
      "image/png": "[encoded data removed]",
      "text/plain": [
       "<Figure size 864x720 with 2 Axes>"
      ]
     },
     "metadata": {
      "needs_background": "light"
     },
     "output_type": "display_data"
    }
   ],
   "source": [
    "make_box_plot(enrich_1_df=grp_df[grp_df[\"p\"] == .01], \n",
    "          enrich_10_df=grp_df[grp_df[\"p\"] == .1])"
   ]
  },
  {
   "cell_type": "markdown",
   "metadata": {},
   "source": [
    "- should add the average EF (median?) to the labels on the horizontal axis\n",
    "- scale the point size by standard deviation?\n",
    "- standard scale the molformer embeddings?"
   ]
  },
  {
   "cell_type": "code",
   "execution_count": 43,
   "metadata": {},
   "outputs": [],
   "source": [
    "def timing_plot(input_tup_list:list, dataset:str):\n",
    "    \n",
    "    \n",
    "    f, ax = plt.subplots(1, 1, figsize=(12,10))\n",
    "    \n",
    "    df_dict = {\"target\": [], \"model\": [], \"time\": [], \"format_name\": []}\n",
    "    for model_name, format_name in input_tup_list:\n",
    "        \n",
    "        data_path_list = list(data_p.glob(f\"{model_name}.{dataset}*.pkl\"))\n",
    "        \n",
    "        for path in data_path_list:\n",
    "            with open(path, \"rb\") as handle:\n",
    "                data = pickle.load(handle)\n",
    "                \n",
    "                test_time_list = []\n",
    "                for i in range(10):\n",
    "                    df_dict[\"time\"].append(data[\"trials\"][i][\"test_time\"]/data[\"y_test\"].shape[0])\n",
    "                    df_dict[\"target\"].append(path.name)\n",
    "                    df_dict[\"model\"].append(model_name)\n",
    "                    df_dict[\"format_name\"].append(format_name)\n",
    "                    \n",
    "\n",
    "    df = pd.DataFrame(df_dict)\n",
    "    xlabels = (df.groupby([\"model\", \"format_name\"]).median().reset_index()[\"format_name\"]).values.tolist()\n",
    "#     import pdb\n",
    "#     pdb.set_trace()\n",
    "    sns.swarmplot(data=df.groupby([\"target\", \"model\", \"format_name\"]).median().reset_index(),\n",
    "                  order=[x for x in model_dict.keys()],\n",
    "                  x=\"model\", y=\"time\", ax=ax)\n",
    "\n",
    "    ax.tick_params(axis=\"x\", labelrotation=22.5)\n",
    "    ax.set_yscale(\"log\")\n",
    "#     labels = [item.get_text() for item in ax.get_xticklabels()]\n",
    "#     labels = [x[1] for x in input_tup_list]\n",
    "    ax.set_xticklabels(xlabels)\n",
    "    \n",
    "    f.savefig(\"lit-pcba-timing.png\", dpi=600, bbox_inches=\"tight\")\n",
    "    \n",
    "    return df\n",
    "    "
   ]
  },
  {
   "cell_type": "code",
   "execution_count": 16,
   "metadata": {
    "scrolled": false
   },
   "outputs": [
    {
     "data": {
      "image/png": "[encoded data removed]",
      "text/plain": [
       "<Figure size 864x720 with 1 Axes>"
      ]
     },
     "metadata": {
      "needs_background": "light"
     },
     "output_type": "display_data"
    }
   ],
   "source": [
    "time_df = timing_plot([(\"mlp-1024-1\", \"MLP (GPU)\"),\n",
    "            (\"hdbind-rp-molformer\", \"RP-MolFormer (GPU)\"),\n",
    "            (\"molehd-bpe\", \"MoleHD-BPE (CPU)\"),\n",
    "            (\"hdbind-ecfp-1024-1-100\", \"RP-ECFP-100 (GPU)\"),\n",
    "                      (\"hdbind-ecfp-1024-1-1k\", \"RP-ECFP-1k (GPU)\"),\n",
    "                      (\"hdbind-ecfp-1024-1-100k\", \"RP-ECFP-100k (GPU)\")], \n",
    "                      dataset=\"lit-pcba\")"
   ]
  },
  {
   "cell_type": "code",
   "execution_count": 17,
   "metadata": {},
   "outputs": [],
   "source": [
    "avg_times = time_df.groupby([\"model\"]).mean()[\"time\"].reset_index()\n",
    "# avg_times.reset_index()"
   ]
  },
  {
   "cell_type": "code",
   "execution_count": 18,
   "metadata": {},
   "outputs": [
    {
     "data": {
      "text/plain": [
       "(2.464742463662965e-06, 'hdbind-ecfp-1024-1-100')"
      ]
     },
     "execution_count": 18,
     "metadata": {},
     "output_type": "execute_result"
    }
   ],
   "source": [
    "avg_times[\"time\"][0], avg_times[\"model\"][0]"
   ]
  },
  {
   "cell_type": "code",
   "execution_count": 19,
   "metadata": {},
   "outputs": [
    {
     "data": {
      "text/plain": [
       "(2.7831767629267104e-06, 'hdbind-ecfp-1024-1-100k')"
      ]
     },
     "execution_count": 19,
     "metadata": {},
     "output_type": "execute_result"
    }
   ],
   "source": [
    "avg_times[\"time\"][1], avg_times[\"model\"][1]"
   ]
  },
  {
   "cell_type": "code",
   "execution_count": 20,
   "metadata": {},
   "outputs": [
    {
     "data": {
      "text/plain": [
       "(2.700661204010133e-06, 'hdbind-ecfp-1024-1-1k')"
      ]
     },
     "execution_count": 20,
     "metadata": {},
     "output_type": "execute_result"
    }
   ],
   "source": [
    "avg_times[\"time\"][2], avg_times[\"model\"][2]"
   ]
  },
  {
   "cell_type": "code",
   "execution_count": 21,
   "metadata": {},
   "outputs": [
    {
     "data": {
      "text/plain": [
       "(2.895931704911038e-06, 'hdbind-rp-molformer')"
      ]
     },
     "execution_count": 21,
     "metadata": {},
     "output_type": "execute_result"
    }
   ],
   "source": [
    "avg_times[\"time\"][3], avg_times[\"model\"][3]"
   ]
  },
  {
   "cell_type": "code",
   "execution_count": 22,
   "metadata": {},
   "outputs": [
    {
     "data": {
      "text/plain": [
       "(3.2678669578548485e-06, 'mlp-1024-1')"
      ]
     },
     "execution_count": 22,
     "metadata": {},
     "output_type": "execute_result"
    }
   ],
   "source": [
    "avg_times[\"time\"][4], avg_times[\"model\"][4]"
   ]
  },
  {
   "cell_type": "code",
   "execution_count": 23,
   "metadata": {},
   "outputs": [
    {
     "data": {
      "text/plain": [
       "(1.0359372603512413e-05, 'molehd-bpe')"
      ]
     },
     "execution_count": 23,
     "metadata": {},
     "output_type": "execute_result"
    }
   ],
   "source": [
    "avg_times[\"time\"][5], avg_times[\"model\"][5]"
   ]
  },
  {
   "cell_type": "markdown",
   "metadata": {},
   "source": [
    "---"
   ]
  },
  {
   "cell_type": "code",
   "execution_count": 24,
   "metadata": {},
   "outputs": [
    {
     "data": {
      "text/plain": [
       "24.57641343878592"
      ]
     },
     "execution_count": 24,
     "metadata": {},
     "output_type": "execute_result"
    }
   ],
   "source": [
    "100 * abs( avg_times[\"time\"][0] - avg_times[\"time\"][4])/(avg_times[\"time\"][4])"
   ]
  },
  {
   "cell_type": "code",
   "execution_count": 25,
   "metadata": {},
   "outputs": [
    {
     "data": {
      "text/plain": [
       "1.3258451972293788"
      ]
     },
     "execution_count": 25,
     "metadata": {},
     "output_type": "execute_result"
    }
   ],
   "source": [
    "avg_times[\"time\"][4] / avg_times[\"time\"][0]"
   ]
  },
  {
   "cell_type": "code",
   "execution_count": 26,
   "metadata": {},
   "outputs": [
    {
     "data": {
      "text/plain": [
       "4.203024354973332"
      ]
     },
     "execution_count": 26,
     "metadata": {},
     "output_type": "execute_result"
    }
   ],
   "source": [
    "avg_times[\"time\"][5] / avg_times[\"time\"][0]"
   ]
  },
  {
   "cell_type": "code",
   "execution_count": 27,
   "metadata": {},
   "outputs": [
    {
     "data": {
      "text/plain": [
       "0.8855860312196309"
      ]
     },
     "execution_count": 27,
     "metadata": {},
     "output_type": "execute_result"
    }
   ],
   "source": [
    "avg_times[\"time\"][0] / avg_times[\"time\"][1]"
   ]
  },
  {
   "cell_type": "markdown",
   "metadata": {},
   "source": [
    "- theres way more parameters in the hdbind-rp-molformer as compared to the mlp\n",
    "- (1024 * 10000 = 10.24M parameters)\n",
    "- (\n",
    "- can D go higher? a .85x slow down from 100 to 10000 seems pretty small, there also seems to be a considerable increase in accuracy when pushing D higher..."
   ]
  },
  {
   "cell_type": "code",
   "execution_count": null,
   "metadata": {},
   "outputs": [],
   "source": []
  }
 ],
 "metadata": {
  "kernelspec": {
   "display_name": "dtra_reactivator",
   "language": "python",
   "name": "dtra_reactivator"
  },
  "language_info": {
   "codemirror_mode": {
    "name": "ipython",
    "version": 3
   },
   "file_extension": ".py",
   "mimetype": "text/x-python",
   "name": "python",
   "nbconvert_exporter": "python",
   "pygments_lexer": "ipython3",
   "version": "3.8.12"
  }
 },
 "nbformat": 4,
 "nbformat_minor": 4
}
