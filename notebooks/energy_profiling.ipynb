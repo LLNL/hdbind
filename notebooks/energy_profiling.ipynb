{
 "cells": [
  {
   "cell_type": "code",
   "execution_count": 1,
   "id": "b879943b",
   "metadata": {},
   "outputs": [],
   "source": [
    "import pandas as pd\n",
    "import matplotlib.pyplot as plt\n",
    "import seaborn as sns\n",
    "sns.set_style(\"whitegrid\")"
   ]
  },
  {
   "cell_type": "code",
   "execution_count": 2,
   "id": "06a68bc8",
   "metadata": {},
   "outputs": [],
   "source": [
    "def power_main(path, title, outpath, color):\n",
    "    df = pd.read_csv(path)\n",
    "    # the last row contains truncated output so we'll skip\n",
    "    df = df.drop(df.index[-1])\n",
    "#     df\n",
    "    f, ax = plt.subplots(2,2, figsize=(16,16))\n",
    "    f.suptitle(title, fontsize=24)\n",
    "\n",
    "    ax = ax.flatten()\n",
    "    for idx, (grp, grp_df) in enumerate(df.groupby(\"index\")):\n",
    "    \n",
    "        x = grp_df.index\n",
    "    #     import pdb\n",
    "    #     pdb.set_trace()\n",
    "        y = grp_df[\" power.draw [W]\"].apply(lambda x: float(x.split(\" \")[1]))\n",
    "        ax[idx].set_ylabel(\"Power (W)\")\n",
    "        ax[idx].set_title(f\"GPU-{idx}\")\n",
    "        sns.lineplot(x, y, ax=ax[idx], color=color)\n",
    "    \n",
    "    plt.savefig(outpath, dpi=450)\n",
    "\n",
    "        \n",
    "        \n",
    "def memory_main(path, title, outpath, color, memory_filter=False):\n",
    "    df = pd.read_csv(path)\n",
    "    # the last row contains truncated output so we'll skip\n",
    "    df = df.drop(df.index[-1])\n",
    "\n",
    "    # if using the memory filter, only keep rows where memory usage is greater than 0 for GPU 0\n",
    "\n",
    "    if memory_filter:\n",
    "        mem_filt_idx = df[df.apply(lambda x: x['Memory (MiB)'] > 0, axis=1)].index.values\n",
    "\n",
    "\n",
    "    # print(df.columns)\n",
    "#     df\n",
    "    f, ax = plt.subplots(2,2, figsize=(16,16))\n",
    "    f.suptitle(title, fontsize=24)\n",
    "\n",
    "    ax = ax.flatten()\n",
    "    for idx, (grp, grp_df) in enumerate(df.groupby(\"index\")):\n",
    "    \n",
    "        x = grp_df.index\n",
    "    #     import pdb\n",
    "    #     pdb.set_trace()\n",
    "        y = grp_df[' memory.used [MiB]'].apply(lambda x: float(x.split(\" \")[1]))\n",
    "        ax[idx].set_ylabel(\"Memory (MiB)\")\n",
    "        ax[idx].set_title(f\"GPU-{idx}\")\n",
    "        sns.lineplot(x, y, ax=ax[idx], color=color)\n",
    "    plt.savefig(outpath, dpi=450)\n",
    "        \n",
    "\n",
    "\n",
    "\n",
    "def energy_main(path, color=\"g\"):\n",
    "    df = pd.read_csv(path)\n",
    "    # the last row contains truncated output so we'll skip\n",
    "    df = df.drop(df.index[-1])\n",
    "\n",
    "    df = df[df['index'] == 0]\n",
    "    df[\"memory\"] = df[' memory.used [MiB]'].apply(lambda x: float(x.split(\" \")[1]))  > 10\n",
    "    df[\"power\"] = df[\" power.draw [W]\"].apply(lambda x: float(x.split(\" \")[1]))\n",
    "\n",
    "    df = df.iloc[df[\"memory\"].values, :]\n",
    "\n",
    "\n",
    "    print(df[\"power\"].describe())\n",
    "\n",
    "    # import pdb\n",
    "    # pdb.set_trace()\n",
    "#     df\n",
    "    # f, ax = plt.subplots(1,1, figsize=(16,16))\n",
    "    # f.suptitle(title, fontsize=24)\n",
    "\n",
    "    # ax = ax.flatten()\n",
    "    # for grp, grp_df in enumerate(df.groupby(\"index\")):\n",
    "    \n",
    "        # x = grp_df.index\n",
    "    #     import pdb\n",
    "    #     pdb.set_trace()\n",
    "        # y = grp_df[\" power.draw [W]\"].apply(lambda x: float(x.split(\" \")[1]))\n",
    "        # y = grp_df[\"power\"]\n",
    "        # ax.set_ylabel(\"Power (W)\")\n",
    "        # ax.set_title(f\"GPU-0\")\n",
    "        # sns.lineplot(x, y, ax=ax, color=color)\n",
    "    \n",
    "    # plt.savefig(outpath, dpi=450)\n",
    "\n",
    "\n",
    "\n",
    "\n",
    "def main(path, model_name):\n",
    "    # power_main(path,\n",
    "            # outpath=f\"{model_name}_power_profile.png\",\n",
    "            # title=f\"{model_name} Power\",\n",
    "            # color=\"blue\")\n",
    "    # memory_main(path,\n",
    "            # outpath=f\"{model_name}_memory_profile.png\",\n",
    "            # title=f\"{model_name} Memory usage\",\n",
    "            # color=\"green\")\n",
    "    \n",
    "    energy_main(path)\n"
   ]
  },
  {
   "cell_type": "code",
   "execution_count": 3,
   "id": "c4a499a8",
   "metadata": {
    "scrolled": false
   },
   "outputs": [
    {
     "name": "stdout",
     "output_type": "stream",
     "text": [
      "count    419.000000\n",
      "mean      54.868401\n",
      "std        6.080235\n",
      "min       51.220000\n",
      "25%       51.750000\n",
      "50%       53.240000\n",
      "75%       55.230000\n",
      "max       80.610000\n",
      "Name: power, dtype: float64\n",
      "count    276.000000\n",
      "mean      53.758804\n",
      "std        1.420937\n",
      "min       50.760000\n",
      "25%       52.250000\n",
      "50%       53.240000\n",
      "75%       55.230000\n",
      "max       56.230000\n",
      "Name: power, dtype: float64\n",
      "count    90.000000\n",
      "mean     54.239778\n",
      "std       1.937428\n",
      "min      51.720000\n",
      "25%      51.750000\n",
      "50%      55.230000\n",
      "75%      55.730000\n",
      "max      56.730000\n",
      "Name: power, dtype: float64\n"
     ]
    }
   ],
   "source": [
    "main(path=\"/g/g13/jones289/workspace/hd-cuda-master/hdpy/hdc_profile_encode.csv\", model_name=\"HDB-MoLFormer-encode\")\n",
    "main(path=\"/g/g13/jones289/workspace/hd-cuda-master/hdpy/hdc_profile_train.csv\", model_name=\"HDB-MoLFormer-train\")\n",
    "main(path=\"/g/g13/jones289/workspace/hd-cuda-master/hdpy/hdc_profile_test.csv\", model_name=\"HDB-MoLFormer-test\")"
   ]
  },
  {
   "cell_type": "code",
   "execution_count": 6,
   "id": "8fd78c7c",
   "metadata": {},
   "outputs": [
    {
     "name": "stdout",
     "output_type": "stream",
     "text": [
      "count    180.000000\n",
      "mean      53.383556\n",
      "std        1.299693\n",
      "min       50.820000\n",
      "25%       52.310000\n",
      "50%       52.810000\n",
      "75%       54.870000\n",
      "max       55.360000\n",
      "Name: power, dtype: float64\n",
      "count    40.0000\n",
      "mean     52.4740\n",
      "std       0.9118\n",
      "min      51.6500\n",
      "25%      51.9300\n",
      "50%      51.9700\n",
      "75%      52.4300\n",
      "max      55.3600\n",
      "Name: power, dtype: float64\n",
      "count    120.000000\n",
      "mean      53.881917\n",
      "std        1.320245\n",
      "min       51.440000\n",
      "25%       52.420000\n",
      "50%       54.540000\n",
      "75%       54.870000\n",
      "max       55.400000\n",
      "Name: power, dtype: float64\n",
      "count    19.000000\n",
      "mean     52.761053\n",
      "std       1.135326\n",
      "min      51.780000\n",
      "25%      51.930000\n",
      "50%      51.930000\n",
      "75%      53.340000\n",
      "max      55.360000\n",
      "Name: power, dtype: float64\n"
     ]
    }
   ],
   "source": [
    "main(path=\"/g/g13/jones289/workspace/hd-cuda-master/hdpy/mlp-small_profile_mlp-train.csv\", model_name=\"MLP-small train\")\n",
    "main(path=\"/g/g13/jones289/workspace/hd-cuda-master/hdpy/mlp-small_profile_mlp-test.csv\", model_name=\"MLP-small test\")\n",
    "main(path=\"/g/g13/jones289/workspace/hd-cuda-master/hdpy/mlp-large_profile_mlp-train.csv\", model_name=\"MLP-large train\")\n",
    "main(path=\"/g/g13/jones289/workspace/hd-cuda-master/hdpy/mlp-large_profile_mlp-test.csv\", model_name=\"MLP-large test\")\n",
    "# main(path=\"/g/g13/jones289/workspace/hd-cuda-master/hdpy/hdc_profile_train.csv\", model_name=\"HDB-MoLFormer-train\")\n",
    "# main(path=\"/g/g13/jones289/workspace/hd-cuda-master/hdpy/hdc_profile_test.csv\", model_name=\"HDB-MoLFormer-test\")"
   ]
  },
  {
   "cell_type": "code",
   "execution_count": 5,
   "id": "dec03ad5",
   "metadata": {
    "scrolled": false
   },
   "outputs": [],
   "source": [
    "# energy_main(\"/g/g13/jones289/workspace/hd-cuda-master/hdpy/mlp_profile.csv\",\n",
    "            # outpath=\"mlp_energy_profile.png\",\n",
    "            # title=\"MLP Energy\",\n",
    "            # color=\"blue\")\n",
    "# memory_main(\"/g/g13/jones289/workspace/hd-cuda-master/hdpy/mlp_profile.csv\",\n",
    "            # outpath=\"mlp_memory_profile.png\",\n",
    "            # title=\"MLP Memory usage\",\n",
    "            # color=\"green\")"
   ]
  },
  {
   "cell_type": "code",
   "execution_count": 9,
   "id": "8979e073",
   "metadata": {},
   "outputs": [
    {
     "name": "stdout",
     "output_type": "stream",
     "text": [
      "count    338.000000\n",
      "mean      52.126746\n",
      "std        0.777557\n",
      "min       47.330000\n",
      "25%       51.820000\n",
      "50%       51.930000\n",
      "75%       51.930000\n",
      "max       55.400000\n",
      "Name: power, dtype: float64\n"
     ]
    }
   ],
   "source": [
    "main(path=\"/g/g13/jones289/workspace/hd-cuda-master/hdpy/hdc_ecfp_profile_encode_1k.csv\", model_name=\"HDB-RP-ECFP-1024-1 (1k)\")"
   ]
  },
  {
   "cell_type": "code",
   "execution_count": 10,
   "id": "03a66cdb",
   "metadata": {},
   "outputs": [
    {
     "name": "stdout",
     "output_type": "stream",
     "text": [
      "count    862.000000\n",
      "mean      52.447680\n",
      "std        2.671668\n",
      "min       50.820000\n",
      "25%       51.820000\n",
      "50%       51.930000\n",
      "75%       52.200000\n",
      "max       75.730000\n",
      "Name: power, dtype: float64\n"
     ]
    }
   ],
   "source": [
    "main(path=\"/g/g13/jones289/workspace/hd-cuda-master/hdpy/hdc_ecfp_profile_encode_10k.csv\", model_name=\"HDB-RP-ECFP-1024-1 (10k)\")"
   ]
  },
  {
   "cell_type": "code",
   "execution_count": 7,
   "id": "74b10721",
   "metadata": {},
   "outputs": [
    {
     "name": "stdout",
     "output_type": "stream",
     "text": [
      "count    56.000000\n",
      "mean     51.980179\n",
      "std       0.208444\n",
      "min      51.440000\n",
      "25%      51.930000\n",
      "50%      51.930000\n",
      "75%      52.020000\n",
      "max      52.310000\n",
      "Name: power, dtype: float64\n"
     ]
    }
   ],
   "source": [
    "main(path=\"/g/g13/jones289/workspace/hd-cuda-master/hdpy/hdc_ecfp_profile_test_1k.csv\", model_name=\"HDB-RP-ECFP-1024-1 (1k)\")"
   ]
  },
  {
   "cell_type": "code",
   "execution_count": 8,
   "id": "5f139691",
   "metadata": {},
   "outputs": [
    {
     "name": "stdout",
     "output_type": "stream",
     "text": [
      "count    420.000000\n",
      "mean      52.292095\n",
      "std        0.950182\n",
      "min       51.440000\n",
      "25%       51.930000\n",
      "50%       51.930000\n",
      "75%       52.310000\n",
      "max       56.340000\n",
      "Name: power, dtype: float64\n"
     ]
    }
   ],
   "source": [
    "main(path=\"/g/g13/jones289/workspace/hd-cuda-master/hdpy/hdc_ecfp_profile_test_10k.csv\", model_name=\"HDB-RP-ECFP-1024-1 (1k)\")"
   ]
  }
 ],
 "metadata": {
  "kernelspec": {
   "display_name": "dtra_reactivator",
   "language": "python",
   "name": "dtra_reactivator"
  },
  "language_info": {
   "codemirror_mode": {
    "name": "ipython",
    "version": 3
   },
   "file_extension": ".py",
   "mimetype": "text/x-python",
   "name": "python",
   "nbconvert_exporter": "python",
   "pygments_lexer": "ipython3",
   "version": "3.8.12"
  }
 },
 "nbformat": 4,
 "nbformat_minor": 5
}
