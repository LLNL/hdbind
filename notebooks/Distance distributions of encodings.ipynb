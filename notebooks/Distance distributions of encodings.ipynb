{
 "cells": [
  {
   "cell_type": "code",
   "execution_count": 4,
   "id": "034e2b3d",
   "metadata": {},
   "outputs": [],
   "source": [
    "import pickle\n",
    "from pathlib import Path\n",
    "import sys\n",
    "sys.path.append(\"/g/g13/jones289/workspace/hd-cuda-master/hdpy\")\n",
    "from hdpy.hd_model import HDModel\n",
    "from hdpy.prot_lig.aa_count_morgan_fp import PDBBindHD"
   ]
  },
  {
   "cell_type": "code",
   "execution_count": 5,
   "id": "a209296c",
   "metadata": {},
   "outputs": [
    {
     "ename": "EOFError",
     "evalue": "Ran out of input",
     "output_type": "error",
     "traceback": [
      "\u001b[0;31m---------------------------------------------------------------------------\u001b[0m",
      "\u001b[0;31mEOFError\u001b[0m                                  Traceback (most recent call last)",
      "Input \u001b[0;32mIn [5]\u001b[0m, in \u001b[0;36m<cell line: 8>\u001b[0;34m()\u001b[0m\n\u001b[1;32m      6\u001b[0m result_p \u001b[38;5;241m=\u001b[39m Path(\u001b[38;5;124m\"\u001b[39m\u001b[38;5;124m/usr/WS1/jones289/hd-cuda-master/hdpy/hdpy/prot_lig/result_dict.pkl\u001b[39m\u001b[38;5;124m\"\u001b[39m)\n\u001b[1;32m      8\u001b[0m \u001b[38;5;28;01mwith\u001b[39;00m \u001b[38;5;28mopen\u001b[39m(result_p, \u001b[38;5;124m'\u001b[39m\u001b[38;5;124mrb\u001b[39m\u001b[38;5;124m'\u001b[39m) \u001b[38;5;28;01mas\u001b[39;00m handle:\n\u001b[0;32m----> 9\u001b[0m     result_data \u001b[38;5;241m=\u001b[39m \u001b[43mpickle\u001b[49m\u001b[38;5;241;43m.\u001b[39;49m\u001b[43mload\u001b[49m\u001b[43m(\u001b[49m\u001b[43mhandle\u001b[49m\u001b[43m)\u001b[49m\n",
      "\u001b[0;31mEOFError\u001b[0m: Ran out of input"
     ]
    }
   ],
   "source": [
    "proto_p = Path(\"/usr/WS1/jones289/hd-cuda-master/hdpy/hdpy/prot_lig/prototype_data.pkl\")\n",
    "\n",
    "with open(proto_p, 'rb') as handle:\n",
    "    data = pickle.load(handle)\n",
    "    \n",
    "result_p = Path(\"/usr/WS1/jones289/hd-cuda-master/hdpy/hdpy/prot_lig/result_dict.pkl\")\n",
    "\n",
    "with open(result_p, 'rb') as handle:\n",
    "    result_data = pickle.load(handle)\n"
   ]
  },
  {
   "cell_type": "code",
   "execution_count": null,
   "id": "78542625",
   "metadata": {},
   "outputs": [],
   "source": [
    "data.keys()"
   ]
  },
  {
   "cell_type": "code",
   "execution_count": null,
   "id": "78b8d0ad",
   "metadata": {},
   "outputs": [],
   "source": [
    "data['split_dict']['core_test'].keys()"
   ]
  },
  {
   "cell_type": "code",
   "execution_count": null,
   "id": "b08fd30e",
   "metadata": {},
   "outputs": [],
   "source": [
    "import numpy as np\n",
    "\n",
    "split = \"core_test\"\n",
    "# split = \"refined_train\"\n",
    "test_hvs = np.concatenate([x.numpy() for x in data['split_dict'][split]['data_list']])\n",
    "test_labels = np.array([x for x in data['split_dict'][split]['label_list']]).reshape(-1,1)"
   ]
  },
  {
   "cell_type": "code",
   "execution_count": null,
   "id": "1a58d4dd",
   "metadata": {},
   "outputs": [],
   "source": [
    "test_hvs"
   ]
  },
  {
   "cell_type": "code",
   "execution_count": null,
   "id": "9348200c",
   "metadata": {},
   "outputs": [],
   "source": [
    "test_labels"
   ]
  },
  {
   "cell_type": "code",
   "execution_count": null,
   "id": "2e420949",
   "metadata": {},
   "outputs": [],
   "source": [
    "from sklearn.metrics import pairwise_distances\n",
    "\n",
    "dists = pairwise_distances(test_hvs, metric=\"cosine\")"
   ]
  },
  {
   "cell_type": "code",
   "execution_count": null,
   "id": "0bc0cc97",
   "metadata": {},
   "outputs": [],
   "source": [
    "dists"
   ]
  },
  {
   "cell_type": "code",
   "execution_count": null,
   "id": "0897148d",
   "metadata": {},
   "outputs": [],
   "source": [
    "import matplotlib.pyplot as plt\n",
    "import seaborn as sns\n",
    "\n",
    "f, ax = plt.subplots(1,1, figsize=(20,20))\n",
    "sns.heatmap(dists, vmin=-2, vmax=2, cmap=\"crest\", ax=ax)"
   ]
  },
  {
   "cell_type": "code",
   "execution_count": null,
   "id": "e0407a04",
   "metadata": {},
   "outputs": [],
   "source": [
    "print(data[\"featurizer\"].am)"
   ]
  },
  {
   "cell_type": "code",
   "execution_count": null,
   "id": "8994b73f",
   "metadata": {},
   "outputs": [],
   "source": [
    "f, ax = plt.subplots(1,1, figsize=(14,8))\n",
    "ax.set_xlim([-2,2])\n",
    "sns.distplot(dists.flatten(), ax=ax)"
   ]
  },
  {
   "cell_type": "code",
   "execution_count": null,
   "id": "1599b99a",
   "metadata": {},
   "outputs": [],
   "source": [
    "result_data.keys()"
   ]
  },
  {
   "cell_type": "code",
   "execution_count": null,
   "id": "80c63a49",
   "metadata": {},
   "outputs": [],
   "source": [
    "model_am = result_data[\"featurizer\"].am\n",
    "model_am"
   ]
  },
  {
   "cell_type": "code",
   "execution_count": null,
   "id": "8bf54060",
   "metadata": {},
   "outputs": [],
   "source": [
    "import scipy\n",
    "from scipy.spatial import distance\n",
    "from numpy.linalg import norm\n",
    "\n",
    "pos_mask = test_labels == 1\n",
    "neg_mask = test_labels == 0\n",
    "\n",
    "class_0_hv = model_am[0].numpy()\n",
    "class_1_hv = model_am[1].numpy()\n",
    "# class_0_hv = np.sign(model_am[0].numpy())\n",
    "# class_1_hv = np.sign(model_am[1].numpy())\n",
    "\n",
    "\n",
    "# print(test_hvs, model_am[0].numpy())\n",
    "# distance.cosine(test_hvs[:,0], model_am[0].numpy().reshape(1,-1))\n",
    "cosine_0 = np.dot(test_hvs,class_0_hv)/(norm(test_hvs, axis=1)*norm(class_0_hv))\n",
    "cosine_1 = np.dot(test_hvs,class_1_hv)/(norm(test_hvs, axis=1)*norm(class_1_hv))\n"
   ]
  },
  {
   "cell_type": "code",
   "execution_count": null,
   "id": "1ff42dd1",
   "metadata": {},
   "outputs": [],
   "source": [
    "print((cosine_1 - cosine_0).shape)\n",
    "print(pos_mask.shape, neg_mask.shape)\n"
   ]
  },
  {
   "cell_type": "markdown",
   "id": "bb550371",
   "metadata": {},
   "source": [
    "# what happens when we look at the distributions of distances for each class hypervector"
   ]
  },
  {
   "cell_type": "code",
   "execution_count": null,
   "id": "492be7bf",
   "metadata": {},
   "outputs": [],
   "source": [
    "f, ax = plt.subplots(1,1, figsize=(10,10))\n",
    "f.suptitle(\"Distance of CASF hypervectors to active class hypervector\")\n",
    "ax.set_xscale(\"symlog\")\n",
    "sns.histplot(cosine_1[pos_mask.squeeze()], ax=ax)\n",
    "sns.histplot(cosine_1[neg_mask.squeeze()], ax=ax, color=\"red\")"
   ]
  },
  {
   "cell_type": "code",
   "execution_count": null,
   "id": "9d9402b7",
   "metadata": {},
   "outputs": [],
   "source": [
    "f, ax = plt.subplots(1,1, figsize=(10,10))\n",
    "f.suptitle(\"Distance of CASF hypervectors to inactive class hypervector\")\n",
    "ax.set_xscale(\"symlog\")\n",
    "sns.histplot(cosine_0[pos_mask.squeeze()], ax=ax)\n",
    "sns.histplot(cosine_0[neg_mask.squeeze()], ax=ax, color=\"red\")"
   ]
  },
  {
   "cell_type": "code",
   "execution_count": null,
   "id": "05d0c829",
   "metadata": {},
   "outputs": [],
   "source": []
  },
  {
   "cell_type": "code",
   "execution_count": null,
   "id": "4f1ee36a",
   "metadata": {},
   "outputs": [],
   "source": []
  }
 ],
 "metadata": {
  "kernelspec": {
   "display_name": "HD_env",
   "language": "python",
   "name": "hd_env"
  },
  "language_info": {
   "codemirror_mode": {
    "name": "ipython",
    "version": 3
   },
   "file_extension": ".py",
   "mimetype": "text/x-python",
   "name": "python",
   "nbconvert_exporter": "python",
   "pygments_lexer": "ipython3",
   "version": "3.8.12"
  }
 },
 "nbformat": 4,
 "nbformat_minor": 5
}
